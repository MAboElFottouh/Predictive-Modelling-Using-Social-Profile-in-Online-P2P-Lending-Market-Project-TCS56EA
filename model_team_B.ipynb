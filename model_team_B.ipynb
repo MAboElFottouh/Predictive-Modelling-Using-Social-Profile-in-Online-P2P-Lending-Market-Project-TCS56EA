{
  "nbformat": 4,
  "nbformat_minor": 0,
  "metadata": {
    "colab": {
      "name": "model.ipynb",
      "provenance": [],
      "authorship_tag": "ABX9TyNjNL4w3ttS7hmb9ufEI/3s",
      "include_colab_link": true
    },
    "kernelspec": {
      "name": "python3",
      "display_name": "Python 3"
    },
    "language_info": {
      "name": "python"
    }
  },
  "cells": [
    {
      "cell_type": "markdown",
      "metadata": {
        "id": "view-in-github",
        "colab_type": "text"
      },
      "source": [
        "<a href=\"https://colab.research.google.com/github/MAboElFottouh/Predictive-Modelling-Using-Social-Profile-in-Online-P2P-Lending-Market-Project-TCS56EA/blob/main/model_team_B.ipynb\" target=\"_parent\"><img src=\"https://colab.research.google.com/assets/colab-badge.svg\" alt=\"Open In Colab\"/></a>"
      ]
    },
    {
      "cell_type": "code",
      "execution_count": 51,
      "metadata": {
        "colab": {
          "base_uri": "https://localhost:8080/"
        },
        "id": "E8z04MVoD1XF",
        "outputId": "d246d123-9d1a-4167-ea60-15b6ec95205e"
      },
      "outputs": [
        {
          "output_type": "stream",
          "name": "stdout",
          "text": [
            "Drive already mounted at /content/drive; to attempt to forcibly remount, call drive.mount(\"/content/drive\", force_remount=True).\n"
          ]
        }
      ],
      "source": [
        "from google.colab import drive\n",
        "drive.mount('/content/drive')"
      ]
    },
    {
      "cell_type": "code",
      "source": [
        "import pandas  as pd #Data manipulation\n",
        "import numpy as np #Data manipulation\n",
        "import matplotlib.pyplot as plt # Visualization\n",
        "import seaborn as sns #Visualization"
      ],
      "metadata": {
        "id": "Fd_eMjwED4RR"
      },
      "execution_count": 52,
      "outputs": []
    },
    {
      "cell_type": "code",
      "source": [
        "data = pd.read_csv(\"/content/drive/MyDrive/prosperLoanData.csv\")"
      ],
      "metadata": {
        "id": "0OK5FlvjD5ll"
      },
      "execution_count": 53,
      "outputs": []
    },
    {
      "cell_type": "code",
      "source": [
        "print('\\nNumber of rows and columns in the data set: ',data.shape)\n",
        "#Lets look into top few rows and columns in the dataset\n",
        "data.head()"
      ],
      "metadata": {
        "colab": {
          "base_uri": "https://localhost:8080/",
          "height": 421
        },
        "id": "UxkCm7YcD9mN",
        "outputId": "3adf4bd4-aec3-4c5c-e8da-236905f058b8"
      },
      "execution_count": 54,
      "outputs": [
        {
          "output_type": "stream",
          "name": "stdout",
          "text": [
            "\n",
            "Number of rows and columns in the data set:  (113937, 81)\n"
          ]
        },
        {
          "output_type": "execute_result",
          "data": {
            "text/plain": [
              "                ListingKey  ListingNumber            ListingCreationDate  \\\n",
              "0  1021339766868145413AB3B         193129  2007-08-26 19:09:29.263000000   \n",
              "1  10273602499503308B223C1        1209647  2014-02-27 08:28:07.900000000   \n",
              "2  0EE9337825851032864889A          81716  2007-01-05 15:00:47.090000000   \n",
              "3  0EF5356002482715299901A         658116  2012-10-22 11:02:35.010000000   \n",
              "4  0F023589499656230C5E3E2         909464  2013-09-14 18:38:39.097000000   \n",
              "\n",
              "  CreditGrade  Term LoanStatus           ClosedDate  BorrowerAPR  \\\n",
              "0           C    36  Completed  2009-08-14 00:00:00      0.16516   \n",
              "1         NaN    36    Current                  NaN      0.12016   \n",
              "2          HR    36  Completed  2009-12-17 00:00:00      0.28269   \n",
              "3         NaN    36    Current                  NaN      0.12528   \n",
              "4         NaN    36    Current                  NaN      0.24614   \n",
              "\n",
              "   BorrowerRate  LenderYield  ...  LP_ServiceFees  LP_CollectionFees  \\\n",
              "0        0.1580       0.1380  ...         -133.18                0.0   \n",
              "1        0.0920       0.0820  ...            0.00                0.0   \n",
              "2        0.2750       0.2400  ...          -24.20                0.0   \n",
              "3        0.0974       0.0874  ...         -108.01                0.0   \n",
              "4        0.2085       0.1985  ...          -60.27                0.0   \n",
              "\n",
              "   LP_GrossPrincipalLoss  LP_NetPrincipalLoss LP_NonPrincipalRecoverypayments  \\\n",
              "0                    0.0                  0.0                             0.0   \n",
              "1                    0.0                  0.0                             0.0   \n",
              "2                    0.0                  0.0                             0.0   \n",
              "3                    0.0                  0.0                             0.0   \n",
              "4                    0.0                  0.0                             0.0   \n",
              "\n",
              "   PercentFunded  Recommendations InvestmentFromFriendsCount  \\\n",
              "0            1.0                0                          0   \n",
              "1            1.0                0                          0   \n",
              "2            1.0                0                          0   \n",
              "3            1.0                0                          0   \n",
              "4            1.0                0                          0   \n",
              "\n",
              "  InvestmentFromFriendsAmount Investors  \n",
              "0                         0.0       258  \n",
              "1                         0.0         1  \n",
              "2                         0.0        41  \n",
              "3                         0.0       158  \n",
              "4                         0.0        20  \n",
              "\n",
              "[5 rows x 81 columns]"
            ],
            "text/html": [
              "\n",
              "  <div id=\"df-3ac03757-dcf2-4e98-853d-85b5201e1664\">\n",
              "    <div class=\"colab-df-container\">\n",
              "      <div>\n",
              "<style scoped>\n",
              "    .dataframe tbody tr th:only-of-type {\n",
              "        vertical-align: middle;\n",
              "    }\n",
              "\n",
              "    .dataframe tbody tr th {\n",
              "        vertical-align: top;\n",
              "    }\n",
              "\n",
              "    .dataframe thead th {\n",
              "        text-align: right;\n",
              "    }\n",
              "</style>\n",
              "<table border=\"1\" class=\"dataframe\">\n",
              "  <thead>\n",
              "    <tr style=\"text-align: right;\">\n",
              "      <th></th>\n",
              "      <th>ListingKey</th>\n",
              "      <th>ListingNumber</th>\n",
              "      <th>ListingCreationDate</th>\n",
              "      <th>CreditGrade</th>\n",
              "      <th>Term</th>\n",
              "      <th>LoanStatus</th>\n",
              "      <th>ClosedDate</th>\n",
              "      <th>BorrowerAPR</th>\n",
              "      <th>BorrowerRate</th>\n",
              "      <th>LenderYield</th>\n",
              "      <th>...</th>\n",
              "      <th>LP_ServiceFees</th>\n",
              "      <th>LP_CollectionFees</th>\n",
              "      <th>LP_GrossPrincipalLoss</th>\n",
              "      <th>LP_NetPrincipalLoss</th>\n",
              "      <th>LP_NonPrincipalRecoverypayments</th>\n",
              "      <th>PercentFunded</th>\n",
              "      <th>Recommendations</th>\n",
              "      <th>InvestmentFromFriendsCount</th>\n",
              "      <th>InvestmentFromFriendsAmount</th>\n",
              "      <th>Investors</th>\n",
              "    </tr>\n",
              "  </thead>\n",
              "  <tbody>\n",
              "    <tr>\n",
              "      <th>0</th>\n",
              "      <td>1021339766868145413AB3B</td>\n",
              "      <td>193129</td>\n",
              "      <td>2007-08-26 19:09:29.263000000</td>\n",
              "      <td>C</td>\n",
              "      <td>36</td>\n",
              "      <td>Completed</td>\n",
              "      <td>2009-08-14 00:00:00</td>\n",
              "      <td>0.16516</td>\n",
              "      <td>0.1580</td>\n",
              "      <td>0.1380</td>\n",
              "      <td>...</td>\n",
              "      <td>-133.18</td>\n",
              "      <td>0.0</td>\n",
              "      <td>0.0</td>\n",
              "      <td>0.0</td>\n",
              "      <td>0.0</td>\n",
              "      <td>1.0</td>\n",
              "      <td>0</td>\n",
              "      <td>0</td>\n",
              "      <td>0.0</td>\n",
              "      <td>258</td>\n",
              "    </tr>\n",
              "    <tr>\n",
              "      <th>1</th>\n",
              "      <td>10273602499503308B223C1</td>\n",
              "      <td>1209647</td>\n",
              "      <td>2014-02-27 08:28:07.900000000</td>\n",
              "      <td>NaN</td>\n",
              "      <td>36</td>\n",
              "      <td>Current</td>\n",
              "      <td>NaN</td>\n",
              "      <td>0.12016</td>\n",
              "      <td>0.0920</td>\n",
              "      <td>0.0820</td>\n",
              "      <td>...</td>\n",
              "      <td>0.00</td>\n",
              "      <td>0.0</td>\n",
              "      <td>0.0</td>\n",
              "      <td>0.0</td>\n",
              "      <td>0.0</td>\n",
              "      <td>1.0</td>\n",
              "      <td>0</td>\n",
              "      <td>0</td>\n",
              "      <td>0.0</td>\n",
              "      <td>1</td>\n",
              "    </tr>\n",
              "    <tr>\n",
              "      <th>2</th>\n",
              "      <td>0EE9337825851032864889A</td>\n",
              "      <td>81716</td>\n",
              "      <td>2007-01-05 15:00:47.090000000</td>\n",
              "      <td>HR</td>\n",
              "      <td>36</td>\n",
              "      <td>Completed</td>\n",
              "      <td>2009-12-17 00:00:00</td>\n",
              "      <td>0.28269</td>\n",
              "      <td>0.2750</td>\n",
              "      <td>0.2400</td>\n",
              "      <td>...</td>\n",
              "      <td>-24.20</td>\n",
              "      <td>0.0</td>\n",
              "      <td>0.0</td>\n",
              "      <td>0.0</td>\n",
              "      <td>0.0</td>\n",
              "      <td>1.0</td>\n",
              "      <td>0</td>\n",
              "      <td>0</td>\n",
              "      <td>0.0</td>\n",
              "      <td>41</td>\n",
              "    </tr>\n",
              "    <tr>\n",
              "      <th>3</th>\n",
              "      <td>0EF5356002482715299901A</td>\n",
              "      <td>658116</td>\n",
              "      <td>2012-10-22 11:02:35.010000000</td>\n",
              "      <td>NaN</td>\n",
              "      <td>36</td>\n",
              "      <td>Current</td>\n",
              "      <td>NaN</td>\n",
              "      <td>0.12528</td>\n",
              "      <td>0.0974</td>\n",
              "      <td>0.0874</td>\n",
              "      <td>...</td>\n",
              "      <td>-108.01</td>\n",
              "      <td>0.0</td>\n",
              "      <td>0.0</td>\n",
              "      <td>0.0</td>\n",
              "      <td>0.0</td>\n",
              "      <td>1.0</td>\n",
              "      <td>0</td>\n",
              "      <td>0</td>\n",
              "      <td>0.0</td>\n",
              "      <td>158</td>\n",
              "    </tr>\n",
              "    <tr>\n",
              "      <th>4</th>\n",
              "      <td>0F023589499656230C5E3E2</td>\n",
              "      <td>909464</td>\n",
              "      <td>2013-09-14 18:38:39.097000000</td>\n",
              "      <td>NaN</td>\n",
              "      <td>36</td>\n",
              "      <td>Current</td>\n",
              "      <td>NaN</td>\n",
              "      <td>0.24614</td>\n",
              "      <td>0.2085</td>\n",
              "      <td>0.1985</td>\n",
              "      <td>...</td>\n",
              "      <td>-60.27</td>\n",
              "      <td>0.0</td>\n",
              "      <td>0.0</td>\n",
              "      <td>0.0</td>\n",
              "      <td>0.0</td>\n",
              "      <td>1.0</td>\n",
              "      <td>0</td>\n",
              "      <td>0</td>\n",
              "      <td>0.0</td>\n",
              "      <td>20</td>\n",
              "    </tr>\n",
              "  </tbody>\n",
              "</table>\n",
              "<p>5 rows × 81 columns</p>\n",
              "</div>\n",
              "      <button class=\"colab-df-convert\" onclick=\"convertToInteractive('df-3ac03757-dcf2-4e98-853d-85b5201e1664')\"\n",
              "              title=\"Convert this dataframe to an interactive table.\"\n",
              "              style=\"display:none;\">\n",
              "        \n",
              "  <svg xmlns=\"http://www.w3.org/2000/svg\" height=\"24px\"viewBox=\"0 0 24 24\"\n",
              "       width=\"24px\">\n",
              "    <path d=\"M0 0h24v24H0V0z\" fill=\"none\"/>\n",
              "    <path d=\"M18.56 5.44l.94 2.06.94-2.06 2.06-.94-2.06-.94-.94-2.06-.94 2.06-2.06.94zm-11 1L8.5 8.5l.94-2.06 2.06-.94-2.06-.94L8.5 2.5l-.94 2.06-2.06.94zm10 10l.94 2.06.94-2.06 2.06-.94-2.06-.94-.94-2.06-.94 2.06-2.06.94z\"/><path d=\"M17.41 7.96l-1.37-1.37c-.4-.4-.92-.59-1.43-.59-.52 0-1.04.2-1.43.59L10.3 9.45l-7.72 7.72c-.78.78-.78 2.05 0 2.83L4 21.41c.39.39.9.59 1.41.59.51 0 1.02-.2 1.41-.59l7.78-7.78 2.81-2.81c.8-.78.8-2.07 0-2.86zM5.41 20L4 18.59l7.72-7.72 1.47 1.35L5.41 20z\"/>\n",
              "  </svg>\n",
              "      </button>\n",
              "      \n",
              "  <style>\n",
              "    .colab-df-container {\n",
              "      display:flex;\n",
              "      flex-wrap:wrap;\n",
              "      gap: 12px;\n",
              "    }\n",
              "\n",
              "    .colab-df-convert {\n",
              "      background-color: #E8F0FE;\n",
              "      border: none;\n",
              "      border-radius: 50%;\n",
              "      cursor: pointer;\n",
              "      display: none;\n",
              "      fill: #1967D2;\n",
              "      height: 32px;\n",
              "      padding: 0 0 0 0;\n",
              "      width: 32px;\n",
              "    }\n",
              "\n",
              "    .colab-df-convert:hover {\n",
              "      background-color: #E2EBFA;\n",
              "      box-shadow: 0px 1px 2px rgba(60, 64, 67, 0.3), 0px 1px 3px 1px rgba(60, 64, 67, 0.15);\n",
              "      fill: #174EA6;\n",
              "    }\n",
              "\n",
              "    [theme=dark] .colab-df-convert {\n",
              "      background-color: #3B4455;\n",
              "      fill: #D2E3FC;\n",
              "    }\n",
              "\n",
              "    [theme=dark] .colab-df-convert:hover {\n",
              "      background-color: #434B5C;\n",
              "      box-shadow: 0px 1px 3px 1px rgba(0, 0, 0, 0.15);\n",
              "      filter: drop-shadow(0px 1px 2px rgba(0, 0, 0, 0.3));\n",
              "      fill: #FFFFFF;\n",
              "    }\n",
              "  </style>\n",
              "\n",
              "      <script>\n",
              "        const buttonEl =\n",
              "          document.querySelector('#df-3ac03757-dcf2-4e98-853d-85b5201e1664 button.colab-df-convert');\n",
              "        buttonEl.style.display =\n",
              "          google.colab.kernel.accessAllowed ? 'block' : 'none';\n",
              "\n",
              "        async function convertToInteractive(key) {\n",
              "          const element = document.querySelector('#df-3ac03757-dcf2-4e98-853d-85b5201e1664');\n",
              "          const dataTable =\n",
              "            await google.colab.kernel.invokeFunction('convertToInteractive',\n",
              "                                                     [key], {});\n",
              "          if (!dataTable) return;\n",
              "\n",
              "          const docLinkHtml = 'Like what you see? Visit the ' +\n",
              "            '<a target=\"_blank\" href=https://colab.research.google.com/notebooks/data_table.ipynb>data table notebook</a>'\n",
              "            + ' to learn more about interactive tables.';\n",
              "          element.innerHTML = '';\n",
              "          dataTable['output_type'] = 'display_data';\n",
              "          await google.colab.output.renderOutput(dataTable, element);\n",
              "          const docLink = document.createElement('div');\n",
              "          docLink.innerHTML = docLinkHtml;\n",
              "          element.appendChild(docLink);\n",
              "        }\n",
              "      </script>\n",
              "    </div>\n",
              "  </div>\n",
              "  "
            ]
          },
          "metadata": {},
          "execution_count": 54
        }
      ]
    },
    {
      "cell_type": "code",
      "source": [
        "data.info() #show data info"
      ],
      "metadata": {
        "colab": {
          "base_uri": "https://localhost:8080/"
        },
        "id": "KEXUvebhD-zA",
        "outputId": "f4042189-57f3-4711-c3b7-de7a7d37db30"
      },
      "execution_count": 55,
      "outputs": [
        {
          "output_type": "stream",
          "name": "stdout",
          "text": [
            "<class 'pandas.core.frame.DataFrame'>\n",
            "RangeIndex: 113937 entries, 0 to 113936\n",
            "Data columns (total 81 columns):\n",
            " #   Column                               Non-Null Count   Dtype  \n",
            "---  ------                               --------------   -----  \n",
            " 0   ListingKey                           113937 non-null  object \n",
            " 1   ListingNumber                        113937 non-null  int64  \n",
            " 2   ListingCreationDate                  113937 non-null  object \n",
            " 3   CreditGrade                          28953 non-null   object \n",
            " 4   Term                                 113937 non-null  int64  \n",
            " 5   LoanStatus                           113937 non-null  object \n",
            " 6   ClosedDate                           55089 non-null   object \n",
            " 7   BorrowerAPR                          113912 non-null  float64\n",
            " 8   BorrowerRate                         113937 non-null  float64\n",
            " 9   LenderYield                          113937 non-null  float64\n",
            " 10  EstimatedEffectiveYield              84853 non-null   float64\n",
            " 11  EstimatedLoss                        84853 non-null   float64\n",
            " 12  EstimatedReturn                      84853 non-null   float64\n",
            " 13  ProsperRating (numeric)              84853 non-null   float64\n",
            " 14  ProsperRating (Alpha)                84853 non-null   object \n",
            " 15  ProsperScore                         84853 non-null   float64\n",
            " 16  ListingCategory (numeric)            113937 non-null  int64  \n",
            " 17  BorrowerState                        108422 non-null  object \n",
            " 18  Occupation                           110349 non-null  object \n",
            " 19  EmploymentStatus                     111682 non-null  object \n",
            " 20  EmploymentStatusDuration             106312 non-null  float64\n",
            " 21  IsBorrowerHomeowner                  113937 non-null  bool   \n",
            " 22  CurrentlyInGroup                     113937 non-null  bool   \n",
            " 23  GroupKey                             13341 non-null   object \n",
            " 24  DateCreditPulled                     113937 non-null  object \n",
            " 25  CreditScoreRangeLower                113346 non-null  float64\n",
            " 26  CreditScoreRangeUpper                113346 non-null  float64\n",
            " 27  FirstRecordedCreditLine              113240 non-null  object \n",
            " 28  CurrentCreditLines                   106333 non-null  float64\n",
            " 29  OpenCreditLines                      106333 non-null  float64\n",
            " 30  TotalCreditLinespast7years           113240 non-null  float64\n",
            " 31  OpenRevolvingAccounts                113937 non-null  int64  \n",
            " 32  OpenRevolvingMonthlyPayment          113937 non-null  float64\n",
            " 33  InquiriesLast6Months                 113240 non-null  float64\n",
            " 34  TotalInquiries                       112778 non-null  float64\n",
            " 35  CurrentDelinquencies                 113240 non-null  float64\n",
            " 36  AmountDelinquent                     106315 non-null  float64\n",
            " 37  DelinquenciesLast7Years              112947 non-null  float64\n",
            " 38  PublicRecordsLast10Years             113240 non-null  float64\n",
            " 39  PublicRecordsLast12Months            106333 non-null  float64\n",
            " 40  RevolvingCreditBalance               106333 non-null  float64\n",
            " 41  BankcardUtilization                  106333 non-null  float64\n",
            " 42  AvailableBankcardCredit              106393 non-null  float64\n",
            " 43  TotalTrades                          106393 non-null  float64\n",
            " 44  TradesNeverDelinquent (percentage)   106393 non-null  float64\n",
            " 45  TradesOpenedLast6Months              106393 non-null  float64\n",
            " 46  DebtToIncomeRatio                    105383 non-null  float64\n",
            " 47  IncomeRange                          113937 non-null  object \n",
            " 48  IncomeVerifiable                     113937 non-null  bool   \n",
            " 49  StatedMonthlyIncome                  113937 non-null  float64\n",
            " 50  LoanKey                              113937 non-null  object \n",
            " 51  TotalProsperLoans                    22085 non-null   float64\n",
            " 52  TotalProsperPaymentsBilled           22085 non-null   float64\n",
            " 53  OnTimeProsperPayments                22085 non-null   float64\n",
            " 54  ProsperPaymentsLessThanOneMonthLate  22085 non-null   float64\n",
            " 55  ProsperPaymentsOneMonthPlusLate      22085 non-null   float64\n",
            " 56  ProsperPrincipalBorrowed             22085 non-null   float64\n",
            " 57  ProsperPrincipalOutstanding          22085 non-null   float64\n",
            " 58  ScorexChangeAtTimeOfListing          18928 non-null   float64\n",
            " 59  LoanCurrentDaysDelinquent            113937 non-null  int64  \n",
            " 60  LoanFirstDefaultedCycleNumber        16952 non-null   float64\n",
            " 61  LoanMonthsSinceOrigination           113937 non-null  int64  \n",
            " 62  LoanNumber                           113937 non-null  int64  \n",
            " 63  LoanOriginalAmount                   113937 non-null  int64  \n",
            " 64  LoanOriginationDate                  113937 non-null  object \n",
            " 65  LoanOriginationQuarter               113937 non-null  object \n",
            " 66  MemberKey                            113937 non-null  object \n",
            " 67  MonthlyLoanPayment                   113937 non-null  float64\n",
            " 68  LP_CustomerPayments                  113937 non-null  float64\n",
            " 69  LP_CustomerPrincipalPayments         113937 non-null  float64\n",
            " 70  LP_InterestandFees                   113937 non-null  float64\n",
            " 71  LP_ServiceFees                       113937 non-null  float64\n",
            " 72  LP_CollectionFees                    113937 non-null  float64\n",
            " 73  LP_GrossPrincipalLoss                113937 non-null  float64\n",
            " 74  LP_NetPrincipalLoss                  113937 non-null  float64\n",
            " 75  LP_NonPrincipalRecoverypayments      113937 non-null  float64\n",
            " 76  PercentFunded                        113937 non-null  float64\n",
            " 77  Recommendations                      113937 non-null  int64  \n",
            " 78  InvestmentFromFriendsCount           113937 non-null  int64  \n",
            " 79  InvestmentFromFriendsAmount          113937 non-null  float64\n",
            " 80  Investors                            113937 non-null  int64  \n",
            "dtypes: bool(3), float64(50), int64(11), object(17)\n",
            "memory usage: 68.1+ MB\n"
          ]
        }
      ]
    },
    {
      "cell_type": "code",
      "source": [
        "data.duplicated().sum() #check duplicated row"
      ],
      "metadata": {
        "colab": {
          "base_uri": "https://localhost:8080/"
        },
        "id": "JRf5IK7aEBG-",
        "outputId": "237d823b-1dc6-4ce0-f428-452e8b033016"
      },
      "execution_count": 56,
      "outputs": [
        {
          "output_type": "execute_result",
          "data": {
            "text/plain": [
              "0"
            ]
          },
          "metadata": {},
          "execution_count": 56
        }
      ]
    },
    {
      "cell_type": "code",
      "source": [
        "#split null object and numerical\n",
        "def nAn():\n",
        "  nan_name = []\n",
        "  pans = []\n",
        "  typeD = []\n",
        "  for i in range(data.shape[1]):\n",
        "    if (data.isna().sum()[i] != 0 ): #if have null only\n",
        "      nan_name.append(data.columns[i])\n",
        "      pans.append(data.isna().sum()[i] / data.shape[0] * 100)\n",
        "      typeD.append(data[data.columns[i]].dtypes)\n",
        "      print(data.isna().sum()[i],'\\t' ,data.columns[i],'\\t',data.isna().sum()[i] / data.shape[0] * 100 , '%')\n",
        "  return nan_name ,pans , typeD"
      ],
      "metadata": {
        "id": "w0ZCPgjLEC_m"
      },
      "execution_count": 57,
      "outputs": []
    },
    {
      "cell_type": "code",
      "source": [
        "n , p , d= nAn();"
      ],
      "metadata": {
        "colab": {
          "base_uri": "https://localhost:8080/"
        },
        "id": "AnZ1rN4GFo0I",
        "outputId": "22cd7e9d-0bea-4332-af35-6fe2c0df12d0"
      },
      "execution_count": 58,
      "outputs": [
        {
          "output_type": "stream",
          "name": "stdout",
          "text": [
            "84984 \t CreditGrade \t 74.58858843044841 %\n",
            "58848 \t ClosedDate \t 51.64959582927408 %\n",
            "25 \t BorrowerAPR \t 0.02194195037608503 %\n",
            "29084 \t EstimatedEffectiveYield \t 25.52638738952228 %\n",
            "29084 \t EstimatedLoss \t 25.52638738952228 %\n",
            "29084 \t EstimatedReturn \t 25.52638738952228 %\n",
            "29084 \t ProsperRating (numeric) \t 25.52638738952228 %\n",
            "29084 \t ProsperRating (Alpha) \t 25.52638738952228 %\n",
            "29084 \t ProsperScore \t 25.52638738952228 %\n",
            "5515 \t BorrowerState \t 4.840394252964358 %\n",
            "3588 \t Occupation \t 3.149108717975723 %\n",
            "2255 \t EmploymentStatus \t 1.9791639239228696 %\n",
            "7625 \t EmploymentStatusDuration \t 6.692294864705935 %\n",
            "100596 \t GroupKey \t 88.29089760130599 %\n",
            "591 \t CreditScoreRangeLower \t 0.5187077068906502 %\n",
            "591 \t CreditScoreRangeUpper \t 0.5187077068906502 %\n",
            "697 \t FirstRecordedCreditLine \t 0.6117415764852506 %\n",
            "7604 \t CurrentCreditLines \t 6.673863626390022 %\n",
            "7604 \t OpenCreditLines \t 6.673863626390022 %\n",
            "697 \t TotalCreditLinespast7years \t 0.6117415764852506 %\n",
            "697 \t InquiriesLast6Months \t 0.6117415764852506 %\n",
            "1159 \t TotalInquiries \t 1.0172288194353019 %\n",
            "697 \t CurrentDelinquencies \t 0.6117415764852506 %\n",
            "7622 \t AmountDelinquent \t 6.689661830660803 %\n",
            "990 \t DelinquenciesLast7Years \t 0.8689012348929671 %\n",
            "697 \t PublicRecordsLast10Years \t 0.6117415764852506 %\n",
            "7604 \t PublicRecordsLast12Months \t 6.673863626390022 %\n",
            "7604 \t RevolvingCreditBalance \t 6.673863626390022 %\n",
            "7604 \t BankcardUtilization \t 6.673863626390022 %\n",
            "7544 \t AvailableBankcardCredit \t 6.621202945487418 %\n",
            "7544 \t TotalTrades \t 6.621202945487418 %\n",
            "7544 \t TradesNeverDelinquent (percentage) \t 6.621202945487418 %\n",
            "7544 \t TradesOpenedLast6Months \t 6.621202945487418 %\n",
            "8554 \t DebtToIncomeRatio \t 7.507657740681253 %\n",
            "91852 \t TotalProsperLoans \t 80.61648103776649 %\n",
            "91852 \t TotalProsperPaymentsBilled \t 80.61648103776649 %\n",
            "91852 \t OnTimeProsperPayments \t 80.61648103776649 %\n",
            "91852 \t ProsperPaymentsLessThanOneMonthLate \t 80.61648103776649 %\n",
            "91852 \t ProsperPaymentsOneMonthPlusLate \t 80.61648103776649 %\n",
            "91852 \t ProsperPrincipalBorrowed \t 80.61648103776649 %\n",
            "91852 \t ProsperPrincipalOutstanding \t 80.61648103776649 %\n",
            "95009 \t ScorexChangeAtTimeOfListing \t 83.3873105312585 %\n",
            "96985 \t LoanFirstDefaultedCycleNumber \t 85.12160228898426 %\n"
          ]
        }
      ]
    },
    {
      "cell_type": "code",
      "source": [
        "for i in range(len(n)) :\n",
        "  if p[i] > 50 :\n",
        "    data.drop(n[i],axis=1, inplace= True)"
      ],
      "metadata": {
        "id": "JiAXiJ7KFzA9"
      },
      "execution_count": 59,
      "outputs": []
    },
    {
      "cell_type": "code",
      "source": [
        "n , p ,d= nAn()"
      ],
      "metadata": {
        "colab": {
          "base_uri": "https://localhost:8080/"
        },
        "id": "-pw_wBE8M8FU",
        "outputId": "7b934365-5a95-43b0-9003-89610be5a588"
      },
      "execution_count": 60,
      "outputs": [
        {
          "output_type": "stream",
          "name": "stdout",
          "text": [
            "25 \t BorrowerAPR \t 0.02194195037608503 %\n",
            "29084 \t EstimatedEffectiveYield \t 25.52638738952228 %\n",
            "29084 \t EstimatedLoss \t 25.52638738952228 %\n",
            "29084 \t EstimatedReturn \t 25.52638738952228 %\n",
            "29084 \t ProsperRating (numeric) \t 25.52638738952228 %\n",
            "29084 \t ProsperRating (Alpha) \t 25.52638738952228 %\n",
            "29084 \t ProsperScore \t 25.52638738952228 %\n",
            "5515 \t BorrowerState \t 4.840394252964358 %\n",
            "3588 \t Occupation \t 3.149108717975723 %\n",
            "2255 \t EmploymentStatus \t 1.9791639239228696 %\n",
            "7625 \t EmploymentStatusDuration \t 6.692294864705935 %\n",
            "591 \t CreditScoreRangeLower \t 0.5187077068906502 %\n",
            "591 \t CreditScoreRangeUpper \t 0.5187077068906502 %\n",
            "697 \t FirstRecordedCreditLine \t 0.6117415764852506 %\n",
            "7604 \t CurrentCreditLines \t 6.673863626390022 %\n",
            "7604 \t OpenCreditLines \t 6.673863626390022 %\n",
            "697 \t TotalCreditLinespast7years \t 0.6117415764852506 %\n",
            "697 \t InquiriesLast6Months \t 0.6117415764852506 %\n",
            "1159 \t TotalInquiries \t 1.0172288194353019 %\n",
            "697 \t CurrentDelinquencies \t 0.6117415764852506 %\n",
            "7622 \t AmountDelinquent \t 6.689661830660803 %\n",
            "990 \t DelinquenciesLast7Years \t 0.8689012348929671 %\n",
            "697 \t PublicRecordsLast10Years \t 0.6117415764852506 %\n",
            "7604 \t PublicRecordsLast12Months \t 6.673863626390022 %\n",
            "7604 \t RevolvingCreditBalance \t 6.673863626390022 %\n",
            "7604 \t BankcardUtilization \t 6.673863626390022 %\n",
            "7544 \t AvailableBankcardCredit \t 6.621202945487418 %\n",
            "7544 \t TotalTrades \t 6.621202945487418 %\n",
            "7544 \t TradesNeverDelinquent (percentage) \t 6.621202945487418 %\n",
            "7544 \t TradesOpenedLast6Months \t 6.621202945487418 %\n",
            "8554 \t DebtToIncomeRatio \t 7.507657740681253 %\n"
          ]
        }
      ]
    },
    {
      "cell_type": "code",
      "source": [
        "for i in range(len(n)) :\n",
        "  if d[i] == 'object' :\n",
        "    data[n[i]].replace(np.nan,str(data[n[i]].mode()),inplace=True) \n",
        "  elif d[i] == 'int64' or d[i] == 'float64' :\n",
        "    data[n[i]].replace(np.nan,float(data[n[i]].mean()),inplace=True) \n",
        "    data[n[i]].astype('float64')"
      ],
      "metadata": {
        "id": "3kCNDHzLPhpl"
      },
      "execution_count": 61,
      "outputs": []
    },
    {
      "cell_type": "code",
      "source": [
        "n , p ,d= nAn()"
      ],
      "metadata": {
        "id": "lsBQDXgHRhZj"
      },
      "execution_count": 62,
      "outputs": []
    },
    {
      "cell_type": "markdown",
      "source": [
        "now donot have null"
      ],
      "metadata": {
        "id": "DJZMqbnCTNdl"
      }
    },
    {
      "cell_type": "code",
      "source": [
        "data.drop('ProsperRating (numeric)',axis=1, inplace= True) #same data in ProsperRating (Alpha)"
      ],
      "metadata": {
        "id": "LOZQxTkzM9yz"
      },
      "execution_count": 63,
      "outputs": []
    },
    {
      "cell_type": "markdown",
      "source": [
        "# z score to get outlier "
      ],
      "metadata": {
        "id": "Gcj8DmQZfBJM"
      }
    },
    {
      "cell_type": "code",
      "source": [
        "def z_score(data,column,col_mean,col_std):\n",
        "    outliers=[]\n",
        "    ther=3\n",
        "    for i in data :\n",
        "        z=(i-col_mean)/col_std\n",
        "        if np.abs(z)>3 :\n",
        "            outliers.append(i)\n",
        "            \n",
        "    print(\"outliers in column \",column,\" is \",outliers)\n",
        "            "
      ],
      "metadata": {
        "id": "pIvWyYHXNwcT"
      },
      "execution_count": 65,
      "outputs": []
    },
    {
      "cell_type": "code",
      "source": [
        "def ty():\n",
        "  float_D = []\n",
        "  object_bool = []\n",
        "  for i in data.columns:\n",
        "    if data[i].dtypes == 'float64' or data[i].dtypes == 'int64':\n",
        "      float_D.append(i)\n",
        "    else :\n",
        "      object_bool.append(i)\n",
        "      \n",
        "\n",
        "  return float_D ,object_bool\n"
      ],
      "metadata": {
        "id": "SvhhFtchVN5l"
      },
      "execution_count": 66,
      "outputs": []
    },
    {
      "cell_type": "code",
      "source": [
        "float_D ,object_bool = ty()"
      ],
      "metadata": {
        "id": "s7Q176IeV6gZ"
      },
      "execution_count": 67,
      "outputs": []
    },
    {
      "cell_type": "code",
      "source": [
        "data_mean=[]\n",
        "data_std=[]\n",
        "\n",
        "for i in float_D:\n",
        "  data_mean.append(data[i].mean())\n",
        "  data_std.append(data[i].std())\n"
      ],
      "metadata": {
        "id": "Wc-g2PbiV-EK"
      },
      "execution_count": 68,
      "outputs": []
    },
    {
      "cell_type": "markdown",
      "source": [
        ""
      ],
      "metadata": {
        "id": "5hohSzYZe-hZ"
      }
    },
    {
      "cell_type": "code",
      "source": [
        "\n",
        "\n",
        "for i in range(len(float_D)):\n",
        "    if i =='BorrowerRate':\n",
        "        continue \n",
        "    z_score(data[float_D[i]],float_D[i],data_mean[i],data_std[i])\n"
      ],
      "metadata": {
        "id": "zNXaMBvyThLK"
      },
      "execution_count": null,
      "outputs": []
    },
    {
      "cell_type": "markdown",
      "source": [
        "# replace outlier to null"
      ],
      "metadata": {
        "id": "Z_87x2uFe5Ib"
      }
    },
    {
      "cell_type": "code",
      "source": [
        "# Mean-3*std ,mean+3*std \n",
        "def treat_outlier(data,col_mean,col_std):\n",
        "    outliers=[]\n",
        "    ther=3\n",
        "    for i in range(len(data)) :\n",
        "        z=(data[i]-col_mean)/col_std\n",
        "        if np.abs(z)>3 :\n",
        "            data[i]=np.nan"
      ],
      "metadata": {
        "id": "ssW7H94BTpeK"
      },
      "execution_count": 70,
      "outputs": []
    },
    {
      "cell_type": "code",
      "source": [
        "\n",
        "for i in range(len(float_D)):\n",
        "    if i=='BorrowerRate':\n",
        "        continue \n",
        "    treat_outlier(data[float_D[i]],data_mean[i],data_std[i])\n",
        "\n",
        "\n"
      ],
      "metadata": {
        "colab": {
          "base_uri": "https://localhost:8080/"
        },
        "id": "SdEhl7YIX4FS",
        "outputId": "006e6e9f-5bbc-4282-8381-1c57b1d48c65"
      },
      "execution_count": 71,
      "outputs": [
        {
          "output_type": "stream",
          "name": "stderr",
          "text": [
            "/usr/local/lib/python3.7/dist-packages/ipykernel_launcher.py:8: SettingWithCopyWarning: \n",
            "A value is trying to be set on a copy of a slice from a DataFrame\n",
            "\n",
            "See the caveats in the documentation: https://pandas.pydata.org/pandas-docs/stable/user_guide/indexing.html#returning-a-view-versus-a-copy\n",
            "  \n",
            "/usr/local/lib/python3.7/dist-packages/pandas/core/indexing.py:1732: SettingWithCopyWarning: \n",
            "A value is trying to be set on a copy of a slice from a DataFrame\n",
            "\n",
            "See the caveats in the documentation: https://pandas.pydata.org/pandas-docs/stable/user_guide/indexing.html#returning-a-view-versus-a-copy\n",
            "  self._setitem_single_block(indexer, value, name)\n"
          ]
        }
      ]
    },
    {
      "cell_type": "code",
      "source": [
        "for i in range(len(float_D)):\n",
        "    if i =='BorrowerRate':\n",
        "        continue \n",
        "    z_score(data[float_D[i]],float_D[i],data_mean[i],data_std[i])"
      ],
      "metadata": {
        "colab": {
          "base_uri": "https://localhost:8080/"
        },
        "id": "kkiiM71gYVVx",
        "outputId": "ea76d332-46fa-4298-dcfa-0cfacf17ad99"
      },
      "execution_count": 72,
      "outputs": [
        {
          "output_type": "stream",
          "name": "stdout",
          "text": [
            "outliers in column  ListingNumber  is  []\n",
            "outliers in column  Term  is  []\n",
            "outliers in column  BorrowerAPR  is  []\n",
            "outliers in column  BorrowerRate  is  []\n",
            "outliers in column  LenderYield  is  []\n",
            "outliers in column  EstimatedEffectiveYield  is  []\n",
            "outliers in column  EstimatedLoss  is  []\n",
            "outliers in column  EstimatedReturn  is  []\n",
            "outliers in column  ProsperScore  is  []\n",
            "outliers in column  ListingCategory (numeric)  is  []\n",
            "outliers in column  EmploymentStatusDuration  is  []\n",
            "outliers in column  CreditScoreRangeLower  is  []\n",
            "outliers in column  CreditScoreRangeUpper  is  []\n",
            "outliers in column  CurrentCreditLines  is  []\n",
            "outliers in column  OpenCreditLines  is  []\n",
            "outliers in column  TotalCreditLinespast7years  is  []\n",
            "outliers in column  OpenRevolvingAccounts  is  []\n",
            "outliers in column  OpenRevolvingMonthlyPayment  is  []\n",
            "outliers in column  InquiriesLast6Months  is  []\n",
            "outliers in column  TotalInquiries  is  []\n",
            "outliers in column  CurrentDelinquencies  is  []\n",
            "outliers in column  AmountDelinquent  is  []\n",
            "outliers in column  DelinquenciesLast7Years  is  []\n",
            "outliers in column  PublicRecordsLast10Years  is  []\n",
            "outliers in column  PublicRecordsLast12Months  is  []\n",
            "outliers in column  RevolvingCreditBalance  is  []\n",
            "outliers in column  BankcardUtilization  is  []\n",
            "outliers in column  AvailableBankcardCredit  is  []\n",
            "outliers in column  TotalTrades  is  []\n",
            "outliers in column  TradesNeverDelinquent (percentage)  is  []\n",
            "outliers in column  TradesOpenedLast6Months  is  []\n",
            "outliers in column  DebtToIncomeRatio  is  []\n",
            "outliers in column  StatedMonthlyIncome  is  []\n",
            "outliers in column  LoanCurrentDaysDelinquent  is  []\n",
            "outliers in column  LoanMonthsSinceOrigination  is  []\n",
            "outliers in column  LoanNumber  is  []\n",
            "outliers in column  LoanOriginalAmount  is  []\n",
            "outliers in column  MonthlyLoanPayment  is  []\n",
            "outliers in column  LP_CustomerPayments  is  []\n",
            "outliers in column  LP_CustomerPrincipalPayments  is  []\n",
            "outliers in column  LP_InterestandFees  is  []\n",
            "outliers in column  LP_ServiceFees  is  []\n",
            "outliers in column  LP_CollectionFees  is  []\n",
            "outliers in column  LP_GrossPrincipalLoss  is  []\n",
            "outliers in column  LP_NetPrincipalLoss  is  []\n",
            "outliers in column  LP_NonPrincipalRecoverypayments  is  []\n",
            "outliers in column  PercentFunded  is  []\n",
            "outliers in column  Recommendations  is  []\n",
            "outliers in column  InvestmentFromFriendsCount  is  []\n",
            "outliers in column  InvestmentFromFriendsAmount  is  []\n",
            "outliers in column  Investors  is  []\n"
          ]
        }
      ]
    },
    {
      "cell_type": "markdown",
      "source": [
        "now donot have outlier"
      ],
      "metadata": {
        "id": "zAzp03GTYvvQ"
      }
    },
    {
      "cell_type": "markdown",
      "source": [
        "# convert time "
      ],
      "metadata": {
        "id": "VqCPgQ0Lex6x"
      }
    },
    {
      "cell_type": "code",
      "source": [
        "data['FirstRecordedCreditLine_date'] = pd.to_datetime(data['FirstRecordedCreditLine'], errors='coerce')\n",
        "data['LoanOriginationDate_date'] = pd.to_datetime(data['LoanOriginationDate'], errors='coerce')\n",
        "data['ListingCreationDate_date'] = pd.to_datetime(data['ListingCreationDate'], errors='coerce')\n",
        "data['DateCreditPulled_date'] = pd.to_datetime(data['DateCreditPulled'], errors='coerce')\n"
      ],
      "metadata": {
        "id": "Ekh6qfjKesR9"
      },
      "execution_count": 73,
      "outputs": []
    },
    {
      "cell_type": "code",
      "source": [
        "data['FirstRecordedCreditLine_date_day'] = data['FirstRecordedCreditLine_date'].dt.day\n",
        "data['FirstRecordedCreditLine_date_month'] = data['FirstRecordedCreditLine_date'].dt.month\n",
        "data['FirstRecordedCreditLine_date_year'] = data['FirstRecordedCreditLine_date'].dt.year"
      ],
      "metadata": {
        "id": "Oq6g-eVA0WF9"
      },
      "execution_count": 74,
      "outputs": []
    },
    {
      "cell_type": "code",
      "source": [
        "data['LoanOriginationDate_date_day'] = data['LoanOriginationDate_date'].dt.day\n",
        "data['LoanOriginationDate_date_month'] = data['LoanOriginationDate_date'].dt.month\n",
        "data['LoanOriginationDate_date_year'] = data['LoanOriginationDate_date'].dt.year"
      ],
      "metadata": {
        "id": "AcZY7RK9zKLD"
      },
      "execution_count": 75,
      "outputs": []
    },
    {
      "cell_type": "code",
      "source": [
        "data['ListingCreationDate_date_day'] = data['ListingCreationDate_date'].dt.day\n",
        "data['ListingCreationDate_date_month'] = data['ListingCreationDate_date'].dt.month\n",
        "data['ListingCreationDate_date_year'] = data['ListingCreationDate_date'].dt.year"
      ],
      "metadata": {
        "id": "qnWEBfrAzS3h"
      },
      "execution_count": 76,
      "outputs": []
    },
    {
      "cell_type": "code",
      "source": [
        "data['DateCreditPulled_date_day'] = data['DateCreditPulled_date'].dt.day\n",
        "data['DateCreditPulled_date_month'] = data['DateCreditPulled_date'].dt.month\n",
        "data['DateCreditPulled_date_year'] = data['DateCreditPulled_date'].dt.year"
      ],
      "metadata": {
        "id": "_RU8SALtzZ_n"
      },
      "execution_count": 77,
      "outputs": []
    },
    {
      "cell_type": "code",
      "source": [
        "data.drop('FirstRecordedCreditLine',axis=1, inplace= True)\n",
        "data.drop('LoanOriginationDate',axis=1, inplace= True)\n",
        "data.drop('ListingCreationDate',axis=1, inplace= True)\n",
        "data.drop('DateCreditPulled',axis=1, inplace= True)\n",
        "\n",
        "data.drop('FirstRecordedCreditLine_date',axis=1, inplace= True)\n",
        "data.drop('LoanOriginationDate_date',axis=1, inplace= True)\n",
        "data.drop('ListingCreationDate_date',axis=1, inplace= True)\n",
        "data.drop('DateCreditPulled_date',axis=1, inplace= True)"
      ],
      "metadata": {
        "id": "XnzOO8CUzamp"
      },
      "execution_count": 78,
      "outputs": []
    },
    {
      "cell_type": "code",
      "source": [
        "data['FirstRecordedCreditLine_date_day'] = data['FirstRecordedCreditLine_date_day'].astype({\"FirstRecordedCreditLine_date_day\": str}, errors='raise') \n",
        "data['FirstRecordedCreditLine_date_month'] = data['FirstRecordedCreditLine_date_month'].astype({\"FirstRecordedCreditLine_date_month\": str}, errors='raise') \n",
        "data['FirstRecordedCreditLine_date_year'] = data['FirstRecordedCreditLine_date_year'].astype({\"FirstRecordedCreditLine_date_year\": str}, errors='raise') \n"
      ],
      "metadata": {
        "id": "I5oxEBlj1So8"
      },
      "execution_count": 79,
      "outputs": []
    },
    {
      "cell_type": "code",
      "source": [
        "data['LoanOriginationDate_date_day'] = data['LoanOriginationDate_date_day'].astype({\"LoanOriginationDate_date_day\": str}, errors='raise') \n",
        "data['LoanOriginationDate_date_month'] = data['LoanOriginationDate_date_month'].astype({\"LoanOriginationDate_date_month\": str}, errors='raise') \n",
        "data['LoanOriginationDate_date_year'] = data['LoanOriginationDate_date_year'].astype({\"LoanOriginationDate_date_year\": str}, errors='raise') \n"
      ],
      "metadata": {
        "id": "Y_HryzjW0cvi"
      },
      "execution_count": 80,
      "outputs": []
    },
    {
      "cell_type": "code",
      "source": [
        "data['ListingCreationDate_date_day'] = data['ListingCreationDate_date_day'].astype({\"ListingCreationDate_date_day\": str}, errors='raise') \n",
        "data['ListingCreationDate_date_month'] = data['ListingCreationDate_date_month'].astype({\"ListingCreationDate_date_month\": str}, errors='raise') \n",
        "data['ListingCreationDate_date_year'] = data['ListingCreationDate_date_year'].astype({\"ListingCreationDate_date_year\": str}, errors='raise') \n"
      ],
      "metadata": {
        "id": "BOuPjona0IBL"
      },
      "execution_count": 81,
      "outputs": []
    },
    {
      "cell_type": "code",
      "source": [
        "data['DateCreditPulled_date_day'] = data['DateCreditPulled_date_day'].astype({\"DateCreditPulled_date_day\": str}, errors='raise') \n",
        "data['DateCreditPulled_date_month'] = data['DateCreditPulled_date_month'].astype({\"DateCreditPulled_date_month\": str}, errors='raise') \n",
        "data['DateCreditPulled_date_year'] = data['DateCreditPulled_date_year'].astype({\"DateCreditPulled_date_year\": str}, errors='raise') \n"
      ],
      "metadata": {
        "id": "jhbvXXIG0hqI"
      },
      "execution_count": 82,
      "outputs": []
    },
    {
      "cell_type": "code",
      "source": [
        ""
      ],
      "metadata": {
        "id": "F8QDCP-y0kL5"
      },
      "execution_count": 82,
      "outputs": []
    },
    {
      "cell_type": "code",
      "source": [
        ""
      ],
      "metadata": {
        "id": "FJ6rMWYynsUP"
      },
      "execution_count": 82,
      "outputs": []
    },
    {
      "cell_type": "code",
      "source": [
        "n , p ,d= nAn()"
      ],
      "metadata": {
        "colab": {
          "base_uri": "https://localhost:8080/"
        },
        "id": "Tb8YRcEzm4fF",
        "outputId": "a4c7aa31-33e8-439c-8ba8-de9d94a493a7"
      },
      "execution_count": 83,
      "outputs": [
        {
          "output_type": "stream",
          "name": "stdout",
          "text": [
            "4 \t BorrowerAPR \t 0.0035107120601736044 %\n",
            "6 \t BorrowerRate \t 0.005266068090260407 %\n",
            "6 \t LenderYield \t 0.005266068090260407 %\n",
            "170 \t EstimatedEffectiveYield \t 0.1492052625573782 %\n",
            "446 \t EstimatedLoss \t 0.39144439470935694 %\n",
            "915 \t EstimatedReturn \t 0.803075383764712 %\n",
            "4302 \t ListingCategory (numeric) \t 3.775770820716712 %\n",
            "2078 \t EmploymentStatusDuration \t 1.8238149152601877 %\n",
            "662 \t CreditScoreRangeLower \t 0.5810228459587315 %\n",
            "662 \t CreditScoreRangeUpper \t 0.5810228459587315 %\n",
            "1166 \t CurrentCreditLines \t 1.0233725655406058 %\n",
            "1476 \t OpenCreditLines \t 1.2954527502040603 %\n",
            "998 \t TotalCreditLinespast7years \t 0.8759226590133143 %\n",
            "1621 \t OpenRevolvingAccounts \t 1.4227160623853534 %\n",
            "2132 \t OpenRevolvingMonthlyPayment \t 1.8712095280725312 %\n",
            "2204 \t InquiriesLast6Months \t 1.9344023451556562 %\n",
            "2053 \t TotalInquiries \t 1.8018729648841028 %\n",
            "2342 \t CurrentDelinquencies \t 2.0555219112316454 %\n",
            "1157 \t AmountDelinquent \t 1.0154734634052152 %\n",
            "2880 \t DelinquenciesLast7Years \t 2.5277126833249954 %\n",
            "1592 \t PublicRecordsLast10Years \t 1.3972633999490947 %\n",
            "1392 \t PublicRecordsLast12Months \t 1.2217277969404143 %\n",
            "1867 \t RevolvingCreditBalance \t 1.63862485408603 %\n",
            "83 \t BankcardUtilization \t 0.0728472752486023 %\n",
            "2160 \t AvailableBankcardCredit \t 1.8957845124937465 %\n",
            "1033 \t TotalTrades \t 0.9066413895398334 %\n",
            "2033 \t TradesNeverDelinquent (percentage) \t 1.7843194045832345 %\n",
            "2811 \t TradesOpenedLast6Months \t 2.467152900287001 %\n",
            "498 \t DebtToIncomeRatio \t 0.43708365149161377 %\n",
            "428 \t StatedMonthlyIncome \t 0.3756461904385757 %\n",
            "5628 \t LoanCurrentDaysDelinquent \t 4.939571868664261 %\n",
            "653 \t LoanOriginalAmount \t 0.573123743823341 %\n",
            "1716 \t MonthlyLoanPayment \t 1.5060954738144763 %\n",
            "2397 \t LP_CustomerPayments \t 2.1037942020590323 %\n",
            "1997 \t LP_CustomerPrincipalPayments \t 1.752722996041672 %\n",
            "2274 \t LP_InterestandFees \t 1.9958398062086942 %\n",
            "2430 \t LP_ServiceFees \t 2.132757576555465 %\n",
            "1221 \t LP_CollectionFees \t 1.071644856367993 %\n",
            "2915 \t LP_GrossPrincipalLoss \t 2.5584314138515145 %\n",
            "2897 \t LP_NetPrincipalLoss \t 2.5426332095807336 %\n",
            "970 \t LP_NonPrincipalRecoverypayments \t 0.851347674592099 %\n",
            "770 \t PercentFunded \t 0.6758120715834189 %\n",
            "743 \t Recommendations \t 0.6521147651772471 %\n",
            "2131 \t InvestmentFromFriendsCount \t 1.870331850057488 %\n",
            "499 \t InvestmentFromFriendsAmount \t 0.43796132950665717 %\n",
            "2389 \t Investors \t 2.0967727779386856 %\n"
          ]
        }
      ]
    },
    {
      "cell_type": "markdown",
      "source": [
        "# replace null after outlier"
      ],
      "metadata": {
        "id": "W7Uocs4NesN6"
      }
    },
    {
      "cell_type": "code",
      "source": [
        "\n",
        "for i in range(len(n)) :\n",
        "  if d[i] == 'object' :\n",
        "    data[n[i]].replace(np.nan,str(data[n[i]].mode()),inplace=True) \n",
        "  elif d[i] == 'int64' or d[i] == 'float64' :\n",
        "    data[n[i]].replace(np.nan,float(data[n[i]].mean()),inplace=True) \n",
        "    data[n[i]].astype('float64')\n"
      ],
      "metadata": {
        "id": "cIT2eNzmrcNb"
      },
      "execution_count": 84,
      "outputs": []
    },
    {
      "cell_type": "code",
      "source": [
        "j=0\n",
        "for i in data.columns:\n",
        "  print(data.isna().sum()[j],data[i].dtypes,i)\n",
        "  j+=1"
      ],
      "metadata": {
        "colab": {
          "base_uri": "https://localhost:8080/"
        },
        "id": "kpJKdwtLnWCu",
        "outputId": "b6503f0f-5018-4986-b948-6f505489b805"
      },
      "execution_count": 85,
      "outputs": [
        {
          "output_type": "stream",
          "name": "stdout",
          "text": [
            "0 object ListingKey\n",
            "0 int64 ListingNumber\n",
            "0 int64 Term\n",
            "0 object LoanStatus\n",
            "0 float64 BorrowerAPR\n",
            "0 float64 BorrowerRate\n",
            "0 float64 LenderYield\n",
            "0 float64 EstimatedEffectiveYield\n",
            "0 float64 EstimatedLoss\n",
            "0 float64 EstimatedReturn\n",
            "0 object ProsperRating (Alpha)\n",
            "0 float64 ProsperScore\n",
            "0 float64 ListingCategory (numeric)\n",
            "0 object BorrowerState\n",
            "0 object Occupation\n",
            "0 object EmploymentStatus\n",
            "0 float64 EmploymentStatusDuration\n",
            "0 bool IsBorrowerHomeowner\n",
            "0 bool CurrentlyInGroup\n",
            "0 float64 CreditScoreRangeLower\n",
            "0 float64 CreditScoreRangeUpper\n",
            "0 float64 CurrentCreditLines\n",
            "0 float64 OpenCreditLines\n",
            "0 float64 TotalCreditLinespast7years\n",
            "0 float64 OpenRevolvingAccounts\n",
            "0 float64 OpenRevolvingMonthlyPayment\n",
            "0 float64 InquiriesLast6Months\n",
            "0 float64 TotalInquiries\n",
            "0 float64 CurrentDelinquencies\n",
            "0 float64 AmountDelinquent\n",
            "0 float64 DelinquenciesLast7Years\n",
            "0 float64 PublicRecordsLast10Years\n",
            "0 float64 PublicRecordsLast12Months\n",
            "0 float64 RevolvingCreditBalance\n",
            "0 float64 BankcardUtilization\n",
            "0 float64 AvailableBankcardCredit\n",
            "0 float64 TotalTrades\n",
            "0 float64 TradesNeverDelinquent (percentage)\n",
            "0 float64 TradesOpenedLast6Months\n",
            "0 float64 DebtToIncomeRatio\n",
            "0 object IncomeRange\n",
            "0 bool IncomeVerifiable\n",
            "0 float64 StatedMonthlyIncome\n",
            "0 object LoanKey\n",
            "0 float64 LoanCurrentDaysDelinquent\n",
            "0 int64 LoanMonthsSinceOrigination\n",
            "0 int64 LoanNumber\n",
            "0 float64 LoanOriginalAmount\n",
            "0 object LoanOriginationQuarter\n",
            "0 object MemberKey\n",
            "0 float64 MonthlyLoanPayment\n",
            "0 float64 LP_CustomerPayments\n",
            "0 float64 LP_CustomerPrincipalPayments\n",
            "0 float64 LP_InterestandFees\n",
            "0 float64 LP_ServiceFees\n",
            "0 float64 LP_CollectionFees\n",
            "0 float64 LP_GrossPrincipalLoss\n",
            "0 float64 LP_NetPrincipalLoss\n",
            "0 float64 LP_NonPrincipalRecoverypayments\n",
            "0 float64 PercentFunded\n",
            "0 float64 Recommendations\n",
            "0 float64 InvestmentFromFriendsCount\n",
            "0 float64 InvestmentFromFriendsAmount\n",
            "0 float64 Investors\n",
            "0 object FirstRecordedCreditLine_date_day\n",
            "0 object FirstRecordedCreditLine_date_month\n",
            "0 object FirstRecordedCreditLine_date_year\n",
            "0 object LoanOriginationDate_date_day\n",
            "0 object LoanOriginationDate_date_month\n",
            "0 object LoanOriginationDate_date_year\n",
            "0 object ListingCreationDate_date_day\n",
            "0 object ListingCreationDate_date_month\n",
            "0 object ListingCreationDate_date_year\n",
            "0 object DateCreditPulled_date_day\n",
            "0 object DateCreditPulled_date_month\n",
            "0 object DateCreditPulled_date_year\n"
          ]
        }
      ]
    },
    {
      "cell_type": "code",
      "source": [
        "data['FirstRecordedCreditLine_date_day']=data['FirstRecordedCreditLine_date_day'].astype('float64')\n",
        "data['FirstRecordedCreditLine_date_month']=data['FirstRecordedCreditLine_date_month'].astype('float64')\n",
        "data['FirstRecordedCreditLine_date_year']=data['FirstRecordedCreditLine_date_year'].astype('float64')\n",
        "data['LoanOriginationDate_date_day']=data['LoanOriginationDate_date_day'].astype('float64')\n",
        "data['LoanOriginationDate_date_month']=data['LoanOriginationDate_date_month'].astype('float64')\n",
        "data['LoanOriginationDate_date_year']=data['LoanOriginationDate_date_year'].astype('float64')\n",
        "data['ListingCreationDate_date_day']=data['ListingCreationDate_date_day'].astype('float64')\n",
        "data['ListingCreationDate_date_month']=data['ListingCreationDate_date_month'].astype('float64')\n",
        "data['ListingCreationDate_date_year']=data['ListingCreationDate_date_year'].astype('float64')\n",
        "data['DateCreditPulled_date_day']=data['DateCreditPulled_date_day'].astype('float64')\n",
        "data['DateCreditPulled_date_month']=data['DateCreditPulled_date_month'].astype('float64')\n",
        "data['DateCreditPulled_date_year']=data['DateCreditPulled_date_year'].astype('float64')\n",
        "\n"
      ],
      "metadata": {
        "id": "y-FU3AGgveN0"
      },
      "execution_count": 86,
      "outputs": []
    },
    {
      "cell_type": "code",
      "source": [
        "data['FirstRecordedCreditLine_date_day'].replace(np.nan,float(data['FirstRecordedCreditLine_date_day'].mode()),inplace=True) \n",
        "data['FirstRecordedCreditLine_date_month'].replace(np.nan,float(data['FirstRecordedCreditLine_date_month'].mode()),inplace=True) \n",
        "data['FirstRecordedCreditLine_date_year'].replace(np.nan,float(data['FirstRecordedCreditLine_date_year'].mode()),inplace=True) "
      ],
      "metadata": {
        "id": "9FPwwF1jyAI9"
      },
      "execution_count": 87,
      "outputs": []
    },
    {
      "cell_type": "code",
      "source": [
        "float_D ,object_bool = ty()"
      ],
      "metadata": {
        "id": "L80Ica58s_VB"
      },
      "execution_count": 88,
      "outputs": []
    },
    {
      "cell_type": "code",
      "source": [
        "#columns unique  \n",
        "for i in object_bool :\n",
        "  if data[i].nunique() > 90000:\n",
        "    print(data[i].nunique() , '\\t' , i)\n",
        "    data.drop(i,axis=1, inplace= True)    "
      ],
      "metadata": {
        "colab": {
          "base_uri": "https://localhost:8080/"
        },
        "id": "HUnBVA6yYroH",
        "outputId": "6e6c0515-f799-47e3-cf8a-806057dde2d0"
      },
      "execution_count": 89,
      "outputs": [
        {
          "output_type": "stream",
          "name": "stdout",
          "text": [
            "113066 \t ListingKey\n",
            "113066 \t LoanKey\n",
            "90831 \t MemberKey\n"
          ]
        }
      ]
    },
    {
      "cell_type": "code",
      "source": [
        "float_D ,object_bool = ty()"
      ],
      "metadata": {
        "id": "TXfZhMMUaz9Q"
      },
      "execution_count": 90,
      "outputs": []
    },
    {
      "cell_type": "code",
      "source": [
        "\n",
        "for i in object_bool :\n",
        "  print(data[i].nunique() , '\\t' , i)  "
      ],
      "metadata": {
        "colab": {
          "base_uri": "https://localhost:8080/"
        },
        "id": "UAvd5ZYNbbln",
        "outputId": "d109693f-575d-4c00-b9b6-6b654e6d4d3f"
      },
      "execution_count": 91,
      "outputs": [
        {
          "output_type": "stream",
          "name": "stdout",
          "text": [
            "12 \t LoanStatus\n",
            "8 \t ProsperRating (Alpha)\n",
            "52 \t BorrowerState\n",
            "68 \t Occupation\n",
            "9 \t EmploymentStatus\n",
            "2 \t IsBorrowerHomeowner\n",
            "2 \t CurrentlyInGroup\n",
            "8 \t IncomeRange\n",
            "2 \t IncomeVerifiable\n",
            "33 \t LoanOriginationQuarter\n"
          ]
        }
      ]
    },
    {
      "cell_type": "code",
      "source": [
        "x = data['LoanStatus'].unique()"
      ],
      "metadata": {
        "id": "MGkeUfCMOSoB"
      },
      "execution_count": 92,
      "outputs": []
    },
    {
      "cell_type": "code",
      "source": [
        "for i in x:\n",
        "  if i == 'Completed':\n",
        "    data['LoanStatus'].replace(i,int(1),inplace=True)\n",
        "#  elif i == 'Current':\n",
        "#    data['LoanStatus'].replace(i,int(2),inplace=True)\n",
        "  else :\n",
        "    data['LoanStatus'].replace(i,0,inplace=True)"
      ],
      "metadata": {
        "id": "bbvvwMquOTiX"
      },
      "execution_count": 93,
      "outputs": []
    },
    {
      "cell_type": "code",
      "source": [
        "data['LoanStatus'].dtype"
      ],
      "metadata": {
        "id": "3pxyStY1P2jo",
        "outputId": "ae717d70-a858-4500-c0e3-7b7196cb5210",
        "colab": {
          "base_uri": "https://localhost:8080/"
        }
      },
      "execution_count": 95,
      "outputs": [
        {
          "output_type": "execute_result",
          "data": {
            "text/plain": [
              "dtype('int64')"
            ]
          },
          "metadata": {},
          "execution_count": 95
        }
      ]
    },
    {
      "cell_type": "code",
      "source": [
        "float_D ,object_bool = ty()"
      ],
      "metadata": {
        "id": "3_HHXWyCP_Zp"
      },
      "execution_count": 97,
      "outputs": []
    },
    {
      "cell_type": "markdown",
      "source": [
        "# encoder OneHotEncoder"
      ],
      "metadata": {
        "id": "sOzbK0Tj4bOA"
      }
    },
    {
      "cell_type": "code",
      "source": [
        "from sklearn.preprocessing import OneHotEncoder\n",
        "# creating one hot encoder object \n",
        "onehotencoder = OneHotEncoder()\n",
        "for j in range(len(object_bool)):\n",
        "  #reshape the 1-D country array to 2-D as fit_transform expects 2-D and finally fit the object \n",
        "  X = onehotencoder.fit_transform(data[object_bool[j]].values.reshape(-1,1)).toarray()\n",
        "  #To add this back into the original dataframe \n",
        "  dfOneHot = pd.DataFrame(X, columns = [object_bool[j]+str(int(i)) for i in range(data[object_bool[j]].nunique())]) \n",
        "  data = pd.concat([data, dfOneHot], axis=1)\n",
        "  #droping the country column \n",
        "  data= data.drop([object_bool[j]], axis=1) \n",
        "  #printing to verify \n",
        "  print(data.head())"
      ],
      "metadata": {
        "colab": {
          "base_uri": "https://localhost:8080/"
        },
        "id": "NiTEeQqZbcb-",
        "outputId": "b99120f8-33b4-460d-8d6a-6bce3cf9e90f"
      },
      "execution_count": 98,
      "outputs": [
        {
          "output_type": "stream",
          "name": "stdout",
          "text": [
            "   ListingNumber  Term  LoanStatus  BorrowerAPR  BorrowerRate  LenderYield  \\\n",
            "0         193129    36           1      0.16516        0.1580       0.1380   \n",
            "1        1209647    36           0      0.12016        0.0920       0.0820   \n",
            "2          81716    36           1      0.28269        0.2750       0.2400   \n",
            "3         658116    36           0      0.12528        0.0974       0.0874   \n",
            "4         909464    36           0      0.24614        0.2085       0.1985   \n",
            "\n",
            "   EstimatedEffectiveYield  EstimatedLoss  EstimatedReturn  ProsperScore  ...  \\\n",
            "0                 0.168661       0.080306         0.096068      5.950067  ...   \n",
            "1                 0.079600       0.024900         0.054700      7.000000  ...   \n",
            "2                 0.168661       0.080306         0.096068      5.950067  ...   \n",
            "3                 0.084900       0.024900         0.060000      9.000000  ...   \n",
            "4                 0.183160       0.092500         0.090660      4.000000  ...   \n",
            "\n",
            "   DateCreditPulled_date_month DateCreditPulled_date_year  \\\n",
            "0                          8.0                     2007.0   \n",
            "1                          2.0                     2014.0   \n",
            "2                          1.0                     2007.0   \n",
            "3                         10.0                     2012.0   \n",
            "4                          9.0                     2013.0   \n",
            "\n",
            "  ProsperRating (Alpha)0 ProsperRating (Alpha)1  ProsperRating (Alpha)2  \\\n",
            "0                    1.0                    0.0                     0.0   \n",
            "1                    0.0                    1.0                     0.0   \n",
            "2                    1.0                    0.0                     0.0   \n",
            "3                    0.0                    1.0                     0.0   \n",
            "4                    0.0                    0.0                     0.0   \n",
            "\n",
            "   ProsperRating (Alpha)3  ProsperRating (Alpha)4  ProsperRating (Alpha)5  \\\n",
            "0                     0.0                     0.0                     0.0   \n",
            "1                     0.0                     0.0                     0.0   \n",
            "2                     0.0                     0.0                     0.0   \n",
            "3                     0.0                     0.0                     0.0   \n",
            "4                     0.0                     0.0                     1.0   \n",
            "\n",
            "   ProsperRating (Alpha)6  ProsperRating (Alpha)7  \n",
            "0                     0.0                     0.0  \n",
            "1                     0.0                     0.0  \n",
            "2                     0.0                     0.0  \n",
            "3                     0.0                     0.0  \n",
            "4                     0.0                     0.0  \n",
            "\n",
            "[5 rows x 80 columns]\n",
            "   ListingNumber  Term  LoanStatus  BorrowerAPR  BorrowerRate  LenderYield  \\\n",
            "0         193129    36           1      0.16516        0.1580       0.1380   \n",
            "1        1209647    36           0      0.12016        0.0920       0.0820   \n",
            "2          81716    36           1      0.28269        0.2750       0.2400   \n",
            "3         658116    36           0      0.12528        0.0974       0.0874   \n",
            "4         909464    36           0      0.24614        0.2085       0.1985   \n",
            "\n",
            "   EstimatedEffectiveYield  EstimatedLoss  EstimatedReturn  ProsperScore  ...  \\\n",
            "0                 0.168661       0.080306         0.096068      5.950067  ...   \n",
            "1                 0.079600       0.024900         0.054700      7.000000  ...   \n",
            "2                 0.168661       0.080306         0.096068      5.950067  ...   \n",
            "3                 0.084900       0.024900         0.060000      9.000000  ...   \n",
            "4                 0.183160       0.092500         0.090660      4.000000  ...   \n",
            "\n",
            "   BorrowerState42 BorrowerState43 BorrowerState44  BorrowerState45  \\\n",
            "0              0.0             0.0             0.0              0.0   \n",
            "1              0.0             0.0             0.0              0.0   \n",
            "2              0.0             0.0             0.0              0.0   \n",
            "3              0.0             0.0             0.0              0.0   \n",
            "4              0.0             0.0             0.0              0.0   \n",
            "\n",
            "   BorrowerState46  BorrowerState47  BorrowerState48  BorrowerState49  \\\n",
            "0              0.0              0.0              0.0              0.0   \n",
            "1              0.0              0.0              0.0              0.0   \n",
            "2              0.0              0.0              0.0              0.0   \n",
            "3              0.0              0.0              0.0              0.0   \n",
            "4              0.0              0.0              0.0              0.0   \n",
            "\n",
            "   BorrowerState50  BorrowerState51  \n",
            "0              0.0              0.0  \n",
            "1              0.0              0.0  \n",
            "2              0.0              0.0  \n",
            "3              0.0              0.0  \n",
            "4              0.0              0.0  \n",
            "\n",
            "[5 rows x 131 columns]\n",
            "   ListingNumber  Term  LoanStatus  BorrowerAPR  BorrowerRate  LenderYield  \\\n",
            "0         193129    36           1      0.16516        0.1580       0.1380   \n",
            "1        1209647    36           0      0.12016        0.0920       0.0820   \n",
            "2          81716    36           1      0.28269        0.2750       0.2400   \n",
            "3         658116    36           0      0.12528        0.0974       0.0874   \n",
            "4         909464    36           0      0.24614        0.2085       0.1985   \n",
            "\n",
            "   EstimatedEffectiveYield  EstimatedLoss  EstimatedReturn  ProsperScore  ...  \\\n",
            "0                 0.168661       0.080306         0.096068      5.950067  ...   \n",
            "1                 0.079600       0.024900         0.054700      7.000000  ...   \n",
            "2                 0.168661       0.080306         0.096068      5.950067  ...   \n",
            "3                 0.084900       0.024900         0.060000      9.000000  ...   \n",
            "4                 0.183160       0.092500         0.090660      4.000000  ...   \n",
            "\n",
            "   Occupation58 Occupation59  Occupation60  Occupation61  Occupation62  \\\n",
            "0           0.0          0.0           0.0           0.0           0.0   \n",
            "1           0.0          0.0           0.0           0.0           0.0   \n",
            "2           0.0          0.0           0.0           0.0           0.0   \n",
            "3           0.0          0.0           0.0           0.0           0.0   \n",
            "4           0.0          0.0           0.0           0.0           0.0   \n",
            "\n",
            "   Occupation63  Occupation64  Occupation65  Occupation66  Occupation67  \n",
            "0           0.0           0.0           0.0           0.0           0.0  \n",
            "1           0.0           0.0           0.0           0.0           0.0  \n",
            "2           0.0           0.0           0.0           0.0           0.0  \n",
            "3           0.0           0.0           0.0           0.0           0.0  \n",
            "4           0.0           0.0           0.0           0.0           0.0  \n",
            "\n",
            "[5 rows x 198 columns]\n",
            "   ListingNumber  Term  LoanStatus  BorrowerAPR  BorrowerRate  LenderYield  \\\n",
            "0         193129    36           1      0.16516        0.1580       0.1380   \n",
            "1        1209647    36           0      0.12016        0.0920       0.0820   \n",
            "2          81716    36           1      0.28269        0.2750       0.2400   \n",
            "3         658116    36           0      0.12528        0.0974       0.0874   \n",
            "4         909464    36           0      0.24614        0.2085       0.1985   \n",
            "\n",
            "   EstimatedEffectiveYield  EstimatedLoss  EstimatedReturn  ProsperScore  ...  \\\n",
            "0                 0.168661       0.080306         0.096068      5.950067  ...   \n",
            "1                 0.079600       0.024900         0.054700      7.000000  ...   \n",
            "2                 0.168661       0.080306         0.096068      5.950067  ...   \n",
            "3                 0.084900       0.024900         0.060000      9.000000  ...   \n",
            "4                 0.183160       0.092500         0.090660      4.000000  ...   \n",
            "\n",
            "   Occupation67  EmploymentStatus0  EmploymentStatus1  EmploymentStatus2  \\\n",
            "0           0.0                0.0                0.0                0.0   \n",
            "1           0.0                0.0                1.0                0.0   \n",
            "2           0.0                0.0                0.0                0.0   \n",
            "3           0.0                0.0                1.0                0.0   \n",
            "4           0.0                0.0                1.0                0.0   \n",
            "\n",
            "   EmploymentStatus3  EmploymentStatus4  EmploymentStatus5  EmploymentStatus6  \\\n",
            "0                0.0                0.0                0.0                0.0   \n",
            "1                0.0                0.0                0.0                0.0   \n",
            "2                1.0                0.0                0.0                0.0   \n",
            "3                0.0                0.0                0.0                0.0   \n",
            "4                0.0                0.0                0.0                0.0   \n",
            "\n",
            "   EmploymentStatus7  EmploymentStatus8  \n",
            "0                0.0                1.0  \n",
            "1                0.0                0.0  \n",
            "2                0.0                0.0  \n",
            "3                0.0                0.0  \n",
            "4                0.0                0.0  \n",
            "\n",
            "[5 rows x 206 columns]\n",
            "   ListingNumber  Term  LoanStatus  BorrowerAPR  BorrowerRate  LenderYield  \\\n",
            "0         193129    36           1      0.16516        0.1580       0.1380   \n",
            "1        1209647    36           0      0.12016        0.0920       0.0820   \n",
            "2          81716    36           1      0.28269        0.2750       0.2400   \n",
            "3         658116    36           0      0.12528        0.0974       0.0874   \n",
            "4         909464    36           0      0.24614        0.2085       0.1985   \n",
            "\n",
            "   EstimatedEffectiveYield  EstimatedLoss  EstimatedReturn  ProsperScore  ...  \\\n",
            "0                 0.168661       0.080306         0.096068      5.950067  ...   \n",
            "1                 0.079600       0.024900         0.054700      7.000000  ...   \n",
            "2                 0.168661       0.080306         0.096068      5.950067  ...   \n",
            "3                 0.084900       0.024900         0.060000      9.000000  ...   \n",
            "4                 0.183160       0.092500         0.090660      4.000000  ...   \n",
            "\n",
            "   EmploymentStatus1  EmploymentStatus2  EmploymentStatus3  EmploymentStatus4  \\\n",
            "0                0.0                0.0                0.0                0.0   \n",
            "1                1.0                0.0                0.0                0.0   \n",
            "2                0.0                0.0                1.0                0.0   \n",
            "3                1.0                0.0                0.0                0.0   \n",
            "4                1.0                0.0                0.0                0.0   \n",
            "\n",
            "   EmploymentStatus5  EmploymentStatus6  EmploymentStatus7  EmploymentStatus8  \\\n",
            "0                0.0                0.0                0.0                1.0   \n",
            "1                0.0                0.0                0.0                0.0   \n",
            "2                0.0                0.0                0.0                0.0   \n",
            "3                0.0                0.0                0.0                0.0   \n",
            "4                0.0                0.0                0.0                0.0   \n",
            "\n",
            "   IsBorrowerHomeowner0  IsBorrowerHomeowner1  \n",
            "0                   0.0                   1.0  \n",
            "1                   1.0                   0.0  \n",
            "2                   1.0                   0.0  \n",
            "3                   0.0                   1.0  \n",
            "4                   0.0                   1.0  \n",
            "\n",
            "[5 rows x 207 columns]\n",
            "   ListingNumber  Term  LoanStatus  BorrowerAPR  BorrowerRate  LenderYield  \\\n",
            "0         193129    36           1      0.16516        0.1580       0.1380   \n",
            "1        1209647    36           0      0.12016        0.0920       0.0820   \n",
            "2          81716    36           1      0.28269        0.2750       0.2400   \n",
            "3         658116    36           0      0.12528        0.0974       0.0874   \n",
            "4         909464    36           0      0.24614        0.2085       0.1985   \n",
            "\n",
            "   EstimatedEffectiveYield  EstimatedLoss  EstimatedReturn  ProsperScore  ...  \\\n",
            "0                 0.168661       0.080306         0.096068      5.950067  ...   \n",
            "1                 0.079600       0.024900         0.054700      7.000000  ...   \n",
            "2                 0.168661       0.080306         0.096068      5.950067  ...   \n",
            "3                 0.084900       0.024900         0.060000      9.000000  ...   \n",
            "4                 0.183160       0.092500         0.090660      4.000000  ...   \n",
            "\n",
            "   EmploymentStatus3  EmploymentStatus4  EmploymentStatus5  EmploymentStatus6  \\\n",
            "0                0.0                0.0                0.0                0.0   \n",
            "1                0.0                0.0                0.0                0.0   \n",
            "2                1.0                0.0                0.0                0.0   \n",
            "3                0.0                0.0                0.0                0.0   \n",
            "4                0.0                0.0                0.0                0.0   \n",
            "\n",
            "   EmploymentStatus7  EmploymentStatus8  IsBorrowerHomeowner0  \\\n",
            "0                0.0                1.0                   0.0   \n",
            "1                0.0                0.0                   1.0   \n",
            "2                0.0                0.0                   1.0   \n",
            "3                0.0                0.0                   0.0   \n",
            "4                0.0                0.0                   0.0   \n",
            "\n",
            "   IsBorrowerHomeowner1  CurrentlyInGroup0  CurrentlyInGroup1  \n",
            "0                   1.0                0.0                1.0  \n",
            "1                   0.0                1.0                0.0  \n",
            "2                   0.0                0.0                1.0  \n",
            "3                   1.0                1.0                0.0  \n",
            "4                   1.0                1.0                0.0  \n",
            "\n",
            "[5 rows x 208 columns]\n",
            "   ListingNumber  Term  LoanStatus  BorrowerAPR  BorrowerRate  LenderYield  \\\n",
            "0         193129    36           1      0.16516        0.1580       0.1380   \n",
            "1        1209647    36           0      0.12016        0.0920       0.0820   \n",
            "2          81716    36           1      0.28269        0.2750       0.2400   \n",
            "3         658116    36           0      0.12528        0.0974       0.0874   \n",
            "4         909464    36           0      0.24614        0.2085       0.1985   \n",
            "\n",
            "   EstimatedEffectiveYield  EstimatedLoss  EstimatedReturn  ProsperScore  ...  \\\n",
            "0                 0.168661       0.080306         0.096068      5.950067  ...   \n",
            "1                 0.079600       0.024900         0.054700      7.000000  ...   \n",
            "2                 0.168661       0.080306         0.096068      5.950067  ...   \n",
            "3                 0.084900       0.024900         0.060000      9.000000  ...   \n",
            "4                 0.183160       0.092500         0.090660      4.000000  ...   \n",
            "\n",
            "   CurrentlyInGroup0  CurrentlyInGroup1  IncomeRange0  IncomeRange1  \\\n",
            "0                0.0                1.0           0.0           0.0   \n",
            "1                1.0                0.0           0.0           0.0   \n",
            "2                0.0                1.0           0.0           0.0   \n",
            "3                1.0                0.0           0.0           0.0   \n",
            "4                1.0                0.0           0.0           0.0   \n",
            "\n",
            "   IncomeRange2  IncomeRange3  IncomeRange4  IncomeRange5  IncomeRange6  \\\n",
            "0           0.0           1.0           0.0           0.0           0.0   \n",
            "1           0.0           0.0           1.0           0.0           0.0   \n",
            "2           0.0           0.0           0.0           0.0           1.0   \n",
            "3           0.0           1.0           0.0           0.0           0.0   \n",
            "4           1.0           0.0           0.0           0.0           0.0   \n",
            "\n",
            "   IncomeRange7  \n",
            "0           0.0  \n",
            "1           0.0  \n",
            "2           0.0  \n",
            "3           0.0  \n",
            "4           0.0  \n",
            "\n",
            "[5 rows x 215 columns]\n",
            "   ListingNumber  Term  LoanStatus  BorrowerAPR  BorrowerRate  LenderYield  \\\n",
            "0         193129    36           1      0.16516        0.1580       0.1380   \n",
            "1        1209647    36           0      0.12016        0.0920       0.0820   \n",
            "2          81716    36           1      0.28269        0.2750       0.2400   \n",
            "3         658116    36           0      0.12528        0.0974       0.0874   \n",
            "4         909464    36           0      0.24614        0.2085       0.1985   \n",
            "\n",
            "   EstimatedEffectiveYield  EstimatedLoss  EstimatedReturn  ProsperScore  ...  \\\n",
            "0                 0.168661       0.080306         0.096068      5.950067  ...   \n",
            "1                 0.079600       0.024900         0.054700      7.000000  ...   \n",
            "2                 0.168661       0.080306         0.096068      5.950067  ...   \n",
            "3                 0.084900       0.024900         0.060000      9.000000  ...   \n",
            "4                 0.183160       0.092500         0.090660      4.000000  ...   \n",
            "\n",
            "   IncomeRange0  IncomeRange1  IncomeRange2  IncomeRange3  IncomeRange4  \\\n",
            "0           0.0           0.0           0.0           1.0           0.0   \n",
            "1           0.0           0.0           0.0           0.0           1.0   \n",
            "2           0.0           0.0           0.0           0.0           0.0   \n",
            "3           0.0           0.0           0.0           1.0           0.0   \n",
            "4           0.0           0.0           1.0           0.0           0.0   \n",
            "\n",
            "   IncomeRange5  IncomeRange6  IncomeRange7  IncomeVerifiable0  \\\n",
            "0           0.0           0.0           0.0                0.0   \n",
            "1           0.0           0.0           0.0                0.0   \n",
            "2           0.0           1.0           0.0                0.0   \n",
            "3           0.0           0.0           0.0                0.0   \n",
            "4           0.0           0.0           0.0                0.0   \n",
            "\n",
            "   IncomeVerifiable1  \n",
            "0                1.0  \n",
            "1                1.0  \n",
            "2                1.0  \n",
            "3                1.0  \n",
            "4                1.0  \n",
            "\n",
            "[5 rows x 216 columns]\n",
            "   ListingNumber  Term  LoanStatus  BorrowerAPR  BorrowerRate  LenderYield  \\\n",
            "0         193129    36           1      0.16516        0.1580       0.1380   \n",
            "1        1209647    36           0      0.12016        0.0920       0.0820   \n",
            "2          81716    36           1      0.28269        0.2750       0.2400   \n",
            "3         658116    36           0      0.12528        0.0974       0.0874   \n",
            "4         909464    36           0      0.24614        0.2085       0.1985   \n",
            "\n",
            "   EstimatedEffectiveYield  EstimatedLoss  EstimatedReturn  ProsperScore  ...  \\\n",
            "0                 0.168661       0.080306         0.096068      5.950067  ...   \n",
            "1                 0.079600       0.024900         0.054700      7.000000  ...   \n",
            "2                 0.168661       0.080306         0.096068      5.950067  ...   \n",
            "3                 0.084900       0.024900         0.060000      9.000000  ...   \n",
            "4                 0.183160       0.092500         0.090660      4.000000  ...   \n",
            "\n",
            "   LoanOriginationQuarter23  LoanOriginationQuarter24  \\\n",
            "0                       0.0                       0.0   \n",
            "1                       0.0                       0.0   \n",
            "2                       0.0                       0.0   \n",
            "3                       0.0                       0.0   \n",
            "4                       1.0                       0.0   \n",
            "\n",
            "   LoanOriginationQuarter25  LoanOriginationQuarter26  \\\n",
            "0                       0.0                       0.0   \n",
            "1                       0.0                       0.0   \n",
            "2                       0.0                       0.0   \n",
            "3                       0.0                       0.0   \n",
            "4                       0.0                       0.0   \n",
            "\n",
            "   LoanOriginationQuarter27  LoanOriginationQuarter28  \\\n",
            "0                       0.0                       0.0   \n",
            "1                       0.0                       0.0   \n",
            "2                       0.0                       0.0   \n",
            "3                       0.0                       0.0   \n",
            "4                       0.0                       0.0   \n",
            "\n",
            "   LoanOriginationQuarter29  LoanOriginationQuarter30  \\\n",
            "0                       0.0                       0.0   \n",
            "1                       0.0                       0.0   \n",
            "2                       0.0                       0.0   \n",
            "3                       0.0                       0.0   \n",
            "4                       0.0                       0.0   \n",
            "\n",
            "   LoanOriginationQuarter31  LoanOriginationQuarter32  \n",
            "0                       0.0                       0.0  \n",
            "1                       0.0                       0.0  \n",
            "2                       0.0                       0.0  \n",
            "3                       1.0                       0.0  \n",
            "4                       0.0                       0.0  \n",
            "\n",
            "[5 rows x 248 columns]\n"
          ]
        }
      ]
    },
    {
      "cell_type": "code",
      "source": [
        "float_D ,object_bool = ty()\n",
        "\n",
        "for i in object_bool :\n",
        "  print(data[i].nunique() , '\\t' , i)  "
      ],
      "metadata": {
        "id": "5OyDlfYpcxCX"
      },
      "execution_count": 99,
      "outputs": []
    },
    {
      "cell_type": "markdown",
      "source": [
        "no object columns"
      ],
      "metadata": {
        "id": "QiAMO0pv4mzD"
      }
    },
    {
      "cell_type": "code",
      "source": [
        "data.shape"
      ],
      "metadata": {
        "colab": {
          "base_uri": "https://localhost:8080/"
        },
        "id": "6i5n4wEr4l52",
        "outputId": "8b18f8f5-35b0-4c19-9d20-f388317e9c8d"
      },
      "execution_count": 101,
      "outputs": [
        {
          "output_type": "execute_result",
          "data": {
            "text/plain": [
              "(113937, 248)"
            ]
          },
          "metadata": {},
          "execution_count": 101
        }
      ]
    },
    {
      "cell_type": "code",
      "source": [
        "data.info()"
      ],
      "metadata": {
        "colab": {
          "base_uri": "https://localhost:8080/"
        },
        "id": "9RXR6nkt404V",
        "outputId": "af89dbf5-8566-43f7-95fc-b72f1f386d7f"
      },
      "execution_count": 102,
      "outputs": [
        {
          "output_type": "stream",
          "name": "stdout",
          "text": [
            "<class 'pandas.core.frame.DataFrame'>\n",
            "RangeIndex: 113937 entries, 0 to 113936\n",
            "Columns: 248 entries, ListingNumber to LoanOriginationQuarter32\n",
            "dtypes: float64(243), int64(5)\n",
            "memory usage: 215.6 MB\n"
          ]
        }
      ]
    },
    {
      "cell_type": "code",
      "source": [
        ""
      ],
      "metadata": {
        "id": "5bAHKvMnOtxM"
      },
      "execution_count": 171,
      "outputs": []
    },
    {
      "cell_type": "code",
      "source": [
        ""
      ],
      "metadata": {
        "id": "p847uBY0Oto7"
      },
      "execution_count": null,
      "outputs": []
    },
    {
      "cell_type": "code",
      "source": [
        "data['Target'] = data['LoanStatus']\n",
        "data.drop('LoanStatus',axis=1, inplace= True) #rename  LoanStatus to target "
      ],
      "metadata": {
        "id": "C53F1nVz5i6B"
      },
      "execution_count": 103,
      "outputs": []
    },
    {
      "cell_type": "code",
      "source": [
        "data.drop('ListingNumber',axis=1, inplace= True) #unique value like id"
      ],
      "metadata": {
        "id": "63hTZabAQwDb"
      },
      "execution_count": null,
      "outputs": []
    },
    {
      "cell_type": "code",
      "source": [
        "\n",
        "data.drop('LoanNumber',axis=1, inplace= True)  #unique value like id\n"
      ],
      "metadata": {
        "id": "TOcIjOgYQTQa"
      },
      "execution_count": 113,
      "outputs": []
    },
    {
      "cell_type": "markdown",
      "source": [
        "# Correlation"
      ],
      "metadata": {
        "id": "0ogG-dBvejeF"
      }
    },
    {
      "cell_type": "code",
      "source": [
        "corr=data.corr()\n"
      ],
      "metadata": {
        "id": "P0Pf3oxw4-Ke"
      },
      "execution_count": 114,
      "outputs": []
    },
    {
      "cell_type": "code",
      "source": [
        "corr"
      ],
      "metadata": {
        "colab": {
          "base_uri": "https://localhost:8080/",
          "height": 505
        },
        "id": "SG5-5jIa5SWd",
        "outputId": "006d9d74-9545-49df-b03f-731263893500"
      },
      "execution_count": 115,
      "outputs": [
        {
          "output_type": "execute_result",
          "data": {
            "text/plain": [
              "                              Term  BorrowerAPR  BorrowerRate  LenderYield  \\\n",
              "Term                      1.000000    -0.011130      0.020183     0.020653   \n",
              "BorrowerAPR              -0.011130     1.000000      0.989508     0.989015   \n",
              "BorrowerRate              0.020183     0.989508      1.000000     0.999211   \n",
              "LenderYield               0.020653     0.989015      0.999211     1.000000   \n",
              "EstimatedEffectiveYield   0.052893     0.783230      0.785265     0.788508   \n",
              "...                            ...          ...           ...          ...   \n",
              "LoanOriginationQuarter29 -0.052149     0.085399      0.080685     0.081023   \n",
              "LoanOriginationQuarter30 -0.080524     0.100159      0.087711     0.088226   \n",
              "LoanOriginationQuarter31  0.055308     0.062705      0.050401     0.050775   \n",
              "LoanOriginationQuarter32  0.122324    -0.066780     -0.092882    -0.092937   \n",
              "Target                   -0.286212    -0.088517     -0.060008    -0.058009   \n",
              "\n",
              "                          EstimatedEffectiveYield  EstimatedLoss  \\\n",
              "Term                                     0.052893      -0.099385   \n",
              "BorrowerAPR                              0.783230       0.821902   \n",
              "BorrowerRate                             0.785265       0.820838   \n",
              "LenderYield                              0.788508       0.824167   \n",
              "EstimatedEffectiveYield                  1.000000       0.882873   \n",
              "...                                           ...            ...   \n",
              "LoanOriginationQuarter29                -0.089368       0.060690   \n",
              "LoanOriginationQuarter30                 0.134627       0.073687   \n",
              "LoanOriginationQuarter31                 0.065131       0.031298   \n",
              "LoanOriginationQuarter32                -0.102077      -0.076587   \n",
              "Target                                  -0.029668       0.048627   \n",
              "\n",
              "                          EstimatedReturn  ProsperScore  \\\n",
              "Term                             0.157068      0.027862   \n",
              "BorrowerAPR                      0.702284     -0.573682   \n",
              "BorrowerRate                     0.724194     -0.559510   \n",
              "LenderYield                      0.727123     -0.561821   \n",
              "EstimatedEffectiveYield          0.816400     -0.650061   \n",
              "...                                   ...           ...   \n",
              "LoanOriginationQuarter29         0.064297      0.029527   \n",
              "LoanOriginationQuarter30         0.155820     -0.009062   \n",
              "LoanOriginationQuarter31         0.053435      0.038673   \n",
              "LoanOriginationQuarter32        -0.223027     -0.032954   \n",
              "Target                           0.089041      0.104625   \n",
              "\n",
              "                          ListingCategory (numeric)  EmploymentStatusDuration  \\\n",
              "Term                                      -0.022922                  0.082892   \n",
              "BorrowerAPR                                0.138687                 -0.008734   \n",
              "BorrowerRate                               0.110783                 -0.017732   \n",
              "LenderYield                                0.112604                 -0.016696   \n",
              "EstimatedEffectiveYield                    0.090301                 -0.021985   \n",
              "...                                             ...                       ...   \n",
              "LoanOriginationQuarter29                   0.043016                 -0.008577   \n",
              "LoanOriginationQuarter30                   0.059244                 -0.005286   \n",
              "LoanOriginationQuarter31                   0.057784                  0.011727   \n",
              "LoanOriginationQuarter32                  -0.036691                  0.055201   \n",
              "Target                                     0.006989                 -0.093612   \n",
              "\n",
              "                          ...  LoanOriginationQuarter24  \\\n",
              "Term                      ...                 -0.006432   \n",
              "BorrowerAPR               ...                  0.000002   \n",
              "BorrowerRate              ...                 -0.018404   \n",
              "LenderYield               ...                 -0.018584   \n",
              "EstimatedEffectiveYield   ...                 -0.000079   \n",
              "...                       ...                       ...   \n",
              "LoanOriginationQuarter29  ...                 -0.001659   \n",
              "LoanOriginationQuarter30  ...                 -0.002621   \n",
              "LoanOriginationQuarter31  ...                 -0.002793   \n",
              "LoanOriginationQuarter32  ...                 -0.005296   \n",
              "Target                    ...                  0.019617   \n",
              "\n",
              "                          LoanOriginationQuarter25  LoanOriginationQuarter26  \\\n",
              "Term                                     -0.067936                 -0.070617   \n",
              "BorrowerAPR                              -0.028036                 -0.073464   \n",
              "BorrowerRate                              0.002519                 -0.044162   \n",
              "LenderYield                               0.003897                 -0.041498   \n",
              "EstimatedEffectiveYield                  -0.000833                 -0.000866   \n",
              "...                                            ...                       ...   \n",
              "LoanOriginationQuarter29                 -0.017517                 -0.018209   \n",
              "LoanOriginationQuarter30                 -0.027681                 -0.028774   \n",
              "LoanOriginationQuarter31                 -0.029505                 -0.030670   \n",
              "LoanOriginationQuarter32                 -0.055940                 -0.058148   \n",
              "Target                                    0.073812                  0.099813   \n",
              "\n",
              "                          LoanOriginationQuarter27  LoanOriginationQuarter28  \\\n",
              "Term                                     -0.031701                 -0.052530   \n",
              "BorrowerAPR                               0.004918                  0.003456   \n",
              "BorrowerRate                              0.007213                  0.009996   \n",
              "LenderYield                               0.007248                  0.010027   \n",
              "EstimatedEffectiveYield                  -0.000389                 -0.106280   \n",
              "...                                            ...                       ...   \n",
              "LoanOriginationQuarter29                 -0.008174                 -0.013545   \n",
              "LoanOriginationQuarter30                 -0.012917                 -0.021404   \n",
              "LoanOriginationQuarter31                 -0.013768                 -0.022814   \n",
              "LoanOriginationQuarter32                 -0.026103                 -0.043255   \n",
              "Target                                    0.056013                  0.122845   \n",
              "\n",
              "                          LoanOriginationQuarter29  LoanOriginationQuarter30  \\\n",
              "Term                                     -0.052149                 -0.080524   \n",
              "BorrowerAPR                               0.085399                  0.100159   \n",
              "BorrowerRate                              0.080685                  0.087711   \n",
              "LenderYield                               0.081023                  0.088226   \n",
              "EstimatedEffectiveYield                  -0.089368                  0.134627   \n",
              "...                                            ...                       ...   \n",
              "LoanOriginationQuarter29                  1.000000                 -0.022507   \n",
              "LoanOriginationQuarter30                 -0.022507                  1.000000   \n",
              "LoanOriginationQuarter31                 -0.023990                 -0.037909   \n",
              "LoanOriginationQuarter32                 -0.045483                 -0.071872   \n",
              "Target                                    0.119757                  0.036926   \n",
              "\n",
              "                          LoanOriginationQuarter31  LoanOriginationQuarter32  \\\n",
              "Term                                      0.055308                  0.122324   \n",
              "BorrowerAPR                               0.062705                 -0.066780   \n",
              "BorrowerRate                              0.050401                 -0.092882   \n",
              "LenderYield                               0.050775                 -0.092937   \n",
              "EstimatedEffectiveYield                   0.065131                 -0.102077   \n",
              "...                                            ...                       ...   \n",
              "LoanOriginationQuarter29                 -0.023990                 -0.045483   \n",
              "LoanOriginationQuarter30                 -0.037909                 -0.071872   \n",
              "LoanOriginationQuarter31                  1.000000                 -0.076608   \n",
              "LoanOriginationQuarter32                 -0.076608                  1.000000   \n",
              "Target                                   -0.044944                 -0.248185   \n",
              "\n",
              "                            Target  \n",
              "Term                     -0.286212  \n",
              "BorrowerAPR              -0.088517  \n",
              "BorrowerRate             -0.060008  \n",
              "LenderYield              -0.058009  \n",
              "EstimatedEffectiveYield  -0.029668  \n",
              "...                            ...  \n",
              "LoanOriginationQuarter29  0.119757  \n",
              "LoanOriginationQuarter30  0.036926  \n",
              "LoanOriginationQuarter31 -0.044944  \n",
              "LoanOriginationQuarter32 -0.248185  \n",
              "Target                    1.000000  \n",
              "\n",
              "[246 rows x 246 columns]"
            ],
            "text/html": [
              "\n",
              "  <div id=\"df-727f5132-848a-4d77-a8af-27140051681d\">\n",
              "    <div class=\"colab-df-container\">\n",
              "      <div>\n",
              "<style scoped>\n",
              "    .dataframe tbody tr th:only-of-type {\n",
              "        vertical-align: middle;\n",
              "    }\n",
              "\n",
              "    .dataframe tbody tr th {\n",
              "        vertical-align: top;\n",
              "    }\n",
              "\n",
              "    .dataframe thead th {\n",
              "        text-align: right;\n",
              "    }\n",
              "</style>\n",
              "<table border=\"1\" class=\"dataframe\">\n",
              "  <thead>\n",
              "    <tr style=\"text-align: right;\">\n",
              "      <th></th>\n",
              "      <th>Term</th>\n",
              "      <th>BorrowerAPR</th>\n",
              "      <th>BorrowerRate</th>\n",
              "      <th>LenderYield</th>\n",
              "      <th>EstimatedEffectiveYield</th>\n",
              "      <th>EstimatedLoss</th>\n",
              "      <th>EstimatedReturn</th>\n",
              "      <th>ProsperScore</th>\n",
              "      <th>ListingCategory (numeric)</th>\n",
              "      <th>EmploymentStatusDuration</th>\n",
              "      <th>...</th>\n",
              "      <th>LoanOriginationQuarter24</th>\n",
              "      <th>LoanOriginationQuarter25</th>\n",
              "      <th>LoanOriginationQuarter26</th>\n",
              "      <th>LoanOriginationQuarter27</th>\n",
              "      <th>LoanOriginationQuarter28</th>\n",
              "      <th>LoanOriginationQuarter29</th>\n",
              "      <th>LoanOriginationQuarter30</th>\n",
              "      <th>LoanOriginationQuarter31</th>\n",
              "      <th>LoanOriginationQuarter32</th>\n",
              "      <th>Target</th>\n",
              "    </tr>\n",
              "  </thead>\n",
              "  <tbody>\n",
              "    <tr>\n",
              "      <th>Term</th>\n",
              "      <td>1.000000</td>\n",
              "      <td>-0.011130</td>\n",
              "      <td>0.020183</td>\n",
              "      <td>0.020653</td>\n",
              "      <td>0.052893</td>\n",
              "      <td>-0.099385</td>\n",
              "      <td>0.157068</td>\n",
              "      <td>0.027862</td>\n",
              "      <td>-0.022922</td>\n",
              "      <td>0.082892</td>\n",
              "      <td>...</td>\n",
              "      <td>-0.006432</td>\n",
              "      <td>-0.067936</td>\n",
              "      <td>-0.070617</td>\n",
              "      <td>-0.031701</td>\n",
              "      <td>-0.052530</td>\n",
              "      <td>-0.052149</td>\n",
              "      <td>-0.080524</td>\n",
              "      <td>0.055308</td>\n",
              "      <td>0.122324</td>\n",
              "      <td>-0.286212</td>\n",
              "    </tr>\n",
              "    <tr>\n",
              "      <th>BorrowerAPR</th>\n",
              "      <td>-0.011130</td>\n",
              "      <td>1.000000</td>\n",
              "      <td>0.989508</td>\n",
              "      <td>0.989015</td>\n",
              "      <td>0.783230</td>\n",
              "      <td>0.821902</td>\n",
              "      <td>0.702284</td>\n",
              "      <td>-0.573682</td>\n",
              "      <td>0.138687</td>\n",
              "      <td>-0.008734</td>\n",
              "      <td>...</td>\n",
              "      <td>0.000002</td>\n",
              "      <td>-0.028036</td>\n",
              "      <td>-0.073464</td>\n",
              "      <td>0.004918</td>\n",
              "      <td>0.003456</td>\n",
              "      <td>0.085399</td>\n",
              "      <td>0.100159</td>\n",
              "      <td>0.062705</td>\n",
              "      <td>-0.066780</td>\n",
              "      <td>-0.088517</td>\n",
              "    </tr>\n",
              "    <tr>\n",
              "      <th>BorrowerRate</th>\n",
              "      <td>0.020183</td>\n",
              "      <td>0.989508</td>\n",
              "      <td>1.000000</td>\n",
              "      <td>0.999211</td>\n",
              "      <td>0.785265</td>\n",
              "      <td>0.820838</td>\n",
              "      <td>0.724194</td>\n",
              "      <td>-0.559510</td>\n",
              "      <td>0.110783</td>\n",
              "      <td>-0.017732</td>\n",
              "      <td>...</td>\n",
              "      <td>-0.018404</td>\n",
              "      <td>0.002519</td>\n",
              "      <td>-0.044162</td>\n",
              "      <td>0.007213</td>\n",
              "      <td>0.009996</td>\n",
              "      <td>0.080685</td>\n",
              "      <td>0.087711</td>\n",
              "      <td>0.050401</td>\n",
              "      <td>-0.092882</td>\n",
              "      <td>-0.060008</td>\n",
              "    </tr>\n",
              "    <tr>\n",
              "      <th>LenderYield</th>\n",
              "      <td>0.020653</td>\n",
              "      <td>0.989015</td>\n",
              "      <td>0.999211</td>\n",
              "      <td>1.000000</td>\n",
              "      <td>0.788508</td>\n",
              "      <td>0.824167</td>\n",
              "      <td>0.727123</td>\n",
              "      <td>-0.561821</td>\n",
              "      <td>0.112604</td>\n",
              "      <td>-0.016696</td>\n",
              "      <td>...</td>\n",
              "      <td>-0.018584</td>\n",
              "      <td>0.003897</td>\n",
              "      <td>-0.041498</td>\n",
              "      <td>0.007248</td>\n",
              "      <td>0.010027</td>\n",
              "      <td>0.081023</td>\n",
              "      <td>0.088226</td>\n",
              "      <td>0.050775</td>\n",
              "      <td>-0.092937</td>\n",
              "      <td>-0.058009</td>\n",
              "    </tr>\n",
              "    <tr>\n",
              "      <th>EstimatedEffectiveYield</th>\n",
              "      <td>0.052893</td>\n",
              "      <td>0.783230</td>\n",
              "      <td>0.785265</td>\n",
              "      <td>0.788508</td>\n",
              "      <td>1.000000</td>\n",
              "      <td>0.882873</td>\n",
              "      <td>0.816400</td>\n",
              "      <td>-0.650061</td>\n",
              "      <td>0.090301</td>\n",
              "      <td>-0.021985</td>\n",
              "      <td>...</td>\n",
              "      <td>-0.000079</td>\n",
              "      <td>-0.000833</td>\n",
              "      <td>-0.000866</td>\n",
              "      <td>-0.000389</td>\n",
              "      <td>-0.106280</td>\n",
              "      <td>-0.089368</td>\n",
              "      <td>0.134627</td>\n",
              "      <td>0.065131</td>\n",
              "      <td>-0.102077</td>\n",
              "      <td>-0.029668</td>\n",
              "    </tr>\n",
              "    <tr>\n",
              "      <th>...</th>\n",
              "      <td>...</td>\n",
              "      <td>...</td>\n",
              "      <td>...</td>\n",
              "      <td>...</td>\n",
              "      <td>...</td>\n",
              "      <td>...</td>\n",
              "      <td>...</td>\n",
              "      <td>...</td>\n",
              "      <td>...</td>\n",
              "      <td>...</td>\n",
              "      <td>...</td>\n",
              "      <td>...</td>\n",
              "      <td>...</td>\n",
              "      <td>...</td>\n",
              "      <td>...</td>\n",
              "      <td>...</td>\n",
              "      <td>...</td>\n",
              "      <td>...</td>\n",
              "      <td>...</td>\n",
              "      <td>...</td>\n",
              "      <td>...</td>\n",
              "    </tr>\n",
              "    <tr>\n",
              "      <th>LoanOriginationQuarter29</th>\n",
              "      <td>-0.052149</td>\n",
              "      <td>0.085399</td>\n",
              "      <td>0.080685</td>\n",
              "      <td>0.081023</td>\n",
              "      <td>-0.089368</td>\n",
              "      <td>0.060690</td>\n",
              "      <td>0.064297</td>\n",
              "      <td>0.029527</td>\n",
              "      <td>0.043016</td>\n",
              "      <td>-0.008577</td>\n",
              "      <td>...</td>\n",
              "      <td>-0.001659</td>\n",
              "      <td>-0.017517</td>\n",
              "      <td>-0.018209</td>\n",
              "      <td>-0.008174</td>\n",
              "      <td>-0.013545</td>\n",
              "      <td>1.000000</td>\n",
              "      <td>-0.022507</td>\n",
              "      <td>-0.023990</td>\n",
              "      <td>-0.045483</td>\n",
              "      <td>0.119757</td>\n",
              "    </tr>\n",
              "    <tr>\n",
              "      <th>LoanOriginationQuarter30</th>\n",
              "      <td>-0.080524</td>\n",
              "      <td>0.100159</td>\n",
              "      <td>0.087711</td>\n",
              "      <td>0.088226</td>\n",
              "      <td>0.134627</td>\n",
              "      <td>0.073687</td>\n",
              "      <td>0.155820</td>\n",
              "      <td>-0.009062</td>\n",
              "      <td>0.059244</td>\n",
              "      <td>-0.005286</td>\n",
              "      <td>...</td>\n",
              "      <td>-0.002621</td>\n",
              "      <td>-0.027681</td>\n",
              "      <td>-0.028774</td>\n",
              "      <td>-0.012917</td>\n",
              "      <td>-0.021404</td>\n",
              "      <td>-0.022507</td>\n",
              "      <td>1.000000</td>\n",
              "      <td>-0.037909</td>\n",
              "      <td>-0.071872</td>\n",
              "      <td>0.036926</td>\n",
              "    </tr>\n",
              "    <tr>\n",
              "      <th>LoanOriginationQuarter31</th>\n",
              "      <td>0.055308</td>\n",
              "      <td>0.062705</td>\n",
              "      <td>0.050401</td>\n",
              "      <td>0.050775</td>\n",
              "      <td>0.065131</td>\n",
              "      <td>0.031298</td>\n",
              "      <td>0.053435</td>\n",
              "      <td>0.038673</td>\n",
              "      <td>0.057784</td>\n",
              "      <td>0.011727</td>\n",
              "      <td>...</td>\n",
              "      <td>-0.002793</td>\n",
              "      <td>-0.029505</td>\n",
              "      <td>-0.030670</td>\n",
              "      <td>-0.013768</td>\n",
              "      <td>-0.022814</td>\n",
              "      <td>-0.023990</td>\n",
              "      <td>-0.037909</td>\n",
              "      <td>1.000000</td>\n",
              "      <td>-0.076608</td>\n",
              "      <td>-0.044944</td>\n",
              "    </tr>\n",
              "    <tr>\n",
              "      <th>LoanOriginationQuarter32</th>\n",
              "      <td>0.122324</td>\n",
              "      <td>-0.066780</td>\n",
              "      <td>-0.092882</td>\n",
              "      <td>-0.092937</td>\n",
              "      <td>-0.102077</td>\n",
              "      <td>-0.076587</td>\n",
              "      <td>-0.223027</td>\n",
              "      <td>-0.032954</td>\n",
              "      <td>-0.036691</td>\n",
              "      <td>0.055201</td>\n",
              "      <td>...</td>\n",
              "      <td>-0.005296</td>\n",
              "      <td>-0.055940</td>\n",
              "      <td>-0.058148</td>\n",
              "      <td>-0.026103</td>\n",
              "      <td>-0.043255</td>\n",
              "      <td>-0.045483</td>\n",
              "      <td>-0.071872</td>\n",
              "      <td>-0.076608</td>\n",
              "      <td>1.000000</td>\n",
              "      <td>-0.248185</td>\n",
              "    </tr>\n",
              "    <tr>\n",
              "      <th>Target</th>\n",
              "      <td>-0.286212</td>\n",
              "      <td>-0.088517</td>\n",
              "      <td>-0.060008</td>\n",
              "      <td>-0.058009</td>\n",
              "      <td>-0.029668</td>\n",
              "      <td>0.048627</td>\n",
              "      <td>0.089041</td>\n",
              "      <td>0.104625</td>\n",
              "      <td>0.006989</td>\n",
              "      <td>-0.093612</td>\n",
              "      <td>...</td>\n",
              "      <td>0.019617</td>\n",
              "      <td>0.073812</td>\n",
              "      <td>0.099813</td>\n",
              "      <td>0.056013</td>\n",
              "      <td>0.122845</td>\n",
              "      <td>0.119757</td>\n",
              "      <td>0.036926</td>\n",
              "      <td>-0.044944</td>\n",
              "      <td>-0.248185</td>\n",
              "      <td>1.000000</td>\n",
              "    </tr>\n",
              "  </tbody>\n",
              "</table>\n",
              "<p>246 rows × 246 columns</p>\n",
              "</div>\n",
              "      <button class=\"colab-df-convert\" onclick=\"convertToInteractive('df-727f5132-848a-4d77-a8af-27140051681d')\"\n",
              "              title=\"Convert this dataframe to an interactive table.\"\n",
              "              style=\"display:none;\">\n",
              "        \n",
              "  <svg xmlns=\"http://www.w3.org/2000/svg\" height=\"24px\"viewBox=\"0 0 24 24\"\n",
              "       width=\"24px\">\n",
              "    <path d=\"M0 0h24v24H0V0z\" fill=\"none\"/>\n",
              "    <path d=\"M18.56 5.44l.94 2.06.94-2.06 2.06-.94-2.06-.94-.94-2.06-.94 2.06-2.06.94zm-11 1L8.5 8.5l.94-2.06 2.06-.94-2.06-.94L8.5 2.5l-.94 2.06-2.06.94zm10 10l.94 2.06.94-2.06 2.06-.94-2.06-.94-.94-2.06-.94 2.06-2.06.94z\"/><path d=\"M17.41 7.96l-1.37-1.37c-.4-.4-.92-.59-1.43-.59-.52 0-1.04.2-1.43.59L10.3 9.45l-7.72 7.72c-.78.78-.78 2.05 0 2.83L4 21.41c.39.39.9.59 1.41.59.51 0 1.02-.2 1.41-.59l7.78-7.78 2.81-2.81c.8-.78.8-2.07 0-2.86zM5.41 20L4 18.59l7.72-7.72 1.47 1.35L5.41 20z\"/>\n",
              "  </svg>\n",
              "      </button>\n",
              "      \n",
              "  <style>\n",
              "    .colab-df-container {\n",
              "      display:flex;\n",
              "      flex-wrap:wrap;\n",
              "      gap: 12px;\n",
              "    }\n",
              "\n",
              "    .colab-df-convert {\n",
              "      background-color: #E8F0FE;\n",
              "      border: none;\n",
              "      border-radius: 50%;\n",
              "      cursor: pointer;\n",
              "      display: none;\n",
              "      fill: #1967D2;\n",
              "      height: 32px;\n",
              "      padding: 0 0 0 0;\n",
              "      width: 32px;\n",
              "    }\n",
              "\n",
              "    .colab-df-convert:hover {\n",
              "      background-color: #E2EBFA;\n",
              "      box-shadow: 0px 1px 2px rgba(60, 64, 67, 0.3), 0px 1px 3px 1px rgba(60, 64, 67, 0.15);\n",
              "      fill: #174EA6;\n",
              "    }\n",
              "\n",
              "    [theme=dark] .colab-df-convert {\n",
              "      background-color: #3B4455;\n",
              "      fill: #D2E3FC;\n",
              "    }\n",
              "\n",
              "    [theme=dark] .colab-df-convert:hover {\n",
              "      background-color: #434B5C;\n",
              "      box-shadow: 0px 1px 3px 1px rgba(0, 0, 0, 0.15);\n",
              "      filter: drop-shadow(0px 1px 2px rgba(0, 0, 0, 0.3));\n",
              "      fill: #FFFFFF;\n",
              "    }\n",
              "  </style>\n",
              "\n",
              "      <script>\n",
              "        const buttonEl =\n",
              "          document.querySelector('#df-727f5132-848a-4d77-a8af-27140051681d button.colab-df-convert');\n",
              "        buttonEl.style.display =\n",
              "          google.colab.kernel.accessAllowed ? 'block' : 'none';\n",
              "\n",
              "        async function convertToInteractive(key) {\n",
              "          const element = document.querySelector('#df-727f5132-848a-4d77-a8af-27140051681d');\n",
              "          const dataTable =\n",
              "            await google.colab.kernel.invokeFunction('convertToInteractive',\n",
              "                                                     [key], {});\n",
              "          if (!dataTable) return;\n",
              "\n",
              "          const docLinkHtml = 'Like what you see? Visit the ' +\n",
              "            '<a target=\"_blank\" href=https://colab.research.google.com/notebooks/data_table.ipynb>data table notebook</a>'\n",
              "            + ' to learn more about interactive tables.';\n",
              "          element.innerHTML = '';\n",
              "          dataTable['output_type'] = 'display_data';\n",
              "          await google.colab.output.renderOutput(dataTable, element);\n",
              "          const docLink = document.createElement('div');\n",
              "          docLink.innerHTML = docLinkHtml;\n",
              "          element.appendChild(docLink);\n",
              "        }\n",
              "      </script>\n",
              "    </div>\n",
              "  </div>\n",
              "  "
            ]
          },
          "metadata": {},
          "execution_count": 115
        }
      ]
    },
    {
      "cell_type": "code",
      "source": [
        ""
      ],
      "metadata": {
        "id": "6VvLdSAs5ZV8"
      },
      "execution_count": 108,
      "outputs": []
    },
    {
      "cell_type": "code",
      "source": [
        ""
      ],
      "metadata": {
        "id": "AzIxOhtd5y-9"
      },
      "execution_count": 108,
      "outputs": []
    },
    {
      "cell_type": "markdown",
      "source": [
        "# Feature Selection"
      ],
      "metadata": {
        "id": "W_QGIieq6B81"
      }
    },
    {
      "cell_type": "code",
      "source": [
        "columns=np.full(corr.shape[0],False,dtype=bool)\n",
        "columns"
      ],
      "metadata": {
        "colab": {
          "base_uri": "https://localhost:8080/"
        },
        "id": "Fyi5AAvJ52ys",
        "outputId": "df586459-7ed6-431b-9d4e-8f0c4a274d77"
      },
      "execution_count": 116,
      "outputs": [
        {
          "output_type": "execute_result",
          "data": {
            "text/plain": [
              "array([False, False, False, False, False, False, False, False, False,\n",
              "       False, False, False, False, False, False, False, False, False,\n",
              "       False, False, False, False, False, False, False, False, False,\n",
              "       False, False, False, False, False, False, False, False, False,\n",
              "       False, False, False, False, False, False, False, False, False,\n",
              "       False, False, False, False, False, False, False, False, False,\n",
              "       False, False, False, False, False, False, False, False, False,\n",
              "       False, False, False, False, False, False, False, False, False,\n",
              "       False, False, False, False, False, False, False, False, False,\n",
              "       False, False, False, False, False, False, False, False, False,\n",
              "       False, False, False, False, False, False, False, False, False,\n",
              "       False, False, False, False, False, False, False, False, False,\n",
              "       False, False, False, False, False, False, False, False, False,\n",
              "       False, False, False, False, False, False, False, False, False,\n",
              "       False, False, False, False, False, False, False, False, False,\n",
              "       False, False, False, False, False, False, False, False, False,\n",
              "       False, False, False, False, False, False, False, False, False,\n",
              "       False, False, False, False, False, False, False, False, False,\n",
              "       False, False, False, False, False, False, False, False, False,\n",
              "       False, False, False, False, False, False, False, False, False,\n",
              "       False, False, False, False, False, False, False, False, False,\n",
              "       False, False, False, False, False, False, False, False, False,\n",
              "       False, False, False, False, False, False, False, False, False,\n",
              "       False, False, False, False, False, False, False, False, False,\n",
              "       False, False, False, False, False, False, False, False, False,\n",
              "       False, False, False, False, False, False, False, False, False,\n",
              "       False, False, False, False, False, False, False, False, False,\n",
              "       False, False, False])"
            ]
          },
          "metadata": {},
          "execution_count": 116
        }
      ]
    },
    {
      "cell_type": "code",
      "source": [
        "for i in range(0,corr.shape[0]):\n",
        "    \n",
        "    if abs(corr.iloc[-1,i]) > 0.4:\n",
        "        print(corr.iloc[-1,i])\n",
        "        columns[i]=True"
      ],
      "metadata": {
        "colab": {
          "base_uri": "https://localhost:8080/"
        },
        "id": "tK4JBBei6Hts",
        "outputId": "f5bd7e2b-57ed-46b5-ecf6-9da3c0b67041"
      },
      "execution_count": 117,
      "outputs": [
        {
          "output_type": "stream",
          "name": "stdout",
          "text": [
            "0.5108495215243296\n",
            "0.45369823778056273\n",
            "0.5483876378803637\n",
            "-0.5081321472580486\n",
            "-0.5086453639650773\n",
            "-0.5073186252939289\n",
            "1.0\n"
          ]
        }
      ]
    },
    {
      "cell_type": "code",
      "source": [
        "selected_columns=data.columns[columns]\n",
        "selected_columns"
      ],
      "metadata": {
        "colab": {
          "base_uri": "https://localhost:8080/"
        },
        "id": "V0qh7eAD6MdV",
        "outputId": "91050c17-7ef1-48c6-92d5-c16fc5c90fe2"
      },
      "execution_count": 118,
      "outputs": [
        {
          "output_type": "execute_result",
          "data": {
            "text/plain": [
              "Index(['LoanMonthsSinceOrigination', 'LP_CustomerPayments',\n",
              "       'LP_CustomerPrincipalPayments', 'LoanOriginationDate_date_year',\n",
              "       'ListingCreationDate_date_year', 'DateCreditPulled_date_year',\n",
              "       'Target'],\n",
              "      dtype='object')"
            ]
          },
          "metadata": {},
          "execution_count": 118
        }
      ]
    },
    {
      "cell_type": "code",
      "source": [
        "high_features=data[selected_columns]\n",
        "high_features.head()"
      ],
      "metadata": {
        "colab": {
          "base_uri": "https://localhost:8080/",
          "height": 270
        },
        "id": "ywOFV9q26OHV",
        "outputId": "eadd7e4b-569f-46f3-b5ec-401425038695"
      },
      "execution_count": 119,
      "outputs": [
        {
          "output_type": "execute_result",
          "data": {
            "text/plain": [
              "   LoanMonthsSinceOrigination  LP_CustomerPayments  \\\n",
              "0                          78             11396.14   \n",
              "1                           0                 0.00   \n",
              "2                          86              4186.63   \n",
              "3                          16              5143.20   \n",
              "4                           6              2819.85   \n",
              "\n",
              "   LP_CustomerPrincipalPayments  LoanOriginationDate_date_year  \\\n",
              "0                       9425.00                         2007.0   \n",
              "1                          0.00                         2014.0   \n",
              "2                       3001.00                         2007.0   \n",
              "3                       4091.09                         2012.0   \n",
              "4                       1563.22                         2013.0   \n",
              "\n",
              "   ListingCreationDate_date_year  DateCreditPulled_date_year  Target  \n",
              "0                         2007.0                      2007.0       1  \n",
              "1                         2014.0                      2014.0       0  \n",
              "2                         2007.0                      2007.0       1  \n",
              "3                         2012.0                      2012.0       0  \n",
              "4                         2013.0                      2013.0       0  "
            ],
            "text/html": [
              "\n",
              "  <div id=\"df-f4aa071f-2a96-49c3-952f-2149b386273f\">\n",
              "    <div class=\"colab-df-container\">\n",
              "      <div>\n",
              "<style scoped>\n",
              "    .dataframe tbody tr th:only-of-type {\n",
              "        vertical-align: middle;\n",
              "    }\n",
              "\n",
              "    .dataframe tbody tr th {\n",
              "        vertical-align: top;\n",
              "    }\n",
              "\n",
              "    .dataframe thead th {\n",
              "        text-align: right;\n",
              "    }\n",
              "</style>\n",
              "<table border=\"1\" class=\"dataframe\">\n",
              "  <thead>\n",
              "    <tr style=\"text-align: right;\">\n",
              "      <th></th>\n",
              "      <th>LoanMonthsSinceOrigination</th>\n",
              "      <th>LP_CustomerPayments</th>\n",
              "      <th>LP_CustomerPrincipalPayments</th>\n",
              "      <th>LoanOriginationDate_date_year</th>\n",
              "      <th>ListingCreationDate_date_year</th>\n",
              "      <th>DateCreditPulled_date_year</th>\n",
              "      <th>Target</th>\n",
              "    </tr>\n",
              "  </thead>\n",
              "  <tbody>\n",
              "    <tr>\n",
              "      <th>0</th>\n",
              "      <td>78</td>\n",
              "      <td>11396.14</td>\n",
              "      <td>9425.00</td>\n",
              "      <td>2007.0</td>\n",
              "      <td>2007.0</td>\n",
              "      <td>2007.0</td>\n",
              "      <td>1</td>\n",
              "    </tr>\n",
              "    <tr>\n",
              "      <th>1</th>\n",
              "      <td>0</td>\n",
              "      <td>0.00</td>\n",
              "      <td>0.00</td>\n",
              "      <td>2014.0</td>\n",
              "      <td>2014.0</td>\n",
              "      <td>2014.0</td>\n",
              "      <td>0</td>\n",
              "    </tr>\n",
              "    <tr>\n",
              "      <th>2</th>\n",
              "      <td>86</td>\n",
              "      <td>4186.63</td>\n",
              "      <td>3001.00</td>\n",
              "      <td>2007.0</td>\n",
              "      <td>2007.0</td>\n",
              "      <td>2007.0</td>\n",
              "      <td>1</td>\n",
              "    </tr>\n",
              "    <tr>\n",
              "      <th>3</th>\n",
              "      <td>16</td>\n",
              "      <td>5143.20</td>\n",
              "      <td>4091.09</td>\n",
              "      <td>2012.0</td>\n",
              "      <td>2012.0</td>\n",
              "      <td>2012.0</td>\n",
              "      <td>0</td>\n",
              "    </tr>\n",
              "    <tr>\n",
              "      <th>4</th>\n",
              "      <td>6</td>\n",
              "      <td>2819.85</td>\n",
              "      <td>1563.22</td>\n",
              "      <td>2013.0</td>\n",
              "      <td>2013.0</td>\n",
              "      <td>2013.0</td>\n",
              "      <td>0</td>\n",
              "    </tr>\n",
              "  </tbody>\n",
              "</table>\n",
              "</div>\n",
              "      <button class=\"colab-df-convert\" onclick=\"convertToInteractive('df-f4aa071f-2a96-49c3-952f-2149b386273f')\"\n",
              "              title=\"Convert this dataframe to an interactive table.\"\n",
              "              style=\"display:none;\">\n",
              "        \n",
              "  <svg xmlns=\"http://www.w3.org/2000/svg\" height=\"24px\"viewBox=\"0 0 24 24\"\n",
              "       width=\"24px\">\n",
              "    <path d=\"M0 0h24v24H0V0z\" fill=\"none\"/>\n",
              "    <path d=\"M18.56 5.44l.94 2.06.94-2.06 2.06-.94-2.06-.94-.94-2.06-.94 2.06-2.06.94zm-11 1L8.5 8.5l.94-2.06 2.06-.94-2.06-.94L8.5 2.5l-.94 2.06-2.06.94zm10 10l.94 2.06.94-2.06 2.06-.94-2.06-.94-.94-2.06-.94 2.06-2.06.94z\"/><path d=\"M17.41 7.96l-1.37-1.37c-.4-.4-.92-.59-1.43-.59-.52 0-1.04.2-1.43.59L10.3 9.45l-7.72 7.72c-.78.78-.78 2.05 0 2.83L4 21.41c.39.39.9.59 1.41.59.51 0 1.02-.2 1.41-.59l7.78-7.78 2.81-2.81c.8-.78.8-2.07 0-2.86zM5.41 20L4 18.59l7.72-7.72 1.47 1.35L5.41 20z\"/>\n",
              "  </svg>\n",
              "      </button>\n",
              "      \n",
              "  <style>\n",
              "    .colab-df-container {\n",
              "      display:flex;\n",
              "      flex-wrap:wrap;\n",
              "      gap: 12px;\n",
              "    }\n",
              "\n",
              "    .colab-df-convert {\n",
              "      background-color: #E8F0FE;\n",
              "      border: none;\n",
              "      border-radius: 50%;\n",
              "      cursor: pointer;\n",
              "      display: none;\n",
              "      fill: #1967D2;\n",
              "      height: 32px;\n",
              "      padding: 0 0 0 0;\n",
              "      width: 32px;\n",
              "    }\n",
              "\n",
              "    .colab-df-convert:hover {\n",
              "      background-color: #E2EBFA;\n",
              "      box-shadow: 0px 1px 2px rgba(60, 64, 67, 0.3), 0px 1px 3px 1px rgba(60, 64, 67, 0.15);\n",
              "      fill: #174EA6;\n",
              "    }\n",
              "\n",
              "    [theme=dark] .colab-df-convert {\n",
              "      background-color: #3B4455;\n",
              "      fill: #D2E3FC;\n",
              "    }\n",
              "\n",
              "    [theme=dark] .colab-df-convert:hover {\n",
              "      background-color: #434B5C;\n",
              "      box-shadow: 0px 1px 3px 1px rgba(0, 0, 0, 0.15);\n",
              "      filter: drop-shadow(0px 1px 2px rgba(0, 0, 0, 0.3));\n",
              "      fill: #FFFFFF;\n",
              "    }\n",
              "  </style>\n",
              "\n",
              "      <script>\n",
              "        const buttonEl =\n",
              "          document.querySelector('#df-f4aa071f-2a96-49c3-952f-2149b386273f button.colab-df-convert');\n",
              "        buttonEl.style.display =\n",
              "          google.colab.kernel.accessAllowed ? 'block' : 'none';\n",
              "\n",
              "        async function convertToInteractive(key) {\n",
              "          const element = document.querySelector('#df-f4aa071f-2a96-49c3-952f-2149b386273f');\n",
              "          const dataTable =\n",
              "            await google.colab.kernel.invokeFunction('convertToInteractive',\n",
              "                                                     [key], {});\n",
              "          if (!dataTable) return;\n",
              "\n",
              "          const docLinkHtml = 'Like what you see? Visit the ' +\n",
              "            '<a target=\"_blank\" href=https://colab.research.google.com/notebooks/data_table.ipynb>data table notebook</a>'\n",
              "            + ' to learn more about interactive tables.';\n",
              "          element.innerHTML = '';\n",
              "          dataTable['output_type'] = 'display_data';\n",
              "          await google.colab.output.renderOutput(dataTable, element);\n",
              "          const docLink = document.createElement('div');\n",
              "          docLink.innerHTML = docLinkHtml;\n",
              "          element.appendChild(docLink);\n",
              "        }\n",
              "      </script>\n",
              "    </div>\n",
              "  </div>\n",
              "  "
            ]
          },
          "metadata": {},
          "execution_count": 119
        }
      ]
    },
    {
      "cell_type": "code",
      "source": [
        "data_copy=data.drop(selected_columns,axis=1)\n"
      ],
      "metadata": {
        "id": "F4HYlu1J6VkN"
      },
      "execution_count": 120,
      "outputs": []
    },
    {
      "cell_type": "code",
      "source": [
        "data_copy.head()\n"
      ],
      "metadata": {
        "colab": {
          "base_uri": "https://localhost:8080/",
          "height": 317
        },
        "id": "pEMX5qpV6e_2",
        "outputId": "44374190-d926-4b83-d134-3467f5d905d7"
      },
      "execution_count": 121,
      "outputs": [
        {
          "output_type": "execute_result",
          "data": {
            "text/plain": [
              "   Term  BorrowerAPR  BorrowerRate  LenderYield  EstimatedEffectiveYield  \\\n",
              "0    36      0.16516        0.1580       0.1380                 0.168661   \n",
              "1    36      0.12016        0.0920       0.0820                 0.079600   \n",
              "2    36      0.28269        0.2750       0.2400                 0.168661   \n",
              "3    36      0.12528        0.0974       0.0874                 0.084900   \n",
              "4    36      0.24614        0.2085       0.1985                 0.183160   \n",
              "\n",
              "   EstimatedLoss  EstimatedReturn  ProsperScore  ListingCategory (numeric)  \\\n",
              "0       0.080306         0.096068      5.950067                   0.000000   \n",
              "1       0.024900         0.054700      7.000000                   2.000000   \n",
              "2       0.080306         0.096068      5.950067                   0.000000   \n",
              "3       0.024900         0.060000      9.000000                   2.203357   \n",
              "4       0.092500         0.090660      4.000000                   2.000000   \n",
              "\n",
              "   EmploymentStatusDuration  ...  LoanOriginationQuarter23  \\\n",
              "0                  2.000000  ...                       0.0   \n",
              "1                 44.000000  ...                       0.0   \n",
              "2                 96.071582  ...                       0.0   \n",
              "3                113.000000  ...                       0.0   \n",
              "4                 44.000000  ...                       1.0   \n",
              "\n",
              "   LoanOriginationQuarter24  LoanOriginationQuarter25  \\\n",
              "0                       0.0                       0.0   \n",
              "1                       0.0                       0.0   \n",
              "2                       0.0                       0.0   \n",
              "3                       0.0                       0.0   \n",
              "4                       0.0                       0.0   \n",
              "\n",
              "   LoanOriginationQuarter26  LoanOriginationQuarter27  \\\n",
              "0                       0.0                       0.0   \n",
              "1                       0.0                       0.0   \n",
              "2                       0.0                       0.0   \n",
              "3                       0.0                       0.0   \n",
              "4                       0.0                       0.0   \n",
              "\n",
              "   LoanOriginationQuarter28  LoanOriginationQuarter29  \\\n",
              "0                       0.0                       0.0   \n",
              "1                       0.0                       0.0   \n",
              "2                       0.0                       0.0   \n",
              "3                       0.0                       0.0   \n",
              "4                       0.0                       0.0   \n",
              "\n",
              "   LoanOriginationQuarter30  LoanOriginationQuarter31  \\\n",
              "0                       0.0                       0.0   \n",
              "1                       0.0                       0.0   \n",
              "2                       0.0                       0.0   \n",
              "3                       0.0                       1.0   \n",
              "4                       0.0                       0.0   \n",
              "\n",
              "   LoanOriginationQuarter32  \n",
              "0                       0.0  \n",
              "1                       0.0  \n",
              "2                       0.0  \n",
              "3                       0.0  \n",
              "4                       0.0  \n",
              "\n",
              "[5 rows x 239 columns]"
            ],
            "text/html": [
              "\n",
              "  <div id=\"df-f3e3943b-48c8-46b4-a88d-fb5775be7832\">\n",
              "    <div class=\"colab-df-container\">\n",
              "      <div>\n",
              "<style scoped>\n",
              "    .dataframe tbody tr th:only-of-type {\n",
              "        vertical-align: middle;\n",
              "    }\n",
              "\n",
              "    .dataframe tbody tr th {\n",
              "        vertical-align: top;\n",
              "    }\n",
              "\n",
              "    .dataframe thead th {\n",
              "        text-align: right;\n",
              "    }\n",
              "</style>\n",
              "<table border=\"1\" class=\"dataframe\">\n",
              "  <thead>\n",
              "    <tr style=\"text-align: right;\">\n",
              "      <th></th>\n",
              "      <th>Term</th>\n",
              "      <th>BorrowerAPR</th>\n",
              "      <th>BorrowerRate</th>\n",
              "      <th>LenderYield</th>\n",
              "      <th>EstimatedEffectiveYield</th>\n",
              "      <th>EstimatedLoss</th>\n",
              "      <th>EstimatedReturn</th>\n",
              "      <th>ProsperScore</th>\n",
              "      <th>ListingCategory (numeric)</th>\n",
              "      <th>EmploymentStatusDuration</th>\n",
              "      <th>...</th>\n",
              "      <th>LoanOriginationQuarter23</th>\n",
              "      <th>LoanOriginationQuarter24</th>\n",
              "      <th>LoanOriginationQuarter25</th>\n",
              "      <th>LoanOriginationQuarter26</th>\n",
              "      <th>LoanOriginationQuarter27</th>\n",
              "      <th>LoanOriginationQuarter28</th>\n",
              "      <th>LoanOriginationQuarter29</th>\n",
              "      <th>LoanOriginationQuarter30</th>\n",
              "      <th>LoanOriginationQuarter31</th>\n",
              "      <th>LoanOriginationQuarter32</th>\n",
              "    </tr>\n",
              "  </thead>\n",
              "  <tbody>\n",
              "    <tr>\n",
              "      <th>0</th>\n",
              "      <td>36</td>\n",
              "      <td>0.16516</td>\n",
              "      <td>0.1580</td>\n",
              "      <td>0.1380</td>\n",
              "      <td>0.168661</td>\n",
              "      <td>0.080306</td>\n",
              "      <td>0.096068</td>\n",
              "      <td>5.950067</td>\n",
              "      <td>0.000000</td>\n",
              "      <td>2.000000</td>\n",
              "      <td>...</td>\n",
              "      <td>0.0</td>\n",
              "      <td>0.0</td>\n",
              "      <td>0.0</td>\n",
              "      <td>0.0</td>\n",
              "      <td>0.0</td>\n",
              "      <td>0.0</td>\n",
              "      <td>0.0</td>\n",
              "      <td>0.0</td>\n",
              "      <td>0.0</td>\n",
              "      <td>0.0</td>\n",
              "    </tr>\n",
              "    <tr>\n",
              "      <th>1</th>\n",
              "      <td>36</td>\n",
              "      <td>0.12016</td>\n",
              "      <td>0.0920</td>\n",
              "      <td>0.0820</td>\n",
              "      <td>0.079600</td>\n",
              "      <td>0.024900</td>\n",
              "      <td>0.054700</td>\n",
              "      <td>7.000000</td>\n",
              "      <td>2.000000</td>\n",
              "      <td>44.000000</td>\n",
              "      <td>...</td>\n",
              "      <td>0.0</td>\n",
              "      <td>0.0</td>\n",
              "      <td>0.0</td>\n",
              "      <td>0.0</td>\n",
              "      <td>0.0</td>\n",
              "      <td>0.0</td>\n",
              "      <td>0.0</td>\n",
              "      <td>0.0</td>\n",
              "      <td>0.0</td>\n",
              "      <td>0.0</td>\n",
              "    </tr>\n",
              "    <tr>\n",
              "      <th>2</th>\n",
              "      <td>36</td>\n",
              "      <td>0.28269</td>\n",
              "      <td>0.2750</td>\n",
              "      <td>0.2400</td>\n",
              "      <td>0.168661</td>\n",
              "      <td>0.080306</td>\n",
              "      <td>0.096068</td>\n",
              "      <td>5.950067</td>\n",
              "      <td>0.000000</td>\n",
              "      <td>96.071582</td>\n",
              "      <td>...</td>\n",
              "      <td>0.0</td>\n",
              "      <td>0.0</td>\n",
              "      <td>0.0</td>\n",
              "      <td>0.0</td>\n",
              "      <td>0.0</td>\n",
              "      <td>0.0</td>\n",
              "      <td>0.0</td>\n",
              "      <td>0.0</td>\n",
              "      <td>0.0</td>\n",
              "      <td>0.0</td>\n",
              "    </tr>\n",
              "    <tr>\n",
              "      <th>3</th>\n",
              "      <td>36</td>\n",
              "      <td>0.12528</td>\n",
              "      <td>0.0974</td>\n",
              "      <td>0.0874</td>\n",
              "      <td>0.084900</td>\n",
              "      <td>0.024900</td>\n",
              "      <td>0.060000</td>\n",
              "      <td>9.000000</td>\n",
              "      <td>2.203357</td>\n",
              "      <td>113.000000</td>\n",
              "      <td>...</td>\n",
              "      <td>0.0</td>\n",
              "      <td>0.0</td>\n",
              "      <td>0.0</td>\n",
              "      <td>0.0</td>\n",
              "      <td>0.0</td>\n",
              "      <td>0.0</td>\n",
              "      <td>0.0</td>\n",
              "      <td>0.0</td>\n",
              "      <td>1.0</td>\n",
              "      <td>0.0</td>\n",
              "    </tr>\n",
              "    <tr>\n",
              "      <th>4</th>\n",
              "      <td>36</td>\n",
              "      <td>0.24614</td>\n",
              "      <td>0.2085</td>\n",
              "      <td>0.1985</td>\n",
              "      <td>0.183160</td>\n",
              "      <td>0.092500</td>\n",
              "      <td>0.090660</td>\n",
              "      <td>4.000000</td>\n",
              "      <td>2.000000</td>\n",
              "      <td>44.000000</td>\n",
              "      <td>...</td>\n",
              "      <td>1.0</td>\n",
              "      <td>0.0</td>\n",
              "      <td>0.0</td>\n",
              "      <td>0.0</td>\n",
              "      <td>0.0</td>\n",
              "      <td>0.0</td>\n",
              "      <td>0.0</td>\n",
              "      <td>0.0</td>\n",
              "      <td>0.0</td>\n",
              "      <td>0.0</td>\n",
              "    </tr>\n",
              "  </tbody>\n",
              "</table>\n",
              "<p>5 rows × 239 columns</p>\n",
              "</div>\n",
              "      <button class=\"colab-df-convert\" onclick=\"convertToInteractive('df-f3e3943b-48c8-46b4-a88d-fb5775be7832')\"\n",
              "              title=\"Convert this dataframe to an interactive table.\"\n",
              "              style=\"display:none;\">\n",
              "        \n",
              "  <svg xmlns=\"http://www.w3.org/2000/svg\" height=\"24px\"viewBox=\"0 0 24 24\"\n",
              "       width=\"24px\">\n",
              "    <path d=\"M0 0h24v24H0V0z\" fill=\"none\"/>\n",
              "    <path d=\"M18.56 5.44l.94 2.06.94-2.06 2.06-.94-2.06-.94-.94-2.06-.94 2.06-2.06.94zm-11 1L8.5 8.5l.94-2.06 2.06-.94-2.06-.94L8.5 2.5l-.94 2.06-2.06.94zm10 10l.94 2.06.94-2.06 2.06-.94-2.06-.94-.94-2.06-.94 2.06-2.06.94z\"/><path d=\"M17.41 7.96l-1.37-1.37c-.4-.4-.92-.59-1.43-.59-.52 0-1.04.2-1.43.59L10.3 9.45l-7.72 7.72c-.78.78-.78 2.05 0 2.83L4 21.41c.39.39.9.59 1.41.59.51 0 1.02-.2 1.41-.59l7.78-7.78 2.81-2.81c.8-.78.8-2.07 0-2.86zM5.41 20L4 18.59l7.72-7.72 1.47 1.35L5.41 20z\"/>\n",
              "  </svg>\n",
              "      </button>\n",
              "      \n",
              "  <style>\n",
              "    .colab-df-container {\n",
              "      display:flex;\n",
              "      flex-wrap:wrap;\n",
              "      gap: 12px;\n",
              "    }\n",
              "\n",
              "    .colab-df-convert {\n",
              "      background-color: #E8F0FE;\n",
              "      border: none;\n",
              "      border-radius: 50%;\n",
              "      cursor: pointer;\n",
              "      display: none;\n",
              "      fill: #1967D2;\n",
              "      height: 32px;\n",
              "      padding: 0 0 0 0;\n",
              "      width: 32px;\n",
              "    }\n",
              "\n",
              "    .colab-df-convert:hover {\n",
              "      background-color: #E2EBFA;\n",
              "      box-shadow: 0px 1px 2px rgba(60, 64, 67, 0.3), 0px 1px 3px 1px rgba(60, 64, 67, 0.15);\n",
              "      fill: #174EA6;\n",
              "    }\n",
              "\n",
              "    [theme=dark] .colab-df-convert {\n",
              "      background-color: #3B4455;\n",
              "      fill: #D2E3FC;\n",
              "    }\n",
              "\n",
              "    [theme=dark] .colab-df-convert:hover {\n",
              "      background-color: #434B5C;\n",
              "      box-shadow: 0px 1px 3px 1px rgba(0, 0, 0, 0.15);\n",
              "      filter: drop-shadow(0px 1px 2px rgba(0, 0, 0, 0.3));\n",
              "      fill: #FFFFFF;\n",
              "    }\n",
              "  </style>\n",
              "\n",
              "      <script>\n",
              "        const buttonEl =\n",
              "          document.querySelector('#df-f3e3943b-48c8-46b4-a88d-fb5775be7832 button.colab-df-convert');\n",
              "        buttonEl.style.display =\n",
              "          google.colab.kernel.accessAllowed ? 'block' : 'none';\n",
              "\n",
              "        async function convertToInteractive(key) {\n",
              "          const element = document.querySelector('#df-f3e3943b-48c8-46b4-a88d-fb5775be7832');\n",
              "          const dataTable =\n",
              "            await google.colab.kernel.invokeFunction('convertToInteractive',\n",
              "                                                     [key], {});\n",
              "          if (!dataTable) return;\n",
              "\n",
              "          const docLinkHtml = 'Like what you see? Visit the ' +\n",
              "            '<a target=\"_blank\" href=https://colab.research.google.com/notebooks/data_table.ipynb>data table notebook</a>'\n",
              "            + ' to learn more about interactive tables.';\n",
              "          element.innerHTML = '';\n",
              "          dataTable['output_type'] = 'display_data';\n",
              "          await google.colab.output.renderOutput(dataTable, element);\n",
              "          const docLink = document.createElement('div');\n",
              "          docLink.innerHTML = docLinkHtml;\n",
              "          element.appendChild(docLink);\n",
              "        }\n",
              "      </script>\n",
              "    </div>\n",
              "  </div>\n",
              "  "
            ]
          },
          "metadata": {},
          "execution_count": 121
        }
      ]
    },
    {
      "cell_type": "markdown",
      "source": [
        "# Feature extraction"
      ],
      "metadata": {
        "id": "SV3GNVOD7JXG"
      }
    },
    {
      "cell_type": "markdown",
      "source": [
        "PCA\n",
        "\n"
      ],
      "metadata": {
        "id": "jYL4o51v7_3Q"
      }
    },
    {
      "cell_type": "code",
      "source": [
        "X=data_copy.values\n",
        "X.shape"
      ],
      "metadata": {
        "colab": {
          "base_uri": "https://localhost:8080/"
        },
        "id": "htZp3xSp6gUt",
        "outputId": "dc36c17e-b873-4a3c-e93c-2e17d2ed172c"
      },
      "execution_count": 122,
      "outputs": [
        {
          "output_type": "execute_result",
          "data": {
            "text/plain": [
              "(113937, 239)"
            ]
          },
          "metadata": {},
          "execution_count": 122
        }
      ]
    },
    {
      "cell_type": "markdown",
      "source": [
        "Normalizer"
      ],
      "metadata": {
        "id": "UAbrGbdc8DqX"
      }
    },
    {
      "cell_type": "code",
      "source": [
        "from sklearn.preprocessing import Normalizer \n",
        "nor=Normalizer()\n",
        "X=nor.fit_transform(X)"
      ],
      "metadata": {
        "id": "vg0J2Bo16jw-"
      },
      "execution_count": 123,
      "outputs": []
    },
    {
      "cell_type": "code",
      "source": [
        "from sklearn.decomposition import PCA\n",
        "pca=PCA(n_components=4)\n",
        "pca_components=pca.fit_transform(X)"
      ],
      "metadata": {
        "id": "shCnqaTi8C-c"
      },
      "execution_count": 128,
      "outputs": []
    },
    {
      "cell_type": "code",
      "source": [
        "variance_eplained=pca.explained_variance_ratio_\n",
        "comulative_variance=np.cumsum(variance_eplained)"
      ],
      "metadata": {
        "id": "D3sEKY658FXs"
      },
      "execution_count": 129,
      "outputs": []
    },
    {
      "cell_type": "code",
      "source": [
        "plt.figure(figsize=(6,4))\n",
        "plt.clf()\n",
        "plt.plot(comulative_variance)\n",
        "plt.xlabel('Number of components ')\n",
        "plt.ylabel(\"Variance Ratio\")\n",
        "plt.grid()\n",
        "plt.show()"
      ],
      "metadata": {
        "colab": {
          "base_uri": "https://localhost:8080/",
          "height": 279
        },
        "id": "vhVu6DSV8Kh8",
        "outputId": "cf46dcf9-0794-462e-e810-2050db83ac0e"
      },
      "execution_count": 130,
      "outputs": [
        {
          "output_type": "display_data",
          "data": {
            "text/plain": [
              "<Figure size 432x288 with 1 Axes>"
            ],
            "image/png": "[encoded data removed]"
          },
          "metadata": {
            "needs_background": "light"
          }
        }
      ]
    },
    {
      "cell_type": "code",
      "source": [
        "pca.explained_variance_ratio_"
      ],
      "metadata": {
        "colab": {
          "base_uri": "https://localhost:8080/"
        },
        "id": "zRCBb8t08L-N",
        "outputId": "d92c47fa-b2da-429f-fe86-baa80d8d5a3c"
      },
      "execution_count": 131,
      "outputs": [
        {
          "output_type": "execute_result",
          "data": {
            "text/plain": [
              "array([0.39630877, 0.32434461, 0.11646342, 0.06369062])"
            ]
          },
          "metadata": {},
          "execution_count": 131
        }
      ]
    },
    {
      "cell_type": "code",
      "source": [
        "pca_data=pd.DataFrame(data=pca_components)\n"
      ],
      "metadata": {
        "id": "uRWFU6EB8V-s"
      },
      "execution_count": 132,
      "outputs": []
    },
    {
      "cell_type": "code",
      "source": [
        "new_data=pd.concat([high_features,pca_data],axis=1)\n",
        "print(new_data.shape)\n",
        "new_data.head()"
      ],
      "metadata": {
        "colab": {
          "base_uri": "https://localhost:8080/",
          "height": 288
        },
        "id": "w25PghFB8Yd0",
        "outputId": "c458b19d-7155-4bf5-a3f2-7549a1a40e5e"
      },
      "execution_count": 133,
      "outputs": [
        {
          "output_type": "stream",
          "name": "stdout",
          "text": [
            "(113937, 11)\n"
          ]
        },
        {
          "output_type": "execute_result",
          "data": {
            "text/plain": [
              "   LoanMonthsSinceOrigination  LP_CustomerPayments  \\\n",
              "0                          78             11396.14   \n",
              "1                           0                 0.00   \n",
              "2                          86              4186.63   \n",
              "3                          16              5143.20   \n",
              "4                           6              2819.85   \n",
              "\n",
              "   LP_CustomerPrincipalPayments  LoanOriginationDate_date_year  \\\n",
              "0                       9425.00                         2007.0   \n",
              "1                          0.00                         2014.0   \n",
              "2                       3001.00                         2007.0   \n",
              "3                       4091.09                         2012.0   \n",
              "4                       1563.22                         2013.0   \n",
              "\n",
              "   ListingCreationDate_date_year  DateCreditPulled_date_year  Target  \\\n",
              "0                         2007.0                      2007.0       1   \n",
              "1                         2014.0                      2014.0       0   \n",
              "2                         2007.0                      2007.0       1   \n",
              "3                         2012.0                      2012.0       0   \n",
              "4                         2013.0                      2013.0       0   \n",
              "\n",
              "          0         1         2         3  \n",
              "0  0.692042 -0.078645 -0.244891  0.087999  \n",
              "1  0.293597  0.316420 -0.096080 -0.116877  \n",
              "2 -0.460281  0.153677  0.014556  0.041206  \n",
              "3  0.175529  0.747110  0.048344  0.235638  \n",
              "4  0.431226 -0.296491 -0.122762 -0.097962  "
            ],
            "text/html": [
              "\n",
              "  <div id=\"df-3b47dd4b-061f-4657-9ae2-3808275ad186\">\n",
              "    <div class=\"colab-df-container\">\n",
              "      <div>\n",
              "<style scoped>\n",
              "    .dataframe tbody tr th:only-of-type {\n",
              "        vertical-align: middle;\n",
              "    }\n",
              "\n",
              "    .dataframe tbody tr th {\n",
              "        vertical-align: top;\n",
              "    }\n",
              "\n",
              "    .dataframe thead th {\n",
              "        text-align: right;\n",
              "    }\n",
              "</style>\n",
              "<table border=\"1\" class=\"dataframe\">\n",
              "  <thead>\n",
              "    <tr style=\"text-align: right;\">\n",
              "      <th></th>\n",
              "      <th>LoanMonthsSinceOrigination</th>\n",
              "      <th>LP_CustomerPayments</th>\n",
              "      <th>LP_CustomerPrincipalPayments</th>\n",
              "      <th>LoanOriginationDate_date_year</th>\n",
              "      <th>ListingCreationDate_date_year</th>\n",
              "      <th>DateCreditPulled_date_year</th>\n",
              "      <th>Target</th>\n",
              "      <th>0</th>\n",
              "      <th>1</th>\n",
              "      <th>2</th>\n",
              "      <th>3</th>\n",
              "    </tr>\n",
              "  </thead>\n",
              "  <tbody>\n",
              "    <tr>\n",
              "      <th>0</th>\n",
              "      <td>78</td>\n",
              "      <td>11396.14</td>\n",
              "      <td>9425.00</td>\n",
              "      <td>2007.0</td>\n",
              "      <td>2007.0</td>\n",
              "      <td>2007.0</td>\n",
              "      <td>1</td>\n",
              "      <td>0.692042</td>\n",
              "      <td>-0.078645</td>\n",
              "      <td>-0.244891</td>\n",
              "      <td>0.087999</td>\n",
              "    </tr>\n",
              "    <tr>\n",
              "      <th>1</th>\n",
              "      <td>0</td>\n",
              "      <td>0.00</td>\n",
              "      <td>0.00</td>\n",
              "      <td>2014.0</td>\n",
              "      <td>2014.0</td>\n",
              "      <td>2014.0</td>\n",
              "      <td>0</td>\n",
              "      <td>0.293597</td>\n",
              "      <td>0.316420</td>\n",
              "      <td>-0.096080</td>\n",
              "      <td>-0.116877</td>\n",
              "    </tr>\n",
              "    <tr>\n",
              "      <th>2</th>\n",
              "      <td>86</td>\n",
              "      <td>4186.63</td>\n",
              "      <td>3001.00</td>\n",
              "      <td>2007.0</td>\n",
              "      <td>2007.0</td>\n",
              "      <td>2007.0</td>\n",
              "      <td>1</td>\n",
              "      <td>-0.460281</td>\n",
              "      <td>0.153677</td>\n",
              "      <td>0.014556</td>\n",
              "      <td>0.041206</td>\n",
              "    </tr>\n",
              "    <tr>\n",
              "      <th>3</th>\n",
              "      <td>16</td>\n",
              "      <td>5143.20</td>\n",
              "      <td>4091.09</td>\n",
              "      <td>2012.0</td>\n",
              "      <td>2012.0</td>\n",
              "      <td>2012.0</td>\n",
              "      <td>0</td>\n",
              "      <td>0.175529</td>\n",
              "      <td>0.747110</td>\n",
              "      <td>0.048344</td>\n",
              "      <td>0.235638</td>\n",
              "    </tr>\n",
              "    <tr>\n",
              "      <th>4</th>\n",
              "      <td>6</td>\n",
              "      <td>2819.85</td>\n",
              "      <td>1563.22</td>\n",
              "      <td>2013.0</td>\n",
              "      <td>2013.0</td>\n",
              "      <td>2013.0</td>\n",
              "      <td>0</td>\n",
              "      <td>0.431226</td>\n",
              "      <td>-0.296491</td>\n",
              "      <td>-0.122762</td>\n",
              "      <td>-0.097962</td>\n",
              "    </tr>\n",
              "  </tbody>\n",
              "</table>\n",
              "</div>\n",
              "      <button class=\"colab-df-convert\" onclick=\"convertToInteractive('df-3b47dd4b-061f-4657-9ae2-3808275ad186')\"\n",
              "              title=\"Convert this dataframe to an interactive table.\"\n",
              "              style=\"display:none;\">\n",
              "        \n",
              "  <svg xmlns=\"http://www.w3.org/2000/svg\" height=\"24px\"viewBox=\"0 0 24 24\"\n",
              "       width=\"24px\">\n",
              "    <path d=\"M0 0h24v24H0V0z\" fill=\"none\"/>\n",
              "    <path d=\"M18.56 5.44l.94 2.06.94-2.06 2.06-.94-2.06-.94-.94-2.06-.94 2.06-2.06.94zm-11 1L8.5 8.5l.94-2.06 2.06-.94-2.06-.94L8.5 2.5l-.94 2.06-2.06.94zm10 10l.94 2.06.94-2.06 2.06-.94-2.06-.94-.94-2.06-.94 2.06-2.06.94z\"/><path d=\"M17.41 7.96l-1.37-1.37c-.4-.4-.92-.59-1.43-.59-.52 0-1.04.2-1.43.59L10.3 9.45l-7.72 7.72c-.78.78-.78 2.05 0 2.83L4 21.41c.39.39.9.59 1.41.59.51 0 1.02-.2 1.41-.59l7.78-7.78 2.81-2.81c.8-.78.8-2.07 0-2.86zM5.41 20L4 18.59l7.72-7.72 1.47 1.35L5.41 20z\"/>\n",
              "  </svg>\n",
              "      </button>\n",
              "      \n",
              "  <style>\n",
              "    .colab-df-container {\n",
              "      display:flex;\n",
              "      flex-wrap:wrap;\n",
              "      gap: 12px;\n",
              "    }\n",
              "\n",
              "    .colab-df-convert {\n",
              "      background-color: #E8F0FE;\n",
              "      border: none;\n",
              "      border-radius: 50%;\n",
              "      cursor: pointer;\n",
              "      display: none;\n",
              "      fill: #1967D2;\n",
              "      height: 32px;\n",
              "      padding: 0 0 0 0;\n",
              "      width: 32px;\n",
              "    }\n",
              "\n",
              "    .colab-df-convert:hover {\n",
              "      background-color: #E2EBFA;\n",
              "      box-shadow: 0px 1px 2px rgba(60, 64, 67, 0.3), 0px 1px 3px 1px rgba(60, 64, 67, 0.15);\n",
              "      fill: #174EA6;\n",
              "    }\n",
              "\n",
              "    [theme=dark] .colab-df-convert {\n",
              "      background-color: #3B4455;\n",
              "      fill: #D2E3FC;\n",
              "    }\n",
              "\n",
              "    [theme=dark] .colab-df-convert:hover {\n",
              "      background-color: #434B5C;\n",
              "      box-shadow: 0px 1px 3px 1px rgba(0, 0, 0, 0.15);\n",
              "      filter: drop-shadow(0px 1px 2px rgba(0, 0, 0, 0.3));\n",
              "      fill: #FFFFFF;\n",
              "    }\n",
              "  </style>\n",
              "\n",
              "      <script>\n",
              "        const buttonEl =\n",
              "          document.querySelector('#df-3b47dd4b-061f-4657-9ae2-3808275ad186 button.colab-df-convert');\n",
              "        buttonEl.style.display =\n",
              "          google.colab.kernel.accessAllowed ? 'block' : 'none';\n",
              "\n",
              "        async function convertToInteractive(key) {\n",
              "          const element = document.querySelector('#df-3b47dd4b-061f-4657-9ae2-3808275ad186');\n",
              "          const dataTable =\n",
              "            await google.colab.kernel.invokeFunction('convertToInteractive',\n",
              "                                                     [key], {});\n",
              "          if (!dataTable) return;\n",
              "\n",
              "          const docLinkHtml = 'Like what you see? Visit the ' +\n",
              "            '<a target=\"_blank\" href=https://colab.research.google.com/notebooks/data_table.ipynb>data table notebook</a>'\n",
              "            + ' to learn more about interactive tables.';\n",
              "          element.innerHTML = '';\n",
              "          dataTable['output_type'] = 'display_data';\n",
              "          await google.colab.output.renderOutput(dataTable, element);\n",
              "          const docLink = document.createElement('div');\n",
              "          docLink.innerHTML = docLinkHtml;\n",
              "          element.appendChild(docLink);\n",
              "        }\n",
              "      </script>\n",
              "    </div>\n",
              "  </div>\n",
              "  "
            ]
          },
          "metadata": {},
          "execution_count": 133
        }
      ]
    },
    {
      "cell_type": "code",
      "source": [
        "plt.figure(figsize=(25,8))\n",
        "sns.heatmap(new_data.corr(),annot=True)"
      ],
      "metadata": {
        "colab": {
          "base_uri": "https://localhost:8080/",
          "height": 672
        },
        "id": "cUsIxvE28aHE",
        "outputId": "21cff3b1-764b-4797-a9d1-70a0fab6d3cd"
      },
      "execution_count": 134,
      "outputs": [
        {
          "output_type": "execute_result",
          "data": {
            "text/plain": [
              "<matplotlib.axes._subplots.AxesSubplot at 0x7f398249d410>"
            ]
          },
          "metadata": {},
          "execution_count": 134
        },
        {
          "output_type": "display_data",
          "data": {
            "text/plain": [
              "<Figure size 1800x576 with 2 Axes>"
            ],
            "image/png": "[encoded data removed]"
          },
          "metadata": {
            "needs_background": "light"
          }
        }
      ]
    },
    {
      "cell_type": "markdown",
      "source": [
        "# split data to train and test "
      ],
      "metadata": {
        "id": "T3BD_7TJeIXY"
      }
    },
    {
      "cell_type": "code",
      "source": [
        "from sklearn.model_selection import train_test_split\n",
        "X = new_data.drop('Target',axis=1) # Independet variable\n",
        "y = new_data['Target'] # dependent variable\n",
        "train_X,test_X,train_y,test_y = train_test_split(X,y)"
      ],
      "metadata": {
        "id": "ke7FOY8b8dUE"
      },
      "execution_count": 135,
      "outputs": []
    },
    {
      "cell_type": "markdown",
      "source": [
        "# model without Balanc data\n"
      ],
      "metadata": {
        "id": "oJUF2IZseDHa"
      }
    },
    {
      "cell_type": "code",
      "source": [
        "from sklearn.linear_model import LogisticRegression\n",
        "clf = LogisticRegression(n_jobs=10,max_iter=1200,C=200,intercept_scaling=10).fit(train_X,train_y)\n"
      ],
      "metadata": {
        "id": "L8EHDJINzSvE",
        "outputId": "cb04acc6-957c-4346-f258-f4dd4dbc7c37",
        "colab": {
          "base_uri": "https://localhost:8080/"
        }
      },
      "execution_count": 136,
      "outputs": [
        {
          "output_type": "stream",
          "name": "stderr",
          "text": [
            "/usr/local/lib/python3.7/dist-packages/sklearn/utils/validation.py:1692: FutureWarning: Feature names only support names that are all strings. Got feature names with dtypes: ['int', 'str']. An error will be raised in 1.2.\n",
            "  FutureWarning,\n"
          ]
        }
      ]
    },
    {
      "cell_type": "code",
      "source": [
        "from sklearn.metrics import accuracy_score,recall_score,precision_score,f1_score\n",
        "y_pred=clf.predict(train_X)\n",
        "\n",
        "\n",
        "print(\"Accuracy :\" ,accuracy_score(train_y,y_pred))\n",
        "print(\"Recall : \",recall_score(train_y,y_pred))\n",
        "print(\"precsiion : \",precision_score(train_y,y_pred))\n",
        "print(\"F1 score :\",f1_score(train_y,y_pred))"
      ],
      "metadata": {
        "id": "ddiNSuBkRWPl",
        "outputId": "1e01e810-fd1e-488b-d4b9-5fb7393169c1",
        "colab": {
          "base_uri": "https://localhost:8080/"
        }
      },
      "execution_count": 137,
      "outputs": [
        {
          "output_type": "stream",
          "name": "stderr",
          "text": [
            "/usr/local/lib/python3.7/dist-packages/sklearn/utils/validation.py:1692: FutureWarning: Feature names only support names that are all strings. Got feature names with dtypes: ['int', 'str']. An error will be raised in 1.2.\n",
            "  FutureWarning,\n"
          ]
        },
        {
          "output_type": "stream",
          "name": "stdout",
          "text": [
            "Accuracy : 0.8620278050835557\n",
            "Recall :  0.7559511343804538\n",
            "precsiion :  0.8186422739643181\n",
            "F1 score : 0.786048706130004\n"
          ]
        }
      ]
    },
    {
      "cell_type": "code",
      "source": [
        "#On test Set \n",
        "y_pred=clf.predict(test_X)\n",
        "\n",
        "print(\"Accuracy :\" ,accuracy_score(test_y,y_pred))\n",
        "print(\"Recall : \",recall_score(test_y,y_pred))\n",
        "print(\"precsiion : \",precision_score(test_y,y_pred))\n",
        "print(\"F1 score :\",f1_score(test_y,y_pred))"
      ],
      "metadata": {
        "id": "pbub4t2jRX5O",
        "outputId": "df129042-a24e-48d7-d826-610234d1e547",
        "colab": {
          "base_uri": "https://localhost:8080/"
        }
      },
      "execution_count": 138,
      "outputs": [
        {
          "output_type": "stream",
          "name": "stdout",
          "text": [
            "Accuracy : 0.8585571353343865\n",
            "Recall :  0.7444821731748726\n",
            "precsiion :  0.8123190922774112\n",
            "F1 score : 0.7769226510160013\n"
          ]
        },
        {
          "output_type": "stream",
          "name": "stderr",
          "text": [
            "/usr/local/lib/python3.7/dist-packages/sklearn/utils/validation.py:1692: FutureWarning: Feature names only support names that are all strings. Got feature names with dtypes: ['int', 'str']. An error will be raised in 1.2.\n",
            "  FutureWarning,\n"
          ]
        }
      ]
    },
    {
      "cell_type": "markdown",
      "source": [
        "# Check Balancing\n"
      ],
      "metadata": {
        "id": "Q2a78nEyd-4k"
      }
    },
    {
      "cell_type": "code",
      "source": [
        "from matplotlib import pyplot as plt\n",
        "sizes = data['Target'].value_counts(sort = True)\n",
        "colors = [\"yellow\",\"green\"] \n",
        "plt.pie(sizes, colors=colors, autopct='%1.1f%%', shadow=True, startangle=90,)\n",
        "plt.title('Percentage of target in the dataset')\n",
        "plt.show()"
      ],
      "metadata": {
        "id": "r0sytutnRaaw",
        "outputId": "507c0876-0bab-4ab8-f9a7-ff4ec7653ec4",
        "colab": {
          "base_uri": "https://localhost:8080/",
          "height": 264
        }
      },
      "execution_count": 145,
      "outputs": [
        {
          "output_type": "display_data",
          "data": {
            "text/plain": [
              "<Figure size 432x288 with 1 Axes>"
            ],
            "image/png": "[encoded data removed]"
          },
          "metadata": {}
        }
      ]
    },
    {
      "cell_type": "code",
      "source": [
        "data['Target'].value_counts()"
      ],
      "metadata": {
        "id": "7KNbdx9wSqhx",
        "outputId": "78ff5fc0-ef66-47f3-df6a-024468261a73",
        "colab": {
          "base_uri": "https://localhost:8080/"
        }
      },
      "execution_count": 146,
      "outputs": [
        {
          "output_type": "execute_result",
          "data": {
            "text/plain": [
              "0    75863\n",
              "1    38074\n",
              "Name: Target, dtype: int64"
            ]
          },
          "metadata": {},
          "execution_count": 146
        }
      ]
    },
    {
      "cell_type": "code",
      "source": [
        "from sklearn.model_selection import train_test_split\n",
        "\n",
        "X = data.drop('Target', axis=1)\n",
        "y = data['Target']"
      ],
      "metadata": {
        "id": "lzIB98Y4SkTo"
      },
      "execution_count": 147,
      "outputs": []
    },
    {
      "cell_type": "code",
      "source": [
        "# example of random undersampling to balance the class distribution\n",
        "from collections import Counter\n",
        "from sklearn.datasets import make_classification\n",
        "from imblearn.under_sampling import RandomUnderSampler\n",
        "\n",
        "print(Counter(y))\n",
        "# define undersample strategy\n",
        "undersample = RandomUnderSampler(sampling_strategy='majority')\n",
        "# fit and apply the transform\n",
        "X_over, y_over = undersample.fit_resample(X, y)\n",
        "# summarize class distribution\n",
        "print(Counter(y_over))"
      ],
      "metadata": {
        "id": "1PhwyqbXRo2v",
        "outputId": "5025a868-01c1-459a-8e6e-155df6496458",
        "colab": {
          "base_uri": "https://localhost:8080/"
        }
      },
      "execution_count": 148,
      "outputs": [
        {
          "output_type": "stream",
          "name": "stdout",
          "text": [
            "Counter({0: 75863, 1: 38074})\n",
            "Counter({0: 38074, 1: 38074})\n"
          ]
        }
      ]
    },
    {
      "cell_type": "code",
      "source": [
        "train_X,test_X,train_y,test_y = train_test_split(X_over,y_over)"
      ],
      "metadata": {
        "id": "8uEmbZWGR6r_"
      },
      "execution_count": 151,
      "outputs": []
    },
    {
      "cell_type": "code",
      "source": [
        "from matplotlib import pyplot as plt\n",
        "sizes = y_over.value_counts(sort = True)\n",
        "colors = [\"yellow\",\"green\"] \n",
        "plt.pie(sizes, colors=colors, autopct='%1.1f%%', shadow=True, startangle=90,)\n",
        "plt.title('Percentage of target in the dataset')\n",
        "plt.show()"
      ],
      "metadata": {
        "id": "uC2SRwgcSQnv",
        "outputId": "21471508-75ef-4d71-ca0d-29b9c4b24e8b",
        "colab": {
          "base_uri": "https://localhost:8080/",
          "height": 264
        }
      },
      "execution_count": 155,
      "outputs": [
        {
          "output_type": "display_data",
          "data": {
            "text/plain": [
              "<Figure size 432x288 with 1 Axes>"
            ],
            "image/png": "[encoded data removed]"
          },
          "metadata": {}
        }
      ]
    },
    {
      "cell_type": "markdown",
      "source": [
        "# LogisticRegression with Balanc data"
      ],
      "metadata": {
        "id": "St9WE4N0dvcH"
      }
    },
    {
      "cell_type": "code",
      "source": [
        "from sklearn.linear_model import LogisticRegression\n",
        "clf = LogisticRegression().fit(train_X,train_y)\n",
        "\n",
        "\n",
        "y_pred=clf.predict(train_X)\n",
        "\n",
        "print(\"-\"*10,\"Train Pred\",\"-\"*10)\n",
        "print(\"Accuracy :\" ,accuracy_score(train_y,y_pred))\n",
        "print(\"Recall : \",recall_score(train_y,y_pred))\n",
        "print(\"precsiion : \",precision_score(train_y,y_pred))\n",
        "print(\"F1 score :\",f1_score(train_y,y_pred))\n",
        "\n",
        "#On test Set \n",
        "y_pred=clf.predict(test_X)\n",
        "print(\"-\"*10,\"Test Pred\",\"-\"*10)\n",
        "print(\"Accuracy :\" ,accuracy_score(test_y,y_pred))\n",
        "print(\"Recall : \",recall_score(test_y,y_pred))\n",
        "print(\"precsiion : \",precision_score(test_y,y_pred))\n",
        "print(\"F1 score :\",f1_score(test_y,y_pred))"
      ],
      "metadata": {
        "id": "9c0thcHpTavP",
        "outputId": "98b334e2-306b-474e-cc5f-2afadba8f1f9",
        "colab": {
          "base_uri": "https://localhost:8080/"
        }
      },
      "execution_count": 170,
      "outputs": [
        {
          "output_type": "stream",
          "name": "stderr",
          "text": [
            "/usr/local/lib/python3.7/dist-packages/sklearn/linear_model/_logistic.py:818: ConvergenceWarning: lbfgs failed to converge (status=1):\n",
            "STOP: TOTAL NO. of ITERATIONS REACHED LIMIT.\n",
            "\n",
            "Increase the number of iterations (max_iter) or scale the data as shown in:\n",
            "    https://scikit-learn.org/stable/modules/preprocessing.html\n",
            "Please also refer to the documentation for alternative solver options:\n",
            "    https://scikit-learn.org/stable/modules/linear_model.html#logistic-regression\n",
            "  extra_warning_msg=_LOGISTIC_SOLVER_CONVERGENCE_MSG,\n"
          ]
        },
        {
          "output_type": "stream",
          "name": "stdout",
          "text": [
            "---------- Train Pred ----------\n",
            "Accuracy : 0.936859799338131\n",
            "Recall :  0.936071616640337\n",
            "precsiion :  0.9372561425709164\n",
            "F1 score : 0.9366635051111813\n",
            "---------- Test Pred ----------\n",
            "Accuracy : 0.9375426800441246\n",
            "Recall :  0.9359682970069871\n",
            "precsiion :  0.9397905759162304\n",
            "F1 score : 0.9378755420868384\n"
          ]
        }
      ]
    },
    {
      "cell_type": "markdown",
      "source": [
        "# LogisticRegression with hyperparameters\n",
        "\n",
        "\n"
      ],
      "metadata": {
        "id": "SgxZkdP8dXo0"
      }
    },
    {
      "cell_type": "code",
      "source": [
        "from sklearn.linear_model import LogisticRegression\n",
        "clf2 = LogisticRegression(n_jobs=2,intercept_scaling=10,C=10.0).fit(train_X,train_y)\n",
        "\n",
        "\n",
        "y_pred=clf2.predict(train_X)\n",
        "\n",
        "print(\"-\"*10,\"Train Pred\",\"-\"*10)\n",
        "print(\"Accuracy :\" ,accuracy_score(train_y,y_pred))\n",
        "print(\"Recall : \",recall_score(train_y,y_pred))\n",
        "print(\"precsiion : \",precision_score(train_y,y_pred))\n",
        "print(\"F1 score :\",f1_score(train_y,y_pred))\n",
        "\n",
        "#On test Set \n",
        "y_pred=clf2.predict(test_X)\n",
        "print(\"-\"*10,\"Test Pred\",\"-\"*10)\n",
        "print(\"Accuracy :\" ,accuracy_score(test_y,y_pred))\n",
        "print(\"Recall : \",recall_score(test_y,y_pred))\n",
        "print(\"precsiion : \",precision_score(test_y,y_pred))\n",
        "print(\"F1 score :\",f1_score(test_y,y_pred))"
      ],
      "metadata": {
        "id": "xzdPjyg4dKBE",
        "outputId": "79bf9cfa-6674-478c-8711-946409cd2e74",
        "colab": {
          "base_uri": "https://localhost:8080/"
        }
      },
      "execution_count": 171,
      "outputs": [
        {
          "output_type": "stream",
          "name": "stdout",
          "text": [
            "---------- Train Pred ----------\n",
            "Accuracy : 0.9401516345362539\n",
            "Recall :  0.942074776197999\n",
            "precsiion :  0.9381883019263714\n",
            "F1 score : 0.9401275224215246\n",
            "---------- Test Pred ----------\n",
            "Accuracy : 0.9403792614382518\n",
            "Recall :  0.9423297528417979\n",
            "precsiion :  0.9394884591391142\n",
            "F1 score : 0.9409069610038008\n"
          ]
        }
      ]
    },
    {
      "cell_type": "markdown",
      "source": [
        "# RandomForestClassifier"
      ],
      "metadata": {
        "id": "nq15kqgQdUWr"
      }
    },
    {
      "cell_type": "code",
      "source": [
        "from sklearn.ensemble import RandomForestClassifier\n",
        "models= RandomForestClassifier(max_depth=5,n_jobs=4)\n",
        "models.fit(train_X,train_y)"
      ],
      "metadata": {
        "id": "_g3XawPvTvOn",
        "outputId": "0959e665-8ee8-4d5f-aa1a-34d62d4b4a91",
        "colab": {
          "base_uri": "https://localhost:8080/"
        }
      },
      "execution_count": 167,
      "outputs": [
        {
          "output_type": "execute_result",
          "data": {
            "text/plain": [
              "RandomForestClassifier(max_depth=5, n_jobs=4)"
            ]
          },
          "metadata": {},
          "execution_count": 167
        }
      ]
    },
    {
      "cell_type": "code",
      "source": [
        "y_pred=models.predict(train_X)\n",
        "\n",
        "print(\"-\"*10,\"Train Pred\",\"-\"*10)\n",
        "print(\"Accuracy :\" ,accuracy_score(train_y,y_pred))\n",
        "print(\"Recall : \",recall_score(train_y,y_pred))\n",
        "print(\"precsiion : \",precision_score(train_y,y_pred))\n",
        "print(\"F1 score :\",f1_score(train_y,y_pred))\n",
        "\n",
        "#On test Set \n",
        "y_pred=models.predict(test_X)\n",
        "print(\"-\"*10,\"Test Pred\",\"-\"*10)\n",
        "print(\"Accuracy :\" ,accuracy_score(test_y,y_pred))\n",
        "print(\"Recall : \",recall_score(test_y,y_pred))\n",
        "print(\"precsiion : \",precision_score(test_y,y_pred))\n",
        "print(\"F1 score :\",f1_score(test_y,y_pred))"
      ],
      "metadata": {
        "id": "HOJs3Z3OcQPN",
        "outputId": "1db25e7b-69d9-4118-a4b3-9f45023a716a",
        "colab": {
          "base_uri": "https://localhost:8080/"
        }
      },
      "execution_count": 168,
      "outputs": [
        {
          "output_type": "stream",
          "name": "stdout",
          "text": [
            "---------- Train Pred ----------\n",
            "Accuracy : 0.9274920768328343\n",
            "Recall :  0.9388801123398279\n",
            "precsiion :  0.9176502882239912\n",
            "F1 score : 0.9281438164812854\n",
            "---------- Test Pred ----------\n",
            "Accuracy : 0.9317119294006408\n",
            "Recall :  0.9420168943581186\n",
            "precsiion :  0.9239030377416385\n",
            "F1 score : 0.9328720437880822\n"
          ]
        }
      ]
    },
    {
      "cell_type": "markdown",
      "source": [
        "# All Classifier model "
      ],
      "metadata": {
        "id": "lVbDMErGf8Ka"
      }
    },
    {
      "cell_type": "code",
      "source": [
        "models = {}\n",
        "\n",
        "# Logistic Regression\n",
        "from sklearn.linear_model import LogisticRegression\n",
        "models['Logistic Regression'] = LogisticRegression()\n",
        "\n",
        "# Support Vector Machines\n",
        "from sklearn.svm import LinearSVC\n",
        "models['Support Vector Machines'] = LinearSVC()\n",
        "\n",
        "# Decision Trees\n",
        "from sklearn.tree import DecisionTreeClassifier\n",
        "models['Decision Trees'] = DecisionTreeClassifier()\n",
        "\n",
        "# Random Forest\n",
        "from sklearn.ensemble import RandomForestClassifier\n",
        "models['Random Forest'] = RandomForestClassifier()\n",
        "\n",
        "# Naive Bayes\n",
        "from sklearn.naive_bayes import GaussianNB\n",
        "models['Naive Bayes'] = GaussianNB()\n",
        "\n",
        "# K-Nearest Neighbors\n",
        "from sklearn.neighbors import KNeighborsClassifier\n",
        "models['K-Nearest Neighbor'] = KNeighborsClassifier()"
      ],
      "metadata": {
        "id": "tK3LUIKVcV2k"
      },
      "execution_count": 172,
      "outputs": []
    },
    {
      "cell_type": "code",
      "source": [
        "from sklearn.metrics import accuracy_score, precision_score, recall_score\n",
        "\n",
        "accuracy, precision, recall = {}, {}, {}\n",
        "\n",
        "for key in models.keys():\n",
        "    \n",
        "    # Fit the classifier model\n",
        "    models[key].fit(train_X, train_y)\n",
        "    \n",
        "    # Prediction \n",
        "    predictions = models[key].predict(test_X)\n",
        "    \n",
        "    # Calculate Accuracy, Precision and Recall Metrics\n",
        "    accuracy[key] = accuracy_score(predictions, test_y)\n",
        "    precision[key] = precision_score(predictions, test_y)\n",
        "    recall[key] = recall_score(predictions, test_y)"
      ],
      "metadata": {
        "id": "CKLjAjDGfS_7",
        "outputId": "f395bfce-1a7a-4184-8e83-c79709b78099",
        "colab": {
          "base_uri": "https://localhost:8080/"
        }
      },
      "execution_count": 173,
      "outputs": [
        {
          "output_type": "stream",
          "name": "stderr",
          "text": [
            "/usr/local/lib/python3.7/dist-packages/sklearn/linear_model/_logistic.py:818: ConvergenceWarning: lbfgs failed to converge (status=1):\n",
            "STOP: TOTAL NO. of ITERATIONS REACHED LIMIT.\n",
            "\n",
            "Increase the number of iterations (max_iter) or scale the data as shown in:\n",
            "    https://scikit-learn.org/stable/modules/preprocessing.html\n",
            "Please also refer to the documentation for alternative solver options:\n",
            "    https://scikit-learn.org/stable/modules/linear_model.html#logistic-regression\n",
            "  extra_warning_msg=_LOGISTIC_SOLVER_CONVERGENCE_MSG,\n",
            "/usr/local/lib/python3.7/dist-packages/sklearn/svm/_base.py:1208: ConvergenceWarning: Liblinear failed to converge, increase the number of iterations.\n",
            "  ConvergenceWarning,\n"
          ]
        }
      ]
    },
    {
      "cell_type": "code",
      "source": [
        "df_model = pd.DataFrame(index=models.keys(), columns=['Accuracy', 'Precision', 'Recall'])\n",
        "df_model['Accuracy'] = accuracy.values()\n",
        "df_model['Precision'] = precision.values()\n",
        "df_model['Recall'] = recall.values()\n",
        "\n",
        "df_model"
      ],
      "metadata": {
        "id": "CHSXR7PffVwy",
        "outputId": "d9dc355c-8ba4-42a4-9975-c620c8726e35",
        "colab": {
          "base_uri": "https://localhost:8080/",
          "height": 238
        }
      },
      "execution_count": 174,
      "outputs": [
        {
          "output_type": "execute_result",
          "data": {
            "text/plain": [
              "                         Accuracy  Precision    Recall\n",
              "Logistic Regression      0.937543   0.935968  0.939791\n",
              "Support Vector Machines  0.836319   0.678486  0.994953\n",
              "Decision Trees           0.990545   0.991031  0.990205\n",
              "Random Forest            0.985870   0.993951  0.978341\n",
              "Naive Bayes              0.626254   0.997184  0.574294\n",
              "K-Nearest Neighbor       0.937858   0.972364  0.910369"
            ],
            "text/html": [
              "\n",
              "  <div id=\"df-a4ef5f2c-0579-4dcf-9fa1-6906d6f424e0\">\n",
              "    <div class=\"colab-df-container\">\n",
              "      <div>\n",
              "<style scoped>\n",
              "    .dataframe tbody tr th:only-of-type {\n",
              "        vertical-align: middle;\n",
              "    }\n",
              "\n",
              "    .dataframe tbody tr th {\n",
              "        vertical-align: top;\n",
              "    }\n",
              "\n",
              "    .dataframe thead th {\n",
              "        text-align: right;\n",
              "    }\n",
              "</style>\n",
              "<table border=\"1\" class=\"dataframe\">\n",
              "  <thead>\n",
              "    <tr style=\"text-align: right;\">\n",
              "      <th></th>\n",
              "      <th>Accuracy</th>\n",
              "      <th>Precision</th>\n",
              "      <th>Recall</th>\n",
              "    </tr>\n",
              "  </thead>\n",
              "  <tbody>\n",
              "    <tr>\n",
              "      <th>Logistic Regression</th>\n",
              "      <td>0.937543</td>\n",
              "      <td>0.935968</td>\n",
              "      <td>0.939791</td>\n",
              "    </tr>\n",
              "    <tr>\n",
              "      <th>Support Vector Machines</th>\n",
              "      <td>0.836319</td>\n",
              "      <td>0.678486</td>\n",
              "      <td>0.994953</td>\n",
              "    </tr>\n",
              "    <tr>\n",
              "      <th>Decision Trees</th>\n",
              "      <td>0.990545</td>\n",
              "      <td>0.991031</td>\n",
              "      <td>0.990205</td>\n",
              "    </tr>\n",
              "    <tr>\n",
              "      <th>Random Forest</th>\n",
              "      <td>0.985870</td>\n",
              "      <td>0.993951</td>\n",
              "      <td>0.978341</td>\n",
              "    </tr>\n",
              "    <tr>\n",
              "      <th>Naive Bayes</th>\n",
              "      <td>0.626254</td>\n",
              "      <td>0.997184</td>\n",
              "      <td>0.574294</td>\n",
              "    </tr>\n",
              "    <tr>\n",
              "      <th>K-Nearest Neighbor</th>\n",
              "      <td>0.937858</td>\n",
              "      <td>0.972364</td>\n",
              "      <td>0.910369</td>\n",
              "    </tr>\n",
              "  </tbody>\n",
              "</table>\n",
              "</div>\n",
              "      <button class=\"colab-df-convert\" onclick=\"convertToInteractive('df-a4ef5f2c-0579-4dcf-9fa1-6906d6f424e0')\"\n",
              "              title=\"Convert this dataframe to an interactive table.\"\n",
              "              style=\"display:none;\">\n",
              "        \n",
              "  <svg xmlns=\"http://www.w3.org/2000/svg\" height=\"24px\"viewBox=\"0 0 24 24\"\n",
              "       width=\"24px\">\n",
              "    <path d=\"M0 0h24v24H0V0z\" fill=\"none\"/>\n",
              "    <path d=\"M18.56 5.44l.94 2.06.94-2.06 2.06-.94-2.06-.94-.94-2.06-.94 2.06-2.06.94zm-11 1L8.5 8.5l.94-2.06 2.06-.94-2.06-.94L8.5 2.5l-.94 2.06-2.06.94zm10 10l.94 2.06.94-2.06 2.06-.94-2.06-.94-.94-2.06-.94 2.06-2.06.94z\"/><path d=\"M17.41 7.96l-1.37-1.37c-.4-.4-.92-.59-1.43-.59-.52 0-1.04.2-1.43.59L10.3 9.45l-7.72 7.72c-.78.78-.78 2.05 0 2.83L4 21.41c.39.39.9.59 1.41.59.51 0 1.02-.2 1.41-.59l7.78-7.78 2.81-2.81c.8-.78.8-2.07 0-2.86zM5.41 20L4 18.59l7.72-7.72 1.47 1.35L5.41 20z\"/>\n",
              "  </svg>\n",
              "      </button>\n",
              "      \n",
              "  <style>\n",
              "    .colab-df-container {\n",
              "      display:flex;\n",
              "      flex-wrap:wrap;\n",
              "      gap: 12px;\n",
              "    }\n",
              "\n",
              "    .colab-df-convert {\n",
              "      background-color: #E8F0FE;\n",
              "      border: none;\n",
              "      border-radius: 50%;\n",
              "      cursor: pointer;\n",
              "      display: none;\n",
              "      fill: #1967D2;\n",
              "      height: 32px;\n",
              "      padding: 0 0 0 0;\n",
              "      width: 32px;\n",
              "    }\n",
              "\n",
              "    .colab-df-convert:hover {\n",
              "      background-color: #E2EBFA;\n",
              "      box-shadow: 0px 1px 2px rgba(60, 64, 67, 0.3), 0px 1px 3px 1px rgba(60, 64, 67, 0.15);\n",
              "      fill: #174EA6;\n",
              "    }\n",
              "\n",
              "    [theme=dark] .colab-df-convert {\n",
              "      background-color: #3B4455;\n",
              "      fill: #D2E3FC;\n",
              "    }\n",
              "\n",
              "    [theme=dark] .colab-df-convert:hover {\n",
              "      background-color: #434B5C;\n",
              "      box-shadow: 0px 1px 3px 1px rgba(0, 0, 0, 0.15);\n",
              "      filter: drop-shadow(0px 1px 2px rgba(0, 0, 0, 0.3));\n",
              "      fill: #FFFFFF;\n",
              "    }\n",
              "  </style>\n",
              "\n",
              "      <script>\n",
              "        const buttonEl =\n",
              "          document.querySelector('#df-a4ef5f2c-0579-4dcf-9fa1-6906d6f424e0 button.colab-df-convert');\n",
              "        buttonEl.style.display =\n",
              "          google.colab.kernel.accessAllowed ? 'block' : 'none';\n",
              "\n",
              "        async function convertToInteractive(key) {\n",
              "          const element = document.querySelector('#df-a4ef5f2c-0579-4dcf-9fa1-6906d6f424e0');\n",
              "          const dataTable =\n",
              "            await google.colab.kernel.invokeFunction('convertToInteractive',\n",
              "                                                     [key], {});\n",
              "          if (!dataTable) return;\n",
              "\n",
              "          const docLinkHtml = 'Like what you see? Visit the ' +\n",
              "            '<a target=\"_blank\" href=https://colab.research.google.com/notebooks/data_table.ipynb>data table notebook</a>'\n",
              "            + ' to learn more about interactive tables.';\n",
              "          element.innerHTML = '';\n",
              "          dataTable['output_type'] = 'display_data';\n",
              "          await google.colab.output.renderOutput(dataTable, element);\n",
              "          const docLink = document.createElement('div');\n",
              "          docLink.innerHTML = docLinkHtml;\n",
              "          element.appendChild(docLink);\n",
              "        }\n",
              "      </script>\n",
              "    </div>\n",
              "  </div>\n",
              "  "
            ]
          },
          "metadata": {},
          "execution_count": 174
        }
      ]
    },
    {
      "cell_type": "code",
      "source": [
        "ax  = df_model.plot.bar(rot=45)\n",
        "ax.legend(ncol= len(models.keys()), bbox_to_anchor=(0, 1), loc='lower left', prop={'size': 14})\n",
        "plt.tight_layout()"
      ],
      "metadata": {
        "id": "lzVr4306fg0C",
        "outputId": "5053cc06-d894-4697-a631-0370643c6316",
        "colab": {
          "base_uri": "https://localhost:8080/",
          "height": 297
        }
      },
      "execution_count": 175,
      "outputs": [
        {
          "output_type": "display_data",
          "data": {
            "text/plain": [
              "<Figure size 432x288 with 1 Axes>"
            ],
            "image/png": "[encoded data removed]"
          },
          "metadata": {
            "needs_background": "light"
          }
        }
      ]
    },
    {
      "cell_type": "code",
      "source": [
        ""
      ],
      "metadata": {
        "id": "9RCIihZjfilC"
      },
      "execution_count": null,
      "outputs": []
    }
  ]
}