{
  "nbformat": 4,
  "nbformat_minor": 0,
  "metadata": {
    "colab": {
      "name": "task1.ipynb",
      "provenance": [],
      "authorship_tag": "ABX9TyNEFsiUIWE4fKct1GVXYfT2",
      "include_colab_link": true
    },
    "kernelspec": {
      "name": "python3",
      "display_name": "Python 3"
    },
    "language_info": {
      "name": "python"
    }
  },
  "cells": [
    {
      "cell_type": "markdown",
      "metadata": {
        "id": "view-in-github",
        "colab_type": "text"
      },
      "source": [
        "<a href=\"https://colab.research.google.com/github/MAboElFottouh/Predictive-Modelling-Using-Social-Profile-in-Online-P2P-Lending-Market-Project-TCS56EA/blob/main/task1.ipynb\" target=\"_parent\"><img src=\"https://colab.research.google.com/assets/colab-badge.svg\" alt=\"Open In Colab\"/></a>"
      ]
    },
    {
      "cell_type": "code",
      "execution_count": 2,
      "metadata": {
        "colab": {
          "base_uri": "https://localhost:8080/"
        },
        "id": "gA4q6IvDoLK3",
        "outputId": "4ad37d83-8f50-46a1-8a3f-bfbe7574ffce"
      },
      "outputs": [
        {
          "output_type": "stream",
          "name": "stdout",
          "text": [
            "Drive already mounted at /content/drive; to attempt to forcibly remount, call drive.mount(\"/content/drive\", force_remount=True).\n"
          ]
        }
      ],
      "source": [
        "from google.colab import drive\n",
        "drive.mount('/content/drive')"
      ]
    },
    {
      "cell_type": "code",
      "source": [
        "import pandas  as pd #Data manipulation\n",
        "import numpy as np #Data manipulation\n",
        "import matplotlib.pyplot as plt # Visualization\n",
        "import seaborn as sns #Visualization"
      ],
      "metadata": {
        "id": "kYKGCsjRoPDV"
      },
      "execution_count": 3,
      "outputs": []
    },
    {
      "cell_type": "code",
      "source": [
        "data = pd.read_csv(\"/content/drive/MyDrive/prosperLoanData.csv\")"
      ],
      "metadata": {
        "id": "oCHg3P9FoQc-"
      },
      "execution_count": 4,
      "outputs": []
    },
    {
      "cell_type": "code",
      "source": [
        "print('\\nNumber of rows and columns in the data set: ',data.shape)\n",
        "#Lets look into top few rows and columns in the dataset\n",
        "data.head()"
      ],
      "metadata": {
        "colab": {
          "base_uri": "https://localhost:8080/",
          "height": 423
        },
        "id": "A1_bWKipoURK",
        "outputId": "5a8d2d5e-1b51-41ca-deef-f45a9f1996d8"
      },
      "execution_count": 5,
      "outputs": [
        {
          "output_type": "stream",
          "name": "stdout",
          "text": [
            "\n",
            "Number of rows and columns in the data set:  (113937, 81)\n"
          ]
        },
        {
          "output_type": "execute_result",
          "data": {
            "text/plain": [
              "                ListingKey  ListingNumber            ListingCreationDate  \\\n",
              "0  1021339766868145413AB3B         193129  2007-08-26 19:09:29.263000000   \n",
              "1  10273602499503308B223C1        1209647  2014-02-27 08:28:07.900000000   \n",
              "2  0EE9337825851032864889A          81716  2007-01-05 15:00:47.090000000   \n",
              "3  0EF5356002482715299901A         658116  2012-10-22 11:02:35.010000000   \n",
              "4  0F023589499656230C5E3E2         909464  2013-09-14 18:38:39.097000000   \n",
              "\n",
              "  CreditGrade  Term LoanStatus           ClosedDate  BorrowerAPR  \\\n",
              "0           C    36  Completed  2009-08-14 00:00:00      0.16516   \n",
              "1         NaN    36    Current                  NaN      0.12016   \n",
              "2          HR    36  Completed  2009-12-17 00:00:00      0.28269   \n",
              "3         NaN    36    Current                  NaN      0.12528   \n",
              "4         NaN    36    Current                  NaN      0.24614   \n",
              "\n",
              "   BorrowerRate  LenderYield  ...  LP_ServiceFees  LP_CollectionFees  \\\n",
              "0        0.1580       0.1380  ...         -133.18                0.0   \n",
              "1        0.0920       0.0820  ...            0.00                0.0   \n",
              "2        0.2750       0.2400  ...          -24.20                0.0   \n",
              "3        0.0974       0.0874  ...         -108.01                0.0   \n",
              "4        0.2085       0.1985  ...          -60.27                0.0   \n",
              "\n",
              "   LP_GrossPrincipalLoss  LP_NetPrincipalLoss LP_NonPrincipalRecoverypayments  \\\n",
              "0                    0.0                  0.0                             0.0   \n",
              "1                    0.0                  0.0                             0.0   \n",
              "2                    0.0                  0.0                             0.0   \n",
              "3                    0.0                  0.0                             0.0   \n",
              "4                    0.0                  0.0                             0.0   \n",
              "\n",
              "   PercentFunded  Recommendations InvestmentFromFriendsCount  \\\n",
              "0            1.0                0                          0   \n",
              "1            1.0                0                          0   \n",
              "2            1.0                0                          0   \n",
              "3            1.0                0                          0   \n",
              "4            1.0                0                          0   \n",
              "\n",
              "  InvestmentFromFriendsAmount Investors  \n",
              "0                         0.0       258  \n",
              "1                         0.0         1  \n",
              "2                         0.0        41  \n",
              "3                         0.0       158  \n",
              "4                         0.0        20  \n",
              "\n",
              "[5 rows x 81 columns]"
            ],
            "text/html": [
              "\n",
              "  <div id=\"df-33523887-e635-4b88-882e-c31cbeb5a9d0\">\n",
              "    <div class=\"colab-df-container\">\n",
              "      <div>\n",
              "<style scoped>\n",
              "    .dataframe tbody tr th:only-of-type {\n",
              "        vertical-align: middle;\n",
              "    }\n",
              "\n",
              "    .dataframe tbody tr th {\n",
              "        vertical-align: top;\n",
              "    }\n",
              "\n",
              "    .dataframe thead th {\n",
              "        text-align: right;\n",
              "    }\n",
              "</style>\n",
              "<table border=\"1\" class=\"dataframe\">\n",
              "  <thead>\n",
              "    <tr style=\"text-align: right;\">\n",
              "      <th></th>\n",
              "      <th>ListingKey</th>\n",
              "      <th>ListingNumber</th>\n",
              "      <th>ListingCreationDate</th>\n",
              "      <th>CreditGrade</th>\n",
              "      <th>Term</th>\n",
              "      <th>LoanStatus</th>\n",
              "      <th>ClosedDate</th>\n",
              "      <th>BorrowerAPR</th>\n",
              "      <th>BorrowerRate</th>\n",
              "      <th>LenderYield</th>\n",
              "      <th>...</th>\n",
              "      <th>LP_ServiceFees</th>\n",
              "      <th>LP_CollectionFees</th>\n",
              "      <th>LP_GrossPrincipalLoss</th>\n",
              "      <th>LP_NetPrincipalLoss</th>\n",
              "      <th>LP_NonPrincipalRecoverypayments</th>\n",
              "      <th>PercentFunded</th>\n",
              "      <th>Recommendations</th>\n",
              "      <th>InvestmentFromFriendsCount</th>\n",
              "      <th>InvestmentFromFriendsAmount</th>\n",
              "      <th>Investors</th>\n",
              "    </tr>\n",
              "  </thead>\n",
              "  <tbody>\n",
              "    <tr>\n",
              "      <th>0</th>\n",
              "      <td>1021339766868145413AB3B</td>\n",
              "      <td>193129</td>\n",
              "      <td>2007-08-26 19:09:29.263000000</td>\n",
              "      <td>C</td>\n",
              "      <td>36</td>\n",
              "      <td>Completed</td>\n",
              "      <td>2009-08-14 00:00:00</td>\n",
              "      <td>0.16516</td>\n",
              "      <td>0.1580</td>\n",
              "      <td>0.1380</td>\n",
              "      <td>...</td>\n",
              "      <td>-133.18</td>\n",
              "      <td>0.0</td>\n",
              "      <td>0.0</td>\n",
              "      <td>0.0</td>\n",
              "      <td>0.0</td>\n",
              "      <td>1.0</td>\n",
              "      <td>0</td>\n",
              "      <td>0</td>\n",
              "      <td>0.0</td>\n",
              "      <td>258</td>\n",
              "    </tr>\n",
              "    <tr>\n",
              "      <th>1</th>\n",
              "      <td>10273602499503308B223C1</td>\n",
              "      <td>1209647</td>\n",
              "      <td>2014-02-27 08:28:07.900000000</td>\n",
              "      <td>NaN</td>\n",
              "      <td>36</td>\n",
              "      <td>Current</td>\n",
              "      <td>NaN</td>\n",
              "      <td>0.12016</td>\n",
              "      <td>0.0920</td>\n",
              "      <td>0.0820</td>\n",
              "      <td>...</td>\n",
              "      <td>0.00</td>\n",
              "      <td>0.0</td>\n",
              "      <td>0.0</td>\n",
              "      <td>0.0</td>\n",
              "      <td>0.0</td>\n",
              "      <td>1.0</td>\n",
              "      <td>0</td>\n",
              "      <td>0</td>\n",
              "      <td>0.0</td>\n",
              "      <td>1</td>\n",
              "    </tr>\n",
              "    <tr>\n",
              "      <th>2</th>\n",
              "      <td>0EE9337825851032864889A</td>\n",
              "      <td>81716</td>\n",
              "      <td>2007-01-05 15:00:47.090000000</td>\n",
              "      <td>HR</td>\n",
              "      <td>36</td>\n",
              "      <td>Completed</td>\n",
              "      <td>2009-12-17 00:00:00</td>\n",
              "      <td>0.28269</td>\n",
              "      <td>0.2750</td>\n",
              "      <td>0.2400</td>\n",
              "      <td>...</td>\n",
              "      <td>-24.20</td>\n",
              "      <td>0.0</td>\n",
              "      <td>0.0</td>\n",
              "      <td>0.0</td>\n",
              "      <td>0.0</td>\n",
              "      <td>1.0</td>\n",
              "      <td>0</td>\n",
              "      <td>0</td>\n",
              "      <td>0.0</td>\n",
              "      <td>41</td>\n",
              "    </tr>\n",
              "    <tr>\n",
              "      <th>3</th>\n",
              "      <td>0EF5356002482715299901A</td>\n",
              "      <td>658116</td>\n",
              "      <td>2012-10-22 11:02:35.010000000</td>\n",
              "      <td>NaN</td>\n",
              "      <td>36</td>\n",
              "      <td>Current</td>\n",
              "      <td>NaN</td>\n",
              "      <td>0.12528</td>\n",
              "      <td>0.0974</td>\n",
              "      <td>0.0874</td>\n",
              "      <td>...</td>\n",
              "      <td>-108.01</td>\n",
              "      <td>0.0</td>\n",
              "      <td>0.0</td>\n",
              "      <td>0.0</td>\n",
              "      <td>0.0</td>\n",
              "      <td>1.0</td>\n",
              "      <td>0</td>\n",
              "      <td>0</td>\n",
              "      <td>0.0</td>\n",
              "      <td>158</td>\n",
              "    </tr>\n",
              "    <tr>\n",
              "      <th>4</th>\n",
              "      <td>0F023589499656230C5E3E2</td>\n",
              "      <td>909464</td>\n",
              "      <td>2013-09-14 18:38:39.097000000</td>\n",
              "      <td>NaN</td>\n",
              "      <td>36</td>\n",
              "      <td>Current</td>\n",
              "      <td>NaN</td>\n",
              "      <td>0.24614</td>\n",
              "      <td>0.2085</td>\n",
              "      <td>0.1985</td>\n",
              "      <td>...</td>\n",
              "      <td>-60.27</td>\n",
              "      <td>0.0</td>\n",
              "      <td>0.0</td>\n",
              "      <td>0.0</td>\n",
              "      <td>0.0</td>\n",
              "      <td>1.0</td>\n",
              "      <td>0</td>\n",
              "      <td>0</td>\n",
              "      <td>0.0</td>\n",
              "      <td>20</td>\n",
              "    </tr>\n",
              "  </tbody>\n",
              "</table>\n",
              "<p>5 rows × 81 columns</p>\n",
              "</div>\n",
              "      <button class=\"colab-df-convert\" onclick=\"convertToInteractive('df-33523887-e635-4b88-882e-c31cbeb5a9d0')\"\n",
              "              title=\"Convert this dataframe to an interactive table.\"\n",
              "              style=\"display:none;\">\n",
              "        \n",
              "  <svg xmlns=\"http://www.w3.org/2000/svg\" height=\"24px\"viewBox=\"0 0 24 24\"\n",
              "       width=\"24px\">\n",
              "    <path d=\"M0 0h24v24H0V0z\" fill=\"none\"/>\n",
              "    <path d=\"M18.56 5.44l.94 2.06.94-2.06 2.06-.94-2.06-.94-.94-2.06-.94 2.06-2.06.94zm-11 1L8.5 8.5l.94-2.06 2.06-.94-2.06-.94L8.5 2.5l-.94 2.06-2.06.94zm10 10l.94 2.06.94-2.06 2.06-.94-2.06-.94-.94-2.06-.94 2.06-2.06.94z\"/><path d=\"M17.41 7.96l-1.37-1.37c-.4-.4-.92-.59-1.43-.59-.52 0-1.04.2-1.43.59L10.3 9.45l-7.72 7.72c-.78.78-.78 2.05 0 2.83L4 21.41c.39.39.9.59 1.41.59.51 0 1.02-.2 1.41-.59l7.78-7.78 2.81-2.81c.8-.78.8-2.07 0-2.86zM5.41 20L4 18.59l7.72-7.72 1.47 1.35L5.41 20z\"/>\n",
              "  </svg>\n",
              "      </button>\n",
              "      \n",
              "  <style>\n",
              "    .colab-df-container {\n",
              "      display:flex;\n",
              "      flex-wrap:wrap;\n",
              "      gap: 12px;\n",
              "    }\n",
              "\n",
              "    .colab-df-convert {\n",
              "      background-color: #E8F0FE;\n",
              "      border: none;\n",
              "      border-radius: 50%;\n",
              "      cursor: pointer;\n",
              "      display: none;\n",
              "      fill: #1967D2;\n",
              "      height: 32px;\n",
              "      padding: 0 0 0 0;\n",
              "      width: 32px;\n",
              "    }\n",
              "\n",
              "    .colab-df-convert:hover {\n",
              "      background-color: #E2EBFA;\n",
              "      box-shadow: 0px 1px 2px rgba(60, 64, 67, 0.3), 0px 1px 3px 1px rgba(60, 64, 67, 0.15);\n",
              "      fill: #174EA6;\n",
              "    }\n",
              "\n",
              "    [theme=dark] .colab-df-convert {\n",
              "      background-color: #3B4455;\n",
              "      fill: #D2E3FC;\n",
              "    }\n",
              "\n",
              "    [theme=dark] .colab-df-convert:hover {\n",
              "      background-color: #434B5C;\n",
              "      box-shadow: 0px 1px 3px 1px rgba(0, 0, 0, 0.15);\n",
              "      filter: drop-shadow(0px 1px 2px rgba(0, 0, 0, 0.3));\n",
              "      fill: #FFFFFF;\n",
              "    }\n",
              "  </style>\n",
              "\n",
              "      <script>\n",
              "        const buttonEl =\n",
              "          document.querySelector('#df-33523887-e635-4b88-882e-c31cbeb5a9d0 button.colab-df-convert');\n",
              "        buttonEl.style.display =\n",
              "          google.colab.kernel.accessAllowed ? 'block' : 'none';\n",
              "\n",
              "        async function convertToInteractive(key) {\n",
              "          const element = document.querySelector('#df-33523887-e635-4b88-882e-c31cbeb5a9d0');\n",
              "          const dataTable =\n",
              "            await google.colab.kernel.invokeFunction('convertToInteractive',\n",
              "                                                     [key], {});\n",
              "          if (!dataTable) return;\n",
              "\n",
              "          const docLinkHtml = 'Like what you see? Visit the ' +\n",
              "            '<a target=\"_blank\" href=https://colab.research.google.com/notebooks/data_table.ipynb>data table notebook</a>'\n",
              "            + ' to learn more about interactive tables.';\n",
              "          element.innerHTML = '';\n",
              "          dataTable['output_type'] = 'display_data';\n",
              "          await google.colab.output.renderOutput(dataTable, element);\n",
              "          const docLink = document.createElement('div');\n",
              "          docLink.innerHTML = docLinkHtml;\n",
              "          element.appendChild(docLink);\n",
              "        }\n",
              "      </script>\n",
              "    </div>\n",
              "  </div>\n",
              "  "
            ]
          },
          "metadata": {},
          "execution_count": 5
        }
      ]
    },
    {
      "cell_type": "code",
      "source": [
        "data['Term'].unique()"
      ],
      "metadata": {
        "colab": {
          "base_uri": "https://localhost:8080/"
        },
        "id": "NIiiDGIecXj5",
        "outputId": "60e8ddeb-4b60-4a02-8875-47973ec269a7"
      },
      "execution_count": 6,
      "outputs": [
        {
          "output_type": "execute_result",
          "data": {
            "text/plain": [
              "array([36, 60, 12])"
            ]
          },
          "metadata": {},
          "execution_count": 6
        }
      ]
    },
    {
      "cell_type": "code",
      "source": [
        "data['ProsperRating (Alpha)']"
      ],
      "metadata": {
        "colab": {
          "base_uri": "https://localhost:8080/"
        },
        "id": "OIGJWc7aau-t",
        "outputId": "494018a8-ffbd-4943-d920-5a0f12fdb380"
      },
      "execution_count": 7,
      "outputs": [
        {
          "output_type": "execute_result",
          "data": {
            "text/plain": [
              "0         NaN\n",
              "1           A\n",
              "2         NaN\n",
              "3           A\n",
              "4           D\n",
              "         ... \n",
              "113932      C\n",
              "113933      A\n",
              "113934      D\n",
              "113935      C\n",
              "113936      A\n",
              "Name: ProsperRating (Alpha), Length: 113937, dtype: object"
            ]
          },
          "metadata": {},
          "execution_count": 7
        }
      ]
    },
    {
      "cell_type": "code",
      "source": [
        "data.info() #show data info"
      ],
      "metadata": {
        "colab": {
          "base_uri": "https://localhost:8080/"
        },
        "id": "roKhh7Mzotai",
        "outputId": "fe26aa37-0b55-435d-c55d-376dcb626a67"
      },
      "execution_count": 8,
      "outputs": [
        {
          "output_type": "stream",
          "name": "stdout",
          "text": [
            "<class 'pandas.core.frame.DataFrame'>\n",
            "RangeIndex: 113937 entries, 0 to 113936\n",
            "Data columns (total 81 columns):\n",
            " #   Column                               Non-Null Count   Dtype  \n",
            "---  ------                               --------------   -----  \n",
            " 0   ListingKey                           113937 non-null  object \n",
            " 1   ListingNumber                        113937 non-null  int64  \n",
            " 2   ListingCreationDate                  113937 non-null  object \n",
            " 3   CreditGrade                          28953 non-null   object \n",
            " 4   Term                                 113937 non-null  int64  \n",
            " 5   LoanStatus                           113937 non-null  object \n",
            " 6   ClosedDate                           55089 non-null   object \n",
            " 7   BorrowerAPR                          113912 non-null  float64\n",
            " 8   BorrowerRate                         113937 non-null  float64\n",
            " 9   LenderYield                          113937 non-null  float64\n",
            " 10  EstimatedEffectiveYield              84853 non-null   float64\n",
            " 11  EstimatedLoss                        84853 non-null   float64\n",
            " 12  EstimatedReturn                      84853 non-null   float64\n",
            " 13  ProsperRating (numeric)              84853 non-null   float64\n",
            " 14  ProsperRating (Alpha)                84853 non-null   object \n",
            " 15  ProsperScore                         84853 non-null   float64\n",
            " 16  ListingCategory (numeric)            113937 non-null  int64  \n",
            " 17  BorrowerState                        108422 non-null  object \n",
            " 18  Occupation                           110349 non-null  object \n",
            " 19  EmploymentStatus                     111682 non-null  object \n",
            " 20  EmploymentStatusDuration             106312 non-null  float64\n",
            " 21  IsBorrowerHomeowner                  113937 non-null  bool   \n",
            " 22  CurrentlyInGroup                     113937 non-null  bool   \n",
            " 23  GroupKey                             13341 non-null   object \n",
            " 24  DateCreditPulled                     113937 non-null  object \n",
            " 25  CreditScoreRangeLower                113346 non-null  float64\n",
            " 26  CreditScoreRangeUpper                113346 non-null  float64\n",
            " 27  FirstRecordedCreditLine              113240 non-null  object \n",
            " 28  CurrentCreditLines                   106333 non-null  float64\n",
            " 29  OpenCreditLines                      106333 non-null  float64\n",
            " 30  TotalCreditLinespast7years           113240 non-null  float64\n",
            " 31  OpenRevolvingAccounts                113937 non-null  int64  \n",
            " 32  OpenRevolvingMonthlyPayment          113937 non-null  float64\n",
            " 33  InquiriesLast6Months                 113240 non-null  float64\n",
            " 34  TotalInquiries                       112778 non-null  float64\n",
            " 35  CurrentDelinquencies                 113240 non-null  float64\n",
            " 36  AmountDelinquent                     106315 non-null  float64\n",
            " 37  DelinquenciesLast7Years              112947 non-null  float64\n",
            " 38  PublicRecordsLast10Years             113240 non-null  float64\n",
            " 39  PublicRecordsLast12Months            106333 non-null  float64\n",
            " 40  RevolvingCreditBalance               106333 non-null  float64\n",
            " 41  BankcardUtilization                  106333 non-null  float64\n",
            " 42  AvailableBankcardCredit              106393 non-null  float64\n",
            " 43  TotalTrades                          106393 non-null  float64\n",
            " 44  TradesNeverDelinquent (percentage)   106393 non-null  float64\n",
            " 45  TradesOpenedLast6Months              106393 non-null  float64\n",
            " 46  DebtToIncomeRatio                    105383 non-null  float64\n",
            " 47  IncomeRange                          113937 non-null  object \n",
            " 48  IncomeVerifiable                     113937 non-null  bool   \n",
            " 49  StatedMonthlyIncome                  113937 non-null  float64\n",
            " 50  LoanKey                              113937 non-null  object \n",
            " 51  TotalProsperLoans                    22085 non-null   float64\n",
            " 52  TotalProsperPaymentsBilled           22085 non-null   float64\n",
            " 53  OnTimeProsperPayments                22085 non-null   float64\n",
            " 54  ProsperPaymentsLessThanOneMonthLate  22085 non-null   float64\n",
            " 55  ProsperPaymentsOneMonthPlusLate      22085 non-null   float64\n",
            " 56  ProsperPrincipalBorrowed             22085 non-null   float64\n",
            " 57  ProsperPrincipalOutstanding          22085 non-null   float64\n",
            " 58  ScorexChangeAtTimeOfListing          18928 non-null   float64\n",
            " 59  LoanCurrentDaysDelinquent            113937 non-null  int64  \n",
            " 60  LoanFirstDefaultedCycleNumber        16952 non-null   float64\n",
            " 61  LoanMonthsSinceOrigination           113937 non-null  int64  \n",
            " 62  LoanNumber                           113937 non-null  int64  \n",
            " 63  LoanOriginalAmount                   113937 non-null  int64  \n",
            " 64  LoanOriginationDate                  113937 non-null  object \n",
            " 65  LoanOriginationQuarter               113937 non-null  object \n",
            " 66  MemberKey                            113937 non-null  object \n",
            " 67  MonthlyLoanPayment                   113937 non-null  float64\n",
            " 68  LP_CustomerPayments                  113937 non-null  float64\n",
            " 69  LP_CustomerPrincipalPayments         113937 non-null  float64\n",
            " 70  LP_InterestandFees                   113937 non-null  float64\n",
            " 71  LP_ServiceFees                       113937 non-null  float64\n",
            " 72  LP_CollectionFees                    113937 non-null  float64\n",
            " 73  LP_GrossPrincipalLoss                113937 non-null  float64\n",
            " 74  LP_NetPrincipalLoss                  113937 non-null  float64\n",
            " 75  LP_NonPrincipalRecoverypayments      113937 non-null  float64\n",
            " 76  PercentFunded                        113937 non-null  float64\n",
            " 77  Recommendations                      113937 non-null  int64  \n",
            " 78  InvestmentFromFriendsCount           113937 non-null  int64  \n",
            " 79  InvestmentFromFriendsAmount          113937 non-null  float64\n",
            " 80  Investors                            113937 non-null  int64  \n",
            "dtypes: bool(3), float64(50), int64(11), object(17)\n",
            "memory usage: 68.1+ MB\n"
          ]
        }
      ]
    },
    {
      "cell_type": "markdown",
      "source": [
        "**dtypes: bool(3), float64(50), int64(11), object(17)**"
      ],
      "metadata": {
        "id": "skUsnGZao3z4"
      }
    },
    {
      "cell_type": "markdown",
      "source": [
        "## **check null values**"
      ],
      "metadata": {
        "id": "pzH6JfeKshCd"
      }
    },
    {
      "cell_type": "code",
      "source": [
        "data.duplicated().sum() #check duplicated row"
      ],
      "metadata": {
        "colab": {
          "base_uri": "https://localhost:8080/"
        },
        "id": "zg2-KxPL-NsG",
        "outputId": "aff8b58e-0db8-4857-ff23-14fa8d55d3df"
      },
      "execution_count": 9,
      "outputs": [
        {
          "output_type": "execute_result",
          "data": {
            "text/plain": [
              "0"
            ]
          },
          "metadata": {},
          "execution_count": 9
        }
      ]
    },
    {
      "cell_type": "code",
      "source": [
        "#split null object and numerical\n",
        "nan_object = []\n",
        "nan_float64 = []\n",
        "for i in range(data.shape[1]):\n",
        "  if (data.isna().sum()[i] != 0 ): #if have null only\n",
        "      if (data[data.columns[i]].dtypes == 'object'):\n",
        "        nan_object.append(data[data.columns[i]].dtypes)\n",
        "        nan_object.append(data.isna().sum()[i] )\n",
        "        nan_object.append(data.columns[i])\n",
        "      elif(data[data.columns[i]].dtypes == 'float64' or data[data.columns[i]].dtypes == 'int64' ):\n",
        "        nan_float64.append(data[data.columns[i]].dtypes)\n",
        "        nan_float64.append(data.isna().sum()[i] )\n",
        "        nan_float64.append(data.columns[i])"
      ],
      "metadata": {
        "id": "LE7Q5pQTo15-"
      },
      "execution_count": 10,
      "outputs": []
    },
    {
      "cell_type": "code",
      "source": [
        "#print null values\n",
        "for i in range(0,len(nan_object)-2,3): # loop 0 to len array - 3 \n",
        "  print(nan_object[i],'\\t',nan_object[i+1],'\\t',nan_object[i+2])\n",
        "for i in range(0,len(nan_float64)-2,3):\n",
        "  print(nan_float64[i],'\\t',nan_float64[i+1],'\\t',nan_float64[i+2])"
      ],
      "metadata": {
        "colab": {
          "base_uri": "https://localhost:8080/"
        },
        "id": "W80RI5eipFt0",
        "outputId": "48dac75e-bd53-4f5e-be66-8d9899b9e681"
      },
      "execution_count": 11,
      "outputs": [
        {
          "output_type": "stream",
          "name": "stdout",
          "text": [
            "object \t 84984 \t CreditGrade\n",
            "object \t 58848 \t ClosedDate\n",
            "object \t 29084 \t ProsperRating (Alpha)\n",
            "object \t 5515 \t BorrowerState\n",
            "object \t 3588 \t Occupation\n",
            "object \t 2255 \t EmploymentStatus\n",
            "object \t 100596 \t GroupKey\n",
            "object \t 697 \t FirstRecordedCreditLine\n",
            "float64 \t 25 \t BorrowerAPR\n",
            "float64 \t 29084 \t EstimatedEffectiveYield\n",
            "float64 \t 29084 \t EstimatedLoss\n",
            "float64 \t 29084 \t EstimatedReturn\n",
            "float64 \t 29084 \t ProsperRating (numeric)\n",
            "float64 \t 29084 \t ProsperScore\n",
            "float64 \t 7625 \t EmploymentStatusDuration\n",
            "float64 \t 591 \t CreditScoreRangeLower\n",
            "float64 \t 591 \t CreditScoreRangeUpper\n",
            "float64 \t 7604 \t CurrentCreditLines\n",
            "float64 \t 7604 \t OpenCreditLines\n",
            "float64 \t 697 \t TotalCreditLinespast7years\n",
            "float64 \t 697 \t InquiriesLast6Months\n",
            "float64 \t 1159 \t TotalInquiries\n",
            "float64 \t 697 \t CurrentDelinquencies\n",
            "float64 \t 7622 \t AmountDelinquent\n",
            "float64 \t 990 \t DelinquenciesLast7Years\n",
            "float64 \t 697 \t PublicRecordsLast10Years\n",
            "float64 \t 7604 \t PublicRecordsLast12Months\n",
            "float64 \t 7604 \t RevolvingCreditBalance\n",
            "float64 \t 7604 \t BankcardUtilization\n",
            "float64 \t 7544 \t AvailableBankcardCredit\n",
            "float64 \t 7544 \t TotalTrades\n",
            "float64 \t 7544 \t TradesNeverDelinquent (percentage)\n",
            "float64 \t 7544 \t TradesOpenedLast6Months\n",
            "float64 \t 8554 \t DebtToIncomeRatio\n",
            "float64 \t 91852 \t TotalProsperLoans\n",
            "float64 \t 91852 \t TotalProsperPaymentsBilled\n",
            "float64 \t 91852 \t OnTimeProsperPayments\n",
            "float64 \t 91852 \t ProsperPaymentsLessThanOneMonthLate\n",
            "float64 \t 91852 \t ProsperPaymentsOneMonthPlusLate\n",
            "float64 \t 91852 \t ProsperPrincipalBorrowed\n",
            "float64 \t 91852 \t ProsperPrincipalOutstanding\n",
            "float64 \t 95009 \t ScorexChangeAtTimeOfListing\n",
            "float64 \t 96985 \t LoanFirstDefaultedCycleNumber\n"
          ]
        }
      ]
    },
    {
      "cell_type": "markdown",
      "source": [
        "1 : What are the most number of borrowers Credit Grade?"
      ],
      "metadata": {
        "id": "89uY0OEivDkT"
      }
    },
    {
      "cell_type": "code",
      "source": [
        "print(data['CreditGrade'].value_counts())\n",
        "sns.catplot(x=\"CreditGrade\", kind=\"count\", palette=\"ch:.25\", data=data)"
      ],
      "metadata": {
        "colab": {
          "base_uri": "https://localhost:8080/",
          "height": 552
        },
        "id": "wrOCPV8NrcQ8",
        "outputId": "6a8856a3-1159-49d9-a210-f8ca32c7da5f"
      },
      "execution_count": 12,
      "outputs": [
        {
          "output_type": "stream",
          "name": "stdout",
          "text": [
            "C     5649\n",
            "D     5153\n",
            "B     4389\n",
            "AA    3509\n",
            "HR    3508\n",
            "A     3315\n",
            "E     3289\n",
            "NC     141\n",
            "Name: CreditGrade, dtype: int64\n"
          ]
        },
        {
          "output_type": "execute_result",
          "data": {
            "text/plain": [
              "<seaborn.axisgrid.FacetGrid at 0x7fe676c0b7d0>"
            ]
          },
          "metadata": {},
          "execution_count": 12
        },
        {
          "output_type": "display_data",
          "data": {
            "text/plain": [
              "<Figure size 360x360 with 1 Axes>"
            ],
            "image/png": "[encoded data removed]"
          },
          "metadata": {
            "needs_background": "light"
          }
        }
      ]
    },
    {
      "cell_type": "markdown",
      "source": [
        "2 : Since there are so much low Credit Grade such as C and D , does it lead to a higher amount of deliquency?"
      ],
      "metadata": {
        "id": "mEAtoKbyAg8v"
      }
    },
    {
      "cell_type": "code",
      "source": [
        "sns.displot(data, x=\"CreditGrade\", y=\"LoanStatus\")"
      ],
      "metadata": {
        "colab": {
          "base_uri": "https://localhost:8080/",
          "height": 387
        },
        "id": "FKGcQNRJ_xIO",
        "outputId": "b8c16802-5524-4f29-f5b4-eae1944d9108"
      },
      "execution_count": 13,
      "outputs": [
        {
          "output_type": "execute_result",
          "data": {
            "text/plain": [
              "<seaborn.axisgrid.FacetGrid at 0x7fe674e09d50>"
            ]
          },
          "metadata": {},
          "execution_count": 13
        },
        {
          "output_type": "display_data",
          "data": {
            "text/plain": [
              "<Figure size 360x360 with 1 Axes>"
            ],
            "image/png": "[encoded data removed]"
          },
          "metadata": {
            "needs_background": "light"
          }
        }
      ]
    },
    {
      "cell_type": "code",
      "source": [
        "sns.jointplot(data=data, x=\"CreditGrade\", y=\"LoanStatus\")\n"
      ],
      "metadata": {
        "colab": {
          "base_uri": "https://localhost:8080/",
          "height": 459
        },
        "id": "5qeN65Sa5ut9",
        "outputId": "ce85b910-d2bf-4c94-b618-4be697bec84e"
      },
      "execution_count": 14,
      "outputs": [
        {
          "output_type": "execute_result",
          "data": {
            "text/plain": [
              "<seaborn.axisgrid.JointGrid at 0x7fe667541b50>"
            ]
          },
          "metadata": {},
          "execution_count": 14
        },
        {
          "output_type": "display_data",
          "data": {
            "text/plain": [
              "<Figure size 432x432 with 3 Axes>"
            ],
            "image/png": "[encoded data removed]"
          },
          "metadata": {
            "needs_background": "light"
          }
        }
      ]
    },
    {
      "cell_type": "markdown",
      "source": [
        "3 : What is the highest number of BorrowerRate?"
      ],
      "metadata": {
        "id": "vRxqzgCbAkg7"
      }
    },
    {
      "cell_type": "code",
      "source": [
        "print('the highest number of BorrowerRate : ' , data['BorrowerRate'].max() )"
      ],
      "metadata": {
        "colab": {
          "base_uri": "https://localhost:8080/"
        },
        "id": "rHLfcIJX6FPG",
        "outputId": "8922f90d-4196-4d76-ff91-9ba6a6e80cde"
      },
      "execution_count": 15,
      "outputs": [
        {
          "output_type": "stream",
          "name": "stdout",
          "text": [
            "the highest number of BorrowerRate :  0.4975\n"
          ]
        }
      ]
    },
    {
      "cell_type": "markdown",
      "source": [
        "4-Since the highest number of Borrower Rate is between 0.1 and 0.2, does the highest number of Lender Yield is between 0.1 and 0.2?"
      ],
      "metadata": {
        "id": "9OPKVrugx-Ju"
      }
    },
    {
      "cell_type": "code",
      "source": [
        "sns.displot(data, x=\"BorrowerRate\", y=\"LenderYield\")"
      ],
      "metadata": {
        "colab": {
          "base_uri": "https://localhost:8080/",
          "height": 387
        },
        "id": "5qU-wh09_YQa",
        "outputId": "302312b9-9512-48c2-e8c5-b28a76819429"
      },
      "execution_count": 16,
      "outputs": [
        {
          "output_type": "execute_result",
          "data": {
            "text/plain": [
              "<seaborn.axisgrid.FacetGrid at 0x7fe671fa7650>"
            ]
          },
          "metadata": {},
          "execution_count": 16
        },
        {
          "output_type": "display_data",
          "data": {
            "text/plain": [
              "<Figure size 360x360 with 1 Axes>"
            ],
            "image/png": "[encoded data removed]"
          },
          "metadata": {
            "needs_background": "light"
          }
        }
      ]
    },
    {
      "cell_type": "markdown",
      "source": [
        "yes Because have linear correlation "
      ],
      "metadata": {
        "id": "nYU2-Lg_yHm-"
      }
    },
    {
      "cell_type": "markdown",
      "source": [
        " 5 : Is the Credit Grade really accurate? Does higher Credit Grade leads to higher Monthly Loan Payment? As for Higher Credit Grade we mean from Grade AA to B"
      ],
      "metadata": {
        "id": "k61oKx9H7KF-"
      }
    },
    {
      "cell_type": "code",
      "source": [
        "sns.displot(data, x=\"CreditGrade\", hue=\"LoanStatus\")"
      ],
      "metadata": {
        "colab": {
          "base_uri": "https://localhost:8080/",
          "height": 387
        },
        "id": "K2LiMiBF0w1m",
        "outputId": "0d98e13b-cf7e-4903-c6c7-bde3a85c5eb3"
      },
      "execution_count": 17,
      "outputs": [
        {
          "output_type": "execute_result",
          "data": {
            "text/plain": [
              "<seaborn.axisgrid.FacetGrid at 0x7fe671f47c50>"
            ]
          },
          "metadata": {},
          "execution_count": 17
        },
        {
          "output_type": "display_data",
          "data": {
            "text/plain": [
              "<Figure size 514.625x360 with 1 Axes>"
            ],
            "image/png": "[encoded data removed]"
          },
          "metadata": {
            "needs_background": "light"
          }
        }
      ]
    },
    {
      "cell_type": "code",
      "source": [
        "data[['CreditGrade','LoanStatus']].value_counts()"
      ],
      "metadata": {
        "colab": {
          "base_uri": "https://localhost:8080/"
        },
        "id": "xiyrEH3f2ya0",
        "outputId": "4069950c-d567-45c6-eda8-ce73b211cafb"
      },
      "execution_count": 18,
      "outputs": [
        {
          "output_type": "execute_result",
          "data": {
            "text/plain": [
              "CreditGrade  LoanStatus\n",
              "C            Completed     3609\n",
              "D            Completed     3126\n",
              "B            Completed     2987\n",
              "AA           Completed     2969\n",
              "A            Completed     2505\n",
              "E            Completed     1678\n",
              "HR           Completed     1372\n",
              "D            Chargedoff    1343\n",
              "C            Chargedoff    1310\n",
              "HR           Chargedoff    1242\n",
              "E            Chargedoff     946\n",
              "B            Chargedoff     909\n",
              "HR           Defaulted      891\n",
              "C            Defaulted      729\n",
              "D            Defaulted      684\n",
              "E            Defaulted      665\n",
              "A            Chargedoff     526\n",
              "B            Defaulted      493\n",
              "AA           Chargedoff     339\n",
              "A            Defaulted      283\n",
              "AA           Defaulted      201\n",
              "NC           Defaulted       64\n",
              "             Completed       42\n",
              "             Chargedoff      35\n",
              "HR           Cancelled        3\n",
              "C            Cancelled        1\n",
              "A            Cancelled        1\n",
              "dtype: int64"
            ]
          },
          "metadata": {},
          "execution_count": 18
        }
      ]
    },
    {
      "cell_type": "code",
      "source": [
        "dataAA = data[data['CreditGrade']== 'AA']\n",
        "print('All AA = ',dataAA.shape[0])\n",
        "dataAA['LoanStatus'].value_counts()"
      ],
      "metadata": {
        "colab": {
          "base_uri": "https://localhost:8080/"
        },
        "id": "35n7out42Bi2",
        "outputId": "9b993799-8213-4bc1-9e3f-68ea59098ef1"
      },
      "execution_count": 19,
      "outputs": [
        {
          "output_type": "stream",
          "name": "stdout",
          "text": [
            "All AA =  3509\n"
          ]
        },
        {
          "output_type": "execute_result",
          "data": {
            "text/plain": [
              "Completed     2969\n",
              "Chargedoff     339\n",
              "Defaulted      201\n",
              "Name: LoanStatus, dtype: int64"
            ]
          },
          "metadata": {},
          "execution_count": 19
        }
      ]
    },
    {
      "cell_type": "code",
      "source": [
        "print('Completed status in AA = {} % '.format(2969 / 3509 * 100))"
      ],
      "metadata": {
        "colab": {
          "base_uri": "https://localhost:8080/"
        },
        "id": "gWMTwtyN69ok",
        "outputId": "e3f4842e-8f65-45f6-e360-bc06c12ae7c1"
      },
      "execution_count": 20,
      "outputs": [
        {
          "output_type": "stream",
          "name": "stdout",
          "text": [
            "Completed status in AA = 84.61100028498147 % \n"
          ]
        }
      ]
    },
    {
      "cell_type": "code",
      "source": [
        "dataB = data[data['CreditGrade']== 'B']\n",
        "print('All B = ',dataB.shape[0])\n",
        "dataB['LoanStatus'].value_counts()"
      ],
      "metadata": {
        "colab": {
          "base_uri": "https://localhost:8080/"
        },
        "id": "yFSRniE12cde",
        "outputId": "f43fe684-a22e-4b67-a3f2-f0aa6ba4f737"
      },
      "execution_count": 21,
      "outputs": [
        {
          "output_type": "stream",
          "name": "stdout",
          "text": [
            "All B =  4389\n"
          ]
        },
        {
          "output_type": "execute_result",
          "data": {
            "text/plain": [
              "Completed     2987\n",
              "Chargedoff     909\n",
              "Defaulted      493\n",
              "Name: LoanStatus, dtype: int64"
            ]
          },
          "metadata": {},
          "execution_count": 21
        }
      ]
    },
    {
      "cell_type": "code",
      "source": [
        "print('Completed status in B = {} % '.format(2987 / 4398 * 100))"
      ],
      "metadata": {
        "colab": {
          "base_uri": "https://localhost:8080/"
        },
        "id": "jITVSCEH54vc",
        "outputId": "cb02604e-1fd2-40c4-ed89-75c8c4aead84"
      },
      "execution_count": 22,
      "outputs": [
        {
          "output_type": "stream",
          "name": "stdout",
          "text": [
            "Completed status in B = 67.91723510686676 % \n"
          ]
        }
      ]
    },
    {
      "cell_type": "markdown",
      "source": [
        "The Credit Grade did not decrease as the percentage of Completed decreased"
      ],
      "metadata": {
        "id": "EGwQd5zi7fBa"
      }
    },
    {
      "cell_type": "code",
      "source": [
        "dataAB = data[(data['CreditGrade'].eq('AA') | data['CreditGrade'].eq('B') |  data['CreditGrade'].eq('A'))]\n",
        "print('All B = ',dataAB.shape[0])\n",
        "dataAB['LoanStatus'].value_counts()"
      ],
      "metadata": {
        "colab": {
          "base_uri": "https://localhost:8080/"
        },
        "id": "JWzUbv4X6FsE",
        "outputId": "997d6cb2-551d-4017-f03e-1806b0d82bb3"
      },
      "execution_count": 23,
      "outputs": [
        {
          "output_type": "stream",
          "name": "stdout",
          "text": [
            "All B =  11213\n"
          ]
        },
        {
          "output_type": "execute_result",
          "data": {
            "text/plain": [
              "Completed     8461\n",
              "Chargedoff    1774\n",
              "Defaulted      977\n",
              "Cancelled        1\n",
              "Name: LoanStatus, dtype: int64"
            ]
          },
          "metadata": {},
          "execution_count": 23
        }
      ]
    },
    {
      "cell_type": "code",
      "source": [
        "print('Completed status AA to B = {} % '.format(8461 / 11213 * 100))"
      ],
      "metadata": {
        "colab": {
          "base_uri": "https://localhost:8080/"
        },
        "id": "ikmnsxjR-lWz",
        "outputId": "911a81a9-6655-4b2b-dbab-16e508e574e6"
      },
      "execution_count": 24,
      "outputs": [
        {
          "output_type": "stream",
          "name": "stdout",
          "text": [
            "Completed status AA to B = 75.4570587710693 % \n"
          ]
        }
      ]
    },
    {
      "cell_type": "markdown",
      "source": [
        "### replace null "
      ],
      "metadata": {
        "id": "auLqN2Q9GdTE"
      }
    },
    {
      "cell_type": "code",
      "source": [
        "# TotalProsperLoans , TotalProsperPaymentsBilled , OnTimeProsperPayments , ProsperPaymentsLessThanOneMonthLate ,\n",
        "#ProsperPaymentsOneMonthPlusLate , ProsperPrincipalBorrowed , ProsperPrincipalOutstanding , ScorexChangeAtTimeOfListing , \n",
        "#LoanFirstDefaultedCycleNumber \n",
        "\n",
        "# all this columns value will be null if the borrower had no prior loans.\n",
        "# replace All null to 0\n",
        "\n",
        "value_will_be_null = ['TotalProsperLoans' , 'TotalProsperPaymentsBilled' , 'OnTimeProsperPayments' , 'ProsperPaymentsLessThanOneMonthLate' ,\n",
        "'ProsperPaymentsOneMonthPlusLate' , 'ProsperPrincipalBorrowed' , 'ProsperPrincipalOutstanding' , 'ScorexChangeAtTimeOfListing' , \n",
        "'LoanFirstDefaultedCycleNumber']\n",
        "\n",
        "for i in value_will_be_null:\n",
        "  data[i].replace(np.nan,0,inplace=True)\n",
        "  data[i].astype('float64')\n"
      ],
      "metadata": {
        "id": "NEc9KsJA_8_z"
      },
      "execution_count": 25,
      "outputs": []
    },
    {
      "cell_type": "code",
      "source": [
        "print(data['CreditGrade'].unique())\n",
        "print(data['ProsperRating (Alpha)'].unique())"
      ],
      "metadata": {
        "colab": {
          "base_uri": "https://localhost:8080/"
        },
        "id": "y-4X7TN-Zazf",
        "outputId": "6fec9ee5-b27d-430c-80dc-569b598e2e1e"
      },
      "execution_count": 26,
      "outputs": [
        {
          "output_type": "stream",
          "name": "stdout",
          "text": [
            "['C' nan 'HR' 'AA' 'D' 'B' 'E' 'A' 'NC']\n",
            "[nan 'A' 'D' 'B' 'E' 'C' 'AA' 'HR']\n"
          ]
        }
      ]
    },
    {
      "cell_type": "code",
      "source": [
        "data[data['CreditGrade']=='NC']"
      ],
      "metadata": {
        "colab": {
          "base_uri": "https://localhost:8080/",
          "height": 661
        },
        "id": "4V3Doyebc9J5",
        "outputId": "8ca5e2e0-2937-4640-b0d7-2f0fe81cac3b"
      },
      "execution_count": 27,
      "outputs": [
        {
          "output_type": "execute_result",
          "data": {
            "text/plain": [
              "                     ListingKey  ListingNumber            ListingCreationDate  \\\n",
              "794     00EF338150577356881AD6B          97950  2007-02-11 13:40:55.490000000   \n",
              "912     7A41337257909407897EB67          61512  2006-11-14 08:23:08.430000000   \n",
              "1685    403F33816853903261A0142          94290  2007-02-06 15:50:46.723000000   \n",
              "4290    4B4C33658186085093BB6B4           7055  2006-04-23 14:19:41.030000000   \n",
              "4371    985433663733409747DA533          31236  2006-08-14 11:45:59.710000000   \n",
              "...                         ...            ...                            ...   \n",
              "109522  2575337371414583913B6EA          60886  2006-11-13 06:36:16.067000000   \n",
              "109855  FE063379142663462D83FD4          85920  2007-01-17 13:07:35.540000000   \n",
              "110290  7AB333803121117292D39C0          97521  2007-02-10 21:22:12.553000000   \n",
              "111624  B4F6337744905877323E37A          82404  2007-01-07 20:33:39.027000000   \n",
              "113848  FFF0338012502972731B2C1          94872  2007-02-07 15:04:40.563000000   \n",
              "\n",
              "       CreditGrade  Term  LoanStatus           ClosedDate  BorrowerAPR  \\\n",
              "794             NC    36   Completed  2010-02-22 00:00:00      0.29776   \n",
              "912             NC    36   Defaulted  2007-11-18 00:00:00      0.27276   \n",
              "1685            NC    36  Chargedoff  2008-04-20 00:00:00      0.18065   \n",
              "4290            NC    36  Chargedoff  2007-12-25 00:00:00      0.24502   \n",
              "4371            NC    36   Defaulted  2007-09-26 00:00:00      0.24505   \n",
              "...            ...   ...         ...                  ...          ...   \n",
              "109522          NC    36  Chargedoff  2008-01-29 00:00:00      0.21543   \n",
              "109855          NC    36   Completed  2010-02-08 00:00:00      0.22643   \n",
              "110290          NC    36  Chargedoff  2009-08-22 00:00:00      0.17752   \n",
              "111624          NC    36   Defaulted  2007-07-22 00:00:00      0.29776   \n",
              "113848          NC    36   Completed  2010-02-13 00:00:00      0.30709   \n",
              "\n",
              "        BorrowerRate  LenderYield  ...  LP_ServiceFees  LP_CollectionFees  \\\n",
              "794           0.2900       0.2850  ...          -34.97             0.0000   \n",
              "912           0.2600       0.2450  ...           -4.10             0.0000   \n",
              "1685          0.1625       0.1575  ...           -1.11           -19.1100   \n",
              "4290          0.2375       0.2325  ...          -21.31             0.0000   \n",
              "4371          0.2325       0.2150  ...           -4.67             0.0000   \n",
              "...              ...          ...  ...             ...                ...   \n",
              "109522        0.2000       0.1950  ...           -3.80           -22.2039   \n",
              "109855        0.2190       0.1840  ...          -25.01           -39.8900   \n",
              "110290        0.1594       0.1244  ...           -7.41             0.0000   \n",
              "111624        0.2900       0.2550  ...            0.00             0.0000   \n",
              "113848        0.2875       0.2825  ...           -8.75           -16.7100   \n",
              "\n",
              "        LP_GrossPrincipalLoss  LP_NetPrincipalLoss  \\\n",
              "794                      0.00                 0.00   \n",
              "912                   1290.20              1290.21   \n",
              "1685                   846.17               846.19   \n",
              "4290                  2671.35              2671.35   \n",
              "4371                  1261.08              1261.07   \n",
              "...                       ...                  ...   \n",
              "109522                 995.44               875.42   \n",
              "109855                   0.00                 0.00   \n",
              "110290                 381.29               381.30   \n",
              "111624                3002.00              2921.95   \n",
              "113848                   0.00                 0.00   \n",
              "\n",
              "       LP_NonPrincipalRecoverypayments  PercentFunded  Recommendations  \\\n",
              "794                               0.00            1.0                0   \n",
              "912                               0.00            1.0                0   \n",
              "1685                              0.00            1.0                0   \n",
              "4290                              0.00            1.0                0   \n",
              "4371                              0.00            1.0                0   \n",
              "...                                ...            ...              ...   \n",
              "109522                          259.99            1.0                0   \n",
              "109855                            0.00            1.0                0   \n",
              "110290                            0.00            1.0                0   \n",
              "111624                            0.00            1.0                0   \n",
              "113848                            0.00            1.0                0   \n",
              "\n",
              "       InvestmentFromFriendsCount InvestmentFromFriendsAmount Investors  \n",
              "794                             0                         0.0        38  \n",
              "912                             0                         0.0        11  \n",
              "1685                            0                         0.0        64  \n",
              "4290                            0                         0.0        24  \n",
              "4371                            0                         0.0        50  \n",
              "...                           ...                         ...       ...  \n",
              "109522                          0                         0.0         4  \n",
              "109855                          0                         0.0        30  \n",
              "110290                          0                         0.0        20  \n",
              "111624                          0                         0.0        27  \n",
              "113848                          0                         0.0        12  \n",
              "\n",
              "[141 rows x 81 columns]"
            ],
            "text/html": [
              "\n",
              "  <div id=\"df-9289267b-9832-4def-bdfd-338c22479d3c\">\n",
              "    <div class=\"colab-df-container\">\n",
              "      <div>\n",
              "<style scoped>\n",
              "    .dataframe tbody tr th:only-of-type {\n",
              "        vertical-align: middle;\n",
              "    }\n",
              "\n",
              "    .dataframe tbody tr th {\n",
              "        vertical-align: top;\n",
              "    }\n",
              "\n",
              "    .dataframe thead th {\n",
              "        text-align: right;\n",
              "    }\n",
              "</style>\n",
              "<table border=\"1\" class=\"dataframe\">\n",
              "  <thead>\n",
              "    <tr style=\"text-align: right;\">\n",
              "      <th></th>\n",
              "      <th>ListingKey</th>\n",
              "      <th>ListingNumber</th>\n",
              "      <th>ListingCreationDate</th>\n",
              "      <th>CreditGrade</th>\n",
              "      <th>Term</th>\n",
              "      <th>LoanStatus</th>\n",
              "      <th>ClosedDate</th>\n",
              "      <th>BorrowerAPR</th>\n",
              "      <th>BorrowerRate</th>\n",
              "      <th>LenderYield</th>\n",
              "      <th>...</th>\n",
              "      <th>LP_ServiceFees</th>\n",
              "      <th>LP_CollectionFees</th>\n",
              "      <th>LP_GrossPrincipalLoss</th>\n",
              "      <th>LP_NetPrincipalLoss</th>\n",
              "      <th>LP_NonPrincipalRecoverypayments</th>\n",
              "      <th>PercentFunded</th>\n",
              "      <th>Recommendations</th>\n",
              "      <th>InvestmentFromFriendsCount</th>\n",
              "      <th>InvestmentFromFriendsAmount</th>\n",
              "      <th>Investors</th>\n",
              "    </tr>\n",
              "  </thead>\n",
              "  <tbody>\n",
              "    <tr>\n",
              "      <th>794</th>\n",
              "      <td>00EF338150577356881AD6B</td>\n",
              "      <td>97950</td>\n",
              "      <td>2007-02-11 13:40:55.490000000</td>\n",
              "      <td>NC</td>\n",
              "      <td>36</td>\n",
              "      <td>Completed</td>\n",
              "      <td>2010-02-22 00:00:00</td>\n",
              "      <td>0.29776</td>\n",
              "      <td>0.2900</td>\n",
              "      <td>0.2850</td>\n",
              "      <td>...</td>\n",
              "      <td>-34.97</td>\n",
              "      <td>0.0000</td>\n",
              "      <td>0.00</td>\n",
              "      <td>0.00</td>\n",
              "      <td>0.00</td>\n",
              "      <td>1.0</td>\n",
              "      <td>0</td>\n",
              "      <td>0</td>\n",
              "      <td>0.0</td>\n",
              "      <td>38</td>\n",
              "    </tr>\n",
              "    <tr>\n",
              "      <th>912</th>\n",
              "      <td>7A41337257909407897EB67</td>\n",
              "      <td>61512</td>\n",
              "      <td>2006-11-14 08:23:08.430000000</td>\n",
              "      <td>NC</td>\n",
              "      <td>36</td>\n",
              "      <td>Defaulted</td>\n",
              "      <td>2007-11-18 00:00:00</td>\n",
              "      <td>0.27276</td>\n",
              "      <td>0.2600</td>\n",
              "      <td>0.2450</td>\n",
              "      <td>...</td>\n",
              "      <td>-4.10</td>\n",
              "      <td>0.0000</td>\n",
              "      <td>1290.20</td>\n",
              "      <td>1290.21</td>\n",
              "      <td>0.00</td>\n",
              "      <td>1.0</td>\n",
              "      <td>0</td>\n",
              "      <td>0</td>\n",
              "      <td>0.0</td>\n",
              "      <td>11</td>\n",
              "    </tr>\n",
              "    <tr>\n",
              "      <th>1685</th>\n",
              "      <td>403F33816853903261A0142</td>\n",
              "      <td>94290</td>\n",
              "      <td>2007-02-06 15:50:46.723000000</td>\n",
              "      <td>NC</td>\n",
              "      <td>36</td>\n",
              "      <td>Chargedoff</td>\n",
              "      <td>2008-04-20 00:00:00</td>\n",
              "      <td>0.18065</td>\n",
              "      <td>0.1625</td>\n",
              "      <td>0.1575</td>\n",
              "      <td>...</td>\n",
              "      <td>-1.11</td>\n",
              "      <td>-19.1100</td>\n",
              "      <td>846.17</td>\n",
              "      <td>846.19</td>\n",
              "      <td>0.00</td>\n",
              "      <td>1.0</td>\n",
              "      <td>0</td>\n",
              "      <td>0</td>\n",
              "      <td>0.0</td>\n",
              "      <td>64</td>\n",
              "    </tr>\n",
              "    <tr>\n",
              "      <th>4290</th>\n",
              "      <td>4B4C33658186085093BB6B4</td>\n",
              "      <td>7055</td>\n",
              "      <td>2006-04-23 14:19:41.030000000</td>\n",
              "      <td>NC</td>\n",
              "      <td>36</td>\n",
              "      <td>Chargedoff</td>\n",
              "      <td>2007-12-25 00:00:00</td>\n",
              "      <td>0.24502</td>\n",
              "      <td>0.2375</td>\n",
              "      <td>0.2325</td>\n",
              "      <td>...</td>\n",
              "      <td>-21.31</td>\n",
              "      <td>0.0000</td>\n",
              "      <td>2671.35</td>\n",
              "      <td>2671.35</td>\n",
              "      <td>0.00</td>\n",
              "      <td>1.0</td>\n",
              "      <td>0</td>\n",
              "      <td>0</td>\n",
              "      <td>0.0</td>\n",
              "      <td>24</td>\n",
              "    </tr>\n",
              "    <tr>\n",
              "      <th>4371</th>\n",
              "      <td>985433663733409747DA533</td>\n",
              "      <td>31236</td>\n",
              "      <td>2006-08-14 11:45:59.710000000</td>\n",
              "      <td>NC</td>\n",
              "      <td>36</td>\n",
              "      <td>Defaulted</td>\n",
              "      <td>2007-09-26 00:00:00</td>\n",
              "      <td>0.24505</td>\n",
              "      <td>0.2325</td>\n",
              "      <td>0.2150</td>\n",
              "      <td>...</td>\n",
              "      <td>-4.67</td>\n",
              "      <td>0.0000</td>\n",
              "      <td>1261.08</td>\n",
              "      <td>1261.07</td>\n",
              "      <td>0.00</td>\n",
              "      <td>1.0</td>\n",
              "      <td>0</td>\n",
              "      <td>0</td>\n",
              "      <td>0.0</td>\n",
              "      <td>50</td>\n",
              "    </tr>\n",
              "    <tr>\n",
              "      <th>...</th>\n",
              "      <td>...</td>\n",
              "      <td>...</td>\n",
              "      <td>...</td>\n",
              "      <td>...</td>\n",
              "      <td>...</td>\n",
              "      <td>...</td>\n",
              "      <td>...</td>\n",
              "      <td>...</td>\n",
              "      <td>...</td>\n",
              "      <td>...</td>\n",
              "      <td>...</td>\n",
              "      <td>...</td>\n",
              "      <td>...</td>\n",
              "      <td>...</td>\n",
              "      <td>...</td>\n",
              "      <td>...</td>\n",
              "      <td>...</td>\n",
              "      <td>...</td>\n",
              "      <td>...</td>\n",
              "      <td>...</td>\n",
              "      <td>...</td>\n",
              "    </tr>\n",
              "    <tr>\n",
              "      <th>109522</th>\n",
              "      <td>2575337371414583913B6EA</td>\n",
              "      <td>60886</td>\n",
              "      <td>2006-11-13 06:36:16.067000000</td>\n",
              "      <td>NC</td>\n",
              "      <td>36</td>\n",
              "      <td>Chargedoff</td>\n",
              "      <td>2008-01-29 00:00:00</td>\n",
              "      <td>0.21543</td>\n",
              "      <td>0.2000</td>\n",
              "      <td>0.1950</td>\n",
              "      <td>...</td>\n",
              "      <td>-3.80</td>\n",
              "      <td>-22.2039</td>\n",
              "      <td>995.44</td>\n",
              "      <td>875.42</td>\n",
              "      <td>259.99</td>\n",
              "      <td>1.0</td>\n",
              "      <td>0</td>\n",
              "      <td>0</td>\n",
              "      <td>0.0</td>\n",
              "      <td>4</td>\n",
              "    </tr>\n",
              "    <tr>\n",
              "      <th>109855</th>\n",
              "      <td>FE063379142663462D83FD4</td>\n",
              "      <td>85920</td>\n",
              "      <td>2007-01-17 13:07:35.540000000</td>\n",
              "      <td>NC</td>\n",
              "      <td>36</td>\n",
              "      <td>Completed</td>\n",
              "      <td>2010-02-08 00:00:00</td>\n",
              "      <td>0.22643</td>\n",
              "      <td>0.2190</td>\n",
              "      <td>0.1840</td>\n",
              "      <td>...</td>\n",
              "      <td>-25.01</td>\n",
              "      <td>-39.8900</td>\n",
              "      <td>0.00</td>\n",
              "      <td>0.00</td>\n",
              "      <td>0.00</td>\n",
              "      <td>1.0</td>\n",
              "      <td>0</td>\n",
              "      <td>0</td>\n",
              "      <td>0.0</td>\n",
              "      <td>30</td>\n",
              "    </tr>\n",
              "    <tr>\n",
              "      <th>110290</th>\n",
              "      <td>7AB333803121117292D39C0</td>\n",
              "      <td>97521</td>\n",
              "      <td>2007-02-10 21:22:12.553000000</td>\n",
              "      <td>NC</td>\n",
              "      <td>36</td>\n",
              "      <td>Chargedoff</td>\n",
              "      <td>2009-08-22 00:00:00</td>\n",
              "      <td>0.17752</td>\n",
              "      <td>0.1594</td>\n",
              "      <td>0.1244</td>\n",
              "      <td>...</td>\n",
              "      <td>-7.41</td>\n",
              "      <td>0.0000</td>\n",
              "      <td>381.29</td>\n",
              "      <td>381.30</td>\n",
              "      <td>0.00</td>\n",
              "      <td>1.0</td>\n",
              "      <td>0</td>\n",
              "      <td>0</td>\n",
              "      <td>0.0</td>\n",
              "      <td>20</td>\n",
              "    </tr>\n",
              "    <tr>\n",
              "      <th>111624</th>\n",
              "      <td>B4F6337744905877323E37A</td>\n",
              "      <td>82404</td>\n",
              "      <td>2007-01-07 20:33:39.027000000</td>\n",
              "      <td>NC</td>\n",
              "      <td>36</td>\n",
              "      <td>Defaulted</td>\n",
              "      <td>2007-07-22 00:00:00</td>\n",
              "      <td>0.29776</td>\n",
              "      <td>0.2900</td>\n",
              "      <td>0.2550</td>\n",
              "      <td>...</td>\n",
              "      <td>0.00</td>\n",
              "      <td>0.0000</td>\n",
              "      <td>3002.00</td>\n",
              "      <td>2921.95</td>\n",
              "      <td>0.00</td>\n",
              "      <td>1.0</td>\n",
              "      <td>0</td>\n",
              "      <td>0</td>\n",
              "      <td>0.0</td>\n",
              "      <td>27</td>\n",
              "    </tr>\n",
              "    <tr>\n",
              "      <th>113848</th>\n",
              "      <td>FFF0338012502972731B2C1</td>\n",
              "      <td>94872</td>\n",
              "      <td>2007-02-07 15:04:40.563000000</td>\n",
              "      <td>NC</td>\n",
              "      <td>36</td>\n",
              "      <td>Completed</td>\n",
              "      <td>2010-02-13 00:00:00</td>\n",
              "      <td>0.30709</td>\n",
              "      <td>0.2875</td>\n",
              "      <td>0.2825</td>\n",
              "      <td>...</td>\n",
              "      <td>-8.75</td>\n",
              "      <td>-16.7100</td>\n",
              "      <td>0.00</td>\n",
              "      <td>0.00</td>\n",
              "      <td>0.00</td>\n",
              "      <td>1.0</td>\n",
              "      <td>0</td>\n",
              "      <td>0</td>\n",
              "      <td>0.0</td>\n",
              "      <td>12</td>\n",
              "    </tr>\n",
              "  </tbody>\n",
              "</table>\n",
              "<p>141 rows × 81 columns</p>\n",
              "</div>\n",
              "      <button class=\"colab-df-convert\" onclick=\"convertToInteractive('df-9289267b-9832-4def-bdfd-338c22479d3c')\"\n",
              "              title=\"Convert this dataframe to an interactive table.\"\n",
              "              style=\"display:none;\">\n",
              "        \n",
              "  <svg xmlns=\"http://www.w3.org/2000/svg\" height=\"24px\"viewBox=\"0 0 24 24\"\n",
              "       width=\"24px\">\n",
              "    <path d=\"M0 0h24v24H0V0z\" fill=\"none\"/>\n",
              "    <path d=\"M18.56 5.44l.94 2.06.94-2.06 2.06-.94-2.06-.94-.94-2.06-.94 2.06-2.06.94zm-11 1L8.5 8.5l.94-2.06 2.06-.94-2.06-.94L8.5 2.5l-.94 2.06-2.06.94zm10 10l.94 2.06.94-2.06 2.06-.94-2.06-.94-.94-2.06-.94 2.06-2.06.94z\"/><path d=\"M17.41 7.96l-1.37-1.37c-.4-.4-.92-.59-1.43-.59-.52 0-1.04.2-1.43.59L10.3 9.45l-7.72 7.72c-.78.78-.78 2.05 0 2.83L4 21.41c.39.39.9.59 1.41.59.51 0 1.02-.2 1.41-.59l7.78-7.78 2.81-2.81c.8-.78.8-2.07 0-2.86zM5.41 20L4 18.59l7.72-7.72 1.47 1.35L5.41 20z\"/>\n",
              "  </svg>\n",
              "      </button>\n",
              "      \n",
              "  <style>\n",
              "    .colab-df-container {\n",
              "      display:flex;\n",
              "      flex-wrap:wrap;\n",
              "      gap: 12px;\n",
              "    }\n",
              "\n",
              "    .colab-df-convert {\n",
              "      background-color: #E8F0FE;\n",
              "      border: none;\n",
              "      border-radius: 50%;\n",
              "      cursor: pointer;\n",
              "      display: none;\n",
              "      fill: #1967D2;\n",
              "      height: 32px;\n",
              "      padding: 0 0 0 0;\n",
              "      width: 32px;\n",
              "    }\n",
              "\n",
              "    .colab-df-convert:hover {\n",
              "      background-color: #E2EBFA;\n",
              "      box-shadow: 0px 1px 2px rgba(60, 64, 67, 0.3), 0px 1px 3px 1px rgba(60, 64, 67, 0.15);\n",
              "      fill: #174EA6;\n",
              "    }\n",
              "\n",
              "    [theme=dark] .colab-df-convert {\n",
              "      background-color: #3B4455;\n",
              "      fill: #D2E3FC;\n",
              "    }\n",
              "\n",
              "    [theme=dark] .colab-df-convert:hover {\n",
              "      background-color: #434B5C;\n",
              "      box-shadow: 0px 1px 3px 1px rgba(0, 0, 0, 0.15);\n",
              "      filter: drop-shadow(0px 1px 2px rgba(0, 0, 0, 0.3));\n",
              "      fill: #FFFFFF;\n",
              "    }\n",
              "  </style>\n",
              "\n",
              "      <script>\n",
              "        const buttonEl =\n",
              "          document.querySelector('#df-9289267b-9832-4def-bdfd-338c22479d3c button.colab-df-convert');\n",
              "        buttonEl.style.display =\n",
              "          google.colab.kernel.accessAllowed ? 'block' : 'none';\n",
              "\n",
              "        async function convertToInteractive(key) {\n",
              "          const element = document.querySelector('#df-9289267b-9832-4def-bdfd-338c22479d3c');\n",
              "          const dataTable =\n",
              "            await google.colab.kernel.invokeFunction('convertToInteractive',\n",
              "                                                     [key], {});\n",
              "          if (!dataTable) return;\n",
              "\n",
              "          const docLinkHtml = 'Like what you see? Visit the ' +\n",
              "            '<a target=\"_blank\" href=https://colab.research.google.com/notebooks/data_table.ipynb>data table notebook</a>'\n",
              "            + ' to learn more about interactive tables.';\n",
              "          element.innerHTML = '';\n",
              "          dataTable['output_type'] = 'display_data';\n",
              "          await google.colab.output.renderOutput(dataTable, element);\n",
              "          const docLink = document.createElement('div');\n",
              "          docLink.innerHTML = docLinkHtml;\n",
              "          element.appendChild(docLink);\n",
              "        }\n",
              "      </script>\n",
              "    </div>\n",
              "  </div>\n",
              "  "
            ]
          },
          "metadata": {},
          "execution_count": 27
        }
      ]
    },
    {
      "cell_type": "code",
      "source": [
        ""
      ],
      "metadata": {
        "id": "BZhsTEKqduiR"
      },
      "execution_count": 27,
      "outputs": []
    },
    {
      "cell_type": "code",
      "source": [
        "j = 0\n",
        "for i in range(data.shape[1]):\n",
        "  if (data.isna().sum()[i] != 0 ):\n",
        "    print(j,'\\t',data[data.columns[i]].dtypes , '\\t' ,data.isna().sum()[i] , '\\t', data.columns[i])\n",
        "    j+=1\n",
        "\n"
      ],
      "metadata": {
        "colab": {
          "base_uri": "https://localhost:8080/"
        },
        "id": "8izLpP1QHaw7",
        "outputId": "de50b10c-3b49-43e1-92ab-965a888d11ba"
      },
      "execution_count": 28,
      "outputs": [
        {
          "output_type": "stream",
          "name": "stdout",
          "text": [
            "0 \t object \t 84984 \t CreditGrade\n",
            "1 \t object \t 58848 \t ClosedDate\n",
            "2 \t float64 \t 25 \t BorrowerAPR\n",
            "3 \t float64 \t 29084 \t EstimatedEffectiveYield\n",
            "4 \t float64 \t 29084 \t EstimatedLoss\n",
            "5 \t float64 \t 29084 \t EstimatedReturn\n",
            "6 \t float64 \t 29084 \t ProsperRating (numeric)\n",
            "7 \t object \t 29084 \t ProsperRating (Alpha)\n",
            "8 \t float64 \t 29084 \t ProsperScore\n",
            "9 \t object \t 5515 \t BorrowerState\n",
            "10 \t object \t 3588 \t Occupation\n",
            "11 \t object \t 2255 \t EmploymentStatus\n",
            "12 \t float64 \t 7625 \t EmploymentStatusDuration\n",
            "13 \t object \t 100596 \t GroupKey\n",
            "14 \t float64 \t 591 \t CreditScoreRangeLower\n",
            "15 \t float64 \t 591 \t CreditScoreRangeUpper\n",
            "16 \t object \t 697 \t FirstRecordedCreditLine\n",
            "17 \t float64 \t 7604 \t CurrentCreditLines\n",
            "18 \t float64 \t 7604 \t OpenCreditLines\n",
            "19 \t float64 \t 697 \t TotalCreditLinespast7years\n",
            "20 \t float64 \t 697 \t InquiriesLast6Months\n",
            "21 \t float64 \t 1159 \t TotalInquiries\n",
            "22 \t float64 \t 697 \t CurrentDelinquencies\n",
            "23 \t float64 \t 7622 \t AmountDelinquent\n",
            "24 \t float64 \t 990 \t DelinquenciesLast7Years\n",
            "25 \t float64 \t 697 \t PublicRecordsLast10Years\n",
            "26 \t float64 \t 7604 \t PublicRecordsLast12Months\n",
            "27 \t float64 \t 7604 \t RevolvingCreditBalance\n",
            "28 \t float64 \t 7604 \t BankcardUtilization\n",
            "29 \t float64 \t 7544 \t AvailableBankcardCredit\n",
            "30 \t float64 \t 7544 \t TotalTrades\n",
            "31 \t float64 \t 7544 \t TradesNeverDelinquent (percentage)\n",
            "32 \t float64 \t 7544 \t TradesOpenedLast6Months\n",
            "33 \t float64 \t 8554 \t DebtToIncomeRatio\n"
          ]
        }
      ]
    },
    {
      "cell_type": "code",
      "source": [
        "data.drop('ProsperRating (numeric)',axis=1, inplace= True) # ProsperRating (numeric) & ProsperRating (Alpha) same column\n",
        "data.drop('ListingKey',axis=1, inplace= True) #unique key like id \n"
      ],
      "metadata": {
        "id": "jPdYGSj0IPUZ"
      },
      "execution_count": 29,
      "outputs": []
    },
    {
      "cell_type": "code",
      "source": [
        "data.drop('GroupKey',axis=1, inplace= True)  # have 100,000 null "
      ],
      "metadata": {
        "id": "KrUDrwe3JYb5"
      },
      "execution_count": 30,
      "outputs": []
    },
    {
      "cell_type": "code",
      "source": [
        "sns.catplot(x=\"TradesOpenedLast6Months\", kind=\"box\", data=data)"
      ],
      "metadata": {
        "colab": {
          "base_uri": "https://localhost:8080/",
          "height": 387
        },
        "id": "woCs6qU3Jnvn",
        "outputId": "8c844852-7a43-462d-e08f-a7494642c758"
      },
      "execution_count": 31,
      "outputs": [
        {
          "output_type": "execute_result",
          "data": {
            "text/plain": [
              "<seaborn.axisgrid.FacetGrid at 0x7fe675edd350>"
            ]
          },
          "metadata": {},
          "execution_count": 31
        },
        {
          "output_type": "display_data",
          "data": {
            "text/plain": [
              "<Figure size 360x360 with 1 Axes>"
            ],
            "image/png": "[encoded data removed]"
          },
          "metadata": {
            "needs_background": "light"
          }
        }
      ]
    },
    {
      "cell_type": "code",
      "source": [
        "data['TradesOpenedLast6Months'].replace(np.nan,float(data['TradesOpenedLast6Months'].mode()),inplace=True) \n",
        "data['TradesOpenedLast6Months'].astype('float64') #replace null with mode Because column have outlier"
      ],
      "metadata": {
        "colab": {
          "base_uri": "https://localhost:8080/"
        },
        "id": "RVqq2oG3KoWH",
        "outputId": "81f546a2-346f-4c37-b3a4-d08de48f0ee9"
      },
      "execution_count": 32,
      "outputs": [
        {
          "output_type": "execute_result",
          "data": {
            "text/plain": [
              "0         0.0\n",
              "1         2.0\n",
              "2         0.0\n",
              "3         0.0\n",
              "4         2.0\n",
              "         ... \n",
              "113932    3.0\n",
              "113933    0.0\n",
              "113934    0.0\n",
              "113935    1.0\n",
              "113936    0.0\n",
              "Name: TradesOpenedLast6Months, Length: 113937, dtype: float64"
            ]
          },
          "metadata": {},
          "execution_count": 32
        }
      ]
    },
    {
      "cell_type": "code",
      "source": [
        ""
      ],
      "metadata": {
        "id": "3Td0ONvELb32"
      },
      "execution_count": 32,
      "outputs": []
    },
    {
      "cell_type": "code",
      "source": [
        "arr = ['DelinquenciesLast7Years', 'PublicRecordsLast12Months', 'RevolvingCreditBalance', 'BankcardUtilization', 'AvailableBankcardCredit',\n",
        "       'TotalTrades','TradesNeverDelinquent (percentage)','OpenCreditLines','CurrentCreditLines']\n",
        " # Visualization all columns\n",
        " # to show if have outlier \n",
        "for columns in arr:\n",
        "    plt.figure(figsize=(10,5))\n",
        "    sns.catplot(x=columns, kind=\"box\", data=data)\n",
        "    plt.show()\n",
        "    data[columns].replace(np.nan,float(data[columns].mode()),inplace=True) \n",
        "    data[columns].astype('float64') #replace null with mode Because column have outlier"
      ],
      "metadata": {
        "colab": {
          "base_uri": "https://localhost:8080/",
          "height": 1000
        },
        "id": "jh4gfV0IMG-r",
        "outputId": "491e9735-a050-4df1-b911-319921306986"
      },
      "execution_count": 33,
      "outputs": [
        {
          "output_type": "display_data",
          "data": {
            "text/plain": [
              "<Figure size 720x360 with 0 Axes>"
            ]
          },
          "metadata": {}
        },
        {
          "output_type": "display_data",
          "data": {
            "text/plain": [
              "<Figure size 360x360 with 1 Axes>"
            ],
            "image/png": "[encoded data removed]"
          },
          "metadata": {
            "needs_background": "light"
          }
        },
        {
          "output_type": "display_data",
          "data": {
            "text/plain": [
              "<Figure size 720x360 with 0 Axes>"
            ]
          },
          "metadata": {}
        },
        {
          "output_type": "display_data",
          "data": {
            "text/plain": [
              "<Figure size 360x360 with 1 Axes>"
            ],
            "image/png": "[encoded data removed]"
          },
          "metadata": {
            "needs_background": "light"
          }
        },
        {
          "output_type": "display_data",
          "data": {
            "text/plain": [
              "<Figure size 720x360 with 0 Axes>"
            ]
          },
          "metadata": {}
        },
        {
          "output_type": "display_data",
          "data": {
            "text/plain": [
              "<Figure size 360x360 with 1 Axes>"
            ],
            "image/png": "[encoded data removed]"
          },
          "metadata": {
            "needs_background": "light"
          }
        },
        {
          "output_type": "display_data",
          "data": {
            "text/plain": [
              "<Figure size 720x360 with 0 Axes>"
            ]
          },
          "metadata": {}
        },
        {
          "output_type": "display_data",
          "data": {
            "text/plain": [
              "<Figure size 360x360 with 1 Axes>"
            ],
            "image/png": "[encoded data removed]"
          },
          "metadata": {
            "needs_background": "light"
          }
        },
        {
          "output_type": "display_data",
          "data": {
            "text/plain": [
              "<Figure size 720x360 with 0 Axes>"
            ]
          },
          "metadata": {}
        },
        {
          "output_type": "display_data",
          "data": {
            "text/plain": [
              "<Figure size 360x360 with 1 Axes>"
            ],
            "image/png": "[encoded data removed]"
          },
          "metadata": {
            "needs_background": "light"
          }
        },
        {
          "output_type": "display_data",
          "data": {
            "text/plain": [
              "<Figure size 720x360 with 0 Axes>"
            ]
          },
          "metadata": {}
        },
        {
          "output_type": "display_data",
          "data": {
            "text/plain": [
              "<Figure size 360x360 with 1 Axes>"
            ],
            "image/png": "[encoded data removed]"
          },
          "metadata": {
            "needs_background": "light"
          }
        },
        {
          "output_type": "display_data",
          "data": {
            "text/plain": [
              "<Figure size 720x360 with 0 Axes>"
            ]
          },
          "metadata": {}
        },
        {
          "output_type": "display_data",
          "data": {
            "text/plain": [
              "<Figure size 360x360 with 1 Axes>"
            ],
            "image/png": "[encoded data removed]"
          },
          "metadata": {
            "needs_background": "light"
          }
        },
        {
          "output_type": "display_data",
          "data": {
            "text/plain": [
              "<Figure size 720x360 with 0 Axes>"
            ]
          },
          "metadata": {}
        },
        {
          "output_type": "display_data",
          "data": {
            "text/plain": [
              "<Figure size 360x360 with 1 Axes>"
            ],
            "image/png": "[encoded data removed]"
          },
          "metadata": {
            "needs_background": "light"
          }
        },
        {
          "output_type": "display_data",
          "data": {
            "text/plain": [
              "<Figure size 720x360 with 0 Axes>"
            ]
          },
          "metadata": {}
        },
        {
          "output_type": "display_data",
          "data": {
            "text/plain": [
              "<Figure size 360x360 with 1 Axes>"
            ],
            "image/png": "[encoded data removed]"
          },
          "metadata": {
            "needs_background": "light"
          }
        }
      ]
    },
    {
      "cell_type": "code",
      "source": [
        "#columns unique  \n",
        "for i in data.columns :\n",
        "  if data[i].nunique() > 112000:\n",
        "    print(data[i].nunique() , '\\t' , i)"
      ],
      "metadata": {
        "colab": {
          "base_uri": "https://localhost:8080/"
        },
        "id": "eRRxYoOyMd7v",
        "outputId": "79938a54-1d3c-40a1-9c6e-bc4a19d06df4"
      },
      "execution_count": 34,
      "outputs": [
        {
          "output_type": "stream",
          "name": "stdout",
          "text": [
            "113066 \t ListingNumber\n",
            "113064 \t ListingCreationDate\n",
            "112992 \t DateCreditPulled\n",
            "113066 \t LoanKey\n",
            "113066 \t LoanNumber\n"
          ]
        }
      ]
    },
    {
      "cell_type": "code",
      "source": [
        "#drop this columns \n",
        "unique_value = ['LoanKey', 'ListingNumber' ,'ListingCreationDate','LoanNumber','DateCreditPulled' ]\n",
        "for i in unique_value:\n",
        "  data.drop(i,axis=1, inplace= True) "
      ],
      "metadata": {
        "id": "0g6tNQWETte1"
      },
      "execution_count": 35,
      "outputs": []
    },
    {
      "cell_type": "code",
      "source": [
        "data.shape"
      ],
      "metadata": {
        "colab": {
          "base_uri": "https://localhost:8080/"
        },
        "id": "oNCjAhS3Uu-U",
        "outputId": "2eae951d-adc1-4ef2-e7fd-c653f822a354"
      },
      "execution_count": 36,
      "outputs": [
        {
          "output_type": "execute_result",
          "data": {
            "text/plain": [
              "(113937, 73)"
            ]
          },
          "metadata": {},
          "execution_count": 36
        }
      ]
    },
    {
      "cell_type": "code",
      "source": [
        "data['CreditGrade'].replace('NC',np.nan,inplace=True) "
      ],
      "metadata": {
        "id": "w5XA5BsrWAS7"
      },
      "execution_count": 37,
      "outputs": []
    },
    {
      "cell_type": "code",
      "source": [
        "data['Grade'] = np.nan"
      ],
      "metadata": {
        "id": "TJYtMXRYee07"
      },
      "execution_count": 38,
      "outputs": []
    },
    {
      "cell_type": "code",
      "source": [
        "if (data['ProsperRating (Alpha)'][1] != np.nan):\n",
        "  print('ssssss')"
      ],
      "metadata": {
        "colab": {
          "base_uri": "https://localhost:8080/"
        },
        "id": "vGf38nCWicXC",
        "outputId": "3c2178c7-bfa3-4bc1-d080-075db58eb3d3"
      },
      "execution_count": 56,
      "outputs": [
        {
          "output_type": "stream",
          "name": "stdout",
          "text": [
            "ssssss\n"
          ]
        }
      ]
    },
    {
      "cell_type": "code",
      "source": [
        "for i in range(data.shape[0]):\n",
        "  if data['ProsperRating (Alpha)'].isna()[i]:    \n",
        "   data['Grade'][i]  = data['ProsperRating (Alpha)'][i]\n",
        "  elif data['CreditGrade'].isna()[i] : \n",
        "    data['Grade'][i]  = data['CreditGrade'][i]"
      ],
      "metadata": {
        "colab": {
          "base_uri": "https://localhost:8080/"
        },
        "id": "gm0bIuGgdo7p",
        "outputId": "f38ad7dd-0b41-4255-dcb9-b5ecfb33948b"
      },
      "execution_count": 65,
      "outputs": [
        {
          "output_type": "stream",
          "name": "stderr",
          "text": [
            "/usr/local/lib/python3.7/dist-packages/ipykernel_launcher.py:3: SettingWithCopyWarning: \n",
            "A value is trying to be set on a copy of a slice from a DataFrame\n",
            "\n",
            "See the caveats in the documentation: https://pandas.pydata.org/pandas-docs/stable/user_guide/indexing.html#returning-a-view-versus-a-copy\n",
            "  This is separate from the ipykernel package so we can avoid doing imports until\n",
            "/usr/local/lib/python3.7/dist-packages/ipykernel_launcher.py:5: SettingWithCopyWarning: \n",
            "A value is trying to be set on a copy of a slice from a DataFrame\n",
            "\n",
            "See the caveats in the documentation: https://pandas.pydata.org/pandas-docs/stable/user_guide/indexing.html#returning-a-view-versus-a-copy\n",
            "  \"\"\"\n"
          ]
        }
      ]
    },
    {
      "cell_type": "code",
      "source": [
        "data['Grade'].isna().sum()"
      ],
      "metadata": {
        "colab": {
          "base_uri": "https://localhost:8080/"
        },
        "id": "5DVXZTrge5c6",
        "outputId": "6fc3c948-64e5-470a-982a-6cbfd9cfef6d"
      },
      "execution_count": 68,
      "outputs": [
        {
          "output_type": "execute_result",
          "data": {
            "text/plain": [
              "113937"
            ]
          },
          "metadata": {},
          "execution_count": 68
        }
      ]
    },
    {
      "cell_type": "code",
      "source": [
        "data[['Grade','ProsperRating (Alpha)']]"
      ],
      "metadata": {
        "colab": {
          "base_uri": "https://localhost:8080/",
          "height": 423
        },
        "id": "VDnyVMdeftqZ",
        "outputId": "26ccaadb-7297-41c2-dccd-dc0318b901d1"
      },
      "execution_count": 69,
      "outputs": [
        {
          "output_type": "execute_result",
          "data": {
            "text/plain": [
              "        Grade ProsperRating (Alpha)\n",
              "0         NaN                   NaN\n",
              "1         NaN                     A\n",
              "2         NaN                   NaN\n",
              "3         NaN                     A\n",
              "4         NaN                     D\n",
              "...       ...                   ...\n",
              "113932    NaN                     C\n",
              "113933    NaN                     A\n",
              "113934    NaN                     D\n",
              "113935    NaN                     C\n",
              "113936    NaN                     A\n",
              "\n",
              "[113937 rows x 2 columns]"
            ],
            "text/html": [
              "\n",
              "  <div id=\"df-578b1894-4f70-4463-96be-2c6d0d485444\">\n",
              "    <div class=\"colab-df-container\">\n",
              "      <div>\n",
              "<style scoped>\n",
              "    .dataframe tbody tr th:only-of-type {\n",
              "        vertical-align: middle;\n",
              "    }\n",
              "\n",
              "    .dataframe tbody tr th {\n",
              "        vertical-align: top;\n",
              "    }\n",
              "\n",
              "    .dataframe thead th {\n",
              "        text-align: right;\n",
              "    }\n",
              "</style>\n",
              "<table border=\"1\" class=\"dataframe\">\n",
              "  <thead>\n",
              "    <tr style=\"text-align: right;\">\n",
              "      <th></th>\n",
              "      <th>Grade</th>\n",
              "      <th>ProsperRating (Alpha)</th>\n",
              "    </tr>\n",
              "  </thead>\n",
              "  <tbody>\n",
              "    <tr>\n",
              "      <th>0</th>\n",
              "      <td>NaN</td>\n",
              "      <td>NaN</td>\n",
              "    </tr>\n",
              "    <tr>\n",
              "      <th>1</th>\n",
              "      <td>NaN</td>\n",
              "      <td>A</td>\n",
              "    </tr>\n",
              "    <tr>\n",
              "      <th>2</th>\n",
              "      <td>NaN</td>\n",
              "      <td>NaN</td>\n",
              "    </tr>\n",
              "    <tr>\n",
              "      <th>3</th>\n",
              "      <td>NaN</td>\n",
              "      <td>A</td>\n",
              "    </tr>\n",
              "    <tr>\n",
              "      <th>4</th>\n",
              "      <td>NaN</td>\n",
              "      <td>D</td>\n",
              "    </tr>\n",
              "    <tr>\n",
              "      <th>...</th>\n",
              "      <td>...</td>\n",
              "      <td>...</td>\n",
              "    </tr>\n",
              "    <tr>\n",
              "      <th>113932</th>\n",
              "      <td>NaN</td>\n",
              "      <td>C</td>\n",
              "    </tr>\n",
              "    <tr>\n",
              "      <th>113933</th>\n",
              "      <td>NaN</td>\n",
              "      <td>A</td>\n",
              "    </tr>\n",
              "    <tr>\n",
              "      <th>113934</th>\n",
              "      <td>NaN</td>\n",
              "      <td>D</td>\n",
              "    </tr>\n",
              "    <tr>\n",
              "      <th>113935</th>\n",
              "      <td>NaN</td>\n",
              "      <td>C</td>\n",
              "    </tr>\n",
              "    <tr>\n",
              "      <th>113936</th>\n",
              "      <td>NaN</td>\n",
              "      <td>A</td>\n",
              "    </tr>\n",
              "  </tbody>\n",
              "</table>\n",
              "<p>113937 rows × 2 columns</p>\n",
              "</div>\n",
              "      <button class=\"colab-df-convert\" onclick=\"convertToInteractive('df-578b1894-4f70-4463-96be-2c6d0d485444')\"\n",
              "              title=\"Convert this dataframe to an interactive table.\"\n",
              "              style=\"display:none;\">\n",
              "        \n",
              "  <svg xmlns=\"http://www.w3.org/2000/svg\" height=\"24px\"viewBox=\"0 0 24 24\"\n",
              "       width=\"24px\">\n",
              "    <path d=\"M0 0h24v24H0V0z\" fill=\"none\"/>\n",
              "    <path d=\"M18.56 5.44l.94 2.06.94-2.06 2.06-.94-2.06-.94-.94-2.06-.94 2.06-2.06.94zm-11 1L8.5 8.5l.94-2.06 2.06-.94-2.06-.94L8.5 2.5l-.94 2.06-2.06.94zm10 10l.94 2.06.94-2.06 2.06-.94-2.06-.94-.94-2.06-.94 2.06-2.06.94z\"/><path d=\"M17.41 7.96l-1.37-1.37c-.4-.4-.92-.59-1.43-.59-.52 0-1.04.2-1.43.59L10.3 9.45l-7.72 7.72c-.78.78-.78 2.05 0 2.83L4 21.41c.39.39.9.59 1.41.59.51 0 1.02-.2 1.41-.59l7.78-7.78 2.81-2.81c.8-.78.8-2.07 0-2.86zM5.41 20L4 18.59l7.72-7.72 1.47 1.35L5.41 20z\"/>\n",
              "  </svg>\n",
              "      </button>\n",
              "      \n",
              "  <style>\n",
              "    .colab-df-container {\n",
              "      display:flex;\n",
              "      flex-wrap:wrap;\n",
              "      gap: 12px;\n",
              "    }\n",
              "\n",
              "    .colab-df-convert {\n",
              "      background-color: #E8F0FE;\n",
              "      border: none;\n",
              "      border-radius: 50%;\n",
              "      cursor: pointer;\n",
              "      display: none;\n",
              "      fill: #1967D2;\n",
              "      height: 32px;\n",
              "      padding: 0 0 0 0;\n",
              "      width: 32px;\n",
              "    }\n",
              "\n",
              "    .colab-df-convert:hover {\n",
              "      background-color: #E2EBFA;\n",
              "      box-shadow: 0px 1px 2px rgba(60, 64, 67, 0.3), 0px 1px 3px 1px rgba(60, 64, 67, 0.15);\n",
              "      fill: #174EA6;\n",
              "    }\n",
              "\n",
              "    [theme=dark] .colab-df-convert {\n",
              "      background-color: #3B4455;\n",
              "      fill: #D2E3FC;\n",
              "    }\n",
              "\n",
              "    [theme=dark] .colab-df-convert:hover {\n",
              "      background-color: #434B5C;\n",
              "      box-shadow: 0px 1px 3px 1px rgba(0, 0, 0, 0.15);\n",
              "      filter: drop-shadow(0px 1px 2px rgba(0, 0, 0, 0.3));\n",
              "      fill: #FFFFFF;\n",
              "    }\n",
              "  </style>\n",
              "\n",
              "      <script>\n",
              "        const buttonEl =\n",
              "          document.querySelector('#df-578b1894-4f70-4463-96be-2c6d0d485444 button.colab-df-convert');\n",
              "        buttonEl.style.display =\n",
              "          google.colab.kernel.accessAllowed ? 'block' : 'none';\n",
              "\n",
              "        async function convertToInteractive(key) {\n",
              "          const element = document.querySelector('#df-578b1894-4f70-4463-96be-2c6d0d485444');\n",
              "          const dataTable =\n",
              "            await google.colab.kernel.invokeFunction('convertToInteractive',\n",
              "                                                     [key], {});\n",
              "          if (!dataTable) return;\n",
              "\n",
              "          const docLinkHtml = 'Like what you see? Visit the ' +\n",
              "            '<a target=\"_blank\" href=https://colab.research.google.com/notebooks/data_table.ipynb>data table notebook</a>'\n",
              "            + ' to learn more about interactive tables.';\n",
              "          element.innerHTML = '';\n",
              "          dataTable['output_type'] = 'display_data';\n",
              "          await google.colab.output.renderOutput(dataTable, element);\n",
              "          const docLink = document.createElement('div');\n",
              "          docLink.innerHTML = docLinkHtml;\n",
              "          element.appendChild(docLink);\n",
              "        }\n",
              "      </script>\n",
              "    </div>\n",
              "  </div>\n",
              "  "
            ]
          },
          "metadata": {},
          "execution_count": 69
        }
      ]
    },
    {
      "cell_type": "code",
      "source": [
        "data['ProsperRating (Alpha)'].isna()[1]"
      ],
      "metadata": {
        "colab": {
          "base_uri": "https://localhost:8080/"
        },
        "id": "XZInpw-YguPI",
        "outputId": "251ba750-317d-43ec-fcd8-14778c26cd8d"
      },
      "execution_count": 63,
      "outputs": [
        {
          "output_type": "execute_result",
          "data": {
            "text/plain": [
              "False"
            ]
          },
          "metadata": {},
          "execution_count": 63
        }
      ]
    },
    {
      "cell_type": "code",
      "source": [
        ""
      ],
      "metadata": {
        "id": "VbQKk3a_kBNw"
      },
      "execution_count": null,
      "outputs": []
    }
  ]
}