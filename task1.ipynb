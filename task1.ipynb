{
  "nbformat": 4,
  "nbformat_minor": 0,
  "metadata": {
    "colab": {
      "name": "task1.ipynb",
      "provenance": [],
      "authorship_tag": "ABX9TyP0uNHG507oAgyE70bs2ZWW",
      "include_colab_link": true
    },
    "kernelspec": {
      "name": "python3",
      "display_name": "Python 3"
    },
    "language_info": {
      "name": "python"
    }
  },
  "cells": [
    {
      "cell_type": "markdown",
      "metadata": {
        "id": "view-in-github",
        "colab_type": "text"
      },
      "source": [
        "<a href=\"https://colab.research.google.com/github/MAboElFottouh/Predictive-Modelling-Using-Social-Profile-in-Online-P2P-Lending-Market-Project-TCS56EA/blob/main/task1.ipynb\" target=\"_parent\"><img src=\"https://colab.research.google.com/assets/colab-badge.svg\" alt=\"Open In Colab\"/></a>"
      ]
    },
    {
      "cell_type": "code",
      "execution_count": 1,
      "metadata": {
        "colab": {
          "base_uri": "https://localhost:8080/"
        },
        "id": "gA4q6IvDoLK3",
        "outputId": "426df165-7975-49d7-bd0a-a469347f80f5"
      },
      "outputs": [
        {
          "output_type": "stream",
          "name": "stdout",
          "text": [
            "Mounted at /content/drive\n"
          ]
        }
      ],
      "source": [
        "from google.colab import drive\n",
        "drive.mount('/content/drive')"
      ]
    },
    {
      "cell_type": "code",
      "source": [
        "import pandas  as pd #Data manipulation\n",
        "import numpy as np #Data manipulation\n",
        "import matplotlib.pyplot as plt # Visualization\n",
        "import seaborn as sns #Visualization"
      ],
      "metadata": {
        "id": "kYKGCsjRoPDV"
      },
      "execution_count": 2,
      "outputs": []
    },
    {
      "cell_type": "code",
      "source": [
        "data = pd.read_csv(\"/content/drive/MyDrive/prosperLoanData.csv\")"
      ],
      "metadata": {
        "id": "oCHg3P9FoQc-"
      },
      "execution_count": 3,
      "outputs": []
    },
    {
      "cell_type": "code",
      "source": [
        "print('\\nNumber of rows and columns in the data set: ',data.shape)\n",
        "#Lets look into top few rows and columns in the dataset\n",
        "data.head()"
      ],
      "metadata": {
        "colab": {
          "base_uri": "https://localhost:8080/",
          "height": 423
        },
        "id": "A1_bWKipoURK",
        "outputId": "8a3a7f2f-82ce-46e2-f28c-00624783b137"
      },
      "execution_count": 4,
      "outputs": [
        {
          "output_type": "stream",
          "name": "stdout",
          "text": [
            "\n",
            "Number of rows and columns in the data set:  (113937, 81)\n"
          ]
        },
        {
          "output_type": "execute_result",
          "data": {
            "text/plain": [
              "                ListingKey  ListingNumber            ListingCreationDate  \\\n",
              "0  1021339766868145413AB3B         193129  2007-08-26 19:09:29.263000000   \n",
              "1  10273602499503308B223C1        1209647  2014-02-27 08:28:07.900000000   \n",
              "2  0EE9337825851032864889A          81716  2007-01-05 15:00:47.090000000   \n",
              "3  0EF5356002482715299901A         658116  2012-10-22 11:02:35.010000000   \n",
              "4  0F023589499656230C5E3E2         909464  2013-09-14 18:38:39.097000000   \n",
              "\n",
              "  CreditGrade  Term LoanStatus           ClosedDate  BorrowerAPR  \\\n",
              "0           C    36  Completed  2009-08-14 00:00:00      0.16516   \n",
              "1         NaN    36    Current                  NaN      0.12016   \n",
              "2          HR    36  Completed  2009-12-17 00:00:00      0.28269   \n",
              "3         NaN    36    Current                  NaN      0.12528   \n",
              "4         NaN    36    Current                  NaN      0.24614   \n",
              "\n",
              "   BorrowerRate  LenderYield  ...  LP_ServiceFees  LP_CollectionFees  \\\n",
              "0        0.1580       0.1380  ...         -133.18                0.0   \n",
              "1        0.0920       0.0820  ...            0.00                0.0   \n",
              "2        0.2750       0.2400  ...          -24.20                0.0   \n",
              "3        0.0974       0.0874  ...         -108.01                0.0   \n",
              "4        0.2085       0.1985  ...          -60.27                0.0   \n",
              "\n",
              "   LP_GrossPrincipalLoss  LP_NetPrincipalLoss LP_NonPrincipalRecoverypayments  \\\n",
              "0                    0.0                  0.0                             0.0   \n",
              "1                    0.0                  0.0                             0.0   \n",
              "2                    0.0                  0.0                             0.0   \n",
              "3                    0.0                  0.0                             0.0   \n",
              "4                    0.0                  0.0                             0.0   \n",
              "\n",
              "   PercentFunded  Recommendations InvestmentFromFriendsCount  \\\n",
              "0            1.0                0                          0   \n",
              "1            1.0                0                          0   \n",
              "2            1.0                0                          0   \n",
              "3            1.0                0                          0   \n",
              "4            1.0                0                          0   \n",
              "\n",
              "  InvestmentFromFriendsAmount Investors  \n",
              "0                         0.0       258  \n",
              "1                         0.0         1  \n",
              "2                         0.0        41  \n",
              "3                         0.0       158  \n",
              "4                         0.0        20  \n",
              "\n",
              "[5 rows x 81 columns]"
            ],
            "text/html": [
              "\n",
              "  <div id=\"df-08a03e9e-616d-439c-95f3-183210664737\">\n",
              "    <div class=\"colab-df-container\">\n",
              "      <div>\n",
              "<style scoped>\n",
              "    .dataframe tbody tr th:only-of-type {\n",
              "        vertical-align: middle;\n",
              "    }\n",
              "\n",
              "    .dataframe tbody tr th {\n",
              "        vertical-align: top;\n",
              "    }\n",
              "\n",
              "    .dataframe thead th {\n",
              "        text-align: right;\n",
              "    }\n",
              "</style>\n",
              "<table border=\"1\" class=\"dataframe\">\n",
              "  <thead>\n",
              "    <tr style=\"text-align: right;\">\n",
              "      <th></th>\n",
              "      <th>ListingKey</th>\n",
              "      <th>ListingNumber</th>\n",
              "      <th>ListingCreationDate</th>\n",
              "      <th>CreditGrade</th>\n",
              "      <th>Term</th>\n",
              "      <th>LoanStatus</th>\n",
              "      <th>ClosedDate</th>\n",
              "      <th>BorrowerAPR</th>\n",
              "      <th>BorrowerRate</th>\n",
              "      <th>LenderYield</th>\n",
              "      <th>...</th>\n",
              "      <th>LP_ServiceFees</th>\n",
              "      <th>LP_CollectionFees</th>\n",
              "      <th>LP_GrossPrincipalLoss</th>\n",
              "      <th>LP_NetPrincipalLoss</th>\n",
              "      <th>LP_NonPrincipalRecoverypayments</th>\n",
              "      <th>PercentFunded</th>\n",
              "      <th>Recommendations</th>\n",
              "      <th>InvestmentFromFriendsCount</th>\n",
              "      <th>InvestmentFromFriendsAmount</th>\n",
              "      <th>Investors</th>\n",
              "    </tr>\n",
              "  </thead>\n",
              "  <tbody>\n",
              "    <tr>\n",
              "      <th>0</th>\n",
              "      <td>1021339766868145413AB3B</td>\n",
              "      <td>193129</td>\n",
              "      <td>2007-08-26 19:09:29.263000000</td>\n",
              "      <td>C</td>\n",
              "      <td>36</td>\n",
              "      <td>Completed</td>\n",
              "      <td>2009-08-14 00:00:00</td>\n",
              "      <td>0.16516</td>\n",
              "      <td>0.1580</td>\n",
              "      <td>0.1380</td>\n",
              "      <td>...</td>\n",
              "      <td>-133.18</td>\n",
              "      <td>0.0</td>\n",
              "      <td>0.0</td>\n",
              "      <td>0.0</td>\n",
              "      <td>0.0</td>\n",
              "      <td>1.0</td>\n",
              "      <td>0</td>\n",
              "      <td>0</td>\n",
              "      <td>0.0</td>\n",
              "      <td>258</td>\n",
              "    </tr>\n",
              "    <tr>\n",
              "      <th>1</th>\n",
              "      <td>10273602499503308B223C1</td>\n",
              "      <td>1209647</td>\n",
              "      <td>2014-02-27 08:28:07.900000000</td>\n",
              "      <td>NaN</td>\n",
              "      <td>36</td>\n",
              "      <td>Current</td>\n",
              "      <td>NaN</td>\n",
              "      <td>0.12016</td>\n",
              "      <td>0.0920</td>\n",
              "      <td>0.0820</td>\n",
              "      <td>...</td>\n",
              "      <td>0.00</td>\n",
              "      <td>0.0</td>\n",
              "      <td>0.0</td>\n",
              "      <td>0.0</td>\n",
              "      <td>0.0</td>\n",
              "      <td>1.0</td>\n",
              "      <td>0</td>\n",
              "      <td>0</td>\n",
              "      <td>0.0</td>\n",
              "      <td>1</td>\n",
              "    </tr>\n",
              "    <tr>\n",
              "      <th>2</th>\n",
              "      <td>0EE9337825851032864889A</td>\n",
              "      <td>81716</td>\n",
              "      <td>2007-01-05 15:00:47.090000000</td>\n",
              "      <td>HR</td>\n",
              "      <td>36</td>\n",
              "      <td>Completed</td>\n",
              "      <td>2009-12-17 00:00:00</td>\n",
              "      <td>0.28269</td>\n",
              "      <td>0.2750</td>\n",
              "      <td>0.2400</td>\n",
              "      <td>...</td>\n",
              "      <td>-24.20</td>\n",
              "      <td>0.0</td>\n",
              "      <td>0.0</td>\n",
              "      <td>0.0</td>\n",
              "      <td>0.0</td>\n",
              "      <td>1.0</td>\n",
              "      <td>0</td>\n",
              "      <td>0</td>\n",
              "      <td>0.0</td>\n",
              "      <td>41</td>\n",
              "    </tr>\n",
              "    <tr>\n",
              "      <th>3</th>\n",
              "      <td>0EF5356002482715299901A</td>\n",
              "      <td>658116</td>\n",
              "      <td>2012-10-22 11:02:35.010000000</td>\n",
              "      <td>NaN</td>\n",
              "      <td>36</td>\n",
              "      <td>Current</td>\n",
              "      <td>NaN</td>\n",
              "      <td>0.12528</td>\n",
              "      <td>0.0974</td>\n",
              "      <td>0.0874</td>\n",
              "      <td>...</td>\n",
              "      <td>-108.01</td>\n",
              "      <td>0.0</td>\n",
              "      <td>0.0</td>\n",
              "      <td>0.0</td>\n",
              "      <td>0.0</td>\n",
              "      <td>1.0</td>\n",
              "      <td>0</td>\n",
              "      <td>0</td>\n",
              "      <td>0.0</td>\n",
              "      <td>158</td>\n",
              "    </tr>\n",
              "    <tr>\n",
              "      <th>4</th>\n",
              "      <td>0F023589499656230C5E3E2</td>\n",
              "      <td>909464</td>\n",
              "      <td>2013-09-14 18:38:39.097000000</td>\n",
              "      <td>NaN</td>\n",
              "      <td>36</td>\n",
              "      <td>Current</td>\n",
              "      <td>NaN</td>\n",
              "      <td>0.24614</td>\n",
              "      <td>0.2085</td>\n",
              "      <td>0.1985</td>\n",
              "      <td>...</td>\n",
              "      <td>-60.27</td>\n",
              "      <td>0.0</td>\n",
              "      <td>0.0</td>\n",
              "      <td>0.0</td>\n",
              "      <td>0.0</td>\n",
              "      <td>1.0</td>\n",
              "      <td>0</td>\n",
              "      <td>0</td>\n",
              "      <td>0.0</td>\n",
              "      <td>20</td>\n",
              "    </tr>\n",
              "  </tbody>\n",
              "</table>\n",
              "<p>5 rows × 81 columns</p>\n",
              "</div>\n",
              "      <button class=\"colab-df-convert\" onclick=\"convertToInteractive('df-08a03e9e-616d-439c-95f3-183210664737')\"\n",
              "              title=\"Convert this dataframe to an interactive table.\"\n",
              "              style=\"display:none;\">\n",
              "        \n",
              "  <svg xmlns=\"http://www.w3.org/2000/svg\" height=\"24px\"viewBox=\"0 0 24 24\"\n",
              "       width=\"24px\">\n",
              "    <path d=\"M0 0h24v24H0V0z\" fill=\"none\"/>\n",
              "    <path d=\"M18.56 5.44l.94 2.06.94-2.06 2.06-.94-2.06-.94-.94-2.06-.94 2.06-2.06.94zm-11 1L8.5 8.5l.94-2.06 2.06-.94-2.06-.94L8.5 2.5l-.94 2.06-2.06.94zm10 10l.94 2.06.94-2.06 2.06-.94-2.06-.94-.94-2.06-.94 2.06-2.06.94z\"/><path d=\"M17.41 7.96l-1.37-1.37c-.4-.4-.92-.59-1.43-.59-.52 0-1.04.2-1.43.59L10.3 9.45l-7.72 7.72c-.78.78-.78 2.05 0 2.83L4 21.41c.39.39.9.59 1.41.59.51 0 1.02-.2 1.41-.59l7.78-7.78 2.81-2.81c.8-.78.8-2.07 0-2.86zM5.41 20L4 18.59l7.72-7.72 1.47 1.35L5.41 20z\"/>\n",
              "  </svg>\n",
              "      </button>\n",
              "      \n",
              "  <style>\n",
              "    .colab-df-container {\n",
              "      display:flex;\n",
              "      flex-wrap:wrap;\n",
              "      gap: 12px;\n",
              "    }\n",
              "\n",
              "    .colab-df-convert {\n",
              "      background-color: #E8F0FE;\n",
              "      border: none;\n",
              "      border-radius: 50%;\n",
              "      cursor: pointer;\n",
              "      display: none;\n",
              "      fill: #1967D2;\n",
              "      height: 32px;\n",
              "      padding: 0 0 0 0;\n",
              "      width: 32px;\n",
              "    }\n",
              "\n",
              "    .colab-df-convert:hover {\n",
              "      background-color: #E2EBFA;\n",
              "      box-shadow: 0px 1px 2px rgba(60, 64, 67, 0.3), 0px 1px 3px 1px rgba(60, 64, 67, 0.15);\n",
              "      fill: #174EA6;\n",
              "    }\n",
              "\n",
              "    [theme=dark] .colab-df-convert {\n",
              "      background-color: #3B4455;\n",
              "      fill: #D2E3FC;\n",
              "    }\n",
              "\n",
              "    [theme=dark] .colab-df-convert:hover {\n",
              "      background-color: #434B5C;\n",
              "      box-shadow: 0px 1px 3px 1px rgba(0, 0, 0, 0.15);\n",
              "      filter: drop-shadow(0px 1px 2px rgba(0, 0, 0, 0.3));\n",
              "      fill: #FFFFFF;\n",
              "    }\n",
              "  </style>\n",
              "\n",
              "      <script>\n",
              "        const buttonEl =\n",
              "          document.querySelector('#df-08a03e9e-616d-439c-95f3-183210664737 button.colab-df-convert');\n",
              "        buttonEl.style.display =\n",
              "          google.colab.kernel.accessAllowed ? 'block' : 'none';\n",
              "\n",
              "        async function convertToInteractive(key) {\n",
              "          const element = document.querySelector('#df-08a03e9e-616d-439c-95f3-183210664737');\n",
              "          const dataTable =\n",
              "            await google.colab.kernel.invokeFunction('convertToInteractive',\n",
              "                                                     [key], {});\n",
              "          if (!dataTable) return;\n",
              "\n",
              "          const docLinkHtml = 'Like what you see? Visit the ' +\n",
              "            '<a target=\"_blank\" href=https://colab.research.google.com/notebooks/data_table.ipynb>data table notebook</a>'\n",
              "            + ' to learn more about interactive tables.';\n",
              "          element.innerHTML = '';\n",
              "          dataTable['output_type'] = 'display_data';\n",
              "          await google.colab.output.renderOutput(dataTable, element);\n",
              "          const docLink = document.createElement('div');\n",
              "          docLink.innerHTML = docLinkHtml;\n",
              "          element.appendChild(docLink);\n",
              "        }\n",
              "      </script>\n",
              "    </div>\n",
              "  </div>\n",
              "  "
            ]
          },
          "metadata": {},
          "execution_count": 4
        }
      ]
    },
    {
      "cell_type": "code",
      "source": [
        "data.info() #show data info"
      ],
      "metadata": {
        "colab": {
          "base_uri": "https://localhost:8080/"
        },
        "id": "roKhh7Mzotai",
        "outputId": "7f453efd-579d-409f-c1f6-925a0439928e"
      },
      "execution_count": 5,
      "outputs": [
        {
          "output_type": "stream",
          "name": "stdout",
          "text": [
            "<class 'pandas.core.frame.DataFrame'>\n",
            "RangeIndex: 113937 entries, 0 to 113936\n",
            "Data columns (total 81 columns):\n",
            " #   Column                               Non-Null Count   Dtype  \n",
            "---  ------                               --------------   -----  \n",
            " 0   ListingKey                           113937 non-null  object \n",
            " 1   ListingNumber                        113937 non-null  int64  \n",
            " 2   ListingCreationDate                  113937 non-null  object \n",
            " 3   CreditGrade                          28953 non-null   object \n",
            " 4   Term                                 113937 non-null  int64  \n",
            " 5   LoanStatus                           113937 non-null  object \n",
            " 6   ClosedDate                           55089 non-null   object \n",
            " 7   BorrowerAPR                          113912 non-null  float64\n",
            " 8   BorrowerRate                         113937 non-null  float64\n",
            " 9   LenderYield                          113937 non-null  float64\n",
            " 10  EstimatedEffectiveYield              84853 non-null   float64\n",
            " 11  EstimatedLoss                        84853 non-null   float64\n",
            " 12  EstimatedReturn                      84853 non-null   float64\n",
            " 13  ProsperRating (numeric)              84853 non-null   float64\n",
            " 14  ProsperRating (Alpha)                84853 non-null   object \n",
            " 15  ProsperScore                         84853 non-null   float64\n",
            " 16  ListingCategory (numeric)            113937 non-null  int64  \n",
            " 17  BorrowerState                        108422 non-null  object \n",
            " 18  Occupation                           110349 non-null  object \n",
            " 19  EmploymentStatus                     111682 non-null  object \n",
            " 20  EmploymentStatusDuration             106312 non-null  float64\n",
            " 21  IsBorrowerHomeowner                  113937 non-null  bool   \n",
            " 22  CurrentlyInGroup                     113937 non-null  bool   \n",
            " 23  GroupKey                             13341 non-null   object \n",
            " 24  DateCreditPulled                     113937 non-null  object \n",
            " 25  CreditScoreRangeLower                113346 non-null  float64\n",
            " 26  CreditScoreRangeUpper                113346 non-null  float64\n",
            " 27  FirstRecordedCreditLine              113240 non-null  object \n",
            " 28  CurrentCreditLines                   106333 non-null  float64\n",
            " 29  OpenCreditLines                      106333 non-null  float64\n",
            " 30  TotalCreditLinespast7years           113240 non-null  float64\n",
            " 31  OpenRevolvingAccounts                113937 non-null  int64  \n",
            " 32  OpenRevolvingMonthlyPayment          113937 non-null  float64\n",
            " 33  InquiriesLast6Months                 113240 non-null  float64\n",
            " 34  TotalInquiries                       112778 non-null  float64\n",
            " 35  CurrentDelinquencies                 113240 non-null  float64\n",
            " 36  AmountDelinquent                     106315 non-null  float64\n",
            " 37  DelinquenciesLast7Years              112947 non-null  float64\n",
            " 38  PublicRecordsLast10Years             113240 non-null  float64\n",
            " 39  PublicRecordsLast12Months            106333 non-null  float64\n",
            " 40  RevolvingCreditBalance               106333 non-null  float64\n",
            " 41  BankcardUtilization                  106333 non-null  float64\n",
            " 42  AvailableBankcardCredit              106393 non-null  float64\n",
            " 43  TotalTrades                          106393 non-null  float64\n",
            " 44  TradesNeverDelinquent (percentage)   106393 non-null  float64\n",
            " 45  TradesOpenedLast6Months              106393 non-null  float64\n",
            " 46  DebtToIncomeRatio                    105383 non-null  float64\n",
            " 47  IncomeRange                          113937 non-null  object \n",
            " 48  IncomeVerifiable                     113937 non-null  bool   \n",
            " 49  StatedMonthlyIncome                  113937 non-null  float64\n",
            " 50  LoanKey                              113937 non-null  object \n",
            " 51  TotalProsperLoans                    22085 non-null   float64\n",
            " 52  TotalProsperPaymentsBilled           22085 non-null   float64\n",
            " 53  OnTimeProsperPayments                22085 non-null   float64\n",
            " 54  ProsperPaymentsLessThanOneMonthLate  22085 non-null   float64\n",
            " 55  ProsperPaymentsOneMonthPlusLate      22085 non-null   float64\n",
            " 56  ProsperPrincipalBorrowed             22085 non-null   float64\n",
            " 57  ProsperPrincipalOutstanding          22085 non-null   float64\n",
            " 58  ScorexChangeAtTimeOfListing          18928 non-null   float64\n",
            " 59  LoanCurrentDaysDelinquent            113937 non-null  int64  \n",
            " 60  LoanFirstDefaultedCycleNumber        16952 non-null   float64\n",
            " 61  LoanMonthsSinceOrigination           113937 non-null  int64  \n",
            " 62  LoanNumber                           113937 non-null  int64  \n",
            " 63  LoanOriginalAmount                   113937 non-null  int64  \n",
            " 64  LoanOriginationDate                  113937 non-null  object \n",
            " 65  LoanOriginationQuarter               113937 non-null  object \n",
            " 66  MemberKey                            113937 non-null  object \n",
            " 67  MonthlyLoanPayment                   113937 non-null  float64\n",
            " 68  LP_CustomerPayments                  113937 non-null  float64\n",
            " 69  LP_CustomerPrincipalPayments         113937 non-null  float64\n",
            " 70  LP_InterestandFees                   113937 non-null  float64\n",
            " 71  LP_ServiceFees                       113937 non-null  float64\n",
            " 72  LP_CollectionFees                    113937 non-null  float64\n",
            " 73  LP_GrossPrincipalLoss                113937 non-null  float64\n",
            " 74  LP_NetPrincipalLoss                  113937 non-null  float64\n",
            " 75  LP_NonPrincipalRecoverypayments      113937 non-null  float64\n",
            " 76  PercentFunded                        113937 non-null  float64\n",
            " 77  Recommendations                      113937 non-null  int64  \n",
            " 78  InvestmentFromFriendsCount           113937 non-null  int64  \n",
            " 79  InvestmentFromFriendsAmount          113937 non-null  float64\n",
            " 80  Investors                            113937 non-null  int64  \n",
            "dtypes: bool(3), float64(50), int64(11), object(17)\n",
            "memory usage: 68.1+ MB\n"
          ]
        }
      ]
    },
    {
      "cell_type": "markdown",
      "source": [
        "**dtypes: bool(3), float64(50), int64(11), object(17)**"
      ],
      "metadata": {
        "id": "skUsnGZao3z4"
      }
    },
    {
      "cell_type": "markdown",
      "source": [
        "## **check null values**"
      ],
      "metadata": {
        "id": "pzH6JfeKshCd"
      }
    },
    {
      "cell_type": "code",
      "source": [
        "data.duplicated().sum() #check duplicated row"
      ],
      "metadata": {
        "colab": {
          "base_uri": "https://localhost:8080/"
        },
        "id": "zg2-KxPL-NsG",
        "outputId": "b0f8993b-65ed-480d-8ca4-e437b94fdbc5"
      },
      "execution_count": 6,
      "outputs": [
        {
          "output_type": "execute_result",
          "data": {
            "text/plain": [
              "0"
            ]
          },
          "metadata": {},
          "execution_count": 6
        }
      ]
    },
    {
      "cell_type": "code",
      "source": [
        "#split null object and numerical\n",
        "nan_object = []\n",
        "nan_float64 = []\n",
        "for i in range(data.shape[1]):\n",
        "  if (data.isna().sum()[i] != 0 ): #if have null only\n",
        "      if (data[data.columns[i]].dtypes == 'object'):\n",
        "        nan_object.append(data[data.columns[i]].dtypes)\n",
        "        nan_object.append(data.isna().sum()[i] )\n",
        "        nan_object.append(data.columns[i])\n",
        "      elif(data[data.columns[i]].dtypes == 'float64' or data[data.columns[i]].dtypes == 'int64' ):\n",
        "        nan_float64.append(data[data.columns[i]].dtypes)\n",
        "        nan_float64.append(data.isna().sum()[i] )\n",
        "        nan_float64.append(data.columns[i])"
      ],
      "metadata": {
        "id": "LE7Q5pQTo15-"
      },
      "execution_count": 7,
      "outputs": []
    },
    {
      "cell_type": "code",
      "source": [
        "#print null values\n",
        "for i in range(0,len(nan_object)-2,3): # loop 0 to len array - 3 \n",
        "  print(nan_object[i],'\\t',nan_object[i+1],'\\t',nan_object[i+2])\n",
        "for i in range(0,len(nan_float64)-2,3):\n",
        "  print(nan_float64[i],'\\t',nan_float64[i+1],'\\t',nan_float64[i+2])"
      ],
      "metadata": {
        "colab": {
          "base_uri": "https://localhost:8080/"
        },
        "id": "W80RI5eipFt0",
        "outputId": "99c4bd20-0c11-41a9-bef0-039c6b641ea8"
      },
      "execution_count": 8,
      "outputs": [
        {
          "output_type": "stream",
          "name": "stdout",
          "text": [
            "object \t 84984 \t CreditGrade\n",
            "object \t 58848 \t ClosedDate\n",
            "object \t 29084 \t ProsperRating (Alpha)\n",
            "object \t 5515 \t BorrowerState\n",
            "object \t 3588 \t Occupation\n",
            "object \t 2255 \t EmploymentStatus\n",
            "object \t 100596 \t GroupKey\n",
            "object \t 697 \t FirstRecordedCreditLine\n",
            "float64 \t 25 \t BorrowerAPR\n",
            "float64 \t 29084 \t EstimatedEffectiveYield\n",
            "float64 \t 29084 \t EstimatedLoss\n",
            "float64 \t 29084 \t EstimatedReturn\n",
            "float64 \t 29084 \t ProsperRating (numeric)\n",
            "float64 \t 29084 \t ProsperScore\n",
            "float64 \t 7625 \t EmploymentStatusDuration\n",
            "float64 \t 591 \t CreditScoreRangeLower\n",
            "float64 \t 591 \t CreditScoreRangeUpper\n",
            "float64 \t 7604 \t CurrentCreditLines\n",
            "float64 \t 7604 \t OpenCreditLines\n",
            "float64 \t 697 \t TotalCreditLinespast7years\n",
            "float64 \t 697 \t InquiriesLast6Months\n",
            "float64 \t 1159 \t TotalInquiries\n",
            "float64 \t 697 \t CurrentDelinquencies\n",
            "float64 \t 7622 \t AmountDelinquent\n",
            "float64 \t 990 \t DelinquenciesLast7Years\n",
            "float64 \t 697 \t PublicRecordsLast10Years\n",
            "float64 \t 7604 \t PublicRecordsLast12Months\n",
            "float64 \t 7604 \t RevolvingCreditBalance\n",
            "float64 \t 7604 \t BankcardUtilization\n",
            "float64 \t 7544 \t AvailableBankcardCredit\n",
            "float64 \t 7544 \t TotalTrades\n",
            "float64 \t 7544 \t TradesNeverDelinquent (percentage)\n",
            "float64 \t 7544 \t TradesOpenedLast6Months\n",
            "float64 \t 8554 \t DebtToIncomeRatio\n",
            "float64 \t 91852 \t TotalProsperLoans\n",
            "float64 \t 91852 \t TotalProsperPaymentsBilled\n",
            "float64 \t 91852 \t OnTimeProsperPayments\n",
            "float64 \t 91852 \t ProsperPaymentsLessThanOneMonthLate\n",
            "float64 \t 91852 \t ProsperPaymentsOneMonthPlusLate\n",
            "float64 \t 91852 \t ProsperPrincipalBorrowed\n",
            "float64 \t 91852 \t ProsperPrincipalOutstanding\n",
            "float64 \t 95009 \t ScorexChangeAtTimeOfListing\n",
            "float64 \t 96985 \t LoanFirstDefaultedCycleNumber\n"
          ]
        }
      ]
    },
    {
      "cell_type": "markdown",
      "source": [
        "1 : What are the most number of borrowers Credit Grade?"
      ],
      "metadata": {
        "id": "89uY0OEivDkT"
      }
    },
    {
      "cell_type": "code",
      "source": [
        "print(data['CreditGrade'].value_counts())\n",
        "sns.catplot(x=\"CreditGrade\", kind=\"count\", palette=\"ch:.25\", data=data)"
      ],
      "metadata": {
        "colab": {
          "base_uri": "https://localhost:8080/",
          "height": 552
        },
        "id": "wrOCPV8NrcQ8",
        "outputId": "75fb7ae0-2cee-4904-9392-58f6cae2b70a"
      },
      "execution_count": 9,
      "outputs": [
        {
          "output_type": "stream",
          "name": "stdout",
          "text": [
            "C     5649\n",
            "D     5153\n",
            "B     4389\n",
            "AA    3509\n",
            "HR    3508\n",
            "A     3315\n",
            "E     3289\n",
            "NC     141\n",
            "Name: CreditGrade, dtype: int64\n"
          ]
        },
        {
          "output_type": "execute_result",
          "data": {
            "text/plain": [
              "<seaborn.axisgrid.FacetGrid at 0x7f35479bd790>"
            ]
          },
          "metadata": {},
          "execution_count": 9
        },
        {
          "output_type": "display_data",
          "data": {
            "text/plain": [
              "<Figure size 360x360 with 1 Axes>"
            ],
            "image/png": "[encoded data removed]"
          },
          "metadata": {
            "needs_background": "light"
          }
        }
      ]
    },
    {
      "cell_type": "markdown",
      "source": [
        "2 : Since there are so much low Credit Grade such as C and D , does it lead to a higher amount of deliquency?"
      ],
      "metadata": {
        "id": "mEAtoKbyAg8v"
      }
    },
    {
      "cell_type": "code",
      "source": [
        "sns.displot(data, x=\"CreditGrade\", y=\"LoanStatus\")"
      ],
      "metadata": {
        "colab": {
          "base_uri": "https://localhost:8080/",
          "height": 387
        },
        "id": "FKGcQNRJ_xIO",
        "outputId": "52d09175-4837-40bd-9012-0ee181d9b224"
      },
      "execution_count": 10,
      "outputs": [
        {
          "output_type": "execute_result",
          "data": {
            "text/plain": [
              "<seaborn.axisgrid.FacetGrid at 0x7f354831c110>"
            ]
          },
          "metadata": {},
          "execution_count": 10
        },
        {
          "output_type": "display_data",
          "data": {
            "text/plain": [
              "<Figure size 360x360 with 1 Axes>"
            ],
            "image/png": "[encoded data removed]"
          },
          "metadata": {
            "needs_background": "light"
          }
        }
      ]
    },
    {
      "cell_type": "code",
      "source": [
        "sns.jointplot(data=data, x=\"CreditGrade\", y=\"LoanStatus\")\n"
      ],
      "metadata": {
        "colab": {
          "base_uri": "https://localhost:8080/",
          "height": 459
        },
        "id": "5qeN65Sa5ut9",
        "outputId": "08be6f83-858e-4d33-997b-edadc0b214ed"
      },
      "execution_count": 11,
      "outputs": [
        {
          "output_type": "execute_result",
          "data": {
            "text/plain": [
              "<seaborn.axisgrid.JointGrid at 0x7f354548bc10>"
            ]
          },
          "metadata": {},
          "execution_count": 11
        },
        {
          "output_type": "display_data",
          "data": {
            "text/plain": [
              "<Figure size 432x432 with 3 Axes>"
            ],
            "image/png": "[encoded data removed]"
          },
          "metadata": {
            "needs_background": "light"
          }
        }
      ]
    },
    {
      "cell_type": "markdown",
      "source": [
        "3 : What is the highest number of BorrowerRate?"
      ],
      "metadata": {
        "id": "vRxqzgCbAkg7"
      }
    },
    {
      "cell_type": "code",
      "source": [
        "print('the highest number of BorrowerRate : ' , data['BorrowerRate'].max() )"
      ],
      "metadata": {
        "colab": {
          "base_uri": "https://localhost:8080/"
        },
        "id": "rHLfcIJX6FPG",
        "outputId": "5a17cb3d-0464-4019-dc80-856d170aa18e"
      },
      "execution_count": 12,
      "outputs": [
        {
          "output_type": "stream",
          "name": "stdout",
          "text": [
            "the highest number of BorrowerRate :  0.4975\n"
          ]
        }
      ]
    },
    {
      "cell_type": "markdown",
      "source": [
        "4-Since the highest number of Borrower Rate is between 0.1 and 0.2, does the highest number of Lender Yield is between 0.1 and 0.2?"
      ],
      "metadata": {
        "id": "9OPKVrugx-Ju"
      }
    },
    {
      "cell_type": "code",
      "source": [
        "sns.displot(data, x=\"BorrowerRate\", y=\"LenderYield\")"
      ],
      "metadata": {
        "colab": {
          "base_uri": "https://localhost:8080/",
          "height": 387
        },
        "id": "5qU-wh09_YQa",
        "outputId": "7382c0a1-453c-4489-b878-59d2a23c0fdb"
      },
      "execution_count": 16,
      "outputs": [
        {
          "output_type": "execute_result",
          "data": {
            "text/plain": [
              "<seaborn.axisgrid.FacetGrid at 0x7f35421877d0>"
            ]
          },
          "metadata": {},
          "execution_count": 16
        },
        {
          "output_type": "display_data",
          "data": {
            "text/plain": [
              "<Figure size 360x360 with 1 Axes>"
            ],
            "image/png": "[encoded data removed]"
          },
          "metadata": {
            "needs_background": "light"
          }
        }
      ]
    },
    {
      "cell_type": "markdown",
      "source": [
        "yes Because have linear correlation "
      ],
      "metadata": {
        "id": "nYU2-Lg_yHm-"
      }
    },
    {
      "cell_type": "markdown",
      "source": [
        " 5 : Is the Credit Grade really accurate? Does higher Credit Grade leads to higher Monthly Loan Payment? As for Higher Credit Grade we mean from Grade AA to B"
      ],
      "metadata": {
        "id": "k61oKx9H7KF-"
      }
    },
    {
      "cell_type": "code",
      "source": [
        "sns.displot(data, x=\"CreditGrade\", hue=\"LoanStatus\")"
      ],
      "metadata": {
        "colab": {
          "base_uri": "https://localhost:8080/",
          "height": 387
        },
        "id": "K2LiMiBF0w1m",
        "outputId": "c439e25a-37f7-4863-a25b-e6b94eb0df75"
      },
      "execution_count": 27,
      "outputs": [
        {
          "output_type": "execute_result",
          "data": {
            "text/plain": [
              "<seaborn.axisgrid.FacetGrid at 0x7f3541cf33d0>"
            ]
          },
          "metadata": {},
          "execution_count": 27
        },
        {
          "output_type": "display_data",
          "data": {
            "text/plain": [
              "<Figure size 514.625x360 with 1 Axes>"
            ],
            "image/png": "[encoded data removed]"
          },
          "metadata": {
            "needs_background": "light"
          }
        }
      ]
    },
    {
      "cell_type": "code",
      "source": [
        "data[['CreditGrade','LoanStatus']].value_counts()"
      ],
      "metadata": {
        "colab": {
          "base_uri": "https://localhost:8080/"
        },
        "id": "xiyrEH3f2ya0",
        "outputId": "6a2a5042-91b6-4543-ce8c-c264a57a1a8a"
      },
      "execution_count": 54,
      "outputs": [
        {
          "output_type": "execute_result",
          "data": {
            "text/plain": [
              "CreditGrade  LoanStatus\n",
              "C            Completed     3609\n",
              "D            Completed     3126\n",
              "B            Completed     2987\n",
              "AA           Completed     2969\n",
              "A            Completed     2505\n",
              "E            Completed     1678\n",
              "HR           Completed     1372\n",
              "D            Chargedoff    1343\n",
              "C            Chargedoff    1310\n",
              "HR           Chargedoff    1242\n",
              "E            Chargedoff     946\n",
              "B            Chargedoff     909\n",
              "HR           Defaulted      891\n",
              "C            Defaulted      729\n",
              "D            Defaulted      684\n",
              "E            Defaulted      665\n",
              "A            Chargedoff     526\n",
              "B            Defaulted      493\n",
              "AA           Chargedoff     339\n",
              "A            Defaulted      283\n",
              "AA           Defaulted      201\n",
              "NC           Defaulted       64\n",
              "             Completed       42\n",
              "             Chargedoff      35\n",
              "HR           Cancelled        3\n",
              "C            Cancelled        1\n",
              "A            Cancelled        1\n",
              "dtype: int64"
            ]
          },
          "metadata": {},
          "execution_count": 54
        }
      ]
    },
    {
      "cell_type": "code",
      "source": [
        "dataAA = data[data['CreditGrade']== 'AA']\n",
        "print('All AA = ',dataAA.shape[0])\n",
        "dataAA['LoanStatus'].value_counts()"
      ],
      "metadata": {
        "colab": {
          "base_uri": "https://localhost:8080/"
        },
        "id": "35n7out42Bi2",
        "outputId": "36ad8428-6429-4bc8-db87-a0ceec7722d1"
      },
      "execution_count": 69,
      "outputs": [
        {
          "output_type": "stream",
          "name": "stdout",
          "text": [
            "All AA =  3509\n"
          ]
        },
        {
          "output_type": "execute_result",
          "data": {
            "text/plain": [
              "Completed     2969\n",
              "Chargedoff     339\n",
              "Defaulted      201\n",
              "Name: LoanStatus, dtype: int64"
            ]
          },
          "metadata": {},
          "execution_count": 69
        }
      ]
    },
    {
      "cell_type": "code",
      "source": [
        "print('Completed status in AA = {} % '.format(2969 / 3509 * 100))"
      ],
      "metadata": {
        "colab": {
          "base_uri": "https://localhost:8080/"
        },
        "id": "gWMTwtyN69ok",
        "outputId": "d45ca9f7-ee41-4a2e-a5b8-8419c09b5d7d"
      },
      "execution_count": 76,
      "outputs": [
        {
          "output_type": "stream",
          "name": "stdout",
          "text": [
            "Completed status in AA = 84.61100028498147 % \n"
          ]
        }
      ]
    },
    {
      "cell_type": "code",
      "source": [
        "dataB = data[data['CreditGrade']== 'B']\n",
        "print('All B = ',dataB.shape[0])\n",
        "dataB['LoanStatus'].value_counts()"
      ],
      "metadata": {
        "colab": {
          "base_uri": "https://localhost:8080/"
        },
        "id": "yFSRniE12cde",
        "outputId": "e1060737-c77c-4aa8-8f79-6c3f6038d244"
      },
      "execution_count": 70,
      "outputs": [
        {
          "output_type": "stream",
          "name": "stdout",
          "text": [
            "All B =  4389\n"
          ]
        },
        {
          "output_type": "execute_result",
          "data": {
            "text/plain": [
              "Completed     2987\n",
              "Chargedoff     909\n",
              "Defaulted      493\n",
              "Name: LoanStatus, dtype: int64"
            ]
          },
          "metadata": {},
          "execution_count": 70
        }
      ]
    },
    {
      "cell_type": "code",
      "source": [
        "print('Completed status in B = {} % '.format(2987 / 4398 * 100))"
      ],
      "metadata": {
        "colab": {
          "base_uri": "https://localhost:8080/"
        },
        "id": "jITVSCEH54vc",
        "outputId": "7fa755bc-677d-4b6b-ee8c-720e906d7703"
      },
      "execution_count": 77,
      "outputs": [
        {
          "output_type": "stream",
          "name": "stdout",
          "text": [
            "Completed status in B = 67.91723510686676 % \n"
          ]
        }
      ]
    },
    {
      "cell_type": "markdown",
      "source": [
        "The Credit Grade did not decrease as the percentage of Completed decreased"
      ],
      "metadata": {
        "id": "EGwQd5zi7fBa"
      }
    },
    {
      "cell_type": "code",
      "source": [
        "dataAB = data[(data['CreditGrade'].eq('AA') | data['CreditGrade'].eq('B') |  data['CreditGrade'].eq('A'))]\n",
        "print('All B = ',dataAB.shape[0])\n",
        "dataAB['LoanStatus'].value_counts()"
      ],
      "metadata": {
        "colab": {
          "base_uri": "https://localhost:8080/"
        },
        "id": "JWzUbv4X6FsE",
        "outputId": "da8a3e9b-ded4-4a90-ca5f-bbe932c8ade7"
      },
      "execution_count": 88,
      "outputs": [
        {
          "output_type": "stream",
          "name": "stdout",
          "text": [
            "All B =  11213\n"
          ]
        },
        {
          "output_type": "execute_result",
          "data": {
            "text/plain": [
              "Completed     8461\n",
              "Chargedoff    1774\n",
              "Defaulted      977\n",
              "Cancelled        1\n",
              "Name: LoanStatus, dtype: int64"
            ]
          },
          "metadata": {},
          "execution_count": 88
        }
      ]
    },
    {
      "cell_type": "code",
      "source": [
        "print('Completed status AA to B = {} % '.format(8461 / 11213 * 100))"
      ],
      "metadata": {
        "colab": {
          "base_uri": "https://localhost:8080/"
        },
        "id": "ikmnsxjR-lWz",
        "outputId": "a4982f01-373b-42af-8ab7-81ef1c933454"
      },
      "execution_count": 89,
      "outputs": [
        {
          "output_type": "stream",
          "name": "stdout",
          "text": [
            "Completed status AA to B = 75.4570587710693 % \n"
          ]
        }
      ]
    },
    {
      "cell_type": "markdown",
      "source": [
        "### replace null "
      ],
      "metadata": {
        "id": "auLqN2Q9GdTE"
      }
    },
    {
      "cell_type": "code",
      "source": [
        "# TotalProsperLoans , TotalProsperPaymentsBilled , OnTimeProsperPayments , ProsperPaymentsLessThanOneMonthLate ,\n",
        "#ProsperPaymentsOneMonthPlusLate , ProsperPrincipalBorrowed , ProsperPrincipalOutstanding , ScorexChangeAtTimeOfListing , \n",
        "#LoanFirstDefaultedCycleNumber \n",
        "\n",
        "# all this columns value will be null if the borrower had no prior loans.\n",
        "# replace All null to 0\n",
        "\n",
        "value_will_be_null = ['TotalProsperLoans' , 'TotalProsperPaymentsBilled' , 'OnTimeProsperPayments' , 'ProsperPaymentsLessThanOneMonthLate' ,\n",
        "'ProsperPaymentsOneMonthPlusLate' , 'ProsperPrincipalBorrowed' , 'ProsperPrincipalOutstanding' , 'ScorexChangeAtTimeOfListing' , \n",
        "'LoanFirstDefaultedCycleNumber']\n",
        "\n",
        "for i in value_will_be_null:\n",
        "  data[i].replace(np.nan,0,inplace=True)\n",
        "  data[i].astype('float64')\n"
      ],
      "metadata": {
        "id": "NEc9KsJA_8_z"
      },
      "execution_count": 96,
      "outputs": []
    },
    {
      "cell_type": "code",
      "source": [
        "j = 0\n",
        "for i in range(data.shape[1]):\n",
        "  if (data.isna().sum()[i] != 0 ):\n",
        "    print(j,'\\t',data[data.columns[i]].dtypes , '\\t' ,data.isna().sum()[i] , '\\t', data.columns[i])\n",
        "    j+=1\n",
        "\n"
      ],
      "metadata": {
        "colab": {
          "base_uri": "https://localhost:8080/"
        },
        "id": "8izLpP1QHaw7",
        "outputId": "908e3d39-25b1-4c4a-8fc9-d69914150303"
      },
      "execution_count": 125,
      "outputs": [
        {
          "output_type": "stream",
          "name": "stdout",
          "text": [
            "0 \t object \t 84984 \t CreditGrade\n",
            "1 \t object \t 58848 \t ClosedDate\n",
            "2 \t float64 \t 25 \t BorrowerAPR\n",
            "3 \t float64 \t 29084 \t EstimatedEffectiveYield\n",
            "4 \t float64 \t 29084 \t EstimatedLoss\n",
            "5 \t float64 \t 29084 \t EstimatedReturn\n",
            "6 \t object \t 29084 \t ProsperRating (Alpha)\n",
            "7 \t float64 \t 29084 \t ProsperScore\n",
            "8 \t object \t 5515 \t BorrowerState\n",
            "9 \t object \t 3588 \t Occupation\n",
            "10 \t object \t 2255 \t EmploymentStatus\n",
            "11 \t float64 \t 7625 \t EmploymentStatusDuration\n",
            "12 \t float64 \t 591 \t CreditScoreRangeLower\n",
            "13 \t float64 \t 591 \t CreditScoreRangeUpper\n",
            "14 \t object \t 697 \t FirstRecordedCreditLine\n",
            "15 \t float64 \t 697 \t TotalCreditLinespast7years\n",
            "16 \t float64 \t 697 \t InquiriesLast6Months\n",
            "17 \t float64 \t 1159 \t TotalInquiries\n",
            "18 \t float64 \t 697 \t CurrentDelinquencies\n",
            "19 \t float64 \t 7622 \t AmountDelinquent\n",
            "20 \t float64 \t 697 \t PublicRecordsLast10Years\n",
            "21 \t float64 \t 8554 \t DebtToIncomeRatio\n"
          ]
        }
      ]
    },
    {
      "cell_type": "code",
      "source": [
        "data.drop('ProsperRating (numeric)',axis=1, inplace= True) # ProsperRating (numeric) & ProsperRating (Alpha) same column\n",
        "data.drop('ListingKey',axis=1, inplace= True) #unique key like id \n"
      ],
      "metadata": {
        "id": "jPdYGSj0IPUZ"
      },
      "execution_count": 99,
      "outputs": []
    },
    {
      "cell_type": "code",
      "source": [
        "data.drop('GroupKey',axis=1, inplace= True)  # have 100,000 null "
      ],
      "metadata": {
        "id": "KrUDrwe3JYb5"
      },
      "execution_count": 102,
      "outputs": []
    },
    {
      "cell_type": "code",
      "source": [
        "sns.catplot(x=\"TradesOpenedLast6Months\", kind=\"box\", data=data)"
      ],
      "metadata": {
        "colab": {
          "base_uri": "https://localhost:8080/",
          "height": 387
        },
        "id": "woCs6qU3Jnvn",
        "outputId": "0fe32f0e-018a-4389-8bfd-178cba4c5e11"
      },
      "execution_count": 107,
      "outputs": [
        {
          "output_type": "execute_result",
          "data": {
            "text/plain": [
              "<seaborn.axisgrid.FacetGrid at 0x7f353ea71610>"
            ]
          },
          "metadata": {},
          "execution_count": 107
        },
        {
          "output_type": "display_data",
          "data": {
            "text/plain": [
              "<Figure size 360x360 with 1 Axes>"
            ],
            "image/png": "[encoded data removed]"
          },
          "metadata": {
            "needs_background": "light"
          }
        }
      ]
    },
    {
      "cell_type": "code",
      "source": [
        "data['TradesOpenedLast6Months'].replace(np.nan,float(data['TradesOpenedLast6Months'].mode()),inplace=True) \n",
        "data['TradesOpenedLast6Months'].astype('float64') #replace null with mode Because column have outlier"
      ],
      "metadata": {
        "colab": {
          "base_uri": "https://localhost:8080/"
        },
        "id": "RVqq2oG3KoWH",
        "outputId": "af2f4f57-98c5-4568-d898-3af0f7cc59cb"
      },
      "execution_count": 111,
      "outputs": [
        {
          "output_type": "execute_result",
          "data": {
            "text/plain": [
              "0         0.0\n",
              "1         2.0\n",
              "2         0.0\n",
              "3         0.0\n",
              "4         2.0\n",
              "         ... \n",
              "113932    3.0\n",
              "113933    0.0\n",
              "113934    0.0\n",
              "113935    1.0\n",
              "113936    0.0\n",
              "Name: TradesOpenedLast6Months, Length: 113937, dtype: float64"
            ]
          },
          "metadata": {},
          "execution_count": 111
        }
      ]
    },
    {
      "cell_type": "code",
      "source": [
        ""
      ],
      "metadata": {
        "id": "3Td0ONvELb32"
      },
      "execution_count": null,
      "outputs": []
    },
    {
      "cell_type": "code",
      "source": [
        "arr = ['DelinquenciesLast7Years', 'PublicRecordsLast12Months', 'RevolvingCreditBalance', 'BankcardUtilization', 'AvailableBankcardCredit',\n",
        "       'TotalTrades','TradesNeverDelinquent (percentage)','OpenCreditLines','CurrentCreditLines']\n",
        " # Visualization all columns\n",
        " # to show if have outlier \n",
        "for columns in arr:\n",
        "    plt.figure(figsize=(10,5))\n",
        "    sns.catplot(x=columns, kind=\"box\", data=data)\n",
        "    plt.show()\n",
        "    data[columns].replace(np.nan,float(data[columns].mode()),inplace=True) \n",
        "    data[columns].astype('float64') #replace null with mode Because column have outlier"
      ],
      "metadata": {
        "colab": {
          "base_uri": "https://localhost:8080/",
          "height": 1000
        },
        "id": "jh4gfV0IMG-r",
        "outputId": "a73c4c69-813e-42a6-fe87-8d7ce581a7b6"
      },
      "execution_count": 119,
      "outputs": [
        {
          "output_type": "display_data",
          "data": {
            "text/plain": [
              "<Figure size 720x360 with 0 Axes>"
            ]
          },
          "metadata": {}
        },
        {
          "output_type": "display_data",
          "data": {
            "text/plain": [
              "<Figure size 360x360 with 1 Axes>"
            ],
            "image/png": "[encoded data removed]"
          },
          "metadata": {
            "needs_background": "light"
          }
        },
        {
          "output_type": "display_data",
          "data": {
            "text/plain": [
              "<Figure size 720x360 with 0 Axes>"
            ]
          },
          "metadata": {}
        },
        {
          "output_type": "display_data",
          "data": {
            "text/plain": [
              "<Figure size 360x360 with 1 Axes>"
            ],
            "image/png": "[encoded data removed]"
          },
          "metadata": {
            "needs_background": "light"
          }
        },
        {
          "output_type": "display_data",
          "data": {
            "text/plain": [
              "<Figure size 720x360 with 0 Axes>"
            ]
          },
          "metadata": {}
        },
        {
          "output_type": "display_data",
          "data": {
            "text/plain": [
              "<Figure size 360x360 with 1 Axes>"
            ],
            "image/png": "[encoded data removed]"
          },
          "metadata": {
            "needs_background": "light"
          }
        },
        {
          "output_type": "display_data",
          "data": {
            "text/plain": [
              "<Figure size 720x360 with 0 Axes>"
            ]
          },
          "metadata": {}
        },
        {
          "output_type": "display_data",
          "data": {
            "text/plain": [
              "<Figure size 360x360 with 1 Axes>"
            ],
            "image/png": "[encoded data removed]"
          },
          "metadata": {
            "needs_background": "light"
          }
        },
        {
          "output_type": "display_data",
          "data": {
            "text/plain": [
              "<Figure size 720x360 with 0 Axes>"
            ]
          },
          "metadata": {}
        },
        {
          "output_type": "display_data",
          "data": {
            "text/plain": [
              "<Figure size 360x360 with 1 Axes>"
            ],
            "image/png": "[encoded data removed]"
          },
          "metadata": {
            "needs_background": "light"
          }
        },
        {
          "output_type": "display_data",
          "data": {
            "text/plain": [
              "<Figure size 720x360 with 0 Axes>"
            ]
          },
          "metadata": {}
        },
        {
          "output_type": "display_data",
          "data": {
            "text/plain": [
              "<Figure size 360x360 with 1 Axes>"
            ],
            "image/png": "[encoded data removed]"
          },
          "metadata": {
            "needs_background": "light"
          }
        },
        {
          "output_type": "display_data",
          "data": {
            "text/plain": [
              "<Figure size 720x360 with 0 Axes>"
            ]
          },
          "metadata": {}
        },
        {
          "output_type": "display_data",
          "data": {
            "text/plain": [
              "<Figure size 360x360 with 1 Axes>"
            ],
            "image/png": "[encoded data removed]"
          },
          "metadata": {
            "needs_background": "light"
          }
        },
        {
          "output_type": "display_data",
          "data": {
            "text/plain": [
              "<Figure size 720x360 with 0 Axes>"
            ]
          },
          "metadata": {}
        },
        {
          "output_type": "display_data",
          "data": {
            "text/plain": [
              "<Figure size 360x360 with 1 Axes>"
            ],
            "image/png": "[encoded data removed]"
          },
          "metadata": {
            "needs_background": "light"
          }
        },
        {
          "output_type": "display_data",
          "data": {
            "text/plain": [
              "<Figure size 720x360 with 0 Axes>"
            ]
          },
          "metadata": {}
        },
        {
          "output_type": "display_data",
          "data": {
            "text/plain": [
              "<Figure size 360x360 with 1 Axes>"
            ],
            "image/png": "[encoded data removed]"
          },
          "metadata": {
            "needs_background": "light"
          }
        }
      ]
    },
    {
      "cell_type": "code",
      "source": [
        "#columns unique  \n",
        "for i in data.columns :\n",
        "  if data[i].nunique() > 112000:\n",
        "    print(data[i].nunique() , '\\t' , i)"
      ],
      "metadata": {
        "colab": {
          "base_uri": "https://localhost:8080/"
        },
        "id": "eRRxYoOyMd7v",
        "outputId": "f78ae645-f438-417e-cd05-ed7f9f6c2961"
      },
      "execution_count": 123,
      "outputs": [
        {
          "output_type": "stream",
          "name": "stdout",
          "text": [
            "113066 \t ListingNumber\n",
            "113064 \t ListingCreationDate\n",
            "112992 \t DateCreditPulled\n",
            "113066 \t LoanKey\n",
            "113066 \t LoanNumber\n"
          ]
        }
      ]
    },
    {
      "cell_type": "code",
      "source": [
        "#drop this columns \n",
        "unique_value = ['LoanKey', 'ListingNumber' ,'ListingCreationDate','LoanNumber','DateCreditPulled' ]\n",
        "for i in unique_value:\n",
        "  data.drop(i,axis=1, inplace= True) "
      ],
      "metadata": {
        "id": "0g6tNQWETte1"
      },
      "execution_count": 124,
      "outputs": []
    },
    {
      "cell_type": "code",
      "source": [
        "data.shape"
      ],
      "metadata": {
        "colab": {
          "base_uri": "https://localhost:8080/"
        },
        "id": "oNCjAhS3Uu-U",
        "outputId": "7299cf6b-1292-4b3c-b0a5-748464b7dd52"
      },
      "execution_count": 126,
      "outputs": [
        {
          "output_type": "execute_result",
          "data": {
            "text/plain": [
              "(113937, 73)"
            ]
          },
          "metadata": {},
          "execution_count": 126
        }
      ]
    },
    {
      "cell_type": "code",
      "source": [
        ""
      ],
      "metadata": {
        "id": "w5XA5BsrWAS7"
      },
      "execution_count": null,
      "outputs": []
    }
  ]
}