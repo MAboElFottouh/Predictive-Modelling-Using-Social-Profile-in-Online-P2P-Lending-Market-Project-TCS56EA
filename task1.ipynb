{
  "nbformat": 4,
  "nbformat_minor": 0,
  "metadata": {
    "colab": {
      "name": "task1.ipynb",
      "provenance": [],
      "authorship_tag": "ABX9TyPWfta9no4HHRX3VIuqQdVb",
      "include_colab_link": true
    },
    "kernelspec": {
      "name": "python3",
      "display_name": "Python 3"
    },
    "language_info": {
      "name": "python"
    }
  },
  "cells": [
    {
      "cell_type": "markdown",
      "metadata": {
        "id": "view-in-github",
        "colab_type": "text"
      },
      "source": [
        "<a href=\"https://colab.research.google.com/github/MAboElFottouh/Predictive-Modelling-Using-Social-Profile-in-Online-P2P-Lending-Market-Project-TCS56EA/blob/main/task1.ipynb\" target=\"_parent\"><img src=\"https://colab.research.google.com/assets/colab-badge.svg\" alt=\"Open In Colab\"/></a>"
      ]
    },
    {
      "cell_type": "code",
      "execution_count": 1,
      "metadata": {
        "colab": {
          "base_uri": "https://localhost:8080/"
        },
        "id": "gA4q6IvDoLK3",
        "outputId": "b63bc9cc-96f6-4669-de75-e942924955f0"
      },
      "outputs": [
        {
          "output_type": "stream",
          "name": "stdout",
          "text": [
            "Drive already mounted at /content/drive; to attempt to forcibly remount, call drive.mount(\"/content/drive\", force_remount=True).\n"
          ]
        }
      ],
      "source": [
        "from google.colab import drive\n",
        "drive.mount('/content/drive')"
      ]
    },
    {
      "cell_type": "code",
      "source": [
        "import pandas  as pd #Data manipulation\n",
        "import numpy as np #Data manipulation\n",
        "import matplotlib.pyplot as plt # Visualization\n",
        "import seaborn as sns #Visualization"
      ],
      "metadata": {
        "id": "kYKGCsjRoPDV"
      },
      "execution_count": 2,
      "outputs": []
    },
    {
      "cell_type": "code",
      "source": [
        "data = pd.read_csv(\"/content/drive/MyDrive/prosperLoanData.csv\")"
      ],
      "metadata": {
        "id": "oCHg3P9FoQc-"
      },
      "execution_count": 3,
      "outputs": []
    },
    {
      "cell_type": "code",
      "source": [
        "print('\\nNumber of rows and columns in the data set: ',data.shape)\n",
        "#Lets look into top few rows and columns in the dataset\n",
        "data.head()"
      ],
      "metadata": {
        "colab": {
          "base_uri": "https://localhost:8080/",
          "height": 421
        },
        "id": "A1_bWKipoURK",
        "outputId": "ab82fc68-42f6-41b4-8e32-6e2bfc05334d"
      },
      "execution_count": 4,
      "outputs": [
        {
          "output_type": "stream",
          "name": "stdout",
          "text": [
            "\n",
            "Number of rows and columns in the data set:  (113937, 81)\n"
          ]
        },
        {
          "output_type": "execute_result",
          "data": {
            "text/plain": [
              "                ListingKey  ListingNumber            ListingCreationDate  \\\n",
              "0  1021339766868145413AB3B         193129  2007-08-26 19:09:29.263000000   \n",
              "1  10273602499503308B223C1        1209647  2014-02-27 08:28:07.900000000   \n",
              "2  0EE9337825851032864889A          81716  2007-01-05 15:00:47.090000000   \n",
              "3  0EF5356002482715299901A         658116  2012-10-22 11:02:35.010000000   \n",
              "4  0F023589499656230C5E3E2         909464  2013-09-14 18:38:39.097000000   \n",
              "\n",
              "  CreditGrade  Term LoanStatus           ClosedDate  BorrowerAPR  \\\n",
              "0           C    36  Completed  2009-08-14 00:00:00      0.16516   \n",
              "1         NaN    36    Current                  NaN      0.12016   \n",
              "2          HR    36  Completed  2009-12-17 00:00:00      0.28269   \n",
              "3         NaN    36    Current                  NaN      0.12528   \n",
              "4         NaN    36    Current                  NaN      0.24614   \n",
              "\n",
              "   BorrowerRate  LenderYield  ...  LP_ServiceFees  LP_CollectionFees  \\\n",
              "0        0.1580       0.1380  ...         -133.18                0.0   \n",
              "1        0.0920       0.0820  ...            0.00                0.0   \n",
              "2        0.2750       0.2400  ...          -24.20                0.0   \n",
              "3        0.0974       0.0874  ...         -108.01                0.0   \n",
              "4        0.2085       0.1985  ...          -60.27                0.0   \n",
              "\n",
              "   LP_GrossPrincipalLoss  LP_NetPrincipalLoss LP_NonPrincipalRecoverypayments  \\\n",
              "0                    0.0                  0.0                             0.0   \n",
              "1                    0.0                  0.0                             0.0   \n",
              "2                    0.0                  0.0                             0.0   \n",
              "3                    0.0                  0.0                             0.0   \n",
              "4                    0.0                  0.0                             0.0   \n",
              "\n",
              "   PercentFunded  Recommendations InvestmentFromFriendsCount  \\\n",
              "0            1.0                0                          0   \n",
              "1            1.0                0                          0   \n",
              "2            1.0                0                          0   \n",
              "3            1.0                0                          0   \n",
              "4            1.0                0                          0   \n",
              "\n",
              "  InvestmentFromFriendsAmount Investors  \n",
              "0                         0.0       258  \n",
              "1                         0.0         1  \n",
              "2                         0.0        41  \n",
              "3                         0.0       158  \n",
              "4                         0.0        20  \n",
              "\n",
              "[5 rows x 81 columns]"
            ],
            "text/html": [
              "\n",
              "  <div id=\"df-247b0841-eb4c-49b1-9349-007f6f728884\">\n",
              "    <div class=\"colab-df-container\">\n",
              "      <div>\n",
              "<style scoped>\n",
              "    .dataframe tbody tr th:only-of-type {\n",
              "        vertical-align: middle;\n",
              "    }\n",
              "\n",
              "    .dataframe tbody tr th {\n",
              "        vertical-align: top;\n",
              "    }\n",
              "\n",
              "    .dataframe thead th {\n",
              "        text-align: right;\n",
              "    }\n",
              "</style>\n",
              "<table border=\"1\" class=\"dataframe\">\n",
              "  <thead>\n",
              "    <tr style=\"text-align: right;\">\n",
              "      <th></th>\n",
              "      <th>ListingKey</th>\n",
              "      <th>ListingNumber</th>\n",
              "      <th>ListingCreationDate</th>\n",
              "      <th>CreditGrade</th>\n",
              "      <th>Term</th>\n",
              "      <th>LoanStatus</th>\n",
              "      <th>ClosedDate</th>\n",
              "      <th>BorrowerAPR</th>\n",
              "      <th>BorrowerRate</th>\n",
              "      <th>LenderYield</th>\n",
              "      <th>...</th>\n",
              "      <th>LP_ServiceFees</th>\n",
              "      <th>LP_CollectionFees</th>\n",
              "      <th>LP_GrossPrincipalLoss</th>\n",
              "      <th>LP_NetPrincipalLoss</th>\n",
              "      <th>LP_NonPrincipalRecoverypayments</th>\n",
              "      <th>PercentFunded</th>\n",
              "      <th>Recommendations</th>\n",
              "      <th>InvestmentFromFriendsCount</th>\n",
              "      <th>InvestmentFromFriendsAmount</th>\n",
              "      <th>Investors</th>\n",
              "    </tr>\n",
              "  </thead>\n",
              "  <tbody>\n",
              "    <tr>\n",
              "      <th>0</th>\n",
              "      <td>1021339766868145413AB3B</td>\n",
              "      <td>193129</td>\n",
              "      <td>2007-08-26 19:09:29.263000000</td>\n",
              "      <td>C</td>\n",
              "      <td>36</td>\n",
              "      <td>Completed</td>\n",
              "      <td>2009-08-14 00:00:00</td>\n",
              "      <td>0.16516</td>\n",
              "      <td>0.1580</td>\n",
              "      <td>0.1380</td>\n",
              "      <td>...</td>\n",
              "      <td>-133.18</td>\n",
              "      <td>0.0</td>\n",
              "      <td>0.0</td>\n",
              "      <td>0.0</td>\n",
              "      <td>0.0</td>\n",
              "      <td>1.0</td>\n",
              "      <td>0</td>\n",
              "      <td>0</td>\n",
              "      <td>0.0</td>\n",
              "      <td>258</td>\n",
              "    </tr>\n",
              "    <tr>\n",
              "      <th>1</th>\n",
              "      <td>10273602499503308B223C1</td>\n",
              "      <td>1209647</td>\n",
              "      <td>2014-02-27 08:28:07.900000000</td>\n",
              "      <td>NaN</td>\n",
              "      <td>36</td>\n",
              "      <td>Current</td>\n",
              "      <td>NaN</td>\n",
              "      <td>0.12016</td>\n",
              "      <td>0.0920</td>\n",
              "      <td>0.0820</td>\n",
              "      <td>...</td>\n",
              "      <td>0.00</td>\n",
              "      <td>0.0</td>\n",
              "      <td>0.0</td>\n",
              "      <td>0.0</td>\n",
              "      <td>0.0</td>\n",
              "      <td>1.0</td>\n",
              "      <td>0</td>\n",
              "      <td>0</td>\n",
              "      <td>0.0</td>\n",
              "      <td>1</td>\n",
              "    </tr>\n",
              "    <tr>\n",
              "      <th>2</th>\n",
              "      <td>0EE9337825851032864889A</td>\n",
              "      <td>81716</td>\n",
              "      <td>2007-01-05 15:00:47.090000000</td>\n",
              "      <td>HR</td>\n",
              "      <td>36</td>\n",
              "      <td>Completed</td>\n",
              "      <td>2009-12-17 00:00:00</td>\n",
              "      <td>0.28269</td>\n",
              "      <td>0.2750</td>\n",
              "      <td>0.2400</td>\n",
              "      <td>...</td>\n",
              "      <td>-24.20</td>\n",
              "      <td>0.0</td>\n",
              "      <td>0.0</td>\n",
              "      <td>0.0</td>\n",
              "      <td>0.0</td>\n",
              "      <td>1.0</td>\n",
              "      <td>0</td>\n",
              "      <td>0</td>\n",
              "      <td>0.0</td>\n",
              "      <td>41</td>\n",
              "    </tr>\n",
              "    <tr>\n",
              "      <th>3</th>\n",
              "      <td>0EF5356002482715299901A</td>\n",
              "      <td>658116</td>\n",
              "      <td>2012-10-22 11:02:35.010000000</td>\n",
              "      <td>NaN</td>\n",
              "      <td>36</td>\n",
              "      <td>Current</td>\n",
              "      <td>NaN</td>\n",
              "      <td>0.12528</td>\n",
              "      <td>0.0974</td>\n",
              "      <td>0.0874</td>\n",
              "      <td>...</td>\n",
              "      <td>-108.01</td>\n",
              "      <td>0.0</td>\n",
              "      <td>0.0</td>\n",
              "      <td>0.0</td>\n",
              "      <td>0.0</td>\n",
              "      <td>1.0</td>\n",
              "      <td>0</td>\n",
              "      <td>0</td>\n",
              "      <td>0.0</td>\n",
              "      <td>158</td>\n",
              "    </tr>\n",
              "    <tr>\n",
              "      <th>4</th>\n",
              "      <td>0F023589499656230C5E3E2</td>\n",
              "      <td>909464</td>\n",
              "      <td>2013-09-14 18:38:39.097000000</td>\n",
              "      <td>NaN</td>\n",
              "      <td>36</td>\n",
              "      <td>Current</td>\n",
              "      <td>NaN</td>\n",
              "      <td>0.24614</td>\n",
              "      <td>0.2085</td>\n",
              "      <td>0.1985</td>\n",
              "      <td>...</td>\n",
              "      <td>-60.27</td>\n",
              "      <td>0.0</td>\n",
              "      <td>0.0</td>\n",
              "      <td>0.0</td>\n",
              "      <td>0.0</td>\n",
              "      <td>1.0</td>\n",
              "      <td>0</td>\n",
              "      <td>0</td>\n",
              "      <td>0.0</td>\n",
              "      <td>20</td>\n",
              "    </tr>\n",
              "  </tbody>\n",
              "</table>\n",
              "<p>5 rows × 81 columns</p>\n",
              "</div>\n",
              "      <button class=\"colab-df-convert\" onclick=\"convertToInteractive('df-247b0841-eb4c-49b1-9349-007f6f728884')\"\n",
              "              title=\"Convert this dataframe to an interactive table.\"\n",
              "              style=\"display:none;\">\n",
              "        \n",
              "  <svg xmlns=\"http://www.w3.org/2000/svg\" height=\"24px\"viewBox=\"0 0 24 24\"\n",
              "       width=\"24px\">\n",
              "    <path d=\"M0 0h24v24H0V0z\" fill=\"none\"/>\n",
              "    <path d=\"M18.56 5.44l.94 2.06.94-2.06 2.06-.94-2.06-.94-.94-2.06-.94 2.06-2.06.94zm-11 1L8.5 8.5l.94-2.06 2.06-.94-2.06-.94L8.5 2.5l-.94 2.06-2.06.94zm10 10l.94 2.06.94-2.06 2.06-.94-2.06-.94-.94-2.06-.94 2.06-2.06.94z\"/><path d=\"M17.41 7.96l-1.37-1.37c-.4-.4-.92-.59-1.43-.59-.52 0-1.04.2-1.43.59L10.3 9.45l-7.72 7.72c-.78.78-.78 2.05 0 2.83L4 21.41c.39.39.9.59 1.41.59.51 0 1.02-.2 1.41-.59l7.78-7.78 2.81-2.81c.8-.78.8-2.07 0-2.86zM5.41 20L4 18.59l7.72-7.72 1.47 1.35L5.41 20z\"/>\n",
              "  </svg>\n",
              "      </button>\n",
              "      \n",
              "  <style>\n",
              "    .colab-df-container {\n",
              "      display:flex;\n",
              "      flex-wrap:wrap;\n",
              "      gap: 12px;\n",
              "    }\n",
              "\n",
              "    .colab-df-convert {\n",
              "      background-color: #E8F0FE;\n",
              "      border: none;\n",
              "      border-radius: 50%;\n",
              "      cursor: pointer;\n",
              "      display: none;\n",
              "      fill: #1967D2;\n",
              "      height: 32px;\n",
              "      padding: 0 0 0 0;\n",
              "      width: 32px;\n",
              "    }\n",
              "\n",
              "    .colab-df-convert:hover {\n",
              "      background-color: #E2EBFA;\n",
              "      box-shadow: 0px 1px 2px rgba(60, 64, 67, 0.3), 0px 1px 3px 1px rgba(60, 64, 67, 0.15);\n",
              "      fill: #174EA6;\n",
              "    }\n",
              "\n",
              "    [theme=dark] .colab-df-convert {\n",
              "      background-color: #3B4455;\n",
              "      fill: #D2E3FC;\n",
              "    }\n",
              "\n",
              "    [theme=dark] .colab-df-convert:hover {\n",
              "      background-color: #434B5C;\n",
              "      box-shadow: 0px 1px 3px 1px rgba(0, 0, 0, 0.15);\n",
              "      filter: drop-shadow(0px 1px 2px rgba(0, 0, 0, 0.3));\n",
              "      fill: #FFFFFF;\n",
              "    }\n",
              "  </style>\n",
              "\n",
              "      <script>\n",
              "        const buttonEl =\n",
              "          document.querySelector('#df-247b0841-eb4c-49b1-9349-007f6f728884 button.colab-df-convert');\n",
              "        buttonEl.style.display =\n",
              "          google.colab.kernel.accessAllowed ? 'block' : 'none';\n",
              "\n",
              "        async function convertToInteractive(key) {\n",
              "          const element = document.querySelector('#df-247b0841-eb4c-49b1-9349-007f6f728884');\n",
              "          const dataTable =\n",
              "            await google.colab.kernel.invokeFunction('convertToInteractive',\n",
              "                                                     [key], {});\n",
              "          if (!dataTable) return;\n",
              "\n",
              "          const docLinkHtml = 'Like what you see? Visit the ' +\n",
              "            '<a target=\"_blank\" href=https://colab.research.google.com/notebooks/data_table.ipynb>data table notebook</a>'\n",
              "            + ' to learn more about interactive tables.';\n",
              "          element.innerHTML = '';\n",
              "          dataTable['output_type'] = 'display_data';\n",
              "          await google.colab.output.renderOutput(dataTable, element);\n",
              "          const docLink = document.createElement('div');\n",
              "          docLink.innerHTML = docLinkHtml;\n",
              "          element.appendChild(docLink);\n",
              "        }\n",
              "      </script>\n",
              "    </div>\n",
              "  </div>\n",
              "  "
            ]
          },
          "metadata": {},
          "execution_count": 4
        }
      ]
    },
    {
      "cell_type": "code",
      "source": [
        "data['Term'].unique()"
      ],
      "metadata": {
        "colab": {
          "base_uri": "https://localhost:8080/"
        },
        "id": "NIiiDGIecXj5",
        "outputId": "24b736e6-35a6-49a5-de12-fd15edec53a7"
      },
      "execution_count": 5,
      "outputs": [
        {
          "output_type": "execute_result",
          "data": {
            "text/plain": [
              "array([36, 60, 12])"
            ]
          },
          "metadata": {},
          "execution_count": 5
        }
      ]
    },
    {
      "cell_type": "code",
      "source": [
        "data['ProsperRating (Alpha)']"
      ],
      "metadata": {
        "colab": {
          "base_uri": "https://localhost:8080/"
        },
        "id": "OIGJWc7aau-t",
        "outputId": "52ed6a6c-b04e-44f6-9568-bdcb11edae5c"
      },
      "execution_count": 6,
      "outputs": [
        {
          "output_type": "execute_result",
          "data": {
            "text/plain": [
              "0         NaN\n",
              "1           A\n",
              "2         NaN\n",
              "3           A\n",
              "4           D\n",
              "         ... \n",
              "113932      C\n",
              "113933      A\n",
              "113934      D\n",
              "113935      C\n",
              "113936      A\n",
              "Name: ProsperRating (Alpha), Length: 113937, dtype: object"
            ]
          },
          "metadata": {},
          "execution_count": 6
        }
      ]
    },
    {
      "cell_type": "code",
      "source": [
        "data.info() #show data info"
      ],
      "metadata": {
        "colab": {
          "base_uri": "https://localhost:8080/"
        },
        "id": "roKhh7Mzotai",
        "outputId": "72b48181-fc3c-4d9f-edfa-b0beb9d5e754"
      },
      "execution_count": 7,
      "outputs": [
        {
          "output_type": "stream",
          "name": "stdout",
          "text": [
            "<class 'pandas.core.frame.DataFrame'>\n",
            "RangeIndex: 113937 entries, 0 to 113936\n",
            "Data columns (total 81 columns):\n",
            " #   Column                               Non-Null Count   Dtype  \n",
            "---  ------                               --------------   -----  \n",
            " 0   ListingKey                           113937 non-null  object \n",
            " 1   ListingNumber                        113937 non-null  int64  \n",
            " 2   ListingCreationDate                  113937 non-null  object \n",
            " 3   CreditGrade                          28953 non-null   object \n",
            " 4   Term                                 113937 non-null  int64  \n",
            " 5   LoanStatus                           113937 non-null  object \n",
            " 6   ClosedDate                           55089 non-null   object \n",
            " 7   BorrowerAPR                          113912 non-null  float64\n",
            " 8   BorrowerRate                         113937 non-null  float64\n",
            " 9   LenderYield                          113937 non-null  float64\n",
            " 10  EstimatedEffectiveYield              84853 non-null   float64\n",
            " 11  EstimatedLoss                        84853 non-null   float64\n",
            " 12  EstimatedReturn                      84853 non-null   float64\n",
            " 13  ProsperRating (numeric)              84853 non-null   float64\n",
            " 14  ProsperRating (Alpha)                84853 non-null   object \n",
            " 15  ProsperScore                         84853 non-null   float64\n",
            " 16  ListingCategory (numeric)            113937 non-null  int64  \n",
            " 17  BorrowerState                        108422 non-null  object \n",
            " 18  Occupation                           110349 non-null  object \n",
            " 19  EmploymentStatus                     111682 non-null  object \n",
            " 20  EmploymentStatusDuration             106312 non-null  float64\n",
            " 21  IsBorrowerHomeowner                  113937 non-null  bool   \n",
            " 22  CurrentlyInGroup                     113937 non-null  bool   \n",
            " 23  GroupKey                             13341 non-null   object \n",
            " 24  DateCreditPulled                     113937 non-null  object \n",
            " 25  CreditScoreRangeLower                113346 non-null  float64\n",
            " 26  CreditScoreRangeUpper                113346 non-null  float64\n",
            " 27  FirstRecordedCreditLine              113240 non-null  object \n",
            " 28  CurrentCreditLines                   106333 non-null  float64\n",
            " 29  OpenCreditLines                      106333 non-null  float64\n",
            " 30  TotalCreditLinespast7years           113240 non-null  float64\n",
            " 31  OpenRevolvingAccounts                113937 non-null  int64  \n",
            " 32  OpenRevolvingMonthlyPayment          113937 non-null  float64\n",
            " 33  InquiriesLast6Months                 113240 non-null  float64\n",
            " 34  TotalInquiries                       112778 non-null  float64\n",
            " 35  CurrentDelinquencies                 113240 non-null  float64\n",
            " 36  AmountDelinquent                     106315 non-null  float64\n",
            " 37  DelinquenciesLast7Years              112947 non-null  float64\n",
            " 38  PublicRecordsLast10Years             113240 non-null  float64\n",
            " 39  PublicRecordsLast12Months            106333 non-null  float64\n",
            " 40  RevolvingCreditBalance               106333 non-null  float64\n",
            " 41  BankcardUtilization                  106333 non-null  float64\n",
            " 42  AvailableBankcardCredit              106393 non-null  float64\n",
            " 43  TotalTrades                          106393 non-null  float64\n",
            " 44  TradesNeverDelinquent (percentage)   106393 non-null  float64\n",
            " 45  TradesOpenedLast6Months              106393 non-null  float64\n",
            " 46  DebtToIncomeRatio                    105383 non-null  float64\n",
            " 47  IncomeRange                          113937 non-null  object \n",
            " 48  IncomeVerifiable                     113937 non-null  bool   \n",
            " 49  StatedMonthlyIncome                  113937 non-null  float64\n",
            " 50  LoanKey                              113937 non-null  object \n",
            " 51  TotalProsperLoans                    22085 non-null   float64\n",
            " 52  TotalProsperPaymentsBilled           22085 non-null   float64\n",
            " 53  OnTimeProsperPayments                22085 non-null   float64\n",
            " 54  ProsperPaymentsLessThanOneMonthLate  22085 non-null   float64\n",
            " 55  ProsperPaymentsOneMonthPlusLate      22085 non-null   float64\n",
            " 56  ProsperPrincipalBorrowed             22085 non-null   float64\n",
            " 57  ProsperPrincipalOutstanding          22085 non-null   float64\n",
            " 58  ScorexChangeAtTimeOfListing          18928 non-null   float64\n",
            " 59  LoanCurrentDaysDelinquent            113937 non-null  int64  \n",
            " 60  LoanFirstDefaultedCycleNumber        16952 non-null   float64\n",
            " 61  LoanMonthsSinceOrigination           113937 non-null  int64  \n",
            " 62  LoanNumber                           113937 non-null  int64  \n",
            " 63  LoanOriginalAmount                   113937 non-null  int64  \n",
            " 64  LoanOriginationDate                  113937 non-null  object \n",
            " 65  LoanOriginationQuarter               113937 non-null  object \n",
            " 66  MemberKey                            113937 non-null  object \n",
            " 67  MonthlyLoanPayment                   113937 non-null  float64\n",
            " 68  LP_CustomerPayments                  113937 non-null  float64\n",
            " 69  LP_CustomerPrincipalPayments         113937 non-null  float64\n",
            " 70  LP_InterestandFees                   113937 non-null  float64\n",
            " 71  LP_ServiceFees                       113937 non-null  float64\n",
            " 72  LP_CollectionFees                    113937 non-null  float64\n",
            " 73  LP_GrossPrincipalLoss                113937 non-null  float64\n",
            " 74  LP_NetPrincipalLoss                  113937 non-null  float64\n",
            " 75  LP_NonPrincipalRecoverypayments      113937 non-null  float64\n",
            " 76  PercentFunded                        113937 non-null  float64\n",
            " 77  Recommendations                      113937 non-null  int64  \n",
            " 78  InvestmentFromFriendsCount           113937 non-null  int64  \n",
            " 79  InvestmentFromFriendsAmount          113937 non-null  float64\n",
            " 80  Investors                            113937 non-null  int64  \n",
            "dtypes: bool(3), float64(50), int64(11), object(17)\n",
            "memory usage: 68.1+ MB\n"
          ]
        }
      ]
    },
    {
      "cell_type": "markdown",
      "source": [
        "**dtypes: bool(3), float64(50), int64(11), object(17)**"
      ],
      "metadata": {
        "id": "skUsnGZao3z4"
      }
    },
    {
      "cell_type": "markdown",
      "source": [
        "## **check null values**"
      ],
      "metadata": {
        "id": "pzH6JfeKshCd"
      }
    },
    {
      "cell_type": "code",
      "source": [
        "data.duplicated().sum() #check duplicated row"
      ],
      "metadata": {
        "colab": {
          "base_uri": "https://localhost:8080/"
        },
        "id": "zg2-KxPL-NsG",
        "outputId": "9f87ea79-fe54-48d8-cf67-f2c3b06c6cea"
      },
      "execution_count": 8,
      "outputs": [
        {
          "output_type": "execute_result",
          "data": {
            "text/plain": [
              "0"
            ]
          },
          "metadata": {},
          "execution_count": 8
        }
      ]
    },
    {
      "cell_type": "code",
      "source": [
        "#split null object and numerical\n",
        "nan_object = []\n",
        "nan_float64 = []\n",
        "for i in range(data.shape[1]):\n",
        "  if (data.isna().sum()[i] != 0 ): #if have null only\n",
        "      if (data[data.columns[i]].dtypes == 'object'):\n",
        "        nan_object.append(data[data.columns[i]].dtypes)\n",
        "        nan_object.append(data.isna().sum()[i] )\n",
        "        nan_object.append(data.columns[i])\n",
        "      elif(data[data.columns[i]].dtypes == 'float64' or data[data.columns[i]].dtypes == 'int64' ):\n",
        "        nan_float64.append(data[data.columns[i]].dtypes)\n",
        "        nan_float64.append(data.isna().sum()[i] )\n",
        "        nan_float64.append(data.columns[i])"
      ],
      "metadata": {
        "id": "LE7Q5pQTo15-"
      },
      "execution_count": 9,
      "outputs": []
    },
    {
      "cell_type": "code",
      "source": [
        "#print null values\n",
        "for i in range(0,len(nan_object)-2,3): # loop 0 to len array - 3 \n",
        "  print(nan_object[i],'\\t',nan_object[i+1],'\\t',nan_object[i+2])\n",
        "for i in range(0,len(nan_float64)-2,3):\n",
        "  print(nan_float64[i],'\\t',nan_float64[i+1],'\\t',nan_float64[i+2])"
      ],
      "metadata": {
        "colab": {
          "base_uri": "https://localhost:8080/"
        },
        "id": "W80RI5eipFt0",
        "outputId": "554cf07f-fc3a-429b-ceb6-a8286a7ddbf9"
      },
      "execution_count": 10,
      "outputs": [
        {
          "output_type": "stream",
          "name": "stdout",
          "text": [
            "object \t 84984 \t CreditGrade\n",
            "object \t 58848 \t ClosedDate\n",
            "object \t 29084 \t ProsperRating (Alpha)\n",
            "object \t 5515 \t BorrowerState\n",
            "object \t 3588 \t Occupation\n",
            "object \t 2255 \t EmploymentStatus\n",
            "object \t 100596 \t GroupKey\n",
            "object \t 697 \t FirstRecordedCreditLine\n",
            "float64 \t 25 \t BorrowerAPR\n",
            "float64 \t 29084 \t EstimatedEffectiveYield\n",
            "float64 \t 29084 \t EstimatedLoss\n",
            "float64 \t 29084 \t EstimatedReturn\n",
            "float64 \t 29084 \t ProsperRating (numeric)\n",
            "float64 \t 29084 \t ProsperScore\n",
            "float64 \t 7625 \t EmploymentStatusDuration\n",
            "float64 \t 591 \t CreditScoreRangeLower\n",
            "float64 \t 591 \t CreditScoreRangeUpper\n",
            "float64 \t 7604 \t CurrentCreditLines\n",
            "float64 \t 7604 \t OpenCreditLines\n",
            "float64 \t 697 \t TotalCreditLinespast7years\n",
            "float64 \t 697 \t InquiriesLast6Months\n",
            "float64 \t 1159 \t TotalInquiries\n",
            "float64 \t 697 \t CurrentDelinquencies\n",
            "float64 \t 7622 \t AmountDelinquent\n",
            "float64 \t 990 \t DelinquenciesLast7Years\n",
            "float64 \t 697 \t PublicRecordsLast10Years\n",
            "float64 \t 7604 \t PublicRecordsLast12Months\n",
            "float64 \t 7604 \t RevolvingCreditBalance\n",
            "float64 \t 7604 \t BankcardUtilization\n",
            "float64 \t 7544 \t AvailableBankcardCredit\n",
            "float64 \t 7544 \t TotalTrades\n",
            "float64 \t 7544 \t TradesNeverDelinquent (percentage)\n",
            "float64 \t 7544 \t TradesOpenedLast6Months\n",
            "float64 \t 8554 \t DebtToIncomeRatio\n",
            "float64 \t 91852 \t TotalProsperLoans\n",
            "float64 \t 91852 \t TotalProsperPaymentsBilled\n",
            "float64 \t 91852 \t OnTimeProsperPayments\n",
            "float64 \t 91852 \t ProsperPaymentsLessThanOneMonthLate\n",
            "float64 \t 91852 \t ProsperPaymentsOneMonthPlusLate\n",
            "float64 \t 91852 \t ProsperPrincipalBorrowed\n",
            "float64 \t 91852 \t ProsperPrincipalOutstanding\n",
            "float64 \t 95009 \t ScorexChangeAtTimeOfListing\n",
            "float64 \t 96985 \t LoanFirstDefaultedCycleNumber\n"
          ]
        }
      ]
    },
    {
      "cell_type": "markdown",
      "source": [
        "1 : What are the most number of borrowers Credit Grade?"
      ],
      "metadata": {
        "id": "89uY0OEivDkT"
      }
    },
    {
      "cell_type": "code",
      "source": [
        "print(data['CreditGrade'].value_counts())\n",
        "sns.catplot(x=\"CreditGrade\", kind=\"count\", palette=\"ch:.25\", data=data)"
      ],
      "metadata": {
        "colab": {
          "base_uri": "https://localhost:8080/",
          "height": 543
        },
        "id": "wrOCPV8NrcQ8",
        "outputId": "2c151bf8-29a3-4fe7-ced9-aba106c34a5b"
      },
      "execution_count": 11,
      "outputs": [
        {
          "output_type": "stream",
          "name": "stdout",
          "text": [
            "C     5649\n",
            "D     5153\n",
            "B     4389\n",
            "AA    3509\n",
            "HR    3508\n",
            "A     3315\n",
            "E     3289\n",
            "NC     141\n",
            "Name: CreditGrade, dtype: int64\n"
          ]
        },
        {
          "output_type": "execute_result",
          "data": {
            "text/plain": [
              "<seaborn.axisgrid.FacetGrid at 0x7f602b268a90>"
            ]
          },
          "metadata": {},
          "execution_count": 11
        },
        {
          "output_type": "display_data",
          "data": {
            "text/plain": [
              "<Figure size 360x360 with 1 Axes>"
            ],
            "image/png": "[encoded data removed]"
          },
          "metadata": {
            "needs_background": "light"
          }
        }
      ]
    },
    {
      "cell_type": "markdown",
      "source": [
        "2 : Since there are so much low Credit Grade such as C and D , does it lead to a higher amount of deliquency?"
      ],
      "metadata": {
        "id": "mEAtoKbyAg8v"
      }
    },
    {
      "cell_type": "code",
      "source": [
        "sns.displot(data, x=\"CreditGrade\", y=\"LoanStatus\")"
      ],
      "metadata": {
        "colab": {
          "base_uri": "https://localhost:8080/",
          "height": 386
        },
        "id": "FKGcQNRJ_xIO",
        "outputId": "11fd640f-f8dd-49d8-efe0-9777ed6c279a"
      },
      "execution_count": 12,
      "outputs": [
        {
          "output_type": "execute_result",
          "data": {
            "text/plain": [
              "<seaborn.axisgrid.FacetGrid at 0x7f60291d5c10>"
            ]
          },
          "metadata": {},
          "execution_count": 12
        },
        {
          "output_type": "display_data",
          "data": {
            "text/plain": [
              "<Figure size 360x360 with 1 Axes>"
            ],
            "image/png": "[encoded data removed]"
          },
          "metadata": {
            "needs_background": "light"
          }
        }
      ]
    },
    {
      "cell_type": "code",
      "source": [
        "sns.jointplot(data=data, x=\"CreditGrade\", y=\"LoanStatus\")\n"
      ],
      "metadata": {
        "colab": {
          "base_uri": "https://localhost:8080/",
          "height": 458
        },
        "id": "5qeN65Sa5ut9",
        "outputId": "ca6c0e0c-8db1-4e31-a489-97af2b43d886"
      },
      "execution_count": 13,
      "outputs": [
        {
          "output_type": "execute_result",
          "data": {
            "text/plain": [
              "<seaborn.axisgrid.JointGrid at 0x7f602648ee10>"
            ]
          },
          "metadata": {},
          "execution_count": 13
        },
        {
          "output_type": "display_data",
          "data": {
            "text/plain": [
              "<Figure size 432x432 with 3 Axes>"
            ],
            "image/png": "[encoded data removed]"
          },
          "metadata": {
            "needs_background": "light"
          }
        }
      ]
    },
    {
      "cell_type": "markdown",
      "source": [
        "3 : What is the highest number of BorrowerRate?"
      ],
      "metadata": {
        "id": "vRxqzgCbAkg7"
      }
    },
    {
      "cell_type": "code",
      "source": [
        "print('the highest number of BorrowerRate : ' , data['BorrowerRate'].max() )"
      ],
      "metadata": {
        "colab": {
          "base_uri": "https://localhost:8080/"
        },
        "id": "rHLfcIJX6FPG",
        "outputId": "188adbc8-5860-4397-b674-8385a7811c5d"
      },
      "execution_count": 14,
      "outputs": [
        {
          "output_type": "stream",
          "name": "stdout",
          "text": [
            "the highest number of BorrowerRate :  0.4975\n"
          ]
        }
      ]
    },
    {
      "cell_type": "markdown",
      "source": [
        "4-Since the highest number of Borrower Rate is between 0.1 and 0.2, does the highest number of Lender Yield is between 0.1 and 0.2?"
      ],
      "metadata": {
        "id": "9OPKVrugx-Ju"
      }
    },
    {
      "cell_type": "code",
      "source": [
        "sns.displot(data, x=\"BorrowerRate\", y=\"LenderYield\")"
      ],
      "metadata": {
        "colab": {
          "base_uri": "https://localhost:8080/",
          "height": 386
        },
        "id": "5qU-wh09_YQa",
        "outputId": "ec0c7cb6-14c0-4ec7-f37e-b9c5c15bc408"
      },
      "execution_count": 15,
      "outputs": [
        {
          "output_type": "execute_result",
          "data": {
            "text/plain": [
              "<seaborn.axisgrid.FacetGrid at 0x7f602648ecd0>"
            ]
          },
          "metadata": {},
          "execution_count": 15
        },
        {
          "output_type": "display_data",
          "data": {
            "text/plain": [
              "<Figure size 360x360 with 1 Axes>"
            ],
            "image/png": "[encoded data removed]"
          },
          "metadata": {
            "needs_background": "light"
          }
        }
      ]
    },
    {
      "cell_type": "markdown",
      "source": [
        "yes Because have linear correlation "
      ],
      "metadata": {
        "id": "nYU2-Lg_yHm-"
      }
    },
    {
      "cell_type": "markdown",
      "source": [
        " 5 : Is the Credit Grade really accurate? Does higher Credit Grade leads to higher Monthly Loan Payment? As for Higher Credit Grade we mean from Grade AA to B"
      ],
      "metadata": {
        "id": "k61oKx9H7KF-"
      }
    },
    {
      "cell_type": "code",
      "source": [
        "sns.displot(data, x=\"CreditGrade\", hue=\"LoanStatus\")"
      ],
      "metadata": {
        "colab": {
          "base_uri": "https://localhost:8080/",
          "height": 386
        },
        "id": "K2LiMiBF0w1m",
        "outputId": "fc4f9b26-395c-44c6-cfd5-5358eddc8ed0"
      },
      "execution_count": 16,
      "outputs": [
        {
          "output_type": "execute_result",
          "data": {
            "text/plain": [
              "<seaborn.axisgrid.FacetGrid at 0x7f60262bb5d0>"
            ]
          },
          "metadata": {},
          "execution_count": 16
        },
        {
          "output_type": "display_data",
          "data": {
            "text/plain": [
              "<Figure size 514.625x360 with 1 Axes>"
            ],
            "image/png": "[encoded data removed]"
          },
          "metadata": {
            "needs_background": "light"
          }
        }
      ]
    },
    {
      "cell_type": "code",
      "source": [
        "data[['CreditGrade','LoanStatus']].value_counts()"
      ],
      "metadata": {
        "colab": {
          "base_uri": "https://localhost:8080/"
        },
        "id": "xiyrEH3f2ya0",
        "outputId": "9cb028ac-1727-4b07-9a8e-a22399357bea"
      },
      "execution_count": 17,
      "outputs": [
        {
          "output_type": "execute_result",
          "data": {
            "text/plain": [
              "CreditGrade  LoanStatus\n",
              "C            Completed     3609\n",
              "D            Completed     3126\n",
              "B            Completed     2987\n",
              "AA           Completed     2969\n",
              "A            Completed     2505\n",
              "E            Completed     1678\n",
              "HR           Completed     1372\n",
              "D            Chargedoff    1343\n",
              "C            Chargedoff    1310\n",
              "HR           Chargedoff    1242\n",
              "E            Chargedoff     946\n",
              "B            Chargedoff     909\n",
              "HR           Defaulted      891\n",
              "C            Defaulted      729\n",
              "D            Defaulted      684\n",
              "E            Defaulted      665\n",
              "A            Chargedoff     526\n",
              "B            Defaulted      493\n",
              "AA           Chargedoff     339\n",
              "A            Defaulted      283\n",
              "AA           Defaulted      201\n",
              "NC           Defaulted       64\n",
              "             Completed       42\n",
              "             Chargedoff      35\n",
              "HR           Cancelled        3\n",
              "C            Cancelled        1\n",
              "A            Cancelled        1\n",
              "dtype: int64"
            ]
          },
          "metadata": {},
          "execution_count": 17
        }
      ]
    },
    {
      "cell_type": "code",
      "source": [
        "dataAA = data[data['CreditGrade']== 'AA']\n",
        "print('All AA = ',dataAA.shape[0])\n",
        "dataAA['LoanStatus'].value_counts()"
      ],
      "metadata": {
        "colab": {
          "base_uri": "https://localhost:8080/"
        },
        "id": "35n7out42Bi2",
        "outputId": "6c41e4d4-5039-42df-c8ee-aa44be8b7d3e"
      },
      "execution_count": 18,
      "outputs": [
        {
          "output_type": "stream",
          "name": "stdout",
          "text": [
            "All AA =  3509\n"
          ]
        },
        {
          "output_type": "execute_result",
          "data": {
            "text/plain": [
              "Completed     2969\n",
              "Chargedoff     339\n",
              "Defaulted      201\n",
              "Name: LoanStatus, dtype: int64"
            ]
          },
          "metadata": {},
          "execution_count": 18
        }
      ]
    },
    {
      "cell_type": "code",
      "source": [
        "print('Completed status in AA = {} % '.format(2969 / 3509 * 100))"
      ],
      "metadata": {
        "colab": {
          "base_uri": "https://localhost:8080/"
        },
        "id": "gWMTwtyN69ok",
        "outputId": "14361b41-cece-4ecb-f443-59041741692b"
      },
      "execution_count": 19,
      "outputs": [
        {
          "output_type": "stream",
          "name": "stdout",
          "text": [
            "Completed status in AA = 84.61100028498147 % \n"
          ]
        }
      ]
    },
    {
      "cell_type": "code",
      "source": [
        "dataB = data[data['CreditGrade']== 'B']\n",
        "print('All B = ',dataB.shape[0])\n",
        "dataB['LoanStatus'].value_counts()"
      ],
      "metadata": {
        "colab": {
          "base_uri": "https://localhost:8080/"
        },
        "id": "yFSRniE12cde",
        "outputId": "f3d1f15d-b70a-4e41-b5f6-d769d1502a45"
      },
      "execution_count": 20,
      "outputs": [
        {
          "output_type": "stream",
          "name": "stdout",
          "text": [
            "All B =  4389\n"
          ]
        },
        {
          "output_type": "execute_result",
          "data": {
            "text/plain": [
              "Completed     2987\n",
              "Chargedoff     909\n",
              "Defaulted      493\n",
              "Name: LoanStatus, dtype: int64"
            ]
          },
          "metadata": {},
          "execution_count": 20
        }
      ]
    },
    {
      "cell_type": "code",
      "source": [
        "print('Completed status in B = {} % '.format(2987 / 4398 * 100))"
      ],
      "metadata": {
        "colab": {
          "base_uri": "https://localhost:8080/"
        },
        "id": "jITVSCEH54vc",
        "outputId": "c4d358b2-b5e1-4a20-a635-6a004851b9a8"
      },
      "execution_count": 21,
      "outputs": [
        {
          "output_type": "stream",
          "name": "stdout",
          "text": [
            "Completed status in B = 67.91723510686676 % \n"
          ]
        }
      ]
    },
    {
      "cell_type": "markdown",
      "source": [
        "The Credit Grade did not decrease as the percentage of Completed decreased"
      ],
      "metadata": {
        "id": "EGwQd5zi7fBa"
      }
    },
    {
      "cell_type": "code",
      "source": [
        "dataAB = data[(data['CreditGrade'].eq('AA') | data['CreditGrade'].eq('B') |  data['CreditGrade'].eq('A'))]\n",
        "print('All B = ',dataAB.shape[0])\n",
        "dataAB['LoanStatus'].value_counts()"
      ],
      "metadata": {
        "colab": {
          "base_uri": "https://localhost:8080/"
        },
        "id": "JWzUbv4X6FsE",
        "outputId": "df2fae68-b4b7-40e3-f5b7-a522494cd429"
      },
      "execution_count": 22,
      "outputs": [
        {
          "output_type": "stream",
          "name": "stdout",
          "text": [
            "All B =  11213\n"
          ]
        },
        {
          "output_type": "execute_result",
          "data": {
            "text/plain": [
              "Completed     8461\n",
              "Chargedoff    1774\n",
              "Defaulted      977\n",
              "Cancelled        1\n",
              "Name: LoanStatus, dtype: int64"
            ]
          },
          "metadata": {},
          "execution_count": 22
        }
      ]
    },
    {
      "cell_type": "code",
      "source": [
        "print('Completed status AA to B = {} % '.format(8461 / 11213 * 100))"
      ],
      "metadata": {
        "colab": {
          "base_uri": "https://localhost:8080/"
        },
        "id": "ikmnsxjR-lWz",
        "outputId": "1ff1b9d1-3e23-415f-8e8f-783c03107541"
      },
      "execution_count": 23,
      "outputs": [
        {
          "output_type": "stream",
          "name": "stdout",
          "text": [
            "Completed status AA to B = 75.4570587710693 % \n"
          ]
        }
      ]
    },
    {
      "cell_type": "markdown",
      "source": [
        "### replace null "
      ],
      "metadata": {
        "id": "auLqN2Q9GdTE"
      }
    },
    {
      "cell_type": "code",
      "source": [
        "# TotalProsperLoans , TotalProsperPaymentsBilled , OnTimeProsperPayments , ProsperPaymentsLessThanOneMonthLate ,\n",
        "#ProsperPaymentsOneMonthPlusLate , ProsperPrincipalBorrowed , ProsperPrincipalOutstanding , ScorexChangeAtTimeOfListing , \n",
        "#LoanFirstDefaultedCycleNumber \n",
        "\n",
        "# all this columns value will be null if the borrower had no prior loans.\n",
        "# replace All null to 0\n",
        "\n",
        "value_will_be_null = ['TotalProsperLoans' , 'TotalProsperPaymentsBilled' , 'OnTimeProsperPayments' , 'ProsperPaymentsLessThanOneMonthLate' ,\n",
        "'ProsperPaymentsOneMonthPlusLate' , 'ProsperPrincipalBorrowed' , 'ProsperPrincipalOutstanding' , 'ScorexChangeAtTimeOfListing' , \n",
        "'LoanFirstDefaultedCycleNumber']\n",
        "\n",
        "for i in value_will_be_null:\n",
        "  data[i].replace(np.nan,0,inplace=True)\n",
        "  data[i].astype('float64')\n"
      ],
      "metadata": {
        "id": "NEc9KsJA_8_z"
      },
      "execution_count": 24,
      "outputs": []
    },
    {
      "cell_type": "code",
      "source": [
        "print(data['CreditGrade'].unique())\n",
        "print(data['ProsperRating (Alpha)'].unique())"
      ],
      "metadata": {
        "colab": {
          "base_uri": "https://localhost:8080/"
        },
        "id": "y-4X7TN-Zazf",
        "outputId": "4940eee7-9325-4927-e6f1-fce999bc66e0"
      },
      "execution_count": 25,
      "outputs": [
        {
          "output_type": "stream",
          "name": "stdout",
          "text": [
            "['C' nan 'HR' 'AA' 'D' 'B' 'E' 'A' 'NC']\n",
            "[nan 'A' 'D' 'B' 'E' 'C' 'AA' 'HR']\n"
          ]
        }
      ]
    },
    {
      "cell_type": "code",
      "source": [
        ""
      ],
      "metadata": {
        "id": "4V3Doyebc9J5"
      },
      "execution_count": 25,
      "outputs": []
    },
    {
      "cell_type": "code",
      "source": [
        ""
      ],
      "metadata": {
        "id": "BZhsTEKqduiR"
      },
      "execution_count": 25,
      "outputs": []
    },
    {
      "cell_type": "code",
      "source": [
        "def nall_check(data):\n",
        "  nana=[]\n",
        "  j = 0\n",
        "  for i in range(data.shape[1]):\n",
        "    if (data.isna().sum()[i] != 0 ):\n",
        "      print(j,'\\t',data[data.columns[i]].dtypes , '\\t' ,data.isna().sum()[i] , '\\t', data.columns[i])\n",
        "      j+=1\n",
        "      nana.append(data.columns[i])\n",
        "  return nana\n"
      ],
      "metadata": {
        "id": "8izLpP1QHaw7"
      },
      "execution_count": 26,
      "outputs": []
    },
    {
      "cell_type": "code",
      "source": [
        ""
      ],
      "metadata": {
        "id": "6jG8QGg4Hj-q"
      },
      "execution_count": 26,
      "outputs": []
    },
    {
      "cell_type": "code",
      "source": [
        "data.drop('ProsperRating (numeric)',axis=1, inplace= True) # ProsperRating (numeric) & ProsperRating (Alpha) same column\n",
        "data.drop('ListingKey',axis=1, inplace= True) #unique key like id \n"
      ],
      "metadata": {
        "id": "jPdYGSj0IPUZ"
      },
      "execution_count": 27,
      "outputs": []
    },
    {
      "cell_type": "code",
      "source": [
        "data.drop('GroupKey',axis=1, inplace= True)  # have 100,000 null "
      ],
      "metadata": {
        "id": "KrUDrwe3JYb5"
      },
      "execution_count": 28,
      "outputs": []
    },
    {
      "cell_type": "code",
      "source": [
        "sns.catplot(x=\"TradesOpenedLast6Months\", kind=\"box\", data=data)"
      ],
      "metadata": {
        "colab": {
          "base_uri": "https://localhost:8080/",
          "height": 386
        },
        "id": "woCs6qU3Jnvn",
        "outputId": "cbea24c7-34ac-44d2-8a8b-3b2124e577ba"
      },
      "execution_count": 29,
      "outputs": [
        {
          "output_type": "execute_result",
          "data": {
            "text/plain": [
              "<seaborn.axisgrid.FacetGrid at 0x7f6029177650>"
            ]
          },
          "metadata": {},
          "execution_count": 29
        },
        {
          "output_type": "display_data",
          "data": {
            "text/plain": [
              "<Figure size 360x360 with 1 Axes>"
            ],
            "image/png": "[encoded data removed]"
          },
          "metadata": {
            "needs_background": "light"
          }
        }
      ]
    },
    {
      "cell_type": "code",
      "source": [
        "data['TradesOpenedLast6Months'].replace(np.nan,float(data['TradesOpenedLast6Months'].mode()),inplace=True) \n",
        "data['TradesOpenedLast6Months'].astype('float64') #replace null with mode Because column have outlier"
      ],
      "metadata": {
        "colab": {
          "base_uri": "https://localhost:8080/"
        },
        "id": "RVqq2oG3KoWH",
        "outputId": "d7154f04-6f59-4015-de35-a9256d54acdf"
      },
      "execution_count": 30,
      "outputs": [
        {
          "output_type": "execute_result",
          "data": {
            "text/plain": [
              "0         0.0\n",
              "1         2.0\n",
              "2         0.0\n",
              "3         0.0\n",
              "4         2.0\n",
              "         ... \n",
              "113932    3.0\n",
              "113933    0.0\n",
              "113934    0.0\n",
              "113935    1.0\n",
              "113936    0.0\n",
              "Name: TradesOpenedLast6Months, Length: 113937, dtype: float64"
            ]
          },
          "metadata": {},
          "execution_count": 30
        }
      ]
    },
    {
      "cell_type": "code",
      "source": [
        ""
      ],
      "metadata": {
        "id": "3Td0ONvELb32"
      },
      "execution_count": 30,
      "outputs": []
    },
    {
      "cell_type": "code",
      "source": [
        "arr = ['DelinquenciesLast7Years', 'PublicRecordsLast12Months', 'RevolvingCreditBalance', 'BankcardUtilization', 'AvailableBankcardCredit',\n",
        "       'TotalTrades','TradesNeverDelinquent (percentage)','OpenCreditLines','CurrentCreditLines']\n",
        " # Visualization all columns\n",
        " # to show if have outlier \n",
        "for columns in arr:\n",
        "    plt.figure(figsize=(10,5))\n",
        "    sns.catplot(x=columns, kind=\"box\", data=data)\n",
        "    plt.show()\n",
        "    data[columns].replace(np.nan,float(data[columns].mode()),inplace=True) \n",
        "    data[columns].astype('float64') #replace null with mode Because column have outlier"
      ],
      "metadata": {
        "colab": {
          "base_uri": "https://localhost:8080/",
          "height": 1000
        },
        "id": "jh4gfV0IMG-r",
        "outputId": "d0c852dc-4245-4c50-f6e8-b6d157f73c7a"
      },
      "execution_count": 31,
      "outputs": [
        {
          "output_type": "display_data",
          "data": {
            "text/plain": [
              "<Figure size 720x360 with 0 Axes>"
            ]
          },
          "metadata": {}
        },
        {
          "output_type": "display_data",
          "data": {
            "text/plain": [
              "<Figure size 360x360 with 1 Axes>"
            ],
            "image/png": "[encoded data removed]"
          },
          "metadata": {
            "needs_background": "light"
          }
        },
        {
          "output_type": "display_data",
          "data": {
            "text/plain": [
              "<Figure size 720x360 with 0 Axes>"
            ]
          },
          "metadata": {}
        },
        {
          "output_type": "display_data",
          "data": {
            "text/plain": [
              "<Figure size 360x360 with 1 Axes>"
            ],
            "image/png": "[encoded data removed]"
          },
          "metadata": {
            "needs_background": "light"
          }
        },
        {
          "output_type": "display_data",
          "data": {
            "text/plain": [
              "<Figure size 720x360 with 0 Axes>"
            ]
          },
          "metadata": {}
        },
        {
          "output_type": "display_data",
          "data": {
            "text/plain": [
              "<Figure size 360x360 with 1 Axes>"
            ],
            "image/png": "[encoded data removed]"
          },
          "metadata": {
            "needs_background": "light"
          }
        },
        {
          "output_type": "display_data",
          "data": {
            "text/plain": [
              "<Figure size 720x360 with 0 Axes>"
            ]
          },
          "metadata": {}
        },
        {
          "output_type": "display_data",
          "data": {
            "text/plain": [
              "<Figure size 360x360 with 1 Axes>"
            ],
            "image/png": "[encoded data removed]"
          },
          "metadata": {
            "needs_background": "light"
          }
        },
        {
          "output_type": "display_data",
          "data": {
            "text/plain": [
              "<Figure size 720x360 with 0 Axes>"
            ]
          },
          "metadata": {}
        },
        {
          "output_type": "display_data",
          "data": {
            "text/plain": [
              "<Figure size 360x360 with 1 Axes>"
            ],
            "image/png": "[encoded data removed]"
          },
          "metadata": {
            "needs_background": "light"
          }
        },
        {
          "output_type": "display_data",
          "data": {
            "text/plain": [
              "<Figure size 720x360 with 0 Axes>"
            ]
          },
          "metadata": {}
        },
        {
          "output_type": "display_data",
          "data": {
            "text/plain": [
              "<Figure size 360x360 with 1 Axes>"
            ],
            "image/png": "[encoded data removed]"
          },
          "metadata": {
            "needs_background": "light"
          }
        },
        {
          "output_type": "display_data",
          "data": {
            "text/plain": [
              "<Figure size 720x360 with 0 Axes>"
            ]
          },
          "metadata": {}
        },
        {
          "output_type": "display_data",
          "data": {
            "text/plain": [
              "<Figure size 360x360 with 1 Axes>"
            ],
            "image/png": "[encoded data removed]"
          },
          "metadata": {
            "needs_background": "light"
          }
        },
        {
          "output_type": "display_data",
          "data": {
            "text/plain": [
              "<Figure size 720x360 with 0 Axes>"
            ]
          },
          "metadata": {}
        },
        {
          "output_type": "display_data",
          "data": {
            "text/plain": [
              "<Figure size 360x360 with 1 Axes>"
            ],
            "image/png": "[encoded data removed]"
          },
          "metadata": {
            "needs_background": "light"
          }
        },
        {
          "output_type": "display_data",
          "data": {
            "text/plain": [
              "<Figure size 720x360 with 0 Axes>"
            ]
          },
          "metadata": {}
        },
        {
          "output_type": "display_data",
          "data": {
            "text/plain": [
              "<Figure size 360x360 with 1 Axes>"
            ],
            "image/png": "[encoded data removed]"
          },
          "metadata": {
            "needs_background": "light"
          }
        }
      ]
    },
    {
      "cell_type": "code",
      "source": [
        "#columns unique  \n",
        "for i in data.columns :\n",
        "  if data[i].nunique() > 112000:\n",
        "    print(data[i].nunique() , '\\t' , i)"
      ],
      "metadata": {
        "colab": {
          "base_uri": "https://localhost:8080/"
        },
        "id": "eRRxYoOyMd7v",
        "outputId": "34795bb1-ac76-4266-b83f-eef10a7cc3e6"
      },
      "execution_count": 32,
      "outputs": [
        {
          "output_type": "stream",
          "name": "stdout",
          "text": [
            "113066 \t ListingNumber\n",
            "113064 \t ListingCreationDate\n",
            "112992 \t DateCreditPulled\n",
            "113066 \t LoanKey\n",
            "113066 \t LoanNumber\n"
          ]
        }
      ]
    },
    {
      "cell_type": "code",
      "source": [
        "#drop this columns \n",
        "unique_value = ['LoanKey', 'ListingNumber' ,'ListingCreationDate','LoanNumber','DateCreditPulled' ]\n",
        "for i in unique_value:\n",
        "  data.drop(i,axis=1, inplace= True) "
      ],
      "metadata": {
        "id": "0g6tNQWETte1"
      },
      "execution_count": 33,
      "outputs": []
    },
    {
      "cell_type": "code",
      "source": [
        "data.shape"
      ],
      "metadata": {
        "colab": {
          "base_uri": "https://localhost:8080/"
        },
        "id": "oNCjAhS3Uu-U",
        "outputId": "08b1d112-0315-4c03-b89c-91a0080d7766"
      },
      "execution_count": 34,
      "outputs": [
        {
          "output_type": "execute_result",
          "data": {
            "text/plain": [
              "(113937, 73)"
            ]
          },
          "metadata": {},
          "execution_count": 34
        }
      ]
    },
    {
      "cell_type": "code",
      "source": [
        "data['CreditGrade'].replace('NC',np.nan,inplace=True) "
      ],
      "metadata": {
        "id": "w5XA5BsrWAS7"
      },
      "execution_count": 35,
      "outputs": []
    },
    {
      "cell_type": "code",
      "source": [
        "data['Grade'] = np.nan"
      ],
      "metadata": {
        "id": "TJYtMXRYee07"
      },
      "execution_count": 36,
      "outputs": []
    },
    {
      "cell_type": "code",
      "source": [
        "ProsperRating = data['ProsperRating (Alpha)'].isna()\n",
        "CreditGrade = data['CreditGrade'].isna()\n",
        "listA = []"
      ],
      "metadata": {
        "id": "7FcDZA3WCw4P"
      },
      "execution_count": 37,
      "outputs": []
    },
    {
      "cell_type": "code",
      "source": [
        "for i in range(data.shape[0]):\n",
        "  if ProsperRating[i]:    \n",
        "   listA.append(data['CreditGrade'][i])\n",
        "  else: \n",
        "    listA.append(data['ProsperRating (Alpha)'][i])"
      ],
      "metadata": {
        "id": "gm0bIuGgdo7p"
      },
      "execution_count": 38,
      "outputs": []
    },
    {
      "cell_type": "code",
      "source": [
        "data['Grade'] = listA"
      ],
      "metadata": {
        "id": "J1eg-16cDuoV"
      },
      "execution_count": 39,
      "outputs": []
    },
    {
      "cell_type": "code",
      "source": [
        "data['Grade'].replace(np.nan,str(data['Grade'].mode()),inplace=True) "
      ],
      "metadata": {
        "id": "h9TaMwMVD8JB"
      },
      "execution_count": 40,
      "outputs": []
    },
    {
      "cell_type": "code",
      "source": [
        "data[['Grade','ProsperRating (Alpha)','CreditGrade']]"
      ],
      "metadata": {
        "colab": {
          "base_uri": "https://localhost:8080/",
          "height": 424
        },
        "id": "VDnyVMdeftqZ",
        "outputId": "9ac32b98-9b1e-4cd2-f2b6-4fc492e26f4f"
      },
      "execution_count": 41,
      "outputs": [
        {
          "output_type": "execute_result",
          "data": {
            "text/plain": [
              "       Grade ProsperRating (Alpha) CreditGrade\n",
              "0          C                   NaN           C\n",
              "1          A                     A         NaN\n",
              "2         HR                   NaN          HR\n",
              "3          A                     A         NaN\n",
              "4          D                     D         NaN\n",
              "...      ...                   ...         ...\n",
              "113932     C                     C         NaN\n",
              "113933     A                     A         NaN\n",
              "113934     D                     D         NaN\n",
              "113935     C                     C         NaN\n",
              "113936     A                     A         NaN\n",
              "\n",
              "[113937 rows x 3 columns]"
            ],
            "text/html": [
              "\n",
              "  <div id=\"df-a964995d-05a9-4296-81e0-1b614a893d0d\">\n",
              "    <div class=\"colab-df-container\">\n",
              "      <div>\n",
              "<style scoped>\n",
              "    .dataframe tbody tr th:only-of-type {\n",
              "        vertical-align: middle;\n",
              "    }\n",
              "\n",
              "    .dataframe tbody tr th {\n",
              "        vertical-align: top;\n",
              "    }\n",
              "\n",
              "    .dataframe thead th {\n",
              "        text-align: right;\n",
              "    }\n",
              "</style>\n",
              "<table border=\"1\" class=\"dataframe\">\n",
              "  <thead>\n",
              "    <tr style=\"text-align: right;\">\n",
              "      <th></th>\n",
              "      <th>Grade</th>\n",
              "      <th>ProsperRating (Alpha)</th>\n",
              "      <th>CreditGrade</th>\n",
              "    </tr>\n",
              "  </thead>\n",
              "  <tbody>\n",
              "    <tr>\n",
              "      <th>0</th>\n",
              "      <td>C</td>\n",
              "      <td>NaN</td>\n",
              "      <td>C</td>\n",
              "    </tr>\n",
              "    <tr>\n",
              "      <th>1</th>\n",
              "      <td>A</td>\n",
              "      <td>A</td>\n",
              "      <td>NaN</td>\n",
              "    </tr>\n",
              "    <tr>\n",
              "      <th>2</th>\n",
              "      <td>HR</td>\n",
              "      <td>NaN</td>\n",
              "      <td>HR</td>\n",
              "    </tr>\n",
              "    <tr>\n",
              "      <th>3</th>\n",
              "      <td>A</td>\n",
              "      <td>A</td>\n",
              "      <td>NaN</td>\n",
              "    </tr>\n",
              "    <tr>\n",
              "      <th>4</th>\n",
              "      <td>D</td>\n",
              "      <td>D</td>\n",
              "      <td>NaN</td>\n",
              "    </tr>\n",
              "    <tr>\n",
              "      <th>...</th>\n",
              "      <td>...</td>\n",
              "      <td>...</td>\n",
              "      <td>...</td>\n",
              "    </tr>\n",
              "    <tr>\n",
              "      <th>113932</th>\n",
              "      <td>C</td>\n",
              "      <td>C</td>\n",
              "      <td>NaN</td>\n",
              "    </tr>\n",
              "    <tr>\n",
              "      <th>113933</th>\n",
              "      <td>A</td>\n",
              "      <td>A</td>\n",
              "      <td>NaN</td>\n",
              "    </tr>\n",
              "    <tr>\n",
              "      <th>113934</th>\n",
              "      <td>D</td>\n",
              "      <td>D</td>\n",
              "      <td>NaN</td>\n",
              "    </tr>\n",
              "    <tr>\n",
              "      <th>113935</th>\n",
              "      <td>C</td>\n",
              "      <td>C</td>\n",
              "      <td>NaN</td>\n",
              "    </tr>\n",
              "    <tr>\n",
              "      <th>113936</th>\n",
              "      <td>A</td>\n",
              "      <td>A</td>\n",
              "      <td>NaN</td>\n",
              "    </tr>\n",
              "  </tbody>\n",
              "</table>\n",
              "<p>113937 rows × 3 columns</p>\n",
              "</div>\n",
              "      <button class=\"colab-df-convert\" onclick=\"convertToInteractive('df-a964995d-05a9-4296-81e0-1b614a893d0d')\"\n",
              "              title=\"Convert this dataframe to an interactive table.\"\n",
              "              style=\"display:none;\">\n",
              "        \n",
              "  <svg xmlns=\"http://www.w3.org/2000/svg\" height=\"24px\"viewBox=\"0 0 24 24\"\n",
              "       width=\"24px\">\n",
              "    <path d=\"M0 0h24v24H0V0z\" fill=\"none\"/>\n",
              "    <path d=\"M18.56 5.44l.94 2.06.94-2.06 2.06-.94-2.06-.94-.94-2.06-.94 2.06-2.06.94zm-11 1L8.5 8.5l.94-2.06 2.06-.94-2.06-.94L8.5 2.5l-.94 2.06-2.06.94zm10 10l.94 2.06.94-2.06 2.06-.94-2.06-.94-.94-2.06-.94 2.06-2.06.94z\"/><path d=\"M17.41 7.96l-1.37-1.37c-.4-.4-.92-.59-1.43-.59-.52 0-1.04.2-1.43.59L10.3 9.45l-7.72 7.72c-.78.78-.78 2.05 0 2.83L4 21.41c.39.39.9.59 1.41.59.51 0 1.02-.2 1.41-.59l7.78-7.78 2.81-2.81c.8-.78.8-2.07 0-2.86zM5.41 20L4 18.59l7.72-7.72 1.47 1.35L5.41 20z\"/>\n",
              "  </svg>\n",
              "      </button>\n",
              "      \n",
              "  <style>\n",
              "    .colab-df-container {\n",
              "      display:flex;\n",
              "      flex-wrap:wrap;\n",
              "      gap: 12px;\n",
              "    }\n",
              "\n",
              "    .colab-df-convert {\n",
              "      background-color: #E8F0FE;\n",
              "      border: none;\n",
              "      border-radius: 50%;\n",
              "      cursor: pointer;\n",
              "      display: none;\n",
              "      fill: #1967D2;\n",
              "      height: 32px;\n",
              "      padding: 0 0 0 0;\n",
              "      width: 32px;\n",
              "    }\n",
              "\n",
              "    .colab-df-convert:hover {\n",
              "      background-color: #E2EBFA;\n",
              "      box-shadow: 0px 1px 2px rgba(60, 64, 67, 0.3), 0px 1px 3px 1px rgba(60, 64, 67, 0.15);\n",
              "      fill: #174EA6;\n",
              "    }\n",
              "\n",
              "    [theme=dark] .colab-df-convert {\n",
              "      background-color: #3B4455;\n",
              "      fill: #D2E3FC;\n",
              "    }\n",
              "\n",
              "    [theme=dark] .colab-df-convert:hover {\n",
              "      background-color: #434B5C;\n",
              "      box-shadow: 0px 1px 3px 1px rgba(0, 0, 0, 0.15);\n",
              "      filter: drop-shadow(0px 1px 2px rgba(0, 0, 0, 0.3));\n",
              "      fill: #FFFFFF;\n",
              "    }\n",
              "  </style>\n",
              "\n",
              "      <script>\n",
              "        const buttonEl =\n",
              "          document.querySelector('#df-a964995d-05a9-4296-81e0-1b614a893d0d button.colab-df-convert');\n",
              "        buttonEl.style.display =\n",
              "          google.colab.kernel.accessAllowed ? 'block' : 'none';\n",
              "\n",
              "        async function convertToInteractive(key) {\n",
              "          const element = document.querySelector('#df-a964995d-05a9-4296-81e0-1b614a893d0d');\n",
              "          const dataTable =\n",
              "            await google.colab.kernel.invokeFunction('convertToInteractive',\n",
              "                                                     [key], {});\n",
              "          if (!dataTable) return;\n",
              "\n",
              "          const docLinkHtml = 'Like what you see? Visit the ' +\n",
              "            '<a target=\"_blank\" href=https://colab.research.google.com/notebooks/data_table.ipynb>data table notebook</a>'\n",
              "            + ' to learn more about interactive tables.';\n",
              "          element.innerHTML = '';\n",
              "          dataTable['output_type'] = 'display_data';\n",
              "          await google.colab.output.renderOutput(dataTable, element);\n",
              "          const docLink = document.createElement('div');\n",
              "          docLink.innerHTML = docLinkHtml;\n",
              "          element.appendChild(docLink);\n",
              "        }\n",
              "      </script>\n",
              "    </div>\n",
              "  </div>\n",
              "  "
            ]
          },
          "metadata": {},
          "execution_count": 41
        }
      ]
    },
    {
      "cell_type": "code",
      "source": [
        "data.drop('ProsperRating (Alpha)',axis=1, inplace= True)  \n",
        "data.drop('CreditGrade',axis=1, inplace= True)  "
      ],
      "metadata": {
        "id": "XZInpw-YguPI"
      },
      "execution_count": 42,
      "outputs": []
    },
    {
      "cell_type": "code",
      "source": [
        "data.drop('ClosedDate',axis=1, inplace= True)   #have Term and if LoanStatus is complete have close data "
      ],
      "metadata": {
        "id": "CxjH5EP88Qbh"
      },
      "execution_count": 43,
      "outputs": []
    },
    {
      "cell_type": "code",
      "source": [
        "data.drop('ProsperScore',axis=1, inplace= True) "
      ],
      "metadata": {
        "id": "fNt5jn9CFQkW"
      },
      "execution_count": 44,
      "outputs": []
    },
    {
      "cell_type": "code",
      "source": [
        "print(data['EstimatedEffectiveYield'].mean())\n",
        "sns.histplot(data=data['EstimatedEffectiveYield'])"
      ],
      "metadata": {
        "id": "CgWwniYqFyJG",
        "outputId": "82c18c45-d2d8-47b8-9da4-0bc86cfdbc29",
        "colab": {
          "base_uri": "https://localhost:8080/",
          "height": 314
        }
      },
      "execution_count": 45,
      "outputs": [
        {
          "output_type": "stream",
          "name": "stdout",
          "text": [
            "0.1686614749036569\n"
          ]
        },
        {
          "output_type": "execute_result",
          "data": {
            "text/plain": [
              "<matplotlib.axes._subplots.AxesSubplot at 0x7f601a730190>"
            ]
          },
          "metadata": {},
          "execution_count": 45
        },
        {
          "output_type": "display_data",
          "data": {
            "text/plain": [
              "<Figure size 432x288 with 1 Axes>"
            ],
            "image/png": "[encoded data removed]"
          },
          "metadata": {
            "needs_background": "light"
          }
        }
      ]
    },
    {
      "cell_type": "markdown",
      "source": [
        "# normal distribution can replace with mean "
      ],
      "metadata": {
        "id": "AFzcVtdBLfN2"
      }
    },
    {
      "cell_type": "code",
      "source": [
        "data['EstimatedEffectiveYield'].replace(np.nan,float(data['EstimatedEffectiveYield'].mean()),inplace=True) \n",
        "data['EstimatedLoss'].replace(np.nan,float(data['EstimatedLoss'].mean()),inplace=True) \n",
        "data['EstimatedReturn'].replace(np.nan,float(data['EstimatedReturn'].mean()),inplace=True) "
      ],
      "metadata": {
        "id": "c4dvqAX1H7j1"
      },
      "execution_count": 46,
      "outputs": []
    },
    {
      "cell_type": "code",
      "source": [
        "o_nan=['BorrowerState','Occupation','EmploymentStatus','FirstRecordedCreditLine']\n",
        "for i in o_nan :\n",
        "  data[i].replace(np.nan,str(data[i].mode()),inplace=True) "
      ],
      "metadata": {
        "id": "nEhSnJPwIzZF"
      },
      "execution_count": 47,
      "outputs": []
    },
    {
      "cell_type": "code",
      "source": [
        "na = nall_check(data)"
      ],
      "metadata": {
        "id": "L0vchrOCMb78",
        "outputId": "38a89587-c80f-4f47-90fb-06e57638d028",
        "colab": {
          "base_uri": "https://localhost:8080/"
        }
      },
      "execution_count": 48,
      "outputs": [
        {
          "output_type": "stream",
          "name": "stdout",
          "text": [
            "0 \t float64 \t 25 \t BorrowerAPR\n",
            "1 \t float64 \t 7625 \t EmploymentStatusDuration\n",
            "2 \t float64 \t 591 \t CreditScoreRangeLower\n",
            "3 \t float64 \t 591 \t CreditScoreRangeUpper\n",
            "4 \t float64 \t 697 \t TotalCreditLinespast7years\n",
            "5 \t float64 \t 697 \t InquiriesLast6Months\n",
            "6 \t float64 \t 1159 \t TotalInquiries\n",
            "7 \t float64 \t 697 \t CurrentDelinquencies\n",
            "8 \t float64 \t 7622 \t AmountDelinquent\n",
            "9 \t float64 \t 697 \t PublicRecordsLast10Years\n",
            "10 \t float64 \t 8554 \t DebtToIncomeRatio\n"
          ]
        }
      ]
    },
    {
      "cell_type": "code",
      "source": [
        "for i in na :\n",
        "  data[i].replace(np.nan,float(data[i].mean()),inplace=True) \n",
        "  data[i].astype('float64') \n"
      ],
      "metadata": {
        "id": "-WGDMcWRMxGU"
      },
      "execution_count": 49,
      "outputs": []
    },
    {
      "cell_type": "code",
      "source": [
        "data.isna().sum()"
      ],
      "metadata": {
        "id": "UOC-qzwrPVaK",
        "outputId": "b7ca674a-c9e0-40bf-877d-6dc6420f287a",
        "colab": {
          "base_uri": "https://localhost:8080/"
        }
      },
      "execution_count": 50,
      "outputs": [
        {
          "output_type": "execute_result",
          "data": {
            "text/plain": [
              "Term                           0\n",
              "LoanStatus                     0\n",
              "BorrowerAPR                    0\n",
              "BorrowerRate                   0\n",
              "LenderYield                    0\n",
              "                              ..\n",
              "Recommendations                0\n",
              "InvestmentFromFriendsCount     0\n",
              "InvestmentFromFriendsAmount    0\n",
              "Investors                      0\n",
              "Grade                          0\n",
              "Length: 70, dtype: int64"
            ]
          },
          "metadata": {},
          "execution_count": 50
        }
      ]
    },
    {
      "cell_type": "markdown",
      "source": [
        "Most loans 36 months"
      ],
      "metadata": {
        "id": "Bvabbsd3yVw2"
      }
    },
    {
      "cell_type": "code",
      "source": [
        "print(data['Term'].value_counts())\n",
        "sns.catplot(x=\"Term\", kind=\"count\", palette=\"ch:.25\", data=data)"
      ],
      "metadata": {
        "id": "lQq796IoParS",
        "outputId": "9eb589d3-b31d-4148-858b-0b8ef17990f4",
        "colab": {
          "base_uri": "https://localhost:8080/",
          "height": 456
        }
      },
      "execution_count": 51,
      "outputs": [
        {
          "output_type": "stream",
          "name": "stdout",
          "text": [
            "36    87778\n",
            "60    24545\n",
            "12     1614\n",
            "Name: Term, dtype: int64\n"
          ]
        },
        {
          "output_type": "execute_result",
          "data": {
            "text/plain": [
              "<seaborn.axisgrid.FacetGrid at 0x7f601a73bd10>"
            ]
          },
          "metadata": {},
          "execution_count": 51
        },
        {
          "output_type": "display_data",
          "data": {
            "text/plain": [
              "<Figure size 360x360 with 1 Axes>"
            ],
            "image/png": "[encoded data removed]"
          },
          "metadata": {
            "needs_background": "light"
          }
        }
      ]
    },
    {
      "cell_type": "code",
      "source": [
        "term36 = data[data['Term'] == 36]\n",
        "term60 = data[data['Term'] == 60]\n",
        "term12 = data[data['Term'] == 12]"
      ],
      "metadata": {
        "id": "m468zV2vw9kN"
      },
      "execution_count": 52,
      "outputs": []
    },
    {
      "cell_type": "markdown",
      "source": [
        "avg BorrowerRate"
      ],
      "metadata": {
        "id": "toDqQ8ta0PvM"
      }
    },
    {
      "cell_type": "code",
      "source": [
        "print('avg BorrowerRate in 60 months = {} %'.format(term60['BorrowerRate'].mean()))\n",
        "print('avg BorrowerRate in 36 months = {} %'.format(term36['BorrowerRate'].mean()))\n",
        "print('avg BorrowerRate in 12 months = {} %'.format(term12['BorrowerRate'].mean()))"
      ],
      "metadata": {
        "id": "HIpTxC8wy13D",
        "outputId": "c9b94119-1fa1-4499-cdc5-85dd283cff9d",
        "colab": {
          "base_uri": "https://localhost:8080/"
        }
      },
      "execution_count": 53,
      "outputs": [
        {
          "output_type": "stream",
          "name": "stdout",
          "text": [
            "avg BorrowerRate in 60 months = 0.19299065390099815 %\n",
            "avg BorrowerRate in 36 months = 0.19348552769486657 %\n",
            "avg BorrowerRate in 12 months = 0.15008066914498142 %\n"
          ]
        }
      ]
    },
    {
      "cell_type": "markdown",
      "source": [
        "avg Defaulted \n",
        "\n"
      ],
      "metadata": {
        "id": "wppp4Eu_4vdR"
      }
    },
    {
      "cell_type": "code",
      "source": [
        "print('Defaulted in 60 months {} % '.format(len(term60[term60['LoanStatus']=='Defaulted']) / len(term60['LoanStatus']) * 100))\n",
        "print('Defaulted in 36 months {} % '.format(len(term36[term36['LoanStatus']=='Defaulted']) / len(term36['LoanStatus']) * 100))\n",
        "print('Defaulted in 12 months {} % '.format(len(term12[term12['LoanStatus']=='Defaulted']) / len(term12['LoanStatus']) * 100))"
      ],
      "metadata": {
        "id": "VnNWaWra1dbu",
        "outputId": "179ac439-36e8-4cf7-d20a-7f238890727b",
        "colab": {
          "base_uri": "https://localhost:8080/"
        }
      },
      "execution_count": 54,
      "outputs": [
        {
          "output_type": "stream",
          "name": "stdout",
          "text": [
            "Defaulted in 60 months 0.7577918109594622 % \n",
            "Defaulted in 36 months 5.493403814167559 % \n",
            "Defaulted in 12 months 0.6195786864931847 % \n"
          ]
        }
      ]
    },
    {
      "cell_type": "code",
      "source": [
        "data.describe()"
      ],
      "metadata": {
        "id": "fpALzmjczj3b",
        "outputId": "f7631205-b4b6-48c9-e24a-7d9062a5ecf2",
        "colab": {
          "base_uri": "https://localhost:8080/",
          "height": 411
        }
      },
      "execution_count": 55,
      "outputs": [
        {
          "output_type": "execute_result",
          "data": {
            "text/plain": [
              "                Term    BorrowerAPR   BorrowerRate    LenderYield  \\\n",
              "count  113937.000000  113937.000000  113937.000000  113937.000000   \n",
              "mean       40.830248       0.218828       0.192764       0.182701   \n",
              "std        10.436212       0.080355       0.074818       0.074516   \n",
              "min        12.000000       0.006530       0.000000      -0.010000   \n",
              "25%        36.000000       0.156290       0.134000       0.124200   \n",
              "50%        36.000000       0.209790       0.184000       0.173000   \n",
              "75%        36.000000       0.283700       0.250000       0.240000   \n",
              "max        60.000000       0.512290       0.497500       0.492500   \n",
              "\n",
              "       EstimatedEffectiveYield  EstimatedLoss  EstimatedReturn  \\\n",
              "count            113937.000000  113937.000000    113937.000000   \n",
              "mean                  0.168661       0.080306         0.096068   \n",
              "std                   0.059086       0.040356         0.026237   \n",
              "min                  -0.182700       0.004900        -0.182700   \n",
              "25%                   0.132600       0.054900         0.080220   \n",
              "50%                   0.168661       0.080306         0.096068   \n",
              "75%                   0.195200       0.097500         0.108700   \n",
              "max                   0.319900       0.366000         0.283700   \n",
              "\n",
              "       ListingCategory (numeric)  EmploymentStatusDuration  \\\n",
              "count              113937.000000             113937.000000   \n",
              "mean                    2.774209                 96.071582   \n",
              "std                     3.996797                 91.264375   \n",
              "min                     0.000000                  0.000000   \n",
              "25%                     1.000000                 28.000000   \n",
              "50%                     1.000000                 74.000000   \n",
              "75%                     3.000000                130.000000   \n",
              "max                    20.000000                755.000000   \n",
              "\n",
              "       CreditScoreRangeLower  ...  LP_ServiceFees  LP_CollectionFees  \\\n",
              "count          113937.000000  ...   113937.000000      113937.000000   \n",
              "mean              685.567731  ...      -54.725641         -14.242698   \n",
              "std                66.285687  ...       60.675425         109.232758   \n",
              "min                 0.000000  ...     -664.870000       -9274.750000   \n",
              "25%               660.000000  ...      -73.180000           0.000000   \n",
              "50%               680.000000  ...      -34.440000           0.000000   \n",
              "75%               720.000000  ...      -13.920000           0.000000   \n",
              "max               880.000000  ...       32.060000           0.000000   \n",
              "\n",
              "       LP_GrossPrincipalLoss  LP_NetPrincipalLoss  \\\n",
              "count          113937.000000        113937.000000   \n",
              "mean              700.446342           681.420499   \n",
              "std              2388.513831          2357.167068   \n",
              "min               -94.200000          -954.550000   \n",
              "25%                 0.000000             0.000000   \n",
              "50%                 0.000000             0.000000   \n",
              "75%                 0.000000             0.000000   \n",
              "max             25000.000000         25000.000000   \n",
              "\n",
              "       LP_NonPrincipalRecoverypayments  PercentFunded  Recommendations  \\\n",
              "count                    113937.000000  113937.000000    113937.000000   \n",
              "mean                         25.142686       0.998584         0.048027   \n",
              "std                         275.657937       0.017919         0.332353   \n",
              "min                           0.000000       0.700000         0.000000   \n",
              "25%                           0.000000       1.000000         0.000000   \n",
              "50%                           0.000000       1.000000         0.000000   \n",
              "75%                           0.000000       1.000000         0.000000   \n",
              "max                       21117.900000       1.012500        39.000000   \n",
              "\n",
              "       InvestmentFromFriendsCount  InvestmentFromFriendsAmount      Investors  \n",
              "count               113937.000000                113937.000000  113937.000000  \n",
              "mean                     0.023460                    16.550751      80.475228  \n",
              "std                      0.232412                   294.545422     103.239020  \n",
              "min                      0.000000                     0.000000       1.000000  \n",
              "25%                      0.000000                     0.000000       2.000000  \n",
              "50%                      0.000000                     0.000000      44.000000  \n",
              "75%                      0.000000                     0.000000     115.000000  \n",
              "max                     33.000000                 25000.000000    1189.000000  \n",
              "\n",
              "[8 rows x 57 columns]"
            ],
            "text/html": [
              "\n",
              "  <div id=\"df-d64ee02d-baa4-4c06-8b3e-d921117dbb86\">\n",
              "    <div class=\"colab-df-container\">\n",
              "      <div>\n",
              "<style scoped>\n",
              "    .dataframe tbody tr th:only-of-type {\n",
              "        vertical-align: middle;\n",
              "    }\n",
              "\n",
              "    .dataframe tbody tr th {\n",
              "        vertical-align: top;\n",
              "    }\n",
              "\n",
              "    .dataframe thead th {\n",
              "        text-align: right;\n",
              "    }\n",
              "</style>\n",
              "<table border=\"1\" class=\"dataframe\">\n",
              "  <thead>\n",
              "    <tr style=\"text-align: right;\">\n",
              "      <th></th>\n",
              "      <th>Term</th>\n",
              "      <th>BorrowerAPR</th>\n",
              "      <th>BorrowerRate</th>\n",
              "      <th>LenderYield</th>\n",
              "      <th>EstimatedEffectiveYield</th>\n",
              "      <th>EstimatedLoss</th>\n",
              "      <th>EstimatedReturn</th>\n",
              "      <th>ListingCategory (numeric)</th>\n",
              "      <th>EmploymentStatusDuration</th>\n",
              "      <th>CreditScoreRangeLower</th>\n",
              "      <th>...</th>\n",
              "      <th>LP_ServiceFees</th>\n",
              "      <th>LP_CollectionFees</th>\n",
              "      <th>LP_GrossPrincipalLoss</th>\n",
              "      <th>LP_NetPrincipalLoss</th>\n",
              "      <th>LP_NonPrincipalRecoverypayments</th>\n",
              "      <th>PercentFunded</th>\n",
              "      <th>Recommendations</th>\n",
              "      <th>InvestmentFromFriendsCount</th>\n",
              "      <th>InvestmentFromFriendsAmount</th>\n",
              "      <th>Investors</th>\n",
              "    </tr>\n",
              "  </thead>\n",
              "  <tbody>\n",
              "    <tr>\n",
              "      <th>count</th>\n",
              "      <td>113937.000000</td>\n",
              "      <td>113937.000000</td>\n",
              "      <td>113937.000000</td>\n",
              "      <td>113937.000000</td>\n",
              "      <td>113937.000000</td>\n",
              "      <td>113937.000000</td>\n",
              "      <td>113937.000000</td>\n",
              "      <td>113937.000000</td>\n",
              "      <td>113937.000000</td>\n",
              "      <td>113937.000000</td>\n",
              "      <td>...</td>\n",
              "      <td>113937.000000</td>\n",
              "      <td>113937.000000</td>\n",
              "      <td>113937.000000</td>\n",
              "      <td>113937.000000</td>\n",
              "      <td>113937.000000</td>\n",
              "      <td>113937.000000</td>\n",
              "      <td>113937.000000</td>\n",
              "      <td>113937.000000</td>\n",
              "      <td>113937.000000</td>\n",
              "      <td>113937.000000</td>\n",
              "    </tr>\n",
              "    <tr>\n",
              "      <th>mean</th>\n",
              "      <td>40.830248</td>\n",
              "      <td>0.218828</td>\n",
              "      <td>0.192764</td>\n",
              "      <td>0.182701</td>\n",
              "      <td>0.168661</td>\n",
              "      <td>0.080306</td>\n",
              "      <td>0.096068</td>\n",
              "      <td>2.774209</td>\n",
              "      <td>96.071582</td>\n",
              "      <td>685.567731</td>\n",
              "      <td>...</td>\n",
              "      <td>-54.725641</td>\n",
              "      <td>-14.242698</td>\n",
              "      <td>700.446342</td>\n",
              "      <td>681.420499</td>\n",
              "      <td>25.142686</td>\n",
              "      <td>0.998584</td>\n",
              "      <td>0.048027</td>\n",
              "      <td>0.023460</td>\n",
              "      <td>16.550751</td>\n",
              "      <td>80.475228</td>\n",
              "    </tr>\n",
              "    <tr>\n",
              "      <th>std</th>\n",
              "      <td>10.436212</td>\n",
              "      <td>0.080355</td>\n",
              "      <td>0.074818</td>\n",
              "      <td>0.074516</td>\n",
              "      <td>0.059086</td>\n",
              "      <td>0.040356</td>\n",
              "      <td>0.026237</td>\n",
              "      <td>3.996797</td>\n",
              "      <td>91.264375</td>\n",
              "      <td>66.285687</td>\n",
              "      <td>...</td>\n",
              "      <td>60.675425</td>\n",
              "      <td>109.232758</td>\n",
              "      <td>2388.513831</td>\n",
              "      <td>2357.167068</td>\n",
              "      <td>275.657937</td>\n",
              "      <td>0.017919</td>\n",
              "      <td>0.332353</td>\n",
              "      <td>0.232412</td>\n",
              "      <td>294.545422</td>\n",
              "      <td>103.239020</td>\n",
              "    </tr>\n",
              "    <tr>\n",
              "      <th>min</th>\n",
              "      <td>12.000000</td>\n",
              "      <td>0.006530</td>\n",
              "      <td>0.000000</td>\n",
              "      <td>-0.010000</td>\n",
              "      <td>-0.182700</td>\n",
              "      <td>0.004900</td>\n",
              "      <td>-0.182700</td>\n",
              "      <td>0.000000</td>\n",
              "      <td>0.000000</td>\n",
              "      <td>0.000000</td>\n",
              "      <td>...</td>\n",
              "      <td>-664.870000</td>\n",
              "      <td>-9274.750000</td>\n",
              "      <td>-94.200000</td>\n",
              "      <td>-954.550000</td>\n",
              "      <td>0.000000</td>\n",
              "      <td>0.700000</td>\n",
              "      <td>0.000000</td>\n",
              "      <td>0.000000</td>\n",
              "      <td>0.000000</td>\n",
              "      <td>1.000000</td>\n",
              "    </tr>\n",
              "    <tr>\n",
              "      <th>25%</th>\n",
              "      <td>36.000000</td>\n",
              "      <td>0.156290</td>\n",
              "      <td>0.134000</td>\n",
              "      <td>0.124200</td>\n",
              "      <td>0.132600</td>\n",
              "      <td>0.054900</td>\n",
              "      <td>0.080220</td>\n",
              "      <td>1.000000</td>\n",
              "      <td>28.000000</td>\n",
              "      <td>660.000000</td>\n",
              "      <td>...</td>\n",
              "      <td>-73.180000</td>\n",
              "      <td>0.000000</td>\n",
              "      <td>0.000000</td>\n",
              "      <td>0.000000</td>\n",
              "      <td>0.000000</td>\n",
              "      <td>1.000000</td>\n",
              "      <td>0.000000</td>\n",
              "      <td>0.000000</td>\n",
              "      <td>0.000000</td>\n",
              "      <td>2.000000</td>\n",
              "    </tr>\n",
              "    <tr>\n",
              "      <th>50%</th>\n",
              "      <td>36.000000</td>\n",
              "      <td>0.209790</td>\n",
              "      <td>0.184000</td>\n",
              "      <td>0.173000</td>\n",
              "      <td>0.168661</td>\n",
              "      <td>0.080306</td>\n",
              "      <td>0.096068</td>\n",
              "      <td>1.000000</td>\n",
              "      <td>74.000000</td>\n",
              "      <td>680.000000</td>\n",
              "      <td>...</td>\n",
              "      <td>-34.440000</td>\n",
              "      <td>0.000000</td>\n",
              "      <td>0.000000</td>\n",
              "      <td>0.000000</td>\n",
              "      <td>0.000000</td>\n",
              "      <td>1.000000</td>\n",
              "      <td>0.000000</td>\n",
              "      <td>0.000000</td>\n",
              "      <td>0.000000</td>\n",
              "      <td>44.000000</td>\n",
              "    </tr>\n",
              "    <tr>\n",
              "      <th>75%</th>\n",
              "      <td>36.000000</td>\n",
              "      <td>0.283700</td>\n",
              "      <td>0.250000</td>\n",
              "      <td>0.240000</td>\n",
              "      <td>0.195200</td>\n",
              "      <td>0.097500</td>\n",
              "      <td>0.108700</td>\n",
              "      <td>3.000000</td>\n",
              "      <td>130.000000</td>\n",
              "      <td>720.000000</td>\n",
              "      <td>...</td>\n",
              "      <td>-13.920000</td>\n",
              "      <td>0.000000</td>\n",
              "      <td>0.000000</td>\n",
              "      <td>0.000000</td>\n",
              "      <td>0.000000</td>\n",
              "      <td>1.000000</td>\n",
              "      <td>0.000000</td>\n",
              "      <td>0.000000</td>\n",
              "      <td>0.000000</td>\n",
              "      <td>115.000000</td>\n",
              "    </tr>\n",
              "    <tr>\n",
              "      <th>max</th>\n",
              "      <td>60.000000</td>\n",
              "      <td>0.512290</td>\n",
              "      <td>0.497500</td>\n",
              "      <td>0.492500</td>\n",
              "      <td>0.319900</td>\n",
              "      <td>0.366000</td>\n",
              "      <td>0.283700</td>\n",
              "      <td>20.000000</td>\n",
              "      <td>755.000000</td>\n",
              "      <td>880.000000</td>\n",
              "      <td>...</td>\n",
              "      <td>32.060000</td>\n",
              "      <td>0.000000</td>\n",
              "      <td>25000.000000</td>\n",
              "      <td>25000.000000</td>\n",
              "      <td>21117.900000</td>\n",
              "      <td>1.012500</td>\n",
              "      <td>39.000000</td>\n",
              "      <td>33.000000</td>\n",
              "      <td>25000.000000</td>\n",
              "      <td>1189.000000</td>\n",
              "    </tr>\n",
              "  </tbody>\n",
              "</table>\n",
              "<p>8 rows × 57 columns</p>\n",
              "</div>\n",
              "      <button class=\"colab-df-convert\" onclick=\"convertToInteractive('df-d64ee02d-baa4-4c06-8b3e-d921117dbb86')\"\n",
              "              title=\"Convert this dataframe to an interactive table.\"\n",
              "              style=\"display:none;\">\n",
              "        \n",
              "  <svg xmlns=\"http://www.w3.org/2000/svg\" height=\"24px\"viewBox=\"0 0 24 24\"\n",
              "       width=\"24px\">\n",
              "    <path d=\"M0 0h24v24H0V0z\" fill=\"none\"/>\n",
              "    <path d=\"M18.56 5.44l.94 2.06.94-2.06 2.06-.94-2.06-.94-.94-2.06-.94 2.06-2.06.94zm-11 1L8.5 8.5l.94-2.06 2.06-.94-2.06-.94L8.5 2.5l-.94 2.06-2.06.94zm10 10l.94 2.06.94-2.06 2.06-.94-2.06-.94-.94-2.06-.94 2.06-2.06.94z\"/><path d=\"M17.41 7.96l-1.37-1.37c-.4-.4-.92-.59-1.43-.59-.52 0-1.04.2-1.43.59L10.3 9.45l-7.72 7.72c-.78.78-.78 2.05 0 2.83L4 21.41c.39.39.9.59 1.41.59.51 0 1.02-.2 1.41-.59l7.78-7.78 2.81-2.81c.8-.78.8-2.07 0-2.86zM5.41 20L4 18.59l7.72-7.72 1.47 1.35L5.41 20z\"/>\n",
              "  </svg>\n",
              "      </button>\n",
              "      \n",
              "  <style>\n",
              "    .colab-df-container {\n",
              "      display:flex;\n",
              "      flex-wrap:wrap;\n",
              "      gap: 12px;\n",
              "    }\n",
              "\n",
              "    .colab-df-convert {\n",
              "      background-color: #E8F0FE;\n",
              "      border: none;\n",
              "      border-radius: 50%;\n",
              "      cursor: pointer;\n",
              "      display: none;\n",
              "      fill: #1967D2;\n",
              "      height: 32px;\n",
              "      padding: 0 0 0 0;\n",
              "      width: 32px;\n",
              "    }\n",
              "\n",
              "    .colab-df-convert:hover {\n",
              "      background-color: #E2EBFA;\n",
              "      box-shadow: 0px 1px 2px rgba(60, 64, 67, 0.3), 0px 1px 3px 1px rgba(60, 64, 67, 0.15);\n",
              "      fill: #174EA6;\n",
              "    }\n",
              "\n",
              "    [theme=dark] .colab-df-convert {\n",
              "      background-color: #3B4455;\n",
              "      fill: #D2E3FC;\n",
              "    }\n",
              "\n",
              "    [theme=dark] .colab-df-convert:hover {\n",
              "      background-color: #434B5C;\n",
              "      box-shadow: 0px 1px 3px 1px rgba(0, 0, 0, 0.15);\n",
              "      filter: drop-shadow(0px 1px 2px rgba(0, 0, 0, 0.3));\n",
              "      fill: #FFFFFF;\n",
              "    }\n",
              "  </style>\n",
              "\n",
              "      <script>\n",
              "        const buttonEl =\n",
              "          document.querySelector('#df-d64ee02d-baa4-4c06-8b3e-d921117dbb86 button.colab-df-convert');\n",
              "        buttonEl.style.display =\n",
              "          google.colab.kernel.accessAllowed ? 'block' : 'none';\n",
              "\n",
              "        async function convertToInteractive(key) {\n",
              "          const element = document.querySelector('#df-d64ee02d-baa4-4c06-8b3e-d921117dbb86');\n",
              "          const dataTable =\n",
              "            await google.colab.kernel.invokeFunction('convertToInteractive',\n",
              "                                                     [key], {});\n",
              "          if (!dataTable) return;\n",
              "\n",
              "          const docLinkHtml = 'Like what you see? Visit the ' +\n",
              "            '<a target=\"_blank\" href=https://colab.research.google.com/notebooks/data_table.ipynb>data table notebook</a>'\n",
              "            + ' to learn more about interactive tables.';\n",
              "          element.innerHTML = '';\n",
              "          dataTable['output_type'] = 'display_data';\n",
              "          await google.colab.output.renderOutput(dataTable, element);\n",
              "          const docLink = document.createElement('div');\n",
              "          docLink.innerHTML = docLinkHtml;\n",
              "          element.appendChild(docLink);\n",
              "        }\n",
              "      </script>\n",
              "    </div>\n",
              "  </div>\n",
              "  "
            ]
          },
          "metadata": {},
          "execution_count": 55
        }
      ]
    },
    {
      "cell_type": "markdown",
      "source": [
        "remove outlier in EmploymentStatusDuration "
      ],
      "metadata": {
        "id": "Ca5juNDh-wiB"
      }
    },
    {
      "cell_type": "code",
      "source": [
        "temp_list = data['EmploymentStatusDuration']"
      ],
      "metadata": {
        "id": "ifuHSebA0ZJ7"
      },
      "execution_count": 56,
      "outputs": []
    },
    {
      "cell_type": "code",
      "source": [
        "from numpy import percentile\n",
        "\n",
        "q25, q75 = percentile(data['EmploymentStatusDuration'], 25), percentile(data['EmploymentStatusDuration'], 75)\n",
        "iqr = (q75 - q25) * 1.5 "
      ],
      "metadata": {
        "id": "hN3QVFraAVqc"
      },
      "execution_count": 57,
      "outputs": []
    },
    {
      "cell_type": "code",
      "source": [
        "for i in range(len(temp_list)) :\n",
        "  if temp_list[i] > 400 :\n",
        "    temp_list[i] = temp_list.mode()\n"
      ],
      "metadata": {
        "id": "u7RIMYST7Rap",
        "outputId": "e8cca578-e112-489d-b887-a4eac278e462",
        "colab": {
          "base_uri": "https://localhost:8080/"
        }
      },
      "execution_count": 58,
      "outputs": [
        {
          "output_type": "stream",
          "name": "stderr",
          "text": [
            "/usr/local/lib/python3.7/dist-packages/ipykernel_launcher.py:3: SettingWithCopyWarning: \n",
            "A value is trying to be set on a copy of a slice from a DataFrame\n",
            "\n",
            "See the caveats in the documentation: https://pandas.pydata.org/pandas-docs/stable/user_guide/indexing.html#returning-a-view-versus-a-copy\n",
            "  This is separate from the ipykernel package so we can avoid doing imports until\n"
          ]
        }
      ]
    },
    {
      "cell_type": "code",
      "source": [
        "data['EmploymentStatusDuration'] = temp_list "
      ],
      "metadata": {
        "id": "pQnqMpSo8eFA"
      },
      "execution_count": 59,
      "outputs": []
    },
    {
      "cell_type": "code",
      "source": [
        "sns.distplot(x=data['EmploymentStatusDuration'])"
      ],
      "metadata": {
        "id": "6Gp2M84O8jzY",
        "outputId": "052b8353-eb89-44be-d728-40676e757862",
        "colab": {
          "base_uri": "https://localhost:8080/",
          "height": 337
        }
      },
      "execution_count": 60,
      "outputs": [
        {
          "output_type": "stream",
          "name": "stderr",
          "text": [
            "/usr/local/lib/python3.7/dist-packages/seaborn/distributions.py:2619: FutureWarning: `distplot` is a deprecated function and will be removed in a future version. Please adapt your code to use either `displot` (a figure-level function with similar flexibility) or `histplot` (an axes-level function for histograms).\n",
            "  warnings.warn(msg, FutureWarning)\n"
          ]
        },
        {
          "output_type": "execute_result",
          "data": {
            "text/plain": [
              "<matplotlib.axes._subplots.AxesSubplot at 0x7f6025ce7e90>"
            ]
          },
          "metadata": {},
          "execution_count": 60
        },
        {
          "output_type": "display_data",
          "data": {
            "text/plain": [
              "<Figure size 432x288 with 1 Axes>"
            ],
            "image/png": "[encoded data removed]"
          },
          "metadata": {
            "needs_background": "light"
          }
        }
      ]
    },
    {
      "cell_type": "code",
      "source": [
        "#####################################################################"
      ],
      "metadata": {
        "id": "vbo2BvUK8tzg"
      },
      "execution_count": 61,
      "outputs": []
    },
    {
      "cell_type": "markdown",
      "source": [
        "### encode "
      ],
      "metadata": {
        "id": "uCWp6gTOH4YF"
      }
    },
    {
      "cell_type": "code",
      "source": [
        "print(data['FirstRecordedCreditLine'].nunique())\n",
        "print(data['MemberKey'].nunique())\n"
      ],
      "metadata": {
        "id": "uaPlv9OlOdfY",
        "outputId": "b0a26a6e-ecaf-4bb5-8347-43087230250a",
        "colab": {
          "base_uri": "https://localhost:8080/"
        }
      },
      "execution_count": 62,
      "outputs": [
        {
          "output_type": "stream",
          "name": "stdout",
          "text": [
            "11586\n",
            "90831\n"
          ]
        }
      ]
    },
    {
      "cell_type": "code",
      "source": [
        "data.drop('FirstRecordedCreditLine',axis=1, inplace= True)\n",
        "data.drop('MemberKey',axis=1, inplace= True)\n",
        "data.drop('LoanOriginationDate',axis=1, inplace= True)"
      ],
      "metadata": {
        "id": "5Uuh_6uJOo2v"
      },
      "execution_count": 63,
      "outputs": []
    },
    {
      "cell_type": "code",
      "source": [
        "encode_columns = []\n",
        "for i in data.columns:\n",
        "  if (data[i].dtypes == 'object' ) or (data[i].dtypes == 'bool' ):\n",
        "    print(data[i].nunique(),i)\n",
        "    encode_columns.append(i)"
      ],
      "metadata": {
        "id": "cpM9CAi7EaTO",
        "outputId": "048a3fbd-924b-4144-e798-0705f20ffd2c",
        "colab": {
          "base_uri": "https://localhost:8080/"
        }
      },
      "execution_count": 64,
      "outputs": [
        {
          "output_type": "stream",
          "name": "stdout",
          "text": [
            "12 LoanStatus\n",
            "52 BorrowerState\n",
            "68 Occupation\n",
            "9 EmploymentStatus\n",
            "2 IsBorrowerHomeowner\n",
            "2 CurrentlyInGroup\n",
            "8 IncomeRange\n",
            "2 IncomeVerifiable\n",
            "33 LoanOriginationQuarter\n",
            "8 Grade\n"
          ]
        }
      ]
    },
    {
      "cell_type": "code",
      "source": [
        "print(encode_columns)"
      ],
      "metadata": {
        "id": "D-tCopTZIvsk",
        "outputId": "1040c621-71a5-40bc-f227-e529bf80ef67",
        "colab": {
          "base_uri": "https://localhost:8080/"
        }
      },
      "execution_count": 65,
      "outputs": [
        {
          "output_type": "stream",
          "name": "stdout",
          "text": [
            "['LoanStatus', 'BorrowerState', 'Occupation', 'EmploymentStatus', 'IsBorrowerHomeowner', 'CurrentlyInGroup', 'IncomeRange', 'IncomeVerifiable', 'LoanOriginationQuarter', 'Grade']\n"
          ]
        }
      ]
    },
    {
      "cell_type": "markdown",
      "source": [
        "import one hor encoder"
      ],
      "metadata": {
        "id": "j6tXwejQMeiy"
      }
    },
    {
      "cell_type": "markdown",
      "source": [
        "make manuly colab crach "
      ],
      "metadata": {
        "id": "WoCpeqX1MTei"
      }
    },
    {
      "cell_type": "code",
      "source": [
        "\n",
        "from sklearn.preprocessing import OneHotEncoder\n",
        "# creating one hot encoder object \n",
        "onehotencoder = OneHotEncoder()\n",
        "for j in range(len(encode_columns)):\n",
        "  #reshape the 1-D country array to 2-D as fit_transform expects 2-D and finally fit the object \n",
        "  X = onehotencoder.fit_transform(data[encode_columns[j]].values.reshape(-1,1)).toarray()\n",
        "  #To add this back into the original dataframe \n",
        "  dfOneHot = pd.DataFrame(X, columns = [encode_columns[j]+str(int(i)) for i in range(data[encode_columns[j]].nunique())]) \n",
        "  data = pd.concat([data, dfOneHot], axis=1)\n",
        "  #droping the country column \n",
        "  data= data.drop([encode_columns[j]], axis=1) \n",
        "  #printing to verify \n",
        "  print(data.head())\n"
      ],
      "metadata": {
        "id": "FfpS1-P9JRwI",
        "outputId": "39f7d5de-c6cd-467c-a7cf-12185fed1ea8",
        "colab": {
          "base_uri": "https://localhost:8080/"
        }
      },
      "execution_count": 66,
      "outputs": [
        {
          "output_type": "stream",
          "name": "stdout",
          "text": [
            "   Term  BorrowerAPR  BorrowerRate  LenderYield  EstimatedEffectiveYield  \\\n",
            "0    36      0.16516        0.1580       0.1380                 0.168661   \n",
            "1    36      0.12016        0.0920       0.0820                 0.079600   \n",
            "2    36      0.28269        0.2750       0.2400                 0.168661   \n",
            "3    36      0.12528        0.0974       0.0874                 0.084900   \n",
            "4    36      0.24614        0.2085       0.1985                 0.183160   \n",
            "\n",
            "   EstimatedLoss  EstimatedReturn  ListingCategory (numeric) BorrowerState  \\\n",
            "0       0.080306         0.096068                          0            CO   \n",
            "1       0.024900         0.054700                          2            CO   \n",
            "2       0.080306         0.096068                          0            GA   \n",
            "3       0.024900         0.060000                         16            GA   \n",
            "4       0.092500         0.090660                          2            MN   \n",
            "\n",
            "      Occupation  ... LoanStatus2  LoanStatus3  LoanStatus4  LoanStatus5  \\\n",
            "0          Other  ...         1.0          0.0          0.0          0.0   \n",
            "1   Professional  ...         0.0          1.0          0.0          0.0   \n",
            "2          Other  ...         1.0          0.0          0.0          0.0   \n",
            "3  Skilled Labor  ...         0.0          1.0          0.0          0.0   \n",
            "4      Executive  ...         0.0          1.0          0.0          0.0   \n",
            "\n",
            "   LoanStatus6  LoanStatus7  LoanStatus8  LoanStatus9  LoanStatus10  \\\n",
            "0          0.0          0.0          0.0          0.0           0.0   \n",
            "1          0.0          0.0          0.0          0.0           0.0   \n",
            "2          0.0          0.0          0.0          0.0           0.0   \n",
            "3          0.0          0.0          0.0          0.0           0.0   \n",
            "4          0.0          0.0          0.0          0.0           0.0   \n",
            "\n",
            "   LoanStatus11  \n",
            "0           0.0  \n",
            "1           0.0  \n",
            "2           0.0  \n",
            "3           0.0  \n",
            "4           0.0  \n",
            "\n",
            "[5 rows x 78 columns]\n",
            "   Term  BorrowerAPR  BorrowerRate  LenderYield  EstimatedEffectiveYield  \\\n",
            "0    36      0.16516        0.1580       0.1380                 0.168661   \n",
            "1    36      0.12016        0.0920       0.0820                 0.079600   \n",
            "2    36      0.28269        0.2750       0.2400                 0.168661   \n",
            "3    36      0.12528        0.0974       0.0874                 0.084900   \n",
            "4    36      0.24614        0.2085       0.1985                 0.183160   \n",
            "\n",
            "   EstimatedLoss  EstimatedReturn  ListingCategory (numeric)     Occupation  \\\n",
            "0       0.080306         0.096068                          0          Other   \n",
            "1       0.024900         0.054700                          2   Professional   \n",
            "2       0.080306         0.096068                          0          Other   \n",
            "3       0.024900         0.060000                         16  Skilled Labor   \n",
            "4       0.092500         0.090660                          2      Executive   \n",
            "\n",
            "  EmploymentStatus  ...  BorrowerState42  BorrowerState43  BorrowerState44  \\\n",
            "0    Self-employed  ...              0.0              0.0              0.0   \n",
            "1         Employed  ...              0.0              0.0              0.0   \n",
            "2    Not available  ...              0.0              0.0              0.0   \n",
            "3         Employed  ...              0.0              0.0              0.0   \n",
            "4         Employed  ...              0.0              0.0              0.0   \n",
            "\n",
            "   BorrowerState45  BorrowerState46  BorrowerState47  BorrowerState48  \\\n",
            "0              0.0              0.0              0.0              0.0   \n",
            "1              0.0              0.0              0.0              0.0   \n",
            "2              0.0              0.0              0.0              0.0   \n",
            "3              0.0              0.0              0.0              0.0   \n",
            "4              0.0              0.0              0.0              0.0   \n",
            "\n",
            "   BorrowerState49  BorrowerState50  BorrowerState51  \n",
            "0              0.0              0.0              0.0  \n",
            "1              0.0              0.0              0.0  \n",
            "2              0.0              0.0              0.0  \n",
            "3              0.0              0.0              0.0  \n",
            "4              0.0              0.0              0.0  \n",
            "\n",
            "[5 rows x 129 columns]\n",
            "   Term  BorrowerAPR  BorrowerRate  LenderYield  EstimatedEffectiveYield  \\\n",
            "0    36      0.16516        0.1580       0.1380                 0.168661   \n",
            "1    36      0.12016        0.0920       0.0820                 0.079600   \n",
            "2    36      0.28269        0.2750       0.2400                 0.168661   \n",
            "3    36      0.12528        0.0974       0.0874                 0.084900   \n",
            "4    36      0.24614        0.2085       0.1985                 0.183160   \n",
            "\n",
            "   EstimatedLoss  EstimatedReturn  ListingCategory (numeric) EmploymentStatus  \\\n",
            "0       0.080306         0.096068                          0    Self-employed   \n",
            "1       0.024900         0.054700                          2         Employed   \n",
            "2       0.080306         0.096068                          0    Not available   \n",
            "3       0.024900         0.060000                         16         Employed   \n",
            "4       0.092500         0.090660                          2         Employed   \n",
            "\n",
            "   EmploymentStatusDuration  ...  Occupation58  Occupation59  Occupation60  \\\n",
            "0                  2.000000  ...           0.0           0.0           0.0   \n",
            "1                 44.000000  ...           0.0           0.0           0.0   \n",
            "2                 96.071582  ...           0.0           0.0           0.0   \n",
            "3                113.000000  ...           0.0           0.0           0.0   \n",
            "4                 44.000000  ...           0.0           0.0           0.0   \n",
            "\n",
            "   Occupation61  Occupation62  Occupation63  Occupation64  Occupation65  \\\n",
            "0           0.0           0.0           0.0           0.0           0.0   \n",
            "1           0.0           0.0           0.0           0.0           0.0   \n",
            "2           0.0           0.0           0.0           0.0           0.0   \n",
            "3           0.0           0.0           0.0           0.0           0.0   \n",
            "4           0.0           0.0           0.0           0.0           0.0   \n",
            "\n",
            "   Occupation66  Occupation67  \n",
            "0           0.0           0.0  \n",
            "1           0.0           0.0  \n",
            "2           0.0           0.0  \n",
            "3           0.0           0.0  \n",
            "4           0.0           0.0  \n",
            "\n",
            "[5 rows x 196 columns]\n",
            "   Term  BorrowerAPR  BorrowerRate  LenderYield  EstimatedEffectiveYield  \\\n",
            "0    36      0.16516        0.1580       0.1380                 0.168661   \n",
            "1    36      0.12016        0.0920       0.0820                 0.079600   \n",
            "2    36      0.28269        0.2750       0.2400                 0.168661   \n",
            "3    36      0.12528        0.0974       0.0874                 0.084900   \n",
            "4    36      0.24614        0.2085       0.1985                 0.183160   \n",
            "\n",
            "   EstimatedLoss  EstimatedReturn  ListingCategory (numeric)  \\\n",
            "0       0.080306         0.096068                          0   \n",
            "1       0.024900         0.054700                          2   \n",
            "2       0.080306         0.096068                          0   \n",
            "3       0.024900         0.060000                         16   \n",
            "4       0.092500         0.090660                          2   \n",
            "\n",
            "   EmploymentStatusDuration  IsBorrowerHomeowner  ...  Occupation67  \\\n",
            "0                  2.000000                 True  ...           0.0   \n",
            "1                 44.000000                False  ...           0.0   \n",
            "2                 96.071582                False  ...           0.0   \n",
            "3                113.000000                 True  ...           0.0   \n",
            "4                 44.000000                 True  ...           0.0   \n",
            "\n",
            "   EmploymentStatus0  EmploymentStatus1  EmploymentStatus2  EmploymentStatus3  \\\n",
            "0                0.0                0.0                0.0                0.0   \n",
            "1                0.0                1.0                0.0                0.0   \n",
            "2                0.0                0.0                0.0                1.0   \n",
            "3                0.0                1.0                0.0                0.0   \n",
            "4                0.0                1.0                0.0                0.0   \n",
            "\n",
            "   EmploymentStatus4  EmploymentStatus5  EmploymentStatus6  EmploymentStatus7  \\\n",
            "0                0.0                0.0                0.0                0.0   \n",
            "1                0.0                0.0                0.0                0.0   \n",
            "2                0.0                0.0                0.0                0.0   \n",
            "3                0.0                0.0                0.0                0.0   \n",
            "4                0.0                0.0                0.0                0.0   \n",
            "\n",
            "   EmploymentStatus8  \n",
            "0                1.0  \n",
            "1                0.0  \n",
            "2                0.0  \n",
            "3                0.0  \n",
            "4                0.0  \n",
            "\n",
            "[5 rows x 204 columns]\n",
            "   Term  BorrowerAPR  BorrowerRate  LenderYield  EstimatedEffectiveYield  \\\n",
            "0    36      0.16516        0.1580       0.1380                 0.168661   \n",
            "1    36      0.12016        0.0920       0.0820                 0.079600   \n",
            "2    36      0.28269        0.2750       0.2400                 0.168661   \n",
            "3    36      0.12528        0.0974       0.0874                 0.084900   \n",
            "4    36      0.24614        0.2085       0.1985                 0.183160   \n",
            "\n",
            "   EstimatedLoss  EstimatedReturn  ListingCategory (numeric)  \\\n",
            "0       0.080306         0.096068                          0   \n",
            "1       0.024900         0.054700                          2   \n",
            "2       0.080306         0.096068                          0   \n",
            "3       0.024900         0.060000                         16   \n",
            "4       0.092500         0.090660                          2   \n",
            "\n",
            "   EmploymentStatusDuration  CurrentlyInGroup  ...  EmploymentStatus1  \\\n",
            "0                  2.000000              True  ...                0.0   \n",
            "1                 44.000000             False  ...                1.0   \n",
            "2                 96.071582              True  ...                0.0   \n",
            "3                113.000000             False  ...                1.0   \n",
            "4                 44.000000             False  ...                1.0   \n",
            "\n",
            "   EmploymentStatus2  EmploymentStatus3  EmploymentStatus4  EmploymentStatus5  \\\n",
            "0                0.0                0.0                0.0                0.0   \n",
            "1                0.0                0.0                0.0                0.0   \n",
            "2                0.0                1.0                0.0                0.0   \n",
            "3                0.0                0.0                0.0                0.0   \n",
            "4                0.0                0.0                0.0                0.0   \n",
            "\n",
            "   EmploymentStatus6  EmploymentStatus7  EmploymentStatus8  \\\n",
            "0                0.0                0.0                1.0   \n",
            "1                0.0                0.0                0.0   \n",
            "2                0.0                0.0                0.0   \n",
            "3                0.0                0.0                0.0   \n",
            "4                0.0                0.0                0.0   \n",
            "\n",
            "   IsBorrowerHomeowner0  IsBorrowerHomeowner1  \n",
            "0                   0.0                   1.0  \n",
            "1                   1.0                   0.0  \n",
            "2                   1.0                   0.0  \n",
            "3                   0.0                   1.0  \n",
            "4                   0.0                   1.0  \n",
            "\n",
            "[5 rows x 205 columns]\n",
            "   Term  BorrowerAPR  BorrowerRate  LenderYield  EstimatedEffectiveYield  \\\n",
            "0    36      0.16516        0.1580       0.1380                 0.168661   \n",
            "1    36      0.12016        0.0920       0.0820                 0.079600   \n",
            "2    36      0.28269        0.2750       0.2400                 0.168661   \n",
            "3    36      0.12528        0.0974       0.0874                 0.084900   \n",
            "4    36      0.24614        0.2085       0.1985                 0.183160   \n",
            "\n",
            "   EstimatedLoss  EstimatedReturn  ListingCategory (numeric)  \\\n",
            "0       0.080306         0.096068                          0   \n",
            "1       0.024900         0.054700                          2   \n",
            "2       0.080306         0.096068                          0   \n",
            "3       0.024900         0.060000                         16   \n",
            "4       0.092500         0.090660                          2   \n",
            "\n",
            "   EmploymentStatusDuration  CreditScoreRangeLower  ...  EmploymentStatus3  \\\n",
            "0                  2.000000                  640.0  ...                0.0   \n",
            "1                 44.000000                  680.0  ...                0.0   \n",
            "2                 96.071582                  480.0  ...                1.0   \n",
            "3                113.000000                  800.0  ...                0.0   \n",
            "4                 44.000000                  680.0  ...                0.0   \n",
            "\n",
            "   EmploymentStatus4  EmploymentStatus5  EmploymentStatus6  EmploymentStatus7  \\\n",
            "0                0.0                0.0                0.0                0.0   \n",
            "1                0.0                0.0                0.0                0.0   \n",
            "2                0.0                0.0                0.0                0.0   \n",
            "3                0.0                0.0                0.0                0.0   \n",
            "4                0.0                0.0                0.0                0.0   \n",
            "\n",
            "   EmploymentStatus8  IsBorrowerHomeowner0  IsBorrowerHomeowner1  \\\n",
            "0                1.0                   0.0                   1.0   \n",
            "1                0.0                   1.0                   0.0   \n",
            "2                0.0                   1.0                   0.0   \n",
            "3                0.0                   0.0                   1.0   \n",
            "4                0.0                   0.0                   1.0   \n",
            "\n",
            "   CurrentlyInGroup0  CurrentlyInGroup1  \n",
            "0                0.0                1.0  \n",
            "1                1.0                0.0  \n",
            "2                0.0                1.0  \n",
            "3                1.0                0.0  \n",
            "4                1.0                0.0  \n",
            "\n",
            "[5 rows x 206 columns]\n",
            "   Term  BorrowerAPR  BorrowerRate  LenderYield  EstimatedEffectiveYield  \\\n",
            "0    36      0.16516        0.1580       0.1380                 0.168661   \n",
            "1    36      0.12016        0.0920       0.0820                 0.079600   \n",
            "2    36      0.28269        0.2750       0.2400                 0.168661   \n",
            "3    36      0.12528        0.0974       0.0874                 0.084900   \n",
            "4    36      0.24614        0.2085       0.1985                 0.183160   \n",
            "\n",
            "   EstimatedLoss  EstimatedReturn  ListingCategory (numeric)  \\\n",
            "0       0.080306         0.096068                          0   \n",
            "1       0.024900         0.054700                          2   \n",
            "2       0.080306         0.096068                          0   \n",
            "3       0.024900         0.060000                         16   \n",
            "4       0.092500         0.090660                          2   \n",
            "\n",
            "   EmploymentStatusDuration  CreditScoreRangeLower  ...  CurrentlyInGroup0  \\\n",
            "0                  2.000000                  640.0  ...                0.0   \n",
            "1                 44.000000                  680.0  ...                1.0   \n",
            "2                 96.071582                  480.0  ...                0.0   \n",
            "3                113.000000                  800.0  ...                1.0   \n",
            "4                 44.000000                  680.0  ...                1.0   \n",
            "\n",
            "   CurrentlyInGroup1  IncomeRange0  IncomeRange1  IncomeRange2  IncomeRange3  \\\n",
            "0                1.0           0.0           0.0           0.0           1.0   \n",
            "1                0.0           0.0           0.0           0.0           0.0   \n",
            "2                1.0           0.0           0.0           0.0           0.0   \n",
            "3                0.0           0.0           0.0           0.0           1.0   \n",
            "4                0.0           0.0           0.0           1.0           0.0   \n",
            "\n",
            "   IncomeRange4  IncomeRange5  IncomeRange6  IncomeRange7  \n",
            "0           0.0           0.0           0.0           0.0  \n",
            "1           1.0           0.0           0.0           0.0  \n",
            "2           0.0           0.0           1.0           0.0  \n",
            "3           0.0           0.0           0.0           0.0  \n",
            "4           0.0           0.0           0.0           0.0  \n",
            "\n",
            "[5 rows x 213 columns]\n",
            "   Term  BorrowerAPR  BorrowerRate  LenderYield  EstimatedEffectiveYield  \\\n",
            "0    36      0.16516        0.1580       0.1380                 0.168661   \n",
            "1    36      0.12016        0.0920       0.0820                 0.079600   \n",
            "2    36      0.28269        0.2750       0.2400                 0.168661   \n",
            "3    36      0.12528        0.0974       0.0874                 0.084900   \n",
            "4    36      0.24614        0.2085       0.1985                 0.183160   \n",
            "\n",
            "   EstimatedLoss  EstimatedReturn  ListingCategory (numeric)  \\\n",
            "0       0.080306         0.096068                          0   \n",
            "1       0.024900         0.054700                          2   \n",
            "2       0.080306         0.096068                          0   \n",
            "3       0.024900         0.060000                         16   \n",
            "4       0.092500         0.090660                          2   \n",
            "\n",
            "   EmploymentStatusDuration  CreditScoreRangeLower  ...  IncomeRange0  \\\n",
            "0                  2.000000                  640.0  ...           0.0   \n",
            "1                 44.000000                  680.0  ...           0.0   \n",
            "2                 96.071582                  480.0  ...           0.0   \n",
            "3                113.000000                  800.0  ...           0.0   \n",
            "4                 44.000000                  680.0  ...           0.0   \n",
            "\n",
            "   IncomeRange1  IncomeRange2  IncomeRange3  IncomeRange4  IncomeRange5  \\\n",
            "0           0.0           0.0           1.0           0.0           0.0   \n",
            "1           0.0           0.0           0.0           1.0           0.0   \n",
            "2           0.0           0.0           0.0           0.0           0.0   \n",
            "3           0.0           0.0           1.0           0.0           0.0   \n",
            "4           0.0           1.0           0.0           0.0           0.0   \n",
            "\n",
            "   IncomeRange6  IncomeRange7  IncomeVerifiable0  IncomeVerifiable1  \n",
            "0           0.0           0.0                0.0                1.0  \n",
            "1           0.0           0.0                0.0                1.0  \n",
            "2           1.0           0.0                0.0                1.0  \n",
            "3           0.0           0.0                0.0                1.0  \n",
            "4           0.0           0.0                0.0                1.0  \n",
            "\n",
            "[5 rows x 214 columns]\n",
            "   Term  BorrowerAPR  BorrowerRate  LenderYield  EstimatedEffectiveYield  \\\n",
            "0    36      0.16516        0.1580       0.1380                 0.168661   \n",
            "1    36      0.12016        0.0920       0.0820                 0.079600   \n",
            "2    36      0.28269        0.2750       0.2400                 0.168661   \n",
            "3    36      0.12528        0.0974       0.0874                 0.084900   \n",
            "4    36      0.24614        0.2085       0.1985                 0.183160   \n",
            "\n",
            "   EstimatedLoss  EstimatedReturn  ListingCategory (numeric)  \\\n",
            "0       0.080306         0.096068                          0   \n",
            "1       0.024900         0.054700                          2   \n",
            "2       0.080306         0.096068                          0   \n",
            "3       0.024900         0.060000                         16   \n",
            "4       0.092500         0.090660                          2   \n",
            "\n",
            "   EmploymentStatusDuration  CreditScoreRangeLower  ...  \\\n",
            "0                  2.000000                  640.0  ...   \n",
            "1                 44.000000                  680.0  ...   \n",
            "2                 96.071582                  480.0  ...   \n",
            "3                113.000000                  800.0  ...   \n",
            "4                 44.000000                  680.0  ...   \n",
            "\n",
            "   LoanOriginationQuarter23  LoanOriginationQuarter24  \\\n",
            "0                       0.0                       0.0   \n",
            "1                       0.0                       0.0   \n",
            "2                       0.0                       0.0   \n",
            "3                       0.0                       0.0   \n",
            "4                       1.0                       0.0   \n",
            "\n",
            "   LoanOriginationQuarter25  LoanOriginationQuarter26  \\\n",
            "0                       0.0                       0.0   \n",
            "1                       0.0                       0.0   \n",
            "2                       0.0                       0.0   \n",
            "3                       0.0                       0.0   \n",
            "4                       0.0                       0.0   \n",
            "\n",
            "   LoanOriginationQuarter27  LoanOriginationQuarter28  \\\n",
            "0                       0.0                       0.0   \n",
            "1                       0.0                       0.0   \n",
            "2                       0.0                       0.0   \n",
            "3                       0.0                       0.0   \n",
            "4                       0.0                       0.0   \n",
            "\n",
            "   LoanOriginationQuarter29  LoanOriginationQuarter30  \\\n",
            "0                       0.0                       0.0   \n",
            "1                       0.0                       0.0   \n",
            "2                       0.0                       0.0   \n",
            "3                       0.0                       0.0   \n",
            "4                       0.0                       0.0   \n",
            "\n",
            "   LoanOriginationQuarter31  LoanOriginationQuarter32  \n",
            "0                       0.0                       0.0  \n",
            "1                       0.0                       0.0  \n",
            "2                       0.0                       0.0  \n",
            "3                       1.0                       0.0  \n",
            "4                       0.0                       0.0  \n",
            "\n",
            "[5 rows x 246 columns]\n",
            "   Term  BorrowerAPR  BorrowerRate  LenderYield  EstimatedEffectiveYield  \\\n",
            "0    36      0.16516        0.1580       0.1380                 0.168661   \n",
            "1    36      0.12016        0.0920       0.0820                 0.079600   \n",
            "2    36      0.28269        0.2750       0.2400                 0.168661   \n",
            "3    36      0.12528        0.0974       0.0874                 0.084900   \n",
            "4    36      0.24614        0.2085       0.1985                 0.183160   \n",
            "\n",
            "   EstimatedLoss  EstimatedReturn  ListingCategory (numeric)  \\\n",
            "0       0.080306         0.096068                          0   \n",
            "1       0.024900         0.054700                          2   \n",
            "2       0.080306         0.096068                          0   \n",
            "3       0.024900         0.060000                         16   \n",
            "4       0.092500         0.090660                          2   \n",
            "\n",
            "   EmploymentStatusDuration  CreditScoreRangeLower  ...  \\\n",
            "0                  2.000000                  640.0  ...   \n",
            "1                 44.000000                  680.0  ...   \n",
            "2                 96.071582                  480.0  ...   \n",
            "3                113.000000                  800.0  ...   \n",
            "4                 44.000000                  680.0  ...   \n",
            "\n",
            "   LoanOriginationQuarter31  LoanOriginationQuarter32  Grade0  Grade1  Grade2  \\\n",
            "0                       0.0                       0.0     0.0     0.0     0.0   \n",
            "1                       0.0                       0.0     0.0     1.0     0.0   \n",
            "2                       0.0                       0.0     0.0     0.0     0.0   \n",
            "3                       1.0                       0.0     0.0     1.0     0.0   \n",
            "4                       0.0                       0.0     0.0     0.0     0.0   \n",
            "\n",
            "   Grade3  Grade4  Grade5  Grade6  Grade7  \n",
            "0     0.0     1.0     0.0     0.0     0.0  \n",
            "1     0.0     0.0     0.0     0.0     0.0  \n",
            "2     0.0     0.0     0.0     0.0     1.0  \n",
            "3     0.0     0.0     0.0     0.0     0.0  \n",
            "4     0.0     0.0     1.0     0.0     0.0  \n",
            "\n",
            "[5 rows x 253 columns]\n"
          ]
        }
      ]
    },
    {
      "cell_type": "markdown",
      "source": [
        "now all data float64 and int64"
      ],
      "metadata": {
        "id": "yh-kfpI4PHma"
      }
    },
    {
      "cell_type": "code",
      "source": [
        "data.info()"
      ],
      "metadata": {
        "id": "K5UvEBPGNEoG",
        "outputId": "c026bcc7-ccba-44e9-a15a-f87717ec998f",
        "colab": {
          "base_uri": "https://localhost:8080/"
        }
      },
      "execution_count": 67,
      "outputs": [
        {
          "output_type": "stream",
          "name": "stdout",
          "text": [
            "<class 'pandas.core.frame.DataFrame'>\n",
            "RangeIndex: 113937 entries, 0 to 113936\n",
            "Columns: 253 entries, Term to Grade7\n",
            "dtypes: float64(244), int64(9)\n",
            "memory usage: 219.9 MB\n"
          ]
        }
      ]
    },
    {
      "cell_type": "markdown",
      "source": [
        "# **Feature** **Selection**"
      ],
      "metadata": {
        "id": "BYdtDbmxUHKf"
      }
    },
    {
      "cell_type": "code",
      "source": [
        "data['BorrowerRateTarget'] = data['BorrowerRate']\n",
        "data.drop('BorrowerRate',axis=1, inplace= True)"
      ],
      "metadata": {
        "id": "qadE88JFQt3i"
      },
      "execution_count": 71,
      "outputs": []
    },
    {
      "cell_type": "code",
      "source": [
        "corr=data.corr()"
      ],
      "metadata": {
        "id": "ckze39-TNQ-S"
      },
      "execution_count": 74,
      "outputs": []
    },
    {
      "cell_type": "code",
      "source": [
        "corr #predict borrower rate and whether the loan would be timely paid"
      ],
      "metadata": {
        "id": "HdTQN2RWPYB6",
        "outputId": "64ae994a-ee13-4557-a524-fe89e9ccc4e0",
        "colab": {
          "base_uri": "https://localhost:8080/",
          "height": 679
        }
      },
      "execution_count": 75,
      "outputs": [
        {
          "output_type": "execute_result",
          "data": {
            "text/plain": [
              "                             Term  BorrowerAPR  LenderYield  \\\n",
              "Term                     1.000000    -0.011183     0.020556   \n",
              "BorrowerAPR             -0.011183     1.000000     0.989095   \n",
              "LenderYield              0.020556     0.989095     1.000000   \n",
              "EstimatedEffectiveYield  0.054910     0.768688     0.773858   \n",
              "EstimatedLoss           -0.103128     0.814951     0.817044   \n",
              "...                           ...          ...          ...   \n",
              "Grade4                   0.138954    -0.002516    -0.013113   \n",
              "Grade5                  -0.001711     0.266028     0.269880   \n",
              "Grade6                  -0.065035     0.433348     0.438026   \n",
              "Grade7                  -0.147022     0.429855     0.438383   \n",
              "BorrowerRateTarget       0.020085     0.989587     0.999211   \n",
              "\n",
              "                         EstimatedEffectiveYield  EstimatedLoss  \\\n",
              "Term                                    0.054910      -0.103128   \n",
              "BorrowerAPR                             0.768688       0.814951   \n",
              "LenderYield                             0.773858       0.817044   \n",
              "EstimatedEffectiveYield                 1.000000       0.798135   \n",
              "EstimatedLoss                           0.798135       1.000000   \n",
              "...                                          ...            ...   \n",
              "Grade4                                  0.012272      -0.040663   \n",
              "Grade5                                  0.249803       0.210034   \n",
              "Grade6                                  0.381972       0.395781   \n",
              "Grade7                                  0.304294       0.486279   \n",
              "BorrowerRateTarget                      0.770676       0.813730   \n",
              "\n",
              "                         EstimatedReturn  ListingCategory (numeric)  \\\n",
              "Term                            0.146794                   0.004947   \n",
              "BorrowerAPR                     0.681695                   0.132449   \n",
              "LenderYield                     0.706711                   0.104395   \n",
              "EstimatedEffectiveYield         0.801568                   0.102219   \n",
              "EstimatedLoss                   0.591056                   0.093319   \n",
              "...                                  ...                        ...   \n",
              "Grade4                          0.030619                  -0.012249   \n",
              "Grade5                          0.287684                   0.017678   \n",
              "Grade6                          0.294153                   0.025252   \n",
              "Grade7                          0.141160                   0.036059   \n",
              "BorrowerRateTarget              0.703866                   0.102913   \n",
              "\n",
              "                         EmploymentStatusDuration  CreditScoreRangeLower  \\\n",
              "Term                                     0.083989               0.126193   \n",
              "BorrowerAPR                             -0.009471              -0.428216   \n",
              "LenderYield                             -0.018001              -0.452718   \n",
              "EstimatedEffectiveYield                 -0.022364              -0.272928   \n",
              "EstimatedLoss                           -0.035999              -0.313479   \n",
              "...                                           ...                    ...   \n",
              "Grade4                                   0.016615              -0.041771   \n",
              "Grade5                                  -0.021255              -0.161791   \n",
              "Grade6                                  -0.012776              -0.258250   \n",
              "Grade7                                  -0.031739              -0.297784   \n",
              "BorrowerRateTarget                      -0.018997              -0.459840   \n",
              "\n",
              "                         CreditScoreRangeUpper  ...  LoanOriginationQuarter32  \\\n",
              "Term                                  0.126193  ...                  0.122324   \n",
              "BorrowerAPR                          -0.428216  ...                 -0.066812   \n",
              "LenderYield                          -0.452718  ...                 -0.092977   \n",
              "EstimatedEffectiveYield              -0.272928  ...                 -0.098816   \n",
              "EstimatedLoss                        -0.313479  ...                 -0.079904   \n",
              "...                                        ...  ...                       ...   \n",
              "Grade4                               -0.041771  ...                  0.086678   \n",
              "Grade5                               -0.161791  ...                 -0.048447   \n",
              "Grade6                               -0.258250  ...                 -0.014425   \n",
              "Grade7                               -0.297784  ...                 -0.084773   \n",
              "BorrowerRateTarget                   -0.459840  ...                 -0.092922   \n",
              "\n",
              "                               Grade0    Grade1    Grade2    Grade3    Grade4  \\\n",
              "Term                    -2.305480e-02 -0.013695 -0.095495  0.102185  0.138954   \n",
              "BorrowerAPR             -4.294601e-03 -0.432067 -0.442266 -0.224435 -0.002516   \n",
              "LenderYield             -5.699872e-04 -0.446712 -0.407425 -0.238316 -0.013113   \n",
              "EstimatedEffectiveYield  2.119696e-17 -0.419034 -0.304437 -0.196074  0.012272   \n",
              "EstimatedLoss            9.371105e-18 -0.431546 -0.287449 -0.249671 -0.040663   \n",
              "...                               ...       ...       ...       ...       ...   \n",
              "Grade4                  -2.526613e-02 -0.222733 -0.150172 -0.238105  1.000000   \n",
              "Grade5                  -2.217865e-02 -0.195516 -0.131821 -0.209009 -0.234170   \n",
              "Grade6                  -1.761964e-02 -0.155326 -0.104724 -0.166046 -0.186035   \n",
              "Grade7                  -1.553911e-02 -0.136985 -0.092358 -0.146439 -0.164068   \n",
              "BorrowerRateTarget       6.590606e-04 -0.447107 -0.412541 -0.237261 -0.012485   \n",
              "\n",
              "                           Grade5    Grade6    Grade7  BorrowerRateTarget  \n",
              "Term                    -0.001711 -0.065035 -0.147022            0.020085  \n",
              "BorrowerAPR              0.266028  0.433348  0.429855            0.989587  \n",
              "LenderYield              0.269880  0.438026  0.438383            0.999211  \n",
              "EstimatedEffectiveYield  0.249803  0.381972  0.304294            0.770676  \n",
              "EstimatedLoss            0.210034  0.395781  0.486279            0.813730  \n",
              "...                           ...       ...       ...                 ...  \n",
              "Grade4                  -0.234170 -0.186035 -0.164068           -0.012485  \n",
              "Grade5                   1.000000 -0.163301 -0.144019            0.269668  \n",
              "Grade6                  -0.163301  1.000000 -0.114414            0.438699  \n",
              "Grade7                  -0.144019 -0.114414  1.000000            0.440684  \n",
              "BorrowerRateTarget       0.269668  0.438699  0.440684            1.000000  \n",
              "\n",
              "[253 rows x 253 columns]"
            ],
            "text/html": [
              "\n",
              "  <div id=\"df-408bd3c3-8b24-4efb-985a-7c1f5912c63a\">\n",
              "    <div class=\"colab-df-container\">\n",
              "      <div>\n",
              "<style scoped>\n",
              "    .dataframe tbody tr th:only-of-type {\n",
              "        vertical-align: middle;\n",
              "    }\n",
              "\n",
              "    .dataframe tbody tr th {\n",
              "        vertical-align: top;\n",
              "    }\n",
              "\n",
              "    .dataframe thead th {\n",
              "        text-align: right;\n",
              "    }\n",
              "</style>\n",
              "<table border=\"1\" class=\"dataframe\">\n",
              "  <thead>\n",
              "    <tr style=\"text-align: right;\">\n",
              "      <th></th>\n",
              "      <th>Term</th>\n",
              "      <th>BorrowerAPR</th>\n",
              "      <th>LenderYield</th>\n",
              "      <th>EstimatedEffectiveYield</th>\n",
              "      <th>EstimatedLoss</th>\n",
              "      <th>EstimatedReturn</th>\n",
              "      <th>ListingCategory (numeric)</th>\n",
              "      <th>EmploymentStatusDuration</th>\n",
              "      <th>CreditScoreRangeLower</th>\n",
              "      <th>CreditScoreRangeUpper</th>\n",
              "      <th>...</th>\n",
              "      <th>LoanOriginationQuarter32</th>\n",
              "      <th>Grade0</th>\n",
              "      <th>Grade1</th>\n",
              "      <th>Grade2</th>\n",
              "      <th>Grade3</th>\n",
              "      <th>Grade4</th>\n",
              "      <th>Grade5</th>\n",
              "      <th>Grade6</th>\n",
              "      <th>Grade7</th>\n",
              "      <th>BorrowerRateTarget</th>\n",
              "    </tr>\n",
              "  </thead>\n",
              "  <tbody>\n",
              "    <tr>\n",
              "      <th>Term</th>\n",
              "      <td>1.000000</td>\n",
              "      <td>-0.011183</td>\n",
              "      <td>0.020556</td>\n",
              "      <td>0.054910</td>\n",
              "      <td>-0.103128</td>\n",
              "      <td>0.146794</td>\n",
              "      <td>0.004947</td>\n",
              "      <td>0.083989</td>\n",
              "      <td>0.126193</td>\n",
              "      <td>0.126193</td>\n",
              "      <td>...</td>\n",
              "      <td>0.122324</td>\n",
              "      <td>-2.305480e-02</td>\n",
              "      <td>-0.013695</td>\n",
              "      <td>-0.095495</td>\n",
              "      <td>0.102185</td>\n",
              "      <td>0.138954</td>\n",
              "      <td>-0.001711</td>\n",
              "      <td>-0.065035</td>\n",
              "      <td>-0.147022</td>\n",
              "      <td>0.020085</td>\n",
              "    </tr>\n",
              "    <tr>\n",
              "      <th>BorrowerAPR</th>\n",
              "      <td>-0.011183</td>\n",
              "      <td>1.000000</td>\n",
              "      <td>0.989095</td>\n",
              "      <td>0.768688</td>\n",
              "      <td>0.814951</td>\n",
              "      <td>0.681695</td>\n",
              "      <td>0.132449</td>\n",
              "      <td>-0.009471</td>\n",
              "      <td>-0.428216</td>\n",
              "      <td>-0.428216</td>\n",
              "      <td>...</td>\n",
              "      <td>-0.066812</td>\n",
              "      <td>-4.294601e-03</td>\n",
              "      <td>-0.432067</td>\n",
              "      <td>-0.442266</td>\n",
              "      <td>-0.224435</td>\n",
              "      <td>-0.002516</td>\n",
              "      <td>0.266028</td>\n",
              "      <td>0.433348</td>\n",
              "      <td>0.429855</td>\n",
              "      <td>0.989587</td>\n",
              "    </tr>\n",
              "    <tr>\n",
              "      <th>LenderYield</th>\n",
              "      <td>0.020556</td>\n",
              "      <td>0.989095</td>\n",
              "      <td>1.000000</td>\n",
              "      <td>0.773858</td>\n",
              "      <td>0.817044</td>\n",
              "      <td>0.706711</td>\n",
              "      <td>0.104395</td>\n",
              "      <td>-0.018001</td>\n",
              "      <td>-0.452718</td>\n",
              "      <td>-0.452718</td>\n",
              "      <td>...</td>\n",
              "      <td>-0.092977</td>\n",
              "      <td>-5.699872e-04</td>\n",
              "      <td>-0.446712</td>\n",
              "      <td>-0.407425</td>\n",
              "      <td>-0.238316</td>\n",
              "      <td>-0.013113</td>\n",
              "      <td>0.269880</td>\n",
              "      <td>0.438026</td>\n",
              "      <td>0.438383</td>\n",
              "      <td>0.999211</td>\n",
              "    </tr>\n",
              "    <tr>\n",
              "      <th>EstimatedEffectiveYield</th>\n",
              "      <td>0.054910</td>\n",
              "      <td>0.768688</td>\n",
              "      <td>0.773858</td>\n",
              "      <td>1.000000</td>\n",
              "      <td>0.798135</td>\n",
              "      <td>0.801568</td>\n",
              "      <td>0.102219</td>\n",
              "      <td>-0.022364</td>\n",
              "      <td>-0.272928</td>\n",
              "      <td>-0.272928</td>\n",
              "      <td>...</td>\n",
              "      <td>-0.098816</td>\n",
              "      <td>2.119696e-17</td>\n",
              "      <td>-0.419034</td>\n",
              "      <td>-0.304437</td>\n",
              "      <td>-0.196074</td>\n",
              "      <td>0.012272</td>\n",
              "      <td>0.249803</td>\n",
              "      <td>0.381972</td>\n",
              "      <td>0.304294</td>\n",
              "      <td>0.770676</td>\n",
              "    </tr>\n",
              "    <tr>\n",
              "      <th>EstimatedLoss</th>\n",
              "      <td>-0.103128</td>\n",
              "      <td>0.814951</td>\n",
              "      <td>0.817044</td>\n",
              "      <td>0.798135</td>\n",
              "      <td>1.000000</td>\n",
              "      <td>0.591056</td>\n",
              "      <td>0.093319</td>\n",
              "      <td>-0.035999</td>\n",
              "      <td>-0.313479</td>\n",
              "      <td>-0.313479</td>\n",
              "      <td>...</td>\n",
              "      <td>-0.079904</td>\n",
              "      <td>9.371105e-18</td>\n",
              "      <td>-0.431546</td>\n",
              "      <td>-0.287449</td>\n",
              "      <td>-0.249671</td>\n",
              "      <td>-0.040663</td>\n",
              "      <td>0.210034</td>\n",
              "      <td>0.395781</td>\n",
              "      <td>0.486279</td>\n",
              "      <td>0.813730</td>\n",
              "    </tr>\n",
              "    <tr>\n",
              "      <th>...</th>\n",
              "      <td>...</td>\n",
              "      <td>...</td>\n",
              "      <td>...</td>\n",
              "      <td>...</td>\n",
              "      <td>...</td>\n",
              "      <td>...</td>\n",
              "      <td>...</td>\n",
              "      <td>...</td>\n",
              "      <td>...</td>\n",
              "      <td>...</td>\n",
              "      <td>...</td>\n",
              "      <td>...</td>\n",
              "      <td>...</td>\n",
              "      <td>...</td>\n",
              "      <td>...</td>\n",
              "      <td>...</td>\n",
              "      <td>...</td>\n",
              "      <td>...</td>\n",
              "      <td>...</td>\n",
              "      <td>...</td>\n",
              "      <td>...</td>\n",
              "    </tr>\n",
              "    <tr>\n",
              "      <th>Grade4</th>\n",
              "      <td>0.138954</td>\n",
              "      <td>-0.002516</td>\n",
              "      <td>-0.013113</td>\n",
              "      <td>0.012272</td>\n",
              "      <td>-0.040663</td>\n",
              "      <td>0.030619</td>\n",
              "      <td>-0.012249</td>\n",
              "      <td>0.016615</td>\n",
              "      <td>-0.041771</td>\n",
              "      <td>-0.041771</td>\n",
              "      <td>...</td>\n",
              "      <td>0.086678</td>\n",
              "      <td>-2.526613e-02</td>\n",
              "      <td>-0.222733</td>\n",
              "      <td>-0.150172</td>\n",
              "      <td>-0.238105</td>\n",
              "      <td>1.000000</td>\n",
              "      <td>-0.234170</td>\n",
              "      <td>-0.186035</td>\n",
              "      <td>-0.164068</td>\n",
              "      <td>-0.012485</td>\n",
              "    </tr>\n",
              "    <tr>\n",
              "      <th>Grade5</th>\n",
              "      <td>-0.001711</td>\n",
              "      <td>0.266028</td>\n",
              "      <td>0.269880</td>\n",
              "      <td>0.249803</td>\n",
              "      <td>0.210034</td>\n",
              "      <td>0.287684</td>\n",
              "      <td>0.017678</td>\n",
              "      <td>-0.021255</td>\n",
              "      <td>-0.161791</td>\n",
              "      <td>-0.161791</td>\n",
              "      <td>...</td>\n",
              "      <td>-0.048447</td>\n",
              "      <td>-2.217865e-02</td>\n",
              "      <td>-0.195516</td>\n",
              "      <td>-0.131821</td>\n",
              "      <td>-0.209009</td>\n",
              "      <td>-0.234170</td>\n",
              "      <td>1.000000</td>\n",
              "      <td>-0.163301</td>\n",
              "      <td>-0.144019</td>\n",
              "      <td>0.269668</td>\n",
              "    </tr>\n",
              "    <tr>\n",
              "      <th>Grade6</th>\n",
              "      <td>-0.065035</td>\n",
              "      <td>0.433348</td>\n",
              "      <td>0.438026</td>\n",
              "      <td>0.381972</td>\n",
              "      <td>0.395781</td>\n",
              "      <td>0.294153</td>\n",
              "      <td>0.025252</td>\n",
              "      <td>-0.012776</td>\n",
              "      <td>-0.258250</td>\n",
              "      <td>-0.258250</td>\n",
              "      <td>...</td>\n",
              "      <td>-0.014425</td>\n",
              "      <td>-1.761964e-02</td>\n",
              "      <td>-0.155326</td>\n",
              "      <td>-0.104724</td>\n",
              "      <td>-0.166046</td>\n",
              "      <td>-0.186035</td>\n",
              "      <td>-0.163301</td>\n",
              "      <td>1.000000</td>\n",
              "      <td>-0.114414</td>\n",
              "      <td>0.438699</td>\n",
              "    </tr>\n",
              "    <tr>\n",
              "      <th>Grade7</th>\n",
              "      <td>-0.147022</td>\n",
              "      <td>0.429855</td>\n",
              "      <td>0.438383</td>\n",
              "      <td>0.304294</td>\n",
              "      <td>0.486279</td>\n",
              "      <td>0.141160</td>\n",
              "      <td>0.036059</td>\n",
              "      <td>-0.031739</td>\n",
              "      <td>-0.297784</td>\n",
              "      <td>-0.297784</td>\n",
              "      <td>...</td>\n",
              "      <td>-0.084773</td>\n",
              "      <td>-1.553911e-02</td>\n",
              "      <td>-0.136985</td>\n",
              "      <td>-0.092358</td>\n",
              "      <td>-0.146439</td>\n",
              "      <td>-0.164068</td>\n",
              "      <td>-0.144019</td>\n",
              "      <td>-0.114414</td>\n",
              "      <td>1.000000</td>\n",
              "      <td>0.440684</td>\n",
              "    </tr>\n",
              "    <tr>\n",
              "      <th>BorrowerRateTarget</th>\n",
              "      <td>0.020085</td>\n",
              "      <td>0.989587</td>\n",
              "      <td>0.999211</td>\n",
              "      <td>0.770676</td>\n",
              "      <td>0.813730</td>\n",
              "      <td>0.703866</td>\n",
              "      <td>0.102913</td>\n",
              "      <td>-0.018997</td>\n",
              "      <td>-0.459840</td>\n",
              "      <td>-0.459840</td>\n",
              "      <td>...</td>\n",
              "      <td>-0.092922</td>\n",
              "      <td>6.590606e-04</td>\n",
              "      <td>-0.447107</td>\n",
              "      <td>-0.412541</td>\n",
              "      <td>-0.237261</td>\n",
              "      <td>-0.012485</td>\n",
              "      <td>0.269668</td>\n",
              "      <td>0.438699</td>\n",
              "      <td>0.440684</td>\n",
              "      <td>1.000000</td>\n",
              "    </tr>\n",
              "  </tbody>\n",
              "</table>\n",
              "<p>253 rows × 253 columns</p>\n",
              "</div>\n",
              "      <button class=\"colab-df-convert\" onclick=\"convertToInteractive('df-408bd3c3-8b24-4efb-985a-7c1f5912c63a')\"\n",
              "              title=\"Convert this dataframe to an interactive table.\"\n",
              "              style=\"display:none;\">\n",
              "        \n",
              "  <svg xmlns=\"http://www.w3.org/2000/svg\" height=\"24px\"viewBox=\"0 0 24 24\"\n",
              "       width=\"24px\">\n",
              "    <path d=\"M0 0h24v24H0V0z\" fill=\"none\"/>\n",
              "    <path d=\"M18.56 5.44l.94 2.06.94-2.06 2.06-.94-2.06-.94-.94-2.06-.94 2.06-2.06.94zm-11 1L8.5 8.5l.94-2.06 2.06-.94-2.06-.94L8.5 2.5l-.94 2.06-2.06.94zm10 10l.94 2.06.94-2.06 2.06-.94-2.06-.94-.94-2.06-.94 2.06-2.06.94z\"/><path d=\"M17.41 7.96l-1.37-1.37c-.4-.4-.92-.59-1.43-.59-.52 0-1.04.2-1.43.59L10.3 9.45l-7.72 7.72c-.78.78-.78 2.05 0 2.83L4 21.41c.39.39.9.59 1.41.59.51 0 1.02-.2 1.41-.59l7.78-7.78 2.81-2.81c.8-.78.8-2.07 0-2.86zM5.41 20L4 18.59l7.72-7.72 1.47 1.35L5.41 20z\"/>\n",
              "  </svg>\n",
              "      </button>\n",
              "      \n",
              "  <style>\n",
              "    .colab-df-container {\n",
              "      display:flex;\n",
              "      flex-wrap:wrap;\n",
              "      gap: 12px;\n",
              "    }\n",
              "\n",
              "    .colab-df-convert {\n",
              "      background-color: #E8F0FE;\n",
              "      border: none;\n",
              "      border-radius: 50%;\n",
              "      cursor: pointer;\n",
              "      display: none;\n",
              "      fill: #1967D2;\n",
              "      height: 32px;\n",
              "      padding: 0 0 0 0;\n",
              "      width: 32px;\n",
              "    }\n",
              "\n",
              "    .colab-df-convert:hover {\n",
              "      background-color: #E2EBFA;\n",
              "      box-shadow: 0px 1px 2px rgba(60, 64, 67, 0.3), 0px 1px 3px 1px rgba(60, 64, 67, 0.15);\n",
              "      fill: #174EA6;\n",
              "    }\n",
              "\n",
              "    [theme=dark] .colab-df-convert {\n",
              "      background-color: #3B4455;\n",
              "      fill: #D2E3FC;\n",
              "    }\n",
              "\n",
              "    [theme=dark] .colab-df-convert:hover {\n",
              "      background-color: #434B5C;\n",
              "      box-shadow: 0px 1px 3px 1px rgba(0, 0, 0, 0.15);\n",
              "      filter: drop-shadow(0px 1px 2px rgba(0, 0, 0, 0.3));\n",
              "      fill: #FFFFFF;\n",
              "    }\n",
              "  </style>\n",
              "\n",
              "      <script>\n",
              "        const buttonEl =\n",
              "          document.querySelector('#df-408bd3c3-8b24-4efb-985a-7c1f5912c63a button.colab-df-convert');\n",
              "        buttonEl.style.display =\n",
              "          google.colab.kernel.accessAllowed ? 'block' : 'none';\n",
              "\n",
              "        async function convertToInteractive(key) {\n",
              "          const element = document.querySelector('#df-408bd3c3-8b24-4efb-985a-7c1f5912c63a');\n",
              "          const dataTable =\n",
              "            await google.colab.kernel.invokeFunction('convertToInteractive',\n",
              "                                                     [key], {});\n",
              "          if (!dataTable) return;\n",
              "\n",
              "          const docLinkHtml = 'Like what you see? Visit the ' +\n",
              "            '<a target=\"_blank\" href=https://colab.research.google.com/notebooks/data_table.ipynb>data table notebook</a>'\n",
              "            + ' to learn more about interactive tables.';\n",
              "          element.innerHTML = '';\n",
              "          dataTable['output_type'] = 'display_data';\n",
              "          await google.colab.output.renderOutput(dataTable, element);\n",
              "          const docLink = document.createElement('div');\n",
              "          docLink.innerHTML = docLinkHtml;\n",
              "          element.appendChild(docLink);\n",
              "        }\n",
              "      </script>\n",
              "    </div>\n",
              "  </div>\n",
              "  "
            ]
          },
          "metadata": {},
          "execution_count": 75
        }
      ]
    },
    {
      "cell_type": "code",
      "source": [
        "columns=np.full(corr.shape[0],False,dtype=bool)\n",
        "columns"
      ],
      "metadata": {
        "id": "n3Q3-rLDQYfh",
        "outputId": "d5b68c9b-a079-432a-9726-d2f2f7c826d6",
        "colab": {
          "base_uri": "https://localhost:8080/"
        }
      },
      "execution_count": 87,
      "outputs": [
        {
          "output_type": "execute_result",
          "data": {
            "text/plain": [
              "array([False, False, False, False, False, False, False, False, False,\n",
              "       False, False, False, False, False, False, False, False, False,\n",
              "       False, False, False, False, False, False, False, False, False,\n",
              "       False, False, False, False, False, False, False, False, False,\n",
              "       False, False, False, False, False, False, False, False, False,\n",
              "       False, False, False, False, False, False, False, False, False,\n",
              "       False, False, False, False, False, False, False, False, False,\n",
              "       False, False, False, False, False, False, False, False, False,\n",
              "       False, False, False, False, False, False, False, False, False,\n",
              "       False, False, False, False, False, False, False, False, False,\n",
              "       False, False, False, False, False, False, False, False, False,\n",
              "       False, False, False, False, False, False, False, False, False,\n",
              "       False, False, False, False, False, False, False, False, False,\n",
              "       False, False, False, False, False, False, False, False, False,\n",
              "       False, False, False, False, False, False, False, False, False,\n",
              "       False, False, False, False, False, False, False, False, False,\n",
              "       False, False, False, False, False, False, False, False, False,\n",
              "       False, False, False, False, False, False, False, False, False,\n",
              "       False, False, False, False, False, False, False, False, False,\n",
              "       False, False, False, False, False, False, False, False, False,\n",
              "       False, False, False, False, False, False, False, False, False,\n",
              "       False, False, False, False, False, False, False, False, False,\n",
              "       False, False, False, False, False, False, False, False, False,\n",
              "       False, False, False, False, False, False, False, False, False,\n",
              "       False, False, False, False, False, False, False, False, False,\n",
              "       False, False, False, False, False, False, False, False, False,\n",
              "       False, False, False, False, False, False, False, False, False,\n",
              "       False, False, False, False, False, False, False, False, False,\n",
              "       False])"
            ]
          },
          "metadata": {},
          "execution_count": 87
        }
      ]
    },
    {
      "cell_type": "code",
      "source": [
        "for i in range(0,corr.shape[0]):\n",
        "    \n",
        "    if abs(corr.iloc[-1,i]) > 0.7:\n",
        "        columns[i]=True"
      ],
      "metadata": {
        "id": "lH8DCxM9SnhI"
      },
      "execution_count": 88,
      "outputs": []
    },
    {
      "cell_type": "code",
      "source": [
        "selected_columns=data.columns[columns]"
      ],
      "metadata": {
        "id": "mlNwi8dxSxeR"
      },
      "execution_count": 89,
      "outputs": []
    },
    {
      "cell_type": "code",
      "source": [
        "selected_columns"
      ],
      "metadata": {
        "id": "UIjG74JtSzWZ",
        "outputId": "169ef7f6-ef77-4437-ac8a-c8e969863d95",
        "colab": {
          "base_uri": "https://localhost:8080/"
        }
      },
      "execution_count": 90,
      "outputs": [
        {
          "output_type": "execute_result",
          "data": {
            "text/plain": [
              "Index(['BorrowerAPR', 'LenderYield', 'EstimatedEffectiveYield',\n",
              "       'EstimatedLoss', 'EstimatedReturn', 'BorrowerRateTarget'],\n",
              "      dtype='object')"
            ]
          },
          "metadata": {},
          "execution_count": 90
        }
      ]
    },
    {
      "cell_type": "code",
      "source": [
        "high_features=data[selected_columns]\n",
        "high_features.head()"
      ],
      "metadata": {
        "id": "ylDtAAR7S1Ih",
        "outputId": "b86a590d-5eb0-4a07-baa6-2fd7b62250f0",
        "colab": {
          "base_uri": "https://localhost:8080/",
          "height": 206
        }
      },
      "execution_count": 91,
      "outputs": [
        {
          "output_type": "execute_result",
          "data": {
            "text/plain": [
              "   BorrowerAPR  LenderYield  EstimatedEffectiveYield  EstimatedLoss  \\\n",
              "0      0.16516       0.1380                 0.168661       0.080306   \n",
              "1      0.12016       0.0820                 0.079600       0.024900   \n",
              "2      0.28269       0.2400                 0.168661       0.080306   \n",
              "3      0.12528       0.0874                 0.084900       0.024900   \n",
              "4      0.24614       0.1985                 0.183160       0.092500   \n",
              "\n",
              "   EstimatedReturn  BorrowerRateTarget  \n",
              "0         0.096068              0.1580  \n",
              "1         0.054700              0.0920  \n",
              "2         0.096068              0.2750  \n",
              "3         0.060000              0.0974  \n",
              "4         0.090660              0.2085  "
            ],
            "text/html": [
              "\n",
              "  <div id=\"df-d2937960-c8f3-4b58-9a9e-4754357ae7ad\">\n",
              "    <div class=\"colab-df-container\">\n",
              "      <div>\n",
              "<style scoped>\n",
              "    .dataframe tbody tr th:only-of-type {\n",
              "        vertical-align: middle;\n",
              "    }\n",
              "\n",
              "    .dataframe tbody tr th {\n",
              "        vertical-align: top;\n",
              "    }\n",
              "\n",
              "    .dataframe thead th {\n",
              "        text-align: right;\n",
              "    }\n",
              "</style>\n",
              "<table border=\"1\" class=\"dataframe\">\n",
              "  <thead>\n",
              "    <tr style=\"text-align: right;\">\n",
              "      <th></th>\n",
              "      <th>BorrowerAPR</th>\n",
              "      <th>LenderYield</th>\n",
              "      <th>EstimatedEffectiveYield</th>\n",
              "      <th>EstimatedLoss</th>\n",
              "      <th>EstimatedReturn</th>\n",
              "      <th>BorrowerRateTarget</th>\n",
              "    </tr>\n",
              "  </thead>\n",
              "  <tbody>\n",
              "    <tr>\n",
              "      <th>0</th>\n",
              "      <td>0.16516</td>\n",
              "      <td>0.1380</td>\n",
              "      <td>0.168661</td>\n",
              "      <td>0.080306</td>\n",
              "      <td>0.096068</td>\n",
              "      <td>0.1580</td>\n",
              "    </tr>\n",
              "    <tr>\n",
              "      <th>1</th>\n",
              "      <td>0.12016</td>\n",
              "      <td>0.0820</td>\n",
              "      <td>0.079600</td>\n",
              "      <td>0.024900</td>\n",
              "      <td>0.054700</td>\n",
              "      <td>0.0920</td>\n",
              "    </tr>\n",
              "    <tr>\n",
              "      <th>2</th>\n",
              "      <td>0.28269</td>\n",
              "      <td>0.2400</td>\n",
              "      <td>0.168661</td>\n",
              "      <td>0.080306</td>\n",
              "      <td>0.096068</td>\n",
              "      <td>0.2750</td>\n",
              "    </tr>\n",
              "    <tr>\n",
              "      <th>3</th>\n",
              "      <td>0.12528</td>\n",
              "      <td>0.0874</td>\n",
              "      <td>0.084900</td>\n",
              "      <td>0.024900</td>\n",
              "      <td>0.060000</td>\n",
              "      <td>0.0974</td>\n",
              "    </tr>\n",
              "    <tr>\n",
              "      <th>4</th>\n",
              "      <td>0.24614</td>\n",
              "      <td>0.1985</td>\n",
              "      <td>0.183160</td>\n",
              "      <td>0.092500</td>\n",
              "      <td>0.090660</td>\n",
              "      <td>0.2085</td>\n",
              "    </tr>\n",
              "  </tbody>\n",
              "</table>\n",
              "</div>\n",
              "      <button class=\"colab-df-convert\" onclick=\"convertToInteractive('df-d2937960-c8f3-4b58-9a9e-4754357ae7ad')\"\n",
              "              title=\"Convert this dataframe to an interactive table.\"\n",
              "              style=\"display:none;\">\n",
              "        \n",
              "  <svg xmlns=\"http://www.w3.org/2000/svg\" height=\"24px\"viewBox=\"0 0 24 24\"\n",
              "       width=\"24px\">\n",
              "    <path d=\"M0 0h24v24H0V0z\" fill=\"none\"/>\n",
              "    <path d=\"M18.56 5.44l.94 2.06.94-2.06 2.06-.94-2.06-.94-.94-2.06-.94 2.06-2.06.94zm-11 1L8.5 8.5l.94-2.06 2.06-.94-2.06-.94L8.5 2.5l-.94 2.06-2.06.94zm10 10l.94 2.06.94-2.06 2.06-.94-2.06-.94-.94-2.06-.94 2.06-2.06.94z\"/><path d=\"M17.41 7.96l-1.37-1.37c-.4-.4-.92-.59-1.43-.59-.52 0-1.04.2-1.43.59L10.3 9.45l-7.72 7.72c-.78.78-.78 2.05 0 2.83L4 21.41c.39.39.9.59 1.41.59.51 0 1.02-.2 1.41-.59l7.78-7.78 2.81-2.81c.8-.78.8-2.07 0-2.86zM5.41 20L4 18.59l7.72-7.72 1.47 1.35L5.41 20z\"/>\n",
              "  </svg>\n",
              "      </button>\n",
              "      \n",
              "  <style>\n",
              "    .colab-df-container {\n",
              "      display:flex;\n",
              "      flex-wrap:wrap;\n",
              "      gap: 12px;\n",
              "    }\n",
              "\n",
              "    .colab-df-convert {\n",
              "      background-color: #E8F0FE;\n",
              "      border: none;\n",
              "      border-radius: 50%;\n",
              "      cursor: pointer;\n",
              "      display: none;\n",
              "      fill: #1967D2;\n",
              "      height: 32px;\n",
              "      padding: 0 0 0 0;\n",
              "      width: 32px;\n",
              "    }\n",
              "\n",
              "    .colab-df-convert:hover {\n",
              "      background-color: #E2EBFA;\n",
              "      box-shadow: 0px 1px 2px rgba(60, 64, 67, 0.3), 0px 1px 3px 1px rgba(60, 64, 67, 0.15);\n",
              "      fill: #174EA6;\n",
              "    }\n",
              "\n",
              "    [theme=dark] .colab-df-convert {\n",
              "      background-color: #3B4455;\n",
              "      fill: #D2E3FC;\n",
              "    }\n",
              "\n",
              "    [theme=dark] .colab-df-convert:hover {\n",
              "      background-color: #434B5C;\n",
              "      box-shadow: 0px 1px 3px 1px rgba(0, 0, 0, 0.15);\n",
              "      filter: drop-shadow(0px 1px 2px rgba(0, 0, 0, 0.3));\n",
              "      fill: #FFFFFF;\n",
              "    }\n",
              "  </style>\n",
              "\n",
              "      <script>\n",
              "        const buttonEl =\n",
              "          document.querySelector('#df-d2937960-c8f3-4b58-9a9e-4754357ae7ad button.colab-df-convert');\n",
              "        buttonEl.style.display =\n",
              "          google.colab.kernel.accessAllowed ? 'block' : 'none';\n",
              "\n",
              "        async function convertToInteractive(key) {\n",
              "          const element = document.querySelector('#df-d2937960-c8f3-4b58-9a9e-4754357ae7ad');\n",
              "          const dataTable =\n",
              "            await google.colab.kernel.invokeFunction('convertToInteractive',\n",
              "                                                     [key], {});\n",
              "          if (!dataTable) return;\n",
              "\n",
              "          const docLinkHtml = 'Like what you see? Visit the ' +\n",
              "            '<a target=\"_blank\" href=https://colab.research.google.com/notebooks/data_table.ipynb>data table notebook</a>'\n",
              "            + ' to learn more about interactive tables.';\n",
              "          element.innerHTML = '';\n",
              "          dataTable['output_type'] = 'display_data';\n",
              "          await google.colab.output.renderOutput(dataTable, element);\n",
              "          const docLink = document.createElement('div');\n",
              "          docLink.innerHTML = docLinkHtml;\n",
              "          element.appendChild(docLink);\n",
              "        }\n",
              "      </script>\n",
              "    </div>\n",
              "  </div>\n",
              "  "
            ]
          },
          "metadata": {},
          "execution_count": 91
        }
      ]
    },
    {
      "cell_type": "code",
      "source": [
        "data_copy=data.drop(selected_columns,axis=1)"
      ],
      "metadata": {
        "id": "bhQD0XgNT6E4"
      },
      "execution_count": 92,
      "outputs": []
    },
    {
      "cell_type": "code",
      "source": [
        "data_copy.head()"
      ],
      "metadata": {
        "id": "XdBHYRKiT-y4",
        "outputId": "fe6e9d76-1286-4eee-d135-7b03c5e66d2e",
        "colab": {
          "base_uri": "https://localhost:8080/",
          "height": 317
        }
      },
      "execution_count": 93,
      "outputs": [
        {
          "output_type": "execute_result",
          "data": {
            "text/plain": [
              "   Term  ListingCategory (numeric)  EmploymentStatusDuration  \\\n",
              "0    36                          0                  2.000000   \n",
              "1    36                          2                 44.000000   \n",
              "2    36                          0                 96.071582   \n",
              "3    36                         16                113.000000   \n",
              "4    36                          2                 44.000000   \n",
              "\n",
              "   CreditScoreRangeLower  CreditScoreRangeUpper  CurrentCreditLines  \\\n",
              "0                  640.0                  659.0                 5.0   \n",
              "1                  680.0                  699.0                14.0   \n",
              "2                  480.0                  499.0                 8.0   \n",
              "3                  800.0                  819.0                 5.0   \n",
              "4                  680.0                  699.0                19.0   \n",
              "\n",
              "   OpenCreditLines  TotalCreditLinespast7years  OpenRevolvingAccounts  \\\n",
              "0              4.0                        12.0                      1   \n",
              "1             14.0                        29.0                     13   \n",
              "2              7.0                         3.0                      0   \n",
              "3              5.0                        29.0                      7   \n",
              "4             19.0                        49.0                      6   \n",
              "\n",
              "   OpenRevolvingMonthlyPayment  ...  LoanOriginationQuarter31  \\\n",
              "0                         24.0  ...                       0.0   \n",
              "1                        389.0  ...                       0.0   \n",
              "2                          0.0  ...                       0.0   \n",
              "3                        115.0  ...                       1.0   \n",
              "4                        220.0  ...                       0.0   \n",
              "\n",
              "   LoanOriginationQuarter32  Grade0  Grade1  Grade2  Grade3  Grade4  Grade5  \\\n",
              "0                       0.0     0.0     0.0     0.0     0.0     1.0     0.0   \n",
              "1                       0.0     0.0     1.0     0.0     0.0     0.0     0.0   \n",
              "2                       0.0     0.0     0.0     0.0     0.0     0.0     0.0   \n",
              "3                       0.0     0.0     1.0     0.0     0.0     0.0     0.0   \n",
              "4                       0.0     0.0     0.0     0.0     0.0     0.0     1.0   \n",
              "\n",
              "   Grade6  Grade7  \n",
              "0     0.0     0.0  \n",
              "1     0.0     0.0  \n",
              "2     0.0     1.0  \n",
              "3     0.0     0.0  \n",
              "4     0.0     0.0  \n",
              "\n",
              "[5 rows x 247 columns]"
            ],
            "text/html": [
              "\n",
              "  <div id=\"df-8823c3d3-e4ac-4c89-9950-7df4d6b65218\">\n",
              "    <div class=\"colab-df-container\">\n",
              "      <div>\n",
              "<style scoped>\n",
              "    .dataframe tbody tr th:only-of-type {\n",
              "        vertical-align: middle;\n",
              "    }\n",
              "\n",
              "    .dataframe tbody tr th {\n",
              "        vertical-align: top;\n",
              "    }\n",
              "\n",
              "    .dataframe thead th {\n",
              "        text-align: right;\n",
              "    }\n",
              "</style>\n",
              "<table border=\"1\" class=\"dataframe\">\n",
              "  <thead>\n",
              "    <tr style=\"text-align: right;\">\n",
              "      <th></th>\n",
              "      <th>Term</th>\n",
              "      <th>ListingCategory (numeric)</th>\n",
              "      <th>EmploymentStatusDuration</th>\n",
              "      <th>CreditScoreRangeLower</th>\n",
              "      <th>CreditScoreRangeUpper</th>\n",
              "      <th>CurrentCreditLines</th>\n",
              "      <th>OpenCreditLines</th>\n",
              "      <th>TotalCreditLinespast7years</th>\n",
              "      <th>OpenRevolvingAccounts</th>\n",
              "      <th>OpenRevolvingMonthlyPayment</th>\n",
              "      <th>...</th>\n",
              "      <th>LoanOriginationQuarter31</th>\n",
              "      <th>LoanOriginationQuarter32</th>\n",
              "      <th>Grade0</th>\n",
              "      <th>Grade1</th>\n",
              "      <th>Grade2</th>\n",
              "      <th>Grade3</th>\n",
              "      <th>Grade4</th>\n",
              "      <th>Grade5</th>\n",
              "      <th>Grade6</th>\n",
              "      <th>Grade7</th>\n",
              "    </tr>\n",
              "  </thead>\n",
              "  <tbody>\n",
              "    <tr>\n",
              "      <th>0</th>\n",
              "      <td>36</td>\n",
              "      <td>0</td>\n",
              "      <td>2.000000</td>\n",
              "      <td>640.0</td>\n",
              "      <td>659.0</td>\n",
              "      <td>5.0</td>\n",
              "      <td>4.0</td>\n",
              "      <td>12.0</td>\n",
              "      <td>1</td>\n",
              "      <td>24.0</td>\n",
              "      <td>...</td>\n",
              "      <td>0.0</td>\n",
              "      <td>0.0</td>\n",
              "      <td>0.0</td>\n",
              "      <td>0.0</td>\n",
              "      <td>0.0</td>\n",
              "      <td>0.0</td>\n",
              "      <td>1.0</td>\n",
              "      <td>0.0</td>\n",
              "      <td>0.0</td>\n",
              "      <td>0.0</td>\n",
              "    </tr>\n",
              "    <tr>\n",
              "      <th>1</th>\n",
              "      <td>36</td>\n",
              "      <td>2</td>\n",
              "      <td>44.000000</td>\n",
              "      <td>680.0</td>\n",
              "      <td>699.0</td>\n",
              "      <td>14.0</td>\n",
              "      <td>14.0</td>\n",
              "      <td>29.0</td>\n",
              "      <td>13</td>\n",
              "      <td>389.0</td>\n",
              "      <td>...</td>\n",
              "      <td>0.0</td>\n",
              "      <td>0.0</td>\n",
              "      <td>0.0</td>\n",
              "      <td>1.0</td>\n",
              "      <td>0.0</td>\n",
              "      <td>0.0</td>\n",
              "      <td>0.0</td>\n",
              "      <td>0.0</td>\n",
              "      <td>0.0</td>\n",
              "      <td>0.0</td>\n",
              "    </tr>\n",
              "    <tr>\n",
              "      <th>2</th>\n",
              "      <td>36</td>\n",
              "      <td>0</td>\n",
              "      <td>96.071582</td>\n",
              "      <td>480.0</td>\n",
              "      <td>499.0</td>\n",
              "      <td>8.0</td>\n",
              "      <td>7.0</td>\n",
              "      <td>3.0</td>\n",
              "      <td>0</td>\n",
              "      <td>0.0</td>\n",
              "      <td>...</td>\n",
              "      <td>0.0</td>\n",
              "      <td>0.0</td>\n",
              "      <td>0.0</td>\n",
              "      <td>0.0</td>\n",
              "      <td>0.0</td>\n",
              "      <td>0.0</td>\n",
              "      <td>0.0</td>\n",
              "      <td>0.0</td>\n",
              "      <td>0.0</td>\n",
              "      <td>1.0</td>\n",
              "    </tr>\n",
              "    <tr>\n",
              "      <th>3</th>\n",
              "      <td>36</td>\n",
              "      <td>16</td>\n",
              "      <td>113.000000</td>\n",
              "      <td>800.0</td>\n",
              "      <td>819.0</td>\n",
              "      <td>5.0</td>\n",
              "      <td>5.0</td>\n",
              "      <td>29.0</td>\n",
              "      <td>7</td>\n",
              "      <td>115.0</td>\n",
              "      <td>...</td>\n",
              "      <td>1.0</td>\n",
              "      <td>0.0</td>\n",
              "      <td>0.0</td>\n",
              "      <td>1.0</td>\n",
              "      <td>0.0</td>\n",
              "      <td>0.0</td>\n",
              "      <td>0.0</td>\n",
              "      <td>0.0</td>\n",
              "      <td>0.0</td>\n",
              "      <td>0.0</td>\n",
              "    </tr>\n",
              "    <tr>\n",
              "      <th>4</th>\n",
              "      <td>36</td>\n",
              "      <td>2</td>\n",
              "      <td>44.000000</td>\n",
              "      <td>680.0</td>\n",
              "      <td>699.0</td>\n",
              "      <td>19.0</td>\n",
              "      <td>19.0</td>\n",
              "      <td>49.0</td>\n",
              "      <td>6</td>\n",
              "      <td>220.0</td>\n",
              "      <td>...</td>\n",
              "      <td>0.0</td>\n",
              "      <td>0.0</td>\n",
              "      <td>0.0</td>\n",
              "      <td>0.0</td>\n",
              "      <td>0.0</td>\n",
              "      <td>0.0</td>\n",
              "      <td>0.0</td>\n",
              "      <td>1.0</td>\n",
              "      <td>0.0</td>\n",
              "      <td>0.0</td>\n",
              "    </tr>\n",
              "  </tbody>\n",
              "</table>\n",
              "<p>5 rows × 247 columns</p>\n",
              "</div>\n",
              "      <button class=\"colab-df-convert\" onclick=\"convertToInteractive('df-8823c3d3-e4ac-4c89-9950-7df4d6b65218')\"\n",
              "              title=\"Convert this dataframe to an interactive table.\"\n",
              "              style=\"display:none;\">\n",
              "        \n",
              "  <svg xmlns=\"http://www.w3.org/2000/svg\" height=\"24px\"viewBox=\"0 0 24 24\"\n",
              "       width=\"24px\">\n",
              "    <path d=\"M0 0h24v24H0V0z\" fill=\"none\"/>\n",
              "    <path d=\"M18.56 5.44l.94 2.06.94-2.06 2.06-.94-2.06-.94-.94-2.06-.94 2.06-2.06.94zm-11 1L8.5 8.5l.94-2.06 2.06-.94-2.06-.94L8.5 2.5l-.94 2.06-2.06.94zm10 10l.94 2.06.94-2.06 2.06-.94-2.06-.94-.94-2.06-.94 2.06-2.06.94z\"/><path d=\"M17.41 7.96l-1.37-1.37c-.4-.4-.92-.59-1.43-.59-.52 0-1.04.2-1.43.59L10.3 9.45l-7.72 7.72c-.78.78-.78 2.05 0 2.83L4 21.41c.39.39.9.59 1.41.59.51 0 1.02-.2 1.41-.59l7.78-7.78 2.81-2.81c.8-.78.8-2.07 0-2.86zM5.41 20L4 18.59l7.72-7.72 1.47 1.35L5.41 20z\"/>\n",
              "  </svg>\n",
              "      </button>\n",
              "      \n",
              "  <style>\n",
              "    .colab-df-container {\n",
              "      display:flex;\n",
              "      flex-wrap:wrap;\n",
              "      gap: 12px;\n",
              "    }\n",
              "\n",
              "    .colab-df-convert {\n",
              "      background-color: #E8F0FE;\n",
              "      border: none;\n",
              "      border-radius: 50%;\n",
              "      cursor: pointer;\n",
              "      display: none;\n",
              "      fill: #1967D2;\n",
              "      height: 32px;\n",
              "      padding: 0 0 0 0;\n",
              "      width: 32px;\n",
              "    }\n",
              "\n",
              "    .colab-df-convert:hover {\n",
              "      background-color: #E2EBFA;\n",
              "      box-shadow: 0px 1px 2px rgba(60, 64, 67, 0.3), 0px 1px 3px 1px rgba(60, 64, 67, 0.15);\n",
              "      fill: #174EA6;\n",
              "    }\n",
              "\n",
              "    [theme=dark] .colab-df-convert {\n",
              "      background-color: #3B4455;\n",
              "      fill: #D2E3FC;\n",
              "    }\n",
              "\n",
              "    [theme=dark] .colab-df-convert:hover {\n",
              "      background-color: #434B5C;\n",
              "      box-shadow: 0px 1px 3px 1px rgba(0, 0, 0, 0.15);\n",
              "      filter: drop-shadow(0px 1px 2px rgba(0, 0, 0, 0.3));\n",
              "      fill: #FFFFFF;\n",
              "    }\n",
              "  </style>\n",
              "\n",
              "      <script>\n",
              "        const buttonEl =\n",
              "          document.querySelector('#df-8823c3d3-e4ac-4c89-9950-7df4d6b65218 button.colab-df-convert');\n",
              "        buttonEl.style.display =\n",
              "          google.colab.kernel.accessAllowed ? 'block' : 'none';\n",
              "\n",
              "        async function convertToInteractive(key) {\n",
              "          const element = document.querySelector('#df-8823c3d3-e4ac-4c89-9950-7df4d6b65218');\n",
              "          const dataTable =\n",
              "            await google.colab.kernel.invokeFunction('convertToInteractive',\n",
              "                                                     [key], {});\n",
              "          if (!dataTable) return;\n",
              "\n",
              "          const docLinkHtml = 'Like what you see? Visit the ' +\n",
              "            '<a target=\"_blank\" href=https://colab.research.google.com/notebooks/data_table.ipynb>data table notebook</a>'\n",
              "            + ' to learn more about interactive tables.';\n",
              "          element.innerHTML = '';\n",
              "          dataTable['output_type'] = 'display_data';\n",
              "          await google.colab.output.renderOutput(dataTable, element);\n",
              "          const docLink = document.createElement('div');\n",
              "          docLink.innerHTML = docLinkHtml;\n",
              "          element.appendChild(docLink);\n",
              "        }\n",
              "      </script>\n",
              "    </div>\n",
              "  </div>\n",
              "  "
            ]
          },
          "metadata": {},
          "execution_count": 93
        }
      ]
    },
    {
      "cell_type": "markdown",
      "source": [
        "# **Feature extraction**"
      ],
      "metadata": {
        "id": "i2nPo3M-UNH2"
      }
    },
    {
      "cell_type": "markdown",
      "source": [
        "PCA"
      ],
      "metadata": {
        "id": "nFIih_FHURRI"
      }
    },
    {
      "cell_type": "code",
      "source": [
        "X=data_copy.values\n",
        "X.shape\n"
      ],
      "metadata": {
        "id": "rfzcrQHqUAwo",
        "outputId": "d619cb0d-07b8-4ee3-eb5f-d449413fb578",
        "colab": {
          "base_uri": "https://localhost:8080/"
        }
      },
      "execution_count": 95,
      "outputs": [
        {
          "output_type": "execute_result",
          "data": {
            "text/plain": [
              "(113937, 247)"
            ]
          },
          "metadata": {},
          "execution_count": 95
        }
      ]
    },
    {
      "cell_type": "code",
      "source": [
        "from sklearn.preprocessing import Normalizer \n",
        "nor=Normalizer()\n",
        "X=nor.fit_transform(X)"
      ],
      "metadata": {
        "id": "BgY2_NhxUSpp"
      },
      "execution_count": 96,
      "outputs": []
    },
    {
      "cell_type": "code",
      "source": [
        "from sklearn.decomposition import PCA\n",
        "pca=PCA(n_components=4)\n",
        "pca_components=pca.fit_transform(X)"
      ],
      "metadata": {
        "id": "X_lLZah2UWto"
      },
      "execution_count": 97,
      "outputs": []
    },
    {
      "cell_type": "code",
      "source": [
        "variance_eplained=pca.explained_variance_ratio_\n",
        "comulative_variance=np.cumsum(variance_eplained)"
      ],
      "metadata": {
        "id": "akOsHryGUYup"
      },
      "execution_count": 98,
      "outputs": []
    },
    {
      "cell_type": "code",
      "source": [
        "plt.figure(figsize=(6,4))\n",
        "plt.clf()\n",
        "plt.plot(comulative_variance)\n",
        "plt.xlabel('Number of components ')\n",
        "plt.ylabel(\"Variance Ratio\")\n",
        "plt.grid()\n",
        "plt.show()"
      ],
      "metadata": {
        "id": "zlQ3STn7UcZA",
        "outputId": "1ecff1c1-f746-4910-f102-3445512592b6",
        "colab": {
          "base_uri": "https://localhost:8080/",
          "height": 283
        }
      },
      "execution_count": 99,
      "outputs": [
        {
          "output_type": "display_data",
          "data": {
            "text/plain": [
              "<Figure size 432x288 with 1 Axes>"
            ],
            "image/png": "[encoded data removed]"
          },
          "metadata": {
            "needs_background": "light"
          }
        }
      ]
    },
    {
      "cell_type": "code",
      "source": [
        "pca.explained_variance_ratio_"
      ],
      "metadata": {
        "id": "reyMR0lVUebA",
        "outputId": "db13dc94-2be2-43fe-e517-bb85baabdc38",
        "colab": {
          "base_uri": "https://localhost:8080/"
        }
      },
      "execution_count": 100,
      "outputs": [
        {
          "output_type": "execute_result",
          "data": {
            "text/plain": [
              "array([0.33662009, 0.23802433, 0.11455134, 0.08974196])"
            ]
          },
          "metadata": {},
          "execution_count": 100
        }
      ]
    },
    {
      "cell_type": "code",
      "source": [
        "pca_data=pd.DataFrame(data=pca_components)"
      ],
      "metadata": {
        "id": "wDRqn5vcUg-g"
      },
      "execution_count": 101,
      "outputs": []
    },
    {
      "cell_type": "code",
      "source": [
        "new_data=pd.concat([high_features,pca_data],axis=1)\n",
        "print(new_data.shape)\n",
        "new_data.head()"
      ],
      "metadata": {
        "id": "8oRtHcS_UkBg",
        "outputId": "9a54112f-377d-498a-9146-05b6ae1f1983",
        "colab": {
          "base_uri": "https://localhost:8080/",
          "height": 224
        }
      },
      "execution_count": 103,
      "outputs": [
        {
          "output_type": "stream",
          "name": "stdout",
          "text": [
            "(113937, 10)\n"
          ]
        },
        {
          "output_type": "execute_result",
          "data": {
            "text/plain": [
              "   BorrowerAPR  LenderYield  EstimatedEffectiveYield  EstimatedLoss  \\\n",
              "0      0.16516       0.1380                 0.168661       0.080306   \n",
              "1      0.12016       0.0820                 0.079600       0.024900   \n",
              "2      0.28269       0.2400                 0.168661       0.080306   \n",
              "3      0.12528       0.0874                 0.084900       0.024900   \n",
              "4      0.24614       0.1985                 0.183160       0.092500   \n",
              "\n",
              "   EstimatedReturn  BorrowerRateTarget         0         1         2         3  \n",
              "0         0.096068              0.1580  0.639560 -0.023741 -0.385885 -0.097656  \n",
              "1         0.054700              0.0920  0.039107  0.365931  0.288159 -0.231329  \n",
              "2         0.096068              0.2750  0.685671 -0.120554 -0.318474  0.033646  \n",
              "3         0.060000              0.0974  0.078081  0.744180  0.035438  0.079270  \n",
              "4         0.090660              0.2085  0.252405 -0.181697  0.219375  0.069240  "
            ],
            "text/html": [
              "\n",
              "  <div id=\"df-f4f3d767-f889-4a1e-8d58-01fd881b8601\">\n",
              "    <div class=\"colab-df-container\">\n",
              "      <div>\n",
              "<style scoped>\n",
              "    .dataframe tbody tr th:only-of-type {\n",
              "        vertical-align: middle;\n",
              "    }\n",
              "\n",
              "    .dataframe tbody tr th {\n",
              "        vertical-align: top;\n",
              "    }\n",
              "\n",
              "    .dataframe thead th {\n",
              "        text-align: right;\n",
              "    }\n",
              "</style>\n",
              "<table border=\"1\" class=\"dataframe\">\n",
              "  <thead>\n",
              "    <tr style=\"text-align: right;\">\n",
              "      <th></th>\n",
              "      <th>BorrowerAPR</th>\n",
              "      <th>LenderYield</th>\n",
              "      <th>EstimatedEffectiveYield</th>\n",
              "      <th>EstimatedLoss</th>\n",
              "      <th>EstimatedReturn</th>\n",
              "      <th>BorrowerRateTarget</th>\n",
              "      <th>0</th>\n",
              "      <th>1</th>\n",
              "      <th>2</th>\n",
              "      <th>3</th>\n",
              "    </tr>\n",
              "  </thead>\n",
              "  <tbody>\n",
              "    <tr>\n",
              "      <th>0</th>\n",
              "      <td>0.16516</td>\n",
              "      <td>0.1380</td>\n",
              "      <td>0.168661</td>\n",
              "      <td>0.080306</td>\n",
              "      <td>0.096068</td>\n",
              "      <td>0.1580</td>\n",
              "      <td>0.639560</td>\n",
              "      <td>-0.023741</td>\n",
              "      <td>-0.385885</td>\n",
              "      <td>-0.097656</td>\n",
              "    </tr>\n",
              "    <tr>\n",
              "      <th>1</th>\n",
              "      <td>0.12016</td>\n",
              "      <td>0.0820</td>\n",
              "      <td>0.079600</td>\n",
              "      <td>0.024900</td>\n",
              "      <td>0.054700</td>\n",
              "      <td>0.0920</td>\n",
              "      <td>0.039107</td>\n",
              "      <td>0.365931</td>\n",
              "      <td>0.288159</td>\n",
              "      <td>-0.231329</td>\n",
              "    </tr>\n",
              "    <tr>\n",
              "      <th>2</th>\n",
              "      <td>0.28269</td>\n",
              "      <td>0.2400</td>\n",
              "      <td>0.168661</td>\n",
              "      <td>0.080306</td>\n",
              "      <td>0.096068</td>\n",
              "      <td>0.2750</td>\n",
              "      <td>0.685671</td>\n",
              "      <td>-0.120554</td>\n",
              "      <td>-0.318474</td>\n",
              "      <td>0.033646</td>\n",
              "    </tr>\n",
              "    <tr>\n",
              "      <th>3</th>\n",
              "      <td>0.12528</td>\n",
              "      <td>0.0874</td>\n",
              "      <td>0.084900</td>\n",
              "      <td>0.024900</td>\n",
              "      <td>0.060000</td>\n",
              "      <td>0.0974</td>\n",
              "      <td>0.078081</td>\n",
              "      <td>0.744180</td>\n",
              "      <td>0.035438</td>\n",
              "      <td>0.079270</td>\n",
              "    </tr>\n",
              "    <tr>\n",
              "      <th>4</th>\n",
              "      <td>0.24614</td>\n",
              "      <td>0.1985</td>\n",
              "      <td>0.183160</td>\n",
              "      <td>0.092500</td>\n",
              "      <td>0.090660</td>\n",
              "      <td>0.2085</td>\n",
              "      <td>0.252405</td>\n",
              "      <td>-0.181697</td>\n",
              "      <td>0.219375</td>\n",
              "      <td>0.069240</td>\n",
              "    </tr>\n",
              "  </tbody>\n",
              "</table>\n",
              "</div>\n",
              "      <button class=\"colab-df-convert\" onclick=\"convertToInteractive('df-f4f3d767-f889-4a1e-8d58-01fd881b8601')\"\n",
              "              title=\"Convert this dataframe to an interactive table.\"\n",
              "              style=\"display:none;\">\n",
              "        \n",
              "  <svg xmlns=\"http://www.w3.org/2000/svg\" height=\"24px\"viewBox=\"0 0 24 24\"\n",
              "       width=\"24px\">\n",
              "    <path d=\"M0 0h24v24H0V0z\" fill=\"none\"/>\n",
              "    <path d=\"M18.56 5.44l.94 2.06.94-2.06 2.06-.94-2.06-.94-.94-2.06-.94 2.06-2.06.94zm-11 1L8.5 8.5l.94-2.06 2.06-.94-2.06-.94L8.5 2.5l-.94 2.06-2.06.94zm10 10l.94 2.06.94-2.06 2.06-.94-2.06-.94-.94-2.06-.94 2.06-2.06.94z\"/><path d=\"M17.41 7.96l-1.37-1.37c-.4-.4-.92-.59-1.43-.59-.52 0-1.04.2-1.43.59L10.3 9.45l-7.72 7.72c-.78.78-.78 2.05 0 2.83L4 21.41c.39.39.9.59 1.41.59.51 0 1.02-.2 1.41-.59l7.78-7.78 2.81-2.81c.8-.78.8-2.07 0-2.86zM5.41 20L4 18.59l7.72-7.72 1.47 1.35L5.41 20z\"/>\n",
              "  </svg>\n",
              "      </button>\n",
              "      \n",
              "  <style>\n",
              "    .colab-df-container {\n",
              "      display:flex;\n",
              "      flex-wrap:wrap;\n",
              "      gap: 12px;\n",
              "    }\n",
              "\n",
              "    .colab-df-convert {\n",
              "      background-color: #E8F0FE;\n",
              "      border: none;\n",
              "      border-radius: 50%;\n",
              "      cursor: pointer;\n",
              "      display: none;\n",
              "      fill: #1967D2;\n",
              "      height: 32px;\n",
              "      padding: 0 0 0 0;\n",
              "      width: 32px;\n",
              "    }\n",
              "\n",
              "    .colab-df-convert:hover {\n",
              "      background-color: #E2EBFA;\n",
              "      box-shadow: 0px 1px 2px rgba(60, 64, 67, 0.3), 0px 1px 3px 1px rgba(60, 64, 67, 0.15);\n",
              "      fill: #174EA6;\n",
              "    }\n",
              "\n",
              "    [theme=dark] .colab-df-convert {\n",
              "      background-color: #3B4455;\n",
              "      fill: #D2E3FC;\n",
              "    }\n",
              "\n",
              "    [theme=dark] .colab-df-convert:hover {\n",
              "      background-color: #434B5C;\n",
              "      box-shadow: 0px 1px 3px 1px rgba(0, 0, 0, 0.15);\n",
              "      filter: drop-shadow(0px 1px 2px rgba(0, 0, 0, 0.3));\n",
              "      fill: #FFFFFF;\n",
              "    }\n",
              "  </style>\n",
              "\n",
              "      <script>\n",
              "        const buttonEl =\n",
              "          document.querySelector('#df-f4f3d767-f889-4a1e-8d58-01fd881b8601 button.colab-df-convert');\n",
              "        buttonEl.style.display =\n",
              "          google.colab.kernel.accessAllowed ? 'block' : 'none';\n",
              "\n",
              "        async function convertToInteractive(key) {\n",
              "          const element = document.querySelector('#df-f4f3d767-f889-4a1e-8d58-01fd881b8601');\n",
              "          const dataTable =\n",
              "            await google.colab.kernel.invokeFunction('convertToInteractive',\n",
              "                                                     [key], {});\n",
              "          if (!dataTable) return;\n",
              "\n",
              "          const docLinkHtml = 'Like what you see? Visit the ' +\n",
              "            '<a target=\"_blank\" href=https://colab.research.google.com/notebooks/data_table.ipynb>data table notebook</a>'\n",
              "            + ' to learn more about interactive tables.';\n",
              "          element.innerHTML = '';\n",
              "          dataTable['output_type'] = 'display_data';\n",
              "          await google.colab.output.renderOutput(dataTable, element);\n",
              "          const docLink = document.createElement('div');\n",
              "          docLink.innerHTML = docLinkHtml;\n",
              "          element.appendChild(docLink);\n",
              "        }\n",
              "      </script>\n",
              "    </div>\n",
              "  </div>\n",
              "  "
            ]
          },
          "metadata": {},
          "execution_count": 103
        }
      ]
    },
    {
      "cell_type": "code",
      "source": [
        "plt.figure(figsize=(25,8))\n",
        "sns.heatmap(new_data.corr(),annot=True)"
      ],
      "metadata": {
        "id": "RFJM9jAoUlbQ",
        "outputId": "850c7125-e3c6-4d30-aa2e-6700ecadbf9c",
        "colab": {
          "base_uri": "https://localhost:8080/",
          "height": 457
        }
      },
      "execution_count": 104,
      "outputs": [
        {
          "output_type": "execute_result",
          "data": {
            "text/plain": [
              "<matplotlib.axes._subplots.AxesSubplot at 0x7f6005f533d0>"
            ]
          },
          "metadata": {},
          "execution_count": 104
        },
        {
          "output_type": "display_data",
          "data": {
            "text/plain": [
              "<Figure size 1800x576 with 2 Axes>"
            ],
            "image/png": "[encoded data removed]"
          },
          "metadata": {
            "needs_background": "light"
          }
        }
      ]
    },
    {
      "cell_type": "code",
      "source": [
        "from sklearn.model_selection import train_test_split\n",
        "y=data.iloc[:,0].values\n",
        "X=data.iloc[:,1:].values\n",
        "train_X,test_X,train_y,test_y = train_test_split(X,y)"
      ],
      "metadata": {
        "id": "_QqCM4rOUu6X"
      },
      "execution_count": 105,
      "outputs": []
    },
    {
      "cell_type": "markdown",
      "source": [
        "#Model"
      ],
      "metadata": {
        "id": "7M8VvD35VEUi"
      }
    },
    {
      "cell_type": "code",
      "source": [
        "from sklearn.model_selection import cross_val_score\n",
        "from sklearn.tree import DecisionTreeRegressor\n",
        "\n",
        "DT = DecisionTreeRegressor(random_state=0)\n",
        "DT.fit(X, y)"
      ],
      "metadata": {
        "id": "HMQZAzMuU6SR",
        "outputId": "78c41007-ad9c-4be3-bba7-3ebab900ec6b",
        "colab": {
          "base_uri": "https://localhost:8080/"
        }
      },
      "execution_count": 126,
      "outputs": [
        {
          "output_type": "execute_result",
          "data": {
            "text/plain": [
              "DecisionTreeRegressor(random_state=0)"
            ]
          },
          "metadata": {},
          "execution_count": 126
        }
      ]
    },
    {
      "cell_type": "code",
      "source": [
        "from sklearn.metrics import mean_squared_error\n",
        "from sklearn.metrics import r2_score\n",
        "from sklearn.metrics import mean_absolute_error\n",
        "import math\n",
        "y_pred=DT.predict(train_X)\n",
        "print(\"-\"*10,\"Train Pred\",\"-\"*10)\n",
        "print(\"R2: \",r2_score(train_y,y_pred))\n",
        "print(\"MAE: \",mean_absolute_error(train_y,y_pred))\n",
        "print(\"RMSE: \",math.sqrt(mean_squared_error(train_y,y_pred)))\n",
        "\n",
        "y_pred=DT.predict(test_X)\n",
        "print(\"-\"*10,\"Test Pred\",\"-\"*10)\n",
        "print(\"R2: \",r2_score(test_y,y_pred))\n",
        "print(\"MAE: \",mean_absolute_error(test_y,y_pred))\n",
        "print(\"RMSE: \",math.sqrt(mean_squared_error(test_y,y_pred)))\n"
      ],
      "metadata": {
        "id": "SSlEDqAMVOFI",
        "outputId": "00a3d491-ca26-45d5-f833-70022858f6bb",
        "colab": {
          "base_uri": "https://localhost:8080/"
        }
      },
      "execution_count": 141,
      "outputs": [
        {
          "output_type": "stream",
          "name": "stdout",
          "text": [
            "---------- Train Pred ----------\n",
            "R2:  1.0\n",
            "MAE:  0.0\n",
            "RMSE:  0.0\n",
            "---------- Test Pred ----------\n",
            "R2:  1.0\n",
            "MAE:  0.0\n",
            "RMSE:  0.0\n"
          ]
        }
      ]
    },
    {
      "cell_type": "code",
      "source": [
        "y_pred"
      ],
      "metadata": {
        "id": "Jc6MisXEgMO0",
        "outputId": "0773bf65-6946-41a1-8a07-040e57150bbf",
        "colab": {
          "base_uri": "https://localhost:8080/"
        }
      },
      "execution_count": 146,
      "outputs": [
        {
          "output_type": "execute_result",
          "data": {
            "text/plain": [
              "array([60., 36., 36., ..., 60., 36., 36.])"
            ]
          },
          "metadata": {},
          "execution_count": 146
        }
      ]
    },
    {
      "cell_type": "code",
      "source": [
        "train_y"
      ],
      "metadata": {
        "id": "O0rqZi5YgP8v",
        "outputId": "1d393a85-f373-407d-8b87-b8ddac2a869c",
        "colab": {
          "base_uri": "https://localhost:8080/"
        }
      },
      "execution_count": 147,
      "outputs": [
        {
          "output_type": "execute_result",
          "data": {
            "text/plain": [
              "array([60, 36, 36, ..., 36, 36, 36])"
            ]
          },
          "metadata": {},
          "execution_count": 147
        }
      ]
    },
    {
      "cell_type": "code",
      "source": [
        "new_data.isna().sum()"
      ],
      "metadata": {
        "id": "bCqlqvgJVitH",
        "outputId": "ffd76921-7e7f-45fc-ef8b-82f66294139f",
        "colab": {
          "base_uri": "https://localhost:8080/"
        }
      },
      "execution_count": 143,
      "outputs": [
        {
          "output_type": "execute_result",
          "data": {
            "text/plain": [
              "BorrowerAPR                0\n",
              "LenderYield                0\n",
              "EstimatedEffectiveYield    0\n",
              "EstimatedLoss              0\n",
              "EstimatedReturn            0\n",
              "BorrowerRateTarget         0\n",
              "0                          0\n",
              "1                          0\n",
              "2                          0\n",
              "3                          0\n",
              "dtype: int64"
            ]
          },
          "metadata": {},
          "execution_count": 143
        }
      ]
    },
    {
      "cell_type": "code",
      "source": [
        "from sklearn.ensemble import RandomForestRegressor\n",
        "from sklearn.metrics import r2_score\n",
        "from sklearn.metrics import mean_absolute_error\n",
        "from sklearn.metrics import mean_squared_error\n",
        "import math\n",
        "from math import *\n",
        "\n",
        "RF = RandomForestRegressor(random_state=42, n_jobs=-1)\n",
        "RF.fit(train_X,train_y)\n",
        "y_pred=RF.predict(train_X)\n",
        "print(\"-\"*10,\"Train Pred\",\"-\"*10)\n",
        "print(\"R2: \",r2_score(train_y,y_pred))\n",
        "print(\"MAE: \",mean_absolute_error(train_y,y_pred))\n",
        "print(\"RMSE: \",math.sqrt(mean_squared_error(train_y,y_pred)))\n",
        "\n",
        "y_pred=RF.predict(test_X)\n",
        "print(\"-\"*10,\"Test Pred\",\"-\"*10)\n",
        "print(\"R2: \",r2_score(test_y,y_pred))\n",
        "print(\"MAE: \",mean_absolute_error(test_y,y_pred))\n",
        "print(\"RMSE: \",math.sqrt(mean_squared_error(test_y,y_pred)))"
      ],
      "metadata": {
        "id": "vqUaaVfuY2h4",
        "outputId": "fb42d47c-f5b4-4292-adce-f8bd70f1da4e",
        "colab": {
          "base_uri": "https://localhost:8080/",
          "height": 380
        }
      },
      "execution_count": 145,
      "outputs": [
        {
          "output_type": "error",
          "ename": "KeyboardInterrupt",
          "evalue": "ignored",
          "traceback": [
            "\u001b[0;31m---------------------------------------------------------------------------\u001b[0m",
            "\u001b[0;31mKeyboardInterrupt\u001b[0m                         Traceback (most recent call last)",
            "\u001b[0;32m<ipython-input-145-f8033b518501>\u001b[0m in \u001b[0;36m<module>\u001b[0;34m()\u001b[0m\n\u001b[1;32m      7\u001b[0m \u001b[0;34m\u001b[0m\u001b[0m\n\u001b[1;32m      8\u001b[0m \u001b[0mRF\u001b[0m \u001b[0;34m=\u001b[0m \u001b[0mRandomForestRegressor\u001b[0m\u001b[0;34m(\u001b[0m\u001b[0mrandom_state\u001b[0m\u001b[0;34m=\u001b[0m\u001b[0;36m42\u001b[0m\u001b[0;34m,\u001b[0m \u001b[0mn_jobs\u001b[0m\u001b[0;34m=\u001b[0m\u001b[0;34m-\u001b[0m\u001b[0;36m1\u001b[0m\u001b[0;34m)\u001b[0m\u001b[0;34m\u001b[0m\u001b[0;34m\u001b[0m\u001b[0m\n\u001b[0;32m----> 9\u001b[0;31m \u001b[0mRF\u001b[0m\u001b[0;34m.\u001b[0m\u001b[0mfit\u001b[0m\u001b[0;34m(\u001b[0m\u001b[0mtrain_X\u001b[0m\u001b[0;34m,\u001b[0m\u001b[0mtrain_y\u001b[0m\u001b[0;34m)\u001b[0m\u001b[0;34m\u001b[0m\u001b[0;34m\u001b[0m\u001b[0m\n\u001b[0m\u001b[1;32m     10\u001b[0m \u001b[0my_pred\u001b[0m\u001b[0;34m=\u001b[0m\u001b[0mRF\u001b[0m\u001b[0;34m.\u001b[0m\u001b[0mpredict\u001b[0m\u001b[0;34m(\u001b[0m\u001b[0mtrain_X\u001b[0m\u001b[0;34m)\u001b[0m\u001b[0;34m\u001b[0m\u001b[0;34m\u001b[0m\u001b[0m\n\u001b[1;32m     11\u001b[0m \u001b[0mprint\u001b[0m\u001b[0;34m(\u001b[0m\u001b[0;34m\"-\"\u001b[0m\u001b[0;34m*\u001b[0m\u001b[0;36m10\u001b[0m\u001b[0;34m,\u001b[0m\u001b[0;34m\"Train Pred\"\u001b[0m\u001b[0;34m,\u001b[0m\u001b[0;34m\"-\"\u001b[0m\u001b[0;34m*\u001b[0m\u001b[0;36m10\u001b[0m\u001b[0;34m)\u001b[0m\u001b[0;34m\u001b[0m\u001b[0;34m\u001b[0m\u001b[0m\n",
            "\u001b[0;32m/usr/local/lib/python3.7/dist-packages/sklearn/ensemble/_forest.py\u001b[0m in \u001b[0;36mfit\u001b[0;34m(self, X, y, sample_weight)\u001b[0m\n\u001b[1;32m    465\u001b[0m                     \u001b[0mn_samples_bootstrap\u001b[0m\u001b[0;34m=\u001b[0m\u001b[0mn_samples_bootstrap\u001b[0m\u001b[0;34m,\u001b[0m\u001b[0;34m\u001b[0m\u001b[0;34m\u001b[0m\u001b[0m\n\u001b[1;32m    466\u001b[0m                 )\n\u001b[0;32m--> 467\u001b[0;31m                 \u001b[0;32mfor\u001b[0m \u001b[0mi\u001b[0m\u001b[0;34m,\u001b[0m \u001b[0mt\u001b[0m \u001b[0;32min\u001b[0m \u001b[0menumerate\u001b[0m\u001b[0;34m(\u001b[0m\u001b[0mtrees\u001b[0m\u001b[0;34m)\u001b[0m\u001b[0;34m\u001b[0m\u001b[0;34m\u001b[0m\u001b[0m\n\u001b[0m\u001b[1;32m    468\u001b[0m             )\n\u001b[1;32m    469\u001b[0m \u001b[0;34m\u001b[0m\u001b[0m\n",
            "\u001b[0;32m/usr/local/lib/python3.7/dist-packages/joblib/parallel.py\u001b[0m in \u001b[0;36m__call__\u001b[0;34m(self, iterable)\u001b[0m\n\u001b[1;32m   1054\u001b[0m \u001b[0;34m\u001b[0m\u001b[0m\n\u001b[1;32m   1055\u001b[0m             \u001b[0;32mwith\u001b[0m \u001b[0mself\u001b[0m\u001b[0;34m.\u001b[0m\u001b[0m_backend\u001b[0m\u001b[0;34m.\u001b[0m\u001b[0mretrieval_context\u001b[0m\u001b[0;34m(\u001b[0m\u001b[0;34m)\u001b[0m\u001b[0;34m:\u001b[0m\u001b[0;34m\u001b[0m\u001b[0;34m\u001b[0m\u001b[0m\n\u001b[0;32m-> 1056\u001b[0;31m                 \u001b[0mself\u001b[0m\u001b[0;34m.\u001b[0m\u001b[0mretrieve\u001b[0m\u001b[0;34m(\u001b[0m\u001b[0;34m)\u001b[0m\u001b[0;34m\u001b[0m\u001b[0;34m\u001b[0m\u001b[0m\n\u001b[0m\u001b[1;32m   1057\u001b[0m             \u001b[0;31m# Make sure that we get a last message telling us we are done\u001b[0m\u001b[0;34m\u001b[0m\u001b[0;34m\u001b[0m\u001b[0;34m\u001b[0m\u001b[0m\n\u001b[1;32m   1058\u001b[0m             \u001b[0melapsed_time\u001b[0m \u001b[0;34m=\u001b[0m \u001b[0mtime\u001b[0m\u001b[0;34m.\u001b[0m\u001b[0mtime\u001b[0m\u001b[0;34m(\u001b[0m\u001b[0;34m)\u001b[0m \u001b[0;34m-\u001b[0m \u001b[0mself\u001b[0m\u001b[0;34m.\u001b[0m\u001b[0m_start_time\u001b[0m\u001b[0;34m\u001b[0m\u001b[0;34m\u001b[0m\u001b[0m\n",
            "\u001b[0;32m/usr/local/lib/python3.7/dist-packages/joblib/parallel.py\u001b[0m in \u001b[0;36mretrieve\u001b[0;34m(self)\u001b[0m\n\u001b[1;32m    933\u001b[0m             \u001b[0;32mtry\u001b[0m\u001b[0;34m:\u001b[0m\u001b[0;34m\u001b[0m\u001b[0;34m\u001b[0m\u001b[0m\n\u001b[1;32m    934\u001b[0m                 \u001b[0;32mif\u001b[0m \u001b[0mgetattr\u001b[0m\u001b[0;34m(\u001b[0m\u001b[0mself\u001b[0m\u001b[0;34m.\u001b[0m\u001b[0m_backend\u001b[0m\u001b[0;34m,\u001b[0m \u001b[0;34m'supports_timeout'\u001b[0m\u001b[0;34m,\u001b[0m \u001b[0;32mFalse\u001b[0m\u001b[0;34m)\u001b[0m\u001b[0;34m:\u001b[0m\u001b[0;34m\u001b[0m\u001b[0;34m\u001b[0m\u001b[0m\n\u001b[0;32m--> 935\u001b[0;31m                     \u001b[0mself\u001b[0m\u001b[0;34m.\u001b[0m\u001b[0m_output\u001b[0m\u001b[0;34m.\u001b[0m\u001b[0mextend\u001b[0m\u001b[0;34m(\u001b[0m\u001b[0mjob\u001b[0m\u001b[0;34m.\u001b[0m\u001b[0mget\u001b[0m\u001b[0;34m(\u001b[0m\u001b[0mtimeout\u001b[0m\u001b[0;34m=\u001b[0m\u001b[0mself\u001b[0m\u001b[0;34m.\u001b[0m\u001b[0mtimeout\u001b[0m\u001b[0;34m)\u001b[0m\u001b[0;34m)\u001b[0m\u001b[0;34m\u001b[0m\u001b[0;34m\u001b[0m\u001b[0m\n\u001b[0m\u001b[1;32m    936\u001b[0m                 \u001b[0;32melse\u001b[0m\u001b[0;34m:\u001b[0m\u001b[0;34m\u001b[0m\u001b[0;34m\u001b[0m\u001b[0m\n\u001b[1;32m    937\u001b[0m                     \u001b[0mself\u001b[0m\u001b[0;34m.\u001b[0m\u001b[0m_output\u001b[0m\u001b[0;34m.\u001b[0m\u001b[0mextend\u001b[0m\u001b[0;34m(\u001b[0m\u001b[0mjob\u001b[0m\u001b[0;34m.\u001b[0m\u001b[0mget\u001b[0m\u001b[0;34m(\u001b[0m\u001b[0;34m)\u001b[0m\u001b[0;34m)\u001b[0m\u001b[0;34m\u001b[0m\u001b[0;34m\u001b[0m\u001b[0m\n",
            "\u001b[0;32m/usr/lib/python3.7/multiprocessing/pool.py\u001b[0m in \u001b[0;36mget\u001b[0;34m(self, timeout)\u001b[0m\n\u001b[1;32m    649\u001b[0m \u001b[0;34m\u001b[0m\u001b[0m\n\u001b[1;32m    650\u001b[0m     \u001b[0;32mdef\u001b[0m \u001b[0mget\u001b[0m\u001b[0;34m(\u001b[0m\u001b[0mself\u001b[0m\u001b[0;34m,\u001b[0m \u001b[0mtimeout\u001b[0m\u001b[0;34m=\u001b[0m\u001b[0;32mNone\u001b[0m\u001b[0;34m)\u001b[0m\u001b[0;34m:\u001b[0m\u001b[0;34m\u001b[0m\u001b[0;34m\u001b[0m\u001b[0m\n\u001b[0;32m--> 651\u001b[0;31m         \u001b[0mself\u001b[0m\u001b[0;34m.\u001b[0m\u001b[0mwait\u001b[0m\u001b[0;34m(\u001b[0m\u001b[0mtimeout\u001b[0m\u001b[0;34m)\u001b[0m\u001b[0;34m\u001b[0m\u001b[0;34m\u001b[0m\u001b[0m\n\u001b[0m\u001b[1;32m    652\u001b[0m         \u001b[0;32mif\u001b[0m \u001b[0;32mnot\u001b[0m \u001b[0mself\u001b[0m\u001b[0;34m.\u001b[0m\u001b[0mready\u001b[0m\u001b[0;34m(\u001b[0m\u001b[0;34m)\u001b[0m\u001b[0;34m:\u001b[0m\u001b[0;34m\u001b[0m\u001b[0;34m\u001b[0m\u001b[0m\n\u001b[1;32m    653\u001b[0m             \u001b[0;32mraise\u001b[0m \u001b[0mTimeoutError\u001b[0m\u001b[0;34m\u001b[0m\u001b[0;34m\u001b[0m\u001b[0m\n",
            "\u001b[0;32m/usr/lib/python3.7/multiprocessing/pool.py\u001b[0m in \u001b[0;36mwait\u001b[0;34m(self, timeout)\u001b[0m\n\u001b[1;32m    646\u001b[0m \u001b[0;34m\u001b[0m\u001b[0m\n\u001b[1;32m    647\u001b[0m     \u001b[0;32mdef\u001b[0m \u001b[0mwait\u001b[0m\u001b[0;34m(\u001b[0m\u001b[0mself\u001b[0m\u001b[0;34m,\u001b[0m \u001b[0mtimeout\u001b[0m\u001b[0;34m=\u001b[0m\u001b[0;32mNone\u001b[0m\u001b[0;34m)\u001b[0m\u001b[0;34m:\u001b[0m\u001b[0;34m\u001b[0m\u001b[0;34m\u001b[0m\u001b[0m\n\u001b[0;32m--> 648\u001b[0;31m         \u001b[0mself\u001b[0m\u001b[0;34m.\u001b[0m\u001b[0m_event\u001b[0m\u001b[0;34m.\u001b[0m\u001b[0mwait\u001b[0m\u001b[0;34m(\u001b[0m\u001b[0mtimeout\u001b[0m\u001b[0;34m)\u001b[0m\u001b[0;34m\u001b[0m\u001b[0;34m\u001b[0m\u001b[0m\n\u001b[0m\u001b[1;32m    649\u001b[0m \u001b[0;34m\u001b[0m\u001b[0m\n\u001b[1;32m    650\u001b[0m     \u001b[0;32mdef\u001b[0m \u001b[0mget\u001b[0m\u001b[0;34m(\u001b[0m\u001b[0mself\u001b[0m\u001b[0;34m,\u001b[0m \u001b[0mtimeout\u001b[0m\u001b[0;34m=\u001b[0m\u001b[0;32mNone\u001b[0m\u001b[0;34m)\u001b[0m\u001b[0;34m:\u001b[0m\u001b[0;34m\u001b[0m\u001b[0;34m\u001b[0m\u001b[0m\n",
            "\u001b[0;32m/usr/lib/python3.7/threading.py\u001b[0m in \u001b[0;36mwait\u001b[0;34m(self, timeout)\u001b[0m\n\u001b[1;32m    550\u001b[0m             \u001b[0msignaled\u001b[0m \u001b[0;34m=\u001b[0m \u001b[0mself\u001b[0m\u001b[0;34m.\u001b[0m\u001b[0m_flag\u001b[0m\u001b[0;34m\u001b[0m\u001b[0;34m\u001b[0m\u001b[0m\n\u001b[1;32m    551\u001b[0m             \u001b[0;32mif\u001b[0m \u001b[0;32mnot\u001b[0m \u001b[0msignaled\u001b[0m\u001b[0;34m:\u001b[0m\u001b[0;34m\u001b[0m\u001b[0;34m\u001b[0m\u001b[0m\n\u001b[0;32m--> 552\u001b[0;31m                 \u001b[0msignaled\u001b[0m \u001b[0;34m=\u001b[0m \u001b[0mself\u001b[0m\u001b[0;34m.\u001b[0m\u001b[0m_cond\u001b[0m\u001b[0;34m.\u001b[0m\u001b[0mwait\u001b[0m\u001b[0;34m(\u001b[0m\u001b[0mtimeout\u001b[0m\u001b[0;34m)\u001b[0m\u001b[0;34m\u001b[0m\u001b[0;34m\u001b[0m\u001b[0m\n\u001b[0m\u001b[1;32m    553\u001b[0m             \u001b[0;32mreturn\u001b[0m \u001b[0msignaled\u001b[0m\u001b[0;34m\u001b[0m\u001b[0;34m\u001b[0m\u001b[0m\n\u001b[1;32m    554\u001b[0m \u001b[0;34m\u001b[0m\u001b[0m\n",
            "\u001b[0;32m/usr/lib/python3.7/threading.py\u001b[0m in \u001b[0;36mwait\u001b[0;34m(self, timeout)\u001b[0m\n\u001b[1;32m    294\u001b[0m         \u001b[0;32mtry\u001b[0m\u001b[0;34m:\u001b[0m    \u001b[0;31m# restore state no matter what (e.g., KeyboardInterrupt)\u001b[0m\u001b[0;34m\u001b[0m\u001b[0;34m\u001b[0m\u001b[0m\n\u001b[1;32m    295\u001b[0m             \u001b[0;32mif\u001b[0m \u001b[0mtimeout\u001b[0m \u001b[0;32mis\u001b[0m \u001b[0;32mNone\u001b[0m\u001b[0;34m:\u001b[0m\u001b[0;34m\u001b[0m\u001b[0;34m\u001b[0m\u001b[0m\n\u001b[0;32m--> 296\u001b[0;31m                 \u001b[0mwaiter\u001b[0m\u001b[0;34m.\u001b[0m\u001b[0macquire\u001b[0m\u001b[0;34m(\u001b[0m\u001b[0;34m)\u001b[0m\u001b[0;34m\u001b[0m\u001b[0;34m\u001b[0m\u001b[0m\n\u001b[0m\u001b[1;32m    297\u001b[0m                 \u001b[0mgotit\u001b[0m \u001b[0;34m=\u001b[0m \u001b[0;32mTrue\u001b[0m\u001b[0;34m\u001b[0m\u001b[0;34m\u001b[0m\u001b[0m\n\u001b[1;32m    298\u001b[0m             \u001b[0;32melse\u001b[0m\u001b[0;34m:\u001b[0m\u001b[0;34m\u001b[0m\u001b[0;34m\u001b[0m\u001b[0m\n",
            "\u001b[0;31mKeyboardInterrupt\u001b[0m: "
          ]
        }
      ]
    },
    {
      "cell_type": "code",
      "source": [
        ""
      ],
      "metadata": {
        "id": "BKDnxyn0VrnA"
      },
      "execution_count": 120,
      "outputs": []
    }
  ]
}