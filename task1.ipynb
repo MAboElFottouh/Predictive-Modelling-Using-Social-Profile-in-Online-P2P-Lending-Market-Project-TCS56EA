{
  "nbformat": 4,
  "nbformat_minor": 0,
  "metadata": {
    "colab": {
      "name": "task1.ipynb",
      "provenance": [],
      "authorship_tag": "ABX9TyPaf40stTtyfgCRYbepYfsA",
      "include_colab_link": true
    },
    "kernelspec": {
      "name": "python3",
      "display_name": "Python 3"
    },
    "language_info": {
      "name": "python"
    }
  },
  "cells": [
    {
      "cell_type": "markdown",
      "metadata": {
        "id": "view-in-github",
        "colab_type": "text"
      },
      "source": [
        "<a href=\"https://colab.research.google.com/github/MAboElFottouh/Predictive-Modelling-Using-Social-Profile-in-Online-P2P-Lending-Market-Project-TCS56EA/blob/main/task1.ipynb\" target=\"_parent\"><img src=\"https://colab.research.google.com/assets/colab-badge.svg\" alt=\"Open In Colab\"/></a>"
      ]
    },
    {
      "cell_type": "code",
      "execution_count": 244,
      "metadata": {
        "colab": {
          "base_uri": "https://localhost:8080/"
        },
        "id": "gA4q6IvDoLK3",
        "outputId": "7c03ee67-5ac2-4816-a61d-dfd0d40218c4"
      },
      "outputs": [
        {
          "output_type": "stream",
          "name": "stdout",
          "text": [
            "Drive already mounted at /content/drive; to attempt to forcibly remount, call drive.mount(\"/content/drive\", force_remount=True).\n"
          ]
        }
      ],
      "source": [
        "from google.colab import drive\n",
        "drive.mount('/content/drive')"
      ]
    },
    {
      "cell_type": "code",
      "source": [
        "import pandas  as pd #Data manipulation\n",
        "import numpy as np #Data manipulation\n",
        "import matplotlib.pyplot as plt # Visualization\n",
        "import seaborn as sns #Visualization"
      ],
      "metadata": {
        "id": "kYKGCsjRoPDV"
      },
      "execution_count": 245,
      "outputs": []
    },
    {
      "cell_type": "code",
      "source": [
        "data = pd.read_csv(\"/content/drive/MyDrive/prosperLoanData.csv\")"
      ],
      "metadata": {
        "id": "oCHg3P9FoQc-"
      },
      "execution_count": 246,
      "outputs": []
    },
    {
      "cell_type": "code",
      "source": [
        "print('\\nNumber of rows and columns in the data set: ',data.shape)\n",
        "#Lets look into top few rows and columns in the dataset\n",
        "data.head()"
      ],
      "metadata": {
        "colab": {
          "base_uri": "https://localhost:8080/",
          "height": 421
        },
        "id": "A1_bWKipoURK",
        "outputId": "813d760b-c5f8-4a04-f2d7-68af6eadeb3b"
      },
      "execution_count": 247,
      "outputs": [
        {
          "output_type": "stream",
          "name": "stdout",
          "text": [
            "\n",
            "Number of rows and columns in the data set:  (113937, 81)\n"
          ]
        },
        {
          "output_type": "execute_result",
          "data": {
            "text/plain": [
              "                ListingKey  ListingNumber            ListingCreationDate  \\\n",
              "0  1021339766868145413AB3B         193129  2007-08-26 19:09:29.263000000   \n",
              "1  10273602499503308B223C1        1209647  2014-02-27 08:28:07.900000000   \n",
              "2  0EE9337825851032864889A          81716  2007-01-05 15:00:47.090000000   \n",
              "3  0EF5356002482715299901A         658116  2012-10-22 11:02:35.010000000   \n",
              "4  0F023589499656230C5E3E2         909464  2013-09-14 18:38:39.097000000   \n",
              "\n",
              "  CreditGrade  Term LoanStatus           ClosedDate  BorrowerAPR  \\\n",
              "0           C    36  Completed  2009-08-14 00:00:00      0.16516   \n",
              "1         NaN    36    Current                  NaN      0.12016   \n",
              "2          HR    36  Completed  2009-12-17 00:00:00      0.28269   \n",
              "3         NaN    36    Current                  NaN      0.12528   \n",
              "4         NaN    36    Current                  NaN      0.24614   \n",
              "\n",
              "   BorrowerRate  LenderYield  ...  LP_ServiceFees  LP_CollectionFees  \\\n",
              "0        0.1580       0.1380  ...         -133.18                0.0   \n",
              "1        0.0920       0.0820  ...            0.00                0.0   \n",
              "2        0.2750       0.2400  ...          -24.20                0.0   \n",
              "3        0.0974       0.0874  ...         -108.01                0.0   \n",
              "4        0.2085       0.1985  ...          -60.27                0.0   \n",
              "\n",
              "   LP_GrossPrincipalLoss  LP_NetPrincipalLoss LP_NonPrincipalRecoverypayments  \\\n",
              "0                    0.0                  0.0                             0.0   \n",
              "1                    0.0                  0.0                             0.0   \n",
              "2                    0.0                  0.0                             0.0   \n",
              "3                    0.0                  0.0                             0.0   \n",
              "4                    0.0                  0.0                             0.0   \n",
              "\n",
              "   PercentFunded  Recommendations InvestmentFromFriendsCount  \\\n",
              "0            1.0                0                          0   \n",
              "1            1.0                0                          0   \n",
              "2            1.0                0                          0   \n",
              "3            1.0                0                          0   \n",
              "4            1.0                0                          0   \n",
              "\n",
              "  InvestmentFromFriendsAmount Investors  \n",
              "0                         0.0       258  \n",
              "1                         0.0         1  \n",
              "2                         0.0        41  \n",
              "3                         0.0       158  \n",
              "4                         0.0        20  \n",
              "\n",
              "[5 rows x 81 columns]"
            ],
            "text/html": [
              "\n",
              "  <div id=\"df-c1c57279-4757-4edf-91dc-e777bff5e6bb\">\n",
              "    <div class=\"colab-df-container\">\n",
              "      <div>\n",
              "<style scoped>\n",
              "    .dataframe tbody tr th:only-of-type {\n",
              "        vertical-align: middle;\n",
              "    }\n",
              "\n",
              "    .dataframe tbody tr th {\n",
              "        vertical-align: top;\n",
              "    }\n",
              "\n",
              "    .dataframe thead th {\n",
              "        text-align: right;\n",
              "    }\n",
              "</style>\n",
              "<table border=\"1\" class=\"dataframe\">\n",
              "  <thead>\n",
              "    <tr style=\"text-align: right;\">\n",
              "      <th></th>\n",
              "      <th>ListingKey</th>\n",
              "      <th>ListingNumber</th>\n",
              "      <th>ListingCreationDate</th>\n",
              "      <th>CreditGrade</th>\n",
              "      <th>Term</th>\n",
              "      <th>LoanStatus</th>\n",
              "      <th>ClosedDate</th>\n",
              "      <th>BorrowerAPR</th>\n",
              "      <th>BorrowerRate</th>\n",
              "      <th>LenderYield</th>\n",
              "      <th>...</th>\n",
              "      <th>LP_ServiceFees</th>\n",
              "      <th>LP_CollectionFees</th>\n",
              "      <th>LP_GrossPrincipalLoss</th>\n",
              "      <th>LP_NetPrincipalLoss</th>\n",
              "      <th>LP_NonPrincipalRecoverypayments</th>\n",
              "      <th>PercentFunded</th>\n",
              "      <th>Recommendations</th>\n",
              "      <th>InvestmentFromFriendsCount</th>\n",
              "      <th>InvestmentFromFriendsAmount</th>\n",
              "      <th>Investors</th>\n",
              "    </tr>\n",
              "  </thead>\n",
              "  <tbody>\n",
              "    <tr>\n",
              "      <th>0</th>\n",
              "      <td>1021339766868145413AB3B</td>\n",
              "      <td>193129</td>\n",
              "      <td>2007-08-26 19:09:29.263000000</td>\n",
              "      <td>C</td>\n",
              "      <td>36</td>\n",
              "      <td>Completed</td>\n",
              "      <td>2009-08-14 00:00:00</td>\n",
              "      <td>0.16516</td>\n",
              "      <td>0.1580</td>\n",
              "      <td>0.1380</td>\n",
              "      <td>...</td>\n",
              "      <td>-133.18</td>\n",
              "      <td>0.0</td>\n",
              "      <td>0.0</td>\n",
              "      <td>0.0</td>\n",
              "      <td>0.0</td>\n",
              "      <td>1.0</td>\n",
              "      <td>0</td>\n",
              "      <td>0</td>\n",
              "      <td>0.0</td>\n",
              "      <td>258</td>\n",
              "    </tr>\n",
              "    <tr>\n",
              "      <th>1</th>\n",
              "      <td>10273602499503308B223C1</td>\n",
              "      <td>1209647</td>\n",
              "      <td>2014-02-27 08:28:07.900000000</td>\n",
              "      <td>NaN</td>\n",
              "      <td>36</td>\n",
              "      <td>Current</td>\n",
              "      <td>NaN</td>\n",
              "      <td>0.12016</td>\n",
              "      <td>0.0920</td>\n",
              "      <td>0.0820</td>\n",
              "      <td>...</td>\n",
              "      <td>0.00</td>\n",
              "      <td>0.0</td>\n",
              "      <td>0.0</td>\n",
              "      <td>0.0</td>\n",
              "      <td>0.0</td>\n",
              "      <td>1.0</td>\n",
              "      <td>0</td>\n",
              "      <td>0</td>\n",
              "      <td>0.0</td>\n",
              "      <td>1</td>\n",
              "    </tr>\n",
              "    <tr>\n",
              "      <th>2</th>\n",
              "      <td>0EE9337825851032864889A</td>\n",
              "      <td>81716</td>\n",
              "      <td>2007-01-05 15:00:47.090000000</td>\n",
              "      <td>HR</td>\n",
              "      <td>36</td>\n",
              "      <td>Completed</td>\n",
              "      <td>2009-12-17 00:00:00</td>\n",
              "      <td>0.28269</td>\n",
              "      <td>0.2750</td>\n",
              "      <td>0.2400</td>\n",
              "      <td>...</td>\n",
              "      <td>-24.20</td>\n",
              "      <td>0.0</td>\n",
              "      <td>0.0</td>\n",
              "      <td>0.0</td>\n",
              "      <td>0.0</td>\n",
              "      <td>1.0</td>\n",
              "      <td>0</td>\n",
              "      <td>0</td>\n",
              "      <td>0.0</td>\n",
              "      <td>41</td>\n",
              "    </tr>\n",
              "    <tr>\n",
              "      <th>3</th>\n",
              "      <td>0EF5356002482715299901A</td>\n",
              "      <td>658116</td>\n",
              "      <td>2012-10-22 11:02:35.010000000</td>\n",
              "      <td>NaN</td>\n",
              "      <td>36</td>\n",
              "      <td>Current</td>\n",
              "      <td>NaN</td>\n",
              "      <td>0.12528</td>\n",
              "      <td>0.0974</td>\n",
              "      <td>0.0874</td>\n",
              "      <td>...</td>\n",
              "      <td>-108.01</td>\n",
              "      <td>0.0</td>\n",
              "      <td>0.0</td>\n",
              "      <td>0.0</td>\n",
              "      <td>0.0</td>\n",
              "      <td>1.0</td>\n",
              "      <td>0</td>\n",
              "      <td>0</td>\n",
              "      <td>0.0</td>\n",
              "      <td>158</td>\n",
              "    </tr>\n",
              "    <tr>\n",
              "      <th>4</th>\n",
              "      <td>0F023589499656230C5E3E2</td>\n",
              "      <td>909464</td>\n",
              "      <td>2013-09-14 18:38:39.097000000</td>\n",
              "      <td>NaN</td>\n",
              "      <td>36</td>\n",
              "      <td>Current</td>\n",
              "      <td>NaN</td>\n",
              "      <td>0.24614</td>\n",
              "      <td>0.2085</td>\n",
              "      <td>0.1985</td>\n",
              "      <td>...</td>\n",
              "      <td>-60.27</td>\n",
              "      <td>0.0</td>\n",
              "      <td>0.0</td>\n",
              "      <td>0.0</td>\n",
              "      <td>0.0</td>\n",
              "      <td>1.0</td>\n",
              "      <td>0</td>\n",
              "      <td>0</td>\n",
              "      <td>0.0</td>\n",
              "      <td>20</td>\n",
              "    </tr>\n",
              "  </tbody>\n",
              "</table>\n",
              "<p>5 rows × 81 columns</p>\n",
              "</div>\n",
              "      <button class=\"colab-df-convert\" onclick=\"convertToInteractive('df-c1c57279-4757-4edf-91dc-e777bff5e6bb')\"\n",
              "              title=\"Convert this dataframe to an interactive table.\"\n",
              "              style=\"display:none;\">\n",
              "        \n",
              "  <svg xmlns=\"http://www.w3.org/2000/svg\" height=\"24px\"viewBox=\"0 0 24 24\"\n",
              "       width=\"24px\">\n",
              "    <path d=\"M0 0h24v24H0V0z\" fill=\"none\"/>\n",
              "    <path d=\"M18.56 5.44l.94 2.06.94-2.06 2.06-.94-2.06-.94-.94-2.06-.94 2.06-2.06.94zm-11 1L8.5 8.5l.94-2.06 2.06-.94-2.06-.94L8.5 2.5l-.94 2.06-2.06.94zm10 10l.94 2.06.94-2.06 2.06-.94-2.06-.94-.94-2.06-.94 2.06-2.06.94z\"/><path d=\"M17.41 7.96l-1.37-1.37c-.4-.4-.92-.59-1.43-.59-.52 0-1.04.2-1.43.59L10.3 9.45l-7.72 7.72c-.78.78-.78 2.05 0 2.83L4 21.41c.39.39.9.59 1.41.59.51 0 1.02-.2 1.41-.59l7.78-7.78 2.81-2.81c.8-.78.8-2.07 0-2.86zM5.41 20L4 18.59l7.72-7.72 1.47 1.35L5.41 20z\"/>\n",
              "  </svg>\n",
              "      </button>\n",
              "      \n",
              "  <style>\n",
              "    .colab-df-container {\n",
              "      display:flex;\n",
              "      flex-wrap:wrap;\n",
              "      gap: 12px;\n",
              "    }\n",
              "\n",
              "    .colab-df-convert {\n",
              "      background-color: #E8F0FE;\n",
              "      border: none;\n",
              "      border-radius: 50%;\n",
              "      cursor: pointer;\n",
              "      display: none;\n",
              "      fill: #1967D2;\n",
              "      height: 32px;\n",
              "      padding: 0 0 0 0;\n",
              "      width: 32px;\n",
              "    }\n",
              "\n",
              "    .colab-df-convert:hover {\n",
              "      background-color: #E2EBFA;\n",
              "      box-shadow: 0px 1px 2px rgba(60, 64, 67, 0.3), 0px 1px 3px 1px rgba(60, 64, 67, 0.15);\n",
              "      fill: #174EA6;\n",
              "    }\n",
              "\n",
              "    [theme=dark] .colab-df-convert {\n",
              "      background-color: #3B4455;\n",
              "      fill: #D2E3FC;\n",
              "    }\n",
              "\n",
              "    [theme=dark] .colab-df-convert:hover {\n",
              "      background-color: #434B5C;\n",
              "      box-shadow: 0px 1px 3px 1px rgba(0, 0, 0, 0.15);\n",
              "      filter: drop-shadow(0px 1px 2px rgba(0, 0, 0, 0.3));\n",
              "      fill: #FFFFFF;\n",
              "    }\n",
              "  </style>\n",
              "\n",
              "      <script>\n",
              "        const buttonEl =\n",
              "          document.querySelector('#df-c1c57279-4757-4edf-91dc-e777bff5e6bb button.colab-df-convert');\n",
              "        buttonEl.style.display =\n",
              "          google.colab.kernel.accessAllowed ? 'block' : 'none';\n",
              "\n",
              "        async function convertToInteractive(key) {\n",
              "          const element = document.querySelector('#df-c1c57279-4757-4edf-91dc-e777bff5e6bb');\n",
              "          const dataTable =\n",
              "            await google.colab.kernel.invokeFunction('convertToInteractive',\n",
              "                                                     [key], {});\n",
              "          if (!dataTable) return;\n",
              "\n",
              "          const docLinkHtml = 'Like what you see? Visit the ' +\n",
              "            '<a target=\"_blank\" href=https://colab.research.google.com/notebooks/data_table.ipynb>data table notebook</a>'\n",
              "            + ' to learn more about interactive tables.';\n",
              "          element.innerHTML = '';\n",
              "          dataTable['output_type'] = 'display_data';\n",
              "          await google.colab.output.renderOutput(dataTable, element);\n",
              "          const docLink = document.createElement('div');\n",
              "          docLink.innerHTML = docLinkHtml;\n",
              "          element.appendChild(docLink);\n",
              "        }\n",
              "      </script>\n",
              "    </div>\n",
              "  </div>\n",
              "  "
            ]
          },
          "metadata": {},
          "execution_count": 247
        }
      ]
    },
    {
      "cell_type": "code",
      "source": [
        "data['Term'].unique()"
      ],
      "metadata": {
        "colab": {
          "base_uri": "https://localhost:8080/"
        },
        "id": "NIiiDGIecXj5",
        "outputId": "62753aee-3cb0-4d14-d959-6e42799c9ea1"
      },
      "execution_count": 248,
      "outputs": [
        {
          "output_type": "execute_result",
          "data": {
            "text/plain": [
              "array([36, 60, 12])"
            ]
          },
          "metadata": {},
          "execution_count": 248
        }
      ]
    },
    {
      "cell_type": "code",
      "source": [
        "data['ProsperRating (Alpha)']"
      ],
      "metadata": {
        "colab": {
          "base_uri": "https://localhost:8080/"
        },
        "id": "OIGJWc7aau-t",
        "outputId": "1f788ea2-f977-4e91-91b8-8583934c59ae"
      },
      "execution_count": 249,
      "outputs": [
        {
          "output_type": "execute_result",
          "data": {
            "text/plain": [
              "0         NaN\n",
              "1           A\n",
              "2         NaN\n",
              "3           A\n",
              "4           D\n",
              "         ... \n",
              "113932      C\n",
              "113933      A\n",
              "113934      D\n",
              "113935      C\n",
              "113936      A\n",
              "Name: ProsperRating (Alpha), Length: 113937, dtype: object"
            ]
          },
          "metadata": {},
          "execution_count": 249
        }
      ]
    },
    {
      "cell_type": "code",
      "source": [
        "data.info() #show data info"
      ],
      "metadata": {
        "colab": {
          "base_uri": "https://localhost:8080/"
        },
        "id": "roKhh7Mzotai",
        "outputId": "3471fdde-c8bf-424e-f8ee-2bc9ba68a86d"
      },
      "execution_count": 250,
      "outputs": [
        {
          "output_type": "stream",
          "name": "stdout",
          "text": [
            "<class 'pandas.core.frame.DataFrame'>\n",
            "RangeIndex: 113937 entries, 0 to 113936\n",
            "Data columns (total 81 columns):\n",
            " #   Column                               Non-Null Count   Dtype  \n",
            "---  ------                               --------------   -----  \n",
            " 0   ListingKey                           113937 non-null  object \n",
            " 1   ListingNumber                        113937 non-null  int64  \n",
            " 2   ListingCreationDate                  113937 non-null  object \n",
            " 3   CreditGrade                          28953 non-null   object \n",
            " 4   Term                                 113937 non-null  int64  \n",
            " 5   LoanStatus                           113937 non-null  object \n",
            " 6   ClosedDate                           55089 non-null   object \n",
            " 7   BorrowerAPR                          113912 non-null  float64\n",
            " 8   BorrowerRate                         113937 non-null  float64\n",
            " 9   LenderYield                          113937 non-null  float64\n",
            " 10  EstimatedEffectiveYield              84853 non-null   float64\n",
            " 11  EstimatedLoss                        84853 non-null   float64\n",
            " 12  EstimatedReturn                      84853 non-null   float64\n",
            " 13  ProsperRating (numeric)              84853 non-null   float64\n",
            " 14  ProsperRating (Alpha)                84853 non-null   object \n",
            " 15  ProsperScore                         84853 non-null   float64\n",
            " 16  ListingCategory (numeric)            113937 non-null  int64  \n",
            " 17  BorrowerState                        108422 non-null  object \n",
            " 18  Occupation                           110349 non-null  object \n",
            " 19  EmploymentStatus                     111682 non-null  object \n",
            " 20  EmploymentStatusDuration             106312 non-null  float64\n",
            " 21  IsBorrowerHomeowner                  113937 non-null  bool   \n",
            " 22  CurrentlyInGroup                     113937 non-null  bool   \n",
            " 23  GroupKey                             13341 non-null   object \n",
            " 24  DateCreditPulled                     113937 non-null  object \n",
            " 25  CreditScoreRangeLower                113346 non-null  float64\n",
            " 26  CreditScoreRangeUpper                113346 non-null  float64\n",
            " 27  FirstRecordedCreditLine              113240 non-null  object \n",
            " 28  CurrentCreditLines                   106333 non-null  float64\n",
            " 29  OpenCreditLines                      106333 non-null  float64\n",
            " 30  TotalCreditLinespast7years           113240 non-null  float64\n",
            " 31  OpenRevolvingAccounts                113937 non-null  int64  \n",
            " 32  OpenRevolvingMonthlyPayment          113937 non-null  float64\n",
            " 33  InquiriesLast6Months                 113240 non-null  float64\n",
            " 34  TotalInquiries                       112778 non-null  float64\n",
            " 35  CurrentDelinquencies                 113240 non-null  float64\n",
            " 36  AmountDelinquent                     106315 non-null  float64\n",
            " 37  DelinquenciesLast7Years              112947 non-null  float64\n",
            " 38  PublicRecordsLast10Years             113240 non-null  float64\n",
            " 39  PublicRecordsLast12Months            106333 non-null  float64\n",
            " 40  RevolvingCreditBalance               106333 non-null  float64\n",
            " 41  BankcardUtilization                  106333 non-null  float64\n",
            " 42  AvailableBankcardCredit              106393 non-null  float64\n",
            " 43  TotalTrades                          106393 non-null  float64\n",
            " 44  TradesNeverDelinquent (percentage)   106393 non-null  float64\n",
            " 45  TradesOpenedLast6Months              106393 non-null  float64\n",
            " 46  DebtToIncomeRatio                    105383 non-null  float64\n",
            " 47  IncomeRange                          113937 non-null  object \n",
            " 48  IncomeVerifiable                     113937 non-null  bool   \n",
            " 49  StatedMonthlyIncome                  113937 non-null  float64\n",
            " 50  LoanKey                              113937 non-null  object \n",
            " 51  TotalProsperLoans                    22085 non-null   float64\n",
            " 52  TotalProsperPaymentsBilled           22085 non-null   float64\n",
            " 53  OnTimeProsperPayments                22085 non-null   float64\n",
            " 54  ProsperPaymentsLessThanOneMonthLate  22085 non-null   float64\n",
            " 55  ProsperPaymentsOneMonthPlusLate      22085 non-null   float64\n",
            " 56  ProsperPrincipalBorrowed             22085 non-null   float64\n",
            " 57  ProsperPrincipalOutstanding          22085 non-null   float64\n",
            " 58  ScorexChangeAtTimeOfListing          18928 non-null   float64\n",
            " 59  LoanCurrentDaysDelinquent            113937 non-null  int64  \n",
            " 60  LoanFirstDefaultedCycleNumber        16952 non-null   float64\n",
            " 61  LoanMonthsSinceOrigination           113937 non-null  int64  \n",
            " 62  LoanNumber                           113937 non-null  int64  \n",
            " 63  LoanOriginalAmount                   113937 non-null  int64  \n",
            " 64  LoanOriginationDate                  113937 non-null  object \n",
            " 65  LoanOriginationQuarter               113937 non-null  object \n",
            " 66  MemberKey                            113937 non-null  object \n",
            " 67  MonthlyLoanPayment                   113937 non-null  float64\n",
            " 68  LP_CustomerPayments                  113937 non-null  float64\n",
            " 69  LP_CustomerPrincipalPayments         113937 non-null  float64\n",
            " 70  LP_InterestandFees                   113937 non-null  float64\n",
            " 71  LP_ServiceFees                       113937 non-null  float64\n",
            " 72  LP_CollectionFees                    113937 non-null  float64\n",
            " 73  LP_GrossPrincipalLoss                113937 non-null  float64\n",
            " 74  LP_NetPrincipalLoss                  113937 non-null  float64\n",
            " 75  LP_NonPrincipalRecoverypayments      113937 non-null  float64\n",
            " 76  PercentFunded                        113937 non-null  float64\n",
            " 77  Recommendations                      113937 non-null  int64  \n",
            " 78  InvestmentFromFriendsCount           113937 non-null  int64  \n",
            " 79  InvestmentFromFriendsAmount          113937 non-null  float64\n",
            " 80  Investors                            113937 non-null  int64  \n",
            "dtypes: bool(3), float64(50), int64(11), object(17)\n",
            "memory usage: 68.1+ MB\n"
          ]
        }
      ]
    },
    {
      "cell_type": "markdown",
      "source": [
        "**dtypes: bool(3), float64(50), int64(11), object(17)**"
      ],
      "metadata": {
        "id": "skUsnGZao3z4"
      }
    },
    {
      "cell_type": "markdown",
      "source": [
        "## **check null values**"
      ],
      "metadata": {
        "id": "pzH6JfeKshCd"
      }
    },
    {
      "cell_type": "code",
      "source": [
        "data.duplicated().sum() #check duplicated row"
      ],
      "metadata": {
        "colab": {
          "base_uri": "https://localhost:8080/"
        },
        "id": "zg2-KxPL-NsG",
        "outputId": "7f5ceae9-4db7-43ae-efaf-bcdfe596380f"
      },
      "execution_count": 251,
      "outputs": [
        {
          "output_type": "execute_result",
          "data": {
            "text/plain": [
              "0"
            ]
          },
          "metadata": {},
          "execution_count": 251
        }
      ]
    },
    {
      "cell_type": "code",
      "source": [
        "#split null object and numerical\n",
        "nan_object = []\n",
        "nan_float64 = []\n",
        "for i in range(data.shape[1]):\n",
        "  if (data.isna().sum()[i] != 0 ): #if have null only\n",
        "      if (data[data.columns[i]].dtypes == 'object'):\n",
        "        nan_object.append(data[data.columns[i]].dtypes)\n",
        "        nan_object.append(data.isna().sum()[i] )\n",
        "        nan_object.append(data.columns[i])\n",
        "      elif(data[data.columns[i]].dtypes == 'float64' or data[data.columns[i]].dtypes == 'int64' ):\n",
        "        nan_float64.append(data[data.columns[i]].dtypes)\n",
        "        nan_float64.append(data.isna().sum()[i] )\n",
        "        nan_float64.append(data.columns[i])"
      ],
      "metadata": {
        "id": "LE7Q5pQTo15-"
      },
      "execution_count": 252,
      "outputs": []
    },
    {
      "cell_type": "code",
      "source": [
        "#print null values\n",
        "for i in range(0,len(nan_object)-2,3): # loop 0 to len array - 3 \n",
        "  print(nan_object[i],'\\t',nan_object[i+1],'\\t',nan_object[i+2])\n",
        "for i in range(0,len(nan_float64)-2,3):\n",
        "  print(nan_float64[i],'\\t',nan_float64[i+1],'\\t',nan_float64[i+2])"
      ],
      "metadata": {
        "colab": {
          "base_uri": "https://localhost:8080/"
        },
        "id": "W80RI5eipFt0",
        "outputId": "a8dceb06-72df-40d5-8da8-8fe716381af7"
      },
      "execution_count": 253,
      "outputs": [
        {
          "output_type": "stream",
          "name": "stdout",
          "text": [
            "object \t 84984 \t CreditGrade\n",
            "object \t 58848 \t ClosedDate\n",
            "object \t 29084 \t ProsperRating (Alpha)\n",
            "object \t 5515 \t BorrowerState\n",
            "object \t 3588 \t Occupation\n",
            "object \t 2255 \t EmploymentStatus\n",
            "object \t 100596 \t GroupKey\n",
            "object \t 697 \t FirstRecordedCreditLine\n",
            "float64 \t 25 \t BorrowerAPR\n",
            "float64 \t 29084 \t EstimatedEffectiveYield\n",
            "float64 \t 29084 \t EstimatedLoss\n",
            "float64 \t 29084 \t EstimatedReturn\n",
            "float64 \t 29084 \t ProsperRating (numeric)\n",
            "float64 \t 29084 \t ProsperScore\n",
            "float64 \t 7625 \t EmploymentStatusDuration\n",
            "float64 \t 591 \t CreditScoreRangeLower\n",
            "float64 \t 591 \t CreditScoreRangeUpper\n",
            "float64 \t 7604 \t CurrentCreditLines\n",
            "float64 \t 7604 \t OpenCreditLines\n",
            "float64 \t 697 \t TotalCreditLinespast7years\n",
            "float64 \t 697 \t InquiriesLast6Months\n",
            "float64 \t 1159 \t TotalInquiries\n",
            "float64 \t 697 \t CurrentDelinquencies\n",
            "float64 \t 7622 \t AmountDelinquent\n",
            "float64 \t 990 \t DelinquenciesLast7Years\n",
            "float64 \t 697 \t PublicRecordsLast10Years\n",
            "float64 \t 7604 \t PublicRecordsLast12Months\n",
            "float64 \t 7604 \t RevolvingCreditBalance\n",
            "float64 \t 7604 \t BankcardUtilization\n",
            "float64 \t 7544 \t AvailableBankcardCredit\n",
            "float64 \t 7544 \t TotalTrades\n",
            "float64 \t 7544 \t TradesNeverDelinquent (percentage)\n",
            "float64 \t 7544 \t TradesOpenedLast6Months\n",
            "float64 \t 8554 \t DebtToIncomeRatio\n",
            "float64 \t 91852 \t TotalProsperLoans\n",
            "float64 \t 91852 \t TotalProsperPaymentsBilled\n",
            "float64 \t 91852 \t OnTimeProsperPayments\n",
            "float64 \t 91852 \t ProsperPaymentsLessThanOneMonthLate\n",
            "float64 \t 91852 \t ProsperPaymentsOneMonthPlusLate\n",
            "float64 \t 91852 \t ProsperPrincipalBorrowed\n",
            "float64 \t 91852 \t ProsperPrincipalOutstanding\n",
            "float64 \t 95009 \t ScorexChangeAtTimeOfListing\n",
            "float64 \t 96985 \t LoanFirstDefaultedCycleNumber\n"
          ]
        }
      ]
    },
    {
      "cell_type": "markdown",
      "source": [
        "1 : What are the most number of borrowers Credit Grade?"
      ],
      "metadata": {
        "id": "89uY0OEivDkT"
      }
    },
    {
      "cell_type": "code",
      "source": [
        "print(data['CreditGrade'].value_counts())\n",
        "sns.catplot(x=\"CreditGrade\", kind=\"count\", palette=\"ch:.25\", data=data)"
      ],
      "metadata": {
        "colab": {
          "base_uri": "https://localhost:8080/",
          "height": 543
        },
        "id": "wrOCPV8NrcQ8",
        "outputId": "58de2056-69b1-40e9-ada2-701e9d011240"
      },
      "execution_count": 254,
      "outputs": [
        {
          "output_type": "stream",
          "name": "stdout",
          "text": [
            "C     5649\n",
            "D     5153\n",
            "B     4389\n",
            "AA    3509\n",
            "HR    3508\n",
            "A     3315\n",
            "E     3289\n",
            "NC     141\n",
            "Name: CreditGrade, dtype: int64\n"
          ]
        },
        {
          "output_type": "execute_result",
          "data": {
            "text/plain": [
              "<seaborn.axisgrid.FacetGrid at 0x7f5ffe032410>"
            ]
          },
          "metadata": {},
          "execution_count": 254
        },
        {
          "output_type": "display_data",
          "data": {
            "text/plain": [
              "<Figure size 360x360 with 1 Axes>"
            ],
            "image/png": "[encoded data removed]"
          },
          "metadata": {
            "needs_background": "light"
          }
        }
      ]
    },
    {
      "cell_type": "markdown",
      "source": [
        "2 : Since there are so much low Credit Grade such as C and D , does it lead to a higher amount of deliquency?"
      ],
      "metadata": {
        "id": "mEAtoKbyAg8v"
      }
    },
    {
      "cell_type": "code",
      "source": [
        "sns.displot(data, x=\"CreditGrade\", y=\"LoanStatus\")"
      ],
      "metadata": {
        "colab": {
          "base_uri": "https://localhost:8080/",
          "height": 386
        },
        "id": "FKGcQNRJ_xIO",
        "outputId": "576c36f3-0d3b-486c-98d3-264ae7618859"
      },
      "execution_count": 255,
      "outputs": [
        {
          "output_type": "execute_result",
          "data": {
            "text/plain": [
              "<seaborn.axisgrid.FacetGrid at 0x7f5ffd498410>"
            ]
          },
          "metadata": {},
          "execution_count": 255
        },
        {
          "output_type": "display_data",
          "data": {
            "text/plain": [
              "<Figure size 360x360 with 1 Axes>"
            ],
            "image/png": "[encoded data removed]"
          },
          "metadata": {
            "needs_background": "light"
          }
        }
      ]
    },
    {
      "cell_type": "code",
      "source": [
        "sns.jointplot(data=data, x=\"CreditGrade\", y=\"LoanStatus\")\n"
      ],
      "metadata": {
        "colab": {
          "base_uri": "https://localhost:8080/",
          "height": 458
        },
        "id": "5qeN65Sa5ut9",
        "outputId": "bdf2cd94-57c5-4f30-b8b6-49a78834e0e9"
      },
      "execution_count": 256,
      "outputs": [
        {
          "output_type": "execute_result",
          "data": {
            "text/plain": [
              "<seaborn.axisgrid.JointGrid at 0x7f5ff9e0bd50>"
            ]
          },
          "metadata": {},
          "execution_count": 256
        },
        {
          "output_type": "display_data",
          "data": {
            "text/plain": [
              "<Figure size 432x432 with 3 Axes>"
            ],
            "image/png": "[encoded data removed]"
          },
          "metadata": {
            "needs_background": "light"
          }
        }
      ]
    },
    {
      "cell_type": "markdown",
      "source": [
        "3 : What is the highest number of BorrowerRate?"
      ],
      "metadata": {
        "id": "vRxqzgCbAkg7"
      }
    },
    {
      "cell_type": "code",
      "source": [
        "print('the highest number of BorrowerRate : ' , data['BorrowerRate'].max() )"
      ],
      "metadata": {
        "colab": {
          "base_uri": "https://localhost:8080/"
        },
        "id": "rHLfcIJX6FPG",
        "outputId": "bdb8b196-451f-46ce-fe1a-2e0fcb4dee5a"
      },
      "execution_count": 257,
      "outputs": [
        {
          "output_type": "stream",
          "name": "stdout",
          "text": [
            "the highest number of BorrowerRate :  0.4975\n"
          ]
        }
      ]
    },
    {
      "cell_type": "markdown",
      "source": [
        "4-Since the highest number of Borrower Rate is between 0.1 and 0.2, does the highest number of Lender Yield is between 0.1 and 0.2?"
      ],
      "metadata": {
        "id": "9OPKVrugx-Ju"
      }
    },
    {
      "cell_type": "code",
      "source": [
        "sns.displot(data, x=\"BorrowerRate\", y=\"LenderYield\")"
      ],
      "metadata": {
        "colab": {
          "base_uri": "https://localhost:8080/",
          "height": 386
        },
        "id": "5qU-wh09_YQa",
        "outputId": "e6c61182-be3e-4ced-f3e3-7009cffe8289"
      },
      "execution_count": 258,
      "outputs": [
        {
          "output_type": "execute_result",
          "data": {
            "text/plain": [
              "<seaborn.axisgrid.FacetGrid at 0x7f5ffd7f2dd0>"
            ]
          },
          "metadata": {},
          "execution_count": 258
        },
        {
          "output_type": "display_data",
          "data": {
            "text/plain": [
              "<Figure size 360x360 with 1 Axes>"
            ],
            "image/png": "[encoded data removed]"
          },
          "metadata": {
            "needs_background": "light"
          }
        }
      ]
    },
    {
      "cell_type": "markdown",
      "source": [
        "yes Because have linear correlation "
      ],
      "metadata": {
        "id": "nYU2-Lg_yHm-"
      }
    },
    {
      "cell_type": "markdown",
      "source": [
        " 5 : Is the Credit Grade really accurate? Does higher Credit Grade leads to higher Monthly Loan Payment? As for Higher Credit Grade we mean from Grade AA to B"
      ],
      "metadata": {
        "id": "k61oKx9H7KF-"
      }
    },
    {
      "cell_type": "code",
      "source": [
        "sns.displot(data, x=\"CreditGrade\", hue=\"LoanStatus\")"
      ],
      "metadata": {
        "colab": {
          "base_uri": "https://localhost:8080/",
          "height": 386
        },
        "id": "K2LiMiBF0w1m",
        "outputId": "db26d2e5-bd2b-4487-a7a1-2b6309b7329c"
      },
      "execution_count": 259,
      "outputs": [
        {
          "output_type": "execute_result",
          "data": {
            "text/plain": [
              "<seaborn.axisgrid.FacetGrid at 0x7f5ff9d5e0d0>"
            ]
          },
          "metadata": {},
          "execution_count": 259
        },
        {
          "output_type": "display_data",
          "data": {
            "text/plain": [
              "<Figure size 514.625x360 with 1 Axes>"
            ],
            "image/png": "[encoded data removed]"
          },
          "metadata": {
            "needs_background": "light"
          }
        }
      ]
    },
    {
      "cell_type": "code",
      "source": [
        "data[['CreditGrade','LoanStatus']].value_counts()"
      ],
      "metadata": {
        "colab": {
          "base_uri": "https://localhost:8080/"
        },
        "id": "xiyrEH3f2ya0",
        "outputId": "3ad24fd2-1a98-46a4-e647-5295b8fc07c2"
      },
      "execution_count": 260,
      "outputs": [
        {
          "output_type": "execute_result",
          "data": {
            "text/plain": [
              "CreditGrade  LoanStatus\n",
              "C            Completed     3609\n",
              "D            Completed     3126\n",
              "B            Completed     2987\n",
              "AA           Completed     2969\n",
              "A            Completed     2505\n",
              "E            Completed     1678\n",
              "HR           Completed     1372\n",
              "D            Chargedoff    1343\n",
              "C            Chargedoff    1310\n",
              "HR           Chargedoff    1242\n",
              "E            Chargedoff     946\n",
              "B            Chargedoff     909\n",
              "HR           Defaulted      891\n",
              "C            Defaulted      729\n",
              "D            Defaulted      684\n",
              "E            Defaulted      665\n",
              "A            Chargedoff     526\n",
              "B            Defaulted      493\n",
              "AA           Chargedoff     339\n",
              "A            Defaulted      283\n",
              "AA           Defaulted      201\n",
              "NC           Defaulted       64\n",
              "             Completed       42\n",
              "             Chargedoff      35\n",
              "HR           Cancelled        3\n",
              "C            Cancelled        1\n",
              "A            Cancelled        1\n",
              "dtype: int64"
            ]
          },
          "metadata": {},
          "execution_count": 260
        }
      ]
    },
    {
      "cell_type": "code",
      "source": [
        "dataAA = data[data['CreditGrade']== 'AA']\n",
        "print('All AA = ',dataAA.shape[0])\n",
        "dataAA['LoanStatus'].value_counts()"
      ],
      "metadata": {
        "colab": {
          "base_uri": "https://localhost:8080/"
        },
        "id": "35n7out42Bi2",
        "outputId": "901e9a51-289b-48bc-a1f5-d0b7816e3b24"
      },
      "execution_count": 261,
      "outputs": [
        {
          "output_type": "stream",
          "name": "stdout",
          "text": [
            "All AA =  3509\n"
          ]
        },
        {
          "output_type": "execute_result",
          "data": {
            "text/plain": [
              "Completed     2969\n",
              "Chargedoff     339\n",
              "Defaulted      201\n",
              "Name: LoanStatus, dtype: int64"
            ]
          },
          "metadata": {},
          "execution_count": 261
        }
      ]
    },
    {
      "cell_type": "code",
      "source": [
        "print('Completed status in AA = {} % '.format(2969 / 3509 * 100))"
      ],
      "metadata": {
        "colab": {
          "base_uri": "https://localhost:8080/"
        },
        "id": "gWMTwtyN69ok",
        "outputId": "f9ed7934-2933-4c34-da9b-dcbf370a0985"
      },
      "execution_count": 262,
      "outputs": [
        {
          "output_type": "stream",
          "name": "stdout",
          "text": [
            "Completed status in AA = 84.61100028498147 % \n"
          ]
        }
      ]
    },
    {
      "cell_type": "code",
      "source": [
        "dataB = data[data['CreditGrade']== 'B']\n",
        "print('All B = ',dataB.shape[0])\n",
        "dataB['LoanStatus'].value_counts()"
      ],
      "metadata": {
        "colab": {
          "base_uri": "https://localhost:8080/"
        },
        "id": "yFSRniE12cde",
        "outputId": "20cc347e-33fa-413d-d838-19fec1ed2a7e"
      },
      "execution_count": 263,
      "outputs": [
        {
          "output_type": "stream",
          "name": "stdout",
          "text": [
            "All B =  4389\n"
          ]
        },
        {
          "output_type": "execute_result",
          "data": {
            "text/plain": [
              "Completed     2987\n",
              "Chargedoff     909\n",
              "Defaulted      493\n",
              "Name: LoanStatus, dtype: int64"
            ]
          },
          "metadata": {},
          "execution_count": 263
        }
      ]
    },
    {
      "cell_type": "code",
      "source": [
        "print('Completed status in B = {} % '.format(2987 / 4398 * 100))"
      ],
      "metadata": {
        "colab": {
          "base_uri": "https://localhost:8080/"
        },
        "id": "jITVSCEH54vc",
        "outputId": "faad10e9-691c-4725-c557-032e33eab3e8"
      },
      "execution_count": 264,
      "outputs": [
        {
          "output_type": "stream",
          "name": "stdout",
          "text": [
            "Completed status in B = 67.91723510686676 % \n"
          ]
        }
      ]
    },
    {
      "cell_type": "markdown",
      "source": [
        "The Credit Grade did not decrease as the percentage of Completed decreased"
      ],
      "metadata": {
        "id": "EGwQd5zi7fBa"
      }
    },
    {
      "cell_type": "code",
      "source": [
        "dataAB = data[(data['CreditGrade'].eq('AA') | data['CreditGrade'].eq('B') |  data['CreditGrade'].eq('A'))]\n",
        "print('All B = ',dataAB.shape[0])\n",
        "dataAB['LoanStatus'].value_counts()"
      ],
      "metadata": {
        "colab": {
          "base_uri": "https://localhost:8080/"
        },
        "id": "JWzUbv4X6FsE",
        "outputId": "aa4da2ea-5905-443c-8a7a-d585c38b5e79"
      },
      "execution_count": 265,
      "outputs": [
        {
          "output_type": "stream",
          "name": "stdout",
          "text": [
            "All B =  11213\n"
          ]
        },
        {
          "output_type": "execute_result",
          "data": {
            "text/plain": [
              "Completed     8461\n",
              "Chargedoff    1774\n",
              "Defaulted      977\n",
              "Cancelled        1\n",
              "Name: LoanStatus, dtype: int64"
            ]
          },
          "metadata": {},
          "execution_count": 265
        }
      ]
    },
    {
      "cell_type": "code",
      "source": [
        "print('Completed status AA to B = {} % '.format(8461 / 11213 * 100))"
      ],
      "metadata": {
        "colab": {
          "base_uri": "https://localhost:8080/"
        },
        "id": "ikmnsxjR-lWz",
        "outputId": "a4d69bc6-4059-4b33-a930-aac1e40efb44"
      },
      "execution_count": 266,
      "outputs": [
        {
          "output_type": "stream",
          "name": "stdout",
          "text": [
            "Completed status AA to B = 75.4570587710693 % \n"
          ]
        }
      ]
    },
    {
      "cell_type": "markdown",
      "source": [
        "### replace null "
      ],
      "metadata": {
        "id": "auLqN2Q9GdTE"
      }
    },
    {
      "cell_type": "code",
      "source": [
        "# TotalProsperLoans , TotalProsperPaymentsBilled , OnTimeProsperPayments , ProsperPaymentsLessThanOneMonthLate ,\n",
        "#ProsperPaymentsOneMonthPlusLate , ProsperPrincipalBorrowed , ProsperPrincipalOutstanding , ScorexChangeAtTimeOfListing , \n",
        "#LoanFirstDefaultedCycleNumber \n",
        "\n",
        "# all this columns value will be null if the borrower had no prior loans.\n",
        "# replace All null to 0\n",
        "\n",
        "value_will_be_null = ['TotalProsperLoans' , 'TotalProsperPaymentsBilled' , 'OnTimeProsperPayments' , 'ProsperPaymentsLessThanOneMonthLate' ,\n",
        "'ProsperPaymentsOneMonthPlusLate' , 'ProsperPrincipalBorrowed' , 'ProsperPrincipalOutstanding' , 'ScorexChangeAtTimeOfListing' , \n",
        "'LoanFirstDefaultedCycleNumber']\n",
        "\n",
        "for i in value_will_be_null:\n",
        "  data[i].replace(np.nan,0,inplace=True)\n",
        "  data[i].astype('float64')\n"
      ],
      "metadata": {
        "id": "NEc9KsJA_8_z"
      },
      "execution_count": 267,
      "outputs": []
    },
    {
      "cell_type": "code",
      "source": [
        "print(data['CreditGrade'].unique())\n",
        "print(data['ProsperRating (Alpha)'].unique())"
      ],
      "metadata": {
        "colab": {
          "base_uri": "https://localhost:8080/"
        },
        "id": "y-4X7TN-Zazf",
        "outputId": "46840803-83cf-4164-85ac-c073cbd4be97"
      },
      "execution_count": 268,
      "outputs": [
        {
          "output_type": "stream",
          "name": "stdout",
          "text": [
            "['C' nan 'HR' 'AA' 'D' 'B' 'E' 'A' 'NC']\n",
            "[nan 'A' 'D' 'B' 'E' 'C' 'AA' 'HR']\n"
          ]
        }
      ]
    },
    {
      "cell_type": "code",
      "source": [
        ""
      ],
      "metadata": {
        "id": "4V3Doyebc9J5"
      },
      "execution_count": 268,
      "outputs": []
    },
    {
      "cell_type": "code",
      "source": [
        ""
      ],
      "metadata": {
        "id": "BZhsTEKqduiR"
      },
      "execution_count": 268,
      "outputs": []
    },
    {
      "cell_type": "code",
      "source": [
        "def nall_check(data):\n",
        "  nana=[]\n",
        "  j = 0\n",
        "  for i in range(data.shape[1]):\n",
        "    if (data.isna().sum()[i] != 0 ):\n",
        "      print(j,'\\t',data[data.columns[i]].dtypes , '\\t' ,data.isna().sum()[i] , '\\t', data.columns[i])\n",
        "      j+=1\n",
        "      nana.append(data.columns[i])\n",
        "  return nana\n"
      ],
      "metadata": {
        "id": "8izLpP1QHaw7"
      },
      "execution_count": 269,
      "outputs": []
    },
    {
      "cell_type": "code",
      "source": [
        ""
      ],
      "metadata": {
        "id": "6jG8QGg4Hj-q"
      },
      "execution_count": 269,
      "outputs": []
    },
    {
      "cell_type": "code",
      "source": [
        "data.drop('ProsperRating (numeric)',axis=1, inplace= True) # ProsperRating (numeric) & ProsperRating (Alpha) same column\n",
        "data.drop('ListingKey',axis=1, inplace= True) #unique key like id \n"
      ],
      "metadata": {
        "id": "jPdYGSj0IPUZ"
      },
      "execution_count": 270,
      "outputs": []
    },
    {
      "cell_type": "code",
      "source": [
        "data.drop('GroupKey',axis=1, inplace= True)  # have 100,000 null "
      ],
      "metadata": {
        "id": "KrUDrwe3JYb5"
      },
      "execution_count": 271,
      "outputs": []
    },
    {
      "cell_type": "code",
      "source": [
        "sns.catplot(x=\"TradesOpenedLast6Months\", kind=\"box\", data=data)"
      ],
      "metadata": {
        "colab": {
          "base_uri": "https://localhost:8080/",
          "height": 386
        },
        "id": "woCs6qU3Jnvn",
        "outputId": "73507ad9-04b0-4244-df25-dc3977a4c0f5"
      },
      "execution_count": 272,
      "outputs": [
        {
          "output_type": "execute_result",
          "data": {
            "text/plain": [
              "<seaborn.axisgrid.FacetGrid at 0x7f5ffe0f6cd0>"
            ]
          },
          "metadata": {},
          "execution_count": 272
        },
        {
          "output_type": "display_data",
          "data": {
            "text/plain": [
              "<Figure size 360x360 with 1 Axes>"
            ],
            "image/png": "[encoded data removed]"
          },
          "metadata": {
            "needs_background": "light"
          }
        }
      ]
    },
    {
      "cell_type": "code",
      "source": [
        "data['TradesOpenedLast6Months'].replace(np.nan,float(data['TradesOpenedLast6Months'].mode()),inplace=True) \n",
        "data['TradesOpenedLast6Months'].astype('float64') #replace null with mode Because column have outlier"
      ],
      "metadata": {
        "colab": {
          "base_uri": "https://localhost:8080/"
        },
        "id": "RVqq2oG3KoWH",
        "outputId": "d956f571-b94d-442c-ec73-80770664b906"
      },
      "execution_count": 273,
      "outputs": [
        {
          "output_type": "execute_result",
          "data": {
            "text/plain": [
              "0         0.0\n",
              "1         2.0\n",
              "2         0.0\n",
              "3         0.0\n",
              "4         2.0\n",
              "         ... \n",
              "113932    3.0\n",
              "113933    0.0\n",
              "113934    0.0\n",
              "113935    1.0\n",
              "113936    0.0\n",
              "Name: TradesOpenedLast6Months, Length: 113937, dtype: float64"
            ]
          },
          "metadata": {},
          "execution_count": 273
        }
      ]
    },
    {
      "cell_type": "code",
      "source": [
        ""
      ],
      "metadata": {
        "id": "3Td0ONvELb32"
      },
      "execution_count": 273,
      "outputs": []
    },
    {
      "cell_type": "code",
      "source": [
        "arr = ['DelinquenciesLast7Years', 'PublicRecordsLast12Months', 'RevolvingCreditBalance', 'BankcardUtilization', 'AvailableBankcardCredit',\n",
        "       'TotalTrades','TradesNeverDelinquent (percentage)','OpenCreditLines','CurrentCreditLines']\n",
        " # Visualization all columns\n",
        " # to show if have outlier \n",
        "for columns in arr:\n",
        "    plt.figure(figsize=(10,5))\n",
        "    sns.catplot(x=columns, kind=\"box\", data=data)\n",
        "    plt.show()\n",
        "    data[columns].replace(np.nan,float(data[columns].mode()),inplace=True) \n",
        "    data[columns].astype('float64') #replace null with mode Because column have outlier"
      ],
      "metadata": {
        "colab": {
          "base_uri": "https://localhost:8080/",
          "height": 1000
        },
        "id": "jh4gfV0IMG-r",
        "outputId": "bf68e1b6-8508-4d15-861c-7da0db3e42d3"
      },
      "execution_count": 274,
      "outputs": [
        {
          "output_type": "display_data",
          "data": {
            "text/plain": [
              "<Figure size 720x360 with 0 Axes>"
            ]
          },
          "metadata": {}
        },
        {
          "output_type": "display_data",
          "data": {
            "text/plain": [
              "<Figure size 360x360 with 1 Axes>"
            ],
            "image/png": "[encoded data removed]"
          },
          "metadata": {
            "needs_background": "light"
          }
        },
        {
          "output_type": "display_data",
          "data": {
            "text/plain": [
              "<Figure size 720x360 with 0 Axes>"
            ]
          },
          "metadata": {}
        },
        {
          "output_type": "display_data",
          "data": {
            "text/plain": [
              "<Figure size 360x360 with 1 Axes>"
            ],
            "image/png": "[encoded data removed]"
          },
          "metadata": {
            "needs_background": "light"
          }
        },
        {
          "output_type": "display_data",
          "data": {
            "text/plain": [
              "<Figure size 720x360 with 0 Axes>"
            ]
          },
          "metadata": {}
        },
        {
          "output_type": "display_data",
          "data": {
            "text/plain": [
              "<Figure size 360x360 with 1 Axes>"
            ],
            "image/png": "[encoded data removed]"
          },
          "metadata": {
            "needs_background": "light"
          }
        },
        {
          "output_type": "display_data",
          "data": {
            "text/plain": [
              "<Figure size 720x360 with 0 Axes>"
            ]
          },
          "metadata": {}
        },
        {
          "output_type": "display_data",
          "data": {
            "text/plain": [
              "<Figure size 360x360 with 1 Axes>"
            ],
            "image/png": "[encoded data removed]"
          },
          "metadata": {
            "needs_background": "light"
          }
        },
        {
          "output_type": "display_data",
          "data": {
            "text/plain": [
              "<Figure size 720x360 with 0 Axes>"
            ]
          },
          "metadata": {}
        },
        {
          "output_type": "display_data",
          "data": {
            "text/plain": [
              "<Figure size 360x360 with 1 Axes>"
            ],
            "image/png": "[encoded data removed]"
          },
          "metadata": {
            "needs_background": "light"
          }
        },
        {
          "output_type": "display_data",
          "data": {
            "text/plain": [
              "<Figure size 720x360 with 0 Axes>"
            ]
          },
          "metadata": {}
        },
        {
          "output_type": "display_data",
          "data": {
            "text/plain": [
              "<Figure size 360x360 with 1 Axes>"
            ],
            "image/png": "[encoded data removed]"
          },
          "metadata": {
            "needs_background": "light"
          }
        },
        {
          "output_type": "display_data",
          "data": {
            "text/plain": [
              "<Figure size 720x360 with 0 Axes>"
            ]
          },
          "metadata": {}
        },
        {
          "output_type": "display_data",
          "data": {
            "text/plain": [
              "<Figure size 360x360 with 1 Axes>"
            ],
            "image/png": "[encoded data removed]"
          },
          "metadata": {
            "needs_background": "light"
          }
        },
        {
          "output_type": "display_data",
          "data": {
            "text/plain": [
              "<Figure size 720x360 with 0 Axes>"
            ]
          },
          "metadata": {}
        },
        {
          "output_type": "display_data",
          "data": {
            "text/plain": [
              "<Figure size 360x360 with 1 Axes>"
            ],
            "image/png": "[encoded data removed]"
          },
          "metadata": {
            "needs_background": "light"
          }
        },
        {
          "output_type": "display_data",
          "data": {
            "text/plain": [
              "<Figure size 720x360 with 0 Axes>"
            ]
          },
          "metadata": {}
        },
        {
          "output_type": "display_data",
          "data": {
            "text/plain": [
              "<Figure size 360x360 with 1 Axes>"
            ],
            "image/png": "[encoded data removed]"
          },
          "metadata": {
            "needs_background": "light"
          }
        }
      ]
    },
    {
      "cell_type": "code",
      "source": [
        "#columns unique  \n",
        "for i in data.columns :\n",
        "  if data[i].nunique() > 112000:\n",
        "    print(data[i].nunique() , '\\t' , i)"
      ],
      "metadata": {
        "colab": {
          "base_uri": "https://localhost:8080/"
        },
        "id": "eRRxYoOyMd7v",
        "outputId": "0059a9af-cccc-440e-be60-0adae74d1b9c"
      },
      "execution_count": 275,
      "outputs": [
        {
          "output_type": "stream",
          "name": "stdout",
          "text": [
            "113066 \t ListingNumber\n",
            "113064 \t ListingCreationDate\n",
            "112992 \t DateCreditPulled\n",
            "113066 \t LoanKey\n",
            "113066 \t LoanNumber\n"
          ]
        }
      ]
    },
    {
      "cell_type": "code",
      "source": [
        "#drop this columns \n",
        "unique_value = ['LoanKey', 'ListingNumber' ,'ListingCreationDate','LoanNumber','DateCreditPulled' ]\n",
        "for i in unique_value:\n",
        "  data.drop(i,axis=1, inplace= True) "
      ],
      "metadata": {
        "id": "0g6tNQWETte1"
      },
      "execution_count": 276,
      "outputs": []
    },
    {
      "cell_type": "code",
      "source": [
        "data.shape"
      ],
      "metadata": {
        "colab": {
          "base_uri": "https://localhost:8080/"
        },
        "id": "oNCjAhS3Uu-U",
        "outputId": "7c586b40-1e94-4f17-ebce-9ad6890db48a"
      },
      "execution_count": 277,
      "outputs": [
        {
          "output_type": "execute_result",
          "data": {
            "text/plain": [
              "(113937, 73)"
            ]
          },
          "metadata": {},
          "execution_count": 277
        }
      ]
    },
    {
      "cell_type": "code",
      "source": [
        "data['CreditGrade'].replace('NC',np.nan,inplace=True) "
      ],
      "metadata": {
        "id": "w5XA5BsrWAS7"
      },
      "execution_count": 278,
      "outputs": []
    },
    {
      "cell_type": "code",
      "source": [
        "data['Grade'] = np.nan"
      ],
      "metadata": {
        "id": "TJYtMXRYee07"
      },
      "execution_count": 279,
      "outputs": []
    },
    {
      "cell_type": "code",
      "source": [
        "ProsperRating = data['ProsperRating (Alpha)'].isna()\n",
        "CreditGrade = data['CreditGrade'].isna()\n",
        "listA = []"
      ],
      "metadata": {
        "id": "7FcDZA3WCw4P"
      },
      "execution_count": 280,
      "outputs": []
    },
    {
      "cell_type": "code",
      "source": [
        "for i in range(data.shape[0]):\n",
        "  if ProsperRating[i]:    \n",
        "   listA.append(data['CreditGrade'][i])\n",
        "  else: \n",
        "    listA.append(data['ProsperRating (Alpha)'][i])"
      ],
      "metadata": {
        "id": "gm0bIuGgdo7p"
      },
      "execution_count": 281,
      "outputs": []
    },
    {
      "cell_type": "code",
      "source": [
        "data['Grade'] = listA"
      ],
      "metadata": {
        "id": "J1eg-16cDuoV"
      },
      "execution_count": 282,
      "outputs": []
    },
    {
      "cell_type": "code",
      "source": [
        "data['Grade'].replace(np.nan,str(data['Grade'].mode()),inplace=True) "
      ],
      "metadata": {
        "id": "h9TaMwMVD8JB"
      },
      "execution_count": 283,
      "outputs": []
    },
    {
      "cell_type": "code",
      "source": [
        "data[['Grade','ProsperRating (Alpha)','CreditGrade']]"
      ],
      "metadata": {
        "colab": {
          "base_uri": "https://localhost:8080/",
          "height": 424
        },
        "id": "VDnyVMdeftqZ",
        "outputId": "50f12814-0187-48aa-9f29-366a2255192c"
      },
      "execution_count": 284,
      "outputs": [
        {
          "output_type": "execute_result",
          "data": {
            "text/plain": [
              "       Grade ProsperRating (Alpha) CreditGrade\n",
              "0          C                   NaN           C\n",
              "1          A                     A         NaN\n",
              "2         HR                   NaN          HR\n",
              "3          A                     A         NaN\n",
              "4          D                     D         NaN\n",
              "...      ...                   ...         ...\n",
              "113932     C                     C         NaN\n",
              "113933     A                     A         NaN\n",
              "113934     D                     D         NaN\n",
              "113935     C                     C         NaN\n",
              "113936     A                     A         NaN\n",
              "\n",
              "[113937 rows x 3 columns]"
            ],
            "text/html": [
              "\n",
              "  <div id=\"df-d21106f5-8aac-4d33-bb57-1fab23dcac07\">\n",
              "    <div class=\"colab-df-container\">\n",
              "      <div>\n",
              "<style scoped>\n",
              "    .dataframe tbody tr th:only-of-type {\n",
              "        vertical-align: middle;\n",
              "    }\n",
              "\n",
              "    .dataframe tbody tr th {\n",
              "        vertical-align: top;\n",
              "    }\n",
              "\n",
              "    .dataframe thead th {\n",
              "        text-align: right;\n",
              "    }\n",
              "</style>\n",
              "<table border=\"1\" class=\"dataframe\">\n",
              "  <thead>\n",
              "    <tr style=\"text-align: right;\">\n",
              "      <th></th>\n",
              "      <th>Grade</th>\n",
              "      <th>ProsperRating (Alpha)</th>\n",
              "      <th>CreditGrade</th>\n",
              "    </tr>\n",
              "  </thead>\n",
              "  <tbody>\n",
              "    <tr>\n",
              "      <th>0</th>\n",
              "      <td>C</td>\n",
              "      <td>NaN</td>\n",
              "      <td>C</td>\n",
              "    </tr>\n",
              "    <tr>\n",
              "      <th>1</th>\n",
              "      <td>A</td>\n",
              "      <td>A</td>\n",
              "      <td>NaN</td>\n",
              "    </tr>\n",
              "    <tr>\n",
              "      <th>2</th>\n",
              "      <td>HR</td>\n",
              "      <td>NaN</td>\n",
              "      <td>HR</td>\n",
              "    </tr>\n",
              "    <tr>\n",
              "      <th>3</th>\n",
              "      <td>A</td>\n",
              "      <td>A</td>\n",
              "      <td>NaN</td>\n",
              "    </tr>\n",
              "    <tr>\n",
              "      <th>4</th>\n",
              "      <td>D</td>\n",
              "      <td>D</td>\n",
              "      <td>NaN</td>\n",
              "    </tr>\n",
              "    <tr>\n",
              "      <th>...</th>\n",
              "      <td>...</td>\n",
              "      <td>...</td>\n",
              "      <td>...</td>\n",
              "    </tr>\n",
              "    <tr>\n",
              "      <th>113932</th>\n",
              "      <td>C</td>\n",
              "      <td>C</td>\n",
              "      <td>NaN</td>\n",
              "    </tr>\n",
              "    <tr>\n",
              "      <th>113933</th>\n",
              "      <td>A</td>\n",
              "      <td>A</td>\n",
              "      <td>NaN</td>\n",
              "    </tr>\n",
              "    <tr>\n",
              "      <th>113934</th>\n",
              "      <td>D</td>\n",
              "      <td>D</td>\n",
              "      <td>NaN</td>\n",
              "    </tr>\n",
              "    <tr>\n",
              "      <th>113935</th>\n",
              "      <td>C</td>\n",
              "      <td>C</td>\n",
              "      <td>NaN</td>\n",
              "    </tr>\n",
              "    <tr>\n",
              "      <th>113936</th>\n",
              "      <td>A</td>\n",
              "      <td>A</td>\n",
              "      <td>NaN</td>\n",
              "    </tr>\n",
              "  </tbody>\n",
              "</table>\n",
              "<p>113937 rows × 3 columns</p>\n",
              "</div>\n",
              "      <button class=\"colab-df-convert\" onclick=\"convertToInteractive('df-d21106f5-8aac-4d33-bb57-1fab23dcac07')\"\n",
              "              title=\"Convert this dataframe to an interactive table.\"\n",
              "              style=\"display:none;\">\n",
              "        \n",
              "  <svg xmlns=\"http://www.w3.org/2000/svg\" height=\"24px\"viewBox=\"0 0 24 24\"\n",
              "       width=\"24px\">\n",
              "    <path d=\"M0 0h24v24H0V0z\" fill=\"none\"/>\n",
              "    <path d=\"M18.56 5.44l.94 2.06.94-2.06 2.06-.94-2.06-.94-.94-2.06-.94 2.06-2.06.94zm-11 1L8.5 8.5l.94-2.06 2.06-.94-2.06-.94L8.5 2.5l-.94 2.06-2.06.94zm10 10l.94 2.06.94-2.06 2.06-.94-2.06-.94-.94-2.06-.94 2.06-2.06.94z\"/><path d=\"M17.41 7.96l-1.37-1.37c-.4-.4-.92-.59-1.43-.59-.52 0-1.04.2-1.43.59L10.3 9.45l-7.72 7.72c-.78.78-.78 2.05 0 2.83L4 21.41c.39.39.9.59 1.41.59.51 0 1.02-.2 1.41-.59l7.78-7.78 2.81-2.81c.8-.78.8-2.07 0-2.86zM5.41 20L4 18.59l7.72-7.72 1.47 1.35L5.41 20z\"/>\n",
              "  </svg>\n",
              "      </button>\n",
              "      \n",
              "  <style>\n",
              "    .colab-df-container {\n",
              "      display:flex;\n",
              "      flex-wrap:wrap;\n",
              "      gap: 12px;\n",
              "    }\n",
              "\n",
              "    .colab-df-convert {\n",
              "      background-color: #E8F0FE;\n",
              "      border: none;\n",
              "      border-radius: 50%;\n",
              "      cursor: pointer;\n",
              "      display: none;\n",
              "      fill: #1967D2;\n",
              "      height: 32px;\n",
              "      padding: 0 0 0 0;\n",
              "      width: 32px;\n",
              "    }\n",
              "\n",
              "    .colab-df-convert:hover {\n",
              "      background-color: #E2EBFA;\n",
              "      box-shadow: 0px 1px 2px rgba(60, 64, 67, 0.3), 0px 1px 3px 1px rgba(60, 64, 67, 0.15);\n",
              "      fill: #174EA6;\n",
              "    }\n",
              "\n",
              "    [theme=dark] .colab-df-convert {\n",
              "      background-color: #3B4455;\n",
              "      fill: #D2E3FC;\n",
              "    }\n",
              "\n",
              "    [theme=dark] .colab-df-convert:hover {\n",
              "      background-color: #434B5C;\n",
              "      box-shadow: 0px 1px 3px 1px rgba(0, 0, 0, 0.15);\n",
              "      filter: drop-shadow(0px 1px 2px rgba(0, 0, 0, 0.3));\n",
              "      fill: #FFFFFF;\n",
              "    }\n",
              "  </style>\n",
              "\n",
              "      <script>\n",
              "        const buttonEl =\n",
              "          document.querySelector('#df-d21106f5-8aac-4d33-bb57-1fab23dcac07 button.colab-df-convert');\n",
              "        buttonEl.style.display =\n",
              "          google.colab.kernel.accessAllowed ? 'block' : 'none';\n",
              "\n",
              "        async function convertToInteractive(key) {\n",
              "          const element = document.querySelector('#df-d21106f5-8aac-4d33-bb57-1fab23dcac07');\n",
              "          const dataTable =\n",
              "            await google.colab.kernel.invokeFunction('convertToInteractive',\n",
              "                                                     [key], {});\n",
              "          if (!dataTable) return;\n",
              "\n",
              "          const docLinkHtml = 'Like what you see? Visit the ' +\n",
              "            '<a target=\"_blank\" href=https://colab.research.google.com/notebooks/data_table.ipynb>data table notebook</a>'\n",
              "            + ' to learn more about interactive tables.';\n",
              "          element.innerHTML = '';\n",
              "          dataTable['output_type'] = 'display_data';\n",
              "          await google.colab.output.renderOutput(dataTable, element);\n",
              "          const docLink = document.createElement('div');\n",
              "          docLink.innerHTML = docLinkHtml;\n",
              "          element.appendChild(docLink);\n",
              "        }\n",
              "      </script>\n",
              "    </div>\n",
              "  </div>\n",
              "  "
            ]
          },
          "metadata": {},
          "execution_count": 284
        }
      ]
    },
    {
      "cell_type": "code",
      "source": [
        "data.drop('ProsperRating (Alpha)',axis=1, inplace= True)  \n",
        "data.drop('CreditGrade',axis=1, inplace= True)  "
      ],
      "metadata": {
        "id": "XZInpw-YguPI"
      },
      "execution_count": 285,
      "outputs": []
    },
    {
      "cell_type": "code",
      "source": [
        "data.drop('ClosedDate',axis=1, inplace= True)   #have Term and if LoanStatus is complete have close data "
      ],
      "metadata": {
        "id": "CxjH5EP88Qbh"
      },
      "execution_count": 286,
      "outputs": []
    },
    {
      "cell_type": "code",
      "source": [
        "data.drop('ProsperScore',axis=1, inplace= True) "
      ],
      "metadata": {
        "id": "fNt5jn9CFQkW"
      },
      "execution_count": 287,
      "outputs": []
    },
    {
      "cell_type": "code",
      "source": [
        "print(data['EstimatedEffectiveYield'].mean())\n",
        "sns.histplot(data=data['EstimatedEffectiveYield'])"
      ],
      "metadata": {
        "id": "CgWwniYqFyJG",
        "outputId": "b58e9062-08ae-4b03-df5f-c7272532636c",
        "colab": {
          "base_uri": "https://localhost:8080/",
          "height": 314
        }
      },
      "execution_count": 288,
      "outputs": [
        {
          "output_type": "stream",
          "name": "stdout",
          "text": [
            "0.1686614749036569\n"
          ]
        },
        {
          "output_type": "execute_result",
          "data": {
            "text/plain": [
              "<matplotlib.axes._subplots.AxesSubplot at 0x7f5ff8f421d0>"
            ]
          },
          "metadata": {},
          "execution_count": 288
        },
        {
          "output_type": "display_data",
          "data": {
            "text/plain": [
              "<Figure size 432x288 with 1 Axes>"
            ],
            "image/png": "[encoded data removed]"
          },
          "metadata": {
            "needs_background": "light"
          }
        }
      ]
    },
    {
      "cell_type": "markdown",
      "source": [
        "# normal distribution can replace with mean "
      ],
      "metadata": {
        "id": "AFzcVtdBLfN2"
      }
    },
    {
      "cell_type": "code",
      "source": [
        "data['EstimatedEffectiveYield'].replace(np.nan,float(data['EstimatedEffectiveYield'].mean()),inplace=True) \n",
        "data['EstimatedLoss'].replace(np.nan,float(data['EstimatedLoss'].mean()),inplace=True) \n",
        "data['EstimatedReturn'].replace(np.nan,float(data['EstimatedReturn'].mean()),inplace=True) "
      ],
      "metadata": {
        "id": "c4dvqAX1H7j1"
      },
      "execution_count": 289,
      "outputs": []
    },
    {
      "cell_type": "code",
      "source": [
        "o_nan=['BorrowerState','Occupation','EmploymentStatus','FirstRecordedCreditLine']\n",
        "for i in o_nan :\n",
        "  data[i].replace(np.nan,str(data[i].mode()),inplace=True) "
      ],
      "metadata": {
        "id": "nEhSnJPwIzZF"
      },
      "execution_count": 290,
      "outputs": []
    },
    {
      "cell_type": "code",
      "source": [
        "na = nall_check(data)"
      ],
      "metadata": {
        "id": "L0vchrOCMb78",
        "colab": {
          "base_uri": "https://localhost:8080/"
        },
        "outputId": "f5afe509-384e-46b7-b0e4-11b3f8fe7adc"
      },
      "execution_count": 291,
      "outputs": [
        {
          "output_type": "stream",
          "name": "stdout",
          "text": [
            "0 \t float64 \t 25 \t BorrowerAPR\n",
            "1 \t float64 \t 7625 \t EmploymentStatusDuration\n",
            "2 \t float64 \t 591 \t CreditScoreRangeLower\n",
            "3 \t float64 \t 591 \t CreditScoreRangeUpper\n",
            "4 \t float64 \t 697 \t TotalCreditLinespast7years\n",
            "5 \t float64 \t 697 \t InquiriesLast6Months\n",
            "6 \t float64 \t 1159 \t TotalInquiries\n",
            "7 \t float64 \t 697 \t CurrentDelinquencies\n",
            "8 \t float64 \t 7622 \t AmountDelinquent\n",
            "9 \t float64 \t 697 \t PublicRecordsLast10Years\n",
            "10 \t float64 \t 8554 \t DebtToIncomeRatio\n"
          ]
        }
      ]
    },
    {
      "cell_type": "code",
      "source": [
        "for i in na :\n",
        "  data[i].replace(np.nan,float(data[i].mean()),inplace=True) \n",
        "  data[i].astype('float64') \n"
      ],
      "metadata": {
        "id": "-WGDMcWRMxGU"
      },
      "execution_count": 292,
      "outputs": []
    },
    {
      "cell_type": "code",
      "source": [
        "data.isna().sum()"
      ],
      "metadata": {
        "id": "UOC-qzwrPVaK",
        "outputId": "47318839-55d4-48ac-e061-384639eb4957",
        "colab": {
          "base_uri": "https://localhost:8080/"
        }
      },
      "execution_count": 293,
      "outputs": [
        {
          "output_type": "execute_result",
          "data": {
            "text/plain": [
              "Term                           0\n",
              "LoanStatus                     0\n",
              "BorrowerAPR                    0\n",
              "BorrowerRate                   0\n",
              "LenderYield                    0\n",
              "                              ..\n",
              "Recommendations                0\n",
              "InvestmentFromFriendsCount     0\n",
              "InvestmentFromFriendsAmount    0\n",
              "Investors                      0\n",
              "Grade                          0\n",
              "Length: 70, dtype: int64"
            ]
          },
          "metadata": {},
          "execution_count": 293
        }
      ]
    },
    {
      "cell_type": "markdown",
      "source": [
        "Most loans 36 months"
      ],
      "metadata": {
        "id": "Bvabbsd3yVw2"
      }
    },
    {
      "cell_type": "code",
      "source": [
        "print(data['Term'].value_counts())\n",
        "sns.catplot(x=\"Term\", kind=\"count\", palette=\"ch:.25\", data=data)"
      ],
      "metadata": {
        "id": "lQq796IoParS",
        "colab": {
          "base_uri": "https://localhost:8080/",
          "height": 456
        },
        "outputId": "9ec8ef26-d3a1-415d-cfe7-d6487afdfb20"
      },
      "execution_count": 294,
      "outputs": [
        {
          "output_type": "stream",
          "name": "stdout",
          "text": [
            "36    87778\n",
            "60    24545\n",
            "12     1614\n",
            "Name: Term, dtype: int64\n"
          ]
        },
        {
          "output_type": "execute_result",
          "data": {
            "text/plain": [
              "<seaborn.axisgrid.FacetGrid at 0x7f5ff3672bd0>"
            ]
          },
          "metadata": {},
          "execution_count": 294
        },
        {
          "output_type": "display_data",
          "data": {
            "text/plain": [
              "<Figure size 360x360 with 1 Axes>"
            ],
            "image/png": "[encoded data removed]"
          },
          "metadata": {
            "needs_background": "light"
          }
        }
      ]
    },
    {
      "cell_type": "code",
      "source": [
        "term36 = data[data['Term'] == 36]\n",
        "term60 = data[data['Term'] == 60]\n",
        "term12 = data[data['Term'] == 12]"
      ],
      "metadata": {
        "id": "m468zV2vw9kN"
      },
      "execution_count": 295,
      "outputs": []
    },
    {
      "cell_type": "markdown",
      "source": [
        "avg BorrowerRate"
      ],
      "metadata": {
        "id": "toDqQ8ta0PvM"
      }
    },
    {
      "cell_type": "code",
      "source": [
        "print('avg BorrowerRate in 60 months = {} %'.format(term60['BorrowerRate'].mean()))\n",
        "print('avg BorrowerRate in 36 months = {} %'.format(term36['BorrowerRate'].mean()))\n",
        "print('avg BorrowerRate in 12 months = {} %'.format(term12['BorrowerRate'].mean()))"
      ],
      "metadata": {
        "colab": {
          "base_uri": "https://localhost:8080/"
        },
        "id": "HIpTxC8wy13D",
        "outputId": "4f0bb3a3-f624-4419-81e6-6cb558cbaed0"
      },
      "execution_count": 296,
      "outputs": [
        {
          "output_type": "stream",
          "name": "stdout",
          "text": [
            "avg BorrowerRate in 60 months = 0.19299065390099815 %\n",
            "avg BorrowerRate in 36 months = 0.19348552769486657 %\n",
            "avg BorrowerRate in 12 months = 0.15008066914498142 %\n"
          ]
        }
      ]
    },
    {
      "cell_type": "markdown",
      "source": [
        "avg Defaulted \n",
        "\n"
      ],
      "metadata": {
        "id": "wppp4Eu_4vdR"
      }
    },
    {
      "cell_type": "code",
      "source": [
        "print('Defaulted in 60 months {} % '.format(len(term60[term60['LoanStatus']=='Defaulted']) / len(term60['LoanStatus']) * 100))\n",
        "print('Defaulted in 36 months {} % '.format(len(term36[term36['LoanStatus']=='Defaulted']) / len(term36['LoanStatus']) * 100))\n",
        "print('Defaulted in 12 months {} % '.format(len(term12[term12['LoanStatus']=='Defaulted']) / len(term12['LoanStatus']) * 100))"
      ],
      "metadata": {
        "colab": {
          "base_uri": "https://localhost:8080/"
        },
        "id": "VnNWaWra1dbu",
        "outputId": "5358a86a-73c3-4102-d850-84d9749d34b3"
      },
      "execution_count": 297,
      "outputs": [
        {
          "output_type": "stream",
          "name": "stdout",
          "text": [
            "Defaulted in 60 months 0.7577918109594622 % \n",
            "Defaulted in 36 months 5.493403814167559 % \n",
            "Defaulted in 12 months 0.6195786864931847 % \n"
          ]
        }
      ]
    },
    {
      "cell_type": "code",
      "source": [
        "data.describe()"
      ],
      "metadata": {
        "colab": {
          "base_uri": "https://localhost:8080/",
          "height": 411
        },
        "id": "fpALzmjczj3b",
        "outputId": "f53016d4-a38d-4464-84cb-d8978009916f"
      },
      "execution_count": 298,
      "outputs": [
        {
          "output_type": "execute_result",
          "data": {
            "text/plain": [
              "                Term    BorrowerAPR   BorrowerRate    LenderYield  \\\n",
              "count  113937.000000  113937.000000  113937.000000  113937.000000   \n",
              "mean       40.830248       0.218828       0.192764       0.182701   \n",
              "std        10.436212       0.080355       0.074818       0.074516   \n",
              "min        12.000000       0.006530       0.000000      -0.010000   \n",
              "25%        36.000000       0.156290       0.134000       0.124200   \n",
              "50%        36.000000       0.209790       0.184000       0.173000   \n",
              "75%        36.000000       0.283700       0.250000       0.240000   \n",
              "max        60.000000       0.512290       0.497500       0.492500   \n",
              "\n",
              "       EstimatedEffectiveYield  EstimatedLoss  EstimatedReturn  \\\n",
              "count            113937.000000  113937.000000    113937.000000   \n",
              "mean                  0.168661       0.080306         0.096068   \n",
              "std                   0.059086       0.040356         0.026237   \n",
              "min                  -0.182700       0.004900        -0.182700   \n",
              "25%                   0.132600       0.054900         0.080220   \n",
              "50%                   0.168661       0.080306         0.096068   \n",
              "75%                   0.195200       0.097500         0.108700   \n",
              "max                   0.319900       0.366000         0.283700   \n",
              "\n",
              "       ListingCategory (numeric)  EmploymentStatusDuration  \\\n",
              "count              113937.000000             113937.000000   \n",
              "mean                    2.774209                 96.071582   \n",
              "std                     3.996797                 91.264375   \n",
              "min                     0.000000                  0.000000   \n",
              "25%                     1.000000                 28.000000   \n",
              "50%                     1.000000                 74.000000   \n",
              "75%                     3.000000                130.000000   \n",
              "max                    20.000000                755.000000   \n",
              "\n",
              "       CreditScoreRangeLower  ...  LP_ServiceFees  LP_CollectionFees  \\\n",
              "count          113937.000000  ...   113937.000000      113937.000000   \n",
              "mean              685.567731  ...      -54.725641         -14.242698   \n",
              "std                66.285687  ...       60.675425         109.232758   \n",
              "min                 0.000000  ...     -664.870000       -9274.750000   \n",
              "25%               660.000000  ...      -73.180000           0.000000   \n",
              "50%               680.000000  ...      -34.440000           0.000000   \n",
              "75%               720.000000  ...      -13.920000           0.000000   \n",
              "max               880.000000  ...       32.060000           0.000000   \n",
              "\n",
              "       LP_GrossPrincipalLoss  LP_NetPrincipalLoss  \\\n",
              "count          113937.000000        113937.000000   \n",
              "mean              700.446342           681.420499   \n",
              "std              2388.513831          2357.167068   \n",
              "min               -94.200000          -954.550000   \n",
              "25%                 0.000000             0.000000   \n",
              "50%                 0.000000             0.000000   \n",
              "75%                 0.000000             0.000000   \n",
              "max             25000.000000         25000.000000   \n",
              "\n",
              "       LP_NonPrincipalRecoverypayments  PercentFunded  Recommendations  \\\n",
              "count                    113937.000000  113937.000000    113937.000000   \n",
              "mean                         25.142686       0.998584         0.048027   \n",
              "std                         275.657937       0.017919         0.332353   \n",
              "min                           0.000000       0.700000         0.000000   \n",
              "25%                           0.000000       1.000000         0.000000   \n",
              "50%                           0.000000       1.000000         0.000000   \n",
              "75%                           0.000000       1.000000         0.000000   \n",
              "max                       21117.900000       1.012500        39.000000   \n",
              "\n",
              "       InvestmentFromFriendsCount  InvestmentFromFriendsAmount      Investors  \n",
              "count               113937.000000                113937.000000  113937.000000  \n",
              "mean                     0.023460                    16.550751      80.475228  \n",
              "std                      0.232412                   294.545422     103.239020  \n",
              "min                      0.000000                     0.000000       1.000000  \n",
              "25%                      0.000000                     0.000000       2.000000  \n",
              "50%                      0.000000                     0.000000      44.000000  \n",
              "75%                      0.000000                     0.000000     115.000000  \n",
              "max                     33.000000                 25000.000000    1189.000000  \n",
              "\n",
              "[8 rows x 57 columns]"
            ],
            "text/html": [
              "\n",
              "  <div id=\"df-9a40e438-21f6-425d-9ade-ea94a5eb806a\">\n",
              "    <div class=\"colab-df-container\">\n",
              "      <div>\n",
              "<style scoped>\n",
              "    .dataframe tbody tr th:only-of-type {\n",
              "        vertical-align: middle;\n",
              "    }\n",
              "\n",
              "    .dataframe tbody tr th {\n",
              "        vertical-align: top;\n",
              "    }\n",
              "\n",
              "    .dataframe thead th {\n",
              "        text-align: right;\n",
              "    }\n",
              "</style>\n",
              "<table border=\"1\" class=\"dataframe\">\n",
              "  <thead>\n",
              "    <tr style=\"text-align: right;\">\n",
              "      <th></th>\n",
              "      <th>Term</th>\n",
              "      <th>BorrowerAPR</th>\n",
              "      <th>BorrowerRate</th>\n",
              "      <th>LenderYield</th>\n",
              "      <th>EstimatedEffectiveYield</th>\n",
              "      <th>EstimatedLoss</th>\n",
              "      <th>EstimatedReturn</th>\n",
              "      <th>ListingCategory (numeric)</th>\n",
              "      <th>EmploymentStatusDuration</th>\n",
              "      <th>CreditScoreRangeLower</th>\n",
              "      <th>...</th>\n",
              "      <th>LP_ServiceFees</th>\n",
              "      <th>LP_CollectionFees</th>\n",
              "      <th>LP_GrossPrincipalLoss</th>\n",
              "      <th>LP_NetPrincipalLoss</th>\n",
              "      <th>LP_NonPrincipalRecoverypayments</th>\n",
              "      <th>PercentFunded</th>\n",
              "      <th>Recommendations</th>\n",
              "      <th>InvestmentFromFriendsCount</th>\n",
              "      <th>InvestmentFromFriendsAmount</th>\n",
              "      <th>Investors</th>\n",
              "    </tr>\n",
              "  </thead>\n",
              "  <tbody>\n",
              "    <tr>\n",
              "      <th>count</th>\n",
              "      <td>113937.000000</td>\n",
              "      <td>113937.000000</td>\n",
              "      <td>113937.000000</td>\n",
              "      <td>113937.000000</td>\n",
              "      <td>113937.000000</td>\n",
              "      <td>113937.000000</td>\n",
              "      <td>113937.000000</td>\n",
              "      <td>113937.000000</td>\n",
              "      <td>113937.000000</td>\n",
              "      <td>113937.000000</td>\n",
              "      <td>...</td>\n",
              "      <td>113937.000000</td>\n",
              "      <td>113937.000000</td>\n",
              "      <td>113937.000000</td>\n",
              "      <td>113937.000000</td>\n",
              "      <td>113937.000000</td>\n",
              "      <td>113937.000000</td>\n",
              "      <td>113937.000000</td>\n",
              "      <td>113937.000000</td>\n",
              "      <td>113937.000000</td>\n",
              "      <td>113937.000000</td>\n",
              "    </tr>\n",
              "    <tr>\n",
              "      <th>mean</th>\n",
              "      <td>40.830248</td>\n",
              "      <td>0.218828</td>\n",
              "      <td>0.192764</td>\n",
              "      <td>0.182701</td>\n",
              "      <td>0.168661</td>\n",
              "      <td>0.080306</td>\n",
              "      <td>0.096068</td>\n",
              "      <td>2.774209</td>\n",
              "      <td>96.071582</td>\n",
              "      <td>685.567731</td>\n",
              "      <td>...</td>\n",
              "      <td>-54.725641</td>\n",
              "      <td>-14.242698</td>\n",
              "      <td>700.446342</td>\n",
              "      <td>681.420499</td>\n",
              "      <td>25.142686</td>\n",
              "      <td>0.998584</td>\n",
              "      <td>0.048027</td>\n",
              "      <td>0.023460</td>\n",
              "      <td>16.550751</td>\n",
              "      <td>80.475228</td>\n",
              "    </tr>\n",
              "    <tr>\n",
              "      <th>std</th>\n",
              "      <td>10.436212</td>\n",
              "      <td>0.080355</td>\n",
              "      <td>0.074818</td>\n",
              "      <td>0.074516</td>\n",
              "      <td>0.059086</td>\n",
              "      <td>0.040356</td>\n",
              "      <td>0.026237</td>\n",
              "      <td>3.996797</td>\n",
              "      <td>91.264375</td>\n",
              "      <td>66.285687</td>\n",
              "      <td>...</td>\n",
              "      <td>60.675425</td>\n",
              "      <td>109.232758</td>\n",
              "      <td>2388.513831</td>\n",
              "      <td>2357.167068</td>\n",
              "      <td>275.657937</td>\n",
              "      <td>0.017919</td>\n",
              "      <td>0.332353</td>\n",
              "      <td>0.232412</td>\n",
              "      <td>294.545422</td>\n",
              "      <td>103.239020</td>\n",
              "    </tr>\n",
              "    <tr>\n",
              "      <th>min</th>\n",
              "      <td>12.000000</td>\n",
              "      <td>0.006530</td>\n",
              "      <td>0.000000</td>\n",
              "      <td>-0.010000</td>\n",
              "      <td>-0.182700</td>\n",
              "      <td>0.004900</td>\n",
              "      <td>-0.182700</td>\n",
              "      <td>0.000000</td>\n",
              "      <td>0.000000</td>\n",
              "      <td>0.000000</td>\n",
              "      <td>...</td>\n",
              "      <td>-664.870000</td>\n",
              "      <td>-9274.750000</td>\n",
              "      <td>-94.200000</td>\n",
              "      <td>-954.550000</td>\n",
              "      <td>0.000000</td>\n",
              "      <td>0.700000</td>\n",
              "      <td>0.000000</td>\n",
              "      <td>0.000000</td>\n",
              "      <td>0.000000</td>\n",
              "      <td>1.000000</td>\n",
              "    </tr>\n",
              "    <tr>\n",
              "      <th>25%</th>\n",
              "      <td>36.000000</td>\n",
              "      <td>0.156290</td>\n",
              "      <td>0.134000</td>\n",
              "      <td>0.124200</td>\n",
              "      <td>0.132600</td>\n",
              "      <td>0.054900</td>\n",
              "      <td>0.080220</td>\n",
              "      <td>1.000000</td>\n",
              "      <td>28.000000</td>\n",
              "      <td>660.000000</td>\n",
              "      <td>...</td>\n",
              "      <td>-73.180000</td>\n",
              "      <td>0.000000</td>\n",
              "      <td>0.000000</td>\n",
              "      <td>0.000000</td>\n",
              "      <td>0.000000</td>\n",
              "      <td>1.000000</td>\n",
              "      <td>0.000000</td>\n",
              "      <td>0.000000</td>\n",
              "      <td>0.000000</td>\n",
              "      <td>2.000000</td>\n",
              "    </tr>\n",
              "    <tr>\n",
              "      <th>50%</th>\n",
              "      <td>36.000000</td>\n",
              "      <td>0.209790</td>\n",
              "      <td>0.184000</td>\n",
              "      <td>0.173000</td>\n",
              "      <td>0.168661</td>\n",
              "      <td>0.080306</td>\n",
              "      <td>0.096068</td>\n",
              "      <td>1.000000</td>\n",
              "      <td>74.000000</td>\n",
              "      <td>680.000000</td>\n",
              "      <td>...</td>\n",
              "      <td>-34.440000</td>\n",
              "      <td>0.000000</td>\n",
              "      <td>0.000000</td>\n",
              "      <td>0.000000</td>\n",
              "      <td>0.000000</td>\n",
              "      <td>1.000000</td>\n",
              "      <td>0.000000</td>\n",
              "      <td>0.000000</td>\n",
              "      <td>0.000000</td>\n",
              "      <td>44.000000</td>\n",
              "    </tr>\n",
              "    <tr>\n",
              "      <th>75%</th>\n",
              "      <td>36.000000</td>\n",
              "      <td>0.283700</td>\n",
              "      <td>0.250000</td>\n",
              "      <td>0.240000</td>\n",
              "      <td>0.195200</td>\n",
              "      <td>0.097500</td>\n",
              "      <td>0.108700</td>\n",
              "      <td>3.000000</td>\n",
              "      <td>130.000000</td>\n",
              "      <td>720.000000</td>\n",
              "      <td>...</td>\n",
              "      <td>-13.920000</td>\n",
              "      <td>0.000000</td>\n",
              "      <td>0.000000</td>\n",
              "      <td>0.000000</td>\n",
              "      <td>0.000000</td>\n",
              "      <td>1.000000</td>\n",
              "      <td>0.000000</td>\n",
              "      <td>0.000000</td>\n",
              "      <td>0.000000</td>\n",
              "      <td>115.000000</td>\n",
              "    </tr>\n",
              "    <tr>\n",
              "      <th>max</th>\n",
              "      <td>60.000000</td>\n",
              "      <td>0.512290</td>\n",
              "      <td>0.497500</td>\n",
              "      <td>0.492500</td>\n",
              "      <td>0.319900</td>\n",
              "      <td>0.366000</td>\n",
              "      <td>0.283700</td>\n",
              "      <td>20.000000</td>\n",
              "      <td>755.000000</td>\n",
              "      <td>880.000000</td>\n",
              "      <td>...</td>\n",
              "      <td>32.060000</td>\n",
              "      <td>0.000000</td>\n",
              "      <td>25000.000000</td>\n",
              "      <td>25000.000000</td>\n",
              "      <td>21117.900000</td>\n",
              "      <td>1.012500</td>\n",
              "      <td>39.000000</td>\n",
              "      <td>33.000000</td>\n",
              "      <td>25000.000000</td>\n",
              "      <td>1189.000000</td>\n",
              "    </tr>\n",
              "  </tbody>\n",
              "</table>\n",
              "<p>8 rows × 57 columns</p>\n",
              "</div>\n",
              "      <button class=\"colab-df-convert\" onclick=\"convertToInteractive('df-9a40e438-21f6-425d-9ade-ea94a5eb806a')\"\n",
              "              title=\"Convert this dataframe to an interactive table.\"\n",
              "              style=\"display:none;\">\n",
              "        \n",
              "  <svg xmlns=\"http://www.w3.org/2000/svg\" height=\"24px\"viewBox=\"0 0 24 24\"\n",
              "       width=\"24px\">\n",
              "    <path d=\"M0 0h24v24H0V0z\" fill=\"none\"/>\n",
              "    <path d=\"M18.56 5.44l.94 2.06.94-2.06 2.06-.94-2.06-.94-.94-2.06-.94 2.06-2.06.94zm-11 1L8.5 8.5l.94-2.06 2.06-.94-2.06-.94L8.5 2.5l-.94 2.06-2.06.94zm10 10l.94 2.06.94-2.06 2.06-.94-2.06-.94-.94-2.06-.94 2.06-2.06.94z\"/><path d=\"M17.41 7.96l-1.37-1.37c-.4-.4-.92-.59-1.43-.59-.52 0-1.04.2-1.43.59L10.3 9.45l-7.72 7.72c-.78.78-.78 2.05 0 2.83L4 21.41c.39.39.9.59 1.41.59.51 0 1.02-.2 1.41-.59l7.78-7.78 2.81-2.81c.8-.78.8-2.07 0-2.86zM5.41 20L4 18.59l7.72-7.72 1.47 1.35L5.41 20z\"/>\n",
              "  </svg>\n",
              "      </button>\n",
              "      \n",
              "  <style>\n",
              "    .colab-df-container {\n",
              "      display:flex;\n",
              "      flex-wrap:wrap;\n",
              "      gap: 12px;\n",
              "    }\n",
              "\n",
              "    .colab-df-convert {\n",
              "      background-color: #E8F0FE;\n",
              "      border: none;\n",
              "      border-radius: 50%;\n",
              "      cursor: pointer;\n",
              "      display: none;\n",
              "      fill: #1967D2;\n",
              "      height: 32px;\n",
              "      padding: 0 0 0 0;\n",
              "      width: 32px;\n",
              "    }\n",
              "\n",
              "    .colab-df-convert:hover {\n",
              "      background-color: #E2EBFA;\n",
              "      box-shadow: 0px 1px 2px rgba(60, 64, 67, 0.3), 0px 1px 3px 1px rgba(60, 64, 67, 0.15);\n",
              "      fill: #174EA6;\n",
              "    }\n",
              "\n",
              "    [theme=dark] .colab-df-convert {\n",
              "      background-color: #3B4455;\n",
              "      fill: #D2E3FC;\n",
              "    }\n",
              "\n",
              "    [theme=dark] .colab-df-convert:hover {\n",
              "      background-color: #434B5C;\n",
              "      box-shadow: 0px 1px 3px 1px rgba(0, 0, 0, 0.15);\n",
              "      filter: drop-shadow(0px 1px 2px rgba(0, 0, 0, 0.3));\n",
              "      fill: #FFFFFF;\n",
              "    }\n",
              "  </style>\n",
              "\n",
              "      <script>\n",
              "        const buttonEl =\n",
              "          document.querySelector('#df-9a40e438-21f6-425d-9ade-ea94a5eb806a button.colab-df-convert');\n",
              "        buttonEl.style.display =\n",
              "          google.colab.kernel.accessAllowed ? 'block' : 'none';\n",
              "\n",
              "        async function convertToInteractive(key) {\n",
              "          const element = document.querySelector('#df-9a40e438-21f6-425d-9ade-ea94a5eb806a');\n",
              "          const dataTable =\n",
              "            await google.colab.kernel.invokeFunction('convertToInteractive',\n",
              "                                                     [key], {});\n",
              "          if (!dataTable) return;\n",
              "\n",
              "          const docLinkHtml = 'Like what you see? Visit the ' +\n",
              "            '<a target=\"_blank\" href=https://colab.research.google.com/notebooks/data_table.ipynb>data table notebook</a>'\n",
              "            + ' to learn more about interactive tables.';\n",
              "          element.innerHTML = '';\n",
              "          dataTable['output_type'] = 'display_data';\n",
              "          await google.colab.output.renderOutput(dataTable, element);\n",
              "          const docLink = document.createElement('div');\n",
              "          docLink.innerHTML = docLinkHtml;\n",
              "          element.appendChild(docLink);\n",
              "        }\n",
              "      </script>\n",
              "    </div>\n",
              "  </div>\n",
              "  "
            ]
          },
          "metadata": {},
          "execution_count": 298
        }
      ]
    },
    {
      "cell_type": "markdown",
      "source": [
        "remove outlier in EmploymentStatusDuration "
      ],
      "metadata": {
        "id": "Ca5juNDh-wiB"
      }
    },
    {
      "cell_type": "code",
      "source": [
        "temp_list = data['EmploymentStatusDuration']"
      ],
      "metadata": {
        "id": "ifuHSebA0ZJ7"
      },
      "execution_count": 299,
      "outputs": []
    },
    {
      "cell_type": "code",
      "source": [
        "from numpy import percentile\n",
        "\n",
        "q25, q75 = percentile(data['EmploymentStatusDuration'], 25), percentile(data['EmploymentStatusDuration'], 75)\n",
        "iqr = (q75 - q25) * 1.5 "
      ],
      "metadata": {
        "id": "hN3QVFraAVqc"
      },
      "execution_count": 300,
      "outputs": []
    },
    {
      "cell_type": "code",
      "source": [
        "for i in range(len(temp_list)) :\n",
        "  if temp_list[i] > 400 :\n",
        "    temp_list[i] = temp_list.mode()\n"
      ],
      "metadata": {
        "colab": {
          "base_uri": "https://localhost:8080/"
        },
        "id": "u7RIMYST7Rap",
        "outputId": "45177c43-4929-4222-fba1-450a2a932b4f"
      },
      "execution_count": 301,
      "outputs": [
        {
          "output_type": "stream",
          "name": "stderr",
          "text": [
            "/usr/local/lib/python3.7/dist-packages/ipykernel_launcher.py:3: SettingWithCopyWarning: \n",
            "A value is trying to be set on a copy of a slice from a DataFrame\n",
            "\n",
            "See the caveats in the documentation: https://pandas.pydata.org/pandas-docs/stable/user_guide/indexing.html#returning-a-view-versus-a-copy\n",
            "  This is separate from the ipykernel package so we can avoid doing imports until\n"
          ]
        }
      ]
    },
    {
      "cell_type": "code",
      "source": [
        "data['EmploymentStatusDuration'] = temp_list "
      ],
      "metadata": {
        "id": "pQnqMpSo8eFA"
      },
      "execution_count": 302,
      "outputs": []
    },
    {
      "cell_type": "code",
      "source": [
        "sns.distplot(x=data['EmploymentStatusDuration'])"
      ],
      "metadata": {
        "colab": {
          "base_uri": "https://localhost:8080/",
          "height": 337
        },
        "id": "6Gp2M84O8jzY",
        "outputId": "a62ac48a-5b3a-4639-d474-483b1be7b3b7"
      },
      "execution_count": 303,
      "outputs": [
        {
          "output_type": "stream",
          "name": "stderr",
          "text": [
            "/usr/local/lib/python3.7/dist-packages/seaborn/distributions.py:2619: FutureWarning: `distplot` is a deprecated function and will be removed in a future version. Please adapt your code to use either `displot` (a figure-level function with similar flexibility) or `histplot` (an axes-level function for histograms).\n",
            "  warnings.warn(msg, FutureWarning)\n"
          ]
        },
        {
          "output_type": "execute_result",
          "data": {
            "text/plain": [
              "<matplotlib.axes._subplots.AxesSubplot at 0x7f5ffe476190>"
            ]
          },
          "metadata": {},
          "execution_count": 303
        },
        {
          "output_type": "display_data",
          "data": {
            "text/plain": [
              "<Figure size 432x288 with 1 Axes>"
            ],
            "image/png": "[encoded data removed]"
          },
          "metadata": {
            "needs_background": "light"
          }
        }
      ]
    },
    {
      "cell_type": "code",
      "source": [
        "#####################################################################"
      ],
      "metadata": {
        "id": "vbo2BvUK8tzg"
      },
      "execution_count": 304,
      "outputs": []
    },
    {
      "cell_type": "markdown",
      "source": [
        "### encode "
      ],
      "metadata": {
        "id": "uCWp6gTOH4YF"
      }
    },
    {
      "cell_type": "code",
      "source": [
        "print(data['FirstRecordedCreditLine'].nunique())\n",
        "print(data['MemberKey'].nunique())\n"
      ],
      "metadata": {
        "colab": {
          "base_uri": "https://localhost:8080/"
        },
        "id": "uaPlv9OlOdfY",
        "outputId": "8a2622c8-838b-4c29-895b-921cf265ca0a"
      },
      "execution_count": 305,
      "outputs": [
        {
          "output_type": "stream",
          "name": "stdout",
          "text": [
            "11586\n",
            "90831\n"
          ]
        }
      ]
    },
    {
      "cell_type": "code",
      "source": [
        "data.drop('FirstRecordedCreditLine',axis=1, inplace= True)\n",
        "data.drop('MemberKey',axis=1, inplace= True)\n",
        "data.drop('LoanOriginationDate',axis=1, inplace= True)"
      ],
      "metadata": {
        "id": "5Uuh_6uJOo2v"
      },
      "execution_count": 306,
      "outputs": []
    },
    {
      "cell_type": "code",
      "source": [
        "encode_columns = []\n",
        "for i in data.columns:\n",
        "  if (data[i].dtypes == 'object' ) or (data[i].dtypes == 'bool' ):\n",
        "    print(data[i].nunique(),i)\n",
        "    encode_columns.append(i)"
      ],
      "metadata": {
        "colab": {
          "base_uri": "https://localhost:8080/"
        },
        "id": "cpM9CAi7EaTO",
        "outputId": "422e2681-6059-49a7-fef6-4133c04553af"
      },
      "execution_count": 307,
      "outputs": [
        {
          "output_type": "stream",
          "name": "stdout",
          "text": [
            "12 LoanStatus\n",
            "52 BorrowerState\n",
            "68 Occupation\n",
            "9 EmploymentStatus\n",
            "2 IsBorrowerHomeowner\n",
            "2 CurrentlyInGroup\n",
            "8 IncomeRange\n",
            "2 IncomeVerifiable\n",
            "33 LoanOriginationQuarter\n",
            "8 Grade\n"
          ]
        }
      ]
    },
    {
      "cell_type": "code",
      "source": [
        "print(encode_columns)"
      ],
      "metadata": {
        "colab": {
          "base_uri": "https://localhost:8080/"
        },
        "id": "D-tCopTZIvsk",
        "outputId": "9025413d-ebfe-4d85-dec9-6ba2fca90a95"
      },
      "execution_count": 308,
      "outputs": [
        {
          "output_type": "stream",
          "name": "stdout",
          "text": [
            "['LoanStatus', 'BorrowerState', 'Occupation', 'EmploymentStatus', 'IsBorrowerHomeowner', 'CurrentlyInGroup', 'IncomeRange', 'IncomeVerifiable', 'LoanOriginationQuarter', 'Grade']\n"
          ]
        }
      ]
    },
    {
      "cell_type": "markdown",
      "source": [
        "import one hor encoder"
      ],
      "metadata": {
        "id": "j6tXwejQMeiy"
      }
    },
    {
      "cell_type": "markdown",
      "source": [
        "make manuly colab crach "
      ],
      "metadata": {
        "id": "WoCpeqX1MTei"
      }
    },
    {
      "cell_type": "code",
      "source": [
        "\n",
        "from sklearn.preprocessing import OneHotEncoder\n",
        "# creating one hot encoder object \n",
        "onehotencoder = OneHotEncoder()\n",
        "for j in range(len(encode_columns)):\n",
        "  #reshape the 1-D country array to 2-D as fit_transform expects 2-D and finally fit the object \n",
        "  X = onehotencoder.fit_transform(data[encode_columns[j]].values.reshape(-1,1)).toarray()\n",
        "  #To add this back into the original dataframe \n",
        "  dfOneHot = pd.DataFrame(X, columns = [encode_columns[j]+str(int(i)) for i in range(data[encode_columns[j]].nunique())]) \n",
        "  data = pd.concat([data, dfOneHot], axis=1)\n",
        "  #droping the country column \n",
        "  data= data.drop([encode_columns[j]], axis=1) \n",
        "  #printing to verify \n",
        "  print(data.head())\n"
      ],
      "metadata": {
        "colab": {
          "base_uri": "https://localhost:8080/"
        },
        "id": "FfpS1-P9JRwI",
        "outputId": "f0787919-fcf6-4800-b727-52d23e0eace0"
      },
      "execution_count": 309,
      "outputs": [
        {
          "output_type": "stream",
          "name": "stdout",
          "text": [
            "   Term  BorrowerAPR  BorrowerRate  LenderYield  EstimatedEffectiveYield  \\\n",
            "0    36      0.16516        0.1580       0.1380                 0.168661   \n",
            "1    36      0.12016        0.0920       0.0820                 0.079600   \n",
            "2    36      0.28269        0.2750       0.2400                 0.168661   \n",
            "3    36      0.12528        0.0974       0.0874                 0.084900   \n",
            "4    36      0.24614        0.2085       0.1985                 0.183160   \n",
            "\n",
            "   EstimatedLoss  EstimatedReturn  ListingCategory (numeric) BorrowerState  \\\n",
            "0       0.080306         0.096068                          0            CO   \n",
            "1       0.024900         0.054700                          2            CO   \n",
            "2       0.080306         0.096068                          0            GA   \n",
            "3       0.024900         0.060000                         16            GA   \n",
            "4       0.092500         0.090660                          2            MN   \n",
            "\n",
            "      Occupation  ... LoanStatus2  LoanStatus3  LoanStatus4  LoanStatus5  \\\n",
            "0          Other  ...         1.0          0.0          0.0          0.0   \n",
            "1   Professional  ...         0.0          1.0          0.0          0.0   \n",
            "2          Other  ...         1.0          0.0          0.0          0.0   \n",
            "3  Skilled Labor  ...         0.0          1.0          0.0          0.0   \n",
            "4      Executive  ...         0.0          1.0          0.0          0.0   \n",
            "\n",
            "   LoanStatus6  LoanStatus7  LoanStatus8  LoanStatus9  LoanStatus10  \\\n",
            "0          0.0          0.0          0.0          0.0           0.0   \n",
            "1          0.0          0.0          0.0          0.0           0.0   \n",
            "2          0.0          0.0          0.0          0.0           0.0   \n",
            "3          0.0          0.0          0.0          0.0           0.0   \n",
            "4          0.0          0.0          0.0          0.0           0.0   \n",
            "\n",
            "   LoanStatus11  \n",
            "0           0.0  \n",
            "1           0.0  \n",
            "2           0.0  \n",
            "3           0.0  \n",
            "4           0.0  \n",
            "\n",
            "[5 rows x 78 columns]\n",
            "   Term  BorrowerAPR  BorrowerRate  LenderYield  EstimatedEffectiveYield  \\\n",
            "0    36      0.16516        0.1580       0.1380                 0.168661   \n",
            "1    36      0.12016        0.0920       0.0820                 0.079600   \n",
            "2    36      0.28269        0.2750       0.2400                 0.168661   \n",
            "3    36      0.12528        0.0974       0.0874                 0.084900   \n",
            "4    36      0.24614        0.2085       0.1985                 0.183160   \n",
            "\n",
            "   EstimatedLoss  EstimatedReturn  ListingCategory (numeric)     Occupation  \\\n",
            "0       0.080306         0.096068                          0          Other   \n",
            "1       0.024900         0.054700                          2   Professional   \n",
            "2       0.080306         0.096068                          0          Other   \n",
            "3       0.024900         0.060000                         16  Skilled Labor   \n",
            "4       0.092500         0.090660                          2      Executive   \n",
            "\n",
            "  EmploymentStatus  ...  BorrowerState42  BorrowerState43  BorrowerState44  \\\n",
            "0    Self-employed  ...              0.0              0.0              0.0   \n",
            "1         Employed  ...              0.0              0.0              0.0   \n",
            "2    Not available  ...              0.0              0.0              0.0   \n",
            "3         Employed  ...              0.0              0.0              0.0   \n",
            "4         Employed  ...              0.0              0.0              0.0   \n",
            "\n",
            "   BorrowerState45  BorrowerState46  BorrowerState47  BorrowerState48  \\\n",
            "0              0.0              0.0              0.0              0.0   \n",
            "1              0.0              0.0              0.0              0.0   \n",
            "2              0.0              0.0              0.0              0.0   \n",
            "3              0.0              0.0              0.0              0.0   \n",
            "4              0.0              0.0              0.0              0.0   \n",
            "\n",
            "   BorrowerState49  BorrowerState50  BorrowerState51  \n",
            "0              0.0              0.0              0.0  \n",
            "1              0.0              0.0              0.0  \n",
            "2              0.0              0.0              0.0  \n",
            "3              0.0              0.0              0.0  \n",
            "4              0.0              0.0              0.0  \n",
            "\n",
            "[5 rows x 129 columns]\n",
            "   Term  BorrowerAPR  BorrowerRate  LenderYield  EstimatedEffectiveYield  \\\n",
            "0    36      0.16516        0.1580       0.1380                 0.168661   \n",
            "1    36      0.12016        0.0920       0.0820                 0.079600   \n",
            "2    36      0.28269        0.2750       0.2400                 0.168661   \n",
            "3    36      0.12528        0.0974       0.0874                 0.084900   \n",
            "4    36      0.24614        0.2085       0.1985                 0.183160   \n",
            "\n",
            "   EstimatedLoss  EstimatedReturn  ListingCategory (numeric) EmploymentStatus  \\\n",
            "0       0.080306         0.096068                          0    Self-employed   \n",
            "1       0.024900         0.054700                          2         Employed   \n",
            "2       0.080306         0.096068                          0    Not available   \n",
            "3       0.024900         0.060000                         16         Employed   \n",
            "4       0.092500         0.090660                          2         Employed   \n",
            "\n",
            "   EmploymentStatusDuration  ...  Occupation58  Occupation59  Occupation60  \\\n",
            "0                  2.000000  ...           0.0           0.0           0.0   \n",
            "1                 44.000000  ...           0.0           0.0           0.0   \n",
            "2                 96.071582  ...           0.0           0.0           0.0   \n",
            "3                113.000000  ...           0.0           0.0           0.0   \n",
            "4                 44.000000  ...           0.0           0.0           0.0   \n",
            "\n",
            "   Occupation61  Occupation62  Occupation63  Occupation64  Occupation65  \\\n",
            "0           0.0           0.0           0.0           0.0           0.0   \n",
            "1           0.0           0.0           0.0           0.0           0.0   \n",
            "2           0.0           0.0           0.0           0.0           0.0   \n",
            "3           0.0           0.0           0.0           0.0           0.0   \n",
            "4           0.0           0.0           0.0           0.0           0.0   \n",
            "\n",
            "   Occupation66  Occupation67  \n",
            "0           0.0           0.0  \n",
            "1           0.0           0.0  \n",
            "2           0.0           0.0  \n",
            "3           0.0           0.0  \n",
            "4           0.0           0.0  \n",
            "\n",
            "[5 rows x 196 columns]\n",
            "   Term  BorrowerAPR  BorrowerRate  LenderYield  EstimatedEffectiveYield  \\\n",
            "0    36      0.16516        0.1580       0.1380                 0.168661   \n",
            "1    36      0.12016        0.0920       0.0820                 0.079600   \n",
            "2    36      0.28269        0.2750       0.2400                 0.168661   \n",
            "3    36      0.12528        0.0974       0.0874                 0.084900   \n",
            "4    36      0.24614        0.2085       0.1985                 0.183160   \n",
            "\n",
            "   EstimatedLoss  EstimatedReturn  ListingCategory (numeric)  \\\n",
            "0       0.080306         0.096068                          0   \n",
            "1       0.024900         0.054700                          2   \n",
            "2       0.080306         0.096068                          0   \n",
            "3       0.024900         0.060000                         16   \n",
            "4       0.092500         0.090660                          2   \n",
            "\n",
            "   EmploymentStatusDuration  IsBorrowerHomeowner  ...  Occupation67  \\\n",
            "0                  2.000000                 True  ...           0.0   \n",
            "1                 44.000000                False  ...           0.0   \n",
            "2                 96.071582                False  ...           0.0   \n",
            "3                113.000000                 True  ...           0.0   \n",
            "4                 44.000000                 True  ...           0.0   \n",
            "\n",
            "   EmploymentStatus0  EmploymentStatus1  EmploymentStatus2  EmploymentStatus3  \\\n",
            "0                0.0                0.0                0.0                0.0   \n",
            "1                0.0                1.0                0.0                0.0   \n",
            "2                0.0                0.0                0.0                1.0   \n",
            "3                0.0                1.0                0.0                0.0   \n",
            "4                0.0                1.0                0.0                0.0   \n",
            "\n",
            "   EmploymentStatus4  EmploymentStatus5  EmploymentStatus6  EmploymentStatus7  \\\n",
            "0                0.0                0.0                0.0                0.0   \n",
            "1                0.0                0.0                0.0                0.0   \n",
            "2                0.0                0.0                0.0                0.0   \n",
            "3                0.0                0.0                0.0                0.0   \n",
            "4                0.0                0.0                0.0                0.0   \n",
            "\n",
            "   EmploymentStatus8  \n",
            "0                1.0  \n",
            "1                0.0  \n",
            "2                0.0  \n",
            "3                0.0  \n",
            "4                0.0  \n",
            "\n",
            "[5 rows x 204 columns]\n",
            "   Term  BorrowerAPR  BorrowerRate  LenderYield  EstimatedEffectiveYield  \\\n",
            "0    36      0.16516        0.1580       0.1380                 0.168661   \n",
            "1    36      0.12016        0.0920       0.0820                 0.079600   \n",
            "2    36      0.28269        0.2750       0.2400                 0.168661   \n",
            "3    36      0.12528        0.0974       0.0874                 0.084900   \n",
            "4    36      0.24614        0.2085       0.1985                 0.183160   \n",
            "\n",
            "   EstimatedLoss  EstimatedReturn  ListingCategory (numeric)  \\\n",
            "0       0.080306         0.096068                          0   \n",
            "1       0.024900         0.054700                          2   \n",
            "2       0.080306         0.096068                          0   \n",
            "3       0.024900         0.060000                         16   \n",
            "4       0.092500         0.090660                          2   \n",
            "\n",
            "   EmploymentStatusDuration  CurrentlyInGroup  ...  EmploymentStatus1  \\\n",
            "0                  2.000000              True  ...                0.0   \n",
            "1                 44.000000             False  ...                1.0   \n",
            "2                 96.071582              True  ...                0.0   \n",
            "3                113.000000             False  ...                1.0   \n",
            "4                 44.000000             False  ...                1.0   \n",
            "\n",
            "   EmploymentStatus2  EmploymentStatus3  EmploymentStatus4  EmploymentStatus5  \\\n",
            "0                0.0                0.0                0.0                0.0   \n",
            "1                0.0                0.0                0.0                0.0   \n",
            "2                0.0                1.0                0.0                0.0   \n",
            "3                0.0                0.0                0.0                0.0   \n",
            "4                0.0                0.0                0.0                0.0   \n",
            "\n",
            "   EmploymentStatus6  EmploymentStatus7  EmploymentStatus8  \\\n",
            "0                0.0                0.0                1.0   \n",
            "1                0.0                0.0                0.0   \n",
            "2                0.0                0.0                0.0   \n",
            "3                0.0                0.0                0.0   \n",
            "4                0.0                0.0                0.0   \n",
            "\n",
            "   IsBorrowerHomeowner0  IsBorrowerHomeowner1  \n",
            "0                   0.0                   1.0  \n",
            "1                   1.0                   0.0  \n",
            "2                   1.0                   0.0  \n",
            "3                   0.0                   1.0  \n",
            "4                   0.0                   1.0  \n",
            "\n",
            "[5 rows x 205 columns]\n",
            "   Term  BorrowerAPR  BorrowerRate  LenderYield  EstimatedEffectiveYield  \\\n",
            "0    36      0.16516        0.1580       0.1380                 0.168661   \n",
            "1    36      0.12016        0.0920       0.0820                 0.079600   \n",
            "2    36      0.28269        0.2750       0.2400                 0.168661   \n",
            "3    36      0.12528        0.0974       0.0874                 0.084900   \n",
            "4    36      0.24614        0.2085       0.1985                 0.183160   \n",
            "\n",
            "   EstimatedLoss  EstimatedReturn  ListingCategory (numeric)  \\\n",
            "0       0.080306         0.096068                          0   \n",
            "1       0.024900         0.054700                          2   \n",
            "2       0.080306         0.096068                          0   \n",
            "3       0.024900         0.060000                         16   \n",
            "4       0.092500         0.090660                          2   \n",
            "\n",
            "   EmploymentStatusDuration  CreditScoreRangeLower  ...  EmploymentStatus3  \\\n",
            "0                  2.000000                  640.0  ...                0.0   \n",
            "1                 44.000000                  680.0  ...                0.0   \n",
            "2                 96.071582                  480.0  ...                1.0   \n",
            "3                113.000000                  800.0  ...                0.0   \n",
            "4                 44.000000                  680.0  ...                0.0   \n",
            "\n",
            "   EmploymentStatus4  EmploymentStatus5  EmploymentStatus6  EmploymentStatus7  \\\n",
            "0                0.0                0.0                0.0                0.0   \n",
            "1                0.0                0.0                0.0                0.0   \n",
            "2                0.0                0.0                0.0                0.0   \n",
            "3                0.0                0.0                0.0                0.0   \n",
            "4                0.0                0.0                0.0                0.0   \n",
            "\n",
            "   EmploymentStatus8  IsBorrowerHomeowner0  IsBorrowerHomeowner1  \\\n",
            "0                1.0                   0.0                   1.0   \n",
            "1                0.0                   1.0                   0.0   \n",
            "2                0.0                   1.0                   0.0   \n",
            "3                0.0                   0.0                   1.0   \n",
            "4                0.0                   0.0                   1.0   \n",
            "\n",
            "   CurrentlyInGroup0  CurrentlyInGroup1  \n",
            "0                0.0                1.0  \n",
            "1                1.0                0.0  \n",
            "2                0.0                1.0  \n",
            "3                1.0                0.0  \n",
            "4                1.0                0.0  \n",
            "\n",
            "[5 rows x 206 columns]\n",
            "   Term  BorrowerAPR  BorrowerRate  LenderYield  EstimatedEffectiveYield  \\\n",
            "0    36      0.16516        0.1580       0.1380                 0.168661   \n",
            "1    36      0.12016        0.0920       0.0820                 0.079600   \n",
            "2    36      0.28269        0.2750       0.2400                 0.168661   \n",
            "3    36      0.12528        0.0974       0.0874                 0.084900   \n",
            "4    36      0.24614        0.2085       0.1985                 0.183160   \n",
            "\n",
            "   EstimatedLoss  EstimatedReturn  ListingCategory (numeric)  \\\n",
            "0       0.080306         0.096068                          0   \n",
            "1       0.024900         0.054700                          2   \n",
            "2       0.080306         0.096068                          0   \n",
            "3       0.024900         0.060000                         16   \n",
            "4       0.092500         0.090660                          2   \n",
            "\n",
            "   EmploymentStatusDuration  CreditScoreRangeLower  ...  CurrentlyInGroup0  \\\n",
            "0                  2.000000                  640.0  ...                0.0   \n",
            "1                 44.000000                  680.0  ...                1.0   \n",
            "2                 96.071582                  480.0  ...                0.0   \n",
            "3                113.000000                  800.0  ...                1.0   \n",
            "4                 44.000000                  680.0  ...                1.0   \n",
            "\n",
            "   CurrentlyInGroup1  IncomeRange0  IncomeRange1  IncomeRange2  IncomeRange3  \\\n",
            "0                1.0           0.0           0.0           0.0           1.0   \n",
            "1                0.0           0.0           0.0           0.0           0.0   \n",
            "2                1.0           0.0           0.0           0.0           0.0   \n",
            "3                0.0           0.0           0.0           0.0           1.0   \n",
            "4                0.0           0.0           0.0           1.0           0.0   \n",
            "\n",
            "   IncomeRange4  IncomeRange5  IncomeRange6  IncomeRange7  \n",
            "0           0.0           0.0           0.0           0.0  \n",
            "1           1.0           0.0           0.0           0.0  \n",
            "2           0.0           0.0           1.0           0.0  \n",
            "3           0.0           0.0           0.0           0.0  \n",
            "4           0.0           0.0           0.0           0.0  \n",
            "\n",
            "[5 rows x 213 columns]\n",
            "   Term  BorrowerAPR  BorrowerRate  LenderYield  EstimatedEffectiveYield  \\\n",
            "0    36      0.16516        0.1580       0.1380                 0.168661   \n",
            "1    36      0.12016        0.0920       0.0820                 0.079600   \n",
            "2    36      0.28269        0.2750       0.2400                 0.168661   \n",
            "3    36      0.12528        0.0974       0.0874                 0.084900   \n",
            "4    36      0.24614        0.2085       0.1985                 0.183160   \n",
            "\n",
            "   EstimatedLoss  EstimatedReturn  ListingCategory (numeric)  \\\n",
            "0       0.080306         0.096068                          0   \n",
            "1       0.024900         0.054700                          2   \n",
            "2       0.080306         0.096068                          0   \n",
            "3       0.024900         0.060000                         16   \n",
            "4       0.092500         0.090660                          2   \n",
            "\n",
            "   EmploymentStatusDuration  CreditScoreRangeLower  ...  IncomeRange0  \\\n",
            "0                  2.000000                  640.0  ...           0.0   \n",
            "1                 44.000000                  680.0  ...           0.0   \n",
            "2                 96.071582                  480.0  ...           0.0   \n",
            "3                113.000000                  800.0  ...           0.0   \n",
            "4                 44.000000                  680.0  ...           0.0   \n",
            "\n",
            "   IncomeRange1  IncomeRange2  IncomeRange3  IncomeRange4  IncomeRange5  \\\n",
            "0           0.0           0.0           1.0           0.0           0.0   \n",
            "1           0.0           0.0           0.0           1.0           0.0   \n",
            "2           0.0           0.0           0.0           0.0           0.0   \n",
            "3           0.0           0.0           1.0           0.0           0.0   \n",
            "4           0.0           1.0           0.0           0.0           0.0   \n",
            "\n",
            "   IncomeRange6  IncomeRange7  IncomeVerifiable0  IncomeVerifiable1  \n",
            "0           0.0           0.0                0.0                1.0  \n",
            "1           0.0           0.0                0.0                1.0  \n",
            "2           1.0           0.0                0.0                1.0  \n",
            "3           0.0           0.0                0.0                1.0  \n",
            "4           0.0           0.0                0.0                1.0  \n",
            "\n",
            "[5 rows x 214 columns]\n",
            "   Term  BorrowerAPR  BorrowerRate  LenderYield  EstimatedEffectiveYield  \\\n",
            "0    36      0.16516        0.1580       0.1380                 0.168661   \n",
            "1    36      0.12016        0.0920       0.0820                 0.079600   \n",
            "2    36      0.28269        0.2750       0.2400                 0.168661   \n",
            "3    36      0.12528        0.0974       0.0874                 0.084900   \n",
            "4    36      0.24614        0.2085       0.1985                 0.183160   \n",
            "\n",
            "   EstimatedLoss  EstimatedReturn  ListingCategory (numeric)  \\\n",
            "0       0.080306         0.096068                          0   \n",
            "1       0.024900         0.054700                          2   \n",
            "2       0.080306         0.096068                          0   \n",
            "3       0.024900         0.060000                         16   \n",
            "4       0.092500         0.090660                          2   \n",
            "\n",
            "   EmploymentStatusDuration  CreditScoreRangeLower  ...  \\\n",
            "0                  2.000000                  640.0  ...   \n",
            "1                 44.000000                  680.0  ...   \n",
            "2                 96.071582                  480.0  ...   \n",
            "3                113.000000                  800.0  ...   \n",
            "4                 44.000000                  680.0  ...   \n",
            "\n",
            "   LoanOriginationQuarter23  LoanOriginationQuarter24  \\\n",
            "0                       0.0                       0.0   \n",
            "1                       0.0                       0.0   \n",
            "2                       0.0                       0.0   \n",
            "3                       0.0                       0.0   \n",
            "4                       1.0                       0.0   \n",
            "\n",
            "   LoanOriginationQuarter25  LoanOriginationQuarter26  \\\n",
            "0                       0.0                       0.0   \n",
            "1                       0.0                       0.0   \n",
            "2                       0.0                       0.0   \n",
            "3                       0.0                       0.0   \n",
            "4                       0.0                       0.0   \n",
            "\n",
            "   LoanOriginationQuarter27  LoanOriginationQuarter28  \\\n",
            "0                       0.0                       0.0   \n",
            "1                       0.0                       0.0   \n",
            "2                       0.0                       0.0   \n",
            "3                       0.0                       0.0   \n",
            "4                       0.0                       0.0   \n",
            "\n",
            "   LoanOriginationQuarter29  LoanOriginationQuarter30  \\\n",
            "0                       0.0                       0.0   \n",
            "1                       0.0                       0.0   \n",
            "2                       0.0                       0.0   \n",
            "3                       0.0                       0.0   \n",
            "4                       0.0                       0.0   \n",
            "\n",
            "   LoanOriginationQuarter31  LoanOriginationQuarter32  \n",
            "0                       0.0                       0.0  \n",
            "1                       0.0                       0.0  \n",
            "2                       0.0                       0.0  \n",
            "3                       1.0                       0.0  \n",
            "4                       0.0                       0.0  \n",
            "\n",
            "[5 rows x 246 columns]\n",
            "   Term  BorrowerAPR  BorrowerRate  LenderYield  EstimatedEffectiveYield  \\\n",
            "0    36      0.16516        0.1580       0.1380                 0.168661   \n",
            "1    36      0.12016        0.0920       0.0820                 0.079600   \n",
            "2    36      0.28269        0.2750       0.2400                 0.168661   \n",
            "3    36      0.12528        0.0974       0.0874                 0.084900   \n",
            "4    36      0.24614        0.2085       0.1985                 0.183160   \n",
            "\n",
            "   EstimatedLoss  EstimatedReturn  ListingCategory (numeric)  \\\n",
            "0       0.080306         0.096068                          0   \n",
            "1       0.024900         0.054700                          2   \n",
            "2       0.080306         0.096068                          0   \n",
            "3       0.024900         0.060000                         16   \n",
            "4       0.092500         0.090660                          2   \n",
            "\n",
            "   EmploymentStatusDuration  CreditScoreRangeLower  ...  \\\n",
            "0                  2.000000                  640.0  ...   \n",
            "1                 44.000000                  680.0  ...   \n",
            "2                 96.071582                  480.0  ...   \n",
            "3                113.000000                  800.0  ...   \n",
            "4                 44.000000                  680.0  ...   \n",
            "\n",
            "   LoanOriginationQuarter31  LoanOriginationQuarter32  Grade0  Grade1  Grade2  \\\n",
            "0                       0.0                       0.0     0.0     0.0     0.0   \n",
            "1                       0.0                       0.0     0.0     1.0     0.0   \n",
            "2                       0.0                       0.0     0.0     0.0     0.0   \n",
            "3                       1.0                       0.0     0.0     1.0     0.0   \n",
            "4                       0.0                       0.0     0.0     0.0     0.0   \n",
            "\n",
            "   Grade3  Grade4  Grade5  Grade6  Grade7  \n",
            "0     0.0     1.0     0.0     0.0     0.0  \n",
            "1     0.0     0.0     0.0     0.0     0.0  \n",
            "2     0.0     0.0     0.0     0.0     1.0  \n",
            "3     0.0     0.0     0.0     0.0     0.0  \n",
            "4     0.0     0.0     1.0     0.0     0.0  \n",
            "\n",
            "[5 rows x 253 columns]\n"
          ]
        }
      ]
    },
    {
      "cell_type": "markdown",
      "source": [
        "now all data float64 and int64"
      ],
      "metadata": {
        "id": "yh-kfpI4PHma"
      }
    },
    {
      "cell_type": "code",
      "source": [
        "data.info()"
      ],
      "metadata": {
        "colab": {
          "base_uri": "https://localhost:8080/"
        },
        "id": "K5UvEBPGNEoG",
        "outputId": "717addd7-1b90-4187-cc70-031c82874b96"
      },
      "execution_count": 310,
      "outputs": [
        {
          "output_type": "stream",
          "name": "stdout",
          "text": [
            "<class 'pandas.core.frame.DataFrame'>\n",
            "RangeIndex: 113937 entries, 0 to 113936\n",
            "Columns: 253 entries, Term to Grade7\n",
            "dtypes: float64(244), int64(9)\n",
            "memory usage: 219.9 MB\n"
          ]
        }
      ]
    },
    {
      "cell_type": "markdown",
      "source": [
        "# **Feature** **Selection**"
      ],
      "metadata": {
        "id": "BYdtDbmxUHKf"
      }
    },
    {
      "cell_type": "code",
      "source": [
        "data['BorrowerRateTarget'] = data['BorrowerRate']\n",
        "data.drop('BorrowerRate',axis=1, inplace= True)"
      ],
      "metadata": {
        "id": "qadE88JFQt3i"
      },
      "execution_count": 311,
      "outputs": []
    },
    {
      "cell_type": "code",
      "source": [
        "corr=data.corr()"
      ],
      "metadata": {
        "id": "ckze39-TNQ-S"
      },
      "execution_count": 312,
      "outputs": []
    },
    {
      "cell_type": "code",
      "source": [
        "corr #predict borrower rate and whether the loan would be timely paid"
      ],
      "metadata": {
        "colab": {
          "base_uri": "https://localhost:8080/",
          "height": 679
        },
        "id": "HdTQN2RWPYB6",
        "outputId": "c696195f-9c6a-4a70-b601-748769a13934"
      },
      "execution_count": 313,
      "outputs": [
        {
          "output_type": "execute_result",
          "data": {
            "text/plain": [
              "                             Term  BorrowerAPR  LenderYield  \\\n",
              "Term                     1.000000    -0.011183     0.020556   \n",
              "BorrowerAPR             -0.011183     1.000000     0.989095   \n",
              "LenderYield              0.020556     0.989095     1.000000   \n",
              "EstimatedEffectiveYield  0.054910     0.768688     0.773858   \n",
              "EstimatedLoss           -0.103128     0.814951     0.817044   \n",
              "...                           ...          ...          ...   \n",
              "Grade4                   0.138954    -0.002516    -0.013113   \n",
              "Grade5                  -0.001711     0.266028     0.269880   \n",
              "Grade6                  -0.065035     0.433348     0.438026   \n",
              "Grade7                  -0.147022     0.429855     0.438383   \n",
              "BorrowerRateTarget       0.020085     0.989587     0.999211   \n",
              "\n",
              "                         EstimatedEffectiveYield  EstimatedLoss  \\\n",
              "Term                                    0.054910      -0.103128   \n",
              "BorrowerAPR                             0.768688       0.814951   \n",
              "LenderYield                             0.773858       0.817044   \n",
              "EstimatedEffectiveYield                 1.000000       0.798135   \n",
              "EstimatedLoss                           0.798135       1.000000   \n",
              "...                                          ...            ...   \n",
              "Grade4                                  0.012272      -0.040663   \n",
              "Grade5                                  0.249803       0.210034   \n",
              "Grade6                                  0.381972       0.395781   \n",
              "Grade7                                  0.304294       0.486279   \n",
              "BorrowerRateTarget                      0.770676       0.813730   \n",
              "\n",
              "                         EstimatedReturn  ListingCategory (numeric)  \\\n",
              "Term                            0.146794                   0.004947   \n",
              "BorrowerAPR                     0.681695                   0.132449   \n",
              "LenderYield                     0.706711                   0.104395   \n",
              "EstimatedEffectiveYield         0.801568                   0.102219   \n",
              "EstimatedLoss                   0.591056                   0.093319   \n",
              "...                                  ...                        ...   \n",
              "Grade4                          0.030619                  -0.012249   \n",
              "Grade5                          0.287684                   0.017678   \n",
              "Grade6                          0.294153                   0.025252   \n",
              "Grade7                          0.141160                   0.036059   \n",
              "BorrowerRateTarget              0.703866                   0.102913   \n",
              "\n",
              "                         EmploymentStatusDuration  CreditScoreRangeLower  \\\n",
              "Term                                     0.083989               0.126193   \n",
              "BorrowerAPR                             -0.009471              -0.428216   \n",
              "LenderYield                             -0.018001              -0.452718   \n",
              "EstimatedEffectiveYield                 -0.022364              -0.272928   \n",
              "EstimatedLoss                           -0.035999              -0.313479   \n",
              "...                                           ...                    ...   \n",
              "Grade4                                   0.016615              -0.041771   \n",
              "Grade5                                  -0.021255              -0.161791   \n",
              "Grade6                                  -0.012776              -0.258250   \n",
              "Grade7                                  -0.031739              -0.297784   \n",
              "BorrowerRateTarget                      -0.018997              -0.459840   \n",
              "\n",
              "                         CreditScoreRangeUpper  ...  LoanOriginationQuarter32  \\\n",
              "Term                                  0.126193  ...                  0.122324   \n",
              "BorrowerAPR                          -0.428216  ...                 -0.066812   \n",
              "LenderYield                          -0.452718  ...                 -0.092977   \n",
              "EstimatedEffectiveYield              -0.272928  ...                 -0.098816   \n",
              "EstimatedLoss                        -0.313479  ...                 -0.079904   \n",
              "...                                        ...  ...                       ...   \n",
              "Grade4                               -0.041771  ...                  0.086678   \n",
              "Grade5                               -0.161791  ...                 -0.048447   \n",
              "Grade6                               -0.258250  ...                 -0.014425   \n",
              "Grade7                               -0.297784  ...                 -0.084773   \n",
              "BorrowerRateTarget                   -0.459840  ...                 -0.092922   \n",
              "\n",
              "                               Grade0    Grade1    Grade2    Grade3    Grade4  \\\n",
              "Term                    -2.305480e-02 -0.013695 -0.095495  0.102185  0.138954   \n",
              "BorrowerAPR             -4.294601e-03 -0.432067 -0.442266 -0.224435 -0.002516   \n",
              "LenderYield             -5.699872e-04 -0.446712 -0.407425 -0.238316 -0.013113   \n",
              "EstimatedEffectiveYield  2.119696e-17 -0.419034 -0.304437 -0.196074  0.012272   \n",
              "EstimatedLoss            9.371105e-18 -0.431546 -0.287449 -0.249671 -0.040663   \n",
              "...                               ...       ...       ...       ...       ...   \n",
              "Grade4                  -2.526613e-02 -0.222733 -0.150172 -0.238105  1.000000   \n",
              "Grade5                  -2.217865e-02 -0.195516 -0.131821 -0.209009 -0.234170   \n",
              "Grade6                  -1.761964e-02 -0.155326 -0.104724 -0.166046 -0.186035   \n",
              "Grade7                  -1.553911e-02 -0.136985 -0.092358 -0.146439 -0.164068   \n",
              "BorrowerRateTarget       6.590606e-04 -0.447107 -0.412541 -0.237261 -0.012485   \n",
              "\n",
              "                           Grade5    Grade6    Grade7  BorrowerRateTarget  \n",
              "Term                    -0.001711 -0.065035 -0.147022            0.020085  \n",
              "BorrowerAPR              0.266028  0.433348  0.429855            0.989587  \n",
              "LenderYield              0.269880  0.438026  0.438383            0.999211  \n",
              "EstimatedEffectiveYield  0.249803  0.381972  0.304294            0.770676  \n",
              "EstimatedLoss            0.210034  0.395781  0.486279            0.813730  \n",
              "...                           ...       ...       ...                 ...  \n",
              "Grade4                  -0.234170 -0.186035 -0.164068           -0.012485  \n",
              "Grade5                   1.000000 -0.163301 -0.144019            0.269668  \n",
              "Grade6                  -0.163301  1.000000 -0.114414            0.438699  \n",
              "Grade7                  -0.144019 -0.114414  1.000000            0.440684  \n",
              "BorrowerRateTarget       0.269668  0.438699  0.440684            1.000000  \n",
              "\n",
              "[253 rows x 253 columns]"
            ],
            "text/html": [
              "\n",
              "  <div id=\"df-6e058065-5c4d-4e1f-a0a6-3ef77827028a\">\n",
              "    <div class=\"colab-df-container\">\n",
              "      <div>\n",
              "<style scoped>\n",
              "    .dataframe tbody tr th:only-of-type {\n",
              "        vertical-align: middle;\n",
              "    }\n",
              "\n",
              "    .dataframe tbody tr th {\n",
              "        vertical-align: top;\n",
              "    }\n",
              "\n",
              "    .dataframe thead th {\n",
              "        text-align: right;\n",
              "    }\n",
              "</style>\n",
              "<table border=\"1\" class=\"dataframe\">\n",
              "  <thead>\n",
              "    <tr style=\"text-align: right;\">\n",
              "      <th></th>\n",
              "      <th>Term</th>\n",
              "      <th>BorrowerAPR</th>\n",
              "      <th>LenderYield</th>\n",
              "      <th>EstimatedEffectiveYield</th>\n",
              "      <th>EstimatedLoss</th>\n",
              "      <th>EstimatedReturn</th>\n",
              "      <th>ListingCategory (numeric)</th>\n",
              "      <th>EmploymentStatusDuration</th>\n",
              "      <th>CreditScoreRangeLower</th>\n",
              "      <th>CreditScoreRangeUpper</th>\n",
              "      <th>...</th>\n",
              "      <th>LoanOriginationQuarter32</th>\n",
              "      <th>Grade0</th>\n",
              "      <th>Grade1</th>\n",
              "      <th>Grade2</th>\n",
              "      <th>Grade3</th>\n",
              "      <th>Grade4</th>\n",
              "      <th>Grade5</th>\n",
              "      <th>Grade6</th>\n",
              "      <th>Grade7</th>\n",
              "      <th>BorrowerRateTarget</th>\n",
              "    </tr>\n",
              "  </thead>\n",
              "  <tbody>\n",
              "    <tr>\n",
              "      <th>Term</th>\n",
              "      <td>1.000000</td>\n",
              "      <td>-0.011183</td>\n",
              "      <td>0.020556</td>\n",
              "      <td>0.054910</td>\n",
              "      <td>-0.103128</td>\n",
              "      <td>0.146794</td>\n",
              "      <td>0.004947</td>\n",
              "      <td>0.083989</td>\n",
              "      <td>0.126193</td>\n",
              "      <td>0.126193</td>\n",
              "      <td>...</td>\n",
              "      <td>0.122324</td>\n",
              "      <td>-2.305480e-02</td>\n",
              "      <td>-0.013695</td>\n",
              "      <td>-0.095495</td>\n",
              "      <td>0.102185</td>\n",
              "      <td>0.138954</td>\n",
              "      <td>-0.001711</td>\n",
              "      <td>-0.065035</td>\n",
              "      <td>-0.147022</td>\n",
              "      <td>0.020085</td>\n",
              "    </tr>\n",
              "    <tr>\n",
              "      <th>BorrowerAPR</th>\n",
              "      <td>-0.011183</td>\n",
              "      <td>1.000000</td>\n",
              "      <td>0.989095</td>\n",
              "      <td>0.768688</td>\n",
              "      <td>0.814951</td>\n",
              "      <td>0.681695</td>\n",
              "      <td>0.132449</td>\n",
              "      <td>-0.009471</td>\n",
              "      <td>-0.428216</td>\n",
              "      <td>-0.428216</td>\n",
              "      <td>...</td>\n",
              "      <td>-0.066812</td>\n",
              "      <td>-4.294601e-03</td>\n",
              "      <td>-0.432067</td>\n",
              "      <td>-0.442266</td>\n",
              "      <td>-0.224435</td>\n",
              "      <td>-0.002516</td>\n",
              "      <td>0.266028</td>\n",
              "      <td>0.433348</td>\n",
              "      <td>0.429855</td>\n",
              "      <td>0.989587</td>\n",
              "    </tr>\n",
              "    <tr>\n",
              "      <th>LenderYield</th>\n",
              "      <td>0.020556</td>\n",
              "      <td>0.989095</td>\n",
              "      <td>1.000000</td>\n",
              "      <td>0.773858</td>\n",
              "      <td>0.817044</td>\n",
              "      <td>0.706711</td>\n",
              "      <td>0.104395</td>\n",
              "      <td>-0.018001</td>\n",
              "      <td>-0.452718</td>\n",
              "      <td>-0.452718</td>\n",
              "      <td>...</td>\n",
              "      <td>-0.092977</td>\n",
              "      <td>-5.699872e-04</td>\n",
              "      <td>-0.446712</td>\n",
              "      <td>-0.407425</td>\n",
              "      <td>-0.238316</td>\n",
              "      <td>-0.013113</td>\n",
              "      <td>0.269880</td>\n",
              "      <td>0.438026</td>\n",
              "      <td>0.438383</td>\n",
              "      <td>0.999211</td>\n",
              "    </tr>\n",
              "    <tr>\n",
              "      <th>EstimatedEffectiveYield</th>\n",
              "      <td>0.054910</td>\n",
              "      <td>0.768688</td>\n",
              "      <td>0.773858</td>\n",
              "      <td>1.000000</td>\n",
              "      <td>0.798135</td>\n",
              "      <td>0.801568</td>\n",
              "      <td>0.102219</td>\n",
              "      <td>-0.022364</td>\n",
              "      <td>-0.272928</td>\n",
              "      <td>-0.272928</td>\n",
              "      <td>...</td>\n",
              "      <td>-0.098816</td>\n",
              "      <td>2.119696e-17</td>\n",
              "      <td>-0.419034</td>\n",
              "      <td>-0.304437</td>\n",
              "      <td>-0.196074</td>\n",
              "      <td>0.012272</td>\n",
              "      <td>0.249803</td>\n",
              "      <td>0.381972</td>\n",
              "      <td>0.304294</td>\n",
              "      <td>0.770676</td>\n",
              "    </tr>\n",
              "    <tr>\n",
              "      <th>EstimatedLoss</th>\n",
              "      <td>-0.103128</td>\n",
              "      <td>0.814951</td>\n",
              "      <td>0.817044</td>\n",
              "      <td>0.798135</td>\n",
              "      <td>1.000000</td>\n",
              "      <td>0.591056</td>\n",
              "      <td>0.093319</td>\n",
              "      <td>-0.035999</td>\n",
              "      <td>-0.313479</td>\n",
              "      <td>-0.313479</td>\n",
              "      <td>...</td>\n",
              "      <td>-0.079904</td>\n",
              "      <td>9.371105e-18</td>\n",
              "      <td>-0.431546</td>\n",
              "      <td>-0.287449</td>\n",
              "      <td>-0.249671</td>\n",
              "      <td>-0.040663</td>\n",
              "      <td>0.210034</td>\n",
              "      <td>0.395781</td>\n",
              "      <td>0.486279</td>\n",
              "      <td>0.813730</td>\n",
              "    </tr>\n",
              "    <tr>\n",
              "      <th>...</th>\n",
              "      <td>...</td>\n",
              "      <td>...</td>\n",
              "      <td>...</td>\n",
              "      <td>...</td>\n",
              "      <td>...</td>\n",
              "      <td>...</td>\n",
              "      <td>...</td>\n",
              "      <td>...</td>\n",
              "      <td>...</td>\n",
              "      <td>...</td>\n",
              "      <td>...</td>\n",
              "      <td>...</td>\n",
              "      <td>...</td>\n",
              "      <td>...</td>\n",
              "      <td>...</td>\n",
              "      <td>...</td>\n",
              "      <td>...</td>\n",
              "      <td>...</td>\n",
              "      <td>...</td>\n",
              "      <td>...</td>\n",
              "      <td>...</td>\n",
              "    </tr>\n",
              "    <tr>\n",
              "      <th>Grade4</th>\n",
              "      <td>0.138954</td>\n",
              "      <td>-0.002516</td>\n",
              "      <td>-0.013113</td>\n",
              "      <td>0.012272</td>\n",
              "      <td>-0.040663</td>\n",
              "      <td>0.030619</td>\n",
              "      <td>-0.012249</td>\n",
              "      <td>0.016615</td>\n",
              "      <td>-0.041771</td>\n",
              "      <td>-0.041771</td>\n",
              "      <td>...</td>\n",
              "      <td>0.086678</td>\n",
              "      <td>-2.526613e-02</td>\n",
              "      <td>-0.222733</td>\n",
              "      <td>-0.150172</td>\n",
              "      <td>-0.238105</td>\n",
              "      <td>1.000000</td>\n",
              "      <td>-0.234170</td>\n",
              "      <td>-0.186035</td>\n",
              "      <td>-0.164068</td>\n",
              "      <td>-0.012485</td>\n",
              "    </tr>\n",
              "    <tr>\n",
              "      <th>Grade5</th>\n",
              "      <td>-0.001711</td>\n",
              "      <td>0.266028</td>\n",
              "      <td>0.269880</td>\n",
              "      <td>0.249803</td>\n",
              "      <td>0.210034</td>\n",
              "      <td>0.287684</td>\n",
              "      <td>0.017678</td>\n",
              "      <td>-0.021255</td>\n",
              "      <td>-0.161791</td>\n",
              "      <td>-0.161791</td>\n",
              "      <td>...</td>\n",
              "      <td>-0.048447</td>\n",
              "      <td>-2.217865e-02</td>\n",
              "      <td>-0.195516</td>\n",
              "      <td>-0.131821</td>\n",
              "      <td>-0.209009</td>\n",
              "      <td>-0.234170</td>\n",
              "      <td>1.000000</td>\n",
              "      <td>-0.163301</td>\n",
              "      <td>-0.144019</td>\n",
              "      <td>0.269668</td>\n",
              "    </tr>\n",
              "    <tr>\n",
              "      <th>Grade6</th>\n",
              "      <td>-0.065035</td>\n",
              "      <td>0.433348</td>\n",
              "      <td>0.438026</td>\n",
              "      <td>0.381972</td>\n",
              "      <td>0.395781</td>\n",
              "      <td>0.294153</td>\n",
              "      <td>0.025252</td>\n",
              "      <td>-0.012776</td>\n",
              "      <td>-0.258250</td>\n",
              "      <td>-0.258250</td>\n",
              "      <td>...</td>\n",
              "      <td>-0.014425</td>\n",
              "      <td>-1.761964e-02</td>\n",
              "      <td>-0.155326</td>\n",
              "      <td>-0.104724</td>\n",
              "      <td>-0.166046</td>\n",
              "      <td>-0.186035</td>\n",
              "      <td>-0.163301</td>\n",
              "      <td>1.000000</td>\n",
              "      <td>-0.114414</td>\n",
              "      <td>0.438699</td>\n",
              "    </tr>\n",
              "    <tr>\n",
              "      <th>Grade7</th>\n",
              "      <td>-0.147022</td>\n",
              "      <td>0.429855</td>\n",
              "      <td>0.438383</td>\n",
              "      <td>0.304294</td>\n",
              "      <td>0.486279</td>\n",
              "      <td>0.141160</td>\n",
              "      <td>0.036059</td>\n",
              "      <td>-0.031739</td>\n",
              "      <td>-0.297784</td>\n",
              "      <td>-0.297784</td>\n",
              "      <td>...</td>\n",
              "      <td>-0.084773</td>\n",
              "      <td>-1.553911e-02</td>\n",
              "      <td>-0.136985</td>\n",
              "      <td>-0.092358</td>\n",
              "      <td>-0.146439</td>\n",
              "      <td>-0.164068</td>\n",
              "      <td>-0.144019</td>\n",
              "      <td>-0.114414</td>\n",
              "      <td>1.000000</td>\n",
              "      <td>0.440684</td>\n",
              "    </tr>\n",
              "    <tr>\n",
              "      <th>BorrowerRateTarget</th>\n",
              "      <td>0.020085</td>\n",
              "      <td>0.989587</td>\n",
              "      <td>0.999211</td>\n",
              "      <td>0.770676</td>\n",
              "      <td>0.813730</td>\n",
              "      <td>0.703866</td>\n",
              "      <td>0.102913</td>\n",
              "      <td>-0.018997</td>\n",
              "      <td>-0.459840</td>\n",
              "      <td>-0.459840</td>\n",
              "      <td>...</td>\n",
              "      <td>-0.092922</td>\n",
              "      <td>6.590606e-04</td>\n",
              "      <td>-0.447107</td>\n",
              "      <td>-0.412541</td>\n",
              "      <td>-0.237261</td>\n",
              "      <td>-0.012485</td>\n",
              "      <td>0.269668</td>\n",
              "      <td>0.438699</td>\n",
              "      <td>0.440684</td>\n",
              "      <td>1.000000</td>\n",
              "    </tr>\n",
              "  </tbody>\n",
              "</table>\n",
              "<p>253 rows × 253 columns</p>\n",
              "</div>\n",
              "      <button class=\"colab-df-convert\" onclick=\"convertToInteractive('df-6e058065-5c4d-4e1f-a0a6-3ef77827028a')\"\n",
              "              title=\"Convert this dataframe to an interactive table.\"\n",
              "              style=\"display:none;\">\n",
              "        \n",
              "  <svg xmlns=\"http://www.w3.org/2000/svg\" height=\"24px\"viewBox=\"0 0 24 24\"\n",
              "       width=\"24px\">\n",
              "    <path d=\"M0 0h24v24H0V0z\" fill=\"none\"/>\n",
              "    <path d=\"M18.56 5.44l.94 2.06.94-2.06 2.06-.94-2.06-.94-.94-2.06-.94 2.06-2.06.94zm-11 1L8.5 8.5l.94-2.06 2.06-.94-2.06-.94L8.5 2.5l-.94 2.06-2.06.94zm10 10l.94 2.06.94-2.06 2.06-.94-2.06-.94-.94-2.06-.94 2.06-2.06.94z\"/><path d=\"M17.41 7.96l-1.37-1.37c-.4-.4-.92-.59-1.43-.59-.52 0-1.04.2-1.43.59L10.3 9.45l-7.72 7.72c-.78.78-.78 2.05 0 2.83L4 21.41c.39.39.9.59 1.41.59.51 0 1.02-.2 1.41-.59l7.78-7.78 2.81-2.81c.8-.78.8-2.07 0-2.86zM5.41 20L4 18.59l7.72-7.72 1.47 1.35L5.41 20z\"/>\n",
              "  </svg>\n",
              "      </button>\n",
              "      \n",
              "  <style>\n",
              "    .colab-df-container {\n",
              "      display:flex;\n",
              "      flex-wrap:wrap;\n",
              "      gap: 12px;\n",
              "    }\n",
              "\n",
              "    .colab-df-convert {\n",
              "      background-color: #E8F0FE;\n",
              "      border: none;\n",
              "      border-radius: 50%;\n",
              "      cursor: pointer;\n",
              "      display: none;\n",
              "      fill: #1967D2;\n",
              "      height: 32px;\n",
              "      padding: 0 0 0 0;\n",
              "      width: 32px;\n",
              "    }\n",
              "\n",
              "    .colab-df-convert:hover {\n",
              "      background-color: #E2EBFA;\n",
              "      box-shadow: 0px 1px 2px rgba(60, 64, 67, 0.3), 0px 1px 3px 1px rgba(60, 64, 67, 0.15);\n",
              "      fill: #174EA6;\n",
              "    }\n",
              "\n",
              "    [theme=dark] .colab-df-convert {\n",
              "      background-color: #3B4455;\n",
              "      fill: #D2E3FC;\n",
              "    }\n",
              "\n",
              "    [theme=dark] .colab-df-convert:hover {\n",
              "      background-color: #434B5C;\n",
              "      box-shadow: 0px 1px 3px 1px rgba(0, 0, 0, 0.15);\n",
              "      filter: drop-shadow(0px 1px 2px rgba(0, 0, 0, 0.3));\n",
              "      fill: #FFFFFF;\n",
              "    }\n",
              "  </style>\n",
              "\n",
              "      <script>\n",
              "        const buttonEl =\n",
              "          document.querySelector('#df-6e058065-5c4d-4e1f-a0a6-3ef77827028a button.colab-df-convert');\n",
              "        buttonEl.style.display =\n",
              "          google.colab.kernel.accessAllowed ? 'block' : 'none';\n",
              "\n",
              "        async function convertToInteractive(key) {\n",
              "          const element = document.querySelector('#df-6e058065-5c4d-4e1f-a0a6-3ef77827028a');\n",
              "          const dataTable =\n",
              "            await google.colab.kernel.invokeFunction('convertToInteractive',\n",
              "                                                     [key], {});\n",
              "          if (!dataTable) return;\n",
              "\n",
              "          const docLinkHtml = 'Like what you see? Visit the ' +\n",
              "            '<a target=\"_blank\" href=https://colab.research.google.com/notebooks/data_table.ipynb>data table notebook</a>'\n",
              "            + ' to learn more about interactive tables.';\n",
              "          element.innerHTML = '';\n",
              "          dataTable['output_type'] = 'display_data';\n",
              "          await google.colab.output.renderOutput(dataTable, element);\n",
              "          const docLink = document.createElement('div');\n",
              "          docLink.innerHTML = docLinkHtml;\n",
              "          element.appendChild(docLink);\n",
              "        }\n",
              "      </script>\n",
              "    </div>\n",
              "  </div>\n",
              "  "
            ]
          },
          "metadata": {},
          "execution_count": 313
        }
      ]
    },
    {
      "cell_type": "code",
      "source": [
        "columns=np.full(corr.shape[0],False,dtype=bool)\n",
        "columns"
      ],
      "metadata": {
        "colab": {
          "base_uri": "https://localhost:8080/"
        },
        "id": "n3Q3-rLDQYfh",
        "outputId": "6b357e04-bd5e-40ee-c370-fe4f6ff8088c"
      },
      "execution_count": 314,
      "outputs": [
        {
          "output_type": "execute_result",
          "data": {
            "text/plain": [
              "array([False, False, False, False, False, False, False, False, False,\n",
              "       False, False, False, False, False, False, False, False, False,\n",
              "       False, False, False, False, False, False, False, False, False,\n",
              "       False, False, False, False, False, False, False, False, False,\n",
              "       False, False, False, False, False, False, False, False, False,\n",
              "       False, False, False, False, False, False, False, False, False,\n",
              "       False, False, False, False, False, False, False, False, False,\n",
              "       False, False, False, False, False, False, False, False, False,\n",
              "       False, False, False, False, False, False, False, False, False,\n",
              "       False, False, False, False, False, False, False, False, False,\n",
              "       False, False, False, False, False, False, False, False, False,\n",
              "       False, False, False, False, False, False, False, False, False,\n",
              "       False, False, False, False, False, False, False, False, False,\n",
              "       False, False, False, False, False, False, False, False, False,\n",
              "       False, False, False, False, False, False, False, False, False,\n",
              "       False, False, False, False, False, False, False, False, False,\n",
              "       False, False, False, False, False, False, False, False, False,\n",
              "       False, False, False, False, False, False, False, False, False,\n",
              "       False, False, False, False, False, False, False, False, False,\n",
              "       False, False, False, False, False, False, False, False, False,\n",
              "       False, False, False, False, False, False, False, False, False,\n",
              "       False, False, False, False, False, False, False, False, False,\n",
              "       False, False, False, False, False, False, False, False, False,\n",
              "       False, False, False, False, False, False, False, False, False,\n",
              "       False, False, False, False, False, False, False, False, False,\n",
              "       False, False, False, False, False, False, False, False, False,\n",
              "       False, False, False, False, False, False, False, False, False,\n",
              "       False, False, False, False, False, False, False, False, False,\n",
              "       False])"
            ]
          },
          "metadata": {},
          "execution_count": 314
        }
      ]
    },
    {
      "cell_type": "code",
      "source": [
        "for i in range(0,corr.shape[0]):\n",
        "    \n",
        "    if abs(corr.iloc[-1,i]) > 0.4:\n",
        "        columns[i]=True"
      ],
      "metadata": {
        "id": "lH8DCxM9SnhI"
      },
      "execution_count": 315,
      "outputs": []
    },
    {
      "cell_type": "code",
      "source": [
        "selected_columns=data.columns[columns]"
      ],
      "metadata": {
        "id": "mlNwi8dxSxeR"
      },
      "execution_count": 316,
      "outputs": []
    },
    {
      "cell_type": "code",
      "source": [
        "selected_columns"
      ],
      "metadata": {
        "colab": {
          "base_uri": "https://localhost:8080/"
        },
        "id": "UIjG74JtSzWZ",
        "outputId": "3d5d5ade-b97f-4299-d0d5-d087910dc547"
      },
      "execution_count": 317,
      "outputs": [
        {
          "output_type": "execute_result",
          "data": {
            "text/plain": [
              "Index(['BorrowerAPR', 'LenderYield', 'EstimatedEffectiveYield',\n",
              "       'EstimatedLoss', 'EstimatedReturn', 'CreditScoreRangeLower',\n",
              "       'CreditScoreRangeUpper', 'Grade1', 'Grade2', 'Grade6', 'Grade7',\n",
              "       'BorrowerRateTarget'],\n",
              "      dtype='object')"
            ]
          },
          "metadata": {},
          "execution_count": 317
        }
      ]
    },
    {
      "cell_type": "code",
      "source": [
        "high_features=data[selected_columns]\n",
        "high_features.head()"
      ],
      "metadata": {
        "colab": {
          "base_uri": "https://localhost:8080/",
          "height": 270
        },
        "id": "ylDtAAR7S1Ih",
        "outputId": "52b108d2-4c58-43f2-d484-449c4b478c5b"
      },
      "execution_count": 318,
      "outputs": [
        {
          "output_type": "execute_result",
          "data": {
            "text/plain": [
              "   BorrowerAPR  LenderYield  EstimatedEffectiveYield  EstimatedLoss  \\\n",
              "0      0.16516       0.1380                 0.168661       0.080306   \n",
              "1      0.12016       0.0820                 0.079600       0.024900   \n",
              "2      0.28269       0.2400                 0.168661       0.080306   \n",
              "3      0.12528       0.0874                 0.084900       0.024900   \n",
              "4      0.24614       0.1985                 0.183160       0.092500   \n",
              "\n",
              "   EstimatedReturn  CreditScoreRangeLower  CreditScoreRangeUpper  Grade1  \\\n",
              "0         0.096068                  640.0                  659.0     0.0   \n",
              "1         0.054700                  680.0                  699.0     1.0   \n",
              "2         0.096068                  480.0                  499.0     0.0   \n",
              "3         0.060000                  800.0                  819.0     1.0   \n",
              "4         0.090660                  680.0                  699.0     0.0   \n",
              "\n",
              "   Grade2  Grade6  Grade7  BorrowerRateTarget  \n",
              "0     0.0     0.0     0.0              0.1580  \n",
              "1     0.0     0.0     0.0              0.0920  \n",
              "2     0.0     0.0     1.0              0.2750  \n",
              "3     0.0     0.0     0.0              0.0974  \n",
              "4     0.0     0.0     0.0              0.2085  "
            ],
            "text/html": [
              "\n",
              "  <div id=\"df-bbcbf8b7-8506-4cc0-88f9-f974584a859b\">\n",
              "    <div class=\"colab-df-container\">\n",
              "      <div>\n",
              "<style scoped>\n",
              "    .dataframe tbody tr th:only-of-type {\n",
              "        vertical-align: middle;\n",
              "    }\n",
              "\n",
              "    .dataframe tbody tr th {\n",
              "        vertical-align: top;\n",
              "    }\n",
              "\n",
              "    .dataframe thead th {\n",
              "        text-align: right;\n",
              "    }\n",
              "</style>\n",
              "<table border=\"1\" class=\"dataframe\">\n",
              "  <thead>\n",
              "    <tr style=\"text-align: right;\">\n",
              "      <th></th>\n",
              "      <th>BorrowerAPR</th>\n",
              "      <th>LenderYield</th>\n",
              "      <th>EstimatedEffectiveYield</th>\n",
              "      <th>EstimatedLoss</th>\n",
              "      <th>EstimatedReturn</th>\n",
              "      <th>CreditScoreRangeLower</th>\n",
              "      <th>CreditScoreRangeUpper</th>\n",
              "      <th>Grade1</th>\n",
              "      <th>Grade2</th>\n",
              "      <th>Grade6</th>\n",
              "      <th>Grade7</th>\n",
              "      <th>BorrowerRateTarget</th>\n",
              "    </tr>\n",
              "  </thead>\n",
              "  <tbody>\n",
              "    <tr>\n",
              "      <th>0</th>\n",
              "      <td>0.16516</td>\n",
              "      <td>0.1380</td>\n",
              "      <td>0.168661</td>\n",
              "      <td>0.080306</td>\n",
              "      <td>0.096068</td>\n",
              "      <td>640.0</td>\n",
              "      <td>659.0</td>\n",
              "      <td>0.0</td>\n",
              "      <td>0.0</td>\n",
              "      <td>0.0</td>\n",
              "      <td>0.0</td>\n",
              "      <td>0.1580</td>\n",
              "    </tr>\n",
              "    <tr>\n",
              "      <th>1</th>\n",
              "      <td>0.12016</td>\n",
              "      <td>0.0820</td>\n",
              "      <td>0.079600</td>\n",
              "      <td>0.024900</td>\n",
              "      <td>0.054700</td>\n",
              "      <td>680.0</td>\n",
              "      <td>699.0</td>\n",
              "      <td>1.0</td>\n",
              "      <td>0.0</td>\n",
              "      <td>0.0</td>\n",
              "      <td>0.0</td>\n",
              "      <td>0.0920</td>\n",
              "    </tr>\n",
              "    <tr>\n",
              "      <th>2</th>\n",
              "      <td>0.28269</td>\n",
              "      <td>0.2400</td>\n",
              "      <td>0.168661</td>\n",
              "      <td>0.080306</td>\n",
              "      <td>0.096068</td>\n",
              "      <td>480.0</td>\n",
              "      <td>499.0</td>\n",
              "      <td>0.0</td>\n",
              "      <td>0.0</td>\n",
              "      <td>0.0</td>\n",
              "      <td>1.0</td>\n",
              "      <td>0.2750</td>\n",
              "    </tr>\n",
              "    <tr>\n",
              "      <th>3</th>\n",
              "      <td>0.12528</td>\n",
              "      <td>0.0874</td>\n",
              "      <td>0.084900</td>\n",
              "      <td>0.024900</td>\n",
              "      <td>0.060000</td>\n",
              "      <td>800.0</td>\n",
              "      <td>819.0</td>\n",
              "      <td>1.0</td>\n",
              "      <td>0.0</td>\n",
              "      <td>0.0</td>\n",
              "      <td>0.0</td>\n",
              "      <td>0.0974</td>\n",
              "    </tr>\n",
              "    <tr>\n",
              "      <th>4</th>\n",
              "      <td>0.24614</td>\n",
              "      <td>0.1985</td>\n",
              "      <td>0.183160</td>\n",
              "      <td>0.092500</td>\n",
              "      <td>0.090660</td>\n",
              "      <td>680.0</td>\n",
              "      <td>699.0</td>\n",
              "      <td>0.0</td>\n",
              "      <td>0.0</td>\n",
              "      <td>0.0</td>\n",
              "      <td>0.0</td>\n",
              "      <td>0.2085</td>\n",
              "    </tr>\n",
              "  </tbody>\n",
              "</table>\n",
              "</div>\n",
              "      <button class=\"colab-df-convert\" onclick=\"convertToInteractive('df-bbcbf8b7-8506-4cc0-88f9-f974584a859b')\"\n",
              "              title=\"Convert this dataframe to an interactive table.\"\n",
              "              style=\"display:none;\">\n",
              "        \n",
              "  <svg xmlns=\"http://www.w3.org/2000/svg\" height=\"24px\"viewBox=\"0 0 24 24\"\n",
              "       width=\"24px\">\n",
              "    <path d=\"M0 0h24v24H0V0z\" fill=\"none\"/>\n",
              "    <path d=\"M18.56 5.44l.94 2.06.94-2.06 2.06-.94-2.06-.94-.94-2.06-.94 2.06-2.06.94zm-11 1L8.5 8.5l.94-2.06 2.06-.94-2.06-.94L8.5 2.5l-.94 2.06-2.06.94zm10 10l.94 2.06.94-2.06 2.06-.94-2.06-.94-.94-2.06-.94 2.06-2.06.94z\"/><path d=\"M17.41 7.96l-1.37-1.37c-.4-.4-.92-.59-1.43-.59-.52 0-1.04.2-1.43.59L10.3 9.45l-7.72 7.72c-.78.78-.78 2.05 0 2.83L4 21.41c.39.39.9.59 1.41.59.51 0 1.02-.2 1.41-.59l7.78-7.78 2.81-2.81c.8-.78.8-2.07 0-2.86zM5.41 20L4 18.59l7.72-7.72 1.47 1.35L5.41 20z\"/>\n",
              "  </svg>\n",
              "      </button>\n",
              "      \n",
              "  <style>\n",
              "    .colab-df-container {\n",
              "      display:flex;\n",
              "      flex-wrap:wrap;\n",
              "      gap: 12px;\n",
              "    }\n",
              "\n",
              "    .colab-df-convert {\n",
              "      background-color: #E8F0FE;\n",
              "      border: none;\n",
              "      border-radius: 50%;\n",
              "      cursor: pointer;\n",
              "      display: none;\n",
              "      fill: #1967D2;\n",
              "      height: 32px;\n",
              "      padding: 0 0 0 0;\n",
              "      width: 32px;\n",
              "    }\n",
              "\n",
              "    .colab-df-convert:hover {\n",
              "      background-color: #E2EBFA;\n",
              "      box-shadow: 0px 1px 2px rgba(60, 64, 67, 0.3), 0px 1px 3px 1px rgba(60, 64, 67, 0.15);\n",
              "      fill: #174EA6;\n",
              "    }\n",
              "\n",
              "    [theme=dark] .colab-df-convert {\n",
              "      background-color: #3B4455;\n",
              "      fill: #D2E3FC;\n",
              "    }\n",
              "\n",
              "    [theme=dark] .colab-df-convert:hover {\n",
              "      background-color: #434B5C;\n",
              "      box-shadow: 0px 1px 3px 1px rgba(0, 0, 0, 0.15);\n",
              "      filter: drop-shadow(0px 1px 2px rgba(0, 0, 0, 0.3));\n",
              "      fill: #FFFFFF;\n",
              "    }\n",
              "  </style>\n",
              "\n",
              "      <script>\n",
              "        const buttonEl =\n",
              "          document.querySelector('#df-bbcbf8b7-8506-4cc0-88f9-f974584a859b button.colab-df-convert');\n",
              "        buttonEl.style.display =\n",
              "          google.colab.kernel.accessAllowed ? 'block' : 'none';\n",
              "\n",
              "        async function convertToInteractive(key) {\n",
              "          const element = document.querySelector('#df-bbcbf8b7-8506-4cc0-88f9-f974584a859b');\n",
              "          const dataTable =\n",
              "            await google.colab.kernel.invokeFunction('convertToInteractive',\n",
              "                                                     [key], {});\n",
              "          if (!dataTable) return;\n",
              "\n",
              "          const docLinkHtml = 'Like what you see? Visit the ' +\n",
              "            '<a target=\"_blank\" href=https://colab.research.google.com/notebooks/data_table.ipynb>data table notebook</a>'\n",
              "            + ' to learn more about interactive tables.';\n",
              "          element.innerHTML = '';\n",
              "          dataTable['output_type'] = 'display_data';\n",
              "          await google.colab.output.renderOutput(dataTable, element);\n",
              "          const docLink = document.createElement('div');\n",
              "          docLink.innerHTML = docLinkHtml;\n",
              "          element.appendChild(docLink);\n",
              "        }\n",
              "      </script>\n",
              "    </div>\n",
              "  </div>\n",
              "  "
            ]
          },
          "metadata": {},
          "execution_count": 318
        }
      ]
    },
    {
      "cell_type": "code",
      "source": [
        "data_copy=data.drop(selected_columns,axis=1)"
      ],
      "metadata": {
        "id": "bhQD0XgNT6E4"
      },
      "execution_count": 319,
      "outputs": []
    },
    {
      "cell_type": "code",
      "source": [
        "data_copy.head()"
      ],
      "metadata": {
        "colab": {
          "base_uri": "https://localhost:8080/",
          "height": 317
        },
        "id": "XdBHYRKiT-y4",
        "outputId": "3a60d984-60fb-416b-da98-8eb78dcfac71"
      },
      "execution_count": 320,
      "outputs": [
        {
          "output_type": "execute_result",
          "data": {
            "text/plain": [
              "   Term  ListingCategory (numeric)  EmploymentStatusDuration  \\\n",
              "0    36                          0                  2.000000   \n",
              "1    36                          2                 44.000000   \n",
              "2    36                          0                 96.071582   \n",
              "3    36                         16                113.000000   \n",
              "4    36                          2                 44.000000   \n",
              "\n",
              "   CurrentCreditLines  OpenCreditLines  TotalCreditLinespast7years  \\\n",
              "0                 5.0              4.0                        12.0   \n",
              "1                14.0             14.0                        29.0   \n",
              "2                 8.0              7.0                         3.0   \n",
              "3                 5.0              5.0                        29.0   \n",
              "4                19.0             19.0                        49.0   \n",
              "\n",
              "   OpenRevolvingAccounts  OpenRevolvingMonthlyPayment  InquiriesLast6Months  \\\n",
              "0                      1                         24.0                   3.0   \n",
              "1                     13                        389.0                   3.0   \n",
              "2                      0                          0.0                   0.0   \n",
              "3                      7                        115.0                   0.0   \n",
              "4                      6                        220.0                   1.0   \n",
              "\n",
              "   TotalInquiries  ...  LoanOriginationQuarter27  LoanOriginationQuarter28  \\\n",
              "0             3.0  ...                       0.0                       0.0   \n",
              "1             5.0  ...                       0.0                       0.0   \n",
              "2             1.0  ...                       0.0                       0.0   \n",
              "3             1.0  ...                       0.0                       0.0   \n",
              "4             9.0  ...                       0.0                       0.0   \n",
              "\n",
              "   LoanOriginationQuarter29  LoanOriginationQuarter30  \\\n",
              "0                       0.0                       0.0   \n",
              "1                       0.0                       0.0   \n",
              "2                       0.0                       0.0   \n",
              "3                       0.0                       0.0   \n",
              "4                       0.0                       0.0   \n",
              "\n",
              "   LoanOriginationQuarter31  LoanOriginationQuarter32  Grade0  Grade3  Grade4  \\\n",
              "0                       0.0                       0.0     0.0     0.0     1.0   \n",
              "1                       0.0                       0.0     0.0     0.0     0.0   \n",
              "2                       0.0                       0.0     0.0     0.0     0.0   \n",
              "3                       1.0                       0.0     0.0     0.0     0.0   \n",
              "4                       0.0                       0.0     0.0     0.0     0.0   \n",
              "\n",
              "   Grade5  \n",
              "0     0.0  \n",
              "1     0.0  \n",
              "2     0.0  \n",
              "3     0.0  \n",
              "4     1.0  \n",
              "\n",
              "[5 rows x 241 columns]"
            ],
            "text/html": [
              "\n",
              "  <div id=\"df-4d9bdc96-1d20-47f6-ab3f-f143a48d4ba1\">\n",
              "    <div class=\"colab-df-container\">\n",
              "      <div>\n",
              "<style scoped>\n",
              "    .dataframe tbody tr th:only-of-type {\n",
              "        vertical-align: middle;\n",
              "    }\n",
              "\n",
              "    .dataframe tbody tr th {\n",
              "        vertical-align: top;\n",
              "    }\n",
              "\n",
              "    .dataframe thead th {\n",
              "        text-align: right;\n",
              "    }\n",
              "</style>\n",
              "<table border=\"1\" class=\"dataframe\">\n",
              "  <thead>\n",
              "    <tr style=\"text-align: right;\">\n",
              "      <th></th>\n",
              "      <th>Term</th>\n",
              "      <th>ListingCategory (numeric)</th>\n",
              "      <th>EmploymentStatusDuration</th>\n",
              "      <th>CurrentCreditLines</th>\n",
              "      <th>OpenCreditLines</th>\n",
              "      <th>TotalCreditLinespast7years</th>\n",
              "      <th>OpenRevolvingAccounts</th>\n",
              "      <th>OpenRevolvingMonthlyPayment</th>\n",
              "      <th>InquiriesLast6Months</th>\n",
              "      <th>TotalInquiries</th>\n",
              "      <th>...</th>\n",
              "      <th>LoanOriginationQuarter27</th>\n",
              "      <th>LoanOriginationQuarter28</th>\n",
              "      <th>LoanOriginationQuarter29</th>\n",
              "      <th>LoanOriginationQuarter30</th>\n",
              "      <th>LoanOriginationQuarter31</th>\n",
              "      <th>LoanOriginationQuarter32</th>\n",
              "      <th>Grade0</th>\n",
              "      <th>Grade3</th>\n",
              "      <th>Grade4</th>\n",
              "      <th>Grade5</th>\n",
              "    </tr>\n",
              "  </thead>\n",
              "  <tbody>\n",
              "    <tr>\n",
              "      <th>0</th>\n",
              "      <td>36</td>\n",
              "      <td>0</td>\n",
              "      <td>2.000000</td>\n",
              "      <td>5.0</td>\n",
              "      <td>4.0</td>\n",
              "      <td>12.0</td>\n",
              "      <td>1</td>\n",
              "      <td>24.0</td>\n",
              "      <td>3.0</td>\n",
              "      <td>3.0</td>\n",
              "      <td>...</td>\n",
              "      <td>0.0</td>\n",
              "      <td>0.0</td>\n",
              "      <td>0.0</td>\n",
              "      <td>0.0</td>\n",
              "      <td>0.0</td>\n",
              "      <td>0.0</td>\n",
              "      <td>0.0</td>\n",
              "      <td>0.0</td>\n",
              "      <td>1.0</td>\n",
              "      <td>0.0</td>\n",
              "    </tr>\n",
              "    <tr>\n",
              "      <th>1</th>\n",
              "      <td>36</td>\n",
              "      <td>2</td>\n",
              "      <td>44.000000</td>\n",
              "      <td>14.0</td>\n",
              "      <td>14.0</td>\n",
              "      <td>29.0</td>\n",
              "      <td>13</td>\n",
              "      <td>389.0</td>\n",
              "      <td>3.0</td>\n",
              "      <td>5.0</td>\n",
              "      <td>...</td>\n",
              "      <td>0.0</td>\n",
              "      <td>0.0</td>\n",
              "      <td>0.0</td>\n",
              "      <td>0.0</td>\n",
              "      <td>0.0</td>\n",
              "      <td>0.0</td>\n",
              "      <td>0.0</td>\n",
              "      <td>0.0</td>\n",
              "      <td>0.0</td>\n",
              "      <td>0.0</td>\n",
              "    </tr>\n",
              "    <tr>\n",
              "      <th>2</th>\n",
              "      <td>36</td>\n",
              "      <td>0</td>\n",
              "      <td>96.071582</td>\n",
              "      <td>8.0</td>\n",
              "      <td>7.0</td>\n",
              "      <td>3.0</td>\n",
              "      <td>0</td>\n",
              "      <td>0.0</td>\n",
              "      <td>0.0</td>\n",
              "      <td>1.0</td>\n",
              "      <td>...</td>\n",
              "      <td>0.0</td>\n",
              "      <td>0.0</td>\n",
              "      <td>0.0</td>\n",
              "      <td>0.0</td>\n",
              "      <td>0.0</td>\n",
              "      <td>0.0</td>\n",
              "      <td>0.0</td>\n",
              "      <td>0.0</td>\n",
              "      <td>0.0</td>\n",
              "      <td>0.0</td>\n",
              "    </tr>\n",
              "    <tr>\n",
              "      <th>3</th>\n",
              "      <td>36</td>\n",
              "      <td>16</td>\n",
              "      <td>113.000000</td>\n",
              "      <td>5.0</td>\n",
              "      <td>5.0</td>\n",
              "      <td>29.0</td>\n",
              "      <td>7</td>\n",
              "      <td>115.0</td>\n",
              "      <td>0.0</td>\n",
              "      <td>1.0</td>\n",
              "      <td>...</td>\n",
              "      <td>0.0</td>\n",
              "      <td>0.0</td>\n",
              "      <td>0.0</td>\n",
              "      <td>0.0</td>\n",
              "      <td>1.0</td>\n",
              "      <td>0.0</td>\n",
              "      <td>0.0</td>\n",
              "      <td>0.0</td>\n",
              "      <td>0.0</td>\n",
              "      <td>0.0</td>\n",
              "    </tr>\n",
              "    <tr>\n",
              "      <th>4</th>\n",
              "      <td>36</td>\n",
              "      <td>2</td>\n",
              "      <td>44.000000</td>\n",
              "      <td>19.0</td>\n",
              "      <td>19.0</td>\n",
              "      <td>49.0</td>\n",
              "      <td>6</td>\n",
              "      <td>220.0</td>\n",
              "      <td>1.0</td>\n",
              "      <td>9.0</td>\n",
              "      <td>...</td>\n",
              "      <td>0.0</td>\n",
              "      <td>0.0</td>\n",
              "      <td>0.0</td>\n",
              "      <td>0.0</td>\n",
              "      <td>0.0</td>\n",
              "      <td>0.0</td>\n",
              "      <td>0.0</td>\n",
              "      <td>0.0</td>\n",
              "      <td>0.0</td>\n",
              "      <td>1.0</td>\n",
              "    </tr>\n",
              "  </tbody>\n",
              "</table>\n",
              "<p>5 rows × 241 columns</p>\n",
              "</div>\n",
              "      <button class=\"colab-df-convert\" onclick=\"convertToInteractive('df-4d9bdc96-1d20-47f6-ab3f-f143a48d4ba1')\"\n",
              "              title=\"Convert this dataframe to an interactive table.\"\n",
              "              style=\"display:none;\">\n",
              "        \n",
              "  <svg xmlns=\"http://www.w3.org/2000/svg\" height=\"24px\"viewBox=\"0 0 24 24\"\n",
              "       width=\"24px\">\n",
              "    <path d=\"M0 0h24v24H0V0z\" fill=\"none\"/>\n",
              "    <path d=\"M18.56 5.44l.94 2.06.94-2.06 2.06-.94-2.06-.94-.94-2.06-.94 2.06-2.06.94zm-11 1L8.5 8.5l.94-2.06 2.06-.94-2.06-.94L8.5 2.5l-.94 2.06-2.06.94zm10 10l.94 2.06.94-2.06 2.06-.94-2.06-.94-.94-2.06-.94 2.06-2.06.94z\"/><path d=\"M17.41 7.96l-1.37-1.37c-.4-.4-.92-.59-1.43-.59-.52 0-1.04.2-1.43.59L10.3 9.45l-7.72 7.72c-.78.78-.78 2.05 0 2.83L4 21.41c.39.39.9.59 1.41.59.51 0 1.02-.2 1.41-.59l7.78-7.78 2.81-2.81c.8-.78.8-2.07 0-2.86zM5.41 20L4 18.59l7.72-7.72 1.47 1.35L5.41 20z\"/>\n",
              "  </svg>\n",
              "      </button>\n",
              "      \n",
              "  <style>\n",
              "    .colab-df-container {\n",
              "      display:flex;\n",
              "      flex-wrap:wrap;\n",
              "      gap: 12px;\n",
              "    }\n",
              "\n",
              "    .colab-df-convert {\n",
              "      background-color: #E8F0FE;\n",
              "      border: none;\n",
              "      border-radius: 50%;\n",
              "      cursor: pointer;\n",
              "      display: none;\n",
              "      fill: #1967D2;\n",
              "      height: 32px;\n",
              "      padding: 0 0 0 0;\n",
              "      width: 32px;\n",
              "    }\n",
              "\n",
              "    .colab-df-convert:hover {\n",
              "      background-color: #E2EBFA;\n",
              "      box-shadow: 0px 1px 2px rgba(60, 64, 67, 0.3), 0px 1px 3px 1px rgba(60, 64, 67, 0.15);\n",
              "      fill: #174EA6;\n",
              "    }\n",
              "\n",
              "    [theme=dark] .colab-df-convert {\n",
              "      background-color: #3B4455;\n",
              "      fill: #D2E3FC;\n",
              "    }\n",
              "\n",
              "    [theme=dark] .colab-df-convert:hover {\n",
              "      background-color: #434B5C;\n",
              "      box-shadow: 0px 1px 3px 1px rgba(0, 0, 0, 0.15);\n",
              "      filter: drop-shadow(0px 1px 2px rgba(0, 0, 0, 0.3));\n",
              "      fill: #FFFFFF;\n",
              "    }\n",
              "  </style>\n",
              "\n",
              "      <script>\n",
              "        const buttonEl =\n",
              "          document.querySelector('#df-4d9bdc96-1d20-47f6-ab3f-f143a48d4ba1 button.colab-df-convert');\n",
              "        buttonEl.style.display =\n",
              "          google.colab.kernel.accessAllowed ? 'block' : 'none';\n",
              "\n",
              "        async function convertToInteractive(key) {\n",
              "          const element = document.querySelector('#df-4d9bdc96-1d20-47f6-ab3f-f143a48d4ba1');\n",
              "          const dataTable =\n",
              "            await google.colab.kernel.invokeFunction('convertToInteractive',\n",
              "                                                     [key], {});\n",
              "          if (!dataTable) return;\n",
              "\n",
              "          const docLinkHtml = 'Like what you see? Visit the ' +\n",
              "            '<a target=\"_blank\" href=https://colab.research.google.com/notebooks/data_table.ipynb>data table notebook</a>'\n",
              "            + ' to learn more about interactive tables.';\n",
              "          element.innerHTML = '';\n",
              "          dataTable['output_type'] = 'display_data';\n",
              "          await google.colab.output.renderOutput(dataTable, element);\n",
              "          const docLink = document.createElement('div');\n",
              "          docLink.innerHTML = docLinkHtml;\n",
              "          element.appendChild(docLink);\n",
              "        }\n",
              "      </script>\n",
              "    </div>\n",
              "  </div>\n",
              "  "
            ]
          },
          "metadata": {},
          "execution_count": 320
        }
      ]
    },
    {
      "cell_type": "markdown",
      "source": [
        "# **Feature extraction**"
      ],
      "metadata": {
        "id": "i2nPo3M-UNH2"
      }
    },
    {
      "cell_type": "markdown",
      "source": [
        "PCA"
      ],
      "metadata": {
        "id": "nFIih_FHURRI"
      }
    },
    {
      "cell_type": "code",
      "source": [
        "X=data_copy.values\n",
        "X.shape\n"
      ],
      "metadata": {
        "colab": {
          "base_uri": "https://localhost:8080/"
        },
        "id": "rfzcrQHqUAwo",
        "outputId": "728fd3e8-10dd-4ce7-e80f-eac5b91500e9"
      },
      "execution_count": 321,
      "outputs": [
        {
          "output_type": "execute_result",
          "data": {
            "text/plain": [
              "(113937, 241)"
            ]
          },
          "metadata": {},
          "execution_count": 321
        }
      ]
    },
    {
      "cell_type": "code",
      "source": [
        "from sklearn.preprocessing import Normalizer \n",
        "nor=Normalizer()\n",
        "X=nor.fit_transform(X)"
      ],
      "metadata": {
        "id": "BgY2_NhxUSpp"
      },
      "execution_count": 322,
      "outputs": []
    },
    {
      "cell_type": "code",
      "source": [
        "from sklearn.decomposition import PCA\n",
        "pca=PCA(n_components=20)\n",
        "pca_components=pca.fit_transform(X)"
      ],
      "metadata": {
        "id": "X_lLZah2UWto"
      },
      "execution_count": 323,
      "outputs": []
    },
    {
      "cell_type": "code",
      "source": [
        "variance_eplained=pca.explained_variance_ratio_\n",
        "comulative_variance=np.cumsum(variance_eplained)"
      ],
      "metadata": {
        "id": "akOsHryGUYup"
      },
      "execution_count": 324,
      "outputs": []
    },
    {
      "cell_type": "code",
      "source": [
        "plt.figure(figsize=(6,4))\n",
        "plt.clf()\n",
        "plt.plot(comulative_variance)\n",
        "plt.xlabel('Number of components ')\n",
        "plt.ylabel(\"Variance Ratio\")\n",
        "plt.grid()\n",
        "plt.show()"
      ],
      "metadata": {
        "colab": {
          "base_uri": "https://localhost:8080/",
          "height": 279
        },
        "id": "zlQ3STn7UcZA",
        "outputId": "20af0417-3221-422e-8920-590f551a24c8"
      },
      "execution_count": 325,
      "outputs": [
        {
          "output_type": "display_data",
          "data": {
            "text/plain": [
              "<Figure size 432x288 with 1 Axes>"
            ],
            "image/png": "[encoded data removed]"
          },
          "metadata": {
            "needs_background": "light"
          }
        }
      ]
    },
    {
      "cell_type": "code",
      "source": [
        "pca.explained_variance_ratio_"
      ],
      "metadata": {
        "colab": {
          "base_uri": "https://localhost:8080/"
        },
        "id": "reyMR0lVUebA",
        "outputId": "05ca0d81-444b-4bc7-af1a-5af06ef977ee"
      },
      "execution_count": 326,
      "outputs": [
        {
          "output_type": "execute_result",
          "data": {
            "text/plain": [
              "array([3.37146442e-01, 2.38521444e-01, 1.15396560e-01, 9.00987361e-02,\n",
              "       7.06389894e-02, 6.54036487e-02, 4.78607006e-02, 1.48988965e-02,\n",
              "       6.64560779e-03, 6.16851643e-03, 5.23174700e-03, 8.22237772e-04,\n",
              "       4.11357433e-04, 2.91756526e-04, 2.22894906e-04, 9.74952318e-05,\n",
              "       4.53252208e-05, 3.27407493e-05, 2.27161706e-05, 2.03510667e-05])"
            ]
          },
          "metadata": {},
          "execution_count": 326
        }
      ]
    },
    {
      "cell_type": "code",
      "source": [
        "pca_data=pd.DataFrame(data=pca_components)"
      ],
      "metadata": {
        "id": "wDRqn5vcUg-g"
      },
      "execution_count": 327,
      "outputs": []
    },
    {
      "cell_type": "code",
      "source": [
        "new_data=pd.concat([high_features,pca_data],axis=1)\n",
        "print(new_data.shape)\n",
        "new_data.head()"
      ],
      "metadata": {
        "colab": {
          "base_uri": "https://localhost:8080/",
          "height": 317
        },
        "id": "8oRtHcS_UkBg",
        "outputId": "b3097652-0faa-4754-daa8-da1ba8b2258e"
      },
      "execution_count": 328,
      "outputs": [
        {
          "output_type": "stream",
          "name": "stdout",
          "text": [
            "(113937, 32)\n"
          ]
        },
        {
          "output_type": "execute_result",
          "data": {
            "text/plain": [
              "   BorrowerAPR  LenderYield  EstimatedEffectiveYield  EstimatedLoss  \\\n",
              "0      0.16516       0.1380                 0.168661       0.080306   \n",
              "1      0.12016       0.0820                 0.079600       0.024900   \n",
              "2      0.28269       0.2400                 0.168661       0.080306   \n",
              "3      0.12528       0.0874                 0.084900       0.024900   \n",
              "4      0.24614       0.1985                 0.183160       0.092500   \n",
              "\n",
              "   EstimatedReturn  CreditScoreRangeLower  CreditScoreRangeUpper  Grade1  \\\n",
              "0         0.096068                  640.0                  659.0     0.0   \n",
              "1         0.054700                  680.0                  699.0     1.0   \n",
              "2         0.096068                  480.0                  499.0     0.0   \n",
              "3         0.060000                  800.0                  819.0     1.0   \n",
              "4         0.090660                  680.0                  699.0     0.0   \n",
              "\n",
              "   Grade2  Grade6  ...        10        11        12        13        14  \\\n",
              "0     0.0     0.0  ...  0.004770 -0.000487 -0.003084 -0.004456 -0.000293   \n",
              "1     0.0     0.0  ...  0.008972  0.000019  0.000024  0.010414 -0.000465   \n",
              "2     0.0     0.0  ... -0.026479 -0.002253 -0.002153 -0.005815 -0.000515   \n",
              "3     0.0     0.0  ... -0.003750  0.000148 -0.000898 -0.000999 -0.000308   \n",
              "4     0.0     0.0  ...  0.007664 -0.000827  0.000372 -0.004495 -0.000345   \n",
              "\n",
              "         15        16        17        18        19  \n",
              "0 -0.004805  0.000829  0.004378 -0.003612 -0.000233  \n",
              "1 -0.004484 -0.000452 -0.001949  0.000909  0.001054  \n",
              "2  0.009066  0.001604 -0.000444  0.003364  0.004144  \n",
              "3  0.000334  0.000170  0.000509 -0.002010 -0.000439  \n",
              "4 -0.005461  0.000042 -0.002961 -0.000525  0.003713  \n",
              "\n",
              "[5 rows x 32 columns]"
            ],
            "text/html": [
              "\n",
              "  <div id=\"df-407481ec-7f0b-40d7-a5bc-c44116b30a66\">\n",
              "    <div class=\"colab-df-container\">\n",
              "      <div>\n",
              "<style scoped>\n",
              "    .dataframe tbody tr th:only-of-type {\n",
              "        vertical-align: middle;\n",
              "    }\n",
              "\n",
              "    .dataframe tbody tr th {\n",
              "        vertical-align: top;\n",
              "    }\n",
              "\n",
              "    .dataframe thead th {\n",
              "        text-align: right;\n",
              "    }\n",
              "</style>\n",
              "<table border=\"1\" class=\"dataframe\">\n",
              "  <thead>\n",
              "    <tr style=\"text-align: right;\">\n",
              "      <th></th>\n",
              "      <th>BorrowerAPR</th>\n",
              "      <th>LenderYield</th>\n",
              "      <th>EstimatedEffectiveYield</th>\n",
              "      <th>EstimatedLoss</th>\n",
              "      <th>EstimatedReturn</th>\n",
              "      <th>CreditScoreRangeLower</th>\n",
              "      <th>CreditScoreRangeUpper</th>\n",
              "      <th>Grade1</th>\n",
              "      <th>Grade2</th>\n",
              "      <th>Grade6</th>\n",
              "      <th>...</th>\n",
              "      <th>10</th>\n",
              "      <th>11</th>\n",
              "      <th>12</th>\n",
              "      <th>13</th>\n",
              "      <th>14</th>\n",
              "      <th>15</th>\n",
              "      <th>16</th>\n",
              "      <th>17</th>\n",
              "      <th>18</th>\n",
              "      <th>19</th>\n",
              "    </tr>\n",
              "  </thead>\n",
              "  <tbody>\n",
              "    <tr>\n",
              "      <th>0</th>\n",
              "      <td>0.16516</td>\n",
              "      <td>0.1380</td>\n",
              "      <td>0.168661</td>\n",
              "      <td>0.080306</td>\n",
              "      <td>0.096068</td>\n",
              "      <td>640.0</td>\n",
              "      <td>659.0</td>\n",
              "      <td>0.0</td>\n",
              "      <td>0.0</td>\n",
              "      <td>0.0</td>\n",
              "      <td>...</td>\n",
              "      <td>0.004770</td>\n",
              "      <td>-0.000487</td>\n",
              "      <td>-0.003084</td>\n",
              "      <td>-0.004456</td>\n",
              "      <td>-0.000293</td>\n",
              "      <td>-0.004805</td>\n",
              "      <td>0.000829</td>\n",
              "      <td>0.004378</td>\n",
              "      <td>-0.003612</td>\n",
              "      <td>-0.000233</td>\n",
              "    </tr>\n",
              "    <tr>\n",
              "      <th>1</th>\n",
              "      <td>0.12016</td>\n",
              "      <td>0.0820</td>\n",
              "      <td>0.079600</td>\n",
              "      <td>0.024900</td>\n",
              "      <td>0.054700</td>\n",
              "      <td>680.0</td>\n",
              "      <td>699.0</td>\n",
              "      <td>1.0</td>\n",
              "      <td>0.0</td>\n",
              "      <td>0.0</td>\n",
              "      <td>...</td>\n",
              "      <td>0.008972</td>\n",
              "      <td>0.000019</td>\n",
              "      <td>0.000024</td>\n",
              "      <td>0.010414</td>\n",
              "      <td>-0.000465</td>\n",
              "      <td>-0.004484</td>\n",
              "      <td>-0.000452</td>\n",
              "      <td>-0.001949</td>\n",
              "      <td>0.000909</td>\n",
              "      <td>0.001054</td>\n",
              "    </tr>\n",
              "    <tr>\n",
              "      <th>2</th>\n",
              "      <td>0.28269</td>\n",
              "      <td>0.2400</td>\n",
              "      <td>0.168661</td>\n",
              "      <td>0.080306</td>\n",
              "      <td>0.096068</td>\n",
              "      <td>480.0</td>\n",
              "      <td>499.0</td>\n",
              "      <td>0.0</td>\n",
              "      <td>0.0</td>\n",
              "      <td>0.0</td>\n",
              "      <td>...</td>\n",
              "      <td>-0.026479</td>\n",
              "      <td>-0.002253</td>\n",
              "      <td>-0.002153</td>\n",
              "      <td>-0.005815</td>\n",
              "      <td>-0.000515</td>\n",
              "      <td>0.009066</td>\n",
              "      <td>0.001604</td>\n",
              "      <td>-0.000444</td>\n",
              "      <td>0.003364</td>\n",
              "      <td>0.004144</td>\n",
              "    </tr>\n",
              "    <tr>\n",
              "      <th>3</th>\n",
              "      <td>0.12528</td>\n",
              "      <td>0.0874</td>\n",
              "      <td>0.084900</td>\n",
              "      <td>0.024900</td>\n",
              "      <td>0.060000</td>\n",
              "      <td>800.0</td>\n",
              "      <td>819.0</td>\n",
              "      <td>1.0</td>\n",
              "      <td>0.0</td>\n",
              "      <td>0.0</td>\n",
              "      <td>...</td>\n",
              "      <td>-0.003750</td>\n",
              "      <td>0.000148</td>\n",
              "      <td>-0.000898</td>\n",
              "      <td>-0.000999</td>\n",
              "      <td>-0.000308</td>\n",
              "      <td>0.000334</td>\n",
              "      <td>0.000170</td>\n",
              "      <td>0.000509</td>\n",
              "      <td>-0.002010</td>\n",
              "      <td>-0.000439</td>\n",
              "    </tr>\n",
              "    <tr>\n",
              "      <th>4</th>\n",
              "      <td>0.24614</td>\n",
              "      <td>0.1985</td>\n",
              "      <td>0.183160</td>\n",
              "      <td>0.092500</td>\n",
              "      <td>0.090660</td>\n",
              "      <td>680.0</td>\n",
              "      <td>699.0</td>\n",
              "      <td>0.0</td>\n",
              "      <td>0.0</td>\n",
              "      <td>0.0</td>\n",
              "      <td>...</td>\n",
              "      <td>0.007664</td>\n",
              "      <td>-0.000827</td>\n",
              "      <td>0.000372</td>\n",
              "      <td>-0.004495</td>\n",
              "      <td>-0.000345</td>\n",
              "      <td>-0.005461</td>\n",
              "      <td>0.000042</td>\n",
              "      <td>-0.002961</td>\n",
              "      <td>-0.000525</td>\n",
              "      <td>0.003713</td>\n",
              "    </tr>\n",
              "  </tbody>\n",
              "</table>\n",
              "<p>5 rows × 32 columns</p>\n",
              "</div>\n",
              "      <button class=\"colab-df-convert\" onclick=\"convertToInteractive('df-407481ec-7f0b-40d7-a5bc-c44116b30a66')\"\n",
              "              title=\"Convert this dataframe to an interactive table.\"\n",
              "              style=\"display:none;\">\n",
              "        \n",
              "  <svg xmlns=\"http://www.w3.org/2000/svg\" height=\"24px\"viewBox=\"0 0 24 24\"\n",
              "       width=\"24px\">\n",
              "    <path d=\"M0 0h24v24H0V0z\" fill=\"none\"/>\n",
              "    <path d=\"M18.56 5.44l.94 2.06.94-2.06 2.06-.94-2.06-.94-.94-2.06-.94 2.06-2.06.94zm-11 1L8.5 8.5l.94-2.06 2.06-.94-2.06-.94L8.5 2.5l-.94 2.06-2.06.94zm10 10l.94 2.06.94-2.06 2.06-.94-2.06-.94-.94-2.06-.94 2.06-2.06.94z\"/><path d=\"M17.41 7.96l-1.37-1.37c-.4-.4-.92-.59-1.43-.59-.52 0-1.04.2-1.43.59L10.3 9.45l-7.72 7.72c-.78.78-.78 2.05 0 2.83L4 21.41c.39.39.9.59 1.41.59.51 0 1.02-.2 1.41-.59l7.78-7.78 2.81-2.81c.8-.78.8-2.07 0-2.86zM5.41 20L4 18.59l7.72-7.72 1.47 1.35L5.41 20z\"/>\n",
              "  </svg>\n",
              "      </button>\n",
              "      \n",
              "  <style>\n",
              "    .colab-df-container {\n",
              "      display:flex;\n",
              "      flex-wrap:wrap;\n",
              "      gap: 12px;\n",
              "    }\n",
              "\n",
              "    .colab-df-convert {\n",
              "      background-color: #E8F0FE;\n",
              "      border: none;\n",
              "      border-radius: 50%;\n",
              "      cursor: pointer;\n",
              "      display: none;\n",
              "      fill: #1967D2;\n",
              "      height: 32px;\n",
              "      padding: 0 0 0 0;\n",
              "      width: 32px;\n",
              "    }\n",
              "\n",
              "    .colab-df-convert:hover {\n",
              "      background-color: #E2EBFA;\n",
              "      box-shadow: 0px 1px 2px rgba(60, 64, 67, 0.3), 0px 1px 3px 1px rgba(60, 64, 67, 0.15);\n",
              "      fill: #174EA6;\n",
              "    }\n",
              "\n",
              "    [theme=dark] .colab-df-convert {\n",
              "      background-color: #3B4455;\n",
              "      fill: #D2E3FC;\n",
              "    }\n",
              "\n",
              "    [theme=dark] .colab-df-convert:hover {\n",
              "      background-color: #434B5C;\n",
              "      box-shadow: 0px 1px 3px 1px rgba(0, 0, 0, 0.15);\n",
              "      filter: drop-shadow(0px 1px 2px rgba(0, 0, 0, 0.3));\n",
              "      fill: #FFFFFF;\n",
              "    }\n",
              "  </style>\n",
              "\n",
              "      <script>\n",
              "        const buttonEl =\n",
              "          document.querySelector('#df-407481ec-7f0b-40d7-a5bc-c44116b30a66 button.colab-df-convert');\n",
              "        buttonEl.style.display =\n",
              "          google.colab.kernel.accessAllowed ? 'block' : 'none';\n",
              "\n",
              "        async function convertToInteractive(key) {\n",
              "          const element = document.querySelector('#df-407481ec-7f0b-40d7-a5bc-c44116b30a66');\n",
              "          const dataTable =\n",
              "            await google.colab.kernel.invokeFunction('convertToInteractive',\n",
              "                                                     [key], {});\n",
              "          if (!dataTable) return;\n",
              "\n",
              "          const docLinkHtml = 'Like what you see? Visit the ' +\n",
              "            '<a target=\"_blank\" href=https://colab.research.google.com/notebooks/data_table.ipynb>data table notebook</a>'\n",
              "            + ' to learn more about interactive tables.';\n",
              "          element.innerHTML = '';\n",
              "          dataTable['output_type'] = 'display_data';\n",
              "          await google.colab.output.renderOutput(dataTable, element);\n",
              "          const docLink = document.createElement('div');\n",
              "          docLink.innerHTML = docLinkHtml;\n",
              "          element.appendChild(docLink);\n",
              "        }\n",
              "      </script>\n",
              "    </div>\n",
              "  </div>\n",
              "  "
            ]
          },
          "metadata": {},
          "execution_count": 328
        }
      ]
    },
    {
      "cell_type": "code",
      "source": [
        "plt.figure(figsize=(25,8))\n",
        "sns.heatmap(new_data.corr(),annot=True)"
      ],
      "metadata": {
        "colab": {
          "base_uri": "https://localhost:8080/",
          "height": 554
        },
        "id": "RFJM9jAoUlbQ",
        "outputId": "da3dac50-8504-4868-94a8-89dc04a9831d"
      },
      "execution_count": 329,
      "outputs": [
        {
          "output_type": "execute_result",
          "data": {
            "text/plain": [
              "<matplotlib.axes._subplots.AxesSubplot at 0x7f5fedcf6ad0>"
            ]
          },
          "metadata": {},
          "execution_count": 329
        },
        {
          "output_type": "display_data",
          "data": {
            "text/plain": [
              "<Figure size 1800x576 with 2 Axes>"
            ],
            "image/png": "[encoded data removed]"
          },
          "metadata": {
            "needs_background": "light"
          }
        }
      ]
    },
    {
      "cell_type": "code",
      "source": [
        "from sklearn.model_selection import train_test_split\n",
        "X = new_data.drop('BorrowerRateTarget',axis=1) # Independet variable\n",
        "y = new_data['BorrowerRateTarget'] # dependent variable\n",
        "train_X,test_X,train_y,test_y = train_test_split(X,y)"
      ],
      "metadata": {
        "id": "_QqCM4rOUu6X"
      },
      "execution_count": 330,
      "outputs": []
    },
    {
      "cell_type": "markdown",
      "source": [
        "#Model"
      ],
      "metadata": {
        "id": "7M8VvD35VEUi"
      }
    },
    {
      "cell_type": "code",
      "source": [
        "from sklearn.model_selection import cross_val_score\n",
        "from sklearn.tree import DecisionTreeRegressor\n",
        "\n",
        "DT = DecisionTreeRegressor(random_state=0)\n",
        "DT.fit(X, y)"
      ],
      "metadata": {
        "colab": {
          "base_uri": "https://localhost:8080/"
        },
        "id": "HMQZAzMuU6SR",
        "outputId": "f64283cf-b1cc-449e-b368-eaf05631158a"
      },
      "execution_count": 331,
      "outputs": [
        {
          "output_type": "stream",
          "name": "stderr",
          "text": [
            "/usr/local/lib/python3.7/dist-packages/sklearn/utils/validation.py:1692: FutureWarning: Feature names only support names that are all strings. Got feature names with dtypes: ['int', 'str']. An error will be raised in 1.2.\n",
            "  FutureWarning,\n"
          ]
        },
        {
          "output_type": "execute_result",
          "data": {
            "text/plain": [
              "DecisionTreeRegressor(random_state=0)"
            ]
          },
          "metadata": {},
          "execution_count": 331
        }
      ]
    },
    {
      "cell_type": "code",
      "source": [
        "from sklearn.metrics import mean_squared_error\n",
        "from sklearn.metrics import r2_score\n",
        "from sklearn.metrics import mean_absolute_error\n",
        "import math\n",
        "y_pred=DT.predict(train_X)\n",
        "print(\"-\"*10,\"Train Pred\",\"-\"*10)\n",
        "print(\"R2: \",r2_score(train_y,y_pred))\n",
        "print(\"MAE: \",mean_absolute_error(train_y,y_pred))\n",
        "print(\"RMSE: \",math.sqrt(mean_squared_error(train_y,y_pred)))\n",
        "\n",
        "y_pred=DT.predict(test_X)\n",
        "print(\"-\"*10,\"Test Pred\",\"-\"*10)\n",
        "print(\"R2: \",r2_score(test_y,y_pred))\n",
        "print(\"MAE: \",mean_absolute_error(test_y,y_pred))\n",
        "print(\"RMSE: \",math.sqrt(mean_squared_error(test_y,y_pred)))\n"
      ],
      "metadata": {
        "colab": {
          "base_uri": "https://localhost:8080/"
        },
        "id": "SSlEDqAMVOFI",
        "outputId": "722ae0c5-3d86-497f-9fc0-c481eaa2a3f8"
      },
      "execution_count": 332,
      "outputs": [
        {
          "output_type": "stream",
          "name": "stdout",
          "text": [
            "---------- Train Pred ----------\n",
            "R2:  1.0\n",
            "MAE:  6.837532394469284e-16\n",
            "RMSE:  1.4809072035858264e-15\n",
            "---------- Test Pred ----------\n",
            "R2:  1.0\n",
            "MAE:  7.020525478030578e-16\n",
            "RMSE:  1.5428716880313034e-15\n"
          ]
        },
        {
          "output_type": "stream",
          "name": "stderr",
          "text": [
            "/usr/local/lib/python3.7/dist-packages/sklearn/utils/validation.py:1692: FutureWarning: Feature names only support names that are all strings. Got feature names with dtypes: ['int', 'str']. An error will be raised in 1.2.\n",
            "  FutureWarning,\n",
            "/usr/local/lib/python3.7/dist-packages/sklearn/utils/validation.py:1692: FutureWarning: Feature names only support names that are all strings. Got feature names with dtypes: ['int', 'str']. An error will be raised in 1.2.\n",
            "  FutureWarning,\n"
          ]
        }
      ]
    },
    {
      "cell_type": "code",
      "source": [
        "y_pred"
      ],
      "metadata": {
        "colab": {
          "base_uri": "https://localhost:8080/"
        },
        "id": "Jc6MisXEgMO0",
        "outputId": "206544a8-9f40-4419-d74e-0f5e37602804"
      },
      "execution_count": 333,
      "outputs": [
        {
          "output_type": "execute_result",
          "data": {
            "text/plain": [
              "array([0.3134, 0.2   , 0.1089, ..., 0.2958, 0.1774, 0.2419])"
            ]
          },
          "metadata": {},
          "execution_count": 333
        }
      ]
    },
    {
      "cell_type": "code",
      "source": [
        "train_y"
      ],
      "metadata": {
        "colab": {
          "base_uri": "https://localhost:8080/"
        },
        "id": "O0rqZi5YgP8v",
        "outputId": "bf7ec0a2-45f5-4cfa-fbd3-3b0f4d204335"
      },
      "execution_count": 334,
      "outputs": [
        {
          "output_type": "execute_result",
          "data": {
            "text/plain": [
              "37596     0.1899\n",
              "35085     0.1650\n",
              "34904     0.0769\n",
              "62323     0.0925\n",
              "105848    0.1934\n",
              "           ...  \n",
              "21769     0.3200\n",
              "113409    0.0500\n",
              "111017    0.2141\n",
              "15776     0.1980\n",
              "59504     0.2759\n",
              "Name: BorrowerRateTarget, Length: 85452, dtype: float64"
            ]
          },
          "metadata": {},
          "execution_count": 334
        }
      ]
    },
    {
      "cell_type": "code",
      "source": [
        "new_data.isna().sum()"
      ],
      "metadata": {
        "colab": {
          "base_uri": "https://localhost:8080/"
        },
        "id": "bCqlqvgJVitH",
        "outputId": "0c86dd57-7a07-4e39-f3c3-101ab702316c"
      },
      "execution_count": 335,
      "outputs": [
        {
          "output_type": "execute_result",
          "data": {
            "text/plain": [
              "BorrowerAPR                0\n",
              "LenderYield                0\n",
              "EstimatedEffectiveYield    0\n",
              "EstimatedLoss              0\n",
              "EstimatedReturn            0\n",
              "CreditScoreRangeLower      0\n",
              "CreditScoreRangeUpper      0\n",
              "Grade1                     0\n",
              "Grade2                     0\n",
              "Grade6                     0\n",
              "Grade7                     0\n",
              "BorrowerRateTarget         0\n",
              "0                          0\n",
              "1                          0\n",
              "2                          0\n",
              "3                          0\n",
              "4                          0\n",
              "5                          0\n",
              "6                          0\n",
              "7                          0\n",
              "8                          0\n",
              "9                          0\n",
              "10                         0\n",
              "11                         0\n",
              "12                         0\n",
              "13                         0\n",
              "14                         0\n",
              "15                         0\n",
              "16                         0\n",
              "17                         0\n",
              "18                         0\n",
              "19                         0\n",
              "dtype: int64"
            ]
          },
          "metadata": {},
          "execution_count": 335
        }
      ]
    },
    {
      "cell_type": "code",
      "source": [
        "'''\n",
        "from sklearn.ensemble import RandomForestRegressor\n",
        "from sklearn.metrics import r2_score\n",
        "from sklearn.metrics import mean_absolute_error\n",
        "from sklearn.metrics import mean_squared_error\n",
        "import math\n",
        "from math import *\n",
        "\n",
        "RF = RandomForestRegressor(random_state=42, n_jobs=-1)\n",
        "RF.fit(train_X,train_y)\n",
        "y_pred=RF.predict(train_X)\n",
        "print(\"-\"*10,\"Train Pred\",\"-\"*10)\n",
        "print(\"R2: \",r2_score(train_y,y_pred))\n",
        "print(\"MAE: \",mean_absolute_error(train_y,y_pred))\n",
        "print(\"RMSE: \",math.sqrt(mean_squared_error(train_y,y_pred)))\n",
        "\n",
        "y_pred=RF.predict(test_X)\n",
        "print(\"-\"*10,\"Test Pred\",\"-\"*10)\n",
        "print(\"R2: \",r2_score(test_y,y_pred))\n",
        "print(\"MAE: \",mean_absolute_error(test_y,y_pred))\n",
        "print(\"RMSE: \",math.sqrt(mean_squared_error(test_y,y_pred)))\n",
        "'''"
      ],
      "metadata": {
        "colab": {
          "base_uri": "https://localhost:8080/",
          "height": 105
        },
        "id": "vqUaaVfuY2h4",
        "outputId": "eeeaad43-a787-45e2-b5e9-1da2614b43db"
      },
      "execution_count": 336,
      "outputs": [
        {
          "output_type": "execute_result",
          "data": {
            "text/plain": [
              "'\\nfrom sklearn.ensemble import RandomForestRegressor\\nfrom sklearn.metrics import r2_score\\nfrom sklearn.metrics import mean_absolute_error\\nfrom sklearn.metrics import mean_squared_error\\nimport math\\nfrom math import *\\n\\nRF = RandomForestRegressor(random_state=42, n_jobs=-1)\\nRF.fit(train_X,train_y)\\ny_pred=RF.predict(train_X)\\nprint(\"-\"*10,\"Train Pred\",\"-\"*10)\\nprint(\"R2: \",r2_score(train_y,y_pred))\\nprint(\"MAE: \",mean_absolute_error(train_y,y_pred))\\nprint(\"RMSE: \",math.sqrt(mean_squared_error(train_y,y_pred)))\\n\\ny_pred=RF.predict(test_X)\\nprint(\"-\"*10,\"Test Pred\",\"-\"*10)\\nprint(\"R2: \",r2_score(test_y,y_pred))\\nprint(\"MAE: \",mean_absolute_error(test_y,y_pred))\\nprint(\"RMSE: \",math.sqrt(mean_squared_error(test_y,y_pred)))\\n'"
            ],
            "application/vnd.google.colaboratory.intrinsic+json": {
              "type": "string"
            }
          },
          "metadata": {},
          "execution_count": 336
        }
      ]
    },
    {
      "cell_type": "code",
      "source": [
        "data['BorrowerAPR'].unique()"
      ],
      "metadata": {
        "colab": {
          "base_uri": "https://localhost:8080/"
        },
        "id": "BKDnxyn0VrnA",
        "outputId": "1190fe8f-7d3f-4638-f106-8d631a56750d"
      },
      "execution_count": 337,
      "outputs": [
        {
          "output_type": "execute_result",
          "data": {
            "text/plain": [
              "array([0.16516, 0.12016, 0.28269, ..., 0.22674, 0.3477 , 0.19543])"
            ]
          },
          "metadata": {},
          "execution_count": 337
        }
      ]
    },
    {
      "cell_type": "code",
      "source": [
        ""
      ],
      "metadata": {
        "id": "BvE4hcuJij57"
      },
      "execution_count": 337,
      "outputs": []
    }
  ]
}