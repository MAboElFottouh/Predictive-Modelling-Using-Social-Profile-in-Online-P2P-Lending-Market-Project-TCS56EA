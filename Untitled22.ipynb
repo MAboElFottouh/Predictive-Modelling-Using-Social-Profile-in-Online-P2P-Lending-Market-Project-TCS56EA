{
  "nbformat": 4,
  "nbformat_minor": 0,
  "metadata": {
    "colab": {
      "name": "Untitled22.ipynb",
      "provenance": [],
      "collapsed_sections": [],
      "authorship_tag": "ABX9TyNcUhtZTkK0IsR6d+ZsZNEq",
      "include_colab_link": true
    },
    "kernelspec": {
      "name": "python3",
      "display_name": "Python 3"
    },
    "language_info": {
      "name": "python"
    }
  },
  "cells": [
    {
      "cell_type": "markdown",
      "metadata": {
        "id": "view-in-github",
        "colab_type": "text"
      },
      "source": [
        "<a href=\"https://colab.research.google.com/github/MAboElFottouh/Predictive-Modelling-Using-Social-Profile-in-Online-P2P-Lending-Market-Project-TCS56EA/blob/main/Untitled22.ipynb\" target=\"_parent\"><img src=\"https://colab.research.google.com/assets/colab-badge.svg\" alt=\"Open In Colab\"/></a>"
      ]
    },
    {
      "cell_type": "code",
      "execution_count": 566,
      "metadata": {
        "colab": {
          "base_uri": "https://localhost:8080/"
        },
        "id": "772WnNU_nl88",
        "outputId": "cd0c911b-9293-48bb-bcd7-c9700f524600"
      },
      "outputs": [
        {
          "output_type": "stream",
          "name": "stdout",
          "text": [
            "Drive already mounted at /content/drive; to attempt to forcibly remount, call drive.mount(\"/content/drive\", force_remount=True).\n"
          ]
        }
      ],
      "source": [
        "from google.colab import drive\n",
        "drive.mount('/content/drive')"
      ]
    },
    {
      "cell_type": "code",
      "source": [
        "import pandas  as pd #Data manipulation\n",
        "import numpy as np #Data manipulation\n",
        "import matplotlib.pyplot as plt # Visualization\n",
        "import seaborn as sns #Visualization\n",
        "import datetime"
      ],
      "metadata": {
        "id": "ZahJFzkSnoGu"
      },
      "execution_count": 567,
      "outputs": []
    },
    {
      "cell_type": "code",
      "source": [
        "data = pd.read_csv(\"/content/drive/MyDrive/prosperLoanData.csv\")"
      ],
      "metadata": {
        "id": "CXejvkOXnpbk"
      },
      "execution_count": 568,
      "outputs": []
    },
    {
      "cell_type": "code",
      "source": [
        "print('\\nNumber of rows and columns in the data set: ',data.shape)\n",
        "#Lets look into top few rows and columns in the dataset\n",
        "data.head()"
      ],
      "metadata": {
        "colab": {
          "base_uri": "https://localhost:8080/",
          "height": 421
        },
        "id": "OBuiRpsintRs",
        "outputId": "f90ef4e4-fea4-428b-e710-5006957f9c03"
      },
      "execution_count": 569,
      "outputs": [
        {
          "output_type": "stream",
          "name": "stdout",
          "text": [
            "\n",
            "Number of rows and columns in the data set:  (113937, 81)\n"
          ]
        },
        {
          "output_type": "execute_result",
          "data": {
            "text/plain": [
              "                ListingKey  ListingNumber            ListingCreationDate  \\\n",
              "0  1021339766868145413AB3B         193129  2007-08-26 19:09:29.263000000   \n",
              "1  10273602499503308B223C1        1209647  2014-02-27 08:28:07.900000000   \n",
              "2  0EE9337825851032864889A          81716  2007-01-05 15:00:47.090000000   \n",
              "3  0EF5356002482715299901A         658116  2012-10-22 11:02:35.010000000   \n",
              "4  0F023589499656230C5E3E2         909464  2013-09-14 18:38:39.097000000   \n",
              "\n",
              "  CreditGrade  Term LoanStatus           ClosedDate  BorrowerAPR  \\\n",
              "0           C    36  Completed  2009-08-14 00:00:00      0.16516   \n",
              "1         NaN    36    Current                  NaN      0.12016   \n",
              "2          HR    36  Completed  2009-12-17 00:00:00      0.28269   \n",
              "3         NaN    36    Current                  NaN      0.12528   \n",
              "4         NaN    36    Current                  NaN      0.24614   \n",
              "\n",
              "   BorrowerRate  LenderYield  ...  LP_ServiceFees  LP_CollectionFees  \\\n",
              "0        0.1580       0.1380  ...         -133.18                0.0   \n",
              "1        0.0920       0.0820  ...            0.00                0.0   \n",
              "2        0.2750       0.2400  ...          -24.20                0.0   \n",
              "3        0.0974       0.0874  ...         -108.01                0.0   \n",
              "4        0.2085       0.1985  ...          -60.27                0.0   \n",
              "\n",
              "   LP_GrossPrincipalLoss  LP_NetPrincipalLoss LP_NonPrincipalRecoverypayments  \\\n",
              "0                    0.0                  0.0                             0.0   \n",
              "1                    0.0                  0.0                             0.0   \n",
              "2                    0.0                  0.0                             0.0   \n",
              "3                    0.0                  0.0                             0.0   \n",
              "4                    0.0                  0.0                             0.0   \n",
              "\n",
              "   PercentFunded  Recommendations InvestmentFromFriendsCount  \\\n",
              "0            1.0                0                          0   \n",
              "1            1.0                0                          0   \n",
              "2            1.0                0                          0   \n",
              "3            1.0                0                          0   \n",
              "4            1.0                0                          0   \n",
              "\n",
              "  InvestmentFromFriendsAmount Investors  \n",
              "0                         0.0       258  \n",
              "1                         0.0         1  \n",
              "2                         0.0        41  \n",
              "3                         0.0       158  \n",
              "4                         0.0        20  \n",
              "\n",
              "[5 rows x 81 columns]"
            ],
            "text/html": [
              "\n",
              "  <div id=\"df-458489f0-efb5-430c-aaef-d79cc52ece85\">\n",
              "    <div class=\"colab-df-container\">\n",
              "      <div>\n",
              "<style scoped>\n",
              "    .dataframe tbody tr th:only-of-type {\n",
              "        vertical-align: middle;\n",
              "    }\n",
              "\n",
              "    .dataframe tbody tr th {\n",
              "        vertical-align: top;\n",
              "    }\n",
              "\n",
              "    .dataframe thead th {\n",
              "        text-align: right;\n",
              "    }\n",
              "</style>\n",
              "<table border=\"1\" class=\"dataframe\">\n",
              "  <thead>\n",
              "    <tr style=\"text-align: right;\">\n",
              "      <th></th>\n",
              "      <th>ListingKey</th>\n",
              "      <th>ListingNumber</th>\n",
              "      <th>ListingCreationDate</th>\n",
              "      <th>CreditGrade</th>\n",
              "      <th>Term</th>\n",
              "      <th>LoanStatus</th>\n",
              "      <th>ClosedDate</th>\n",
              "      <th>BorrowerAPR</th>\n",
              "      <th>BorrowerRate</th>\n",
              "      <th>LenderYield</th>\n",
              "      <th>...</th>\n",
              "      <th>LP_ServiceFees</th>\n",
              "      <th>LP_CollectionFees</th>\n",
              "      <th>LP_GrossPrincipalLoss</th>\n",
              "      <th>LP_NetPrincipalLoss</th>\n",
              "      <th>LP_NonPrincipalRecoverypayments</th>\n",
              "      <th>PercentFunded</th>\n",
              "      <th>Recommendations</th>\n",
              "      <th>InvestmentFromFriendsCount</th>\n",
              "      <th>InvestmentFromFriendsAmount</th>\n",
              "      <th>Investors</th>\n",
              "    </tr>\n",
              "  </thead>\n",
              "  <tbody>\n",
              "    <tr>\n",
              "      <th>0</th>\n",
              "      <td>1021339766868145413AB3B</td>\n",
              "      <td>193129</td>\n",
              "      <td>2007-08-26 19:09:29.263000000</td>\n",
              "      <td>C</td>\n",
              "      <td>36</td>\n",
              "      <td>Completed</td>\n",
              "      <td>2009-08-14 00:00:00</td>\n",
              "      <td>0.16516</td>\n",
              "      <td>0.1580</td>\n",
              "      <td>0.1380</td>\n",
              "      <td>...</td>\n",
              "      <td>-133.18</td>\n",
              "      <td>0.0</td>\n",
              "      <td>0.0</td>\n",
              "      <td>0.0</td>\n",
              "      <td>0.0</td>\n",
              "      <td>1.0</td>\n",
              "      <td>0</td>\n",
              "      <td>0</td>\n",
              "      <td>0.0</td>\n",
              "      <td>258</td>\n",
              "    </tr>\n",
              "    <tr>\n",
              "      <th>1</th>\n",
              "      <td>10273602499503308B223C1</td>\n",
              "      <td>1209647</td>\n",
              "      <td>2014-02-27 08:28:07.900000000</td>\n",
              "      <td>NaN</td>\n",
              "      <td>36</td>\n",
              "      <td>Current</td>\n",
              "      <td>NaN</td>\n",
              "      <td>0.12016</td>\n",
              "      <td>0.0920</td>\n",
              "      <td>0.0820</td>\n",
              "      <td>...</td>\n",
              "      <td>0.00</td>\n",
              "      <td>0.0</td>\n",
              "      <td>0.0</td>\n",
              "      <td>0.0</td>\n",
              "      <td>0.0</td>\n",
              "      <td>1.0</td>\n",
              "      <td>0</td>\n",
              "      <td>0</td>\n",
              "      <td>0.0</td>\n",
              "      <td>1</td>\n",
              "    </tr>\n",
              "    <tr>\n",
              "      <th>2</th>\n",
              "      <td>0EE9337825851032864889A</td>\n",
              "      <td>81716</td>\n",
              "      <td>2007-01-05 15:00:47.090000000</td>\n",
              "      <td>HR</td>\n",
              "      <td>36</td>\n",
              "      <td>Completed</td>\n",
              "      <td>2009-12-17 00:00:00</td>\n",
              "      <td>0.28269</td>\n",
              "      <td>0.2750</td>\n",
              "      <td>0.2400</td>\n",
              "      <td>...</td>\n",
              "      <td>-24.20</td>\n",
              "      <td>0.0</td>\n",
              "      <td>0.0</td>\n",
              "      <td>0.0</td>\n",
              "      <td>0.0</td>\n",
              "      <td>1.0</td>\n",
              "      <td>0</td>\n",
              "      <td>0</td>\n",
              "      <td>0.0</td>\n",
              "      <td>41</td>\n",
              "    </tr>\n",
              "    <tr>\n",
              "      <th>3</th>\n",
              "      <td>0EF5356002482715299901A</td>\n",
              "      <td>658116</td>\n",
              "      <td>2012-10-22 11:02:35.010000000</td>\n",
              "      <td>NaN</td>\n",
              "      <td>36</td>\n",
              "      <td>Current</td>\n",
              "      <td>NaN</td>\n",
              "      <td>0.12528</td>\n",
              "      <td>0.0974</td>\n",
              "      <td>0.0874</td>\n",
              "      <td>...</td>\n",
              "      <td>-108.01</td>\n",
              "      <td>0.0</td>\n",
              "      <td>0.0</td>\n",
              "      <td>0.0</td>\n",
              "      <td>0.0</td>\n",
              "      <td>1.0</td>\n",
              "      <td>0</td>\n",
              "      <td>0</td>\n",
              "      <td>0.0</td>\n",
              "      <td>158</td>\n",
              "    </tr>\n",
              "    <tr>\n",
              "      <th>4</th>\n",
              "      <td>0F023589499656230C5E3E2</td>\n",
              "      <td>909464</td>\n",
              "      <td>2013-09-14 18:38:39.097000000</td>\n",
              "      <td>NaN</td>\n",
              "      <td>36</td>\n",
              "      <td>Current</td>\n",
              "      <td>NaN</td>\n",
              "      <td>0.24614</td>\n",
              "      <td>0.2085</td>\n",
              "      <td>0.1985</td>\n",
              "      <td>...</td>\n",
              "      <td>-60.27</td>\n",
              "      <td>0.0</td>\n",
              "      <td>0.0</td>\n",
              "      <td>0.0</td>\n",
              "      <td>0.0</td>\n",
              "      <td>1.0</td>\n",
              "      <td>0</td>\n",
              "      <td>0</td>\n",
              "      <td>0.0</td>\n",
              "      <td>20</td>\n",
              "    </tr>\n",
              "  </tbody>\n",
              "</table>\n",
              "<p>5 rows × 81 columns</p>\n",
              "</div>\n",
              "      <button class=\"colab-df-convert\" onclick=\"convertToInteractive('df-458489f0-efb5-430c-aaef-d79cc52ece85')\"\n",
              "              title=\"Convert this dataframe to an interactive table.\"\n",
              "              style=\"display:none;\">\n",
              "        \n",
              "  <svg xmlns=\"http://www.w3.org/2000/svg\" height=\"24px\"viewBox=\"0 0 24 24\"\n",
              "       width=\"24px\">\n",
              "    <path d=\"M0 0h24v24H0V0z\" fill=\"none\"/>\n",
              "    <path d=\"M18.56 5.44l.94 2.06.94-2.06 2.06-.94-2.06-.94-.94-2.06-.94 2.06-2.06.94zm-11 1L8.5 8.5l.94-2.06 2.06-.94-2.06-.94L8.5 2.5l-.94 2.06-2.06.94zm10 10l.94 2.06.94-2.06 2.06-.94-2.06-.94-.94-2.06-.94 2.06-2.06.94z\"/><path d=\"M17.41 7.96l-1.37-1.37c-.4-.4-.92-.59-1.43-.59-.52 0-1.04.2-1.43.59L10.3 9.45l-7.72 7.72c-.78.78-.78 2.05 0 2.83L4 21.41c.39.39.9.59 1.41.59.51 0 1.02-.2 1.41-.59l7.78-7.78 2.81-2.81c.8-.78.8-2.07 0-2.86zM5.41 20L4 18.59l7.72-7.72 1.47 1.35L5.41 20z\"/>\n",
              "  </svg>\n",
              "      </button>\n",
              "      \n",
              "  <style>\n",
              "    .colab-df-container {\n",
              "      display:flex;\n",
              "      flex-wrap:wrap;\n",
              "      gap: 12px;\n",
              "    }\n",
              "\n",
              "    .colab-df-convert {\n",
              "      background-color: #E8F0FE;\n",
              "      border: none;\n",
              "      border-radius: 50%;\n",
              "      cursor: pointer;\n",
              "      display: none;\n",
              "      fill: #1967D2;\n",
              "      height: 32px;\n",
              "      padding: 0 0 0 0;\n",
              "      width: 32px;\n",
              "    }\n",
              "\n",
              "    .colab-df-convert:hover {\n",
              "      background-color: #E2EBFA;\n",
              "      box-shadow: 0px 1px 2px rgba(60, 64, 67, 0.3), 0px 1px 3px 1px rgba(60, 64, 67, 0.15);\n",
              "      fill: #174EA6;\n",
              "    }\n",
              "\n",
              "    [theme=dark] .colab-df-convert {\n",
              "      background-color: #3B4455;\n",
              "      fill: #D2E3FC;\n",
              "    }\n",
              "\n",
              "    [theme=dark] .colab-df-convert:hover {\n",
              "      background-color: #434B5C;\n",
              "      box-shadow: 0px 1px 3px 1px rgba(0, 0, 0, 0.15);\n",
              "      filter: drop-shadow(0px 1px 2px rgba(0, 0, 0, 0.3));\n",
              "      fill: #FFFFFF;\n",
              "    }\n",
              "  </style>\n",
              "\n",
              "      <script>\n",
              "        const buttonEl =\n",
              "          document.querySelector('#df-458489f0-efb5-430c-aaef-d79cc52ece85 button.colab-df-convert');\n",
              "        buttonEl.style.display =\n",
              "          google.colab.kernel.accessAllowed ? 'block' : 'none';\n",
              "\n",
              "        async function convertToInteractive(key) {\n",
              "          const element = document.querySelector('#df-458489f0-efb5-430c-aaef-d79cc52ece85');\n",
              "          const dataTable =\n",
              "            await google.colab.kernel.invokeFunction('convertToInteractive',\n",
              "                                                     [key], {});\n",
              "          if (!dataTable) return;\n",
              "\n",
              "          const docLinkHtml = 'Like what you see? Visit the ' +\n",
              "            '<a target=\"_blank\" href=https://colab.research.google.com/notebooks/data_table.ipynb>data table notebook</a>'\n",
              "            + ' to learn more about interactive tables.';\n",
              "          element.innerHTML = '';\n",
              "          dataTable['output_type'] = 'display_data';\n",
              "          await google.colab.output.renderOutput(dataTable, element);\n",
              "          const docLink = document.createElement('div');\n",
              "          docLink.innerHTML = docLinkHtml;\n",
              "          element.appendChild(docLink);\n",
              "        }\n",
              "      </script>\n",
              "    </div>\n",
              "  </div>\n",
              "  "
            ]
          },
          "metadata": {},
          "execution_count": 569
        }
      ]
    },
    {
      "cell_type": "code",
      "source": [
        "data.info()"
      ],
      "metadata": {
        "colab": {
          "base_uri": "https://localhost:8080/"
        },
        "id": "IHW3Dy16tNHX",
        "outputId": "32151a71-de7b-4419-e561-ead65854ecdf"
      },
      "execution_count": 570,
      "outputs": [
        {
          "output_type": "stream",
          "name": "stdout",
          "text": [
            "<class 'pandas.core.frame.DataFrame'>\n",
            "RangeIndex: 113937 entries, 0 to 113936\n",
            "Data columns (total 81 columns):\n",
            " #   Column                               Non-Null Count   Dtype  \n",
            "---  ------                               --------------   -----  \n",
            " 0   ListingKey                           113937 non-null  object \n",
            " 1   ListingNumber                        113937 non-null  int64  \n",
            " 2   ListingCreationDate                  113937 non-null  object \n",
            " 3   CreditGrade                          28953 non-null   object \n",
            " 4   Term                                 113937 non-null  int64  \n",
            " 5   LoanStatus                           113937 non-null  object \n",
            " 6   ClosedDate                           55089 non-null   object \n",
            " 7   BorrowerAPR                          113912 non-null  float64\n",
            " 8   BorrowerRate                         113937 non-null  float64\n",
            " 9   LenderYield                          113937 non-null  float64\n",
            " 10  EstimatedEffectiveYield              84853 non-null   float64\n",
            " 11  EstimatedLoss                        84853 non-null   float64\n",
            " 12  EstimatedReturn                      84853 non-null   float64\n",
            " 13  ProsperRating (numeric)              84853 non-null   float64\n",
            " 14  ProsperRating (Alpha)                84853 non-null   object \n",
            " 15  ProsperScore                         84853 non-null   float64\n",
            " 16  ListingCategory (numeric)            113937 non-null  int64  \n",
            " 17  BorrowerState                        108422 non-null  object \n",
            " 18  Occupation                           110349 non-null  object \n",
            " 19  EmploymentStatus                     111682 non-null  object \n",
            " 20  EmploymentStatusDuration             106312 non-null  float64\n",
            " 21  IsBorrowerHomeowner                  113937 non-null  bool   \n",
            " 22  CurrentlyInGroup                     113937 non-null  bool   \n",
            " 23  GroupKey                             13341 non-null   object \n",
            " 24  DateCreditPulled                     113937 non-null  object \n",
            " 25  CreditScoreRangeLower                113346 non-null  float64\n",
            " 26  CreditScoreRangeUpper                113346 non-null  float64\n",
            " 27  FirstRecordedCreditLine              113240 non-null  object \n",
            " 28  CurrentCreditLines                   106333 non-null  float64\n",
            " 29  OpenCreditLines                      106333 non-null  float64\n",
            " 30  TotalCreditLinespast7years           113240 non-null  float64\n",
            " 31  OpenRevolvingAccounts                113937 non-null  int64  \n",
            " 32  OpenRevolvingMonthlyPayment          113937 non-null  float64\n",
            " 33  InquiriesLast6Months                 113240 non-null  float64\n",
            " 34  TotalInquiries                       112778 non-null  float64\n",
            " 35  CurrentDelinquencies                 113240 non-null  float64\n",
            " 36  AmountDelinquent                     106315 non-null  float64\n",
            " 37  DelinquenciesLast7Years              112947 non-null  float64\n",
            " 38  PublicRecordsLast10Years             113240 non-null  float64\n",
            " 39  PublicRecordsLast12Months            106333 non-null  float64\n",
            " 40  RevolvingCreditBalance               106333 non-null  float64\n",
            " 41  BankcardUtilization                  106333 non-null  float64\n",
            " 42  AvailableBankcardCredit              106393 non-null  float64\n",
            " 43  TotalTrades                          106393 non-null  float64\n",
            " 44  TradesNeverDelinquent (percentage)   106393 non-null  float64\n",
            " 45  TradesOpenedLast6Months              106393 non-null  float64\n",
            " 46  DebtToIncomeRatio                    105383 non-null  float64\n",
            " 47  IncomeRange                          113937 non-null  object \n",
            " 48  IncomeVerifiable                     113937 non-null  bool   \n",
            " 49  StatedMonthlyIncome                  113937 non-null  float64\n",
            " 50  LoanKey                              113937 non-null  object \n",
            " 51  TotalProsperLoans                    22085 non-null   float64\n",
            " 52  TotalProsperPaymentsBilled           22085 non-null   float64\n",
            " 53  OnTimeProsperPayments                22085 non-null   float64\n",
            " 54  ProsperPaymentsLessThanOneMonthLate  22085 non-null   float64\n",
            " 55  ProsperPaymentsOneMonthPlusLate      22085 non-null   float64\n",
            " 56  ProsperPrincipalBorrowed             22085 non-null   float64\n",
            " 57  ProsperPrincipalOutstanding          22085 non-null   float64\n",
            " 58  ScorexChangeAtTimeOfListing          18928 non-null   float64\n",
            " 59  LoanCurrentDaysDelinquent            113937 non-null  int64  \n",
            " 60  LoanFirstDefaultedCycleNumber        16952 non-null   float64\n",
            " 61  LoanMonthsSinceOrigination           113937 non-null  int64  \n",
            " 62  LoanNumber                           113937 non-null  int64  \n",
            " 63  LoanOriginalAmount                   113937 non-null  int64  \n",
            " 64  LoanOriginationDate                  113937 non-null  object \n",
            " 65  LoanOriginationQuarter               113937 non-null  object \n",
            " 66  MemberKey                            113937 non-null  object \n",
            " 67  MonthlyLoanPayment                   113937 non-null  float64\n",
            " 68  LP_CustomerPayments                  113937 non-null  float64\n",
            " 69  LP_CustomerPrincipalPayments         113937 non-null  float64\n",
            " 70  LP_InterestandFees                   113937 non-null  float64\n",
            " 71  LP_ServiceFees                       113937 non-null  float64\n",
            " 72  LP_CollectionFees                    113937 non-null  float64\n",
            " 73  LP_GrossPrincipalLoss                113937 non-null  float64\n",
            " 74  LP_NetPrincipalLoss                  113937 non-null  float64\n",
            " 75  LP_NonPrincipalRecoverypayments      113937 non-null  float64\n",
            " 76  PercentFunded                        113937 non-null  float64\n",
            " 77  Recommendations                      113937 non-null  int64  \n",
            " 78  InvestmentFromFriendsCount           113937 non-null  int64  \n",
            " 79  InvestmentFromFriendsAmount          113937 non-null  float64\n",
            " 80  Investors                            113937 non-null  int64  \n",
            "dtypes: bool(3), float64(50), int64(11), object(17)\n",
            "memory usage: 68.1+ MB\n"
          ]
        }
      ]
    },
    {
      "cell_type": "code",
      "source": [
        "#split null object and numerical\n",
        "def nAn():\n",
        "  nan_name = []\n",
        "  pans = []\n",
        "  typeD = []\n",
        "  for i in range(data.shape[1]):\n",
        "    if (data.isna().sum()[i] != 0 ): #if have null only\n",
        "      nan_name.append(data.columns[i])\n",
        "      pans.append(data.isna().sum()[i] / data.shape[0] * 100)\n",
        "      typeD.append(data[data.columns[i]].dtypes)\n",
        "      print(data.isna().sum()[i],'\\t' ,data.columns[i],'\\t',data.isna().sum()[i] / data.shape[0] * 100 , '%')\n",
        "  return nan_name ,pans , typeD"
      ],
      "metadata": {
        "id": "OWFduxFzoZUF"
      },
      "execution_count": 571,
      "outputs": []
    },
    {
      "cell_type": "code",
      "source": [
        "n , p , d= nAn()"
      ],
      "metadata": {
        "colab": {
          "base_uri": "https://localhost:8080/"
        },
        "id": "WciOo3p5qYJl",
        "outputId": "fdb77b54-ca2c-4bd7-8b6e-c1ecd9cea40d"
      },
      "execution_count": 572,
      "outputs": [
        {
          "output_type": "stream",
          "name": "stdout",
          "text": [
            "84984 \t CreditGrade \t 74.58858843044841 %\n",
            "58848 \t ClosedDate \t 51.64959582927408 %\n",
            "25 \t BorrowerAPR \t 0.02194195037608503 %\n",
            "29084 \t EstimatedEffectiveYield \t 25.52638738952228 %\n",
            "29084 \t EstimatedLoss \t 25.52638738952228 %\n",
            "29084 \t EstimatedReturn \t 25.52638738952228 %\n",
            "29084 \t ProsperRating (numeric) \t 25.52638738952228 %\n",
            "29084 \t ProsperRating (Alpha) \t 25.52638738952228 %\n",
            "29084 \t ProsperScore \t 25.52638738952228 %\n",
            "5515 \t BorrowerState \t 4.840394252964358 %\n",
            "3588 \t Occupation \t 3.149108717975723 %\n",
            "2255 \t EmploymentStatus \t 1.9791639239228696 %\n",
            "7625 \t EmploymentStatusDuration \t 6.692294864705935 %\n",
            "100596 \t GroupKey \t 88.29089760130599 %\n",
            "591 \t CreditScoreRangeLower \t 0.5187077068906502 %\n",
            "591 \t CreditScoreRangeUpper \t 0.5187077068906502 %\n",
            "697 \t FirstRecordedCreditLine \t 0.6117415764852506 %\n",
            "7604 \t CurrentCreditLines \t 6.673863626390022 %\n",
            "7604 \t OpenCreditLines \t 6.673863626390022 %\n",
            "697 \t TotalCreditLinespast7years \t 0.6117415764852506 %\n",
            "697 \t InquiriesLast6Months \t 0.6117415764852506 %\n",
            "1159 \t TotalInquiries \t 1.0172288194353019 %\n",
            "697 \t CurrentDelinquencies \t 0.6117415764852506 %\n",
            "7622 \t AmountDelinquent \t 6.689661830660803 %\n",
            "990 \t DelinquenciesLast7Years \t 0.8689012348929671 %\n",
            "697 \t PublicRecordsLast10Years \t 0.6117415764852506 %\n",
            "7604 \t PublicRecordsLast12Months \t 6.673863626390022 %\n",
            "7604 \t RevolvingCreditBalance \t 6.673863626390022 %\n",
            "7604 \t BankcardUtilization \t 6.673863626390022 %\n",
            "7544 \t AvailableBankcardCredit \t 6.621202945487418 %\n",
            "7544 \t TotalTrades \t 6.621202945487418 %\n",
            "7544 \t TradesNeverDelinquent (percentage) \t 6.621202945487418 %\n",
            "7544 \t TradesOpenedLast6Months \t 6.621202945487418 %\n",
            "8554 \t DebtToIncomeRatio \t 7.507657740681253 %\n",
            "91852 \t TotalProsperLoans \t 80.61648103776649 %\n",
            "91852 \t TotalProsperPaymentsBilled \t 80.61648103776649 %\n",
            "91852 \t OnTimeProsperPayments \t 80.61648103776649 %\n",
            "91852 \t ProsperPaymentsLessThanOneMonthLate \t 80.61648103776649 %\n",
            "91852 \t ProsperPaymentsOneMonthPlusLate \t 80.61648103776649 %\n",
            "91852 \t ProsperPrincipalBorrowed \t 80.61648103776649 %\n",
            "91852 \t ProsperPrincipalOutstanding \t 80.61648103776649 %\n",
            "95009 \t ScorexChangeAtTimeOfListing \t 83.3873105312585 %\n",
            "96985 \t LoanFirstDefaultedCycleNumber \t 85.12160228898426 %\n"
          ]
        }
      ]
    },
    {
      "cell_type": "code",
      "source": [
        ""
      ],
      "metadata": {
        "id": "Evc3JVj3uuWH"
      },
      "execution_count": 572,
      "outputs": []
    },
    {
      "cell_type": "code",
      "source": [
        "\n",
        "\n",
        "\n",
        "for i in range(len(n)) :\n",
        "  if p[i] > 50 :\n",
        "    data.drop(n[i],axis=1, inplace= True)"
      ],
      "metadata": {
        "id": "vMYKhebJqjwE"
      },
      "execution_count": 573,
      "outputs": []
    },
    {
      "cell_type": "code",
      "source": [
        "n , p ,d= nAn()"
      ],
      "metadata": {
        "colab": {
          "base_uri": "https://localhost:8080/"
        },
        "id": "k23hb3WoqlXr",
        "outputId": "f4c26b33-dd66-4a9d-d531-f50081b6fcb0"
      },
      "execution_count": 574,
      "outputs": [
        {
          "output_type": "stream",
          "name": "stdout",
          "text": [
            "25 \t BorrowerAPR \t 0.02194195037608503 %\n",
            "29084 \t EstimatedEffectiveYield \t 25.52638738952228 %\n",
            "29084 \t EstimatedLoss \t 25.52638738952228 %\n",
            "29084 \t EstimatedReturn \t 25.52638738952228 %\n",
            "29084 \t ProsperRating (numeric) \t 25.52638738952228 %\n",
            "29084 \t ProsperRating (Alpha) \t 25.52638738952228 %\n",
            "29084 \t ProsperScore \t 25.52638738952228 %\n",
            "5515 \t BorrowerState \t 4.840394252964358 %\n",
            "3588 \t Occupation \t 3.149108717975723 %\n",
            "2255 \t EmploymentStatus \t 1.9791639239228696 %\n",
            "7625 \t EmploymentStatusDuration \t 6.692294864705935 %\n",
            "591 \t CreditScoreRangeLower \t 0.5187077068906502 %\n",
            "591 \t CreditScoreRangeUpper \t 0.5187077068906502 %\n",
            "697 \t FirstRecordedCreditLine \t 0.6117415764852506 %\n",
            "7604 \t CurrentCreditLines \t 6.673863626390022 %\n",
            "7604 \t OpenCreditLines \t 6.673863626390022 %\n",
            "697 \t TotalCreditLinespast7years \t 0.6117415764852506 %\n",
            "697 \t InquiriesLast6Months \t 0.6117415764852506 %\n",
            "1159 \t TotalInquiries \t 1.0172288194353019 %\n",
            "697 \t CurrentDelinquencies \t 0.6117415764852506 %\n",
            "7622 \t AmountDelinquent \t 6.689661830660803 %\n",
            "990 \t DelinquenciesLast7Years \t 0.8689012348929671 %\n",
            "697 \t PublicRecordsLast10Years \t 0.6117415764852506 %\n",
            "7604 \t PublicRecordsLast12Months \t 6.673863626390022 %\n",
            "7604 \t RevolvingCreditBalance \t 6.673863626390022 %\n",
            "7604 \t BankcardUtilization \t 6.673863626390022 %\n",
            "7544 \t AvailableBankcardCredit \t 6.621202945487418 %\n",
            "7544 \t TotalTrades \t 6.621202945487418 %\n",
            "7544 \t TradesNeverDelinquent (percentage) \t 6.621202945487418 %\n",
            "7544 \t TradesOpenedLast6Months \t 6.621202945487418 %\n",
            "8554 \t DebtToIncomeRatio \t 7.507657740681253 %\n"
          ]
        }
      ]
    },
    {
      "cell_type": "code",
      "source": [
        "for i in range(len(n)) :\n",
        "  if d[i] == 'object' :\n",
        "    data[n[i]].replace(np.nan,str(data[n[i]].mode()),inplace=True) \n",
        "  elif d[i] == 'int64' or d[i] == 'float64' :\n",
        "    data[n[i]].replace(np.nan,float(data[n[i]].mean()),inplace=True) \n",
        "    data[n[i]].astype('float64')\n",
        "  else:\n",
        "    data[n[i]].replace(np.nan,data[n[i]].mean(),inplace=True) "
      ],
      "metadata": {
        "id": "UYMocJxfqrrj"
      },
      "execution_count": 575,
      "outputs": []
    },
    {
      "cell_type": "code",
      "source": [
        "n , p ,d= nAn()"
      ],
      "metadata": {
        "id": "Y3GESWiFquAU"
      },
      "execution_count": 576,
      "outputs": []
    },
    {
      "cell_type": "code",
      "source": [
        "data.drop('ProsperRating (numeric)',axis=1, inplace= True) #same data in ProsperRating (Alpha)"
      ],
      "metadata": {
        "id": "J5mJwuVkqv00"
      },
      "execution_count": 577,
      "outputs": []
    },
    {
      "cell_type": "code",
      "source": [
        "#z score Outlier\n",
        "def z_score(data,column,col_mean,col_std):\n",
        "    outliers=[]\n",
        "    ther=3\n",
        "    for i in data :\n",
        "        z=(i-col_mean)/col_std\n",
        "        if np.abs(z)>3 :\n",
        "            outliers.append(i)\n",
        "\n",
        "    print(\"outliers in column \",column,\" have outlier \",outliers)"
      ],
      "metadata": {
        "id": "DfhRDEg_qykb"
      },
      "execution_count": 578,
      "outputs": []
    },
    {
      "cell_type": "code",
      "source": [
        "#get object or bool column \n",
        "def type():\n",
        "  float_D = []\n",
        "  object_bool = []\n",
        "  time_c = []\n",
        "  for i in data.columns:\n",
        "    if data[i].dtypes == 'float64' or data[i].dtypes == 'int64':\n",
        "      float_D.append(i)\n",
        "    elif data[i].dtypes == 'object' or data[i].dtypes == 'bool':\n",
        "      object_bool.append(i)\n",
        "    else :\n",
        "      time_c.append(i)\n",
        "      print(i)\n",
        "\n",
        "      \n",
        "\n",
        "  return float_D ,object_bool ,time_c"
      ],
      "metadata": {
        "id": "idK6IC9gq1TT"
      },
      "execution_count": 579,
      "outputs": []
    },
    {
      "cell_type": "code",
      "source": [
        "float_D ,object_bool ,g = type()"
      ],
      "metadata": {
        "id": "QYxZiS1gq4Er"
      },
      "execution_count": 580,
      "outputs": []
    },
    {
      "cell_type": "code",
      "source": [
        "data_mean=[]\n",
        "data_std=[]\n",
        "\n",
        "for i in float_D:\n",
        "  data_mean.append(data[i].mean())\n",
        "  data_std.append(data[i].std())\n"
      ],
      "metadata": {
        "id": "NdQJrhyrq567"
      },
      "execution_count": 581,
      "outputs": []
    },
    {
      "cell_type": "code",
      "source": [
        "\n",
        "for i in range(len(float_D)):\n",
        "    if i =='BorrowerRate':\n",
        "        continue \n",
        "    z_score(data[float_D[i]],float_D[i],data_mean[i],data_std[i])"
      ],
      "metadata": {
        "colab": {
          "base_uri": "https://localhost:8080/"
        },
        "id": "GzCbzYGSq700",
        "outputId": "690aefc1-1dcd-4639-c88c-bb12218330ff"
      },
      "execution_count": 582,
      "outputs": [
        {
          "output_type": "stream",
          "name": "stdout",
          "text": [
            "outliers in column  ListingNumber  have outlier  []\n",
            "outliers in column  Term  have outlier  []\n",
            "outliers in column  BorrowerAPR  have outlier  [0.46201, 0.51229, 0.50633, 0.48873]\n",
            "outliers in column  BorrowerRate  have outlier  [0.45, 0.45, 0.4975, 0.4975, 0.48, 0.45]\n",
            "outliers in column  LenderYield  have outlier  [0.4325, 0.4325, 0.4925, 0.48, 0.475, 0.4325]\n",
            "outliers in column  EstimatedEffectiveYield  have outlier  [-0.0677, -0.0354, -0.0251, -0.047, -0.0836, -0.0555, -0.0636, -0.0251, -0.0345, -0.0189, -0.0168, -0.0461, -0.0517, -0.1773, -0.0836, -0.0626, -0.0251, -0.0651, -0.0251, -0.0229, -0.0461, -0.0461, -0.0461, -0.0091, -0.0339, -0.0461, -0.0461, -0.0251, -0.0461, -0.1492, -0.0866, -0.0813, -0.0251, -0.0251, -0.0419, -0.0627, -0.0251, -0.1351, -0.0224, -0.0325, -0.0836, -0.1827, -0.0513, -0.0836, -0.0251, -0.0166, -0.01, -0.0251, -0.0524, -0.0613, -0.0138, -0.0461, -0.1403, -0.1023, -0.0673, -0.0332, -0.0461, -0.1304, -0.0224, -0.0866, -0.0107, -0.0816, -0.0266, -0.0461, -0.0138, -0.0251, -0.1679, -0.0794, -0.0102, -0.0859, -0.0253, -0.0907, -0.0251, -0.1188, -0.0184, -0.0177, -0.1188, -0.0172, -0.0559, -0.0868, -0.0461, -0.0105, -0.0251, -0.0532, -0.1816, -0.0868, -0.0461, -0.1049, -0.0238, -0.0166, -0.0866, -0.0475, -0.0251, -0.0105, -0.0866, -0.0123, -0.0648, -0.0106, -0.0461, -0.0419, -0.0626, -0.0868, -0.0166, -0.043, -0.0105, -0.1816, -0.0538, -0.0288, -0.0251, -0.1816, -0.0251, -0.0251, -0.0251, -0.0251, -0.01, -0.0124, -0.0513, -0.0251, -0.0251, -0.013, -0.1304, -0.0606, -0.01, -0.0168, -0.0544, -0.0345, -0.0804, -0.0742, -0.0277, -0.0251, -0.0461, -0.0251, -0.0251, -0.0626, -0.0419, -0.0648, -0.0108, -0.0285, -0.0243, -0.0461, -0.0461, -0.0461, -0.0508, -0.0795, -0.0251, -0.1656, -0.0166, -0.0251, -0.01, -0.01, -0.0272, -0.0461, -0.0461, -0.0103, -0.0461, -0.0252, -0.0251, -0.0461, -0.1257, -0.0794, -0.0555, -0.1656, -0.0251, -0.0251, -0.0851, -0.0836, -0.0177, -0.0251, -0.1398, -0.1816]\n",
            "outliers in column  EstimatedLoss  have outlier  [0.24, 0.366, 0.203, 0.345, 0.345, 0.24, 0.24, 0.203, 0.203, 0.203, 0.25, 0.24, 0.203, 0.24, 0.366, 0.366, 0.24, 0.203, 0.366, 0.345, 0.24, 0.24, 0.25, 0.24, 0.203, 0.345, 0.345, 0.25, 0.366, 0.366, 0.24, 0.25, 0.366, 0.366, 0.24, 0.345, 0.25, 0.345, 0.366, 0.203, 0.203, 0.24, 0.25, 0.203, 0.25, 0.24, 0.345, 0.203, 0.24, 0.366, 0.203, 0.24, 0.25, 0.366, 0.24, 0.25, 0.24, 0.203, 0.24, 0.366, 0.25, 0.366, 0.24, 0.25, 0.24, 0.24, 0.24, 0.24, 0.203, 0.366, 0.25, 0.366, 0.203, 0.345, 0.366, 0.24, 0.366, 0.203, 0.25, 0.24, 0.24, 0.345, 0.345, 0.24, 0.203, 0.203, 0.203, 0.366, 0.345, 0.25, 0.203, 0.203, 0.366, 0.25, 0.24, 0.203, 0.203, 0.366, 0.345, 0.24, 0.366, 0.345, 0.25, 0.25, 0.24, 0.25, 0.24, 0.24, 0.24, 0.203, 0.24, 0.203, 0.345, 0.24, 0.24, 0.366, 0.25, 0.24, 0.366, 0.25, 0.366, 0.203, 0.366, 0.25, 0.24, 0.25, 0.345, 0.203, 0.203, 0.25, 0.366, 0.366, 0.24, 0.24, 0.24, 0.25, 0.24, 0.203, 0.25, 0.366, 0.24, 0.366, 0.203, 0.24, 0.345, 0.366, 0.24, 0.203, 0.203, 0.25, 0.25, 0.203, 0.203, 0.366, 0.203, 0.345, 0.345, 0.25, 0.24, 0.345, 0.345, 0.25, 0.24, 0.24, 0.203, 0.24, 0.203, 0.203, 0.203, 0.345, 0.25, 0.203, 0.24, 0.25, 0.24, 0.24, 0.25, 0.25, 0.25, 0.25, 0.366, 0.25, 0.25, 0.24, 0.24, 0.25, 0.366, 0.25, 0.203, 0.25, 0.203, 0.24, 0.203, 0.24, 0.203, 0.24, 0.345, 0.345, 0.345, 0.24, 0.25, 0.25, 0.25, 0.203, 0.25, 0.203, 0.24, 0.203, 0.203, 0.24, 0.366, 0.203, 0.366, 0.24, 0.24, 0.25, 0.203, 0.25, 0.24, 0.203, 0.24, 0.203, 0.24, 0.203, 0.203, 0.25, 0.25, 0.366, 0.25, 0.203, 0.345, 0.25, 0.25, 0.24, 0.24, 0.24, 0.25, 0.203, 0.366, 0.203, 0.366, 0.24, 0.25, 0.24, 0.203, 0.24, 0.25, 0.25, 0.345, 0.203, 0.24, 0.25, 0.24, 0.203, 0.24, 0.366, 0.25, 0.24, 0.203, 0.24, 0.25, 0.24, 0.203, 0.203, 0.24, 0.24, 0.25, 0.24, 0.25, 0.25, 0.24, 0.24, 0.345, 0.366, 0.24, 0.203, 0.25, 0.24, 0.345, 0.203, 0.345, 0.25, 0.25, 0.345, 0.203, 0.203, 0.25, 0.345, 0.203, 0.366, 0.345, 0.24, 0.345, 0.203, 0.24, 0.25, 0.203, 0.24, 0.24, 0.24, 0.203, 0.25, 0.25, 0.24, 0.203, 0.345, 0.203, 0.24, 0.203, 0.345, 0.203, 0.366, 0.25, 0.203, 0.24, 0.203, 0.366, 0.24, 0.203, 0.24, 0.24, 0.24, 0.203, 0.25, 0.24, 0.203, 0.24, 0.24, 0.366, 0.24, 0.345, 0.25, 0.203, 0.24, 0.366, 0.25, 0.203, 0.24, 0.203, 0.345, 0.203, 0.366, 0.203, 0.203, 0.203, 0.25, 0.345, 0.203, 0.345, 0.24, 0.24, 0.366, 0.24, 0.203, 0.203, 0.25, 0.25, 0.203, 0.203, 0.25, 0.203, 0.366, 0.366, 0.24, 0.203, 0.366, 0.366, 0.25, 0.24, 0.345, 0.25, 0.25, 0.24, 0.25, 0.203, 0.24, 0.203, 0.24, 0.25, 0.345, 0.24, 0.25, 0.345, 0.203, 0.25, 0.24, 0.366, 0.203, 0.366, 0.24, 0.203, 0.203, 0.25, 0.366, 0.25, 0.203, 0.24, 0.203, 0.24, 0.203, 0.345, 0.25, 0.203, 0.203, 0.25, 0.24, 0.345, 0.24, 0.203, 0.24, 0.366, 0.366, 0.366, 0.24, 0.24, 0.25, 0.25, 0.203, 0.24, 0.366, 0.24, 0.345, 0.24, 0.25, 0.203, 0.345, 0.25, 0.25, 0.345, 0.25, 0.25, 0.25, 0.24, 0.203, 0.25, 0.24, 0.366, 0.24, 0.25, 0.24, 0.25, 0.24, 0.345, 0.366, 0.24, 0.345]\n",
            "outliers in column  EstimatedReturn  have outlier  [0.1761, 0.207, 0.1761, 0.257, -0.0013, -0.0677, 0.1843, -0.0006, 0.1762, 0.2093, 0.2211, 0.1755, -0.0354, -0.0251, 0.1773, 0.1761, 0.1761, 0.1761, 0.2127, 0.1776, 0.1776, 0.1755, 0.0082, 0.1955, 0.2022, 0.1843, -0.047, 0.1755, 0.1761, 0.1762, 0.1831, 0.1761, 0.1761, 0.2259, 0.1761, 0.203, 0.1761, 0.1924, -0.0836, 0.1843, 0.1973, 0.1843, 0.0169, -0.0555, -0.0636, 0.1761, 0.0137, 0.1764, 0.1776, -0.0251, 0.1827, 0.2025, -0.0345, 0.1761, -0.0189, 0.1761, 0.1755, -0.0168, 0.1985, 0.1761, -0.0461, -0.0517, 0.1924, 0.2233, 0.1819, 0.1837, 0.1773, 0.1839, -0.1773, -0.0836, 0.1773, 0.2025, -0.0626, 0.014, -0.0251, 0.1841, -0.0651, 0.1957, 0.1755, 0.1761, 0.1773, 0.1755, 0.1985, 0.1761, 0.0171, 0.1761, 0.2224, 0.1861, 0.1761, -0.0251, 0.2022, 0.2033, 0.1761, -0.0229, 0.1761, 0.1755, -0.006, 0.1755, 0.1761, 0.1761, 0.1843, 0.1773, 0.1755, 0.1755, -0.0461, 0.1773, 0.1761, 0.1775, 0.1761, 0.1761, 0.1761, 0.1761, 0.017, 0.1773, -0.0461, 0.2064, 0.1761, 0.1773, 0.0083, 0.1761, 0.1843, 0.1843, 0.1773, 0.1762, 0.1761, -0.0461, 0.1761, 0.1985, 0.1761, 0.1761, -0.0461, 0.0086, 0.1762, -0.0091, 0.1844, 0.1755, 0.1761, 0.1761, 0.1761, 0.1761, 0.1773, 0.1762, 0.2233, 0.0053, 0.1843, 0.1985, 0.1761, 0.1843, -0.0339, 0.1773, 0.1755, 0.1883, 0.2467, 0.2236, -0.0461, 0.179, -0.0461, 0.1757, 0.1761, -0.0251, -0.0461, 0.1761, 0.1755, 0.1773, -0.1492, 0.1761, -0.0866, 0.1773, 0.1762, -0.0813, -0.0251, 0.1773, -0.0251, -0.0419, 0.1843, 0.1761, 0.0095, 0.1776, 0.1761, 0.1748, -0.0627, 0.1773, 0.1773, 0.1755, 0.1762, 0.1755, 0.2313, 0.1924, -0.0251, 0.1755, 0.1843, 0.1843, 0.1755, 0.1761, -0.1351, 0.1761, -0.0224, 0.1761, 0.1773, 0.006, 0.1761, 0.1773, 0.0083, 0.1761, 0.1761, 0.1761, -0.0325, 0.1773, 0.2265, 0.1773, 0.1761, 0.1761, 0.2313, 0.1773, -0.0836, 0.1803, -0.1827, 0.2468, -0.0513, 0.1781, -0.0836, 0.1898, 0.2055, 0.1948, 0.1767, 0.1761, 0.1761, -0.0251, 0.1956, 0.2216, -0.0166, 0.1761, 0.1773, 0.1762, 0.1748, 0.1843, -0.01, 0.1773, 0.1827, 0.2064, 0.1756, 0.1773, 0.0057, 0.2064, 0.1761, -0.0251, -0.0524, 0.1823, 0.1773, 0.1755, 0.1761, 0.2127, 0.1773, -0.0613, -0.0138, 0.1761, 0.1839, -0.0461, 0.1773, 0.1761, 0.1755, 0.2064, 0.1843, -0.1403, -0.1023, 0.1761, 0.2265, 0.1761, 0.1761, 0.18, 0.1755, 0.1755, -0.0673, 0.1843, -0.0332, -0.0461, 0.1768, 0.1761, 0.1755, 0.1761, 0.1761, 0.1755, -0.0053, 0.1773, -0.1304, 0.1768, -0.0027, -0.0224, 0.005, 0.0143, 0.1762, 0.1761, 0.1755, 0.1755, 0.1762, 0.1773, -0.0866, 0.1843, -0.0107, 0.1834, -0.0816, 0.1761, 0.1776, 0.1756, 0.1761, 0.0169, -0.0266, -0.0461, 0.1762, 0.1761, -0.0138, 0.2265, 0.1843, 0.1761, -0.0251, 0.1761, -0.1679, 0.1761, 0.2136, 0.1951, -0.0794, 0.1761, 0.1761, 0.1755, -0.0102, 0.1838, 0.1761, 0.1761, 0.1755, 0.1773, 0.1761, 0.1843, -0.0018, 0.1761, 0.1776, 0.1761, 0.2011, 0.1919, 0.2131, 0.2033, 0.1843, -0.0859, -0.0253, 0.1957, -0.0907, 0.1843, 0.1823, 0.1761, 0.1755, -0.0036, 0.2, -0.0251, -0.1188, 0.1761, 0.0043, 0.1761, 0.2265, 0.2119, 0.1776, -0.0184, 0.1761, 0.1761, 0.1755, -0.0177, 0.1761, 0.1761, 0.1773, 0.1973, 0.007, 0.1755, 0.1755, 0.1755, 0.1773, 0.1843, 0.1761, 0.1761, 0.1773, 0.2265, -0.1188, -0.0172, 0.1773, 0.1761, 0.1761, 0.191, 0.1755, 0.2667, 0.017, 0.2012, 0.1772, 0.1761, 0.1957, 0.1773, 0.203, 0.0137, -0.0559, 0.1755, 0.1755, 0.1755, -0.0868, 0.1773, 0.1755, 0.1761, 0.1775, 0.1773, 0.1761, 0.1773, 0.1845, 0.1761, 0.1843, -0.0461, 0.2083, 0.1755, 0.1773, 0.1843, 0.1947, 0.1773, 0.0066, 0.1773, 0.1761, -0.0105, 0.013, 0.1952, 0.1761, 0.1762, 0.1775, 0.1843, 0.1814, -0.0251, -0.0532, 0.1755, -0.1816, 0.1761, 0.1755, -0.0868, 0.1761, 0.1761, 0.1773, 0.1773, 0.1761, 0.2265, 0.1843, 0.1843, 0.2086, -0.0461, 0.1761, -0.1049, 0.1843, -0.0043, 0.1957, 0.006, 0.1947, 0.1761, 0.1755, 0.1762, 0.1844, 0.1773, 0.1749, 0.1755, 0.1761, 0.2126, 0.1761, 0.1761, 0.1755, -0.0017, 0.1762, 0.257, 0.1773, 0.1773, 0.1843, 0.1761, 0.1762, 0.1761, 0.1843, 0.2216, 0.1843, 0.1755, 0.1755, 0.1755, 0.1761, 0.1761, 0.1761, 0.1843, 0.1948, -0.0238, 0.1761, 0.1773, 0.1761, -0.0166, -0.0866, -0.0475, 0.1755, 0.2083, 0.1761, 0.1823, 0.1843, -0.0251, 0.1761, 0.1773, 0.2277, -0.0105, 0.1773, 0.1761, -0.0866, 0.1755, 0.1755, -0.0123, 0.1773, 0.1774, -0.0648, -0.0106, 0.1761, 0.1845, 0.1761, -0.0461, 0.1761, 0.1843, 0.1755, 0.1755, -0.0419, 0.1843, 0.1773, 0.1843, -0.0626, 0.1837, 0.2064, 0.0143, -0.0868, 0.1773, 0.1773, 0.2017, 0.1843, 0.1755, 0.1789, 0.1776, 0.1755, 0.005, 0.1761, -0.0166, 0.1843, 0.1761, 0.1776, 0.1833, 0.1769, -0.0461, 0.2064, -0.043, 0.175, 0.1762, 0.2265, 0.1764, 0.1755, 0.2264, 0.1761, 0.1843, 0.1761, 0.1839, 0.1761, 0.1761, 0.1761, 0.1755, 0.0099, -0.0105, 0.2245, 0.1762, 0.181, 0.1843, 0.1773, 0.1955, 0.1761, 0.1761, 0.1773, -0.1816, -0.0538, 0.1843, -0.0288, 0.1761, 0.1755, 0.1773, 0.1761, 0.1761, -0.0006, 0.179, 0.2837, 0.1843, 0.1761, 0.1761, 0.1761, -0.0251, 0.0, 0.1773, 0.1761, -0.1816, 0.1761, 0.1761, 0.1755, 0.1773, 0.1776, 0.1948, 0.1761, 0.1924, 0.1761, -0.0251, 0.1773, 0.1827, 0.1761, 0.1773, -0.0251, 0.179, -0.0461, -0.0251, 0.1775, 0.1955, 0.1761, 0.1843, 0.1761, 0.0087, 0.1761, 0.1761, 0.1762, -0.0251, 0.1888, 0.1761, 0.1883, -0.01, 0.0095, 0.1843, 0.1761, 0.1761, -0.0124, 0.1761, 0.1773, 0.1781, 0.0137, 0.1948, 0.0056, 0.1761, 0.1773, 0.1776, -0.0513, 0.0081, 0.0083, 0.1773, -0.0251, 0.0146, -0.0251, -0.0461, 0.1761, -0.013, 0.1761, 0.1946, -0.0006, 0.1755, 0.1797, 0.1843, -0.1304, 0.1773, 0.1843, 0.1761, -0.0606, 0.1761, -0.0044, -0.01, 0.1761, 0.1761, 0.1756, 0.1761, -0.005, 0.2021, 0.1755, 0.1761, 0.1761, 0.2332, 0.1761, 0.1985, 0.1946, 0.1819, -0.0168, 0.1773, 0.1761, 0.1761, -0.0544, -0.0345, 0.1762, 0.2313, -0.0804, -0.0742, 0.0152, 0.1773, 0.1761, 0.2216, 0.2233, -0.0277, 0.1761, 0.1761, -0.0251, 0.2216, 0.1769, 0.1761, 0.1762, 0.1843, 0.1936, -0.0461, 0.1776, 0.1761, 0.1755, 0.2313, 0.1761, 0.1755, 0.1755, 0.1762, 0.1773, 0.1773, -0.0251, 0.184, 0.1761, 0.1843, -0.0251, -0.0031, 0.1755, -0.0016, 0.1773, 0.1924, -0.0626, 0.1761, 0.1755, 0.1755, 0.1773, 0.1773, -0.0419, 0.1773, 0.1761, -0.0648, 0.1761, 0.1771, 0.1762, -0.0108, 0.1953, -0.0285, 0.1762, 0.1761, -0.0243, 0.1761, 0.1984, 0.1761, 0.1773, -0.0461, -0.0461, 0.1844, -0.0461, 0.1761, -0.0508, 0.1762, 0.1843, 0.1761, -0.0795, -0.0251, 0.1845, 0.1775, 0.1827, 0.1761, 0.2216, 0.1761, 0.1976, 0.1948, 0.2667, 0.1843, 0.1761, 0.2151, 0.1755, 0.18, 0.2313, 0.0015, 0.1773, 0.1843, 0.1761, 0.1948, 0.1762, 0.1843, 0.1961, 0.1761, 0.1757, -0.1656, 0.1773, -0.0166, 0.1843, 0.1761, -0.0251, 0.1773, 0.1761, -0.01, -0.01, 0.1762, 0.1835, 0.1761, -0.0044, 0.1787, -0.0272, 0.1761, -0.0461, 0.1761, -0.0461, 0.1773, 0.005, 0.2538, 0.1773, 0.2058, -0.0103, -0.0461, 0.1843, 0.1773, 0.2161, 0.1773, 0.1761, 0.2158, 0.2313, 0.2467, 0.1843, 0.2062, 0.19, 0.1843, 0.1761, -0.0252, 0.1843, 0.0087, 0.1748, 0.1761, 0.1773, 0.1843, 0.1829, 0.0057, 0.1776, 0.1776, -0.001, 0.1843, 0.1761, 0.1812, 0.1761, 0.1753, 0.0013, -0.0251, 0.1773, 0.1769, -0.004, 0.1843, -0.0461, 0.1915, -0.0461, 0.1776, 0.1773, 0.1767, 0.1826, 0.0095, -0.1257, 0.1857, 0.1755, 0.1827, 0.1773, 0.1761, 0.1843, 0.1761, 0.1761, 0.1761, 0.0146, -0.0794, 0.1761, 0.1776, 0.223, 0.1755, 0.0029, -0.0555, -0.1656, 0.2265, 0.1773, 0.1761, 0.1773, -0.0251, 0.1845, -0.0006, 0.1779, 0.1761, 0.2313, -0.0251, -0.0851, 0.1773, 0.1761, 0.1761, 0.1843, 0.2053, 0.1762, 0.1843, 0.1755, 0.257, 0.1774, 0.1762, 0.1755, 0.2053, 0.1843, 0.1773, 0.1761, 0.1843, 0.1755, 0.0134, -0.0836, 0.1761, 0.177, -0.0045, -0.0177, 0.1755, 0.2216, -0.0251, 0.1773, -0.1398, 0.179, -0.1816, 0.1847]\n",
            "outliers in column  ProsperScore  have outlier  []\n",
            "outliers in column  ListingCategory (numeric)  have outlier  [16, 15, 15, 20, 15, 19, 19, 18, 18, 19, 15, 18, 15, 18, 15, 19, 18, 15, 18, 15, 19, 18, 15, 18, 18, 20, 15, 20, 15, 20, 18, 16, 20, 15, 18, 19, 18, 16, 19, 18, 17, 18, 15, 15, 15, 19, 15, 18, 20, 18, 15, 18, 15, 16, 15, 20, 16, 19, 20, 19, 15, 15, 15, 15, 15, 20, 15, 18, 15, 19, 18, 19, 19, 15, 15, 20, 19, 15, 20, 18, 15, 20, 15, 20, 15, 15, 18, 18, 18, 16, 20, 18, 18, 16, 15, 19, 20, 19, 15, 19, 20, 19, 20, 20, 19, 20, 15, 16, 18, 19, 15, 20, 20, 15, 19, 20, 15, 15, 18, 15, 20, 19, 15, 18, 19, 19, 15, 15, 18, 19, 18, 20, 18, 16, 18, 19, 15, 15, 20, 20, 15, 18, 15, 18, 19, 15, 20, 15, 18, 18, 16, 18, 15, 15, 19, 20, 20, 15, 15, 18, 15, 15, 18, 15, 15, 18, 19, 15, 20, 16, 15, 20, 15, 15, 15, 20, 20, 18, 19, 15, 19, 20, 20, 20, 15, 19, 15, 15, 15, 20, 18, 15, 15, 20, 20, 19, 19, 16, 15, 19, 15, 18, 19, 19, 15, 20, 19, 16, 15, 20, 18, 15, 16, 20, 19, 15, 15, 18, 18, 19, 15, 15, 15, 15, 15, 18, 20, 20, 16, 19, 18, 18, 15, 15, 15, 16, 18, 19, 19, 20, 15, 16, 16, 19, 20, 18, 20, 15, 20, 15, 15, 20, 19, 18, 16, 18, 18, 19, 20, 19, 18, 15, 20, 15, 15, 15, 15, 20, 19, 20, 18, 19, 18, 15, 15, 15, 18, 20, 20, 19, 18, 18, 20, 19, 18, 20, 15, 19, 18, 19, 15, 20, 19, 19, 16, 20, 15, 19, 20, 19, 15, 15, 18, 19, 18, 19, 19, 16, 20, 19, 15, 18, 15, 18, 15, 16, 15, 15, 15, 18, 15, 15, 19, 20, 15, 18, 15, 19, 18, 15, 20, 16, 20, 15, 19, 15, 19, 16, 19, 15, 15, 19, 20, 18, 20, 20, 20, 18, 18, 15, 19, 19, 18, 18, 15, 20, 20, 19, 18, 15, 15, 16, 20, 20, 15, 15, 19, 15, 15, 18, 19, 15, 20, 18, 15, 15, 16, 15, 15, 15, 15, 19, 19, 18, 20, 18, 18, 15, 19, 17, 18, 15, 16, 19, 15, 15, 15, 18, 15, 19, 19, 20, 15, 20, 20, 18, 15, 19, 18, 19, 20, 15, 15, 15, 18, 15, 16, 18, 18, 19, 15, 18, 19, 18, 15, 15, 15, 18, 15, 15, 18, 20, 20, 19, 15, 20, 19, 19, 15, 15, 15, 15, 20, 20, 20, 18, 15, 20, 15, 19, 15, 19, 19, 18, 16, 15, 18, 20, 15, 20, 15, 20, 15, 15, 15, 15, 15, 18, 19, 20, 20, 18, 19, 20, 15, 15, 20, 18, 15, 15, 19, 15, 19, 18, 20, 15, 20, 16, 15, 19, 18, 20, 18, 15, 19, 18, 19, 15, 20, 20, 16, 16, 19, 20, 19, 20, 20, 18, 15, 19, 15, 18, 20, 17, 16, 18, 20, 15, 19, 15, 16, 18, 16, 19, 16, 19, 19, 15, 15, 15, 18, 18, 19, 19, 15, 19, 15, 20, 18, 15, 19, 19, 15, 15, 15, 18, 15, 19, 15, 15, 18, 15, 19, 15, 19, 19, 18, 19, 15, 20, 18, 18, 20, 18, 16, 15, 19, 20, 20, 15, 19, 20, 20, 18, 18, 15, 19, 20, 19, 15, 15, 20, 18, 16, 19, 15, 15, 18, 20, 18, 17, 16, 18, 15, 15, 15, 15, 19, 15, 20, 16, 18, 18, 15, 20, 18, 15, 15, 18, 16, 18, 18, 18, 18, 19, 20, 20, 15, 15, 19, 15, 18, 15, 18, 18, 15, 20, 18, 15, 19, 18, 15, 20, 18, 20, 19, 16, 20, 18, 15, 15, 18, 15, 19, 19, 19, 20, 18, 19, 15, 19, 15, 18, 15, 20, 16, 18, 19, 15, 15, 19, 15, 18, 15, 20, 18, 15, 15, 15, 15, 15, 18, 16, 15, 20, 20, 19, 15, 15, 15, 15, 20, 15, 15, 18, 16, 19, 15, 20, 15, 19, 16, 19, 17, 15, 19, 18, 18, 18, 19, 16, 18, 16, 19, 18, 16, 17, 18, 19, 16, 15, 20, 18, 18, 18, 15, 15, 19, 20, 18, 15, 15, 18, 15, 19, 15, 15, 18, 20, 20, 15, 15, 20, 20, 19, 18, 19, 20, 19, 18, 20, 15, 18, 15, 15, 19, 19, 18, 15, 15, 15, 18, 15, 15, 18, 20, 20, 15, 20, 15, 15, 18, 15, 19, 18, 19, 18, 19, 20, 15, 15, 18, 20, 19, 18, 19, 19, 20, 15, 15, 19, 20, 20, 20, 20, 19, 18, 19, 19, 15, 18, 15, 20, 20, 19, 20, 19, 16, 15, 18, 15, 19, 19, 16, 20, 15, 15, 19, 19, 20, 19, 19, 20, 20, 15, 18, 20, 15, 15, 15, 16, 18, 19, 15, 20, 15, 15, 18, 15, 15, 19, 18, 16, 18, 15, 20, 18, 18, 18, 15, 18, 20, 18, 15, 15, 18, 20, 16, 18, 16, 15, 16, 18, 15, 15, 18, 20, 15, 20, 15, 16, 15, 19, 15, 15, 16, 19, 20, 20, 20, 15, 16, 19, 18, 19, 15, 20, 19, 19, 16, 18, 20, 15, 20, 15, 19, 15, 19, 19, 16, 15, 18, 19, 15, 17, 18, 19, 20, 16, 19, 15, 15, 18, 16, 17, 17, 20, 15, 18, 15, 16, 20, 15, 15, 20, 15, 19, 15, 15, 20, 15, 19, 18, 20, 19, 20, 15, 20, 18, 15, 20, 16, 15, 19, 19, 15, 20, 19, 20, 18, 15, 15, 18, 16, 15, 17, 19, 20, 19, 18, 15, 15, 16, 19, 18, 19, 19, 18, 19, 18, 15, 18, 15, 16, 16, 15, 20, 16, 15, 18, 18, 15, 16, 15, 15, 19, 15, 20, 15, 18, 16, 20, 15, 18, 17, 15, 15, 18, 20, 15, 16, 15, 15, 19, 18, 19, 15, 20, 19, 15, 19, 19, 15, 15, 18, 16, 19, 19, 15, 15, 19, 15, 15, 15, 15, 15, 15, 15, 20, 15, 20, 19, 15, 15, 15, 19, 19, 20, 20, 20, 15, 18, 15, 19, 19, 15, 18, 15, 15, 15, 19, 20, 19, 20, 18, 20, 20, 15, 15, 19, 19, 20, 15, 15, 19, 19, 20, 15, 15, 20, 20, 16, 19, 20, 15, 15, 15, 20, 16, 20, 15, 19, 20, 19, 20, 20, 15, 20, 20, 20, 15, 15, 20, 18, 19, 15, 19, 19, 15, 15, 19, 15, 15, 15, 15, 18, 18, 16, 19, 20, 16, 19, 19, 20, 19, 20, 18, 15, 16, 19, 15, 19, 18, 15, 19, 16, 18, 15, 19, 20, 15, 19, 19, 15, 18, 15, 15, 18, 20, 15, 19, 18, 15, 15, 18, 15, 19, 19, 15, 15, 19, 15, 19, 20, 18, 15, 18, 15, 19, 18, 15, 15, 20, 15, 15, 19, 15, 18, 19, 20, 15, 18, 15, 20, 19, 15, 18, 20, 20, 15, 15, 18, 18, 17, 19, 16, 20, 19, 19, 18, 20, 19, 20, 15, 18, 15, 18, 15, 20, 16, 18, 20, 15, 20, 15, 15, 19, 15, 19, 20, 15, 18, 20, 20, 18, 18, 19, 19, 15, 15, 15, 16, 15, 18, 19, 15, 18, 15, 18, 15, 19, 15, 15, 16, 18, 18, 15, 19, 18, 18, 20, 19, 15, 15, 18, 20, 20, 18, 20, 19, 15, 20, 15, 18, 18, 19, 19, 15, 20, 15, 20, 15, 20, 18, 18, 20, 15, 15, 19, 20, 15, 18, 15, 20, 15, 19, 20, 19, 16, 19, 15, 18, 20, 18, 18, 18, 15, 16, 18, 15, 16, 15, 18, 20, 16, 18, 15, 15, 15, 15, 20, 20, 16, 15, 19, 15, 20, 15, 18, 15, 20, 15, 15, 15, 20, 20, 17, 15, 18, 20, 20, 15, 15, 15, 15, 19, 18, 15, 15, 19, 15, 19, 18, 15, 15, 18, 16, 15, 19, 19, 19, 18, 19, 18, 18, 18, 15, 19, 20, 19, 15, 18, 15, 15, 15, 16, 15, 20, 20, 18, 16, 15, 20, 15, 15, 18, 15, 15, 15, 18, 15, 16, 15, 18, 16, 15, 16, 20, 18, 19, 18, 15, 15, 16, 18, 15, 20, 18, 18, 16, 19, 15, 18, 18, 18, 20, 20, 19, 15, 18, 20, 15, 16, 15, 15, 19, 15, 19, 18, 18, 15, 20, 16, 18, 18, 15, 15, 15, 15, 18, 18, 18, 15, 15, 15, 20, 18, 15, 15, 19, 18, 19, 18, 19, 15, 19, 19, 15, 15, 15, 18, 18, 20, 20, 15, 15, 19, 20, 15, 15, 15, 19, 15, 15, 15, 19, 15, 20, 16, 15, 15, 15, 16, 19, 15, 15, 19, 18, 19, 18, 15, 18, 15, 15, 19, 19, 15, 15, 16, 15, 18, 15, 15, 19, 19, 19, 20, 15, 20, 20, 18, 15, 18, 19, 15, 15, 19, 20, 16, 19, 18, 18, 15, 15, 20, 15, 20, 20, 15, 18, 15, 15, 20, 18, 19, 19, 15, 20, 15, 15, 20, 20, 18, 18, 15, 15, 18, 15, 15, 15, 19, 15, 20, 15, 18, 15, 16, 18, 19, 18, 19, 15, 18, 20, 15, 18, 15, 19, 20, 20, 15, 16, 15, 15, 15, 18, 18, 18, 16, 18, 19, 20, 16, 19, 15, 18, 20, 15, 15, 15, 19, 15, 15, 15, 19, 15, 18, 20, 16, 16, 15, 18, 16, 16, 15, 15, 15, 20, 19, 15, 15, 20, 18, 19, 18, 20, 19, 16, 19, 15, 16, 19, 19, 19, 19, 16, 20, 19, 15, 15, 20, 18, 15, 20, 18, 15, 15, 19, 19, 19, 15, 18, 20, 20, 15, 18, 19, 16, 19, 18, 15, 19, 20, 15, 18, 20, 15, 15, 20, 19, 20, 19, 15, 18, 18, 15, 20, 15, 19, 15, 19, 16, 18, 19, 19, 15, 20, 19, 19, 15, 20, 18, 15, 20, 16, 15, 19, 16, 18, 18, 18, 16, 19, 15, 18, 15, 18, 20, 19, 20, 19, 17, 15, 15, 20, 20, 20, 20, 15, 15, 18, 19, 18, 19, 15, 18, 15, 18, 15, 15, 20, 16, 20, 16, 20, 19, 15, 18, 15, 19, 18, 18, 17, 18, 18, 18, 15, 19, 15, 15, 15, 15, 15, 15, 15, 15, 18, 18, 15, 15, 15, 15, 19, 18, 15, 18, 16, 15, 15, 15, 15, 18, 18, 15, 18, 19, 19, 19, 15, 15, 18, 16, 15, 16, 18, 15, 19, 15, 15, 18, 15, 19, 15, 15, 20, 19, 20, 15, 18, 20, 15, 15, 19, 15, 18, 15, 15, 18, 15, 20, 18, 17, 20, 19, 19, 15, 15, 19, 18, 15, 18, 18, 15, 18, 19, 20, 15, 15, 15, 15, 15, 15, 16, 20, 16, 15, 15, 15, 16, 18, 15, 15, 20, 20, 15, 20, 15, 15, 20, 15, 15, 19, 18, 15, 17, 20, 15, 15, 20, 15, 20, 20, 19, 20, 15, 16, 15, 18, 19, 19, 20, 18, 15, 20, 19, 20, 19, 18, 15, 18, 18, 20, 20, 19, 15, 16, 20, 16, 15, 17, 19, 15, 18, 18, 15, 15, 20, 18, 15, 18, 20, 18, 16, 18, 15, 18, 19, 16, 18, 19, 15, 18, 20, 19, 15, 16, 15, 15, 20, 18, 15, 19, 15, 20, 19, 19, 20, 15, 19, 20, 20, 15, 20, 15, 20, 19, 18, 15, 19, 15, 15, 18, 15, 20, 19, 15, 15, 15, 19, 19, 15, 16, 19, 20, 18, 16, 18, 15, 19, 15, 20, 20, 19, 15, 18, 18, 20, 19, 15, 18, 16, 18, 19, 19, 15, 16, 18, 15, 19, 15, 15, 20, 16, 15, 20, 20, 18, 15, 16, 15, 19, 16, 20, 15, 15, 16, 15, 16, 19, 17, 18, 15, 15, 18, 20, 18, 20, 20, 19, 16, 15, 18, 16, 15, 15, 18, 15, 15, 16, 18, 17, 15, 15, 15, 18, 15, 19, 20, 15, 18, 15, 18, 20, 20, 19, 15, 20, 17, 15, 15, 15, 15, 20, 18, 18, 19, 20, 15, 19, 20, 15, 15, 20, 20, 15, 20, 20, 15, 19, 15, 17, 18, 15, 15, 19, 18, 20, 15, 15, 20, 20, 15, 15, 15, 15, 15, 19, 15, 18, 15, 20, 15, 18, 15, 15, 18, 15, 19, 19, 20, 15, 15, 20, 20, 16, 20, 18, 19, 20, 15, 15, 18, 20, 15, 15, 20, 18, 18, 20, 20, 15, 19, 15, 19, 18, 19, 20, 15, 15, 18, 15, 18, 15, 20, 20, 15, 19, 18, 15, 19, 15, 15, 20, 15, 15, 18, 15, 19, 19, 15, 19, 15, 19, 18, 15, 18, 15, 15, 19, 15, 20, 16, 18, 18, 15, 15, 16, 15, 16, 20, 15, 19, 18, 15, 15, 20, 19, 18, 16, 19, 19, 15, 19, 20, 15, 18, 15, 18, 18, 18, 15, 16, 18, 19, 16, 15, 16, 20, 15, 15, 15, 15, 19, 15, 15, 20, 20, 18, 20, 16, 16, 15, 16, 19, 15, 19, 15, 15, 18, 18, 20, 20, 20, 15, 18, 18, 19, 15, 19, 19, 18, 20, 20, 19, 19, 15, 18, 18, 16, 20, 15, 20, 15, 20, 15, 18, 15, 20, 18, 19, 18, 20, 18, 19, 18, 16, 18, 20, 18, 18, 15, 16, 19, 15, 20, 20, 20, 15, 15, 19, 16, 16, 18, 15, 15, 16, 19, 19, 20, 20, 19, 15, 16, 19, 15, 16, 19, 15, 20, 19, 20, 19, 19, 18, 16, 19, 19, 15, 18, 20, 15, 18, 20, 19, 20, 15, 20, 19, 15, 18, 15, 15, 19, 16, 19, 19, 15, 20, 15, 20, 18, 19, 19, 15, 19, 15, 15, 15, 18, 19, 18, 20, 15, 19, 18, 19, 15, 15, 15, 15, 18, 20, 18, 15, 18, 18, 15, 15, 18, 18, 18, 20, 17, 18, 20, 19, 18, 18, 20, 15, 18, 15, 20, 15, 20, 16, 18, 18, 17, 16, 16, 18, 19, 15, 20, 15, 19, 20, 15, 15, 15, 15, 18, 15, 19, 18, 15, 19, 15, 15, 18, 15, 15, 15, 19, 15, 19, 20, 19, 15, 19, 15, 15, 15, 18, 15, 19, 15, 16, 15, 16, 18, 20, 19, 20, 18, 19, 19, 15, 19, 18, 15, 15, 15, 15, 16, 18, 20, 18, 18, 20, 15, 20, 16, 18, 16, 18, 15, 20, 15, 15, 15, 15, 15, 18, 15, 18, 15, 16, 15, 18, 18, 18, 18, 15, 18, 15, 15, 15, 19, 18, 15, 16, 20, 16, 20, 20, 18, 20, 15, 20, 16, 19, 15, 20, 20, 16, 15, 19, 15, 19, 15, 18, 15, 15, 16, 19, 15, 19, 15, 16, 19, 18, 19, 18, 20, 19, 18, 18, 15, 15, 20, 20, 18, 20, 19, 18, 19, 18, 20, 19, 18, 16, 15, 15, 16, 18, 15, 19, 18, 16, 20, 15, 19, 19, 19, 20, 15, 15, 16, 16, 18, 16, 19, 20, 19, 15, 19, 19, 15, 19, 19, 20, 20, 15, 19, 19, 15, 15, 15, 20, 15, 18, 20, 18, 15, 15, 19, 15, 18, 15, 16, 18, 19, 15, 15, 15, 15, 19, 15, 20, 16, 20, 18, 19, 15, 20, 18, 15, 15, 15, 18, 15, 15, 16, 18, 15, 20, 15, 18, 18, 18, 20, 15, 20, 15, 16, 16, 18, 16, 18, 20, 15, 20, 18, 15, 16, 16, 15, 18, 19, 20, 15, 17, 15, 18, 15, 20, 15, 18, 19, 17, 18, 18, 15, 20, 15, 18, 20, 18, 15, 16, 15, 19, 15, 20, 19, 19, 15, 19, 18, 20, 18, 19, 15, 17, 18, 15, 18, 18, 15, 15, 15, 15, 18, 18, 15, 19, 18, 20, 18, 15, 15, 19, 20, 20, 15, 18, 18, 15, 20, 15, 16, 19, 15, 19, 18, 19, 15, 18, 18, 15, 16, 20, 18, 18, 19, 15, 15, 15, 15, 15, 19, 15, 15, 19, 18, 16, 15, 18, 15, 18, 20, 18, 15, 20, 15, 18, 15, 20, 20, 15, 16, 15, 15, 20, 15, 19, 20, 17, 18, 20, 20, 15, 15, 19, 18, 20, 15, 20, 15, 20, 18, 18, 18, 20, 19, 19, 18, 15, 15, 19, 19, 15, 18, 18, 19, 18, 19, 18, 18, 18, 15, 18, 15, 19, 18, 15, 20, 20, 19, 15, 16, 15, 15, 15, 18, 18, 15, 15, 15, 16, 18, 20, 19, 15, 15, 15, 19, 15, 16, 20, 18, 15, 15, 15, 20, 15, 18, 20, 19, 16, 18, 20, 15, 18, 18, 20, 19, 18, 15, 18, 20, 19, 18, 15, 20, 18, 19, 19, 15, 15, 15, 19, 18, 16, 16, 18, 15, 15, 20, 15, 15, 19, 16, 15, 15, 20, 15, 15, 19, 18, 16, 18, 18, 15, 20, 15, 15, 20, 19, 16, 15, 19, 18, 15, 19, 15, 18, 19, 18, 20, 18, 15, 15, 15, 18, 20, 18, 20, 20, 18, 15, 20, 19, 19, 16, 15, 15, 16, 18, 15, 16, 16, 19, 18, 19, 15, 20, 19, 20, 15, 15, 15, 19, 20, 15, 18, 18, 16, 15, 15, 15, 18, 20, 19, 20, 18, 15, 20, 15, 16, 15, 15, 18, 18, 20, 15, 20, 16, 20, 16, 15, 20, 20, 15, 18, 18, 19, 20, 19, 18, 19, 15, 15, 19, 19, 20, 15, 17, 20, 19, 19, 15, 15, 18, 18, 18, 20, 15, 20, 18, 18, 18, 20, 19, 20, 19, 17, 18, 18, 15, 18, 18, 20, 15, 19, 15, 18, 20, 18, 16, 18, 18, 15, 20, 19, 15, 18, 15, 15, 15, 15, 18, 19, 15, 19, 19, 15, 18, 19, 19, 16, 18, 19, 15, 15, 19, 18, 20, 18, 20, 15, 15, 19, 19, 20, 17, 19, 15, 18, 20, 18, 18, 15, 18, 18, 18, 20, 15, 20, 15, 15, 19, 17, 20, 19, 19, 18, 18, 15, 19, 18, 15, 20, 16, 20, 15, 15, 20, 16, 15, 15, 19, 18, 18, 15, 18, 18, 20, 18, 20, 17, 20, 15, 18, 18, 19, 18, 20, 19, 19, 20, 15, 15, 15, 15, 16, 19, 15, 20, 15, 17, 20, 16, 15, 15, 15, 15, 15, 20, 16, 19, 20, 20, 20, 15, 18, 19, 19, 16, 17, 15, 18, 18, 15, 18, 16, 18, 19, 18, 18, 20, 19, 20, 19, 19, 18, 20, 18, 20, 18, 15, 20, 19, 16, 19, 15, 15, 15, 15, 20, 18, 20, 15, 19, 18, 18, 16, 18, 17, 20, 15, 20, 15, 20, 15, 20, 15, 15, 20, 15, 20, 15, 15, 20, 15, 19, 20, 18, 20, 15, 15, 15, 15, 19, 16, 15, 19, 16, 19, 15, 15, 20, 18, 16, 20, 19, 18, 18, 19, 15, 19, 19, 18, 15, 15, 20, 15, 18, 18, 19, 15, 19, 18, 20, 15, 19, 20, 20, 15, 16, 20, 15, 20, 15, 19, 15, 15, 18, 15, 18, 20, 15, 15, 18, 16, 19, 18, 15, 15, 19, 15, 17, 20, 18, 15, 20, 17, 19, 20, 19, 18, 20, 20, 20, 19, 15, 16, 16, 15, 15, 15, 15, 20, 15, 18, 15, 15, 20, 15, 18, 16, 18, 16, 20, 20, 20, 15, 20, 19, 19, 15, 16, 15, 20, 15, 20, 20, 15, 15, 15, 20, 20, 15, 20, 20, 20, 15, 15, 15, 18, 15, 20, 20, 18, 19, 20, 19, 18, 18, 15, 15, 16, 15, 19, 19, 18, 20, 20, 15, 15, 15, 18, 18, 19, 18, 18, 15, 18, 15, 19, 20, 18, 20, 15, 15, 15, 15, 20, 15, 15, 20, 15, 18, 20, 19, 19, 20, 20, 18, 20, 18, 15, 20, 15, 20, 16, 15, 17, 20, 18, 19, 19, 18, 15, 19, 19, 15, 19, 18, 15, 19, 15, 20, 15, 20, 15, 15, 19, 15, 19, 20, 18, 15, 15, 16, 15, 15, 20, 17, 15, 15, 15, 19, 15, 15, 18, 19, 18, 19, 16, 18, 16, 15, 19, 18, 18, 16, 18, 18, 19, 15, 19, 16, 15, 18, 19, 15, 20, 20, 15, 15, 15, 20, 15, 18, 15, 16, 18, 15, 15, 15, 18, 18, 15, 18, 19, 15, 15, 20, 20, 19, 15, 15, 19, 19, 15, 15, 15, 15, 18, 20, 15, 18, 17, 15, 18, 18, 19, 18, 15, 15, 15, 15, 18, 19, 15, 15, 20, 19, 15, 15, 15, 19, 18, 15, 19, 20, 19, 16, 20, 15, 15, 15, 19, 15, 15, 15, 17, 16, 15, 15, 19, 15, 20, 16, 19, 18, 16, 20, 15, 18, 15, 15, 15, 15, 19, 18, 19, 18, 19, 19, 15, 15, 19, 15, 18, 18, 19, 15, 20, 16, 18, 15, 20, 17, 19, 18, 15, 18, 19, 18, 15, 19, 15, 15, 15, 18, 15, 15, 15, 18, 16, 15, 20, 18, 20, 15, 15, 15, 20, 15, 19, 20, 15, 20, 20, 18, 20, 20, 18, 19, 20, 19, 15, 15, 16, 15, 19, 15, 19, 15, 18, 17, 15, 16, 19, 18, 19, 16, 15, 18, 19, 20, 15, 15, 20, 19, 15, 19, 20, 19, 15, 18, 18, 15, 16, 20, 15, 20, 20, 20, 18, 15, 18, 15, 15, 20, 20, 15, 15, 15, 20, 19, 19, 15, 15, 20, 20, 15, 15, 19, 19, 15, 19, 15, 20, 19, 15, 18, 19, 18, 16, 15, 19, 15, 18, 20, 18, 18, 18, 18, 19, 18, 20, 18, 19, 18, 15, 15, 15, 18, 15, 15, 18, 18, 15, 19, 19, 15, 18, 15, 19, 15, 19, 15, 15, 20, 15, 19, 15, 15, 15, 18, 15, 18, 15, 18, 15, 16, 19, 15, 20, 20, 15, 15, 20, 19, 20, 18, 18, 20, 15, 18, 15, 20, 19, 20, 18, 20, 15, 15, 15, 15, 15, 20, 18, 18, 15, 15, 17, 15, 20, 18, 15, 20, 20, 18, 15, 15, 19, 18, 15, 18, 19, 15, 15, 20, 15, 19, 15, 15, 15, 15, 19, 18, 18, 18, 19, 15, 15, 18, 18, 18, 18, 20, 18, 15, 15, 20, 19, 19, 15, 15, 20, 18, 20, 15, 20, 20, 15, 18, 15, 20, 15, 15, 18, 17, 18, 19, 20, 17, 15, 15, 19, 15, 18, 20, 16, 20, 16, 15, 18, 15, 18, 15, 15, 18, 19, 20, 15, 15, 15, 20, 15, 19, 18, 18, 19, 20, 18, 18, 20, 19, 15, 19, 18, 20, 18, 15, 15, 20, 18, 19, 20, 18, 19, 15, 20, 19, 18, 15, 20, 19, 20, 15, 15, 16, 18, 20, 20, 20, 15, 19, 15, 20, 19, 19, 18, 18, 19, 15, 15, 19, 15, 15, 18, 20, 19, 20, 16, 15, 19, 19, 18, 18, 18, 17, 15, 15, 20, 20, 20, 15, 18, 15, 18, 18, 19, 15, 19, 15, 20, 20, 18, 20, 15, 18, 20, 20, 19, 15, 17, 15, 19, 20, 19, 18, 20, 15, 18, 15, 20, 19, 19, 20, 15, 20, 16, 18, 20, 19, 20, 15, 15, 20, 18, 18, 15, 15, 15, 16, 20, 19, 18, 18, 15, 16, 17, 18, 19, 15, 19, 16, 16, 15, 20, 15, 15, 15, 16, 19, 15, 16, 18, 18, 15, 19, 19, 19, 20, 15, 18, 15, 15, 15, 20, 19, 18, 19, 19, 18, 15, 18, 15, 18, 15, 18, 15, 15, 18, 18, 18, 19, 15, 15, 19, 18, 18, 15, 18, 16, 19, 15, 18, 18, 15, 19, 19, 19, 19, 15, 19, 15, 15, 15, 16, 19, 20, 20, 20, 15, 15, 16, 20, 15, 20, 15, 19, 18, 19, 15, 15, 18, 18, 20, 19, 18, 18, 19, 20, 20, 20, 18, 15, 15, 19, 20, 15, 15, 20, 15, 15, 15, 15, 15, 15, 18, 15, 18, 15, 16, 18, 18, 20, 20, 20, 19, 18, 15, 20, 15, 18, 20, 15, 19, 15, 20, 16, 20, 15, 15, 19, 15, 16, 15, 18, 18, 17, 15, 16, 15, 15, 18, 19, 15, 15, 15, 18, 18, 18, 15, 20, 16, 15, 20, 19, 15, 15, 19, 19, 15, 19, 19, 15, 18, 15, 18, 15, 19, 20, 15, 20, 19, 15, 15, 20, 19, 15, 19, 18, 16, 15, 15, 18, 15, 20, 15, 19, 19, 16, 18, 19, 19, 15, 20, 18, 15, 15, 15, 15, 20, 20, 15, 16, 16, 15, 19, 16, 18, 20, 16, 19, 18, 15, 19, 19, 16, 18, 20, 17, 20, 15, 15, 15, 15, 19, 15, 15, 18, 19, 15, 19, 20, 15, 18, 18, 16, 15, 18, 20, 19, 18, 16, 15, 15, 19, 20, 15, 19, 19, 20, 19, 15, 15, 18, 20, 15, 18, 20, 15, 15, 16, 18, 18, 16, 15, 15, 20, 19, 15, 18, 15, 15, 20, 18, 20, 16, 18, 15, 15, 16, 19, 20, 15, 15, 18, 15, 19, 15, 15, 15, 19, 16, 19, 19, 20, 20, 15, 18, 15, 19, 15, 18, 20, 15, 19, 15, 20, 15, 19, 18, 15, 16, 20, 18, 15, 19, 15, 16, 19, 15, 15, 20, 18, 15, 15, 18, 19, 18, 20, 15, 15, 15, 19, 16, 15, 20, 15, 20, 18, 16, 19, 19, 18, 18, 18, 15, 19, 16, 15, 18, 18, 15, 19, 19, 20, 15, 15, 18, 18, 16, 20, 20, 15, 15, 15, 19, 18, 19, 15, 18, 15, 18, 20, 15, 18, 15, 15, 20, 15, 16, 20, 15, 15, 15, 18, 20, 18, 18, 20, 18, 15, 20, 18, 15, 19, 16, 20, 18, 15, 18, 15, 20, 15, 18, 18, 20, 18, 19, 15, 20, 19, 15, 18, 20, 19, 15, 18, 20, 20, 15, 18, 15, 18, 16, 20, 18, 18, 20, 18, 19, 15, 18, 18, 15, 18, 15, 18, 15, 15, 18, 20, 20, 15, 19, 15, 19, 19, 18, 18, 15, 20, 15, 18, 16, 15, 15, 20, 15, 19, 15, 15, 16, 15, 20, 19, 15, 20, 15, 16]\n",
            "outliers in column  EmploymentStatusDuration  have outlier  [426.0, 539.0, 427.0, 551.0, 395.0, 381.0, 534.0, 384.0, 380.0, 413.0, 407.0, 400.0, 456.0, 446.0, 409.0, 450.0, 378.0, 517.0, 398.0, 390.0, 456.0, 424.0, 547.0, 442.0, 378.0, 376.0, 431.0, 469.0, 399.0, 382.0, 445.0, 374.0, 491.0, 378.0, 443.0, 378.0, 442.0, 464.0, 507.0, 492.0, 399.0, 438.0, 520.0, 461.0, 376.0, 414.0, 381.0, 396.0, 416.0, 393.0, 458.0, 496.0, 421.0, 420.0, 732.0, 401.0, 623.0, 431.0, 422.0, 409.0, 415.0, 370.0, 398.0, 370.0, 515.0, 447.0, 376.0, 423.0, 428.0, 404.0, 410.0, 414.0, 374.0, 468.0, 392.0, 456.0, 471.0, 374.0, 398.0, 374.0, 382.0, 475.0, 393.0, 395.0, 476.0, 460.0, 421.0, 538.0, 399.0, 388.0, 443.0, 499.0, 392.0, 494.0, 447.0, 373.0, 445.0, 386.0, 395.0, 497.0, 402.0, 384.0, 393.0, 420.0, 415.0, 432.0, 396.0, 479.0, 473.0, 431.0, 428.0, 398.0, 556.0, 400.0, 404.0, 423.0, 395.0, 423.0, 486.0, 374.0, 377.0, 402.0, 496.0, 488.0, 423.0, 405.0, 384.0, 438.0, 370.0, 426.0, 396.0, 421.0, 371.0, 528.0, 421.0, 536.0, 435.0, 391.0, 391.0, 422.0, 479.0, 416.0, 406.0, 397.0, 413.0, 430.0, 381.0, 404.0, 424.0, 423.0, 389.0, 548.0, 428.0, 380.0, 392.0, 464.0, 396.0, 425.0, 422.0, 426.0, 461.0, 446.0, 451.0, 377.0, 370.0, 628.0, 387.0, 406.0, 404.0, 382.0, 417.0, 373.0, 505.0, 379.0, 435.0, 395.0, 379.0, 388.0, 505.0, 393.0, 371.0, 529.0, 382.0, 372.0, 417.0, 388.0, 445.0, 379.0, 392.0, 405.0, 422.0, 438.0, 396.0, 406.0, 393.0, 482.0, 409.0, 507.0, 386.0, 458.0, 480.0, 375.0, 403.0, 496.0, 389.0, 391.0, 408.0, 402.0, 443.0, 454.0, 522.0, 391.0, 377.0, 420.0, 427.0, 496.0, 374.0, 434.0, 424.0, 397.0, 449.0, 391.0, 375.0, 476.0, 373.0, 415.0, 444.0, 448.0, 407.0, 418.0, 478.0, 410.0, 375.0, 590.0, 421.0, 372.0, 393.0, 377.0, 378.0, 389.0, 524.0, 433.0, 399.0, 476.0, 385.0, 589.0, 392.0, 380.0, 482.0, 418.0, 550.0, 388.0, 499.0, 405.0, 384.0, 486.0, 435.0, 504.0, 388.0, 388.0, 408.0, 405.0, 391.0, 394.0, 419.0, 394.0, 390.0, 475.0, 383.0, 423.0, 532.0, 429.0, 410.0, 404.0, 383.0, 474.0, 399.0, 399.0, 505.0, 423.0, 441.0, 378.0, 444.0, 487.0, 371.0, 435.0, 407.0, 527.0, 415.0, 404.0, 414.0, 404.0, 390.0, 402.0, 398.0, 375.0, 433.0, 491.0, 400.0, 397.0, 474.0, 398.0, 506.0, 430.0, 481.0, 417.0, 377.0, 535.0, 407.0, 391.0, 420.0, 414.0, 486.0, 425.0, 409.0, 418.0, 575.0, 508.0, 375.0, 504.0, 406.0, 430.0, 488.0, 390.0, 459.0, 423.0, 411.0, 521.0, 386.0, 443.0, 435.0, 405.0, 477.0, 530.0, 378.0, 418.0, 394.0, 372.0, 408.0, 396.0, 395.0, 413.0, 384.0, 387.0, 639.0, 515.0, 422.0, 395.0, 373.0, 588.0, 380.0, 398.0, 414.0, 400.0, 487.0, 371.0, 510.0, 407.0, 485.0, 441.0, 387.0, 432.0, 472.0, 403.0, 457.0, 418.0, 393.0, 535.0, 422.0, 490.0, 544.0, 392.0, 425.0, 370.0, 506.0, 443.0, 392.0, 572.0, 468.0, 387.0, 484.0, 404.0, 378.0, 393.0, 405.0, 450.0, 474.0, 437.0, 385.0, 471.0, 519.0, 393.0, 406.0, 526.0, 499.0, 410.0, 405.0, 571.0, 387.0, 397.0, 413.0, 462.0, 458.0, 413.0, 388.0, 446.0, 406.0, 497.0, 437.0, 429.0, 383.0, 400.0, 439.0, 396.0, 419.0, 527.0, 484.0, 397.0, 455.0, 418.0, 375.0, 431.0, 619.0, 389.0, 407.0, 402.0, 434.0, 373.0, 396.0, 372.0, 460.0, 449.0, 401.0, 384.0, 461.0, 452.0, 588.0, 407.0, 395.0, 476.0, 465.0, 415.0, 410.0, 385.0, 405.0, 685.0, 524.0, 377.0, 410.0, 496.0, 376.0, 376.0, 537.0, 452.0, 415.0, 434.0, 433.0, 450.0, 393.0, 402.0, 416.0, 386.0, 524.0, 489.0, 379.0, 384.0, 405.0, 616.0, 437.0, 381.0, 429.0, 401.0, 384.0, 443.0, 397.0, 410.0, 377.0, 430.0, 386.0, 382.0, 373.0, 455.0, 378.0, 391.0, 409.0, 444.0, 472.0, 516.0, 383.0, 377.0, 455.0, 403.0, 584.0, 463.0, 383.0, 425.0, 515.0, 433.0, 396.0, 521.0, 376.0, 449.0, 448.0, 393.0, 431.0, 498.0, 458.0, 385.0, 388.0, 431.0, 373.0, 381.0, 403.0, 467.0, 540.0, 426.0, 555.0, 380.0, 441.0, 387.0, 429.0, 393.0, 388.0, 468.0, 429.0, 528.0, 469.0, 547.0, 486.0, 418.0, 447.0, 404.0, 417.0, 455.0, 490.0, 406.0, 436.0, 397.0, 379.0, 406.0, 418.0, 411.0, 381.0, 455.0, 401.0, 424.0, 406.0, 380.0, 420.0, 401.0, 489.0, 390.0, 404.0, 395.0, 461.0, 420.0, 474.0, 404.0, 497.0, 408.0, 429.0, 414.0, 379.0, 430.0, 423.0, 438.0, 403.0, 556.0, 432.0, 385.0, 420.0, 447.0, 420.0, 473.0, 419.0, 405.0, 411.0, 380.0, 377.0, 410.0, 626.0, 510.0, 398.0, 385.0, 400.0, 403.0, 479.0, 509.0, 370.0, 580.0, 496.0, 390.0, 403.0, 387.0, 384.0, 439.0, 406.0, 377.0, 393.0, 551.0, 377.0, 383.0, 425.0, 422.0, 393.0, 389.0, 372.0, 382.0, 403.0, 404.0, 458.0, 373.0, 441.0, 457.0, 440.0, 415.0, 462.0, 393.0, 389.0, 394.0, 395.0, 438.0, 571.0, 413.0, 385.0, 466.0, 372.0, 386.0, 487.0, 428.0, 409.0, 443.0, 518.0, 373.0, 482.0, 430.0, 485.0, 392.0, 389.0, 478.0, 426.0, 394.0, 488.0, 403.0, 385.0, 409.0, 397.0, 445.0, 377.0, 374.0, 386.0, 435.0, 388.0, 402.0, 403.0, 391.0, 414.0, 509.0, 437.0, 421.0, 395.0, 413.0, 388.0, 371.0, 474.0, 392.0, 413.0, 436.0, 392.0, 426.0, 429.0, 443.0, 517.0, 425.0, 490.0, 512.0, 497.0, 396.0, 376.0, 473.0, 383.0, 388.0, 382.0, 510.0, 394.0, 416.0, 379.0, 445.0, 415.0, 480.0, 389.0, 484.0, 458.0, 371.0, 406.0, 409.0, 377.0, 409.0, 449.0, 533.0, 390.0, 396.0, 570.0, 389.0, 380.0, 463.0, 451.0, 413.0, 375.0, 399.0, 397.0, 464.0, 426.0, 375.0, 465.0, 427.0, 393.0, 380.0, 444.0, 488.0, 472.0, 436.0, 402.0, 420.0, 477.0, 428.0, 371.0, 432.0, 491.0, 555.0, 497.0, 446.0, 382.0, 380.0, 467.0, 472.0, 381.0, 397.0, 472.0, 417.0, 372.0, 484.0, 464.0, 461.0, 402.0, 487.0, 436.0, 465.0, 527.0, 456.0, 393.0, 481.0, 520.0, 403.0, 632.0, 380.0, 385.0, 405.0, 393.0, 467.0, 405.0, 384.0, 377.0, 475.0, 482.0, 474.0, 434.0, 400.0, 373.0, 484.0, 370.0, 398.0, 462.0, 405.0, 407.0, 403.0, 376.0, 377.0, 400.0, 442.0, 401.0, 371.0, 371.0, 438.0, 393.0, 418.0, 450.0, 401.0, 506.0, 556.0, 492.0, 381.0, 427.0, 372.0, 409.0, 409.0, 583.0, 406.0, 408.0, 438.0, 449.0, 397.0, 387.0, 428.0, 472.0, 390.0, 389.0, 427.0, 419.0, 375.0, 444.0, 428.0, 412.0, 397.0, 394.0, 411.0, 390.0, 417.0, 394.0, 396.0, 402.0, 391.0, 472.0, 404.0, 383.0, 416.0, 380.0, 391.0, 436.0, 373.0, 459.0, 404.0, 582.0, 377.0, 449.0, 474.0, 375.0, 379.0, 445.0, 468.0, 436.0, 390.0, 460.0, 396.0, 376.0, 413.0, 388.0, 573.0, 406.0, 391.0, 564.0, 373.0, 416.0, 511.0, 431.0, 435.0, 370.0, 456.0, 370.0, 404.0, 372.0, 447.0, 409.0, 406.0, 376.0, 472.0, 454.0, 453.0, 413.0, 392.0, 617.0, 395.0, 466.0, 381.0, 459.0, 379.0, 471.0, 444.0, 562.0, 383.0, 456.0, 516.0, 370.0, 399.0, 390.0, 450.0, 391.0, 391.0, 391.0, 537.0, 639.0, 405.0, 420.0, 408.0, 408.0, 410.0, 479.0, 385.0, 492.0, 413.0, 466.0, 634.0, 541.0, 421.0, 370.0, 372.0, 389.0, 383.0, 415.0, 429.0, 417.0, 384.0, 425.0, 417.0, 464.0, 523.0, 755.0, 422.0, 493.0, 376.0, 407.0, 420.0, 389.0, 388.0, 472.0, 382.0, 383.0, 408.0, 441.0, 455.0, 398.0, 409.0, 432.0, 416.0, 441.0, 428.0, 371.0, 424.0, 414.0, 429.0, 509.0, 381.0, 394.0, 399.0, 487.0, 400.0, 374.0, 381.0, 678.0, 382.0, 379.0, 380.0, 379.0, 371.0, 440.0, 499.0, 492.0, 379.0, 423.0, 382.0, 402.0, 389.0, 495.0, 395.0, 395.0, 400.0, 408.0, 376.0, 383.0, 408.0, 398.0, 389.0, 391.0, 449.0, 394.0, 376.0, 558.0, 481.0, 386.0, 396.0, 396.0, 420.0, 412.0, 383.0, 405.0, 429.0, 425.0, 444.0, 474.0, 395.0, 407.0, 419.0, 397.0, 606.0, 470.0, 371.0, 434.0, 373.0, 397.0, 522.0, 584.0, 422.0, 371.0, 430.0, 403.0, 446.0, 424.0, 409.0, 375.0, 419.0, 397.0, 441.0, 404.0, 462.0, 435.0, 380.0, 480.0, 389.0, 514.0, 433.0, 482.0, 397.0, 375.0, 420.0, 504.0, 410.0, 623.0, 416.0, 510.0, 509.0, 413.0, 377.0, 411.0, 517.0, 374.0, 506.0, 394.0, 444.0, 648.0, 474.0, 380.0, 509.0, 387.0, 410.0, 447.0, 399.0, 407.0, 416.0, 408.0, 421.0, 437.0, 417.0, 394.0, 506.0, 396.0, 373.0, 463.0, 582.0, 379.0, 377.0, 532.0, 474.0, 403.0, 476.0, 398.0, 394.0, 445.0, 386.0, 434.0, 460.0, 434.0, 427.0, 384.0, 373.0, 412.0, 387.0, 532.0, 436.0, 398.0, 522.0, 482.0, 491.0, 481.0, 567.0, 517.0, 536.0, 380.0, 442.0, 404.0, 411.0, 459.0, 444.0, 499.0, 397.0, 662.0, 430.0, 371.0, 390.0, 410.0, 380.0, 430.0, 418.0, 558.0, 473.0, 386.0, 419.0, 428.0, 374.0, 416.0, 370.0, 439.0, 419.0, 433.0, 393.0, 468.0, 479.0, 541.0, 524.0, 390.0, 451.0, 372.0, 406.0, 418.0, 386.0, 405.0, 454.0, 733.0, 420.0, 422.0, 467.0, 539.0, 384.0, 407.0, 401.0, 427.0, 539.0, 427.0, 417.0, 491.0, 405.0, 519.0, 401.0, 429.0, 392.0, 452.0, 374.0, 391.0, 388.0, 690.0, 420.0, 433.0, 448.0, 397.0, 497.0, 454.0, 404.0, 647.0, 480.0, 375.0, 373.0, 411.0, 388.0, 521.0, 382.0, 435.0, 575.0, 394.0, 417.0, 420.0, 443.0, 373.0, 511.0, 456.0, 380.0, 413.0, 389.0, 477.0, 373.0, 487.0, 429.0, 440.0, 441.0, 489.0, 403.0, 388.0, 447.0, 440.0, 449.0, 542.0, 447.0, 404.0, 494.0, 387.0, 370.0, 401.0, 497.0, 540.0, 474.0, 392.0, 480.0, 374.0, 460.0, 415.0, 389.0, 381.0, 490.0, 379.0, 456.0, 380.0, 487.0, 380.0, 484.0, 390.0, 464.0, 475.0, 372.0, 439.0, 371.0, 377.0, 388.0, 403.0, 499.0, 440.0, 417.0, 522.0, 521.0, 395.0, 382.0, 405.0, 470.0, 450.0, 452.0, 469.0, 513.0, 425.0, 466.0, 451.0, 386.0, 442.0, 394.0, 463.0, 372.0, 396.0, 497.0, 374.0, 490.0, 498.0, 469.0, 399.0, 371.0, 469.0, 413.0, 450.0, 438.0, 425.0, 387.0, 406.0, 528.0, 427.0, 465.0, 562.0, 405.0, 412.0, 550.0, 649.0, 380.0, 373.0, 387.0, 423.0, 385.0, 496.0, 378.0, 637.0, 386.0, 438.0, 548.0, 412.0, 610.0, 436.0, 392.0, 469.0, 396.0, 471.0, 420.0, 377.0, 376.0, 396.0, 409.0, 375.0, 371.0, 417.0, 490.0, 407.0, 435.0, 635.0, 383.0, 384.0, 405.0, 426.0, 449.0, 431.0, 395.0, 426.0, 507.0, 491.0, 464.0, 458.0, 394.0, 410.0, 487.0, 408.0, 396.0, 413.0, 465.0, 371.0, 463.0, 389.0, 414.0, 389.0, 412.0, 475.0, 436.0, 517.0, 448.0, 526.0, 419.0, 443.0, 523.0, 403.0, 488.0, 433.0, 377.0, 582.0, 382.0, 557.0, 380.0, 463.0, 447.0, 493.0, 426.0, 396.0, 387.0, 426.0, 386.0, 415.0, 535.0, 419.0, 388.0, 422.0, 466.0, 411.0, 408.0, 540.0, 441.0, 481.0, 461.0, 390.0, 431.0, 492.0, 396.0, 435.0, 424.0, 444.0, 459.0, 385.0, 481.0, 500.0, 434.0, 386.0, 420.0, 407.0, 417.0, 475.0, 554.0, 486.0, 542.0, 396.0, 491.0, 501.0, 393.0, 395.0, 401.0, 491.0, 474.0, 402.0, 443.0, 424.0, 377.0, 398.0, 423.0, 404.0, 429.0, 514.0, 514.0, 388.0, 490.0, 429.0, 417.0, 414.0, 396.0, 469.0, 378.0, 441.0, 439.0, 430.0, 532.0, 403.0, 428.0, 381.0, 400.0, 397.0, 424.0, 446.0, 410.0, 392.0, 376.0, 466.0, 445.0, 416.0, 433.0, 417.0, 392.0, 397.0, 418.0, 465.0, 419.0, 405.0, 377.0, 412.0, 372.0, 476.0, 405.0, 396.0, 464.0, 372.0, 392.0, 538.0, 444.0, 407.0, 480.0, 494.0, 390.0, 409.0, 449.0, 371.0, 393.0, 437.0, 424.0, 442.0, 444.0, 405.0, 395.0, 637.0, 528.0, 400.0, 419.0, 452.0, 387.0, 568.0, 561.0, 424.0, 405.0, 399.0, 423.0, 379.0, 438.0, 381.0, 390.0, 375.0, 446.0, 390.0, 386.0, 415.0, 391.0, 385.0, 405.0, 492.0, 512.0, 486.0, 375.0, 431.0, 517.0, 452.0, 448.0, 371.0, 509.0, 427.0, 404.0, 386.0, 375.0, 400.0, 408.0, 447.0, 465.0, 458.0, 392.0, 567.0, 427.0, 470.0, 418.0, 506.0, 404.0, 407.0, 391.0, 466.0, 408.0, 385.0, 383.0, 556.0, 372.0, 418.0, 382.0, 397.0, 397.0, 415.0, 514.0, 540.0, 559.0, 449.0, 408.0, 495.0, 384.0, 454.0, 414.0, 441.0, 515.0, 417.0, 444.0, 430.0, 428.0, 446.0, 551.0, 540.0, 399.0, 383.0, 402.0, 417.0, 420.0, 469.0, 510.0, 375.0, 387.0, 439.0, 371.0, 377.0, 416.0, 437.0, 429.0, 421.0, 380.0, 381.0, 505.0, 430.0, 396.0, 427.0, 410.0, 421.0, 527.0, 416.0, 420.0, 402.0, 382.0, 419.0, 384.0, 405.0, 745.0, 454.0, 446.0, 448.0, 400.0, 653.0, 372.0, 413.0, 418.0, 415.0, 396.0, 412.0, 473.0, 398.0, 622.0, 508.0, 383.0, 401.0, 375.0, 414.0, 415.0, 419.0, 376.0, 428.0, 388.0, 513.0, 372.0, 397.0, 481.0, 374.0, 402.0, 414.0, 403.0, 444.0, 425.0, 470.0, 396.0, 442.0, 505.0, 400.0, 435.0, 390.0, 385.0, 381.0, 439.0, 392.0, 386.0, 382.0, 378.0, 478.0, 417.0, 560.0, 406.0, 387.0, 435.0, 475.0, 427.0, 430.0, 370.0, 465.0, 471.0, 644.0, 395.0, 496.0, 440.0, 434.0, 458.0, 480.0, 401.0, 372.0, 397.0, 398.0, 441.0, 425.0, 440.0, 398.0, 401.0, 413.0, 403.0, 491.0, 429.0, 672.0, 391.0, 473.0, 376.0, 493.0, 529.0, 407.0, 418.0, 459.0, 397.0, 440.0, 415.0, 375.0, 593.0, 384.0, 444.0, 599.0, 441.0, 466.0, 445.0, 371.0, 381.0, 390.0, 489.0, 389.0, 389.0, 422.0, 392.0, 441.0, 419.0, 412.0, 396.0, 476.0, 401.0, 379.0, 635.0, 469.0, 390.0, 462.0, 420.0, 372.0, 376.0, 475.0, 399.0, 470.0, 370.0, 401.0, 540.0, 377.0, 424.0, 502.0, 559.0, 441.0, 370.0, 417.0, 441.0, 516.0, 437.0, 410.0, 407.0, 516.0, 451.0, 411.0, 509.0, 451.0, 399.0, 399.0, 391.0, 385.0, 445.0, 518.0, 434.0, 405.0, 404.0, 552.0, 421.0, 393.0, 374.0, 374.0, 504.0, 396.0, 480.0, 445.0, 481.0, 386.0, 383.0, 381.0, 453.0, 376.0, 460.0, 445.0, 731.0, 400.0, 465.0, 467.0, 423.0, 388.0, 401.0, 374.0, 483.0, 491.0, 495.0, 420.0, 574.0, 385.0, 466.0, 446.0, 389.0, 464.0, 459.0, 390.0, 376.0, 407.0, 379.0, 372.0, 385.0, 617.0, 376.0, 378.0, 385.0, 455.0, 427.0, 449.0, 525.0, 372.0, 401.0, 451.0, 399.0, 477.0, 413.0, 496.0, 382.0, 415.0, 439.0, 536.0, 424.0, 378.0, 449.0, 449.0, 522.0, 378.0, 509.0, 407.0, 492.0, 406.0, 396.0, 375.0, 383.0, 440.0, 477.0, 424.0, 428.0, 387.0, 413.0, 383.0, 497.0, 492.0, 370.0, 409.0, 414.0, 476.0, 520.0, 450.0, 383.0, 422.0, 511.0, 502.0, 449.0, 396.0, 639.0, 374.0, 438.0, 426.0, 435.0, 432.0, 409.0, 428.0, 396.0, 398.0, 428.0, 391.0, 382.0, 446.0, 407.0, 457.0, 398.0, 388.0, 426.0, 390.0, 370.0, 447.0, 475.0, 484.0, 438.0, 384.0, 371.0, 423.0, 484.0, 394.0, 416.0, 438.0, 390.0, 394.0, 387.0, 423.0, 373.0, 403.0, 410.0, 430.0, 396.0, 412.0, 414.0, 413.0, 388.0, 388.0, 438.0, 476.0, 384.0, 454.0, 406.0, 439.0, 396.0, 407.0, 408.0, 375.0, 581.0, 381.0, 413.0, 430.0, 495.0, 444.0, 377.0, 423.0, 385.0, 455.0, 378.0, 377.0, 390.0, 407.0, 534.0, 375.0, 542.0, 407.0, 406.0, 385.0, 381.0, 377.0, 444.0, 437.0, 463.0, 426.0, 468.0, 371.0, 388.0, 392.0, 372.0, 378.0, 404.0, 409.0, 404.0, 405.0, 410.0, 392.0, 384.0, 394.0, 425.0, 413.0, 404.0, 422.0, 375.0, 420.0, 425.0, 450.0, 509.0, 504.0, 401.0, 493.0, 428.0, 384.0, 374.0, 407.0, 419.0, 401.0, 391.0, 440.0, 387.0, 578.0, 406.0, 421.0, 421.0, 427.0, 389.0, 390.0, 520.0, 388.0, 385.0, 373.0, 403.0, 419.0, 419.0, 412.0, 454.0, 458.0, 389.0, 453.0, 498.0, 451.0, 381.0, 425.0, 383.0, 413.0, 470.0, 398.0, 450.0, 381.0, 497.0, 583.0, 463.0, 379.0, 418.0, 442.0, 382.0, 428.0, 398.0, 440.0, 432.0, 498.0, 457.0, 394.0, 417.0, 418.0, 405.0, 385.0, 471.0, 403.0, 395.0, 390.0, 402.0, 458.0, 380.0, 533.0, 493.0, 379.0, 407.0, 418.0, 411.0, 461.0, 390.0, 420.0, 414.0, 377.0, 421.0, 387.0, 378.0, 412.0, 399.0, 511.0, 472.0, 463.0, 450.0, 413.0, 392.0, 505.0, 376.0, 378.0, 416.0, 442.0, 378.0, 550.0, 385.0, 424.0, 380.0, 392.0, 410.0, 371.0, 414.0, 472.0, 388.0, 402.0, 417.0, 395.0, 390.0, 396.0, 419.0, 419.0, 510.0, 410.0, 469.0, 427.0, 404.0, 387.0, 411.0, 380.0, 388.0, 401.0, 515.0, 409.0, 420.0, 459.0, 438.0, 466.0, 380.0, 523.0, 382.0, 405.0, 401.0, 480.0, 417.0, 384.0, 374.0, 402.0, 391.0, 374.0, 387.0, 432.0, 370.0, 448.0, 383.0, 415.0, 551.0, 375.0, 391.0, 428.0, 483.0, 433.0, 424.0, 414.0, 410.0, 444.0, 547.0, 451.0, 480.0]\n",
            "outliers in column  CreditScoreRangeLower  have outlier  [480.0, 480.0, 480.0, 480.0, 460.0, 480.0, 480.0, 460.0, 0.0, 460.0, 480.0, 0.0, 480.0, 460.0, 460.0, 480.0, 480.0, 480.0, 0.0, 480.0, 480.0, 480.0, 480.0, 480.0, 0.0, 0.0, 0.0, 0.0, 480.0, 480.0, 0.0, 460.0, 460.0, 460.0, 460.0, 460.0, 0.0, 460.0, 480.0, 480.0, 460.0, 460.0, 480.0, 0.0, 480.0, 460.0, 480.0, 480.0, 480.0, 480.0, 480.0, 0.0, 480.0, 480.0, 0.0, 460.0, 480.0, 480.0, 460.0, 480.0, 460.0, 480.0, 460.0, 480.0, 480.0, 460.0, 480.0, 480.0, 440.0, 480.0, 480.0, 480.0, 480.0, 460.0, 480.0, 460.0, 0.0, 0.0, 0.0, 460.0, 0.0, 0.0, 480.0, 480.0, 0.0, 480.0, 480.0, 480.0, 0.0, 420.0, 0.0, 480.0, 480.0, 460.0, 440.0, 460.0, 480.0, 460.0, 460.0, 460.0, 480.0, 480.0, 480.0, 480.0, 480.0, 0.0, 0.0, 480.0, 480.0, 480.0, 0.0, 480.0, 480.0, 480.0, 480.0, 480.0, 460.0, 0.0, 480.0, 480.0, 460.0, 480.0, 480.0, 0.0, 0.0, 480.0, 0.0, 480.0, 480.0, 480.0, 480.0, 480.0, 460.0, 460.0, 460.0, 460.0, 460.0, 480.0, 0.0, 0.0, 460.0, 480.0, 480.0, 480.0, 480.0, 0.0, 0.0, 480.0, 0.0, 480.0, 480.0, 460.0, 480.0, 0.0, 480.0, 480.0, 480.0, 480.0, 460.0, 0.0, 0.0, 460.0, 480.0, 460.0, 480.0, 480.0, 480.0, 480.0, 460.0, 440.0, 420.0, 460.0, 440.0, 480.0, 480.0, 480.0, 0.0, 0.0, 480.0, 480.0, 0.0, 0.0, 480.0, 0.0, 460.0, 0.0, 480.0, 480.0, 480.0, 440.0, 480.0, 460.0, 460.0, 0.0, 480.0, 460.0, 0.0, 460.0, 480.0, 480.0, 480.0, 480.0, 0.0, 0.0, 480.0, 480.0, 480.0, 440.0, 0.0, 480.0, 480.0, 480.0, 0.0, 440.0, 440.0, 460.0, 480.0, 420.0, 480.0, 460.0, 440.0, 480.0, 480.0, 460.0, 480.0, 0.0, 0.0, 480.0, 0.0, 480.0, 460.0, 460.0, 480.0, 460.0, 480.0, 0.0, 480.0, 480.0, 480.0, 0.0, 480.0, 0.0, 460.0, 460.0, 480.0, 460.0, 480.0, 480.0, 460.0, 460.0, 480.0, 460.0, 480.0, 440.0, 480.0, 480.0, 480.0, 0.0, 0.0, 460.0, 460.0, 480.0, 460.0, 440.0, 460.0, 480.0, 480.0, 480.0, 0.0, 480.0, 480.0, 0.0, 0.0, 480.0, 480.0, 440.0, 0.0, 460.0, 460.0, 460.0, 480.0, 480.0, 480.0, 480.0, 0.0, 0.0, 460.0, 480.0, 460.0, 460.0, 480.0, 420.0, 480.0, 480.0, 0.0, 460.0, 480.0, 480.0, 480.0, 440.0, 480.0, 460.0, 0.0, 0.0, 480.0, 440.0, 460.0, 0.0, 0.0, 480.0, 480.0, 480.0, 480.0, 460.0, 480.0, 0.0, 0.0, 460.0, 460.0, 460.0, 480.0, 0.0, 480.0, 480.0, 480.0, 480.0, 480.0, 480.0, 440.0, 480.0, 0.0, 0.0, 480.0, 0.0, 480.0, 480.0, 460.0, 480.0, 480.0, 460.0, 480.0, 460.0, 480.0, 440.0, 460.0, 460.0, 460.0, 480.0, 480.0, 0.0, 480.0, 460.0, 480.0, 460.0, 0.0, 420.0, 460.0, 480.0, 480.0, 480.0, 480.0, 0.0, 460.0, 460.0, 0.0, 480.0, 0.0, 0.0, 480.0, 480.0, 480.0, 480.0, 480.0, 460.0, 480.0, 460.0, 480.0, 480.0, 480.0, 0.0, 460.0, 480.0, 480.0, 480.0, 480.0, 0.0, 480.0, 0.0, 480.0, 480.0, 460.0, 480.0, 480.0, 480.0, 460.0, 480.0, 480.0, 480.0, 480.0, 480.0, 460.0, 480.0, 480.0, 0.0, 480.0, 460.0, 0.0, 460.0, 480.0, 460.0, 480.0, 0.0, 480.0, 480.0, 480.0, 460.0, 460.0, 480.0, 480.0, 480.0, 480.0, 440.0, 480.0, 460.0, 480.0, 0.0, 0.0, 0.0, 460.0, 480.0, 460.0, 460.0, 480.0, 480.0, 0.0, 480.0, 480.0, 480.0, 480.0, 480.0, 480.0, 0.0, 480.0, 440.0, 440.0, 460.0, 480.0, 480.0, 480.0, 480.0, 480.0, 0.0, 480.0, 480.0, 0.0, 480.0, 480.0, 480.0, 460.0, 480.0, 460.0, 440.0, 480.0, 480.0, 0.0, 460.0, 460.0, 480.0, 0.0, 480.0, 480.0, 480.0, 460.0, 440.0, 0.0, 460.0, 480.0, 480.0, 440.0, 0.0, 480.0, 480.0, 480.0, 480.0, 480.0, 480.0, 480.0, 480.0, 460.0, 480.0, 480.0, 480.0, 480.0, 480.0, 480.0, 0.0, 480.0, 440.0, 480.0, 460.0, 480.0, 480.0, 480.0, 460.0, 460.0, 480.0, 480.0, 480.0, 0.0, 480.0, 480.0, 480.0, 0.0, 480.0, 0.0, 480.0, 480.0, 460.0, 480.0, 480.0, 440.0, 480.0, 480.0, 0.0, 460.0, 480.0, 460.0, 0.0, 480.0, 440.0, 460.0, 0.0, 480.0, 460.0, 460.0, 480.0, 480.0, 480.0, 480.0, 0.0, 460.0, 480.0, 460.0, 440.0, 480.0, 460.0, 480.0, 480.0, 0.0, 460.0, 440.0, 0.0, 480.0, 460.0, 480.0, 480.0, 460.0, 460.0, 0.0, 440.0, 440.0, 480.0, 480.0, 480.0, 480.0, 440.0, 460.0, 0.0, 480.0, 480.0, 480.0, 0.0, 0.0, 480.0, 0.0, 480.0, 0.0, 480.0, 480.0, 0.0, 0.0, 0.0, 0.0, 460.0, 480.0, 480.0, 460.0, 460.0, 480.0, 0.0, 0.0, 0.0, 0.0, 440.0, 480.0, 460.0, 480.0, 480.0, 0.0, 0.0, 480.0, 0.0, 480.0, 480.0, 460.0, 480.0, 0.0, 480.0, 480.0, 480.0, 0.0, 480.0, 480.0, 480.0, 440.0, 0.0, 460.0, 480.0, 480.0, 460.0, 480.0, 480.0, 460.0, 480.0, 460.0, 440.0, 480.0, 480.0, 480.0, 0.0, 480.0, 480.0, 0.0, 480.0, 460.0, 0.0, 0.0, 0.0, 440.0, 480.0, 480.0, 440.0, 0.0, 460.0, 460.0, 480.0, 460.0, 460.0, 480.0, 460.0, 0.0, 480.0, 480.0, 480.0, 480.0, 480.0, 480.0, 440.0, 480.0, 480.0, 360.0, 0.0]\n",
            "outliers in column  CreditScoreRangeUpper  have outlier  [499.0, 499.0, 499.0, 499.0, 479.0, 499.0, 499.0, 479.0, 19.0, 479.0, 499.0, 19.0, 499.0, 479.0, 479.0, 499.0, 499.0, 499.0, 19.0, 499.0, 499.0, 499.0, 499.0, 499.0, 19.0, 19.0, 19.0, 19.0, 499.0, 499.0, 19.0, 479.0, 479.0, 479.0, 479.0, 479.0, 19.0, 479.0, 499.0, 499.0, 479.0, 479.0, 499.0, 19.0, 499.0, 479.0, 499.0, 499.0, 499.0, 499.0, 499.0, 19.0, 499.0, 499.0, 19.0, 479.0, 499.0, 499.0, 479.0, 499.0, 479.0, 499.0, 479.0, 499.0, 499.0, 479.0, 499.0, 499.0, 459.0, 499.0, 499.0, 499.0, 499.0, 479.0, 499.0, 479.0, 19.0, 19.0, 19.0, 479.0, 19.0, 19.0, 499.0, 499.0, 19.0, 499.0, 499.0, 499.0, 19.0, 439.0, 19.0, 499.0, 499.0, 479.0, 459.0, 479.0, 499.0, 479.0, 479.0, 479.0, 499.0, 499.0, 499.0, 499.0, 499.0, 19.0, 19.0, 499.0, 499.0, 499.0, 19.0, 499.0, 499.0, 499.0, 499.0, 499.0, 479.0, 19.0, 499.0, 499.0, 479.0, 499.0, 499.0, 19.0, 19.0, 499.0, 19.0, 499.0, 499.0, 499.0, 499.0, 499.0, 479.0, 479.0, 479.0, 479.0, 479.0, 499.0, 19.0, 19.0, 479.0, 499.0, 499.0, 499.0, 499.0, 19.0, 19.0, 499.0, 19.0, 499.0, 499.0, 479.0, 499.0, 19.0, 499.0, 499.0, 499.0, 499.0, 479.0, 19.0, 19.0, 479.0, 499.0, 479.0, 499.0, 499.0, 499.0, 499.0, 479.0, 459.0, 439.0, 479.0, 459.0, 499.0, 499.0, 499.0, 19.0, 19.0, 499.0, 499.0, 19.0, 19.0, 499.0, 19.0, 479.0, 19.0, 499.0, 499.0, 499.0, 459.0, 499.0, 479.0, 479.0, 19.0, 499.0, 479.0, 19.0, 479.0, 499.0, 499.0, 499.0, 499.0, 19.0, 19.0, 499.0, 499.0, 499.0, 459.0, 19.0, 499.0, 499.0, 499.0, 19.0, 459.0, 459.0, 479.0, 499.0, 439.0, 499.0, 479.0, 459.0, 499.0, 499.0, 479.0, 499.0, 19.0, 19.0, 499.0, 19.0, 499.0, 479.0, 479.0, 499.0, 479.0, 499.0, 19.0, 499.0, 499.0, 499.0, 19.0, 499.0, 19.0, 479.0, 479.0, 499.0, 479.0, 499.0, 499.0, 479.0, 479.0, 499.0, 479.0, 499.0, 459.0, 499.0, 499.0, 499.0, 19.0, 19.0, 479.0, 479.0, 499.0, 479.0, 459.0, 479.0, 499.0, 499.0, 499.0, 19.0, 499.0, 499.0, 19.0, 19.0, 499.0, 499.0, 459.0, 19.0, 479.0, 479.0, 479.0, 499.0, 499.0, 499.0, 499.0, 19.0, 19.0, 479.0, 499.0, 479.0, 479.0, 499.0, 439.0, 499.0, 499.0, 19.0, 479.0, 499.0, 499.0, 499.0, 459.0, 499.0, 479.0, 19.0, 19.0, 499.0, 459.0, 479.0, 19.0, 19.0, 499.0, 499.0, 499.0, 499.0, 479.0, 499.0, 19.0, 19.0, 479.0, 479.0, 479.0, 499.0, 19.0, 499.0, 499.0, 499.0, 499.0, 499.0, 499.0, 459.0, 499.0, 19.0, 19.0, 499.0, 19.0, 499.0, 499.0, 479.0, 499.0, 499.0, 479.0, 499.0, 479.0, 499.0, 459.0, 479.0, 479.0, 479.0, 499.0, 499.0, 19.0, 499.0, 479.0, 499.0, 479.0, 19.0, 439.0, 479.0, 499.0, 499.0, 499.0, 499.0, 19.0, 479.0, 479.0, 19.0, 499.0, 19.0, 19.0, 499.0, 499.0, 499.0, 499.0, 499.0, 479.0, 499.0, 479.0, 499.0, 499.0, 499.0, 19.0, 479.0, 499.0, 499.0, 499.0, 499.0, 19.0, 499.0, 19.0, 499.0, 499.0, 479.0, 499.0, 499.0, 499.0, 479.0, 499.0, 499.0, 499.0, 499.0, 499.0, 479.0, 499.0, 499.0, 19.0, 499.0, 479.0, 19.0, 479.0, 499.0, 479.0, 499.0, 19.0, 499.0, 499.0, 499.0, 479.0, 479.0, 499.0, 499.0, 499.0, 499.0, 459.0, 499.0, 479.0, 499.0, 19.0, 19.0, 19.0, 479.0, 499.0, 479.0, 479.0, 499.0, 499.0, 19.0, 499.0, 499.0, 499.0, 499.0, 499.0, 499.0, 19.0, 499.0, 459.0, 459.0, 479.0, 499.0, 499.0, 499.0, 499.0, 499.0, 19.0, 499.0, 499.0, 19.0, 499.0, 499.0, 499.0, 479.0, 499.0, 479.0, 459.0, 499.0, 499.0, 19.0, 479.0, 479.0, 499.0, 19.0, 499.0, 499.0, 499.0, 479.0, 459.0, 19.0, 479.0, 499.0, 499.0, 459.0, 19.0, 499.0, 499.0, 499.0, 499.0, 499.0, 499.0, 499.0, 499.0, 479.0, 499.0, 499.0, 499.0, 499.0, 499.0, 499.0, 19.0, 499.0, 459.0, 499.0, 479.0, 499.0, 499.0, 499.0, 479.0, 479.0, 499.0, 499.0, 499.0, 19.0, 499.0, 499.0, 499.0, 19.0, 499.0, 19.0, 499.0, 499.0, 479.0, 499.0, 499.0, 459.0, 499.0, 499.0, 19.0, 479.0, 499.0, 479.0, 19.0, 499.0, 459.0, 479.0, 19.0, 499.0, 479.0, 479.0, 499.0, 499.0, 499.0, 499.0, 19.0, 479.0, 499.0, 479.0, 459.0, 499.0, 479.0, 499.0, 499.0, 19.0, 479.0, 459.0, 19.0, 499.0, 479.0, 499.0, 499.0, 479.0, 479.0, 19.0, 459.0, 459.0, 499.0, 499.0, 499.0, 499.0, 459.0, 479.0, 19.0, 499.0, 499.0, 499.0, 19.0, 19.0, 499.0, 19.0, 499.0, 19.0, 499.0, 499.0, 19.0, 19.0, 19.0, 19.0, 479.0, 499.0, 499.0, 479.0, 479.0, 499.0, 19.0, 19.0, 19.0, 19.0, 459.0, 499.0, 479.0, 499.0, 499.0, 19.0, 19.0, 499.0, 19.0, 499.0, 499.0, 479.0, 499.0, 19.0, 499.0, 499.0, 499.0, 19.0, 499.0, 499.0, 499.0, 459.0, 19.0, 479.0, 499.0, 499.0, 479.0, 499.0, 499.0, 479.0, 499.0, 479.0, 459.0, 499.0, 499.0, 499.0, 19.0, 499.0, 499.0, 19.0, 499.0, 479.0, 19.0, 19.0, 19.0, 459.0, 499.0, 499.0, 459.0, 19.0, 479.0, 479.0, 499.0, 479.0, 479.0, 499.0, 479.0, 19.0, 499.0, 499.0, 499.0, 499.0, 499.0, 499.0, 459.0, 499.0, 499.0, 379.0, 19.0]\n",
            "outliers in column  CurrentCreditLines  have outlier  [28.0, 30.0, 33.0, 38.0, 30.0, 30.0, 27.0, 36.0, 27.0, 33.0, 27.0, 28.0, 27.0, 33.0, 29.0, 28.0, 28.0, 27.0, 29.0, 27.0, 28.0, 27.0, 29.0, 27.0, 29.0, 27.0, 32.0, 37.0, 28.0, 31.0, 30.0, 31.0, 30.0, 35.0, 27.0, 30.0, 27.0, 33.0, 27.0, 30.0, 27.0, 35.0, 29.0, 34.0, 29.0, 28.0, 31.0, 27.0, 28.0, 31.0, 27.0, 28.0, 27.0, 28.0, 27.0, 32.0, 27.0, 27.0, 28.0, 28.0, 27.0, 27.0, 32.0, 32.0, 27.0, 44.0, 34.0, 28.0, 36.0, 36.0, 27.0, 30.0, 38.0, 31.0, 29.0, 28.0, 29.0, 28.0, 35.0, 34.0, 31.0, 27.0, 28.0, 44.0, 33.0, 29.0, 33.0, 27.0, 28.0, 35.0, 33.0, 28.0, 28.0, 42.0, 30.0, 30.0, 29.0, 32.0, 31.0, 27.0, 33.0, 27.0, 28.0, 27.0, 29.0, 30.0, 27.0, 27.0, 27.0, 32.0, 28.0, 30.0, 32.0, 30.0, 28.0, 28.0, 33.0, 29.0, 29.0, 27.0, 27.0, 31.0, 27.0, 27.0, 35.0, 27.0, 28.0, 34.0, 32.0, 32.0, 29.0, 35.0, 31.0, 36.0, 32.0, 30.0, 33.0, 29.0, 29.0, 35.0, 30.0, 40.0, 27.0, 28.0, 29.0, 27.0, 27.0, 31.0, 39.0, 28.0, 33.0, 33.0, 29.0, 36.0, 35.0, 27.0, 38.0, 35.0, 34.0, 37.0, 27.0, 48.0, 29.0, 29.0, 29.0, 32.0, 29.0, 28.0, 32.0, 28.0, 54.0, 30.0, 27.0, 29.0, 29.0, 27.0, 30.0, 35.0, 27.0, 27.0, 27.0, 33.0, 33.0, 28.0, 28.0, 27.0, 27.0, 30.0, 28.0, 31.0, 31.0, 27.0, 29.0, 27.0, 28.0, 41.0, 27.0, 28.0, 27.0, 28.0, 28.0, 27.0, 27.0, 28.0, 28.0, 29.0, 31.0, 54.0, 34.0, 27.0, 27.0, 28.0, 31.0, 34.0, 28.0, 27.0, 28.0, 40.0, 32.0, 28.0, 31.0, 32.0, 27.0, 31.0, 28.0, 31.0, 27.0, 32.0, 27.0, 27.0, 30.0, 34.0, 34.0, 31.0, 28.0, 27.0, 29.0, 29.0, 33.0, 27.0, 27.0, 29.0, 28.0, 28.0, 30.0, 32.0, 27.0, 30.0, 30.0, 27.0, 35.0, 38.0, 52.0, 37.0, 32.0, 30.0, 28.0, 29.0, 30.0, 33.0, 38.0, 27.0, 30.0, 30.0, 28.0, 28.0, 48.0, 33.0, 28.0, 36.0, 28.0, 30.0, 29.0, 30.0, 27.0, 27.0, 27.0, 27.0, 30.0, 42.0, 28.0, 31.0, 35.0, 29.0, 32.0, 27.0, 37.0, 40.0, 31.0, 31.0, 40.0, 33.0, 28.0, 28.0, 31.0, 28.0, 28.0, 35.0, 35.0, 39.0, 29.0, 32.0, 28.0, 33.0, 34.0, 29.0, 29.0, 31.0, 27.0, 32.0, 27.0, 32.0, 28.0, 27.0, 41.0, 27.0, 31.0, 29.0, 30.0, 30.0, 30.0, 27.0, 30.0, 30.0, 28.0, 32.0, 27.0, 31.0, 27.0, 29.0, 32.0, 33.0, 30.0, 27.0, 31.0, 28.0, 29.0, 27.0, 29.0, 35.0, 32.0, 27.0, 28.0, 38.0, 28.0, 28.0, 27.0, 31.0, 28.0, 28.0, 29.0, 38.0, 27.0, 29.0, 31.0, 28.0, 31.0, 27.0, 27.0, 28.0, 29.0, 35.0, 32.0, 29.0, 31.0, 29.0, 28.0, 32.0, 30.0, 29.0, 31.0, 32.0, 36.0, 27.0, 28.0, 45.0, 29.0, 47.0, 35.0, 29.0, 34.0, 27.0, 27.0, 31.0, 29.0, 28.0, 27.0, 32.0, 27.0, 33.0, 29.0, 30.0, 30.0, 29.0, 33.0, 29.0, 36.0, 40.0, 28.0, 28.0, 34.0, 32.0, 29.0, 35.0, 27.0, 29.0, 27.0, 32.0, 30.0, 28.0, 56.0, 43.0, 37.0, 30.0, 32.0, 28.0, 39.0, 32.0, 31.0, 28.0, 31.0, 33.0, 29.0, 34.0, 33.0, 29.0, 30.0, 38.0, 28.0, 30.0, 31.0, 31.0, 28.0, 31.0, 28.0, 27.0, 30.0, 34.0, 35.0, 31.0, 39.0, 30.0, 33.0, 30.0, 38.0, 38.0, 32.0, 27.0, 30.0, 30.0, 28.0, 31.0, 44.0, 29.0, 31.0, 28.0, 36.0, 28.0, 30.0, 28.0, 35.0, 28.0, 27.0, 30.0, 30.0, 27.0, 33.0, 27.0, 28.0, 30.0, 27.0, 28.0, 36.0, 38.0, 30.0, 27.0, 29.0, 29.0, 29.0, 29.0, 41.0, 36.0, 30.0, 36.0, 29.0, 27.0, 31.0, 36.0, 38.0, 28.0, 29.0, 28.0, 27.0, 28.0, 27.0, 36.0, 34.0, 33.0, 35.0, 28.0, 32.0, 32.0, 30.0, 27.0, 28.0, 35.0, 31.0, 27.0, 29.0, 37.0, 34.0, 28.0, 35.0, 28.0, 30.0, 39.0, 28.0, 30.0, 28.0, 39.0, 27.0, 27.0, 28.0, 28.0, 27.0, 33.0, 59.0, 31.0, 30.0, 28.0, 31.0, 27.0, 27.0, 28.0, 33.0, 28.0, 28.0, 27.0, 33.0, 27.0, 32.0, 40.0, 30.0, 29.0, 27.0, 36.0, 42.0, 33.0, 27.0, 31.0, 33.0, 32.0, 35.0, 27.0, 29.0, 27.0, 29.0, 27.0, 28.0, 27.0, 27.0, 33.0, 27.0, 29.0, 29.0, 30.0, 30.0, 27.0, 32.0, 29.0, 27.0, 33.0, 29.0, 28.0, 27.0, 34.0, 33.0, 28.0, 27.0, 29.0, 35.0, 27.0, 36.0, 27.0, 33.0, 30.0, 32.0, 33.0, 27.0, 33.0, 28.0, 28.0, 30.0, 33.0, 34.0, 32.0, 34.0, 31.0, 28.0, 38.0, 30.0, 32.0, 30.0, 28.0, 29.0, 31.0, 36.0, 28.0, 29.0, 31.0, 29.0, 28.0, 29.0, 41.0, 31.0, 29.0, 27.0, 34.0, 27.0, 32.0, 31.0, 30.0, 27.0, 27.0, 29.0, 29.0, 41.0, 35.0, 35.0, 27.0, 28.0, 34.0, 27.0, 32.0, 30.0, 28.0, 30.0, 32.0, 38.0, 36.0, 28.0, 34.0, 31.0, 34.0, 34.0, 28.0, 27.0, 27.0, 29.0, 30.0, 28.0, 27.0, 31.0, 47.0, 40.0, 29.0, 27.0, 33.0, 28.0, 28.0, 30.0, 29.0, 27.0, 27.0, 31.0, 35.0, 28.0, 34.0, 29.0, 37.0, 33.0, 27.0, 35.0, 31.0, 27.0, 29.0, 36.0, 30.0, 32.0, 28.0, 35.0, 32.0, 29.0, 30.0, 27.0, 33.0, 30.0, 29.0, 56.0, 34.0, 38.0, 27.0, 38.0, 27.0, 39.0, 27.0, 29.0, 33.0, 28.0, 31.0, 29.0, 28.0, 30.0, 28.0, 33.0, 27.0, 37.0, 27.0, 29.0, 29.0, 31.0, 28.0, 27.0, 27.0, 33.0, 38.0, 28.0, 27.0, 27.0, 32.0, 30.0, 27.0, 28.0, 29.0, 39.0, 40.0, 27.0, 30.0, 37.0, 27.0, 27.0, 27.0, 29.0, 28.0, 30.0, 28.0, 29.0, 39.0, 29.0, 29.0, 27.0, 34.0, 36.0, 29.0, 28.0, 32.0, 31.0, 29.0, 37.0, 27.0, 32.0, 27.0, 29.0, 28.0, 27.0, 27.0, 28.0, 27.0, 28.0, 27.0, 27.0, 34.0, 27.0, 27.0, 30.0, 28.0, 27.0, 27.0, 28.0, 34.0, 36.0, 30.0, 30.0, 27.0, 30.0, 28.0, 31.0, 34.0, 41.0, 52.0, 28.0, 29.0, 31.0, 27.0, 37.0, 27.0, 30.0, 30.0, 33.0, 28.0, 28.0, 28.0, 28.0, 34.0, 32.0, 27.0, 29.0, 29.0, 27.0, 30.0, 40.0, 33.0, 29.0, 28.0, 32.0, 32.0, 34.0, 29.0, 27.0, 27.0, 27.0, 31.0, 28.0, 27.0, 28.0, 28.0, 27.0, 29.0, 31.0, 28.0, 28.0, 27.0, 31.0, 30.0, 29.0, 29.0, 29.0, 31.0, 36.0, 36.0, 36.0, 36.0, 35.0, 27.0, 28.0, 29.0, 28.0, 29.0, 28.0, 37.0, 31.0, 27.0, 30.0, 29.0, 27.0, 34.0, 32.0, 29.0, 28.0, 27.0, 36.0, 35.0, 30.0, 32.0, 37.0, 31.0, 30.0, 31.0, 35.0, 28.0, 51.0, 33.0, 28.0, 27.0, 27.0, 28.0, 38.0, 28.0, 34.0, 32.0, 27.0, 37.0, 28.0, 37.0, 27.0, 33.0, 29.0, 37.0, 31.0, 29.0, 29.0, 27.0, 31.0, 30.0, 28.0, 27.0, 27.0, 27.0, 27.0, 28.0, 31.0, 35.0, 28.0, 32.0, 27.0, 28.0, 28.0, 31.0, 28.0, 30.0, 29.0, 37.0, 28.0, 44.0, 36.0, 27.0, 32.0, 30.0, 31.0, 27.0, 30.0, 35.0, 31.0, 27.0, 30.0, 35.0, 29.0, 28.0, 33.0, 29.0, 36.0, 27.0, 34.0, 31.0, 33.0, 28.0, 28.0, 27.0, 30.0, 28.0, 29.0, 27.0, 27.0, 27.0, 32.0, 30.0, 36.0, 27.0, 28.0, 27.0, 31.0, 28.0, 34.0, 28.0, 32.0, 27.0, 30.0, 27.0, 31.0, 28.0, 29.0, 32.0, 33.0, 27.0, 29.0, 38.0, 28.0, 32.0, 28.0, 37.0, 31.0, 30.0, 33.0, 29.0, 27.0, 46.0, 29.0, 32.0, 28.0, 30.0, 27.0, 27.0, 36.0, 33.0, 35.0, 31.0, 29.0, 27.0, 27.0, 27.0, 27.0, 36.0, 29.0, 28.0, 27.0, 36.0, 31.0, 39.0, 29.0, 31.0, 28.0, 27.0, 27.0, 27.0, 27.0, 29.0, 31.0, 30.0, 27.0, 31.0, 38.0, 33.0, 38.0, 37.0, 29.0, 27.0, 28.0, 33.0, 32.0, 31.0, 29.0, 27.0, 29.0, 39.0, 27.0, 27.0, 27.0, 28.0, 28.0, 37.0, 28.0, 30.0, 34.0, 30.0, 37.0, 29.0, 31.0, 48.0, 27.0, 30.0, 47.0, 29.0, 30.0, 29.0, 30.0, 30.0, 31.0, 27.0, 28.0, 28.0, 37.0, 32.0, 32.0, 30.0, 29.0, 30.0, 28.0, 28.0, 33.0, 38.0, 28.0, 32.0, 31.0, 27.0, 27.0, 28.0, 27.0, 31.0, 29.0, 30.0, 32.0, 28.0, 45.0, 28.0, 27.0, 29.0, 30.0, 31.0, 31.0, 27.0, 28.0, 35.0, 29.0, 28.0, 38.0, 28.0, 28.0, 29.0, 32.0, 31.0, 27.0, 41.0, 29.0, 30.0, 29.0, 28.0, 28.0, 28.0, 29.0, 32.0, 28.0, 27.0, 29.0, 30.0, 30.0, 27.0, 32.0, 28.0, 27.0, 28.0, 31.0, 33.0, 28.0, 32.0, 39.0, 27.0, 27.0, 34.0, 37.0, 39.0, 27.0, 35.0, 35.0, 27.0, 27.0, 27.0, 30.0, 28.0, 30.0, 32.0, 28.0, 29.0, 52.0, 28.0, 27.0, 28.0, 28.0, 30.0, 34.0, 32.0, 27.0, 33.0, 33.0, 28.0, 30.0, 27.0, 29.0, 36.0, 27.0, 32.0, 32.0, 28.0, 30.0, 33.0, 40.0, 27.0, 27.0, 54.0, 30.0, 29.0, 45.0, 27.0, 27.0, 30.0, 28.0, 28.0, 28.0, 27.0, 33.0, 27.0, 31.0, 30.0, 29.0, 36.0, 41.0, 29.0]\n",
            "outliers in column  OpenCreditLines  have outlier  [28.0, 25.0, 24.0, 27.0, 24.0, 37.0, 28.0, 27.0, 26.0, 25.0, 32.0, 24.0, 28.0, 27.0, 24.0, 24.0, 25.0, 27.0, 28.0, 24.0, 26.0, 25.0, 24.0, 24.0, 25.0, 25.0, 25.0, 24.0, 27.0, 24.0, 27.0, 29.0, 35.0, 25.0, 26.0, 27.0, 27.0, 28.0, 26.0, 29.0, 24.0, 25.0, 28.0, 26.0, 28.0, 26.0, 29.0, 34.0, 28.0, 30.0, 25.0, 26.0, 25.0, 29.0, 24.0, 24.0, 28.0, 25.0, 26.0, 26.0, 24.0, 25.0, 24.0, 24.0, 25.0, 24.0, 27.0, 25.0, 24.0, 24.0, 25.0, 24.0, 25.0, 24.0, 27.0, 24.0, 24.0, 28.0, 28.0, 26.0, 25.0, 38.0, 32.0, 27.0, 25.0, 31.0, 28.0, 26.0, 29.0, 35.0, 31.0, 24.0, 24.0, 25.0, 24.0, 25.0, 24.0, 33.0, 26.0, 31.0, 28.0, 26.0, 24.0, 40.0, 32.0, 24.0, 26.0, 24.0, 24.0, 25.0, 25.0, 25.0, 24.0, 24.0, 24.0, 33.0, 28.0, 26.0, 38.0, 30.0, 26.0, 24.0, 24.0, 31.0, 25.0, 32.0, 24.0, 28.0, 25.0, 25.0, 24.0, 29.0, 28.0, 25.0, 24.0, 27.0, 26.0, 24.0, 24.0, 31.0, 26.0, 28.0, 28.0, 26.0, 27.0, 28.0, 24.0, 24.0, 28.0, 25.0, 24.0, 26.0, 26.0, 25.0, 26.0, 31.0, 25.0, 27.0, 24.0, 35.0, 24.0, 25.0, 28.0, 32.0, 26.0, 30.0, 25.0, 24.0, 32.0, 29.0, 24.0, 24.0, 24.0, 34.0, 28.0, 24.0, 27.0, 25.0, 25.0, 26.0, 28.0, 34.0, 25.0, 26.0, 25.0, 37.0, 27.0, 24.0, 25.0, 26.0, 26.0, 31.0, 26.0, 37.0, 25.0, 32.0, 24.0, 24.0, 25.0, 24.0, 33.0, 25.0, 32.0, 24.0, 34.0, 31.0, 34.0, 35.0, 26.0, 25.0, 26.0, 24.0, 24.0, 29.0, 30.0, 28.0, 28.0, 30.0, 25.0, 24.0, 42.0, 24.0, 24.0, 29.0, 26.0, 28.0, 26.0, 24.0, 25.0, 28.0, 25.0, 24.0, 30.0, 24.0, 26.0, 24.0, 24.0, 25.0, 30.0, 26.0, 25.0, 33.0, 27.0, 25.0, 26.0, 25.0, 24.0, 28.0, 28.0, 25.0, 31.0, 24.0, 27.0, 25.0, 28.0, 28.0, 25.0, 38.0, 24.0, 28.0, 25.0, 26.0, 25.0, 27.0, 26.0, 24.0, 29.0, 27.0, 29.0, 54.0, 33.0, 24.0, 25.0, 26.0, 25.0, 25.0, 24.0, 25.0, 26.0, 24.0, 24.0, 34.0, 28.0, 24.0, 26.0, 25.0, 25.0, 39.0, 31.0, 31.0, 24.0, 32.0, 24.0, 31.0, 25.0, 27.0, 24.0, 24.0, 25.0, 30.0, 24.0, 29.0, 25.0, 27.0, 25.0, 30.0, 33.0, 25.0, 30.0, 27.0, 27.0, 30.0, 28.0, 25.0, 26.0, 26.0, 24.0, 26.0, 24.0, 28.0, 24.0, 32.0, 24.0, 28.0, 25.0, 35.0, 30.0, 43.0, 36.0, 32.0, 29.0, 27.0, 24.0, 27.0, 30.0, 33.0, 24.0, 37.0, 27.0, 28.0, 27.0, 24.0, 28.0, 26.0, 40.0, 28.0, 26.0, 32.0, 28.0, 29.0, 28.0, 30.0, 26.0, 26.0, 24.0, 27.0, 24.0, 37.0, 25.0, 26.0, 29.0, 24.0, 35.0, 26.0, 29.0, 24.0, 30.0, 24.0, 27.0, 34.0, 24.0, 25.0, 38.0, 29.0, 31.0, 31.0, 24.0, 31.0, 25.0, 30.0, 28.0, 28.0, 32.0, 30.0, 32.0, 25.0, 25.0, 24.0, 28.0, 25.0, 30.0, 33.0, 24.0, 24.0, 27.0, 26.0, 24.0, 26.0, 24.0, 28.0, 24.0, 24.0, 27.0, 28.0, 25.0, 24.0, 41.0, 24.0, 24.0, 25.0, 25.0, 25.0, 29.0, 24.0, 28.0, 24.0, 28.0, 28.0, 25.0, 26.0, 29.0, 24.0, 27.0, 25.0, 27.0, 24.0, 24.0, 31.0, 29.0, 25.0, 24.0, 30.0, 27.0, 24.0, 28.0, 24.0, 24.0, 27.0, 26.0, 31.0, 24.0, 25.0, 24.0, 24.0, 27.0, 26.0, 25.0, 30.0, 24.0, 25.0, 25.0, 24.0, 28.0, 33.0, 24.0, 24.0, 25.0, 24.0, 29.0, 27.0, 30.0, 25.0, 25.0, 26.0, 24.0, 27.0, 28.0, 32.0, 24.0, 30.0, 29.0, 27.0, 27.0, 30.0, 29.0, 24.0, 24.0, 24.0, 29.0, 28.0, 35.0, 27.0, 25.0, 44.0, 29.0, 39.0, 25.0, 24.0, 26.0, 31.0, 25.0, 26.0, 28.0, 34.0, 25.0, 24.0, 25.0, 27.0, 25.0, 24.0, 26.0, 25.0, 27.0, 24.0, 32.0, 25.0, 24.0, 25.0, 27.0, 25.0, 24.0, 24.0, 26.0, 29.0, 33.0, 29.0, 35.0, 24.0, 25.0, 33.0, 25.0, 24.0, 25.0, 30.0, 30.0, 28.0, 26.0, 28.0, 27.0, 24.0, 24.0, 28.0, 29.0, 24.0, 24.0, 45.0, 41.0, 36.0, 29.0, 25.0, 27.0, 32.0, 32.0, 29.0, 28.0, 30.0, 32.0, 24.0, 30.0, 26.0, 26.0, 26.0, 25.0, 24.0, 30.0, 35.0, 25.0, 28.0, 30.0, 24.0, 26.0, 25.0, 26.0, 24.0, 26.0, 25.0, 29.0, 24.0, 24.0, 30.0, 31.0, 38.0, 32.0, 29.0, 33.0, 24.0, 37.0, 28.0, 24.0, 24.0, 25.0, 24.0, 29.0, 24.0, 24.0, 30.0, 40.0, 28.0, 26.0, 27.0, 34.0, 28.0, 24.0, 24.0, 27.0, 26.0, 27.0, 25.0, 28.0, 26.0, 25.0, 32.0, 24.0, 24.0, 24.0, 24.0, 28.0, 29.0, 38.0, 29.0, 24.0, 25.0, 28.0, 26.0, 25.0, 25.0, 28.0, 37.0, 34.0, 30.0, 36.0, 26.0, 26.0, 29.0, 36.0, 34.0, 26.0, 27.0, 26.0, 24.0, 26.0, 24.0, 24.0, 25.0, 24.0, 30.0, 34.0, 33.0, 27.0, 30.0, 27.0, 25.0, 27.0, 26.0, 34.0, 29.0, 27.0, 25.0, 24.0, 28.0, 33.0, 30.0, 24.0, 28.0, 33.0, 27.0, 24.0, 28.0, 38.0, 27.0, 28.0, 26.0, 34.0, 26.0, 24.0, 24.0, 24.0, 27.0, 27.0, 27.0, 25.0, 25.0, 32.0, 48.0, 26.0, 30.0, 29.0, 25.0, 27.0, 25.0, 27.0, 31.0, 25.0, 27.0, 27.0, 24.0, 25.0, 24.0, 28.0, 24.0, 25.0, 24.0, 35.0, 29.0, 26.0, 34.0, 33.0, 31.0, 31.0, 24.0, 25.0, 29.0, 32.0, 24.0, 26.0, 28.0, 24.0, 24.0, 27.0, 27.0, 26.0, 25.0, 30.0, 25.0, 24.0, 27.0, 29.0, 29.0, 24.0, 28.0, 24.0, 24.0, 26.0, 32.0, 28.0, 24.0, 25.0, 26.0, 31.0, 29.0, 24.0, 25.0, 26.0, 31.0, 30.0, 26.0, 25.0, 24.0, 28.0, 25.0, 26.0, 30.0, 24.0, 26.0, 34.0, 27.0, 31.0, 30.0, 25.0, 25.0, 25.0, 26.0, 32.0, 24.0, 31.0, 34.0, 30.0, 27.0, 32.0, 29.0, 26.0, 29.0, 24.0, 24.0, 25.0, 24.0, 32.0, 26.0, 27.0, 24.0, 24.0, 25.0, 28.0, 40.0, 26.0, 26.0, 29.0, 25.0, 25.0, 24.0, 33.0, 24.0, 31.0, 26.0, 26.0, 25.0, 25.0, 27.0, 26.0, 24.0, 24.0, 24.0, 29.0, 37.0, 26.0, 34.0, 27.0, 25.0, 29.0, 25.0, 24.0, 31.0, 25.0, 26.0, 29.0, 25.0, 26.0, 24.0, 25.0, 24.0, 25.0, 30.0, 24.0, 35.0, 33.0, 24.0, 25.0, 24.0, 33.0, 24.0, 28.0, 31.0, 24.0, 27.0, 28.0, 30.0, 24.0, 26.0, 24.0, 25.0, 24.0, 30.0, 24.0, 44.0, 24.0, 25.0, 24.0, 25.0, 39.0, 29.0, 24.0, 24.0, 24.0, 24.0, 30.0, 27.0, 25.0, 24.0, 25.0, 25.0, 24.0, 27.0, 25.0, 25.0, 25.0, 27.0, 25.0, 32.0, 27.0, 24.0, 24.0, 29.0, 24.0, 35.0, 31.0, 25.0, 24.0, 24.0, 35.0, 25.0, 27.0, 25.0, 25.0, 24.0, 24.0, 28.0, 31.0, 29.0, 31.0, 28.0, 33.0, 31.0, 24.0, 25.0, 24.0, 29.0, 24.0, 26.0, 24.0, 25.0, 45.0, 29.0, 29.0, 25.0, 25.0, 32.0, 24.0, 25.0, 38.0, 26.0, 27.0, 31.0, 25.0, 25.0, 29.0, 28.0, 25.0, 24.0, 26.0, 24.0, 34.0, 25.0, 24.0, 26.0, 29.0, 24.0, 29.0, 25.0, 28.0, 25.0, 27.0, 27.0, 30.0, 25.0, 24.0, 24.0, 35.0, 27.0, 27.0, 24.0, 26.0, 31.0, 29.0, 24.0, 26.0, 27.0, 25.0, 37.0, 38.0, 25.0, 30.0, 24.0, 34.0, 24.0, 29.0, 24.0, 26.0, 29.0, 29.0, 38.0, 24.0, 24.0, 28.0, 25.0, 24.0, 25.0, 25.0, 24.0, 31.0, 30.0, 25.0, 31.0, 25.0, 24.0, 24.0, 28.0, 24.0, 31.0, 26.0, 29.0, 24.0, 24.0, 24.0, 24.0, 26.0, 27.0, 25.0, 26.0, 25.0, 24.0, 24.0, 24.0, 30.0, 24.0, 25.0, 28.0, 33.0, 27.0, 24.0, 29.0, 30.0, 28.0, 27.0, 25.0, 26.0, 31.0, 41.0, 51.0, 26.0, 27.0, 29.0, 37.0, 25.0, 30.0, 27.0, 25.0, 27.0, 24.0, 27.0, 28.0, 25.0, 25.0, 27.0, 32.0, 24.0, 24.0, 28.0, 24.0, 24.0, 24.0, 28.0, 30.0, 31.0, 24.0, 25.0, 32.0, 24.0, 31.0, 29.0, 27.0, 25.0, 28.0, 28.0, 25.0, 24.0, 25.0, 26.0, 25.0, 24.0, 26.0, 24.0, 25.0, 31.0, 27.0, 29.0, 29.0, 29.0, 25.0, 36.0, 27.0, 35.0, 31.0, 24.0, 26.0, 24.0, 25.0, 26.0, 27.0, 27.0, 24.0, 28.0, 25.0, 26.0, 28.0, 31.0, 24.0, 24.0, 28.0, 24.0, 24.0, 28.0, 25.0, 25.0, 32.0, 28.0, 25.0, 25.0, 24.0, 35.0, 29.0, 31.0, 29.0, 31.0, 28.0, 24.0, 29.0, 35.0, 27.0, 45.0, 31.0, 25.0, 25.0, 24.0, 25.0, 28.0, 36.0, 24.0, 25.0, 24.0, 33.0, 24.0, 25.0, 25.0, 35.0, 26.0, 24.0, 27.0, 25.0, 33.0, 26.0, 36.0, 29.0, 27.0, 27.0, 25.0, 25.0, 24.0, 24.0, 24.0, 27.0, 26.0, 31.0, 27.0, 26.0, 27.0, 29.0, 29.0, 25.0, 29.0, 27.0, 30.0, 42.0, 31.0, 25.0, 25.0, 25.0, 25.0, 27.0, 24.0, 24.0, 24.0, 25.0, 29.0, 25.0, 27.0, 24.0, 25.0, 32.0, 25.0, 25.0, 24.0, 35.0, 24.0, 27.0, 28.0, 24.0, 28.0, 24.0, 32.0, 25.0, 24.0, 24.0, 33.0, 25.0, 29.0, 24.0, 32.0, 27.0, 27.0, 27.0, 24.0, 24.0, 27.0, 25.0, 28.0, 24.0, 26.0, 25.0, 26.0, 25.0, 32.0, 25.0, 30.0, 30.0, 28.0, 24.0, 30.0, 28.0, 33.0, 28.0, 24.0, 27.0, 24.0, 25.0, 24.0, 26.0, 25.0, 24.0, 26.0, 25.0, 27.0, 31.0, 25.0, 26.0, 24.0, 24.0, 24.0, 37.0, 26.0, 24.0, 30.0, 25.0, 24.0, 31.0, 28.0, 28.0, 30.0, 24.0, 28.0, 24.0, 24.0, 43.0, 25.0, 30.0, 25.0, 26.0, 28.0, 25.0, 31.0, 28.0, 27.0, 25.0, 25.0, 25.0, 24.0, 36.0, 27.0, 25.0, 27.0, 24.0, 25.0, 26.0, 25.0, 27.0, 29.0, 24.0, 32.0, 24.0, 26.0, 25.0, 25.0, 25.0, 25.0, 29.0, 27.0, 29.0, 26.0, 26.0, 26.0, 24.0, 24.0, 33.0, 36.0, 25.0, 27.0, 24.0, 24.0, 31.0, 26.0, 28.0, 25.0, 26.0, 25.0, 24.0, 25.0, 25.0, 29.0, 35.0, 24.0, 24.0, 24.0, 25.0, 26.0, 24.0, 26.0, 27.0, 24.0, 34.0, 24.0, 27.0, 24.0, 24.0, 25.0, 33.0, 29.0, 24.0, 25.0, 35.0, 26.0, 25.0, 24.0, 46.0, 25.0, 24.0, 30.0, 47.0, 26.0, 24.0, 30.0, 24.0, 28.0, 24.0, 24.0, 24.0, 24.0, 26.0, 25.0, 33.0, 24.0, 25.0, 26.0, 29.0, 29.0, 24.0, 30.0, 28.0, 24.0, 33.0, 26.0, 24.0, 36.0, 26.0, 26.0, 29.0, 25.0, 25.0, 25.0, 24.0, 29.0, 24.0, 25.0, 25.0, 24.0, 24.0, 27.0, 27.0, 29.0, 24.0, 31.0, 28.0, 36.0, 27.0, 27.0, 27.0, 28.0, 27.0, 30.0, 27.0, 25.0, 33.0, 28.0, 30.0, 27.0, 27.0, 27.0, 24.0, 25.0, 25.0, 26.0, 29.0, 29.0, 24.0, 24.0, 28.0, 26.0, 30.0, 24.0, 26.0, 28.0, 25.0, 26.0, 26.0, 31.0, 25.0, 24.0, 25.0, 29.0, 26.0, 28.0, 28.0, 25.0, 28.0, 24.0, 33.0, 27.0, 25.0, 32.0, 38.0, 27.0, 27.0, 34.0, 33.0, 28.0, 25.0, 26.0, 34.0, 34.0, 27.0, 25.0, 26.0, 24.0, 29.0, 29.0, 31.0, 26.0, 48.0, 24.0, 25.0, 28.0, 24.0, 24.0, 24.0, 24.0, 25.0, 25.0, 26.0, 32.0, 24.0, 32.0, 26.0, 31.0, 25.0, 24.0, 32.0, 24.0, 24.0, 25.0, 27.0, 28.0, 26.0, 27.0, 24.0, 30.0, 24.0, 24.0, 31.0, 24.0, 31.0, 24.0, 25.0, 24.0, 33.0, 28.0, 26.0, 25.0, 49.0, 24.0, 29.0, 27.0, 41.0, 24.0, 28.0, 24.0, 24.0, 24.0, 27.0, 26.0, 28.0, 25.0, 28.0, 28.0, 28.0, 35.0, 39.0, 24.0, 28.0]\n",
            "outliers in column  TotalCreditLinespast7years  have outlier  [75.0, 68.0, 68.0, 80.0, 75.0, 81.0, 76.0, 72.0, 69.0, 77.0, 81.0, 74.0, 106.0, 76.0, 76.0, 72.0, 98.0, 109.0, 92.0, 69.0, 85.0, 86.0, 81.0, 71.0, 89.0, 71.0, 76.0, 69.0, 69.0, 71.0, 68.0, 69.0, 103.0, 88.0, 72.0, 73.0, 70.0, 72.0, 71.0, 72.0, 95.0, 78.0, 83.0, 75.0, 73.0, 89.0, 70.0, 73.0, 74.0, 70.0, 75.0, 93.0, 68.0, 78.0, 74.0, 80.0, 70.0, 68.0, 68.0, 72.0, 72.0, 77.0, 84.0, 84.0, 70.0, 91.0, 118.0, 79.0, 83.0, 69.0, 69.0, 84.0, 76.0, 78.0, 70.0, 68.0, 127.0, 78.0, 74.0, 73.0, 68.0, 68.0, 69.0, 74.0, 72.0, 68.0, 80.0, 70.0, 75.0, 69.0, 81.0, 72.0, 68.0, 68.0, 71.0, 81.0, 73.0, 70.0, 68.0, 69.0, 84.0, 88.0, 81.0, 82.0, 80.0, 77.0, 76.0, 71.0, 95.0, 80.0, 103.0, 76.0, 92.0, 74.0, 80.0, 78.0, 68.0, 71.0, 91.0, 84.0, 73.0, 70.0, 80.0, 72.0, 73.0, 78.0, 74.0, 78.0, 70.0, 69.0, 77.0, 77.0, 71.0, 74.0, 71.0, 73.0, 73.0, 68.0, 84.0, 71.0, 82.0, 73.0, 75.0, 68.0, 70.0, 77.0, 71.0, 75.0, 68.0, 83.0, 72.0, 70.0, 70.0, 72.0, 74.0, 70.0, 76.0, 86.0, 76.0, 72.0, 68.0, 73.0, 74.0, 74.0, 72.0, 69.0, 73.0, 69.0, 71.0, 76.0, 81.0, 71.0, 70.0, 68.0, 78.0, 86.0, 72.0, 68.0, 94.0, 91.0, 69.0, 68.0, 87.0, 81.0, 71.0, 73.0, 78.0, 70.0, 86.0, 73.0, 82.0, 97.0, 77.0, 70.0, 72.0, 72.0, 70.0, 70.0, 75.0, 78.0, 74.0, 69.0, 76.0, 83.0, 80.0, 78.0, 71.0, 69.0, 68.0, 68.0, 70.0, 75.0, 70.0, 72.0, 82.0, 70.0, 76.0, 69.0, 70.0, 74.0, 79.0, 68.0, 77.0, 92.0, 75.0, 68.0, 69.0, 79.0, 74.0, 69.0, 78.0, 68.0, 98.0, 71.0, 82.0, 102.0, 68.0, 69.0, 91.0, 69.0, 74.0, 74.0, 70.0, 70.0, 86.0, 76.0, 83.0, 68.0, 73.0, 70.0, 82.0, 68.0, 71.0, 80.0, 105.0, 80.0, 69.0, 73.0, 93.0, 72.0, 72.0, 91.0, 71.0, 72.0, 81.0, 72.0, 79.0, 68.0, 75.0, 76.0, 71.0, 82.0, 84.0, 71.0, 72.0, 80.0, 81.0, 80.0, 78.0, 70.0, 69.0, 79.0, 81.0, 70.0, 69.0, 87.0, 69.0, 74.0, 82.0, 76.0, 71.0, 69.0, 74.0, 72.0, 71.0, 73.0, 75.0, 68.0, 68.0, 102.0, 82.0, 75.0, 69.0, 69.0, 77.0, 79.0, 77.0, 70.0, 74.0, 80.0, 70.0, 70.0, 70.0, 70.0, 68.0, 72.0, 77.0, 80.0, 80.0, 70.0, 94.0, 74.0, 76.0, 72.0, 70.0, 68.0, 82.0, 68.0, 68.0, 70.0, 75.0, 129.0, 69.0, 108.0, 85.0, 95.0, 102.0, 71.0, 72.0, 74.0, 81.0, 72.0, 85.0, 69.0, 92.0, 68.0, 81.0, 74.0, 71.0, 75.0, 69.0, 107.0, 70.0, 78.0, 73.0, 80.0, 96.0, 73.0, 88.0, 81.0, 73.0, 69.0, 86.0, 71.0, 74.0, 75.0, 80.0, 73.0, 68.0, 83.0, 69.0, 69.0, 84.0, 72.0, 68.0, 88.0, 71.0, 69.0, 72.0, 77.0, 81.0, 73.0, 69.0, 70.0, 76.0, 73.0, 80.0, 73.0, 68.0, 93.0, 71.0, 84.0, 85.0, 69.0, 71.0, 83.0, 79.0, 68.0, 70.0, 70.0, 70.0, 82.0, 68.0, 72.0, 69.0, 68.0, 79.0, 82.0, 72.0, 70.0, 79.0, 90.0, 101.0, 76.0, 83.0, 86.0, 91.0, 69.0, 76.0, 73.0, 87.0, 79.0, 76.0, 75.0, 71.0, 88.0, 73.0, 70.0, 70.0, 82.0, 68.0, 70.0, 79.0, 73.0, 69.0, 115.0, 75.0, 80.0, 85.0, 72.0, 81.0, 68.0, 74.0, 68.0, 74.0, 78.0, 92.0, 78.0, 72.0, 78.0, 73.0, 78.0, 68.0, 68.0, 112.0, 78.0, 78.0, 68.0, 80.0, 74.0, 70.0, 81.0, 68.0, 69.0, 68.0, 70.0, 68.0, 74.0, 78.0, 77.0, 73.0, 81.0, 70.0, 77.0, 70.0, 70.0, 85.0, 101.0, 80.0, 77.0, 70.0, 72.0, 87.0, 77.0, 107.0, 74.0, 69.0, 69.0, 68.0, 72.0, 85.0, 75.0, 72.0, 72.0, 82.0, 86.0, 110.0, 76.0, 71.0, 69.0, 75.0, 77.0, 72.0, 90.0, 76.0, 77.0, 68.0, 68.0, 69.0, 74.0, 80.0, 71.0, 78.0, 68.0, 73.0, 83.0, 73.0, 74.0, 70.0, 70.0, 72.0, 79.0, 69.0, 118.0, 75.0, 68.0, 80.0, 71.0, 68.0, 68.0, 84.0, 78.0, 98.0, 80.0, 71.0, 94.0, 69.0, 69.0, 77.0, 77.0, 68.0, 70.0, 71.0, 71.0, 73.0, 76.0, 77.0, 81.0, 68.0, 69.0, 72.0, 71.0, 125.0, 76.0, 86.0, 73.0, 69.0, 73.0, 79.0, 76.0, 81.0, 75.0, 68.0, 68.0, 72.0, 84.0, 92.0, 96.0, 87.0, 70.0, 69.0, 94.0, 68.0, 68.0, 80.0, 92.0, 73.0, 76.0, 69.0, 80.0, 87.0, 71.0, 70.0, 69.0, 83.0, 68.0, 72.0, 69.0, 80.0, 91.0, 93.0, 69.0, 89.0, 77.0, 79.0, 71.0, 72.0, 89.0, 69.0, 72.0, 69.0, 82.0, 73.0, 82.0, 71.0, 77.0, 73.0, 72.0, 71.0, 74.0, 76.0, 68.0, 75.0, 80.0, 79.0, 112.0, 73.0, 70.0, 87.0, 70.0, 68.0, 80.0, 69.0, 94.0, 68.0, 72.0, 83.0, 72.0, 69.0, 68.0, 78.0, 74.0, 69.0, 72.0, 83.0, 78.0, 85.0, 74.0, 69.0, 69.0, 72.0, 69.0, 115.0, 74.0, 85.0, 88.0, 77.0, 75.0, 69.0, 101.0, 77.0, 68.0, 73.0, 72.0, 124.0, 92.0, 72.0, 72.0, 71.0, 75.0, 72.0, 73.0, 87.0, 68.0, 77.0, 79.0, 71.0, 75.0, 80.0, 75.0, 73.0, 72.0, 73.0, 71.0, 77.0, 80.0, 69.0, 76.0, 68.0, 72.0, 69.0, 69.0, 87.0, 71.0, 85.0, 73.0, 136.0, 74.0, 68.0, 70.0, 76.0, 71.0, 78.0, 69.0, 87.0, 75.0, 73.0, 72.0, 89.0, 72.0, 79.0, 71.0, 69.0, 87.0, 83.0, 71.0, 74.0, 77.0, 68.0, 82.0, 70.0, 70.0, 93.0, 70.0, 87.0, 72.0, 73.0, 75.0, 80.0, 103.0, 74.0, 68.0, 70.0, 69.0, 93.0, 79.0, 69.0, 73.0, 68.0, 72.0, 73.0, 69.0, 73.0, 84.0, 71.0, 77.0, 68.0, 79.0, 89.0, 85.0, 75.0, 70.0, 88.0, 75.0, 77.0, 75.0, 82.0, 74.0, 80.0, 70.0, 72.0, 72.0, 75.0, 69.0, 80.0, 74.0, 74.0, 68.0, 87.0, 88.0, 72.0, 68.0, 73.0, 68.0, 68.0, 84.0, 70.0, 76.0, 91.0, 77.0, 84.0, 89.0, 77.0, 84.0, 86.0, 81.0, 79.0, 77.0, 78.0, 73.0, 69.0, 107.0, 70.0, 84.0, 68.0, 69.0, 80.0, 74.0, 72.0, 72.0, 71.0, 70.0, 73.0, 70.0, 69.0, 85.0, 78.0, 84.0, 79.0, 69.0, 76.0, 81.0, 73.0, 70.0, 96.0, 80.0, 70.0, 70.0, 99.0, 76.0, 74.0, 75.0, 75.0, 82.0, 68.0, 95.0, 73.0, 84.0, 95.0, 71.0, 69.0, 97.0, 70.0, 69.0, 73.0, 70.0, 78.0, 75.0, 90.0, 82.0, 90.0, 72.0, 80.0, 78.0, 77.0, 68.0, 72.0, 77.0, 103.0, 78.0, 70.0, 71.0, 91.0, 70.0, 70.0, 89.0, 75.0, 68.0, 69.0, 93.0, 73.0, 76.0, 75.0, 74.0, 117.0, 78.0, 89.0, 71.0, 79.0, 72.0, 83.0, 73.0, 96.0, 72.0, 78.0, 70.0, 80.0, 84.0, 70.0, 73.0, 90.0, 69.0, 73.0, 94.0, 69.0, 68.0, 91.0, 77.0, 68.0, 76.0, 80.0, 72.0, 76.0, 88.0, 68.0, 78.0, 68.0, 68.0, 69.0, 92.0, 83.0, 75.0, 70.0, 77.0, 82.0, 69.0, 70.0, 83.0, 73.0, 72.0, 71.0, 69.0, 70.0, 86.0, 78.0, 76.0, 76.0, 76.0, 68.0, 90.0, 72.0, 74.0, 93.0, 91.0, 75.0, 79.0, 115.0, 71.0, 77.0, 80.0, 83.0, 94.0, 80.0, 69.0, 70.0, 68.0, 85.0, 82.0, 78.0, 68.0, 79.0, 70.0, 73.0, 73.0, 90.0, 79.0, 73.0, 81.0, 68.0, 89.0, 79.0, 85.0, 87.0, 87.0, 74.0, 118.0, 74.0, 94.0, 69.0, 89.0, 80.0, 70.0, 93.0, 101.0, 69.0, 68.0, 78.0, 87.0, 99.0, 68.0, 72.0, 72.0, 69.0, 77.0, 90.0, 69.0, 72.0, 77.0, 70.0, 70.0, 75.0, 68.0, 68.0, 74.0, 70.0, 77.0, 100.0, 80.0, 68.0, 120.0, 89.0, 82.0, 68.0, 75.0, 94.0, 79.0, 72.0, 78.0, 68.0, 77.0, 97.0, 71.0, 75.0, 72.0, 73.0, 78.0, 81.0, 68.0]\n",
            "outliers in column  OpenRevolvingAccounts  have outlier  [25, 23, 25, 35, 24, 26, 21, 24, 24, 23, 23, 22, 26, 24, 27, 24, 21, 24, 22, 24, 24, 21, 22, 21, 23, 22, 35, 25, 25, 24, 24, 21, 23, 23, 25, 23, 26, 27, 29, 22, 21, 22, 27, 21, 26, 22, 27, 32, 23, 21, 30, 21, 22, 23, 22, 29, 21, 22, 25, 26, 25, 22, 21, 21, 21, 24, 22, 26, 23, 23, 21, 23, 21, 23, 21, 24, 23, 35, 31, 24, 22, 31, 23, 24, 21, 24, 27, 28, 32, 21, 26, 23, 23, 23, 29, 22, 22, 26, 21, 28, 31, 27, 21, 22, 30, 22, 22, 21, 22, 25, 22, 21, 24, 23, 22, 23, 30, 22, 25, 32, 29, 21, 25, 21, 26, 21, 34, 26, 22, 23, 25, 25, 28, 21, 22, 24, 25, 22, 25, 21, 29, 21, 23, 24, 29, 24, 25, 21, 23, 22, 25, 24, 26, 22, 24, 25, 21, 26, 21, 23, 22, 23, 22, 21, 28, 21, 21, 27, 24, 23, 30, 22, 27, 27, 21, 21, 22, 30, 21, 22, 23, 25, 21, 21, 25, 27, 21, 24, 22, 25, 24, 23, 32, 26, 25, 21, 25, 31, 22, 22, 25, 21, 22, 22, 30, 36, 26, 33, 24, 22, 23, 25, 21, 35, 23, 28, 21, 31, 26, 31, 26, 34, 27, 22, 21, 22, 22, 21, 29, 28, 22, 21, 23, 26, 23, 44, 21, 22, 22, 22, 26, 21, 25, 21, 29, 21, 24, 23, 21, 22, 22, 22, 21, 22, 24, 24, 22, 21, 22, 24, 23, 22, 22, 26, 22, 22, 34, 22, 24, 21, 27, 23, 22, 21, 22, 25, 23, 29, 21, 26, 24, 21, 22, 31, 22, 27, 26, 21, 38, 23, 21, 21, 23, 21, 22, 21, 24, 22, 26, 24, 22, 27, 22, 21, 21, 22, 28, 22, 24, 28, 21, 24, 23, 21, 36, 24, 22, 29, 21, 41, 33, 23, 32, 22, 27, 22, 24, 32, 21, 23, 21, 23, 27, 24, 25, 21, 27, 22, 23, 23, 28, 24, 24, 21, 26, 23, 29, 22, 23, 22, 23, 26, 22, 21, 23, 22, 21, 23, 27, 34, 24, 23, 25, 21, 34, 32, 37, 21, 31, 23, 21, 22, 21, 25, 26, 24, 29, 23, 22, 34, 28, 21, 26, 21, 24, 23, 26, 21, 27, 32, 23, 29, 25, 21, 29, 26, 30, 21, 22, 24, 25, 21, 21, 25, 23, 24, 24, 24, 21, 35, 23, 21, 26, 22, 25, 24, 28, 22, 24, 21, 21, 41, 22, 29, 31, 31, 27, 28, 28, 27, 22, 22, 29, 26, 28, 24, 22, 24, 23, 22, 21, 21, 21, 22, 23, 25, 21, 21, 22, 21, 23, 23, 21, 24, 34, 21, 24, 21, 24, 21, 23, 22, 21, 25, 25, 21, 22, 27, 21, 26, 24, 23, 30, 23, 22, 23, 21, 21, 25, 21, 23, 31, 29, 28, 23, 22, 21, 27, 27, 25, 23, 23, 28, 23, 21, 29, 22, 21, 28, 21, 22, 28, 23, 33, 27, 24, 25, 25, 30, 22, 24, 21, 21, 22, 23, 25, 24, 29, 22, 23, 21, 21, 26, 22, 25, 29, 23, 22, 26, 22, 29, 29, 24, 22, 28, 21, 21, 23, 25, 21, 32, 22, 21, 36, 23, 22, 28, 21, 21, 27, 25, 24, 23, 24, 27, 24, 22, 24, 21, 25, 31, 24, 21, 24, 22, 24, 21, 27, 21, 35, 28, 32, 27, 30, 22, 30, 21, 24, 28, 26, 32, 21, 26, 27, 24, 22, 21, 26, 24, 23, 21, 22, 21, 23, 21, 47, 37, 26, 28, 27, 21, 29, 24, 29, 23, 22, 25, 21, 29, 21, 36, 24, 21, 23, 30, 30, 28, 25, 22, 22, 21, 21, 25, 24, 23, 22, 21, 24, 25, 22, 21, 21, 28, 29, 35, 21, 25, 29, 35, 27, 28, 25, 23, 21, 26, 21, 22, 26, 31, 26, 21, 21, 21, 22, 31, 30, 26, 23, 21, 21, 21, 23, 21, 21, 39, 29, 22, 22, 23, 22, 29, 25, 23, 41, 33, 34, 31, 22, 26, 23, 21, 26, 32, 30, 22, 28, 25, 25, 23, 29, 22, 32, 25, 32, 24, 25, 22, 25, 22, 27, 35, 28, 24, 25, 21, 21, 30, 26, 25, 22, 21, 27, 24, 25, 38, 24, 21, 25, 22, 21, 22, 23, 26, 27, 26, 33, 22, 27, 31, 28, 24, 24, 21, 28, 29, 25, 25, 22, 23, 21, 30, 23, 21, 21, 21, 21, 21, 21, 33, 21, 29, 25, 33, 32, 29, 29, 25, 23, 21, 31, 24, 22, 22, 29, 24, 23, 21, 22, 22, 22, 26, 25, 24, 23, 23, 26, 23, 22, 25, 21, 23, 25, 21, 24, 22, 21, 30, 22, 26, 26, 27, 29, 26, 23, 21, 21, 22, 21, 24, 27, 21, 23, 21, 23, 27, 30, 21, 26, 21, 23, 28, 23, 21, 21, 25, 22, 21, 21, 21, 21, 22, 21, 22, 26, 28, 22, 26, 22, 25, 26, 26, 22, 22, 33, 23, 21, 28, 22, 23, 23, 22, 21, 22, 23, 23, 41, 24, 25, 26, 22, 21, 27, 22, 22, 26, 22, 27, 22, 25, 30, 35, 22, 29, 21, 24, 24, 25, 23, 30, 25, 25, 24, 23, 22, 21, 23, 25, 36, 29, 22, 23, 29, 25, 24, 28, 22, 24, 21, 21, 21, 22, 27, 25, 25, 23, 24, 22, 38, 24, 22, 23, 23, 40, 24, 21, 22, 21, 21, 22, 22, 22, 26, 21, 29, 24, 22, 27, 21, 22, 23, 24, 26, 27, 31, 21, 29, 29, 21, 22, 30, 23, 22, 22, 29, 30, 21, 25, 31, 24, 21, 26, 22, 26, 27, 26, 21, 23, 21, 29, 26, 32, 25, 21, 22, 21, 22, 24, 24, 22, 21, 21, 24, 24, 47, 21, 21, 25, 26, 21, 25, 21, 24, 25, 30, 21, 30, 25, 21, 22, 27, 21, 21, 27, 24, 24, 21, 21, 21, 21, 34, 24, 21, 39, 21, 21, 25, 22, 24, 23, 23, 24, 26, 26, 37, 25, 23, 24, 39, 23, 24, 26, 21, 25, 28, 23, 23, 24, 40, 24, 21, 30, 31, 21, 25, 21, 24, 32, 23, 36, 22, 22, 21, 22, 25, 22, 21, 21, 23, 21, 27, 32, 22, 21, 24, 23, 21, 21, 21, 25, 35, 22, 22, 28, 21, 23, 27, 24, 22, 21, 24, 22, 24, 21, 25, 23, 21, 26, 21, 22, 22, 21, 24, 21, 23, 27, 21, 21, 26, 29, 25, 29, 35, 51, 24, 21, 21, 21, 25, 21, 27, 24, 22, 23, 31, 22, 25, 22, 21, 25, 21, 21, 21, 21, 22, 21, 21, 27, 23, 21, 22, 29, 27, 21, 24, 21, 22, 27, 31, 28, 24, 23, 38, 28, 22, 22, 22, 22, 24, 23, 21, 22, 21, 21, 23, 23, 22, 24, 23, 24, 27, 23, 27, 25, 23, 31, 28, 39, 21, 24, 21, 23, 26, 25, 24, 28, 23, 24, 21, 22, 23, 21, 26, 21, 22, 21, 26, 22, 21, 21, 22, 22, 28, 30, 27, 23, 29, 22, 21, 26, 27, 28, 27, 31, 23, 21, 31, 22, 46, 32, 24, 23, 21, 23, 21, 26, 24, 24, 22, 28, 36, 26, 21, 22, 28, 23, 25, 22, 34, 26, 21, 25, 25, 24, 28, 38, 29, 21, 22, 21, 22, 23, 23, 25, 22, 22, 23, 28, 23, 21, 22, 30, 24, 22, 23, 24, 21, 23, 24, 25, 31, 30, 26, 27, 30, 36, 21, 25, 22, 22, 24, 21, 22, 21, 29, 23, 21, 25, 25, 21, 27, 23, 25, 27, 23, 21, 22, 21, 30, 25, 24, 22, 21, 30, 34, 21, 21, 32, 21, 24, 21, 21, 23, 30, 24, 21, 25, 22, 24, 22, 22, 22, 21, 24, 21, 29, 25, 23, 32, 21, 27, 23, 24, 24, 23, 22, 23, 26, 24, 49, 21, 24, 21, 22, 24, 24, 21, 26, 24, 22, 25, 26, 23, 21, 26, 29, 26, 23, 29, 24, 21, 21, 21, 33, 23, 25, 22, 21, 26, 30, 28, 25, 34, 27, 24, 21, 24, 23, 36, 41, 24, 21, 21, 25, 26, 22, 24, 22, 22, 23, 28, 22, 26, 23, 25, 24, 22, 22, 29, 26, 23, 27, 22, 22, 21, 21, 32, 22, 27, 32, 22, 21, 21, 24, 21, 21, 24, 29, 24, 28, 24, 23, 22, 31, 33, 21, 24, 27, 22, 24, 23, 23, 32, 21, 26, 22, 21, 24, 24, 27, 25, 23, 21, 24, 22, 23, 22, 36, 23, 24, 21, 22, 28, 26, 21, 22, 23, 21, 23, 21, 22, 23, 27, 50, 23, 21, 22, 22, 33, 25, 21, 21, 21, 25, 27, 22, 22, 22, 22, 21, 21, 21, 29, 28, 24, 29, 23, 22, 22, 28, 26, 22, 22, 21, 30, 21, 22, 23, 30, 24, 24, 27, 22, 24, 22, 27, 21, 21, 28, 25, 23, 22, 40, 25, 24, 22, 24, 24, 22, 22, 25, 30, 23, 22, 23, 30, 21, 27, 23, 24, 22, 24, 33, 26, 21, 24, 21, 26, 22, 21, 23, 25, 26, 21, 27, 21, 22, 24, 21, 26, 28, 24, 23, 30, 26, 23, 21, 22, 23, 31, 26, 27, 22, 38, 21, 30, 34, 25, 28, 21, 21, 22, 37, 37, 22, 21, 21, 25, 22, 23, 23, 26, 21, 29, 39, 24, 21, 28, 21, 23, 24, 22, 24, 21, 24, 21, 27, 22, 21, 21, 22, 22, 22, 24, 25, 30, 32, 27, 24, 24, 22, 21, 32, 23, 27, 23, 26, 26, 23, 28, 22, 21, 31, 30, 24, 27, 21, 21, 21, 46, 27, 26, 23, 26, 21, 40, 25, 26, 21, 23, 21, 22, 24, 24, 22, 21, 22, 21, 23, 26, 34, 24]\n",
            "outliers in column  OpenRevolvingMonthlyPayment  have outlier  [1861.0, 2866.0, 1981.0, 1779.0, 2331.0, 2477.0, 1871.0, 2431.0, 1903.0, 2022.0, 2218.0, 1749.0, 2349.0, 1973.0, 2003.0, 2136.0, 2332.0, 1810.0, 1804.0, 2981.0, 2091.0, 2626.0, 1919.0, 1742.0, 3211.0, 1805.0, 1805.0, 2539.0, 2032.0, 1794.0, 1836.0, 2351.0, 2212.0, 2404.0, 2061.0, 3878.0, 3455.0, 1940.0, 2631.0, 2499.0, 2152.0, 1983.0, 1783.0, 1786.0, 2025.0, 1861.0, 2715.0, 3133.0, 1891.0, 2046.0, 3229.0, 3291.0, 1968.0, 2916.0, 2176.0, 2258.0, 3754.0, 2012.0, 2955.0, 1862.0, 2134.0, 3289.0, 1771.0, 1821.0, 2468.0, 1874.0, 2271.0, 2229.0, 2269.0, 1784.0, 1833.0, 2511.0, 2178.0, 2140.0, 2363.0, 2500.0, 2483.0, 2417.0, 1818.0, 2268.0, 1892.0, 2938.0, 2339.0, 2228.0, 2460.0, 2792.0, 1768.0, 1976.0, 3360.0, 1918.0, 1755.0, 2178.0, 2616.0, 2507.0, 1949.0, 2345.0, 2623.0, 2029.0, 2328.0, 1968.0, 2558.0, 2048.0, 2806.0, 1828.0, 2324.0, 1907.0, 2146.0, 2446.0, 2006.0, 2027.0, 2501.0, 1814.0, 2808.0, 1746.0, 2866.0, 2961.0, 1787.0, 2035.0, 1833.0, 2210.0, 2677.0, 2163.0, 2060.0, 2334.0, 3118.0, 1950.0, 2002.0, 2485.0, 2109.0, 3105.0, 1858.0, 2084.0, 2993.0, 4360.0, 2083.0, 2044.0, 2317.0, 3369.0, 1936.0, 1919.0, 4150.0, 2218.0, 4192.0, 2448.0, 1896.0, 2234.0, 1997.0, 1795.0, 2270.0, 2132.0, 2690.0, 2213.0, 1905.0, 3172.0, 2105.0, 1960.0, 1822.0, 1857.0, 2224.0, 1880.0, 2058.0, 3172.0, 1868.0, 2353.0, 2106.0, 2877.0, 1950.0, 1916.0, 5838.0, 1985.0, 1944.0, 2757.0, 2242.0, 3996.0, 1980.0, 2761.0, 1779.0, 2457.0, 2405.0, 2054.0, 1865.0, 1845.0, 2942.0, 1758.0, 1833.0, 2458.0, 2440.0, 2109.0, 1939.0, 2014.0, 1904.0, 2074.0, 5145.0, 2061.0, 3184.0, 3942.0, 2420.0, 3142.0, 1776.0, 2353.0, 2808.0, 2149.0, 1868.0, 2257.0, 3618.0, 4877.0, 2252.0, 1793.0, 1874.0, 2244.0, 2453.0, 2622.0, 2328.0, 1873.0, 1799.0, 2983.0, 2198.0, 2188.0, 3745.0, 2581.0, 2236.0, 2185.0, 2958.0, 1954.0, 2079.0, 1955.0, 1974.0, 1798.0, 2056.0, 2043.0, 1974.0, 2157.0, 1790.0, 1934.0, 1761.0, 2727.0, 2660.0, 1978.0, 1912.0, 2218.0, 4010.0, 2757.0, 1917.0, 2220.0, 4054.0, 2324.0, 1758.0, 1763.0, 1899.0, 1862.0, 5720.0, 1785.0, 2912.0, 4332.0, 2914.0, 2018.0, 2330.0, 3643.0, 1780.0, 1841.0, 1908.0, 2210.0, 2823.0, 1865.0, 2064.0, 2221.0, 1882.0, 2741.0, 2021.0, 2308.0, 2352.0, 2545.0, 3695.0, 2933.0, 3410.0, 1797.0, 2027.0, 2266.0, 2332.0, 1808.0, 1968.0, 3160.0, 1807.0, 2082.0, 3743.0, 2822.0, 2524.0, 2161.0, 1811.0, 1835.0, 2191.0, 2700.0, 3163.0, 2325.0, 1993.0, 1759.0, 6616.0, 2253.0, 3743.0, 2597.0, 1775.0, 1752.0, 2626.0, 2037.0, 2322.0, 2003.0, 1897.0, 2171.0, 1870.0, 2319.0, 1898.0, 1811.0, 14985.0, 1766.0, 1761.0, 1795.0, 1767.0, 2539.0, 2018.0, 2131.0, 1759.0, 2204.0, 1806.0, 3305.0, 1794.0, 2119.0, 3201.0, 1747.0, 1860.0, 2023.0, 1757.0, 1836.0, 1789.0, 2900.0, 2819.0, 1994.0, 2083.0, 1872.0, 2068.0, 1877.0, 2278.0, 2528.0, 2843.0, 1894.0, 2892.0, 1791.0, 2148.0, 1855.0, 1961.0, 3332.0, 1755.0, 2443.0, 2050.0, 1924.0, 3618.0, 1887.0, 2208.0, 1972.0, 2359.0, 2266.0, 1842.0, 2269.0, 2100.0, 2360.0, 1969.0, 1791.0, 1980.0, 2442.0, 2039.0, 3017.0, 1809.0, 2133.0, 2083.0, 1890.0, 2342.0, 2455.0, 1757.0, 2393.0, 2704.0, 2480.0, 1762.0, 3890.0, 2165.0, 1912.0, 2104.0, 2054.0, 4550.0, 2091.0, 2337.0, 2475.0, 2573.0, 2059.0, 9085.0, 2581.0, 2446.0, 2313.0, 3514.0, 3016.0, 2101.0, 2396.0, 2074.0, 2191.0, 2277.0, 2095.0, 2581.0, 2793.0, 2409.0, 2044.0, 2278.0, 2372.0, 2104.0, 2944.0, 2684.0, 1802.0, 4269.0, 2337.0, 2016.0, 2631.0, 2552.0, 1958.0, 2323.0, 1742.0, 2914.0, 2803.0, 2016.0, 2866.0, 4063.0, 1971.0, 2984.0, 1840.0, 1824.0, 1837.0, 2588.0, 2067.0, 1922.0, 1757.0, 2373.0, 1773.0, 1930.0, 3412.0, 2082.0, 2809.0, 2421.0, 3342.0, 2098.0, 2827.0, 1805.0, 1761.0, 2110.0, 2524.0, 2318.0, 1905.0, 2004.0, 3371.0, 1989.0, 1806.0, 3419.0, 3051.0, 1874.0, 5478.0, 3481.0, 1781.0, 1816.0, 1914.0, 3071.0, 1911.0, 1895.0, 2185.0, 2076.0, 1910.0, 2471.0, 1956.0, 2328.0, 1792.0, 2578.0, 3719.0, 1747.0, 1773.0, 2553.0, 2013.0, 2044.0, 1746.0, 1751.0, 1884.0, 2360.0, 1826.0, 1998.0, 1893.0, 1996.0, 2756.0, 1771.0, 1791.0, 1912.0, 1745.0, 2163.0, 2749.0, 2436.0, 2346.0, 2169.0, 2635.0, 2131.0, 2109.0, 2165.0, 3110.0, 1955.0, 2430.0, 3592.0, 1974.0, 1879.0, 2139.0, 1758.0, 1845.0, 3671.0, 2669.0, 2463.0, 1889.0, 2862.0, 2003.0, 3593.0, 3263.0, 1857.0, 1835.0, 1928.0, 1770.0, 1820.0, 1976.0, 2245.0, 3902.0, 1958.0, 2268.0, 1805.0, 2089.0, 1881.0, 1931.0, 1814.0, 2322.0, 1940.0, 4008.0, 2260.0, 2040.0, 2178.0, 1905.0, 2932.0, 2136.0, 3189.0, 2088.0, 2214.0, 1980.0, 1776.0, 3270.0, 1834.0, 4524.0, 1796.0, 2019.0, 2527.0, 2043.0, 2436.0, 1884.0, 2141.0, 2538.0, 1748.0, 2334.0, 1896.0, 1817.0, 1862.0, 1944.0, 3812.0, 2587.0, 2601.0, 2061.0, 1980.0, 3802.0, 2117.0, 2112.0, 2064.0, 1766.0, 4671.0, 3001.0, 1810.0, 2152.0, 1966.0, 1755.0, 2297.0, 2967.0, 3111.0, 2001.0, 3340.0, 2663.0, 2536.0, 3513.0, 2096.0, 7090.0, 3142.0, 1753.0, 2370.0, 3366.0, 2342.0, 3673.0, 2257.0, 1761.0, 1747.0, 2244.0, 2146.0, 1989.0, 2261.0, 1864.0, 3083.0, 3396.0, 1947.0, 2233.0, 2135.0, 2487.0, 1794.0, 3008.0, 1805.0, 1754.0, 2935.0, 1976.0, 2218.0, 3093.0, 2104.0, 2307.0, 1757.0, 2022.0, 1870.0, 2193.0, 2151.0, 3595.0, 1840.0, 2066.0, 1851.0, 2225.0, 2990.0, 1971.0, 1917.0, 2111.0, 2864.0, 2583.0, 1804.0, 2180.0, 2824.0, 1924.0, 2275.0, 1911.0, 2735.0, 1905.0, 2120.0, 1832.0, 1936.0, 1855.0, 2547.0, 2404.0, 2072.0, 1833.0, 1756.0, 2021.0, 1801.0, 2429.0, 1951.0, 2081.0, 2182.0, 2041.0, 2274.0, 1797.0, 1823.0, 1749.0, 1810.0, 2299.0, 1834.0, 5155.0, 3569.0, 1798.0, 3017.0, 3448.0, 2996.0, 2391.0, 2259.0, 2945.0, 2092.0, 3384.0, 2691.0, 2009.0, 2816.0, 1821.0, 2772.0, 1860.0, 3252.0, 3364.0, 3512.0, 3255.0, 2229.0, 3234.0, 1890.0, 2317.0, 1864.0, 1923.0, 3913.0, 1962.0, 3132.0, 2202.0, 2173.0, 2782.0, 1797.0, 2061.0, 2041.0, 1960.0, 2287.0, 2653.0, 2686.0, 5023.0, 3773.0, 2552.0, 2701.0, 2010.0, 1982.0, 1930.0, 1970.0, 1814.0, 2099.0, 3016.0, 6105.0, 2153.0, 2362.0, 3346.0, 1926.0, 2122.0, 3929.0, 2115.0, 2031.0, 3339.0, 2062.0, 1780.0, 1973.0, 1964.0, 3691.0, 1851.0, 10977.0, 3916.0, 1809.0, 1803.0, 2185.0, 3172.0, 1927.0, 1804.0, 3087.0, 1858.0, 2493.0, 2296.0, 5205.0, 2435.0, 2902.0, 1869.0, 2174.0, 2460.0, 2227.0, 2052.0, 2145.0, 2324.0, 2023.0, 2486.0, 1828.0, 1985.0, 1755.0, 1891.0, 1913.0, 3722.0, 1913.0, 2224.0, 2313.0, 2693.0, 1809.0, 2216.0, 2106.0, 2050.0, 2491.0, 1990.0, 1963.0, 2078.0, 2042.0, 1760.0, 2326.0, 2034.0, 1835.0, 2074.0, 2506.0, 2188.0, 1863.0, 2203.0, 2205.0, 1919.0, 1954.0, 1830.0, 2650.0, 1760.0, 1961.0, 1793.0, 1843.0, 3617.0, 3158.0, 2325.0, 1981.0, 1833.0, 3433.0, 1914.0, 2046.0, 2447.0, 2375.0, 1831.0, 2106.0, 2047.0, 2644.0, 1785.0, 1895.0, 2880.0, 1952.0, 1774.0, 3165.0, 3768.0, 1754.0, 1791.0, 1974.0, 1756.0, 4007.0, 2329.0, 2707.0, 2076.0, 2064.0, 1998.0, 2370.0, 8001.0, 2010.0, 1975.0, 3281.0, 2101.0, 1781.0, 2196.0, 1797.0, 1774.0, 1803.0, 3489.0, 3437.0, 5992.0, 2382.0, 1936.0, 3401.0, 2777.0, 2135.0, 1909.0, 2582.0, 1919.0, 3049.0, 1952.0, 1841.0, 1780.0, 2137.0, 2155.0, 2153.0, 2837.0, 3309.0, 2009.0, 1842.0, 2487.0, 1789.0, 2170.0, 2440.0, 2147.0, 1956.0, 1777.0, 3033.0, 2190.0, 2757.0, 1838.0, 2136.0, 2167.0, 2163.0, 2164.0, 2595.0, 2403.0, 2116.0, 2253.0, 1813.0, 3298.0, 2174.0, 2372.0, 1995.0, 5761.0, 2550.0, 2433.0, 3651.0, 1852.0, 2772.0, 3189.0, 1905.0, 2863.0, 2440.0, 1929.0, 2445.0, 2038.0, 1821.0, 4241.0, 2141.0, 3601.0, 1770.0, 1842.0, 1904.0, 2344.0, 1781.0, 2580.0, 1759.0, 3688.0, 2718.0, 2858.0, 2399.0, 1969.0, 2289.0, 1806.0, 1848.0, 1924.0, 2110.0, 1893.0, 2238.0, 1943.0, 1775.0, 2054.0, 2806.0, 1939.0, 1867.0, 2615.0, 2598.0, 1817.0, 2075.0, 2644.0, 1982.0, 2177.0, 1797.0, 3279.0, 1756.0, 2389.0, 1812.0, 1834.0, 3560.0, 2214.0, 1747.0, 1748.0, 1776.0, 2033.0, 1881.0, 4509.0, 2079.0, 1765.0, 1879.0, 4005.0, 1802.0, 2221.0, 2443.0, 2720.0, 1835.0, 2240.0, 2227.0, 2002.0, 2319.0, 1843.0, 2740.0, 2276.0, 5173.0, 1974.0, 2341.0, 1957.0, 1852.0, 2022.0, 2177.0, 2966.0, 1902.0, 1853.0, 1769.0, 1992.0, 1752.0, 2417.0, 2510.0, 2082.0, 1894.0, 3603.0, 1984.0, 1902.0, 1811.0, 2353.0, 5467.0, 4223.0, 3161.0, 2392.0, 2071.0, 1947.0, 1962.0, 3860.0, 1941.0, 1791.0, 2116.0, 1776.0, 1985.0, 1868.0, 2036.0, 4383.0, 1749.0, 3428.0, 2334.0, 3503.0, 1830.0, 1979.0, 2321.0, 2166.0, 1988.0, 1816.0, 2716.0, 1782.0, 3381.0, 1784.0, 3005.0, 1933.0, 1752.0, 2486.0, 1899.0, 2085.0, 2173.0, 1842.0, 2536.0, 2160.0, 2296.0, 1924.0, 1849.0, 1762.0, 1847.0, 2196.0, 2524.0, 1834.0, 2171.0, 1978.0, 2117.0, 1945.0, 1819.0, 1922.0, 2204.0, 2210.0, 3008.0, 2313.0, 3984.0, 2266.0, 2780.0, 2522.0, 1825.0, 2153.0, 1751.0, 1996.0, 2453.0, 1907.0, 2622.0, 3474.0, 2185.0, 1837.0, 2687.0, 2129.0, 1892.0, 2300.0, 1999.0, 2040.0, 2016.0, 2016.0, 2018.0, 2588.0, 1770.0, 1868.0, 1926.0, 2237.0, 1786.0, 1894.0, 1901.0, 2173.0, 2557.0, 2412.0, 1853.0, 2240.0, 2211.0, 2274.0, 2513.0, 1923.0, 1835.0, 1741.0, 1880.0, 2543.0, 2209.0, 1788.0, 2374.0, 1856.0, 2116.0, 4635.0, 2215.0, 2105.0, 1852.0, 1826.0, 1944.0, 3198.0, 1773.0, 1780.0, 2021.0, 2811.0, 1860.0, 2587.0, 1802.0, 2311.0, 1931.0, 6426.0, 2001.0, 1807.0, 2204.0, 2219.0, 1926.0, 1750.0, 1982.0, 2668.0, 4154.0, 3645.0, 3822.0, 2122.0, 2002.0, 3068.0, 2041.0, 3679.0, 2613.0, 2229.0, 3125.0, 3072.0, 1871.0, 2925.0, 2277.0, 2611.0, 2229.0, 1879.0, 1908.0, 1964.0, 1997.0, 1834.0, 1874.0, 1930.0, 2213.0, 1895.0, 3442.0, 1822.0, 2762.0, 1881.0, 1897.0, 2036.0, 2412.0, 2311.0, 2014.0, 2423.0, 2545.0, 1773.0, 2041.0, 2167.0, 1924.0, 1993.0, 1938.0, 1772.0, 2233.0, 2221.0, 1749.0, 1793.0, 1886.0, 2048.0, 2271.0, 1901.0, 1946.0, 2357.0, 2034.0, 2995.0, 2172.0, 2398.0, 2379.0, 1835.0, 1794.0, 1821.0, 3464.0, 1741.0, 2307.0, 2130.0, 12769.0, 3511.0, 2678.0, 3105.0, 2396.0, 1907.0, 2498.0, 2789.0, 1826.0, 2455.0, 2088.0, 3747.0, 3170.0, 1831.0, 2824.0, 2001.0, 1769.0, 2424.0, 1790.0, 2177.0, 4700.0, 3262.0, 2271.0, 2219.0, 1956.0, 1954.0, 2928.0, 1873.0, 1923.0, 3620.0, 1828.0, 1819.0, 2572.0, 3263.0, 1908.0, 1859.0, 1991.0, 2372.0, 2447.0, 2256.0, 2631.0, 1986.0, 2183.0, 3786.0, 1796.0, 2312.0, 1907.0, 4138.0, 3923.0, 1838.0, 1891.0, 1832.0, 2167.0, 2357.0, 2891.0, 1972.0, 1807.0, 1895.0, 2845.0, 2192.0, 2863.0, 2227.0, 1997.0, 4775.0, 2865.0, 2042.0, 2613.0, 1871.0, 2073.0, 3424.0, 2971.0, 1929.0, 1968.0, 2133.0, 2604.0, 2139.0, 1828.0, 2085.0, 1873.0, 1771.0, 1834.0, 2144.0, 1858.0, 2240.0, 1748.0, 2370.0, 1783.0, 1891.0, 1900.0, 2257.0, 2203.0, 1923.0, 2033.0, 2197.0, 2238.0, 2010.0, 1965.0, 2649.0, 1909.0, 3082.0, 2099.0, 2320.0, 1887.0, 2214.0, 3050.0, 1757.0, 2145.0, 1853.0, 2143.0, 3222.0, 3231.0, 2030.0, 2192.0, 1820.0, 2053.0, 1978.0, 1789.0, 2085.0, 1745.0, 1815.0, 1968.0, 1886.0, 2446.0, 1849.0, 2352.0, 1757.0, 3723.0, 1936.0, 2012.0, 3206.0, 1876.0, 2549.0, 2131.0, 3163.0, 2919.0, 2586.0, 2187.0, 2529.0, 1781.0, 1749.0, 3577.0, 2186.0, 2556.0, 2379.0, 2460.0, 2200.0, 2777.0, 2006.0, 2860.0, 2133.0, 1790.0, 2338.0, 4150.0, 3469.0, 2589.0, 1948.0, 1945.0, 1968.0, 1807.0, 2379.0, 1846.0, 1892.0, 3811.0, 2144.0, 2811.0, 1897.0, 2304.0, 3324.0, 1910.0, 2219.0, 1869.0, 2348.0, 1806.0, 2477.0, 3891.0, 1763.0, 1928.0, 2106.0, 3335.0, 5815.0, 1843.0, 1964.0, 1989.0, 2255.0, 2941.0, 3083.0, 1993.0, 2230.0, 1942.0, 1884.0, 1847.0, 3729.0, 2301.0, 1760.0, 1946.0, 2750.0, 1829.0, 2201.0, 1977.0, 4569.0, 2811.0, 3930.0, 2588.0, 2149.0, 2145.0, 1965.0, 2021.0, 2571.0, 2092.0, 2034.0, 2082.0, 2642.0, 3073.0, 3311.0, 3552.0, 1882.0, 1771.0, 2687.0, 2129.0, 2374.0, 2788.0, 1934.0, 2636.0, 1788.0, 3569.0, 3325.0, 1817.0, 1899.0, 1855.0, 3133.0, 5759.0, 2665.0, 2053.0, 1745.0, 2702.0, 1816.0, 3100.0, 1952.0, 2339.0, 1824.0, 1930.0, 5645.0, 1769.0, 2475.0, 1866.0, 2244.0, 2146.0, 2982.0, 1744.0, 2099.0, 1874.0, 2104.0, 2175.0, 2374.0, 2037.0, 1952.0, 4143.0, 2035.0, 1837.0, 2001.0, 2099.0, 5082.0, 1825.0, 1778.0, 1756.0, 1752.0, 1964.0, 2074.0, 1930.0, 2249.0, 1801.0, 1859.0, 2139.0, 2184.0, 4941.0, 1865.0, 2380.0, 1856.0, 2057.0, 1951.0, 2185.0, 1788.0, 2269.0, 3221.0, 1803.0, 2434.0, 2425.0, 1773.0, 2158.0, 2522.0, 1837.0, 3841.0, 2423.0, 1910.0, 2047.0, 1910.0, 1874.0, 2409.0, 1882.0, 2083.0, 2411.0, 2003.0, 2377.0, 2420.0, 1784.0, 2254.0, 2221.0, 2298.0, 1995.0, 1793.0, 2055.0, 3525.0, 1802.0, 2180.0, 1924.0, 2098.0, 1760.0, 2553.0, 2494.0, 2198.0, 1745.0, 2381.0, 2049.0, 2296.0, 1834.0, 2465.0, 1762.0, 2793.0, 1921.0, 1878.0, 2142.0, 1789.0, 2546.0, 1841.0, 2037.0, 1894.0, 1912.0, 2105.0, 2768.0, 1848.0, 1852.0, 2852.0, 2314.0, 1980.0, 2491.0, 2215.0, 1828.0, 1945.0, 1743.0, 2115.0, 1830.0, 2069.0, 1755.0, 2234.0, 1744.0, 1957.0, 3731.0, 2671.0, 1940.0, 2606.0, 2271.0, 1779.0, 2623.0, 1913.0, 1796.0, 2477.0, 2448.0, 2053.0, 2098.0, 2766.0, 1939.0, 2676.0, 2282.0, 1795.0, 2525.0, 1964.0, 2222.0, 2019.0, 2215.0, 1863.0, 2425.0, 2925.0, 4672.0, 1877.0, 2429.0, 2342.0, 2321.0, 1912.0, 3488.0, 2347.0, 3226.0, 2380.0, 3690.0, 2718.0, 1939.0, 2224.0, 1773.0, 1826.0, 2542.0, 1848.0, 1895.0, 1892.0, 2042.0, 1845.0, 1755.0, 2189.0, 2103.0, 1802.0, 2068.0, 2326.0, 2333.0, 2153.0, 2195.0, 1741.0, 1985.0, 3609.0, 1743.0, 5581.0, 2204.0, 2373.0, 3234.0, 4814.0, 2111.0, 3708.0, 3516.0, 3213.0, 1750.0, 1744.0, 2522.0, 1823.0, 2013.0, 1843.0, 1990.0, 13765.0, 2466.0, 3785.0, 1978.0, 1793.0, 1835.0, 3649.0, 2114.0, 2543.0, 3494.0, 2130.0, 2931.0, 1773.0, 1825.0, 1959.0, 3326.0, 2329.0, 1884.0, 1758.0, 2702.0, 1923.0, 1969.0, 1756.0, 4113.0, 1795.0, 2228.0, 1783.0, 2136.0, 2419.0, 1963.0, 2022.0, 1773.0, 1890.0, 2020.0, 3199.0, 1772.0, 3853.0, 2027.0, 1783.0, 1840.0, 1870.0, 1887.0, 2070.0, 2122.0, 1809.0, 2046.0, 3830.0, 2089.0, 2075.0, 2884.0, 1901.0, 1835.0, 2272.0, 2171.0, 1859.0, 3201.0, 2234.0, 2060.0, 3200.0, 2111.0, 2394.0, 2101.0, 2019.0, 1740.0, 2290.0, 1765.0, 1820.0, 2460.0, 3174.0, 1845.0, 1781.0, 1922.0, 2418.0, 1911.0, 2100.0, 1864.0, 2214.0, 1942.0, 2308.0, 1977.0, 2121.0, 2336.0, 2350.0, 1748.0, 1790.0, 2431.0, 1944.0, 1826.0, 1986.0, 2284.0, 2008.0, 2497.0, 2492.0, 2037.0, 1936.0, 1877.0, 1777.0, 2854.0, 1753.0, 2377.0, 3574.0, 1770.0, 3900.0, 2002.0, 2110.0, 3040.0, 2492.0, 2401.0, 1798.0, 2725.0, 2658.0, 2899.0, 2544.0, 2640.0, 2026.0, 1970.0, 3179.0, 2244.0, 1784.0, 1876.0, 1962.0, 1927.0, 1958.0, 1886.0, 2088.0, 1806.0, 2339.0, 1761.0, 8817.0, 1754.0, 1786.0, 1964.0, 1903.0, 2443.0, 1952.0, 1794.0, 3674.0, 1761.0, 1746.0, 2472.0, 2775.0, 2285.0, 2229.0, 1884.0, 1855.0, 2024.0, 1965.0, 2058.0, 5184.0, 1870.0, 2656.0, 4146.0, 2721.0, 2223.0, 3274.0, 3425.0, 2022.0, 1772.0, 1986.0, 1975.0, 1818.0, 2842.0, 1857.0, 2505.0, 1747.0, 2647.0, 1791.0, 4554.0, 2085.0, 2701.0, 2154.0, 3655.0, 1783.0, 1884.0, 1863.0, 1847.0, 2459.0, 3305.0, 1864.0, 2332.0, 1836.0, 1812.0, 2535.0, 2712.0, 1880.0, 2411.0, 1855.0, 2475.0, 1769.0, 5327.0, 1983.0, 1963.0, 4708.0, 2088.0, 2129.0, 1775.0, 2146.0, 2524.0, 1958.0, 3002.0, 2089.0, 3040.0, 1764.0, 2218.0, 2022.0, 2971.0, 2244.0, 2057.0, 1758.0, 1744.0, 5453.0, 2459.0, 2459.0, 5853.0, 1892.0, 2755.0, 4157.0, 1743.0, 2102.0, 2639.0, 1952.0, 2079.0, 1800.0, 2111.0, 1919.0, 1789.0, 2458.0, 1858.0, 3091.0, 4919.0, 2868.0, 1785.0, 1767.0, 2315.0, 2270.0, 2260.0, 2594.0, 6216.0, 2694.0, 2882.0, 2270.0, 2022.0, 2195.0, 1902.0, 2643.0, 1919.0, 4495.0, 2032.0, 2859.0, 1776.0, 3500.0, 2208.0, 2045.0, 1842.0, 2652.0, 2001.0, 1793.0, 3026.0, 2465.0, 1818.0, 2217.0, 1768.0, 2085.0, 1920.0, 2974.0, 1745.0, 2698.0, 6684.0, 1783.0, 2012.0, 2918.0, 2505.0, 2251.0, 1764.0, 1770.0, 1896.0, 1759.0, 1880.0, 2294.0, 2288.0, 2330.0, 1869.0, 2199.0, 1935.0, 1842.0, 2013.0, 3487.0, 2431.0, 2258.0, 1788.0, 1944.0, 1818.0, 2326.0, 2029.0, 2122.0, 1876.0, 1991.0, 1753.0, 1903.0, 1866.0, 2065.0, 2244.0, 3187.0, 2607.0, 1964.0, 2774.0, 1781.0, 1746.0, 3055.0, 1779.0, 1855.0, 2551.0, 2043.0, 2493.0, 2346.0, 2008.0, 2141.0, 2545.0, 3465.0, 1916.0, 2085.0, 2012.0, 1951.0, 1841.0, 3812.0, 1752.0, 1927.0, 3338.0, 2215.0, 2295.0, 2200.0, 2364.0, 1774.0, 2348.0, 2019.0, 2384.0, 3191.0, 2727.0, 2598.0, 2272.0, 1971.0, 2051.0, 2023.0, 2274.0, 2452.0, 1776.0, 3352.0, 1871.0, 2108.0, 1803.0, 4043.0, 1984.0, 2237.0, 2041.0, 2539.0, 1827.0, 2437.0, 1830.0, 3367.0, 2053.0, 1852.0, 2638.0, 2819.0, 4287.0, 1830.0, 2144.0, 2097.0, 2002.0, 1793.0, 2210.0, 1758.0, 2396.0, 1912.0, 2834.0, 1938.0, 1890.0, 2649.0, 2044.0, 2212.0, 1754.0, 2176.0, 6311.0, 1785.0, 2047.0, 2120.0, 2164.0, 2678.0, 2358.0, 1827.0, 1915.0, 2357.0, 2386.0, 2124.0, 2663.0, 2212.0, 2011.0, 2063.0, 2221.0, 2026.0, 1892.0, 2171.0, 2108.0, 2096.0, 2001.0, 2208.0, 1835.0, 2165.0, 2704.0, 2360.0, 2082.0, 4479.0, 2189.0, 2224.0, 2737.0, 1901.0, 1970.0, 2173.0, 1869.0, 2319.0, 2574.0, 1888.0, 1865.0, 1881.0, 1771.0, 2206.0, 1901.0, 2135.0, 3972.0, 2182.0, 1924.0, 3213.0, 2377.0, 2177.0, 1956.0, 2078.0, 4230.0, 1921.0, 2041.0, 1789.0, 2281.0, 2112.0, 2237.0, 2767.0, 2276.0, 1835.0, 2301.0, 2023.0, 1978.0, 1842.0, 1783.0, 2134.0, 3506.0, 3563.0, 2569.0, 2283.0, 2008.0, 1757.0, 1753.0, 1826.0, 2212.0, 3310.0, 2173.0, 2283.0, 2484.0, 2291.0, 2917.0, 2402.0, 2233.0, 2029.0, 3104.0, 3221.0, 3087.0, 1798.0, 1868.0, 2251.0, 1816.0, 2609.0, 1907.0, 1942.0, 2021.0, 2220.0, 1741.0, 1917.0, 5770.0, 3474.0, 2560.0, 2028.0, 2179.0, 1778.0, 2607.0, 2043.0, 1926.0, 2349.0, 2296.0, 1804.0, 1839.0, 2131.0, 2107.0, 2495.0, 2586.0, 2743.0, 2441.0, 1941.0, 1809.0, 2663.0, 2832.0, 1850.0, 1786.0, 2211.0, 2388.0, 1913.0, 1876.0, 2367.0, 2413.0, 1971.0]\n",
            "outliers in column  InquiriesLast6Months  have outlier  [11.0, 9.0, 44.0, 9.0, 9.0, 9.0, 12.0, 9.0, 9.0, 19.0, 42.0, 9.0, 12.0, 27.0, 11.0, 10.0, 15.0, 13.0, 12.0, 21.0, 10.0, 17.0, 11.0, 38.0, 10.0, 9.0, 15.0, 13.0, 11.0, 10.0, 13.0, 10.0, 16.0, 10.0, 12.0, 17.0, 14.0, 9.0, 15.0, 18.0, 10.0, 9.0, 12.0, 11.0, 19.0, 10.0, 10.0, 10.0, 18.0, 10.0, 9.0, 13.0, 14.0, 22.0, 10.0, 9.0, 10.0, 9.0, 9.0, 10.0, 15.0, 14.0, 10.0, 10.0, 10.0, 10.0, 25.0, 13.0, 10.0, 9.0, 22.0, 15.0, 13.0, 9.0, 9.0, 9.0, 13.0, 10.0, 15.0, 9.0, 18.0, 11.0, 9.0, 13.0, 10.0, 15.0, 28.0, 16.0, 10.0, 10.0, 11.0, 10.0, 10.0, 10.0, 10.0, 9.0, 10.0, 13.0, 12.0, 9.0, 14.0, 12.0, 9.0, 13.0, 11.0, 9.0, 13.0, 10.0, 15.0, 11.0, 12.0, 14.0, 9.0, 9.0, 16.0, 12.0, 12.0, 12.0, 12.0, 14.0, 12.0, 9.0, 9.0, 9.0, 12.0, 9.0, 28.0, 14.0, 18.0, 11.0, 11.0, 10.0, 10.0, 11.0, 10.0, 11.0, 14.0, 11.0, 16.0, 22.0, 11.0, 21.0, 9.0, 12.0, 9.0, 10.0, 10.0, 11.0, 20.0, 15.0, 14.0, 10.0, 23.0, 16.0, 11.0, 11.0, 26.0, 13.0, 9.0, 11.0, 10.0, 9.0, 9.0, 19.0, 9.0, 17.0, 10.0, 17.0, 21.0, 9.0, 29.0, 10.0, 12.0, 9.0, 9.0, 11.0, 14.0, 14.0, 24.0, 11.0, 12.0, 10.0, 9.0, 20.0, 9.0, 11.0, 12.0, 18.0, 10.0, 9.0, 25.0, 19.0, 15.0, 16.0, 9.0, 10.0, 9.0, 11.0, 10.0, 15.0, 9.0, 10.0, 9.0, 9.0, 13.0, 13.0, 10.0, 9.0, 9.0, 9.0, 16.0, 10.0, 12.0, 14.0, 9.0, 10.0, 12.0, 9.0, 16.0, 9.0, 10.0, 11.0, 10.0, 10.0, 11.0, 9.0, 16.0, 10.0, 9.0, 11.0, 10.0, 11.0, 10.0, 21.0, 11.0, 26.0, 10.0, 9.0, 11.0, 40.0, 16.0, 17.0, 10.0, 9.0, 9.0, 13.0, 16.0, 12.0, 15.0, 10.0, 9.0, 19.0, 9.0, 9.0, 12.0, 9.0, 9.0, 9.0, 10.0, 9.0, 12.0, 19.0, 14.0, 9.0, 41.0, 12.0, 9.0, 12.0, 10.0, 12.0, 12.0, 13.0, 10.0, 15.0, 9.0, 23.0, 20.0, 11.0, 10.0, 10.0, 13.0, 9.0, 13.0, 11.0, 13.0, 11.0, 10.0, 9.0, 16.0, 22.0, 9.0, 15.0, 30.0, 10.0, 14.0, 9.0, 23.0, 9.0, 11.0, 19.0, 13.0, 13.0, 11.0, 9.0, 10.0, 33.0, 14.0, 11.0, 10.0, 9.0, 9.0, 11.0, 13.0, 17.0, 20.0, 18.0, 10.0, 9.0, 9.0, 11.0, 12.0, 17.0, 10.0, 13.0, 11.0, 11.0, 10.0, 15.0, 10.0, 25.0, 9.0, 16.0, 11.0, 14.0, 9.0, 16.0, 10.0, 12.0, 17.0, 24.0, 10.0, 13.0, 31.0, 14.0, 11.0, 9.0, 15.0, 10.0, 13.0, 12.0, 9.0, 15.0, 10.0, 9.0, 20.0, 10.0, 11.0, 23.0, 13.0, 18.0, 31.0, 9.0, 9.0, 14.0, 11.0, 14.0, 10.0, 11.0, 9.0, 17.0, 9.0, 15.0, 13.0, 9.0, 11.0, 9.0, 12.0, 11.0, 10.0, 9.0, 12.0, 32.0, 10.0, 11.0, 20.0, 9.0, 10.0, 12.0, 11.0, 11.0, 34.0, 16.0, 25.0, 12.0, 11.0, 15.0, 9.0, 19.0, 15.0, 12.0, 12.0, 9.0, 12.0, 10.0, 11.0, 10.0, 15.0, 11.0, 12.0, 15.0, 10.0, 10.0, 12.0, 10.0, 12.0, 10.0, 13.0, 40.0, 9.0, 10.0, 10.0, 19.0, 9.0, 16.0, 10.0, 10.0, 12.0, 10.0, 11.0, 10.0, 9.0, 12.0, 12.0, 14.0, 9.0, 11.0, 9.0, 9.0, 15.0, 16.0, 17.0, 11.0, 11.0, 20.0, 13.0, 11.0, 11.0, 17.0, 9.0, 9.0, 9.0, 11.0, 13.0, 9.0, 14.0, 9.0, 26.0, 14.0, 13.0, 20.0, 10.0, 15.0, 13.0, 21.0, 9.0, 9.0, 12.0, 11.0, 14.0, 10.0, 9.0, 12.0, 12.0, 19.0, 13.0, 9.0, 10.0, 9.0, 18.0, 22.0, 11.0, 21.0, 9.0, 22.0, 9.0, 14.0, 13.0, 11.0, 14.0, 9.0, 10.0, 13.0, 11.0, 15.0, 9.0, 10.0, 9.0, 16.0, 13.0, 9.0, 13.0, 11.0, 11.0, 10.0, 12.0, 9.0, 19.0, 9.0, 11.0, 16.0, 11.0, 9.0, 11.0, 12.0, 9.0, 16.0, 12.0, 10.0, 11.0, 9.0, 9.0, 10.0, 21.0, 9.0, 20.0, 10.0, 16.0, 16.0, 21.0, 10.0, 11.0, 15.0, 15.0, 16.0, 9.0, 15.0, 22.0, 9.0, 16.0, 9.0, 18.0, 35.0, 12.0, 16.0, 11.0, 14.0, 11.0, 29.0, 9.0, 9.0, 10.0, 11.0, 16.0, 13.0, 9.0, 11.0, 31.0, 10.0, 14.0, 17.0, 14.0, 10.0, 10.0, 10.0, 14.0, 9.0, 12.0, 11.0, 14.0, 21.0, 25.0, 20.0, 9.0, 11.0, 17.0, 10.0, 10.0, 13.0, 24.0, 16.0, 9.0, 13.0, 12.0, 9.0, 23.0, 9.0, 13.0, 12.0, 9.0, 9.0, 14.0, 11.0, 9.0, 18.0, 11.0, 14.0, 13.0, 17.0, 13.0, 10.0, 9.0, 10.0, 16.0, 10.0, 22.0, 11.0, 10.0, 21.0, 25.0, 9.0, 12.0, 14.0, 13.0, 24.0, 9.0, 11.0, 31.0, 9.0, 9.0, 9.0, 12.0, 12.0, 16.0, 9.0, 14.0, 9.0, 26.0, 9.0, 10.0, 13.0, 11.0, 10.0, 13.0, 10.0, 9.0, 14.0, 30.0, 10.0, 13.0, 19.0, 9.0, 14.0, 13.0, 11.0, 17.0, 12.0, 12.0, 13.0, 13.0, 17.0, 16.0, 9.0, 13.0, 19.0, 9.0, 11.0, 18.0, 11.0, 15.0, 9.0, 19.0, 17.0, 10.0, 12.0, 18.0, 9.0, 11.0, 21.0, 18.0, 18.0, 36.0, 9.0, 11.0, 12.0, 9.0, 13.0, 14.0, 10.0, 27.0, 13.0, 17.0, 10.0, 13.0, 9.0, 10.0, 9.0, 9.0, 9.0, 21.0, 13.0, 9.0, 9.0, 23.0, 9.0, 9.0, 21.0, 20.0, 21.0, 14.0, 13.0, 9.0, 14.0, 9.0, 11.0, 21.0, 11.0, 14.0, 11.0, 11.0, 13.0, 12.0, 9.0, 10.0, 17.0, 9.0, 9.0, 13.0, 16.0, 11.0, 13.0, 21.0, 11.0, 15.0, 12.0, 9.0, 9.0, 16.0, 9.0, 15.0, 16.0, 9.0, 10.0, 13.0, 9.0, 12.0, 11.0, 14.0, 11.0, 14.0, 10.0, 11.0, 9.0, 10.0, 10.0, 19.0, 35.0, 9.0, 9.0, 23.0, 10.0, 14.0, 11.0, 9.0, 15.0, 9.0, 17.0, 9.0, 10.0, 11.0, 11.0, 18.0, 10.0, 22.0, 11.0, 9.0, 10.0, 10.0, 11.0, 14.0, 9.0, 11.0, 11.0, 12.0, 9.0, 13.0, 10.0, 9.0, 10.0, 17.0, 9.0, 9.0, 10.0, 11.0, 14.0, 23.0, 17.0, 9.0, 11.0, 13.0, 9.0, 14.0, 11.0, 32.0, 11.0, 13.0, 10.0, 11.0, 9.0, 12.0, 9.0, 10.0, 21.0, 9.0, 11.0, 15.0, 19.0, 9.0, 13.0, 12.0, 11.0, 10.0, 9.0, 11.0, 9.0, 26.0, 19.0, 9.0, 11.0, 11.0, 14.0, 9.0, 10.0, 10.0, 15.0, 9.0, 9.0, 11.0, 16.0, 11.0, 10.0, 9.0, 10.0, 34.0, 19.0, 9.0, 11.0, 9.0, 13.0, 31.0, 14.0, 10.0, 21.0, 17.0, 15.0, 11.0, 10.0, 10.0, 10.0, 12.0, 11.0, 11.0, 10.0, 10.0, 13.0, 17.0, 9.0, 10.0, 10.0, 15.0, 11.0, 13.0, 13.0, 10.0, 10.0, 16.0, 17.0, 9.0, 13.0, 9.0, 15.0, 44.0, 12.0, 15.0, 11.0, 9.0, 9.0, 15.0, 15.0, 22.0, 10.0, 18.0, 26.0, 10.0, 9.0, 10.0, 10.0, 23.0, 10.0, 9.0, 16.0, 28.0, 14.0, 32.0, 14.0, 14.0, 18.0, 18.0, 19.0, 11.0, 17.0, 14.0, 15.0, 13.0, 21.0, 10.0, 13.0, 31.0, 23.0, 9.0, 9.0, 10.0, 9.0, 9.0, 18.0, 18.0, 10.0, 11.0, 9.0, 13.0, 11.0, 29.0, 11.0, 10.0, 11.0, 11.0, 14.0, 11.0, 9.0, 11.0, 9.0, 11.0, 11.0, 17.0, 10.0, 10.0, 9.0, 10.0, 10.0, 23.0, 14.0, 15.0, 10.0, 16.0, 12.0, 15.0, 22.0, 18.0, 12.0, 24.0, 26.0, 11.0, 11.0, 26.0, 9.0, 9.0, 11.0, 9.0, 10.0, 9.0, 11.0, 9.0, 11.0, 12.0, 11.0, 18.0, 10.0, 10.0, 11.0, 10.0, 10.0, 11.0, 9.0, 15.0, 15.0, 63.0, 14.0, 31.0, 9.0, 21.0, 9.0, 11.0, 24.0, 18.0, 18.0, 11.0, 9.0, 11.0, 12.0, 10.0, 12.0, 12.0, 12.0, 12.0, 12.0, 13.0, 10.0, 10.0, 14.0, 9.0, 12.0, 10.0, 10.0, 16.0, 17.0, 13.0, 24.0, 9.0, 10.0, 11.0, 11.0, 10.0, 17.0, 12.0, 9.0, 10.0, 9.0, 11.0, 13.0, 9.0, 17.0, 10.0, 12.0, 9.0, 10.0, 12.0, 9.0, 10.0, 27.0, 10.0, 31.0, 9.0, 10.0, 9.0, 18.0, 10.0, 9.0, 16.0, 24.0, 12.0, 9.0, 10.0, 10.0, 10.0, 11.0, 16.0, 15.0, 12.0, 13.0, 14.0, 9.0, 9.0, 10.0, 12.0, 27.0, 12.0, 9.0, 12.0, 9.0, 14.0, 12.0, 9.0, 10.0, 12.0, 14.0, 12.0, 20.0, 9.0, 10.0, 12.0, 16.0, 14.0, 9.0, 9.0, 13.0, 11.0, 12.0, 11.0, 15.0, 21.0, 13.0, 35.0, 9.0, 16.0, 12.0, 11.0, 10.0, 28.0, 13.0, 9.0, 9.0, 11.0, 12.0, 15.0, 12.0, 9.0, 15.0, 16.0, 16.0, 14.0, 11.0, 16.0, 22.0, 11.0, 21.0, 9.0, 11.0, 9.0, 18.0, 9.0, 12.0, 9.0, 9.0, 10.0, 12.0, 10.0, 13.0, 12.0, 13.0, 14.0, 12.0, 9.0, 12.0, 9.0, 19.0, 9.0, 20.0, 9.0, 12.0, 12.0, 17.0, 11.0, 23.0, 9.0, 9.0, 9.0, 9.0, 10.0, 12.0, 9.0, 14.0, 20.0, 10.0, 9.0, 18.0, 15.0, 11.0, 10.0, 13.0, 9.0, 11.0, 15.0, 17.0, 9.0, 18.0, 9.0, 12.0, 9.0, 20.0, 10.0, 9.0, 13.0, 13.0, 11.0, 14.0, 10.0, 9.0, 15.0, 12.0, 12.0, 16.0, 12.0, 10.0, 10.0, 9.0, 12.0, 9.0, 21.0, 12.0, 13.0, 10.0, 11.0, 13.0, 12.0, 10.0, 10.0, 25.0, 25.0, 13.0, 10.0, 14.0, 10.0, 12.0, 13.0, 10.0, 18.0, 12.0, 9.0, 13.0, 16.0, 9.0, 10.0, 9.0, 12.0, 9.0, 14.0, 10.0, 17.0, 17.0, 14.0, 97.0, 10.0, 13.0, 9.0, 10.0, 9.0, 15.0, 19.0, 15.0, 11.0, 10.0, 14.0, 9.0, 9.0, 12.0, 9.0, 9.0, 9.0, 18.0, 10.0, 10.0, 12.0, 9.0, 11.0, 13.0, 14.0, 9.0, 14.0, 13.0, 10.0, 15.0, 11.0, 9.0, 9.0, 16.0, 10.0, 20.0, 14.0, 10.0, 9.0, 10.0, 13.0, 11.0, 37.0, 17.0, 16.0, 18.0, 13.0, 10.0, 10.0, 16.0, 11.0, 13.0, 12.0, 16.0, 21.0, 11.0, 9.0, 12.0, 9.0, 9.0, 13.0, 10.0, 14.0, 13.0, 18.0, 10.0, 13.0, 10.0, 11.0, 9.0, 9.0, 15.0, 13.0, 20.0, 9.0, 10.0, 14.0, 13.0, 9.0, 12.0, 26.0, 9.0, 11.0, 14.0, 9.0, 13.0, 9.0, 9.0, 10.0, 9.0, 14.0, 9.0, 11.0, 10.0, 9.0, 9.0, 10.0, 27.0, 9.0, 14.0, 10.0, 10.0, 10.0, 9.0, 11.0, 9.0, 12.0, 17.0, 10.0, 9.0, 10.0, 11.0, 24.0, 13.0, 13.0, 11.0, 10.0, 9.0, 15.0, 10.0, 12.0, 15.0, 12.0, 46.0, 25.0, 9.0, 9.0, 10.0, 9.0, 11.0, 13.0, 9.0, 22.0, 12.0, 12.0, 11.0, 9.0, 10.0, 9.0, 11.0, 15.0, 9.0, 21.0, 14.0, 13.0, 13.0, 11.0, 9.0, 9.0, 9.0, 12.0, 19.0, 9.0, 10.0, 11.0, 15.0, 15.0, 11.0, 11.0, 12.0, 11.0, 14.0, 9.0, 12.0, 9.0, 18.0, 11.0, 9.0, 21.0, 12.0, 11.0, 26.0, 16.0, 14.0, 18.0, 9.0, 10.0, 21.0, 9.0, 9.0, 9.0, 19.0, 11.0, 9.0, 13.0, 15.0, 9.0, 12.0, 17.0, 11.0, 9.0, 10.0, 17.0, 9.0, 18.0, 10.0, 15.0, 10.0, 12.0, 13.0, 11.0, 9.0, 12.0, 9.0, 9.0, 17.0, 10.0, 11.0, 10.0, 10.0, 9.0, 19.0, 18.0, 13.0, 11.0, 15.0, 18.0, 20.0, 9.0, 15.0, 10.0, 21.0, 11.0, 16.0, 12.0, 9.0, 9.0, 9.0, 9.0, 9.0, 9.0, 18.0, 9.0, 10.0, 9.0, 11.0, 10.0, 9.0, 11.0, 12.0, 13.0, 9.0, 10.0, 9.0, 10.0, 9.0, 11.0, 12.0, 11.0, 9.0, 18.0, 12.0, 11.0, 14.0, 15.0, 11.0, 9.0, 9.0, 21.0, 9.0, 12.0, 12.0, 20.0, 14.0, 9.0, 14.0, 9.0, 10.0, 9.0, 9.0, 9.0, 34.0, 16.0, 9.0, 10.0, 11.0, 10.0, 14.0, 9.0, 13.0, 10.0, 12.0, 9.0, 12.0, 12.0, 14.0, 18.0, 10.0, 15.0, 18.0, 9.0, 11.0, 20.0, 9.0, 9.0, 12.0, 13.0, 9.0, 12.0, 9.0, 12.0, 17.0, 14.0, 17.0, 9.0, 26.0, 10.0, 17.0, 10.0, 12.0, 10.0, 12.0, 9.0, 38.0, 14.0, 11.0, 10.0, 18.0, 9.0, 11.0, 16.0, 12.0, 12.0, 10.0, 10.0, 20.0, 13.0, 9.0, 11.0, 10.0, 14.0, 14.0, 10.0, 16.0, 9.0, 21.0, 10.0, 11.0, 11.0, 13.0, 52.0, 10.0, 23.0, 11.0, 10.0, 10.0, 10.0, 19.0, 25.0, 12.0, 10.0, 10.0, 11.0, 13.0, 11.0, 9.0, 11.0, 11.0, 10.0, 26.0, 24.0, 13.0, 37.0, 12.0, 9.0, 13.0, 9.0, 14.0, 10.0, 15.0, 10.0, 15.0, 18.0, 24.0, 35.0, 11.0, 17.0, 10.0, 16.0, 12.0, 14.0, 9.0, 15.0, 12.0, 9.0, 9.0, 10.0, 16.0, 40.0, 10.0, 23.0, 12.0, 15.0, 10.0, 17.0, 10.0, 9.0, 13.0, 14.0, 10.0, 19.0, 14.0, 13.0, 12.0, 10.0, 11.0, 14.0, 9.0, 13.0, 14.0, 10.0, 9.0, 13.0, 14.0, 19.0, 14.0, 12.0, 15.0, 11.0, 11.0, 15.0, 11.0, 10.0, 15.0, 11.0, 14.0, 12.0, 12.0, 13.0, 12.0, 10.0, 14.0, 14.0, 20.0, 9.0, 9.0, 14.0, 13.0, 19.0, 13.0, 12.0, 10.0, 9.0, 15.0, 13.0, 28.0, 11.0, 11.0, 9.0, 21.0, 12.0, 13.0, 14.0, 11.0, 9.0, 10.0, 10.0, 9.0, 18.0, 11.0, 10.0, 11.0, 13.0, 12.0, 11.0, 21.0, 11.0, 16.0, 14.0, 16.0, 10.0, 12.0, 9.0, 14.0, 10.0, 14.0, 17.0, 21.0, 20.0, 10.0, 10.0, 11.0, 32.0, 11.0, 33.0, 10.0, 13.0, 10.0, 11.0, 9.0, 12.0, 20.0, 16.0, 16.0, 20.0, 21.0, 22.0, 9.0, 10.0, 10.0, 16.0, 11.0, 9.0, 10.0, 9.0, 9.0, 18.0, 9.0, 9.0, 11.0, 14.0, 9.0, 9.0, 10.0, 18.0, 12.0, 9.0, 10.0, 24.0, 13.0, 10.0, 9.0, 11.0, 12.0, 9.0, 19.0, 12.0, 10.0, 9.0, 17.0, 11.0, 13.0, 10.0, 9.0, 18.0, 14.0, 12.0, 10.0, 11.0, 9.0, 27.0, 22.0, 9.0, 11.0, 13.0, 9.0, 15.0, 9.0, 9.0, 11.0, 9.0, 9.0, 15.0, 12.0, 29.0, 20.0, 9.0, 11.0, 24.0, 12.0, 9.0, 12.0, 13.0, 10.0, 9.0, 16.0, 13.0, 9.0, 9.0, 11.0, 12.0, 22.0, 12.0, 9.0, 25.0, 9.0, 10.0, 9.0, 9.0, 13.0, 22.0, 12.0, 9.0, 9.0, 9.0, 15.0, 22.0, 12.0, 11.0, 11.0, 9.0, 9.0, 17.0, 9.0, 13.0, 12.0, 16.0, 14.0, 24.0, 11.0, 12.0, 9.0, 12.0, 11.0, 9.0, 9.0, 9.0, 12.0, 12.0, 12.0, 12.0, 14.0, 14.0, 15.0, 10.0, 12.0, 13.0, 9.0, 16.0, 13.0, 11.0, 14.0, 10.0, 12.0, 10.0, 14.0, 13.0, 9.0, 9.0, 16.0, 10.0, 10.0, 105.0, 11.0, 9.0, 10.0, 9.0, 12.0, 9.0, 11.0, 10.0, 10.0, 10.0, 10.0, 16.0, 25.0, 25.0, 9.0, 12.0, 9.0, 14.0, 12.0, 10.0, 10.0, 11.0, 9.0, 10.0, 9.0, 15.0, 31.0, 10.0, 10.0, 14.0, 12.0, 10.0, 23.0, 13.0, 10.0, 9.0, 9.0, 18.0, 11.0, 24.0, 9.0, 9.0, 10.0, 16.0, 10.0, 10.0, 12.0, 16.0, 15.0, 9.0, 9.0, 11.0, 9.0, 9.0, 15.0, 11.0, 9.0, 10.0, 10.0, 9.0, 13.0, 10.0, 12.0, 17.0, 9.0, 10.0, 13.0, 10.0, 17.0, 15.0, 9.0, 10.0, 9.0, 9.0, 9.0, 23.0, 10.0, 9.0, 23.0, 11.0, 12.0, 10.0, 11.0, 10.0, 10.0, 10.0, 13.0, 10.0, 10.0, 11.0, 14.0, 23.0, 53.0, 31.0, 9.0, 12.0, 9.0, 10.0, 21.0, 15.0, 9.0, 17.0, 11.0, 9.0, 11.0, 9.0, 10.0, 10.0, 21.0, 10.0, 12.0, 10.0, 19.0, 9.0, 26.0, 11.0, 10.0, 19.0, 16.0, 18.0, 11.0, 9.0, 20.0, 19.0, 15.0, 17.0, 15.0, 17.0, 11.0, 9.0, 28.0, 15.0, 9.0, 13.0, 11.0, 9.0, 14.0, 11.0, 9.0, 14.0, 9.0, 12.0, 13.0, 12.0, 9.0, 9.0, 13.0, 21.0, 13.0, 9.0, 11.0, 12.0, 10.0, 29.0, 12.0, 18.0, 29.0, 10.0, 9.0, 14.0, 15.0, 14.0, 11.0, 13.0, 9.0, 9.0, 13.0, 9.0, 10.0, 11.0, 10.0, 17.0, 10.0, 9.0, 10.0, 9.0, 16.0, 13.0, 9.0, 15.0, 13.0, 9.0, 15.0, 9.0, 11.0, 10.0, 14.0, 10.0, 12.0, 9.0, 18.0, 13.0, 11.0, 10.0, 12.0, 9.0, 20.0, 11.0, 14.0, 12.0, 15.0, 13.0, 9.0, 9.0, 13.0, 10.0, 14.0, 12.0, 12.0, 11.0, 11.0, 27.0, 15.0, 12.0, 22.0, 10.0, 10.0, 10.0, 9.0, 15.0, 13.0, 11.0, 27.0, 10.0, 9.0, 10.0, 34.0, 10.0, 9.0, 16.0, 9.0, 13.0, 9.0, 17.0, 13.0, 9.0, 17.0, 9.0, 9.0, 9.0, 12.0, 9.0, 10.0, 9.0, 10.0, 11.0, 12.0, 9.0, 13.0, 11.0, 11.0, 9.0, 10.0, 10.0, 21.0, 9.0, 9.0, 9.0, 13.0, 17.0, 11.0, 10.0, 20.0, 9.0, 10.0, 11.0, 11.0, 12.0, 22.0, 14.0, 30.0, 11.0, 14.0, 11.0, 28.0, 15.0, 24.0, 11.0, 37.0, 16.0, 10.0, 12.0, 17.0, 16.0, 26.0, 13.0, 18.0, 17.0, 22.0, 9.0, 13.0, 22.0, 11.0, 15.0, 15.0, 11.0, 9.0, 17.0, 15.0, 12.0, 11.0, 12.0, 21.0, 9.0, 16.0, 17.0, 11.0, 9.0, 14.0, 9.0, 13.0, 17.0, 10.0, 10.0, 9.0, 16.0, 10.0, 11.0, 9.0, 50.0, 9.0, 28.0, 14.0, 10.0, 13.0, 10.0, 10.0, 16.0, 25.0, 17.0, 17.0, 14.0, 9.0, 10.0, 16.0, 9.0, 14.0, 9.0, 19.0, 11.0, 17.0, 12.0, 18.0, 9.0, 11.0, 9.0, 15.0, 10.0, 11.0, 10.0, 30.0, 20.0, 13.0, 9.0, 9.0, 12.0, 21.0, 14.0, 10.0, 9.0, 10.0]\n",
            "outliers in column  TotalInquiries  have outlier  [28.0, 34.0, 30.0, 51.0, 40.0, 29.0, 27.0, 26.0, 117.0, 35.0, 25.0, 29.0, 26.0, 26.0, 25.0, 36.0, 35.0, 34.0, 60.0, 50.0, 27.0, 29.0, 25.0, 26.0, 25.0, 30.0, 31.0, 28.0, 27.0, 36.0, 25.0, 34.0, 28.0, 33.0, 33.0, 26.0, 25.0, 27.0, 28.0, 27.0, 25.0, 26.0, 36.0, 35.0, 28.0, 35.0, 55.0, 33.0, 29.0, 35.0, 35.0, 39.0, 26.0, 39.0, 36.0, 25.0, 25.0, 34.0, 31.0, 37.0, 25.0, 38.0, 27.0, 26.0, 41.0, 30.0, 33.0, 26.0, 32.0, 27.0, 26.0, 30.0, 33.0, 31.0, 48.0, 36.0, 27.0, 47.0, 37.0, 33.0, 32.0, 31.0, 26.0, 28.0, 25.0, 26.0, 33.0, 25.0, 26.0, 32.0, 42.0, 28.0, 25.0, 35.0, 30.0, 32.0, 37.0, 38.0, 27.0, 47.0, 26.0, 70.0, 36.0, 44.0, 29.0, 27.0, 28.0, 35.0, 46.0, 28.0, 28.0, 58.0, 27.0, 26.0, 32.0, 31.0, 28.0, 29.0, 53.0, 25.0, 43.0, 42.0, 32.0, 33.0, 30.0, 25.0, 44.0, 41.0, 41.0, 29.0, 35.0, 31.0, 26.0, 45.0, 44.0, 38.0, 41.0, 54.0, 50.0, 29.0, 30.0, 26.0, 26.0, 44.0, 32.0, 26.0, 28.0, 29.0, 25.0, 28.0, 30.0, 28.0, 35.0, 30.0, 40.0, 30.0, 27.0, 32.0, 25.0, 33.0, 37.0, 36.0, 31.0, 35.0, 31.0, 46.0, 37.0, 26.0, 30.0, 25.0, 30.0, 33.0, 33.0, 26.0, 47.0, 41.0, 43.0, 36.0, 31.0, 30.0, 45.0, 74.0, 31.0, 25.0, 25.0, 27.0, 26.0, 31.0, 32.0, 29.0, 30.0, 26.0, 36.0, 29.0, 53.0, 46.0, 27.0, 42.0, 28.0, 25.0, 28.0, 33.0, 40.0, 59.0, 26.0, 33.0, 26.0, 25.0, 26.0, 29.0, 25.0, 31.0, 30.0, 25.0, 27.0, 52.0, 27.0, 31.0, 28.0, 45.0, 49.0, 64.0, 36.0, 28.0, 25.0, 26.0, 57.0, 43.0, 45.0, 44.0, 33.0, 26.0, 31.0, 32.0, 28.0, 32.0, 42.0, 25.0, 25.0, 37.0, 27.0, 54.0, 97.0, 26.0, 68.0, 26.0, 30.0, 38.0, 35.0, 38.0, 30.0, 34.0, 51.0, 28.0, 49.0, 26.0, 47.0, 49.0, 58.0, 26.0, 31.0, 29.0, 25.0, 60.0, 27.0, 30.0, 87.0, 45.0, 26.0, 25.0, 85.0, 28.0, 26.0, 40.0, 39.0, 27.0, 41.0, 50.0, 25.0, 28.0, 90.0, 30.0, 28.0, 44.0, 26.0, 25.0, 26.0, 113.0, 41.0, 74.0, 37.0, 50.0, 28.0, 67.0, 25.0, 41.0, 25.0, 26.0, 35.0, 57.0, 32.0, 35.0, 40.0, 34.0, 36.0, 29.0, 32.0, 58.0, 43.0, 41.0, 27.0, 40.0, 48.0, 36.0, 40.0, 33.0, 25.0, 36.0, 47.0, 35.0, 31.0, 36.0, 35.0, 25.0, 40.0, 27.0, 37.0, 27.0, 61.0, 41.0, 27.0, 32.0, 26.0, 29.0, 26.0, 35.0, 46.0, 33.0, 31.0, 27.0, 31.0, 42.0, 28.0, 32.0, 26.0, 26.0, 46.0, 35.0, 58.0, 29.0, 31.0, 37.0, 36.0, 32.0, 25.0, 40.0, 29.0, 46.0, 45.0, 36.0, 25.0, 37.0, 33.0, 27.0, 44.0, 47.0, 40.0, 47.0, 30.0, 25.0, 37.0, 30.0, 37.0, 26.0, 33.0, 25.0, 28.0, 49.0, 37.0, 34.0, 25.0, 25.0, 33.0, 34.0, 49.0, 30.0, 42.0, 34.0, 30.0, 48.0, 28.0, 27.0, 29.0, 82.0, 28.0, 27.0, 28.0, 35.0, 43.0, 33.0, 26.0, 52.0, 34.0, 26.0, 32.0, 36.0, 44.0, 30.0, 26.0, 32.0, 62.0, 37.0, 25.0, 32.0, 26.0, 30.0, 26.0, 39.0, 36.0, 30.0, 25.0, 30.0, 28.0, 25.0, 38.0, 36.0, 25.0, 31.0, 25.0, 30.0, 44.0, 70.0, 40.0, 52.0, 29.0, 39.0, 32.0, 32.0, 74.0, 39.0, 28.0, 27.0, 63.0, 27.0, 36.0, 34.0, 37.0, 36.0, 34.0, 26.0, 25.0, 29.0, 29.0, 31.0, 28.0, 44.0, 40.0, 43.0, 36.0, 27.0, 68.0, 40.0, 35.0, 45.0, 62.0, 25.0, 39.0, 29.0, 33.0, 28.0, 42.0, 26.0, 39.0, 30.0, 29.0, 38.0, 34.0, 26.0, 78.0, 29.0, 26.0, 46.0, 43.0, 32.0, 33.0, 27.0, 35.0, 25.0, 35.0, 26.0, 30.0, 27.0, 33.0, 25.0, 28.0, 29.0, 32.0, 30.0, 32.0, 66.0, 39.0, 32.0, 56.0, 31.0, 32.0, 37.0, 29.0, 26.0, 49.0, 31.0, 27.0, 30.0, 31.0, 30.0, 30.0, 36.0, 42.0, 28.0, 30.0, 32.0, 32.0, 26.0, 68.0, 25.0, 54.0, 76.0, 46.0, 30.0, 26.0, 72.0, 34.0, 27.0, 56.0, 29.0, 26.0, 31.0, 32.0, 31.0, 34.0, 109.0, 27.0, 26.0, 29.0, 25.0, 51.0, 36.0, 29.0, 60.0, 26.0, 27.0, 44.0, 29.0, 28.0, 61.0, 25.0, 30.0, 29.0, 30.0, 27.0, 96.0, 32.0, 30.0, 26.0, 28.0, 30.0, 33.0, 50.0, 25.0, 27.0, 37.0, 29.0, 32.0, 35.0, 28.0, 30.0, 38.0, 25.0, 29.0, 25.0, 36.0, 25.0, 32.0, 90.0, 37.0, 43.0, 30.0, 56.0, 38.0, 32.0, 27.0, 38.0, 26.0, 27.0, 29.0, 32.0, 31.0, 49.0, 45.0, 106.0, 35.0, 31.0, 41.0, 26.0, 27.0, 28.0, 80.0, 27.0, 25.0, 48.0, 26.0, 31.0, 28.0, 31.0, 50.0, 39.0, 27.0, 27.0, 109.0, 29.0, 50.0, 33.0, 32.0, 30.0, 28.0, 33.0, 42.0, 46.0, 25.0, 30.0, 37.0, 26.0, 32.0, 40.0, 33.0, 26.0, 27.0, 28.0, 25.0, 71.0, 26.0, 25.0, 29.0, 48.0, 40.0, 47.0, 35.0, 25.0, 29.0, 27.0, 38.0, 30.0, 38.0, 36.0, 43.0, 40.0, 42.0, 27.0, 48.0, 35.0, 38.0, 25.0, 34.0, 56.0, 59.0, 32.0, 29.0, 65.0, 26.0, 34.0, 25.0, 32.0, 26.0, 33.0, 25.0, 26.0, 27.0, 62.0, 42.0, 32.0, 34.0, 55.0, 31.0, 27.0, 25.0, 46.0, 28.0, 29.0, 27.0, 35.0, 28.0, 53.0, 62.0, 36.0, 37.0, 26.0, 28.0, 26.0, 63.0, 26.0, 35.0, 38.0, 36.0, 26.0, 34.0, 46.0, 38.0, 25.0, 47.0, 28.0, 29.0, 33.0, 40.0, 36.0, 38.0, 25.0, 27.0, 28.0, 44.0, 26.0, 44.0, 28.0, 25.0, 36.0, 26.0, 32.0, 47.0, 78.0, 30.0, 25.0, 25.0, 28.0, 55.0, 34.0, 30.0, 30.0, 33.0, 35.0, 27.0, 56.0, 36.0, 38.0, 35.0, 31.0, 25.0, 47.0, 83.0, 30.0, 46.0, 32.0, 25.0, 43.0, 35.0, 28.0, 25.0, 25.0, 38.0, 29.0, 36.0, 27.0, 43.0, 45.0, 34.0, 25.0, 26.0, 28.0, 25.0, 33.0, 64.0, 47.0, 31.0, 31.0, 33.0, 26.0, 25.0, 65.0, 52.0, 55.0, 27.0, 25.0, 35.0, 41.0, 25.0, 26.0, 38.0, 26.0, 31.0, 28.0, 26.0, 53.0, 28.0, 33.0, 34.0, 47.0, 33.0, 27.0, 30.0, 42.0, 31.0, 25.0, 31.0, 32.0, 36.0, 30.0, 31.0, 27.0, 33.0, 69.0, 35.0, 34.0, 26.0, 32.0, 40.0, 25.0, 30.0, 53.0, 28.0, 30.0, 32.0, 31.0, 27.0, 52.0, 29.0, 26.0, 35.0, 26.0, 43.0, 39.0, 93.0, 29.0, 33.0, 25.0, 32.0, 25.0, 35.0, 42.0, 48.0, 43.0, 33.0, 47.0, 32.0, 78.0, 33.0, 28.0, 29.0, 31.0, 41.0, 30.0, 33.0, 28.0, 34.0, 56.0, 29.0, 38.0, 25.0, 28.0, 39.0, 26.0, 25.0, 36.0, 28.0, 38.0, 42.0, 30.0, 44.0, 29.0, 42.0, 25.0, 34.0, 37.0, 25.0, 26.0, 25.0, 25.0, 32.0, 28.0, 28.0, 38.0, 28.0, 26.0, 38.0, 28.0, 37.0, 30.0, 87.0, 32.0, 51.0, 27.0, 26.0, 28.0, 25.0, 33.0, 30.0, 33.0, 27.0, 36.0, 28.0, 33.0, 33.0, 31.0, 32.0, 26.0, 26.0, 25.0, 32.0, 26.0, 25.0, 27.0, 30.0, 48.0, 35.0, 25.0, 30.0, 25.0, 39.0, 40.0, 25.0, 41.0, 49.0, 26.0, 31.0, 25.0, 37.0, 35.0, 61.0, 50.0, 25.0, 27.0, 30.0, 31.0, 27.0, 32.0, 26.0, 26.0, 33.0, 31.0, 34.0, 27.0, 29.0, 27.0, 27.0, 27.0, 30.0, 27.0, 25.0, 35.0, 26.0, 35.0, 28.0, 32.0, 41.0, 39.0, 44.0, 31.0, 34.0, 27.0, 103.0, 37.0, 32.0, 38.0, 33.0, 28.0, 36.0, 25.0, 29.0, 27.0, 112.0, 26.0, 28.0, 45.0, 26.0, 30.0, 27.0, 27.0, 31.0, 25.0, 25.0, 29.0, 35.0, 51.0, 28.0, 32.0, 66.0, 28.0, 25.0, 26.0, 25.0, 32.0, 32.0, 39.0, 27.0, 31.0, 28.0, 27.0, 40.0, 35.0, 31.0, 39.0, 36.0, 52.0, 36.0, 33.0, 25.0, 40.0, 29.0, 96.0, 27.0, 27.0, 45.0, 35.0, 25.0, 38.0, 31.0, 39.0, 47.0, 27.0, 36.0, 27.0, 26.0, 27.0, 41.0, 27.0, 29.0, 58.0, 50.0, 25.0, 36.0, 27.0, 30.0, 26.0, 31.0, 27.0, 28.0, 28.0, 41.0, 28.0, 41.0, 32.0, 33.0, 30.0, 34.0, 35.0, 46.0, 34.0, 42.0, 29.0, 34.0, 33.0, 97.0, 34.0, 27.0, 27.0, 44.0, 36.0, 43.0, 89.0, 29.0, 37.0, 37.0, 28.0, 31.0, 33.0, 30.0, 35.0, 32.0, 28.0, 26.0, 39.0, 57.0, 26.0, 32.0, 27.0, 29.0, 41.0, 29.0, 53.0, 27.0, 33.0, 30.0, 29.0, 34.0, 26.0, 28.0, 33.0, 28.0, 35.0, 28.0, 26.0, 25.0, 27.0, 29.0, 31.0, 55.0, 36.0, 27.0, 28.0, 34.0, 26.0, 34.0, 57.0, 27.0, 31.0, 52.0, 32.0, 27.0, 33.0, 86.0, 28.0, 29.0, 74.0, 26.0, 42.0, 36.0, 34.0, 57.0, 25.0, 27.0, 31.0, 44.0, 46.0, 28.0, 25.0, 27.0, 25.0, 32.0, 30.0, 61.0, 38.0, 27.0, 49.0, 39.0, 53.0, 39.0, 27.0, 40.0, 38.0, 30.0, 26.0, 46.0, 33.0, 63.0, 25.0, 25.0, 36.0, 32.0, 27.0, 27.0, 45.0, 27.0, 31.0, 25.0, 28.0, 31.0, 31.0, 32.0, 26.0, 58.0, 50.0, 44.0, 37.0, 38.0, 379.0, 46.0, 30.0, 49.0, 45.0, 58.0, 29.0, 32.0, 26.0, 38.0, 27.0, 46.0, 25.0, 27.0, 40.0, 27.0, 26.0, 25.0, 64.0, 25.0, 27.0, 29.0, 25.0, 26.0, 26.0, 56.0, 28.0, 43.0, 40.0, 39.0, 66.0, 36.0, 42.0, 29.0, 33.0, 32.0, 28.0, 30.0, 29.0, 42.0, 26.0, 50.0, 27.0, 35.0, 29.0, 37.0, 35.0, 33.0, 36.0, 51.0, 29.0, 39.0, 26.0, 75.0, 54.0, 25.0, 56.0, 31.0, 66.0, 30.0, 31.0, 26.0, 51.0, 40.0, 27.0, 31.0, 28.0, 28.0, 65.0, 37.0, 27.0, 25.0, 28.0, 28.0, 25.0, 29.0, 44.0, 26.0, 38.0, 32.0, 36.0, 39.0, 39.0, 36.0, 25.0, 25.0, 32.0, 33.0, 33.0, 26.0, 36.0, 28.0, 40.0, 45.0, 25.0, 46.0, 33.0, 31.0, 37.0, 27.0, 26.0, 31.0, 28.0, 31.0, 26.0, 25.0, 25.0, 26.0, 27.0, 40.0, 90.0, 34.0, 38.0, 28.0, 28.0, 36.0, 31.0, 25.0, 27.0, 25.0, 30.0, 41.0, 27.0, 38.0, 46.0, 40.0, 31.0, 34.0, 70.0, 50.0, 30.0, 29.0, 31.0, 32.0, 29.0, 25.0, 51.0, 38.0, 27.0, 29.0, 27.0, 25.0, 27.0, 28.0, 25.0, 25.0, 46.0, 66.0, 49.0, 36.0, 52.0, 35.0, 61.0, 27.0, 32.0, 32.0, 38.0, 25.0, 46.0, 41.0, 29.0, 27.0, 39.0, 25.0, 66.0, 31.0, 25.0, 26.0, 32.0, 27.0, 40.0, 30.0, 35.0, 35.0, 25.0, 39.0, 39.0, 25.0, 32.0, 25.0, 26.0, 32.0, 34.0, 41.0, 37.0, 34.0, 28.0, 26.0, 25.0, 33.0, 28.0, 31.0, 38.0, 29.0, 53.0, 29.0, 32.0, 36.0, 66.0, 26.0, 32.0, 35.0, 48.0, 54.0, 25.0, 27.0, 27.0, 43.0, 35.0, 40.0, 29.0, 37.0, 35.0, 37.0, 27.0, 35.0, 30.0, 29.0, 25.0, 30.0, 38.0, 28.0, 45.0, 27.0, 28.0, 38.0, 30.0, 47.0, 26.0, 29.0, 28.0, 26.0, 31.0, 31.0, 25.0, 28.0, 30.0, 26.0, 71.0, 32.0, 34.0, 52.0, 42.0, 32.0, 27.0, 25.0, 31.0, 45.0, 26.0, 25.0, 53.0, 38.0, 50.0, 38.0, 27.0, 32.0, 105.0, 37.0, 25.0, 40.0, 25.0, 25.0, 36.0, 25.0, 26.0, 33.0, 40.0, 41.0, 38.0, 55.0, 40.0, 28.0, 27.0, 46.0, 29.0, 36.0, 27.0, 26.0, 32.0, 55.0, 29.0, 27.0, 30.0, 34.0, 35.0, 51.0, 38.0, 27.0, 28.0, 45.0, 28.0, 25.0, 38.0, 25.0, 30.0, 25.0, 56.0, 43.0, 39.0, 28.0, 26.0, 36.0, 64.0, 30.0, 25.0, 26.0, 67.0, 26.0, 79.0, 37.0, 25.0, 27.0, 32.0, 33.0, 31.0, 85.0, 28.0, 77.0, 39.0, 44.0, 29.0, 48.0, 44.0, 26.0, 32.0, 26.0, 25.0, 34.0, 35.0, 29.0, 36.0, 25.0, 85.0, 68.0, 36.0, 27.0, 46.0, 25.0, 26.0, 25.0, 25.0, 42.0, 30.0, 39.0, 31.0, 31.0, 34.0, 42.0, 25.0, 30.0, 30.0, 37.0, 61.0, 47.0, 58.0, 46.0, 35.0, 27.0, 29.0, 30.0, 30.0, 37.0, 27.0, 28.0, 37.0, 34.0, 77.0, 33.0, 27.0, 25.0, 25.0, 28.0, 28.0, 38.0, 43.0, 61.0, 36.0, 30.0, 43.0, 30.0, 26.0, 27.0, 29.0, 27.0, 31.0, 43.0, 43.0, 46.0, 67.0, 37.0, 25.0, 28.0, 39.0, 30.0, 26.0, 29.0, 30.0, 31.0, 42.0, 29.0, 48.0, 30.0, 27.0, 65.0, 35.0, 25.0, 33.0, 31.0, 45.0, 28.0, 25.0, 25.0, 43.0, 28.0, 29.0, 45.0, 27.0, 30.0, 25.0, 27.0, 28.0, 67.0, 63.0, 36.0, 39.0, 47.0, 26.0, 44.0, 26.0, 34.0, 42.0, 61.0, 27.0, 33.0, 32.0, 47.0, 30.0, 42.0, 61.0, 28.0, 36.0, 54.0, 36.0, 33.0, 56.0, 28.0, 82.0, 25.0, 27.0, 36.0, 50.0, 43.0, 33.0, 25.0, 33.0, 58.0, 27.0, 33.0, 25.0, 28.0, 30.0, 46.0, 37.0, 26.0, 30.0, 31.0, 26.0, 32.0, 25.0, 30.0, 29.0, 39.0, 38.0, 47.0, 25.0, 49.0, 25.0, 27.0, 27.0, 46.0, 26.0, 51.0, 54.0, 30.0, 26.0, 26.0, 26.0, 34.0, 64.0, 33.0, 25.0, 27.0, 26.0, 58.0, 40.0, 26.0, 25.0, 30.0, 29.0, 38.0, 25.0, 26.0, 26.0, 35.0, 51.0, 27.0, 38.0, 32.0, 25.0, 32.0, 29.0, 25.0, 63.0, 41.0, 52.0, 33.0, 41.0, 26.0, 44.0, 26.0, 33.0, 27.0, 27.0, 34.0, 30.0, 25.0, 58.0, 28.0, 30.0, 37.0, 29.0, 27.0, 33.0, 27.0, 25.0, 26.0, 52.0, 32.0, 65.0, 32.0, 26.0, 26.0, 62.0, 47.0, 33.0, 30.0, 33.0, 25.0, 29.0, 38.0, 25.0, 27.0, 29.0, 30.0, 34.0, 38.0, 28.0, 47.0, 26.0, 35.0, 34.0, 30.0, 377.0, 26.0, 40.0, 26.0, 33.0, 26.0, 36.0, 25.0, 38.0, 63.0, 93.0, 26.0, 27.0, 46.0, 34.0, 27.0, 29.0, 28.0, 27.0, 95.0, 32.0, 28.0, 56.0, 48.0, 26.0, 45.0, 28.0, 48.0, 27.0, 27.0, 30.0, 26.0, 34.0, 65.0, 55.0, 44.0, 29.0, 28.0, 35.0, 25.0, 30.0, 26.0, 28.0, 25.0, 28.0, 29.0, 29.0, 29.0, 27.0, 27.0, 31.0, 27.0, 52.0, 26.0, 28.0, 34.0, 49.0, 26.0, 49.0, 29.0, 43.0, 30.0, 54.0, 27.0, 27.0, 25.0, 53.0, 29.0, 46.0, 29.0, 35.0, 28.0, 71.0, 34.0, 47.0, 26.0, 28.0, 29.0, 30.0, 42.0, 62.0, 64.0, 25.0, 51.0, 37.0, 33.0, 32.0, 27.0, 26.0, 37.0, 32.0, 32.0, 30.0, 31.0, 26.0, 25.0, 44.0, 26.0, 26.0, 41.0, 33.0, 25.0, 25.0, 33.0, 88.0, 39.0, 25.0, 28.0, 29.0, 34.0, 26.0, 35.0, 26.0, 28.0, 34.0, 29.0, 31.0, 43.0, 28.0, 34.0, 30.0, 29.0, 48.0, 25.0, 35.0, 28.0, 27.0, 29.0, 34.0, 52.0, 39.0, 29.0, 33.0, 26.0, 32.0, 27.0, 39.0, 28.0, 35.0, 28.0, 26.0, 32.0, 26.0, 26.0, 30.0, 32.0, 37.0, 25.0, 42.0, 37.0, 27.0, 47.0, 25.0, 26.0, 26.0, 29.0, 71.0, 25.0, 25.0, 40.0, 25.0, 29.0, 27.0, 25.0, 28.0, 25.0, 28.0, 44.0, 26.0, 28.0, 26.0, 27.0, 27.0, 42.0, 28.0, 46.0, 42.0, 25.0, 26.0, 27.0, 32.0, 60.0, 30.0, 48.0, 31.0, 37.0, 30.0, 31.0, 44.0, 29.0, 42.0, 31.0, 51.0, 30.0, 26.0, 35.0, 28.0, 26.0, 30.0, 28.0, 63.0, 29.0, 25.0, 36.0, 41.0, 27.0, 39.0, 36.0, 26.0, 29.0, 34.0, 28.0, 26.0, 41.0, 26.0, 26.0, 37.0, 29.0, 33.0, 39.0, 44.0, 30.0, 51.0, 26.0, 28.0, 27.0, 31.0, 25.0, 32.0, 37.0, 41.0, 40.0, 42.0, 26.0, 25.0, 70.0, 26.0, 33.0, 26.0, 26.0, 29.0, 44.0, 30.0, 27.0, 68.0, 26.0, 27.0, 31.0, 29.0, 39.0, 27.0, 26.0, 28.0, 70.0, 38.0, 27.0, 58.0, 32.0, 52.0, 26.0, 32.0, 32.0, 32.0, 43.0, 32.0, 79.0, 30.0, 46.0, 70.0, 29.0, 41.0, 28.0, 28.0, 26.0, 28.0, 28.0, 26.0, 27.0, 37.0, 59.0, 31.0, 55.0, 35.0, 49.0, 43.0, 39.0, 32.0, 26.0, 37.0, 28.0, 47.0, 42.0, 25.0, 28.0, 62.0, 40.0, 31.0, 30.0, 27.0, 158.0, 41.0, 25.0, 25.0, 27.0, 71.0, 29.0, 27.0, 35.0, 27.0, 54.0, 50.0, 33.0, 35.0, 39.0, 39.0, 30.0, 27.0, 38.0, 26.0, 41.0, 27.0, 33.0, 48.0, 32.0, 31.0, 31.0, 62.0, 30.0, 46.0, 32.0, 26.0]\n",
            "outliers in column  CurrentDelinquencies  have outlier  [14.0, 20.0, 13.0, 9.0, 8.0, 14.0, 11.0, 18.0, 11.0, 9.0, 12.0, 19.0, 22.0, 13.0, 9.0, 13.0, 17.0, 21.0, 17.0, 16.0, 8.0, 7.0, 7.0, 7.0, 7.0, 11.0, 7.0, 8.0, 12.0, 7.0, 7.0, 7.0, 8.0, 17.0, 22.0, 7.0, 8.0, 9.0, 8.0, 7.0, 10.0, 14.0, 14.0, 8.0, 8.0, 25.0, 7.0, 11.0, 7.0, 13.0, 7.0, 8.0, 7.0, 12.0, 9.0, 18.0, 7.0, 8.0, 7.0, 7.0, 10.0, 11.0, 7.0, 8.0, 10.0, 15.0, 7.0, 7.0, 12.0, 12.0, 9.0, 9.0, 18.0, 10.0, 9.0, 7.0, 9.0, 13.0, 12.0, 9.0, 8.0, 11.0, 9.0, 16.0, 9.0, 13.0, 7.0, 9.0, 11.0, 11.0, 7.0, 12.0, 10.0, 9.0, 11.0, 14.0, 7.0, 8.0, 9.0, 12.0, 7.0, 9.0, 8.0, 12.0, 11.0, 10.0, 16.0, 11.0, 14.0, 14.0, 21.0, 13.0, 11.0, 8.0, 8.0, 11.0, 14.0, 10.0, 17.0, 9.0, 11.0, 7.0, 8.0, 14.0, 8.0, 7.0, 13.0, 9.0, 12.0, 14.0, 8.0, 7.0, 7.0, 8.0, 7.0, 9.0, 14.0, 8.0, 7.0, 8.0, 7.0, 7.0, 16.0, 9.0, 19.0, 12.0, 10.0, 7.0, 7.0, 8.0, 19.0, 7.0, 16.0, 8.0, 13.0, 7.0, 9.0, 8.0, 17.0, 8.0, 13.0, 8.0, 8.0, 15.0, 7.0, 8.0, 9.0, 9.0, 12.0, 14.0, 15.0, 7.0, 9.0, 7.0, 7.0, 8.0, 16.0, 16.0, 10.0, 7.0, 10.0, 7.0, 16.0, 11.0, 14.0, 8.0, 12.0, 9.0, 23.0, 8.0, 8.0, 9.0, 8.0, 7.0, 9.0, 13.0, 10.0, 9.0, 9.0, 8.0, 11.0, 7.0, 7.0, 23.0, 10.0, 7.0, 7.0, 12.0, 12.0, 7.0, 24.0, 8.0, 9.0, 15.0, 8.0, 16.0, 9.0, 7.0, 9.0, 14.0, 8.0, 7.0, 7.0, 10.0, 7.0, 15.0, 16.0, 7.0, 10.0, 14.0, 7.0, 7.0, 7.0, 8.0, 13.0, 10.0, 27.0, 11.0, 26.0, 10.0, 9.0, 41.0, 15.0, 8.0, 8.0, 11.0, 10.0, 7.0, 13.0, 10.0, 8.0, 15.0, 7.0, 7.0, 9.0, 7.0, 11.0, 15.0, 7.0, 15.0, 7.0, 7.0, 18.0, 9.0, 7.0, 10.0, 9.0, 14.0, 14.0, 7.0, 8.0, 7.0, 8.0, 10.0, 9.0, 13.0, 12.0, 7.0, 7.0, 9.0, 9.0, 7.0, 11.0, 8.0, 9.0, 7.0, 16.0, 13.0, 8.0, 8.0, 8.0, 8.0, 28.0, 7.0, 27.0, 8.0, 9.0, 20.0, 7.0, 10.0, 10.0, 12.0, 7.0, 13.0, 7.0, 11.0, 13.0, 9.0, 10.0, 8.0, 10.0, 10.0, 10.0, 7.0, 15.0, 8.0, 10.0, 7.0, 16.0, 7.0, 8.0, 8.0, 9.0, 11.0, 7.0, 8.0, 11.0, 8.0, 25.0, 13.0, 12.0, 8.0, 8.0, 7.0, 27.0, 11.0, 8.0, 15.0, 17.0, 10.0, 15.0, 12.0, 11.0, 9.0, 9.0, 8.0, 9.0, 7.0, 8.0, 9.0, 21.0, 7.0, 16.0, 11.0, 8.0, 16.0, 12.0, 9.0, 7.0, 9.0, 8.0, 7.0, 7.0, 21.0, 19.0, 8.0, 9.0, 10.0, 7.0, 10.0, 8.0, 11.0, 10.0, 9.0, 11.0, 9.0, 7.0, 9.0, 18.0, 9.0, 11.0, 8.0, 11.0, 9.0, 10.0, 7.0, 24.0, 11.0, 19.0, 11.0, 9.0, 8.0, 25.0, 7.0, 7.0, 7.0, 7.0, 8.0, 10.0, 13.0, 7.0, 28.0, 7.0, 18.0, 8.0, 7.0, 12.0, 8.0, 8.0, 23.0, 33.0, 11.0, 11.0, 11.0, 7.0, 11.0, 9.0, 11.0, 8.0, 10.0, 7.0, 11.0, 11.0, 9.0, 7.0, 36.0, 7.0, 15.0, 9.0, 8.0, 7.0, 27.0, 14.0, 9.0, 24.0, 10.0, 11.0, 9.0, 8.0, 16.0, 7.0, 19.0, 9.0, 12.0, 10.0, 8.0, 7.0, 9.0, 17.0, 22.0, 8.0, 10.0, 9.0, 9.0, 13.0, 10.0, 8.0, 10.0, 8.0, 10.0, 8.0, 12.0, 7.0, 8.0, 9.0, 17.0, 10.0, 8.0, 8.0, 7.0, 7.0, 8.0, 13.0, 8.0, 7.0, 7.0, 7.0, 8.0, 10.0, 24.0, 21.0, 13.0, 9.0, 8.0, 26.0, 8.0, 10.0, 10.0, 7.0, 9.0, 15.0, 8.0, 7.0, 20.0, 18.0, 11.0, 24.0, 8.0, 10.0, 11.0, 18.0, 7.0, 7.0, 16.0, 7.0, 10.0, 12.0, 18.0, 11.0, 10.0, 10.0, 8.0, 7.0, 7.0, 11.0, 7.0, 10.0, 20.0, 18.0, 7.0, 12.0, 11.0, 9.0, 12.0, 15.0, 10.0, 11.0, 11.0, 8.0, 9.0, 8.0, 14.0, 8.0, 28.0, 11.0, 9.0, 21.0, 8.0, 7.0, 12.0, 7.0, 7.0, 9.0, 12.0, 16.0, 7.0, 15.0, 8.0, 9.0, 18.0, 26.0, 11.0, 8.0, 7.0, 13.0, 7.0, 10.0, 7.0, 8.0, 7.0, 13.0, 8.0, 12.0, 10.0, 8.0, 11.0, 11.0, 8.0, 12.0, 9.0, 12.0, 16.0, 9.0, 7.0, 8.0, 9.0, 11.0, 19.0, 9.0, 19.0, 7.0, 14.0, 7.0, 11.0, 64.0, 8.0, 7.0, 11.0, 8.0, 21.0, 7.0, 16.0, 17.0, 7.0, 15.0, 8.0, 11.0, 11.0, 7.0, 13.0, 11.0, 23.0, 7.0, 9.0, 16.0, 17.0, 11.0, 11.0, 10.0, 7.0, 10.0, 13.0, 21.0, 9.0, 9.0, 8.0, 8.0, 32.0, 8.0, 17.0, 8.0, 9.0, 12.0, 7.0, 7.0, 15.0, 30.0, 7.0, 16.0, 7.0, 11.0, 9.0, 11.0, 7.0, 10.0, 9.0, 8.0, 12.0, 7.0, 7.0, 7.0, 12.0, 7.0, 8.0, 32.0, 10.0, 7.0, 16.0, 7.0, 12.0, 7.0, 15.0, 9.0, 8.0, 8.0, 11.0, 8.0, 12.0, 7.0, 7.0, 9.0, 11.0, 12.0, 9.0, 14.0, 7.0, 14.0, 10.0, 9.0, 7.0, 7.0, 7.0, 17.0, 8.0, 7.0, 7.0, 13.0, 7.0, 10.0, 8.0, 22.0, 7.0, 7.0, 7.0, 19.0, 8.0, 22.0, 31.0, 12.0, 19.0, 14.0, 9.0, 10.0, 11.0, 12.0, 9.0, 7.0, 11.0, 11.0, 13.0, 12.0, 12.0, 7.0, 7.0, 13.0, 7.0, 8.0, 11.0, 12.0, 10.0, 9.0, 7.0, 8.0, 10.0, 14.0, 15.0, 13.0, 30.0, 7.0, 16.0, 7.0, 10.0, 7.0, 8.0, 9.0, 59.0, 22.0, 16.0, 8.0, 11.0, 10.0, 9.0, 11.0, 16.0, 8.0, 14.0, 31.0, 18.0, 9.0, 7.0, 10.0, 9.0, 8.0, 7.0, 10.0, 10.0, 8.0, 8.0, 11.0, 14.0, 12.0, 13.0, 11.0, 7.0, 8.0, 13.0, 9.0, 9.0, 18.0, 7.0, 13.0, 7.0, 16.0, 16.0, 8.0, 9.0, 21.0, 7.0, 14.0, 8.0, 8.0, 9.0, 7.0, 7.0, 7.0, 9.0, 7.0, 7.0, 9.0, 8.0, 8.0, 11.0, 9.0, 8.0, 7.0, 7.0, 8.0, 8.0, 7.0, 10.0, 14.0, 10.0, 9.0, 9.0, 7.0, 12.0, 9.0, 8.0, 9.0, 10.0, 8.0, 9.0, 21.0, 7.0, 8.0, 14.0, 7.0, 19.0, 15.0, 11.0, 7.0, 8.0, 7.0, 8.0, 7.0, 22.0, 8.0, 7.0, 8.0, 10.0, 7.0, 7.0, 13.0, 8.0, 15.0, 8.0, 9.0, 11.0, 27.0, 7.0, 13.0, 8.0, 8.0, 9.0, 12.0, 8.0, 7.0, 9.0, 9.0, 8.0, 8.0, 24.0, 9.0, 10.0, 7.0, 8.0, 15.0, 50.0, 9.0, 9.0, 16.0, 14.0, 7.0, 8.0, 9.0, 20.0, 10.0, 10.0, 10.0, 9.0, 10.0, 9.0, 21.0, 14.0, 7.0, 12.0, 7.0, 8.0, 13.0, 7.0, 14.0, 9.0, 8.0, 10.0, 19.0, 11.0, 9.0, 7.0, 10.0, 7.0, 10.0, 15.0, 11.0, 11.0, 10.0, 16.0, 8.0, 7.0, 10.0, 8.0, 8.0, 10.0, 21.0, 9.0, 9.0, 9.0, 7.0, 10.0, 15.0, 20.0, 21.0, 21.0, 12.0, 12.0, 9.0, 7.0, 10.0, 8.0, 9.0, 15.0, 9.0, 9.0, 17.0, 7.0, 9.0, 8.0, 7.0, 11.0, 9.0, 9.0, 21.0, 9.0, 57.0, 7.0, 7.0, 15.0, 10.0, 11.0, 8.0, 7.0, 13.0, 9.0, 11.0, 13.0, 7.0, 13.0, 12.0, 17.0, 8.0, 9.0, 8.0, 7.0, 10.0, 8.0, 12.0, 13.0, 7.0, 18.0, 11.0, 9.0, 8.0, 10.0, 16.0, 21.0, 15.0, 7.0, 8.0, 12.0, 7.0, 10.0, 16.0, 15.0, 15.0, 7.0, 7.0, 8.0, 9.0, 12.0, 14.0, 10.0, 13.0, 8.0, 12.0, 8.0, 13.0, 9.0, 7.0, 9.0, 9.0, 9.0, 7.0, 10.0, 8.0, 9.0, 7.0, 8.0, 12.0, 36.0, 10.0, 10.0, 7.0, 11.0, 7.0, 7.0, 10.0, 12.0, 20.0, 8.0, 21.0, 7.0, 8.0, 8.0, 12.0, 7.0, 7.0, 15.0, 8.0, 8.0, 7.0, 9.0, 15.0, 8.0, 10.0, 12.0, 8.0, 7.0, 9.0, 7.0, 15.0, 11.0, 11.0, 13.0, 8.0, 8.0, 10.0, 12.0, 24.0, 7.0, 18.0, 7.0, 10.0, 11.0, 7.0, 11.0, 15.0, 14.0, 16.0, 12.0, 8.0, 9.0, 20.0, 8.0, 12.0, 8.0, 27.0, 10.0, 8.0, 13.0, 7.0, 12.0, 11.0, 8.0, 9.0, 16.0, 9.0, 7.0, 12.0, 7.0, 10.0, 7.0, 7.0, 9.0, 14.0, 10.0, 7.0, 10.0, 8.0, 7.0, 9.0, 10.0, 9.0, 8.0, 7.0, 9.0, 8.0, 7.0, 8.0, 20.0, 23.0, 7.0, 7.0, 18.0, 12.0, 7.0, 8.0, 15.0, 9.0, 15.0, 10.0, 10.0, 20.0, 8.0, 8.0, 8.0, 14.0, 10.0, 24.0, 16.0, 15.0, 8.0, 18.0, 12.0, 7.0, 16.0, 20.0, 10.0, 8.0, 39.0, 8.0, 9.0, 14.0, 7.0, 8.0, 8.0, 12.0, 17.0, 11.0, 11.0, 8.0, 7.0, 8.0, 7.0, 8.0, 7.0, 8.0, 13.0, 11.0, 8.0, 9.0, 22.0, 12.0, 13.0, 16.0, 8.0, 13.0, 15.0, 7.0, 14.0, 15.0, 19.0, 7.0, 17.0, 17.0, 7.0, 7.0, 12.0, 7.0, 13.0, 7.0, 9.0, 9.0, 7.0, 7.0, 12.0, 11.0, 13.0, 7.0, 15.0, 7.0, 11.0, 15.0, 8.0, 8.0, 10.0, 14.0, 10.0, 8.0, 9.0, 11.0, 10.0, 7.0, 7.0, 7.0, 7.0, 7.0, 8.0, 8.0, 15.0, 7.0, 22.0, 11.0, 8.0, 7.0, 10.0, 9.0, 12.0, 9.0, 13.0, 9.0, 7.0, 9.0, 9.0, 8.0, 9.0, 21.0, 7.0, 9.0, 7.0, 19.0, 11.0, 9.0, 12.0, 17.0, 7.0, 12.0, 8.0, 19.0, 13.0, 7.0, 8.0, 13.0, 18.0, 7.0, 22.0, 18.0, 8.0, 9.0, 10.0, 8.0, 22.0, 12.0, 8.0, 8.0, 8.0, 9.0, 15.0, 7.0, 9.0, 12.0, 9.0, 7.0, 20.0, 11.0, 10.0, 11.0, 8.0, 12.0, 9.0, 10.0, 7.0, 9.0, 7.0, 7.0, 10.0, 8.0, 7.0, 11.0, 12.0, 7.0, 13.0, 9.0, 8.0, 11.0, 9.0, 8.0, 8.0, 17.0, 7.0, 11.0, 7.0, 9.0, 8.0, 7.0, 9.0, 13.0, 14.0, 7.0, 11.0, 12.0, 10.0, 7.0, 13.0, 7.0, 13.0, 9.0, 9.0, 9.0, 8.0, 10.0, 12.0, 10.0, 9.0, 10.0, 16.0, 9.0, 15.0, 7.0, 20.0, 7.0, 11.0, 19.0, 8.0, 10.0, 8.0, 10.0, 22.0, 8.0, 11.0, 8.0, 16.0, 12.0, 8.0, 7.0, 8.0, 12.0, 7.0, 7.0, 17.0, 7.0, 21.0, 45.0, 7.0, 12.0, 9.0, 9.0, 8.0, 7.0, 9.0, 11.0, 27.0, 8.0, 11.0, 7.0, 16.0, 12.0, 7.0, 7.0, 10.0, 10.0, 7.0, 7.0, 9.0, 22.0, 7.0, 14.0, 13.0, 14.0, 8.0, 7.0, 12.0, 7.0, 12.0, 10.0, 8.0, 27.0, 11.0, 19.0, 8.0, 12.0, 7.0, 13.0, 7.0, 22.0, 10.0, 9.0, 7.0, 7.0, 8.0, 9.0, 10.0, 12.0, 13.0, 9.0, 10.0, 7.0, 9.0, 10.0, 13.0, 8.0, 15.0, 9.0, 8.0, 8.0, 7.0, 8.0, 8.0, 9.0, 10.0, 19.0, 7.0, 13.0, 11.0, 11.0, 7.0, 8.0, 10.0, 15.0, 11.0, 9.0, 8.0, 9.0, 15.0, 8.0, 8.0, 8.0, 13.0, 9.0, 10.0, 8.0, 8.0, 16.0, 9.0, 7.0, 8.0, 12.0, 7.0, 8.0, 7.0, 9.0, 7.0, 8.0, 12.0, 9.0, 15.0, 7.0, 10.0, 12.0, 11.0, 7.0, 7.0, 8.0, 14.0, 9.0, 11.0, 22.0, 11.0, 25.0, 14.0, 8.0, 16.0, 8.0, 14.0, 23.0, 17.0, 7.0, 10.0, 13.0, 8.0, 7.0, 8.0, 14.0, 8.0, 9.0, 10.0, 18.0, 7.0, 21.0, 15.0, 8.0, 7.0, 8.0, 35.0, 10.0, 7.0, 14.0, 15.0, 9.0, 15.0, 7.0, 12.0, 7.0, 8.0, 9.0, 26.0, 10.0, 7.0, 11.0, 9.0, 7.0, 10.0, 9.0, 8.0, 8.0, 10.0, 11.0, 8.0, 9.0, 10.0, 10.0, 11.0, 8.0, 7.0, 8.0, 11.0, 10.0, 20.0, 8.0, 11.0, 16.0, 15.0, 8.0, 10.0, 10.0, 16.0, 7.0, 8.0, 12.0, 12.0, 7.0, 7.0, 7.0, 8.0, 9.0, 8.0, 7.0, 10.0, 7.0, 16.0, 7.0, 9.0, 12.0, 13.0, 10.0, 20.0, 7.0, 7.0, 8.0, 11.0, 7.0, 10.0, 11.0, 7.0, 9.0, 11.0, 19.0, 17.0, 7.0, 7.0, 20.0, 7.0, 8.0, 11.0, 32.0, 7.0, 8.0, 10.0, 8.0, 13.0, 7.0, 7.0, 12.0, 9.0, 11.0, 16.0, 16.0, 10.0, 18.0, 20.0, 31.0, 15.0, 13.0, 18.0, 20.0, 7.0, 7.0, 9.0, 17.0, 7.0, 8.0, 10.0, 8.0, 8.0, 15.0, 8.0, 7.0, 18.0, 7.0, 8.0, 13.0, 9.0, 10.0, 7.0, 9.0, 11.0, 8.0, 8.0, 9.0, 27.0, 9.0, 7.0, 12.0, 7.0, 8.0, 8.0, 7.0, 8.0, 11.0, 9.0, 17.0, 12.0, 15.0, 20.0, 8.0, 9.0, 8.0, 8.0, 12.0, 10.0, 11.0, 8.0, 7.0, 8.0, 15.0, 10.0, 9.0, 13.0, 31.0, 7.0, 11.0, 7.0, 7.0, 7.0, 7.0, 10.0, 8.0, 7.0, 9.0, 12.0, 11.0, 10.0, 18.0, 7.0, 8.0, 10.0, 9.0, 10.0, 8.0, 7.0, 16.0, 11.0, 31.0, 13.0, 11.0, 11.0, 24.0, 13.0, 10.0, 7.0, 8.0, 7.0, 10.0, 17.0, 17.0, 7.0, 14.0, 7.0, 35.0, 13.0, 17.0, 7.0, 13.0, 7.0, 8.0, 10.0, 22.0, 10.0, 7.0, 8.0, 7.0, 8.0, 14.0, 7.0, 13.0, 12.0, 18.0, 15.0, 9.0, 7.0, 9.0, 21.0, 10.0, 7.0, 21.0, 13.0, 27.0, 7.0, 8.0, 13.0, 8.0, 7.0, 9.0, 11.0, 7.0, 15.0, 9.0, 13.0, 7.0, 15.0, 7.0, 8.0, 11.0, 9.0, 10.0, 9.0, 8.0, 7.0, 14.0, 11.0, 11.0, 11.0, 7.0, 13.0, 10.0, 19.0, 12.0, 13.0, 9.0, 27.0, 7.0, 12.0, 23.0, 21.0, 8.0, 8.0, 10.0, 10.0, 11.0, 21.0, 11.0, 22.0, 7.0, 9.0, 7.0, 41.0, 7.0, 9.0, 7.0, 11.0, 8.0, 7.0, 9.0, 7.0, 9.0, 8.0, 7.0, 19.0, 12.0, 17.0, 8.0, 8.0, 7.0, 21.0, 8.0, 10.0, 15.0, 15.0, 13.0, 9.0, 10.0, 9.0, 8.0, 8.0, 11.0, 8.0, 11.0, 7.0, 7.0, 7.0, 7.0, 8.0, 11.0, 7.0, 22.0, 9.0, 7.0, 10.0, 7.0, 13.0, 12.0, 11.0, 11.0, 12.0, 15.0, 7.0, 12.0, 11.0, 15.0, 8.0, 8.0, 16.0, 14.0, 7.0, 11.0, 13.0, 7.0, 8.0, 8.0, 7.0, 7.0, 9.0, 19.0, 7.0, 8.0, 10.0, 7.0, 7.0, 8.0, 12.0, 7.0, 11.0, 8.0, 12.0, 10.0, 8.0, 7.0, 8.0, 10.0, 11.0, 8.0, 9.0, 15.0, 7.0, 10.0, 26.0, 7.0, 8.0, 7.0, 7.0, 7.0, 9.0, 22.0, 14.0, 13.0, 9.0, 10.0, 9.0, 10.0, 14.0, 13.0, 8.0, 14.0, 8.0, 25.0, 7.0, 15.0, 8.0, 12.0, 15.0, 8.0, 8.0, 31.0, 13.0, 8.0, 7.0, 7.0, 11.0, 8.0, 11.0, 20.0, 14.0, 10.0, 9.0, 18.0, 8.0, 12.0, 8.0, 10.0, 7.0, 7.0, 8.0, 8.0, 15.0, 9.0, 13.0, 8.0, 8.0, 11.0, 7.0, 8.0, 26.0, 11.0, 19.0, 16.0, 7.0, 12.0, 10.0, 15.0, 9.0, 8.0, 13.0, 10.0, 11.0, 10.0, 10.0, 9.0, 15.0, 20.0, 17.0, 8.0, 10.0, 7.0, 13.0, 8.0, 9.0, 10.0, 15.0, 7.0, 7.0, 14.0, 12.0, 7.0, 7.0, 11.0, 24.0, 11.0, 9.0, 28.0, 8.0, 7.0, 11.0, 12.0, 13.0, 17.0, 9.0, 8.0, 10.0, 7.0, 17.0, 7.0, 13.0, 12.0, 7.0, 7.0, 7.0, 22.0, 21.0, 8.0, 10.0, 7.0, 12.0, 12.0, 10.0, 12.0, 18.0, 7.0, 9.0, 14.0, 19.0, 13.0, 7.0, 9.0, 13.0, 12.0, 21.0, 12.0, 9.0, 12.0, 8.0, 7.0, 8.0, 9.0, 7.0, 10.0, 83.0, 11.0, 9.0, 16.0, 9.0, 11.0, 12.0, 18.0, 22.0, 16.0, 8.0, 13.0, 8.0, 7.0, 9.0, 16.0, 12.0, 82.0, 19.0, 18.0, 13.0, 9.0, 8.0, 7.0, 10.0, 12.0, 15.0, 8.0, 11.0, 12.0, 14.0, 15.0, 9.0, 10.0, 10.0, 8.0, 7.0, 13.0, 8.0, 7.0, 8.0, 13.0, 15.0, 11.0, 10.0, 16.0, 11.0, 7.0, 12.0, 14.0, 10.0, 7.0, 11.0, 11.0, 10.0, 9.0, 26.0, 12.0, 14.0, 11.0, 11.0, 14.0, 10.0, 7.0, 11.0, 7.0, 10.0, 8.0, 15.0, 14.0, 10.0, 9.0, 7.0, 18.0, 20.0, 20.0, 11.0, 7.0, 12.0, 8.0, 13.0, 7.0, 7.0, 7.0, 8.0, 32.0, 9.0, 7.0, 13.0, 9.0, 7.0, 11.0, 8.0, 11.0, 7.0, 12.0, 7.0, 7.0, 15.0, 12.0, 9.0, 8.0, 16.0, 8.0, 9.0, 9.0, 9.0, 7.0, 7.0, 7.0, 10.0, 10.0, 12.0, 8.0, 17.0, 12.0, 7.0, 17.0, 12.0, 7.0, 11.0, 14.0, 7.0, 17.0, 8.0, 12.0, 17.0, 12.0, 7.0, 8.0, 17.0, 12.0, 8.0, 8.0, 11.0, 7.0, 26.0, 7.0, 8.0, 10.0, 7.0, 11.0, 9.0, 14.0, 9.0, 7.0, 13.0, 8.0, 11.0, 10.0, 21.0, 8.0, 9.0, 7.0, 7.0, 8.0, 7.0, 10.0, 7.0, 7.0, 13.0, 9.0, 17.0, 10.0, 7.0, 17.0, 13.0, 10.0, 7.0, 13.0, 7.0, 8.0, 11.0, 9.0, 11.0, 16.0, 13.0, 7.0, 8.0, 7.0, 17.0, 7.0, 8.0, 7.0, 8.0, 7.0, 7.0, 13.0, 15.0, 13.0, 37.0, 7.0, 11.0, 19.0, 11.0, 9.0, 7.0, 9.0, 7.0, 7.0, 7.0, 19.0, 9.0, 8.0, 21.0, 14.0, 10.0, 8.0, 8.0, 40.0, 7.0, 7.0, 9.0, 21.0, 18.0, 11.0, 7.0, 18.0, 8.0, 11.0, 24.0, 18.0, 7.0, 7.0, 13.0, 10.0, 13.0, 9.0, 12.0, 7.0, 8.0, 8.0, 8.0, 14.0, 11.0, 9.0, 7.0, 7.0, 12.0, 8.0, 7.0, 9.0, 18.0, 7.0, 11.0, 20.0, 8.0, 7.0, 7.0, 8.0, 21.0, 11.0, 16.0, 8.0, 15.0, 10.0, 10.0, 10.0, 12.0, 20.0, 10.0, 7.0, 16.0, 7.0, 13.0, 11.0, 9.0, 11.0, 14.0, 20.0, 27.0, 7.0, 14.0, 9.0, 11.0, 7.0, 32.0, 9.0, 11.0, 7.0, 11.0, 9.0, 9.0, 51.0, 7.0, 7.0, 13.0, 14.0, 10.0, 9.0, 8.0, 12.0, 11.0, 17.0, 7.0, 23.0, 14.0, 10.0, 18.0, 10.0, 15.0, 9.0, 12.0, 7.0, 12.0, 12.0, 15.0, 8.0, 13.0, 7.0, 8.0, 8.0, 15.0, 13.0, 19.0, 24.0, 12.0, 7.0, 9.0, 9.0, 7.0, 9.0, 15.0, 7.0, 8.0, 8.0, 11.0, 11.0, 8.0, 7.0, 9.0, 11.0, 15.0, 7.0, 12.0, 9.0, 7.0, 12.0, 10.0, 13.0, 7.0, 28.0, 8.0, 9.0, 8.0, 8.0, 10.0, 12.0, 7.0, 9.0, 12.0, 10.0, 7.0, 7.0, 9.0, 7.0, 8.0, 8.0, 12.0, 7.0, 7.0, 8.0, 8.0, 9.0, 7.0, 9.0, 8.0, 14.0, 9.0, 7.0, 8.0, 10.0, 12.0, 8.0, 15.0, 18.0, 9.0, 7.0, 9.0, 7.0, 16.0, 11.0, 20.0, 8.0, 8.0, 7.0, 23.0, 9.0, 18.0]\n",
            "outliers in column  AmountDelinquent  have outlier  [42488.0, 72705.0, 52379.0, 155578.0, 29487.0, 35128.0, 33036.0, 30023.0, 33376.0, 23754.0, 24364.0, 34388.0, 31099.0, 27404.0, 41020.0, 59692.0, 46099.0, 84834.0, 85065.0, 38960.0, 43761.0, 31115.0, 124858.0, 22115.0, 33324.0, 82271.0, 49178.0, 29183.0, 33566.0, 28065.0, 25928.0, 29688.0, 41374.0, 35299.0, 63743.0, 62348.0, 70734.0, 64595.0, 60308.0, 46394.0, 192016.0, 25270.0, 29537.0, 64519.0, 123871.0, 34874.0, 51788.0, 28057.0, 91636.0, 34876.0, 23100.0, 145618.0, 27997.0, 39011.0, 173334.0, 27927.0, 70659.0, 23676.0, 42556.0, 29119.0, 43437.0, 127058.0, 21751.0, 74579.0, 45726.0, 26057.0, 40779.0, 114872.0, 36477.0, 27021.0, 72817.0, 86351.0, 24280.0, 29319.0, 205400.0, 70132.0, 80097.0, 34525.0, 25730.0, 25784.0, 22697.0, 58583.0, 102546.0, 69875.0, 112684.0, 225595.0, 122868.0, 54007.0, 28200.0, 32969.0, 38664.0, 25224.0, 35169.0, 69907.0, 38286.0, 38475.0, 30664.0, 24642.0, 73661.0, 63217.0, 80975.0, 38365.0, 29375.0, 30645.0, 31541.0, 40938.0, 40335.0, 126830.0, 24632.0, 41020.0, 48100.0, 52844.0, 64420.0, 31913.0, 26679.0, 27969.0, 54915.0, 32119.0, 160039.0, 40633.0, 36598.0, 40482.0, 23740.0, 23562.0, 22273.0, 24413.0, 70000.0, 34183.0, 43367.0, 103975.0, 31847.0, 97773.0, 21905.0, 59860.0, 44859.0, 31894.0, 23626.0, 22882.0, 27898.0, 26098.0, 128864.0, 72121.0, 31533.0, 24975.0, 24351.0, 48423.0, 80441.0, 33863.0, 31605.0, 35227.0, 28114.0, 102959.0, 136476.0, 22925.0, 35457.0, 26623.0, 64116.0, 49809.0, 45201.0, 27551.0, 45364.0, 68587.0, 56288.0, 28255.0, 39473.0, 33852.0, 32755.0, 64839.0, 42854.0, 153237.0, 24763.0, 25579.0, 242333.0, 34880.0, 22284.0, 31352.0, 25018.0, 58365.0, 27651.0, 327677.0, 22449.0, 24831.0, 26955.0, 53442.0, 23748.0, 25320.0, 101212.0, 31348.0, 25766.0, 22144.0, 69483.0, 24592.0, 61821.0, 50610.0, 22495.0, 23756.0, 62903.0, 255963.0, 54918.0, 25054.0, 62891.0, 27011.0, 44744.0, 95280.0, 44879.0, 38870.0, 42962.0, 27090.0, 76008.0, 41361.0, 86303.0, 29156.0, 43363.0, 33925.0, 109956.0, 70456.0, 21904.0, 76840.0, 92753.0, 33432.0, 35849.0, 39210.0, 22578.0, 54364.0, 48992.0, 22871.0, 44262.0, 25611.0, 23601.0, 90588.0, 23984.0, 29207.0, 23535.0, 30453.0, 60616.0, 28070.0, 46216.0, 30777.0, 22397.0, 50852.0, 202741.0, 110541.0, 24444.0, 25645.0, 49283.0, 22165.0, 30998.0, 83534.0, 47371.0, 22058.0, 53798.0, 49868.0, 23210.0, 28277.0, 22187.0, 21980.0, 25980.0, 92177.0, 145618.0, 23626.0, 41386.0, 61635.0, 39295.0, 55462.0, 45979.0, 111690.0, 30928.0, 48673.0, 40189.0, 29246.0, 26795.0, 44734.0, 27150.0, 45864.0, 23511.0, 25166.0, 30097.0, 83956.0, 36153.0, 49047.0, 85885.0, 33057.0, 43776.0, 26600.0, 29876.0, 22929.0, 22245.0, 34874.0, 24150.0, 37291.0, 24351.0, 69313.0, 35574.0, 29082.0, 27719.0, 22713.0, 74990.0, 41014.0, 33520.0, 28740.0, 33154.0, 22264.0, 40087.0, 77771.0, 73323.0, 29489.0, 35727.0, 60310.0, 25735.0, 85953.0, 50163.0, 47746.0, 48150.0, 26175.0, 86127.0, 101497.0, 28260.0, 29882.0, 38660.0, 157422.0, 29429.0, 23473.0, 32396.0, 38149.0, 33803.0, 34133.0, 74844.0, 23835.0, 23610.0, 27065.0, 113205.0, 33783.0, 52820.0, 26017.0, 52612.0, 28463.0, 24199.0, 79574.0, 22776.0, 84933.0, 26593.0, 25392.0, 40553.0, 48009.0, 90756.0, 58463.0, 41763.0, 101512.0, 34968.0, 21944.0, 92177.0, 30579.0, 112221.0, 27870.0, 47766.0, 279970.0, 50688.0, 53824.0, 35927.0, 21909.0, 45298.0, 77300.0, 30920.0, 29074.0, 24858.0, 23660.0, 175281.0, 27558.0, 249209.0, 57265.0, 61350.0, 86282.0, 35727.0, 27649.0, 34911.0, 26175.0, 60510.0, 40087.0, 23251.0, 70659.0, 49454.0, 36384.0, 23423.0, 27129.0, 25464.0, 31031.0, 97020.0, 106071.0, 61564.0, 23096.0, 27400.0, 53439.0, 28175.0, 84427.0, 36492.0, 190585.0, 25274.0, 54550.0, 35119.0, 23064.0, 60966.0, 24072.0, 40485.0, 23302.0, 53148.0, 40527.0, 128639.0, 26843.0, 33509.0, 172240.0, 23096.0, 107319.0, 91162.0, 81495.0, 46255.0, 26085.0, 80346.0, 25766.0, 22754.0, 30119.0, 22526.0, 23100.0, 95320.0, 23867.0, 26989.0, 23096.0, 26978.0, 50017.0, 25651.0, 23660.0, 27883.0, 30112.0, 26818.0, 38657.0, 33463.0, 34645.0, 104768.0, 32969.0, 21858.0, 41661.0, 67449.0, 65320.0, 22963.0, 38304.0, 26172.0, 135229.0, 21844.0, 22855.0, 23626.0, 29776.0, 31176.0, 72113.0, 25781.0, 25045.0, 24802.0, 37212.0, 51370.0, 34988.0, 23552.0, 37316.0, 28014.0, 35008.0, 26231.0, 25170.0, 89000.0, 43958.0, 54000.0, 30747.0, 36514.0, 37534.0, 35250.0, 31297.0, 35972.0, 68013.0, 31392.0, 92467.0, 30402.0, 37855.0, 25360.0, 24070.0, 61231.0, 74579.0, 131214.0, 25000.0, 21891.0, 34193.0, 47625.0, 22994.0, 29809.0, 22502.0, 28502.0, 22969.0, 59692.0, 32069.0, 116014.0, 65959.0, 99979.0, 37003.0, 30231.0, 128993.0, 62312.0, 67434.0, 28174.0, 54782.0, 124471.0, 46642.0, 42370.0, 265084.0, 42824.0, 38432.0, 30347.0, 25218.0, 29335.0, 22903.0, 65951.0, 33506.0, 64868.0, 230291.0, 26836.0, 43322.0, 23320.0, 33998.0, 95389.0, 107354.0, 51847.0, 27367.0, 24132.0, 27528.0, 35727.0, 23472.0, 21972.0, 444745.0, 48865.0, 34836.0, 63743.0, 38996.0, 126638.0, 24442.0, 33240.0, 34434.0, 55111.0, 24115.0, 24096.0, 63047.0, 43789.0, 161782.0, 34666.0, 223738.0, 70659.0, 30588.0, 62092.0, 113552.0, 59241.0, 30417.0, 27491.0, 25476.0, 124691.0, 30682.0, 24808.0, 43064.0, 23029.0, 29446.0, 24850.0, 25389.0, 27106.0, 31404.0, 28094.0, 32859.0, 69823.0, 128639.0, 28433.0, 34990.0, 48150.0, 22049.0, 47965.0, 40013.0, 26704.0, 36302.0, 22697.0, 26536.0, 38665.0, 32961.0, 105340.0, 62129.0, 30691.0, 65938.0, 22775.0, 77422.0, 23759.0, 27784.0, 25257.0, 60170.0, 111524.0, 26403.0, 46065.0, 37329.0, 108415.0, 23772.0, 69276.0, 47963.0, 22529.0, 171093.0, 28464.0, 61745.0, 83756.0, 35794.0, 56254.0, 60997.0, 36363.0, 41378.0, 55869.0, 135229.0, 34336.0, 86730.0, 58708.0, 28247.0, 37317.0, 39470.0, 22674.0, 91501.0, 22091.0, 23671.0, 28034.0, 24865.0, 24871.0, 78380.0, 78750.0, 114385.0, 66852.0, 26601.0, 28587.0, 176347.0, 29997.0, 21893.0, 44493.0, 179158.0, 21989.0, 35334.0, 77384.0, 27663.0, 102959.0, 31041.0, 32766.0, 26436.0, 51103.0, 30520.0, 29448.0, 78097.0, 70659.0, 82580.0, 168648.0, 41694.0, 31622.0, 35514.0, 32006.0, 69551.0, 68123.0, 119660.0, 32413.0, 121379.0, 27031.0, 80646.0, 24614.0, 22889.0, 24400.0, 27466.0, 143329.0, 46331.0, 85803.0, 23066.0, 23102.0, 32254.0, 49274.0, 26124.0, 130093.0, 25067.0, 24350.0, 86351.0, 48289.0, 48673.0, 68900.0, 39484.0, 24981.0, 123828.0, 28684.0, 70567.0, 22291.0, 22922.0, 63897.0, 124651.0, 50385.0, 161475.0, 81723.0, 26622.0, 28389.0, 45655.0, 28840.0, 22793.0, 29072.0, 52047.0, 89265.0, 105575.0, 53215.0, 120642.0, 30441.0, 23668.0, 58221.0, 119147.0, 23034.0, 463881.0, 29403.0, 53351.0, 37642.0, 52456.0, 26838.0, 33929.0, 68304.0, 36471.0, 39227.0, 70983.0, 24237.0, 90536.0, 57580.0, 23129.0, 34555.0, 23960.0, 22271.0, 35055.0, 34997.0, 21783.0, 53622.0, 52480.0, 39986.0, 22555.0, 23044.0, 24184.0, 39856.0, 81004.0, 124318.0, 45857.0, 24940.0, 35096.0, 22682.0, 33773.0, 22174.0, 52033.0, 24998.0, 24173.0, 26987.0, 31035.0, 73118.0, 26813.0, 95043.0, 32497.0, 24046.0, 135229.0, 61085.0, 37643.0, 25119.0, 22169.0, 53054.0, 39379.0, 42881.0, 71328.0, 46010.0, 28649.0, 84691.0, 41214.0, 37454.0, 32200.0, 120153.0, 23644.0, 23254.0, 42342.0, 73936.0, 72997.0, 49818.0, 25255.0, 40779.0, 103884.0, 78935.0, 44307.0, 23630.0, 28125.0, 22668.0, 28591.0, 144886.0, 57252.0, 66600.0, 24024.0, 28410.0, 33555.0, 28172.0, 40836.0, 44369.0, 46359.0, 103076.0, 45202.0, 23057.0, 48487.0, 35212.0, 45059.0, 25153.0, 46943.0, 23756.0, 68828.0, 215315.0, 43607.0, 38160.0, 59883.0, 23650.0, 46989.0, 27466.0, 59613.0, 134322.0, 87588.0, 42387.0, 23931.0, 30803.0, 101644.0, 63373.0, 60433.0, 23752.0, 33628.0, 21969.0, 24270.0, 25512.0, 25307.0, 24099.0, 47918.0, 38108.0, 24270.0, 188818.0, 23505.0, 33154.0, 32576.0, 31550.0, 26450.0, 23571.0, 28504.0, 22307.0, 29369.0, 54480.0, 24701.0, 29875.0, 25589.0, 53335.0, 117937.0, 70334.0, 24589.0, 28473.0, 62512.0, 22757.0, 38489.0, 23368.0, 73936.0, 60346.0, 26412.0, 32946.0, 39632.0, 129746.0, 25500.0, 43079.0, 89523.0, 35454.0, 23100.0, 30202.0, 31919.0, 122690.0, 48703.0, 46127.0, 25627.0, 23308.0, 28133.0, 43722.0, 37837.0, 72302.0, 22947.0, 56716.0, 63290.0, 23189.0, 27198.0, 23476.0, 24050.0, 76588.0, 39409.0, 24115.0, 61442.0, 61393.0, 28147.0, 23983.0, 30563.0, 34381.0, 27755.0, 22010.0, 51119.0, 22221.0, 28929.0, 55958.0, 48024.0, 27129.0, 73490.0, 109820.0, 37655.0, 21928.0, 241707.0, 24026.0, 29795.0, 38336.0, 23262.0, 41020.0, 37454.0, 44036.0, 25133.0, 22093.0, 33801.0, 25623.0, 62259.0, 89827.0, 41020.0, 32390.0, 99991.0, 31631.0, 30500.0, 53420.0, 21758.0, 64538.0, 41244.0, 30970.0, 24089.0, 35901.0, 57376.0, 28782.0, 57979.0, 38212.0, 49466.0, 57884.0, 25108.0, 31761.0, 26673.0, 26331.0, 26070.0, 72313.0, 58678.0, 28247.0, 28505.0, 49248.0, 22284.0, 48201.0, 30948.0, 32326.0, 23880.0, 25280.0, 26107.0, 29285.0, 33646.0, 24476.0, 42205.0, 50261.0, 26815.0, 34899.0, 25389.0, 26673.0, 24008.0, 27460.0, 70659.0, 22624.0, 24297.0, 37919.0, 32005.0, 27060.0, 44203.0, 22431.0, 75492.0, 34977.0, 95441.0, 124888.0, 23044.0, 161344.0, 43200.0, 43642.0, 24512.0, 23549.0, 65216.0, 33134.0, 284169.0, 82708.0, 28667.0, 174862.0, 77985.0, 24251.0, 77853.0, 158486.0, 37463.0, 27311.0, 68123.0, 30027.0, 34899.0, 24177.0, 127850.0, 35471.0, 29719.0, 60571.0, 24012.0, 53083.0, 30997.0, 39028.0, 23109.0, 34171.0, 23107.0, 29795.0, 50396.0, 40392.0, 26043.0, 50421.0, 24910.0, 23727.0, 22855.0, 99991.0, 124651.0, 24665.0, 29072.0, 165097.0, 37998.0, 46216.0, 93593.0, 35185.0, 54881.0, 32110.0, 33337.0, 28591.0, 27098.0, 22332.0, 32698.0, 36626.0, 116896.0, 24291.0, 37339.0, 32683.0, 51344.0, 27136.0, 27787.0, 63482.0, 103709.0, 102936.0, 49116.0, 23511.0, 32138.0, 22831.0, 93237.0, 106071.0, 33888.0, 24802.0, 64587.0, 41975.0, 82980.0, 149901.0, 70146.0, 66466.0, 33323.0, 48121.0, 91687.0, 37936.0, 36961.0, 40389.0, 33135.0, 142263.0, 61981.0, 164607.0, 27075.0, 58858.0, 22155.0, 24675.0, 43121.0, 59415.0, 26931.0, 56743.0, 26752.0, 33835.0, 23096.0, 34225.0, 38068.0, 37077.0, 23415.0, 32790.0, 80792.0, 29687.0, 72156.0, 23973.0, 83138.0, 58521.0, 72112.0, 25664.0, 32500.0, 31013.0, 34794.0, 111873.0, 42485.0, 35374.0, 106156.0, 58565.0, 55716.0, 24677.0, 38660.0, 86101.0, 31251.0, 30667.0, 38709.0, 26811.0, 63558.0, 35849.0, 24476.0, 79522.0, 30408.0, 26487.0, 28681.0, 54596.0, 25662.0, 47008.0, 30239.0, 23802.0, 127472.0, 49229.0, 56502.0, 183396.0, 32969.0, 22435.0, 24762.0, 32645.0, 66422.0, 25911.0, 43093.0, 103505.0, 28600.0, 32175.0, 36863.0, 49924.0, 37287.0, 29140.0, 49759.0, 31497.0, 22228.0, 35097.0, 86566.0, 34435.0, 38417.0, 22177.0, 72051.0, 28963.0, 99792.0, 54068.0, 91554.0, 51252.0, 34416.0, 41822.0, 35459.0, 38660.0]\n",
            "outliers in column  DelinquenciesLast7Years  have outlier  [51.0, 52.0, 42.0, 72.0, 64.0, 73.0, 36.0, 83.0, 38.0, 50.0, 62.0, 44.0, 75.0, 39.0, 40.0, 35.0, 36.0, 38.0, 51.0, 52.0, 41.0, 44.0, 35.0, 44.0, 40.0, 39.0, 40.0, 49.0, 73.0, 36.0, 58.0, 41.0, 63.0, 42.0, 99.0, 45.0, 99.0, 41.0, 53.0, 51.0, 46.0, 46.0, 39.0, 43.0, 42.0, 35.0, 56.0, 88.0, 51.0, 52.0, 40.0, 75.0, 41.0, 39.0, 44.0, 40.0, 42.0, 38.0, 49.0, 48.0, 43.0, 46.0, 42.0, 46.0, 36.0, 36.0, 52.0, 46.0, 42.0, 53.0, 35.0, 36.0, 35.0, 74.0, 47.0, 35.0, 46.0, 36.0, 43.0, 49.0, 62.0, 57.0, 77.0, 49.0, 63.0, 77.0, 35.0, 43.0, 38.0, 49.0, 38.0, 39.0, 42.0, 52.0, 43.0, 36.0, 45.0, 44.0, 44.0, 35.0, 41.0, 50.0, 50.0, 43.0, 58.0, 51.0, 39.0, 35.0, 55.0, 40.0, 62.0, 47.0, 49.0, 37.0, 37.0, 67.0, 86.0, 61.0, 52.0, 61.0, 39.0, 63.0, 37.0, 42.0, 40.0, 40.0, 56.0, 35.0, 48.0, 45.0, 99.0, 50.0, 66.0, 36.0, 40.0, 36.0, 45.0, 41.0, 60.0, 99.0, 45.0, 42.0, 54.0, 59.0, 36.0, 46.0, 36.0, 50.0, 40.0, 41.0, 35.0, 46.0, 59.0, 35.0, 63.0, 47.0, 60.0, 35.0, 99.0, 55.0, 52.0, 58.0, 50.0, 73.0, 36.0, 35.0, 99.0, 45.0, 40.0, 36.0, 57.0, 71.0, 49.0, 75.0, 39.0, 69.0, 60.0, 51.0, 35.0, 99.0, 36.0, 37.0, 76.0, 53.0, 46.0, 54.0, 68.0, 83.0, 45.0, 51.0, 37.0, 61.0, 36.0, 53.0, 99.0, 40.0, 42.0, 47.0, 36.0, 48.0, 66.0, 58.0, 36.0, 45.0, 92.0, 45.0, 41.0, 38.0, 43.0, 37.0, 95.0, 47.0, 60.0, 37.0, 39.0, 38.0, 43.0, 44.0, 36.0, 37.0, 99.0, 50.0, 40.0, 99.0, 36.0, 60.0, 68.0, 51.0, 46.0, 46.0, 36.0, 68.0, 36.0, 63.0, 56.0, 35.0, 39.0, 41.0, 42.0, 36.0, 36.0, 41.0, 41.0, 42.0, 37.0, 42.0, 42.0, 96.0, 92.0, 37.0, 35.0, 99.0, 47.0, 55.0, 42.0, 36.0, 77.0, 53.0, 38.0, 48.0, 47.0, 41.0, 38.0, 45.0, 40.0, 99.0, 43.0, 47.0, 39.0, 99.0, 41.0, 35.0, 59.0, 99.0, 64.0, 93.0, 40.0, 37.0, 44.0, 43.0, 57.0, 50.0, 42.0, 99.0, 42.0, 88.0, 42.0, 47.0, 40.0, 42.0, 47.0, 51.0, 40.0, 47.0, 42.0, 36.0, 37.0, 55.0, 56.0, 44.0, 79.0, 36.0, 52.0, 44.0, 37.0, 69.0, 52.0, 41.0, 38.0, 46.0, 99.0, 55.0, 55.0, 71.0, 84.0, 38.0, 87.0, 41.0, 42.0, 64.0, 51.0, 43.0, 61.0, 43.0, 35.0, 35.0, 53.0, 45.0, 46.0, 96.0, 35.0, 58.0, 69.0, 39.0, 40.0, 48.0, 43.0, 42.0, 43.0, 52.0, 37.0, 99.0, 99.0, 44.0, 46.0, 70.0, 99.0, 35.0, 36.0, 60.0, 59.0, 48.0, 52.0, 59.0, 65.0, 45.0, 38.0, 37.0, 41.0, 36.0, 51.0, 54.0, 39.0, 44.0, 37.0, 65.0, 44.0, 56.0, 62.0, 38.0, 40.0, 78.0, 38.0, 44.0, 37.0, 36.0, 37.0, 35.0, 35.0, 63.0, 35.0, 50.0, 39.0, 46.0, 36.0, 37.0, 42.0, 63.0, 38.0, 49.0, 48.0, 56.0, 47.0, 58.0, 36.0, 63.0, 44.0, 36.0, 40.0, 47.0, 99.0, 35.0, 39.0, 41.0, 35.0, 59.0, 45.0, 39.0, 65.0, 99.0, 56.0, 54.0, 39.0, 68.0, 43.0, 99.0, 52.0, 37.0, 99.0, 57.0, 43.0, 62.0, 43.0, 68.0, 99.0, 41.0, 99.0, 54.0, 37.0, 39.0, 42.0, 99.0, 49.0, 39.0, 36.0, 48.0, 40.0, 37.0, 67.0, 38.0, 45.0, 37.0, 65.0, 42.0, 60.0, 38.0, 43.0, 39.0, 48.0, 51.0, 35.0, 40.0, 46.0, 63.0, 50.0, 91.0, 48.0, 35.0, 41.0, 39.0, 38.0, 36.0, 38.0, 46.0, 45.0, 47.0, 41.0, 43.0, 44.0, 53.0, 59.0, 64.0, 51.0, 65.0, 43.0, 37.0, 42.0, 46.0, 41.0, 45.0, 54.0, 47.0, 48.0, 73.0, 38.0, 56.0, 36.0, 61.0, 39.0, 62.0, 43.0, 57.0, 41.0, 65.0, 51.0, 36.0, 37.0, 41.0, 57.0, 99.0, 50.0, 60.0, 36.0, 61.0, 46.0, 72.0, 51.0, 39.0, 56.0, 48.0, 79.0, 54.0, 47.0, 55.0, 44.0, 70.0, 38.0, 47.0, 50.0, 47.0, 48.0, 35.0, 77.0, 55.0, 45.0, 42.0, 50.0, 36.0, 59.0, 99.0, 71.0, 99.0, 58.0, 37.0, 46.0, 61.0, 36.0, 82.0, 54.0, 63.0, 92.0, 38.0, 63.0, 45.0, 62.0, 37.0, 43.0, 50.0, 64.0, 40.0, 99.0, 51.0, 43.0, 44.0, 39.0, 38.0, 42.0, 37.0, 75.0, 43.0, 41.0, 60.0, 55.0, 38.0, 39.0, 38.0, 88.0, 79.0, 35.0, 39.0, 61.0, 45.0, 63.0, 49.0, 36.0, 66.0, 44.0, 60.0, 53.0, 90.0, 40.0, 53.0, 62.0, 44.0, 43.0, 70.0, 37.0, 40.0, 54.0, 46.0, 38.0, 48.0, 99.0, 80.0, 38.0, 74.0, 50.0, 53.0, 35.0, 69.0, 41.0, 48.0, 45.0, 44.0, 38.0, 52.0, 39.0, 39.0, 36.0, 39.0, 61.0, 54.0, 44.0, 51.0, 36.0, 45.0, 60.0, 36.0, 41.0, 61.0, 49.0, 42.0, 49.0, 51.0, 42.0, 99.0, 39.0, 38.0, 55.0, 36.0, 41.0, 76.0, 43.0, 87.0, 51.0, 51.0, 42.0, 50.0, 44.0, 42.0, 41.0, 38.0, 47.0, 60.0, 37.0, 47.0, 40.0, 50.0, 40.0, 78.0, 35.0, 36.0, 35.0, 49.0, 56.0, 39.0, 62.0, 36.0, 42.0, 40.0, 58.0, 99.0, 43.0, 45.0, 83.0, 49.0, 50.0, 35.0, 45.0, 50.0, 44.0, 35.0, 40.0, 65.0, 42.0, 40.0, 41.0, 43.0, 47.0, 37.0, 39.0, 50.0, 62.0, 62.0, 38.0, 50.0, 43.0, 39.0, 99.0, 57.0, 88.0, 49.0, 53.0, 47.0, 45.0, 48.0, 85.0, 81.0, 46.0, 60.0, 42.0, 65.0, 68.0, 35.0, 50.0, 48.0, 52.0, 35.0, 40.0, 37.0, 35.0, 78.0, 35.0, 37.0, 37.0, 55.0, 50.0, 59.0, 67.0, 55.0, 37.0, 48.0, 39.0, 48.0, 54.0, 35.0, 38.0, 35.0, 52.0, 49.0, 50.0, 43.0, 37.0, 37.0, 41.0, 99.0, 43.0, 77.0, 40.0, 79.0, 99.0, 99.0, 75.0, 69.0, 55.0, 53.0, 42.0, 48.0, 36.0, 99.0, 36.0, 35.0, 35.0, 66.0, 44.0, 40.0, 43.0, 60.0, 47.0, 51.0, 49.0, 54.0, 39.0, 48.0, 36.0, 60.0, 37.0, 39.0, 40.0, 35.0, 77.0, 35.0, 51.0, 39.0, 37.0, 41.0, 37.0, 41.0, 44.0, 51.0, 45.0, 73.0, 53.0, 39.0, 39.0, 38.0, 40.0, 49.0, 50.0, 35.0, 51.0, 75.0, 52.0, 48.0, 35.0, 68.0, 56.0, 47.0, 52.0, 35.0, 47.0, 45.0, 40.0, 43.0, 37.0, 40.0, 51.0, 87.0, 49.0, 45.0, 55.0, 54.0, 41.0, 99.0, 36.0, 39.0, 61.0, 43.0, 42.0, 38.0, 50.0, 54.0, 35.0, 35.0, 91.0, 49.0, 68.0, 35.0, 43.0, 72.0, 37.0, 63.0, 52.0, 43.0, 52.0, 43.0, 39.0, 46.0, 36.0, 99.0, 39.0, 43.0, 38.0, 38.0, 48.0, 56.0, 73.0, 49.0, 47.0, 65.0, 56.0, 47.0, 47.0, 65.0, 36.0, 81.0, 41.0, 36.0, 90.0, 80.0, 54.0, 35.0, 46.0, 38.0, 64.0, 51.0, 37.0, 64.0, 58.0, 51.0, 43.0, 68.0, 35.0, 35.0, 48.0, 41.0, 47.0, 53.0, 43.0, 35.0, 40.0, 61.0, 49.0, 58.0, 36.0, 99.0, 55.0, 63.0, 37.0, 99.0, 58.0, 46.0, 47.0, 42.0, 48.0, 42.0, 43.0, 99.0, 53.0, 42.0, 43.0, 48.0, 37.0, 53.0, 35.0, 61.0, 35.0, 64.0, 47.0, 92.0, 36.0, 71.0, 40.0, 61.0, 39.0, 63.0, 76.0, 39.0, 35.0, 37.0, 40.0, 67.0, 42.0, 58.0, 38.0, 36.0, 75.0, 41.0, 73.0, 37.0, 55.0, 44.0, 41.0, 42.0, 54.0, 35.0, 55.0, 36.0, 36.0, 35.0, 51.0, 44.0, 46.0, 86.0, 36.0, 56.0, 44.0, 52.0, 43.0, 65.0, 39.0, 37.0, 50.0, 46.0, 42.0, 45.0, 56.0, 35.0, 53.0, 49.0, 45.0, 45.0, 35.0, 87.0, 41.0, 40.0, 51.0, 35.0, 41.0, 36.0, 41.0, 70.0, 44.0, 57.0, 45.0, 65.0, 50.0, 42.0, 72.0, 58.0, 37.0, 48.0, 40.0, 49.0, 39.0, 36.0, 43.0, 36.0, 39.0, 51.0, 44.0, 39.0, 47.0, 58.0, 50.0, 38.0, 39.0, 38.0, 35.0, 95.0, 45.0, 49.0, 37.0, 40.0, 86.0, 40.0, 39.0, 43.0, 49.0, 35.0, 99.0, 36.0, 49.0, 47.0, 35.0, 66.0, 38.0, 35.0, 37.0, 36.0, 44.0, 41.0, 47.0, 35.0, 59.0, 44.0, 99.0, 90.0, 45.0, 99.0, 64.0, 67.0, 36.0, 47.0, 36.0, 99.0, 55.0, 41.0, 55.0, 49.0, 43.0, 54.0, 47.0, 75.0, 48.0, 39.0, 36.0, 54.0, 64.0, 42.0, 44.0, 41.0, 38.0, 59.0, 39.0, 41.0, 77.0, 37.0, 90.0, 37.0, 41.0, 71.0, 48.0, 47.0, 39.0, 35.0, 44.0, 38.0, 81.0, 35.0, 35.0, 84.0, 38.0, 60.0, 38.0, 57.0, 49.0, 42.0, 52.0, 42.0, 40.0, 37.0, 48.0, 59.0, 73.0, 52.0, 86.0, 57.0, 39.0, 36.0, 53.0, 43.0, 37.0, 35.0, 74.0, 39.0, 44.0, 39.0, 51.0, 80.0, 38.0, 40.0, 50.0, 38.0, 38.0, 70.0, 38.0, 84.0, 45.0, 35.0, 46.0, 73.0, 48.0, 49.0, 46.0, 44.0, 66.0, 41.0, 38.0, 68.0, 83.0, 53.0, 36.0, 49.0, 55.0, 42.0, 77.0, 39.0, 51.0, 94.0, 39.0, 42.0, 35.0, 39.0, 39.0, 60.0, 41.0, 52.0, 36.0, 70.0, 46.0, 40.0, 50.0, 65.0, 37.0, 56.0, 60.0, 37.0, 36.0, 61.0, 42.0, 37.0, 52.0, 42.0, 38.0, 51.0, 41.0, 39.0, 47.0, 48.0, 60.0, 42.0, 57.0, 55.0, 37.0, 48.0, 57.0, 39.0, 35.0, 35.0, 48.0, 43.0, 42.0, 46.0, 39.0, 69.0, 35.0, 39.0, 56.0, 39.0, 36.0, 46.0, 71.0, 47.0, 50.0, 46.0, 48.0, 47.0, 73.0, 35.0, 49.0, 43.0, 51.0, 44.0, 40.0, 37.0, 42.0, 99.0, 41.0, 39.0, 42.0, 39.0, 88.0, 47.0, 53.0, 52.0, 82.0, 43.0, 37.0, 54.0, 36.0, 49.0, 51.0, 35.0, 37.0, 67.0, 52.0, 35.0, 38.0, 41.0, 51.0, 65.0, 41.0, 35.0, 77.0, 37.0, 35.0, 37.0, 48.0, 42.0, 64.0, 71.0, 61.0, 58.0, 39.0, 35.0, 62.0, 35.0, 47.0, 60.0, 84.0, 52.0, 54.0, 82.0, 61.0, 39.0, 35.0, 50.0, 48.0, 72.0, 36.0, 74.0, 37.0, 67.0, 47.0, 46.0, 35.0, 67.0, 71.0, 99.0, 82.0, 80.0, 80.0, 88.0, 37.0, 35.0, 56.0, 38.0, 46.0, 75.0, 49.0, 46.0, 67.0, 66.0, 38.0, 37.0, 45.0, 43.0, 35.0, 39.0, 45.0, 47.0, 36.0, 63.0, 56.0, 38.0, 82.0, 45.0, 37.0, 38.0, 35.0, 38.0, 47.0, 58.0, 89.0, 46.0, 79.0, 53.0, 51.0, 49.0, 35.0, 52.0, 50.0, 38.0, 39.0, 84.0, 39.0, 47.0, 36.0, 44.0, 99.0, 36.0, 69.0, 66.0, 40.0, 38.0, 44.0, 42.0, 35.0, 44.0, 37.0, 67.0, 42.0, 55.0, 41.0, 35.0, 41.0, 37.0, 44.0, 50.0, 39.0, 46.0, 39.0, 36.0, 42.0, 50.0, 76.0, 58.0, 49.0, 42.0, 64.0, 36.0, 47.0, 37.0, 36.0, 65.0, 91.0, 39.0, 53.0, 46.0, 37.0, 35.0, 99.0, 43.0, 40.0, 39.0, 60.0, 35.0, 37.0, 66.0, 35.0, 43.0, 73.0, 43.0, 99.0, 56.0, 58.0, 41.0, 99.0, 43.0, 37.0, 91.0, 41.0, 66.0, 47.0, 41.0, 70.0, 61.0, 44.0, 69.0, 41.0, 73.0, 76.0, 42.0, 36.0, 95.0, 38.0, 73.0, 35.0, 53.0, 99.0, 42.0, 38.0, 41.0, 39.0, 38.0, 68.0, 35.0, 40.0, 62.0, 36.0, 66.0, 52.0, 45.0, 35.0, 65.0, 56.0, 37.0, 47.0, 35.0, 36.0, 37.0, 40.0, 35.0, 38.0, 45.0, 78.0, 40.0, 99.0, 53.0, 64.0, 56.0, 62.0, 54.0, 45.0, 35.0, 41.0, 60.0, 43.0, 71.0, 35.0, 37.0, 38.0, 48.0, 55.0, 42.0, 42.0, 99.0, 75.0, 52.0, 55.0, 37.0, 40.0, 39.0, 58.0, 39.0, 45.0, 41.0, 37.0, 41.0, 44.0, 46.0, 39.0, 42.0, 99.0, 74.0, 44.0, 44.0, 52.0, 46.0, 43.0, 44.0, 59.0, 56.0, 54.0, 72.0, 75.0, 47.0, 99.0, 41.0, 47.0, 45.0, 43.0, 76.0, 57.0, 44.0, 42.0, 59.0, 99.0, 65.0, 63.0, 52.0, 35.0, 44.0, 35.0, 42.0, 51.0, 50.0, 56.0, 55.0, 46.0, 77.0, 44.0, 44.0, 69.0, 46.0, 38.0, 39.0, 38.0, 48.0, 40.0, 49.0, 39.0, 37.0, 58.0, 37.0, 42.0, 49.0, 65.0, 36.0, 47.0, 39.0, 62.0, 42.0, 43.0, 63.0, 38.0, 45.0, 38.0, 38.0, 62.0, 56.0, 98.0, 69.0, 53.0, 44.0, 39.0, 40.0, 44.0, 54.0, 43.0, 47.0, 46.0, 69.0, 38.0, 99.0, 49.0, 43.0, 83.0, 46.0, 48.0, 61.0, 47.0, 99.0, 47.0, 44.0, 46.0, 51.0, 42.0, 40.0, 47.0, 58.0, 50.0, 51.0, 38.0, 49.0, 99.0, 36.0, 37.0, 44.0, 43.0, 46.0, 99.0, 60.0, 35.0, 47.0, 52.0, 42.0, 60.0, 40.0, 44.0, 49.0, 47.0, 39.0, 55.0, 42.0, 44.0, 38.0, 40.0, 37.0, 41.0, 41.0, 42.0, 64.0, 37.0, 39.0, 49.0, 64.0, 66.0, 75.0, 36.0, 37.0, 45.0, 45.0, 36.0, 39.0, 39.0, 58.0, 76.0, 56.0, 40.0, 46.0, 40.0, 62.0, 36.0, 56.0, 50.0, 38.0, 43.0, 59.0, 40.0, 66.0, 35.0, 42.0, 45.0, 38.0, 99.0, 43.0, 46.0, 53.0, 99.0, 39.0, 94.0, 56.0, 47.0, 45.0, 66.0, 70.0, 56.0, 59.0, 54.0, 80.0, 58.0, 35.0, 38.0, 61.0, 37.0, 36.0, 99.0, 50.0, 80.0, 42.0, 65.0, 36.0, 44.0, 35.0, 40.0, 35.0, 41.0, 45.0, 67.0, 42.0, 39.0, 38.0, 53.0, 37.0, 99.0, 44.0, 36.0, 66.0, 39.0, 35.0, 50.0, 77.0, 39.0, 82.0, 59.0, 68.0, 50.0, 38.0, 86.0, 60.0, 56.0, 42.0, 42.0, 47.0, 56.0, 46.0, 51.0, 37.0, 43.0, 70.0, 35.0, 37.0, 49.0, 56.0, 49.0, 37.0, 47.0, 43.0, 38.0, 41.0, 60.0, 35.0, 56.0, 56.0, 46.0, 41.0, 57.0, 37.0, 37.0, 43.0, 67.0, 42.0, 44.0, 38.0, 79.0, 37.0, 36.0, 74.0, 99.0, 69.0, 47.0, 43.0, 82.0, 58.0, 50.0, 35.0, 39.0, 39.0, 75.0, 54.0, 39.0, 78.0, 40.0, 64.0, 87.0, 37.0, 55.0, 99.0, 65.0, 49.0, 41.0, 38.0, 35.0, 43.0, 53.0, 36.0, 38.0, 69.0, 55.0, 39.0, 41.0, 39.0, 40.0, 35.0, 60.0, 82.0, 52.0, 55.0, 39.0, 37.0, 49.0, 35.0, 46.0, 43.0, 44.0, 51.0, 36.0, 37.0, 46.0, 49.0, 38.0, 36.0, 51.0, 40.0, 42.0, 59.0, 99.0, 73.0, 65.0, 52.0, 71.0, 59.0, 35.0, 54.0, 42.0, 43.0, 39.0, 42.0, 97.0, 47.0, 38.0, 36.0, 43.0, 35.0, 47.0, 35.0, 45.0, 49.0, 44.0, 40.0, 44.0, 37.0, 42.0, 41.0, 35.0, 41.0, 99.0, 62.0, 47.0, 37.0, 36.0, 40.0, 58.0, 37.0, 36.0, 99.0, 52.0, 35.0, 35.0, 51.0, 72.0, 47.0, 47.0, 56.0, 57.0, 63.0, 35.0, 41.0, 48.0, 67.0, 54.0, 96.0, 61.0, 45.0, 35.0, 38.0, 99.0, 73.0, 72.0, 44.0, 69.0, 50.0, 35.0, 48.0, 45.0, 44.0, 45.0, 37.0, 39.0, 51.0, 36.0, 43.0, 44.0, 37.0, 49.0, 35.0, 37.0, 62.0, 42.0, 50.0, 42.0, 46.0, 90.0, 42.0, 36.0, 99.0, 35.0, 37.0, 99.0, 38.0, 49.0, 52.0, 78.0, 49.0, 64.0, 75.0, 46.0, 57.0, 99.0, 35.0, 58.0, 43.0, 44.0, 37.0, 42.0, 70.0, 51.0, 43.0, 44.0, 35.0, 43.0, 36.0, 43.0, 41.0, 40.0, 64.0, 93.0, 42.0, 66.0, 43.0, 52.0, 42.0, 69.0, 37.0, 37.0, 64.0, 66.0, 67.0, 56.0, 56.0, 44.0, 42.0, 39.0, 37.0, 35.0, 45.0, 51.0, 36.0, 36.0, 38.0, 42.0, 37.0, 52.0, 37.0, 39.0, 42.0, 59.0, 60.0, 35.0, 45.0, 37.0, 40.0, 39.0, 38.0, 44.0, 39.0, 38.0, 46.0, 46.0, 38.0, 88.0, 56.0, 35.0, 44.0, 47.0, 48.0, 36.0, 37.0, 68.0, 44.0, 43.0, 61.0, 44.0, 42.0, 40.0, 40.0, 44.0, 61.0, 54.0, 43.0, 49.0, 43.0, 35.0, 47.0, 68.0, 39.0, 38.0, 41.0, 43.0, 37.0, 53.0, 41.0, 51.0, 48.0, 35.0, 52.0, 38.0, 40.0, 35.0, 40.0, 44.0, 46.0, 39.0, 42.0, 38.0, 50.0, 37.0, 37.0, 44.0, 35.0, 58.0, 82.0, 50.0, 49.0, 36.0, 45.0, 97.0, 49.0, 42.0, 48.0, 38.0, 67.0, 69.0, 39.0, 52.0, 44.0, 89.0, 41.0, 47.0, 35.0, 36.0, 48.0, 51.0, 99.0, 99.0, 35.0, 35.0, 45.0, 49.0, 45.0, 55.0, 62.0, 38.0, 76.0, 44.0, 44.0, 78.0, 46.0, 38.0, 56.0, 38.0, 45.0, 49.0, 62.0, 41.0, 35.0, 96.0, 35.0, 38.0, 40.0, 36.0, 39.0, 47.0, 36.0, 42.0, 48.0, 99.0, 35.0, 65.0, 56.0, 42.0, 35.0, 38.0, 56.0, 38.0, 99.0, 37.0, 52.0, 41.0, 37.0, 48.0, 35.0, 39.0, 60.0, 42.0, 99.0, 75.0, 62.0, 61.0, 48.0, 48.0, 48.0, 44.0, 60.0, 48.0, 59.0, 48.0, 40.0, 41.0, 56.0, 88.0, 38.0, 35.0, 49.0, 73.0, 37.0, 55.0, 44.0, 35.0, 66.0, 50.0, 99.0, 89.0, 66.0, 42.0, 62.0, 99.0, 67.0, 50.0, 68.0, 58.0, 55.0, 46.0, 79.0, 39.0, 47.0, 56.0, 38.0, 75.0, 57.0, 41.0, 40.0, 53.0, 46.0, 85.0, 42.0, 44.0, 48.0, 38.0, 39.0, 63.0, 73.0, 38.0, 64.0, 37.0, 40.0, 80.0, 49.0, 41.0, 77.0, 99.0, 50.0, 54.0, 42.0, 40.0, 36.0, 54.0, 72.0, 48.0, 35.0, 35.0, 46.0, 35.0, 46.0, 63.0, 37.0, 46.0, 51.0, 78.0, 35.0, 70.0, 47.0, 66.0, 37.0, 43.0, 42.0, 38.0, 50.0, 40.0, 99.0, 35.0, 42.0, 40.0, 38.0, 40.0, 50.0, 36.0, 67.0, 52.0, 37.0, 35.0, 54.0, 38.0, 37.0, 42.0, 46.0, 47.0, 59.0, 46.0, 36.0, 41.0, 43.0, 45.0, 38.0, 35.0, 36.0, 35.0, 65.0, 35.0, 52.0, 51.0, 62.0, 35.0, 50.0, 43.0, 44.0, 60.0, 38.0, 38.0, 55.0, 63.0, 99.0, 55.0, 37.0, 57.0, 36.0, 60.0, 66.0, 63.0, 49.0, 55.0, 42.0, 39.0, 37.0, 62.0, 72.0, 46.0, 37.0, 40.0, 65.0, 38.0, 35.0, 37.0, 48.0, 47.0, 35.0, 39.0, 35.0, 68.0, 39.0, 40.0, 99.0, 59.0, 36.0, 41.0, 42.0, 35.0, 60.0, 66.0, 47.0, 40.0, 71.0, 45.0, 38.0, 57.0, 43.0, 47.0, 99.0, 50.0, 50.0, 35.0, 48.0, 65.0, 37.0, 46.0, 51.0, 38.0, 40.0, 50.0, 38.0, 61.0, 63.0, 55.0, 36.0, 44.0, 40.0, 41.0, 48.0, 49.0, 46.0, 65.0, 39.0, 35.0, 98.0, 38.0, 42.0, 89.0, 47.0, 58.0, 92.0, 50.0, 43.0, 58.0, 61.0, 38.0, 44.0, 59.0, 36.0, 36.0, 51.0, 51.0, 54.0, 49.0, 63.0, 36.0, 75.0, 35.0, 60.0, 50.0, 59.0, 37.0, 45.0, 64.0, 44.0, 53.0, 80.0, 51.0, 90.0, 45.0, 51.0, 46.0, 38.0, 38.0, 41.0, 36.0, 99.0, 44.0, 59.0, 39.0, 43.0, 41.0, 66.0, 65.0, 36.0, 76.0, 42.0, 36.0, 63.0, 36.0, 52.0, 40.0, 41.0, 40.0, 99.0, 39.0, 45.0, 40.0, 60.0, 35.0, 44.0, 59.0, 35.0, 42.0, 39.0, 49.0, 42.0, 40.0, 38.0, 44.0, 62.0, 36.0, 99.0, 40.0, 46.0, 35.0, 40.0, 42.0, 97.0, 37.0, 36.0, 64.0, 66.0, 60.0, 74.0, 74.0, 51.0, 69.0, 37.0, 37.0, 42.0, 36.0, 35.0, 38.0, 43.0, 63.0, 88.0, 35.0, 38.0, 75.0, 46.0, 47.0, 41.0, 37.0, 49.0, 45.0, 42.0, 40.0, 65.0, 41.0, 38.0, 35.0, 40.0, 65.0, 48.0, 80.0, 43.0, 46.0, 52.0, 45.0, 82.0, 67.0, 87.0, 40.0, 47.0, 36.0, 43.0, 35.0, 37.0, 47.0, 75.0, 51.0, 48.0, 44.0, 78.0, 38.0, 57.0, 35.0, 35.0, 35.0, 48.0, 42.0, 39.0, 46.0, 40.0, 55.0, 38.0, 46.0, 57.0, 49.0, 38.0, 53.0, 85.0, 42.0, 67.0, 60.0, 41.0, 49.0, 38.0, 42.0, 38.0, 51.0, 41.0, 35.0, 39.0, 99.0, 84.0, 99.0, 50.0, 47.0, 36.0, 59.0, 62.0, 61.0, 77.0, 60.0, 35.0, 50.0, 40.0, 50.0, 49.0, 39.0, 43.0, 62.0, 95.0, 35.0, 35.0, 45.0, 67.0, 45.0, 39.0, 90.0, 57.0, 71.0, 37.0, 99.0, 47.0, 41.0, 45.0, 63.0, 56.0, 59.0, 97.0, 44.0, 99.0, 42.0, 38.0, 92.0, 42.0, 46.0, 38.0, 41.0, 39.0, 36.0, 46.0, 98.0, 38.0, 59.0, 38.0, 35.0, 99.0, 80.0, 43.0, 37.0, 66.0, 70.0, 43.0, 46.0, 99.0, 37.0, 48.0, 39.0, 38.0, 62.0, 79.0, 39.0, 57.0, 38.0, 45.0, 36.0, 35.0, 56.0, 41.0, 50.0, 46.0, 39.0, 37.0, 36.0, 39.0, 51.0, 53.0, 35.0, 99.0, 35.0, 46.0, 42.0, 48.0, 43.0, 57.0, 75.0, 52.0, 77.0, 59.0, 42.0, 35.0, 46.0, 64.0, 59.0, 56.0, 49.0, 35.0, 43.0, 64.0, 46.0, 35.0, 37.0, 66.0, 59.0, 54.0, 56.0, 99.0, 38.0, 44.0, 40.0, 38.0, 53.0, 48.0, 45.0, 80.0, 58.0, 47.0, 36.0, 59.0, 49.0, 69.0, 44.0, 47.0, 54.0, 41.0, 64.0, 45.0, 51.0, 46.0, 65.0, 52.0, 38.0, 53.0, 37.0, 81.0, 61.0, 57.0, 99.0, 56.0, 42.0, 45.0, 89.0, 51.0, 57.0, 37.0, 45.0, 50.0, 84.0, 71.0, 99.0, 35.0, 43.0, 39.0, 60.0, 42.0, 36.0, 47.0, 46.0, 69.0, 44.0, 50.0, 51.0, 47.0, 48.0, 63.0, 43.0, 40.0, 62.0, 67.0, 68.0, 57.0, 48.0, 39.0, 52.0, 41.0, 42.0, 52.0, 82.0, 75.0, 94.0, 64.0, 48.0, 86.0, 41.0, 99.0, 39.0, 35.0, 65.0, 38.0, 41.0, 36.0, 37.0, 44.0, 48.0, 65.0, 38.0, 64.0, 65.0, 37.0, 55.0, 61.0, 49.0, 47.0, 41.0, 99.0, 44.0, 48.0, 50.0, 50.0, 39.0, 51.0, 83.0, 37.0, 99.0, 49.0, 40.0, 42.0, 42.0, 45.0, 40.0, 99.0, 39.0, 39.0, 46.0, 39.0, 35.0, 51.0, 46.0, 35.0, 37.0, 36.0, 44.0, 35.0, 72.0, 63.0, 64.0, 54.0, 51.0, 53.0, 45.0, 46.0, 56.0, 87.0, 35.0, 45.0, 45.0, 46.0, 38.0, 36.0, 48.0, 40.0, 68.0, 45.0, 62.0, 76.0, 63.0, 99.0, 56.0, 39.0, 56.0, 43.0, 45.0, 39.0, 36.0, 36.0, 51.0, 54.0, 57.0, 99.0, 51.0, 42.0, 45.0, 70.0, 43.0, 70.0, 49.0, 52.0, 35.0, 50.0, 60.0, 46.0, 39.0, 47.0, 77.0, 37.0, 48.0, 35.0, 67.0, 40.0, 36.0, 35.0, 68.0, 57.0, 35.0, 39.0, 37.0, 55.0, 49.0, 48.0, 44.0, 40.0, 37.0, 62.0, 37.0, 40.0, 38.0, 56.0, 53.0, 47.0, 44.0, 54.0, 99.0, 47.0, 44.0, 54.0, 78.0, 56.0, 46.0, 53.0, 47.0, 61.0, 35.0, 65.0, 39.0, 48.0, 41.0, 36.0, 48.0, 99.0, 39.0, 36.0, 84.0, 49.0, 41.0, 72.0, 35.0, 39.0, 38.0, 37.0, 42.0, 44.0, 52.0, 54.0, 60.0, 44.0, 41.0, 35.0, 43.0, 40.0, 36.0, 44.0, 62.0, 50.0, 38.0, 36.0, 44.0, 51.0, 37.0, 36.0, 70.0, 50.0, 45.0, 47.0, 35.0, 72.0, 86.0, 61.0, 68.0, 41.0, 48.0, 40.0, 50.0, 36.0, 40.0, 36.0, 39.0, 37.0, 62.0, 39.0, 39.0, 62.0, 40.0, 37.0, 51.0, 69.0, 44.0, 47.0, 38.0, 54.0, 52.0, 50.0, 50.0, 99.0, 41.0, 66.0, 61.0, 39.0, 44.0, 38.0, 75.0, 39.0, 53.0, 48.0, 38.0, 61.0, 72.0, 53.0, 44.0, 82.0, 40.0, 35.0, 52.0, 51.0, 35.0, 36.0, 74.0, 44.0, 40.0, 40.0, 37.0, 57.0, 44.0, 39.0, 44.0, 48.0, 49.0, 51.0, 39.0, 61.0, 52.0, 41.0, 62.0, 42.0, 41.0, 48.0]\n",
            "outliers in column  PublicRecordsLast10Years  have outlier  [5.0, 3.0, 3.0, 4.0, 4.0, 7.0, 4.0, 3.0, 3.0, 3.0, 5.0, 5.0, 5.0, 3.0, 5.0, 3.0, 4.0, 4.0, 5.0, 6.0, 3.0, 5.0, 3.0, 3.0, 3.0, 6.0, 3.0, 3.0, 11.0, 4.0, 3.0, 3.0, 3.0, 4.0, 3.0, 3.0, 3.0, 3.0, 3.0, 4.0, 8.0, 3.0, 4.0, 3.0, 3.0, 3.0, 4.0, 3.0, 3.0, 5.0, 4.0, 3.0, 7.0, 3.0, 7.0, 6.0, 3.0, 3.0, 3.0, 3.0, 3.0, 3.0, 3.0, 6.0, 3.0, 3.0, 7.0, 3.0, 3.0, 4.0, 3.0, 4.0, 4.0, 3.0, 12.0, 3.0, 5.0, 5.0, 5.0, 3.0, 3.0, 4.0, 3.0, 9.0, 3.0, 5.0, 3.0, 3.0, 3.0, 5.0, 4.0, 3.0, 3.0, 3.0, 3.0, 10.0, 4.0, 3.0, 3.0, 7.0, 4.0, 3.0, 4.0, 4.0, 3.0, 3.0, 3.0, 3.0, 3.0, 3.0, 3.0, 3.0, 3.0, 4.0, 10.0, 7.0, 3.0, 4.0, 4.0, 3.0, 3.0, 5.0, 3.0, 5.0, 3.0, 3.0, 3.0, 5.0, 4.0, 5.0, 6.0, 3.0, 3.0, 4.0, 5.0, 3.0, 4.0, 6.0, 6.0, 3.0, 3.0, 3.0, 3.0, 4.0, 3.0, 3.0, 3.0, 3.0, 3.0, 3.0, 4.0, 3.0, 4.0, 5.0, 3.0, 4.0, 3.0, 3.0, 3.0, 3.0, 4.0, 3.0, 4.0, 3.0, 5.0, 9.0, 3.0, 3.0, 8.0, 7.0, 4.0, 3.0, 4.0, 3.0, 4.0, 3.0, 3.0, 5.0, 5.0, 4.0, 3.0, 3.0, 3.0, 4.0, 3.0, 4.0, 4.0, 7.0, 7.0, 6.0, 3.0, 3.0, 3.0, 15.0, 4.0, 8.0, 3.0, 5.0, 3.0, 6.0, 3.0, 3.0, 3.0, 3.0, 3.0, 3.0, 3.0, 3.0, 8.0, 9.0, 3.0, 3.0, 8.0, 4.0, 4.0, 3.0, 4.0, 3.0, 6.0, 6.0, 7.0, 3.0, 4.0, 3.0, 5.0, 3.0, 3.0, 3.0, 6.0, 3.0, 3.0, 4.0, 3.0, 3.0, 3.0, 3.0, 3.0, 4.0, 3.0, 4.0, 3.0, 7.0, 4.0, 3.0, 6.0, 3.0, 3.0, 3.0, 3.0, 4.0, 6.0, 3.0, 4.0, 4.0, 3.0, 3.0, 6.0, 3.0, 4.0, 3.0, 3.0, 4.0, 3.0, 3.0, 3.0, 3.0, 3.0, 3.0, 3.0, 3.0, 3.0, 6.0, 3.0, 3.0, 3.0, 3.0, 3.0, 4.0, 3.0, 3.0, 3.0, 3.0, 5.0, 3.0, 6.0, 4.0, 4.0, 4.0, 3.0, 3.0, 5.0, 3.0, 3.0, 3.0, 3.0, 3.0, 6.0, 3.0, 3.0, 4.0, 4.0, 3.0, 3.0, 4.0, 4.0, 6.0, 3.0, 4.0, 3.0, 3.0, 4.0, 4.0, 15.0, 3.0, 4.0, 3.0, 3.0, 3.0, 3.0, 4.0, 4.0, 3.0, 3.0, 3.0, 3.0, 3.0, 3.0, 21.0, 6.0, 3.0, 3.0, 3.0, 3.0, 3.0, 3.0, 3.0, 3.0, 3.0, 7.0, 3.0, 4.0, 6.0, 7.0, 3.0, 4.0, 4.0, 3.0, 3.0, 4.0, 3.0, 3.0, 15.0, 13.0, 3.0, 4.0, 8.0, 3.0, 3.0, 5.0, 3.0, 5.0, 6.0, 6.0, 4.0, 6.0, 5.0, 3.0, 4.0, 3.0, 3.0, 3.0, 3.0, 3.0, 6.0, 3.0, 3.0, 5.0, 3.0, 3.0, 3.0, 6.0, 3.0, 3.0, 3.0, 12.0, 3.0, 4.0, 4.0, 4.0, 3.0, 3.0, 3.0, 4.0, 3.0, 4.0, 3.0, 5.0, 3.0, 3.0, 3.0, 3.0, 4.0, 6.0, 4.0, 7.0, 4.0, 3.0, 8.0, 6.0, 4.0, 9.0, 4.0, 3.0, 6.0, 3.0, 4.0, 3.0, 3.0, 5.0, 4.0, 7.0, 3.0, 3.0, 3.0, 5.0, 3.0, 4.0, 3.0, 3.0, 3.0, 8.0, 4.0, 3.0, 6.0, 4.0, 3.0, 5.0, 3.0, 8.0, 4.0, 4.0, 4.0, 3.0, 3.0, 3.0, 3.0, 3.0, 3.0, 3.0, 3.0, 3.0, 4.0, 4.0, 5.0, 4.0, 6.0, 3.0, 3.0, 3.0, 3.0, 4.0, 3.0, 3.0, 3.0, 3.0, 6.0, 3.0, 4.0, 3.0, 3.0, 3.0, 5.0, 4.0, 3.0, 3.0, 3.0, 3.0, 3.0, 4.0, 3.0, 3.0, 3.0, 3.0, 25.0, 4.0, 4.0, 3.0, 3.0, 3.0, 3.0, 3.0, 3.0, 3.0, 3.0, 5.0, 3.0, 5.0, 3.0, 3.0, 3.0, 3.0, 9.0, 3.0, 3.0, 3.0, 3.0, 3.0, 7.0, 4.0, 3.0, 3.0, 3.0, 4.0, 3.0, 38.0, 4.0, 3.0, 3.0, 4.0, 8.0, 4.0, 3.0, 6.0, 3.0, 6.0, 4.0, 3.0, 3.0, 4.0, 3.0, 14.0, 3.0, 5.0, 3.0, 3.0, 4.0, 3.0, 4.0, 3.0, 3.0, 3.0, 5.0, 3.0, 4.0, 5.0, 4.0, 3.0, 7.0, 3.0, 4.0, 7.0, 3.0, 5.0, 11.0, 3.0, 16.0, 5.0, 3.0, 11.0, 6.0, 3.0, 3.0, 4.0, 3.0, 3.0, 5.0, 5.0, 3.0, 3.0, 5.0, 4.0, 3.0, 3.0, 7.0, 3.0, 3.0, 6.0, 4.0, 4.0, 4.0, 3.0, 4.0, 3.0, 10.0, 7.0, 4.0, 5.0, 4.0, 3.0, 5.0, 3.0, 5.0, 3.0, 3.0, 3.0, 3.0, 4.0, 3.0, 4.0, 3.0, 11.0, 3.0, 3.0, 3.0, 5.0, 3.0, 5.0, 3.0, 3.0, 12.0, 3.0, 4.0, 4.0, 3.0, 4.0, 3.0, 3.0, 4.0, 3.0, 3.0, 3.0, 3.0, 5.0, 30.0, 3.0, 5.0, 3.0, 16.0, 3.0, 3.0, 3.0, 3.0, 3.0, 3.0, 3.0, 3.0, 3.0, 4.0, 3.0, 3.0, 4.0, 3.0, 3.0, 4.0, 4.0, 6.0, 3.0, 4.0, 3.0, 3.0, 3.0, 4.0, 3.0, 3.0, 3.0, 3.0, 5.0, 5.0, 4.0, 3.0, 3.0, 3.0, 7.0, 4.0, 6.0, 3.0, 5.0, 6.0, 3.0, 3.0, 4.0, 4.0, 5.0, 4.0, 3.0, 3.0, 3.0, 10.0, 3.0, 20.0, 3.0, 3.0, 3.0, 3.0, 3.0, 3.0, 3.0, 3.0, 3.0, 3.0, 3.0, 3.0, 3.0, 4.0, 3.0, 4.0, 3.0, 3.0, 9.0, 3.0, 4.0, 3.0, 5.0, 3.0, 4.0, 3.0, 3.0, 4.0, 3.0, 3.0, 6.0, 3.0, 4.0, 3.0, 4.0, 3.0, 5.0, 3.0, 4.0, 5.0, 4.0, 5.0, 3.0, 5.0, 3.0, 4.0, 5.0, 3.0, 4.0, 3.0, 3.0, 3.0, 3.0, 3.0, 3.0, 3.0, 3.0, 3.0, 3.0, 4.0, 5.0, 3.0, 3.0, 3.0, 3.0, 4.0, 3.0, 3.0, 4.0, 3.0, 4.0, 5.0, 3.0, 3.0, 3.0, 3.0, 5.0, 4.0, 9.0, 5.0, 5.0, 4.0, 3.0, 3.0, 4.0, 7.0, 3.0, 3.0, 3.0, 3.0, 3.0, 5.0, 5.0, 3.0, 3.0, 3.0, 4.0, 3.0, 3.0, 3.0, 4.0, 3.0, 4.0, 4.0, 5.0, 3.0, 16.0, 3.0, 3.0, 3.0, 4.0, 5.0, 3.0, 3.0, 3.0, 3.0, 6.0, 4.0, 3.0, 3.0, 6.0, 3.0, 5.0, 3.0, 3.0, 8.0, 3.0, 3.0, 8.0, 3.0, 3.0, 3.0, 3.0, 9.0, 3.0, 5.0, 3.0, 3.0, 3.0, 3.0, 3.0, 3.0, 3.0, 3.0, 3.0, 3.0, 3.0, 4.0, 3.0, 3.0, 3.0, 3.0, 3.0, 4.0, 4.0, 3.0, 4.0, 5.0, 4.0, 3.0, 3.0, 5.0, 3.0, 3.0, 3.0, 3.0, 3.0, 3.0, 3.0, 3.0, 8.0, 3.0, 3.0, 3.0, 3.0, 3.0, 3.0, 3.0, 8.0, 3.0, 5.0, 16.0, 7.0, 5.0, 7.0, 3.0, 3.0, 3.0, 5.0, 4.0, 3.0, 7.0, 3.0, 34.0, 7.0, 4.0, 4.0, 3.0, 4.0, 5.0, 3.0, 3.0, 3.0, 3.0, 3.0, 3.0, 3.0, 4.0, 3.0, 4.0, 3.0, 4.0, 3.0, 3.0, 3.0, 3.0, 4.0, 4.0, 3.0, 3.0, 3.0, 3.0, 3.0, 4.0, 3.0, 3.0, 3.0, 3.0, 3.0, 5.0, 4.0, 4.0, 3.0, 4.0, 3.0, 3.0, 4.0, 3.0, 3.0, 4.0, 4.0, 3.0, 3.0, 3.0, 3.0, 3.0, 4.0, 5.0, 11.0, 4.0, 3.0, 4.0, 7.0, 4.0, 4.0, 3.0, 14.0, 3.0, 3.0, 4.0, 3.0, 3.0, 5.0, 6.0, 3.0, 3.0, 4.0, 4.0, 3.0, 4.0, 6.0, 3.0, 3.0, 7.0, 3.0, 3.0, 3.0, 5.0, 4.0, 3.0, 22.0, 3.0, 3.0, 3.0, 3.0, 5.0, 3.0, 4.0, 3.0, 4.0, 3.0, 5.0, 4.0, 3.0, 5.0, 3.0, 7.0, 4.0, 9.0, 4.0, 3.0, 8.0, 3.0, 4.0, 3.0, 7.0, 3.0, 12.0, 5.0, 6.0, 5.0, 4.0, 3.0, 4.0, 9.0, 4.0, 5.0, 3.0, 4.0, 3.0, 3.0, 3.0, 3.0, 3.0, 5.0, 3.0, 5.0, 6.0, 4.0, 8.0, 4.0, 4.0, 3.0, 5.0, 3.0, 3.0, 3.0, 4.0, 3.0, 3.0, 8.0, 5.0, 3.0, 3.0, 3.0, 4.0, 3.0, 4.0, 4.0, 3.0, 5.0, 3.0, 4.0, 3.0, 6.0, 3.0, 4.0, 11.0, 3.0, 4.0, 4.0, 6.0, 4.0, 3.0, 4.0, 3.0, 3.0, 5.0, 3.0, 10.0, 3.0, 3.0, 3.0, 5.0, 5.0, 3.0, 3.0, 3.0, 4.0, 11.0, 3.0, 3.0, 4.0, 4.0, 3.0, 5.0, 3.0, 3.0, 5.0, 8.0, 3.0, 3.0, 3.0, 3.0, 3.0, 3.0, 4.0, 3.0, 8.0, 3.0, 8.0, 5.0, 3.0, 3.0, 4.0, 4.0, 3.0, 3.0, 10.0, 4.0, 4.0, 3.0, 3.0, 3.0, 4.0, 5.0, 7.0, 5.0, 3.0, 3.0, 4.0, 4.0, 3.0, 3.0, 3.0, 4.0, 4.0, 3.0, 3.0, 4.0, 5.0, 5.0, 3.0, 8.0, 3.0, 3.0, 4.0, 3.0, 3.0, 4.0, 4.0, 6.0, 4.0, 4.0, 3.0, 4.0, 3.0, 5.0, 7.0, 5.0, 7.0, 4.0, 3.0, 3.0, 3.0, 5.0, 9.0, 9.0, 3.0, 4.0, 3.0, 3.0, 4.0, 5.0, 3.0, 8.0, 4.0, 3.0, 3.0, 4.0, 3.0, 5.0, 4.0, 4.0, 3.0, 3.0, 3.0, 6.0, 3.0, 5.0, 4.0, 4.0, 3.0, 3.0, 3.0, 7.0, 3.0, 8.0, 3.0, 4.0, 3.0, 4.0, 6.0, 3.0, 5.0, 4.0, 4.0, 3.0, 8.0, 3.0, 4.0, 3.0, 3.0, 3.0, 4.0, 4.0, 3.0, 4.0, 3.0, 3.0, 3.0, 3.0, 3.0, 5.0, 3.0, 3.0, 3.0, 3.0, 3.0, 4.0, 3.0, 3.0, 4.0, 4.0, 3.0, 3.0, 5.0, 3.0, 3.0, 6.0, 3.0, 17.0, 3.0, 7.0, 4.0, 3.0, 4.0, 3.0, 7.0, 3.0, 4.0, 3.0, 3.0, 3.0, 3.0, 6.0, 3.0, 3.0, 4.0, 3.0, 5.0, 3.0, 8.0, 3.0, 3.0, 3.0, 6.0, 3.0, 6.0, 4.0, 7.0, 3.0, 4.0, 3.0, 3.0, 3.0, 3.0, 4.0, 3.0, 4.0, 3.0, 3.0, 4.0, 5.0, 4.0, 4.0, 3.0, 3.0, 16.0, 3.0, 3.0, 4.0, 3.0, 4.0, 5.0, 3.0, 4.0, 4.0, 4.0, 3.0, 5.0, 3.0, 3.0, 3.0, 3.0, 6.0, 3.0, 3.0, 3.0, 3.0, 3.0, 3.0, 5.0, 3.0, 3.0, 4.0, 3.0, 3.0, 3.0, 3.0, 4.0, 3.0, 3.0, 5.0, 6.0, 3.0, 3.0, 6.0, 4.0, 4.0, 4.0, 3.0, 4.0, 3.0, 5.0, 5.0, 4.0, 4.0, 5.0, 3.0, 3.0, 3.0, 5.0, 3.0, 4.0, 3.0, 3.0, 3.0, 3.0, 14.0, 4.0, 5.0, 3.0, 3.0, 3.0, 3.0, 3.0, 3.0, 3.0, 6.0, 5.0, 3.0, 3.0, 4.0, 3.0, 9.0, 4.0, 3.0, 4.0, 3.0, 4.0, 8.0, 3.0, 3.0, 3.0, 4.0, 5.0, 3.0, 3.0, 3.0, 3.0, 7.0, 4.0, 3.0, 3.0, 3.0, 3.0, 3.0, 8.0, 3.0, 3.0, 3.0, 6.0, 4.0, 3.0, 4.0, 3.0, 4.0, 4.0, 3.0, 3.0, 5.0, 3.0, 4.0, 3.0, 3.0, 4.0, 4.0, 3.0, 3.0, 3.0, 3.0, 4.0, 3.0, 4.0, 3.0, 3.0, 3.0, 3.0, 4.0, 5.0, 3.0, 4.0, 3.0, 3.0, 5.0, 3.0, 3.0, 4.0, 10.0, 3.0, 3.0, 3.0, 3.0, 4.0, 3.0, 3.0, 6.0, 3.0, 8.0, 3.0, 4.0, 6.0, 4.0, 3.0, 9.0, 8.0, 3.0, 3.0, 4.0, 9.0, 4.0, 14.0, 10.0, 3.0, 3.0, 3.0, 4.0, 4.0, 3.0, 3.0, 4.0, 3.0, 3.0, 4.0, 3.0, 5.0, 3.0, 3.0, 5.0, 3.0, 3.0, 3.0, 3.0, 5.0, 4.0, 4.0, 3.0, 3.0, 3.0, 3.0, 3.0, 3.0, 3.0, 3.0, 3.0, 4.0, 3.0, 6.0, 4.0, 3.0, 4.0, 3.0, 4.0, 3.0, 4.0, 3.0, 3.0, 3.0, 6.0, 4.0, 4.0, 3.0, 3.0, 8.0, 3.0, 3.0, 3.0, 3.0, 4.0, 3.0, 3.0, 4.0, 3.0, 6.0, 3.0, 3.0, 3.0, 4.0, 3.0, 3.0, 4.0, 3.0, 4.0, 3.0, 3.0, 6.0, 4.0, 4.0, 4.0, 5.0, 5.0, 4.0, 3.0, 3.0, 5.0, 3.0, 5.0, 4.0, 7.0, 3.0, 5.0, 6.0, 5.0, 3.0, 4.0, 7.0, 3.0, 4.0, 3.0, 3.0, 3.0, 3.0, 3.0, 5.0, 3.0, 3.0, 3.0, 3.0, 4.0, 3.0, 4.0, 3.0, 7.0, 3.0, 4.0, 3.0, 5.0, 3.0, 5.0, 3.0, 5.0, 7.0, 3.0, 3.0, 4.0, 5.0, 6.0, 3.0, 7.0, 4.0, 3.0, 5.0, 4.0, 4.0, 3.0, 6.0, 3.0, 3.0, 3.0, 3.0, 3.0, 7.0, 4.0, 3.0, 3.0, 5.0, 3.0, 3.0, 5.0, 4.0, 4.0, 4.0, 3.0, 7.0, 6.0, 4.0, 4.0, 3.0, 5.0, 3.0, 3.0, 3.0, 5.0, 4.0, 5.0, 3.0, 4.0, 3.0, 5.0, 8.0, 7.0]\n",
            "outliers in column  PublicRecordsLast12Months  have outlier  [1.0, 1.0, 1.0, 1.0, 1.0, 1.0, 1.0, 1.0, 1.0, 2.0, 1.0, 1.0, 1.0, 1.0, 1.0, 1.0, 2.0, 1.0, 1.0, 1.0, 1.0, 1.0, 1.0, 1.0, 1.0, 1.0, 1.0, 1.0, 1.0, 1.0, 3.0, 1.0, 1.0, 1.0, 2.0, 3.0, 1.0, 1.0, 1.0, 1.0, 1.0, 1.0, 2.0, 1.0, 1.0, 1.0, 1.0, 1.0, 1.0, 1.0, 1.0, 1.0, 1.0, 1.0, 3.0, 1.0, 1.0, 1.0, 1.0, 1.0, 1.0, 1.0, 1.0, 1.0, 1.0, 1.0, 1.0, 1.0, 1.0, 1.0, 2.0, 1.0, 1.0, 1.0, 1.0, 1.0, 1.0, 1.0, 1.0, 1.0, 1.0, 1.0, 1.0, 1.0, 3.0, 1.0, 1.0, 1.0, 1.0, 1.0, 1.0, 1.0, 1.0, 1.0, 1.0, 1.0, 1.0, 1.0, 1.0, 1.0, 1.0, 1.0, 1.0, 1.0, 1.0, 1.0, 1.0, 1.0, 1.0, 1.0, 1.0, 1.0, 1.0, 1.0, 1.0, 1.0, 1.0, 1.0, 3.0, 1.0, 3.0, 1.0, 1.0, 1.0, 1.0, 1.0, 1.0, 1.0, 1.0, 1.0, 1.0, 1.0, 1.0, 1.0, 1.0, 1.0, 1.0, 1.0, 1.0, 1.0, 1.0, 2.0, 1.0, 2.0, 1.0, 1.0, 1.0, 2.0, 1.0, 1.0, 1.0, 1.0, 1.0, 1.0, 1.0, 1.0, 1.0, 1.0, 1.0, 1.0, 1.0, 2.0, 1.0, 1.0, 1.0, 1.0, 2.0, 1.0, 1.0, 1.0, 1.0, 1.0, 1.0, 1.0, 1.0, 1.0, 1.0, 1.0, 1.0, 1.0, 1.0, 1.0, 1.0, 1.0, 1.0, 1.0, 2.0, 1.0, 2.0, 3.0, 1.0, 3.0, 1.0, 1.0, 1.0, 2.0, 1.0, 1.0, 1.0, 1.0, 1.0, 1.0, 2.0, 2.0, 1.0, 1.0, 1.0, 1.0, 1.0, 1.0, 2.0, 1.0, 2.0, 1.0, 1.0, 1.0, 2.0, 1.0, 1.0, 1.0, 1.0, 1.0, 1.0, 1.0, 1.0, 1.0, 1.0, 1.0, 1.0, 1.0, 1.0, 1.0, 1.0, 1.0, 1.0, 1.0, 1.0, 2.0, 1.0, 1.0, 1.0, 1.0, 1.0, 1.0, 1.0, 2.0, 1.0, 1.0, 1.0, 1.0, 1.0, 1.0, 1.0, 1.0, 1.0, 1.0, 1.0, 1.0, 1.0, 1.0, 1.0, 1.0, 1.0, 7.0, 3.0, 1.0, 1.0, 1.0, 2.0, 1.0, 1.0, 1.0, 1.0, 1.0, 1.0, 1.0, 1.0, 1.0, 1.0, 1.0, 1.0, 1.0, 1.0, 1.0, 1.0, 1.0, 1.0, 1.0, 1.0, 1.0, 1.0, 1.0, 1.0, 1.0, 1.0, 2.0, 2.0, 1.0, 1.0, 1.0, 1.0, 1.0, 1.0, 1.0, 1.0, 1.0, 1.0, 1.0, 1.0, 1.0, 1.0, 1.0, 1.0, 1.0, 2.0, 1.0, 1.0, 1.0, 1.0, 1.0, 1.0, 1.0, 1.0, 2.0, 1.0, 1.0, 1.0, 1.0, 1.0, 1.0, 1.0, 1.0, 1.0, 1.0, 1.0, 1.0, 1.0, 1.0, 1.0, 1.0, 1.0, 1.0, 1.0, 1.0, 1.0, 1.0, 1.0, 1.0, 1.0, 1.0, 1.0, 1.0, 1.0, 4.0, 1.0, 1.0, 1.0, 1.0, 1.0, 1.0, 1.0, 1.0, 1.0, 1.0, 1.0, 1.0, 1.0, 1.0, 1.0, 1.0, 1.0, 1.0, 1.0, 1.0, 1.0, 1.0, 1.0, 1.0, 1.0, 1.0, 1.0, 1.0, 1.0, 1.0, 1.0, 1.0, 1.0, 1.0, 1.0, 1.0, 1.0, 1.0, 2.0, 1.0, 1.0, 1.0, 1.0, 1.0, 1.0, 1.0, 1.0, 1.0, 1.0, 3.0, 4.0, 1.0, 1.0, 1.0, 1.0, 1.0, 1.0, 1.0, 1.0, 1.0, 1.0, 1.0, 1.0, 1.0, 1.0, 1.0, 1.0, 1.0, 1.0, 1.0, 1.0, 1.0, 1.0, 1.0, 1.0, 1.0, 1.0, 1.0, 2.0, 3.0, 1.0, 1.0, 1.0, 1.0, 1.0, 2.0, 1.0, 1.0, 2.0, 3.0, 1.0, 4.0, 1.0, 1.0, 2.0, 1.0, 1.0, 1.0, 1.0, 1.0, 1.0, 1.0, 1.0, 1.0, 1.0, 1.0, 1.0, 1.0, 1.0, 1.0, 1.0, 1.0, 1.0, 1.0, 1.0, 1.0, 1.0, 1.0, 1.0, 1.0, 1.0, 4.0, 1.0, 1.0, 1.0, 1.0, 1.0, 1.0, 1.0, 4.0, 1.0, 1.0, 1.0, 1.0, 1.0, 1.0, 1.0, 1.0, 1.0, 1.0, 1.0, 1.0, 1.0, 1.0, 1.0, 1.0, 1.0, 1.0, 1.0, 1.0, 1.0, 1.0, 1.0, 1.0, 2.0, 3.0, 1.0, 1.0, 1.0, 3.0, 1.0, 1.0, 1.0, 1.0, 1.0, 1.0, 1.0, 1.0, 2.0, 1.0, 1.0, 3.0, 1.0, 1.0, 1.0, 1.0, 1.0, 1.0, 1.0, 1.0, 1.0, 1.0, 1.0, 1.0, 1.0, 1.0, 1.0, 1.0, 1.0, 2.0, 1.0, 1.0, 1.0, 2.0, 2.0, 1.0, 1.0, 1.0, 1.0, 1.0, 1.0, 1.0, 1.0, 1.0, 1.0, 1.0, 1.0, 1.0, 1.0, 1.0, 1.0, 1.0, 1.0, 1.0, 1.0, 1.0, 1.0, 1.0, 1.0, 1.0, 1.0, 1.0, 1.0, 1.0, 1.0, 3.0, 1.0, 1.0, 1.0, 1.0, 1.0, 1.0, 1.0, 20.0, 1.0, 1.0, 1.0, 1.0, 1.0, 1.0, 1.0, 1.0, 2.0, 1.0, 1.0, 1.0, 1.0, 1.0, 1.0, 1.0, 1.0, 1.0, 1.0, 1.0, 1.0, 1.0, 1.0, 1.0, 1.0, 1.0, 1.0, 1.0, 1.0, 1.0, 1.0, 1.0, 2.0, 1.0, 1.0, 3.0, 1.0, 1.0, 1.0, 1.0, 1.0, 1.0, 1.0, 1.0, 2.0, 1.0, 1.0, 1.0, 1.0, 1.0, 2.0, 1.0, 1.0, 1.0, 1.0, 1.0, 1.0, 1.0, 1.0, 1.0, 1.0, 1.0, 1.0, 1.0, 1.0, 1.0, 1.0, 1.0, 1.0, 1.0, 1.0, 1.0, 1.0, 1.0, 1.0, 1.0, 1.0, 1.0, 1.0, 1.0, 1.0, 1.0, 1.0, 4.0, 2.0, 1.0, 1.0, 1.0, 1.0, 1.0, 1.0, 2.0, 1.0, 1.0, 1.0, 1.0, 1.0, 1.0, 1.0, 1.0, 1.0, 1.0, 1.0, 1.0, 1.0, 1.0, 1.0, 1.0, 1.0, 1.0, 1.0, 2.0, 1.0, 1.0, 1.0, 1.0, 1.0, 1.0, 1.0, 1.0, 1.0, 1.0, 1.0, 1.0, 1.0, 1.0, 1.0, 1.0, 1.0, 1.0, 1.0, 1.0, 2.0, 1.0, 1.0, 1.0, 1.0, 1.0, 1.0, 1.0, 1.0, 1.0, 1.0, 1.0, 1.0, 1.0, 1.0, 1.0, 1.0, 2.0, 1.0, 1.0, 1.0, 1.0, 1.0, 3.0, 2.0, 1.0, 2.0, 1.0, 1.0, 1.0, 1.0, 1.0, 3.0, 2.0, 1.0, 1.0, 1.0, 1.0, 1.0, 1.0, 1.0, 1.0, 1.0, 1.0, 1.0, 1.0, 4.0, 1.0, 2.0, 1.0, 1.0, 1.0, 1.0, 1.0, 1.0, 1.0, 1.0, 1.0, 1.0, 1.0, 1.0, 2.0, 1.0, 1.0, 1.0, 2.0, 1.0, 1.0, 1.0, 1.0, 1.0, 1.0, 1.0, 1.0, 1.0, 1.0, 1.0, 1.0, 1.0, 1.0, 2.0, 1.0, 1.0, 1.0, 1.0, 1.0, 1.0, 1.0, 1.0, 1.0, 1.0, 1.0, 1.0, 1.0, 1.0, 1.0, 1.0, 1.0, 1.0, 1.0, 1.0, 1.0, 1.0, 1.0, 1.0, 1.0, 1.0, 2.0, 1.0, 1.0, 2.0, 1.0, 1.0, 1.0, 1.0, 1.0, 1.0, 1.0, 1.0, 1.0, 1.0, 1.0, 1.0, 1.0, 1.0, 1.0, 2.0, 1.0, 1.0, 1.0, 1.0, 1.0, 1.0, 1.0, 1.0, 1.0, 1.0, 1.0, 1.0, 1.0, 1.0, 2.0, 2.0, 1.0, 3.0, 1.0, 1.0, 1.0, 1.0, 1.0, 3.0, 1.0, 2.0, 1.0, 2.0, 1.0, 1.0, 1.0, 1.0, 1.0, 1.0, 1.0, 1.0, 1.0, 1.0, 1.0, 1.0, 1.0, 3.0, 1.0, 1.0, 1.0, 1.0, 1.0, 1.0, 1.0, 1.0, 1.0, 2.0, 1.0, 1.0, 1.0, 1.0, 1.0, 1.0, 1.0, 1.0, 1.0, 1.0, 1.0, 1.0, 1.0, 1.0, 2.0, 1.0, 1.0, 1.0, 1.0, 1.0, 3.0, 1.0, 1.0, 1.0, 1.0, 1.0, 1.0, 1.0, 1.0, 2.0, 1.0, 1.0, 1.0, 1.0, 1.0, 1.0, 2.0, 1.0, 1.0, 1.0, 1.0, 1.0, 1.0, 1.0, 1.0, 1.0, 1.0, 1.0, 2.0, 1.0, 1.0, 1.0, 1.0, 1.0, 4.0, 1.0, 1.0, 1.0, 1.0, 1.0, 1.0, 1.0, 1.0, 1.0, 1.0, 1.0, 1.0, 2.0, 1.0, 1.0, 1.0, 1.0, 1.0, 1.0, 1.0, 1.0, 1.0, 1.0, 1.0, 1.0, 1.0, 4.0, 2.0, 1.0, 1.0, 1.0, 1.0, 2.0, 1.0, 1.0, 1.0, 1.0, 1.0, 1.0, 1.0, 2.0, 1.0, 1.0, 1.0, 1.0, 1.0, 1.0, 1.0, 1.0, 1.0, 1.0, 1.0, 1.0, 1.0, 1.0, 1.0, 1.0, 1.0, 1.0, 1.0, 1.0, 1.0, 1.0, 1.0, 1.0, 1.0, 1.0, 2.0, 1.0, 1.0, 1.0, 1.0, 1.0, 1.0, 1.0, 1.0, 1.0, 1.0, 1.0, 1.0, 1.0, 1.0, 1.0, 1.0, 1.0, 1.0, 1.0, 1.0, 2.0, 1.0, 1.0, 1.0, 1.0, 1.0, 1.0, 1.0, 1.0, 1.0, 1.0, 1.0, 1.0, 1.0, 1.0, 1.0, 1.0, 1.0, 1.0, 1.0, 2.0, 1.0, 1.0, 1.0, 1.0, 1.0, 1.0, 1.0, 1.0, 1.0, 1.0, 1.0, 1.0, 1.0, 1.0, 1.0, 1.0, 1.0, 1.0, 1.0, 1.0, 1.0, 2.0, 1.0, 1.0, 1.0, 1.0, 1.0, 1.0, 1.0, 1.0, 2.0, 1.0, 1.0, 1.0, 2.0, 1.0, 1.0, 1.0, 1.0, 1.0, 1.0, 1.0, 1.0, 1.0, 1.0, 1.0, 1.0, 1.0, 1.0, 1.0, 1.0, 1.0, 1.0, 2.0, 1.0, 1.0, 1.0, 1.0, 2.0, 2.0, 1.0, 1.0, 1.0, 1.0, 1.0, 1.0, 1.0, 1.0, 1.0, 1.0, 1.0, 1.0, 1.0, 2.0, 1.0, 1.0, 2.0, 2.0, 1.0, 1.0, 1.0, 1.0, 1.0, 1.0, 1.0, 1.0, 1.0, 1.0, 1.0, 1.0, 1.0, 1.0, 1.0, 1.0, 7.0, 1.0, 1.0, 1.0, 1.0, 1.0, 1.0, 1.0, 1.0, 1.0, 2.0, 1.0, 1.0, 1.0, 1.0, 1.0, 1.0, 1.0, 1.0, 1.0, 1.0, 1.0, 1.0, 1.0, 1.0, 1.0, 1.0, 1.0, 2.0, 2.0, 1.0, 1.0, 1.0, 1.0, 1.0, 1.0, 1.0, 1.0, 1.0, 1.0, 1.0, 1.0, 1.0, 1.0, 1.0, 1.0, 1.0, 1.0, 1.0, 2.0, 1.0, 1.0, 3.0, 1.0, 1.0, 1.0, 1.0, 2.0, 1.0, 1.0, 1.0, 1.0, 1.0, 1.0, 1.0, 3.0, 1.0, 3.0, 1.0, 1.0, 1.0, 1.0, 1.0, 1.0, 1.0, 1.0, 1.0, 1.0, 1.0, 1.0, 1.0, 1.0, 1.0, 1.0, 1.0, 1.0, 1.0, 2.0, 1.0, 1.0, 1.0, 1.0, 1.0, 2.0, 2.0, 1.0, 1.0, 1.0, 1.0, 1.0, 1.0, 1.0, 1.0, 1.0, 1.0, 1.0, 1.0, 1.0, 1.0, 2.0, 1.0, 1.0, 1.0, 1.0, 1.0, 1.0, 1.0, 1.0, 1.0, 1.0, 1.0, 1.0, 1.0, 1.0, 1.0, 1.0, 1.0, 1.0, 1.0, 1.0, 1.0, 1.0, 1.0, 1.0, 1.0, 1.0, 1.0, 1.0, 1.0, 1.0, 1.0, 1.0, 1.0, 1.0, 1.0, 1.0, 1.0, 1.0, 1.0, 1.0, 1.0, 1.0, 1.0, 1.0, 1.0, 1.0, 1.0, 1.0, 1.0, 1.0, 1.0, 1.0, 3.0, 2.0, 1.0, 1.0, 1.0, 1.0, 1.0, 1.0, 1.0, 1.0, 1.0, 1.0, 1.0, 1.0, 1.0, 2.0, 1.0, 1.0, 1.0, 1.0, 1.0, 1.0, 1.0, 1.0, 1.0, 1.0, 1.0, 1.0, 1.0, 1.0, 1.0, 1.0, 2.0, 1.0, 1.0, 2.0, 2.0, 1.0, 1.0, 1.0, 1.0, 1.0, 1.0, 1.0, 1.0, 1.0, 1.0, 1.0, 4.0, 1.0, 1.0, 1.0, 1.0, 1.0, 1.0, 2.0, 1.0, 1.0, 3.0, 1.0, 1.0, 1.0, 1.0, 2.0, 1.0, 1.0, 1.0, 1.0, 1.0, 1.0, 1.0, 2.0, 1.0]\n",
            "outliers in column  RevolvingCreditBalance  have outlier  [153812.0, 241819.0, 152934.0, 125404.0, 256787.0, 137172.0, 225667.0, 159508.0, 123252.0, 143436.0, 148594.0, 113816.0, 121983.0, 117168.0, 164872.0, 128068.0, 191946.0, 255347.0, 118595.0, 223538.0, 142353.0, 354466.0, 395463.0, 309723.0, 113146.0, 159326.0, 152416.0, 125636.0, 174723.0, 141193.0, 158664.0, 253282.0, 113918.0, 235785.0, 199007.0, 146116.0, 188153.0, 135967.0, 155781.0, 192420.0, 114333.0, 228611.0, 122630.0, 146031.0, 128025.0, 120719.0, 123911.0, 139888.0, 148823.0, 118854.0, 376176.0, 227633.0, 244039.0, 208599.0, 341836.0, 173969.0, 265717.0, 147759.0, 163402.0, 230812.0, 753997.0, 196441.0, 124419.0, 192112.0, 177275.0, 149586.0, 199741.0, 149170.0, 179432.0, 243897.0, 577131.0, 131711.0, 240457.0, 196711.0, 161143.0, 117596.0, 147150.0, 134160.0, 357588.0, 360130.0, 124978.0, 118567.0, 191200.0, 183616.0, 155338.0, 114245.0, 382464.0, 214870.0, 113927.0, 132560.0, 114938.0, 405037.0, 205484.0, 164227.0, 159776.0, 124227.0, 298813.0, 136997.0, 133076.0, 122358.0, 159889.0, 149957.0, 173646.0, 118847.0, 449903.0, 122800.0, 130003.0, 171676.0, 125464.0, 161612.0, 139064.0, 223098.0, 133679.0, 139573.0, 209740.0, 166686.0, 184085.0, 134218.0, 122685.0, 125230.0, 129744.0, 151807.0, 396974.0, 450917.0, 127252.0, 176420.0, 152898.0, 124621.0, 127057.0, 277236.0, 289126.0, 158167.0, 178608.0, 116412.0, 130025.0, 194117.0, 278583.0, 124450.0, 300675.0, 136269.0, 163590.0, 157740.0, 177664.0, 201015.0, 125282.0, 152979.0, 253249.0, 178066.0, 152829.0, 127721.0, 141430.0, 184275.0, 135506.0, 232887.0, 240951.0, 166346.0, 168230.0, 229527.0, 316797.0, 212049.0, 278478.0, 226097.0, 241107.0, 126214.0, 128410.0, 123566.0, 137017.0, 122879.0, 136837.0, 201226.0, 277299.0, 133452.0, 182841.0, 158710.0, 207492.0, 138140.0, 132591.0, 128377.0, 167532.0, 131530.0, 401603.0, 132589.0, 118865.0, 176894.0, 206270.0, 318694.0, 159742.0, 231972.0, 301321.0, 144476.0, 123671.0, 120555.0, 113829.0, 140177.0, 250699.0, 124175.0, 136618.0, 275805.0, 135162.0, 128726.0, 187157.0, 117167.0, 128291.0, 136264.0, 121390.0, 256791.0, 160074.0, 324523.0, 119201.0, 146123.0, 202903.0, 226724.0, 119582.0, 167442.0, 306861.0, 192206.0, 149915.0, 878859.0, 208890.0, 618863.0, 129365.0, 113322.0, 128591.0, 164170.0, 188779.0, 127921.0, 114321.0, 252027.0, 130608.0, 139396.0, 138162.0, 153352.0, 137070.0, 125008.0, 115962.0, 304573.0, 115719.0, 136983.0, 146548.0, 134384.0, 124841.0, 136204.0, 119664.0, 293785.0, 293496.0, 123492.0, 151604.0, 163260.0, 170653.0, 138363.0, 131478.0, 168783.0, 118003.0, 114980.0, 159101.0, 124957.0, 125838.0, 196000.0, 177396.0, 222357.0, 126759.0, 127124.0, 198530.0, 431581.0, 141168.0, 130530.0, 152738.0, 227156.0, 153178.0, 288847.0, 235139.0, 127137.0, 138815.0, 287431.0, 155675.0, 288284.0, 134105.0, 206383.0, 879785.0, 151192.0, 121205.0, 192718.0, 206114.0, 226914.0, 116675.0, 269092.0, 241114.0, 143841.0, 118182.0, 256162.0, 130460.0, 122730.0, 130586.0, 125062.0, 154274.0, 257784.0, 154254.0, 378116.0, 127355.0, 123843.0, 173497.0, 143027.0, 145849.0, 125698.0, 128555.0, 239748.0, 118486.0, 178835.0, 149840.0, 206613.0, 191643.0, 117608.0, 142818.0, 186199.0, 372897.0, 569518.0, 152955.0, 157886.0, 139150.0, 158111.0, 377716.0, 131589.0, 213502.0, 177079.0, 128525.0, 143927.0, 120614.0, 170453.0, 131676.0, 194199.0, 126220.0, 148987.0, 184459.0, 124493.0, 150005.0, 168552.0, 138781.0, 133898.0, 113410.0, 172476.0, 157782.0, 141642.0, 135590.0, 149934.0, 182192.0, 119409.0, 120973.0, 188399.0, 177976.0, 406511.0, 167361.0, 169621.0, 137766.0, 139075.0, 118140.0, 159706.0, 211448.0, 271388.0, 214703.0, 127391.0, 198970.0, 228585.0, 189159.0, 212531.0, 166698.0, 184696.0, 126444.0, 283697.0, 134760.0, 144859.0, 161755.0, 312228.0, 121277.0, 117318.0, 201592.0, 192909.0, 200148.0, 160786.0, 206575.0, 355113.0, 119296.0, 138500.0, 217555.0, 122958.0, 158416.0, 154044.0, 127722.0, 128793.0, 201083.0, 138198.0, 157889.0, 173536.0, 460967.0, 284656.0, 136777.0, 224163.0, 132279.0, 140549.0, 237733.0, 202046.0, 120304.0, 204736.0, 202843.0, 120611.0, 117170.0, 173257.0, 177274.0, 393598.0, 178292.0, 117067.0, 135843.0, 215849.0, 240101.0, 165119.0, 144039.0, 244905.0, 255917.0, 175055.0, 116007.0, 198900.0, 243756.0, 182554.0, 166586.0, 122229.0, 121035.0, 254434.0, 120051.0, 139332.0, 339209.0, 114392.0, 169198.0, 134982.0, 113495.0, 328545.0, 135687.0, 120411.0, 163016.0, 167520.0, 190379.0, 123839.0, 375941.0, 130890.0, 235360.0, 202286.0, 144735.0, 169083.0, 115369.0, 304792.0, 135911.0, 120775.0, 146336.0, 125537.0, 154192.0, 173302.0, 124590.0, 498807.0, 131024.0, 164043.0, 143427.0, 261292.0, 138348.0, 219609.0, 120100.0, 150510.0, 117418.0, 119647.0, 118298.0, 121977.0, 137542.0, 401955.0, 168767.0, 223085.0, 203945.0, 120322.0, 302197.0, 123356.0, 177366.0, 246710.0, 242108.0, 195495.0, 275406.0, 161175.0, 134503.0, 139948.0, 681968.0, 125271.0, 135877.0, 281787.0, 164360.0, 376960.0, 116302.0, 142020.0, 141306.0, 528796.0, 141574.0, 294510.0, 273267.0, 137868.0, 151182.0, 223306.0, 139772.0, 134038.0, 114853.0, 189823.0, 164399.0, 120230.0, 126801.0, 473083.0, 236788.0, 187652.0, 125416.0, 113732.0, 115436.0, 134210.0, 129136.0, 214109.0, 124505.0, 123229.0, 499640.0, 121739.0, 449225.0, 188449.0, 125500.0, 213455.0, 231249.0, 222300.0, 216807.0, 244852.0, 195409.0, 178440.0, 334216.0, 172002.0, 234092.0, 208754.0, 976426.0, 120613.0, 115500.0, 201506.0, 120439.0, 378349.0, 117291.0, 181644.0, 132762.0, 206625.0, 238079.0, 151143.0, 142291.0, 113931.0, 154323.0, 113981.0, 156505.0, 127011.0, 136344.0, 205759.0, 388942.0, 147735.0, 182903.0, 130251.0, 158127.0, 127559.0, 450722.0, 198509.0, 128441.0, 158220.0, 129952.0, 228204.0, 140565.0, 149885.0, 190498.0, 409183.0, 178871.0, 238128.0, 118500.0, 426644.0, 164853.0, 122513.0, 142543.0, 188760.0, 250377.0, 123145.0, 137360.0, 130387.0, 186547.0, 190108.0, 155795.0, 126277.0, 120003.0, 597122.0, 155635.0, 134059.0, 355454.0, 365531.0, 190770.0, 170407.0, 279796.0, 180549.0, 130263.0, 126682.0, 144041.0, 121140.0, 122845.0, 657033.0, 170520.0, 126966.0, 130609.0, 128677.0, 132261.0, 146860.0, 130530.0, 182705.0, 279330.0, 131580.0, 150983.0, 114705.0, 121647.0, 186425.0, 128633.0, 473631.0, 198150.0, 152855.0, 193613.0, 113829.0, 113499.0, 146965.0, 197479.0, 189608.0, 251922.0, 260721.0, 309650.0, 296115.0, 117002.0, 207460.0, 337034.0, 220813.0, 151066.0, 164734.0, 181461.0, 172277.0, 172446.0, 401725.0, 212063.0, 165656.0, 127557.0, 122690.0, 141457.0, 137025.0, 350809.0, 143613.0, 120119.0, 311545.0, 279118.0, 232011.0, 122670.0, 600223.0, 361394.0, 131040.0, 132152.0, 287980.0, 144666.0, 573692.0, 372460.0, 135268.0, 147502.0, 423162.0, 114696.0, 1433328.0, 140878.0, 323903.0, 248955.0, 157383.0, 128875.0, 139233.0, 115896.0, 151487.0, 139558.0, 401950.0, 193999.0, 145797.0, 122545.0, 433138.0, 875255.0, 153369.0, 257927.0, 132641.0, 516303.0, 183590.0, 247810.0, 126585.0, 221287.0, 169544.0, 156909.0, 136002.0, 379981.0, 116777.0, 235639.0, 138704.0, 202024.0, 181750.0, 249783.0, 662645.0, 149031.0, 115325.0, 199292.0, 125580.0, 161549.0, 115009.0, 175856.0, 204524.0, 115746.0, 173302.0, 293529.0, 130251.0, 356711.0, 238537.0, 227011.0, 271858.0, 154607.0, 230283.0, 193051.0, 274034.0, 570817.0, 181916.0, 239883.0, 117051.0, 252706.0, 190225.0, 371761.0, 321198.0, 270868.0, 117880.0, 120548.0, 150857.0, 662645.0, 273676.0, 143056.0, 186995.0, 126382.0, 117354.0, 119699.0, 217302.0, 134426.0, 164255.0, 123800.0, 181452.0, 152382.0, 159417.0, 375044.0, 114727.0, 143335.0, 121372.0, 126873.0, 189010.0, 486503.0, 146237.0, 149203.0, 150397.0, 201569.0, 284279.0, 157332.0, 176231.0, 217770.0, 146426.0, 117139.0, 242707.0, 416568.0, 298354.0, 148992.0, 301368.0, 123119.0, 454964.0, 170994.0, 179065.0, 170385.0, 291159.0, 138675.0, 191833.0, 300143.0, 267999.0, 154908.0, 251394.0, 142569.0, 141496.0, 145822.0, 172205.0, 141999.0, 280357.0, 122163.0, 257813.0, 195458.0, 173087.0, 156339.0, 123611.0, 166097.0, 165696.0, 452085.0, 297175.0, 270761.0, 141309.0, 242861.0, 118416.0, 257237.0, 249703.0, 185200.0, 153069.0, 163783.0, 181255.0, 121329.0, 131874.0, 129672.0, 135630.0, 139053.0, 244577.0, 148243.0, 125016.0, 126674.0, 206844.0, 131840.0, 122871.0, 231772.0, 115180.0, 135973.0, 218808.0, 166527.0, 265850.0, 262057.0, 119775.0, 143473.0, 251705.0, 209250.0, 126250.0, 128747.0, 119524.0, 124154.0, 139142.0, 241848.0, 256438.0, 268206.0, 373230.0, 183749.0, 145374.0, 140782.0, 198768.0, 149756.0, 224564.0, 117920.0, 376460.0, 119647.0, 161353.0, 122335.0, 261433.0, 128973.0, 180495.0, 167668.0, 344673.0, 171379.0, 177117.0, 199948.0, 290858.0, 158662.0, 135187.0, 157473.0, 115250.0, 114197.0, 361874.0, 164873.0, 197135.0, 167908.0, 123206.0, 137131.0, 176604.0, 147172.0, 460885.0, 114211.0, 240334.0, 345041.0, 197554.0, 350844.0, 202459.0, 152791.0, 241012.0, 369901.0, 127640.0, 441029.0, 133141.0, 223582.0, 118028.0, 145317.0, 213325.0, 114658.0, 196921.0, 113289.0, 125408.0, 381892.0, 124267.0, 124904.0, 126001.0, 126424.0, 414997.0, 115950.0, 245640.0, 161303.0, 193305.0, 138589.0, 227493.0, 151824.0, 127504.0, 141257.0, 187270.0, 161156.0, 149343.0, 272559.0, 133269.0, 503513.0, 155389.0, 317940.0, 174976.0, 151207.0, 158745.0, 133615.0, 199961.0, 116424.0, 124659.0, 118793.0, 277431.0, 194846.0, 266243.0, 340589.0, 129060.0, 113797.0, 146493.0, 267684.0, 281238.0, 226275.0, 114087.0, 116928.0, 116928.0, 194190.0, 118315.0, 158374.0, 187398.0, 286429.0, 122931.0, 149748.0, 141231.0, 146738.0, 217378.0, 143140.0, 143514.0, 132244.0, 178661.0, 213645.0, 256826.0, 188854.0, 149465.0, 140717.0, 133759.0, 124331.0, 486238.0, 319359.0, 239608.0, 131421.0, 417131.0, 281672.0, 116742.0, 188594.0, 130903.0, 175577.0, 335102.0, 183569.0, 194502.0, 527602.0, 122616.0, 175772.0, 163890.0, 176932.0, 149176.0, 357318.0, 351497.0, 305598.0, 156313.0, 304813.0, 151953.0, 191439.0, 558969.0, 139157.0, 125554.0, 307455.0, 258406.0, 118783.0, 128673.0, 233319.0, 141646.0, 164203.0, 147193.0, 129445.0, 118235.0, 147666.0, 233295.0, 190375.0, 129416.0, 273988.0, 140177.0, 246685.0, 113958.0, 142062.0, 127215.0, 116686.0, 141060.0, 346389.0, 114806.0, 170914.0, 186328.0, 192609.0, 134276.0, 115276.0, 113087.0, 157212.0, 124757.0, 128712.0, 150566.0, 126412.0, 201822.0, 282027.0, 154128.0, 118691.0, 113956.0, 265111.0, 113790.0, 119422.0, 154367.0, 389097.0, 168894.0, 188170.0, 236250.0, 1435667.0, 133298.0, 512559.0, 128824.0, 146113.0, 247776.0, 168821.0, 161534.0, 194298.0, 115988.0, 166001.0, 169215.0, 429908.0, 131182.0, 135915.0, 136978.0, 117038.0, 154307.0, 168702.0, 141070.0, 149714.0, 162288.0, 479130.0, 162410.0, 137406.0, 234427.0, 129349.0, 199815.0, 239867.0, 138678.0, 265487.0, 119285.0, 179713.0, 161792.0, 124755.0, 182823.0, 384213.0, 154935.0, 225603.0, 126321.0, 156895.0, 200722.0, 122097.0, 204758.0, 115781.0, 221703.0, 185050.0, 153036.0, 142285.0, 218245.0, 214055.0, 176011.0, 116280.0, 113996.0, 116785.0, 379524.0, 212604.0, 146127.0, 167499.0, 192573.0, 127194.0, 124097.0, 144872.0, 200054.0, 176707.0, 187006.0, 145605.0, 171809.0, 115726.0, 389606.0, 265702.0, 119702.0, 130888.0, 160140.0, 124217.0, 116420.0, 175867.0, 368877.0, 134096.0, 180950.0, 118510.0, 145111.0, 125215.0, 117656.0, 124264.0, 221789.0, 270342.0, 194433.0, 145245.0, 189860.0, 212251.0, 248115.0, 123873.0, 194527.0, 125722.0, 224480.0, 149347.0, 314936.0, 196960.0, 135126.0, 185769.0, 157111.0, 114070.0, 148012.0, 155856.0, 157956.0, 141647.0, 129225.0, 124097.0, 164268.0, 127400.0, 123066.0, 133496.0, 167325.0, 232740.0, 148135.0, 217671.0, 145085.0, 179579.0, 267987.0, 141973.0, 114637.0, 119871.0, 230253.0, 116258.0, 245640.0, 130835.0, 248089.0, 208020.0, 195393.0, 165042.0, 207702.0, 139085.0, 216765.0, 116559.0, 283369.0, 117365.0, 173937.0, 305294.0, 216148.0, 150000.0, 123853.0, 147001.0, 119422.0, 155509.0, 126030.0, 302980.0, 156875.0, 135811.0, 206230.0, 352877.0, 506883.0, 204555.0, 186733.0, 179183.0, 180025.0, 150205.0, 116928.0, 122273.0, 133348.0, 122795.0, 123279.0, 204487.0, 195429.0, 144519.0, 231663.0, 176681.0, 215447.0, 132071.0, 155511.0, 185392.0, 130094.0, 152488.0, 176469.0, 231881.0, 145690.0, 246873.0, 140016.0, 217352.0, 176046.0, 383186.0, 493300.0, 232137.0, 114810.0, 123576.0, 159330.0, 219467.0, 149729.0, 131015.0, 236320.0, 116896.0, 167180.0, 184359.0, 308095.0, 262224.0, 386825.0, 146242.0, 327304.0, 411629.0, 142721.0, 511387.0, 119930.0, 314051.0, 223850.0, 119468.0, 279668.0, 297490.0, 144761.0, 127319.0, 376598.0, 216671.0, 166956.0, 247843.0, 182391.0, 654260.0, 229051.0, 232828.0, 241925.0, 245795.0, 173509.0, 207403.0, 133994.0, 163968.0, 146587.0, 136503.0, 149565.0, 227136.0, 115126.0, 246528.0, 144103.0, 115809.0, 171090.0, 308503.0, 148972.0, 205887.0, 142198.0, 146959.0, 143516.0, 125880.0, 165653.0, 207501.0, 152941.0, 262120.0, 226721.0, 139417.0, 118000.0, 269073.0, 114934.0, 166875.0, 129441.0, 138649.0, 123573.0, 154843.0, 144291.0, 217181.0, 151547.0, 126476.0, 234865.0, 122048.0, 125726.0, 113371.0, 294463.0, 170233.0, 133151.0, 252712.0, 117512.0, 237689.0, 227782.0, 276823.0, 277738.0, 184362.0, 147942.0, 182967.0, 134287.0, 209551.0, 136857.0, 120663.0, 153843.0, 187728.0, 139345.0, 191762.0, 158795.0, 114312.0, 122639.0, 202267.0, 171019.0, 124022.0, 192979.0, 151665.0, 161611.0, 168712.0, 158819.0, 117976.0, 117909.0, 151980.0, 359647.0, 123581.0, 132507.0, 125119.0, 254133.0, 143243.0, 148419.0, 196198.0, 322748.0, 140440.0, 196952.0, 292078.0, 251671.0, 140420.0, 118124.0, 224571.0, 149294.0, 114917.0, 170023.0, 182774.0, 220480.0, 201060.0, 129542.0, 261288.0, 258282.0, 247687.0, 124924.0, 172744.0, 157205.0, 120309.0, 115463.0, 125349.0, 158811.0, 130258.0, 184024.0, 194137.0, 150666.0, 139005.0, 167710.0, 204145.0, 126553.0, 122760.0, 913922.0, 132672.0, 118083.0, 156528.0, 180737.0, 123885.0, 175559.0, 171903.0, 137909.0, 363779.0, 135634.0, 310525.0, 135078.0, 150462.0, 124844.0, 204864.0, 161511.0, 126067.0, 165290.0, 120126.0, 136669.0, 194999.0, 176919.0, 999165.0, 131328.0, 205897.0, 162519.0, 668848.0, 145820.0, 146345.0, 235653.0, 306495.0, 152768.0, 184939.0, 273433.0, 182520.0, 163491.0, 113122.0, 177569.0, 117677.0, 170578.0, 160083.0, 136376.0, 185400.0, 196166.0, 116878.0, 118546.0, 123339.0, 641412.0, 157210.0, 143169.0, 168491.0, 133537.0, 254476.0, 220093.0, 170977.0, 120522.0, 370382.0, 252169.0, 154062.0, 137831.0, 158431.0, 137972.0, 165639.0, 209517.0, 156901.0, 483511.0, 119582.0, 240058.0, 434047.0, 198168.0, 188131.0, 131744.0, 121436.0, 119091.0, 146108.0, 128073.0, 220565.0, 115569.0, 138092.0, 129324.0, 125407.0, 127300.0, 176716.0, 175625.0, 175881.0, 333599.0, 124474.0, 196345.0, 156074.0, 186927.0, 215269.0, 564012.0, 196789.0, 319473.0, 201390.0, 113088.0, 137453.0, 164764.0, 209138.0, 161229.0, 131457.0, 150865.0, 116291.0, 178721.0, 266914.0, 197974.0, 117877.0, 140744.0, 164275.0, 188100.0, 176144.0, 116032.0, 114761.0, 192095.0, 152011.0, 242880.0, 155703.0, 133678.0, 133373.0, 146552.0, 344458.0, 232131.0, 192985.0, 169407.0, 120197.0, 166410.0, 262103.0, 127493.0, 285794.0, 127087.0, 221671.0, 154921.0, 190821.0, 198714.0, 268924.0, 249035.0, 123154.0, 221788.0, 116506.0, 142328.0, 139074.0, 374157.0, 126427.0, 250534.0, 211901.0, 141308.0, 194550.0, 195194.0, 214633.0, 142543.0, 389694.0, 154798.0, 155458.0, 247787.0, 227661.0, 158855.0, 125540.0, 153074.0, 149438.0, 119726.0, 258125.0, 147374.0, 113413.0, 272977.0, 126430.0, 252828.0, 305088.0, 173430.0, 113505.0, 115728.0, 209297.0, 130643.0, 275103.0, 472772.0, 117170.0, 115632.0, 243516.0, 138215.0, 351946.0, 134178.0, 147238.0, 271555.0, 187032.0, 131867.0, 349373.0, 502622.0, 135365.0, 339065.0, 391271.0, 143979.0, 176990.0, 232828.0, 161306.0, 415572.0, 234421.0, 174264.0, 123531.0, 147006.0, 123423.0, 167019.0, 115312.0, 174656.0, 123712.0, 256162.0, 299884.0, 114848.0, 125658.0, 136600.0, 126802.0, 123109.0, 120271.0, 238317.0, 135407.0, 274645.0, 181708.0, 118276.0, 125514.0, 250246.0, 140522.0, 113599.0, 159796.0, 166295.0, 158764.0, 251147.0, 344630.0, 121684.0, 143550.0, 115620.0, 157312.0, 256714.0, 148586.0, 284704.0, 125865.0, 241855.0, 122453.0, 119223.0, 142692.0, 474130.0, 153464.0, 232463.0, 232463.0, 251103.0, 168539.0, 155665.0, 206708.0, 374146.0, 123924.0, 242810.0, 125707.0, 160595.0, 149049.0, 266664.0, 225188.0, 114151.0, 229318.0, 557769.0, 145245.0, 171674.0, 218011.0, 113885.0, 210068.0, 206172.0, 147844.0, 155880.0, 153831.0, 350683.0, 113100.0, 218991.0, 135665.0, 150362.0, 160862.0, 288936.0, 138422.0, 119658.0, 120814.0, 140760.0, 173635.0, 465504.0, 196026.0, 130447.0, 135814.0, 174007.0, 212645.0, 113779.0, 148627.0, 192227.0, 145917.0, 141033.0, 321999.0, 125794.0, 165552.0, 114891.0, 302687.0, 188379.0, 189267.0, 149359.0, 161010.0, 238962.0, 160575.0, 879891.0, 143694.0, 297375.0, 116324.0, 361810.0, 379349.0, 127410.0, 133859.0, 216776.0, 183733.0, 217513.0, 169211.0, 115738.0, 163057.0, 245000.0, 206301.0, 139330.0, 197976.0, 113233.0, 279950.0, 293378.0, 113969.0, 264721.0, 123708.0, 114577.0, 153045.0, 147750.0, 136158.0, 164573.0, 222591.0, 131153.0, 119063.0, 157892.0, 131983.0, 263864.0, 185189.0, 139024.0, 165987.0, 177749.0, 144955.0, 135774.0, 122860.0, 113816.0, 124159.0, 205157.0, 185403.0, 349180.0, 239190.0, 122098.0, 260007.0, 152634.0, 352695.0, 230416.0, 131990.0, 181435.0, 381666.0, 147674.0, 261939.0, 250548.0, 242289.0, 283083.0, 118463.0, 228920.0, 735935.0, 116278.0, 282154.0, 149927.0, 180649.0, 198663.0, 156992.0, 180442.0, 141460.0, 148488.0, 161259.0, 122814.0, 179066.0, 116985.0, 205914.0, 614123.0, 149641.0, 145003.0, 119519.0, 135921.0, 122121.0, 186592.0, 254719.0, 157165.0, 303793.0, 144341.0, 198715.0, 185258.0, 169255.0, 133946.0, 121354.0, 137752.0, 121501.0, 192650.0, 166257.0, 265446.0, 124222.0, 429848.0, 186154.0, 113755.0, 201819.0, 234836.0, 151349.0, 122712.0, 114787.0, 253018.0, 121547.0, 164057.0, 192326.0, 223662.0, 166364.0, 117055.0, 167490.0, 204324.0, 251113.0, 132664.0, 164132.0, 127548.0, 173221.0, 337621.0, 124662.0, 133686.0, 133842.0, 683603.0, 200875.0, 205684.0, 204263.0, 132191.0, 217440.0, 180762.0, 157404.0, 404308.0, 133202.0, 120068.0, 473243.0, 159835.0, 120397.0, 137254.0, 118195.0, 139354.0, 139116.0, 141941.0, 183644.0, 120739.0, 172402.0, 327267.0, 188431.0, 129888.0, 158582.0, 270281.0, 336723.0, 289712.0, 116183.0, 187397.0, 147930.0, 124399.0, 172839.0, 156634.0, 147030.0, 242905.0, 117610.0, 221949.0, 205059.0, 450267.0, 332239.0, 128478.0, 138248.0, 124636.0, 134053.0, 115266.0, 193149.0, 125900.0, 116022.0, 877847.0, 203186.0, 132276.0, 124016.0, 218445.0, 117237.0, 179713.0, 128856.0, 122513.0, 127522.0, 369761.0, 120132.0, 162900.0, 280926.0, 298516.0, 172051.0, 184419.0, 136070.0, 171041.0, 141157.0]\n",
            "outliers in column  BankcardUtilization  have outlier  [1.59, 4.73, 1.54, 1.61, 1.81, 1.75, 1.76, 1.65, 1.51, 1.57, 1.62, 1.5, 5.95, 1.54, 1.86, 1.86, 1.8, 2.66, 2.36, 1.78, 1.51, 1.51, 1.63, 1.79, 1.99, 2.35, 1.6, 1.5, 1.52, 1.5, 1.66, 1.89, 1.86, 1.58, 2.05, 1.54, 1.53, 1.97, 1.57, 1.6, 1.75, 3.47, 2.68, 1.79, 5.83, 1.51, 2.46, 1.61, 1.9, 1.83, 1.82, 2.25, 1.52, 1.55, 1.5, 1.69, 1.73, 1.73, 1.62, 2.04, 1.65, 2.0, 2.27, 1.88, 1.7, 1.54, 2.07, 1.57, 2.5, 2.23, 1.52, 2.21, 1.65, 1.96, 1.53, 1.54, 1.5, 2.0, 1.84, 1.64, 1.51, 1.72, 1.99]\n",
            "outliers in column  AvailableBankcardCredit  have outlier  [86509.0, 77696.0, 77696.0, 90784.0, 69166.0, 84513.0, 76764.0, 103931.0, 110522.0, 73443.0, 136872.0, 107642.0, 69107.0, 86307.0, 72938.0, 145966.0, 143807.0, 76126.0, 80375.0, 77975.0, 100131.0, 226076.0, 85000.0, 79561.0, 75635.0, 82412.0, 83884.0, 107673.0, 73209.0, 83536.0, 360000.0, 112969.0, 127493.0, 110250.0, 72518.0, 94687.0, 73160.0, 70518.0, 76495.0, 84773.0, 117675.0, 84992.0, 74681.0, 72015.0, 70084.0, 99689.0, 78913.0, 82103.0, 154872.0, 126420.0, 143909.0, 151424.0, 80120.0, 119617.0, 93479.0, 69236.0, 69885.0, 89386.0, 80010.0, 83922.0, 90580.0, 86597.0, 138941.0, 129116.0, 87293.0, 76597.0, 89574.0, 134162.0, 68938.0, 73258.0, 73299.0, 70643.0, 130933.0, 81066.0, 71643.0, 81140.0, 87697.0, 79146.0, 99255.0, 73544.0, 115842.0, 132917.0, 80040.0, 87064.0, 158941.0, 96327.0, 71156.0, 147214.0, 183118.0, 101118.0, 86155.0, 82963.0, 73392.0, 149162.0, 91420.0, 94674.0, 74644.0, 86814.0, 118935.0, 77390.0, 69004.0, 115436.0, 142280.0, 74861.0, 83585.0, 70930.0, 89043.0, 73087.0, 85066.0, 107849.0, 94805.0, 73075.0, 84062.0, 73716.0, 71137.0, 82360.0, 90172.0, 91565.0, 87734.0, 143816.0, 175523.0, 70670.0, 99875.0, 137596.0, 182333.0, 74774.0, 130987.0, 73060.0, 79257.0, 90318.0, 73249.0, 81150.0, 210764.0, 151198.0, 202528.0, 91290.0, 100799.0, 83863.0, 113318.0, 73692.0, 89127.0, 71634.0, 123453.0, 75078.0, 150528.0, 100018.0, 167476.0, 82458.0, 102128.0, 97074.0, 133416.0, 129447.0, 76915.0, 80055.0, 285475.0, 77294.0, 80370.0, 150853.0, 73917.0, 101041.0, 70632.0, 100615.0, 80677.0, 75995.0, 107197.0, 120668.0, 71161.0, 98256.0, 69666.0, 75675.0, 123983.0, 86237.0, 71315.0, 69473.0, 70276.0, 93570.0, 72714.0, 102295.0, 148714.0, 92103.0, 72022.0, 163531.0, 94614.0, 116028.0, 101300.0, 71790.0, 70118.0, 70363.0, 69188.0, 82133.0, 69693.0, 75837.0, 359139.0, 72869.0, 71610.0, 70170.0, 116816.0, 90650.0, 107872.0, 73586.0, 79900.0, 102588.0, 83477.0, 78748.0, 81437.0, 107933.0, 105563.0, 73109.0, 74090.0, 83567.0, 183978.0, 124348.0, 146694.0, 102517.0, 72029.0, 92212.0, 85540.0, 74628.0, 207486.0, 110651.0, 80731.0, 149210.0, 129526.0, 75122.0, 136054.0, 73727.0, 68775.0, 92822.0, 95198.0, 73899.0, 94078.0, 121410.0, 78300.0, 75660.0, 71584.0, 69706.0, 72621.0, 74365.0, 98697.0, 70941.0, 124508.0, 85913.0, 79219.0, 116192.0, 70487.0, 123122.0, 73519.0, 91712.0, 70315.0, 165764.0, 83705.0, 125412.0, 83493.0, 77507.0, 76946.0, 118719.0, 71116.0, 77306.0, 110151.0, 69925.0, 116700.0, 91900.0, 132346.0, 76045.0, 89403.0, 119592.0, 149712.0, 128533.0, 70645.0, 250407.0, 94020.0, 73679.0, 166467.0, 75298.0, 79879.0, 100741.0, 98943.0, 81064.0, 105450.0, 84706.0, 87927.0, 118833.0, 141345.0, 160271.0, 93137.0, 134285.0, 99937.0, 146629.0, 68851.0, 187595.0, 82000.0, 85042.0, 81797.0, 102473.0, 112526.0, 78606.0, 96254.0, 82392.0, 95503.0, 74795.0, 98598.0, 107917.0, 71304.0, 116408.0, 177238.0, 92681.0, 93505.0, 69423.0, 74291.0, 86882.0, 82025.0, 78683.0, 157747.0, 201674.0, 85742.0, 87567.0, 82344.0, 84253.0, 169816.0, 73902.0, 154752.0, 78779.0, 69332.0, 92153.0, 90301.0, 130930.0, 121172.0, 78336.0, 134600.0, 69784.0, 113078.0, 83572.0, 70668.0, 112924.0, 217218.0, 70312.0, 79959.0, 70093.0, 69120.0, 114711.0, 129753.0, 76462.0, 127120.0, 143928.0, 72210.0, 75782.0, 73191.0, 83545.0, 70332.0, 75076.0, 129020.0, 91401.0, 85740.0, 93801.0, 148492.0, 95125.0, 101006.0, 79628.0, 72916.0, 92497.0, 101989.0, 77603.0, 130644.0, 77519.0, 83106.0, 217179.0, 117254.0, 82117.0, 122430.0, 79091.0, 80306.0, 85243.0, 143395.0, 108715.0, 99805.0, 112146.0, 77941.0, 111955.0, 92154.0, 69922.0, 76533.0, 94858.0, 138713.0, 148562.0, 114084.0, 74139.0, 86216.0, 80096.0, 96345.0, 78377.0, 71833.0, 83330.0, 93309.0, 74660.0, 82254.0, 71004.0, 82863.0, 90044.0, 77556.0, 136887.0, 80233.0, 124292.0, 77127.0, 96997.0, 131824.0, 119694.0, 96170.0, 75226.0, 171446.0, 74943.0, 83714.0, 73879.0, 91010.0, 70356.0, 115444.0, 134975.0, 73376.0, 89499.0, 86963.0, 127220.0, 116729.0, 101158.0, 73176.0, 88373.0, 87726.0, 70982.0, 213800.0, 104666.0, 75445.0, 80668.0, 107127.0, 140081.0, 69889.0, 135448.0, 74020.0, 75284.0, 76563.0, 124411.0, 76945.0, 71539.0, 95512.0, 73593.0, 72902.0, 76904.0, 73128.0, 94366.0, 86169.0, 200395.0, 71323.0, 148034.0, 76110.0, 98278.0, 76799.0, 182559.0, 81828.0, 143034.0, 646285.0, 246231.0, 70484.0, 123453.0, 105095.0, 105095.0, 105596.0, 120608.0, 96414.0, 85443.0, 72558.0, 86558.0, 75133.0, 111699.0, 81188.0, 162368.0, 155880.0, 162506.0, 125474.0, 91458.0, 71842.0, 109511.0, 71441.0, 79663.0, 109527.0, 74200.0, 125164.0, 114713.0, 118650.0, 108209.0, 127916.0, 70013.0, 84686.0, 115557.0, 271105.0, 93623.0, 109959.0, 91132.0, 97170.0, 95589.0, 70212.0, 80861.0, 73506.0, 124203.0, 81339.0, 69725.0, 100517.0, 241928.0, 129200.0, 106097.0, 91389.0, 90648.0, 168286.0, 81335.0, 71481.0, 123745.0, 77207.0, 87679.0, 239951.0, 74056.0, 96998.0, 82612.0, 95128.0, 74204.0, 77034.0, 85168.0, 177994.0, 80358.0, 169405.0, 74927.0, 74743.0, 121822.0, 85698.0, 114797.0, 83779.0, 72637.0, 169266.0, 163069.0, 69719.0, 127196.0, 92981.0, 77962.0, 100733.0, 116915.0, 134795.0, 119600.0, 129290.0, 80945.0, 82815.0, 87825.0, 145960.0, 72075.0, 80517.0, 69518.0, 71657.0, 89585.0, 97929.0, 71424.0, 90908.0, 89913.0, 102675.0, 118181.0, 113788.0, 172390.0, 102709.0, 76501.0, 69549.0, 112271.0, 100386.0, 70160.0, 96512.0, 79582.0, 108995.0, 70426.0, 77356.0, 80362.0, 102920.0, 198892.0, 80787.0, 227347.0, 71290.0, 104867.0, 77797.0, 74180.0, 75167.0, 105720.0, 103922.0, 79487.0, 167952.0, 71666.0, 91140.0, 88928.0, 86206.0, 122438.0, 106325.0, 105967.0, 83510.0, 108064.0, 131274.0, 181025.0, 89344.0, 105225.0, 163393.0, 72111.0, 80080.0, 82892.0, 116619.0, 105980.0, 110534.0, 350777.0, 147415.0, 80218.0, 78098.0, 86007.0, 89849.0, 69239.0, 232500.0, 90250.0, 77013.0, 108119.0, 97028.0, 72673.0, 82901.0, 97328.0, 161218.0, 107273.0, 69792.0, 78280.0, 78419.0, 76346.0, 86697.0, 70436.0, 175325.0, 71641.0, 69490.0, 69962.0, 136887.0, 74513.0, 106223.0, 74333.0, 89549.0, 77113.0, 74045.0, 74737.0, 82596.0, 97342.0, 89017.0, 75838.0, 74535.0, 172903.0, 79028.0, 91968.0, 87799.0, 129711.0, 87703.0, 91099.0, 74847.0, 102569.0, 71490.0, 101846.0, 118676.0, 86248.0, 116236.0, 72071.0, 126346.0, 75909.0, 76213.0, 73633.0, 72999.0, 77019.0, 115459.0, 92828.0, 108083.0, 92250.0, 89917.0, 76408.0, 75214.0, 69800.0, 75412.0, 96497.0, 117192.0, 77523.0, 108807.0, 110272.0, 80045.0, 71267.0, 85767.0, 72267.0, 77958.0, 71363.0, 82960.0, 81951.0, 76748.0, 78558.0, 125311.0, 85841.0, 76883.0, 72536.0, 99474.0, 83311.0, 116537.0, 129001.0, 85789.0, 71671.0, 86726.0, 72134.0, 160379.0, 71235.0, 117888.0, 145778.0, 85302.0, 120176.0, 74913.0, 69686.0, 79918.0, 92404.0, 364284.0, 80588.0, 89280.0, 92491.0, 463575.0, 69812.0, 81270.0, 89284.0, 71732.0, 80473.0, 84090.0, 98106.0, 161944.0, 101443.0, 137392.0, 70211.0, 118072.0, 70706.0, 91991.0, 77957.0, 77978.0, 80038.0, 84442.0, 72070.0, 80338.0, 94949.0, 87540.0, 92342.0, 413072.0, 400790.0, 477656.0, 97322.0, 69525.0, 83260.0, 112723.0, 360000.0, 118270.0, 203472.0, 97403.0, 87989.0, 84483.0, 159576.0, 76001.0, 135540.0, 74642.0, 77412.0, 122868.0, 70939.0, 86836.0, 144226.0, 81234.0, 87745.0, 71506.0, 94348.0, 94589.0, 83528.0, 403880.0, 74616.0, 72497.0, 99963.0, 88888.0, 87504.0, 125840.0, 75432.0, 81821.0, 101928.0, 96600.0, 79828.0, 90144.0, 98764.0, 70303.0, 75595.0, 81976.0, 91853.0, 74686.0, 238114.0, 83465.0, 71002.0, 95244.0, 134193.0, 130642.0, 101521.0, 107614.0, 133271.0, 73147.0, 124535.0, 92691.0, 91084.0, 82939.0, 116572.0, 69011.0, 109137.0, 85387.0, 82198.0, 94142.0, 100151.0, 120371.0, 178850.0, 75334.0, 80079.0, 117873.0, 80340.0, 173146.0, 117210.0, 94500.0, 92627.0, 113088.0, 111334.0, 81853.0, 84266.0, 118767.0, 113055.0, 360000.0, 110911.0, 87376.0, 99503.0, 105534.0, 75538.0, 136893.0, 302928.0, 79603.0, 91440.0, 92123.0, 104732.0, 111200.0, 80227.0, 79272.0, 73916.0, 76425.0, 237704.0, 75839.0, 87454.0, 80802.0, 112403.0, 75228.0, 69284.0, 101664.0, 77276.0, 80741.0, 70190.0, 167493.0, 76359.0, 99007.0, 395500.0, 69629.0, 72406.0, 115357.0, 86198.0, 113053.0, 93319.0, 75795.0, 76476.0, 79491.0, 74627.0, 278536.0, 161784.0, 104403.0, 124194.0, 71733.0, 84437.0, 154496.0, 71914.0, 333007.0, 89009.0, 95748.0, 91537.0, 388101.0, 72721.0, 87342.0, 71977.0, 77549.0, 91097.0, 111333.0, 143918.0, 99421.0, 95475.0, 73223.0, 69753.0, 88259.0, 85150.0, 91526.0, 79738.0, 98691.0, 74408.0, 78945.0, 81672.0, 139625.0, 73189.0, 83426.0, 79776.0, 73767.0, 95837.0, 72693.0, 85961.0, 71481.0, 86155.0, 182687.0, 104129.0, 68968.0, 69721.0, 97636.0, 72244.0, 113411.0, 86145.0, 81612.0, 91613.0, 82438.0, 94912.0, 75626.0, 85400.0, 91743.0, 103262.0, 95029.0, 119779.0, 109782.0, 106466.0, 77527.0, 106841.0, 104079.0, 149686.0, 137216.0, 97914.0, 76217.0, 79819.0, 98924.0, 183218.0, 105034.0, 121703.0, 75876.0, 86890.0, 77613.0, 212613.0, 93720.0, 265757.0, 86859.0, 82027.0, 70662.0, 159262.0, 137601.0, 73755.0, 73578.0, 110228.0, 76036.0, 91802.0, 105407.0, 74233.0, 151251.0, 78389.0, 102272.0, 87991.0, 101601.0, 81365.0, 148103.0, 79043.0, 85817.0, 88131.0, 71970.0, 123389.0, 101209.0, 115651.0, 153288.0, 99621.0, 94498.0, 92563.0, 76745.0, 111377.0, 85986.0, 89997.0, 83923.0, 70401.0, 85053.0, 95402.0, 89766.0, 98001.0, 83451.0, 72082.0, 89200.0, 70330.0, 85058.0, 186225.0, 70547.0, 84989.0, 69105.0, 69943.0, 82987.0, 108729.0, 79536.0, 77143.0, 74569.0, 106357.0, 88176.0, 83517.0, 172366.0, 70396.0, 146645.0, 87302.0, 76635.0, 137282.0, 131583.0, 73677.0, 86150.0, 76150.0, 73676.0, 75985.0, 75044.0, 70077.0, 79495.0, 110173.0, 72595.0, 69244.0, 134684.0, 74471.0, 159738.0, 80027.0, 80160.0, 75407.0, 137883.0, 68874.0, 82153.0, 113565.0, 89819.0, 71881.0, 79550.0, 95549.0, 217349.0, 69576.0, 161183.0, 119082.0, 75878.0, 89641.0, 77489.0, 109443.0, 69195.0, 366529.0, 69177.0, 80370.0, 90573.0, 223896.0, 76524.0, 92689.0, 96672.0, 70461.0, 85258.0, 74596.0, 82830.0, 113025.0, 92316.0, 86615.0, 89813.0, 172560.0, 72101.0, 104872.0, 70842.0, 72191.0, 178248.0, 137059.0, 78838.0, 69737.0, 88408.0, 160560.0, 69163.0, 84676.0, 105982.0, 88186.0, 104793.0, 70670.0, 78594.0, 89052.0, 90410.0, 87976.0, 93379.0, 79397.0, 73519.0, 98708.0, 117508.0, 71783.0, 97108.0, 68672.0, 76700.0, 74085.0, 96629.0, 69429.0, 183631.0, 106866.0, 71060.0, 85531.0, 360000.0, 76469.0, 79534.0, 144693.0, 85178.0, 88529.0, 105171.0, 75132.0, 81460.0, 86158.0, 122703.0, 123493.0, 90053.0, 102897.0, 221237.0, 105451.0, 68928.0, 131461.0, 127387.0, 88950.0, 69393.0, 111457.0, 71286.0, 77025.0, 78132.0, 82223.0, 91066.0, 71876.0, 72189.0, 70027.0, 75790.0, 68665.0, 94146.0, 78772.0, 373348.0, 110755.0, 94821.0, 104037.0, 123914.0, 118160.0, 80465.0, 73570.0, 76737.0, 121545.0, 77373.0, 122374.0, 88872.0, 73270.0, 125149.0, 97595.0, 73602.0, 78720.0, 96889.0, 84147.0, 87877.0, 72299.0, 83912.0, 73400.0, 83273.0, 95079.0, 108645.0, 99510.0, 95841.0, 76152.0, 80495.0, 92350.0, 69043.0, 95280.0, 76595.0, 89012.0, 81881.0, 73596.0, 150000.0, 85537.0, 81188.0, 96703.0, 73195.0, 78422.0, 72104.0, 159880.0, 360000.0, 82308.0, 143690.0, 107790.0, 132842.0, 70267.0, 113989.0, 94321.0, 69376.0, 74249.0, 104734.0, 81215.0, 121178.0, 117572.0, 110365.0, 75723.0, 78395.0, 96514.0, 68764.0, 125828.0, 86907.0, 86355.0, 75164.0, 88793.0, 80091.0, 89153.0, 79678.0, 87802.0, 113897.0, 83164.0, 72500.0, 122175.0, 88393.0, 131740.0, 73695.0, 182704.0, 195685.0, 74809.0, 69000.0, 69758.0, 76434.0, 79870.0, 105510.0, 86287.0, 72449.0, 71579.0, 70893.0, 81011.0, 83545.0, 86156.0, 69297.0, 69328.0, 136702.0, 79482.0, 123272.0, 79963.0, 111196.0, 206000.0, 96548.0, 84218.0, 68868.0, 93449.0, 406125.0, 78842.0, 98402.0, 228829.0, 155734.0, 77651.0, 90355.0, 70732.0, 77493.0, 74254.0, 69031.0, 74978.0, 76333.0, 81257.0, 90913.0, 71705.0, 137990.0, 95318.0, 72163.0, 69261.0, 69755.0, 107895.0, 79042.0, 105574.0, 85495.0, 115249.0, 96405.0, 87390.0, 93992.0, 90515.0, 69175.0, 94212.0, 131749.0, 186771.0, 84701.0, 77567.0, 77082.0, 73102.0, 202397.0, 97153.0, 99308.0, 86538.0, 92685.0, 93850.0, 88905.0, 70183.0, 79387.0, 91928.0, 154790.0, 107567.0, 79028.0, 69023.0, 118866.0, 77771.0, 111503.0, 76846.0, 233486.0, 71675.0, 83850.0, 127183.0, 69304.0, 127301.0, 104755.0, 101060.0, 74842.0, 68975.0, 122675.0, 101814.0, 118294.0, 82137.0, 73685.0, 68930.0, 93602.0, 95395.0, 71012.0, 84943.0, 87254.0, 92938.0, 125535.0, 76976.0, 162350.0, 79864.0, 90691.0, 99932.0, 113312.0, 81628.0, 125279.0, 76357.0, 85758.0, 90955.0, 264939.0, 106264.0, 102529.0, 158745.0, 78859.0, 115761.0, 86744.0, 70183.0, 74512.0, 171135.0, 89005.0, 114393.0, 70614.0, 135115.0, 125242.0, 83763.0, 127183.0, 103896.0, 156090.0, 88610.0, 95622.0, 132819.0, 80100.0, 69976.0, 70357.0, 112316.0, 273978.0, 91815.0, 86973.0, 70711.0, 99215.0, 101188.0, 80990.0, 104624.0, 75784.0, 112744.0, 120420.0, 70467.0, 91284.0, 69922.0, 73380.0, 77427.0, 82291.0, 82237.0, 102223.0, 113263.0, 70977.0, 69930.0, 94147.0, 103390.0, 137991.0, 77780.0, 98113.0, 109744.0, 71609.0, 127413.0, 96414.0, 71721.0, 110018.0, 103902.0, 89080.0, 145331.0, 76977.0, 69787.0, 106679.0, 84783.0, 72303.0, 72651.0, 69800.0, 74435.0, 121561.0, 75645.0, 161380.0, 76187.0, 146621.0, 73218.0, 85811.0, 121365.0, 75092.0, 80078.0, 91977.0, 137902.0, 106286.0, 81262.0, 103149.0, 97109.0, 167420.0, 91500.0, 78967.0, 72238.0, 83282.0, 89387.0, 186042.0, 93941.0, 90963.0, 217557.0, 94709.0, 87650.0, 70322.0, 73911.0, 124852.0, 93095.0, 99414.0, 93835.0, 106348.0, 107499.0, 76230.0, 143711.0, 94077.0, 112857.0, 79430.0, 86233.0, 204322.0, 93889.0, 144987.0, 81158.0, 168426.0, 75591.0, 94749.0, 85112.0, 104408.0, 145061.0, 101903.0, 153327.0, 101750.0, 169049.0, 74573.0, 69756.0, 70595.0, 88570.0, 69084.0, 116689.0, 75704.0, 94885.0, 80690.0, 102338.0, 86516.0, 81721.0, 72892.0, 89210.0, 76920.0, 167632.0, 70556.0, 85245.0, 83535.0, 79094.0, 289168.0, 80940.0, 105128.0, 78631.0, 83077.0, 87995.0, 72920.0, 71291.0, 90991.0, 360000.0, 80055.0, 120096.0, 99837.0, 72818.0, 127433.0, 100725.0, 190270.0, 79430.0, 100835.0, 86640.0, 145784.0, 85867.0, 84963.0, 226071.0, 250304.0, 102304.0, 83243.0, 196915.0, 94585.0, 73118.0, 74023.0, 79749.0, 124102.0, 134242.0, 68715.0, 88955.0, 75636.0, 116296.0, 72634.0, 84159.0, 100885.0, 78985.0, 76177.0, 97649.0, 82620.0, 99847.0, 98417.0, 77165.0, 110700.0, 124685.0, 129846.0, 105343.0, 96781.0, 70858.0, 91383.0, 235833.0, 144836.0, 169213.0, 105508.0, 158607.0, 116964.0, 167852.0, 103968.0, 71859.0, 95329.0, 84851.0, 122164.0, 94372.0, 104257.0, 106718.0, 85074.0, 71752.0, 498374.0, 80286.0, 84744.0, 175625.0, 256031.0, 68941.0, 81259.0, 87752.0, 111157.0, 83341.0, 77746.0, 91441.0, 145481.0, 161847.0, 74489.0, 76868.0, 112782.0, 89102.0, 85249.0, 71091.0, 85249.0, 98658.0, 90634.0, 70156.0, 98887.0, 208577.0, 93077.0, 72174.0, 85092.0, 113665.0, 85401.0, 99627.0, 91235.0, 164971.0, 69629.0, 100768.0, 116703.0, 118313.0, 93039.0, 78589.0, 101793.0, 91407.0, 69761.0, 71081.0, 142796.0, 89038.0, 79344.0, 151069.0, 79605.0, 115653.0, 162032.0, 113035.0, 76761.0, 96731.0, 137577.0, 71324.0, 161116.0, 97869.0, 72945.0, 109782.0, 124120.0, 71416.0, 74021.0, 70950.0, 108302.0, 376103.0, 110695.0, 118500.0, 105113.0, 77534.0, 84412.0, 85310.0, 100010.0, 95259.0, 93720.0, 86936.0, 86456.0, 79629.0, 71451.0, 207389.0, 81279.0, 83354.0, 96919.0, 75490.0, 78935.0, 267126.0, 77582.0, 161989.0, 75289.0, 92081.0, 85920.0, 162873.0, 72101.0, 103819.0, 89726.0, 84626.0, 225006.0, 152236.0, 112680.0, 80405.0, 75700.0, 77776.0, 74752.0, 225413.0, 83197.0, 80623.0, 99298.0, 69109.0, 69650.0, 78104.0, 134322.0, 403534.0, 114123.0, 76784.0, 75684.0, 101410.0, 90894.0, 83373.0, 108958.0, 184487.0, 79083.0, 123904.0, 127102.0, 70051.0, 99320.0, 81276.0, 92086.0, 72862.0, 74386.0, 83654.0, 150487.0, 84147.0, 92104.0, 72160.0, 92469.0, 103991.0, 85777.0, 75997.0, 80138.0, 125634.0, 97814.0, 83787.0, 136529.0, 190480.0, 74938.0, 85707.0, 94696.0, 85603.0, 100669.0, 80954.0, 163089.0, 82772.0, 160109.0, 106348.0, 100539.0, 92134.0, 86019.0, 93506.0, 87624.0, 69561.0, 108609.0, 112319.0, 75676.0, 73317.0, 84996.0, 83785.0, 74375.0, 130597.0, 89169.0, 96891.0, 129562.0, 139601.0, 83640.0, 222234.0, 71627.0, 100016.0, 116219.0, 84423.0, 142255.0, 100384.0, 112439.0, 80584.0, 163568.0, 71742.0, 92550.0, 83582.0, 106511.0, 128312.0, 155544.0, 70907.0, 86377.0, 116606.0, 71030.0, 77952.0, 75596.0, 72770.0, 85546.0, 84172.0, 93976.0, 95248.0, 94726.0, 84502.0, 123920.0, 141458.0, 75588.0, 132572.0, 68756.0, 83998.0, 69881.0, 100601.0, 70315.0, 110366.0, 108770.0, 167697.0, 71576.0, 86932.0, 75571.0, 70342.0, 89487.0, 98583.0, 86302.0, 75060.0, 91300.0, 85270.0, 90346.0, 69749.0, 99524.0, 136480.0, 432613.0, 124246.0, 86894.0, 100120.0, 79694.0, 96158.0, 84593.0, 146933.0, 69214.0, 105558.0, 103574.0, 104219.0, 82439.0, 80491.0, 71426.0, 108310.0, 73616.0, 77196.0, 121297.0, 86355.0, 114890.0, 75176.0, 117453.0, 81973.0, 75690.0, 100600.0, 71711.0, 572427.0, 74219.0, 97438.0, 70150.0, 82599.0, 85288.0, 87844.0, 123250.0, 96111.0, 79510.0, 110117.0, 70841.0, 70743.0, 83060.0, 74197.0, 156591.0, 166438.0, 123279.0, 82939.0, 129018.0, 82923.0, 121624.0, 74701.0, 69840.0, 85479.0, 206964.0, 265960.0, 69161.0, 400395.0, 112343.0, 71271.0, 120055.0, 115457.0, 88533.0, 179413.0, 132416.0, 100564.0, 107620.0, 129125.0, 122428.0, 122459.0, 82151.0, 81449.0, 74822.0, 72216.0, 78534.0, 150114.0, 114775.0, 112464.0, 109292.0, 81962.0, 104005.0, 120972.0, 77637.0, 84660.0, 86658.0, 78314.0, 76505.0, 84560.0, 88028.0, 84218.0, 73195.0, 76221.0, 85546.0, 132006.0, 77113.0, 82427.0, 110281.0, 72730.0, 98950.0, 122621.0, 83666.0, 70908.0, 87478.0, 80553.0, 169006.0, 254950.0, 72986.0, 87353.0, 69437.0, 265961.0, 74210.0, 82229.0, 106031.0, 69842.0, 92966.0, 99008.0, 397756.0, 164633.0, 95909.0, 413367.0, 253061.0, 135541.0, 90133.0, 73795.0, 87325.0, 133812.0, 102110.0, 90285.0, 91200.0, 77740.0, 93818.0, 76896.0, 104116.0, 71675.0, 305996.0, 68717.0, 78364.0, 110883.0, 85229.0, 79638.0, 69180.0, 117905.0, 68934.0, 412785.0, 68811.0, 103506.0, 73167.0, 104613.0, 69344.0, 75653.0, 182040.0, 95852.0, 94940.0, 92932.0, 89683.0, 113326.0, 84555.0, 80868.0, 85409.0, 72998.0, 98534.0, 74316.0, 98527.0, 109696.0, 105437.0, 70576.0, 81828.0, 87716.0, 72937.0, 87504.0, 74036.0, 84126.0, 69375.0, 70848.0, 139336.0, 85192.0, 73759.0, 80962.0, 94283.0, 91353.0, 124350.0, 93352.0, 73146.0, 102265.0, 92167.0, 87897.0, 69338.0, 94594.0, 82372.0, 103551.0, 74169.0, 73550.0, 73630.0, 339137.0, 78137.0, 78570.0, 72227.0, 153214.0, 105589.0, 107511.0, 86147.0, 82928.0, 171786.0, 102332.0, 118661.0, 77585.0, 73375.0, 74161.0, 120375.0, 102321.0, 107302.0, 92341.0, 68689.0, 78280.0, 120042.0, 82221.0, 71189.0, 125716.0, 78864.0, 79559.0, 139741.0, 84144.0, 81228.0, 170632.0, 103165.0, 115819.0, 79717.0, 140157.0, 119920.0, 69910.0, 75136.0, 138902.0, 143005.0, 70576.0, 70326.0, 71505.0, 77128.0, 69579.0, 96904.0, 95352.0, 133098.0, 101056.0, 105712.0, 94539.0, 115174.0, 95291.0, 126672.0, 95230.0, 78022.0, 92720.0, 80900.0, 70662.0, 77669.0, 76650.0, 140836.0, 69777.0, 124402.0, 121232.0, 74792.0, 89189.0, 247700.0, 71359.0, 82098.0, 117077.0, 566480.0, 71354.0, 73293.0, 96271.0, 73145.0, 70036.0, 88593.0, 89079.0, 75716.0, 119149.0, 100154.0, 74574.0, 84886.0, 75258.0, 122097.0, 114367.0, 121573.0, 103935.0, 96842.0, 212800.0, 216009.0, 129427.0, 118381.0, 122353.0, 113547.0, 181721.0, 137441.0, 88277.0, 78392.0, 84902.0, 88791.0, 98104.0, 138639.0, 87156.0, 86312.0, 71523.0, 70111.0, 110560.0, 77678.0, 73948.0, 69472.0, 98711.0, 77769.0, 95852.0, 75351.0, 72892.0, 72373.0, 84982.0, 110859.0, 85917.0, 146590.0, 75716.0, 106570.0, 83858.0, 162995.0, 72762.0, 148633.0, 87586.0, 73769.0, 186331.0, 71978.0, 140032.0, 140900.0, 150915.0, 89755.0, 70220.0, 105885.0, 194405.0, 97241.0, 86853.0, 79287.0, 149134.0, 84837.0, 74342.0, 86420.0, 111110.0, 77078.0, 120934.0, 83749.0, 215434.0, 292662.0, 111909.0, 82778.0, 69961.0, 69843.0, 85712.0, 73998.0, 119450.0, 71454.0, 70633.0, 115499.0, 93848.0, 77136.0, 77007.0, 88831.0, 70766.0, 86327.0, 98956.0, 81169.0, 75159.0, 86327.0, 135839.0, 76469.0, 80859.0, 127212.0, 112734.0, 89709.0, 94565.0, 95312.0, 81276.0, 86928.0, 107565.0, 75482.0, 93703.0, 138635.0, 73837.0, 70755.0, 78761.0, 80401.0, 75828.0, 110618.0, 117444.0]\n",
            "outliers in column  TotalTrades  have outlier  [72.0, 59.0, 74.0, 74.0, 61.0, 58.0, 65.0, 66.0, 75.0, 63.0, 62.0, 94.0, 60.0, 75.0, 65.0, 58.0, 61.0, 96.0, 63.0, 58.0, 81.0, 65.0, 58.0, 58.0, 84.0, 80.0, 59.0, 67.0, 59.0, 70.0, 58.0, 66.0, 99.0, 61.0, 70.0, 68.0, 69.0, 67.0, 60.0, 64.0, 60.0, 62.0, 84.0, 69.0, 70.0, 75.0, 64.0, 61.0, 63.0, 60.0, 59.0, 65.0, 60.0, 71.0, 65.0, 58.0, 60.0, 59.0, 64.0, 62.0, 66.0, 62.0, 102.0, 73.0, 77.0, 62.0, 64.0, 71.0, 58.0, 65.0, 60.0, 64.0, 64.0, 58.0, 61.0, 58.0, 65.0, 73.0, 64.0, 65.0, 66.0, 58.0, 74.0, 58.0, 59.0, 73.0, 69.0, 61.0, 76.0, 61.0, 60.0, 76.0, 69.0, 62.0, 70.0, 77.0, 91.0, 76.0, 59.0, 59.0, 63.0, 63.0, 58.0, 59.0, 87.0, 66.0, 64.0, 63.0, 61.0, 58.0, 68.0, 68.0, 61.0, 60.0, 72.0, 74.0, 65.0, 58.0, 65.0, 58.0, 61.0, 59.0, 69.0, 62.0, 59.0, 58.0, 58.0, 59.0, 68.0, 61.0, 63.0, 61.0, 61.0, 63.0, 58.0, 58.0, 60.0, 59.0, 63.0, 61.0, 65.0, 62.0, 72.0, 59.0, 61.0, 62.0, 62.0, 63.0, 60.0, 71.0, 59.0, 66.0, 76.0, 83.0, 66.0, 58.0, 62.0, 63.0, 70.0, 66.0, 72.0, 63.0, 63.0, 65.0, 82.0, 61.0, 61.0, 60.0, 60.0, 71.0, 61.0, 83.0, 73.0, 60.0, 66.0, 68.0, 58.0, 76.0, 67.0, 62.0, 64.0, 61.0, 58.0, 60.0, 63.0, 66.0, 58.0, 74.0, 58.0, 63.0, 64.0, 60.0, 71.0, 60.0, 64.0, 75.0, 69.0, 66.0, 64.0, 65.0, 59.0, 60.0, 58.0, 69.0, 60.0, 58.0, 64.0, 61.0, 61.0, 64.0, 67.0, 63.0, 66.0, 71.0, 58.0, 58.0, 59.0, 59.0, 70.0, 66.0, 80.0, 59.0, 64.0, 59.0, 67.0, 60.0, 60.0, 73.0, 69.0, 60.0, 60.0, 58.0, 72.0, 59.0, 61.0, 63.0, 77.0, 88.0, 58.0, 62.0, 58.0, 80.0, 60.0, 64.0, 58.0, 68.0, 59.0, 60.0, 63.0, 77.0, 65.0, 72.0, 64.0, 72.0, 76.0, 59.0, 102.0, 58.0, 58.0, 59.0, 69.0, 60.0, 86.0, 67.0, 85.0, 62.0, 67.0, 64.0, 61.0, 63.0, 59.0, 63.0, 73.0, 68.0, 63.0, 80.0, 64.0, 61.0, 65.0, 67.0, 59.0, 72.0, 63.0, 62.0, 58.0, 63.0, 79.0, 75.0, 61.0, 63.0, 59.0, 63.0, 62.0, 61.0, 59.0, 73.0, 62.0, 65.0, 62.0, 58.0, 97.0, 59.0, 61.0, 74.0, 60.0, 68.0, 66.0, 64.0, 65.0, 70.0, 74.0, 62.0, 77.0, 59.0, 62.0, 59.0, 61.0, 59.0, 61.0, 59.0, 66.0, 71.0, 68.0, 59.0, 58.0, 59.0, 59.0, 75.0, 74.0, 60.0, 61.0, 58.0, 60.0, 61.0, 59.0, 64.0, 68.0, 100.0, 59.0, 58.0, 80.0, 62.0, 77.0, 64.0, 66.0, 61.0, 60.0, 72.0, 60.0, 63.0, 81.0, 63.0, 84.0, 65.0, 59.0, 64.0, 71.0, 60.0, 58.0, 63.0, 68.0, 59.0, 59.0, 73.0, 103.0, 63.0, 58.0, 60.0, 68.0, 61.0, 61.0, 94.0, 70.0, 84.0, 73.0, 67.0, 76.0, 60.0, 59.0, 59.0, 62.0, 63.0, 76.0, 62.0, 63.0, 59.0, 67.0, 65.0, 58.0, 62.0, 65.0, 65.0, 77.0, 67.0, 69.0, 64.0, 68.0, 63.0, 60.0, 60.0, 64.0, 59.0, 58.0, 61.0, 58.0, 58.0, 63.0, 84.0, 66.0, 59.0, 80.0, 60.0, 62.0, 61.0, 61.0, 72.0, 59.0, 61.0, 64.0, 60.0, 59.0, 58.0, 58.0, 59.0, 79.0, 63.0, 59.0, 64.0, 59.0, 63.0, 75.0, 72.0, 71.0, 61.0, 69.0, 72.0, 80.0, 59.0, 80.0, 68.0, 83.0, 70.0, 64.0, 61.0, 83.0, 59.0, 60.0, 62.0, 61.0, 60.0, 62.0, 69.0, 70.0, 58.0, 62.0, 58.0, 59.0, 58.0, 58.0, 59.0, 103.0, 60.0, 61.0, 60.0, 61.0, 74.0, 82.0, 68.0, 67.0, 65.0, 59.0, 58.0, 61.0, 83.0, 58.0, 69.0, 61.0, 72.0, 110.0, 62.0, 62.0, 65.0, 62.0, 60.0, 66.0, 67.0, 62.0, 64.0, 64.0, 60.0, 58.0, 64.0, 59.0, 61.0, 63.0, 58.0, 58.0, 63.0, 70.0, 83.0, 64.0, 59.0, 65.0, 64.0, 63.0, 62.0, 60.0, 69.0, 61.0, 60.0, 80.0, 68.0, 58.0, 62.0, 61.0, 67.0, 65.0, 67.0, 87.0, 61.0, 61.0, 58.0, 74.0, 60.0, 63.0, 59.0, 59.0, 66.0, 72.0, 58.0, 64.0, 68.0, 65.0, 60.0, 58.0, 67.0, 61.0, 59.0, 60.0, 65.0, 60.0, 61.0, 71.0, 60.0, 89.0, 62.0, 62.0, 62.0, 73.0, 66.0, 59.0, 58.0, 61.0, 65.0, 59.0, 68.0, 67.0, 65.0, 89.0, 58.0, 59.0, 66.0, 58.0, 59.0, 69.0, 66.0, 67.0, 60.0, 61.0, 58.0, 62.0, 71.0, 60.0, 59.0, 62.0, 65.0, 108.0, 65.0, 71.0, 60.0, 58.0, 66.0, 74.0, 68.0, 64.0, 59.0, 60.0, 61.0, 58.0, 60.0, 61.0, 75.0, 58.0, 85.0, 74.0, 59.0, 58.0, 72.0, 64.0, 62.0, 79.0, 82.0, 60.0, 76.0, 58.0, 58.0, 59.0, 58.0, 64.0, 72.0, 59.0, 63.0, 70.0, 58.0, 58.0, 64.0, 59.0, 65.0, 66.0, 59.0, 88.0, 75.0, 65.0, 59.0, 62.0, 58.0, 77.0, 66.0, 61.0, 61.0, 71.0, 58.0, 65.0, 67.0, 66.0, 59.0, 59.0, 60.0, 61.0, 63.0, 61.0, 60.0, 62.0, 70.0, 59.0, 66.0, 60.0, 64.0, 99.0, 68.0, 64.0, 59.0, 66.0, 58.0, 60.0, 60.0, 64.0, 74.0, 59.0, 62.0, 91.0, 58.0, 66.0, 59.0, 64.0, 58.0, 73.0, 59.0, 71.0, 58.0, 67.0, 65.0, 72.0, 78.0, 67.0, 66.0, 81.0, 58.0, 66.0, 72.0, 59.0, 60.0, 61.0, 69.0, 59.0, 67.0, 58.0, 122.0, 69.0, 59.0, 62.0, 59.0, 67.0, 59.0, 58.0, 62.0, 68.0, 67.0, 58.0, 58.0, 61.0, 63.0, 66.0, 60.0, 59.0, 58.0, 73.0, 68.0, 58.0, 64.0, 69.0, 65.0, 59.0, 71.0, 70.0, 60.0, 62.0, 59.0, 62.0, 65.0, 60.0, 83.0, 81.0, 64.0, 66.0, 59.0, 59.0, 58.0, 126.0, 65.0, 59.0, 62.0, 59.0, 72.0, 65.0, 61.0, 71.0, 62.0, 66.0, 70.0, 64.0, 60.0, 62.0, 68.0, 59.0, 63.0, 60.0, 68.0, 60.0, 61.0, 61.0, 77.0, 62.0, 60.0, 65.0, 61.0, 65.0, 85.0, 64.0, 62.0, 63.0, 70.0, 62.0, 58.0, 58.0, 58.0, 59.0, 58.0, 64.0, 58.0, 61.0, 58.0, 58.0, 58.0, 63.0, 58.0, 62.0, 62.0, 62.0, 69.0, 63.0, 65.0, 61.0, 65.0, 76.0, 58.0, 72.0, 59.0, 83.0, 65.0, 66.0, 72.0, 65.0, 78.0, 75.0, 59.0, 63.0, 58.0, 64.0, 72.0, 58.0, 58.0, 69.0, 62.0, 65.0, 76.0, 64.0, 72.0, 59.0, 64.0, 58.0, 78.0, 63.0, 65.0, 58.0, 86.0, 60.0, 78.0, 59.0, 70.0, 72.0, 64.0, 63.0, 59.0, 59.0, 63.0, 61.0, 68.0, 66.0, 66.0, 58.0, 79.0, 58.0, 58.0, 64.0, 66.0, 58.0, 60.0, 64.0, 66.0, 80.0, 68.0, 58.0, 59.0, 58.0, 67.0, 62.0, 68.0, 63.0, 68.0, 66.0, 87.0, 76.0, 61.0, 70.0, 65.0, 71.0, 93.0, 63.0, 69.0, 66.0, 88.0, 70.0, 60.0, 64.0, 63.0, 68.0, 66.0, 59.0, 69.0, 85.0, 75.0, 86.0, 66.0, 72.0, 61.0, 60.0, 68.0, 59.0, 60.0, 65.0, 62.0, 70.0, 65.0, 69.0, 60.0, 62.0, 58.0, 71.0, 64.0, 66.0, 65.0, 58.0, 101.0, 64.0, 58.0, 59.0, 62.0, 68.0, 61.0, 62.0, 60.0, 67.0, 64.0, 66.0, 65.0, 71.0, 81.0, 66.0, 60.0, 59.0, 84.0, 65.0, 59.0, 59.0, 61.0, 59.0, 59.0, 71.0, 62.0, 60.0, 63.0, 60.0, 62.0, 60.0, 62.0, 58.0, 68.0, 79.0, 60.0, 62.0, 58.0, 65.0, 61.0, 62.0, 61.0, 73.0, 70.0, 70.0, 62.0, 61.0, 63.0, 82.0, 61.0, 66.0, 60.0, 60.0, 65.0, 66.0, 58.0, 83.0, 70.0, 68.0, 79.0, 67.0, 87.0, 114.0, 61.0, 66.0, 59.0, 58.0, 62.0, 62.0, 92.0, 69.0, 63.0, 67.0, 59.0, 61.0, 58.0, 64.0, 71.0, 65.0, 63.0, 58.0, 69.0, 63.0, 80.0, 60.0, 75.0, 84.0, 78.0, 78.0, 59.0, 70.0, 60.0, 61.0, 64.0, 59.0, 60.0, 78.0, 65.0, 61.0, 64.0, 58.0, 62.0, 60.0, 63.0, 86.0, 65.0, 59.0, 60.0, 58.0, 59.0, 60.0, 66.0, 69.0, 72.0, 63.0, 59.0, 65.0, 65.0, 67.0, 98.0, 77.0, 58.0, 58.0, 118.0, 83.0, 82.0, 66.0, 88.0, 70.0, 61.0, 73.0, 62.0, 64.0, 72.0, 58.0, 66.0, 60.0, 64.0, 74.0]\n",
            "outliers in column  TradesNeverDelinquent (percentage)  have outlier  [0.4, 0.37, 0.06, 0.3, 0.44, 0.4, 0.36, 0.36, 0.42, 0.33, 0.45, 0.0, 0.23, 0.45, 0.33, 0.36, 0.33, 0.4, 0.0, 0.22, 0.28, 0.33, 0.0, 0.45, 0.4, 0.43, 0.42, 0.45, 0.22, 0.35, 0.3, 0.3, 0.37, 0.22, 0.44, 0.35, 0.28, 0.4, 0.33, 0.26, 0.25, 0.1, 0.45, 0.33, 0.34, 0.28, 0.4, 0.38, 0.33, 0.4, 0.4, 0.42, 0.33, 0.29, 0.25, 0.41, 0.37, 0.42, 0.45, 0.27, 0.25, 0.35, 0.42, 0.17, 0.44, 0.16, 0.42, 0.45, 0.3, 0.37, 0.36, 0.22, 0.33, 0.36, 0.33, 0.43, 0.23, 0.44, 0.4, 0.4, 0.42, 0.45, 0.32, 0.33, 0.42, 0.0, 0.3, 0.26, 0.42, 0.23, 0.42, 0.33, 0.42, 0.25, 0.42, 0.33, 0.37, 0.38, 0.35, 0.4, 0.44, 0.45, 0.09, 0.42, 0.42, 0.42, 0.2, 0.36, 0.33, 0.45, 0.33, 0.45, 0.39, 0.2, 0.42, 0.42, 0.37, 0.22, 0.16, 0.18, 0.44, 0.22, 0.44, 0.2, 0.39, 0.23, 0.24, 0.25, 0.21, 0.42, 0.33, 0.41, 0.15, 0.0, 0.23, 0.4, 0.38, 0.33, 0.36, 0.16, 0.36, 0.44, 0.36, 0.4, 0.33, 0.26, 0.25, 0.43, 0.42, 0.37, 0.33, 0.42, 0.4, 0.03, 0.45, 0.4, 0.3, 0.44, 0.28, 0.21, 0.2, 0.28, 0.43, 0.2, 0.26, 0.38, 0.2, 0.2, 0.42, 0.25, 0.44, 0.33, 0.33, 0.45, 0.37, 0.42, 0.24, 0.35, 0.26, 0.39, 0.44, 0.17, 0.4, 0.4, 0.28, 0.44, 0.25, 0.33, 0.14, 0.09, 0.23, 0.43, 0.38, 0.45, 0.43, 0.45, 0.4, 0.3, 0.28, 0.41, 0.44, 0.42, 0.4, 0.2, 0.37, 0.11, 0.27, 0.12, 0.3, 0.36, 0.45, 0.41, 0.42, 0.31, 0.44, 0.33, 0.29, 0.22, 0.16, 0.27, 0.11, 0.42, 0.34, 0.39, 0.12, 0.43, 0.39, 0.14, 0.21, 0.14, 0.36, 0.36, 0.43, 0.43, 0.4, 0.0, 0.38, 0.4, 0.33, 0.16, 0.44, 0.38, 0.36, 0.36, 0.4, 0.4, 0.42, 0.22, 0.33, 0.0, 0.36, 0.45, 0.18, 0.16, 0.43, 0.06, 0.4, 0.08, 0.44, 0.4, 0.25, 0.4, 0.4, 0.3, 0.4, 0.11, 0.35, 0.4, 0.35, 0.27, 0.16, 0.44, 0.25, 0.36, 0.42, 0.2, 0.4, 0.39, 0.36, 0.44, 0.36, 0.2, 0.45, 0.22, 0.42, 0.25, 0.44, 0.41, 0.33, 0.44, 0.44, 0.42, 0.4, 0.4, 0.07, 0.44, 0.38, 0.25, 0.31, 0.33, 0.45, 0.37, 0.35, 0.43, 0.45, 0.28, 0.33, 0.35, 0.33, 0.2, 0.43, 0.35, 0.16, 0.33, 0.22, 0.25, 0.23, 0.16, 0.38, 0.43, 0.23, 0.45, 0.45, 0.37, 0.28, 0.35, 0.4, 0.44, 0.33, 0.45, 0.33, 0.37, 0.43, 0.36, 0.44, 0.33, 0.4, 0.45, 0.29, 0.37, 0.33, 0.35, 0.33, 0.22, 0.45, 0.44, 0.33, 0.12, 0.44, 0.33, 0.28, 0.3, 0.43, 0.22, 0.3, 0.45, 0.45, 0.33, 0.41, 0.33, 0.12, 0.35, 0.41, 0.44, 0.28, 0.41, 0.36, 0.3, 0.14, 0.42, 0.42, 0.3, 0.16, 0.41, 0.25, 0.2, 0.18, 0.29, 0.42, 0.4, 0.28, 0.44, 0.37, 0.43, 0.44, 0.42, 0.3, 0.45, 0.34, 0.25, 0.21, 0.13, 0.33, 0.41, 0.18, 0.44, 0.3, 0.42, 0.0, 0.0, 0.33, 0.43, 0.28, 0.45, 0.44, 0.4, 0.16, 0.33, 0.2, 0.42, 0.45, 0.27, 0.19, 0.2, 0.42, 0.4, 0.36, 0.23, 0.45, 0.2, 0.45, 0.33, 0.45, 0.09, 0.25, 0.35, 0.18, 0.13, 0.4, 0.26, 0.28, 0.4, 0.42, 0.36, 0.28, 0.37, 0.4, 0.28, 0.17, 0.41, 0.41, 0.33, 0.38, 0.33, 0.29, 0.33, 0.33, 0.4, 0.14, 0.28, 0.22, 0.45, 0.05, 0.4, 0.35, 0.25, 0.4, 0.33, 0.44, 0.4, 0.41, 0.26, 0.3, 0.43, 0.33, 0.37, 0.31, 0.33, 0.42, 0.36, 0.26, 0.36, 0.45, 0.2, 0.37, 0.16, 0.36, 0.26, 0.33, 0.43, 0.33, 0.13, 0.43, 0.44, 0.44, 0.43, 0.3, 0.34, 0.37, 0.12, 0.3, 0.44, 0.45, 0.26, 0.42, 0.25, 0.26, 0.35, 0.26, 0.38, 0.1, 0.31, 0.0, 0.0, 0.44, 0.18, 0.36, 0.42, 0.3, 0.33, 0.25, 0.16, 0.4, 0.38, 0.25, 0.4, 0.35, 0.14, 0.22, 0.33, 0.38, 0.4, 0.37, 0.41, 0.37, 0.39, 0.33, 0.44, 0.19, 0.3, 0.33, 0.4, 0.37, 0.09, 0.37, 0.4, 0.16, 0.27, 0.45, 0.36, 0.33, 0.45, 0.35, 0.15, 0.36, 0.4, 0.35, 0.36, 0.44, 0.37, 0.34, 0.3, 0.38, 0.37, 0.44, 0.41, 0.4, 0.0, 0.36, 0.22, 0.31, 0.43, 0.4, 0.41, 0.29, 0.26, 0.2, 0.25, 0.27, 0.22, 0.25, 0.22, 0.44, 0.25, 0.42, 0.42, 0.4, 0.29, 0.26, 0.0, 0.07, 0.33, 0.33, 0.0, 0.37, 0.33, 0.33, 0.14, 0.28, 0.45, 0.35, 0.45, 0.2, 0.2, 0.41, 0.2, 0.45, 0.32, 0.33, 0.42, 0.33, 0.05, 0.39, 0.42, 0.4, 0.36, 0.33, 0.2, 0.37, 0.35, 0.28, 0.35, 0.18, 0.29, 0.41, 0.16, 0.26, 0.4, 0.36, 0.3, 0.09, 0.43, 0.21, 0.44, 0.44, 0.33, 0.29, 0.2, 0.3, 0.4, 0.33, 0.42, 0.25, 0.42, 0.31, 0.4, 0.37, 0.25, 0.17, 0.37, 0.45, 0.45, 0.23, 0.36, 0.34, 0.17, 0.37, 0.25, 0.25, 0.22, 0.33, 0.3, 0.44, 0.27, 0.44, 0.0, 0.45, 0.17, 0.4, 0.35, 0.33, 0.33, 0.0, 0.33, 0.44, 0.25, 0.44, 0.3, 0.15, 0.4, 0.12, 0.0, 0.43, 0.36, 0.4, 0.25, 0.23, 0.22, 0.43, 0.3, 0.44, 0.2, 0.15, 0.43, 0.21, 0.37, 0.4, 0.44, 0.45, 0.42, 0.11, 0.21, 0.2, 0.33, 0.33, 0.44, 0.22, 0.42, 0.33, 0.28, 0.3, 0.45, 0.38, 0.36, 0.08, 0.44, 0.41, 0.44, 0.43, 0.25, 0.36, 0.35, 0.38, 0.35, 0.25, 0.38, 0.29, 0.0, 0.2, 0.25, 0.22, 0.33, 0.4, 0.44, 0.27, 0.41, 0.38, 0.33, 0.15, 0.43, 0.25, 0.12, 0.4, 0.38, 0.25, 0.33, 0.34, 0.35, 0.36, 0.42, 0.37, 0.1, 0.2, 0.34, 0.38, 0.16, 0.4, 0.24, 0.44, 0.38, 0.22, 0.07, 0.31, 0.37, 0.43, 0.4, 0.15, 0.25, 0.26, 0.4, 0.4, 0.0, 0.36, 0.42, 0.42, 0.33, 0.44, 0.4, 0.38, 0.3, 0.45, 0.4, 0.13, 0.37, 0.45, 0.33, 0.21, 0.38, 0.4, 0.41, 0.44, 0.2, 0.33, 0.45, 0.41, 0.36, 0.14, 0.42, 0.14, 0.43, 0.41, 0.45, 0.44, 0.33, 0.23, 0.27, 0.35, 0.42, 0.35, 0.4, 0.39, 0.15, 0.43, 0.26, 0.44, 0.27, 0.28, 0.42, 0.44, 0.4, 0.33, 0.0, 0.34, 0.27, 0.37, 0.33, 0.0, 0.33, 0.4, 0.4, 0.27, 0.37, 0.42, 0.42, 0.25, 0.26, 0.45, 0.0, 0.37, 0.37, 0.19, 0.2, 0.35, 0.44, 0.42, 0.11, 0.41, 0.22, 0.25, 0.39, 0.26, 0.43, 0.2, 0.33, 0.4, 0.25, 0.4, 0.41, 0.19, 0.25, 0.29, 0.25, 0.0, 0.42, 0.35, 0.38, 0.44, 0.42, 0.41, 0.19, 0.41, 0.14, 0.44, 0.37, 0.4, 0.44, 0.44, 0.34, 0.45, 0.08, 0.37, 0.33, 0.41, 0.38, 0.33, 0.31, 0.13, 0.33, 0.11, 0.28, 0.42, 0.33, 0.45, 0.33, 0.11, 0.3, 0.29, 0.36, 0.44, 0.45, 0.42, 0.33, 0.42, 0.42, 0.35, 0.26, 0.4, 0.44, 0.41, 0.42, 0.43, 0.38, 0.33, 0.21, 0.25, 0.41, 0.16, 0.43, 0.43, 0.41, 0.41, 0.4, 0.0, 0.38, 0.36, 0.44, 0.44, 0.38, 0.33, 0.42, 0.45, 0.42, 0.45, 0.43, 0.16, 0.33, 0.33, 0.35, 0.45, 0.43, 0.41, 0.33, 0.45, 0.33, 0.43, 0.4, 0.41, 0.4, 0.33, 0.37, 0.29, 0.44, 0.12, 0.4, 0.36, 0.43, 0.35, 0.11, 0.42, 0.42, 0.42, 0.42, 0.41, 0.3, 0.33, 0.4, 0.25, 0.35, 0.4, 0.44, 0.45, 0.25, 0.4, 0.0, 0.08, 0.37, 0.41, 0.38, 0.33, 0.36, 0.3, 0.22, 0.4, 0.38, 0.43, 0.43, 0.4, 0.4, 0.44, 0.44, 0.28, 0.36, 0.3, 0.38, 0.45, 0.42, 0.33, 0.38, 0.11, 0.4, 0.42, 0.4, 0.44, 0.18, 0.36, 0.11, 0.26, 0.37, 0.39, 0.35, 0.33, 0.41, 0.18, 0.35, 0.4, 0.31, 0.0, 0.16, 0.14, 0.12, 0.44, 0.16, 0.44, 0.25, 0.13, 0.27, 0.37, 0.2, 0.36, 0.1, 0.42, 0.33, 0.38, 0.37, 0.25, 0.41, 0.31, 0.3, 0.45, 0.16, 0.08, 0.0, 0.45, 0.33, 0.4, 0.41, 0.38, 0.0, 0.4, 0.4, 0.0, 0.42, 0.43, 0.35, 0.14, 0.25, 0.37, 0.33, 0.07, 0.27, 0.45, 0.4, 0.2, 0.28, 0.26, 0.35, 0.28, 0.45, 0.34, 0.33, 0.26, 0.36, 0.18, 0.45, 0.37, 0.24, 0.11, 0.42, 0.41, 0.18, 0.13, 0.43, 0.28, 0.45, 0.4, 0.21, 0.13, 0.42, 0.33, 0.4, 0.4, 0.18, 0.42, 0.23, 0.45, 0.15, 0.38, 0.42, 0.29, 0.44, 0.33, 0.44, 0.43, 0.38, 0.38, 0.15, 0.0, 0.4, 0.33, 0.0, 0.25, 0.22, 0.0, 0.4, 0.43, 0.39, 0.25, 0.4, 0.4, 0.33, 0.23, 0.26, 0.26, 0.36, 0.27, 0.17, 0.37, 0.33, 0.27, 0.44, 0.28, 0.41, 0.33, 0.37, 0.42, 0.38, 0.4, 0.4, 0.0, 0.25, 0.23, 0.4, 0.44, 0.4, 0.45, 0.29, 0.42, 0.41, 0.41, 0.3, 0.27, 0.37, 0.41, 0.36, 0.33, 0.27, 0.33, 0.38, 0.42, 0.4, 0.2, 0.25, 0.42, 0.33, 0.12, 0.45, 0.33, 0.33, 0.34, 0.44, 0.33, 0.33, 0.44, 0.42, 0.11, 0.38, 0.25, 0.45, 0.27, 0.36, 0.16, 0.38, 0.42, 0.35, 0.4, 0.31, 0.27, 0.25, 0.44, 0.38, 0.06, 0.43, 0.4, 0.27, 0.35, 0.31, 0.3, 0.35, 0.3, 0.38, 0.39, 0.44, 0.37, 0.18, 0.35, 0.41, 0.07, 0.45, 0.36, 0.36, 0.16, 0.41, 0.25, 0.36, 0.42, 0.1, 0.25, 0.38, 0.37, 0.43, 0.4, 0.14, 0.26, 0.23, 0.11, 0.14, 0.35, 0.37, 0.4, 0.26, 0.4, 0.43, 0.33, 0.45, 0.4, 0.43, 0.44, 0.38, 0.25, 0.3, 0.36, 0.33, 0.35, 0.42, 0.36, 0.3, 0.09, 0.33, 0.27, 0.4, 0.18, 0.38, 0.17, 0.35, 0.26, 0.4, 0.0, 0.26, 0.41, 0.39, 0.43, 0.45, 0.12, 0.33, 0.36, 0.42, 0.4, 0.41, 0.4, 0.0, 0.38, 0.45, 0.36, 0.25, 0.41, 0.45, 0.41, 0.41, 0.33, 0.17, 0.32, 0.45, 0.4, 0.4, 0.45, 0.29, 0.1, 0.13, 0.42, 0.38, 0.44, 0.42, 0.4, 0.4, 0.33, 0.37, 0.42, 0.45, 0.18, 0.31, 0.39, 0.15, 0.4, 0.44, 0.26, 0.42, 0.3, 0.4, 0.38, 0.4, 0.37, 0.38, 0.25, 0.31, 0.39, 0.42, 0.42, 0.42, 0.38, 0.45, 0.33, 0.12, 0.2, 0.34, 0.28, 0.4, 0.25, 0.4, 0.3, 0.42, 0.38, 0.45, 0.4, 0.4, 0.4, 0.42, 0.2, 0.33, 0.4, 0.28, 0.35, 0.25, 0.07, 0.33, 0.33, 0.2, 0.15, 0.42, 0.4, 0.4, 0.3, 0.4, 0.33, 0.45, 0.33, 0.42, 0.2, 0.42, 0.4, 0.12, 0.4, 0.33, 0.33, 0.0, 0.22, 0.43, 0.38, 0.44, 0.38, 0.42, 0.44, 0.33, 0.44, 0.42, 0.4, 0.41, 0.4, 0.25, 0.42, 0.39, 0.25, 0.43, 0.3, 0.23, 0.4, 0.25, 0.18, 0.16, 0.34, 0.05, 0.33, 0.45, 0.0, 0.21, 0.23, 0.33, 0.45, 0.41, 0.08, 0.05, 0.26, 0.41, 0.29, 0.23, 0.2, 0.4, 0.41, 0.41, 0.37, 0.33, 0.4, 0.33, 0.23, 0.35, 0.42, 0.42, 0.33, 0.42, 0.25, 0.25, 0.05, 0.31, 0.37, 0.4, 0.28, 0.43, 0.3, 0.37, 0.42, 0.25, 0.28, 0.1, 0.38, 0.45, 0.08, 0.43, 0.42, 0.33, 0.45, 0.21, 0.3, 0.42, 0.42, 0.29, 0.42, 0.4, 0.18, 0.3, 0.33, 0.4, 0.0, 0.35, 0.44, 0.4, 0.18, 0.36, 0.41, 0.23, 0.45, 0.3, 0.28, 0.42, 0.3, 0.0, 0.27, 0.24, 0.25, 0.38, 0.35, 0.28, 0.4, 0.38, 0.16, 0.41, 0.38, 0.08, 0.16, 0.26, 0.2, 0.27, 0.28, 0.3, 0.29, 0.33, 0.4, 0.44, 0.4, 0.4, 0.33, 0.26, 0.44, 0.29, 0.33, 0.37, 0.4, 0.4, 0.33, 0.4, 0.31, 0.11, 0.39, 0.44, 0.44, 0.37, 0.44, 0.42, 0.12, 0.35, 0.15, 0.4, 0.33, 0.41, 0.42, 0.23, 0.36, 0.33, 0.33, 0.44, 0.27, 0.07, 0.41, 0.4, 0.27, 0.11, 0.37, 0.45, 0.31, 0.3, 0.25, 0.33, 0.4, 0.4, 0.4, 0.35, 0.35, 0.38, 0.43, 0.4, 0.36, 0.41, 0.16, 0.44, 0.11, 0.0, 0.37, 0.42, 0.27, 0.4, 0.42, 0.43, 0.25, 0.26, 0.2, 0.44, 0.35, 0.43, 0.37, 0.37, 0.25, 0.37, 0.36, 0.41, 0.42, 0.4, 0.42, 0.4, 0.33, 0.1, 0.28, 0.45, 0.35, 0.33, 0.25, 0.33, 0.45, 0.45, 0.07, 0.43, 0.38, 0.21, 0.25, 0.37, 0.37, 0.44, 0.28, 0.33, 0.41, 0.42, 0.42, 0.35, 0.21, 0.42, 0.4, 0.4, 0.2, 0.0, 0.3, 0.4, 0.4, 0.18, 0.44, 0.33, 0.39, 0.33, 0.43, 0.26, 0.38, 0.43, 0.24, 0.38, 0.05, 0.44, 0.35, 0.33, 0.44, 0.4, 0.27, 0.13, 0.22, 0.22, 0.35, 0.36, 0.25, 0.1, 0.29, 0.33, 0.41, 0.4, 0.25, 0.16, 0.44, 0.2, 0.25, 0.45, 0.44, 0.33, 0.25, 0.33, 0.16, 0.38, 0.17, 0.4, 0.45, 0.25, 0.41, 0.43, 0.41, 0.23, 0.33, 0.28, 0.33, 0.42, 0.42, 0.44, 0.22, 0.36, 0.34, 0.18, 0.4, 0.25, 0.4, 0.4, 0.3, 0.4, 0.05, 0.34, 0.27, 0.36, 0.41, 0.41, 0.2, 0.36, 0.42, 0.45, 0.27, 0.25, 0.42, 0.42, 0.42, 0.33, 0.37, 0.43, 0.38, 0.05, 0.35, 0.0, 0.07, 0.37, 0.43, 0.41, 0.45, 0.45, 0.45, 0.41, 0.3, 0.21, 0.25, 0.33, 0.45, 0.4, 0.33, 0.41, 0.42, 0.38, 0.42, 0.25, 0.42, 0.38, 0.33, 0.14, 0.31, 0.36, 0.25, 0.4, 0.21, 0.4, 0.44, 0.07, 0.18, 0.45, 0.35, 0.23, 0.45, 0.45, 0.33, 0.42, 0.23, 0.25, 0.3, 0.36, 0.42, 0.44, 0.2, 0.37, 0.41, 0.38, 0.33, 0.45, 0.4, 0.41, 0.22, 0.45, 0.41, 0.33, 0.23, 0.39, 0.42, 0.28, 0.25, 0.16, 0.42, 0.35, 0.43, 0.4, 0.4, 0.29, 0.28, 0.45, 0.37, 0.44, 0.38, 0.33, 0.14, 0.4, 0.33, 0.4, 0.44, 0.37, 0.45, 0.16, 0.4, 0.27, 0.42, 0.33, 0.36, 0.45, 0.28, 0.33, 0.31, 0.45, 0.25, 0.38, 0.07, 0.45, 0.44, 0.42, 0.4, 0.45, 0.25, 0.45, 0.18, 0.35, 0.0, 0.41, 0.37, 0.35, 0.42, 0.38, 0.42, 0.4, 0.42, 0.42, 0.38, 0.42, 0.4, 0.44, 0.34, 0.38, 0.43, 0.43, 0.42, 0.36, 0.41, 0.42, 0.42, 0.41, 0.35, 0.43, 0.38, 0.16, 0.33, 0.43, 0.45, 0.25, 0.45, 0.38, 0.0, 0.3, 0.43, 0.21, 0.44, 0.4, 0.45, 0.33, 0.16, 0.27, 0.39, 0.21, 0.41, 0.12, 0.44, 0.44, 0.44, 0.42, 0.33, 0.22, 0.33, 0.27, 0.25, 0.44, 0.11, 0.3, 0.4, 0.37, 0.37, 0.31, 0.28, 0.2, 0.2, 0.22, 0.41, 0.16, 0.34, 0.33, 0.45, 0.27, 0.42, 0.33, 0.44, 0.45, 0.41, 0.18, 0.44, 0.32, 0.38, 0.23, 0.0, 0.41, 0.42, 0.41, 0.42, 0.44, 0.18, 0.0, 0.44, 0.45, 0.33, 0.44, 0.25, 0.33, 0.45, 0.41, 0.22, 0.25, 0.38, 0.43, 0.44, 0.26, 0.35, 0.2, 0.12, 0.42, 0.42, 0.4, 0.41, 0.32, 0.41, 0.44, 0.45, 0.43, 0.45, 0.39, 0.42, 0.28, 0.43, 0.16, 0.4, 0.4, 0.37, 0.16, 0.21, 0.35, 0.39, 0.14, 0.16, 0.29, 0.35, 0.33, 0.33, 0.3, 0.41, 0.0, 0.45, 0.28, 0.37, 0.31, 0.33, 0.31, 0.27, 0.4, 0.15, 0.37, 0.42, 0.33, 0.44, 0.11, 0.4, 0.4, 0.33, 0.45, 0.23, 0.43, 0.3, 0.41, 0.42, 0.34, 0.0, 0.44, 0.41, 0.4, 0.38, 0.4, 0.41, 0.39, 0.41, 0.42, 0.44, 0.33, 0.33, 0.2, 0.38, 0.33, 0.41, 0.36, 0.25, 0.45, 0.22, 0.37, 0.37, 0.34, 0.3, 0.28, 0.37, 0.33, 0.42, 0.36, 0.21, 0.33, 0.4, 0.4, 0.33, 0.16, 0.45, 0.37, 0.42, 0.4, 0.33, 0.25, 0.21, 0.42, 0.21, 0.41, 0.3, 0.45, 0.28, 0.31, 0.0, 0.28, 0.3, 0.42, 0.23, 0.33, 0.33, 0.33, 0.27, 0.38, 0.38, 0.3, 0.4, 0.44, 0.25, 0.37, 0.24, 0.43, 0.36, 0.44, 0.33, 0.45, 0.35, 0.45, 0.33, 0.16, 0.43, 0.45, 0.38, 0.45, 0.14, 0.33, 0.16, 0.0, 0.42, 0.0, 0.25]\n",
            "outliers in column  TradesOpenedLast6Months  have outlier  [7.0, 5.0, 4.0, 6.0, 5.0, 4.0, 5.0, 4.0, 4.0, 4.0, 4.0, 5.0, 5.0, 5.0, 4.0, 5.0, 4.0, 9.0, 4.0, 4.0, 4.0, 4.0, 4.0, 5.0, 6.0, 5.0, 4.0, 4.0, 4.0, 4.0, 4.0, 5.0, 4.0, 4.0, 5.0, 5.0, 4.0, 4.0, 4.0, 4.0, 4.0, 4.0, 5.0, 4.0, 4.0, 4.0, 5.0, 6.0, 5.0, 4.0, 4.0, 4.0, 4.0, 5.0, 4.0, 4.0, 4.0, 4.0, 5.0, 5.0, 4.0, 5.0, 7.0, 4.0, 6.0, 4.0, 4.0, 4.0, 4.0, 4.0, 4.0, 4.0, 4.0, 6.0, 4.0, 4.0, 4.0, 4.0, 6.0, 9.0, 4.0, 4.0, 4.0, 8.0, 4.0, 5.0, 4.0, 4.0, 5.0, 5.0, 4.0, 5.0, 4.0, 5.0, 5.0, 5.0, 4.0, 4.0, 4.0, 8.0, 4.0, 5.0, 6.0, 4.0, 4.0, 4.0, 4.0, 7.0, 4.0, 4.0, 4.0, 4.0, 4.0, 4.0, 13.0, 4.0, 4.0, 5.0, 4.0, 5.0, 5.0, 5.0, 7.0, 4.0, 4.0, 7.0, 4.0, 4.0, 4.0, 16.0, 5.0, 5.0, 5.0, 6.0, 6.0, 6.0, 4.0, 6.0, 4.0, 4.0, 4.0, 4.0, 7.0, 4.0, 4.0, 4.0, 4.0, 4.0, 8.0, 5.0, 5.0, 4.0, 11.0, 4.0, 4.0, 11.0, 4.0, 4.0, 4.0, 4.0, 4.0, 5.0, 7.0, 4.0, 4.0, 4.0, 4.0, 4.0, 4.0, 4.0, 10.0, 4.0, 8.0, 6.0, 4.0, 4.0, 4.0, 4.0, 5.0, 4.0, 4.0, 5.0, 5.0, 4.0, 5.0, 4.0, 17.0, 4.0, 4.0, 4.0, 4.0, 4.0, 4.0, 5.0, 7.0, 4.0, 4.0, 5.0, 6.0, 4.0, 4.0, 4.0, 4.0, 7.0, 4.0, 5.0, 4.0, 4.0, 4.0, 8.0, 6.0, 4.0, 5.0, 5.0, 4.0, 5.0, 4.0, 4.0, 5.0, 4.0, 4.0, 7.0, 4.0, 4.0, 8.0, 5.0, 4.0, 4.0, 7.0, 5.0, 4.0, 4.0, 4.0, 5.0, 4.0, 4.0, 4.0, 4.0, 5.0, 6.0, 4.0, 4.0, 4.0, 4.0, 4.0, 5.0, 7.0, 4.0, 7.0, 4.0, 4.0, 4.0, 4.0, 4.0, 7.0, 5.0, 4.0, 20.0, 4.0, 4.0, 5.0, 7.0, 6.0, 5.0, 4.0, 4.0, 5.0, 4.0, 4.0, 4.0, 4.0, 4.0, 6.0, 6.0, 5.0, 6.0, 4.0, 4.0, 4.0, 5.0, 4.0, 5.0, 4.0, 4.0, 6.0, 4.0, 5.0, 5.0, 5.0, 4.0, 7.0, 5.0, 4.0, 4.0, 5.0, 4.0, 5.0, 4.0, 4.0, 5.0, 5.0, 4.0, 4.0, 6.0, 5.0, 4.0, 4.0, 4.0, 4.0, 5.0, 4.0, 4.0, 4.0, 4.0, 4.0, 4.0, 4.0, 6.0, 5.0, 9.0, 4.0, 4.0, 4.0, 5.0, 5.0, 6.0, 4.0, 4.0, 4.0, 4.0, 4.0, 4.0, 6.0, 4.0, 7.0, 6.0, 5.0, 4.0, 10.0, 4.0, 4.0, 4.0, 4.0, 4.0, 5.0, 4.0, 4.0, 4.0, 4.0, 4.0, 5.0, 4.0, 4.0, 4.0, 6.0, 5.0, 4.0, 4.0, 8.0, 7.0, 4.0, 4.0, 5.0, 6.0, 5.0, 4.0, 4.0, 5.0, 5.0, 5.0, 4.0, 4.0, 5.0, 4.0, 4.0, 4.0, 4.0, 5.0, 4.0, 5.0, 4.0, 4.0, 4.0, 4.0, 4.0, 6.0, 5.0, 4.0, 4.0, 4.0, 4.0, 4.0, 7.0, 4.0, 5.0, 4.0, 4.0, 7.0, 4.0, 4.0, 4.0, 6.0, 4.0, 7.0, 4.0, 4.0, 6.0, 8.0, 7.0, 5.0, 4.0, 4.0, 5.0, 4.0, 4.0, 5.0, 4.0, 5.0, 5.0, 4.0, 6.0, 4.0, 4.0, 5.0, 5.0, 4.0, 4.0, 8.0, 4.0, 5.0, 4.0, 4.0, 4.0, 4.0, 5.0, 5.0, 5.0, 4.0, 4.0, 4.0, 8.0, 4.0, 4.0, 4.0, 4.0, 4.0, 4.0, 4.0, 6.0, 4.0, 4.0, 5.0, 4.0, 6.0, 6.0, 4.0, 4.0, 4.0, 5.0, 4.0, 4.0, 5.0, 4.0, 4.0, 4.0, 4.0, 4.0, 4.0, 6.0, 5.0, 5.0, 4.0, 11.0, 5.0, 5.0, 4.0, 4.0, 4.0, 4.0, 4.0, 4.0, 5.0, 4.0, 4.0, 4.0, 5.0, 4.0, 4.0, 6.0, 6.0, 4.0, 4.0, 5.0, 4.0, 4.0, 4.0, 4.0, 5.0, 4.0, 5.0, 4.0, 4.0, 4.0, 4.0, 4.0, 9.0, 5.0, 4.0, 5.0, 4.0, 4.0, 5.0, 5.0, 4.0, 4.0, 4.0, 4.0, 6.0, 4.0, 4.0, 6.0, 4.0, 4.0, 5.0, 7.0, 5.0, 5.0, 4.0, 6.0, 5.0, 4.0, 4.0, 5.0, 5.0, 5.0, 4.0, 4.0, 4.0, 4.0, 5.0, 5.0, 4.0, 5.0, 4.0, 4.0, 5.0, 8.0, 6.0, 7.0, 6.0, 4.0, 8.0, 4.0, 5.0, 5.0, 4.0, 5.0, 5.0, 4.0, 5.0, 4.0, 5.0, 4.0, 4.0, 4.0, 4.0, 4.0, 4.0, 4.0, 9.0, 4.0, 12.0, 4.0, 5.0, 5.0, 4.0, 6.0, 6.0, 4.0, 4.0, 5.0, 4.0, 4.0, 7.0, 6.0, 4.0, 5.0, 6.0, 5.0, 4.0, 4.0, 4.0, 7.0, 5.0, 5.0, 4.0, 4.0, 4.0, 5.0, 7.0, 4.0, 5.0, 4.0, 4.0, 5.0, 6.0, 5.0, 6.0, 6.0, 4.0, 4.0, 4.0, 4.0, 4.0, 4.0, 4.0, 5.0, 4.0, 6.0, 4.0, 4.0, 7.0, 4.0, 4.0, 6.0, 4.0, 6.0, 4.0, 4.0, 5.0, 4.0, 4.0, 5.0, 4.0, 4.0, 4.0, 8.0, 7.0, 4.0, 4.0, 4.0, 4.0, 4.0, 6.0, 5.0, 7.0, 7.0, 5.0, 4.0, 5.0, 8.0, 4.0, 5.0, 4.0, 4.0, 4.0, 4.0, 4.0, 4.0, 4.0, 7.0, 4.0, 4.0, 4.0, 5.0, 4.0, 8.0, 5.0, 4.0, 5.0, 5.0, 9.0, 7.0, 5.0, 4.0, 4.0, 5.0, 5.0, 4.0, 5.0, 7.0, 5.0, 4.0, 4.0, 4.0, 4.0, 5.0, 11.0, 4.0, 5.0, 4.0, 5.0, 4.0, 5.0, 5.0, 5.0, 5.0, 4.0, 4.0, 4.0, 4.0, 4.0, 6.0, 7.0, 6.0, 4.0, 4.0, 4.0, 4.0, 6.0, 6.0, 5.0, 5.0, 5.0, 5.0, 7.0, 5.0, 4.0, 4.0, 5.0, 4.0, 4.0, 4.0, 14.0, 5.0, 4.0, 4.0, 6.0, 4.0, 4.0, 4.0, 4.0, 4.0, 4.0, 4.0, 6.0, 4.0, 4.0, 4.0, 5.0, 4.0, 4.0, 6.0, 4.0, 5.0, 5.0, 4.0, 4.0, 4.0, 4.0, 4.0, 4.0, 7.0, 4.0, 4.0, 4.0, 6.0, 4.0, 4.0, 4.0, 4.0, 5.0, 4.0, 5.0, 4.0, 4.0, 4.0, 4.0, 4.0, 4.0, 4.0, 4.0, 4.0, 5.0, 4.0, 5.0, 4.0, 7.0, 4.0, 4.0, 5.0, 8.0, 4.0, 6.0, 4.0, 4.0, 5.0, 4.0, 4.0, 7.0, 4.0, 6.0, 4.0, 4.0, 6.0, 4.0, 4.0, 4.0, 4.0, 5.0, 4.0, 4.0, 7.0, 5.0, 4.0, 6.0, 4.0, 4.0, 4.0, 4.0, 10.0, 4.0, 4.0, 4.0, 5.0, 5.0, 4.0, 4.0, 17.0, 5.0, 5.0, 5.0, 4.0, 5.0, 5.0, 4.0, 6.0, 6.0, 5.0, 4.0, 7.0, 9.0, 7.0, 4.0, 4.0, 4.0, 6.0, 4.0, 5.0, 8.0, 5.0, 4.0, 5.0, 4.0, 4.0, 5.0, 7.0, 5.0, 4.0, 4.0, 10.0, 5.0, 4.0, 6.0, 5.0, 4.0, 4.0, 6.0, 4.0, 4.0, 4.0, 4.0, 4.0, 5.0, 9.0, 4.0, 4.0, 5.0, 4.0, 5.0, 4.0, 5.0, 6.0, 4.0, 4.0, 4.0, 4.0, 4.0, 4.0, 4.0, 6.0, 4.0, 6.0, 4.0, 4.0, 4.0, 4.0, 4.0, 4.0, 5.0, 4.0, 5.0, 4.0, 4.0, 7.0, 5.0, 4.0, 4.0, 4.0, 5.0, 5.0, 4.0, 5.0, 5.0, 4.0, 4.0, 9.0, 5.0, 4.0, 4.0, 4.0, 5.0, 6.0, 5.0, 4.0, 4.0, 8.0, 4.0, 5.0, 4.0, 4.0, 5.0, 8.0, 4.0, 6.0, 4.0, 4.0, 5.0, 4.0, 4.0, 6.0, 5.0, 6.0, 4.0, 4.0, 4.0, 4.0, 5.0, 4.0, 4.0, 5.0, 5.0, 4.0, 4.0, 4.0, 8.0, 4.0, 7.0, 5.0, 4.0, 4.0, 6.0, 5.0, 4.0, 5.0, 5.0, 4.0, 4.0, 4.0, 4.0, 4.0, 4.0, 4.0, 6.0, 4.0, 4.0, 7.0, 4.0, 6.0, 7.0, 4.0, 4.0, 6.0, 4.0, 5.0, 5.0, 4.0, 4.0, 6.0, 4.0, 4.0, 4.0, 4.0, 4.0, 6.0, 4.0, 6.0, 4.0, 4.0, 4.0, 6.0, 5.0, 4.0, 5.0, 4.0, 5.0, 5.0, 4.0, 4.0, 5.0, 4.0, 4.0, 7.0, 4.0, 4.0, 4.0, 5.0, 10.0, 5.0, 4.0, 4.0, 5.0, 4.0, 4.0, 4.0, 4.0, 5.0, 7.0, 4.0, 5.0, 4.0, 5.0, 6.0, 5.0, 4.0, 6.0, 7.0, 4.0, 5.0, 4.0, 5.0, 5.0, 5.0, 4.0, 4.0, 4.0, 6.0, 7.0, 4.0, 7.0, 4.0, 5.0, 7.0, 8.0, 5.0, 4.0, 4.0, 5.0, 4.0, 4.0, 5.0, 4.0, 5.0, 5.0, 5.0, 5.0, 4.0, 4.0, 13.0, 7.0, 6.0, 4.0, 5.0, 4.0, 4.0, 4.0, 4.0, 4.0, 5.0, 5.0, 4.0, 5.0, 4.0, 4.0, 4.0, 5.0, 5.0, 4.0, 4.0, 4.0, 4.0, 4.0, 4.0, 4.0, 4.0, 8.0, 8.0, 5.0, 4.0, 4.0, 6.0, 4.0, 4.0, 4.0, 4.0, 5.0, 6.0, 4.0, 4.0, 4.0, 5.0, 5.0, 4.0, 4.0, 4.0, 5.0, 4.0, 5.0, 4.0, 7.0, 4.0, 4.0, 4.0, 4.0, 4.0, 4.0, 5.0, 4.0, 4.0, 9.0, 4.0, 6.0, 6.0, 5.0, 5.0, 4.0, 5.0, 5.0, 4.0, 6.0, 4.0, 4.0, 5.0, 4.0, 4.0, 6.0, 4.0, 5.0, 4.0, 4.0, 4.0, 4.0, 5.0, 5.0, 4.0, 4.0, 4.0, 6.0, 4.0, 4.0, 4.0, 4.0, 4.0, 4.0, 5.0, 4.0, 4.0, 4.0, 4.0, 5.0, 4.0, 4.0, 10.0, 4.0, 6.0, 4.0, 5.0, 4.0, 4.0, 7.0, 4.0, 6.0, 5.0, 4.0, 4.0, 4.0, 4.0, 4.0, 6.0, 4.0, 4.0, 4.0, 4.0, 4.0, 4.0, 6.0, 4.0, 4.0, 4.0, 5.0, 6.0, 4.0, 7.0, 5.0, 5.0, 6.0, 4.0, 5.0, 4.0, 4.0, 6.0, 4.0, 4.0, 4.0, 4.0, 6.0, 4.0, 4.0, 5.0, 12.0, 4.0, 4.0, 6.0, 6.0, 4.0, 4.0, 4.0, 4.0, 8.0, 5.0, 4.0, 6.0, 5.0, 4.0, 4.0, 6.0, 4.0, 5.0, 5.0, 8.0, 4.0, 5.0, 5.0, 10.0, 4.0, 5.0, 4.0, 5.0, 4.0, 5.0, 5.0, 6.0, 5.0, 4.0, 4.0, 4.0, 5.0, 4.0, 7.0, 8.0, 4.0, 4.0, 4.0, 6.0, 6.0, 5.0, 4.0, 4.0, 4.0, 5.0, 6.0, 5.0, 4.0, 7.0, 4.0, 5.0, 5.0, 5.0, 6.0, 4.0, 7.0, 4.0, 4.0, 4.0, 4.0, 5.0, 7.0, 7.0, 5.0, 4.0, 5.0, 8.0, 4.0, 4.0, 7.0, 5.0, 8.0, 4.0, 4.0, 4.0, 4.0, 5.0, 4.0, 4.0, 5.0, 5.0, 4.0, 6.0, 4.0, 6.0, 5.0, 4.0, 4.0, 4.0, 4.0, 4.0, 4.0, 4.0, 5.0, 9.0, 4.0, 4.0, 4.0, 5.0, 4.0, 4.0, 5.0, 4.0, 6.0, 5.0, 5.0, 4.0, 4.0, 5.0, 6.0, 4.0, 4.0, 12.0, 4.0, 4.0, 5.0, 4.0, 4.0, 4.0, 5.0, 4.0, 4.0, 4.0, 4.0, 6.0, 5.0, 4.0, 6.0, 6.0, 4.0, 4.0, 4.0, 4.0, 4.0, 6.0, 5.0, 4.0, 5.0, 4.0, 6.0, 5.0, 6.0, 5.0, 4.0, 6.0, 4.0, 4.0, 4.0, 5.0, 4.0, 5.0, 4.0, 4.0, 5.0, 5.0, 5.0, 5.0, 4.0, 5.0, 4.0, 4.0, 4.0, 5.0, 5.0, 4.0, 4.0, 10.0, 4.0, 4.0, 5.0, 4.0, 4.0, 5.0, 4.0, 4.0, 4.0, 7.0, 6.0, 4.0, 5.0, 5.0, 4.0, 13.0, 4.0, 4.0, 4.0, 7.0, 4.0, 5.0, 10.0, 4.0, 4.0, 4.0, 8.0, 4.0, 4.0, 6.0, 6.0, 5.0, 5.0, 4.0, 4.0, 7.0, 5.0, 4.0, 6.0, 4.0, 6.0, 4.0, 4.0, 4.0, 4.0, 15.0, 5.0, 5.0, 4.0, 5.0, 8.0, 5.0, 4.0, 4.0, 4.0, 4.0, 4.0, 5.0, 6.0, 5.0, 4.0, 5.0, 4.0, 4.0, 4.0, 9.0, 8.0, 5.0, 4.0, 4.0, 5.0, 4.0, 4.0, 4.0, 6.0, 4.0, 4.0, 4.0, 4.0, 4.0, 8.0, 12.0, 4.0, 10.0, 6.0, 4.0, 5.0, 4.0, 4.0, 4.0, 4.0, 4.0, 4.0, 4.0, 5.0, 5.0, 7.0, 4.0, 4.0, 5.0, 6.0, 4.0, 4.0, 4.0, 4.0, 4.0, 4.0, 8.0, 5.0, 4.0, 6.0, 4.0, 5.0, 4.0, 8.0, 5.0, 4.0, 4.0, 8.0, 5.0, 6.0, 5.0, 5.0, 7.0, 4.0, 4.0, 4.0, 10.0, 7.0, 4.0, 4.0, 4.0, 6.0, 5.0, 6.0, 4.0, 5.0, 5.0, 4.0, 4.0, 5.0, 4.0, 5.0, 5.0, 6.0, 4.0, 4.0, 4.0, 6.0, 9.0, 6.0, 4.0, 6.0, 4.0, 4.0, 4.0, 6.0, 4.0, 5.0, 4.0, 4.0, 4.0, 5.0, 6.0, 4.0, 4.0, 5.0, 5.0, 6.0, 6.0, 4.0, 4.0, 4.0, 5.0, 4.0, 4.0, 4.0, 8.0, 6.0, 7.0, 4.0, 4.0, 4.0, 5.0, 4.0, 4.0, 6.0, 5.0, 7.0, 5.0, 4.0, 4.0, 5.0, 4.0, 6.0, 4.0, 5.0, 6.0, 4.0, 7.0, 5.0, 7.0, 5.0, 4.0, 6.0, 4.0, 4.0, 6.0, 4.0, 4.0, 4.0, 5.0, 4.0, 4.0, 5.0, 5.0, 7.0, 4.0, 5.0, 4.0, 6.0, 5.0, 4.0, 5.0, 5.0, 4.0, 7.0, 5.0, 4.0, 4.0, 4.0, 8.0, 4.0, 4.0, 5.0, 4.0, 5.0, 4.0, 4.0, 4.0, 4.0, 4.0, 6.0, 4.0, 4.0, 8.0, 5.0, 5.0, 6.0, 4.0, 7.0, 5.0, 4.0, 4.0, 4.0, 4.0, 4.0, 4.0, 4.0, 4.0, 4.0, 5.0, 5.0, 4.0, 6.0, 4.0, 4.0, 5.0, 4.0, 5.0, 5.0, 4.0, 4.0, 4.0, 4.0, 5.0, 6.0, 4.0, 4.0, 6.0, 4.0, 5.0, 5.0, 4.0, 5.0, 4.0, 6.0, 5.0, 4.0, 4.0, 4.0, 5.0, 4.0, 4.0, 4.0, 5.0, 4.0, 4.0, 8.0, 9.0, 5.0, 5.0, 4.0, 4.0, 5.0, 4.0, 5.0, 4.0, 5.0, 5.0, 5.0, 14.0, 4.0, 4.0, 4.0, 4.0, 5.0, 4.0, 4.0, 4.0, 4.0, 4.0, 5.0, 4.0, 4.0, 7.0, 4.0, 4.0, 5.0, 5.0, 4.0, 5.0, 5.0, 6.0, 4.0, 6.0, 5.0, 4.0, 6.0, 4.0, 4.0, 5.0, 4.0, 4.0, 4.0, 5.0, 4.0, 4.0, 4.0, 5.0, 7.0, 4.0, 4.0, 7.0, 4.0, 4.0, 6.0, 5.0, 5.0, 4.0, 4.0, 4.0, 4.0, 9.0, 6.0, 5.0, 4.0, 4.0, 4.0, 4.0, 6.0, 5.0, 4.0, 4.0, 4.0, 4.0, 4.0, 4.0, 5.0, 6.0, 4.0, 4.0, 5.0, 4.0, 4.0, 4.0, 5.0, 5.0, 4.0, 4.0, 8.0, 4.0, 4.0, 4.0, 4.0, 4.0, 4.0, 4.0, 4.0, 5.0, 4.0, 4.0, 6.0, 4.0, 4.0, 4.0, 5.0, 5.0, 6.0, 4.0, 5.0, 4.0, 5.0, 4.0, 4.0, 4.0, 4.0, 6.0, 5.0, 4.0, 5.0, 4.0, 4.0, 4.0, 4.0, 4.0, 4.0, 6.0, 5.0, 4.0, 4.0, 6.0, 4.0, 4.0, 4.0, 4.0, 4.0, 6.0, 5.0, 4.0, 4.0, 11.0, 4.0, 4.0, 4.0, 4.0, 5.0, 4.0, 4.0, 5.0, 4.0, 5.0, 6.0, 4.0, 4.0, 4.0, 4.0, 4.0, 5.0, 6.0, 5.0, 4.0, 4.0, 4.0, 6.0, 5.0, 4.0, 5.0, 4.0, 6.0, 4.0, 4.0, 4.0, 4.0, 4.0, 4.0, 5.0, 4.0, 4.0, 5.0, 4.0, 4.0, 4.0, 4.0, 4.0, 4.0, 7.0, 4.0, 4.0, 5.0, 4.0, 4.0, 4.0, 4.0, 4.0, 9.0, 4.0, 4.0, 4.0, 4.0, 4.0, 4.0, 4.0, 4.0, 7.0, 6.0, 4.0, 7.0, 4.0, 4.0, 4.0, 5.0, 5.0, 4.0, 4.0, 4.0, 5.0, 4.0, 4.0, 4.0, 4.0, 5.0, 4.0, 4.0, 4.0, 4.0, 4.0, 6.0, 4.0, 7.0, 4.0, 7.0, 5.0, 5.0, 4.0, 4.0, 4.0, 5.0, 4.0, 4.0, 8.0, 4.0, 5.0, 8.0, 4.0, 6.0, 5.0, 4.0, 4.0, 5.0, 4.0, 4.0, 4.0, 4.0, 5.0, 5.0, 5.0, 4.0, 4.0, 5.0, 5.0, 4.0, 4.0, 4.0, 4.0, 6.0, 5.0, 4.0, 5.0, 6.0, 4.0, 7.0, 4.0, 4.0, 4.0, 5.0, 4.0, 4.0, 4.0, 4.0, 4.0, 4.0, 5.0, 4.0, 5.0, 4.0, 4.0, 5.0, 4.0, 4.0, 4.0, 4.0, 4.0, 4.0, 4.0, 4.0, 4.0, 4.0, 4.0, 4.0, 6.0, 4.0, 4.0, 5.0, 4.0, 5.0, 4.0, 4.0, 6.0, 4.0, 5.0, 4.0, 4.0, 4.0, 6.0, 5.0, 4.0, 5.0, 5.0, 4.0, 4.0, 6.0, 4.0, 4.0, 4.0, 4.0, 4.0, 4.0, 4.0, 5.0, 4.0, 5.0, 4.0, 8.0, 5.0, 8.0, 6.0, 4.0, 4.0, 4.0, 4.0, 5.0, 4.0, 5.0, 7.0, 5.0, 5.0, 7.0, 5.0, 4.0, 4.0, 4.0, 4.0, 4.0, 4.0, 7.0, 4.0, 5.0, 4.0, 5.0, 4.0, 4.0, 7.0, 4.0, 4.0, 4.0, 4.0, 7.0, 4.0, 4.0, 4.0, 4.0, 5.0, 6.0, 6.0, 4.0, 5.0, 4.0, 6.0, 4.0, 4.0, 5.0, 4.0, 4.0, 4.0, 4.0, 4.0, 5.0, 5.0, 4.0, 4.0, 5.0, 6.0, 5.0, 4.0, 4.0, 4.0, 4.0, 4.0, 7.0, 4.0, 4.0, 5.0, 4.0, 4.0, 4.0, 4.0, 4.0, 6.0, 5.0, 6.0, 4.0, 4.0, 4.0, 4.0, 4.0, 8.0, 10.0, 4.0, 4.0, 5.0, 4.0, 5.0, 4.0, 4.0, 7.0, 5.0, 4.0, 5.0, 6.0, 5.0, 5.0, 4.0, 5.0, 5.0, 4.0, 4.0, 5.0, 4.0, 5.0, 6.0, 4.0, 4.0, 6.0, 4.0, 6.0, 4.0, 6.0, 4.0, 5.0, 4.0, 4.0, 4.0, 4.0, 4.0, 4.0, 4.0, 4.0, 6.0, 6.0, 4.0, 4.0, 5.0, 4.0, 4.0, 5.0, 5.0, 4.0, 5.0, 4.0, 4.0, 4.0, 4.0, 4.0, 5.0, 4.0, 5.0, 7.0, 5.0, 5.0, 4.0, 4.0, 6.0, 5.0, 4.0, 4.0, 4.0, 4.0, 5.0, 4.0, 4.0, 6.0, 6.0, 4.0, 4.0, 4.0, 7.0, 4.0, 7.0, 12.0, 4.0, 5.0, 4.0, 6.0, 4.0, 7.0, 4.0, 7.0, 4.0, 4.0, 5.0, 4.0, 4.0, 6.0, 4.0, 5.0, 4.0, 9.0, 4.0, 5.0, 4.0, 4.0, 6.0, 6.0, 6.0, 5.0, 4.0, 6.0, 4.0, 5.0, 5.0, 11.0, 7.0, 4.0, 4.0, 4.0, 4.0, 4.0, 4.0, 4.0, 6.0, 7.0, 4.0, 6.0, 6.0, 5.0, 4.0, 4.0, 4.0, 5.0, 5.0, 4.0, 5.0, 4.0, 6.0, 4.0, 4.0, 4.0, 4.0, 4.0, 5.0, 4.0, 4.0, 4.0, 4.0, 4.0, 4.0, 4.0, 5.0, 4.0, 4.0, 4.0, 6.0, 5.0, 5.0, 4.0, 5.0, 4.0, 4.0, 4.0, 4.0, 4.0, 4.0, 4.0, 5.0, 6.0, 5.0, 6.0, 4.0, 9.0, 4.0, 5.0, 5.0, 4.0, 6.0, 5.0, 6.0, 7.0, 6.0, 4.0, 5.0, 4.0, 6.0, 5.0, 4.0, 4.0, 4.0, 4.0, 4.0, 4.0, 7.0, 5.0, 4.0, 5.0, 12.0, 5.0, 8.0, 4.0, 4.0, 4.0, 6.0, 4.0, 5.0, 12.0, 4.0, 4.0, 4.0, 4.0, 5.0, 4.0, 4.0, 4.0, 5.0, 4.0, 5.0, 5.0, 6.0, 4.0, 4.0, 4.0, 4.0, 4.0, 4.0, 4.0, 5.0, 4.0, 4.0, 6.0, 5.0, 9.0, 4.0, 4.0, 4.0, 5.0, 9.0, 4.0, 4.0, 4.0, 4.0, 5.0, 7.0, 5.0, 4.0, 8.0, 4.0, 4.0, 5.0, 6.0, 4.0, 4.0, 5.0, 5.0, 4.0, 4.0, 4.0, 5.0, 4.0, 4.0, 4.0, 4.0, 7.0, 5.0, 4.0, 4.0, 4.0, 4.0, 4.0, 4.0, 6.0, 4.0, 4.0, 5.0, 4.0, 4.0, 7.0, 4.0, 6.0, 4.0, 4.0, 6.0, 5.0, 4.0, 4.0, 4.0, 4.0, 6.0, 4.0, 4.0, 9.0, 4.0, 4.0, 4.0, 4.0, 5.0, 4.0, 4.0, 5.0, 4.0, 4.0, 4.0, 6.0, 5.0, 7.0, 4.0, 4.0, 5.0, 4.0, 5.0, 4.0, 6.0, 4.0, 11.0, 4.0, 4.0, 4.0, 5.0, 4.0, 4.0, 5.0, 4.0, 4.0, 5.0, 4.0, 5.0, 4.0, 7.0, 8.0, 4.0, 6.0, 4.0, 4.0, 5.0, 4.0, 5.0, 11.0, 4.0, 4.0, 4.0, 4.0, 6.0, 6.0, 4.0, 4.0, 4.0, 6.0, 6.0, 5.0, 5.0, 6.0, 4.0, 5.0, 5.0, 5.0, 5.0, 4.0, 4.0, 6.0, 5.0, 4.0, 4.0, 4.0, 5.0, 4.0, 4.0, 4.0, 5.0, 8.0, 4.0, 4.0, 4.0, 4.0, 4.0, 4.0, 6.0, 5.0, 6.0, 5.0, 4.0, 4.0, 8.0, 6.0, 4.0, 7.0, 5.0, 4.0, 6.0, 5.0, 4.0, 6.0, 4.0, 7.0, 4.0, 5.0, 5.0, 4.0, 4.0, 11.0, 4.0, 4.0, 4.0, 4.0, 4.0, 5.0, 4.0, 6.0, 4.0, 4.0, 4.0, 4.0, 4.0, 4.0, 7.0, 4.0, 7.0, 5.0, 5.0, 8.0, 6.0, 4.0, 5.0, 4.0, 4.0, 7.0, 6.0, 4.0, 5.0, 4.0, 4.0, 5.0, 6.0, 4.0, 4.0, 8.0, 4.0, 4.0, 4.0, 6.0, 4.0, 4.0, 5.0, 4.0, 6.0, 5.0, 4.0, 6.0, 4.0, 5.0, 6.0, 4.0, 4.0, 4.0, 5.0, 4.0, 6.0, 4.0, 5.0, 4.0, 4.0, 6.0, 7.0, 6.0, 4.0, 4.0, 4.0, 4.0, 4.0, 4.0, 7.0, 4.0, 5.0, 5.0, 4.0, 6.0, 5.0, 6.0, 4.0, 6.0, 5.0, 4.0, 4.0, 4.0, 4.0, 5.0, 8.0, 4.0, 4.0, 4.0, 4.0, 5.0, 4.0, 9.0, 4.0, 4.0, 4.0, 4.0, 4.0, 4.0, 7.0, 6.0, 4.0, 4.0, 4.0, 4.0, 4.0, 4.0, 4.0, 4.0, 5.0, 5.0, 4.0, 4.0, 5.0, 4.0, 4.0, 13.0, 4.0, 4.0, 4.0, 5.0, 6.0, 4.0, 4.0, 4.0, 5.0, 4.0, 5.0, 5.0, 4.0, 5.0, 4.0, 6.0, 4.0, 4.0, 5.0, 6.0, 4.0, 4.0, 4.0, 5.0, 5.0, 5.0, 5.0, 6.0, 5.0, 4.0, 4.0, 5.0, 4.0, 4.0, 5.0, 4.0, 5.0, 4.0, 6.0, 4.0, 4.0, 6.0, 4.0, 5.0, 4.0, 11.0, 4.0, 6.0, 13.0, 5.0, 5.0, 5.0, 4.0, 5.0, 4.0, 4.0, 4.0, 4.0, 5.0, 5.0, 5.0, 4.0, 4.0, 5.0, 6.0, 4.0, 4.0, 4.0, 4.0, 9.0, 4.0, 4.0, 6.0, 4.0, 4.0, 5.0, 4.0, 9.0, 6.0, 5.0, 4.0, 11.0, 4.0, 4.0, 5.0, 4.0, 4.0, 4.0, 4.0, 4.0, 4.0, 5.0, 4.0, 5.0, 4.0, 5.0, 5.0, 12.0, 5.0, 4.0, 10.0, 4.0, 4.0, 4.0, 4.0, 4.0, 6.0, 4.0, 4.0, 6.0, 4.0, 5.0, 7.0, 5.0, 4.0, 4.0, 5.0, 6.0, 4.0, 5.0, 4.0, 4.0, 4.0, 5.0, 4.0, 4.0, 4.0, 5.0, 8.0, 4.0, 4.0, 6.0, 4.0, 4.0, 5.0, 4.0, 4.0, 4.0, 4.0, 4.0, 4.0, 4.0, 4.0, 5.0, 4.0, 4.0, 4.0, 4.0, 4.0, 6.0, 5.0, 5.0, 5.0, 4.0, 4.0, 4.0, 5.0, 4.0, 4.0, 5.0, 4.0, 5.0, 4.0, 7.0, 5.0, 5.0, 4.0, 4.0, 4.0, 6.0, 4.0, 4.0, 4.0, 5.0, 4.0, 5.0, 5.0, 4.0, 11.0, 4.0, 4.0, 4.0, 4.0, 4.0, 5.0, 6.0, 15.0, 6.0, 5.0, 5.0, 5.0, 4.0, 5.0, 4.0]\n",
            "outliers in column  DebtToIncomeRatio  have outlier  [9.2, 10.01, 10.01, 10.01, 1.89, 10.01, 3.49, 2.5, 10.01, 10.01, 10.01, 7.42, 10.01, 4.66, 3.53, 10.01, 4.0, 2.95, 10.01, 2.34, 10.01, 10.01, 5.18, 10.01, 10.01, 8.63, 10.01, 10.01, 10.01, 9.44, 4.21, 10.01, 6.06, 10.01, 2.72, 10.01, 6.68, 10.01, 10.01, 10.01, 10.01, 10.01, 10.01, 10.01, 10.01, 10.01, 4.33, 1.89, 10.01, 10.01, 10.01, 4.43, 1.87, 10.01, 10.01, 10.01, 2.66, 4.19, 10.01, 10.01, 10.01, 5.29, 10.01, 6.37, 3.64, 10.01, 10.01, 10.01, 2.3, 2.2, 1.99, 7.9, 10.01, 10.01, 10.01, 4.71, 2.07, 10.01, 5.56, 2.48, 2.35, 5.55, 10.01, 10.01, 10.01, 10.01, 10.01, 4.4, 6.49, 10.01, 4.37, 3.11, 3.27, 10.01, 10.01, 3.54, 10.01, 5.36, 7.79, 3.39, 2.97, 1.99, 4.9, 10.01, 4.32, 10.01, 4.78, 10.01, 2.6, 10.01, 10.01, 8.13, 2.02, 1.87, 2.2, 10.01, 5.23, 10.01, 10.01, 2.22, 4.58, 2.95, 2.94, 2.65, 1.94, 10.01, 10.01, 2.02, 10.01, 10.01, 10.01, 10.01, 10.01, 5.1, 2.11, 10.01, 7.59, 1.95, 10.01, 3.23, 2.07, 10.01, 1.93, 10.01, 4.54, 10.01, 10.01, 10.01, 3.81, 10.01, 10.01, 10.01, 4.14, 10.01, 2.45, 2.19, 10.01, 7.27, 10.01, 10.01, 5.15, 3.49, 10.01, 10.01, 3.45, 10.01, 3.76, 10.01, 5.59, 10.01, 3.32, 2.28, 5.56, 2.45, 4.04, 3.73, 6.01, 4.71, 4.9, 10.01, 10.01, 10.01, 3.27, 10.01, 10.01, 10.01, 10.01, 5.02, 2.72, 4.43, 10.01, 2.7, 10.01, 2.34, 10.01, 2.14, 10.01, 5.34, 4.13, 10.01, 2.3, 10.01, 5.21, 2.43, 10.01, 10.01, 7.52, 10.01, 2.72, 10.01, 2.99, 2.3, 10.01, 1.98, 10.01, 10.01, 10.01, 10.01, 10.01, 2.23, 10.01, 3.23, 3.28, 10.01, 10.01, 10.01, 10.01, 10.01, 10.01, 2.6, 4.68, 10.01, 5.5608, 10.01, 10.01, 10.01, 2.79, 10.01, 10.01, 2.2, 6.51, 2.05, 10.01, 10.01, 10.01, 10.01, 10.01, 10.01, 10.01, 3.71, 10.01, 2.59, 5.67, 10.01, 8.53, 10.01, 2.67, 2.21, 5.65, 10.01, 10.01, 10.01, 3.68, 10.01, 2.1, 10.01, 10.01, 10.01, 1.98, 4.84, 4.89, 10.01, 10.01, 5.98, 3.22, 10.01, 2.2, 10.01, 10.01, 3.66, 10.01, 1.92, 3.77, 2.45, 10.01, 10.01, 10.01, 6.07, 6.95, 3.09, 8.52, 10.01, 10.01, 8.06, 10.01, 3.17, 3.14, 10.01, 4.15, 10.01, 2.65, 10.01, 1.94, 1.99, 2.49, 10.01, 10.01, 10.01, 10.01, 3.26, 10.01, 10.01, 3.58, 10.01, 10.01, 10.01, 2.18, 10.01, 1.93, 5.31, 6.96, 2.27329, 10.01, 10.01, 10.01, 10.01, 10.01, 10.01, 2.08, 10.01, 10.01, 10.01, 2.57, 10.01, 10.01, 7.47, 6.05, 10.01, 4.4, 4.75, 10.01, 2.99, 3.19, 2.19, 10.01, 2.55, 4.16, 10.01, 10.01, 10.01, 10.01, 8.27, 10.01, 10.01, 3.92, 2.5, 10.01, 10.01, 10.01, 7.06, 10.01, 5.64, 10.01, 10.01, 5.16, 10.01, 2.38, 10.01, 7.27, 10.01, 5.36, 3.73, 10.01, 10.01, 10.01, 2.25, 10.01, 10.01, 10.01, 10.01, 4.42, 10.01, 10.01, 2.1, 3.64, 4.03, 10.01, 6.66, 5.05, 2.31, 10.01, 3.38, 10.01, 10.01, 10.01, 9.77, 10.01, 10.01, 4.85, 10.01, 10.01, 10.01, 1.87, 10.01, 10.01, 1.96, 10.01, 10.01, 10.01, 10.01, 10.01, 5.06, 5.76, 10.01, 10.01, 6.2, 10.01, 5.38, 10.01, 10.01, 5.26, 10.01, 10.01, 9.06, 10.01, 4.76, 5.69, 6.85, 2.74, 10.01, 10.01, 7.22, 10.01, 10.01, 10.01, 10.01, 3.92, 7.99, 1.89, 10.01, 10.01, 2.86, 2.47, 2.63, 10.01, 10.01, 10.01, 10.01, 10.01, 10.01, 3.86, 4.44, 4.27, 10.01, 10.01, 10.01, 10.01, 1.9, 10.01, 2.83, 3.81, 10.01, 2.09, 10.01, 10.01, 10.01, 10.01, 10.01, 10.01, 10.01, 2.38, 10.01, 10.01, 10.01, 3.53, 4.29, 2.79, 3.92, 3.59, 10.01, 3.07, 10.01, 10.01, 10.01, 10.01, 10.01, 3.49, 10.01, 10.01, 3.29, 10.01, 4.86, 10.01, 10.01, 2.53, 2.38, 2.16, 10.01]\n",
            "outliers in column  StatedMonthlyIncome  have outlier  [33333.333333, 33333.333333, 40000.0, 30166.666667, 31666.666667, 31666.666667, 41666.666667, 37500.0, 34813.25, 31250.0, 37500.0, 41666.666667, 33333.333333, 33333.333333, 31154.75, 50000.0, 41666.666667, 37500.0, 29166.666667, 75000.0, 28333.333333, 33083.333333, 35000.0, 29166.666667, 35000.0, 40833.333333, 29166.666667, 32500.0, 31250.0, 37500.0, 33333.333333, 37500.0, 33333.333333, 32083.333333, 29833.333333, 48204.916667, 416666.666667, 36416.666667, 208333.333333, 33333.333333, 29083.333333, 41666.666667, 32024.583333, 33333.333333, 33333.333333, 75000.0, 29166.666667, 30000.0, 52500.0, 39583.333333, 83333.333333, 35416.666667, 29166.666667, 45000.0, 35416.666667, 66666.666667, 42560.416667, 83333.333333, 29333.333333, 33333.333333, 58616.666667, 33333.333333, 34166.666667, 31166.666667, 31250.0, 39583.333333, 30833.333333, 483333.333333, 61000.0, 28916.666667, 29166.666667, 30833.333333, 33333.333333, 35416.666667, 33183.333333, 33083.333333, 32500.0, 29166.666667, 78364.416667, 37500.0, 53333.333333, 53333.333333, 37500.0, 35416.666667, 59927.416667, 29166.666667, 37500.0, 30000.0, 32500.0, 41667.0, 28333.333333, 33333.333333, 41666.666667, 64994.666667, 58333.333333, 30000.0, 37500.0, 75000.0, 29166.666667, 75000.0, 70833.333333, 33333.333333, 30000.0, 37833.333333, 35000.0, 32083.333333, 73333.333333, 37500.0, 45000.0, 35416.666667, 41666.666667, 45000.0, 44583.333333, 29166.666667, 35416.666667, 50000.0, 30000.0, 29166.666667, 29166.666667, 50000.0, 33000.0, 29166.666667, 30000.0, 39500.0, 41666.666667, 31666.666667, 46500.0, 62500.0, 33333.333333, 108333.333333, 75000.0, 48204.916667, 29166.666667, 29166.666667, 33333.333333, 29166.666667, 34500.0, 34250.0, 51915.333333, 28333.333333, 32500.0, 29666.666667, 31250.0, 33333.333333, 30000.0, 41250.0, 29166.666667, 50000.0, 29166.666667, 29166.666667, 29166.666667, 30000.0, 38750.0, 33333.333333, 31666.666667, 41666.666667, 29500.0, 29166.666667, 28333.333333, 41666.666667, 29166.666667, 29185.25, 33166.666667, 45833.333333, 29166.666667, 74448.916667, 62500.0, 36250.0, 29166.666667, 66666.666667, 150000.0, 32500.0, 75000.0, 75916.666667, 38333.333333, 45833.333333, 29166.666667, 39583.333333, 32500.0, 30000.0, 41666.666667, 37500.0, 33333.333333, 37833.333333, 29166.666667, 28333.333333, 33833.333333, 100000.0, 32916.666667, 29166.666667, 39583.333333, 50000.0, 50000.0, 33333.333333, 60000.0, 31583.333333, 33333.333333, 31250.0, 41666.666667, 28935.833333, 33333.333333, 30166.666667, 76666.666667, 33333.333333, 29583.333333, 30000.0, 83333.333333, 618547.833333, 28333.333333, 1750002.916667, 66666.666667, 29166.666667, 41666.666667, 36519.333333, 33333.333333, 28511.25, 37500.0, 41666.666667, 33333.333333, 40416.666667, 34166.666667, 50000.0, 30000.0, 185081.75, 29166.666667, 466666.666667, 37500.0, 30000.0, 31250.0, 29166.666667, 29166.666667, 33333.333333, 33333.333333, 30583.333333, 37500.0, 35000.0, 83333.333333, 120833.333333, 28333.333333, 36666.666667, 29166.666667, 78364.416667, 96266.5, 79166.666667, 39166.666667, 66666.666667, 45833.333333, 32083.333333, 60791.083333, 29166.666667, 51333.333333, 91666.666667, 33333.333333, 70833.333333, 140416.666667, 30000.0, 54166.666667, 76666.666667, 28935.833333, 29166.666667, 29166.666667, 30000.0, 41666.666667, 33333.333333, 44750.0, 66666.666667, 62500.0, 30000.0, 31250.0, 33333.333333, 74448.916667, 80000.0, 45833.333333, 34375.0, 29166.666667, 41666.666667, 40666.666667, 47916.666667, 30416.666667, 32500.0, 32704.166667, 31666.666667, 29583.333333, 29166.666667, 50000.0, 46666.666667, 48083.333333, 40091.666667, 33872.166667, 29166.666667, 41666.666667, 30000.0, 45833.333333, 43750.0, 35416.666667, 55000.0, 29166.666667, 71666.666667, 38333.333333, 31250.0, 32500.0, 75000.0, 29166.666667, 33333.333333, 70833.333333, 103334.083333, 31000.0, 33333.333333, 29166.666667, 32916.666667, 30000.0, 158333.333333, 66666.666667, 54166.666667, 30833.333333, 33750.0, 33333.333333, 41666.666667, 33333.333333, 40000.0, 31666.666667, 250000.0, 37500.0, 71666.666667, 32916.666667, 185081.75, 41666.666667, 30000.0, 46250.0, 28333.333333, 35000.0, 37500.0, 39583.333333, 29166.666667, 29356.583333, 33333.333333, 30583.333333, 35416.666667, 39953.333333, 35927.083333, 49666.666667, 52500.0, 66666.666667, 47726.75, 41666.666667, 43750.0, 52278.333333, 43333.333333, 30000.0, 36666.666667, 30000.0, 78333.333333, 70833.333333, 39583.333333, 29166.666667, 43666.666667, 42358.333333, 29166.666667, 36666.666667, 33333.333333, 35869.25, 47144.833333, 45833.333333, 33333.333333, 37500.0, 29166.666667, 34235.166667, 29166.666667, 28333.333333, 31833.333333, 29166.666667, 41666.666667, 28750.0, 35000.0, 37500.0, 33333.333333, 36900.0, 55000.0, 33333.333333, 70350.0, 37500.0, 38750.0, 31250.0, 43750.0, 28091.666667, 29166.666667, 33333.333333, 33333.333333, 41666.666667, 33333.333333, 28333.333333, 29166.666667, 31250.0, 54166.666667, 33333.333333, 31250.0, 29166.666667, 33333.333333, 41666.666667, 66666.666667, 70833.333333, 41666.666667, 70833.333333, 46250.0, 33333.333333, 41666.666667, 41666.666667, 33333.333333, 31666.666667, 52500.0, 37500.0, 36666.666667, 68750.0, 33750.0, 30000.0, 32083.333333, 31666.666667, 108750.0, 29166.666667, 32000.0, 30416.666667, 30000.0, 29166.666667, 29166.666667, 31666.666667, 30000.0, 394400.0, 45833.333333]\n",
            "outliers in column  LoanCurrentDaysDelinquent  have outlier  [2239, 2161, 1688, 1918, 1583, 1966, 2057, 2053, 1734, 1942, 1751, 2300, 1686, 1679, 1909, 2370, 1553, 1667, 2007, 1726, 1763, 2038, 1820, 1951, 2068, 1880, 2003, 2199, 2140, 1605, 1975, 1922, 1711, 1781, 1737, 1790, 1803, 1945, 1840, 1632, 1714, 2268, 1855, 1711, 2315, 1776, 2054, 1850, 2478, 2164, 2102, 1936, 1962, 1559, 1989, 1872, 2119, 2100, 1767, 1987, 1699, 1645, 1920, 1893, 1855, 2366, 1706, 2018, 2199, 1628, 2213, 2142, 2080, 2271, 1994, 2135, 2115, 1883, 1996, 1998, 2053, 1637, 2261, 1955, 2061, 2012, 1715, 2064, 1873, 1860, 1866, 2192, 1988, 1863, 1790, 2098, 2362, 1568, 1931, 1863, 1709, 1594, 1724, 2015, 2058, 1600, 1676, 1777, 2275, 1756, 2243, 1878, 2162, 1601, 2081, 1838, 1864, 2239, 1967, 1617, 1910, 1553, 1957, 1715, 2112, 1745, 2045, 1978, 1639, 1679, 2137, 1718, 1667, 1843, 1682, 2005, 2307, 1977, 2096, 1720, 2131, 1791, 1577, 2064, 1743, 1662, 1641, 1870, 1967, 2024, 1861, 1680, 2363, 2049, 2389, 2280, 1881, 1931, 1766, 2314, 1786, 2272, 1747, 1789, 1789, 2121, 1997, 1569, 1823, 1791, 1850, 2012, 1552, 2151, 1790, 2405, 1869, 1887, 2210, 2286, 1796, 2112, 1593, 1940, 1749, 1800, 2388, 2288, 1704, 1904, 1642, 2016, 1654, 1794, 1888, 1836, 2009, 1828, 1794, 1597, 2280, 1717, 1942, 2023, 2059, 2120, 1905, 2063, 2040, 1803, 1829, 1881, 2013, 1991, 2077, 1574, 1906, 1816, 2276, 1747, 1712, 1943, 2163, 2055, 2277, 2182, 2108, 2011, 2025, 1792, 2125, 1718, 1908, 1793, 2248, 1591, 2290, 1810, 1847, 2334, 1901, 1925, 1972, 2368, 2249, 1926, 1865, 1857, 1934, 1998, 2173, 1748, 1950, 1949, 2302, 1905, 1902, 2021, 2372, 2337, 1827, 2147, 1836, 2027, 1761, 1555, 1903, 1836, 2127, 1991, 1702, 2364, 2346, 2255, 2143, 2236, 1874, 2168, 1605, 2091, 2213, 2210, 2286, 2143, 1876, 2250, 2320, 1720, 2203, 1935, 1957, 2364, 1987, 2276, 1975, 1717, 1587, 1969, 1770, 2170, 1707, 1810, 2084, 1874, 2100, 1667, 1640, 1999, 2053, 1988, 1954, 1729, 1572, 2018, 2072, 2057, 1875, 2306, 1887, 1793, 1690, 2237, 2058, 2166, 2075, 2374, 2280, 2389, 1701, 1937, 2071, 1877, 2082, 1807, 1793, 1988, 2348, 1665, 2175, 1757, 1722, 2019, 2340, 1886, 1669, 2384, 2118, 1709, 1879, 1813, 1867, 1724, 2269, 1940, 2292, 2215, 2345, 1618, 1928, 2300, 1898, 1912, 1947, 1552, 1661, 2390, 1680, 2225, 1591, 2353, 1882, 1638, 2427, 2334, 1886, 2184, 1649, 1708, 2284, 1926, 1622, 1659, 1613, 1662, 2097, 1766, 1793, 1761, 1750, 2225, 2151, 1995, 1807, 1974, 2002, 1582, 1965, 1571, 1816, 1657, 2279, 1635, 1970, 1770, 1581, 1951, 1903, 1767, 1690, 2204, 2170, 2140, 1951, 1816, 2178, 1943, 1714, 1832, 2325, 2078, 1590, 1569, 2257, 2243, 2220, 2155, 2052, 2096, 2295, 1764, 1833, 1702, 1573, 1778, 2220, 1877, 1706, 1654, 2347, 1936, 2234, 1915, 1868, 1792, 1690, 2268, 1958, 2351, 1760, 1929, 2381, 2249, 1949, 1726, 1848, 2383, 1909, 1926, 1775, 1864, 1766, 2166, 1945, 1583, 1975, 2051, 1807, 1848, 1756, 2159, 1741, 2274, 2370, 2006, 1783, 1990, 2392, 2308, 2038, 2170, 1620, 1829, 2210, 1599, 2082, 1746, 2152, 1836, 1713, 1593, 1764, 1960, 1857, 1888, 1807, 2293, 1877, 1761, 2031, 2011, 1733, 2303, 2092, 1603, 2317, 2031, 1973, 1808, 2079, 2396, 2401, 1896, 2359, 2094, 2024, 1675, 2330, 2067, 1761, 1920, 2099, 1718, 1573, 2145, 1641, 1827, 2215, 2303, 1636, 1686, 1793, 1646, 1616, 2069, 1640, 1713, 1752, 1917, 2163, 2145, 2051, 1949, 1912, 2133, 1681, 2396, 1906, 2120, 1842, 1749, 1852, 1945, 2119, 1757, 2357, 1761, 1695, 1703, 1781, 2175, 2262, 2393, 1776, 2206, 1604, 2022, 1631, 1718, 1996, 1790, 1822, 2028, 1699, 1700, 2140, 1942, 2080, 1634, 2020, 1591, 1602, 1701, 2097, 1917, 2091, 1619, 2377, 1945, 1907, 1865, 2364, 1744, 2265, 1683, 1839, 1956, 1887, 2341, 2240, 2102, 2406, 1865, 2114, 1605, 1920, 1684, 1931, 1632, 1990, 2088, 2236, 2086, 2009, 1690, 1554, 1986, 1971, 1852, 1817, 1614, 1590, 1948, 1888, 2039, 2050, 2000, 1859, 2065, 2363, 1898, 2280, 1555, 1918, 1751, 1687, 2078, 2114, 1815, 1862, 1629, 1955, 1978, 2198, 2247, 2396, 1750, 2200, 1945, 1602, 1990, 2111, 1944, 1767, 1688, 2368, 1755, 1995, 1649, 1851, 1975, 2306, 2259, 1933, 1597, 1842, 2186, 1818, 2033, 2385, 2096, 1564, 1743, 2366, 1708, 1996, 1859, 2197, 2067, 2046, 2159, 1755, 1695, 1756, 2327, 1959, 1927, 2143, 1967, 2168, 1950, 1876, 1589, 2294, 1977, 1907, 2193, 1590, 2025, 1706, 1650, 2177, 1714, 1792, 1764, 2091, 1759, 1884, 1843, 1698, 1801, 2333, 2150, 1996, 2005, 2326, 1784, 1715, 1661, 1615, 1996, 2126, 1892, 1739, 1752, 1634, 1636, 1763, 1794, 1646, 2034, 1939, 2259, 2197, 2325, 1780, 2332, 1757, 1745, 2036, 1939, 2346, 2085, 2392, 1853, 1943, 1908, 1745, 2192, 2000, 2151, 2157, 1687, 2055, 2068, 2304, 2318, 1687, 1943, 1921, 1852, 1911, 1771, 1814, 2014, 2140, 2355, 1738, 2333, 1761, 2113, 1861, 2075, 2206, 2027, 2347, 2380, 2155, 2067, 2146, 1816, 2146, 2393, 2088, 2049, 2019, 2078, 1968, 1639, 2210, 2042, 1728, 2193, 1697, 1952, 1756, 1772, 2009, 1975, 2391, 1741, 1609, 1895, 2127, 1896, 2079, 2354, 2388, 1967, 2109, 2099, 1980, 1675, 2187, 1960, 2182, 2160, 2085, 1617, 1696, 1650, 2327, 1930, 2077, 2005, 1902, 1593, 1954, 1787, 2017, 1577, 1685, 2046, 1741, 2091, 1555, 1651, 1698, 2112, 1965, 2352, 2336, 1959, 1930, 1794, 2198, 2081, 2124, 1617, 1657, 1836, 1644, 2292, 1859, 1796, 2195, 1819, 2262, 2309, 2038, 2378, 1584, 1929, 2368, 1877, 1978, 1965, 1614, 1752, 2147, 2056, 2241, 2005, 1766, 2326, 2019, 1725, 2136, 1939, 2195, 1843, 1696, 1906, 1855, 1736, 2035, 2111, 1914, 1666, 1652, 1746, 1799, 2044, 1862, 2397, 1831, 1723, 2337, 1839, 1936, 1972, 1967, 1942, 1710, 2146, 2261, 1936, 1935, 1775, 1879, 1752, 2099, 2025, 2105, 2384, 1900, 1738, 2304, 1836, 2384, 2382, 1922, 1704, 1611, 2003, 2068, 1860, 2208, 2393, 1573, 2273, 2016, 1889, 2289, 2059, 1836, 1994, 2162, 1582, 2407, 2265, 1834, 1575, 1592, 1896, 2163, 1901, 2203, 1839, 1781, 1556, 2057, 1630, 2213, 1613, 2024, 1684, 2187, 1965, 2175, 1899, 2150, 2195, 2150, 1836, 2265, 1806, 1753, 1717, 2346, 1883, 1955, 1960, 1874, 2077, 1963, 1560, 2012, 2224, 1830, 2179, 1948, 1858, 1767, 2043, 1969, 1827, 2010, 1769, 1942, 1921, 2312, 1687, 1937, 1897, 1805, 2357, 2205, 2113, 1909, 1776, 1914, 1891, 2294, 1649, 2387, 1573, 2316, 2231, 1946, 1902, 1668, 1697, 2306, 1849, 2327, 1967, 1833, 2365, 1761, 1806, 1833, 2015, 1911, 1823, 2209, 2038, 2214, 1965, 1832, 1880, 2069, 1568, 1694, 1715, 1647, 1708, 2289, 1967, 1635, 1742, 2365, 1653, 1706, 2406, 2377, 1773, 2091, 1862, 2058, 2405, 2135, 2073, 1999, 1915, 1877, 1735, 2059, 1585, 2025, 1574, 1576, 1836, 1668, 1795, 2027, 2279, 1972, 1940, 1721, 2245, 2209, 1571, 1818, 1839, 2351, 1815, 1831, 1883, 1638, 2166, 1701, 1901, 2292, 2089, 1969, 2262, 2027, 2054, 1801, 1703, 1792, 1947, 1970, 1862, 1920, 2013, 1940, 1890, 2150, 2190, 1775, 2136, 1664, 1845, 2254, 2196, 2159, 1891, 1983, 1893, 1666, 2080, 1687, 1965, 1719, 1861, 2357, 2167, 1765, 2242, 1738, 1787, 1998, 2220, 2140, 1987, 1981, 1789, 1793, 1560, 2345, 2017, 1952, 1772, 1624, 2064, 1670, 1959, 2219, 1598, 1752, 2091, 1929, 2051, 1872, 1945, 1918, 2113, 1933, 2205, 1730, 2093, 1966, 1594, 1937, 1711, 2193, 2082, 1668, 1806, 1989, 1983, 1853, 1775, 1807, 2075, 2200, 2201, 1779, 2045, 2125, 2153, 2210, 1836, 2393, 1971, 1588, 1884, 2158, 2002, 2127, 1738, 1793, 2389, 1982, 2322, 2252, 2315, 2002, 1953, 2406, 1604, 1824, 2406, 2064, 2334, 2017, 1595, 1687, 1594, 1802, 2000, 1979, 2034, 1858, 1789, 1679, 2331, 2051, 2222, 1961, 1951, 1657, 1987, 2297, 1866, 2346, 1992, 1686, 1837, 2339, 2214, 2268, 2283, 2332, 1756, 2211, 1589, 2392, 2304, 1868, 2035, 1698, 2115, 1743, 1851, 1975, 1609, 1904, 2396, 1707, 1656, 1751, 2201, 1832, 2294, 1937, 1915, 2079, 2172, 1851, 2040, 1973, 1634, 2052, 2001, 1662, 2333, 1597, 2202, 2080, 1612, 1968, 1735, 2124, 1625, 1590, 2115, 1646, 2224, 1981, 1744, 1902, 1959, 1901, 1704, 2286, 1579, 2178, 2044, 1617, 1689, 2236, 1724, 1899, 1948, 1647, 1579, 2226, 1767, 2150, 2361, 1689, 1902, 1784, 2001, 1892, 2116, 1704, 2039, 1872, 1863, 1887, 2198, 2111, 1966, 1828, 1596, 1818, 2186, 2381, 1570, 1660, 1585, 1933, 1870, 1836, 1811, 2280, 2060, 1627, 2055, 1743, 1963, 1766, 1932, 2258, 1705, 1792, 1827, 1934, 1573, 1968, 1591, 1990, 1883, 1716, 1637, 1896, 2030, 1991, 1875, 2288, 1882, 1686, 1714, 1942, 2216, 1935, 1817, 1960, 2206, 2247, 2231, 2332, 1749, 1603, 1866, 2030, 1606, 1867, 2206, 1609, 2058, 1634, 1948, 2021, 1887, 1974, 2003, 1771, 1958, 1836, 2096, 1645, 1750, 1879, 1580, 1996, 1993, 2123, 1997, 2082, 1646, 2072, 1873, 2113, 1835, 1976, 1602, 1627, 2254, 1622, 2071, 2355, 2075, 1765, 1670, 1945, 1714, 1770, 1567, 1648, 2067, 2118, 1554, 1931, 2039, 1840, 2346, 1899, 2099, 2114, 2073, 2337, 1673, 2217, 1880, 1661, 2223, 2058, 2332, 2214, 1762, 2254, 1591, 2392, 1983, 2337, 2187, 2112, 2184, 2021, 1650, 1927, 2116, 2164, 2282, 1968, 2155, 2237, 2090, 1594, 1858, 2047, 2296, 1645, 1929, 1966, 2047, 2268, 2403, 2202, 1714, 1823, 1933, 1730, 1590, 2087, 1593, 2335, 1711, 1903, 2045, 2215, 2371, 1684, 1994, 2336, 1873, 2098, 2091, 1901, 2113, 2128, 1790, 2405, 2016, 2488, 1932, 1986, 2479, 1958, 1664, 1620, 2129, 2100, 2188, 1678, 1709, 2073, 2299, 2018, 2238, 2320, 2008, 1650, 1573, 2025, 1909, 1856, 2184, 2022, 1885, 1939, 1906, 2082, 2359, 1781, 2460, 1988, 1899, 1720, 2364, 1918, 1700, 2050, 1797, 2096, 2026, 1777, 2210, 2120, 2132, 2295, 2385, 2033, 2366, 2216, 1895, 2030, 2408, 2282, 1929, 2001, 2309, 1841, 1705, 2361, 1741, 1602, 1930, 1720, 2069, 2142, 2074, 1992, 2357, 2150, 2094, 1985, 1942, 1779, 1575, 1948, 1666, 1553, 2337, 1836, 1931, 2112, 2599, 1943, 2040, 1787, 2335, 2115, 1919, 1898, 2286, 1628, 2585, 2372, 2014, 1682, 1920, 2128, 1776, 2256, 2042, 1789, 1740, 1584, 1676, 1722, 2109, 2104, 1981, 1929, 1650, 2322, 1727, 1604, 2104, 2235, 2387, 1883, 2372, 2037, 1903, 1880, 2157, 1816, 1848, 2501, 2030, 1856, 1967, 1666, 2276, 2013, 2230, 1868, 2304, 1910, 2340, 2248, 1727, 1793, 1948, 2359, 2035, 1762, 2283, 2063, 2351, 1665, 1905, 2704, 2073, 2375, 1743, 1942, 1638, 1840, 1581, 1611, 2127, 1745, 1611, 2264, 2231, 2399, 1899, 2146, 1918, 1705, 2403, 1758, 1781, 2406, 2375, 2043, 1674, 1905, 2111, 1921, 1969, 1985, 1918, 2035, 2103, 1668, 1587, 2182, 2002, 1791, 1908, 1680, 2356, 2077, 2354, 2096, 1663, 2089, 1996, 1815, 2014, 1758, 1594, 2131, 1884, 2037, 2279, 2013, 2033, 1617, 1825, 1958, 1882, 2228, 1836, 1778, 2036, 1814, 1754, 1916, 1827, 2272, 1997, 2395, 1596, 2118, 1731, 1729, 1773, 1723, 1555, 2061, 1703, 1849, 2061, 2129, 2375, 2407, 2028, 2103, 1921, 2104, 2224, 1879, 2042, 2295, 1736, 2284, 1944, 1926, 2263, 2004, 1915, 2143, 2037, 2214, 2444, 1618, 1739, 1859, 1790, 1908, 2009, 2137, 1606, 1745, 2149, 1940, 2091, 1769, 1988, 1662, 1943, 2066, 1579, 1833, 2161, 1884, 1737, 2305, 2270, 2041, 2306, 2113, 2583, 1786, 1993, 2020, 2277, 2016, 2049, 2152, 1921, 1923, 1694, 1970, 2164, 1919, 1769, 2276, 2183, 2353, 2240, 2245, 1601, 1699, 1576, 1973, 1816, 1929, 2041, 1605, 1685, 2060, 2389, 1690, 1762, 1761, 1565, 2353, 1632, 2008, 2169, 2243, 2285, 1901, 2279, 1995, 2065, 1965, 1994, 1931, 2043, 1997, 2303, 2248, 2132, 1790, 1655, 1773, 2331, 1974, 1901, 1892, 1620, 2316, 1953, 1793, 2259, 2384, 1865, 1935, 1624, 2341, 1996, 2010, 1631, 1836, 1577, 2247, 1881, 1666, 2134, 2303, 1906, 1759, 1978, 2174, 1944, 1794, 1940, 2104, 2147, 1571, 1882, 1954, 1751, 2340, 1873, 1723, 1957, 1937, 2290, 1581, 1660, 2336, 2091, 1761, 1695, 1569, 2315, 2164, 2186, 2173, 1660, 1824, 1795, 1675, 1823, 2389, 1622, 1838, 2364, 1837, 1809, 2285, 1871, 1579, 1835, 1925, 2089, 1893, 1635, 2225, 1696, 2221, 1938, 1810, 1781, 1806, 1990, 2208, 1913, 1785, 1929, 2103, 1849, 2081, 1909, 2282, 1936, 1698, 1671, 1886, 1680, 2065, 1934, 1907, 1903, 2288, 2239, 2365, 2255, 1945, 1900, 1994, 2212, 2037, 2041, 1575, 1955, 1742, 1681, 1717, 1988, 2092, 2335, 1628, 1836, 2110, 2064, 1570, 2372, 1836, 2289, 1698, 1950, 2321, 1994, 1969, 1682, 1803, 2311, 1938, 1714, 2201, 1702, 1950, 1897, 1900, 1678, 1746, 1754, 1628, 2314, 1696, 1596, 2314, 1600, 1633, 1775, 2101, 1712, 1572, 1581, 1700, 1577, 2042, 1614, 1807, 2266, 1718, 1816, 1760, 1879, 2199, 1728, 1763, 2229, 1729, 1850, 1598, 2087, 1750, 2348, 1807, 1910, 1735, 1988, 1872, 1665, 1559, 1943, 1841, 2298, 1832, 1883, 1662, 1708, 1772, 1789, 1793, 2353, 2009, 1785, 2124, 1889, 1831, 1674, 1898, 2151, 1761, 1784, 1962, 2265, 1644, 1867, 2286, 1735, 1644, 1686, 2315, 1818, 2295, 1819, 2102, 2003, 1798, 1888, 1871, 1930, 2358, 1859, 2029, 1631, 1607, 1879, 2334, 1690, 1922, 2164, 2046, 1689, 2345, 2187, 2284, 1982, 2298, 1797, 2005, 1826, 2201, 1829, 1829, 1655, 2099, 1822, 2303, 1594, 1912, 1566, 2207, 2168, 2075, 2201, 2396, 1895, 2370, 1842, 1630, 2103, 2239, 2177, 2093, 1592, 1724, 2123, 2277, 1969, 2357, 2009, 2246, 2014, 1964, 1743, 1703, 1788, 1718, 1964, 1700, 2303, 1831, 1793, 2296, 2091, 1727, 2161, 1868, 1832, 1564, 2083, 2050, 2172, 2068, 1941, 1838, 1626, 2206, 1662, 1663, 1568, 2319, 1571, 1740, 1764, 1959, 2136, 1822, 2366, 1684, 2219, 1900, 1941, 1827, 1737, 1940, 2161, 2061, 2308, 1808, 1950, 2006, 2292, 1752, 2088, 1811, 1915, 2193, 2101, 2386, 1741, 1587, 1789, 1922, 2377, 1767, 1798, 2095, 1594, 1778, 2296, 2117, 2201, 1969, 2143, 2254, 1806, 2091, 2096, 2382, 1653, 1681, 1810, 1940, 1872, 2059, 1763, 2145, 1592, 1901, 2154, 1619, 1962, 1781, 1788, 1981, 1808, 1875, 2268, 1748, 1740, 2208, 1836, 1694, 1663, 2194, 2228, 2286, 1669, 1898, 1735, 2370, 2147, 1573, 2009, 1819, 2304, 1773, 2165, 1813, 1976, 1963, 2252, 1749, 1576, 1991, 1926, 1791, 2269, 2391, 1889, 1992, 2131, 2010, 2373, 1969, 2290, 1878, 1876, 1843, 1720, 2217, 2071, 2371, 2003, 2345, 1988, 1797, 1945, 2197, 1561, 1937, 1965, 1690, 1983, 1898, 1685, 2397, 1850, 1984, 1765, 2062, 1757, 1941, 2183, 1975, 1994, 2356, 2107, 1844, 1716, 1786, 1837, 2291, 1791, 1590, 1948, 1889, 2234, 2025, 2346, 1872, 2011, 2348, 1588, 1601, 1983, 1840, 1775, 2066, 1771, 1558, 2345, 2033, 2382, 1711, 2021, 1782, 2387, 1649, 1757, 2097, 1566, 2089, 1790, 2057, 1978, 1608, 1706, 2218, 2118, 2028, 2102, 2177, 2076, 1767, 2013, 1970, 1826, 2168, 1687, 2152, 2128, 1657, 1981, 1687, 1784, 1725, 1782, 2046, 1996, 1910, 1999, 1947, 1943, 2044, 1663, 1691, 1825, 2207, 2024, 2197, 2240, 1826, 1733, 1575, 1560, 2362, 1671, 1917, 2032, 1915, 1625, 1705, 2384, 1983, 2117, 1936, 2147, 2183, 2205, 1923, 1732, 1892, 1658, 1776, 1882, 2273, 1745, 1969, 1797, 1706, 1886, 2175, 1577, 2354, 2017, 1612, 1851, 1992, 2045, 1746, 2142, 2048, 1757, 1818, 1637, 2048, 1898, 2299, 1962, 2080, 2000, 1628, 2193, 1575, 2021, 2019, 2224, 2372, 2054, 2370, 1765, 2236, 1756, 2242, 2202, 1787, 1815, 1794, 2051, 2003, 2132, 1960, 1611, 1726, 2073, 1577, 1945, 1691, 2210, 2020, 1951, 1805, 1925, 1622, 1812, 2161, 2019, 1777, 2362, 2107, 2059, 1869, 1629, 2024, 1652, 1833, 1867, 2063, 1872, 1831, 1713, 2269, 2024, 2064, 2359, 2031, 1824, 2117, 1818, 1698, 2337, 1931, 2278, 1737, 2310, 1651, 1907, 1662, 1877, 1839, 1843, 2026, 2221, 2332, 2176, 1563, 1634, 2194, 1917, 2329, 1842, 1881, 1922, 1992, 2101, 1697, 1942, 1555, 2060, 1759, 2342, 2094, 2061, 2120, 1894, 1786, 1596, 1821, 2304, 1653, 2366, 2244, 1858, 1883, 1837, 1989, 1992, 1643, 1928, 2353, 2081, 1973, 2204, 2045, 1643, 2307, 1641, 1923, 1714, 1827, 1871, 2368, 1665, 1819, 2201, 1664, 1884, 2056, 2088, 2282, 2336, 2322, 1770, 1621, 2083, 1866, 1647, 1774, 1957, 2032, 1576, 2134, 2086, 2347, 2309, 2008, 1989, 2172, 1691, 2308, 2001, 2372, 2214, 1998, 1718, 2266, 2103, 2377, 1612, 1971, 1987, 1713, 1811, 1792, 1844, 2000, 1993, 1639, 1952, 1778, 1836, 1595, 2079, 2014, 1866, 2397, 2037, 1981, 1794, 1839, 2356, 2311, 2098, 2072, 2093, 2013, 1745, 2372, 1572, 1598, 2213, 1908, 1955, 2176, 2427, 2028, 2219, 2044, 1898, 2317, 1923, 1821, 1629, 2269, 1567, 2015, 1573, 1688, 1974, 1779, 2203, 1920, 2303, 2012, 2105, 1669, 1912, 2013, 2360, 1815, 2152, 2381, 1672, 2029, 1758, 2190, 2193, 1561, 1617, 1779, 1769, 2144, 2001, 1966, 1885, 2171, 2382, 1821, 2107, 1606, 2396, 2143, 2029, 1646, 2167, 2050, 1561, 2339, 2048, 2093, 1979, 2019, 2343, 2051, 2296, 1661, 2143, 2217, 2022, 1629, 1669, 1643, 2335, 1753, 1654, 1783, 2113, 1865, 1954, 1725, 2292, 1934, 1812, 2022, 2008, 1669, 1965, 2365, 2038, 2020, 2075, 2029, 2006, 1933, 2097, 2272, 2703, 2183, 2042, 2142, 1868, 2159, 1945, 1974, 1835, 1653, 1761, 2408, 1864, 1988, 2166, 1700, 1917, 1724, 1775, 1934, 1926, 2281, 2098, 1952, 1781, 1897, 2242, 1570, 1608, 1629, 1817, 2375, 1632, 1649, 1661, 1947, 2386, 2096, 2022, 2183, 2202, 2238, 1714, 1886, 1562, 1812, 2102, 1806, 1897, 2073, 1669, 1620, 1962, 1665, 1961, 1563, 2400, 2325, 2397, 1724, 1923, 1743, 1928, 1677, 1728, 2401, 2407, 2196, 2158, 2118, 2026, 1622, 1981, 1745, 2229, 1900, 2110, 2322, 1920, 2195, 1931, 2259, 2150, 1750, 1773, 1919, 1869, 2085, 2050, 1774, 1758, 2212, 2255, 1629, 2288, 1739, 2403, 2302, 2279, 1894, 1909, 2210, 1916, 2400, 2099, 2373, 2306, 1879, 1960, 2020, 2156, 1944, 1893, 1866, 2289, 1978, 1721, 1696, 1913, 2169, 1918, 1799, 2142, 2002, 1702, 1558, 1953, 1687, 2214, 2203, 1846, 1749, 1696, 2304, 1990, 2068, 2314, 2336, 2004, 2055, 2079, 1587, 1571, 2216, 1705, 1856, 2309, 2395, 1949, 1973, 2237, 2315, 2360, 1748, 1957, 2164, 1867, 1993, 2104, 2116, 1561, 2228, 2166, 2265, 2305, 1714, 1759, 2079, 1687, 2401, 2387, 1656, 2216, 2096, 2129, 2018, 2385, 2018, 1961, 2280, 2343, 2355, 1566, 1774, 1611, 1903, 2434, 2390, 1966, 1870, 1758, 1610, 2099, 2048, 1851, 2073, 2130, 1950, 2165, 2029, 2399, 1620, 1889, 1590, 2096, 2204, 2137, 1640, 2345, 2250, 2351, 2000, 1741, 1981, 1594, 1680, 1924, 1899, 1959, 2006, 1612, 1877, 1899, 1570, 2189, 1588, 1761, 1904, 2037, 1645, 2176, 1970, 1802, 1941, 2162, 1841, 1720, 1977, 1781, 2099, 1896, 2027, 2015, 1938, 2042, 1886, 2403, 1949, 1795, 1946, 2185, 2001, 2043, 1585, 1863, 1865, 2201, 2340, 2263, 2347, 2024, 1743, 2119, 1707, 1573, 1946, 1936, 2172, 2316, 1624, 1773, 2363, 2235, 2352, 1603, 2069, 2062, 1825, 2286, 1791, 1842, 2055, 1845, 2063, 2273, 2194, 1954, 2194, 2295, 2147, 2041, 1694, 1676, 2213, 2289, 2333, 2206, 2189, 1638, 1992, 1777, 2242, 1982, 2075, 1786, 1836, 1803, 1761, 2226, 1952, 2276, 2003, 2082, 1880, 1826, 1900, 1957, 2080, 1973, 2014, 1836, 1945, 2041, 2307, 2079, 1912, 1929, 2421, 2279, 2372, 1855, 1677, 1963, 1622, 1875, 1962, 1734, 1897, 1812, 1687, 2021, 2401, 2138, 2360, 2089, 2040, 2315, 1849, 2153, 2139, 2170, 2079, 1631, 2309, 2351, 1801, 2336, 1989, 2009, 1832, 1631, 1723, 2106, 1953, 2067, 1973, 1867, 1707, 2097, 1584, 1976, 1933, 1950, 1655, 1673, 1871, 1960, 1695, 2023, 1910, 2133, 2612, 2233, 1724, 2053, 2182, 1768, 2099, 2166, 1989, 2082, 1964, 1989, 2368, 1867, 2143, 1956, 1865, 1608, 1759, 2068, 1775, 1562, 2377, 1642, 1861, 1996, 2076, 1905, 1807, 1923, 1691, 2336, 1909, 1662, 2179, 1784, 1577, 1855, 2366, 2140, 1604, 2408, 1775, 2003, 1693, 2280, 1938, 1761, 1838, 2403, 2099, 1633, 1978, 2262, 2373, 2213, 2336, 1737, 1916, 2107, 1929, 1859, 1873, 1835, 1773, 1882, 2056, 1739, 1881, 2008, 1842, 2113, 2266, 2190, 2357, 2150, 1905, 2338, 2082, 2338, 2151, 1621, 1801, 2263, 1611, 2294, 1717, 1656, 1625, 1993, 1693, 2085, 1594, 1896, 2202, 1933, 1594, 1984, 1650, 2086, 1569, 2099, 2218, 2022, 1781, 2286, 1949, 1584, 2052, 1930, 1797, 2231, 1696, 2397, 1598, 2133, 2094, 1659, 2280, 1824, 2367, 1881, 2370, 2155, 1994, 1597, 1892, 1589, 1739, 2195, 1592, 2323, 2174, 2264, 2261, 2153, 1615, 1727, 2291, 1843, 1853, 1580, 2267, 1751, 2081, 2188, 1634, 1785, 2287, 1703, 2175, 2102, 2275, 1731, 1659, 1967, 1730, 1716, 1740, 2132, 1910, 1672, 1671, 1964, 1711, 2153, 2079, 1778, 1797, 1660, 2055, 1581, 1639, 1756, 2249, 1872, 1944, 1934, 1856, 1759, 1698, 1588, 2260, 1754, 1937, 2174, 1957, 2404, 2021, 1692, 2231, 1656, 2152, 2279, 2161, 1786, 1559, 1901, 1639, 1954, 2345, 2089, 1821, 1693, 2130, 1706, 1996, 2053, 1896, 1749, 1661, 2384, 1974, 1978, 1672, 2364, 2141, 2022, 1606, 1961, 2064, 2359, 2333, 1757, 1688, 1945, 2138, 2427, 2264, 1893, 2092, 2076, 1596, 2234, 2265, 1552, 1691, 2112, 2140, 1926, 1916, 2089, 1894, 1742, 1986, 1866, 2261, 1936, 1973, 2115, 1575, 2093, 1996, 1780, 2182, 2281, 1686, 1574, 2284, 2036, 2079, 2096, 2021, 1933, 1995, 1868, 1795, 2273, 2318, 1908, 1614, 1762, 1985, 1836, 1584, 1753, 1580, 2288, 2062, 2305, 2217, 2550, 1635, 2240, 1705, 1914, 1770, 2002, 1615, 1686, 1648, 1658, 1799, 2162, 2401, 1793, 1662, 1789, 2152, 1954, 1829, 2076, 1925, 1827, 1705, 2292, 2036, 1689, 1766, 2331, 1850, 2011, 2051, 2343, 1987, 1853, 2146, 2108, 1679, 2027, 2201, 2249, 1987, 1678, 1852, 1757, 1857, 1995, 2302, 1717, 1699, 2040, 1830, 2302, 2078, 1625, 1964, 1635, 2117, 1883, 1836, 2169, 2381, 1924, 2044, 1688, 1779, 1851, 1644, 1604, 1821, 1907, 1801, 2236, 1660, 1960, 1620, 2024, 1801, 2088, 1924, 1698, 1798, 2126, 2068, 1792, 1983, 1816, 1934, 1757, 2202, 1876, 2108, 2291, 2032, 2165, 1831, 1969, 1595, 1812, 2376, 1674, 2215, 1587, 1982, 1922, 2529, 2049, 2166, 2067, 1644, 1899, 1913, 2052, 2150, 2133, 1792, 2116, 1976, 1685, 2031, 2373, 2115, 2523, 1971, 2074, 1898, 2050, 2088, 1865, 1605, 1574, 1953, 1792, 1730, 1689, 1990, 1674, 1652, 2385, 1688, 2029, 2313, 2312, 1836, 2324, 1737, 1787, 2226, 2371, 1699, 1787, 2283, 2093, 2225, 1722, 1895, 2130, 2113, 2155, 1650, 2130, 2014, 1695, 1777, 2011, 1904, 1648, 2001, 1929, 1698, 1766, 2555, 2109, 1732, 1816, 1796, 1671, 1891, 1673, 1936, 2364, 1573, 1576, 1763, 2397, 2089, 2397, 1911, 1780, 1892, 1759, 2383, 2048, 1843, 2018, 1617, 1935, 1890, 1645, 1884, 1817, 1967, 2378, 2208, 2236, 2295, 1836, 1836, 2033, 1923, 2127, 2187, 2101, 2064, 2005, 1578, 1802, 2290, 2049, 2209, 2064, 2273, 1909, 2345, 2015, 2361, 1821, 1996, 1782, 2112, 1639, 2173, 2021, 1823, 1939, 1703, 1627, 2024, 2192, 2374, 2006, 1553, 2289, 2023, 2112, 1552, 1969, 1653, 2123, 1608, 1861, 2022, 1715, 1779, 1891, 1859, 1812, 1569, 1948, 1965, 2128, 2145, 1935, 1932, 1767, 2135, 1573, 1658, 1855, 2159, 1806, 1794, 1651, 2180, 2012, 2089, 2372, 2038, 1584, 1774, 1715, 2309, 2218, 1882, 2099, 1590, 1897, 2111, 1703, 1871, 2356, 2189, 1936, 2144, 1997, 2037, 2360, 1788, 1814, 2020, 1714, 1774, 1841, 2046, 2051, 1686, 1667, 2247, 1688, 2156, 1666, 2376, 1812, 1841, 2398, 1612, 1661, 2173, 1855, 1851, 2003, 2274, 2350, 1642, 2364, 1765, 1948, 1780, 2166, 1916, 2090, 1641, 1595, 2197, 2298, 2063, 2082, 1880, 1859, 1766, 1577, 2371, 2089, 2215, 1626, 1815, 1926, 1781, 1671, 2364, 2224, 1626, 2161, 1885, 1814, 2120, 1881, 1707, 1870, 2000, 1813, 1897, 2013, 1937, 1883, 2364, 1786, 2055, 1741, 2013, 2391, 2337, 1755, 2073, 2219, 2302, 2035, 1695, 2363, 2305, 2109, 2173, 2095, 2344, 2040, 2358, 2240, 2027, 1613, 2048, 1797, 1720, 1668, 2152, 1841, 1905, 1853, 1874, 1977, 1596, 1934, 1981, 1826, 1817, 1782, 1572, 1990, 1650, 2036, 1894, 1623, 2129, 2373, 2397, 2018, 2129, 2282, 1859, 2311, 2122, 2084, 2215, 1562, 2029, 2123, 2295, 1662, 2048, 1773, 2372, 2181, 1771, 2073, 1909, 2243, 2069, 1968, 2096, 2373, 1874, 1808, 1939, 2198, 2280, 2204, 2082, 2340, 1962, 2219, 2318, 2088, 1707, 2125, 2072, 1645, 1715, 1556, 1776, 2028, 1685, 2172, 1611, 1954, 2111, 1822, 2135, 2084, 2367, 2222, 2079, 1641, 1979, 2013, 2354, 2022, 2193, 2192, 1664, 1927, 1925, 2044, 1821, 1960, 1879, 1927, 2175, 2220, 2001, 2062, 1756, 1875, 1991, 1989, 2311, 1716, 1825, 1881, 2021, 1852, 2085, 2080, 2007, 1769, 2066, 1900, 2280, 1647, 1995, 1933, 2361, 1935, 1756, 1620, 1741, 2234, 1709, 2195, 2024, 1974, 1812, 2020, 1827, 1844, 2083, 2330, 1900, 2246, 2332, 1763, 1594, 1849, 2345, 2023, 1770, 1902, 1764, 1944, 1701, 2174, 1746, 1755, 1743, 1640, 2238, 1964, 2208, 2106, 2040, 2088, 2081, 1843, 2147, 1893, 2015, 1819, 2367, 2004, 1979, 1730, 1807, 1968, 1607, 2382, 1737, 1786, 1651, 1844, 1786, 1796, 1643, 1809, 2136, 1652, 1974, 2163, 1577, 1757, 2371, 2426, 1915, 2362, 2330, 1748, 2257, 2265, 1636, 2132, 1948, 2342, 1863, 1791, 2375, 1784, 2155, 2224, 1880, 2013, 2081, 1900, 1926, 1713, 1980, 2277, 2076, 2516, 2336, 2294, 1930, 1957, 1618, 2024, 1682, 2389, 2201, 2190, 2164, 1967, 2311, 2006, 1721, 2187, 1770, 1724, 1990, 2377, 2398, 2238, 1812, 1901, 1753, 1756, 1919, 1791, 2120, 1751, 1886, 1789, 2009, 1724, 1699, 2335, 1562, 1905, 1865, 1702, 2133, 2215, 2382, 1793, 1748, 2174, 1776, 1742, 1846, 1967, 2092, 1641, 1847, 1705, 1573, 2293, 2376, 2249, 1909, 2377, 2046, 2218, 2018, 2198, 1755, 2158, 2143, 1802, 2273, 2032, 1966, 1789, 2334, 2028, 1802, 2283, 1646, 1915, 1721, 1662, 2033, 2082, 2360, 1727, 2106, 2367, 2148, 1691, 1895, 1614, 1896, 2000, 2215, 1957, 1892, 1946, 2106, 1960, 2197, 2265, 1897, 1756, 2257, 1762, 2373, 2011, 1919, 2034, 2187, 2118, 2031, 1838, 2344, 2090, 1845, 2394, 2118, 1829, 1836, 2206, 2370, 2003, 2292, 2168, 1810, 1984, 1697, 2008, 2077, 2113, 1815, 1612, 2292, 2364, 1738, 1699, 1675, 2396, 2030, 2316, 2215, 1842, 2338, 1722, 1784, 1985, 2190, 1775, 2006, 1783, 2006, 2261, 2350, 2144, 1925, 2036, 2027, 1682, 1772, 1978, 1952, 2015, 1798, 1770, 2113, 1613, 1690, 1718, 1649, 1926, 1611, 1759, 1888, 2189, 1693, 2371, 2209, 2042, 1935, 1876, 2014, 2277, 2266, 2274, 2052, 2223, 2025, 1967, 2363, 2301, 1834, 2199, 1898, 2067, 1883, 2294, 1997, 1937, 1949, 2018, 1801, 2535, 1874, 1609, 2049, 1682, 1936, 2222, 2042, 1919, 1915, 1614, 1997, 1879, 2021, 1929, 2009, 2033, 1835, 2176, 1872, 1754, 1925, 1767, 1967, 2461, 1995, 1857, 1671, 1811, 2021, 1584, 2037, 1741, 1853, 1848, 2202, 1675, 1689, 1830, 1978, 2292, 1959, 2156, 2053, 2294, 1974, 2117, 2406, 2330, 1903, 2065, 2332, 1948, 1950, 2332, 1618, 1950, 2066, 1863, 1596, 1902, 1579, 1967, 1705, 2022, 1699, 1814, 1843, 1637, 1673, 2364, 1915, 1814, 2155, 2176, 1948, 2183, 2222, 2049, 1987, 2388, 2395, 2044, 2106, 1856, 1750, 1721, 1928, 1606, 2320, 2409, 1562, 2134, 1738, 1854, 2076, 2006, 2073, 1848, 1938, 2387, 1884, 2031, 2074, 1629, 2021, 1963, 2375, 1623, 1781, 1806, 2010, 1889, 1806, 2140, 1994, 1632, 1921, 1807, 1820, 1831, 1861, 1922, 1843, 1669, 2114, 2035, 2327, 2030, 1876, 1859, 2041, 1978, 1959, 1859, 2060, 1619, 1823, 1884, 1742, 2097, 2167, 1920, 2052, 1896, 2250, 1577, 2207, 2371, 2366, 1571, 2159, 1622, 1598, 2103, 1902, 1771, 1802, 2092, 1922, 2038, 1692, 2317, 2099, 1790, 1801, 1649, 1778, 1751, 1809, 1913, 1692, 2276, 2210, 1805, 1670, 2316, 1661, 1753, 2119, 2361, 2077, 2031, 1853, 1561, 2267, 1896, 1981, 2385, 2249, 2291, 1912, 1774, 2361, 2002, 1576, 1563, 2297, 1981, 1899, 2037, 2290, 1645, 1997, 2182, 1752, 1716, 1797, 1970, 1606, 2392, 2400, 1922, 2098, 1958, 1645, 1907, 1690, 1626, 1853, 1629, 2311, 2360, 2029, 1924, 2377, 1661, 1824, 1700, 2008, 2305, 1893, 2081, 2270, 1663, 2462, 2359, 1831, 1763, 2215, 1865, 2040, 2142, 1951, 1950, 1934, 1701, 1571, 2096, 1569, 2175, 1655, 2340, 1958, 1662, 1797, 1943, 1865, 2197, 2344, 1692, 1701, 1670, 1961, 2291, 1704, 2366, 2343, 2311, 2356, 2380, 1965, 2355, 1842, 2028, 2331, 1901, 2384, 1968, 1959, 2396, 2085, 2028, 2358, 2359, 2322, 2410, 1948, 2243, 2262, 1580, 2317, 1557, 2332, 1601, 2402, 1633, 2385, 1564, 1570, 1561, 1790, 1981, 1752, 1589, 2243, 2302, 1877, 1861, 2351, 2230, 1919, 2334, 1795, 2084, 1945, 2278, 2026, 1616, 1953, 1892, 1607, 1656, 2338, 2008, 1888, 2326, 2396, 2398, 1965, 2003, 2138, 1996, 2535, 1756, 2278, 1707, 1999, 2057, 1689, 2497, 1794, 2028, 1935, 2390, 1691, 1605, 1689, 1713, 1713, 1989, 1877, 2069, 1964, 1715, 2063, 1926, 1933, 2005, 1596, 1744, 1584, 2385, 2139, 2093, 1834, 2350, 2132, 2051, 2332, 1865, 1925, 1741, 2204, 2074, 1743, 1704, 1898, 2240, 1704, 1915, 2099, 1820, 2120, 1854, 2145, 1575, 2272, 1801, 1980, 2059, 2194, 2001, 2353, 1794, 1997, 2233, 1980, 2272, 1985, 1633, 1926, 2180, 2373, 2113, 2016, 1641, 2189, 2338, 2184, 1982, 1902, 2393, 2084, 2164, 2274, 2366, 1653, 1990, 1667, 1906, 2393, 1676, 1676, 1911, 1895, 1565, 2131, 1968, 2259, 2021, 1935, 2230, 2178, 2358, 2341, 1774, 1922, 2290, 2338, 1889, 2451, 2055, 2181, 1927, 2396, 2118, 2389, 2398, 1897, 2120, 1993, 1694, 1835, 2046, 1963, 2062, 2104, 1625, 1959, 2292, 1980, 1862, 2007, 1807, 1940, 2249, 1868, 1638, 2299, 1582, 1959, 2514, 1672, 1995, 1740, 1773, 2234, 1833, 2287, 1979, 2269, 1843, 2057, 1850, 1829, 1577, 1893, 2283, 2036, 1797, 2065, 1571, 2294, 2123, 1695, 2054, 1858, 2180, 2132, 1790, 2314, 2321, 2406, 2049, 2097, 2210, 1971, 1843, 1845, 2050, 2373, 1919, 1821, 2089, 2328, 2057, 1899, 1928, 1728, 2026, 1833, 1923, 1594, 2014, 1775, 2041, 1936, 2399, 1847, 2155, 1964, 1755, 1657, 2006, 1826, 2206, 1647, 2044, 1617, 1652, 1775, 2394, 1801, 1627, 2372, 2378, 1877, 1945, 1801, 2281, 1565, 2296, 1771, 1847, 1772, 2402, 2197, 2019, 1557, 1935, 2027, 2114, 2144, 2009, 1638, 1959, 1835, 2292, 1926, 1585, 1926, 1631, 1885, 2102, 1926, 1697, 2141, 2039, 1952, 1835, 2003, 2185, 1979, 1750, 2613, 2207, 1938, 2128, 1699, 1924, 1836, 1912, 2068, 2394, 1732, 1891, 1649, 2150, 1666, 1679, 2004, 1945, 1637, 1801, 2257, 1917, 2279, 1898, 2397, 2392, 1947, 2545, 1962, 2285, 1754, 2310, 2085, 1754, 1599, 1979, 1848, 2330, 2205, 1644, 1740, 2117, 2333, 1797, 2291, 1951, 2056, 1854, 2175, 1853, 1890, 1834, 2393, 1874, 1648, 1962, 1749, 2392, 1799, 1967, 1951, 1735, 2014, 1947, 2223, 1835, 1671, 1655, 1974, 2330, 2163, 1964, 1683, 1992, 2276, 1814, 1930, 2377, 1908, 2130, 1810, 1770, 1564, 1921, 2074, 1696, 2134, 2071, 2130, 2039, 2109, 1668, 2113, 2309, 1786, 2140, 1745, 2175, 2133, 1961, 1665, 1860, 1934, 1733, 2346, 2100, 1987, 2536, 2006, 2094, 2068, 1636, 2091, 1991, 2234, 1740, 1566, 2134, 1849, 2008, 1598, 2287, 1941, 1608, 1712, 1604, 1814, 1746, 2158, 2082, 2439, 1772, 1714, 1948, 1817, 1881, 1746, 1756, 1854, 1597, 1714, 2019, 1729, 1623, 2087, 1985, 2056, 1746, 2093, 2049, 1776, 2180, 1613, 1887, 1963, 2176, 1909, 1805, 1754, 2007, 2012, 2028, 2293, 1909, 1675, 2327, 1950, 2292, 1896, 1896, 2209, 1894, 2133, 2407, 2006, 2341, 2253, 1572, 2035, 1721, 1872, 1677, 1686, 1689, 1642, 1795, 2154, 2150, 1967, 1950, 1708, 1837, 2025, 1734, 1738, 1934, 1930, 2217, 2091, 2172, 2309, 1579, 1712, 1757, 1867, 2147, 2104, 1738, 1623, 2365, 1884, 1867, 1673, 2386, 2084, 2101, 1556, 1994, 2026, 2225, 1900, 1835, 2106, 1630, 2227, 1743, 1876, 2080, 2036, 2300, 1965, 1887, 2405, 2237, 1588, 2375, 1801, 1998, 2093, 1614, 1949, 1616, 1733, 2284, 1863, 2298, 2245, 1633, 1666, 1867, 1963, 1900, 1649, 1629, 1802, 1634, 2237, 2393, 1753, 1957, 1961, 1762, 2211, 1714, 1642, 1852, 2051, 1692, 2022, 1647, 1954, 1793, 1570, 2193, 1915, 2408, 2097, 2014, 2293, 1755, 1800, 2342, 2169, 1956, 1782, 2254, 2364, 1665, 1778, 1854, 1599, 2280, 2098, 1922, 2298, 1968, 1953, 1968, 2120, 2178, 1907, 2020, 1904, 1827, 2533, 1701, 2031, 1656, 1867, 2316, 1778, 1921, 2197, 1970, 1627, 2238, 1737, 1579, 1663, 2190, 2023, 2027, 2198, 1979, 1946, 1897, 1573, 1617, 1626, 1571, 1577, 2035, 1844, 1572, 1875, 2150, 1724, 1605, 1813, 2207, 2389, 2218, 1777, 1870, 2306, 1642, 1606, 2294, 1851, 2218, 2320, 2135, 1882, 1753, 2047, 2238, 1889, 1980, 1826, 1962, 2351, 2312, 1794, 1990, 1819, 2016, 1852, 1795, 1758, 2055, 2080, 2023, 1943, 2327, 1706, 1584, 2248, 1615, 1789, 1671, 1685, 2228, 2055, 1959, 1826, 1901, 2127, 1995, 2231, 1933, 1951, 2268, 1920, 2319, 1973, 2309, 2111, 1868, 2079, 2312, 2021, 1963, 2293, 2075, 1703, 2387, 2300, 2106, 1607, 1925, 1671, 2274, 2372, 2015, 1908, 1974, 2021, 1825, 2094, 1975, 2350, 2280, 1688, 2208, 2259, 1993, 1669, 1944, 1896, 1656, 1564, 2148, 1785, 1841, 1877, 1615, 1903, 1918, 2387, 1563, 1724, 1683, 1957, 2006, 2358, 1670, 2218, 1816, 2076, 2312, 1871, 1731, 1924, 1836, 2153, 1767, 1940, 2287, 1628, 1570, 2142, 2336, 1967, 2039, 1737, 2283, 1939, 1884, 2119, 1801, 2371, 2291, 1573, 2045, 1775, 2140, 2143, 1650, 1639, 1623, 2189, 1725, 1782, 2261, 1940, 1771, 1767, 1598, 2089, 1729, 1842, 2244, 1927, 1691, 1564, 1891, 1790, 1940, 1630, 2142, 1840, 1870, 2056, 2059, 1709, 2013, 1765, 2042, 2031, 1767, 1789, 1960, 1898, 2034, 1651, 2109, 1659, 2169, 1607, 2255, 1748, 1643, 2318, 1852, 2216, 2049, 1996, 2136, 1681, 2392, 2021, 1951, 2068, 2181, 2183, 2408, 1598, 2023, 2271, 1659, 2266, 2360, 2245, 2021, 1890, 2234, 1767, 1580, 1724, 1640, 1727, 2270, 1552, 2041, 2172, 2574, 1932, 1982, 2013, 1638, 1610, 1735, 1775, 1947, 1606, 2204, 2353, 1940, 1611, 1922, 2221, 2132, 2327, 2095, 2051, 1607, 1648, 2213, 1715, 2105, 1576, 2045, 2179, 1774, 2142, 1957, 2019, 1698, 2078, 1879, 1695, 1589, 2025, 1699, 1803, 1712, 2152, 2127, 1672, 2026, 1822, 1957, 2073, 1649, 2278, 1986, 1929, 1716, 1813, 2243, 1962, 1634, 1836, 1951, 1949, 2197, 2241, 2134, 1800, 1661, 2030, 1910, 2362, 1943, 1652, 1825, 1829, 1612, 1731, 1716, 1789, 1587, 2311, 1769, 1828, 1823, 1707, 2098, 1950, 1915, 2189, 1988, 1887, 2139, 1742, 1840, 1931, 1861, 1797, 2384, 2009, 2033, 1725, 2053, 1726, 2396, 1947, 2021, 1808, 2301, 2275, 1702, 2091, 1846, 2373, 1924, 1653, 2163, 1903, 1807, 1903, 1772, 1758, 2169, 1980, 1979, 2024, 2332, 1931, 2260, 1678, 2359, 1636, 1971, 1868, 2110, 1603, 1969, 1923, 2157, 2057, 1726, 2110, 2020, 1888, 2010, 1907, 2350, 1756, 2021, 1600, 2400, 2358, 1949, 2454, 2124, 1785, 1623, 2040, 2095, 2012, 2177, 2081, 2252, 1922, 2331, 2154, 1973, 2227, 2173, 1784, 2174, 2228, 1668, 1649, 1761, 1999, 1741, 1987, 2169, 1764, 2026, 2323, 1580, 2088, 1980, 2234, 2357, 2187, 2296, 2172, 1873, 1791, 1754, 2088, 1903, 2008, 1947, 2068, 1977, 1918, 1960, 2217, 1879, 2317, 1986, 1872, 2202, 2271, 1691, 1783, 2340, 2065, 1574, 1798, 1582, 1697, 1949, 2174, 2154, 2361, 1722, 2122, 2238, 2342, 1620, 1736, 2151, 1780, 1719, 1977, 2234, 1812, 1641, 2253, 2112, 2022, 2072, 1694, 1961, 1979, 2197, 1851, 1829, 1732, 2295, 2310, 1994, 1879, 2122, 1665, 1661, 2072, 1912, 2227, 1660, 2298, 1996, 1578, 2003, 2401, 1887, 2350, 1669, 1599, 1909, 2406, 2064, 1813, 1786, 1824, 1895, 2349, 1927, 2101, 2006, 1963, 1614, 1836, 1927, 2140, 1674, 2084, 1865, 1645, 1716, 1896, 2008, 1990, 1879, 2405, 2306, 2179, 2024, 2094, 1752, 2304, 1601, 1942, 2134, 1699, 1941, 2008, 1693, 1886, 2047, 1809, 1581, 1561, 1667, 1559, 2181, 1862, 2170, 1720, 1628, 1874, 1924, 1671, 1599, 1987, 1878, 2011, 1725, 1594, 1821, 2368, 1643, 1607, 1912, 1954, 1962, 2319, 1657, 2166, 2209, 1569, 1636, 2013, 1636, 2257, 1668, 2363, 2031, 2043, 1996, 1972, 2078, 2237, 2073, 1963, 2016, 1946, 1860, 1989, 2071, 2118, 1810, 2125, 1836]\n",
            "outliers in column  LoanMonthsSinceOrigination  have outlier  []\n",
            "outliers in column  LoanNumber  have outlier  []\n",
            "outliers in column  LoanOriginalAmount  have outlier  [35000, 30000, 30000, 30000, 35000, 30000, 35000, 30000, 35000, 33750, 35000, 35000, 35000, 30000, 35000, 35000, 35000, 35000, 34999, 27500, 32500, 29765, 35000, 30000, 35000, 35000, 30000, 35000, 35000, 30000, 35000, 35000, 28000, 34999, 35000, 30000, 30000, 35000, 35000, 35000, 35000, 35000, 35000, 35000, 28000, 35000, 35000, 35000, 35000, 30000, 35000, 35000, 32500, 35000, 35000, 30000, 30000, 35000, 28000, 35000, 35000, 35000, 35000, 35000, 28000, 33411, 35000, 35000, 35000, 35000, 35000, 30000, 35000, 34000, 35000, 35000, 35000, 35000, 35000, 35000, 35000, 35000, 35000, 30000, 35000, 35000, 30000, 35000, 30000, 35000, 35000, 30000, 34000, 30000, 35000, 35000, 35000, 35000, 35000, 35000, 35000, 35000, 30000, 35000, 30000, 35000, 33000, 35000, 35000, 35000, 30000, 30000, 32500, 35000, 35000, 30000, 35000, 35000, 35000, 30000, 35000, 35000, 35000, 32000, 28000, 32500, 35000, 35000, 30600, 35000, 35000, 35000, 35000, 35000, 35000, 30000, 32000, 35000, 32000, 33710, 35000, 35000, 35000, 35000, 35000, 35000, 30000, 35000, 31000, 28450, 35000, 35000, 35000, 34000, 35000, 35000, 35000, 35000, 33000, 30000, 32500, 31000, 32500, 35000, 28000, 30000, 35000, 35000, 35000, 35000, 31000, 30000, 35000, 35000, 28000, 35000, 35000, 30000, 35000, 35000, 35000, 35000, 30000, 35000, 35000, 35000, 30000, 35000, 35000, 35000, 35000, 35000, 35000, 35000, 35000, 35000, 27500, 35000, 35000, 35000, 30000, 30000, 35000, 31000, 35000, 35000, 35000, 35000, 35000, 35000, 35000, 35000, 30000, 35000, 35000, 35000, 35000, 32000, 35000, 35000, 32500, 35000, 35000, 35000, 35000, 35000, 35000, 35000, 35000, 30000, 28000, 35000, 35000, 35000, 35000, 35000, 35000, 35000, 35000, 35000, 35000, 35000, 35000, 30000, 35000, 35000, 35000, 31183, 35000, 31000, 35000, 30000, 35000, 35000, 34679, 35000, 35000, 35000, 35000, 35000, 35000, 35000, 35000, 35000, 35000, 31000, 35000, 35000, 35000, 30000, 30000, 30000, 30000, 35000, 35000, 35000, 30000, 35000, 35000, 35000, 35000, 28000, 35000, 35000, 35000, 30000, 28000, 28000, 35000, 35000, 35000, 35000, 31000, 34000, 35000, 35000, 35000, 35000, 33500, 27500, 35000, 35000, 35000, 32000, 30000, 35000, 35000, 35000, 35000, 35000, 35000, 35000, 35000, 33000, 35000, 31000, 35000, 35000, 31000, 35000, 35000, 35000, 27500, 35000, 35000, 35000, 35000, 35000, 35000, 35000, 35000, 28000, 31000, 35000, 35000, 35000, 35000, 35000, 35000, 35000, 32500, 35000, 30000, 27500, 35000, 35000, 35000, 35000, 35000, 35000, 32500, 35000, 35000, 27500, 27500, 35000, 35000, 33000, 30000, 35000, 35000, 35000, 35000, 35000, 27500, 27500, 35000, 31600, 30000, 31000, 30000, 35000, 35000, 35000, 30000, 35000, 35000, 30000, 35000, 35000, 35000, 30000, 32000, 35000, 35000, 32000, 28000, 35000, 29000, 35000, 35000, 35000, 33000, 30000, 30000, 35000, 31000, 35000, 35000, 35000, 30000, 35000, 35000, 30000, 30000, 35000, 35000, 35000, 35000, 35000, 35000, 28000, 34700, 30000, 32500, 35000, 35000, 28000, 32500, 30000, 35000, 35000, 35000, 35000, 35000, 35000, 35000, 35000, 35000, 35000, 35000, 30000, 32000, 28000, 28000, 31000, 35000, 35000, 35000, 35000, 35000, 30000, 35000, 30000, 35000, 30000, 35000, 35000, 35000, 35000, 31000, 35000, 30000, 35000, 35000, 30000, 35000, 27500, 32500, 35000, 35000, 35000, 35000, 35000, 30000, 35000, 31000, 35000, 30000, 27518, 35000, 35000, 35000, 35000, 30000, 35000, 30000, 35000, 35000, 35000, 35000, 35000, 35000, 35000, 30000, 35000, 28000, 28000, 35000, 35000, 30000, 35000, 30000, 35000, 35000, 28000, 35000, 35000, 34000, 35000, 35000, 30000, 35000, 35000, 35000, 35000, 35000, 30000, 35000, 35000, 35000, 35000, 35000, 35000, 35000, 30000, 35000, 33500, 32500, 30000, 35000, 30000, 35000, 35000, 30000, 35000, 35000, 30000, 35000, 35000, 32500, 30000, 30000, 30000, 28000, 35000, 30000, 34999, 35000, 35000, 35000, 32000, 30000, 28000, 35000, 35000, 35000, 28500, 35000, 35000, 32500, 30000, 35000, 35000, 30000, 35000, 30000, 27500, 35000, 35000, 35000, 35000, 35000, 35000, 35000, 35000, 35000, 35000, 35000, 35000, 35000, 35000, 35000, 32500, 35000, 35000, 35000, 30000, 30000, 35000, 35000, 35000, 30000, 30000, 30000, 30000, 30000, 32000, 35000, 35000, 35000, 35000, 35000, 35000, 30000, 35000, 35000, 35000, 35000, 35000, 35000, 35000, 31000, 31500, 35000, 31000, 30000, 35000, 35000, 35000, 35000, 28000, 30000, 30000, 35000, 35000, 30000, 35000, 35000, 31500, 30000, 30000, 35000, 30000, 35000, 32500, 31000, 30000, 35000, 35000, 30000, 35000, 35000, 30000, 30000, 35000, 31000, 35000, 35000, 33750, 35000, 35000, 35000, 35000, 35000, 30000, 35000, 30000, 35000, 31750, 28000, 35000, 35000]\n",
            "outliers in column  MonthlyLoanPayment  have outlier  [1169.03, 909.68, 982.02, 870.67, 854.44, 878.93, 869.33, 917.03, 966.61, 1223.42, 994.85, 859.91, 903.81, 926.54, 866.63, 877.08, 1041.28, 854.44, 1196.05, 1162.33, 916.4, 1163.0, 866.63, 878.8, 878.93, 1152.33, 886.06, 917.03, 1127.71, 894.43, 859.31, 854.44, 1039.38, 1198.6, 926.54, 892.19, 862.35, 1057.68, 917.03, 929.09, 858.7, 878.93, 921.46, 947.66, 926.54, 1162.33, 875.84, 1127.71, 925.91, 866.02, 910.09, 897.55, 1207.3, 1384.64, 1187.57, 922.86, 921.34, 875.84, 1120.96, 993.33, 941.88, 856.89, 888.71, 1002.03, 860.52, 916.4, 891.32, 906.82, 903.81, 1061.29, 866.63, 1152.33, 878.93, 903.18, 893.82, 888.69, 1127.71, 856.14, 967.74, 954.76, 1300.32, 854.44, 1047.64, 922.73, 958.88, 853.23, 867.74, 908.83, 906.82, 941.75, 902.56, 888.71, 891.19, 877.08, 924.04, 875.84, 949.67, 1180.13, 1107.95, 854.44, 910.09, 1117.1, 883.25, 1154.66, 900.55, 878.8, 878.93, 866.63, 895.06, 926.54, 854.44, 958.19, 866.63, 860.52, 1020.63, 869.08, 864.8, 867.66, 857.11, 944.96, 2218.53, 866.63, 872.77, 897.55, 908.83, 994.0, 895.55, 1196.05, 936.57, 1098.23, 926.54, 881.4, 866.63, 885.11, 897.35, 917.03, 866.88, 854.44, 936.75, 873.87, 883.75, 921.57, 899.3, 863.87, 854.32, 873.87, 903.18, 895.55, 903.81, 908.83, 885.77, 917.03, 1025.33, 892.19, 1073.1, 1179.12, 1102.52, 941.88, 980.69, 1198.6, 862.96, 860.52, 1130.9, 993.2, 898.8, 936.56, 954.76, 883.75, 854.32, 896.93, 951.7, 860.52, 903.81, 854.44, 1040.26, 1127.71, 874.75, 881.4, 1179.12, 1359.26, 920.83, 903.81, 864.8, 1350.9, 899.43, 1189.26, 908.83, 853.23, 895.06, 917.03, 856.14, 854.44, 866.63, 917.03, 948.31, 926.54, 872.77, 854.44, 897.55, 1046.47, 887.41, 949.67, 1135.77, 895.06, 878.31, 1210.72, 889.95, 854.44, 854.76, 1778.38, 996.29, 903.81, 869.08, 907.16, 1016.61, 867.74, 1160.66, 909.97, 862.35, 1127.71, 910.09, 866.63, 916.19, 885.82, 900.55, 1237.25, 851.3, 916.4, 1170.71, 854.32, 1044.92, 867.74, 912.61, 941.88, 1335.96, 859.06, 926.54, 944.96, 1120.99, 878.8, 883.75, 853.23, 958.19, 863.58, 994.0, 872.77, 1382.13, 899.43, 892.39, 878.31, 854.44, 1076.82, 1160.66, 897.55, 2153.38, 1145.69, 934.43, 1087.09, 900.05, 929.09, 1237.25, 891.32, 918.3, 880.69, 890.7, 892.56, 945.09, 883.25, 878.93, 895.55, 955.41, 895.0, 1179.12, 870.68, 901.05, 858.7, 863.45, 1163.0, 1237.25, 1020.63, 1070.36, 877.08, 945.32, 862.35, 853.23, 908.83, 1739.86, 889.45, 1173.23, 1213.29, 992.99, 1135.77, 917.03, 1476.37, 922.73, 917.85, 958.0, 1181.65, 916.56, 1207.3, 878.8, 1145.69, 1781.28, 1067.03, 1382.13, 859.06, 863.94, 1056.6, 918.93, 867.74, 854.44, 854.32, 853.23, 980.82, 866.63, 854.86, 877.08, 877.08, 854.32, 980.82, 866.63, 866.63, 903.81, 912.61, 854.44, 974.27, 866.63, 866.63, 1154.66, 866.18, 1163.0, 994.0, 1162.33, 903.81, 990.56, 1063.89, 878.93, 922.86, 864.59, 1061.62, 885.78, 943.45, 975.19, 1216.72, 1127.71, 855.93, 984.24, 916.4, 1112.96, 897.55, 1130.9, 883.75, 1152.33, 856.14, 1244.19, 863.16, 868.16, 953.47, 854.86, 866.63, 866.63, 1145.69, 918.57, 1070.87, 931.51, 871.54, 982.02, 1040.92, 916.4, 929.03, 1162.33, 917.03, 1288.58, 911.86, 909.34, 891.32, 864.8, 882.26, 853.23, 916.27, 886.35, 967.74, 1034.09, 1179.12, 917.66, 911.86, 869.65, 853.96, 993.86, 947.66, 948.31, 853.23, 898.68, 866.63, 878.8, 856.87, 889.37, 878.8, 878.8, 931.51, 1116.8, 917.03, 867.74, 864.8, 862.35, 862.01, 877.08, 1022.7, 917.03, 856.66, 1179.12, 954.76, 854.44, 854.44, 931.51, 878.8, 930.36, 1286.78, 878.93, 853.23, 926.54, 871.54, 857.75, 861.62, 929.09, 947.49, 923.28, 1127.71, 893.19, 903.18, 861.62, 1646.0, 1120.99, 916.27, 882.01, 1196.22, 1331.12, 903.81, 888.71, 866.63, 1020.63, 1174.91, 871.42, 863.58, 926.54, 1145.69, 906.82, 936.11, 1047.64, 898.8, 980.82, 881.4, 1196.22, 903.81, 1300.32, 1035.22, 894.52, 926.54, 1134.95, 855.67, 855.67, 1334.42, 910.09, 938.98, 980.82, 908.83, 851.41, 941.88, 895.06, 1720.04, 886.06, 924.51, 872.77, 883.75, 867.74, 885.73, 926.54, 885.73, 912.61, 854.44, 1221.87, 926.54, 867.74, 902.25, 872.77, 895.55, 1045.11, 925.27, 861.1, 1179.12, 887.19, 948.95, 917.03, 864.8, 926.54, 858.7, 1364.94, 1188.58, 903.81, 856.75, 994.0, 854.44, 1104.7, 1152.33, 1130.9, 944.96, 903.18, 888.26, 908.83, 881.4, 867.74, 885.11, 941.88, 1196.05, 1032.63, 1109.57, 1173.23, 903.18, 958.19, 862.35, 903.81, 929.09, 1113.28, 853.23, 906.95, 850.64, 853.23, 1181.65, 891.32, 1022.07, 856.14, 854.32, 873.69, 878.8, 866.51, 902.97, 869.08, 885.73, 853.23, 894.31, 1047.64, 916.27, 929.73, 886.01, 906.95, 891.32, 897.43, 906.82, 929.09, 1094.9, 981.41, 855.67, 929.09, 873.98, 869.7, 892.56, 1174.41, 922.23, 903.81, 1306.01, 888.71, 1135.77, 929.09, 889.95, 877.08, 967.74, 895.06, 1202.18, 866.63, 866.63, 864.8, 879.74, 878.8, 903.81, 866.63, 885.73, 895.55, 917.03, 1152.33, 888.71, 890.7, 1127.71, 1017.95, 1018.72, 1040.85, 871.05, 922.73, 858.7, 908.62, 1145.69, 1346.03, 854.86, 1216.72, 878.93, 903.81, 854.44, 861.35, 884.24, 880.12, 1163.0, 903.81, 866.99, 1047.64, 944.96, 955.39, 906.95, 941.88, 861.13, 1030.87, 941.88, 872.77, 866.63, 1179.12, 866.63, 984.24, 854.32, 1346.1, 911.86, 891.02, 912.71, 883.75, 852.62, 866.63, 926.54, 980.82, 864.8, 853.23, 888.71, 952.05, 984.24, 1346.03, 858.7, 890.85, 995.97, 1005.97, 982.02, 862.01, 877.69, 875.72, 1154.66, 918.58, 916.27, 929.09, 917.03, 1155.66, 895.55, 862.48, 1191.99, 865.33, 1170.71, 967.74, 878.89, 862.85, 1343.0, 965.66, 1206.27, 857.97, 891.07, 911.86, 1034.09, 875.46, 853.23, 1020.63, 888.71, 886.39, 899.43, 883.75, 881.4, 929.09, 894.25, 1145.69, 929.09, 903.81, 1210.72, 1047.64, 885.73, 929.09, 885.73, 854.44, 1010.67, 917.03, 1025.18, 885.73, 928.83, 941.34, 1034.09, 908.83, 1237.25, 1174.91, 890.07, 926.54, 1002.03, 1334.42, 891.32, 918.3, 859.31, 994.0, 853.23, 878.8, 923.28, 852.52, 878.93, 886.35, 1196.22, 944.96, 895.06, 1196.22, 1210.72, 854.44, 1047.64, 1037.76, 936.57, 898.15, 894.31, 1011.67, 1244.19, 891.32, 854.44, 878.93, 2179.22, 1753.39, 866.63, 912.61, 1160.66, 1005.74, 869.08, 877.08, 897.55, 1034.09, 895.55, 889.45, 1015.01, 903.81, 932.92, 883.75, 1188.58, 909.97, 862.35, 898.8, 894.25, 911.86, 894.31, 900.18, 1109.57, 1181.65, 866.63, 1355.86, 1179.12, 1047.64, 878.8, 866.63, 913.47, 1309.89, 944.96, 973.52, 1160.66, 1196.05, 854.44, 1154.66, 929.09, 878.8, 890.7, 1047.64, 926.54, 866.63, 855.77, 858.7, 1207.3, 1145.69, 881.4, 870.73, 890.64, 878.93, 928.96, 870.53, 1145.69, 895.55, 1005.97, 918.3, 866.63, 901.68, 1020.63, 873.26, 1189.26, 941.88, 877.08, 1075.99, 1196.05, 980.82, 941.88, 915.14, 1155.66, 903.18, 929.09, 878.8, 908.83, 1188.58, 878.93, 1180.13, 1047.64, 1768.47, 1034.09, 859.31, 877.08, 953.1, 929.09, 1333.78, 1340.04, 1160.66, 980.82, 1100.75, 853.23, 1127.71, 1170.71, 1288.58, 854.44, 917.03, 878.8, 911.86, 890.57, 984.26, 866.63, 856.26, 903.18, 862.35, 888.71, 888.71, 906.17, 878.8, 916.4, 927.56, 917.03, 899.43, 884.85, 908.83, 917.03, 853.23, 886.35, 1144.03, 944.96, 866.63, 1808.84, 1145.69, 894.43, 900.55, 906.82, 917.03, 908.83, 908.93, 2163.63, 908.83, 890.7, 866.63, 895.55, 917.03, 878.8, 878.93, 1364.94, 888.21, 926.54, 992.6, 1047.64, 854.44, 872.15, 928.44, 1181.65, 910.72, 1193.67, 992.15, 851.52, 854.32, 926.54, 866.63, 908.83, 887.41, 1187.57, 917.03, 866.63, 908.83, 900.18, 900.18, 858.0, 888.71, 903.81, 1181.65, 866.63, 877.08, 870.92, 891.32, 1043.92, 878.8, 1103.81, 888.71, 912.61, 873.87, 850.92, 954.76, 898.8, 854.44, 852.62, 853.23, 1162.33, 861.62, 881.4, 908.83, 891.32, 854.44, 885.61, 903.18, 1152.33, 931.51, 1047.64, 1162.33, 864.19, 866.63, 907.23, 941.88, 856.26, 903.9, 860.52, 948.31, 925.27, 903.81, 863.87, 915.64, 1120.99, 861.62, 1384.64, 897.55, 944.96, 946.76, 867.66, 910.06, 866.63, 889.61, 941.88, 922.73, 872.77, 903.18, 877.08, 882.51, 914.76, 856.14, 903.81, 1130.91, 1768.47, 967.74, 900.55, 887.93, 929.09, 975.07, 1152.33, 890.32, 862.35, 861.31, 1007.27, 867.74, 1359.26, 866.63, 918.3, 866.63, 1003.46, 856.14, 916.27, 869.7, 903.18, 958.0, 1353.38, 895.55, 895.55, 852.62, 990.56, 1127.71, 1163.0, 1030.87, 1379.7, 903.81, 908.83, 1001.28, 917.03, 994.0, 888.71, 982.02, 926.54, 929.09, 905.56, 854.41, 896.93, 1126.07, 869.7, 884.24, 872.77, 866.63, 853.23, 958.88, 878.8, 994.0, 872.77, 890.64, 941.07, 963.83, 885.73, 1034.09, 1242.38, 866.63, 888.71, 1196.22, 891.19, 1119.7, 1047.64, 921.2, 1335.96, 871.91, 1179.12, 1336.06, 904.72, 998.83, 917.03, 1196.22, 1127.71, 1020.63, 1007.07, 897.55, 853.16, 866.63, 1456.7, 1152.33, 881.4, 1364.94, 894.43, 854.44, 1045.11, 994.85, 967.74, 860.52, 854.2, 894.43, 854.32, 1127.71, 1145.69, 1196.05, 883.75, 1085.67, 948.31, 969.82, 891.93, 1152.33, 934.36, 885.82, 916.27, 983.97, 872.48, 881.64, 1142.45, 891.32, 1047.64, 994.85, 867.66, 954.5, 876.17, 1181.65, 1117.88, 866.63, 1116.31, 968.19, 861.62, 854.32, 885.73, 987.71, 1145.69, 854.44, 1213.29, 890.62, 890.7, 1160.66, 886.35, 867.74, 881.4, 903.18, 862.35, 924.64, 886.39, 911.86, 975.58, 862.35, 890.7, 1189.26, 887.41, 1202.18, 1030.72, 1364.94, 866.88, 872.77, 900.68, 886.35, 868.91, 888.46, 869.7, 1040.08, 1370.85, 854.32, 908.83, 980.82, 863.58, 1718.11, 972.57, 1359.26, 984.24, 885.73, 885.73, 1334.42, 888.71, 888.46, 1162.33, 893.43, 884.51, 1152.33, 951.06, 857.48, 994.0, 869.08, 908.83, 903.18, 856.87, 908.83, 982.02, 880.78, 954.24, 854.44, 859.31, 851.61, 1733.76, 1343.7, 888.71, 908.83, 885.73, 923.28, 878.8, 866.63, 1170.71, 912.61, 874.98, 862.35, 878.38, 877.08, 2111.78, 892.19, 856.14, 890.57, 854.44, 866.63, 1346.03, 854.32, 906.82, 1149.01, 1014.75, 854.44, 895.06, 1210.72, 885.61, 872.77, 891.93, 863.58, 888.71, 949.67, 994.0, 1202.18, 866.63, 890.7, 916.4, 853.23, 895.55, 909.97, 1047.64, 912.49, 928.96, 853.23, 930.36, 1047.64, 870.67, 858.7, 869.65, 881.4, 881.4, 912.61, 1203.03, 885.73, 877.08, 1115.23, 1169.03, 941.75, 954.76, 851.97, 1120.99, 1360.04, 1010.67, 915.77, 1144.03, 854.86, 866.63, 888.71, 1072.03, 885.73, 895.06, 1338.28, 903.81, 903.37, 871.69, 903.81, 880.69, 878.8, 1020.63, 891.32, 885.36, 875.23, 929.09, 861.26, 950.39, 1135.77, 851.29, 1127.71, 990.56, 856.14, 954.76, 866.88, 1230.32, 903.81, 982.02, 896.48, 892.39, 881.4, 890.64, 1174.91, 883.75, 1130.9, 1120.99, 1179.12, 1047.64, 1162.33, 878.93, 1334.42, 902.56, 996.86, 858.7, 1000.62, 917.03, 1034.09, 916.4, 885.73, 908.62, 1170.71, 908.83, 908.83, 858.7, 1152.33, 1045.11, 926.54, 983.84, 902.56, 903.12, 858.23, 894.43, 876.95, 958.19, 1135.77, 1179.12, 1382.13, 894.31, 1278.19, 1170.71, 859.06, 897.55, 1105.08, 859.31, 903.81, 917.03, 1170.71, 967.74, 903.23, 871.54, 872.77, 915.14, 1179.12, 966.61, 897.35, 888.83, 859.31, 941.75, 862.35, 888.71, 1191.53, 917.03, 2147.64, 894.43, 867.74, 1206.27, 994.0, 878.93, 854.44, 854.44, 917.66, 866.63, 859.31, 862.35, 1057.87, 860.52, 1117.88, 897.55, 903.18, 852.62, 941.75, 1107.95, 877.08, 894.43, 1359.26, 912.61, 879.54, 1145.69, 926.54, 855.05, 866.63, 977.54, 906.82, 1002.03, 903.81, 891.32, 889.45, 994.0, 1174.91, 888.21, 980.82, 1170.71, 869.08, 1109.57, 899.09, 917.03, 1340.04, 852.01, 908.83, 993.2, 891.32, 862.11, 906.45, 860.52, 890.07, 1125.08, 866.63, 894.43, 877.08, 1178.03, 921.42, 854.44, 931.51, 916.15, 884.24, 851.08, 1154.66, 877.08, 1145.69, 1105.72, 974.15, 859.31, 1382.13, 1046.01, 891.19, 957.35, 854.86, 872.77, 1127.71, 951.92, 972.7, 1237.25, 859.91, 917.66, 1169.03, 1054.56, 1338.27, 994.0, 1047.64, 902.91, 1170.71, 916.4, 1170.71, 861.62, 1063.85, 925.27, 994.85, 856.26, 929.09, 904.72, 994.0, 868.33, 883.87, 891.32, 931.0, 854.44, 1010.67, 1306.01, 892.39, 891.31, 1087.41, 877.08, 967.74, 1004.87, 1144.03, 854.44, 866.63, 926.42, 1196.22, 929.09, 866.63, 862.35, 888.71, 888.71, 1379.7, 876.34, 866.63, 854.32, 877.08, 854.62, 878.8, 934.83, 987.71, 871.42, 903.81, 859.31, 856.26, 980.82, 854.44, 861.62, 1088.86, 854.44, 862.96, 900.68, 888.71, 862.35, 1001.28, 852.62, 873.26, 867.74, 866.63, 876.11, 966.44, 1288.58, 895.43, 961.24, 884.99, 1097.25, 854.32, 890.7, 866.63, 1003.46, 941.34, 2134.06, 885.09, 886.06, 1370.85, 874.49, 903.81, 892.39, 880.78, 908.83, 852.01, 885.11, 866.63, 876.21, 867.74, 852.74, 1107.95, 903.18, 886.35, 869.08, 1134.12, 916.15, 954.76, 900.55, 894.43, 1379.7, 888.71, 885.73, 1379.7, 866.63, 1187.57, 1127.71, 854.32, 903.81, 885.73, 880.96, 854.44, 929.09, 916.27, 906.95, 853.23, 916.4, 920.83, 1049.29, 894.43, 869.08, 867.74, 1152.33, 866.63, 915.26, 926.54, 891.32, 1181.65, 919.69, 903.18, 891.32, 974.27, 894.43, 903.18, 860.52, 1203.03, 934.83, 878.8, 910.13, 1081.29, 1152.33, 1206.27, 903.18, 918.3, 855.05, 1037.76, 852.01, 967.74, 912.61, 1127.71, 864.8, 1047.64, 887.59, 866.51, 868.35, 866.63, 948.31, 885.73, 1007.27, 891.32, 917.66, 872.4, 962.22, 858.7, 876.11, 949.67, 864.8, 990.56, 882.51, 1040.08, 860.28, 878.8, 876.7, 885.73, 883.75, 1223.42, 891.32, 853.8, 867.74, 1061.29, 861.62, 903.81, 888.71, 854.44, 854.44, 855.64, 888.71, 890.7, 866.63, 921.46, 894.43, 1025.33, 878.93, 1338.28, 1127.71, 1174.91, 1382.13, 882.91, 1169.03, 903.18, 1127.71, 911.86, 1157.83, 1061.62, 921.46, 941.75, 941.75, 854.76, 861.62, 889.45, 954.76, 1003.46, 979.81, 906.82, 1152.33, 1169.03, 905.87, 968.57, 878.8, 929.09, 941.34, 861.41, 980.6, 1046.28, 869.08, 869.08, 878.93, 929.09, 854.44, 853.71, 1047.64, 926.54, 1010.67, 878.8, 1161.03, 881.4, 877.08, 909.52, 1170.71, 902.56, 1034.09, 886.35, 911.86, 888.71, 882.26, 903.81, 987.71, 941.88, 909.76, 989.71, 854.44, 1170.71, 895.06, 855.67, 1159.84, 923.37, 1023.58, 903.18, 1007.27, 1563.21, 1221.87, 861.62, 1130.9, 1336.03, 895.06, 866.63, 960.46, 1180.13, 1102.78, 917.03, 1552.76, 861.62, 1364.94, 1300.32, 851.41, 863.94, 867.06, 1215.9, 941.88, 916.27, 1041.53, 2251.51, 958.19, 906.82, 885.73, 860.52, 998.83, 890.32, 866.63, 871.78, 1157.18, 1159.24, 923.33, 853.28, 1359.26, 922.73, 1188.58, 916.27, 913.24, 1174.91, 878.93, 908.83, 864.8, 1010.6, 858.09, 929.09, 1025.37, 881.4, 1174.91, 867.74, 1213.29, 948.18, 853.59, 1054.56, 890.7, 866.63, 872.77, 853.23, 888.71, 1379.7, 1351.61, 855.67, 886.01, 854.76, 851.61, 872.77, 864.8, 967.35, 1359.26, 968.92, 857.48, 1117.88, 1094.14, 1720.04, 861.95, 891.32, 853.23, 1193.67, 890.07]\n",
            "outliers in column  LP_CustomerPayments  have outlier  [23511.66, 20294.51, 22851.32, 24034.31, 29961.25, 31627.44, 23325.61, 19297.19, 24539.88, 20248.48, 18996.74, 29339.95, 25530.79, 19702.98, 21805.73, 19255.89, 22944.84, 28365.7673, 22403.74, 20441.16, 29825.73, 30980.08, 26244.47, 28807.71, 20083.51, 22654.17, 19080.5, 27959.98, 26742.78, 18669.37, 21794.66, 26724.88, 26561.6, 27111.96, 19220.42, 27158.24, 21144.63, 25980.82, 27404.43, 26477.89, 19303.14, 31634.11, 22185.63, 21238.45, 18949.96, 23411.54, 18624.53, 25799.65, 28252.16, 30249.47, 20954.9268, 21089.1968, 26428.49, 20058.1, 19679.0, 26543.61, 23848.0, 22829.87, 19435.42, 24924.8, 18790.9736, 21012.57, 19037.22, 26166.13, 26176.68, 22243.5, 30275.37, 31170.39, 18732.69, 18964.36, 25936.73, 32475.4, 26263.01, 33007.38, 21758.76, 23661.79, 19112.96, 32683.42, 21393.7, 23044.99, 29211.13, 19763.85, 31009.73, 21201.09, 23327.85, 19643.45, 21446.88, 28746.45, 20190.34, 19426.46, 28705.22, 26050.87, 18594.99, 32078.26, 20897.18, 29322.25, 38013.04, 20422.08, 20708.27, 20237.86, 18656.42, 25646.31, 21757.32, 18714.58, 24265.94, 27022.47, 32310.58, 20871.52, 20519.69, 21164.527, 32803.09, 30858.77, 18654.7, 23890.44, 28243.79, 28372.47, 27395.03, 22587.81, 25586.31, 23656.41, 20543.06, 32651.73, 25932.02, 20946.7, 19333.65, 32680.33, 23499.06, 25519.78, 19429.59, 20937.65, 23011.49, 26012.0101, 23786.49, 24265.64, 26488.76, 29737.98, 25398.41, 18987.8, 22332.73, 25926.05, 28553.77, 25695.75, 20065.99, 28166.16, 31112.94, 19539.93, 18690.92, 28036.75, 29676.57, 18745.23, 26622.39, 25777.12, 23944.8, 28788.63, 22772.5, 29026.0, 26583.42, 28078.37, 27794.17, 20515.53, 30333.87, 26598.19, 29139.95, 19316.84, 25709.13, 19361.02, 24562.7, 20703.95, 31149.57, 19575.12, 21733.31, 18764.0, 20011.47, 20879.04, 20210.44, 21291.39, 24045.6, 32153.99, 21446.88, 30208.7, 25437.34, 23341.21, 28670.94, 19014.83, 25839.48, 23600.94, 29761.87, 18556.63, 19224.55, 26591.32, 20845.33, 31656.54, 18757.85, 20545.52, 21566.31, 20689.36, 19827.62, 19509.45, 25453.0955, 24538.73, 21175.21, 30252.34, 29468.32, 21233.17, 26229.76, 26424.88, 32093.07, 18725.62, 18802.27, 28671.69, 21280.22, 35127.18, 34193.51, 19468.53, 29162.9, 26653.06, 19049.55, 30819.82, 24611.11, 29523.95, 26473.29, 27190.92, 31987.62, 20600.16, 19329.32, 25760.45, 28334.13, 27135.4, 19757.34, 21494.06, 33781.87, 20878.99, 23099.06, 24445.55, 28015.2, 20060.22, 28110.55, 21166.5967, 29788.8, 22085.66, 26731.78, 21016.85, 32003.2, 20083.33, 25079.87, 24743.67, 18924.92, 20682.95, 28072.97, 20633.85, 21177.62, 19294.28, 21885.67, 26218.96, 18586.09, 25686.05, 21379.48, 23289.57, 26548.15, 24288.49, 20053.57, 23935.61, 20294.73, 25687.2936, 21801.0995, 21821.11, 18568.55, 26623.44, 22682.21, 19671.37, 27091.39, 23588.85, 20331.57, 29226.58, 30567.03, 21859.53, 38206.09, 26779.76, 20444.57, 24443.58, 26174.14, 20618.4967, 29709.74, 21381.37, 18942.25, 22776.65, 20087.79, 25988.16, 23903.37, 22913.21, 28805.36, 19161.28, 21348.37, 30229.4, 25645.21, 19562.18, 20857.92, 20216.33, 26914.92, 26849.56, 26764.15, 29470.99, 23519.96, 20429.46, 19606.75, 18658.37, 18595.1, 27068.1773, 32169.09, 22920.99, 33450.33, 18955.05, 26849.9093, 23167.85, 36358.08, 26464.12, 20692.94, 25078.08, 27024.87, 28830.01, 29886.86, 20718.7668, 19179.45, 29715.63, 29030.67, 25127.7712, 19455.34, 24178.22, 23613.18, 20067.88, 27443.59, 19395.48, 19136.97, 22937.85, 25832.46, 19759.41, 22586.79, 20981.39, 19351.61, 18904.57, 29054.22, 21758.36, 29452.55, 23522.91, 23215.0, 27355.55, 25988.29, 30337.98, 26056.6, 21420.41, 21344.83, 25837.07, 18899.78, 25959.48, 18721.87, 26556.52, 29464.84, 20914.41, 23318.58, 28401.39, 26745.58, 20703.9, 28372.83, 22941.64, 30333.92, 18718.37, 25332.26, 29354.89, 23585.48, 30738.5, 20526.57, 20769.25, 20112.78, 21588.45, 29033.85, 20559.31, 25954.17, 29899.3, 20778.13, 18838.68, 30190.64, 21456.45, 19451.02, 31017.1, 19409.08, 19020.79, 29817.99, 20546.43, 26976.64, 26284.83, 28476.52, 30182.32, 21748.88, 20084.82, 21145.97, 26158.43, 20874.56, 18605.48, 21821.44, 21491.21, 27717.88, 24412.18, 26529.67, 19596.03, 19594.08, 21571.9675, 19616.12, 27981.33, 19097.87, 18822.8, 29683.98, 23623.21, 26899.14, 19175.94, 24670.51, 21135.39, 24286.66, 21095.36, 25987.7, 26321.39, 25112.1, 24971.06, 21964.8, 20117.82, 29468.29, 27872.91, 22073.27, 20280.01, 25058.86, 19535.07, 18612.33, 18838.82, 25928.23, 22349.96, 25541.23, 20912.04, 26800.55, 29447.83, 22690.97, 20457.95, 19168.43, 30282.56, 18868.49, 27603.56, 26664.32, 26107.96, 29524.34, 20859.12, 19241.04, 18980.06, 24994.32, 19948.42, 24081.4, 23354.25, 23856.0, 21742.97, 18716.68, 20107.36, 26098.87, 36264.14, 19671.53, 27192.9, 31591.24, 32178.53, 18779.47, 35376.71, 19262.89, 19717.28, 21330.89, 19349.8, 18924.59, 32555.19, 19878.66, 28850.89, 20523.96, 19414.11, 31036.94, 30043.16, 27275.48, 18651.76, 20512.8066, 27345.66, 18577.91, 22973.17, 21724.11, 20818.3, 33465.23, 32663.48, 29533.7, 29775.3, 28363.93, 28117.34, 25330.3, 25303.1, 25385.4636, 25024.67, 18761.72, 30215.01, 31918.05, 21596.54, 34021.8, 18991.91, 20562.39, 19362.46, 25409.11, 20798.77, 19067.62, 21988.44, 26099.52, 26301.3455, 18705.49, 22880.36, 19188.26, 23280.51, 22399.02, 28274.46, 24475.93, 25681.0, 19562.16, 21367.69, 19366.67, 21404.97, 19502.33, 22650.47, 26734.93, 18620.37, 25332.88, 20706.73, 19270.49, 29555.34, 26530.46, 21183.96, 20487.08, 21159.24, 23890.44, 18856.48, 25892.48, 24203.71, 19020.5, 19474.06, 28114.09, 22264.46, 20357.17, 26877.17, 25114.74, 20242.59, 21569.16, 19152.75, 21482.2747, 19561.94, 19210.23, 19403.37, 21308.44, 25938.93, 21148.37, 19185.2, 19817.61, 28501.45, 25717.84, 34103.7, 25291.38, 19992.64, 23890.44, 23774.4, 20587.1, 21915.97, 18900.01, 30024.09, 20770.45, 30336.32, 20549.88, 23041.47, 24249.25, 33471.96, 20018.1, 26397.2079, 20164.0, 24617.68, 21189.2, 19368.42, 22208.28, 24555.91, 20149.9, 21584.97, 19309.63, 19637.92, 19188.62, 31412.89, 21165.75, 20344.03, 18715.01, 23346.23, 21307.13, 18562.59, 21655.84, 30824.72, 30763.59, 26417.16, 18634.86, 21301.35, 26695.89, 23987.82, 28640.92, 23037.21, 18997.16, 18838.05, 27276.6, 19997.31, 26954.74, 33453.75, 26743.43, 30370.89, 21294.7723, 27280.75, 20306.12, 22247.89, 21548.37, 24764.96, 26342.72, 20095.86, 22594.14, 29731.45, 18610.84, 21092.1668, 18842.09, 26832.79, 28016.18, 22532.64, 18985.87, 27116.43, 29508.66, 20636.21, 25564.19, 26781.74, 20365.47, 26452.75, 19386.97, 23557.23, 23750.43, 20524.15, 30977.59, 27443.12, 25087.75, 20645.21, 20333.54, 26914.44, 18628.96, 26363.01, 27170.65, 25327.52, 31043.87, 30115.7, 29683.77, 25239.31, 24226.12, 20842.05, 19357.44, 25315.84, 18700.59, 20996.8, 23132.41, 19397.86, 21422.84, 31574.54, 24771.73, 20539.6, 24485.74, 29295.11, 18805.02, 27118.21, 19768.62, 27718.95, 20452.87, 19632.57, 20949.04, 21190.84, 20083.44, 29410.83, 26468.0, 29392.63, 25428.66, 22748.73, 19053.08, 29836.66, 25102.4, 33793.28, 25738.44, 21958.15, 29898.4, 23418.51, 18829.12, 18736.56, 27599.87, 20370.4001, 23251.39, 23924.62, 21076.62, 26714.08, 26243.19, 25121.27, 19101.3, 21094.54, 20596.41, 19674.51, 20437.46, 24595.92, 19292.46, 21985.15, 19106.55, 18805.05, 20800.0, 26830.27, 20540.58, 26192.27, 26229.94, 18574.56, 19146.56, 26959.54, 20451.56, 19855.61, 25849.8, 23370.7, 18651.21, 28268.16, 32340.66, 18979.0, 22865.97, 19048.81, 27856.62, 18640.74, 19073.11, 24174.57, 25986.08, 27860.11, 25895.58, 19592.1, 19626.08, 18613.11, 19018.1851, 21012.46, 24955.82, 29336.95, 18822.91, 20031.4, 21007.53, 19686.7588, 21084.79, 27133.15, 20281.56, 27111.6, 21655.11, 22449.35, 25929.95, 19271.85, 27889.44, 19251.96, 18673.73, 28056.67, 21997.67, 20690.95, 19741.3, 20074.2, 19311.55, 25127.9626, 18674.63, 25306.68, 24824.43, 23780.15, 20341.95, 20443.22, 25438.13, 19628.68, 19119.43, 29492.22, 24145.82, 30943.61, 23237.64, 26650.14, 24210.68, 26306.64, 25018.53, 23840.7, 21159.4245, 18765.46, 20640.52, 23750.42, 23971.88, 22837.9029, 26475.83, 26442.22, 21304.63, 20366.58, 25845.11, 19581.24, 21204.68, 24060.9, 19328.92, 23316.73, 23037.21, 29040.46, 19108.63, 31512.15, 29377.43, 27097.28, 18739.48, 25735.21, 27702.16, 18723.17, 21802.44, 22601.27, 24911.96, 19845.09, 18697.06, 25418.78, 19958.04, 21092.1668, 23800.46, 18582.76, 28577.01, 23827.48, 28512.2, 19264.29, 20656.1, 31898.03, 20641.89, 20422.55, 27453.01, 22389.67, 32680.31, 19012.98, 24251.33, 20048.47, 19468.31, 22786.04, 27418.31, 25964.68, 25490.39, 19358.38, 25943.98, 19014.34, 18757.85, 29127.43, 24639.15, 32931.13, 27613.63, 34454.39, 24512.29, 19464.8, 28402.34, 21950.49, 27821.77, 29229.09, 25309.02, 19679.7, 29021.89, 21410.7, 21233.2, 28007.74, 29301.56, 38249.01, 32586.03, 28641.87, 31545.46, 28010.11, 20720.46, 22540.56, 18580.37, 19785.95, 30658.57, 19527.15, 24230.73, 19104.63, 25109.59, 19108.09, 28943.82, 21471.21, 20488.93, 25801.4, 19290.58, 19677.6, 20898.72, 32559.33, 19745.68, 25846.74, 19015.79, 21594.29, 31653.42, 19254.85, 24456.44, 19386.3, 19082.25, 18611.1, 26344.53, 36807.92, 23693.94, 19865.4, 25713.91, 20017.49, 29172.05, 19636.23, 26187.43, 35889.65, 20911.49, 21214.05, 19200.94, 31223.97, 22982.52, 25039.8623, 24837.68, 25943.78, 18951.3, 31118.23, 24428.99, 18939.53, 27261.01, 18678.39, 27362.34, 18873.42, 19173.14, 22042.54, 32782.31, 19219.48, 27869.54, 28492.13, 27546.3, 29682.73, 19659.73, 19068.84, 19123.95, 24970.86, 20297.23, 21225.85, 18899.99, 23500.64, 19263.17, 23532.72, 19259.38, 27950.01, 24741.06, 19134.93, 20018.46, 27503.66, 19859.36, 22507.44, 20091.73, 22347.52, 19275.22, 21894.16, 24070.49, 25975.21, 25938.13, 20549.04, 21893.75, 33496.14, 26675.6, 30952.92, 29885.3, 24732.23, 23481.72, 27086.37, 18993.92, 21022.98, 26436.84, 24005.54, 18986.02, 20645.49, 19895.01, 19372.93, 24428.99, 20938.44, 35362.2049, 21477.34, 25284.7888, 30145.58, 20164.47, 18963.1, 20312.29, 18869.16, 19438.05, 19397.57, 21514.09, 20965.0, 19088.31, 23530.36, 24405.79, 28657.1, 32993.03, 20046.55, 29677.78, 19113.93, 27501.79, 25159.66, 25803.8659, 26588.28, 22928.8547, 26457.85, 19901.74, 21172.2, 32587.62, 19443.24, 25129.9649, 23312.92, 27222.73, 22179.6, 29796.88, 24214.85, 24015.97, 21249.24, 19172.59, 31735.18, 22037.82, 22053.09, 19655.55, 34662.82, 19938.6, 26325.36, 21930.07, 25907.33, 27266.62, 19010.6, 29752.54, 21193.79, 30138.98, 24258.27, 18692.51, 20966.98, 19286.72, 30348.13, 23369.42, 25813.11, 23393.25, 27068.12, 21615.23, 23151.35, 25563.54, 28100.28, 27655.61, 21495.06, 24075.72, 18586.51, 31451.05, 20385.18, 37369.16, 26844.87, 22348.4, 30167.31, 19872.74, 26132.5, 20020.96, 21039.5, 27186.93, 18987.62, 29800.52, 20454.04, 21980.6, 20161.61, 18576.61, 26267.9, 22564.2, 23134.07, 20606.67, 29542.2, 25522.5041, 19142.97, 22185.19, 21512.95, 21346.8, 21038.65, 35579.42, 24212.06, 20501.09, 19572.92, 27232.97, 19513.5, 19050.93, 18862.25, 26990.5, 22440.74, 25501.61, 25898.38, 26869.79, 25909.32, 20971.92, 31984.38, 19468.38, 19626.11, 20543.8, 25403.04, 20799.12, 20187.84, 21927.75, 19370.03, 19098.85, 18580.12, 19139.4, 19155.32, 31080.73, 19997.48, 26806.27, 24689.73, 28001.87, 20104.13, 19640.81, 18763.53, 27405.86, 19821.49, 24228.88, 19794.89, 26025.86, 24782.53, 20336.38, 20795.39, 21610.68, 23016.86, 28321.01, 23164.18, 20019.31, 20075.55, 22178.03, 30272.24, 25705.49, 18977.86, 28945.34, 28356.78, 20835.7, 32559.63, 27102.12, 24662.72, 28481.86, 28025.29, 25075.7, 20309.36, 19357.44, 33385.18, 19152.75, 19862.98, 25059.24, 26732.78, 28214.06, 19968.44, 29688.03, 19099.45, 19952.84, 25069.0, 24397.05, 20198.8, 30779.66, 19969.29, 19289.82, 24072.25, 21101.58, 21615.75, 27522.32, 23827.89, 25415.68, 26332.94, 29499.81, 25255.5, 29463.94, 19757.6, 23361.99, 30330.82, 26521.4, 22169.04, 28598.0, 25432.87, 18960.74, 28108.3, 25672.68, 20678.15, 18720.81, 20769.38, 24036.51, 23718.13, 26267.9, 21536.92, 28005.84, 19664.74, 29593.47, 21370.79, 21605.66, 21354.8699, 25676.31, 19537.07, 23877.28, 19102.69, 33347.55, 19378.12, 23631.85, 29088.61, 22011.02, 18581.77, 19135.55, 29374.9, 28310.13, 29211.93, 20995.02, 28180.89, 19381.69, 19104.2, 30519.81, 19662.83, 29681.61, 29491.2, 19487.36, 23157.55, 26423.98, 21613.89, 18695.52, 29529.59, 19044.55, 27438.46, 30279.38, 28868.3537, 27796.97, 25627.9708, 21843.75, 32095.42, 21896.66, 21381.27, 20230.0, 20368.76, 22154.57, 25164.62, 30604.48, 18824.81, 21776.37, 21443.07, 22145.9, 19843.68, 21266.15, 18981.3, 32556.12, 26345.65, 20429.33, 19612.13, 24838.49, 26964.28, 26214.34, 19995.14, 25797.25, 19961.3, 28567.57, 25189.76, 21973.56, 18987.01, 28371.26, 20611.69, 21588.96, 19648.53, 21278.3962, 29525.8, 27993.47, 18696.0, 20309.77, 21023.52, 26507.72, 18848.17, 21026.66, 25326.2, 23799.93, 22561.82, 22201.18, 26793.31, 23833.25, 24284.3, 22304.87, 21226.36, 18559.26, 26905.17, 29508.03, 19172.3, 21568.1373, 25710.88, 22863.71, 35647.74, 31213.79, 27218.17, 18594.19, 26102.18, 21648.1, 22037.16, 27637.92, 19914.04, 26303.61, 18865.71, 20087.34, 28490.04, 27660.28, 24644.3, 21803.83, 25642.64, 22868.57, 26042.08, 28996.61, 21473.17, 19462.67, 24417.18, 30052.39, 26538.21, 24154.93, 30333.5, 23427.86, 19692.22, 24234.33, 20039.8, 27484.36, 18590.52, 19164.1, 22198.26, 27220.49, 21221.07, 19417.53, 24280.05, 31114.83, 21044.73, 31927.49, 20257.79, 29125.89, 24770.15, 19953.6, 24055.09, 22447.26, 18965.41, 20544.41, 22815.14, 31623.5523, 29277.98, 19862.12, 21511.34, 20217.71, 20178.93, 24572.8, 20894.38, 18813.72, 31928.68, 29038.67, 31549.69, 19249.22, 27943.7, 18643.66, 26792.57, 23750.42, 27238.64, 24907.28, 20976.16, 20382.49, 29418.96, 25993.9, 19797.29, 27751.92, 19526.36, 22233.1, 21445.03, 19061.01, 29545.6, 28768.19, 31656.54, 32966.06, 22590.47, 19862.81, 19673.78, 19426.37, 24790.09, 18968.29, 25518.85, 22912.58, 25662.15, 22783.42, 23440.99, 20612.49, 21691.5, 33076.25, 20898.9, 30234.46, 19464.72, 26220.11, 21931.54, 19408.23, 25234.7, 19832.38, 26900.33, 19655.97, 19502.91, 31682.4, 25234.06, 21133.11, 23593.79, 20457.8, 19082.09, 25974.99, 23418.96, 32804.5, 23852.19, 19112.24, 20710.74, 18573.19, 20211.1, 31548.99, 20627.88, 20724.2279, 26824.35, 30011.85, 19794.15, 26128.12, 23732.43, 23425.46, 20814.61, 27110.13, 19924.73, 28845.04, 22944.64, 20531.6, 20039.83, 25967.4, 29705.44, 19207.41, 25467.87, 31496.94, 27283.88, 23916.1, 19874.19, 28471.79, 20918.23, 22991.55, 24620.53, 20990.26, 27964.83, 22497.97, 28227.56, 26189.35, 20939.56, 20241.6, 27602.16, 20633.98, 20178.28, 20006.85, 23366.06, 20927.65, 23587.29, 20054.52, 20184.11, 18616.94, 31102.56, 18584.32, 26509.08, 20686.07, 27718.82, 20819.67, 22273.98, 19850.52, 24217.81, 19914.83, 30355.17, 26626.8, 28806.37, 26924.6, 24743.67, 30239.87, 35617.43, 22241.95, 19797.48, 31238.05, 22068.24, 23414.41, 25009.45, 20705.57, 19593.6, 23359.05, 23519.61, 24011.6, 27347.49, 23507.79, 21039.8, 32201.08, 28313.51, 21042.12, 18670.03, 19517.95, 19223.76, 28228.22, 21076.11, 19536.69, 24670.54, 28690.73, 19178.49, 22373.32, 19014.08, 22427.32, 23875.83, 19034.2, 21225.91, 25308.72, 20448.97, 27217.01, 30684.7, 26396.59, 20976.76, 20082.98, 26415.02, 23401.55, 22846.71, 20103.73, 35803.18, 40547.7, 24555.11, 26823.2, 19599.23, 21038.72, 28244.51, 29455.27, 32653.96, 19555.77, 19318.78, 22469.48, 20783.23, 21086.54, 27810.76, 19905.88, 20823.04, 26483.46, 28026.39, 25029.16, 20695.56, 26334.32, 19333.7, 36384.84, 28023.45, 27297.12, 19682.96, 23380.8, 20243.79, 28110.98, 35978.2, 18592.57, 20068.02, 21005.13, 19705.2, 23624.83, 21320.55, 19527.94, 19927.05, 18746.8, 25691.66, 20471.93, 27725.85, 19438.23, 19332.35, 20053.1, 27405.65, 30840.52, 19259.92, 25563.98, 28137.17, 29159.26, 29771.95, 18577.89, 18830.35, 20988.37, 19734.32, 18890.64, 34929.2, 29555.9, 22512.5, 26663.18, 19833.47, 18598.01, 25326.03, 24695.04, 29678.43, 30237.65, 24336.6, 21714.07, 20833.88, 19782.06, 28005.44, 29730.47, 23516.11, 19523.16, 20438.96, 24015.95, 18688.07, 18772.69, 26076.08, 26409.5, 18746.29, 27774.4, 18722.73, 21783.98, 22705.57, 21262.44, 27521.41, 21293.04, 18838.75, 19234.63, 18659.34, 26234.99, 21446.88, 18877.89, 25110.14, 30754.9, 29179.63, 18633.5, 24067.61, 18849.79, 25391.47, 19248.96, 28009.89, 23847.49, 23707.33, 19335.25, 18857.82, 30337.37, 27407.23, 31570.3, 20493.2, 30938.89, 18634.56, 19539.96, 18677.0, 32069.96, 29284.45, 27180.07, 28731.3116, 21561.23, 19200.86, 19452.16, 19071.36, 20672.25, 19699.59, 25384.64, 22788.04, 19349.28, 18660.8177, 23847.09, 20454.51, 22672.57, 21161.6, 20616.8, 29403.76, 23268.87, 25339.51, 23184.19, 19533.64, 29857.41, 27310.36, 23196.16, 23708.25, 29108.74, 29950.08, 20086.84, 25135.31, 26523.41, 18581.53, 25261.56, 22984.08, 29213.65, 19471.76, 25826.94, 20132.5, 21693.39, 26268.35, 31256.9, 22100.42, 18786.99, 21955.09, 18775.47, 32452.42, 28420.52, 19020.05, 29709.37, 33493.38, 19417.25, 20330.77, 25104.16, 20995.85, 25224.26, 23051.52, 23229.92, 20561.67, 28985.35, 24221.92, 21026.1968, 30663.51, 35441.71, 20209.93, 25174.01, 19442.96, 19534.63, 27581.28, 22278.3, 29251.53, 22110.2, 20726.64, 25350.6358, 21538.95, 28152.22, 20517.93, 20652.04, 20296.44, 28997.67, 22284.18, 22175.97, 25483.01, 22939.7275, 20829.36, 20736.42, 22079.25, 25026.5723, 28836.74, 26150.52, 20533.33, 24983.08, 25828.28, 25496.26, 28862.95, 25417.48, 29715.88, 25236.39, 18571.91, 31453.8, 30348.88, 19163.97, 25810.85, 20095.89, 25801.33, 19600.44, 27978.5, 21086.55, 20868.9181, 23408.02, 21085.81, 19837.88, 35405.19, 21302.36, 27745.7, 23605.77, 33998.42, 26808.18, 19516.01, 29795.87, 23405.15, 31145.6523, 30782.11, 18755.8, 21772.22, 25894.94, 30129.32, 19123.9, 30705.67, 22312.07, 21092.99, 24532.41, 19130.55, 26920.08, 27902.19, 21804.21, 25452.34, 19212.45, 29840.12, 23263.091, 18584.59, 24395.4, 33702.53, 25172.46, 18577.58, 30981.01, 24828.26, 19703.56, 20860.19, 19095.5, 29470.77, 19435.31, 22454.11, 30686.38, 20509.26, 30266.8, 18886.06, 29964.16, 22677.2, 23089.08, 24959.28, 28104.34, 18687.87, 28230.66, 19700.79, 23240.25, 20501.19, 26365.21, 30171.19, 25430.12, 26226.31, 25426.63, 20322.54, 19375.55, 21056.44, 33197.53, 22129.6, 20535.77, 24420.43, 18875.69, 32468.71, 23404.31, 23573.55, 27166.27, 21933.77, 22140.29, 22861.45, 26229.1312, 18728.48, 25699.69, 25942.91, 21735.12, 23275.4, 23569.07, 26097.9011, 28239.01, 29910.55, 20195.15, 26595.56, 29670.78, 30678.88, 22852.38, 24523.14, 29426.83, 32317.28, 18567.4, 18811.43, 19209.15, 18722.65, 21836.93, 26056.68, 27722.51, 26165.8, 29109.0, 19356.63, 27387.11, 19105.47, 21222.03, 22128.26, 18909.48, 20164.0, 18720.8, 18645.07, 30893.14, 20435.41, 28469.02, 28718.82, 28484.28, 23515.81, 22168.95, 19795.44, 18671.1, 19057.01, 22681.19, 27192.77, 35120.23, 18702.48, 32968.33, 21362.15, 24385.12, 24518.1, 19252.66, 23182.55, 28343.76, 23650.66, 25058.29, 23925.65, 25348.27, 25924.37, 33258.24, 18797.68, 24683.66, 21095.83, 19387.04, 21736.13, 25216.9, 19070.68, 18797.68, 20306.04, 19945.2, 19693.73, 24464.21, 20695.06, 25707.07, 26177.45, 26241.04, 27482.85, 20090.75, 20124.39, 19626.67, 23641.18, 21006.0, 18665.28, 25499.21, 27118.25, 25564.48, 21987.87, 25994.6336, 23839.56, 20461.72, 26010.42, 18705.2, 21915.64, 26317.603, 20380.62, 28533.21, 18848.17, 20712.95, 19497.68, 21038.84, 30441.66, 21976.92, 21391.5, 19220.35, 20078.97, 22944.99, 25328.81, 21129.29, 19573.44, 25712.01, 30454.49, 26924.46, 20806.21, 21852.67, 29792.11, 24105.7592, 25072.11, 23903.45, 26479.18, 24398.07, 21517.95, 23399.91, 25261.38, 21576.53, 19536.99, 25119.35, 20195.4549, 25441.01, 23750.44, 19532.59, 25746.55, 30252.52, 19014.22, 23157.59, 21507.23, 18559.03, 20475.24, 24085.5, 19551.88, 30574.74, 22275.34, 24289.07, 20073.91, 20430.91, 19025.58, 28582.27, 19852.78, 25963.66, 25170.43, 18920.96, 19409.2, 18707.4, 18748.19, 29836.66, 27820.6, 28062.87, 22919.49, 19352.57, 18698.7, 19723.73, 26049.35, 19924.85, 23339.83, 24678.21, 30870.29, 20910.52, 19279.41, 24251.55, 28082.32, 25990.05, 21931.95, 23159.75, 23616.76, 30363.54, 18989.72, 32415.97, 18794.26, 23152.68, 29503.9, 18913.26, 23732.84, 29914.86, 27708.79, 20327.77, 21611.54, 25099.23, 23805.71, 32159.1, 36906.65, 30364.71, 25939.02, 30819.8, 26382.03, 21548.14, 18814.66, 18652.77, 19767.24, 18696.2, 26022.44, 19129.91, 27659.22, 29264.97, 35689.12, 21643.72, 18851.96, 21206.1923, 22059.45, 19797.7, 21429.13, 20876.87, 23629.62, 19544.63, 21101.67, 19986.79, 18619.55, 19618.4, 23804.73, 19357.44, 19718.4, 26556.81, 25604.25, 23034.2, 27119.73, 19146.4, 29275.4, 20382.15, 18897.98, 28087.38, 27281.22, 21021.58, 18654.41, 31559.71, 23735.59, 23348.48, 19233.5, 24752.18, 26066.73, 22725.63, 20908.2673, 20021.07, 32219.7, 24363.07, 18788.83, 19682.88, 22604.69, 19278.48, 21120.39, 20302.46, 27482.46, 27359.5, 20440.74, 20812.58, 25652.68, 22576.3, 19126.17, 26047.57, 28209.97, 26545.25, 19077.0, 19034.95, 19230.15, 24743.67, 21077.2, 21768.18, 26645.24, 18868.77, 28649.4, 29110.75, 18676.4, 23455.42, 32548.17, 21293.7, 30408.9, 19386.25, 18820.1, 19538.04, 22508.36, 25194.61, 21882.19, 21202.95, 23575.66, 31116.61, 23566.78, 25014.44, 19182.41, 19316.08, 23878.67, 20597.5453, 29443.8, 23190.82, 26904.64, 19953.1, 22145.15, 19673.42, 27846.93, 25148.72, 28639.66, 19808.33, 25556.09, 30294.36, 18766.91, 32819.36, 24936.38, 20769.93, 19593.6, 21832.63, 20105.48, 20400.26, 21225.76, 25520.29, 28148.48, 25529.52, 30914.08, 25540.75, 22542.31, 27428.44, 27514.61, 28063.67, 21391.68, 30098.89, 31635.11, 25232.61, 30856.48, 19180.74, 18964.72, 21263.62, 28564.85, 19796.38, 19327.91, 24256.96, 21170.9, 31127.544, 28967.48, 18984.05, 19473.28, 19390.27, 27338.89, 21027.46, 27793.72, 20007.72, 21931.21, 20622.0, 31388.1, 32078.05, 20283.62, 23605.14, 28974.12, 19798.54, 26443.1944, 31472.49, 24071.61, 28934.67, 19836.69, 21985.65, 25985.44, 18633.15, 22492.22, 21399.94, 21097.39, 25947.3, 21062.49, 26677.79, 22093.68, 24971.0, 23092.68, 22969.75, 24490.27, 20542.55, 23876.43, 18596.22, 22703.27, 20714.53, 30406.12, 27710.29, 23806.07, 22452.87, 21743.79, 26347.54, 18768.91, 29527.43, 21192.79, 30471.92, 19911.33, 19126.51, 23575.66, 23849.6, 21336.36, 18680.99, 19429.96, 20075.24, 19532.88, 18717.65, 23847.24, 22240.46, 20476.56, 19048.38, 27691.18, 19387.49, 26231.56, 19865.98, 20363.82, 22765.22, 20681.16, 28079.59, 18713.09, 24966.2, 23829.52, 22098.69, 25544.4268, 19357.44, 25171.62, 19490.36, 24987.22, 20162.96, 24908.38, 25281.11, 19385.23, 25112.24, 20745.35, 18759.2, 25849.21, 18599.22, 18773.09, 25391.21, 18815.04, 20354.78, 33239.95, 18635.42, 18701.48, 18726.34, 19239.0, 23826.13, 22588.67, 21142.68, 20417.06, 24103.44, 27039.37, 18877.81, 19351.23, 19183.74, 19678.8, 25073.19, 20852.23, 19336.46, 25067.12, 25304.3, 29435.02, 35663.02, 28857.7, 26315.41, 29049.91, 25835.81, 20427.25, 27100.04, 19768.24, 28240.27, 19120.09, 29721.31, 21007.53, 21715.89, 27590.111, 26369.46, 32423.97, 29859.55, 20944.05, 19445.45, 26299.47, 33913.49, 18908.75, 19139.84, 25392.47, 18696.39, 21162.96, 27890.13, 18634.95, 21472.3, 26149.8, 22949.49, 31612.62, 26258.08, 25622.32, 19668.47, 19018.36, 18631.27, 40702.39, 25680.51, 18781.7, 21575.27, 20538.83, 19734.59, 28860.3, 22545.04, 28889.88, 21097.39, 19076.36, 21046.72, 26408.04, 27194.44, 23877.62, 19358.28, 27008.91, 20368.78, 19372.25, 21033.43, 20780.17, 23902.67, 25913.57, 22166.08, 24678.66, 21709.34, 26023.56, 30551.55, 22210.2, 20676.21, 19792.49, 19612.18, 30319.83, 21844.82, 18691.93, 26427.43, 19165.26, 20929.86, 30336.66, 25830.22, 18923.76, 20250.48, 20615.65, 24164.18, 20642.8482, 20652.64, 22110.2, 31659.36, 24098.49, 26244.46, 27166.1, 18665.79, 20576.83, 38227.19, 28740.94, 27671.2, 28460.4, 25328.72, 20130.42, 19366.49, 26227.51, 29281.57, 19835.92, 26549.54, 19534.96, 26963.23, 25099.71, 20104.72, 19314.68, 19470.14, 25326.62, 26729.65, 22477.49, 22901.07, 20502.68, 19247.44, 27600.56, 19016.78, 23403.07, 25416.49, 26588.55, 23903.94, 30824.07, 19152.75, 19014.43, 26497.65, 20248.37, 28928.12, 20507.34, 24155.15, 19867.02, 20683.32, 28617.69, 20639.47, 22361.13, 31945.74, 29951.0, 20981.07, 21339.65, 27423.65, 29828.79, 21122.56]\n",
            "outliers in column  LP_CustomerPrincipalPayments  have outlier  [16000.0, 20000.0, 17000.0, 24999.97, 16000.0, 25000.0, 20000.0, 15999.99, 17985.64, 20000.0, 21500.0, 24999.64, 20500.0, 18499.97, 24999.99, 16000.0, 19000.0, 22353.45, 25000.0, 20796.26, 25000.0, 17500.0, 19500.0, 25000.0, 22999.98, 21973.02, 25000.0, 23000.0, 24500.0, 24999.0, 16000.0, 25000.0, 20000.0, 15750.0, 25049.54, 17499.36, 20526.34, 19608.88, 24500.0, 20000.0, 20000.0, 20000.0, 25000.0, 20000.0, 22000.0, 21000.0, 19978.1, 17999.99, 18000.0, 19999.99, 17000.0, 25000.0, 20000.0, 20000.0, 25000.0, 25000.0, 25000.0, 25002.36, 25000.0, 25024.74, 20000.0, 19000.0, 25007.1, 20005.0, 20000.0, 25000.0, 25000.03, 20000.0, 20000.0, 17160.17, 25000.0, 19999.99, 25000.0, 22000.0, 25000.04, 18000.0, 24000.02, 24999.96, 20000.0, 19000.0, 25000.0, 17080.92, 18999.99, 25000.0, 25000.0, 17000.0, 16999.99, 20000.0, 25000.02, 25000.02, 18515.27, 24999.01, 25000.0, 24500.0, 15500.0, 20000.0, 25000.0, 20000.0, 16999.97, 20409.72, 18040.25, 20000.0, 25000.01, 17999.98, 18479.34, 25000.0, 15931.71, 24999.99, 16500.0, 18424.45, 25000.0, 25009.67, 20000.0, 20000.0, 23000.0, 24000.02, 25000.0, 18500.0, 17000.0, 22002.68, 25000.0, 21999.98, 24400.0, 18000.0, 20000.0, 24000.0, 20000.0, 25000.0, 20000.0, 25000.0, 25000.0, 23999.98, 25000.0, 20000.0, 25000.0, 25000.0, 24999.99, 25000.0, 20000.0, 25000.0, 20000.0, 18000.0, 17500.0, 16500.0, 20000.0, 20000.0, 25000.0, 17160.17, 25000.0, 25000.0, 17500.01, 20000.04, 25000.0, 20000.0, 25000.0, 16000.0, 25000.0, 20000.0, 15700.0, 25000.02, 17999.99, 16000.0, 25000.0, 20000.01, 25000.0, 24999.98, 18000.0, 24999.99, 24999.99, 25000.01, 15550.0, 24000.0, 17198.05, 34000.0, 25000.0, 15500.0, 18950.0, 25055.51, 21999.98, 15500.0, 23000.04, 20000.01, 24000.01, 25000.0, 25000.0, 24000.0, 16999.97, 25000.0, 20000.01, 25000.0, 16000.0, 15358.31, 24000.01, 16000.0, 17000.0, 20000.0, 19328.46, 24900.0, 20000.0, 22500.0, 20000.0, 25000.0, 20000.0, 25000.0, 19000.0, 24170.76, 24000.0, 19292.02, 17000.0, 17850.0, 22500.0, 20500.0, 18500.0, 25000.0, 25000.0, 19000.0, 20000.03, 24500.0, 22000.0, 22500.0, 24999.99, 20000.0, 19000.0, 18000.0, 21999.99, 19000.0, 15700.0, 24000.0, 15472.93, 20000.0, 23999.96, 17000.0, 25000.02, 20000.0, 25000.01, 20000.0, 17500.0, 23500.0, 25000.0, 20000.0, 25000.0, 20000.0, 18000.02, 18000.0, 25000.0, 16599.99, 15600.0, 25000.0, 17000.0, 16300.0, 22999.95, 22000.0, 18282.1, 15379.73, 23000.0, 25000.02, 19999.16, 25000.02, 20000.0, 17000.0, 25000.0, 25000.0, 19999.99, 25000.0, 25000.0, 16800.0, 35000.0, 25000.0, 20000.0, 21500.0, 16250.0, 16500.0, 25000.0, 25000.0, 20000.0, 17000.0, 25000.0, 25000.0, 25000.0, 22500.0, 20000.01, 15541.27, 22999.98, 22009.03, 19999.87, 18000.0, 20000.0, 20000.0, 25000.01, 20000.0, 25000.0, 19500.0, 20000.0, 25000.0, 25000.0, 25000.0, 16000.0, 25000.0, 17500.0, 18071.13, 20000.0, 25000.0, 25000.0, 25000.0, 25000.01, 19000.0, 19999.98, 25000.0, 20000.0, 18690.41, 25000.0, 15594.87, 21000.0, 24999.99, 25000.0, 25000.0, 20000.0, 25000.0, 15500.0, 16999.99, 15447.12, 15552.63, 25004.0, 18000.0, 16000.0, 16737.85, 25000.0, 20000.0, 25091.14, 16071.77, 25000.0, 25000.0, 24999.0, 20000.01, 23316.38, 24999.99, 20000.0, 20000.0, 18000.0, 22500.0, 20000.0, 15999.97, 16999.99, 20000.0, 17500.0, 20000.0, 25000.0, 20000.0, 25000.0, 16000.0, 16500.0, 18227.76, 20000.0, 25000.0, 18000.0, 25000.0, 20000.0, 25999.97, 20000.0, 18243.88, 25000.0, 25000.0, 15736.0, 25000.0, 19727.33, 18000.0, 17000.0, 25000.0, 15464.03, 25000.0, 20500.0, 20000.0, 24999.99, 17300.0, 25000.0, 16000.0, 24999.97, 23750.0, 24999.96, 18000.0, 16000.0, 25000.0, 19999.0, 24500.0, 16000.0, 17030.56, 25013.38, 15563.66, 24250.0, 20053.45, 19984.14, 20000.0, 20875.1, 25000.01, 17000.0, 25000.0, 25000.02, 25000.0, 16500.0, 24999.97, 25000.01, 25000.0, 16500.0, 24569.51, 25000.01, 22000.0, 20000.0, 20999.99, 18314.06, 19000.0, 20000.0, 24999.99, 25000.0, 23009.31, 25000.0, 19000.0, 25000.0, 25000.0, 25000.0, 24000.0, 24500.0, 24999.96, 20000.0, 24596.37, 17000.0, 25000.0, 16486.05, 20000.0, 20450.41, 25000.0, 19000.01, 19475.09, 20000.0, 25000.0, 19250.0, 20000.02, 17900.0, 18001.0, 18000.0, 20000.0, 25000.01, 25000.0, 19000.0, 25000.0, 23139.83, 20000.0, 18501.61, 18000.0, 15599.94, 25000.0, 20000.0, 25000.0, 19999.99, 25000.0, 25000.0, 20000.0, 20000.0, 16836.86, 20000.0, 18000.0, 20000.0, 25000.0, 20000.0, 16999.97, 25000.0, 25000.0, 24999.99, 16440.16, 18515.27, 21289.84, 16500.0, 16999.98, 16000.0, 25000.01, 25000.0, 15432.18, 20000.0, 20000.0, 25000.03, 25000.0, 16550.5, 19999.99, 17350.82, 20000.0, 24000.0, 20000.0, 24999.98, 18000.01, 19000.02, 20864.56, 18000.0, 25000.01, 25000.08, 25000.0, 25000.0, 19000.0, 15487.19, 17000.0, 25000.0, 17739.46, 16000.0, 25000.0, 15500.0, 20027.41, 25000.0, 25000.0, 25000.0, 20869.82, 22999.93, 15334.24, 19475.0, 18000.0, 17999.99, 21770.88, 17846.8, 24718.66, 19999.99, 25000.0, 25000.0, 21000.0, 24995.0, 17252.64, 23499.99, 17500.0, 23000.0, 19999.98, 16795.9, 25000.0, 22000.0, 20000.0, 20000.0, 25000.0, 17500.0, 24000.0, 25000.0, 20000.0, 15500.0, 24999.99, 25000.0, 24500.0, 20000.02, 17000.0, 25000.0, 25837.66, 25000.0, 21999.99, 16500.0, 19999.99, 15824.99, 20250.0, 18247.05, 22500.0, 18000.0, 20000.0, 23614.27, 20000.0, 16000.0, 23000.0, 16000.0, 25000.0, 15571.75, 25000.0, 25000.0, 15999.99, 24999.99, 25000.0, 24000.03, 22000.0, 22000.0, 15542.48, 25000.02, 25000.0, 23000.0, 25000.0, 25000.0, 20000.0, 15835.02, 25000.0, 20000.0, 18000.0, 18446.44, 25000.0, 24999.99, 25000.0, 18350.03, 20000.0, 20000.0, 15999.99, 17000.0, 18600.92, 25000.0, 20000.0, 25000.0, 25000.0, 17725.0, 24000.0, 25000.0, 20000.0, 25000.0, 23999.97, 18999.75, 18000.0, 25000.0, 15999.99, 16646.0, 20000.0, 25000.0, 25000.0, 25007.36, 16000.0, 18000.0, 17000.0, 22500.0, 24000.01, 20000.0, 19000.0, 20000.01, 25000.0, 16566.74, 20266.49, 25000.0, 17000.0, 24999.99, 25000.0, 16000.0, 18000.0, 16500.0, 17208.0, 25000.0, 18229.16, 19999.99, 20000.01, 17000.0, 16889.94, 25000.0, 17500.0, 25000.0, 22500.0, 24939.21, 18650.68, 24999.99, 19999.98, 22750.0, 24999.99, 19500.0, 19982.23, 16000.0, 19999.99, 16500.0, 20000.0, 22000.0, 20000.02, 25000.0, 20000.01, 17000.0, 18001.88, 18166.2, 18873.29, 19000.0, 16000.0, 17577.92, 17739.46, 25000.0, 25000.0, 25000.01, 24000.0, 25000.0, 22999.72, 18800.0, 17797.99, 18000.0, 18056.31, 19999.99, 22500.0, 25000.01, 20014.98, 20000.02, 18000.0, 24500.01, 17500.0, 25000.0, 20000.0, 25041.56, 15699.99, 24000.0, 16999.99, 20000.0, 25000.0, 25000.0, 25000.0, 24000.0, 25000.0, 23000.0, 25000.0, 22000.01, 25000.0, 20000.02, 19999.44, 19000.01, 25000.0, 21548.07, 25000.0, 24999.99, 20000.0, 18749.99, 25000.0, 25000.0, 16500.0, 25000.01, 25000.0, 19999.99, 25000.0, 20000.0, 19981.61, 21500.0, 24999.99, 19013.88, 17499.99, 25000.0, 16000.0, 25000.0, 20000.0, 18999.99, 21000.0, 17500.0, 17500.0, 25000.02, 18542.19, 25000.0, 25000.0, 16500.0, 18000.0, 15994.15, 16500.0, 25000.0, 25000.0, 20000.0, 17622.95, 19413.72, 23999.99, 15999.79, 18000.0, 25000.0, 35000.0, 20000.0, 24999.99, 20000.0, 25000.0, 24500.0, 25000.0, 25000.01, 20000.02, 17500.0, 25000.0, 25000.0, 15500.0, 20999.99, 25000.0, 16000.0, 25000.0, 25000.0, 25000.0, 20999.98, 16500.0, 22000.0, 16499.99, 18000.0, 18000.01, 17997.89, 20000.0, 25000.0, 18000.0, 16020.88, 18000.0, 25000.0, 18410.46, 19734.98, 20000.0, 20000.0, 18500.0, 19999.99, 24999.99, 25000.0, 17499.99, 20000.0, 25000.0, 25000.0, 24999.27, 25000.0, 20886.19, 20000.02, 22000.01, 20000.0, 20000.0, 17500.0, 20000.02, 20000.0, 35000.0, 20500.0, 24999.99, 25000.02, 17000.0, 16500.0, 20000.0, 15582.81, 20500.0, 20000.0, 17129.18, 20000.0, 20000.0, 20999.99, 24999.98, 25000.0, 15749.99, 25000.0, 25000.0, 25000.0, 16106.35, 21999.99, 16400.0, 19147.39, 18500.0, 16000.0, 17188.18, 25000.0, 17500.0, 25000.0, 18110.75, 24500.0, 18000.0, 24999.99, 21999.99, 17041.03, 19500.0, 30000.0, 20000.0, 20000.0, 25000.0, 17000.0, 17806.96, 20000.0, 25000.0, 25000.0, 24000.02, 20999.99, 23800.0, 22000.0, 20000.0, 25000.0, 19000.0, 21355.23, 20000.0, 25000.0, 20000.0, 20000.0, 17000.0, 25000.0, 25000.0, 24500.0, 18000.0, 21999.98, 35000.0, 25014.99, 20000.0, 25000.0, 24999.99, 16999.99, 20000.0, 25000.0, 25000.0, 19000.0, 15500.01, 25000.0, 16000.0, 19999.99, 20999.99, 16999.99, 24999.99, 24999.99, 17800.0, 20000.0, 34000.0, 20000.0, 16999.98, 16400.0, 24999.98, 24000.0, 19500.0, 20000.0, 20293.6, 20999.99, 25000.0, 20000.0, 25000.0, 16559.62, 17200.01, 17000.0, 23500.0, 15386.71, 15602.15, 20000.0, 15500.0, 20000.0, 25000.0, 17933.7, 25000.0, 17500.0, 20790.0, 25000.0, 18000.0, 25000.0, 20000.0, 20000.0, 22500.0, 18500.0, 18000.0, 16790.99, 21076.95, 25000.0, 21000.0, 18000.0, 16000.0, 18186.27, 20000.0, 24310.3, 17979.52, 25000.0, 25000.0, 18000.0, 23555.19, 25000.0, 20318.29, 25000.0, 25000.0, 25000.0, 20000.0, 15824.99, 24232.85, 16836.86, 25000.0, 25000.01, 25000.0, 18000.0, 25000.01, 25000.0, 22000.0, 17000.0, 24999.98, 15937.42, 17000.0, 20000.01, 15774.31, 25000.0, 20000.0, 17000.0, 25000.0, 25000.0, 20066.35, 23999.96, 19500.01, 25000.0, 22000.0, 17018.76, 22500.0, 25000.0, 25000.0, 25000.0, 18500.0, 17999.99, 21000.0, 15921.68, 19000.0, 25000.0, 16209.21, 25000.0, 24999.75, 18000.02, 20000.0, 20000.0, 20000.0, 17499.98, 25000.0, 19000.0, 16506.25, 19999.99, 17777.4, 19500.0, 17000.0, 25000.0, 25000.0, 25021.51, 16750.0, 25000.0, 19000.0, 17500.0, 24000.01, 24999.98, 24999.99, 22500.0, 25000.0, 17000.0, 17035.31, 15591.76, 25000.0, 25000.0, 23236.75, 28000.0, 25000.0, 25000.0, 20000.0, 25000.01, 20000.0, 20000.0, 20000.0, 18000.01, 25000.0, 22134.44, 20000.0, 18500.0, 22000.0, 19500.0, 20000.0, 24999.54, 20000.0, 20000.0, 16300.0, 15500.0, 20000.0, 25000.0, 24000.0, 17000.0, 25000.0, 25000.0, 25000.0, 19500.0, 25000.0, 18000.0, 21000.0, 17999.99, 20000.0, 25000.0, 24000.0, 17500.0, 16281.34, 25000.0, 19999.99, 25000.0, 22837.6, 20000.0, 20000.0, 25000.0, 17064.22, 22000.0, 15500.0, 16000.0, 20000.0, 25000.0, 25000.0, 19000.0, 20000.0, 22000.0, 25000.05, 25000.0, 22365.2, 18000.0, 25000.0, 20000.0, 20000.01, 25000.0, 25000.0, 17000.0, 25000.0, 22999.99, 20000.0, 25000.0, 22500.0, 25000.0, 21999.99, 20000.0, 25000.0, 17679.73, 25000.0, 20000.01, 25000.0, 16526.1, 16499.99, 20000.03, 19000.0, 24500.0, 16000.0, 15903.89, 16000.0, 15600.0, 15999.99, 15500.0, 20000.0, 25000.0, 18500.0, 20000.0, 25000.0, 20000.0, 20564.44, 17000.0, 25000.0, 21000.0, 21000.0, 16962.24, 20000.0, 20000.0, 30000.0, 25000.0, 17500.0, 21000.0, 20000.0, 21000.01, 17307.07, 24999.96, 25000.0, 24999.98, 25000.0, 20000.01, 17500.0, 19999.99, 15787.15, 17000.0, 21250.0, 16000.0, 20000.0, 25000.0, 19994.38, 27500.0, 20000.0, 20000.03, 25000.0, 15999.99, 25000.02, 25000.01, 20000.0, 16000.0, 21034.9, 24500.0, 22500.0, 17842.18, 22000.0, 18500.0, 15507.8, 24999.05, 19500.0, 20000.02, 18000.0, 25000.0, 23961.43, 25000.0, 25000.0, 17360.23, 20000.0, 19999.42, 17500.0, 25000.0, 16142.86, 18974.81, 23999.99, 20000.0, 16000.0, 24900.0, 20000.0, 25000.0, 25000.0, 15639.97, 18000.0, 20000.0, 19999.99, 16999.99, 20500.0, 20312.87, 18000.0, 17944.0, 16000.0, 25000.0, 24999.75, 25000.0, 25000.0, 25000.0, 20000.0, 18000.0, 25000.0, 20000.0, 20000.0, 22676.63, 18000.02, 24999.63, 20000.0, 25000.0, 21999.99, 17500.0, 18500.0, 25000.0, 19999.39, 17000.0, 20000.0, 19999.99, 20000.0, 19999.78, 20000.0, 24999.31, 25000.0, 20638.71, 25000.0, 20000.0, 20000.0, 22500.0, 24999.97, 25000.0, 25000.0, 25000.0, 19282.38, 25000.0, 24999.99, 20000.0, 24999.98, 20000.0, 20000.0, 25000.0, 16000.0, 23000.0, 20000.0, 23000.0, 25000.0, 21000.0, 24999.99, 25000.0, 17499.99, 16499.97, 25000.0, 20200.0, 16000.0, 19000.0, 25000.0, 18999.99, 20500.0, 16000.01, 20000.0, 17500.0, 22334.2, 17500.01, 17500.01, 25000.0, 16900.0, 20000.0, 24000.0, 24999.95, 23600.0, 20000.0, 16000.0, 20000.0, 25000.0, 15499.99, 20000.0, 20000.0, 15999.93, 25000.0, 25000.0, 24000.0, 25000.0, 19900.0, 25000.0, 25000.01, 23500.0, 20000.0, 19000.0, 25000.0, 17978.0, 16514.98, 24000.0, 25000.0, 25000.0, 18000.0, 25000.0, 17448.42, 24999.99, 19484.84, 23500.0, 15807.48, 18500.0, 25000.0, 24999.99, 20000.0, 16019.55, 20000.0, 18134.91, 20002.02, 17500.0, 20000.0, 23000.0, 25000.0, 17499.99, 24074.34, 20000.0, 22000.0, 24999.98, 16999.1, 20000.01, 16809.51, 25000.0, 25016.25, 19000.01, 24680.0, 25000.0, 20000.0, 25000.0, 21017.51, 18361.82, 15999.99, 17000.01, 17000.0, 15500.0, 25000.0, 25000.0, 15500.0, 20098.11, 20000.0, 19000.0, 15510.0, 21999.99, 25000.0, 17999.99, 24000.0, 17999.98, 20000.0, 24500.0, 17000.0, 16999.99, 25000.0, 17166.48, 16000.0, 25000.0, 25000.0, 23505.02, 19999.98, 25000.0, 25000.0, 21768.89, 20000.0, 25000.0, 25000.01, 23700.0, 25000.01, 16000.0, 23999.98, 25000.0, 24834.66, 27336.69, 18000.0, 17500.0, 18271.48, 24999.09, 17500.02, 16800.0, 16200.0, 17500.0, 20000.01, 15500.0, 20000.0, 20000.0, 17585.82, 23000.0, 20000.0, 24500.0, 20003.47, 25000.0, 25000.0, 16040.96, 19999.99, 25000.0, 22900.0, 25000.0, 25000.0, 22000.0, 17124.32, 25000.0, 25000.0, 16000.0, 19500.0, 24000.0, 25000.0, 20500.0, 17000.01, 25000.01, 25000.0, 24999.99, 24999.99, 16000.0, 17268.65, 25000.0, 25000.0, 19593.66, 21000.0, 17000.0, 25000.02, 24000.0, 20000.0, 23999.98, 35000.0, 20000.0, 24999.99, 17000.0, 25000.0, 20200.0, 24000.02, 18872.46, 20000.0, 25000.0, 20000.0, 23675.43, 18500.0, 20000.0, 16000.0, 25000.0, 20000.0, 19500.0, 25000.0, 22000.0, 20000.0, 25000.0, 25018.72, 17999.98, 20000.0, 18944.67, 19044.57, 23500.0, 25000.0, 20000.0, 21404.07, 23000.0, 17500.0, 16000.0, 25000.0, 23666.68, 24999.99, 20000.0, 25000.0, 25000.0, 20000.0, 20000.0, 19999.99, 35000.0, 25000.0, 21000.0, 25000.0, 25000.0, 24999.98, 18500.03, 30000.0, 25000.0, 16000.0, 25000.0, 25692.84, 15500.0, 23999.99, 19700.01, 20000.0, 19900.0, 25000.0, 25000.0, 19015.29, 25000.0, 17000.0, 17000.0, 25000.01, 22673.46, 17000.0, 19000.0, 24953.56, 25000.0, 25000.01, 22000.0, 18000.0, 20000.0, 15999.99, 25000.0, 18000.0, 22222.0, 25000.0, 30000.0, 24000.03, 21000.0, 20000.0, 20000.0, 25000.0, 16500.0, 25000.0, 16000.0, 16665.99, 18560.34, 17000.0, 17500.0, 25000.0, 25000.0, 22500.01, 20999.99, 17777.0, 24499.74, 19000.0, 20000.0, 20000.0, 25000.0, 16121.59, 19750.0, 15457.83, 24999.99, 18646.25, 17000.04, 25000.0, 25000.0, 25000.0, 17058.54, 20000.0, 22500.0, 25000.0, 20000.01, 25000.0, 20000.0, 19000.0, 24000.0, 24999.98, 20000.0, 20000.0, 25000.0, 25000.02, 17000.0, 20000.0, 17000.0, 22999.96, 24999.98, 25000.0, 24000.0, 17499.99, 25000.0, 16500.0, 18000.0, 20000.0, 17000.0, 16561.24, 16000.01, 25000.0, 15980.64, 25000.0, 25000.0, 25000.0, 22015.0, 17678.59, 25000.0, 25084.66, 25000.0, 17400.0, 19485.78, 23500.0, 20000.0, 25000.0, 20046.53, 19646.83, 20000.0, 20000.0, 25000.0, 24999.99, 20000.0, 19500.0, 15754.09, 20000.0, 16000.0, 19000.0, 18000.0, 18000.0, 22000.0, 24000.0, 24999.9, 25000.0, 16571.06, 20000.0, 19271.36, 19999.25, 20000.0, 22400.0, 20668.93, 19999.99, 20500.0, 25000.0, 19999.99, 24000.0, 15500.0, 17127.0, 25000.0, 17437.2, 25000.0, 16500.0, 20000.0, 17280.17, 17000.01, 25003.98, 20000.0, 15775.62, 20000.0, 25000.0, 20000.0, 16000.0, 17000.01, 25000.0, 24000.0, 25000.0, 16999.97, 20000.0, 22499.99, 23000.0, 15500.0, 20029.38, 19334.6, 25000.0, 20800.0, 20000.0, 25000.0, 21000.0, 15500.0, 25000.0, 17000.0, 20000.0, 23500.0, 20000.01, 16000.0, 25000.0, 24999.99, 20000.0, 20000.0, 16000.0, 22000.0, 16072.99, 24999.99, 20200.0, 18848.74, 25000.0, 25000.0, 17318.57, 25000.02, 15500.0, 24999.99, 25000.0, 17773.33, 16500.01, 25000.0, 20000.02, 19998.98, 23635.0, 16000.0, 20000.0, 24000.01, 23000.0, 20000.0, 20000.0, 22000.0, 24999.99, 25000.0, 18000.0, 25000.0, 20000.0, 24999.98, 15851.9, 25000.0, 20000.0, 25000.0, 19999.98, 25000.0, 35000.0, 25000.0, 24000.0, 25000.0, 25000.0, 21000.0, 18000.0, 15454.0, 17999.98, 18000.0, 20000.0, 16000.0, 23500.02, 25000.0, 25000.0, 18499.98, 18000.0, 19999.99, 19200.0, 16799.98, 21000.0, 16000.01, 20000.0, 17502.09, 15824.99, 20000.02, 24000.0, 15339.24, 16720.96, 25000.01, 25000.0, 20000.0, 24900.0, 25000.0, 21000.0, 24999.99, 20000.0, 19999.95, 18999.99, 20000.02, 20000.0, 16061.11, 19639.24, 25000.0, 21000.0, 15900.03, 20000.0, 15999.99, 15399.92, 18500.0, 19999.99, 25000.0, 25000.0, 18000.0, 25000.0, 20000.0, 24165.44, 25000.0, 25000.0, 16277.71, 15500.0, 19292.02, 20000.0, 17300.75, 25000.0, 15805.53, 25000.0, 24999.03, 18000.01, 25000.02, 17999.99, 25010.75, 20000.0, 18999.99, 20000.0, 20000.01, 25000.0, 20000.0, 22000.0, 16500.0, 16000.0, 20000.0, 20000.0, 25000.0, 16000.0, 21000.0, 25000.0, 19500.0, 25000.0, 24999.99, 25000.0, 25000.0, 25000.0, 24999.2, 23500.0, 17000.0, 18000.01, 20000.0, 25000.0, 25087.74, 25000.0, 25000.0, 18774.11, 19999.97, 24999.83, 24457.03, 23999.97, 24999.99, 25000.0, 25000.0, 25000.0, 15500.0, 20000.0, 24499.99, 15500.0, 16000.01, 15500.0, 19378.31, 17556.2, 30000.0, 25000.0, 15500.0, 16500.0, 18000.0, 25000.0, 20000.0, 25000.0, 20000.0, 16423.23, 25000.0, 25000.0, 17000.0, 23500.0, 24999.0, 18000.0, 24999.99, 25000.0, 22500.0, 25000.0, 20000.0, 20000.0, 17500.0, 19999.99, 15500.0, 18747.7, 25000.0, 15750.0, 16014.61, 25000.0, 19500.0, 20000.0, 18999.99, 22500.0, 19900.0, 20000.0, 20000.0, 18000.0, 18000.0, 24877.07, 24798.56, 17999.99, 19999.84, 18000.02, 24999.99, 23851.09, 17499.97, 25000.0, 15999.98, 20000.01, 15500.0, 18603.64, 16000.0, 20000.01, 20000.0, 16955.91, 24999.99, 15499.99, 25000.0, 17732.8, 20000.0, 18500.02, 25000.0, 16000.0, 17999.98, 22000.0, 17946.0, 25000.0, 15827.92, 23000.0, 23000.0, 18000.53, 18000.0, 16499.98, 20999.98, 21300.0, 25000.0, 16391.0, 20000.0, 25000.0, 15505.12, 16100.0, 21000.0, 20000.0, 24000.0, 20000.0, 20031.95, 20000.0, 25000.0, 19438.58, 25000.05, 25023.14, 24000.0, 20000.01, 25000.02, 25000.0, 16011.36, 25000.0, 18799.99, 25000.0, 25000.0, 25000.0, 25000.0, 25000.0, 25000.0, 17000.0, 16750.0, 25000.0, 22000.04, 16000.0, 25000.0, 15516.32, 17999.95, 25000.0, 16000.0, 18500.01, 23000.0, 30831.07, 15500.0, 25000.0, 21002.66, 17000.0, 18000.0, 25085.36, 15500.0, 25000.0, 18000.0, 15877.44, 18600.0, 19000.0, 24000.0, 20000.0, 25000.0, 25000.0, 17000.0, 23999.96, 20000.0, 24999.99, 20000.0, 17000.0, 20000.0, 15900.0, 18500.03, 17000.0, 17999.98, 25000.0, 16250.0, 24999.97, 19019.74, 18500.0, 16000.01, 25000.0, 20000.0, 25000.0, 18500.0, 24999.0, 22000.0, 19999.99, 17500.0, 18871.88, 25000.05, 18000.01, 25000.0, 16705.03, 18000.0, 25000.0, 19900.0, 25000.0, 19569.16, 25000.0, 25000.0, 25000.0, 15499.99, 25000.0, 25000.0, 20000.0, 20000.0, 16600.0, 25000.0, 19999.99, 19999.0, 19999.86, 17417.24, 25000.0, 20000.0, 22582.57, 15400.0, 25000.0, 19999.99, 25000.0, 16840.46, 17649.3, 25000.0, 25000.0, 22499.99, 17000.0, 19995.0, 25000.0, 20000.0, 16000.0, 20000.0, 25000.0, 25000.0, 15999.99, 20000.0, 20000.0, 25000.0, 25000.0]\n",
            "outliers in column  LP_InterestandFees  have outlier  [5327.53, 8756.72, 6294.51, 4697.02, 4650.86, 7034.31, 4961.28, 6606.19, 6627.44, 6554.24, 4753.97, 4736.09, 5400.17, 7839.95, 4702.98, 6403.74, 7472.28, 4983.26, 5980.08, 5448.21, 4940.48, 7043.69, 5777.86, 7080.49, 6421.2, 6060.82, 5398.13, 9220.94, 6794.66, 4751.86, 6144.63, 5188.1, 6477.89, 5071.92, 6584.57, 8862.19, 7345.83, 8152.22, 4658.56, 5142.99, 6073.81, 6190.77, 10249.47, 5794.74, 4804.68, 8347.89, 6172.24, 4679.0, 5184.8, 6138.03, 4808.39, 5935.42, 5919.52, 5162.98, 6924.81, 5839.87, 6176.68, 5524.86, 4947.1, 6244.53, 5275.37, 6170.39, 4735.98, 7473.04, 6788.89, 5159.39, 5441.73, 5448.97, 6762.51, 4690.0, 7153.58, 7982.64, 5103.05, 4661.79, 7277.43, 4804.68, 4807.06, 4808.65, 7187.23, 4683.29, 7676.32, 5986.27, 5421.27, 4763.85, 6009.7, 5700.52, 5168.75, 6871.79, 4643.45, 5098.8, 4915.23, 5554.83, 5188.89, 5257.87, 5082.44, 7078.22, 4654.34, 6028.33, 5767.65, 5322.23, 13013.08, 5422.08, 7962.91, 4903.69, 4676.4, 5182.03, 5265.95, 5273.84, 5616.28, 4711.77, 5127.39, 7310.58, 4697.02, 7803.07, 6119.33, 5858.75, 5153.14, 5375.17, 6402.28, 5856.93, 5250.07, 4693.53, 5261.45, 6110.15, 5455.5, 4716.41, 4679.46, 12242.01, 7891.77, 4981.13, 5940.33, 5438.29, 7680.32, 5019.72, 5395.8, 5968.96, 5937.65, 6154.68, 5880.07, 7079.78, 5420.81, 5125.14, 6552.1, 5310.69, 9286.51, 5841.19, 4728.31, 5019.42, 5398.41, 4630.97, 4885.48, 4945.21, 4788.81, 4654.34, 5852.07, 6163.48, 5494.86, 5008.46, 5242.33, 6112.94, 5018.69, 6036.77, 5276.57, 4745.04, 4852.73, 4760.85, 6622.39, 5581.56, 5997.59, 6124.65, 7705.81, 6214.26, 4697.02, 4670.02, 6076.14, 5333.87, 5432.16, 6150.67, 4656.37, 6703.95, 6065.99, 4871.9, 6149.57, 5756.71, 4654.34, 6627.16, 5176.52, 4675.68, 5188.89, 5079.07, 5126.76, 6078.39, 5097.85, 5439.9, 4804.68, 5857.89, 4835.43, 7153.99, 5208.7, 5841.2, 8670.9, 4761.87, 5557.53, 6656.52, 6741.06, 4638.54, 4695.57, 5021.65, 4689.36, 4827.61, 6175.21, 5252.34, 8588.67, 8760.97, 6419.93, 7093.06, 4671.69, 9193.51, 5070.39, 4970.58, 4793.5, 4736.2, 4653.08, 5421.27, 7819.78, 5523.94, 6837.62, 5307.16, 5392.66, 6433.06, 7987.62, 4643.41, 7414.46, 8334.12, 5355.87, 6494.06, 5782.77, 7671.02, 6920.78, 9781.86, 6266.67, 4762.5, 7179.95, 5101.83, 7162.75, 5117.09, 5610.55, 6003.05, 4788.8, 4903.65, 5677.65, 9110.48, 4835.64, 5016.66, 7832.44, 5083.33, 6343.94, 5451.65, 5377.05, 4668.7, 5884.17, 5572.97, 5599.55, 7037.27, 4645.03, 4733.77, 7909.43, 5053.57, 4905.33, 5294.73, 5895.94, 4895.91, 4841.42, 4927.57, 6073.77, 8115.92, 5226.62, 5957.28, 6474.61, 5567.01, 5142.99, 5231.2, 5267.4, 13206.08, 6779.76, 5757.32, 5236.92, 4709.74, 4776.63, 5529.16, 5957.28, 7303.38, 7313.21, 7459.06, 5048.37, 7229.45, 4844.71, 5478.19, 5309.26, 5840.32, 6764.99, 6268.83, 5429.47, 7334.43, 6001.68, 8870.81, 4723.87, 5081.62, 5546.32, 7169.09, 8450.33, 5540.98, 5785.25, 5479.07, 4982.65, 6367.85, 4637.83, 6030.0, 10875.93, 5524.87, 4828.48, 4886.86, 4635.07, 4715.63, 6301.49, 6922.0, 6343.94, 4898.43, 5832.59, 5421.27, 4856.74, 5293.65, 6196.69, 6788.89, 4804.68, 4979.01, 4685.12, 5337.98, 5864.36, 6194.85, 4885.66, 4865.31, 5819.58, 5242.59, 4911.63, 8320.22, 5594.49, 5953.62, 4862.92, 5097.85, 5297.13, 6228.96, 5160.49, 5014.69, 6745.58, 5166.51, 4777.49, 5333.93, 4642.75, 6187.12, 5072.54, 5738.5, 6791.25, 4657.39, 5322.13, 6864.07, 6550.92, 5112.75, 6035.82, 5112.71, 5086.48, 5708.76, 4679.31, 4716.81, 9216.32, 4899.3, 5990.92, 5569.12, 5099.5, 5384.68, 7257.26, 6017.1, 4874.3, 4817.99, 5546.42, 4687.09, 5576.33, 6284.82, 5160.14, 6048.73, 5182.33, 5022.71, 4634.03, 5504.48, 4664.2, 4899.74, 5546.32, 4681.55, 4911.63, 5025.87, 5782.77, 6609.64, 4780.46, 5027.03, 5526.19, 5547.88, 4683.98, 4798.04, 5196.97, 5332.68, 4670.51, 6845.94, 4697.02, 5242.33, 6042.78, 6095.57, 4778.15, 4804.68, 5243.73, 5616.28, 5967.09, 6758.58, 5117.82, 5178.66, 5443.86, 6349.96, 5264.76, 5912.04, 5623.14, 4749.32, 5098.2, 4690.97, 4801.94, 6099.3, 4725.1, 5282.56, 5213.88, 7604.56, 9077.4, 5295.46, 4948.42, 5248.2, 6552.1, 6831.7, 6142.81, 9322.81, 5975.64, 4691.93, 4716.68, 5107.36, 5223.77, 11264.13, 6762.03, 6591.22, 7178.53, 4909.8, 10376.74, 6136.93, 5338.06, 4717.28, 6330.89, 7555.18, 4739.66, 4638.88, 5970.99, 5524.27, 6467.43, 6776.87, 5043.15, 5738.34, 5275.48, 5803.96, 6345.67, 6138.03, 6331.72, 6788.89, 7973.15, 4721.86, 8465.24, 7663.48, 6524.39, 4775.3, 9363.93, 14329.49, 5498.09, 5664.66, 5650.65, 5715.01, 5338.6, 6918.09, 9425.43, 5562.39, 5499.48, 6531.43, 5649.11, 5019.42, 7226.69, 6552.1, 7298.53, 5711.56, 4987.58, 9117.43, 4942.57, 5421.03, 5225.93, 9351.28, 4805.82, 5680.98, 7990.38, 5498.09, 4739.5, 6552.1, 4654.34, 6304.45, 4655.16, 6366.68, 5227.5, 5958.84, 5388.83, 5007.35, 7701.39, 5777.86, 6772.76, 5484.23, 10148.59, 5357.18, 5772.68, 6724.93, 5835.58, 5592.57, 4943.21, 4697.02, 5050.53, 5738.34, 5210.23, 6073.5, 5775.74, 9103.71, 8851.22, 5448.97, 4992.65, 5375.17, 6343.94, 4804.68, 4915.99, 5269.88, 5024.08, 5770.45, 5336.32, 5117.7, 8471.93, 5026.58, 4655.4, 11130.3, 4901.59, 6788.89, 6211.58, 5149.9, 6056.04, 5171.59, 4637.92, 6412.91, 5344.03, 6552.1, 6213.37, 5824.71, 5763.51, 4655.4, 4657.88, 6301.35, 4987.82, 10572.78, 5297.75, 4724.21, 6772.76, 4997.3, 6927.33, 8453.75, 5222.69, 5370.89, 4690.0, 4849.69, 5700.52, 4657.29, 4801.94, 4971.88, 4949.41, 4970.55, 5229.95, 6764.97, 5095.88, 4747.34, 5012.79, 6444.67, 4958.19, 6099.3, 5612.42, 5718.18, 4790.89, 4764.73, 6008.67, 5636.21, 5323.25, 7243.34, 5616.28, 6438.23, 4905.33, 6302.18, 4856.58, 5943.8, 5063.89, 6781.76, 5397.87, 5555.24, 4798.99, 8737.33, 5644.27, 4770.65, 5760.66, 5977.59, 5637.37, 5745.22, 4655.4, 6518.4, 5327.5, 6043.87, 5492.42, 10206.98, 6880.51, 4683.77, 5865.12, 5969.56, 4691.36, 5677.65, 5842.05, 4654.34, 9023.59, 5065.84, 4804.94, 5242.33, 5919.52, 5296.75, 6170.76, 5717.68, 7960.27, 5446.8, 5869.74, 4771.73, 5671.87, 4816.56, 4768.62, 4979.89, 4716.36, 5788.79, 5949.04, 5075.73, 4722.49, 5934.83, 6190.85, 5083.4, 5392.6, 4836.64, 5438.29, 4662.52, 10793.28, 6958.14, 4898.4, 6091.23, 5906.27, 6386.08, 5251.39, 5478.18, 6076.62, 5296.75, 5554.83, 4674.52, 4954.35, 4870.41, 9574.27, 6980.58, 6669.4, 5873.18, 5994.56, 4804.52, 6636.08, 6433.06, 5099.62, 5667.87, 7434.06, 6158.47, 5451.56, 4855.61, 5459.75, 5568.55, 6532.26, 8340.69, 7080.34, 4630.77, 4745.72, 6857.14, 6384.19, 4655.4, 4718.55, 4706.66, 4890.37, 6021.27, 4701.59, 5336.94, 6007.54, 5551.48, 5487.71, 5467.65, 4654.34, 5181.46, 5302.25, 14007.76, 5392.53, 5120.21, 6890.5, 7417.55, 6655.11, 5678.53, 5997.67, 6343.94, 5790.95, 6343.94, 6207.2, 7077.52, 4824.44, 6225.95, 4948.34, 8786.99, 6124.14, 8771.05, 7777.55, 5421.27, 6004.4, 6226.41, 4697.02, 7055.5, 4899.11, 5147.31, 6130.37, 6172.24, 6475.81, 5096.86, 6029.2, 5078.26, 7843.23, 5187.61, 5664.66, 7316.73, 5185.72, 5297.75, 6512.15, 4702.44, 7601.26, 6906.08, 4691.34, 7113.97, 4845.1, 7362.47, 4958.02, 5123.87, 4790.16, 8512.18, 5396.21, 5421.27, 7398.02, 5641.89, 7459.06, 6304.45, 4701.99, 4908.6, 5987.71, 4652.31, 5241.7, 4989.17, 7638.75, 5388.97, 4813.93, 5479.74, 5967.09, 5994.67, 8428.86, 4674.72, 7931.13, 5081.31, 5613.62, 5743.99, 9454.39, 7943.33, 5307.86, 5059.78, 8402.9, 6217.46, 7681.02, 4679.7, 8741.99, 6139.95, 4954.35, 13249.0, 7586.03, 8641.88, 6545.46, 8010.11, 5018.69, 4785.95, 5658.58, 5216.85, 6198.04, 5427.67, 4697.02, 4872.92, 4801.4, 6401.19, 5139.54, 5898.72, 7559.31, 5015.79, 6143.81, 6594.29, 5993.71, 6653.42, 9456.41, 6631.66, 4981.13, 4828.1, 6296.32, 7759.01, 4628.11, 11807.92, 5479.75, 6880.51, 6300.19, 5017.49, 5172.06, 10337.55, 6055.67, 4642.75, 6214.05, 5318.87, 6223.98, 6900.96, 4804.68, 6131.2, 6118.22, 5637.72, 6129.66, 4982.48, 5486.54, 7782.31, 5804.32, 4810.08, 7484.35, 4638.43, 5124.5, 4992.85, 8682.75, 4665.45, 6896.66, 6489.16, 8340.03, 4927.55, 7195.63, 4896.3, 4752.63, 5500.63, 4896.88, 4843.3, 6206.12, 5891.47, 6741.06, 5342.72, 4804.68, 5605.64, 4787.44, 6554.34, 4804.68, 4691.93, 8274.31, 5611.33, 8496.14, 5413.03, 5951.36, 6024.99, 5155.16, 5953.65, 4885.3, 7767.96, 5330.75, 4726.46, 5194.43, 4745.98, 6255.58, 5894.43, 5086.36, 6022.97, 6436.84, 9005.55, 4895.0, 5234.38, 4790.05, 6462.68, 5475.77, 4749.05, 4688.64, 5145.56, 5164.47, 5934.07, 5385.1, 4782.2, 4779.5, 5283.42, 4973.52, 8293.18, 5677.66, 7657.11, 7449.35, 7993.05, 7330.34, 5046.55, 5623.59, 4677.78, 4786.66, 5416.45, 5286.41, 10481.93, 4928.88, 4882.66, 4871.71, 4970.29, 4981.27, 7310.46, 5638.75, 5788.79, 7468.36, 4983.46, 7587.62, 5211.15, 6943.41, 5202.17, 4796.89, 5727.04, 6974.94, 4697.02, 4751.04, 5919.52, 5366.4, 4655.58, 5213.83, 6726.9, 9662.82, 4994.98, 7731.24, 8518.4, 5922.32, 4803.0, 5036.73, 5919.52, 5663.26, 5752.52, 5747.58, 10203.29, 5850.69, 5470.01, 5659.1, 6338.98, 4973.52, 5857.89, 4652.25, 5431.07, 4835.5, 5077.95, 6571.78, 5348.13, 6498.3, 5222.4, 6356.97, 5167.84, 6902.7, 4654.34, 6470.7, 5701.31, 4919.46, 5358.06, 4876.44, 4961.07, 5502.34, 10938.22, 9451.07, 5705.65, 5389.7, 5167.31, 4917.15, 5404.29, 4818.63, 4800.52, 5049.21, 6934.93, 5454.04, 6496.79, 5161.61, 5382.73, 4652.25, 4643.7, 5778.81, 6844.55, 6038.67, 5431.07, 6722.35, 5796.07, 6057.02, 5581.56, 4683.26, 5342.19, 5957.54, 5501.61, 4694.91, 5604.78, 5869.8, 6984.38, 5905.84, 5283.0, 4858.79, 5664.66, 6233.77, 8259.97, 5401.93, 5989.53, 5412.41, 5403.07, 5098.63, 4721.75, 4765.82, 4905.02, 5896.08, 5586.26, 4936.83, 6080.73, 6148.03, 5678.53, 6143.81, 4640.35, 6552.1, 5767.25, 5104.11, 4821.47, 6263.86, 4909.37, 4821.49, 4794.89, 6025.86, 4819.69, 6201.46, 5591.45, 4701.21, 5251.41, 5961.94, 7725.97, 9004.44, 4979.09, 6561.68, 6154.24, 4678.03, 9152.33, 7053.81, 5557.97, 4862.98, 5061.15, 4688.02, 4998.43, 4952.84, 4697.02, 4886.73, 5779.68, 5571.32, 7167.17, 5421.84, 4880.55, 6343.94, 4806.83, 7145.31, 5690.47, 5841.44, 5311.73, 5668.78, 5304.48, 6006.36, 8415.68, 5428.39, 5077.02, 5189.15, 5463.98, 7509.35, 5366.91, 4719.33, 5223.46, 5330.82, 5150.28, 4637.83, 6098.0, 6226.41, 6038.95, 6467.18, 7705.81, 5463.86, 6963.03, 7560.95, 5689.1, 4718.13, 5327.71, 5448.97, 4664.75, 6861.53, 4943.65, 5676.31, 6377.3, 5011.4, 5291.4, 8347.55, 4903.24, 5159.77, 11311.21, 6606.67, 6792.87, 6138.65, 6519.8, 5751.38, 4681.63, 5221.35, 7042.63, 7095.41, 7469.42, 5368.77, 5153.75, 6136.93, 5245.07, 4808.25, 4804.68, 8470.04, 5531.89, 5403.8, 6044.43, 5789.53, 6865.31, 7556.58, 5563.23, 6345.65, 4721.44, 4838.49, 5664.66, 6890.5, 5823.24, 5971.67, 5333.61, 4961.3, 6772.76, 4855.16, 4725.88, 5549.09, 6077.65, 5271.7, 5584.84, 4671.48, 5067.24, 4742.18, 6316.99, 5425.09, 4975.35, 4707.57, 7153.58, 4641.84, 4648.69, 6769.03, 5560.15, 5985.12, 5335.73, 5622.78, 5664.66, 5710.88, 5750.77, 10647.69, 6213.79, 5363.51, 4852.97, 4914.04, 5939.68, 6590.25, 5945.06, 4660.29, 6018.17, 4644.3, 5799.04, 6903.82, 5569.12, 4804.68, 6996.62, 4896.54, 6473.16, 6724.3, 4679.46, 5445.66, 5094.81, 5052.39, 4719.95, 5987.71, 5333.5, 6901.76, 4997.25, 4654.34, 5642.18, 5239.32, 4640.24, 6154.68, 4880.59, 5931.53, 6145.96, 6114.83, 11363.05, 6907.18, 5925.63, 4953.6, 5485.02, 6541.51, 5872.99, 7492.08, 5178.93, 5018.69, 4709.46, 5391.37, 6928.72, 6549.71, 5609.51, 6792.56, 11451.49, 5976.18, 5212.88, 5999.52, 4797.3, 4945.15, 9061.14, 5395.51, 6445.04, 9545.57, 4752.72, 4842.76, 4742.22, 6656.52, 7334.43, 7966.05, 5296.75, 4862.79, 5315.67, 4673.78, 4697.02, 5867.4, 4697.02, 7819.97, 4940.99, 4769.11, 6612.49, 5017.42, 6183.7, 10122.96, 8077.2, 10234.44, 5574.55, 6931.54, 4764.69, 5431.33, 5476.15, 4832.39, 5664.66, 6084.25, 4655.97, 6682.4, 5782.77, 5317.99, 7873.83, 5933.05, 4684.37, 5546.32, 5422.36, 6048.83, 4699.72, 5112.24, 5582.09, 5279.37, 5308.16, 5310.69, 8804.51, 8852.18, 4654.34, 6521.89, 5097.85, 5531.38, 6648.99, 5627.88, 6154.68, 5011.85, 8128.12, 4770.74, 5421.27, 6375.0, 5159.39, 6610.13, 5429.81, 5733.31, 4777.49, 4924.73, 8532.17, 4944.64, 5082.13, 5801.27, 4793.6, 4705.69, 6714.97, 6496.94, 4722.82, 5577.81, 5099.29, 6142.81, 4833.42, 4805.42, 4701.66, 5225.05, 5296.75, 4699.83, 5054.52, 6103.25, 5099.29, 5476.76, 7167.17, 6331.73, 4649.06, 4712.33, 4852.59, 6238.7, 4810.43, 4851.15, 4804.68, 5295.99, 5355.2, 4776.61, 5461.29, 5864.36, 5239.87, 5334.01, 10617.44, 4797.49, 6839.45, 5296.46, 6238.07, 5289.55, 7442.8, 6631.07, 5030.49, 4654.34, 5967.27, 5705.57, 5018.69, 6936.52, 6142.81, 4735.59, 7365.8, 7201.09, 4804.94, 5670.03, 5400.73, 5043.57, 7004.23, 5490.85, 4980.13, 5670.54, 6544.17, 4716.67, 5664.66, 4963.69, 5684.75, 4678.03, 7850.92, 4909.93, 4717.11, 5964.63, 6590.25, 5227.74, 5038.94, 5441.55, 4663.75, 4654.34, 5967.09, 4980.16, 5212.02, 5829.43, 4865.37, 5103.73, 5438.2, 5841.38, 5700.52, 10803.18, 15547.7, 4804.68, 5775.74, 9153.96, 6334.71, 7629.15, 6124.14, 5718.65, 5178.66, 6086.54, 4956.69, 7806.24, 6823.47, 5396.21, 5522.59, 4853.58, 5037.41, 4742.11, 6981.06, 5648.12, 11384.85, 8538.61, 5264.76, 6082.34, 4683.36, 4796.06, 6055.67, 8485.78, 5156.99, 5288.03, 5864.36, 4909.67, 10978.21, 5068.02, 4637.52, 4748.26, 7286.44, 7135.93, 4891.3, 4927.05, 5240.52, 5689.64, 6201.89, 5719.78, 4893.72, 7506.64, 7725.85, 5438.23, 5053.1, 5742.84, 5840.52, 5696.03, 6382.41, 4635.07, 4876.28, 8137.17, 7159.26, 4771.97, 5426.16, 4654.34, 5128.86, 4735.31, 6092.92, 9929.2, 6871.7, 5075.11, 4992.08, 5821.94, 4833.49, 4695.04, 4678.43, 5142.94, 9220.14, 6156.75, 5245.84, 5700.52, 5974.78, 5498.09, 5714.08, 5833.88, 5330.52, 6039.3, 6832.48, 5931.81, 5178.66, 4730.47, 5169.68, 6530.24, 5923.98, 5015.95, 4778.15, 5246.07, 5057.2, 7246.48, 5680.04, 9126.26, 5612.86, 5156.17, 6890.5, 6253.77, 7705.55, 6156.55, 6890.5, 4838.75, 5128.27, 6001.81, 5754.9, 5674.61, 4716.53, 5451.18, 6506.13, 7459.06, 5902.6, 6055.54, 5630.65, 6306.24, 5337.37, 7870.3, 5493.19, 5938.88, 8069.98, 5962.62, 4687.09, 7312.32, 6857.39, 5398.82, 5087.83, 4905.33, 8480.15, 5003.37, 4699.58, 5178.66, 7372.73, 5288.02, 5281.51, 4811.77, 4954.51, 10553.05, 4744.98, 4973.52, 5519.9, 6403.76, 6033.57, 5137.71, 6162.28, 4783.1, 5421.27, 4857.41, 5954.72, 7155.2, 5381.54, 7050.08, 5086.84, 5536.63, 5859.76, 4911.63, 5398.23, 4772.23, 6256.9, 5664.66, 7048.59, 4811.99, 4955.08, 4775.46, 8358.49, 7452.41, 5729.84, 4663.53, 5251.6, 4709.38, 8493.39, 4883.18, 5197.96, 5330.77, 5995.85, 5371.07, 6127.0, 7021.73, 6663.53, 6038.51, 4667.77, 5421.27, 5678.53, 5002.59, 5774.28, 6226.41, 5554.83, 5251.51, 5063.89, 5542.64, 4712.7, 6950.01, 5508.8, 5624.54, 4630.34, 4804.52, 6343.94, 5736.42, 7357.1, 7079.25, 4970.44, 7230.0, 5453.8, 6335.51, 8150.54, 6038.41, 6783.71, 5589.18, 5417.48, 4631.29, 8311.81, 6453.8, 6682.2, 6049.49, 6086.54, 5079.06, 5560.15, 6681.1, 6853.74, 4837.88, 8302.36, 5234.93, 4698.41, 4887.32, 8998.42, 10122.96, 5344.77, 4795.89, 5911.06, 5208.32, 5078.19, 4905.12, 5253.72, 4790.16, 5782.11, 9171.24, 4724.06, 4689.96, 5094.42, 9176.08, 4988.38, 4824.9, 6570.67, 6705.68, 6021.59, 4654.34, 4632.41, 4847.67, 6154.68, 5248.2, 5305.47, 5560.42, 5989.53, 4840.11, 5309.65, 5395.4, 5945.84, 8748.97, 5228.23, 5030.2, 4750.32, 6552.1, 4724.06, 5981.0, 5686.38, 7009.26, 7474.25, 7036.01, 6347.33, 5964.13, 10366.34, 4959.28, 6122.75, 5584.08, 4679.91, 5293.89, 5524.86, 5628.7, 8865.21, 4744.59, 5171.19, 5149.82, 7828.96, 5060.9, 8697.79, 4838.08, 4964.89, 7468.71, 5094.27, 8115.72, 5919.52, 4773.66, 5750.75, 4804.52, 6000.69, 7140.29, 5861.41, 5218.21, 5817.96, 5111.44, 4676.58, 7590.97, 4816.97, 5096.47, 4787.42, 5471.6, 6226.41, 8239.0, 4910.55, 7595.56, 5670.78, 4824.82, 5678.9, 6042.2, 8876.28, 5244.15, 7060.44, 7317.26, 4828.48, 5968.13, 4848.4, 4804.68, 5036.73, 5109.0, 5253.72, 5255.77, 5176.55, 6890.5, 5862.8, 7353.77, 5128.26, 7282.38, 5288.53, 5893.14, 5421.27, 4670.02, 5734.35, 7595.53, 4804.68, 4822.4, 4790.16, 5272.16, 4761.71, 7167.17, 8363.89, 4795.42, 5325.35, 4814.97, 4778.15, 4747.18, 5002.6, 6210.23, 10567.86, 5750.75, 10035.57, 5506.09, 4697.02, 5919.52, 5379.57, 4765.68, 7968.33, 4899.34, 5664.66, 5411.46, 4926.94, 5348.27, 5651.82, 5162.37, 8258.25, 6429.34, 7452.15, 9405.22, 4657.38, 4683.66, 5255.39, 5982.04, 5216.9, 4779.53, 5986.27, 6083.19, 7791.42, 5275.36, 5649.75, 4689.76, 5664.66, 9464.21, 6537.91, 7225.67, 4901.79, 4691.32, 5864.36, 5351.78, 5919.52, 6449.32, 5564.49, 6124.58, 5442.76, 5250.32, 4788.64, 6761.36, 4867.31, 5509.04, 5259.32, 5437.68, 5577.81, 5322.6, 5615.88, 5018.69, 5078.97, 5689.38, 10563.04, 7459.06, 5113.32, 6304.45, 5105.38, 6629.39, 4697.02, 4666.65, 6454.49, 4973.52, 5538.31, 7292.12, 6557.54, 5060.23, 4972.76, 5042.73, 6413.05, 6890.5, 5012.09, 9072.98, 5448.97, 6325.4, 5042.34, 4660.39, 6304.45, 5927.89, 7419.58, 4654.34, 6999.15, 5359.18, 5252.53, 5349.95, 4804.68, 4962.9, 5011.35, 5989.58, 5475.24, 6413.8, 5478.66, 5146.92, 5082.97, 4857.46, 5574.75, 6154.68, 5440.33, 5073.92, 5430.9, 4852.78, 5330.2, 4847.8, 7851.86, 5867.54, 4836.64, 6226.41, 5364.54, 5146.16, 5330.32, 4825.79, 4723.73, 4686.06, 4924.85, 5498.26, 5837.12, 4679.23, 7235.29, 5910.52, 4803.06, 4814.29, 5788.79, 5806.52, 5144.18, 5363.55, 5597.79, 4654.34, 7415.97, 4694.91, 8654.2, 4914.88, 5327.77, 7159.1, 4645.59, 5245.07, 5097.85, 4850.88, 5364.71, 5819.8, 4751.66, 4705.02, 6022.44, 10689.12, 4972.72, 5027.81, 4879.14, 4770.52, 4797.68, 4629.15, 5621.17, 5620.04, 7629.21, 6999.15, 5611.94, 5137.25, 5569.12, 8804.73, 4924.76, 6352.41, 6590.25, 6912.6, 6819.25, 6052.87, 4670.6, 6556.79, 4804.68, 6313.24, 5062.57, 5379.88, 5864.36, 5794.49, 4652.26, 5079.08, 5130.22, 4691.3, 7277.43, 5130.22, 6701.63, 4641.4, 6559.72, 5919.52, 4858.65, 5664.66, 4752.16, 5248.91, 4932.7, 4957.27, 6066.73, 6664.52, 4813.93, 5738.34, 5142.99, 5021.07, 7219.7, 7088.96, 4987.8, 6433.8, 6906.08, 6959.71, 5481.03, 4664.08, 5515.34, 6456.27, 5278.48, 6440.74, 5007.19, 4892.94, 5345.38, 5524.38, 5239.74, 4811.58, 4821.01, 5253.72, 4878.61, 5451.65, 6850.33, 4634.21, 6538.13, 5302.0, 6729.84, 4701.29, 5751.19, 6911.45, 4649.4, 4928.27, 6194.51, 5084.32, 5455.41, 5178.66, 4923.54, 7548.15, 4699.52, 7757.07, 5398.15, 5286.06, 6194.62, 6202.99, 6210.98, 4709.77, 6116.61, 4739.44, 4892.69, 5871.13, 4815.01, 5045.02, 5664.66, 5152.54, 7605.16, 4953.11, 5710.71, 4673.43, 4898.43, 5235.31, 4962.92, 5179.72, 6472.62, 4808.33, 6070.47, 5200.7, 5294.36, 7820.16, 6936.52, 6831.62, 5119.93, 5400.26, 5724.87, 5754.7, 6117.96, 5846.92, 5914.08, 6766.64, 5132.72, 6183.34, 4804.68, 4670.02, 4823.86, 6164.31, 5098.9, 6635.11, 5856.48, 6788.89, 6158.39, 6788.89, 4796.38, 5919.52, 5864.16, 4878.65, 7459.06, 7457.95, 4916.06, 5349.95, 5007.72, 5967.09, 5333.61, 6388.1, 5344.57, 7078.05, 4905.33, 4643.85, 5027.81, 7372.69, 5911.06, 4698.74, 6472.49, 5837.18, 4706.45, 4836.69, 6629.87, 5985.44, 6097.39, 5047.88, 4971.0, 4655.47, 4638.88, 4703.27, 5529.05, 4793.63, 5267.09, 5806.08, 5050.69, 4634.98, 5676.34, 5471.92, 4911.33, 4735.59, 9626.09, 5124.76, 5598.19, 5094.51, 5245.96, 6336.37, 5438.29, 5075.24, 4654.34, 5301.97, 5296.75, 6017.64, 9331.31, 5484.93, 4981.91, 5005.25, 6149.62, 5250.7, 6890.5, 5681.16, 6329.62, 4654.34, 6966.22, 5586.26, 4836.05, 5810.45, 6474.61, 5872.75, 5188.07, 5070.66, 6907.85, 7281.11, 5611.33, 5206.9, 5782.77, 5745.35, 4739.93, 5066.69, 5173.08, 5403.8, 4972.4, 5563.07, 8762.41, 6453.23, 8239.95, 4878.57, 6077.65, 8826.13, 6185.53, 7284.35, 7039.37, 4727.25, 6304.45, 4659.58, 4918.89, 4678.8, 5041.24, 5788.79, 5946.54, 5494.1, 5865.72, 4882.51, 5102.31, 10639.88, 6883.53, 5296.75, 6761.36, 5865.12, 4719.58, 4857.7, 6315.4, 7147.44, 5789.19, 6890.5, 5577.05, 4721.31, 6007.54, 4984.98, 9677.17, 7423.97, 5642.18, 4859.55, 4914.21, 7105.22, 4668.7, 11913.45, 6624.49, 4782.23, 6139.83, 5664.66, 5003.47, 7949.47, 5581.56, 4668.45, 4853.13, 5902.6, 7559.66, 6540.12, 5864.16, 15617.03, 4813.93, 6726.9, 5697.83, 7154.22, 4860.3, 4732.98, 6097.39, 5310.39, 6294.93, 5920.75, 5675.92, 5097.42, 4950.35, 4654.34, 6234.23, 5780.17, 7595.98, 10013.57, 5816.35, 7166.08, 6178.63, 5551.58, 4792.51, 7705.81, 4745.02, 5319.83, 5947.13, 6307.22, 5337.66, 5365.18, 5250.48, 5615.65, 9164.18, 6342.03, 6999.15, 5434.1, 6659.31, 6098.48, 6600.52, 4804.68, 10461.07, 4808.09, 4723.75, 5039.17, 13227.19, 7236.46, 4885.62, 8840.94, 5767.65, 4719.78, 8982.48, 5498.09, 5857.89, 8891.24, 5003.01, 5130.42, 5902.6, 6552.1, 5957.28, 5288.48, 4999.82, 4835.92, 5099.71, 5597.88, 5615.17, 6729.66, 7459.06, 5502.67, 6150.14, 5400.29, 5174.37, 4867.43, 4736.73, 5603.88, 6370.59, 5107.81, 5824.07, 5248.37, 5507.34, 7961.81, 6281.73, 6170.76, 6169.56, 6999.15, 6945.74, 10125.28, 4951.0, 8669.25, 7680.8, 4828.79, 6122.56]\n",
            "outliers in column  LP_ServiceFees  have outlier  [-244.02, -324.49, -282.5, -242.09, -302.48, -293.1, -396.91, -270.43, -322.86, -263.77, -272.09, -264.24, -338.98, -332.21, -286.41, -304.15, -250.35, -306.54, -252.79, -273.17, -271.86, -246.48, -415.12, -402.92, -358.7, -368.66, -263.85, -317.72, -251.79, -247.89, -247.09, -261.33, -240.57, -299.38, -239.48, -274.3, -283.23, -325.84, -256.39, -241.18, -311.76, -376.68, -305.68, -246.96, -325.14, -275.08, -251.69, -246.24, -287.6, -326.05, -241.27, -246.13, -252.53, -254.1, -237.33, -276.17, -323.34, -278.05, -353.44, -436.04, -249.69, -260.42, -273.8, -442.14, -253.6, -252.62, -246.6, -260.63, -237.85, -249.88, -283.9, -333.16, -276.85, -393.08, -332.99, -302.22, -260.12, -267.88, -408.94, -412.73, -248.0, -391.38, -275.06, -245.45, -307.52, -277.96, -237.82, -249.27, -241.51, -348.14, -240.98, -249.53, -342.63, -260.42, -244.26, -427.84, -260.85, -322.23, -250.86, -412.76, -237.86, -255.09, -346.88, -312.49, -251.83, -295.95, -260.5, -371.46, -251.27, -314.83, -268.91, -295.46, -243.24, -337.56, -247.93, -416.37, -252.29, -246.83, -303.7, -287.51, -242.88, -394.24, -433.76, -269.22, -319.16, -372.91, -282.62, -284.1, -334.67, -241.64, -280.12, -276.08, -332.3, -260.2, -279.94, -276.07, -427.66, -242.79, -237.7, -247.78, -386.71, -324.47, -300.45, -317.82, -347.37, -305.02, -255.41, -254.52, -312.69, -246.3, -247.58, -286.21, -242.47, -263.06, -252.3, -249.9, -244.97, -415.15, -246.46, -250.96, -248.81, -247.29, -346.08, -294.96, -288.91, -318.13, -365.84, -265.49, -264.36, -256.16, -264.91, -253.15, -255.82, -259.62, -243.87, -249.24, -252.29, -237.09, -340.08, -390.3, -417.46, -255.33, -247.68, -366.32, -479.68, -320.37, -323.64, -268.49, -340.66, -283.12, -262.28, -327.24, -246.4, -245.91, -246.2, -410.3, -239.87, -261.24, -266.47, -291.34, -245.0, -331.83, -303.15, -314.61, -252.29, -238.39, -270.95, -338.1, -260.03, -275.84, -259.27, -345.29, -382.18, -244.49, -270.45, -260.42, -272.33, -347.28, -371.46, -238.25, -243.36, -247.25, -295.9, -346.84, -284.08, -318.13, -416.04, -248.01, -259.38, -244.27, -245.8, -294.75, -252.75, -241.78, -324.19, -410.34, -343.68, -255.43, -243.19, -350.6, -292.69, -268.31, -243.51, -291.94, -417.25, -248.55, -255.51, -278.31, -242.02, -269.4, -357.93, -247.02, -389.03, -250.44, -240.16, -270.18, -274.76, -415.9, -318.08, -398.09, -338.45, -279.08, -250.32, -244.72, -239.12, -236.94, -283.47, -296.0, -343.53, -464.11, -295.33, -269.61, -414.25, -302.05, -294.5, -314.72, -394.44, -291.88, -287.41, -261.12, -248.05, -392.11, -301.81, -256.44, -254.84, -239.54, -399.07, -239.9, -246.09, -337.53, -271.63, -289.79, -262.55, -257.05, -392.22, -279.34, -262.17, -256.04, -332.75, -293.05, -349.4, -272.65, -252.8, -334.42, -238.23, -252.13, -348.57, -238.9, -260.26, -553.88, -319.84, -338.5, -244.7, -248.09, -397.64, -254.1, -440.63, -247.59, -318.34, -440.1, -298.54, -416.04, -249.86, -417.99, -238.33, -243.78, -402.7, -259.91, -273.74, -361.47, -280.62, -241.22, -360.41, -373.79, -339.1, -252.71, -268.71, -354.54, -255.51, -446.12, -262.04, -244.05, -239.6, -387.52, -283.6, -255.86, -288.51, -267.55, -251.35, -377.64, -238.56, -317.31, -238.4, -251.24, -257.05, -315.55, -325.64, -374.98, -288.25, -239.82, -339.72, -326.3, -242.21, -321.69, -240.09, -280.46, -375.59, -240.81, -290.04, -237.42, -239.65, -267.98, -267.97, -303.06, -275.06, -287.05, -260.42, -380.36, -246.7, -261.84, -281.72, -255.74, -274.66, -239.3, -239.25, -243.68, -278.02, -304.91, -238.2, -243.2, -338.01, -264.82, -242.79, -247.16, -259.63, -283.59, -248.12, -283.88, -244.49, -275.79, -292.27, -298.66, -340.47, -245.61, -302.08, -307.39, -276.09, -317.4, -291.35, -320.92, -256.44, -340.36, -251.67, -322.75, -275.15, -278.82, -431.5, -265.05, -255.55, -316.39, -283.47, -354.81, -308.35, -292.01, -365.56, -243.84, -254.24, -318.68, -263.94, -278.88, -239.67, -440.48, -253.33, -239.84, -400.71, -408.28, -333.16, -237.53, -334.22, -398.91, -378.73, -239.52, -299.32, -252.72, -306.26, -279.0, -403.1, -246.8, -335.51, -336.27, -263.8, -372.16, -264.48, -245.01, -273.48, -249.74, -252.42, -282.44, -304.46, -414.25, -530.69, -298.95, -237.35, -244.16, -246.96, -407.31, -272.62, -241.13, -250.95, -356.56, -325.12, -239.36, -257.76, -254.51, -273.47, -267.68, -260.42, -377.21, -285.23, -280.12, -427.42, -281.6, -245.16, -329.98, -239.42, -237.83, -237.41, -247.57, -255.76, -251.94, -303.06, -276.09, -328.65, -257.42, -300.03, -247.12, -271.59, -329.84, -252.45, -248.75, -297.82, -312.53, -265.49, -298.73, -246.82, -250.1, -299.18, -248.55, -238.33, -371.35, -247.67, -411.94, -367.93, -409.49, -431.58, -323.51, -250.47, -242.79, -253.07, -249.59, -316.3, -239.39, -419.74, -250.44, -346.21, -247.73, -250.56, -408.34, -284.65, -369.96, -332.47, -331.23, -406.83, -261.76, -352.54, -246.6, -275.06, -265.76, -348.94, -414.24, -272.87, -288.12, -394.87, -354.49, -273.09, -268.16, -263.83, -248.3, -353.87, -420.55, -425.88, -328.45, -274.09, -302.05, -299.22, -265.49, -357.94, -248.28, -310.43, -309.47, -337.79, -367.91, -275.05, -321.6, -346.46, -274.89, -334.18, -347.41, -354.49, -243.14, -245.41, -407.86, -238.96, -248.94, -265.49, -252.29, -251.21, -250.24, -243.16, -387.67, -250.48, -323.36, -295.69, -319.3, -274.66, -274.41, -248.55, -288.45, -254.98, -339.07, -255.1, -336.42, -282.55, -278.93, -368.89, -274.95, -356.84, -251.02, -346.29, -369.96, -243.54, -456.98, -413.74, -424.4, -385.99, -245.45, -386.71, -257.05, -260.42, -240.57, -292.29, -406.89, -386.75, -261.54, -256.68, -269.75, -309.04, -423.61, -318.13, -361.73, -329.63, -244.11, -258.28, -327.36, -275.06, -252.65, -256.85, -264.11, -237.57, -250.57, -238.82, -250.37, -346.16, -275.27, -241.67, -247.67, -310.44, -259.06, -265.49, -413.0, -409.74, -256.76, -253.53, -243.91, -288.25, -241.28, -284.65, -312.93, -364.69, -240.46, -381.14, -274.41, -252.38, -344.0, -287.19, -422.69, -248.41, -278.98, -275.54, -262.84, -259.64, -250.01, -342.46, -261.87, -299.92, -284.03, -306.81, -401.06, -243.82, -378.58, -261.11, -270.95, -247.12, -271.16, -353.57, -390.18, -262.01, -242.11, -280.12, -283.58, -270.57, -246.41, -273.58, -268.82, -301.6, -335.9, -242.89, -361.76, -240.16, -251.35, -260.11, -318.08, -262.28, -270.31, -326.11, -384.54, -281.54, -315.11, -378.34, -241.01, -241.33, -291.96, -267.61, -664.87, -331.2, -318.47, -341.14, -239.76, -289.78, -269.77, -356.98, -374.2, -336.33, -252.29, -353.59, -311.28, -397.9, -243.79, -245.91, -367.14, -237.85, -280.6, -238.1, -418.13, -237.82, -318.12, -268.95, -267.04, -331.98, -326.37, -331.19, -237.84, -246.35, -247.38, -248.68, -240.46, -309.1, -305.01, -303.68, -310.96, -408.15, -244.97, -251.53, -252.72, -244.87, -249.46, -239.94, -253.93, -251.48, -480.51, -240.99, -261.94, -285.09, -302.05, -260.15, -307.26, -268.53, -262.94, -271.59, -265.93, -310.56, -298.07, -299.89, -293.66, -261.48, -304.27, -287.45, -310.02, -441.16, -254.75, -240.76, -248.28, -237.01, -240.47, -267.64, -248.4, -238.93, -240.48, -237.24, -251.63, -244.76, -267.5, -254.93, -395.34, -275.05, -256.75, -320.1, -397.66, -241.59, -252.29, -246.55, -237.86, -395.37, -240.1, -255.85, -246.59, -333.28, -246.51, -250.38, -260.58, -257.05, -251.78, -257.05, -248.5, -243.9, -242.65, -301.53, -297.65, -288.18, -323.49, -354.42, -284.85, -345.23, -240.73, -246.15, -414.09, -308.95, -252.23, -336.38, -318.82, -238.54, -327.7, -239.34, -245.51, -238.57, -277.24, -268.73, -253.83, -326.11, -315.24, -272.59, -442.14, -276.48, -339.98, -404.58, -252.42, -244.93, -240.09, -244.31, -243.56, -262.88, -314.8, -253.04, -291.66, -373.22, -305.7, -333.65, -266.71, -247.77, -249.63, -246.08, -289.47, -381.14, -387.75, -376.19, -325.15, -338.71, -405.35, -322.89, -252.97, -254.83, -252.97, -297.73, -242.51, -243.92, -247.26, -308.84, -284.06, -340.49, -411.0, -259.91, -283.75, -270.57, -284.08, -386.05, -265.08, -347.43, -256.81, -283.58, -266.64, -251.77, -289.71, -427.42, -337.42, -250.9, -248.01, -241.14, -266.1, -354.13, -343.12, -241.01, -239.54, -277.12, -240.81, -239.37, -333.13, -260.5, -380.36, -347.23, -240.56, -238.23, -416.81, -260.4, -374.39, -300.98, -268.53, -441.63, -346.64, -263.78, -342.31, -248.38, -259.4, -407.86, -402.52, -256.04, -399.6, -282.62, -247.25, -256.47, -307.03, -251.7, -421.13, -336.34, -329.08, -270.18, -247.12, -275.35, -286.65, -327.54, -237.23, -329.58, -310.59, -391.96, -437.33, -255.52, -239.76, -249.44, -339.47, -249.62, -356.58, -263.88, -237.47, -247.18, -281.5, -330.06, -319.43, -251.67, -254.37, -289.84, -255.69, -349.77, -260.42, -328.06, -255.6, -282.69, -249.38, -247.08, -420.66, -316.38, -261.74, -277.32, -237.39, -287.24, -357.89, -361.79, -254.42, -304.79, -303.27, -250.09, -328.74, -271.26, -282.43, -246.06, -241.49, -304.14, -250.79, -272.23, -300.03, -351.06, -312.26, -400.13, -250.57, -259.5, -260.42, -246.68, -265.58, -334.23, -344.44, -255.69, -260.42, -246.7, -271.35, -325.65, -249.31, -425.22, -266.01, -294.04, -346.57, -415.57, -243.51, -310.96, -320.77, -491.6, -317.9, -249.62, -257.4, -336.99, -295.35, -252.32, -247.16, -259.21, -328.06, -276.51, -246.91, -271.27, -279.97, -303.55, -318.81, -251.27, -267.02, -301.88, -281.53, -328.55, -269.57, -356.98, -259.57, -421.79, -248.67, -336.53, -308.61, -263.17, -242.28, -252.71, -240.44, -264.04, -269.4, -247.07, -284.72, -341.27, -352.89, -334.75, -339.6, -302.05, -249.17, -269.84, -421.54, -237.61, -330.61, -346.42, -245.34, -315.76, -302.87, -286.83, -243.08, -524.84, -270.57, -287.24, -237.85, -252.05, -258.18, -331.34, -331.14, -256.32, -248.67, -429.46, -260.27, -244.15, -237.96, -295.56, -248.36, -237.85, -249.73, -282.64, -260.33, -396.74, -334.64, -268.94, -273.95, -396.18, -269.57, -281.03, -272.33, -249.63, -256.99, -246.9, -282.03, -384.74, -288.15, -260.02, -312.11, -349.77, -282.77, -364.28, -237.32, -328.27, -252.29, -289.81, -365.67, -315.19, -352.42, -243.69, -258.13, -355.36, -281.88, -262.13, -278.38, -347.76, -316.35, -333.9, -288.37, -249.21, -243.36, -309.49, -246.31, -315.37, -281.49, -245.87, -248.19, -345.83, -320.56, -342.59, -250.3, -395.65, -283.25, -258.06, -336.29, -326.82, -277.93, -237.26, -247.0, -334.75, -255.2, -267.27, -255.37, -333.43, -242.93, -560.48, -326.11, -435.97, -310.98, -270.95, -276.27, -237.13, -284.92, -284.65, -256.37, -284.0, -277.53, -258.29, -244.55, -342.59, -247.02, -293.73, -351.29, -242.79, -265.49, -324.98, -262.26, -250.82, -248.41, -243.15, -366.45, -243.13, -251.7, -285.93, -339.2, -302.31, -384.48, -315.39, -237.03, -276.5, -405.41, -332.8, -285.61, -248.77, -245.23, -242.79, -407.93, -276.75, -265.89, -243.71, -353.59, -387.28, -356.84, -241.1, -256.08, -401.07, -407.66, -249.98, -242.19, -253.39, -322.41, -249.74, -249.78, -257.05, -327.09, -318.42, -248.17, -262.45, -308.7, -300.56, -329.88, -390.28, -413.36, -352.44, -285.17, -244.11, -238.57, -244.34, -247.55, -367.36, -245.7, -247.73, -303.65, -248.06, -254.18, -268.49, -316.99, -245.45, -343.25, -293.11, -294.57, -393.32, -245.82, -351.47, -403.97, -244.84, -401.22, -303.06, -403.75, -365.99, -242.21, -407.11, -333.91, -285.74, -345.25, -283.28, -290.38, -423.32, -418.61, -316.65, -244.98, -255.66, -323.51, -312.39, -251.52, -296.77, -260.42, -241.44, -237.92, -316.29, -288.47, -306.25, -261.66, -251.97, -307.26, -243.42, -287.19, -254.38, -419.81, -302.35, -333.98, -266.47, -243.87, -322.57, -240.1, -285.59, -347.04, -288.78, -275.49, -274.41, -244.74, -284.99, -249.21, -320.05, -239.55, -253.63, -241.84, -248.03, -289.05, -281.76, -341.15, -345.94, -286.23, -249.27, -250.34, -356.98, -320.22, -348.76, -301.51, -332.22, -282.44, -241.75, -332.92, -242.79, -288.32, -383.31, -328.34, -434.6, -414.25, -345.76, -274.14, -308.95, -252.0, -242.79, -241.51, -375.82, -236.89, -257.61, -266.17, -398.91, -260.42, -353.36, -249.32, -309.48, -303.46, -327.15, -386.05, -283.81, -269.39, -266.18, -313.65, -252.29, -246.08, -238.03, -266.04, -293.02, -276.36, -247.29, -239.34, -253.37, -296.96, -256.2, -275.95, -298.33, -276.48, -240.58, -325.2, -251.34, -275.46, -247.81, -254.27, -366.89, -242.36, -302.48, -420.69, -242.09, -243.49, -247.95, -289.42, -237.22, -307.75, -286.46, -261.17, -368.29, -407.57, -255.08, -289.3, -246.7, -249.51, -339.48, -326.11, -251.7, -298.61, -258.99, -294.3, -321.36, -258.94, -353.54, -326.35, -416.04, -446.12, -420.58, -259.32, -295.08, -253.33, -282.57, -303.15, -240.53, -401.06, -244.91, -449.69, -264.62, -343.53, -302.57, -349.18, -422.82, -269.77, -258.23, -259.43, -259.09, -307.26, -237.09, -416.59, -414.25, -303.33, -296.8, -274.28, -243.36, -345.91, -239.44, -345.73, -314.53, -380.23, -399.16, -270.85, -309.37, -252.29, -246.61, -326.28, -244.49, -248.61, -415.56, -255.8, -247.29, -334.37, -254.53, -312.62, -347.89, -273.26, -272.48, -264.64, -301.93, -244.92, -418.98, -290.87, -263.94, -250.77, -243.42, -274.88, -268.85, -247.49, -589.95, -337.32, -273.54, -368.21, -323.27, -246.82, -260.47, -311.32, -285.21, -393.08, -299.54, -240.61, -296.5, -290.28, -429.5, -353.65, -276.4, -298.15, -252.29, -413.79, -368.21, -353.11, -300.7, -249.74, -528.07, -360.7, -284.72, -255.52, -260.73, -254.73, -260.42, -319.16, -239.86, -251.07, -253.76, -265.83, -392.91, -255.74, -424.7, -238.32, -259.41, -246.8, -252.29, -298.43, -257.0, -266.9, -246.82, -271.77, -434.83, -244.4, -392.06, -238.06, -308.65, -285.65, -284.65, -564.85, -258.94, -336.14, -243.55, -256.44, -269.93, -315.02, -265.18, -318.82, -333.03, -257.35, -280.91, -255.22, -278.05, -253.42, -269.06, -406.05, -335.11, -239.35, -267.35, -247.95, -316.57, -424.93, -407.86, -271.4, -297.78, -254.18, -252.29, -427.42, -303.66, -320.45, -279.81, -332.99, -237.1, -280.43, -242.79, -455.68, -252.01, -260.42, -413.74, -371.26, -366.16, -298.23, -268.14, -246.07, -354.42, -257.38, -276.89, -347.11, -237.75, -324.64, -408.67, -260.66, -256.46, -345.88, -287.81, -258.07, -430.75, -253.14, -257.72, -256.44, -259.5, -245.42, -246.68, -281.5, -237.47, -277.24, -255.74, -239.56, -433.92, -273.25, -243.49, -282.72, -288.53, -263.26, -373.02, -404.07, -252.5, -240.19, -342.9, -266.52, -315.82, -259.04, -428.35, -251.24, -257.89, -271.37, -257.19, -306.36, -275.36, -250.61, -255.08, -252.29, -240.09, -245.91, -420.22, -279.6, -252.58, -320.65, -429.59, -383.09, -246.53, -305.43, -281.74, -274.1, -279.03, -253.06, -248.31, -244.63, -264.52, -361.82, -326.46, -278.96, -311.02, -391.81, -354.49, -272.1, -338.8, -309.76, -238.46, -258.17, -296.95, -357.89, -288.05, -310.59, -296.77, -273.79, -249.95, -264.27, -338.11, -248.2, -240.1, -294.72, -329.67, -265.71, -240.47, -262.5, -267.62, -240.1, -267.93, -240.6, -248.56, -293.82, -500.56, -370.9, -262.0, -271.16, -250.66, -259.91, -237.17, -240.96, -264.1, -267.79, -413.46, -301.65, -322.81, -246.8, -254.08, -303.36, -257.03, -247.63, -244.01, -295.15, -251.97, -293.77, -247.83, -237.59, -239.51, -243.84, -294.54, -269.57, -425.92, -236.77, -367.89, -238.02, -251.88, -362.66, -299.04, -253.99, -256.37, -325.27, -383.92, -254.52, -311.31, -248.89, -531.99, -280.72, -251.21, -239.0, -274.84, -302.05, -282.44, -243.16, -248.26, -248.32, -272.57, -284.46, -238.77, -298.51, -282.44, -398.75, -312.99, -338.79, -422.54, -245.32, -310.67, -258.12, -247.43, -254.46, -272.85, -249.93, -245.31, -384.65, -291.89, -239.25, -247.48, -393.08, -399.25, -279.81, -259.9, -333.65, -288.0, -242.56, -238.8, -238.57, -322.66, -330.06, -289.97, -260.35, -389.0, -378.45, -301.6, -242.63, -308.59, -327.21, -355.19, -381.01, -239.88, -246.74, -266.03, -262.02, -237.69, -257.05, -256.2, -239.85, -262.27, -284.65, -239.42, -267.26, -313.49, -361.36, -246.05, -289.46, -318.13, -415.05, -393.07, -266.88, -255.88, -239.64, -257.38, -317.4, -247.54, -257.1, -349.18, -473.4, -237.51, -306.57, -247.48, -317.19, -281.53, -308.84, -351.86, -362.86, -314.46, -264.94, -339.08, -255.59, -494.41, -400.58, -251.12, -237.17, -252.29, -247.29, -242.8, -276.04, -328.75, -260.51, -408.45, -310.12, -438.99, -265.49, -246.92, -412.47, -254.81, -261.24, -245.26, -241.18, -262.29, -317.73, -318.09, -257.18, -279.2, -397.64, -357.59, -268.99, -308.16, -270.97, -259.63, -255.52, -260.12, -307.0, -242.05, -257.17, -340.51, -319.43, -246.83, -405.48, -320.11, -417.25, -349.0, -242.62, -301.44, -245.82, -283.36, -237.85, -341.98, -282.44, -238.79, -338.5, -264.27, -246.28, -288.45, -247.74, -245.61, -287.47, -281.24, -261.08, -244.29, -238.57, -297.16, -277.97, -281.82, -303.16, -266.11, -329.35, -275.29, -244.69, -305.14, -280.89, -243.03, -298.36, -300.21, -321.1, -418.14, -253.38, -427.5, -322.47, -260.42, -239.71, -244.93, -250.4, -245.57, -322.47, -240.1, -345.31, -276.59, -265.28, -239.85, -268.73, -253.66, -241.01, -295.15, -245.72, -251.21, -360.63, -239.83, -248.06, -258.43, -250.81, -412.68, -284.65, -257.6, -312.01, -326.57, -268.57, -260.42, -308.84, -317.07, -262.31, -301.65, -249.74, -319.43, -363.35, -302.05, -252.41, -371.55, -262.98, -355.98, -338.5, -401.41, -248.48, -274.59, -237.85, -243.22, -332.0, -239.73, -284.65, -309.01, -269.84, -317.86, -334.27, -247.3, -422.4, -267.64, -257.18, -258.5, -275.58, -251.35, -326.89, -242.67, -286.4, -340.41, -261.04, -239.4, -425.09, -324.25, -237.8, -288.91, -315.6, -270.67, -237.73, -301.33, -356.45, -271.48, -306.65, -361.37, -268.43, -255.74, -255.24, -237.85, -332.21, -325.66, -268.06, -366.09, -273.97, -405.94, -275.69, -283.91, -273.54, -288.17, -250.46, -278.83, -253.94, -426.35, -347.23, -259.91, -283.93, -360.36, -273.77, -251.97, -399.67, -251.35, -299.99, -269.57, -279.88, -291.93, -265.7, -325.43, -404.66, -240.1, -287.85, -292.16, -242.79, -245.45, -239.39, -322.82, -276.53, -316.87, -267.95, -304.33, -248.76, -244.79, -269.84, -309.42, -326.11, -252.29, -251.82, -318.13, -258.73, -410.35, -412.83, -300.97, -246.48, -260.42, -241.46, -249.43, -247.5, -313.05, -245.05, -259.88, -348.23, -240.0, -258.84, -348.17, -283.47, -247.29, -244.19, -256.59, -253.69, -252.18, -388.34, -248.0, -356.93, -408.15, -238.57, -366.2, -380.05, -240.01, -278.05, -241.73, -321.16, -295.54, -275.4, -396.45, -248.07, -341.61, -283.58, -289.01, -285.97, -368.5, -348.51, -466.87, -252.29, -247.29, -243.28, -321.71, -248.93, -408.22, -237.42, -274.62, -255.06, -312.39, -244.49, -255.45, -248.02, -242.55, -250.06, -340.36, -246.62, -380.2, -318.13, -296.74, -436.29, -252.51, -275.06, -362.89, -256.3, -318.73, -362.36, -253.81, -258.73, -262.56, -239.25, -260.87, -240.73, -276.39, -398.91, -266.81, -353.59, -286.12, -258.96, -336.14, -307.36, -327.83, -260.42, -257.11, -311.8, -351.72, -347.77, -328.18, -269.11, -255.74, -237.02, -279.22, -342.63, -415.71, -237.85, -365.15, -247.3, -262.17, -382.53, -266.81, -369.96, -254.1, -251.18, -297.98, -307.04, -329.91, -370.25, -262.16, -310.56, -297.16, -238.44, -359.01, -325.15, -353.41, -239.42, -245.88, -272.5, -342.18, -538.46, -239.92, -246.1, -254.88, -360.21, -284.65, -238.93, -310.02, -250.08, -239.94, -237.07, -311.38, -287.93, -240.57, -278.67, -244.69, -352.25, -392.22, -365.28, -304.68, -520.07, -277.56, -297.71, -336.34, -279.57, -243.24, -284.84, -246.71, -303.08, -399.16, -285.38, -344.91, -243.67, -293.16, -249.91, -283.31, -256.77, -294.52, -323.65, -258.46, -255.29, -268.06, -334.98, -317.53, -249.08, -510.4, -282.44, -385.1, -259.0, -300.68, -276.72, -248.55, -247.21, -250.59, -331.96, -251.34, -244.79, -317.42, -263.74, -281.4, -303.62, -260.33, -437.73, -279.27, -257.0, -274.89, -261.59, -344.02, -237.25, -260.42, -317.18, -238.5, -408.25, -347.39, -275.06, -285.74, -275.06, -242.81, -344.1, -252.46, -237.85, -339.37, -271.99, -259.91, -241.27, -276.35, -290.88, -412.83, -282.85, -253.55, -427.42, -363.84, -288.78, -245.9, -266.39, -416.36, -284.96, -237.51, -261.17, -359.58, -355.91, -279.21, -370.37, -240.47, -330.5, -319.97, -257.79, -246.65, -279.37, -252.37, -270.58, -249.27, -311.76, -399.09, -238.79, -305.59, -279.81, -238.68, -248.38, -329.63, -286.26, -390.85, -245.69, -313.36, -282.35, -251.15, -292.99, -239.42, -245.7, -251.69, -363.53, -277.33, -252.29, -320.6, -361.47, -273.65, -345.71, -239.11, -238.46, -287.76, -240.1, -237.6, -258.23, -333.31, -252.29, -241.76, -334.19, -302.88, -353.3, -248.09, -290.16, -269.36, -306.94, -312.63, -266.45, -309.83, -241.05, -283.38, -245.93, -344.09, -414.25, -263.34, -297.74, -248.12, -282.09, -350.63, -360.13, -422.33, -250.4, -244.32, -320.05, -267.46, -244.78, -282.84, -357.25, -335.2, -298.69, -239.34, -239.68, -399.11, -318.13, -276.33, -447.95, -282.91, -274.66, -242.86, -273.97, -289.78, -332.39, -249.06, -414.71, -240.1, -336.74, -324.34, -249.7, -256.75, -287.24, -299.04, -392.46, -248.55, -258.76, -264.87, -243.51, -238.48, -252.71, -275.55, -361.72, -239.54, -298.43, -264.98, -252.9, -245.52, -237.17, -459.83, -242.32, -249.12, -339.37, -434.88, -248.67, -244.49, -276.18, -250.78, -257.79, -245.39, -284.56, -249.63, -240.07, -282.69, -254.77, -285.41, -252.29, -240.13, -307.5, -393.08, -300.03, -348.98, -286.11, -282.67, -270.4, -311.76, -296.48, -411.24, -373.58, -261.09, -252.24, -268.49, -442.24, -258.02, -236.97, -243.71, -271.26, -267.74, -307.81, -247.74, -299.76, -273.03, -358.3, -539.7, -250.25, -319.79, -245.99, -255.25, -261.82, -258.73, -306.74, -271.02, -237.42, -379.19, -416.2, -304.92, -260.42, -287.48, -286.85, -287.62, -248.53, -429.58, -267.49, -303.7, -313.12, -354.49, -272.33, -413.04, -379.22, -265.73, -242.58, -237.17, -265.49, -250.11, -251.94, -245.76, -242.29, -265.55, -243.45, -274.14, -338.18, -244.7, -259.91, -243.08, -255.57, -269.99, -267.4, -296.66, -279.46, -397.05, -242.75, -250.0, -278.47, -245.17, -310.9, -275.41, -279.51, -325.32, -244.63, -356.31, -250.0, -260.75, -261.13, -242.54, -259.53, -280.6, -314.58, -261.08, -291.68, -246.78, -258.73, -245.69, -349.25, -255.6, -356.17, -252.72, -241.89, -276.7, -407.49]\n",
            "outliers in column  LP_CollectionFees  have outlier  [-523.49, -813.65, -1106.34, -888.06, -722.52, -545.73, -1350.0, -372.56, -421.5, -526.1, -787.01, -648.67, -1080.0, -2394.37, -702.52, -395.45, -1001.68, -419.64, -1012.5, -1175.14, -813.24, -661.5, -1255.28, -629.0, -2806.04, -495.0, -1013.71, -422.82, -900.0, -1037.23, -1031.06, -868.37, -762.6, -513.51, -507.3, -607.0, -1111.65, -891.0, -373.66, -794.13, -1184.92, -1439.58, -1584.52, -980.07, -649.0, -1002.47, -425.84, -411.25, -347.19, -510.0, -924.28, -1164.62, -887.98, -1323.2, -712.2, -373.6, -437.06, -525.5288, -613.0835, -376.83, -517.18, -813.87, -452.89, -344.01, -947.28, -514.6, -595.35, -451.46, -349.31, -873.33, -460.54, -1500.0, -788.32, -854.49, -986.0, -573.06, -607.03, -469.27, -425.97, -593.23, -1231.81, -572.28, -424.8, -786.21, -433.84, -734.12, -383.82, -5597.2, -602.22, -993.38, -519.83, -423.7834, -384.4, -363.15, -374.02, -927.56, -403.78, -708.09, -469.02, -622.76, -1204.0, -549.3, -1170.0, -2702.44, -1238.43, -413.64, -389.42, -896.64, -642.13, -635.38, -380.94, -450.57, -751.18, -348.12, -675.0, -454.8, -646.17, -567.0, -2424.52, -975.22, -470.62, -484.52, -439.57, -589.99, -422.9, -433.08, -3407.26, -569.71, -342.42, -485.9218, -9274.75, -766.45, -500.02, -417.39, -364.5, -570.6, -983.1, -664.2, -425.79, -483.95, -653.67, -569.18, -392.7, -618.3, -382.66, -1741.5, -349.8, -1179.88, -587.28, -759.57, -1703.16, -1350.0, -1015.56, -532.29, -740.5, -528.53, -747.75, -485.13, -964.05, -942.7, -630.05, -360.21, -582.6444, -350.3, -3893.14, -392.4, -734.85, -1123.41, -1132.18, -591.33, -461.95, -361.84, -1471.29, -1054.59, -505.2, -724.88, -736.14, -638.42, -364.34, -901.25, -897.0135, -445.08, -414.83, -362.88, -390.0, -1365.68, -1446.0, -356.04, -416.4, -362.71, -347.84, -2816.75, -406.2, -520.65, -369.99, -869.9, -780.0, -1118.36, -375.39, -833.63, -1388.25, -418.03, -725.0, -1267.79, -482.48, -512.2, -372.18, -2465.48, -745.91, -574.99, -440.64, -586.71, -530.27, -2087.19, -1075.29, -568.6, -519.2, -900.0, -662.57, -1035.0104, -743.97, -367.38, -377.6, -475.1362, -1020.6, -562.16, -577.67, -436.89, -350.24, -453.59, -760.26, -473.29, -606.03, -765.45, -840.0, -771.43, -476.38, -1219.79, -565.56, -364.5, -484.5, -816.81, -550.0, -813.3, -510.0, -663.52, -1092.27, -764.36, -1108.66, -407.0, -470.71, -361.31, -409.07, -490.2, -421.7, -1250.0, -443.35, -452.97, -460.98, -342.9, -497.51, -471.28, -622.83, -968.64, -1241.58, -1102.35, -382.91, -854.14, -804.04, -604.48, -874.2, -656.2, -956.27, -2492.12, -532.85, -462.22, -373.84, -418.5, -701.05, -463.76, -568.5, -1082.02, -779.78, -420.38, -990.73, -643.4753, -1984.28, -556.99, -1058.0312, -1531.2, -987.69, -389.01, -1006.33, -407.67, -600.0, -416.44, -645.98, -508.02, -388.45, -483.75, -972.04, -659.0, -484.15, -1341.71, -611.28, -1721.28, -837.2, -1756.02, -414.5, -361.39, -381.56, -448.25, -547.85, -1101.51, -660.05, -382.0, -383.46, -797.79, -1183.31, -436.18, -813.5175, -723.51, -362.48, -1565.72, -831.78, -611.0, -571.55, -597.62, -396.25, -607.43, -894.15, -614.79, -461.15, -349.43, -357.82, -428.96, -440.06, -351.32, -573.39, -547.34, -416.06, -1200.0, -436.08, -1204.39, -454.65, -615.82, -437.23, -491.12, -343.84, -677.25, -2260.9512, -785.8, -771.52, -1227.3, -1421.25, -349.82, -394.4, -3956.69, -538.2, -809.44, -1828.65, -929.22, -857.52, -1650.0, -564.71, -693.5, -810.0, -702.0, -1075.08, -940.85, -1800.0, -725.12, -407.98, -382.78, -375.64, -535.42, -661.4, -620.83, -378.7, -1609.62, -792.89, -354.18, -407.67, -576.78, -848.62, -435.01, -548.44, -834.46, -1035.94, -465.75, -424.94, -747.37, -467.1, -1115.63, -403.07, -512.4, -695.11, -351.0, -537.63, -1539.0, -432.05, -442.95, -369.87, -756.0, -701.28, -451.73, -566.92, -359.36, -372.3, -495.5185, -789.9, -1074.86, -912.6, -373.24, -606.09, -677.44, -466.65, -585.44, -1100.46, -436.56, -390.66, -1228.11, -574.63, -409.65, -403.79, -1676.26, -434.54, -565.92, -2986.47, -352.8702, -387.54, -1590.52, -1881.01, -1201.9, -784.44, -1056.32, -432.88, -477.13, -1174.85, -6221.32, -749.2153, -799.59, -370.44, -1307.18, -648.0, -438.18, -634.44, -951.85, -362.81, -388.81, -750.97, -971.3, -598.02, -375.7413, -420.0, -457.19, -350.67, -853.74, -775.55, -540.0, -518.86, -1990.41, -374.37, -347.66, -895.9, -408.51, -596.58, -721.32, -1434.27, -927.0, -586.73, -1557.68, -369.9, -502.02, -617.86, -1418.75, -540.0, -432.59, -433.64, -804.72, -473.26, -348.61, -463.29, -1242.46, -372.55, -706.06, -839.7, -990.0, -1272.82, -344.5, -866.17, -460.19, -761.41, -1009.8, -1728.28, -837.54, -757.24, -462.52, -976.03, -1424.22, -525.3, -343.34, -725.9, -590.13, -375.0, -518.59, -765.9564, -1292.48, -415.9875, -457.828, -1098.62, -975.2508, -434.56, -572.72, -574.84, -832.2, -391.0, -368.2, -375.72, -421.63, -586.3, -382.5, -1151.57, -1441.5, -661.5, -439.5, -870.34, -527.0, -3036.0, -1820.88, -444.18, -675.81, -400.09, -1085.4, -523.25, -1468.55, -708.39, -1135.4, -652.33, -629.17, -557.9, -428.12, -429.54, -4865.08, -1330.11, -1548.57, -682.5, -405.49, -486.0, -757.14, -1530.74, -768.47, -1510.6, -594.27, -2429.68, -982.55, -356.52, -3927.8, -972.66, -1499.97, -459.9, -469.19, -422.52, -921.96, -540.0, -510.0, -859.74, -810.0, -742.72, -2250.0, -368.02, -378.13, -351.55, -481.8, -380.38, -735.48, -596.25, -395.15, -365.48, -343.27, -501.04, -1097.4, -600.0, -650.22, -736.64, -727.11, -576.13, -781.48, -410.58, -1681.49, -725.24, -434.0, -586.56, -386.2, -858.1361, -1842.89, -473.4, -359.54, -3183.03, -1006.97, -352.8, -2015.22, -612.93, -815.43, -1499.31, -589.3, -358.29, -1230.83, -423.53, -443.74, -528.9, -825.0, -455.17, -1232.41, -388.89, -602.69, -1140.0, -883.32, -1511.78, -662.32, -1436.92, -1350.0, -739.8, -585.0, -740.93, -791.63, -499.5, -342.19, -2160.0, -821.86, -420.12, -1369.61, -464.1, -476.82, -812.7, -469.26, -422.24, -528.38, -348.1, -619.11, -386.92, -990.55, -479.0, -2068.03, -821.48, -1526.54, -513.0, -1612.92, -461.84, -2700.0, -923.15, -454.8, -391.0, -493.04, -1124.18, -726.1, -743.69, -3417.5, -345.79, -513.72, -573.18, -481.225, -1449.96, -362.55, -902.0, -1006.68, -1255.75, -360.8, -360.0, -1046.09, -372.95, -494.04, -492.29, -506.13, -594.83, -438.23, -405.55, -570.16, -425.13, -663.1, -342.0, -646.38, -751.19, -499.5, -992.79, -1000.0, -395.47, -415.98, -793.71, -398.83, -2255.76, -1010.75, -1051.99, -518.6, -1609.86, -565.16, -540.0, -675.0, -811.59, -1136.92, -825.0, -519.84, -1885.28, -495.38, -487.77, -920.53, -460.08, -504.3, -704.64, -428.23, -1219.77, -369.39, -1417.5, -520.05, -442.34, -3280.5, -3600.0, -658.37, -423.1, -373.0, -760.46, -2219.94, -658.01, -616.9613, -345.23, -580.02, -1294.71, -583.03, -918.5407, -1252.41, -360.0, -363.66, -451.82, -891.61, -960.46, -698.84, -489.34, -4456.62, -624.1, -538.98, -483.03, -955.31, -1015.85, -1475.3, -424.57, -682.51, -795.45, -814.67, -1012.5, -1275.0, -577.42, -379.69, -579.11, -423.7, -672.83, -720.0, -673.33, -491.32, -1011.67, -479.98, -908.45, -499.8, -471.75, -450.0, -837.48, -462.92, -369.0, -558.23, -404.01, -1460.74, -863.82, -392.06, -453.02, -1231.6, -4241.95, -431.6132, -2889.0, -573.38, -767.4, -427.04, -2691.36, -730.66, -2309.17, -1166.27, -919.25, -1123.67, -760.37, -571.49, -639.67, -496.33, -416.29, -404.34, -363.72, -717.33, -437.71, -523.59, -2052.0, -597.45, -1282.2, -757.7824, -527.32, -451.61, -675.0, -625.59, -1092.52, -872.1, -444.15, -609.21, -933.12, -470.07, -406.4263, -793.04, -1935.14, -1200.0, -547.02, -672.94, -530.76, -993.55, -598.24, -827.97, -519.9, -765.0, -500.73, -561.2, -720.0, -1217.34, -1401.45, -454.89, -351.52, -1213.99, -635.48, -719.1, -1246.25, -680.1257, -2437.13, -560.6958, -2323.26, -482.06, -457.46, -533.38, -556.25, -1233.75, -352.95, -527.65, -1103.49, -1296.0, -603.64, -645.48, -970.54, -737.09, -1518.0, -1215.0, -1982.55, -630.7724, -477.26, -445.62, -1273.79, -562.62, -361.94, -540.0, -445.52, -2973.52, -470.85, -436.25, -350.63, -1485.0, -1416.14, -925.0, -473.29, -578.73, -354.16, -411.8, -600.0, -736.8, -348.78, -686.66, -807.82, -405.38, -396.29, -1001.04, -399.52, -763.8, -486.0, -1261.65, -405.0, -453.38, -412.69, -600.6, -502.89, -832.07, -358.82, -1519.1807, -423.7, -357.33, -1008.77, -667.98, -431.97, -434.15, -478.97, -357.0, -417.94, -343.51, -498.45, -653.0, -779.53, -450.7149, -483.8, -454.26, -1042.4276, -1361.7, -375.04, -488.46, -441.42, -388.4, -611.75, -505.73, -615.96, -2279.88, -1407.4, -619.58, -699.72, -364.96, -701.46, -520.31, -880.0, -763.73, -512.38, -769.03, -713.4, -443.28, -945.0, -522.69, -557.35, -442.15, -998.81, -344.91, -852.3, -798.0, -381.39, -741.6, -543.56, -1231.23, -356.09, -557.55, -645.24, -756.0, -984.73, -520.85, -347.71, -402.9, -347.73, -510.33, -401.29, -1092.3, -598.2, -474.41, -440.2, -454.76, -854.7, -462.93, -382.84, -1436.22, -552.0, -351.6, -393.5, -896.18, -472.5, -747.98, -1877.49, -1646.59, -774.9, -553.5, -382.05, -445.37, -615.47, -1564.87, -508.66, -663.53, -1650.0, -551.33, -434.03, -567.0, -366.69, -600.0, -489.38, -452.83, -1854.33, -983.55, -390.91, -1261.85, -1458.14, -698.94, -536.93, -1500.0, -388.92, -399.5, -355.09, -1996.86, -434.68, -1753.77, -2259.78, -1147.54, -572.82, -476.59, -987.25, -489.75, -456.12, -348.65, -509.32, -439.26, -385.53, -345.67, -1046.25, -715.25, -503.99, -438.86, -525.0, -1302.3, -790.52, -2165.03, -350.58, -489.8562, -593.42, -379.8, -611.35, -391.49, -594.0, -1494.0, -806.53, -423.48, -867.59, -1170.31, -1712.97, -358.09, -1385.22, -827.77, -864.88, -347.48, -369.1681, -357.94, -1136.84, -805.45, -420.0, -360.32, -940.6, -1039.5, -738.86, -516.58, -962.24, -696.33, -469.52, -776.5, -420.0, -866.42, -1141.78, -344.25, -567.9, -563.46, -730.23, -435.57, -997.6, -798.97, -573.16, -765.33, -964.02, -741.52, -431.13, -398.61, -541.29, -630.0, -411.31, -650.3598, -1697.1221, -533.45, -615.26, -345.46, -495.75, -2095.94, -435.71, -346.6, -458.8, -354.65, -675.0, -732.8065, -559.1, -1282.4876, -527.95, -833.9, -900.0, -2269.5291, -1377.74, -517.08, -431.09, -342.42, -720.0, -1029.34, -769.5, -449.06, -433.1, -1891.47, -1350.0, -419.74, -372.0, -983.1123, -599.69, -401.94, -525.0, -745.81, -587.3153, -487.34, -1494.78, -407.99, -375.0, -508.85, -3773.33, -880.2, -1051.59, -581.5088, -1020.0, -539.02, -1880.53, -539.45, -1702.84, -384.23, -356.94, -487.15, -578.17, -945.0, -516.41, -657.56, -1500.0, -631.78, -933.96, -423.8464, -761.6653, -629.33, -402.15, -405.19, -420.38, -689.31, -405.84, -898.23, -801.97, -377.53, -446.9, -2755.56, -464.8, -1151.26, -993.9, -360.3, -385.91, -663.43, -588.6, -833.0, -405.0, -2633.65, -2096.0, -750.0, -1161.99, -852.0, -430.76, -536.11, -622.31, -710.8336, -810.0, -1500.0, -606.6353, -1981.16, -1238.96, -686.14, -382.72, -905.8, -540.0, -910.36, -1817.24, -1058.61, -527.16, -1080.0, -548.39, -1151.46, -504.98, -459.69, -748.24, -548.7202, -420.67, -466.27, -432.06, -566.47, -1432.65, -511.57, -374.64, -625.0, -497.77, -665.54, -364.58, -371.2, -1079.09, -381.55, -975.27, -456.96, -652.63, -934.6, -881.39, -581.86, -614.32, -961.29, -1770.0, -1006.37, -342.47, -2728.71, -351.86, -361.2, -409.0, -558.0, -549.86, -379.77, -467.98, -957.94, -709.8785, -686.9, -898.92]\n",
            "outliers in column  LP_GrossPrincipalLoss  have outlier  [8787.08, 13880.95, 9469.1, 8763.73, 17014.93, 18521.9, 12573.23, 9349.29, 8752.46, 18287.51, 15754.99, 14338.47, 15471.21, 15000.0, 9476.11, 8797.49, 12554.61, 8143.32, 9802.65, 8597.7, 16781.79, 10748.16, 11953.8, 8763.57, 10350.65, 8476.16, 24433.23, 10719.07, 11026.89, 25000.0, 14521.27, 10725.2, 22542.68, 13603.88, 9228.33, 13201.48, 12607.62, 14881.08, 10534.99, 7907.05, 14690.36, 13761.46, 11194.97, 12793.38, 9435.76, 14444.96, 16707.55, 7970.55, 10000.0, 12000.0, 9642.09, 9392.95, 11886.9, 17164.77, 22317.52, 14341.89, 11817.12, 15305.3, 10000.0, 15809.54, 13914.92, 13535.32, 11417.74, 23446.68, 13727.9, 17309.32, 14477.05, 20591.08, 11197.18, 19543.35, 10054.15, 22586.28, 14742.55, 8314.61, 13271.51, 14325.56, 12982.78, 11935.1, 9798.92, 15993.42, 9452.59, 18917.1, 16447.88, 14221.24, 14934.35, 8384.64, 10536.02, 8244.52, 12024.38, 23928.5, 8941.25, 8407.3, 14534.34, 11648.53, 8266.44, 12655.78, 17526.78, 8763.3, 8656.93, 19189.1, 14921.85, 8435.61, 12132.28, 9630.7, 17663.43, 12632.94, 14876.96, 8486.25, 8775.19, 8415.4, 25000.0, 18183.93, 13979.53, 9433.44, 12029.89, 9911.16, 8912.49, 12041.72, 13375.17, 9359.06, 14423.65, 15727.21, 12207.22, 12550.59, 13115.61, 9834.29, 13857.93, 11209.66, 13307.6, 9845.78, 13589.99, 13455.94, 9212.55, 14314.33, 14181.92, 23908.57, 12288.19, 19337.99, 19054.63, 9668.05, 14249.97, 9328.08, 16502.04, 19066.64, 14710.99, 12687.07, 16020.23, 8263.32, 11776.4, 11383.21, 9823.56, 7932.74, 8345.01, 10582.47, 9340.31, 11311.4, 8105.48, 9074.47, 12202.61, 9827.24, 12173.88, 24508.52, 9558.07, 10601.5, 8696.77, 18366.71, 12220.13, 16810.0, 18258.39, 16487.29, 9970.28, 12337.66, 11951.83, 12070.31, 15908.6, 16826.74, 8043.35, 9069.7, 24162.14, 9067.97, 21023.42, 9754.62, 18228.91, 9878.55, 12384.25, 11343.2, 17603.35, 11906.11, 10292.81, 22514.48, 15395.37, 14540.65, 9798.22, 11171.08, 11638.42, 10870.02, 9348.32, 8806.62, 23349.45, 8330.99, 14550.73, 18718.71, 8242.67, 13064.49, 18810.58, 14421.45, 21519.0, 13878.76, 9053.04, 12121.54, 11930.3, 8250.0, 14521.27, 13300.62, 12990.82, 11699.54, 19613.05, 22561.91, 10685.73, 14615.09, 13740.05, 9600.05, 8812.02, 9803.02, 10243.9, 8526.94, 9889.11, 13597.76, 14743.11, 9958.07, 9088.35, 11001.2, 9467.05, 15761.0, 8425.53, 15509.37, 10711.63, 13897.43, 10747.56, 8846.73, 11292.15, 9560.65, 10146.36, 8481.86, 19420.0, 15973.84, 12828.1, 11145.01, 14198.81, 11716.88, 10866.82, 12544.64, 9800.91, 9357.65, 9944.86, 9810.77, 12037.96, 8195.22, 8047.57, 9197.58, 8259.09, 8660.28, 9510.76, 14022.15, 9331.36, 13027.24, 10365.78, 21939.13, 17406.06, 13201.61, 23398.85, 10314.0, 7969.15, 22622.13, 9784.7, 17547.76, 12043.51, 8157.47, 15758.46, 8957.89, 12181.27, 8844.42, 19663.52, 13458.81, 13683.87, 12207.02, 11396.5, 7973.84, 18145.43, 10141.0, 10833.31, 10258.43, 9224.21, 11105.1, 14533.4, 15231.77, 22148.43, 8621.67, 14520.05, 11940.11, 19462.3, 10683.45, 17395.51, 8797.82, 9000.0, 13768.96, 11807.38, 14396.85, 17882.7, 8862.21, 8650.14, 9378.46, 12075.11, 11438.02, 14252.87, 8873.81, 9592.53, 16498.38, 13728.11, 16512.73, 9221.11, 13963.51, 12158.84, 9847.82, 8257.77, 9923.85, 9749.82, 17757.62, 9520.54, 11107.25, 13405.94, 11355.76, 11797.94, 12001.1, 11679.14, 17700.74, 24317.92, 9089.94, 14874.15, 13057.33, 11187.5, 10588.13, 9669.78, 9993.43, 8688.64, 9416.59, 9761.7, 13589.11, 9640.66, 11967.98, 8267.51, 12589.76, 19133.96, 8437.57, 13343.39, 14393.93, 8657.62, 10360.77, 14651.79, 11571.73, 12052.63, 7967.57, 9559.7, 12978.62, 8028.2, 13523.08, 13277.2, 11284.51, 14414.11, 9547.96, 8526.02, 9794.27, 19549.54, 9695.21, 12732.5, 8313.09, 14634.09, 17710.29, 12176.07, 12414.26, 12565.55, 14685.59, 11587.93, 10346.48, 18795.62, 9024.65, 18292.52, 12215.23, 9031.89, 10615.91, 9620.28, 21957.43, 9206.41, 13311.07, 10432.0, 9752.05, 11376.39, 14742.55, 15601.83, 12421.67, 13819.72, 19977.93, 15423.3, 8373.51, 9502.43, 9233.14, 13936.45, 8012.95, 7962.6, 12954.79, 19428.49, 10797.85, 9840.06, 10266.71, 14561.7, 23406.49, 8817.48, 20768.31, 14660.65, 8303.6, 12621.18, 13441.43, 12626.41, 8047.12, 10525.55, 11906.01, 8349.25, 8825.3, 10000.0, 9139.39, 7950.38, 9058.45, 10650.51, 22708.73, 10758.66, 23876.5, 12867.49, 13227.68, 8670.28, 23069.91, 13249.85, 15000.0, 7998.72, 9614.46, 20604.69, 10000.0, 14106.79, 14910.01, 10599.27, 10033.48, 9004.67, 7898.77, 14204.78, 10482.41, 11393.48, 8622.64, 15519.51, 8439.18, 20180.4, 8826.04, 12719.01, 9746.41, 20519.86, 8301.4, 15744.05, 9812.26, 12529.95, 9323.59, 11884.37, 8684.72, 8841.51, 15777.4, 19199.43, 14099.64, 20747.12, 10832.65, 11840.91, 11673.58, 8119.45, 14444.66, 16616.12, 9355.57, 10945.41, 13995.54, 9123.81, 13610.25, 7883.81, 8443.12, 8552.87, 18024.54, 14112.31, 9147.43, 13571.27, 10089.83, 13167.39, 8218.1, 13221.28, 10223.87, 10488.05, 9668.91, 10706.19, 8262.13, 11954.13, 11313.41, 13848.33, 13707.12, 14629.09, 14165.71, 10896.18, 11297.64, 18589.35, 12470.93, 15221.6, 18632.86, 11105.72, 13593.22, 8921.05, 11546.7, 9559.16, 11134.32, 8911.86, 10243.8, 8025.1, 9733.19, 8904.65, 12790.51, 10554.27, 22131.96, 19672.29, 7890.14, 9517.97, 14361.7, 10590.53, 8472.85, 23960.62, 7873.29, 11723.84, 19032.52, 13814.23, 8402.91, 11744.94, 8242.5, 14317.77, 15451.62, 16606.83, 15067.52, 9202.2, 20233.01, 17666.02, 9510.31, 13030.94, 17845.76, 14881.32, 9067.03, 14480.71, 9096.09, 10710.55, 10518.02, 10590.64, 19518.16, 9282.42, 8762.27, 16065.46, 17883.68, 16336.48, 9783.35, 9810.87, 13800.26, 8458.4, 12806.1, 8076.66, 9944.26, 11805.34, 16846.57, 14450.0, 13901.54, 19544.74, 23068.91, 14523.5, 13368.41, 14857.6, 9439.87, 19602.0, 17753.57, 7969.47, 9383.34, 9436.34, 7969.42, 14023.15, 9270.63, 11708.96, 11103.97, 8020.16, 10466.81, 22841.21, 9070.29, 11723.61, 9554.68, 9623.68, 14038.6, 9688.74, 10268.56, 13306.58, 13835.02, 14198.97, 9482.75, 13957.7, 14132.82, 11257.45, 9771.91, 9797.26, 12223.7, 8910.18, 17772.37, 7928.02, 9854.49, 8700.22, 11346.5, 8306.93, 8234.0, 8871.36, 14295.13, 16539.6, 10495.49, 19117.97, 10362.59, 9050.8, 15000.0, 23000.0, 8805.18, 9417.86, 12551.46, 10243.9, 12298.46, 14427.37, 14771.33, 12968.17, 14158.43, 8174.07, 14059.2, 9804.26, 16331.37, 11196.83, 8685.78, 17340.8, 12009.59, 22004.86, 11433.97, 9807.58, 9145.13, 15031.05, 15000.0, 12674.95, 19769.55, 9589.22, 8410.19, 10000.0, 17115.9, 10342.36, 10622.69, 16112.05, 9479.85, 9374.42, 7908.85, 10861.96, 8475.5, 10623.87, 11520.29, 8557.95, 13937.87, 14095.0, 16883.81, 15525.34, 16613.58, 11418.78, 11685.81, 9799.6, 9244.06, 8842.0, 9931.86, 9393.01, 9017.18, 13896.71, 13696.41, 14753.97, 14333.33, 22283.33, 9282.47, 11039.07, 22161.84, 9572.93, 8233.49, 12649.73, 18280.87, 8999.11, 22875.67, 9690.67, 13254.47, 13177.02, 10349.86, 14000.76, 23452.35, 13530.19, 12735.83, 11476.21, 9280.57, 9928.86, 9200.89, 8997.89, 11672.47, 8559.84, 8119.23, 23929.54, 13442.66, 11725.28, 14955.79, 11680.37, 18144.85, 14679.88, 9567.82, 10823.99, 12167.2, 11113.78, 14941.11, 10470.28, 10158.61, 11257.05, 15267.52, 13390.59, 9226.04, 13055.14, 10828.65, 13430.81, 11840.8, 20327.92, 13109.64, 8238.08, 18582.42, 16304.62, 13973.74, 12800.1, 9560.55, 21571.91, 12707.59, 8388.77, 11452.03, 10466.36, 15004.95, 14321.47, 9058.73, 13367.02, 18162.74, 14113.3, 10415.1, 8444.93, 10125.22, 15790.78, 17983.51, 10534.31, 11505.76, 9801.94, 17878.4, 14263.42, 21974.03, 14391.04, 14715.48, 9592.18, 15000.0, 7988.59, 12419.76, 11077.4, 21539.69, 17500.93, 12423.11, 23855.55, 9013.17, 8697.06, 17051.95, 14350.36, 17438.68, 10021.6, 8023.13, 9404.55, 23001.26, 9072.76, 13891.91, 8851.12, 10153.61, 8795.58, 15208.98, 19966.25, 13848.43, 17497.77, 10070.2, 24528.77, 12482.57, 16406.39, 11670.25, 10000.0, 11412.35, 9570.73, 9110.6, 9808.28, 18926.92, 8246.35, 9593.0, 8774.68, 16771.08, 9460.85, 14334.75, 18548.29, 8673.61, 10000.0, 14784.38, 12967.16, 21412.95, 8198.16, 20000.0, 14657.15, 13371.73, 12539.37, 8173.52, 8373.69, 14217.16, 22416.69, 11108.64, 8296.34, 11759.8, 14221.29, 12560.28, 9557.01, 21722.78, 9588.68, 12243.13, 13572.17, 13896.39, 17415.23, 9622.77, 8252.15, 8575.04, 8242.13, 14411.81, 18932.16, 17553.62, 9540.84, 9040.68, 19461.18, 17529.05, 10890.95, 14341.89, 8696.29, 8111.7, 8655.87, 11402.48, 12654.64, 9849.79, 8781.89, 14568.92, 11890.84, 9097.58, 11807.28, 14021.15, 13442.49, 9036.11, 11192.16, 13725.39, 8558.44, 9812.39, 14334.51, 8246.97, 10394.32, 14604.74, 21500.0, 12362.87, 9670.7, 13101.34, 13746.27, 10545.02, 11310.6, 12865.55, 22049.68, 8356.9, 8293.97, 8892.29, 9690.57, 7911.01, 13619.95, 13572.57, 9550.04, 8082.86, 25000.0, 11901.46, 8547.79, 23118.8, 14578.97, 16130.76, 8015.92, 17637.09, 8258.8, 9098.13, 18425.6, 14133.61, 13427.76, 11896.21, 9033.99, 13485.88, 8635.18, 14136.21, 9012.6, 9893.47, 21845.02, 14310.72, 9344.41, 12334.42, 21284.18, 8565.8, 9088.89, 9566.98, 10000.0, 10000.0, 9287.99, 10757.86, 9754.09, 12771.5, 20119.62, 8782.81, 17356.57, 20853.53, 8953.82, 9953.25, 23867.6, 8148.87, 8324.34, 7975.88, 11651.54, 13163.55, 9000.0, 14209.69, 17417.76, 13071.63, 13172.64, 9222.81, 8680.36, 14656.78, 13401.92, 9318.03, 14476.24, 9598.79, 12136.32, 18146.79, 8510.69, 16469.33, 14259.32, 14866.3, 20980.42, 11527.87, 11888.87, 8273.54, 14881.08, 12711.29, 23549.11, 14679.14, 9532.93, 10097.0, 21086.63, 10569.0, 14259.9, 8593.12, 8418.3, 12973.69, 8376.54, 12593.25, 8693.88, 9837.74, 20799.57, 10342.98, 13347.06, 20231.84, 14560.33, 9223.86, 15647.41, 21436.98, 8697.75, 9812.21, 13270.83, 8347.21, 10689.98, 12161.38, 18263.0, 14427.18, 8293.17, 12500.0, 11130.52, 10886.63, 14412.04, 9603.38, 9119.64, 9354.46, 12273.88, 9577.73, 11452.11, 17134.64, 16903.61, 9000.0, 8000.0, 15979.8, 13696.48, 14732.7, 17260.24, 11613.48, 14711.21, 15003.6, 7995.13, 9262.62, 9626.22, 16854.83, 12269.36, 10484.51, 9409.66, 9556.49, 20000.0, 16067.39, 13344.02, 11256.44, 13478.68, 8150.56, 18583.37, 10597.21, 18327.19, 13892.2, 14546.81, 10563.69, 9890.14, 7981.11, 10447.42, 21661.36, 7972.59, 15487.28, 9918.52, 16187.76, 21763.23, 9115.29, 12886.32, 24548.25, 9022.02, 9695.48, 13582.91, 15926.54, 13287.19, 9264.82, 20838.56, 19547.99, 14418.36, 9921.55, 10274.28, 13138.54, 14228.51, 14579.57, 8329.39, 8214.77, 21856.53, 12653.28, 10686.78, 14318.49, 9460.85, 15808.9, 10910.82, 9078.4, 24489.63, 11117.93, 9671.84, 21465.15, 8452.9, 20135.02, 13478.1, 11117.27, 9144.91, 9393.72, 8605.16, 17257.42, 19155.84, 14078.3, 10330.2, 12512.7, 8590.16, 10798.6, 14483.78, 16366.8, 18699.08, 8579.29, 9775.49, 12619.97, 13102.1, 8725.93, 8294.29, 20376.3, 8743.39, 8088.43, 10535.97, 14209.37, 8699.53, 9909.89, 10951.05, 9800.0, 8331.11, 22527.42, 8207.95, 8642.27, 13929.2, 14205.77, 8302.59, 16168.21, 19514.59, 13641.11, 11446.82, 17787.2, 19043.52, 17200.43, 9725.0, 7991.63, 12416.66, 8164.55, 8677.89, 19980.02, 9223.58, 17625.98, 8221.15, 18860.81, 9516.26, 7878.26, 9765.63, 23868.43, 13947.06, 16664.28, 15353.48, 16491.68, 9124.55, 11774.06, 15907.08, 8281.63, 14582.95, 12906.61, 17688.68, 12610.69, 11728.34, 9222.81, 20268.47, 8984.24, 22669.3, 13644.33, 13209.05, 19236.46, 11454.26, 12922.61, 8222.32, 14628.44, 13270.87, 19221.42, 12548.23, 11436.27, 19704.62, 8827.1, 10000.0, 12226.93, 8382.03, 21355.87, 14409.5, 14536.44, 14772.34, 9438.43, 7945.51, 18550.62, 9171.66, 11197.05, 8130.64, 12372.8, 24469.46, 15834.79, 13000.0, 14306.91, 12123.34, 9665.43, 13725.29, 12763.87, 15713.65, 11015.26, 14058.22, 13721.5, 22582.17, 13715.79, 13069.0, 9123.79, 9406.41, 10526.32, 12349.67, 8195.54, 8310.15, 12724.43, 14503.19, 9294.29, 14420.97, 15296.3, 14254.26, 9050.95, 13593.14, 9711.31, 8531.7, 12799.72, 19593.47, 17607.72, 11113.98, 16976.19, 8155.67, 23580.33, 8911.23, 19228.63, 9108.13, 12376.94, 9814.47, 23857.17, 16094.09, 9459.01, 20000.0, 8903.91, 11912.16, 16265.48, 13775.5, 9901.68, 8119.45, 9246.61, 10452.71, 11660.36, 13991.56, 13455.27, 14675.51, 11952.59, 13210.15, 25000.0, 11858.8, 24436.49, 9817.31, 13522.88, 8193.58, 9102.22, 21810.97, 13591.71, 23280.16, 13628.71, 13091.81, 14008.9, 14432.02, 8263.39, 12106.99, 10460.05, 16670.11, 14315.88, 16146.83, 16785.1, 11923.63, 12701.13, 9333.19, 8898.05, 12315.66, 12748.49, 16150.58, 10393.31, 18575.02, 8530.23, 18819.82, 9391.71, 11642.63, 9212.63, 16736.55, 8184.47, 10971.84, 8321.46, 14456.94, 10590.53, 10810.47, 8054.17, 13750.85, 11862.51, 7921.44, 11458.22, 8022.8, 21923.97, 8080.05, 19199.54, 8127.27, 11167.89, 8653.47, 14663.3, 9222.81, 13975.63, 11890.65, 9070.79, 10038.01, 20383.68, 23265.68, 12381.26, 11812.93, 19435.29, 11321.04, 23039.78, 9544.17, 10788.25, 21259.24, 8306.19, 9364.86, 9270.26, 11896.82, 10697.37, 14376.5, 19403.8, 13462.42, 8264.79, 10497.75, 12645.85, 14332.5, 16164.14, 22271.12, 11859.1, 8966.31, 9523.78, 21851.23, 21740.34, 20898.36, 12431.89, 22048.58, 8462.81, 12355.54, 9081.36, 22947.59, 10718.8, 12723.42, 13637.35, 12776.48, 9379.34, 13880.42, 9632.53, 15073.78, 9613.28, 13947.38, 12553.53, 13232.09, 25000.0, 9773.26, 8599.77, 10873.6, 9444.85, 13005.97, 22037.65, 8362.01, 11146.83, 12987.5, 12213.83, 18918.99, 9630.4, 19785.13, 10779.1, 13435.68, 9606.91, 9076.49, 10888.8, 22385.86, 10961.73, 12998.95, 9145.75, 20282.5, 8114.73, 10529.27, 12673.92, 8000.0, 9503.15, 18635.55, 14895.04, 8567.26, 12184.39, 10757.02, 9460.22, 13365.89, 8137.32, 13606.73, 14930.49, 13288.84, 12321.0, 10187.62, 21139.6, 11226.86, 15301.18, 11179.77, 14741.76, 8427.19, 11863.91, 23109.03, 9703.35, 7901.6, 13203.12, 9785.7, 9225.69, 18100.11, 9438.78, 8273.18, 21510.86, 8730.97, 12224.05, 15012.82, 14702.5, 14471.77, 12690.31, 10258.27, 14075.12, 13685.4, 10486.32, 12669.24, 8584.32, 12751.75, 9502.61, 11539.78, 11042.29, 14889.82, 9146.22, 8285.93, 8945.38, 8435.03, 8697.32, 9357.37, 14100.58, 23317.33, 8490.4, 13254.38, 12301.58, 9692.31, 8298.57, 12658.04, 13468.36, 10101.34, 11187.78, 13019.9, 9219.41, 12043.51, 14028.54, 8708.93, 14714.71, 14683.17, 8107.06, 14327.02, 10138.48, 9517.27, 11585.89, 18587.79, 7900.41, 10377.23, 12978.79, 8937.01, 13172.64, 22164.31, 13585.37, 9055.24, 20999.3, 10173.02, 10817.72, 20850.74, 8746.5, 9563.23, 9354.65, 13741.66, 11088.55, 11703.2, 11618.63, 12534.44, 8435.16, 11347.84, 9543.28, 12282.61, 13040.33, 9117.13, 8339.82, 12282.26, 11010.89, 8712.43, 11149.82, 14241.58, 12476.49, 22780.95, 8347.36, 14637.5, 9560.64, 9475.72, 11393.66, 11922.55, 9527.86, 11518.42, 10505.54, 9790.42, 9927.88, 14766.23, 22931.49, 11360.99, 8913.98, 10001.35, 8852.64, 9703.13, 17599.2, 12715.0, 15451.97, 10629.18, 12169.73, 18750.05, 8430.55, 8337.04, 9768.49, 8141.59, 14219.29, 9094.25, 11555.77, 18288.34, 20512.18, 13627.8, 8200.0, 10706.47, 15301.14, 8827.42, 9155.98, 22405.25, 13808.22, 9080.17, 9008.8, 16133.62, 9761.29, 13779.12, 9435.84, 10529.31, 18894.39, 17610.51, 8348.22, 10734.1, 12372.63, 9747.53, 12970.58, 7913.72, 9434.82, 14570.67, 7941.56, 15569.83, 9992.36, 22033.68, 18096.86, 8793.08, 9703.53, 11466.08, 12209.32, 9758.77, 9358.77, 10323.79, 14564.11, 10856.32, 19394.73, 11450.48, 16855.32, 11731.25, 11497.87, 12611.38, 10000.0, 15295.45, 12094.82, 9643.39, 13688.39, 13836.0, 9369.26, 13899.42, 20811.51, 13041.59, 8334.12, 9219.65, 11570.91, 14396.05, 11411.79, 11083.17, 9204.72, 8604.98, 9822.62, 9118.4, 18096.15, 10105.68, 12800.1, 10000.0, 9328.05, 11382.92, 14143.58, 21062.79, 8934.09, 11017.6, 9759.35, 19433.88, 12737.33, 8466.4, 16682.52, 9349.22, 10812.54, 8473.89, 8583.7, 18246.2, 8543.87, 9732.37, 12050.54, 13048.72, 16271.37, 8230.72, 10704.98, 12675.4, 13365.45, 10791.5, 9207.84, 13619.09, 12001.55, 13585.37, 8947.89, 8521.54, 8907.05, 22361.23, 12371.52, 22720.79, 9569.87, 22035.56, 8977.0, 11336.7, 9821.03, 17872.61, 11068.99, 22694.47, 8916.94, 13476.34, 13346.93, 8777.89, 14404.06, 9360.76, 13633.87, 14516.02, 11753.11, 9844.5, 8547.38, 8285.09, 10327.98, 9212.85, 8710.85, 17966.48, 10813.64, 9391.09, 11321.89, 10990.72, 19534.48, 12312.49, 17844.62, 14757.97, 23992.42, 13720.9, 18099.03, 12603.66, 10293.97, 8270.72, 11594.3, 8970.73, 8190.48, 9809.66, 13396.72, 10000.0, 12951.46, 21677.86, 17146.7, 7930.1, 11697.7, 8433.17, 11383.82, 8492.19, 13990.73, 9350.27, 7920.7, 23955.25, 21216.76, 14235.5, 9493.1, 9808.09, 10053.84, 16833.83, 23983.69, 7920.25, 13592.65, 8627.21, 22782.48, 21282.94, 9435.93, 8598.4, 14012.06, 9835.37, 14287.75, 12990.59, 8109.46, 11523.43, 14030.81, 9394.04, 20575.09, 22566.66, 16150.51, 17080.74, 8160.95, 14666.43, 12929.72, 18684.15, 11597.86, 15508.92, 20987.55, 11457.86, 14666.31, 7898.03, 13398.08, 13766.75, 10241.86, 14361.94, 13498.03, 15864.14, 8081.28, 12793.65, 14340.97, 14860.28, 24013.39, 8368.16, 13818.99, 16940.89, 8497.69, 11642.52, 10854.95, 16306.86, 8196.97, 10842.28, 8110.94, 23969.15, 7872.59, 12143.61, 9014.97, 8433.0, 11564.77, 11119.36, 8452.93, 9331.49, 8006.3, 8969.27, 11909.49, 8348.31, 9316.27, 11478.54, 10686.2, 11828.98, 14711.47, 10381.17, 20000.0, 11254.91, 10256.67, 9882.28, 9209.95, 11968.37, 9248.9, 23348.82, 10978.81, 14181.75, 12545.42, 11845.31, 12779.26, 9185.06, 11195.57, 15231.6, 8912.06, 13125.45, 8507.62, 9587.65, 12794.09, 14740.86, 8307.99, 8951.05, 10000.0, 9834.51, 14022.94, 8108.23, 10028.19, 12050.05, 11676.78, 14337.03, 8404.55, 16341.34, 9652.55, 12720.27, 20000.0, 9257.43, 9606.25, 19770.39, 19593.91, 16965.23, 11266.05, 9379.4, 12756.95, 18168.69, 13878.61, 9488.38, 12336.72, 22256.62, 11889.51, 9667.64, 10798.52, 21552.16, 9798.34, 14867.56, 8113.14, 9844.21, 8640.64, 12510.86, 15386.89, 14678.53, 10584.51, 12766.59, 13227.21, 9167.2, 14492.25, 7997.86, 15339.92, 11593.78, 14541.03, 11153.7, 10500.0, 15856.67, 9790.85, 14305.76, 24000.0, 12865.92, 13057.32, 12276.53, 12146.21, 23435.17, 8893.32, 20881.0, 9504.03, 10586.98, 14388.82, 7952.39, 8417.38, 22787.39, 18233.96, 10784.09, 12218.74, 16160.17, 9753.64, 11111.41, 12933.78, 8955.23, 8453.39, 14082.46, 10484.61, 7926.16, 10853.28, 9917.01, 13340.03, 18358.35, 9817.92, 8852.89, 8310.25, 13513.33, 13486.12, 8150.23, 11985.02, 14225.82, 8808.76, 14740.86, 8502.26, 15695.02, 13322.22, 13346.8, 10921.44, 21610.11, 8969.73, 9562.84, 19877.13, 8452.71, 15774.91, 11355.84, 13745.39, 7998.58, 11040.87, 17715.34, 13917.34, 10103.29, 14005.01, 8901.35, 22346.37, 12272.92, 8258.05, 13037.94, 9793.14, 14790.67, 9003.14, 9127.24, 11764.28, 13750.85, 9436.6, 22466.49, 15235.36, 17759.91, 8497.8, 8966.23, 18502.34, 16226.33, 12074.68, 14212.82, 8529.69, 12076.61, 9486.48, 11274.61, 9502.0, 11015.64, 14253.56, 13437.09, 14164.08, 8767.74, 13843.13, 15000.0, 9614.81, 21960.7, 23104.17, 12870.11, 10320.48, 9630.13, 8379.28, 16200.98, 8655.8, 18904.12, 11001.57, 10820.08, 10290.71, 9195.3, 16845.53, 8331.39, 14677.51, 10061.55, 10534.83, 8671.97, 8054.27, 13994.33, 9484.01, 14221.63, 14384.53, 8605.56, 10759.41, 20699.5, 10038.62, 23937.56, 8319.01, 14781.85, 8900.27, 11376.97, 14806.9, 14367.64, 8931.02, 16243.95, 14255.14, 9896.71, 15856.21, 14702.89, 22673.48, 9737.0, 17736.37, 19356.95, 11977.12, 8798.66, 16035.57, 8308.91, 9402.11, 17367.63, 15645.37, 11452.96, 13779.71, 19640.46, 8767.48, 8203.05, 9842.02, 17676.05, 14343.4, 9124.81, 11866.13, 13159.63, 8970.17, 19777.86, 11771.12, 14536.06, 14175.59, 11597.39, 14156.82, 17099.59, 9283.46, 13234.28, 12673.48, 11945.34, 12086.62, 21616.88, 9895.76, 11771.91, 11751.55, 11237.81, 20000.19, 10884.85, 9586.43, 13412.56, 11799.93, 10466.77, 9738.92, 11644.15, 21828.54, 13707.38, 15913.59, 10752.68, 10634.67, 20964.77, 9938.53, 24439.5, 15345.7, 11437.76, 10261.29, 11538.93, 14711.38, 10000.0, 21467.64, 8214.1, 12763.15, 13344.4, 8870.65, 14086.54, 11230.96, 11765.28, 14957.59, 22871.57, 20902.3, 9593.97, 9225.88, 9711.65, 21745.87, 9542.77, 13322.38, 15847.13, 8627.26, 13285.22, 11199.8, 8933.66, 19623.01, 8844.83, 25000.0, 14542.58, 13669.88, 8867.67, 13945.47, 15348.28, 11207.41, 14542.34, 11477.78, 11775.82, 14469.83, 11904.91, 7874.6, 11011.61, 8081.76, 19635.83, 12961.79, 13881.29, 13250.59, 12174.52, 10214.76, 10482.02, 8542.3, 21427.66, 15813.97, 14591.97, 11254.68, 12511.89, 8903.59, 12312.47, 12227.94, 10259.47, 8499.77, 10887.36, 10187.29, 9407.12, 9626.22, 15804.84, 8819.76, 11298.66, 18866.47, 8111.36, 8862.89, 8124.12, 10643.71, 8084.13, 14052.3, 12337.02, 20262.61, 23080.44, 14354.18, 19077.53, 9995.33, 17435.75, 17244.05, 11532.69, 8266.59, 13703.35, 8497.98, 8596.54, 12769.04, 12282.91, 14867.09, 10954.0, 8486.53, 9041.72, 14253.15, 11063.14, 9020.31, 10046.41, 9315.8, 8689.61, 20192.58, 10492.88, 22852.75, 14120.66, 14509.02, 14290.22, 9397.59, 10990.29, 14629.09, 11808.15, 21951.1, 13645.61, 13566.55, 19807.0, 8407.06, 22738.37, 12091.4, 14154.28, 10033.61, 9630.7, 12414.05, 10692.6, 23926.1, 14097.52, 8741.7, 13001.29, 11969.48, 12890.05, 11234.38, 11398.51, 12040.54, 11645.27, 12680.59, 8532.48, 8859.02, 14671.12, 9265.92, 23139.29, 16841.63, 11990.98, 14421.45, 12787.04, 8377.84, 12183.03, 13000.0, 12809.57, 13586.51, 12588.98, 12634.48, 11397.73, 14366.87, 9963.95, 16911.69, 8746.37, 11893.71, 13908.39, 12122.75, 9436.93, 12893.24, 12968.38, 7937.45, 13356.76, 22840.75, 9776.95, 15183.37, 13768.62, 13823.81, 14727.42, 23811.88, 13469.93, 7901.9, 12506.42, 8659.76, 12960.05, 9392.02, 8305.69, 22184.74, 19644.38, 12670.84, 8205.71, 16720.69, 9610.93, 15000.0, 11081.54, 10178.79, 17898.76, 11489.07, 21923.83, 14984.16, 14581.3, 14641.99, 11518.96, 7897.49, 12180.04, 9222.81, 7965.35, 10438.63, 11142.47, 21195.46, 17445.86, 9213.85, 13877.76, 7967.19, 8255.78, 8312.19, 13180.3, 9998.97, 19695.44, 9615.71, 14005.23, 22875.67, 11177.5, 23324.01, 11753.77, 15892.49, 9603.38, 9179.93, 10577.29, 10369.38, 8028.93, 18366.7, 13158.7, 10210.86, 11136.72, 12886.5, 9846.77, 15258.77, 13291.34, 12803.42, 8882.14, 11725.28, 8906.11, 8669.17, 9949.39, 13583.36, 9136.98, 14362.58, 16425.91, 11447.72, 17890.82, 20661.94, 9417.49, 10235.02, 14057.09, 11913.02, 16294.97, 13536.73, 8000.0, 14488.85, 14180.86, 9883.72, 9019.34, 14011.29, 9917.97, 8759.91, 11393.18, 11154.8, 21139.69, 9404.49, 13603.88, 8059.72, 14373.74, 19871.76, 13026.49, 13082.09, 13365.24, 10930.94, 10000.0, 9618.04, 19521.7, 14109.41, 9186.54, 19395.56, 9036.82, 8446.04, 22550.37, 19890.36, 12636.15, 23682.79, 10264.16, 11310.67, 14746.32, 9102.72, 20948.54, 15416.26, 9931.04, 12690.2, 13790.97, 9130.37, 9399.53, 9643.69, 10981.85, 23422.18, 11333.77, 12020.72, 8729.17, 9312.37, 15576.35, 9051.9, 7985.81, 8744.66, 13985.57, 12102.6, 10648.91, 14628.77, 23323.91, 8218.01, 20811.51, 12502.5, 9311.74, 19642.13, 21556.22, 7889.66, 8629.9, 23164.93, 8098.46, 23510.47, 10258.19, 13082.76, 11310.12, 11808.36, 8555.01, 9640.52, 24740.46, 15030.7, 8825.81, 10465.26, 22794.9, 13777.6, 9516.01, 8000.0, 9920.3, 13109.62, 8487.7, 9311.5, 25000.0, 22627.41, 8022.49, 19020.3, 9286.15, 14158.65, 17734.72, 14354.18, 11873.66, 12409.61, 12566.69, 9269.03, 21481.15, 14656.09, 9026.84, 8873.43, 9263.29, 13314.48, 9283.62, 17648.01, 10817.62, 20662.88, 16413.59, 9698.67, 17529.05, 23564.27, 18392.41, 8914.85, 11967.5, 8804.55, 11839.94, 15704.9, 9018.64, 21822.07, 10396.42, 20957.87, 13258.7, 18717.44, 12505.04, 8885.02, 7926.36, 19833.13, 9661.44, 8547.12, 8155.85, 15000.0, 8140.79, 13429.49, 7930.78, 19081.92, 21356.7, 22989.98, 14091.71, 13839.03, 8984.18, 13513.49, 11767.32, 10905.97, 14085.11, 23567.06, 12070.04, 10000.0, 11709.09, 13145.01, 14070.92, 8500.0, 9916.98, 13489.86, 10519.48, 11708.04, 8081.58, 8978.2, 7931.81, 18437.09, 9105.63, 14684.41, 12277.24, 23459.07, 12195.12, 8421.03, 23213.31, 9431.83, 11252.17, 11430.92, 10675.3, 13872.19, 11087.83, 8405.61, 13634.82, 9679.05, 8234.69, 12208.4, 10507.96, 14396.64, 23716.9, 11639.13, 10179.67, 9319.56, 13764.17, 9837.29, 10935.87, 12043.1, 12202.54, 15958.03, 11791.87, 15802.61, 9419.82, 8325.03, 9965.85, 8386.31, 9622.98, 9621.7, 10093.45, 13102.23, 8408.53, 21349.37, 9922.9, 8587.35, 13473.71, 9744.32, 8887.95, 14026.33, 8706.31, 10636.56, 8236.16, 12432.0, 8692.66, 21427.53, 18220.34, 10000.0, 7885.06, 18279.26, 12466.2, 12531.85, 10554.62, 11188.91, 8591.4, 9433.84, 12572.77, 15717.84, 9443.56, 20640.32, 8627.77, 21025.32, 8076.3, 22250.23, 12223.4, 14298.34, 22754.89, 10957.52, 9032.6, 13829.64, 9874.32, 14850.12, 8223.68, 22698.91, 11022.43, 12143.55, 14292.02, 15858.04, 16208.32, 8858.2, 13646.36, 8418.75, 12891.91, 11143.12, 19563.58, 10303.1, 13041.43, 14568.66, 10550.75, 12733.44, 9815.56, 10648.93, 9047.64, 14028.38, 10021.15, 22740.28, 16353.12, 22890.17, 9559.19, 12781.63, 14461.7, 8635.4, 11654.15, 13397.55, 16873.71, 10773.13, 8720.09, 21797.77, 19053.36, 11258.75, 15477.31, 14439.03, 16911.99, 9066.49, 13028.47, 9750.68, 8218.22, 8117.78, 9538.47, 8534.34, 14371.72, 17408.12, 18260.31, 12734.77, 22047.46, 23394.9, 10024.52, 18136.92, 20428.51, 10238.87, 23857.74, 8077.26, 9636.3, 20991.4, 10697.77, 12482.24, 10385.96, 11072.95, 14308.7, 14039.17, 20400.24, 13657.7, 15988.78, 15958.38, 11960.11, 9577.43, 16963.99, 18937.72, 8992.47, 10533.77, 20856.88, 16593.35, 9967.92, 8955.1, 13723.55, 9613.66, 14059.08, 12036.45, 8441.68, 8607.88, 18990.24, 18850.57, 19156.1, 9772.64, 12794.04, 8063.04, 18601.74, 9218.85, 14151.77, 14326.95, 11659.81, 14724.15, 12738.55, 15161.95, 13320.67, 9229.19, 13533.3, 11658.49, 13342.84, 9547.35, 12521.02, 23671.85, 11360.56, 11458.34, 16000.0, 21101.78, 11067.85, 9377.28, 9033.76, 13803.68, 23869.31, 13302.85, 16505.69, 17178.08, 9146.92, 13723.06, 14575.06, 23226.9, 14486.38, 20794.57, 11088.18, 13483.82, 9425.97, 8745.99, 10807.86, 13551.51, 14204.33, 9414.87, 13632.77, 9670.8, 7963.96, 11818.1, 8402.19, 9234.08, 11101.72, 8563.58, 14050.11, 10753.52, 15000.0, 15362.08, 13531.26, 8831.15, 8300.17, 8726.13, 10757.6, 9918.3, 8155.06, 22766.29, 12585.59, 15680.38, 9225.75, 14331.8, 8756.91, 17136.11, 12961.23, 13953.64, 17733.56, 18028.34, 9708.83, 21925.96, 11559.72, 11719.72, 8434.25, 8615.77, 12785.76, 9131.14, 11885.86, 10936.88, 9238.34, 15379.2, 8403.07, 14323.23, 8806.12, 10509.99, 8433.83, 8204.66, 8405.46, 11601.11, 8122.16, 19544.78, 12000.0, 10155.06, 16473.17, 12752.48, 16930.18, 13334.05, 11307.35, 7992.36, 8118.97, 21928.43, 18693.11, 8636.08, 13650.82, 21782.9, 14090.03, 11325.91, 11651.83, 12227.44, 8961.11, 14035.73, 9531.87, 14050.39, 13215.62, 10911.94, 18297.23, 8564.08, 13445.9, 12183.33, 22925.81, 14551.81, 12678.57, 11965.88, 8731.57, 18441.85, 23164.62, 11509.03, 10142.55, 9005.76, 13739.73, 19464.72, 7911.18, 17890.86, 11157.62, 9123.32, 10778.33, 9644.6, 9246.09, 23766.15, 21150.59, 11762.19, 19005.45, 21576.11, 17281.06, 12545.16, 10756.57, 8907.55, 14287.0, 12298.49, 7958.52, 10797.31, 14978.91, 23935.07, 12961.28, 15142.78, 9207.78, 10093.83, 9500.0, 17952.68, 10455.07, 8823.61, 9787.95, 8379.4, 12831.96, 18367.46, 14211.51, 10735.4, 9407.4, 19232.77, 14364.17, 16240.08, 10627.33, 14000.0, 7905.9, 22947.73, 10000.0, 19900.73, 14471.77, 17314.78, 21134.57, 12623.79, 12259.82, 8024.14, 12044.17, 9067.9, 13324.28, 12180.06, 23082.86, 19615.76, 9561.78, 8695.36, 9146.5, 13905.48, 10696.09, 19053.9, 14770.14, 13816.75, 16887.75, 12812.7, 24597.9, 16545.54, 8904.85, 11236.32, 11993.67, 8802.82, 15016.13, 19463.91, 9437.13, 14715.55, 11540.89, 14487.49, 8911.93, 11378.88, 8151.24, 8829.71, 14447.68, 8810.65, 8579.04, 13815.52, 8750.0, 14370.71, 14409.11, 7884.81, 20390.97, 14500.0, 7929.55, 13188.86, 11934.47, 9832.8, 17793.62, 7933.39, 21570.93, 9031.73, 8971.63, 8287.54, 9109.83, 19650.22, 24423.56, 8803.13, 22315.63, 12734.21, 9854.49, 14377.3, 8890.27, 11132.09, 9808.08, 12099.98, 8294.96, 11738.81, 9049.75, 12561.92, 11568.3, 22506.51, 9802.65, 8010.7, 8685.21, 9598.89, 8198.7, 11993.65, 14448.04, 9913.67, 25000.0, 14385.8, 8376.54, 14714.16, 8731.23, 11879.08, 8275.47, 8640.19, 11643.81, 12968.55, 9041.91, 17490.28, 9807.3, 8308.24, 12651.16, 13115.99, 13107.13, 11632.28, 19535.17, 9346.02, 14415.49, 22476.23, 11343.07, 7892.65, 8118.45, 10313.55, 8802.04, 8590.07, 11464.04, 18480.77, 7958.24, 9554.54, 18817.76, 7958.14, 10293.47, 23954.39, 11855.96, 10226.17, 9378.83, 11582.84, 8193.62, 11610.55, 22321.95, 8518.1, 16596.15]\n",
            "outliers in column  LP_NetPrincipalLoss  have outlier  [8745.06, 13880.95, 9469.1, 8757.48, 17014.93, 18521.9, 12573.23, 9349.29, 7770.65, 18287.51, 15754.99, 14338.46, 15471.21, 15000.0, 9476.11, 8797.49, 12554.61, 8143.32, 9802.65, 8597.71, 16781.8, 10748.16, 11953.81, 8758.48, 10350.65, 8476.16, 24433.23, 10719.07, 11026.89, 25000.0, 14521.27, 10725.2, 22542.68, 13603.88, 9228.33, 13201.49, 12607.62, 14881.08, 10534.99, 7907.05, 14690.36, 13761.46, 11194.97, 12793.38, 9435.76, 14444.96, 16707.55, 7970.54, 10000.0, 12000.0, 9642.09, 9392.95, 11886.9, 17164.77, 22317.52, 14341.89, 11817.12, 15305.32, 10000.0, 15809.54, 13914.92, 13535.32, 11399.88, 23446.68, 13727.9, 17309.32, 14477.06, 20591.08, 11197.19, 19543.35, 10054.14, 22586.28, 14742.55, 8314.59, 13271.51, 14325.56, 12982.78, 11935.1, 9798.92, 15993.41, 9452.59, 18917.1, 16447.88, 14221.24, 14934.35, 8384.64, 10536.02, 8244.51, 12024.37, 23928.5, 8941.25, 8407.3, 14534.34, 11648.53, 8266.44, 12655.78, 17331.28, 8763.3, 8656.92, 19189.1, 14921.85, 8435.61, 12132.28, 9630.7, 17663.43, 12632.94, 14876.96, 8486.25, 8775.19, 8415.4, 25000.0, 18183.92, 13979.53, 9433.43, 12029.89, 9911.16, 8912.49, 12041.72, 13375.17, 9359.06, 14423.65, 15727.21, 12165.49, 12550.59, 13115.61, 9834.3, 13857.93, 11209.66, 13307.6, 10050.08, 13589.99, 13455.94, 9205.68, 14314.33, 14181.92, 23908.57, 12288.19, 19286.55, 19054.62, 9668.05, 14249.97, 9328.09, 16502.04, 19066.63, 14710.99, 12687.07, 16020.22, 8263.31, 11776.4, 11383.21, 9823.56, 7932.74, 8345.0, 10582.47, 9340.31, 11311.4, 8105.48, 9074.47, 12202.6, 9827.24, 12173.88, 24508.52, 9558.06, 10601.49, 8459.34, 18366.71, 12220.13, 16810.0, 18258.38, 16487.3, 9930.16, 12337.66, 11951.83, 12070.31, 15908.6, 16826.74, 9069.68, 24162.14, 9067.97, 21023.43, 9754.64, 18228.91, 9878.55, 12384.25, 11343.21, 17603.35, 11906.11, 10292.81, 22514.48, 15395.36, 14540.65, 9798.22, 11171.08, 11638.42, 10870.02, 9348.32, 8806.62, 23349.44, 8330.99, 18718.71, 8242.67, 13064.49, 18810.59, 14421.45, 21519.0, 13878.76, 9053.04, 12121.54, 11930.3, 8250.0, 14521.27, 13300.62, 12990.82, 11699.53, 19613.05, 22561.91, 10685.73, 14615.09, 13740.05, 9600.05, 8812.02, 9803.02, 10243.9, 8495.45, 9889.12, 13597.76, 14743.11, 9957.41, 9088.35, 11001.2, 9467.05, 15761.0, 15509.37, 10711.63, 13897.43, 10747.56, 8846.72, 11291.79, 9560.65, 10146.36, 8481.87, 19420.0, 15973.84, 12828.1, 11145.01, 14198.81, 11716.86, 10866.82, 12544.64, 9800.91, 9357.65, 9944.86, 9308.44, 12037.96, 8195.24, 8047.57, 9197.58, 8259.09, 8660.27, 9510.76, 14022.15, 9331.36, 13027.24, 10365.78, 21939.13, 17406.07, 23398.84, 10314.02, 7969.15, 22622.13, 9784.7, 12043.51, 8157.47, 15758.46, 8957.9, 12181.27, 7801.95, 8642.12, 19663.53, 13458.81, 13683.85, 12207.02, 11396.5, 7973.84, 18145.44, 10141.02, 10833.3, 10258.43, 9224.22, 11105.1, 14533.41, 15231.77, 22148.43, 8621.67, 14520.05, 11940.1, 19462.3, 10683.45, 17395.51, 8797.82, 9000.0, 13768.96, 11807.38, 14396.84, 17882.71, 8862.22, 8650.14, 9378.46, 12075.11, 11438.03, 14252.87, 8873.81, 9592.54, 16498.38, 13728.13, 16512.71, 9221.11, 13962.26, 12158.84, 9489.71, 8257.77, 9923.85, 17757.62, 9520.54, 11107.25, 13405.94, 8189.35, 11797.95, 12001.1, 11679.14, 17700.74, 24317.92, 9089.94, 14874.15, 13057.33, 11187.5, 10588.13, 9669.78, 9993.43, 8688.64, 9416.61, 9761.7, 13589.11, 9640.66, 11967.98, 8267.51, 12589.77, 19133.96, 8437.57, 13343.39, 14393.93, 8657.62, 14651.79, 11571.73, 7901.35, 7967.57, 9527.07, 12711.25, 8028.2, 13523.08, 13277.2, 11284.51, 14414.11, 9547.96, 8526.02, 9794.27, 19549.54, 9695.21, 12732.5, 8313.09, 14634.09, 17710.29, 12176.05, 12414.27, 12565.56, 14685.59, 11561.35, 10346.48, 18795.62, 9024.65, 18292.52, 12215.23, 9031.89, 10430.63, 9620.27, 21957.43, 13311.07, 10432.0, 9752.05, 11376.4, 14742.55, 15601.83, 12421.67, 13819.74, 19977.94, 15423.3, 8373.49, 9502.43, 9219.83, 13936.45, 8012.94, 7962.6, 12954.79, 19428.49, 10797.85, 9840.08, 14561.71, 23406.48, 8817.48, 20768.31, 14660.65, 8303.6, 12621.18, 7979.54, 13441.43, 12626.41, 8047.12, 10525.55, 11906.01, 8349.25, 8825.29, 9004.98, 9139.39, 7950.38, 9058.45, 7787.32, 22708.73, 10758.66, 23876.5, 13222.57, 8670.28, 23069.91, 13249.85, 7998.72, 9614.46, 20604.69, 10000.0, 14106.79, 14029.52, 10599.27, 8007.87, 9004.67, 7898.76, 14204.78, 10482.42, 11393.48, 8622.64, 15519.51, 8374.7, 20180.39, 8826.03, 12719.01, 9746.42, 20519.86, 8301.4, 15744.05, 9812.26, 12529.95, 9323.6, 11857.55, 8684.72, 8841.5, 15777.39, 19199.43, 14099.66, 20747.12, 10832.65, 11840.93, 11673.58, 8119.45, 14444.66, 16616.11, 9355.57, 10945.41, 13995.54, 9123.81, 13610.25, 7883.81, 8443.12, 8552.88, 18024.53, 14112.31, 8818.89, 13571.27, 10089.83, 13167.39, 13221.29, 10223.87, 10488.05, 9668.91, 9878.67, 8262.15, 11954.13, 8391.08, 13848.33, 10326.5, 14629.09, 14165.71, 10896.18, 11297.64, 18589.35, 12470.93, 15221.6, 18632.86, 11105.72, 13593.22, 8921.05, 7821.31, 7865.69, 11150.89, 9559.16, 11134.32, 8911.37, 10243.8, 8025.1, 9733.19, 8904.65, 12790.54, 10554.27, 22131.96, 19672.31, 7890.14, 9517.97, 14361.7, 10590.53, 8466.65, 23960.62, 7873.29, 11723.84, 19032.52, 13814.24, 8386.82, 11744.94, 8242.5, 14317.77, 15451.62, 16332.82, 15067.51, 9202.2, 20233.01, 17666.02, 9422.11, 13030.94, 17845.77, 14881.32, 7844.36, 9067.03, 13859.44, 8614.01, 10710.55, 10518.02, 10590.64, 19518.16, 9282.42, 8762.27, 16065.46, 17883.68, 16336.47, 7781.1, 13800.26, 8458.39, 12806.1, 9944.26, 11805.34, 16846.57, 14450.0, 13901.54, 19544.74, 23068.91, 14523.5, 13368.41, 14857.6, 9439.87, 19601.99, 17753.57, 7969.44, 9383.33, 9436.34, 7969.41, 14023.14, 9270.63, 10464.8, 11103.97, 8020.16, 9310.09, 22841.21, 9070.3, 11723.62, 9554.68, 9623.68, 14038.6, 9688.74, 10268.56, 13306.6, 13835.02, 14198.97, 9482.75, 13957.7, 14132.82, 11257.45, 9771.91, 9797.26, 12223.7, 8910.19, 17772.36, 7928.02, 9854.49, 8700.23, 11346.52, 8306.93, 8234.0, 8871.36, 14295.13, 16539.59, 19117.97, 10362.59, 9050.8, 7846.12, 15000.0, 23000.0, 7772.87, 8805.19, 9417.86, 12551.46, 10243.9, 13999.19, 14427.37, 14771.31, 12968.17, 14158.43, 8174.07, 14059.2, 9804.26, 16316.37, 11196.83, 8685.78, 17340.8, 12009.59, 22004.86, 11433.99, 9807.58, 9145.13, 15029.57, 15000.0, 12674.95, 19769.56, 9589.22, 8410.19, 10000.0, 17100.86, 10342.35, 10622.69, 16112.03, 9479.85, 9374.42, 7908.85, 10861.96, 8475.5, 10623.87, 11520.29, 8557.95, 13937.87, 14095.0, 16883.82, 15525.32, 16613.56, 11418.78, 11685.81, 9799.6, 9244.06, 8842.0, 9931.86, 9393.01, 9017.18, 13896.71, 13680.89, 14753.96, 14333.33, 22283.33, 9282.47, 11039.07, 22161.84, 9572.93, 8233.49, 12649.73, 17739.62, 8999.11, 22875.67, 9690.67, 13254.47, 13177.01, 10349.85, 14000.76, 23452.35, 13530.19, 12735.85, 11476.21, 9280.57, 9928.86, 9200.87, 8997.87, 11672.47, 8559.84, 8119.23, 23929.54, 13442.66, 11725.28, 14955.79, 11680.37, 11707.79, 14679.88, 9567.82, 10823.99, 12167.21, 11113.78, 14941.1, 10470.28, 10158.62, 11257.05, 15267.52, 14028.73, 9226.04, 13055.14, 10363.17, 13430.81, 11840.78, 20293.56, 13109.64, 8238.09, 18582.42, 16319.63, 13973.73, 12800.1, 9560.55, 21571.91, 12707.59, 8388.77, 11452.03, 10466.36, 15004.96, 14321.47, 9058.72, 13367.02, 18162.73, 14113.3, 10415.1, 8444.92, 10125.22, 15790.78, 17983.5, 10715.64, 11505.76, 9801.94, 17878.4, 14263.42, 21974.03, 14391.04, 14715.48, 9592.18, 15000.0, 7988.59, 7791.83, 12419.76, 11077.4, 21539.69, 17500.93, 12407.27, 23855.56, 9013.14, 8697.06, 17051.96, 14350.36, 17438.68, 7763.48, 9985.55, 8020.47, 9404.55, 23001.26, 8315.31, 13891.91, 8851.12, 10153.61, 8795.59, 19966.25, 13848.44, 17482.71, 10070.2, 24528.77, 12482.57, 16405.46, 10000.0, 11412.35, 9570.72, 9110.6, 9802.49, 18926.92, 8246.35, 9593.0, 8774.68, 16771.08, 9460.85, 13053.74, 18548.29, 8673.62, 10000.0, 14784.38, 12967.16, 21412.95, 8198.16, 20000.0, 14657.15, 13371.73, 12539.36, 8173.52, 8373.69, 14217.16, 22416.7, 11108.64, 8280.21, 11759.8, 14221.29, 7850.58, 12560.28, 9557.01, 21722.78, 8146.57, 9588.68, 11687.34, 13572.17, 13896.39, 17415.2, 9622.77, 8252.15, 8575.04, 7824.56, 14411.81, 18896.03, 17558.62, 9540.84, 9040.69, 19461.18, 17528.56, 8978.9, 14341.89, 8696.29, 8111.7, 8655.86, 11402.48, 9849.79, 8781.89, 14568.92, 11890.84, 9057.09, 11807.28, 10428.51, 13442.49, 9036.11, 11192.16, 13725.39, 8558.44, 9812.39, 14334.51, 8246.97, 10394.32, 14604.74, 21500.0, 12362.87, 9645.79, 13101.34, 13746.28, 10545.02, 11310.6, 12865.56, 22049.68, 8356.9, 8293.97, 8892.29, 9690.59, 7911.01, 13619.95, 13572.58, 9550.04, 8082.86, 25000.0, 11901.46, 8532.18, 23118.79, 14578.97, 16130.76, 8015.91, 17637.09, 8258.81, 9098.13, 18425.61, 14133.61, 13427.74, 11896.16, 9033.99, 13485.87, 8635.18, 14136.21, 9012.6, 9893.47, 21845.02, 14310.72, 9344.41, 12334.42, 21284.18, 8565.8, 9088.89, 9566.98, 10000.0, 10000.0, 9287.99, 10757.86, 9754.09, 12771.5, 20102.39, 8782.81, 17356.57, 20853.53, 8953.82, 8236.05, 23867.6, 8148.87, 7836.58, 8324.35, 7975.88, 11651.54, 13163.54, 9000.0, 14209.69, 17417.76, 13071.63, 13172.64, 9222.81, 8680.34, 14656.78, 13401.92, 9318.03, 14476.24, 9598.79, 12136.33, 18146.79, 8510.69, 16469.33, 14259.33, 14866.29, 20980.42, 11527.87, 11888.87, 8273.54, 14881.08, 12036.29, 23549.11, 14679.14, 9532.93, 10097.0, 21086.64, 10569.0, 14259.91, 8593.12, 8418.3, 12973.69, 8376.54, 12593.25, 8693.88, 9837.75, 20799.57, 10342.98, 12195.17, 20231.84, 14560.33, 9223.86, 15647.41, 21436.98, 8697.75, 9812.21, 13270.81, 8347.21, 10689.98, 12161.39, 16840.09, 14427.18, 8293.17, 12500.0, 11130.52, 7816.51, 10886.63, 14412.04, 9603.38, 9119.64, 9354.46, 12273.88, 9577.73, 11452.11, 10188.94, 16903.61, 9000.0, 8000.0, 15979.8, 13696.48, 14732.7, 17223.53, 11613.48, 14711.21, 15003.6, 7995.15, 9262.62, 9626.22, 16854.86, 12269.35, 10484.51, 9409.66, 9556.49, 20000.0, 13344.02, 11256.44, 13478.68, 8150.56, 18583.37, 10597.21, 18327.19, 13892.2, 14546.81, 10563.69, 9890.14, 7981.11, 10447.42, 21617.03, 7972.59, 15487.29, 9918.52, 16187.76, 21763.23, 9115.29, 12886.32, 24548.25, 10140.91, 9695.48, 13582.91, 13180.83, 13287.19, 9264.82, 20838.56, 19547.99, 14418.36, 9921.55, 10274.28, 13138.54, 14228.51, 14579.57, 8329.39, 8214.77, 21856.52, 12652.45, 10686.79, 14318.49, 9460.85, 15808.89, 10910.82, 9078.4, 24489.63, 11117.93, 9671.84, 21465.16, 8452.9, 20135.02, 13478.11, 11117.27, 9144.91, 9393.72, 8605.16, 17257.41, 19155.84, 14078.3, 7838.93, 10330.2, 12512.71, 8590.16, 10798.6, 14483.78, 16366.8, 18699.07, 9775.49, 12619.97, 13102.1, 8725.95, 8294.29, 13666.64, 8743.39, 8088.43, 10535.97, 14209.35, 8680.3, 9909.89, 10951.05, 9800.0, 8331.1, 22527.42, 8207.95, 8642.27, 13929.2, 14205.77, 8302.59, 16168.21, 19514.6, 13641.11, 11446.82, 17787.2, 17522.03, 17200.43, 9725.0, 12416.66, 8164.55, 8677.89, 19980.01, 9223.58, 17625.98, 8221.16, 18860.82, 9516.27, 7878.26, 7808.87, 9765.63, 23868.43, 13947.06, 16664.28, 15353.48, 16491.68, 9124.55, 11774.06, 8643.64, 8281.65, 14566.52, 12906.61, 17688.67, 12610.69, 7853.42, 11728.35, 9222.81, 20268.46, 8984.24, 22652.99, 13644.33, 13209.05, 19236.46, 11454.26, 12922.61, 8222.32, 14628.44, 13270.87, 19221.42, 12548.23, 11436.27, 19704.63, 8827.1, 10000.0, 12226.93, 8382.03, 21355.87, 14409.5, 14536.43, 14772.34, 9438.43, 7945.51, 18550.62, 9171.66, 11197.05, 12372.8, 24469.46, 15834.79, 13000.0, 14306.91, 12123.34, 9626.28, 13725.29, 12763.87, 15713.65, 11015.26, 14058.22, 13721.5, 22582.17, 13715.79, 13069.0, 9123.79, 9406.41, 10526.32, 12349.68, 8195.54, 8310.15, 12724.43, 14503.19, 9294.3, 14420.97, 15296.3, 12501.13, 9050.95, 13593.14, 9711.31, 8531.69, 12167.23, 19593.48, 17607.72, 11113.99, 16976.2, 8155.67, 23580.33, 8911.24, 19202.95, 9108.13, 12376.94, 9814.47, 23857.17, 16094.09, 9459.03, 20000.0, 8903.91, 11912.16, 16265.48, 13775.5, 9901.68, 8119.45, 9246.61, 10452.72, 11660.36, 13991.57, 13455.27, 14675.51, 11952.59, 13210.15, 25000.0, 11858.79, 24436.49, 7754.99, 9817.31, 13522.88, 8193.58, 9102.23, 21795.47, 13591.71, 23280.15, 13628.71, 13091.81, 14008.88, 14432.02, 8263.39, 12106.99, 10460.05, 16670.11, 14315.88, 11529.47, 16785.1, 11923.63, 12701.13, 9333.18, 8898.05, 12315.66, 12748.49, 16150.58, 10393.31, 18575.02, 8530.23, 18819.82, 9391.71, 11745.83, 9212.63, 16736.57, 8184.47, 11011.97, 8321.48, 14456.93, 10590.53, 10810.48, 8054.15, 13750.85, 11862.5, 7921.43, 11458.22, 8022.79, 21923.97, 8078.6, 19199.53, 8094.38, 11167.89, 8653.45, 9786.33, 9222.81, 13975.62, 11890.65, 9070.79, 10038.03, 20383.66, 23265.68, 12381.26, 19435.29, 7824.84, 11321.04, 23039.78, 9544.17, 10788.25, 17918.33, 8306.19, 9364.86, 9270.26, 11896.82, 10697.37, 14376.5, 19403.82, 13462.42, 8054.4, 10497.75, 12645.85, 14332.5, 16164.14, 24159.31, 11859.1, 9028.35, 9523.79, 21851.23, 21740.35, 20898.36, 12431.89, 22048.58, 8462.81, 7797.34, 9081.36, 22947.59, 10718.8, 12723.4, 13637.35, 12776.48, 9379.35, 13880.41, 9632.53, 15073.81, 9613.29, 13947.38, 12553.53, 13232.09, 25000.0, 9773.26, 8599.77, 10873.6, 9397.54, 22037.65, 8362.01, 11146.83, 12987.5, 12213.83, 18919.0, 7818.94, 9630.4, 19785.12, 10779.1, 13435.68, 9606.91, 9076.49, 10888.8, 22385.86, 10961.76, 12998.95, 9145.75, 20282.5, 8114.73, 8209.01, 10529.27, 12679.94, 8000.0, 9503.15, 18635.55, 12747.24, 8567.26, 12184.39, 10757.02, 9454.62, 13365.89, 8137.32, 13606.73, 14930.49, 13288.84, 12321.0, 10187.62, 21139.61, 11226.86, 15301.18, 11179.8, 14741.76, 8427.19, 11863.91, 23109.03, 9703.35, 13203.12, 9785.7, 9225.69, 18100.1, 9438.79, 8273.18, 21510.86, 8730.97, 12224.05, 15012.82, 14702.5, 14471.77, 12690.3, 10258.27, 14075.12, 13685.41, 12669.24, 8584.32, 9502.61, 11539.78, 11042.29, 14889.82, 9146.19, 8285.93, 8945.38, 8435.03, 8697.32, 9357.37, 14100.57, 23317.33, 8490.4, 13254.38, 12301.58, 9692.31, 8298.57, 12658.04, 12083.73, 11187.78, 13019.89, 9219.41, 12043.51, 14028.53, 8708.93, 14714.71, 14683.17, 8107.06, 14327.02, 10138.46, 9517.28, 11585.89, 18587.79, 7900.41, 10377.23, 12978.79, 8937.01, 13172.64, 22164.31, 13585.37, 9055.24, 20999.27, 10173.02, 10817.72, 20850.74, 8746.5, 9563.24, 9354.65, 12771.4, 11088.55, 11703.2, 11618.63, 12534.44, 8435.16, 11347.83, 9543.28, 12282.61, 13040.33, 8339.82, 12282.26, 11010.89, 8712.43, 11149.82, 14241.58, 12476.49, 22780.95, 8347.36, 14637.5, 9560.64, 9475.72, 11393.66, 11922.55, 9527.86, 11518.42, 10505.54, 9790.42, 9927.88, 14084.18, 22931.49, 11334.45, 8913.98, 10001.34, 8852.64, 9703.13, 17599.2, 12715.0, 15415.44, 7856.63, 10629.18, 12169.73, 18750.05, 8430.51, 8337.04, 9768.49, 8141.59, 14219.29, 9094.27, 11555.78, 18210.32, 20512.18, 13622.13, 8200.0, 10706.47, 15301.14, 8827.42, 9011.44, 22405.25, 13808.22, 9080.17, 9008.8, 16133.62, 9761.29, 13779.12, 9435.84, 10529.31, 18894.39, 17610.51, 10734.1, 12372.66, 9747.53, 12970.56, 7913.72, 9434.82, 14570.67, 15569.83, 9992.36, 22033.68, 18096.86, 8793.07, 7853.77, 9703.53, 11466.08, 12209.32, 9758.76, 9358.77, 10323.78, 14564.12, 10856.32, 19394.73, 11450.48, 16855.31, 11731.25, 11497.87, 12611.38, 10000.0, 15295.45, 12094.82, 9643.39, 13688.39, 13836.0, 9369.26, 20811.51, 13041.58, 8334.12, 9219.65, 11570.91, 13873.08, 11411.8, 11083.17, 9204.72, 8604.98, 9822.62, 9118.4, 18096.15, 10105.68, 12800.1, 10000.0, 9328.05, 11382.92, 7790.54, 21062.79, 8934.09, 11017.6, 9759.35, 19417.81, 12737.33, 8466.4, 16682.52, 9349.21, 10812.54, 8473.9, 8568.21, 18246.2, 8543.87, 9732.37, 12050.54, 13048.72, 7764.96, 16271.37, 8230.72, 10704.98, 12675.4, 13365.44, 10791.5, 9207.84, 13619.1, 12001.55, 13585.37, 8947.89, 8521.53, 22361.23, 12371.52, 22720.78, 9569.87, 22035.56, 8977.0, 11336.7, 9821.03, 17872.6, 11068.99, 22694.47, 8916.94, 13476.34, 13346.93, 8777.88, 14404.06, 9695.18, 13633.87, 14516.02, 11753.09, 9844.5, 8547.39, 8285.09, 10327.98, 9212.85, 8710.85, 17966.48, 10813.64, 9391.09, 11321.89, 10990.72, 19534.48, 12312.49, 17844.63, 7753.14, 14757.95, 23992.42, 13720.92, 18099.04, 12603.66, 10293.97, 8270.73, 11594.3, 8970.73, 8190.49, 9809.66, 13396.72, 10000.0, 12951.46, 21677.87, 17146.73, 7930.1, 8012.09, 11697.7, 7820.09, 11383.82, 13990.73, 9350.27, 7920.7, 23955.25, 21216.75, 14235.5, 9493.1, 7791.16, 9808.09, 10053.82, 16833.83, 23983.68, 7920.25, 13592.65, 8627.21, 22782.48, 21282.93, 9435.93, 8598.4, 14012.06, 7861.79, 9835.37, 14287.75, 12990.59, 8109.46, 11523.43, 14030.81, 9394.04, 20575.1, 22566.66, 16150.51, 17079.97, 8160.95, 14666.43, 12929.72, 18684.15, 11597.86, 12820.56, 20987.55, 11457.86, 14666.31, 7898.03, 13398.08, 13766.75, 10241.86, 14361.94, 13498.03, 15864.14, 8081.28, 12793.65, 8729.92, 14860.28, 24013.39, 8368.16, 13818.99, 16940.89, 8497.7, 11642.52, 10854.34, 16306.88, 8196.97, 10842.28, 8110.94, 23969.14, 7872.58, 12143.61, 9014.97, 8433.0, 11674.8, 11119.36, 8452.93, 9331.49, 8969.27, 11909.49, 8348.3, 9316.27, 11478.54, 10686.2, 11828.97, 14711.47, 10381.16, 20000.0, 11254.91, 10256.67, 9882.28, 9209.95, 11968.37, 9248.9, 23348.82, 9703.12, 14181.75, 8798.33, 7846.91, 11844.53, 12779.26, 9185.06, 11195.57, 8912.05, 13125.45, 8507.63, 9587.65, 12794.09, 14740.86, 8307.98, 8951.05, 10000.0, 9834.51, 14022.94, 7808.54, 8108.23, 10028.15, 12050.05, 11676.78, 14337.03, 8404.55, 16341.34, 9652.55, 12720.27, 20000.0, 9257.43, 9606.25, 19770.38, 19593.91, 16965.23, 11266.05, 9379.4, 12756.95, 18168.69, 13878.61, 9488.38, 12336.69, 22256.62, 11889.51, 9244.17, 10798.52, 21552.16, 9798.34, 14867.56, 8533.81, 9844.21, 8640.64, 12510.86, 14678.53, 10584.51, 12766.59, 13227.21, 9167.2, 14492.25, 7997.87, 15339.92, 11593.78, 14541.03, 11153.7, 10500.0, 15856.67, 9790.84, 14305.77, 24000.0, 12865.92, 13057.32, 12286.54, 12146.21, 23435.18, 8893.32, 7969.1, 9504.03, 8866.16, 14388.82, 7952.39, 8417.38, 22787.39, 18233.96, 12218.74, 8883.03, 11111.41, 12933.78, 8886.79, 8453.39, 14082.46, 10484.61, 7926.16, 10853.26, 9917.01, 13340.03, 14979.63, 9817.92, 8852.89, 8310.25, 13513.33, 13486.12, 8150.24, 11985.04, 14225.82, 8808.76, 14740.86, 8502.25, 15695.03, 8043.31, 13346.8, 10921.44, 21610.11, 8969.74, 9562.84, 19807.88, 8452.71, 15774.91, 11339.25, 12769.2, 7998.58, 11040.87, 17715.35, 13917.33, 10103.26, 14005.01, 8901.35, 22346.37, 12272.92, 8258.06, 13037.94, 9793.14, 14790.67, 9003.14, 9127.24, 13750.85, 9436.6, 22466.49, 15235.36, 8497.8, 8966.23, 18502.34, 15348.37, 12074.68, 14212.82, 8529.69, 12076.61, 9486.48, 11274.6, 9502.0, 11015.64, 14253.56, 13334.18, 14164.08, 8767.74, 13843.13, 15000.0, 9614.81, 21960.7, 23059.76, 12870.11, 10320.48, 9630.13, 8379.28, 16200.98, 8655.81, 7772.99, 18904.12, 11001.57, 10820.08, 10290.71, 9195.3, 16845.53, 14677.51, 10534.83, 8671.97, 8054.27, 13994.33, 9484.01, 14221.63, 14384.53, 9863.51, 10759.41, 20699.5, 10038.62, 13749.12, 8319.01, 14781.85, 8900.28, 11376.97, 14363.24, 14367.64, 8887.35, 16243.95, 14255.14, 7825.7, 9896.71, 15856.22, 14702.89, 22673.48, 9737.0, 17736.36, 19356.96, 11977.12, 8798.66, 16035.57, 8308.91, 9402.12, 17367.63, 15645.11, 11452.96, 13779.71, 19640.45, 8767.46, 8203.04, 9842.03, 17676.05, 14343.4, 9124.81, 11866.13, 13159.63, 8635.24, 19777.86, 11771.12, 14536.06, 14175.59, 11597.39, 14156.83, 17099.59, 9283.46, 13234.28, 12673.48, 11945.34, 12086.62, 21616.89, 11771.89, 11751.55, 11237.81, 20000.19, 10884.85, 13412.56, 11794.93, 9534.87, 9738.92, 11644.13, 21828.55, 13707.38, 15913.59, 7846.46, 10752.68, 10634.67, 20964.78, 9938.53, 24439.5, 15345.69, 11437.76, 10261.29, 11538.93, 14711.38, 10000.0, 21467.64, 8214.11, 12763.15, 13344.4, 8870.65, 14086.54, 9525.99, 11765.28, 14957.59, 22871.57, 20902.3, 9593.97, 9225.88, 9711.65, 21745.87, 9542.77, 12152.67, 15847.13, 8627.26, 13285.22, 11199.8, 8933.66, 19623.01, 8844.82, 25000.0, 14542.58, 13669.88, 8867.67, 13228.13, 15348.3, 11207.41, 14542.34, 11477.78, 11775.82, 14469.83, 11904.91, 7874.6, 11011.61, 19635.83, 12961.79, 13881.29, 13250.59, 12174.52, 10214.77, 10482.02, 8542.3, 21396.43, 15813.97, 14591.97, 11254.68, 12511.89, 8903.59, 7754.48, 12312.47, 12227.94, 10259.47, 8499.78, 10409.68, 10187.29, 9407.12, 9626.22, 8819.77, 11298.66, 18866.47, 8111.35, 8862.89, 8124.12, 10643.7, 14052.3, 12337.02, 20262.61, 23080.45, 14354.18, 19077.53, 9995.33, 17435.74, 17242.6, 11532.68, 8266.59, 13703.35, 8497.98, 8596.54, 12769.04, 12282.91, 14867.09, 10954.0, 8486.53, 9041.72, 14253.15, 11063.13, 9020.31, 10046.4, 9315.8, 8689.61, 20192.58, 10492.88, 22852.75, 14120.66, 14509.02, 14290.22, 9397.59, 10990.28, 14629.09, 11808.15, 21933.7, 13645.61, 13566.55, 19807.01, 8407.06, 22738.37, 12091.4, 14154.27, 10033.61, 9630.7, 12399.02, 10692.6, 23926.1, 14097.5, 8741.73, 13001.29, 11969.48, 12890.05, 11234.38, 7854.88, 11398.53, 12040.54, 11645.27, 12680.59, 8532.48, 8859.02, 14671.12, 9265.92, 23139.29, 16841.63, 11990.98, 14421.45, 12787.05, 8377.84, 12183.03, 13000.0, 12809.57, 13586.51, 12588.99, 12634.48, 11397.73, 9746.0, 9963.95, 16911.68, 8746.37, 11893.71, 13908.39, 12122.75, 9436.93, 12893.24, 12968.38, 7937.45, 13356.77, 22840.75, 9776.95, 15183.37, 13768.63, 13823.81, 14727.42, 23811.88, 13469.93, 7901.91, 12506.42, 7856.08, 8657.98, 12960.05, 9392.02, 8305.66, 22184.73, 16221.01, 12670.84, 8205.7, 16720.69, 9610.93, 15000.0, 11081.54, 10178.79, 17898.76, 11489.07, 11165.04, 14984.16, 7865.85, 14581.3, 14641.99, 11518.96, 7897.49, 12180.04, 9222.81, 7965.35, 10438.63, 11142.47, 21195.47, 17445.86, 9213.85, 8059.77, 7967.19, 8255.78, 8312.19, 13180.3, 9998.97, 19695.44, 9615.71, 14005.23, 22875.67, 11177.5, 23324.01, 11753.77, 15892.49, 9603.38, 9179.93, 10577.28, 10369.38, 8028.93, 18366.71, 13158.72, 10210.86, 11136.72, 12886.5, 9846.77, 15258.77, 13291.34, 12803.39, 8882.14, 11725.28, 8219.63, 8669.17, 9949.39, 13583.36, 9136.98, 14362.58, 16425.91, 11447.72, 17890.81, 20661.94, 9417.49, 10235.02, 14057.09, 11835.31, 16294.97, 13536.73, 8000.0, 14488.85, 14180.86, 9883.72, 9019.36, 14011.29, 9917.97, 8759.91, 10606.87, 11154.8, 21139.67, 9404.49, 13603.88, 8059.73, 14373.74, 19871.76, 13026.49, 13082.09, 13365.24, 10930.94, 10000.0, 9618.04, 19521.7, 14109.41, 9186.54, 19395.56, 9036.82, 8446.05, 22550.37, 19890.36, 12636.15, 23682.8, 10264.16, 7768.5, 11310.67, 14746.31, 9102.69, 20948.54, 15416.26, 9931.04, 12690.2, 13790.97, 9130.37, 9399.53, 10077.66, 10981.85, 7848.13, 23422.18, 11333.77, 12020.73, 8729.17, 9312.37, 15576.35, 9051.9, 7975.28, 8744.66, 13985.57, 12102.6, 10648.91, 14628.77, 23323.91, 8218.01, 20811.52, 12502.5, 9311.74, 19642.13, 21556.23, 8629.9, 21878.39, 8098.46, 23510.47, 10258.19, 13082.76, 11310.12, 11808.36, 8555.01, 9640.52, 24740.46, 15030.7, 8825.81, 10465.26, 22794.92, 13777.6, 9516.01, 8000.0, 9920.3, 13109.6, 8487.7, 9311.5, 25000.0, 22627.41, 8022.49, 19020.3, 9286.15, 14158.65, 17734.72, 14354.18, 11873.66, 12409.6, 7844.61, 12566.69, 9269.03, 21481.15, 14656.09, 9026.84, 8873.41, 9263.29, 13314.49, 17648.01, 10817.62, 20662.88, 16413.6, 9698.67, 17529.05, 23564.27, 18392.4, 8914.85, 11967.5, 8804.55, 11839.94, 15704.92, 9018.64, 21822.07, 10396.42, 20957.87, 13258.7, 18717.44, 12505.02, 8885.02, 19833.13, 9661.44, 8547.13, 8155.85, 15000.0, 8140.77, 13429.49, 19081.92, 21356.69, 22990.0, 14091.71, 13839.03, 8984.18, 13513.49, 7844.02, 11767.32, 10905.97, 14085.11, 23567.06, 12070.04, 10000.0, 11709.09, 13145.01, 14070.92, 8500.0, 9916.98, 13473.82, 10519.48, 11708.04, 8081.58, 8978.2, 7931.81, 11746.9, 9105.63, 14684.41, 12277.22, 23459.07, 12195.11, 23213.31, 9431.83, 11252.17, 11430.92, 10675.3, 13872.19, 11087.83, 8405.61, 7821.12, 13634.82, 9644.13, 8234.67, 12208.4, 10501.52, 14396.64, 23716.9, 11639.13, 10179.67, 9319.56, 13653.47, 9837.29, 8101.17, 12043.1, 12202.54, 15958.02, 11791.87, 15802.61, 7841.8, 9419.82, 8325.03, 9965.85, 8386.31, 9622.98, 9621.7, 10093.44, 13102.23, 8408.53, 21349.36, 9922.9, 8587.35, 13473.7, 9744.3, 8887.95, 14026.34, 8706.31, 10636.56, 8236.17, 12432.0, 21427.53, 18220.35, 10000.0, 7885.06, 18279.25, 7826.03, 12466.2, 12531.85, 10554.61, 11188.9, 8591.4, 9433.83, 12572.77, 15717.84, 9443.56, 20640.3, 8627.77, 21025.32, 8076.32, 22250.23, 12223.4, 10600.23, 22754.89, 10957.52, 9032.6, 13829.64, 9874.32, 14850.12, 8223.68, 22698.92, 11022.43, 12143.6, 14292.02, 15858.04, 16208.31, 8858.2, 13646.36, 8418.75, 12891.91, 11143.12, 19563.58, 10258.23, 13041.43, 13523.01, 10550.76, 12733.44, 9815.56, 10648.93, 9047.64, 14028.38, 10021.15, 22740.28, 16353.12, 22890.17, 12781.63, 14461.7, 8635.4, 11654.15, 13397.55, 16873.71, 10773.13, 8720.09, 21797.77, 19053.36, 11258.74, 15477.31, 13068.56, 16585.12, 9065.81, 13028.47, 9750.68, 8218.24, 8117.78, 9538.47, 8534.34, 14371.72, 17408.12, 18260.31, 12728.91, 22047.46, 23394.89, 10024.52, 18136.91, 20428.48, 10238.87, 23857.75, 8077.27, 9636.3, 20991.39, 10697.77, 12482.24, 10092.73, 11072.95, 14308.7, 14039.17, 20400.24, 10789.91, 15988.78, 15958.38, 11960.1, 9577.44, 16963.99, 18937.71, 8992.45, 10533.77, 20856.87, 16593.34, 9967.92, 8955.09, 13723.55, 9613.66, 14059.08, 12036.44, 8607.88, 18990.25, 18850.57, 19156.1, 9772.63, 12794.04, 8063.03, 18554.29, 9218.85, 14151.77, 14326.95, 11659.81, 14724.15, 12738.55, 15143.71, 13320.67, 9229.19, 13533.3, 11658.49, 13342.84, 9255.78, 12521.02, 23671.85, 11360.56, 11458.34, 16000.0, 21100.84, 11067.85, 9377.28, 9033.76, 13803.68, 23869.31, 13302.85, 16505.71, 17178.08, 9146.92, 13723.06, 14575.06, 23226.9, 14486.38, 20794.59, 11088.18, 13483.81, 9425.99, 8745.99, 7768.5, 10807.86, 13551.51, 14204.33, 9414.86, 13632.77, 9670.8, 7963.96, 11818.15, 9234.08, 11101.72, 8563.58, 14050.11, 10753.52, 15000.0, 15362.08, 13531.26, 8831.15, 8300.18, 8726.11, 10757.6, 9918.3, 22766.29, 12585.59, 15680.38, 9225.75, 14331.8, 8756.91, 17136.11, 12961.23, 13953.64, 17733.56, 18028.34, 9708.84, 21925.96, 10121.32, 11719.71, 8434.25, 8615.77, 12785.76, 9131.15, 11885.86, 9238.34, 14473.09, 8403.07, 14323.23, 8806.12, 10509.99, 8433.85, 8204.66, 8405.46, 11601.11, 8122.16, 19544.79, 12000.0, 10155.06, 16471.02, 12752.48, 16930.17, 13334.05, 11322.36, 7992.36, 21928.44, 18693.12, 8636.07, 13650.82, 21746.01, 14090.03, 11325.92, 11651.83, 12227.44, 8961.1, 14035.73, 9547.15, 14050.39, 13215.62, 10911.94, 18297.23, 8564.09, 7827.14, 13445.9, 12183.33, 22925.81, 14551.81, 12678.57, 11965.88, 8731.57, 18441.85, 23164.62, 11509.05, 10142.56, 9005.76, 13739.73, 19464.72, 7911.18, 17890.86, 11157.64, 9123.32, 10778.33, 9644.6, 9246.09, 23766.14, 21150.59, 11762.19, 19005.45, 21576.12, 17281.06, 12545.16, 9098.17, 8917.6, 14287.0, 12298.49, 10797.31, 14978.91, 12202.25, 12961.28, 15142.77, 8004.09, 10093.83, 9500.0, 17952.68, 10455.07, 8823.61, 9787.95, 8379.4, 12831.96, 18367.45, 14211.51, 10735.4, 9407.4, 19232.77, 14364.17, 16240.08, 10627.33, 9042.2, 7905.9, 22947.72, 10000.0, 19900.73, 14471.77, 17314.78, 21134.57, 12623.79, 12259.82, 8024.14, 11317.18, 13324.28, 10033.24, 23082.87, 19615.76, 9561.39, 8695.34, 9122.56, 13905.48, 10696.09, 19053.9, 14770.14, 13816.75, 16887.75, 12812.7, 24597.9, 16545.54, 8904.85, 11234.03, 11993.67, 8802.81, 15016.14, 19463.92, 9437.13, 14715.55, 11540.88, 14487.49, 8911.93, 11378.88, 8151.24, 8829.71, 14447.68, 8810.62, 8574.54, 13815.52, 8750.0, 11997.61, 14409.11, 7884.81, 20390.96, 14500.0, 7929.55, 11934.47, 9832.8, 17793.62, 7933.38, 21570.93, 9031.73, 8971.63, 8287.54, 9109.83, 19650.22, 24423.56, 8803.13, 22315.62, 12734.21, 9854.49, 14377.3, 8890.27, 11132.09, 9808.08, 12099.97, 8294.97, 11738.81, 9049.75, 12491.6, 11568.3, 22491.08, 9802.65, 8010.7, 8685.21, 8216.14, 8198.73, 11993.64, 14448.04, 9913.67, 25000.0, 14385.8, 8376.54, 7777.83, 14714.16, 8731.23, 11879.08, 8275.47, 8640.19, 11643.81, 12968.55, 17490.28, 9807.3, 8308.23, 12651.16, 13115.99, 13268.38, 11632.3, 19535.17, 9346.02, 14415.49, 22476.23, 7858.07, 8118.47, 10313.55, 8802.04, 8590.07, 11464.04, 18480.77, 7958.24, 9554.54, 18817.77, 7958.14, 10293.47, 23954.4, 11855.96, 10226.17, 7776.74, 9378.83, 11582.84, 7881.63, 11992.05, 22321.96, 8502.42, 16596.15]\n",
            "outliers in column  LP_NonPrincipalRecoverypayments  have outlier  [1600.0, 889.34, 911.03, 3063.28, 1280.52, 7940.24, 1350.12, 1615.49, 859.72, 1446.17, 2680.0, 3165.39, 3598.21, 2340.99, 1156.73, 1358.22, 1548.64, 1473.76, 5715.05, 900.0, 1818.3, 1379.28, 2139.77, 2317.82, 1601.57, 1000.18, 2538.39, 1215.43, 3072.1, 2944.5, 3039.05, 1658.98, 6000.0, 1615.96, 1202.02, 2094.75, 5292.78, 1004.99, 1400.0, 1321.68, 1995.0, 977.55, 901.5, 855.92, 1174.1, 1037.7, 1592.2, 984.28, 2440.0, 2670.17, 1970.46, 1350.24, 3000.52, 2208.86, 972.2, 956.23, 1874.72, 1555.33, 1307.14, 9894.36, 900.0, 2431.97, 1263.78, 903.1, 2794.28, 1260.59, 2016.56, 2058.74, 1087.33, 3900.0, 1823.29, 2008.86, 881.89, 1440.38, 1670.69, 1729.14, 1185.0, 1982.67, 4294.9, 1097.72, 1380.01, 5904.24, 1091.84, 936.39, 963.8, 1365.66, 1166.27, 2191.49, 1767.44, 21117.9, 1925.0, 935.63, 3643.01, 1320.0, 1070.69, 1410.01, 1815.3, 954.28, 3013.3, 1916.73, 2276.85, 1947.8, 2061.0, 6091.89, 1734.12, 1534.28, 2861.87, 2670.02, 1818.59, 1320.95, 2092.5, 2012.0, 1123.12, 1850.21, 8130.38, 1120.0, 1116.65, 861.86, 5732.65, 1299.84, 1970.4, 2701.34, 3069.91, 5165.72, 1783.07, 875.91, 1684.0, 1385.0, 1584.63, 1291.95, 1052.35, 1412.93, 4820.0, 1184.02, 1000.0, 1438.48, 2755.12, 3202.18, 1354.0, 1521.04, 1250.0, 1897.5, 9035.0, 2099.92, 2404.51, 1221.86, 2146.17, 1295.78, 1249.7, 5555.0, 2512.15, 1549.27, 3044.72, 3092.37, 1161.37, 1067.4, 5200.0, 1179.89, 1013.56, 1978.8, 1694.89, 2985.0, 1333.32, 1389.38, 2688.45, 7929.42, 1711.48, 1242.41, 3402.0, 1485.0, 1684.02, 2843.47, 4182.29, 2366.86, 3141.02, 1682.99, 2448.1, 8688.87, 1887.43, 1835.8, 3139.11, 2006.35, 1994.97, 1931.72, 1586.0, 1256.0, 2262.88, 1712.22, 966.62, 1612.78, 1462.14, 868.7, 3527.33, 1036.11, 3755.84, 4437.51, 2831.28, 1121.82, 973.17, 1352.81, 3286.42, 1690.9, 961.0, 2133.96, 1048.45, 6941.1, 2097.59, 1743.08, 1374.6, 890.0, 1245.04, 1055.08, 2236.48, 1846.09, 10000.0, 2466.0, 1191.68, 2453.75, 2114.73, 5104.0, 994.0, 944.74, 2000.0, 1092.54, 4562.93, 2700.0, 1566.65, 1818.18, 989.5, 3269.04, 4784.52, 2300.0, 2958.04, 935.0, 1928.44, 1147.41, 1014.26, 1302.72, 1233.75, 964.72, 1164.1, 985.0, 2835.38, 7281.95, 1504.27, 1255.47, 919.78, 870.08, 1800.0, 8394.91, 1500.0, 923.11, 1610.0, 1752.09, 1616.22, 1242.13, 1421.69, 1184.0, 4000.0, 1677.67, 1431.31, 3432.8, 1815.73, 1200.0, 7562.33, 1500.0, 1092.31, 4191.0, 1454.57, 3426.75, 1091.0, 3030.05, 4804.47, 872.92, 1391.67, 1622.27, 1907.35, 928.59, 1339.05, 935.0, 1375.11, 2493.31, 1265.69, 1000.0, 972.14, 861.51, 1398.37, 6000.0, 1165.62, 1137.28, 1318.64, 901.75, 1263.23, 2088.92, 979.0, 1590.8, 954.5, 1521.0, 1267.84, 2520.96, 1128.75, 1597.48, 1916.1, 860.9, 2000.0, 1306.13, 4388.08, 2329.24, 883.79, 3376.41, 4223.34, 905.93, 1528.52, 2000.0, 2485.0, 1129.11, 2693.65, 1084.28, 1101.33, 1558.37, 1020.0, 2608.0, 5247.44, 1285.0, 1312.55, 1459.27, 2924.57, 3431.12, 1051.81, 1393.66, 1663.06, 3851.88, 2096.0, 3315.29, 921.68, 3885.0, 3325.58, 2631.23, 1784.41, 981.91, 1033.45, 5004.59, 1192.02, 1549.02, 1377.48, 1159.59, 900.0, 1218.36, 1593.64, 2477.6, 1244.18, 2409.52, 3487.21, 2443.0, 916.98, 3666.76, 3648.23, 3000.0, 3808.44, 1150.65, 1586.02, 1108.82, 4780.77, 3393.49, 3100.0, 1601.34, 5091.86, 914.95, 1886.84, 3143.33, 1870.04, 1382.47, 3366.9, 1985.0, 1551.45, 2147.41, 3300.0, 3789.12, 1557.87, 2422.39, 3170.89, 878.19, 1255.01, 1145.75, 1380.78, 878.1, 1819.07, 1101.56, 1500.0, 2703.1, 3714.5, 900.0, 2195.0, 1199.0, 1064.0, 1435.99, 8402.27, 1225.11, 5482.63, 1975.62, 1010.46, 1416.59, 5194.33, 1000.0, 1842.39, 1522.13, 1127.08, 1025.0, 908.61, 1186.25, 12904.38, 1867.03, 2378.31, 2894.56, 9087.08, 1286.45, 3337.95, 2601.0, 1605.91, 902.92, 5308.14, 4433.7, 4655.53, 2271.99, 1224.76, 9018.54, 1792.0, 2841.25, 1185.84, 1915.95, 4768.31, 1910.25, 1460.84, 2520.15, 2405.39, 916.72, 892.87, 2394.48, 932.93, 928.64, 1970.4, 1760.0, 1267.07, 5352.2, 4650.88, 2129.0, 1475.01, 2696.2, 931.88, 1315.1, 1000.0, 1541.19, 1116.87, 2245.0, 2604.94, 2155.77, 3671.58, 3396.31, 1416.0, 1705.13, 2675.41, 4642.61, 4400.37, 3183.94, 888.98, 6630.29, 2435.37, 1568.65, 1388.78, 3561.1, 4567.74, 2653.8, 2208.68, 1863.0, 2335.53, 958.67, 969.25, 7635.68, 2032.95, 881.16, 2145.54, 2001.06, 2430.44, 1000.78, 5400.0, 859.22, 2187.26, 2819.19, 1464.0, 918.45, 1061.32, 882.06, 1021.62, 947.56, 1375.3, 1630.0, 1269.48, 2092.53, 1017.99, 1523.98, 5800.0, 4100.0, 1181.0, 935.99, 2000.0, 3552.9, 1475.02, 1516.0, 1625.0, 1165.92, 2824.2, 934.85, 6296.96, 885.0, 1655.05, 2745.77, 3781.44, 1200.0, 858.03, 3728.45, 1340.63, 1440.13, 1859.71, 944.0, 1310.12, 897.91, 2856.3, 2541.37, 4093.42, 1850.0, 1346.35, 1212.96, 939.93, 1336.93, 1000.0, 861.54, 3463.13, 1637.4, 1790.1, 1800.0, 924.19, 1247.19, 3300.0, 3049.25, 985.0, 884.04, 1710.86, 1689.0, 1498.12, 1221.86, 857.73, 6313.58, 1056.83, 2560.95, 1339.31, 993.63, 1801.66, 1713.78, 10661.64, 12000.0, 865.48, 1768.99, 864.35, 1352.23, 2241.6, 3252.33, 2610.95, 989.0, 3368.82, 2719.59, 3756.21, 2385.44, 1138.33, 1309.99, 1327.95, 1529.61, 900.99, 2138.36, 1379.42, 2664.56, 1222.91, 1520.62, 5881.05, 1239.21, 1657.07, 2407.8, 1611.08, 1478.78, 1622.25, 4050.0, 2160.91, 1087.76, 1550.0, 2061.46, 2400.0, 2040.28, 1447.11, 2930.98, 1150.0, 1899.8, 1442.14, 2254.0, 955.68, 1253.85, 1710.86, 978.68, 1285.0, 2438.1, 7909.18, 1333.62, 4252.68, 916.12, 884.03, 5057.19, 3200.0, 1225.03, 4801.28, 1275.0, 3436.55, 2306.09, 3505.21, 1508.81, 900.0, 1083.88, 1521.93, 1424.9, 1748.41, 1979.12, 4150.0, 1977.88, 1651.19, 1250.62, 3311.88, 5400.0, 2410.35, 8000.0, 2550.0, 981.22, 2385.0, 1132.35, 2100.0, 2074.65, 1274.44, 2088.54, 1177.08, 1124.58, 909.0, 1725.98, 2293.54, 5755.56, 6996.34, 3055.65, 2225.0, 1203.75, 1189.61, 1040.11, 1605.44, 1778.43, 2770.92, 951.05, 1729.7, 2950.08, 1470.0, 898.33, 2067.52, 2627.9, 973.68, 1714.42, 6409.11, 4507.0, 1635.5, 3805.0, 1093.48, 944.27, 7780.03, 1587.0, 1213.47, 4330.29, 1715.98, 890.62, 2769.78, 1929.1, 1367.66, 1682.23, 909.74, 1728.87, 1240.32, 1646.92, 2859.09, 860.0, 2052.78, 913.62, 2587.97, 3100.0, 6620.96, 928.77, 965.16, 6002.4, 2257.03, 1200.0, 1060.0, 3810.48, 1724.94, 2171.76, 2483.0, 3500.0, 1484.45, 857.28, 4835.0, 1974.36, 919.52, 2280.36, 2019.74, 896.61, 1053.07, 1936.33, 2192.07, 3808.13, 1488.0, 1028.18, 872.95, 2724.58, 1798.32, 1646.18, 5354.03, 13042.21, 5400.0, 1776.59, 997.77, 7840.19, 1867.01, 2430.0, 3500.0, 3415.7, 899.77, 2164.54, 2063.8, 1039.38, 872.33, 2785.0, 1335.25, 4509.9, 985.0, 2639.29, 1838.38, 2160.0, 1033.46, 1303.31, 1000.0, 855.0, 4200.0, 1680.48, 1200.0, 1747.56, 1023.3, 906.07, 3296.08, 7000.0, 1231.51, 1331.08, 1750.0, 2493.25, 2366.04, 1165.39, 2800.0, 11857.11, 876.11, 2183.11, 1705.98, 1124.34, 1618.0, 1739.85, 6141.54, 2015.6, 978.13, 3072.23, 977.72, 5735.52, 1668.5, 2910.0, 1184.24, 1570.0, 863.1, 1000.0, 1175.5, 1192.99, 2080.68, 1789.62, 5000.0, 1178.23, 4057.17, 883.37, 1056.12, 5062.08, 1367.57, 3832.86, 1755.96, 2080.53, 1425.05, 4040.88, 1190.56, 1323.8, 3664.52, 3150.3, 1022.11, 1210.04, 2100.0, 4341.0, 1048.03, 7083.46, 1070.93, 2185.0, 9391.91, 2339.39, 4176.13, 917.22, 2179.2, 2000.0, 945.98, 1814.74, 1835.3, 950.0, 1535.0, 1181.43, 1000.0, 3143.87, 1383.85, 1280.79, 1323.35, 931.42, 2887.47, 1473.13, 1312.58, 1400.0, 1119.41, 2155.96, 1453.94, 1260.0, 1100.0, 2308.04, 2545.85, 1592.81, 1266.28, 1478.33, 1121.0, 2100.0, 1110.0, 2691.51, 4560.57, 1795.71, 1879.28, 1068.52, 1169.75, 2500.86, 1503.0, 1882.11, 1266.8, 1600.0, 959.39, 860.8, 2657.91, 7460.79, 943.87, 967.54, 2833.59, 1037.44, 1902.39, 1524.4, 1232.27, 7904.0, 1020.0, 2790.23, 5732.6, 1606.0, 4166.98, 1500.0, 3176.95, 1057.34, 1259.44, 1022.6, 1500.0, 3000.0, 2761.6, 1300.0, 1488.27, 9995.83, 2618.89, 994.53, 1389.96, 2561.3, 1623.35, 2700.39, 1500.0, 1136.16, 1946.27, 1067.66, 2250.71, 1106.0, 1228.45, 1729.88, 2568.58, 5000.0, 1524.0, 909.18, 2480.0, 1025.0, 2342.61, 1494.66, 4795.83, 4138.0, 13605.35, 1504.82, 1205.72, 2737.15, 1310.9, 2049.41, 6000.0, 1350.0, 1100.0, 2709.21, 3538.2, 1000.0, 2500.0, 2328.5, 2875.27, 1626.61, 2183.24, 856.58, 2377.5, 1067.28, 2449.47, 2258.01, 2094.58, 1091.77, 3853.18, 1381.12, 2252.07, 876.97, 2161.38, 1957.02, 4037.75, 2000.0, 6471.51, 1055.56, 2479.62, 1285.96, 1543.57, 1554.23, 4058.2, 1649.65, 1072.06, 4142.24, 890.63, 1461.84, 975.3, 1123.78, 1153.85, 1547.44, 946.46, 1562.44, 962.33, 5900.0, 7631.74, 3077.14, 1055.64, 1552.7, 3730.56, 1120.57, 2083.99, 5443.07]\n",
            "outliers in column  PercentFunded  have outlier  [0.7731, 0.9247, 0.7926, 0.8386, 0.7823, 0.7876, 0.7205, 0.8208, 0.9386, 0.8974, 0.8167, 0.7178, 0.8882, 0.7005, 0.7228, 0.8205, 0.7992, 0.8947, 0.7347, 0.8212, 0.8176, 0.7761, 0.7684, 0.7798, 0.8907, 0.8406, 0.8008, 0.8443, 0.8863, 0.7292, 0.7164, 0.7142, 0.713, 0.7057, 0.7508, 0.7866, 0.852, 0.702, 0.7478, 0.7423, 0.717, 0.8895, 0.7973, 0.7218, 0.7194, 0.8741, 0.8928, 0.7948, 0.8424, 0.7203, 0.8145, 0.8554, 0.8146, 0.7311, 0.76, 0.7189, 0.8577, 0.7573, 0.7395, 0.7632, 0.7242, 0.838, 0.7537, 0.7476, 0.7688, 0.7675, 0.9086, 0.7445, 0.7458, 0.8402, 0.7762, 0.7401, 0.8707, 0.7134, 0.9315, 0.8872, 0.8384, 0.8116, 0.7781, 0.8145, 0.7395, 0.7057, 0.8629, 0.7039, 0.7903, 0.7161, 0.8261, 0.7474, 0.7784, 0.7168, 0.942, 0.7103, 0.7227, 0.844, 0.7083, 0.9065, 0.8783, 0.7137, 0.9022, 0.7461, 0.767, 0.7764, 0.7453, 0.7827, 0.7092, 0.7112, 0.7753, 0.7545, 0.8919, 0.8055, 0.7412, 0.7475, 0.9126, 0.7101, 0.7914, 0.8126, 0.7209, 0.7964, 0.71, 0.8041, 0.8094, 0.7714, 0.8155, 0.7784, 0.7168, 0.8355, 0.7197, 0.8464, 0.8095, 0.7102, 0.7784, 0.8898, 0.8697, 0.7487, 0.8136, 0.8756, 0.9087, 0.7033, 0.7673, 0.8188, 0.7331, 0.8199, 0.7236, 0.895, 0.7601, 0.8545, 0.8719, 0.7436, 0.9324, 0.735, 0.7856, 0.7026, 0.8061, 0.7656, 0.7754, 0.8746, 0.8841, 0.7066, 0.7491, 0.7589, 0.7854, 0.795, 0.872, 0.8764, 0.8005, 0.7582, 0.8087, 0.9241, 0.8505, 0.7054, 0.8166, 0.7193, 0.8956, 0.8183, 0.7047, 0.803, 0.7065, 0.8504, 0.7025, 0.9132, 0.7125, 0.7449, 0.7547, 0.7126, 0.9248, 0.7222, 0.7052, 0.7032, 0.8797, 0.738, 0.7227, 0.7147, 0.7706, 0.7451, 0.7302, 0.8189, 0.8721, 0.7007, 0.8684, 0.7, 0.9029, 0.8462, 0.7963, 0.7142, 0.8413, 0.7041, 0.8726, 0.8367, 0.7211, 0.8087, 0.7042, 0.7329, 0.8375, 0.8879, 0.7233, 0.7024, 0.8319, 0.7676, 0.7988, 0.8745, 0.899, 0.9048, 0.7412, 0.7046, 0.847, 0.7192, 0.7399, 0.7668, 0.9044, 0.9103, 0.9317, 0.8204, 0.9346, 0.9062, 0.9204, 0.7149, 0.7539, 0.7118, 0.8069, 0.8656, 0.8849, 0.7512, 0.8671, 0.7032, 0.7344, 0.7266, 0.8636, 0.7123, 0.7031, 0.77, 0.8972, 0.8237, 0.9113, 0.8333, 0.7028, 0.9346, 0.723, 0.8456, 0.9119, 0.784, 0.763, 0.7062, 0.7214, 0.7045, 0.7652, 0.8695, 0.9294, 0.7526, 0.8138, 0.7408, 0.8634, 0.7564, 0.7954, 0.8605, 0.7731, 0.787, 0.7416, 0.7289, 0.9296, 0.706, 0.8819, 0.8347, 0.8858, 0.823, 0.71, 0.7609, 0.8354, 0.8665, 0.7483, 0.7189, 0.7859, 0.7145, 0.702, 0.7686, 0.7624, 0.7275, 0.7071, 0.7869, 0.702, 0.8426, 0.7009, 0.7098, 0.74, 0.721, 0.7651, 0.8945, 0.9183, 0.7407, 0.8977, 0.7055, 0.7292, 0.7789, 0.8395, 0.7391, 0.7105, 0.8875, 0.7823, 0.9403, 0.7264, 0.8908, 0.8986, 0.8945, 0.857, 0.7803, 0.8565, 0.7373, 0.8432, 0.7765, 0.7208, 0.9238, 0.7092, 0.9146, 0.8117, 0.8725, 0.799, 0.7624, 0.9124, 0.7885, 0.9231, 0.7183, 0.8884, 0.8904, 0.8559, 0.8053, 0.8483, 0.8923, 0.7213, 0.9015, 0.8416, 0.86, 0.7821, 0.7339, 0.8152, 0.7872, 0.891, 0.74, 0.7828, 0.7519, 0.7095, 0.8258, 0.9135, 0.8144, 0.7176, 0.7763, 0.889, 0.8702, 0.9326, 0.7445, 0.8128, 0.8354, 0.8584, 0.7332, 0.8772, 0.8455, 0.7201, 0.7326, 0.908, 0.7949, 0.7936, 0.8739, 0.7935, 0.7208, 0.8826, 0.7547, 0.7005, 0.7958, 0.8089, 0.7395, 0.7063, 0.8659, 0.8728, 0.8946, 0.8225, 0.7615, 0.8791, 0.8376, 0.7092, 0.8001, 0.7924, 0.7071, 0.735, 0.9128, 0.7105, 0.7264, 0.8549, 0.7167, 0.791, 0.7836, 0.8518, 0.7598, 0.8749, 0.8585, 0.8118, 0.8196, 0.9325, 0.751, 0.8685, 0.7201, 0.8618, 0.8115, 0.8138, 0.7549, 0.8067, 0.7598, 0.8058, 0.9393, 0.8674, 0.7814, 0.731, 0.8255, 0.7011, 0.9366, 0.8824, 0.8075, 0.7373, 0.7298, 0.9273, 0.7113, 0.7013, 0.7125, 0.8347, 0.8331, 0.8213, 0.7091, 0.8933, 0.7, 0.7099, 0.7055, 0.7049, 0.8552, 0.7122, 0.8251, 0.7069, 0.8047, 0.7096, 0.9447, 0.877, 0.7437, 0.7486, 0.7312, 0.7091, 0.9331, 0.7209, 0.7487, 0.8409, 0.7933, 0.7019, 0.8515, 0.7048, 0.9173, 0.7838, 0.8422, 0.8137, 0.8745, 0.7378, 0.8576, 0.7016, 0.8751, 0.711, 0.7775, 0.775, 0.7362, 0.704, 0.7011, 0.7839, 0.7163, 0.7458, 0.8624, 0.8937, 0.7322, 0.7135, 0.7056, 0.8707, 0.783, 0.7032, 0.7815, 0.9104, 0.7422, 0.9086, 0.8251, 0.9052, 0.7287, 0.7474, 0.8387, 0.832, 0.7174, 0.7284, 0.7337, 0.7833, 0.7222, 0.7173, 0.8891, 0.7, 0.7189, 0.8334, 0.903, 0.7249, 0.848, 0.8272, 0.7828, 0.8221, 0.7046, 0.9086, 0.8634, 0.8586, 0.7097, 0.7499, 0.7715, 0.8142, 0.8206, 0.755, 0.734, 0.8431, 0.925, 0.7221, 0.7635, 0.8941, 0.7062, 0.7023, 0.7028, 0.8524, 0.8116, 0.7218, 0.7488, 0.772, 0.8062, 0.7004, 0.704, 0.9125, 0.8528, 0.7145, 0.7019, 0.7849, 0.7311, 0.7479, 0.7012, 0.9233, 0.8458, 0.7748, 0.7369, 0.8055, 0.9444, 0.8355, 0.8875, 0.7999, 0.8079, 0.9141, 0.8802, 0.7033, 0.8266, 0.8239, 0.7687, 0.7168, 0.7806, 0.709, 0.7533, 0.7458, 0.7063, 0.7493, 0.7253, 0.722, 0.8343, 0.9369, 0.7752, 0.7717, 0.7341, 0.7791, 0.9378, 0.8931, 0.851, 0.8777, 0.8192, 0.7096, 0.7202, 0.7044, 0.7465, 0.7561, 0.7341, 0.8413, 0.7145, 0.8824, 0.9032, 0.9075, 0.8161, 0.7228, 0.8481, 0.8638, 0.7265, 0.8538, 0.8712, 0.7765, 0.8336, 0.8602, 0.9216, 0.711, 0.9169, 0.7328, 0.8055, 0.7853, 0.7328, 0.7175, 0.9252, 0.8002, 0.7759, 0.7712, 0.9206, 0.7127, 0.758, 0.8596, 0.8133, 0.7151, 0.7063, 0.8399, 0.7013, 0.7045, 0.9312, 0.7178, 0.9106, 0.7402, 0.9176, 0.7429, 0.8109, 0.7356, 0.7142, 0.8087, 0.709, 0.7803, 0.8422, 0.8761, 0.8485, 0.884, 0.7014, 0.7022, 0.9058, 0.8772, 0.7084, 0.8447, 0.8383, 0.7, 0.8862, 0.7078, 0.7144, 0.7049, 0.7582, 0.7332, 0.9216, 0.7097, 0.7887, 0.7164, 0.7254, 0.8506, 0.8359, 0.7061, 0.721, 0.8657, 0.9228, 0.7069, 0.7368, 0.9178, 0.7219, 0.8466, 0.7917, 0.7563, 0.7098, 0.8314, 0.7101, 0.7197, 0.744, 0.8378, 0.7774, 0.8515, 0.9071, 0.9043, 0.7315, 0.8694, 0.765, 0.9158, 0.7099, 0.7313, 0.8806, 0.7248, 0.82, 0.7405, 0.774, 0.7141, 0.8004, 0.733, 0.9128, 0.7027, 0.7225, 0.7689, 0.8056, 0.7143, 0.725, 0.8703, 0.856, 0.8087, 0.8313, 0.892, 0.7039, 0.8398, 0.7897, 0.7601, 0.7384, 0.9365, 0.8208, 0.8376, 0.8792, 0.8109, 0.7121, 0.7099, 0.7059, 0.8386, 0.7315, 0.8974, 0.7059, 0.7721, 0.7283, 0.7988, 0.722, 0.7275, 0.7035, 0.872, 0.9006, 0.7192, 0.7552, 0.8741, 0.7493, 0.788, 0.7392, 0.7554, 0.7706, 0.863, 0.7928, 0.7031, 0.9208, 0.9101, 0.7437, 0.8583, 0.7049, 0.717, 0.7205, 0.8684, 0.9033, 0.7059, 0.7803, 0.7591, 0.7535, 0.7067, 0.8266]\n",
            "outliers in column  Recommendations  have outlier  [2, 2, 2, 2, 2, 2, 2, 2, 2, 4, 2, 2, 2, 2, 2, 2, 2, 2, 3, 2, 2, 3, 2, 2, 2, 2, 2, 2, 2, 2, 2, 2, 3, 2, 9, 2, 3, 2, 3, 2, 2, 2, 3, 2, 2, 3, 4, 5, 3, 2, 2, 4, 2, 2, 2, 16, 2, 2, 2, 3, 2, 2, 2, 2, 2, 3, 2, 2, 2, 2, 2, 2, 4, 2, 2, 2, 2, 2, 2, 2, 2, 2, 2, 5, 2, 2, 2, 2, 2, 3, 2, 39, 2, 2, 2, 2, 21, 3, 2, 2, 2, 2, 2, 3, 2, 3, 2, 2, 3, 2, 3, 2, 2, 16, 4, 2, 2, 2, 3, 2, 2, 2, 2, 2, 2, 2, 2, 2, 2, 2, 2, 3, 2, 2, 2, 2, 3, 2, 2, 2, 2, 2, 2, 2, 2, 2, 2, 2, 3, 7, 2, 2, 2, 4, 3, 2, 2, 2, 2, 2, 2, 2, 2, 2, 2, 2, 2, 2, 2, 2, 3, 2, 2, 2, 2, 5, 2, 9, 2, 2, 2, 2, 2, 2, 2, 2, 2, 3, 2, 2, 3, 2, 2, 2, 2, 5, 3, 2, 2, 3, 2, 2, 2, 2, 2, 2, 2, 2, 2, 3, 2, 2, 3, 2, 2, 2, 2, 2, 2, 2, 2, 2, 2, 2, 2, 2, 2, 2, 2, 2, 3, 2, 2, 2, 2, 2, 3, 2, 2, 2, 2, 2, 3, 3, 2, 2, 4, 2, 2, 2, 3, 2, 2, 2, 2, 2, 2, 2, 2, 3, 3, 2, 2, 2, 2, 2, 4, 2, 2, 2, 2, 2, 2, 3, 2, 4, 2, 3, 4, 2, 3, 2, 2, 2, 2, 2, 2, 2, 2, 2, 2, 2, 2, 2, 2, 3, 3, 2, 2, 2, 2, 2, 2, 3, 3, 3, 2, 2, 2, 14, 2, 5, 2, 2, 2, 2, 2, 2, 2, 2, 4, 2, 2, 2, 2, 3, 2, 8, 2, 4, 2, 2, 2, 2, 2, 2, 3, 2, 4, 2, 3, 2, 9, 2, 2, 3, 2, 3, 2, 2, 2, 2, 2, 2, 2, 2, 3, 2, 2, 2, 2, 2, 2, 2, 2, 2, 2, 3, 2, 2, 2, 2, 2, 2, 2, 9, 2, 2, 2, 4, 5, 2, 2, 2, 2, 5, 2, 9, 2, 2, 2, 2, 2, 2, 2, 4, 2, 2, 2, 2, 2, 2, 2, 3, 2, 3, 4, 4, 2, 2, 3, 2, 2, 2, 2, 2, 2, 3, 2, 2, 2, 2, 2, 3, 2, 2, 2, 2, 2, 2, 3, 2, 2, 2, 4, 3, 2, 2, 5, 2, 2, 2, 2, 2, 2, 2, 2, 2, 7, 2, 2, 2, 2, 3, 3, 2, 2, 2, 8, 2, 3, 3, 2, 2, 2, 2, 2, 2, 2, 2, 3, 2, 3, 2, 2, 2, 2, 3, 8, 2, 2, 5, 3, 2, 2, 3, 2, 3, 2, 2, 3, 3, 6, 2, 2, 2, 2, 2, 2, 3, 3, 2, 2, 2, 3, 2, 4, 2, 2, 2, 3, 2, 7, 2, 2, 2, 2, 3, 2, 3, 2, 2, 2, 2, 2, 6, 2, 2, 2, 2, 2, 2, 2, 2, 2, 2, 2, 24, 3, 2, 2, 2, 2, 4, 2, 2, 3, 2, 3, 2, 2, 2, 2, 2, 2, 2, 2, 2, 4, 2, 2, 3, 2, 2, 2, 3, 2, 5, 3, 2, 6, 2, 2, 2, 2, 2, 2, 2, 2, 2, 2, 3, 2, 4, 3, 4, 3, 3, 2, 3, 3, 2, 2, 2, 2, 2, 3, 2, 2, 7, 2, 2, 2, 2, 2, 7, 2, 2, 2, 2, 2, 2, 2, 2, 2, 2, 2, 2, 2, 2, 2, 4, 2, 2, 2, 2, 2, 2, 19, 9, 3, 2, 3, 2, 3, 4, 3, 2, 3, 2, 2, 2, 3, 2, 2, 2, 3, 2, 6, 2, 2, 2, 5, 2, 2, 3, 2, 2, 2, 2, 2, 5, 2, 2, 2, 2, 2, 2, 2, 2, 2, 3, 2, 2, 2, 2, 2, 2, 2, 2, 2, 2, 3, 2, 3, 2, 3, 2, 2, 2, 2, 2, 2, 2, 2, 2, 2, 2, 18, 2, 5, 2, 2, 2, 2, 2, 2, 2, 2, 3, 2, 3, 2, 2, 2, 2, 2, 2, 2, 2, 2, 2, 5, 2, 2, 2, 3, 4, 3, 2, 3, 18, 3, 2, 2, 2, 3, 2, 3, 2, 2, 2, 2]\n",
            "outliers in column  InvestmentFromFriendsCount  have outlier  [1, 1, 1, 1, 1, 2, 2, 1, 1, 1, 1, 1, 1, 1, 1, 1, 1, 1, 1, 1, 1, 1, 1, 2, 1, 1, 1, 1, 1, 1, 1, 1, 1, 1, 1, 1, 1, 1, 1, 1, 1, 1, 2, 1, 1, 1, 1, 1, 2, 1, 1, 2, 1, 1, 1, 1, 1, 1, 1, 1, 1, 2, 1, 1, 1, 1, 1, 1, 2, 2, 1, 2, 1, 1, 2, 1, 1, 2, 9, 1, 1, 1, 1, 1, 1, 1, 1, 1, 2, 1, 1, 2, 1, 1, 1, 1, 1, 1, 1, 1, 1, 1, 1, 1, 1, 1, 2, 1, 1, 1, 1, 1, 1, 1, 1, 4, 1, 1, 1, 1, 1, 3, 1, 1, 1, 1, 1, 1, 1, 2, 1, 1, 1, 1, 1, 1, 1, 1, 2, 4, 1, 1, 2, 1, 1, 4, 2, 1, 1, 2, 1, 1, 1, 1, 1, 1, 1, 1, 1, 1, 3, 1, 1, 1, 1, 2, 1, 1, 1, 1, 1, 1, 1, 1, 1, 1, 1, 1, 1, 1, 1, 1, 1, 1, 1, 1, 1, 2, 1, 1, 1, 3, 1, 2, 1, 1, 1, 1, 1, 2, 1, 1, 1, 1, 1, 1, 1, 2, 1, 1, 1, 1, 1, 1, 1, 1, 1, 1, 1, 2, 1, 1, 2, 1, 3, 1, 1, 1, 2, 1, 1, 1, 1, 1, 1, 1, 1, 1, 2, 1, 1, 1, 1, 1, 1, 1, 1, 1, 1, 1, 2, 1, 1, 1, 1, 2, 33, 1, 1, 1, 1, 2, 2, 1, 1, 1, 1, 1, 2, 1, 1, 1, 2, 20, 1, 1, 1, 1, 1, 1, 1, 1, 1, 1, 1, 1, 1, 1, 1, 3, 1, 2, 2, 1, 1, 1, 1, 1, 1, 1, 1, 1, 1, 1, 1, 1, 1, 1, 3, 1, 1, 2, 1, 1, 15, 1, 1, 1, 1, 1, 1, 1, 1, 1, 1, 1, 1, 1, 1, 1, 1, 1, 1, 1, 1, 1, 1, 1, 1, 1, 1, 1, 1, 2, 1, 1, 1, 1, 1, 1, 1, 1, 1, 1, 1, 2, 1, 1, 2, 1, 1, 1, 2, 1, 1, 1, 1, 1, 1, 1, 1, 1, 1, 1, 1, 1, 1, 1, 1, 1, 1, 1, 1, 1, 1, 1, 1, 1, 1, 1, 1, 1, 1, 1, 1, 1, 1, 1, 1, 1, 1, 1, 1, 1, 1, 1, 2, 1, 1, 1, 1, 1, 1, 1, 1, 2, 1, 1, 1, 5, 1, 2, 1, 1, 1, 1, 1, 2, 1, 2, 1, 2, 1, 1, 1, 2, 1, 2, 1, 1, 1, 1, 1, 1, 1, 1, 1, 1, 1, 1, 1, 1, 1, 1, 1, 1, 1, 1, 1, 1, 1, 1, 1, 1, 1, 1, 1, 1, 1, 1, 1, 2, 1, 1, 1, 1, 1, 1, 2, 1, 3, 1, 1, 1, 1, 1, 1, 1, 1, 1, 1, 1, 2, 1, 1, 1, 1, 2, 1, 1, 1, 1, 1, 1, 1, 1, 1, 4, 1, 1, 1, 1, 1, 1, 1, 1, 1, 1, 1, 1, 1, 1, 1, 1, 1, 1, 1, 1, 1, 2, 1, 1, 2, 1, 1, 2, 1, 1, 1, 1, 1, 1, 1, 1, 1, 2, 1, 1, 2, 1, 1, 1, 1, 1, 1, 1, 1, 2, 1, 1, 1, 2, 1, 4, 1, 1, 1, 1, 1, 1, 2, 1, 1, 1, 1, 1, 1, 1, 2, 1, 1, 1, 1, 2, 1, 6, 1, 1, 2, 1, 1, 1, 1, 1, 1, 1, 1, 1, 3, 1, 1, 1, 1, 2, 1, 1, 1, 1, 1, 1, 1, 2, 1, 1, 1, 3, 1, 1, 1, 1, 1, 2, 1, 1, 1, 2, 2, 1, 1, 2, 1, 1, 1, 1, 1, 1, 1, 1, 1, 1, 1, 1, 1, 1, 1, 1, 1, 1, 1, 1, 1, 1, 1, 1, 1, 1, 1, 1, 1, 1, 3, 1, 1, 1, 1, 1, 1, 1, 1, 1, 1, 1, 2, 2, 1, 2, 2, 1, 1, 1, 1, 1, 1, 1, 1, 1, 1, 1, 1, 1, 1, 1, 1, 2, 1, 1, 1, 1, 1, 1, 1, 1, 1, 1, 1, 1, 1, 1, 1, 1, 1, 1, 1, 1, 1, 1, 4, 1, 1, 1, 1, 1, 1, 1, 1, 1, 1, 1, 1, 1, 1, 1, 1, 1, 1, 1, 1, 1, 1, 1, 1, 1, 1, 2, 2, 1, 1, 1, 1, 1, 1, 1, 1, 1, 1, 1, 1, 1, 1, 1, 1, 1, 1, 1, 1, 1, 1, 2, 1, 1, 1, 1, 3, 1, 2, 1, 1, 1, 1, 1, 3, 1, 2, 1, 1, 1, 1, 1, 1, 1, 2, 1, 2, 1, 1, 1, 2, 1, 1, 1, 1, 2, 1, 1, 1, 1, 1, 1, 1, 1, 1, 1, 1, 1, 2, 1, 1, 1, 1, 1, 1, 1, 1, 1, 1, 3, 1, 1, 1, 1, 1, 1, 2, 1, 1, 2, 1, 1, 1, 1, 1, 1, 1, 1, 1, 1, 1, 1, 1, 1, 2, 1, 1, 1, 1, 1, 1, 1, 1, 1, 1, 3, 1, 1, 1, 1, 1, 1, 1, 1, 1, 1, 1, 1, 1, 1, 1, 1, 1, 1, 2, 1, 1, 1, 2, 1, 1, 1, 1, 1, 1, 1, 1, 1, 1, 1, 1, 1, 1, 1, 2, 1, 1, 1, 1, 1, 1, 1, 1, 1, 1, 1, 13, 2, 4, 1, 1, 1, 1, 1, 1, 1, 3, 1, 1, 1, 1, 1, 1, 1, 1, 2, 1, 2, 1, 1, 1, 1, 1, 1, 1, 1, 1, 1, 1, 1, 1, 2, 1, 1, 1, 1, 2, 2, 1, 1, 1, 1, 1, 1, 1, 1, 1, 1, 1, 8, 1, 1, 1, 2, 1, 1, 1, 1, 1, 1, 1, 1, 1, 1, 2, 1, 1, 2, 1, 1, 1, 1, 1, 1, 3, 1, 1, 2, 1, 1, 1, 1, 1, 1, 2, 1, 1, 9, 1, 1, 1, 1, 1, 1, 1, 1, 1, 1, 1, 1, 1, 3, 1, 1, 2, 1, 1, 1, 1, 1, 1, 1, 1, 1, 1, 1, 1, 1, 1, 1, 1, 1, 1, 1, 1, 1, 1, 1, 1, 1, 2, 1, 1, 1, 2, 1, 1, 1, 1, 1, 1, 1, 1, 1, 1, 1, 1, 1, 1, 1, 1, 1, 1, 2, 1, 1, 1, 2, 1, 1, 1, 1, 1, 1, 1, 1, 2, 1, 1, 1, 1, 1, 1, 1, 1, 1, 1, 1, 1, 1, 1, 1, 1, 1, 2, 1, 1, 2, 1, 2, 1, 1, 1, 6, 1, 1, 1, 1, 1, 3, 1, 1, 1, 1, 1, 1, 1, 1, 2, 1, 1, 3, 1, 1, 1, 1, 2, 1, 1, 1, 1, 1, 1, 1, 1, 3, 4, 1, 1, 1, 1, 8, 1, 2, 1, 1, 1, 1, 1, 1, 1, 1, 1, 3, 1, 1, 1, 1, 1, 1, 2, 1, 2, 4, 1, 1, 1, 1, 1, 1, 1, 1, 1, 1, 1, 1, 1, 1, 1, 9, 1, 2, 1, 1, 1, 1, 1, 1, 1, 1, 1, 1, 2, 1, 1, 1, 1, 2, 1, 1, 1, 1, 1, 1, 1, 1, 1, 2, 1, 1, 2, 1, 1, 1, 1, 3, 1, 1, 1, 1, 1, 1, 1, 1, 1, 1, 1, 1, 1, 2, 1, 3, 1, 1, 1, 1, 2, 2, 1, 1, 1, 2, 1, 1, 1, 1, 1, 1, 1, 1, 1, 1, 1, 1, 5, 1, 1, 1, 1, 2, 2, 2, 1, 1, 1, 1, 1, 1, 1, 1, 1, 1, 1, 2, 1, 1, 1, 1, 1, 1, 7, 1, 1, 1, 1, 1, 1, 2, 4, 1, 1, 1, 1, 1, 1, 1, 9, 1, 1, 1, 1, 1, 1, 1, 1, 1, 2, 1, 1, 1, 1, 1, 1, 1, 2, 1, 2, 1, 1, 1, 1, 1, 1, 1, 1, 1, 1, 1, 1, 2, 1, 1, 1, 1, 1, 2, 1, 1, 2, 8, 1, 1, 1, 1, 1, 1, 1, 1, 5, 1, 3, 1, 1, 1, 2, 3, 1, 1, 1, 1, 1, 1, 1, 1, 1, 1, 1, 1, 1, 1, 1, 1, 1, 5, 1, 1, 2, 1, 1, 1, 1, 1, 1, 1, 1, 1, 1, 1, 1, 2, 1, 1, 1, 1, 1, 1, 1, 1, 1, 1, 1, 1, 1, 1, 1, 1, 1, 1, 1, 1, 1, 3, 1, 1, 1, 2, 1, 1, 1, 1, 1, 1, 1, 1, 1, 2, 1, 1, 1, 1, 1, 1, 1, 1, 2, 1, 1, 3, 1, 1, 2, 1, 1, 1, 1, 1, 1, 1, 1, 1, 1, 1, 2, 1, 1, 1, 1, 1, 1, 1, 1, 1, 4, 1, 1, 5, 1, 1, 1, 1, 1, 1, 1, 1, 1, 1, 1, 2, 4, 1, 1, 1, 1, 1, 1, 1, 1, 1, 1, 1, 1, 1, 2, 1, 1, 2, 1, 2, 1, 2, 1, 1, 1, 1, 1, 1, 1, 2, 2, 1, 1, 1, 1, 1, 1, 1, 1, 2, 1, 1, 1, 3, 1, 1, 1, 1, 1, 1, 1, 1, 1, 1, 1, 2, 1, 1, 1, 2, 1, 2, 1, 1, 1, 2, 2, 1, 1, 1, 1, 2, 1, 1, 1, 1, 1, 1, 1, 2, 1, 1, 1, 1, 1, 1, 1, 2, 1, 1, 1, 1, 1, 2, 1, 1, 2, 1, 5, 1, 1, 1, 1, 1, 1, 2, 1, 2, 1, 1, 3, 2, 2, 1, 1, 1, 1, 1, 1, 2, 1, 2, 1, 1, 1, 1, 1, 1, 1, 1, 1, 1, 1, 1, 2, 1, 1, 1, 1, 1, 2, 1, 1, 1, 1, 3, 1, 1, 1, 4, 1, 1, 2, 1, 1, 1, 1, 2, 1, 1, 1, 1, 2, 1, 1, 1, 1, 1, 1, 1, 1, 1, 1, 1, 1, 1, 1, 2, 1, 1, 1, 1, 1, 1, 1, 1, 1, 1, 1, 1, 1, 1, 1, 1, 1, 1, 1, 3, 1, 1, 1, 1, 7, 1, 1, 1, 1, 1, 1, 1, 1, 2, 1, 1, 1, 1, 1, 1, 1, 1, 2, 1, 1, 1, 1, 1, 1, 1, 1, 1, 1, 1, 1, 1, 1, 1, 1, 2, 1, 1, 1, 1, 1, 1, 1, 1, 1, 1, 1, 1, 1, 1, 1, 1, 1, 3, 1, 2, 1, 1, 1, 1, 1, 1, 1, 1, 1, 1, 1, 1, 1, 1, 1, 1, 1, 1, 3, 1, 2, 1, 1, 1, 2, 1, 1, 1, 1, 6, 1, 1, 5, 1, 1, 1, 2, 1, 2, 1, 1, 1, 1, 1, 1, 1, 1, 1, 1, 1, 1, 1, 1, 1, 1, 1, 1, 1, 1, 3, 1, 1, 1, 1, 1, 2, 1, 1, 1, 1, 1, 1, 1, 1, 1, 2, 1, 1, 3, 1, 1, 1, 1, 1, 1, 1, 2, 1, 3, 1, 1, 2, 1, 1, 6, 1, 1, 1, 1, 1, 1, 1, 2, 1, 1, 2, 1, 2, 1, 1, 1, 1, 1, 1, 1, 1, 1, 1, 1, 1, 1, 2, 2, 1, 1, 1, 1, 1, 1, 1, 3, 1, 2, 1, 1, 2, 1, 1, 1, 2, 1, 2, 1, 1, 1, 1, 1, 1, 1, 1, 1, 1, 1, 1, 1, 1, 1, 2, 1, 4, 1, 1, 1, 1, 1, 1, 1, 1, 1, 1, 1, 1, 1, 1, 1, 1, 1, 1, 1, 1, 2, 1, 1, 1, 1, 1, 1, 1, 1, 1, 1, 1, 1, 1, 1, 1, 1, 3, 1, 1, 1, 1, 1, 1, 1, 1, 1, 1, 1, 1, 1, 1, 2, 1, 1, 1, 2, 1, 1, 1, 1, 1, 1, 1, 1, 1, 4, 2, 1, 1, 1, 1, 1, 2, 1, 1, 1, 1, 1, 1, 1, 1, 1, 1, 1, 2, 1, 1, 1, 1, 1, 1, 1, 1, 1, 1, 1, 1, 1, 1, 1, 1, 5, 2, 1, 1, 1, 1, 2, 1, 1, 1, 1, 1, 1, 1, 1, 1, 1, 1, 1, 1, 1, 2, 1, 3, 1, 1, 1, 1, 1, 1, 1, 1, 1, 1, 1, 1, 1, 1, 2, 2, 1, 1, 1, 1, 1, 2, 1, 1, 3, 1, 1, 1, 1, 1, 1, 1, 1, 1, 1, 1, 1, 1, 1, 1, 2, 1, 1, 1, 1, 1, 1, 1, 1, 1, 1, 1, 1, 1, 1, 1, 1, 1, 1, 9, 1, 1, 2, 1, 1, 1, 1, 1, 1, 1, 1, 1, 2, 1, 1, 1, 1, 1, 1, 1, 1, 1, 1, 1, 1, 1, 1, 2, 1, 1, 1, 1, 1, 1, 1, 2, 1, 1, 2, 1, 1, 1, 1]\n",
            "outliers in column  InvestmentFromFriendsAmount  have outlier  [1100.0, 1058.77, 6101.0, 1000.0, 3093.3, 3000.0, 2500.0, 1500.0, 1600.0, 1000.0, 1380.0, 3000.0, 2000.0, 949.08, 2500.0, 1000.0, 5250.0, 1000.0, 4450.0, 12459.55, 1200.0, 8200.0, 2000.0, 5500.0, 4500.0, 1000.0, 3500.0, 2750.0, 953.33, 2100.0, 1200.0, 1174.53, 1000.0, 1020.98, 10000.0, 1000.0, 5000.0, 2180.05, 2201.0, 3456.08, 2500.0, 1000.0, 1000.0, 7000.0, 3000.0, 12780.0, 1774.42, 6500.0, 3000.0, 1200.0, 1333.98, 1000.0, 3535.0, 1000.0, 4000.0, 1000.0, 1750.0, 1000.0, 1000.0, 23699.52, 5447.26, 1010.0, 3275.0, 3800.0, 6261.28, 2975.0, 2500.0, 1941.55, 2950.0, 1000.0, 3000.0, 7000.0, 975.0, 968.2, 3000.0, 10593.67, 7650.0, 5025.37, 5405.0, 1500.0, 8200.0, 1000.0, 1200.0, 2000.0, 1000.0, 6100.0, 1000.0, 1500.08, 1000.0, 3000.0, 2500.0, 1000.0, 2000.0, 2000.0, 9500.0, 3000.0, 4500.0, 5000.0, 3000.0, 3000.0, 2372.0, 1000.0, 1100.0, 2272.22, 3000.0, 1750.0, 2000.0, 2000.0, 3761.13, 1000.0, 7000.0, 1550.0, 2850.0, 1645.44, 10100.0, 2034.97, 1000.0, 1000.0, 1011.0, 2000.0, 1001.99, 3000.0, 3000.0, 2500.0, 1000.0, 2590.0, 3450.0, 1000.0, 1000.0, 3950.0, 1493.66, 3000.0, 1500.0, 6000.0, 2008.5, 1635.57, 1430.0, 2000.0, 1000.0, 1000.0, 1028.0, 4428.0, 2000.0, 3750.0, 2000.0, 1600.0, 2550.0, 4000.0, 5000.0, 3000.0, 3603.69, 1015.26, 2855.73, 5000.0, 1000.0, 4500.0, 1000.0, 8500.0, 1100.0, 7000.0, 1000.0, 1000.0, 1019.77, 1690.0, 1000.0, 1000.0, 9500.0, 1004.9, 5000.0, 1515.1, 2000.0, 5000.0, 7000.0, 3000.0, 1000.0, 6500.0, 4950.0, 2500.0, 1000.0, 1500.0, 4000.0, 971.17, 3700.0, 7000.0, 1500.0, 1000.0, 1000.0, 2500.0, 1157.62, 1500.0, 1042.62, 9783.14, 1000.0, 2700.0, 5850.0, 2010.0, 5000.0, 1000.0, 10000.0, 1571.08, 1000.0, 10150.0, 1000.0, 1200.0, 1000.0, 2800.0, 1000.0, 5000.0, 7388.36, 1151.41, 1000.0, 1000.0, 1500.0, 2000.0, 1879.98, 1150.0, 5000.0, 1920.0, 5134.72, 5100.0, 3500.0, 2000.0, 6000.0, 3000.0, 12022.32, 1650.0, 1000.0, 1100.0, 1000.0, 1450.0, 1000.0, 4000.0, 991.24, 1975.0, 5712.15, 1043.66, 10000.0, 3650.0, 4000.0, 1000.0, 2000.0, 2040.0, 1000.0, 12000.0, 2350.0, 5064.6, 5000.0, 25000.0, 1000.0, 2500.0, 1800.0, 3500.0, 1000.0, 1000.0, 1000.0, 1250.0, 7425.0, 1000.0, 4500.0, 4500.0, 4000.0, 1000.0, 1000.0, 1026.99, 935.0, 1950.0, 1300.0, 2000.0, 3550.0, 1773.0, 6850.0, 3000.0, 2900.0, 2800.0, 1000.0, 1300.0, 1053.08, 2500.0, 1500.0, 3505.0, 8580.0, 4000.0, 1500.0, 1000.0, 1000.0, 3525.0, 1000.0, 1001.45, 1000.0, 6000.0, 2000.0, 1175.0, 3000.0, 7500.0, 10000.0, 2000.0, 5000.0, 1036.56, 1925.0, 3800.0, 1036.88, 1000.0, 4432.0, 8031.17, 1100.0, 2110.0, 1000.0, 6001.0, 5050.0, 1975.0, 1006.26, 2338.49, 8358.69, 1500.0, 1000.0, 12805.0, 15000.0, 1186.07, 2500.0, 4500.0, 1001.68, 2200.0, 3000.0, 3682.52, 4000.0, 1250.0, 4069.12, 1400.0, 1871.84, 1000.0, 14400.0, 6500.0, 8500.0, 3000.0, 2350.0, 1500.0, 1025.44, 15000.0, 5000.0, 10000.0, 1000.0, 2000.0, 1000.0, 1000.0, 3000.0, 2200.0, 1700.0, 5000.0, 3200.0, 1650.0, 1058.17, 9000.0, 6000.0, 1200.0, 5476.99, 6800.0, 1186.67, 1000.0, 1214.06, 2500.0, 12500.0, 14350.0, 1100.0, 1500.0, 3600.0, 1299.19, 5140.0, 1350.0, 1893.09, 1500.0, 2009.92, 1550.0, 1085.58, 3407.49, 1400.0, 11000.0, 1250.0, 4900.0, 4000.0, 5083.31, 3051.0, 1116.86, 1541.35, 1815.0, 1000.0, 1048.16, 1003.19, 12050.0, 1001.08, 4100.0, 1500.0, 1916.02, 10000.0, 2750.0, 6500.0, 1143.82, 1000.0, 2500.0, 1000.0, 5000.0, 4000.0, 1000.0, 1226.94, 2500.0, 1000.0, 6000.0, 2000.0, 5000.0, 1000.0, 2000.0, 1000.0, 11000.0, 1000.0, 2550.0, 2000.0, 1003.4, 2000.0, 1031.5, 1500.0, 15000.0, 1019.37, 3500.0, 1000.0, 3487.3, 1750.0, 6515.76, 5000.0, 1000.0, 1000.0, 1000.0, 1000.0, 4000.0, 1500.0, 1200.0, 1000.0, 5047.5, 9000.0, 1025.0, 1050.0, 1000.0, 1001.99, 1825.0, 1000.0, 5000.0, 5000.0, 1582.49, 1000.0, 1000.0, 7500.0, 1075.0, 2000.0, 3000.0, 1506.23, 4000.0, 1250.0, 1000.0, 4000.0, 1000.0, 1500.0, 4182.0, 1748.66, 2100.0, 2060.0, 1724.99, 1000.0, 1066.04, 1000.0, 1000.0, 1304.67, 1000.0, 937.95, 5100.0, 1019.46, 2720.0, 3000.0, 2350.0, 2884.06, 2521.63, 2000.0, 6001.61, 1834.56, 1000.0, 1000.0, 2000.0, 2000.0, 988.12, 3000.0, 2650.0, 1950.0, 3000.0, 6425.0, 1000.0, 2000.0, 7000.0, 1000.0, 2540.55, 4692.0, 16000.0, 5000.0]\n",
            "outliers in column  Investors  have outlier  [515, 481, 413, 430, 623, 405, 568, 685, 532, 718, 411, 564, 412, 534, 599, 467, 408, 433, 392, 782, 434, 401, 415, 426, 620, 443, 425, 465, 501, 527, 516, 404, 844, 442, 435, 443, 495, 585, 433, 410, 684, 437, 547, 484, 432, 400, 426, 498, 535, 399, 531, 415, 412, 563, 624, 433, 391, 484, 392, 575, 539, 493, 524, 540, 472, 586, 621, 392, 514, 645, 481, 394, 654, 430, 396, 399, 402, 573, 410, 561, 466, 422, 402, 430, 434, 495, 417, 528, 899, 408, 425, 520, 657, 498, 649, 399, 432, 414, 587, 401, 514, 395, 444, 466, 497, 473, 447, 416, 554, 439, 516, 436, 406, 401, 543, 566, 432, 417, 584, 430, 424, 567, 422, 413, 497, 393, 464, 430, 394, 588, 490, 617, 433, 417, 456, 430, 478, 575, 392, 439, 494, 622, 449, 502, 571, 519, 469, 442, 436, 452, 578, 487, 561, 532, 559, 446, 473, 428, 400, 431, 469, 414, 447, 455, 487, 419, 815, 718, 427, 540, 637, 405, 599, 423, 440, 395, 562, 399, 516, 431, 584, 469, 413, 560, 424, 524, 410, 483, 523, 391, 423, 411, 562, 425, 427, 461, 417, 458, 439, 447, 468, 486, 434, 446, 392, 724, 403, 485, 438, 524, 488, 560, 445, 417, 391, 542, 595, 425, 406, 475, 474, 516, 521, 428, 523, 413, 685, 420, 403, 405, 446, 741, 684, 483, 446, 833, 503, 451, 487, 401, 585, 392, 532, 434, 460, 458, 448, 619, 491, 431, 503, 509, 446, 405, 410, 606, 406, 736, 629, 681, 400, 407, 420, 492, 452, 428, 553, 400, 476, 428, 506, 566, 396, 418, 424, 412, 422, 413, 529, 475, 426, 581, 433, 552, 512, 399, 419, 525, 433, 635, 639, 507, 566, 484, 734, 393, 428, 659, 774, 397, 519, 426, 515, 470, 619, 396, 505, 444, 499, 402, 459, 431, 603, 459, 432, 459, 475, 407, 553, 413, 646, 682, 418, 459, 416, 488, 400, 521, 415, 917, 407, 715, 471, 570, 446, 568, 413, 463, 492, 429, 454, 454, 456, 438, 402, 400, 399, 434, 464, 435, 448, 434, 443, 650, 530, 433, 392, 395, 707, 500, 451, 466, 398, 581, 646, 441, 414, 503, 621, 455, 462, 461, 540, 442, 541, 395, 410, 404, 490, 445, 770, 413, 460, 409, 503, 557, 519, 424, 403, 399, 647, 401, 873, 415, 401, 416, 658, 395, 538, 552, 564, 511, 584, 403, 408, 399, 774, 599, 423, 496, 444, 437, 404, 391, 442, 558, 591, 581, 487, 619, 533, 428, 413, 456, 760, 444, 531, 474, 493, 454, 818, 417, 458, 483, 425, 564, 431, 468, 526, 595, 425, 444, 558, 462, 449, 422, 441, 407, 391, 391, 424, 483, 436, 551, 819, 418, 424, 458, 406, 506, 425, 430, 562, 578, 477, 472, 490, 709, 455, 427, 391, 422, 395, 551, 541, 494, 488, 399, 441, 408, 463, 831, 403, 414, 583, 494, 683, 541, 536, 551, 528, 580, 464, 392, 408, 540, 461, 537, 468, 448, 425, 537, 522, 432, 578, 523, 527, 468, 521, 470, 494, 565, 409, 470, 504, 527, 436, 487, 424, 403, 437, 496, 515, 428, 397, 440, 429, 437, 391, 395, 393, 565, 543, 488, 539, 494, 392, 684, 466, 599, 495, 405, 550, 407, 450, 593, 649, 408, 467, 789, 605, 433, 550, 462, 458, 476, 477, 455, 519, 397, 434, 405, 537, 400, 499, 412, 392, 410, 448, 418, 439, 515, 428, 424, 436, 1024, 495, 407, 486, 396, 539, 569, 420, 447, 582, 403, 495, 526, 436, 500, 523, 522, 393, 481, 457, 410, 426, 508, 487, 411, 459, 537, 549, 535, 411, 432, 450, 489, 423, 397, 562, 404, 648, 621, 481, 518, 515, 419, 422, 482, 538, 601, 408, 501, 451, 496, 495, 613, 468, 405, 409, 400, 553, 656, 701, 505, 499, 415, 624, 655, 412, 457, 396, 412, 505, 504, 605, 796, 554, 495, 658, 614, 427, 487, 462, 444, 443, 419, 447, 449, 557, 683, 547, 433, 442, 467, 400, 401, 542, 475, 585, 436, 591, 429, 413, 400, 695, 492, 394, 636, 445, 437, 432, 445, 604, 431, 445, 521, 421, 560, 424, 519, 410, 422, 424, 603, 625, 404, 559, 500, 485, 401, 403, 422, 779, 599, 400, 449, 439, 394, 404, 440, 458, 553, 408, 504, 409, 392, 500, 488, 451, 407, 432, 524, 600, 397, 481, 467, 517, 410, 396, 396, 412, 514, 401, 453, 519, 398, 563, 415, 400, 400, 451, 431, 408, 410, 450, 447, 413, 533, 888, 599, 479, 530, 515, 419, 394, 663, 542, 505, 422, 639, 508, 427, 450, 405, 449, 430, 452, 391, 428, 727, 436, 505, 421, 405, 579, 547, 408, 671, 404, 494, 429, 456, 408, 666, 427, 407, 485, 737, 394, 395, 415, 542, 467, 430, 640, 549, 395, 438, 586, 454, 530, 392, 426, 525, 413, 394, 391, 429, 406, 517, 563, 427, 549, 592, 556, 418, 596, 400, 397, 441, 410, 432, 417, 432, 714, 415, 409, 601, 423, 449, 539, 433, 525, 400, 423, 489, 398, 402, 412, 394, 410, 498, 521, 662, 467, 577, 517, 394, 404, 569, 621, 407, 426, 545, 479, 431, 416, 503, 461, 396, 469, 476, 469, 405, 410, 471, 406, 412, 697, 553, 394, 482, 414, 407, 524, 439, 435, 544, 429, 415, 614, 487, 667, 538, 479, 430, 752, 423, 414, 518, 437, 432, 501, 618, 554, 640, 498, 485, 538, 497, 580, 474, 417, 412, 659, 489, 556, 463, 439, 555, 499, 412, 406, 634, 458, 425, 442, 665, 417, 431, 424, 481, 416, 514, 395, 519, 452, 454, 462, 391, 399, 402, 417, 513, 506, 657, 430, 492, 459, 519, 468, 414, 408, 431, 392, 409, 420, 727, 436, 391, 464, 412, 418, 508, 445, 414, 434, 557, 477, 394, 533, 449, 473, 472, 420, 447, 745, 461, 421, 664, 573, 505, 804, 391, 520, 416, 591, 392, 519, 459, 557, 405, 557, 425, 448, 541, 474, 419, 496, 404, 412, 443, 409, 610, 737, 585, 540, 614, 538, 562, 434, 416, 444, 448, 586, 459, 462, 679, 437, 626, 402, 396, 474, 401, 497, 509, 409, 635, 508, 539, 751, 567, 511, 408, 476, 424, 594, 521, 418, 661, 474, 400, 392, 429, 530, 802, 396, 499, 450, 537, 446, 594, 422, 502, 403, 507, 433, 485, 451, 608, 428, 566, 469, 422, 420, 484, 495, 477, 737, 478, 398, 424, 560, 511, 414, 558, 636, 430, 453, 443, 418, 391, 409, 537, 483, 400, 411, 649, 589, 580, 442, 564, 1035, 612, 512, 564, 497, 484, 616, 477, 567, 441, 396, 419, 491, 415, 579, 425, 593, 472, 475, 486, 398, 440, 472, 702, 627, 821, 664, 648, 528, 472, 582, 476, 652, 430, 550, 566, 397, 421, 635, 583, 573, 417, 533, 399, 447, 411, 433, 483, 545, 452, 392, 408, 513, 427, 443, 391, 409, 421, 432, 603, 403, 581, 639, 408, 486, 404, 488, 393, 426, 567, 531, 393, 400, 446, 391, 420, 481, 415, 401, 445, 433, 434, 626, 470, 625, 432, 568, 587, 419, 401, 516, 444, 398, 399, 614, 456, 505, 498, 419, 527, 452, 397, 487, 586, 536, 425, 520, 553, 500, 464, 481, 456, 401, 582, 662, 530, 532, 447, 419, 427, 468, 477, 480, 463, 401, 612, 393, 394, 526, 410, 428, 477, 452, 414, 402, 536, 504, 434, 519, 548, 405, 401, 479, 401, 391, 499, 431, 661, 432, 404, 466, 415, 561, 477, 433, 490, 756, 663, 457, 495, 396, 580, 863, 465, 593, 547, 449, 409, 408, 408, 533, 478, 556, 487, 472, 585, 483, 519, 407, 506, 413, 471, 464, 491, 479, 460, 500, 428, 396, 461, 399, 424, 524, 442, 440, 800, 597, 697, 409, 419, 412, 458, 542, 527, 432, 429, 507, 504, 401, 669, 473, 536, 596, 408, 629, 399, 544, 521, 403, 568, 437, 515, 411, 506, 444, 422, 504, 442, 422, 424, 572, 409, 508, 451, 445, 429, 485, 428, 462, 461, 474, 424, 439, 435, 414, 537, 588, 654, 478, 557, 548, 444, 417, 490, 401, 422, 494, 395, 599, 433, 430, 407, 398, 434, 498, 565, 437, 460, 419, 426, 510, 449, 533, 617, 454, 410, 396, 478, 604, 401, 455, 541, 391, 531, 506, 553, 396, 409, 479, 423, 467, 483, 597, 449, 419, 397, 755, 412, 413, 547, 417, 422, 443, 420, 508, 408, 483, 465, 513, 640, 501, 458, 453, 417, 514, 420, 474, 398, 410, 392, 630, 736, 560, 572, 415, 444, 514, 442, 468, 466, 418, 414, 408, 497, 583, 480, 408, 442, 428, 501, 411, 513, 711, 416, 444, 434, 470, 403, 451, 656, 539, 441, 399, 856, 617, 458, 393, 537, 556, 435, 425, 444, 514, 439, 393, 523, 436, 418, 502, 524, 403, 438, 466, 470, 434, 397, 464, 510, 525, 510, 499, 455, 568, 450, 530, 393, 412, 422, 577, 688, 393, 421, 403, 471, 396, 398, 395, 392, 411, 398, 491, 459, 455, 413, 392, 444, 402, 525, 424, 440, 535, 439, 399, 474, 393, 547, 575, 446, 498, 464, 479, 400, 464, 494, 557, 677, 881, 558, 470, 522, 437, 453, 433, 579, 558, 499, 756, 477, 536, 561, 421, 438, 658, 410, 432, 608, 714, 397, 429, 580, 461, 612, 460, 401, 415, 528, 446, 492, 392, 421, 393, 515, 483, 396, 508, 428, 643, 606, 445, 638, 563, 510, 451, 401, 401, 423, 446, 453, 677, 391, 516, 449, 576, 684, 426, 556, 417, 589, 562, 636, 402, 532, 412, 414, 413, 618, 401, 441, 483, 458, 476, 422, 429, 398, 476, 473, 519, 500, 405, 489, 468, 397, 431, 459, 463, 408, 427, 411, 420, 585, 600, 508, 432, 505, 495, 456, 495, 432, 810, 456, 429, 453, 479, 434, 404, 450, 1011, 402, 605, 502, 408, 482, 542, 608, 499, 438, 437, 693, 607, 450, 537, 558, 479, 663, 457, 567, 452, 502, 500, 461, 488, 435, 838, 424, 394, 418, 430, 497, 476, 534, 420, 404, 574, 522, 436, 421, 526, 560, 423, 639, 443, 485, 611, 505, 426, 403, 466, 463, 507, 567, 525, 418, 419, 535, 486, 398, 484, 429, 463, 438, 836, 500, 631, 432, 394, 731, 498, 430, 411, 430, 417, 465, 396, 525, 538, 407, 566, 500, 536, 419, 408, 506, 445, 607, 496, 490, 399, 578, 456, 456, 404, 448, 395, 495, 463, 492, 432, 419, 403, 412, 622, 478, 449, 405, 541, 641, 403, 407, 516, 568, 436, 461, 515, 430, 391, 608, 472, 504, 409, 563, 436, 413, 414, 506, 447, 510, 478, 441, 611, 392, 425, 483, 497, 444, 522, 396, 459, 467, 402, 481, 412, 416, 642, 588, 401, 460, 483, 419, 638, 407, 561, 446, 498, 508, 584, 441, 453, 439, 552, 449, 527, 441, 675, 673, 394, 401, 403, 446, 610, 420, 393, 589, 529, 417, 517, 416, 478, 501, 584, 418, 441, 420, 562, 706, 477, 433, 546, 740, 431, 409, 461, 394, 412, 410, 398, 436, 394, 400, 539, 413, 677, 415, 420, 601, 529, 487, 505, 442, 416, 404, 564, 408, 438, 653, 436, 395, 473, 579, 1189, 528, 417, 568, 452, 536, 613, 505, 437, 841, 401, 474, 538, 503, 589, 641, 399, 443, 598, 416, 412, 519, 435, 448, 562, 427, 518, 495, 406, 422, 417, 712, 431, 450, 539, 486, 643, 423, 532, 416, 391, 403, 500, 422, 492, 463, 421, 913, 439, 617, 414, 466, 569, 544, 739, 520, 474, 503, 472, 476, 625, 455, 463, 611, 401, 482, 452, 412, 598, 436, 565, 397, 428, 474, 435, 574, 420, 604, 567, 544, 737, 451, 433, 406, 522, 444, 442, 427, 523, 416, 409, 423, 514, 391, 417, 407, 441, 432, 467, 405, 534, 572, 574, 416, 551, 703, 418, 565, 413, 414, 412, 487, 445, 417, 421, 463, 426, 453, 688, 525, 405, 474, 526, 491, 423, 564, 549, 398, 493, 537, 562, 488, 840, 587, 697, 490, 443, 712, 677, 724, 397, 536, 477, 790, 451, 408, 466, 619, 527, 448, 430, 671, 458, 482, 457, 514, 433, 518, 457, 485, 440, 421, 439, 506, 516, 502, 581, 450, 503, 419, 448, 612, 467, 472, 644, 459, 449, 507, 427, 588, 397, 482, 406, 866, 429, 413, 446, 612, 652, 529, 413, 568, 552, 459, 714, 404, 447, 412, 473, 429, 393, 519, 488, 424, 405, 451, 603, 478, 404, 560, 483, 466, 430, 456, 462, 407, 417, 646, 479, 400, 441, 503, 471, 667, 407, 422, 413, 443, 398, 653, 520, 573, 404, 445, 408, 406, 550, 394, 394, 609, 435, 587, 456, 446, 435, 465, 551, 652, 421, 398, 450, 411, 404, 402, 488, 500, 494, 395, 489, 565, 492, 404, 558, 510, 463, 443, 504, 410, 700, 415, 513, 434, 579, 395, 550, 709, 400, 891, 419, 404, 391, 405, 470, 500, 462, 607, 494, 599, 407, 451, 403, 612, 540, 673, 418, 392, 691, 577, 739, 401, 537, 692, 442, 562, 510, 499, 533, 420, 440, 424, 513, 705, 401, 660, 594, 402, 418, 544, 508, 447, 762, 690, 443, 518, 486, 403, 495, 507, 457, 459, 662, 404, 401, 506, 439, 469, 404, 461, 429, 544, 478, 559, 501, 416, 495, 476, 405, 419, 667, 418, 439, 519, 460, 464, 517, 485, 423, 447, 428, 517, 488, 392, 502, 429, 491, 422, 410, 576, 407, 517, 456, 426, 600, 421, 543, 546, 518, 644, 457, 444, 801, 468, 538, 473, 552, 583, 512, 671, 412, 440, 483, 413, 412, 401, 392, 424, 475, 457, 414, 414, 459, 393, 434, 458, 631, 448, 532, 393, 414, 730, 455, 472, 459, 532, 496, 421, 442, 532, 646, 507, 422, 418, 499, 459, 421, 456, 417, 403, 670, 497, 467, 537, 474, 478, 650, 476, 393, 428, 407, 391, 391, 467, 567, 441, 596, 394, 522, 442, 402, 455, 894, 417, 418, 393, 420, 517, 392, 472, 457, 411, 442, 445, 470, 483, 418, 870, 540, 435, 421, 488, 440, 518, 437, 418, 437, 473, 621, 421, 396, 427, 540, 466, 422, 502, 452, 636, 496, 512, 478, 488, 448, 441, 410, 450, 427, 393, 503, 420, 432, 418, 480, 438, 446, 452, 492, 417, 458, 568, 488, 395, 466, 466, 399, 510, 407, 542, 671, 408, 529, 414, 402, 394, 427, 618, 833, 408, 408, 416, 624, 411, 417, 405, 735, 394, 421, 423, 464, 432, 912, 396, 403, 398, 422, 442, 466, 580, 754]\n"
          ]
        }
      ]
    },
    {
      "cell_type": "code",
      "source": [
        "#replace putlier with null\n",
        "# Mean-3*std ,mean+3*std \n",
        "def treat_outlier(data,col_mean,col_std):\n",
        "    outliers=[]\n",
        "    ther=3\n",
        "    for i in range(len(data)) :\n",
        "        z=(data[i]-col_mean)/col_std\n",
        "        if np.abs(z)>3 :\n",
        "            data[i]=np.nan"
      ],
      "metadata": {
        "id": "OyhPueGKq9Rb"
      },
      "execution_count": 583,
      "outputs": []
    },
    {
      "cell_type": "code",
      "source": [
        "for i in range(len(float_D)):\n",
        "    if i=='BorrowerRate':\n",
        "        continue \n",
        "    treat_outlier(data[float_D[i]],data_mean[i],data_std[i])"
      ],
      "metadata": {
        "colab": {
          "base_uri": "https://localhost:8080/"
        },
        "id": "2MVVHLJRt0eX",
        "outputId": "f9f9dc88-eb99-4bcc-d402-79fea7b222e0"
      },
      "execution_count": 584,
      "outputs": [
        {
          "output_type": "stream",
          "name": "stderr",
          "text": [
            "/usr/local/lib/python3.7/dist-packages/ipykernel_launcher.py:9: SettingWithCopyWarning: \n",
            "A value is trying to be set on a copy of a slice from a DataFrame\n",
            "\n",
            "See the caveats in the documentation: https://pandas.pydata.org/pandas-docs/stable/user_guide/indexing.html#returning-a-view-versus-a-copy\n",
            "  if __name__ == '__main__':\n",
            "/usr/local/lib/python3.7/dist-packages/pandas/core/indexing.py:1732: SettingWithCopyWarning: \n",
            "A value is trying to be set on a copy of a slice from a DataFrame\n",
            "\n",
            "See the caveats in the documentation: https://pandas.pydata.org/pandas-docs/stable/user_guide/indexing.html#returning-a-view-versus-a-copy\n",
            "  self._setitem_single_block(indexer, value, name)\n"
          ]
        }
      ]
    },
    {
      "cell_type": "code",
      "source": [
        "for i in range(len(float_D)):\n",
        "    if i =='BorrowerRate':\n",
        "        continue \n",
        "    z_score(data[float_D[i]],float_D[i],data_mean[i],data_std[i])\n",
        "  "
      ],
      "metadata": {
        "colab": {
          "base_uri": "https://localhost:8080/"
        },
        "id": "eZHrzbf1rACs",
        "outputId": "e81678ef-9c21-4177-ebde-a387e6b83b1f"
      },
      "execution_count": 585,
      "outputs": [
        {
          "output_type": "stream",
          "name": "stdout",
          "text": [
            "outliers in column  ListingNumber  have outlier  []\n",
            "outliers in column  Term  have outlier  []\n",
            "outliers in column  BorrowerAPR  have outlier  []\n",
            "outliers in column  BorrowerRate  have outlier  []\n",
            "outliers in column  LenderYield  have outlier  []\n",
            "outliers in column  EstimatedEffectiveYield  have outlier  []\n",
            "outliers in column  EstimatedLoss  have outlier  []\n",
            "outliers in column  EstimatedReturn  have outlier  []\n",
            "outliers in column  ProsperScore  have outlier  []\n",
            "outliers in column  ListingCategory (numeric)  have outlier  []\n",
            "outliers in column  EmploymentStatusDuration  have outlier  []\n",
            "outliers in column  CreditScoreRangeLower  have outlier  []\n",
            "outliers in column  CreditScoreRangeUpper  have outlier  []\n",
            "outliers in column  CurrentCreditLines  have outlier  []\n",
            "outliers in column  OpenCreditLines  have outlier  []\n",
            "outliers in column  TotalCreditLinespast7years  have outlier  []\n",
            "outliers in column  OpenRevolvingAccounts  have outlier  []\n",
            "outliers in column  OpenRevolvingMonthlyPayment  have outlier  []\n",
            "outliers in column  InquiriesLast6Months  have outlier  []\n",
            "outliers in column  TotalInquiries  have outlier  []\n",
            "outliers in column  CurrentDelinquencies  have outlier  []\n",
            "outliers in column  AmountDelinquent  have outlier  []\n",
            "outliers in column  DelinquenciesLast7Years  have outlier  []\n",
            "outliers in column  PublicRecordsLast10Years  have outlier  []\n",
            "outliers in column  PublicRecordsLast12Months  have outlier  []\n",
            "outliers in column  RevolvingCreditBalance  have outlier  []\n",
            "outliers in column  BankcardUtilization  have outlier  []\n",
            "outliers in column  AvailableBankcardCredit  have outlier  []\n",
            "outliers in column  TotalTrades  have outlier  []\n",
            "outliers in column  TradesNeverDelinquent (percentage)  have outlier  []\n",
            "outliers in column  TradesOpenedLast6Months  have outlier  []\n",
            "outliers in column  DebtToIncomeRatio  have outlier  []\n",
            "outliers in column  StatedMonthlyIncome  have outlier  []\n",
            "outliers in column  LoanCurrentDaysDelinquent  have outlier  []\n",
            "outliers in column  LoanMonthsSinceOrigination  have outlier  []\n",
            "outliers in column  LoanNumber  have outlier  []\n",
            "outliers in column  LoanOriginalAmount  have outlier  []\n",
            "outliers in column  MonthlyLoanPayment  have outlier  []\n",
            "outliers in column  LP_CustomerPayments  have outlier  []\n",
            "outliers in column  LP_CustomerPrincipalPayments  have outlier  []\n",
            "outliers in column  LP_InterestandFees  have outlier  []\n",
            "outliers in column  LP_ServiceFees  have outlier  []\n",
            "outliers in column  LP_CollectionFees  have outlier  []\n",
            "outliers in column  LP_GrossPrincipalLoss  have outlier  []\n",
            "outliers in column  LP_NetPrincipalLoss  have outlier  []\n",
            "outliers in column  LP_NonPrincipalRecoverypayments  have outlier  []\n",
            "outliers in column  PercentFunded  have outlier  []\n",
            "outliers in column  Recommendations  have outlier  []\n",
            "outliers in column  InvestmentFromFriendsCount  have outlier  []\n",
            "outliers in column  InvestmentFromFriendsAmount  have outlier  []\n",
            "outliers in column  Investors  have outlier  []\n"
          ]
        }
      ]
    },
    {
      "cell_type": "code",
      "source": [
        "n , p ,d= nAn()"
      ],
      "metadata": {
        "colab": {
          "base_uri": "https://localhost:8080/"
        },
        "id": "u8lneUVorEyF",
        "outputId": "3e328168-c820-44b2-b37a-f19e489b3566"
      },
      "execution_count": 586,
      "outputs": [
        {
          "output_type": "stream",
          "name": "stdout",
          "text": [
            "4 \t BorrowerAPR \t 0.0035107120601736044 %\n",
            "6 \t BorrowerRate \t 0.005266068090260407 %\n",
            "6 \t LenderYield \t 0.005266068090260407 %\n",
            "170 \t EstimatedEffectiveYield \t 0.1492052625573782 %\n",
            "446 \t EstimatedLoss \t 0.39144439470935694 %\n",
            "915 \t EstimatedReturn \t 0.803075383764712 %\n",
            "4302 \t ListingCategory (numeric) \t 3.775770820716712 %\n",
            "2078 \t EmploymentStatusDuration \t 1.8238149152601877 %\n",
            "662 \t CreditScoreRangeLower \t 0.5810228459587315 %\n",
            "662 \t CreditScoreRangeUpper \t 0.5810228459587315 %\n",
            "1166 \t CurrentCreditLines \t 1.0233725655406058 %\n",
            "1476 \t OpenCreditLines \t 1.2954527502040603 %\n",
            "998 \t TotalCreditLinespast7years \t 0.8759226590133143 %\n",
            "1621 \t OpenRevolvingAccounts \t 1.4227160623853534 %\n",
            "2132 \t OpenRevolvingMonthlyPayment \t 1.8712095280725312 %\n",
            "2204 \t InquiriesLast6Months \t 1.9344023451556562 %\n",
            "2053 \t TotalInquiries \t 1.8018729648841028 %\n",
            "2342 \t CurrentDelinquencies \t 2.0555219112316454 %\n",
            "1157 \t AmountDelinquent \t 1.0154734634052152 %\n",
            "2880 \t DelinquenciesLast7Years \t 2.5277126833249954 %\n",
            "1592 \t PublicRecordsLast10Years \t 1.3972633999490947 %\n",
            "1392 \t PublicRecordsLast12Months \t 1.2217277969404143 %\n",
            "1867 \t RevolvingCreditBalance \t 1.63862485408603 %\n",
            "83 \t BankcardUtilization \t 0.0728472752486023 %\n",
            "2160 \t AvailableBankcardCredit \t 1.8957845124937465 %\n",
            "1033 \t TotalTrades \t 0.9066413895398334 %\n",
            "2033 \t TradesNeverDelinquent (percentage) \t 1.7843194045832345 %\n",
            "2811 \t TradesOpenedLast6Months \t 2.467152900287001 %\n",
            "498 \t DebtToIncomeRatio \t 0.43708365149161377 %\n",
            "428 \t StatedMonthlyIncome \t 0.3756461904385757 %\n",
            "5628 \t LoanCurrentDaysDelinquent \t 4.939571868664261 %\n",
            "653 \t LoanOriginalAmount \t 0.573123743823341 %\n",
            "1716 \t MonthlyLoanPayment \t 1.5060954738144763 %\n",
            "2397 \t LP_CustomerPayments \t 2.1037942020590323 %\n",
            "1997 \t LP_CustomerPrincipalPayments \t 1.752722996041672 %\n",
            "2274 \t LP_InterestandFees \t 1.9958398062086942 %\n",
            "2430 \t LP_ServiceFees \t 2.132757576555465 %\n",
            "1221 \t LP_CollectionFees \t 1.071644856367993 %\n",
            "2915 \t LP_GrossPrincipalLoss \t 2.5584314138515145 %\n",
            "2897 \t LP_NetPrincipalLoss \t 2.5426332095807336 %\n",
            "970 \t LP_NonPrincipalRecoverypayments \t 0.851347674592099 %\n",
            "770 \t PercentFunded \t 0.6758120715834189 %\n",
            "743 \t Recommendations \t 0.6521147651772471 %\n",
            "2131 \t InvestmentFromFriendsCount \t 1.870331850057488 %\n",
            "499 \t InvestmentFromFriendsAmount \t 0.43796132950665717 %\n",
            "2389 \t Investors \t 2.0967727779386856 %\n"
          ]
        }
      ]
    },
    {
      "cell_type": "code",
      "source": [
        "for i in range(len(n)) :\n",
        "  if d[i] == 'object' :\n",
        "    data[n[i]].replace(np.nan,str(data[n[i]].mode()),inplace=True) \n",
        "  elif d[i] == 'int64' or d[i] == 'float64' :\n",
        "    data[n[i]].replace(np.nan,float(data[n[i]].mean()),inplace=True) \n",
        "    data[n[i]].astype('float64')\n",
        "  else :\n",
        "    data[n[i]].replace(np.nan,data[n[i]].mean(),inplace=True)"
      ],
      "metadata": {
        "id": "jWnehGVlv08y"
      },
      "execution_count": 587,
      "outputs": []
    },
    {
      "cell_type": "code",
      "source": [
        "j=0\n",
        "for i in data.columns:\n",
        "  print(data.isna().sum()[j],data[i].dtypes,i)\n",
        "  j+=1"
      ],
      "metadata": {
        "colab": {
          "base_uri": "https://localhost:8080/"
        },
        "id": "BlY9vg1mv7hq",
        "outputId": "fd7d92f3-a4dd-4b46-89c5-852198f4e3b5"
      },
      "execution_count": 588,
      "outputs": [
        {
          "output_type": "stream",
          "name": "stdout",
          "text": [
            "0 object ListingKey\n",
            "0 int64 ListingNumber\n",
            "0 object ListingCreationDate\n",
            "0 int64 Term\n",
            "0 object LoanStatus\n",
            "0 float64 BorrowerAPR\n",
            "0 float64 BorrowerRate\n",
            "0 float64 LenderYield\n",
            "0 float64 EstimatedEffectiveYield\n",
            "0 float64 EstimatedLoss\n",
            "0 float64 EstimatedReturn\n",
            "0 object ProsperRating (Alpha)\n",
            "0 float64 ProsperScore\n",
            "0 float64 ListingCategory (numeric)\n",
            "0 object BorrowerState\n",
            "0 object Occupation\n",
            "0 object EmploymentStatus\n",
            "0 float64 EmploymentStatusDuration\n",
            "0 bool IsBorrowerHomeowner\n",
            "0 bool CurrentlyInGroup\n",
            "0 object DateCreditPulled\n",
            "0 float64 CreditScoreRangeLower\n",
            "0 float64 CreditScoreRangeUpper\n",
            "0 object FirstRecordedCreditLine\n",
            "0 float64 CurrentCreditLines\n",
            "0 float64 OpenCreditLines\n",
            "0 float64 TotalCreditLinespast7years\n",
            "0 float64 OpenRevolvingAccounts\n",
            "0 float64 OpenRevolvingMonthlyPayment\n",
            "0 float64 InquiriesLast6Months\n",
            "0 float64 TotalInquiries\n",
            "0 float64 CurrentDelinquencies\n",
            "0 float64 AmountDelinquent\n",
            "0 float64 DelinquenciesLast7Years\n",
            "0 float64 PublicRecordsLast10Years\n",
            "0 float64 PublicRecordsLast12Months\n",
            "0 float64 RevolvingCreditBalance\n",
            "0 float64 BankcardUtilization\n",
            "0 float64 AvailableBankcardCredit\n",
            "0 float64 TotalTrades\n",
            "0 float64 TradesNeverDelinquent (percentage)\n",
            "0 float64 TradesOpenedLast6Months\n",
            "0 float64 DebtToIncomeRatio\n",
            "0 object IncomeRange\n",
            "0 bool IncomeVerifiable\n",
            "0 float64 StatedMonthlyIncome\n",
            "0 object LoanKey\n",
            "0 float64 LoanCurrentDaysDelinquent\n",
            "0 int64 LoanMonthsSinceOrigination\n",
            "0 int64 LoanNumber\n",
            "0 float64 LoanOriginalAmount\n",
            "0 object LoanOriginationDate\n",
            "0 object LoanOriginationQuarter\n",
            "0 object MemberKey\n",
            "0 float64 MonthlyLoanPayment\n",
            "0 float64 LP_CustomerPayments\n",
            "0 float64 LP_CustomerPrincipalPayments\n",
            "0 float64 LP_InterestandFees\n",
            "0 float64 LP_ServiceFees\n",
            "0 float64 LP_CollectionFees\n",
            "0 float64 LP_GrossPrincipalLoss\n",
            "0 float64 LP_NetPrincipalLoss\n",
            "0 float64 LP_NonPrincipalRecoverypayments\n",
            "0 float64 PercentFunded\n",
            "0 float64 Recommendations\n",
            "0 float64 InvestmentFromFriendsCount\n",
            "0 float64 InvestmentFromFriendsAmount\n",
            "0 float64 Investors\n"
          ]
        }
      ]
    },
    {
      "cell_type": "code",
      "source": [
        "float_D ,object_bool,t = type()"
      ],
      "metadata": {
        "id": "pqUGqaPNv9Ri"
      },
      "execution_count": 589,
      "outputs": []
    },
    {
      "cell_type": "code",
      "source": [
        "#columns unique  \n",
        "for i in object_bool :\n",
        "  if data[i].nunique() > 90000:\n",
        "    print(data[i].nunique() , '\\t' , i)\n",
        "    data.drop(i,axis=1, inplace= True)   "
      ],
      "metadata": {
        "colab": {
          "base_uri": "https://localhost:8080/"
        },
        "id": "poaNwHIDwJa8",
        "outputId": "553fc00a-4d6e-413f-c2d1-134d7fd8960f"
      },
      "execution_count": 590,
      "outputs": [
        {
          "output_type": "stream",
          "name": "stdout",
          "text": [
            "113066 \t ListingKey\n",
            "113064 \t ListingCreationDate\n",
            "112992 \t DateCreditPulled\n",
            "113066 \t LoanKey\n",
            "90831 \t MemberKey\n"
          ]
        }
      ]
    },
    {
      "cell_type": "code",
      "source": [
        "float_D ,object_bool,t = type()"
      ],
      "metadata": {
        "id": "0gdv1XVGwLLq"
      },
      "execution_count": 591,
      "outputs": []
    },
    {
      "cell_type": "code",
      "source": [
        "for i in object_bool :\n",
        "  print(data[i].nunique() , '\\t' , i)  "
      ],
      "metadata": {
        "colab": {
          "base_uri": "https://localhost:8080/"
        },
        "id": "s0qK2z1MwPxC",
        "outputId": "403d7619-09b7-4f6d-a2bf-d1d1ac4b31fa"
      },
      "execution_count": 592,
      "outputs": [
        {
          "output_type": "stream",
          "name": "stdout",
          "text": [
            "12 \t LoanStatus\n",
            "8 \t ProsperRating (Alpha)\n",
            "52 \t BorrowerState\n",
            "68 \t Occupation\n",
            "9 \t EmploymentStatus\n",
            "2 \t IsBorrowerHomeowner\n",
            "2 \t CurrentlyInGroup\n",
            "11586 \t FirstRecordedCreditLine\n",
            "8 \t IncomeRange\n",
            "2 \t IncomeVerifiable\n",
            "1873 \t LoanOriginationDate\n",
            "33 \t LoanOriginationQuarter\n"
          ]
        }
      ]
    },
    {
      "cell_type": "code",
      "source": [
        "data.drop('FirstRecordedCreditLine',axis=1, inplace= True)   "
      ],
      "metadata": {
        "id": "fOeDTielwho0"
      },
      "execution_count": 593,
      "outputs": []
    },
    {
      "cell_type": "code",
      "source": [
        "x = data['LoanStatus'].unique()"
      ],
      "metadata": {
        "id": "N_IOzOCVwRdp"
      },
      "execution_count": 594,
      "outputs": []
    },
    {
      "cell_type": "code",
      "source": [
        "for i in x:\n",
        "  if i == 'Completed':\n",
        "    data['LoanStatus'].replace(i,int(1),inplace=True)\n",
        "#  elif i == 'Current':\n",
        "#    data['LoanStatus'].replace(i,int(2),inplace=True)\n",
        "  else :\n",
        "    data['LoanStatus'].replace(i,0,inplace=True)"
      ],
      "metadata": {
        "id": "oXtJxjQvwWyC"
      },
      "execution_count": 595,
      "outputs": []
    },
    {
      "cell_type": "code",
      "source": [
        "data['LoanStatus'].unique()"
      ],
      "metadata": {
        "colab": {
          "base_uri": "https://localhost:8080/"
        },
        "id": "I7DEhmeyw3gr",
        "outputId": "d49cab98-8d96-4c46-d15c-b0abb65c3fad"
      },
      "execution_count": 596,
      "outputs": [
        {
          "output_type": "execute_result",
          "data": {
            "text/plain": [
              "array([1, 0])"
            ]
          },
          "metadata": {},
          "execution_count": 596
        }
      ]
    },
    {
      "cell_type": "code",
      "source": [
        "data['LoanOriginationDate']=pd.to_datetime(data['LoanOriginationDate'], infer_datetime_format=True)\n"
      ],
      "metadata": {
        "id": "CSMgypdtw5Ey"
      },
      "execution_count": 597,
      "outputs": []
    },
    {
      "cell_type": "code",
      "source": [
        "data['LoanOriginationDateYear'] = data['LoanOriginationDate'].dt.year"
      ],
      "metadata": {
        "id": "0rFqcDpQxEyw"
      },
      "execution_count": 598,
      "outputs": []
    },
    {
      "cell_type": "code",
      "source": [
        "data=data[(data['LoanOriginationDateYear']>=2009)]"
      ],
      "metadata": {
        "id": "jsG7Hg6TzfFA"
      },
      "execution_count": 599,
      "outputs": []
    },
    {
      "cell_type": "code",
      "source": [
        "data.drop('LoanOriginationDate',axis=1, inplace= True)   "
      ],
      "metadata": {
        "colab": {
          "base_uri": "https://localhost:8080/"
        },
        "id": "_ZJ0DqaXxaTR",
        "outputId": "af102eed-68a1-48fa-9db0-f49e761ca38f"
      },
      "execution_count": 600,
      "outputs": [
        {
          "output_type": "stream",
          "name": "stderr",
          "text": [
            "/usr/local/lib/python3.7/dist-packages/pandas/core/frame.py:4913: SettingWithCopyWarning: \n",
            "A value is trying to be set on a copy of a slice from a DataFrame\n",
            "\n",
            "See the caveats in the documentation: https://pandas.pydata.org/pandas-docs/stable/user_guide/indexing.html#returning-a-view-versus-a-copy\n",
            "  errors=errors,\n"
          ]
        }
      ]
    },
    {
      "cell_type": "code",
      "source": [
        "data['LoanOriginationDateYear'] = data['LoanOriginationDateYear'].astype('object')"
      ],
      "metadata": {
        "colab": {
          "base_uri": "https://localhost:8080/"
        },
        "id": "59cCuea9xp8S",
        "outputId": "e06af8f8-61be-4db2-b9cb-f5e4a7490d59"
      },
      "execution_count": 601,
      "outputs": [
        {
          "output_type": "stream",
          "name": "stderr",
          "text": [
            "/usr/local/lib/python3.7/dist-packages/ipykernel_launcher.py:1: SettingWithCopyWarning: \n",
            "A value is trying to be set on a copy of a slice from a DataFrame.\n",
            "Try using .loc[row_indexer,col_indexer] = value instead\n",
            "\n",
            "See the caveats in the documentation: https://pandas.pydata.org/pandas-docs/stable/user_guide/indexing.html#returning-a-view-versus-a-copy\n",
            "  \"\"\"Entry point for launching an IPython kernel.\n"
          ]
        }
      ]
    },
    {
      "cell_type": "code",
      "source": [
        "float_D ,object_bool,t = type()"
      ],
      "metadata": {
        "id": "CpIm39AK0ZvJ"
      },
      "execution_count": 602,
      "outputs": []
    },
    {
      "cell_type": "code",
      "source": [
        "for i in object_bool:\n",
        "  print(i,data[i].nunique(),data[i].shape)"
      ],
      "metadata": {
        "colab": {
          "base_uri": "https://localhost:8080/"
        },
        "id": "8TsGRZbY038w",
        "outputId": "77688c93-6164-49d4-f613-188bf2e696ce"
      },
      "execution_count": 603,
      "outputs": [
        {
          "output_type": "stream",
          "name": "stdout",
          "text": [
            "ProsperRating (Alpha) 8 (84997,)\n",
            "BorrowerState 48 (84997,)\n",
            "Occupation 68 (84997,)\n",
            "EmploymentStatus 7 (84997,)\n",
            "IsBorrowerHomeowner 2 (84997,)\n",
            "CurrentlyInGroup 2 (84997,)\n",
            "IncomeRange 7 (84997,)\n",
            "IncomeVerifiable 2 (84997,)\n",
            "LoanOriginationQuarter 20 (84997,)\n",
            "LoanOriginationDateYear 6 (84997,)\n"
          ]
        }
      ]
    },
    {
      "cell_type": "code",
      "source": [
        "n , p ,d= nAn()\n"
      ],
      "metadata": {
        "id": "1_5W_k3N3tbE"
      },
      "execution_count": 604,
      "outputs": []
    },
    {
      "cell_type": "code",
      "source": [
        "float_D ,object_bool,t = type()"
      ],
      "metadata": {
        "id": "ZatT_ypmICLO"
      },
      "execution_count": 605,
      "outputs": []
    },
    {
      "cell_type": "code",
      "source": [
        ""
      ],
      "metadata": {
        "id": "8fiCEf2PdQ1b"
      },
      "execution_count": null,
      "outputs": []
    },
    {
      "cell_type": "code",
      "source": [
        "from sklearn.model_selection import train_test_split\n",
        "Y=data['LoanStatus']\n",
        "Y=Y.squeeze()\n",
        "X=data.loc[:, data.columns != 'LoanStatus']\n",
        "train_X, val_X, train_y, val_y = train_test_split(X, Y, random_state=1)"
      ],
      "metadata": {
        "id": "3MKrb7h5ILmQ"
      },
      "execution_count": 606,
      "outputs": []
    },
    {
      "cell_type": "code",
      "source": [
        "from category_encoders.james_stein import JamesSteinEncoder\n",
        "\n",
        "JSE_encoder = JamesSteinEncoder()\n",
        "X[object_bool] = JSE_encoder.fit_transform(X[object_bool], Y)"
      ],
      "metadata": {
        "colab": {
          "base_uri": "https://localhost:8080/"
        },
        "id": "k4He43HndUT3",
        "outputId": "84e9dd02-3ff9-4c15-b34a-7f89f9da4c4a"
      },
      "execution_count": 607,
      "outputs": [
        {
          "output_type": "stream",
          "name": "stderr",
          "text": [
            "/usr/local/lib/python3.7/dist-packages/pandas/core/frame.py:3641: SettingWithCopyWarning: \n",
            "A value is trying to be set on a copy of a slice from a DataFrame.\n",
            "Try using .loc[row_indexer,col_indexer] = value instead\n",
            "\n",
            "See the caveats in the documentation: https://pandas.pydata.org/pandas-docs/stable/user_guide/indexing.html#returning-a-view-versus-a-copy\n",
            "  self[k1] = value[k2]\n"
          ]
        }
      ]
    },
    {
      "cell_type": "code",
      "source": [
        "'''\n",
        "from category_encoders.m_estimate import MEstimateEncoder\n",
        "\n",
        "MEE_encoder = MEstimateEncoder()\n",
        "X[object_bool]= MEE_encoder.fit_transform(X[object_bool], Y)\n",
        "'''"
      ],
      "metadata": {
        "colab": {
          "base_uri": "https://localhost:8080/"
        },
        "id": "CFHGy-5PIaMH",
        "outputId": "7a9e6e50-37fc-44e9-b463-0644ea18aaae"
      },
      "execution_count": 476,
      "outputs": [
        {
          "output_type": "stream",
          "name": "stderr",
          "text": [
            "/usr/local/lib/python3.7/dist-packages/pandas/core/frame.py:3641: SettingWithCopyWarning: \n",
            "A value is trying to be set on a copy of a slice from a DataFrame.\n",
            "Try using .loc[row_indexer,col_indexer] = value instead\n",
            "\n",
            "See the caveats in the documentation: https://pandas.pydata.org/pandas-docs/stable/user_guide/indexing.html#returning-a-view-versus-a-copy\n",
            "  self[k1] = value[k2]\n"
          ]
        }
      ]
    },
    {
      "cell_type": "code",
      "source": [
        "for i in object_bool:\n",
        "  X[i].replace(True,int(1),inplace=True) \n",
        "  X[i].replace(False,int(0),inplace=True) \n",
        "  X[i]=X[i].astype('int64')\n"
      ],
      "metadata": {
        "colab": {
          "base_uri": "https://localhost:8080/"
        },
        "id": "cgXucwuPKKMk",
        "outputId": "953f9e75-21c0-492e-b58b-ef1b20edfb89"
      },
      "execution_count": 609,
      "outputs": [
        {
          "output_type": "stream",
          "name": "stderr",
          "text": [
            "/usr/local/lib/python3.7/dist-packages/pandas/core/generic.py:6619: SettingWithCopyWarning: \n",
            "A value is trying to be set on a copy of a slice from a DataFrame\n",
            "\n",
            "See the caveats in the documentation: https://pandas.pydata.org/pandas-docs/stable/user_guide/indexing.html#returning-a-view-versus-a-copy\n",
            "  return self._update_inplace(result)\n",
            "/usr/local/lib/python3.7/dist-packages/ipykernel_launcher.py:4: SettingWithCopyWarning: \n",
            "A value is trying to be set on a copy of a slice from a DataFrame.\n",
            "Try using .loc[row_indexer,col_indexer] = value instead\n",
            "\n",
            "See the caveats in the documentation: https://pandas.pydata.org/pandas-docs/stable/user_guide/indexing.html#returning-a-view-versus-a-copy\n",
            "  after removing the cwd from sys.path.\n"
          ]
        }
      ]
    },
    {
      "cell_type": "code",
      "source": [
        "X.info()\n",
        "\n"
      ],
      "metadata": {
        "colab": {
          "base_uri": "https://localhost:8080/"
        },
        "id": "ZxBP3pREAwTi",
        "outputId": "9cee1f1e-8d2f-41e0-d416-15b5dbaafba2"
      },
      "execution_count": 610,
      "outputs": [
        {
          "output_type": "stream",
          "name": "stdout",
          "text": [
            "<class 'pandas.core.frame.DataFrame'>\n",
            "Int64Index: 84997 entries, 1 to 113936\n",
            "Data columns (total 61 columns):\n",
            " #   Column                              Non-Null Count  Dtype  \n",
            "---  ------                              --------------  -----  \n",
            " 0   ListingNumber                       84997 non-null  int64  \n",
            " 1   Term                                84997 non-null  int64  \n",
            " 2   BorrowerAPR                         84997 non-null  float64\n",
            " 3   BorrowerRate                        84997 non-null  float64\n",
            " 4   LenderYield                         84997 non-null  float64\n",
            " 5   EstimatedEffectiveYield             84997 non-null  float64\n",
            " 6   EstimatedLoss                       84997 non-null  float64\n",
            " 7   EstimatedReturn                     84997 non-null  float64\n",
            " 8   ProsperRating (Alpha)               84997 non-null  int64  \n",
            " 9   ProsperScore                        84997 non-null  float64\n",
            " 10  ListingCategory (numeric)           84997 non-null  float64\n",
            " 11  BorrowerState                       84997 non-null  int64  \n",
            " 12  Occupation                          84997 non-null  int64  \n",
            " 13  EmploymentStatus                    84997 non-null  int64  \n",
            " 14  EmploymentStatusDuration            84997 non-null  float64\n",
            " 15  IsBorrowerHomeowner                 84997 non-null  int64  \n",
            " 16  CurrentlyInGroup                    84997 non-null  int64  \n",
            " 17  CreditScoreRangeLower               84997 non-null  float64\n",
            " 18  CreditScoreRangeUpper               84997 non-null  float64\n",
            " 19  CurrentCreditLines                  84997 non-null  float64\n",
            " 20  OpenCreditLines                     84997 non-null  float64\n",
            " 21  TotalCreditLinespast7years          84997 non-null  float64\n",
            " 22  OpenRevolvingAccounts               84997 non-null  float64\n",
            " 23  OpenRevolvingMonthlyPayment         84997 non-null  float64\n",
            " 24  InquiriesLast6Months                84997 non-null  float64\n",
            " 25  TotalInquiries                      84997 non-null  float64\n",
            " 26  CurrentDelinquencies                84997 non-null  float64\n",
            " 27  AmountDelinquent                    84997 non-null  float64\n",
            " 28  DelinquenciesLast7Years             84997 non-null  float64\n",
            " 29  PublicRecordsLast10Years            84997 non-null  float64\n",
            " 30  PublicRecordsLast12Months           84997 non-null  float64\n",
            " 31  RevolvingCreditBalance              84997 non-null  float64\n",
            " 32  BankcardUtilization                 84997 non-null  float64\n",
            " 33  AvailableBankcardCredit             84997 non-null  float64\n",
            " 34  TotalTrades                         84997 non-null  float64\n",
            " 35  TradesNeverDelinquent (percentage)  84997 non-null  float64\n",
            " 36  TradesOpenedLast6Months             84997 non-null  float64\n",
            " 37  DebtToIncomeRatio                   84997 non-null  float64\n",
            " 38  IncomeRange                         84997 non-null  int64  \n",
            " 39  IncomeVerifiable                    84997 non-null  int64  \n",
            " 40  StatedMonthlyIncome                 84997 non-null  float64\n",
            " 41  LoanCurrentDaysDelinquent           84997 non-null  float64\n",
            " 42  LoanMonthsSinceOrigination          84997 non-null  int64  \n",
            " 43  LoanNumber                          84997 non-null  int64  \n",
            " 44  LoanOriginalAmount                  84997 non-null  float64\n",
            " 45  LoanOriginationQuarter              84997 non-null  int64  \n",
            " 46  MonthlyLoanPayment                  84997 non-null  float64\n",
            " 47  LP_CustomerPayments                 84997 non-null  float64\n",
            " 48  LP_CustomerPrincipalPayments        84997 non-null  float64\n",
            " 49  LP_InterestandFees                  84997 non-null  float64\n",
            " 50  LP_ServiceFees                      84997 non-null  float64\n",
            " 51  LP_CollectionFees                   84997 non-null  float64\n",
            " 52  LP_GrossPrincipalLoss               84997 non-null  float64\n",
            " 53  LP_NetPrincipalLoss                 84997 non-null  float64\n",
            " 54  LP_NonPrincipalRecoverypayments     84997 non-null  float64\n",
            " 55  PercentFunded                       84997 non-null  float64\n",
            " 56  Recommendations                     84997 non-null  float64\n",
            " 57  InvestmentFromFriendsCount          84997 non-null  float64\n",
            " 58  InvestmentFromFriendsAmount         84997 non-null  float64\n",
            " 59  Investors                           84997 non-null  float64\n",
            " 60  LoanOriginationDateYear             84997 non-null  int64  \n",
            "dtypes: float64(47), int64(14)\n",
            "memory usage: 42.2 MB\n"
          ]
        }
      ]
    },
    {
      "cell_type": "code",
      "source": [
        "X['target'] = Y"
      ],
      "metadata": {
        "id": "F_YKxGKLCAek"
      },
      "execution_count": 611,
      "outputs": []
    },
    {
      "cell_type": "code",
      "source": [
        "X.drop('ListingNumber',axis=1, inplace= True)   "
      ],
      "metadata": {
        "id": "7RZDVNzNOdJ7"
      },
      "execution_count": 612,
      "outputs": []
    },
    {
      "cell_type": "code",
      "source": [
        "corr=X.corr()"
      ],
      "metadata": {
        "id": "2tXIfPG-LEsj"
      },
      "execution_count": 613,
      "outputs": []
    },
    {
      "cell_type": "code",
      "source": [
        "for i in X.columns:\n",
        "    print(X[i].isnull().sum())"
      ],
      "metadata": {
        "colab": {
          "base_uri": "https://localhost:8080/"
        },
        "id": "9uySzgkLM7h7",
        "outputId": "51cb09cf-88ad-4942-d72c-15e41ad9ecac"
      },
      "execution_count": 614,
      "outputs": [
        {
          "output_type": "stream",
          "name": "stdout",
          "text": [
            "0\n",
            "0\n",
            "0\n",
            "0\n",
            "0\n",
            "0\n",
            "0\n",
            "0\n",
            "0\n",
            "0\n",
            "0\n",
            "0\n",
            "0\n",
            "0\n",
            "0\n",
            "0\n",
            "0\n",
            "0\n",
            "0\n",
            "0\n",
            "0\n",
            "0\n",
            "0\n",
            "0\n",
            "0\n",
            "0\n",
            "0\n",
            "0\n",
            "0\n",
            "0\n",
            "0\n",
            "0\n",
            "0\n",
            "0\n",
            "0\n",
            "0\n",
            "0\n",
            "0\n",
            "0\n",
            "0\n",
            "0\n",
            "0\n",
            "0\n",
            "0\n",
            "0\n",
            "0\n",
            "0\n",
            "0\n",
            "0\n",
            "0\n",
            "0\n",
            "0\n",
            "0\n",
            "0\n",
            "0\n",
            "0\n",
            "0\n",
            "0\n",
            "0\n",
            "0\n",
            "0\n"
          ]
        }
      ]
    },
    {
      "cell_type": "code",
      "source": [
        "corr"
      ],
      "metadata": {
        "colab": {
          "base_uri": "https://localhost:8080/",
          "height": 505
        },
        "id": "Mu-bLaTgK8Ow",
        "outputId": "edae979d-2b7f-4913-d613-a5be6a884126"
      },
      "execution_count": 616,
      "outputs": [
        {
          "output_type": "execute_result",
          "data": {
            "text/plain": [
              "                                 Term  BorrowerAPR  BorrowerRate  LenderYield  \\\n",
              "Term                         1.000000    -0.067587      0.000320     0.000352   \n",
              "BorrowerAPR                 -0.067587     1.000000      0.993320     0.993321   \n",
              "BorrowerRate                 0.000320     0.993320      1.000000     0.999996   \n",
              "LenderYield                  0.000352     0.993321      0.999996     1.000000   \n",
              "EstimatedEffectiveYield      0.054006     0.910608      0.910508     0.910572   \n",
              "...                               ...          ...           ...          ...   \n",
              "InvestmentFromFriendsCount        NaN          NaN           NaN          NaN   \n",
              "InvestmentFromFriendsAmount -0.022434    -0.011777     -0.009122    -0.009118   \n",
              "Investors                    0.008773    -0.230876     -0.210140    -0.210184   \n",
              "LoanOriginationDateYear           NaN          NaN           NaN          NaN   \n",
              "target                      -0.250739     0.077536      0.077027     0.076936   \n",
              "\n",
              "                             EstimatedEffectiveYield  EstimatedLoss  \\\n",
              "Term                                        0.054006      -0.100197   \n",
              "BorrowerAPR                                 0.910608       0.958376   \n",
              "BorrowerRate                                0.910508       0.953024   \n",
              "LenderYield                                 0.910572       0.953044   \n",
              "EstimatedEffectiveYield                     1.000000       0.882965   \n",
              "...                                              ...            ...   \n",
              "InvestmentFromFriendsCount                       NaN            NaN   \n",
              "InvestmentFromFriendsAmount                -0.037756      -0.012420   \n",
              "Investors                                  -0.238766      -0.253228   \n",
              "LoanOriginationDateYear                          NaN            NaN   \n",
              "target                                     -0.036759       0.057699   \n",
              "\n",
              "                             EstimatedReturn  ProsperRating (Alpha)  \\\n",
              "Term                                0.164765                    NaN   \n",
              "BorrowerAPR                         0.818203                    NaN   \n",
              "BorrowerRate                        0.840465                    NaN   \n",
              "LenderYield                         0.840467                    NaN   \n",
              "EstimatedEffectiveYield             0.816438                    NaN   \n",
              "...                                      ...                    ...   \n",
              "InvestmentFromFriendsCount               NaN                    NaN   \n",
              "InvestmentFromFriendsAmount        -0.015587                    NaN   \n",
              "Investors                          -0.070200                    NaN   \n",
              "LoanOriginationDateYear                  NaN                    NaN   \n",
              "target                              0.112282                    NaN   \n",
              "\n",
              "                             ProsperScore  ListingCategory (numeric)  ...  \\\n",
              "Term                             0.028938                  -0.092222  ...   \n",
              "BorrowerAPR                     -0.667445                   0.120147  ...   \n",
              "BorrowerRate                    -0.648945                   0.117413  ...   \n",
              "LenderYield                     -0.648995                   0.117404  ...   \n",
              "EstimatedEffectiveYield         -0.650065                   0.098339  ...   \n",
              "...                                   ...                        ...  ...   \n",
              "InvestmentFromFriendsCount            NaN                        NaN  ...   \n",
              "InvestmentFromFriendsAmount      0.017414                   0.005894  ...   \n",
              "Investors                        0.300348                  -0.018047  ...   \n",
              "LoanOriginationDateYear               NaN                        NaN  ...   \n",
              "target                           0.135182                   0.104922  ...   \n",
              "\n",
              "                             LP_GrossPrincipalLoss  LP_NetPrincipalLoss  \\\n",
              "Term                                     -0.063460            -0.062567   \n",
              "BorrowerAPR                               0.215518             0.213905   \n",
              "BorrowerRate                              0.220629             0.218966   \n",
              "LenderYield                               0.220620             0.218958   \n",
              "EstimatedEffectiveYield                   0.205436             0.204829   \n",
              "...                                            ...                  ...   \n",
              "InvestmentFromFriendsCount                     NaN                  NaN   \n",
              "InvestmentFromFriendsAmount              -0.002324            -0.002032   \n",
              "Investors                                 0.019696             0.018260   \n",
              "LoanOriginationDateYear                        NaN                  NaN   \n",
              "target                                   -0.125976            -0.124625   \n",
              "\n",
              "                             LP_NonPrincipalRecoverypayments  PercentFunded  \\\n",
              "Term                                               -0.025994      -0.002810   \n",
              "BorrowerAPR                                         0.063947      -0.005769   \n",
              "BorrowerRate                                        0.065676      -0.007426   \n",
              "LenderYield                                         0.065669      -0.007428   \n",
              "EstimatedEffectiveYield                             0.048899      -0.011568   \n",
              "...                                                      ...            ...   \n",
              "InvestmentFromFriendsCount                               NaN            NaN   \n",
              "InvestmentFromFriendsAmount                        -0.001564       0.001389   \n",
              "Investors                                           0.006911      -0.040359   \n",
              "LoanOriginationDateYear                                  NaN            NaN   \n",
              "target                                             -0.039553      -0.007579   \n",
              "\n",
              "                             Recommendations  InvestmentFromFriendsCount  \\\n",
              "Term                               -0.029275                         NaN   \n",
              "BorrowerAPR                        -0.005066                         NaN   \n",
              "BorrowerRate                       -0.002546                         NaN   \n",
              "LenderYield                        -0.002539                         NaN   \n",
              "EstimatedEffectiveYield            -0.036137                         NaN   \n",
              "...                                      ...                         ...   \n",
              "InvestmentFromFriendsCount               NaN                         NaN   \n",
              "InvestmentFromFriendsAmount         0.161920                         NaN   \n",
              "Investors                           0.039745                         NaN   \n",
              "LoanOriginationDateYear                  NaN                         NaN   \n",
              "target                              0.080123                         NaN   \n",
              "\n",
              "                             InvestmentFromFriendsAmount  Investors  \\\n",
              "Term                                           -0.022434   0.008773   \n",
              "BorrowerAPR                                    -0.011777  -0.230876   \n",
              "BorrowerRate                                   -0.009122  -0.210140   \n",
              "LenderYield                                    -0.009118  -0.210184   \n",
              "EstimatedEffectiveYield                        -0.037756  -0.238766   \n",
              "...                                                  ...        ...   \n",
              "InvestmentFromFriendsCount                           NaN        NaN   \n",
              "InvestmentFromFriendsAmount                     1.000000   0.039463   \n",
              "Investors                                       0.039463   1.000000   \n",
              "LoanOriginationDateYear                              NaN        NaN   \n",
              "target                                          0.060920   0.174549   \n",
              "\n",
              "                             LoanOriginationDateYear    target  \n",
              "Term                                             NaN -0.250739  \n",
              "BorrowerAPR                                      NaN  0.077536  \n",
              "BorrowerRate                                     NaN  0.077027  \n",
              "LenderYield                                      NaN  0.076936  \n",
              "EstimatedEffectiveYield                          NaN -0.036759  \n",
              "...                                              ...       ...  \n",
              "InvestmentFromFriendsCount                       NaN       NaN  \n",
              "InvestmentFromFriendsAmount                      NaN  0.060920  \n",
              "Investors                                        NaN  0.174549  \n",
              "LoanOriginationDateYear                          NaN       NaN  \n",
              "target                                           NaN  1.000000  \n",
              "\n",
              "[61 rows x 61 columns]"
            ],
            "text/html": [
              "\n",
              "  <div id=\"df-f6ec8941-eb36-4787-88ae-4c4a28e2d4e9\">\n",
              "    <div class=\"colab-df-container\">\n",
              "      <div>\n",
              "<style scoped>\n",
              "    .dataframe tbody tr th:only-of-type {\n",
              "        vertical-align: middle;\n",
              "    }\n",
              "\n",
              "    .dataframe tbody tr th {\n",
              "        vertical-align: top;\n",
              "    }\n",
              "\n",
              "    .dataframe thead th {\n",
              "        text-align: right;\n",
              "    }\n",
              "</style>\n",
              "<table border=\"1\" class=\"dataframe\">\n",
              "  <thead>\n",
              "    <tr style=\"text-align: right;\">\n",
              "      <th></th>\n",
              "      <th>Term</th>\n",
              "      <th>BorrowerAPR</th>\n",
              "      <th>BorrowerRate</th>\n",
              "      <th>LenderYield</th>\n",
              "      <th>EstimatedEffectiveYield</th>\n",
              "      <th>EstimatedLoss</th>\n",
              "      <th>EstimatedReturn</th>\n",
              "      <th>ProsperRating (Alpha)</th>\n",
              "      <th>ProsperScore</th>\n",
              "      <th>ListingCategory (numeric)</th>\n",
              "      <th>...</th>\n",
              "      <th>LP_GrossPrincipalLoss</th>\n",
              "      <th>LP_NetPrincipalLoss</th>\n",
              "      <th>LP_NonPrincipalRecoverypayments</th>\n",
              "      <th>PercentFunded</th>\n",
              "      <th>Recommendations</th>\n",
              "      <th>InvestmentFromFriendsCount</th>\n",
              "      <th>InvestmentFromFriendsAmount</th>\n",
              "      <th>Investors</th>\n",
              "      <th>LoanOriginationDateYear</th>\n",
              "      <th>target</th>\n",
              "    </tr>\n",
              "  </thead>\n",
              "  <tbody>\n",
              "    <tr>\n",
              "      <th>Term</th>\n",
              "      <td>1.000000</td>\n",
              "      <td>-0.067587</td>\n",
              "      <td>0.000320</td>\n",
              "      <td>0.000352</td>\n",
              "      <td>0.054006</td>\n",
              "      <td>-0.100197</td>\n",
              "      <td>0.164765</td>\n",
              "      <td>NaN</td>\n",
              "      <td>0.028938</td>\n",
              "      <td>-0.092222</td>\n",
              "      <td>...</td>\n",
              "      <td>-0.063460</td>\n",
              "      <td>-0.062567</td>\n",
              "      <td>-0.025994</td>\n",
              "      <td>-0.002810</td>\n",
              "      <td>-0.029275</td>\n",
              "      <td>NaN</td>\n",
              "      <td>-0.022434</td>\n",
              "      <td>0.008773</td>\n",
              "      <td>NaN</td>\n",
              "      <td>-0.250739</td>\n",
              "    </tr>\n",
              "    <tr>\n",
              "      <th>BorrowerAPR</th>\n",
              "      <td>-0.067587</td>\n",
              "      <td>1.000000</td>\n",
              "      <td>0.993320</td>\n",
              "      <td>0.993321</td>\n",
              "      <td>0.910608</td>\n",
              "      <td>0.958376</td>\n",
              "      <td>0.818203</td>\n",
              "      <td>NaN</td>\n",
              "      <td>-0.667445</td>\n",
              "      <td>0.120147</td>\n",
              "      <td>...</td>\n",
              "      <td>0.215518</td>\n",
              "      <td>0.213905</td>\n",
              "      <td>0.063947</td>\n",
              "      <td>-0.005769</td>\n",
              "      <td>-0.005066</td>\n",
              "      <td>NaN</td>\n",
              "      <td>-0.011777</td>\n",
              "      <td>-0.230876</td>\n",
              "      <td>NaN</td>\n",
              "      <td>0.077536</td>\n",
              "    </tr>\n",
              "    <tr>\n",
              "      <th>BorrowerRate</th>\n",
              "      <td>0.000320</td>\n",
              "      <td>0.993320</td>\n",
              "      <td>1.000000</td>\n",
              "      <td>0.999996</td>\n",
              "      <td>0.910508</td>\n",
              "      <td>0.953024</td>\n",
              "      <td>0.840465</td>\n",
              "      <td>NaN</td>\n",
              "      <td>-0.648945</td>\n",
              "      <td>0.117413</td>\n",
              "      <td>...</td>\n",
              "      <td>0.220629</td>\n",
              "      <td>0.218966</td>\n",
              "      <td>0.065676</td>\n",
              "      <td>-0.007426</td>\n",
              "      <td>-0.002546</td>\n",
              "      <td>NaN</td>\n",
              "      <td>-0.009122</td>\n",
              "      <td>-0.210140</td>\n",
              "      <td>NaN</td>\n",
              "      <td>0.077027</td>\n",
              "    </tr>\n",
              "    <tr>\n",
              "      <th>LenderYield</th>\n",
              "      <td>0.000352</td>\n",
              "      <td>0.993321</td>\n",
              "      <td>0.999996</td>\n",
              "      <td>1.000000</td>\n",
              "      <td>0.910572</td>\n",
              "      <td>0.953044</td>\n",
              "      <td>0.840467</td>\n",
              "      <td>NaN</td>\n",
              "      <td>-0.648995</td>\n",
              "      <td>0.117404</td>\n",
              "      <td>...</td>\n",
              "      <td>0.220620</td>\n",
              "      <td>0.218958</td>\n",
              "      <td>0.065669</td>\n",
              "      <td>-0.007428</td>\n",
              "      <td>-0.002539</td>\n",
              "      <td>NaN</td>\n",
              "      <td>-0.009118</td>\n",
              "      <td>-0.210184</td>\n",
              "      <td>NaN</td>\n",
              "      <td>0.076936</td>\n",
              "    </tr>\n",
              "    <tr>\n",
              "      <th>EstimatedEffectiveYield</th>\n",
              "      <td>0.054006</td>\n",
              "      <td>0.910608</td>\n",
              "      <td>0.910508</td>\n",
              "      <td>0.910572</td>\n",
              "      <td>1.000000</td>\n",
              "      <td>0.882965</td>\n",
              "      <td>0.816438</td>\n",
              "      <td>NaN</td>\n",
              "      <td>-0.650065</td>\n",
              "      <td>0.098339</td>\n",
              "      <td>...</td>\n",
              "      <td>0.205436</td>\n",
              "      <td>0.204829</td>\n",
              "      <td>0.048899</td>\n",
              "      <td>-0.011568</td>\n",
              "      <td>-0.036137</td>\n",
              "      <td>NaN</td>\n",
              "      <td>-0.037756</td>\n",
              "      <td>-0.238766</td>\n",
              "      <td>NaN</td>\n",
              "      <td>-0.036759</td>\n",
              "    </tr>\n",
              "    <tr>\n",
              "      <th>...</th>\n",
              "      <td>...</td>\n",
              "      <td>...</td>\n",
              "      <td>...</td>\n",
              "      <td>...</td>\n",
              "      <td>...</td>\n",
              "      <td>...</td>\n",
              "      <td>...</td>\n",
              "      <td>...</td>\n",
              "      <td>...</td>\n",
              "      <td>...</td>\n",
              "      <td>...</td>\n",
              "      <td>...</td>\n",
              "      <td>...</td>\n",
              "      <td>...</td>\n",
              "      <td>...</td>\n",
              "      <td>...</td>\n",
              "      <td>...</td>\n",
              "      <td>...</td>\n",
              "      <td>...</td>\n",
              "      <td>...</td>\n",
              "      <td>...</td>\n",
              "    </tr>\n",
              "    <tr>\n",
              "      <th>InvestmentFromFriendsCount</th>\n",
              "      <td>NaN</td>\n",
              "      <td>NaN</td>\n",
              "      <td>NaN</td>\n",
              "      <td>NaN</td>\n",
              "      <td>NaN</td>\n",
              "      <td>NaN</td>\n",
              "      <td>NaN</td>\n",
              "      <td>NaN</td>\n",
              "      <td>NaN</td>\n",
              "      <td>NaN</td>\n",
              "      <td>...</td>\n",
              "      <td>NaN</td>\n",
              "      <td>NaN</td>\n",
              "      <td>NaN</td>\n",
              "      <td>NaN</td>\n",
              "      <td>NaN</td>\n",
              "      <td>NaN</td>\n",
              "      <td>NaN</td>\n",
              "      <td>NaN</td>\n",
              "      <td>NaN</td>\n",
              "      <td>NaN</td>\n",
              "    </tr>\n",
              "    <tr>\n",
              "      <th>InvestmentFromFriendsAmount</th>\n",
              "      <td>-0.022434</td>\n",
              "      <td>-0.011777</td>\n",
              "      <td>-0.009122</td>\n",
              "      <td>-0.009118</td>\n",
              "      <td>-0.037756</td>\n",
              "      <td>-0.012420</td>\n",
              "      <td>-0.015587</td>\n",
              "      <td>NaN</td>\n",
              "      <td>0.017414</td>\n",
              "      <td>0.005894</td>\n",
              "      <td>...</td>\n",
              "      <td>-0.002324</td>\n",
              "      <td>-0.002032</td>\n",
              "      <td>-0.001564</td>\n",
              "      <td>0.001389</td>\n",
              "      <td>0.161920</td>\n",
              "      <td>NaN</td>\n",
              "      <td>1.000000</td>\n",
              "      <td>0.039463</td>\n",
              "      <td>NaN</td>\n",
              "      <td>0.060920</td>\n",
              "    </tr>\n",
              "    <tr>\n",
              "      <th>Investors</th>\n",
              "      <td>0.008773</td>\n",
              "      <td>-0.230876</td>\n",
              "      <td>-0.210140</td>\n",
              "      <td>-0.210184</td>\n",
              "      <td>-0.238766</td>\n",
              "      <td>-0.253228</td>\n",
              "      <td>-0.070200</td>\n",
              "      <td>NaN</td>\n",
              "      <td>0.300348</td>\n",
              "      <td>-0.018047</td>\n",
              "      <td>...</td>\n",
              "      <td>0.019696</td>\n",
              "      <td>0.018260</td>\n",
              "      <td>0.006911</td>\n",
              "      <td>-0.040359</td>\n",
              "      <td>0.039745</td>\n",
              "      <td>NaN</td>\n",
              "      <td>0.039463</td>\n",
              "      <td>1.000000</td>\n",
              "      <td>NaN</td>\n",
              "      <td>0.174549</td>\n",
              "    </tr>\n",
              "    <tr>\n",
              "      <th>LoanOriginationDateYear</th>\n",
              "      <td>NaN</td>\n",
              "      <td>NaN</td>\n",
              "      <td>NaN</td>\n",
              "      <td>NaN</td>\n",
              "      <td>NaN</td>\n",
              "      <td>NaN</td>\n",
              "      <td>NaN</td>\n",
              "      <td>NaN</td>\n",
              "      <td>NaN</td>\n",
              "      <td>NaN</td>\n",
              "      <td>...</td>\n",
              "      <td>NaN</td>\n",
              "      <td>NaN</td>\n",
              "      <td>NaN</td>\n",
              "      <td>NaN</td>\n",
              "      <td>NaN</td>\n",
              "      <td>NaN</td>\n",
              "      <td>NaN</td>\n",
              "      <td>NaN</td>\n",
              "      <td>NaN</td>\n",
              "      <td>NaN</td>\n",
              "    </tr>\n",
              "    <tr>\n",
              "      <th>target</th>\n",
              "      <td>-0.250739</td>\n",
              "      <td>0.077536</td>\n",
              "      <td>0.077027</td>\n",
              "      <td>0.076936</td>\n",
              "      <td>-0.036759</td>\n",
              "      <td>0.057699</td>\n",
              "      <td>0.112282</td>\n",
              "      <td>NaN</td>\n",
              "      <td>0.135182</td>\n",
              "      <td>0.104922</td>\n",
              "      <td>...</td>\n",
              "      <td>-0.125976</td>\n",
              "      <td>-0.124625</td>\n",
              "      <td>-0.039553</td>\n",
              "      <td>-0.007579</td>\n",
              "      <td>0.080123</td>\n",
              "      <td>NaN</td>\n",
              "      <td>0.060920</td>\n",
              "      <td>0.174549</td>\n",
              "      <td>NaN</td>\n",
              "      <td>1.000000</td>\n",
              "    </tr>\n",
              "  </tbody>\n",
              "</table>\n",
              "<p>61 rows × 61 columns</p>\n",
              "</div>\n",
              "      <button class=\"colab-df-convert\" onclick=\"convertToInteractive('df-f6ec8941-eb36-4787-88ae-4c4a28e2d4e9')\"\n",
              "              title=\"Convert this dataframe to an interactive table.\"\n",
              "              style=\"display:none;\">\n",
              "        \n",
              "  <svg xmlns=\"http://www.w3.org/2000/svg\" height=\"24px\"viewBox=\"0 0 24 24\"\n",
              "       width=\"24px\">\n",
              "    <path d=\"M0 0h24v24H0V0z\" fill=\"none\"/>\n",
              "    <path d=\"M18.56 5.44l.94 2.06.94-2.06 2.06-.94-2.06-.94-.94-2.06-.94 2.06-2.06.94zm-11 1L8.5 8.5l.94-2.06 2.06-.94-2.06-.94L8.5 2.5l-.94 2.06-2.06.94zm10 10l.94 2.06.94-2.06 2.06-.94-2.06-.94-.94-2.06-.94 2.06-2.06.94z\"/><path d=\"M17.41 7.96l-1.37-1.37c-.4-.4-.92-.59-1.43-.59-.52 0-1.04.2-1.43.59L10.3 9.45l-7.72 7.72c-.78.78-.78 2.05 0 2.83L4 21.41c.39.39.9.59 1.41.59.51 0 1.02-.2 1.41-.59l7.78-7.78 2.81-2.81c.8-.78.8-2.07 0-2.86zM5.41 20L4 18.59l7.72-7.72 1.47 1.35L5.41 20z\"/>\n",
              "  </svg>\n",
              "      </button>\n",
              "      \n",
              "  <style>\n",
              "    .colab-df-container {\n",
              "      display:flex;\n",
              "      flex-wrap:wrap;\n",
              "      gap: 12px;\n",
              "    }\n",
              "\n",
              "    .colab-df-convert {\n",
              "      background-color: #E8F0FE;\n",
              "      border: none;\n",
              "      border-radius: 50%;\n",
              "      cursor: pointer;\n",
              "      display: none;\n",
              "      fill: #1967D2;\n",
              "      height: 32px;\n",
              "      padding: 0 0 0 0;\n",
              "      width: 32px;\n",
              "    }\n",
              "\n",
              "    .colab-df-convert:hover {\n",
              "      background-color: #E2EBFA;\n",
              "      box-shadow: 0px 1px 2px rgba(60, 64, 67, 0.3), 0px 1px 3px 1px rgba(60, 64, 67, 0.15);\n",
              "      fill: #174EA6;\n",
              "    }\n",
              "\n",
              "    [theme=dark] .colab-df-convert {\n",
              "      background-color: #3B4455;\n",
              "      fill: #D2E3FC;\n",
              "    }\n",
              "\n",
              "    [theme=dark] .colab-df-convert:hover {\n",
              "      background-color: #434B5C;\n",
              "      box-shadow: 0px 1px 3px 1px rgba(0, 0, 0, 0.15);\n",
              "      filter: drop-shadow(0px 1px 2px rgba(0, 0, 0, 0.3));\n",
              "      fill: #FFFFFF;\n",
              "    }\n",
              "  </style>\n",
              "\n",
              "      <script>\n",
              "        const buttonEl =\n",
              "          document.querySelector('#df-f6ec8941-eb36-4787-88ae-4c4a28e2d4e9 button.colab-df-convert');\n",
              "        buttonEl.style.display =\n",
              "          google.colab.kernel.accessAllowed ? 'block' : 'none';\n",
              "\n",
              "        async function convertToInteractive(key) {\n",
              "          const element = document.querySelector('#df-f6ec8941-eb36-4787-88ae-4c4a28e2d4e9');\n",
              "          const dataTable =\n",
              "            await google.colab.kernel.invokeFunction('convertToInteractive',\n",
              "                                                     [key], {});\n",
              "          if (!dataTable) return;\n",
              "\n",
              "          const docLinkHtml = 'Like what you see? Visit the ' +\n",
              "            '<a target=\"_blank\" href=https://colab.research.google.com/notebooks/data_table.ipynb>data table notebook</a>'\n",
              "            + ' to learn more about interactive tables.';\n",
              "          element.innerHTML = '';\n",
              "          dataTable['output_type'] = 'display_data';\n",
              "          await google.colab.output.renderOutput(dataTable, element);\n",
              "          const docLink = document.createElement('div');\n",
              "          docLink.innerHTML = docLinkHtml;\n",
              "          element.appendChild(docLink);\n",
              "        }\n",
              "      </script>\n",
              "    </div>\n",
              "  </div>\n",
              "  "
            ]
          },
          "metadata": {},
          "execution_count": 616
        }
      ]
    },
    {
      "cell_type": "code",
      "source": [
        "columns=np.full(corr.shape[0],False,dtype=bool)\n",
        "columns"
      ],
      "metadata": {
        "colab": {
          "base_uri": "https://localhost:8080/"
        },
        "id": "2KVFOC0-K9P4",
        "outputId": "1f8fd4fa-f168-4250-9669-2d891eeb4cf5"
      },
      "execution_count": 617,
      "outputs": [
        {
          "output_type": "execute_result",
          "data": {
            "text/plain": [
              "array([False, False, False, False, False, False, False, False, False,\n",
              "       False, False, False, False, False, False, False, False, False,\n",
              "       False, False, False, False, False, False, False, False, False,\n",
              "       False, False, False, False, False, False, False, False, False,\n",
              "       False, False, False, False, False, False, False, False, False,\n",
              "       False, False, False, False, False, False, False, False, False,\n",
              "       False, False, False, False, False, False, False])"
            ]
          },
          "metadata": {},
          "execution_count": 617
        }
      ]
    },
    {
      "cell_type": "code",
      "source": [
        "for i in range(0,corr.shape[0]):\n",
        "    \n",
        "    if abs(corr.iloc[-1,i]) > 0.2:\n",
        "        print(corr.iloc[-1,i])\n",
        "        columns[i]=True"
      ],
      "metadata": {
        "colab": {
          "base_uri": "https://localhost:8080/"
        },
        "id": "nzXXQhHPNxof",
        "outputId": "51e35550-54ba-41ce-93cb-53b887b5e9f9"
      },
      "execution_count": 618,
      "outputs": [
        {
          "output_type": "stream",
          "name": "stdout",
          "text": [
            "-0.25073851069105013\n",
            "0.5863158247217597\n",
            "-0.5337082749480048\n",
            "-0.23192713137578966\n",
            "0.47574286557839257\n",
            "0.5799203216600437\n",
            "1.0\n"
          ]
        }
      ]
    },
    {
      "cell_type": "code",
      "source": [
        "selected_columns=X.columns[columns]\n",
        "selected_columns"
      ],
      "metadata": {
        "colab": {
          "base_uri": "https://localhost:8080/"
        },
        "id": "A83B8JQhNztR",
        "outputId": "410dc8c6-5587-4725-e92d-400b5a3b17dc"
      },
      "execution_count": 619,
      "outputs": [
        {
          "output_type": "execute_result",
          "data": {
            "text/plain": [
              "Index(['Term', 'LoanMonthsSinceOrigination', 'LoanNumber',\n",
              "       'LoanOriginalAmount', 'LP_CustomerPayments',\n",
              "       'LP_CustomerPrincipalPayments', 'target'],\n",
              "      dtype='object')"
            ]
          },
          "metadata": {},
          "execution_count": 619
        }
      ]
    },
    {
      "cell_type": "code",
      "source": [
        "high_features=X[selected_columns]\n",
        "high_features.head()"
      ],
      "metadata": {
        "colab": {
          "base_uri": "https://localhost:8080/",
          "height": 206
        },
        "id": "iXFFRePTN2ze",
        "outputId": "6e5f9e45-8f1b-462c-c94e-7673b17c6773"
      },
      "execution_count": 620,
      "outputs": [
        {
          "output_type": "execute_result",
          "data": {
            "text/plain": [
              "   Term  LoanMonthsSinceOrigination  LoanNumber  LoanOriginalAmount  \\\n",
              "1    36                           0      134815             10000.0   \n",
              "3    36                          16       77296             10000.0   \n",
              "4    36                           6      102670             15000.0   \n",
              "5    60                           3      123257             15000.0   \n",
              "6    36                          11       88353              3000.0   \n",
              "\n",
              "   LP_CustomerPayments  LP_CustomerPrincipalPayments  target  \n",
              "1                 0.00                          0.00       0  \n",
              "3              5143.20                       4091.09       0  \n",
              "4              2819.85                       1563.22       0  \n",
              "5               679.34                        351.89       0  \n",
              "6              1226.70                        604.25       0  "
            ],
            "text/html": [
              "\n",
              "  <div id=\"df-a7943d1a-cf9e-4530-badc-584fd3a50071\">\n",
              "    <div class=\"colab-df-container\">\n",
              "      <div>\n",
              "<style scoped>\n",
              "    .dataframe tbody tr th:only-of-type {\n",
              "        vertical-align: middle;\n",
              "    }\n",
              "\n",
              "    .dataframe tbody tr th {\n",
              "        vertical-align: top;\n",
              "    }\n",
              "\n",
              "    .dataframe thead th {\n",
              "        text-align: right;\n",
              "    }\n",
              "</style>\n",
              "<table border=\"1\" class=\"dataframe\">\n",
              "  <thead>\n",
              "    <tr style=\"text-align: right;\">\n",
              "      <th></th>\n",
              "      <th>Term</th>\n",
              "      <th>LoanMonthsSinceOrigination</th>\n",
              "      <th>LoanNumber</th>\n",
              "      <th>LoanOriginalAmount</th>\n",
              "      <th>LP_CustomerPayments</th>\n",
              "      <th>LP_CustomerPrincipalPayments</th>\n",
              "      <th>target</th>\n",
              "    </tr>\n",
              "  </thead>\n",
              "  <tbody>\n",
              "    <tr>\n",
              "      <th>1</th>\n",
              "      <td>36</td>\n",
              "      <td>0</td>\n",
              "      <td>134815</td>\n",
              "      <td>10000.0</td>\n",
              "      <td>0.00</td>\n",
              "      <td>0.00</td>\n",
              "      <td>0</td>\n",
              "    </tr>\n",
              "    <tr>\n",
              "      <th>3</th>\n",
              "      <td>36</td>\n",
              "      <td>16</td>\n",
              "      <td>77296</td>\n",
              "      <td>10000.0</td>\n",
              "      <td>5143.20</td>\n",
              "      <td>4091.09</td>\n",
              "      <td>0</td>\n",
              "    </tr>\n",
              "    <tr>\n",
              "      <th>4</th>\n",
              "      <td>36</td>\n",
              "      <td>6</td>\n",
              "      <td>102670</td>\n",
              "      <td>15000.0</td>\n",
              "      <td>2819.85</td>\n",
              "      <td>1563.22</td>\n",
              "      <td>0</td>\n",
              "    </tr>\n",
              "    <tr>\n",
              "      <th>5</th>\n",
              "      <td>60</td>\n",
              "      <td>3</td>\n",
              "      <td>123257</td>\n",
              "      <td>15000.0</td>\n",
              "      <td>679.34</td>\n",
              "      <td>351.89</td>\n",
              "      <td>0</td>\n",
              "    </tr>\n",
              "    <tr>\n",
              "      <th>6</th>\n",
              "      <td>36</td>\n",
              "      <td>11</td>\n",
              "      <td>88353</td>\n",
              "      <td>3000.0</td>\n",
              "      <td>1226.70</td>\n",
              "      <td>604.25</td>\n",
              "      <td>0</td>\n",
              "    </tr>\n",
              "  </tbody>\n",
              "</table>\n",
              "</div>\n",
              "      <button class=\"colab-df-convert\" onclick=\"convertToInteractive('df-a7943d1a-cf9e-4530-badc-584fd3a50071')\"\n",
              "              title=\"Convert this dataframe to an interactive table.\"\n",
              "              style=\"display:none;\">\n",
              "        \n",
              "  <svg xmlns=\"http://www.w3.org/2000/svg\" height=\"24px\"viewBox=\"0 0 24 24\"\n",
              "       width=\"24px\">\n",
              "    <path d=\"M0 0h24v24H0V0z\" fill=\"none\"/>\n",
              "    <path d=\"M18.56 5.44l.94 2.06.94-2.06 2.06-.94-2.06-.94-.94-2.06-.94 2.06-2.06.94zm-11 1L8.5 8.5l.94-2.06 2.06-.94-2.06-.94L8.5 2.5l-.94 2.06-2.06.94zm10 10l.94 2.06.94-2.06 2.06-.94-2.06-.94-.94-2.06-.94 2.06-2.06.94z\"/><path d=\"M17.41 7.96l-1.37-1.37c-.4-.4-.92-.59-1.43-.59-.52 0-1.04.2-1.43.59L10.3 9.45l-7.72 7.72c-.78.78-.78 2.05 0 2.83L4 21.41c.39.39.9.59 1.41.59.51 0 1.02-.2 1.41-.59l7.78-7.78 2.81-2.81c.8-.78.8-2.07 0-2.86zM5.41 20L4 18.59l7.72-7.72 1.47 1.35L5.41 20z\"/>\n",
              "  </svg>\n",
              "      </button>\n",
              "      \n",
              "  <style>\n",
              "    .colab-df-container {\n",
              "      display:flex;\n",
              "      flex-wrap:wrap;\n",
              "      gap: 12px;\n",
              "    }\n",
              "\n",
              "    .colab-df-convert {\n",
              "      background-color: #E8F0FE;\n",
              "      border: none;\n",
              "      border-radius: 50%;\n",
              "      cursor: pointer;\n",
              "      display: none;\n",
              "      fill: #1967D2;\n",
              "      height: 32px;\n",
              "      padding: 0 0 0 0;\n",
              "      width: 32px;\n",
              "    }\n",
              "\n",
              "    .colab-df-convert:hover {\n",
              "      background-color: #E2EBFA;\n",
              "      box-shadow: 0px 1px 2px rgba(60, 64, 67, 0.3), 0px 1px 3px 1px rgba(60, 64, 67, 0.15);\n",
              "      fill: #174EA6;\n",
              "    }\n",
              "\n",
              "    [theme=dark] .colab-df-convert {\n",
              "      background-color: #3B4455;\n",
              "      fill: #D2E3FC;\n",
              "    }\n",
              "\n",
              "    [theme=dark] .colab-df-convert:hover {\n",
              "      background-color: #434B5C;\n",
              "      box-shadow: 0px 1px 3px 1px rgba(0, 0, 0, 0.15);\n",
              "      filter: drop-shadow(0px 1px 2px rgba(0, 0, 0, 0.3));\n",
              "      fill: #FFFFFF;\n",
              "    }\n",
              "  </style>\n",
              "\n",
              "      <script>\n",
              "        const buttonEl =\n",
              "          document.querySelector('#df-a7943d1a-cf9e-4530-badc-584fd3a50071 button.colab-df-convert');\n",
              "        buttonEl.style.display =\n",
              "          google.colab.kernel.accessAllowed ? 'block' : 'none';\n",
              "\n",
              "        async function convertToInteractive(key) {\n",
              "          const element = document.querySelector('#df-a7943d1a-cf9e-4530-badc-584fd3a50071');\n",
              "          const dataTable =\n",
              "            await google.colab.kernel.invokeFunction('convertToInteractive',\n",
              "                                                     [key], {});\n",
              "          if (!dataTable) return;\n",
              "\n",
              "          const docLinkHtml = 'Like what you see? Visit the ' +\n",
              "            '<a target=\"_blank\" href=https://colab.research.google.com/notebooks/data_table.ipynb>data table notebook</a>'\n",
              "            + ' to learn more about interactive tables.';\n",
              "          element.innerHTML = '';\n",
              "          dataTable['output_type'] = 'display_data';\n",
              "          await google.colab.output.renderOutput(dataTable, element);\n",
              "          const docLink = document.createElement('div');\n",
              "          docLink.innerHTML = docLinkHtml;\n",
              "          element.appendChild(docLink);\n",
              "        }\n",
              "      </script>\n",
              "    </div>\n",
              "  </div>\n",
              "  "
            ]
          },
          "metadata": {},
          "execution_count": 620
        }
      ]
    },
    {
      "cell_type": "code",
      "source": [
        "data_copy=X.drop(selected_columns,axis=1)\n"
      ],
      "metadata": {
        "id": "WoIjzfLtO4bn"
      },
      "execution_count": 621,
      "outputs": []
    },
    {
      "cell_type": "code",
      "source": [
        "data_copy.head()\n"
      ],
      "metadata": {
        "colab": {
          "base_uri": "https://localhost:8080/",
          "height": 317
        },
        "id": "v_nVs2KkO9kH",
        "outputId": "d6211153-2652-4d05-a9a7-d10c9c42d822"
      },
      "execution_count": 622,
      "outputs": [
        {
          "output_type": "execute_result",
          "data": {
            "text/plain": [
              "   BorrowerAPR  BorrowerRate  LenderYield  EstimatedEffectiveYield  \\\n",
              "1      0.12016        0.0920       0.0820                  0.07960   \n",
              "3      0.12528        0.0974       0.0874                  0.08490   \n",
              "4      0.24614        0.2085       0.1985                  0.18316   \n",
              "5      0.15425        0.1314       0.1214                  0.11567   \n",
              "6      0.31032        0.2712       0.2612                  0.23820   \n",
              "\n",
              "   EstimatedLoss  EstimatedReturn  ProsperRating (Alpha)  ProsperScore  \\\n",
              "1         0.0249          0.05470                      0           7.0   \n",
              "3         0.0249          0.06000                      0           9.0   \n",
              "4         0.0925          0.09066                      0           4.0   \n",
              "5         0.0449          0.07077                      0          10.0   \n",
              "6         0.1275          0.11070                      0           2.0   \n",
              "\n",
              "   ListingCategory (numeric)  BorrowerState  ...  LP_CollectionFees  \\\n",
              "1                   2.000000              0  ...                0.0   \n",
              "3                   2.203357              0  ...                0.0   \n",
              "4                   2.000000              0  ...                0.0   \n",
              "5                   1.000000              0  ...                0.0   \n",
              "6                   1.000000              0  ...                0.0   \n",
              "\n",
              "   LP_GrossPrincipalLoss  LP_NetPrincipalLoss  \\\n",
              "1                    0.0                  0.0   \n",
              "3                    0.0                  0.0   \n",
              "4                    0.0                  0.0   \n",
              "5                    0.0                  0.0   \n",
              "6                    0.0                  0.0   \n",
              "\n",
              "   LP_NonPrincipalRecoverypayments  PercentFunded  Recommendations  \\\n",
              "1                              0.0            1.0              0.0   \n",
              "3                              0.0            1.0              0.0   \n",
              "4                              0.0            1.0              0.0   \n",
              "5                              0.0            1.0              0.0   \n",
              "6                              0.0            1.0              0.0   \n",
              "\n",
              "   InvestmentFromFriendsCount  InvestmentFromFriendsAmount  Investors  \\\n",
              "1                         0.0                          0.0        1.0   \n",
              "3                         0.0                          0.0      158.0   \n",
              "4                         0.0                          0.0       20.0   \n",
              "5                         0.0                          0.0        1.0   \n",
              "6                         0.0                          0.0        1.0   \n",
              "\n",
              "   LoanOriginationDateYear  \n",
              "1                        0  \n",
              "3                        0  \n",
              "4                        0  \n",
              "5                        0  \n",
              "6                        0  \n",
              "\n",
              "[5 rows x 54 columns]"
            ],
            "text/html": [
              "\n",
              "  <div id=\"df-8a4d9ebb-7bf1-4f78-8c4c-c45f5103f5cb\">\n",
              "    <div class=\"colab-df-container\">\n",
              "      <div>\n",
              "<style scoped>\n",
              "    .dataframe tbody tr th:only-of-type {\n",
              "        vertical-align: middle;\n",
              "    }\n",
              "\n",
              "    .dataframe tbody tr th {\n",
              "        vertical-align: top;\n",
              "    }\n",
              "\n",
              "    .dataframe thead th {\n",
              "        text-align: right;\n",
              "    }\n",
              "</style>\n",
              "<table border=\"1\" class=\"dataframe\">\n",
              "  <thead>\n",
              "    <tr style=\"text-align: right;\">\n",
              "      <th></th>\n",
              "      <th>BorrowerAPR</th>\n",
              "      <th>BorrowerRate</th>\n",
              "      <th>LenderYield</th>\n",
              "      <th>EstimatedEffectiveYield</th>\n",
              "      <th>EstimatedLoss</th>\n",
              "      <th>EstimatedReturn</th>\n",
              "      <th>ProsperRating (Alpha)</th>\n",
              "      <th>ProsperScore</th>\n",
              "      <th>ListingCategory (numeric)</th>\n",
              "      <th>BorrowerState</th>\n",
              "      <th>...</th>\n",
              "      <th>LP_CollectionFees</th>\n",
              "      <th>LP_GrossPrincipalLoss</th>\n",
              "      <th>LP_NetPrincipalLoss</th>\n",
              "      <th>LP_NonPrincipalRecoverypayments</th>\n",
              "      <th>PercentFunded</th>\n",
              "      <th>Recommendations</th>\n",
              "      <th>InvestmentFromFriendsCount</th>\n",
              "      <th>InvestmentFromFriendsAmount</th>\n",
              "      <th>Investors</th>\n",
              "      <th>LoanOriginationDateYear</th>\n",
              "    </tr>\n",
              "  </thead>\n",
              "  <tbody>\n",
              "    <tr>\n",
              "      <th>1</th>\n",
              "      <td>0.12016</td>\n",
              "      <td>0.0920</td>\n",
              "      <td>0.0820</td>\n",
              "      <td>0.07960</td>\n",
              "      <td>0.0249</td>\n",
              "      <td>0.05470</td>\n",
              "      <td>0</td>\n",
              "      <td>7.0</td>\n",
              "      <td>2.000000</td>\n",
              "      <td>0</td>\n",
              "      <td>...</td>\n",
              "      <td>0.0</td>\n",
              "      <td>0.0</td>\n",
              "      <td>0.0</td>\n",
              "      <td>0.0</td>\n",
              "      <td>1.0</td>\n",
              "      <td>0.0</td>\n",
              "      <td>0.0</td>\n",
              "      <td>0.0</td>\n",
              "      <td>1.0</td>\n",
              "      <td>0</td>\n",
              "    </tr>\n",
              "    <tr>\n",
              "      <th>3</th>\n",
              "      <td>0.12528</td>\n",
              "      <td>0.0974</td>\n",
              "      <td>0.0874</td>\n",
              "      <td>0.08490</td>\n",
              "      <td>0.0249</td>\n",
              "      <td>0.06000</td>\n",
              "      <td>0</td>\n",
              "      <td>9.0</td>\n",
              "      <td>2.203357</td>\n",
              "      <td>0</td>\n",
              "      <td>...</td>\n",
              "      <td>0.0</td>\n",
              "      <td>0.0</td>\n",
              "      <td>0.0</td>\n",
              "      <td>0.0</td>\n",
              "      <td>1.0</td>\n",
              "      <td>0.0</td>\n",
              "      <td>0.0</td>\n",
              "      <td>0.0</td>\n",
              "      <td>158.0</td>\n",
              "      <td>0</td>\n",
              "    </tr>\n",
              "    <tr>\n",
              "      <th>4</th>\n",
              "      <td>0.24614</td>\n",
              "      <td>0.2085</td>\n",
              "      <td>0.1985</td>\n",
              "      <td>0.18316</td>\n",
              "      <td>0.0925</td>\n",
              "      <td>0.09066</td>\n",
              "      <td>0</td>\n",
              "      <td>4.0</td>\n",
              "      <td>2.000000</td>\n",
              "      <td>0</td>\n",
              "      <td>...</td>\n",
              "      <td>0.0</td>\n",
              "      <td>0.0</td>\n",
              "      <td>0.0</td>\n",
              "      <td>0.0</td>\n",
              "      <td>1.0</td>\n",
              "      <td>0.0</td>\n",
              "      <td>0.0</td>\n",
              "      <td>0.0</td>\n",
              "      <td>20.0</td>\n",
              "      <td>0</td>\n",
              "    </tr>\n",
              "    <tr>\n",
              "      <th>5</th>\n",
              "      <td>0.15425</td>\n",
              "      <td>0.1314</td>\n",
              "      <td>0.1214</td>\n",
              "      <td>0.11567</td>\n",
              "      <td>0.0449</td>\n",
              "      <td>0.07077</td>\n",
              "      <td>0</td>\n",
              "      <td>10.0</td>\n",
              "      <td>1.000000</td>\n",
              "      <td>0</td>\n",
              "      <td>...</td>\n",
              "      <td>0.0</td>\n",
              "      <td>0.0</td>\n",
              "      <td>0.0</td>\n",
              "      <td>0.0</td>\n",
              "      <td>1.0</td>\n",
              "      <td>0.0</td>\n",
              "      <td>0.0</td>\n",
              "      <td>0.0</td>\n",
              "      <td>1.0</td>\n",
              "      <td>0</td>\n",
              "    </tr>\n",
              "    <tr>\n",
              "      <th>6</th>\n",
              "      <td>0.31032</td>\n",
              "      <td>0.2712</td>\n",
              "      <td>0.2612</td>\n",
              "      <td>0.23820</td>\n",
              "      <td>0.1275</td>\n",
              "      <td>0.11070</td>\n",
              "      <td>0</td>\n",
              "      <td>2.0</td>\n",
              "      <td>1.000000</td>\n",
              "      <td>0</td>\n",
              "      <td>...</td>\n",
              "      <td>0.0</td>\n",
              "      <td>0.0</td>\n",
              "      <td>0.0</td>\n",
              "      <td>0.0</td>\n",
              "      <td>1.0</td>\n",
              "      <td>0.0</td>\n",
              "      <td>0.0</td>\n",
              "      <td>0.0</td>\n",
              "      <td>1.0</td>\n",
              "      <td>0</td>\n",
              "    </tr>\n",
              "  </tbody>\n",
              "</table>\n",
              "<p>5 rows × 54 columns</p>\n",
              "</div>\n",
              "      <button class=\"colab-df-convert\" onclick=\"convertToInteractive('df-8a4d9ebb-7bf1-4f78-8c4c-c45f5103f5cb')\"\n",
              "              title=\"Convert this dataframe to an interactive table.\"\n",
              "              style=\"display:none;\">\n",
              "        \n",
              "  <svg xmlns=\"http://www.w3.org/2000/svg\" height=\"24px\"viewBox=\"0 0 24 24\"\n",
              "       width=\"24px\">\n",
              "    <path d=\"M0 0h24v24H0V0z\" fill=\"none\"/>\n",
              "    <path d=\"M18.56 5.44l.94 2.06.94-2.06 2.06-.94-2.06-.94-.94-2.06-.94 2.06-2.06.94zm-11 1L8.5 8.5l.94-2.06 2.06-.94-2.06-.94L8.5 2.5l-.94 2.06-2.06.94zm10 10l.94 2.06.94-2.06 2.06-.94-2.06-.94-.94-2.06-.94 2.06-2.06.94z\"/><path d=\"M17.41 7.96l-1.37-1.37c-.4-.4-.92-.59-1.43-.59-.52 0-1.04.2-1.43.59L10.3 9.45l-7.72 7.72c-.78.78-.78 2.05 0 2.83L4 21.41c.39.39.9.59 1.41.59.51 0 1.02-.2 1.41-.59l7.78-7.78 2.81-2.81c.8-.78.8-2.07 0-2.86zM5.41 20L4 18.59l7.72-7.72 1.47 1.35L5.41 20z\"/>\n",
              "  </svg>\n",
              "      </button>\n",
              "      \n",
              "  <style>\n",
              "    .colab-df-container {\n",
              "      display:flex;\n",
              "      flex-wrap:wrap;\n",
              "      gap: 12px;\n",
              "    }\n",
              "\n",
              "    .colab-df-convert {\n",
              "      background-color: #E8F0FE;\n",
              "      border: none;\n",
              "      border-radius: 50%;\n",
              "      cursor: pointer;\n",
              "      display: none;\n",
              "      fill: #1967D2;\n",
              "      height: 32px;\n",
              "      padding: 0 0 0 0;\n",
              "      width: 32px;\n",
              "    }\n",
              "\n",
              "    .colab-df-convert:hover {\n",
              "      background-color: #E2EBFA;\n",
              "      box-shadow: 0px 1px 2px rgba(60, 64, 67, 0.3), 0px 1px 3px 1px rgba(60, 64, 67, 0.15);\n",
              "      fill: #174EA6;\n",
              "    }\n",
              "\n",
              "    [theme=dark] .colab-df-convert {\n",
              "      background-color: #3B4455;\n",
              "      fill: #D2E3FC;\n",
              "    }\n",
              "\n",
              "    [theme=dark] .colab-df-convert:hover {\n",
              "      background-color: #434B5C;\n",
              "      box-shadow: 0px 1px 3px 1px rgba(0, 0, 0, 0.15);\n",
              "      filter: drop-shadow(0px 1px 2px rgba(0, 0, 0, 0.3));\n",
              "      fill: #FFFFFF;\n",
              "    }\n",
              "  </style>\n",
              "\n",
              "      <script>\n",
              "        const buttonEl =\n",
              "          document.querySelector('#df-8a4d9ebb-7bf1-4f78-8c4c-c45f5103f5cb button.colab-df-convert');\n",
              "        buttonEl.style.display =\n",
              "          google.colab.kernel.accessAllowed ? 'block' : 'none';\n",
              "\n",
              "        async function convertToInteractive(key) {\n",
              "          const element = document.querySelector('#df-8a4d9ebb-7bf1-4f78-8c4c-c45f5103f5cb');\n",
              "          const dataTable =\n",
              "            await google.colab.kernel.invokeFunction('convertToInteractive',\n",
              "                                                     [key], {});\n",
              "          if (!dataTable) return;\n",
              "\n",
              "          const docLinkHtml = 'Like what you see? Visit the ' +\n",
              "            '<a target=\"_blank\" href=https://colab.research.google.com/notebooks/data_table.ipynb>data table notebook</a>'\n",
              "            + ' to learn more about interactive tables.';\n",
              "          element.innerHTML = '';\n",
              "          dataTable['output_type'] = 'display_data';\n",
              "          await google.colab.output.renderOutput(dataTable, element);\n",
              "          const docLink = document.createElement('div');\n",
              "          docLink.innerHTML = docLinkHtml;\n",
              "          element.appendChild(docLink);\n",
              "        }\n",
              "      </script>\n",
              "    </div>\n",
              "  </div>\n",
              "  "
            ]
          },
          "metadata": {},
          "execution_count": 622
        }
      ]
    },
    {
      "cell_type": "code",
      "source": [
        "p=data_copy.values\n",
        "p.shape"
      ],
      "metadata": {
        "colab": {
          "base_uri": "https://localhost:8080/"
        },
        "id": "saEv-5yBO_Fu",
        "outputId": "9c51a0c9-9342-418b-b47e-ff8d8f236c1f"
      },
      "execution_count": 623,
      "outputs": [
        {
          "output_type": "execute_result",
          "data": {
            "text/plain": [
              "(84997, 54)"
            ]
          },
          "metadata": {},
          "execution_count": 623
        }
      ]
    },
    {
      "cell_type": "code",
      "source": [
        "from sklearn.preprocessing import Normalizer \n",
        "nor=Normalizer()\n",
        "p=nor.fit_transform(p)"
      ],
      "metadata": {
        "id": "kIeZvoqyPEW2"
      },
      "execution_count": 624,
      "outputs": []
    },
    {
      "cell_type": "code",
      "source": [
        "\n",
        "from sklearn.decomposition import PCA\n",
        "pca=PCA(n_components=3)\n",
        "pca_components=pca.fit_transform(p)"
      ],
      "metadata": {
        "id": "5LbXJsygPHcX"
      },
      "execution_count": 625,
      "outputs": []
    },
    {
      "cell_type": "code",
      "source": [
        "variance_eplained=pca.explained_variance_ratio_\n",
        "comulative_variance=np.cumsum(variance_eplained)"
      ],
      "metadata": {
        "id": "Qj_CgtCwPL4W"
      },
      "execution_count": 626,
      "outputs": []
    },
    {
      "cell_type": "code",
      "source": [
        "\n",
        "plt.figure(figsize=(6,4))\n",
        "plt.clf()\n",
        "plt.plot(comulative_variance)\n",
        "plt.xlabel('Number of components ')\n",
        "plt.ylabel(\"Variance Ratio\")\n",
        "plt.grid()\n",
        "plt.show()"
      ],
      "metadata": {
        "colab": {
          "base_uri": "https://localhost:8080/",
          "height": 279
        },
        "id": "NCd-_XgVPNgX",
        "outputId": "fe82abf2-00fe-4b71-f572-05432cf96f5a"
      },
      "execution_count": 627,
      "outputs": [
        {
          "output_type": "display_data",
          "data": {
            "text/plain": [
              "<Figure size 432x288 with 1 Axes>"
            ],
            "image/png": "[encoded data removed]"
          },
          "metadata": {
            "needs_background": "light"
          }
        }
      ]
    },
    {
      "cell_type": "code",
      "source": [
        "pca.explained_variance_ratio_"
      ],
      "metadata": {
        "colab": {
          "base_uri": "https://localhost:8080/"
        },
        "id": "zhnK_kuaPPL3",
        "outputId": "c85ac93d-25aa-41cf-b90e-c133a2f6bab7"
      },
      "execution_count": 628,
      "outputs": [
        {
          "output_type": "execute_result",
          "data": {
            "text/plain": [
              "array([0.46167958, 0.35681074, 0.0726849 ])"
            ]
          },
          "metadata": {},
          "execution_count": 628
        }
      ]
    },
    {
      "cell_type": "code",
      "source": [
        "pca_data=pd.DataFrame(data=pca_components)"
      ],
      "metadata": {
        "id": "Au7Cl3GiPZPP"
      },
      "execution_count": 629,
      "outputs": []
    },
    {
      "cell_type": "code",
      "source": [
        "pca_data.shape"
      ],
      "metadata": {
        "colab": {
          "base_uri": "https://localhost:8080/"
        },
        "id": "IDFQg9bVWddu",
        "outputId": "1db4e23c-2e9b-4996-d449-4e9475d4ddf5"
      },
      "execution_count": 630,
      "outputs": [
        {
          "output_type": "execute_result",
          "data": {
            "text/plain": [
              "(84997, 3)"
            ]
          },
          "metadata": {},
          "execution_count": 630
        }
      ]
    },
    {
      "cell_type": "code",
      "source": [
        "high_features.isna().sum()"
      ],
      "metadata": {
        "colab": {
          "base_uri": "https://localhost:8080/"
        },
        "id": "cxySHIKtVOmr",
        "outputId": "44212a4a-f520-4419-f691-52a4c7757e35"
      },
      "execution_count": 631,
      "outputs": [
        {
          "output_type": "execute_result",
          "data": {
            "text/plain": [
              "Term                            0\n",
              "LoanMonthsSinceOrigination      0\n",
              "LoanNumber                      0\n",
              "LoanOriginalAmount              0\n",
              "LP_CustomerPayments             0\n",
              "LP_CustomerPrincipalPayments    0\n",
              "target                          0\n",
              "dtype: int64"
            ]
          },
          "metadata": {},
          "execution_count": 631
        }
      ]
    },
    {
      "cell_type": "code",
      "source": [
        "pca_data.isna().sum()"
      ],
      "metadata": {
        "colab": {
          "base_uri": "https://localhost:8080/"
        },
        "id": "vJXEuZLjVIlP",
        "outputId": "73e3d9ab-6a73-429b-df35-78aeb994f076"
      },
      "execution_count": 632,
      "outputs": [
        {
          "output_type": "execute_result",
          "data": {
            "text/plain": [
              "0    0\n",
              "1    0\n",
              "2    0\n",
              "dtype: int64"
            ]
          },
          "metadata": {},
          "execution_count": 632
        }
      ]
    },
    {
      "cell_type": "code",
      "source": [
        "new_data = high_features"
      ],
      "metadata": {
        "id": "ljlgVTflWxlE"
      },
      "execution_count": 633,
      "outputs": []
    },
    {
      "cell_type": "code",
      "source": [
        "new_data['pac0'] = pca_data[0]\n",
        "new_data['pac1'] = pca_data[1]\n",
        "new_data['pac2'] = pca_data[2]\n",
        "\n"
      ],
      "metadata": {
        "colab": {
          "base_uri": "https://localhost:8080/"
        },
        "id": "X9ZjhMFHVfF9",
        "outputId": "c6f4f836-2eb1-4861-b229-d4414621dc76"
      },
      "execution_count": 634,
      "outputs": [
        {
          "output_type": "stream",
          "name": "stderr",
          "text": [
            "/usr/local/lib/python3.7/dist-packages/ipykernel_launcher.py:1: SettingWithCopyWarning: \n",
            "A value is trying to be set on a copy of a slice from a DataFrame.\n",
            "Try using .loc[row_indexer,col_indexer] = value instead\n",
            "\n",
            "See the caveats in the documentation: https://pandas.pydata.org/pandas-docs/stable/user_guide/indexing.html#returning-a-view-versus-a-copy\n",
            "  \"\"\"Entry point for launching an IPython kernel.\n",
            "/usr/local/lib/python3.7/dist-packages/ipykernel_launcher.py:2: SettingWithCopyWarning: \n",
            "A value is trying to be set on a copy of a slice from a DataFrame.\n",
            "Try using .loc[row_indexer,col_indexer] = value instead\n",
            "\n",
            "See the caveats in the documentation: https://pandas.pydata.org/pandas-docs/stable/user_guide/indexing.html#returning-a-view-versus-a-copy\n",
            "  \n",
            "/usr/local/lib/python3.7/dist-packages/ipykernel_launcher.py:3: SettingWithCopyWarning: \n",
            "A value is trying to be set on a copy of a slice from a DataFrame.\n",
            "Try using .loc[row_indexer,col_indexer] = value instead\n",
            "\n",
            "See the caveats in the documentation: https://pandas.pydata.org/pandas-docs/stable/user_guide/indexing.html#returning-a-view-versus-a-copy\n",
            "  This is separate from the ipykernel package so we can avoid doing imports until\n"
          ]
        }
      ]
    },
    {
      "cell_type": "code",
      "source": [
        "new_data.shape"
      ],
      "metadata": {
        "colab": {
          "base_uri": "https://localhost:8080/"
        },
        "id": "AR3leqB8Vl09",
        "outputId": "a5fa0e3c-14e0-482d-b68a-649e1950d6fc"
      },
      "execution_count": 635,
      "outputs": [
        {
          "output_type": "execute_result",
          "data": {
            "text/plain": [
              "(84997, 10)"
            ]
          },
          "metadata": {},
          "execution_count": 635
        }
      ]
    },
    {
      "cell_type": "code",
      "source": [
        "print(new_data.shape)\n",
        "new_data.head()"
      ],
      "metadata": {
        "colab": {
          "base_uri": "https://localhost:8080/",
          "height": 268
        },
        "id": "W90TJ1EYPbi4",
        "outputId": "516c878f-34a0-474f-91e9-909f05d0acab"
      },
      "execution_count": 636,
      "outputs": [
        {
          "output_type": "stream",
          "name": "stdout",
          "text": [
            "(84997, 10)\n"
          ]
        },
        {
          "output_type": "execute_result",
          "data": {
            "text/plain": [
              "   Term  LoanMonthsSinceOrigination  LoanNumber  LoanOriginalAmount  \\\n",
              "1    36                           0      134815             10000.0   \n",
              "3    36                          16       77296             10000.0   \n",
              "4    36                           6      102670             15000.0   \n",
              "5    60                           3      123257             15000.0   \n",
              "6    36                          11       88353              3000.0   \n",
              "\n",
              "   LP_CustomerPayments  LP_CustomerPrincipalPayments  target      pac0  \\\n",
              "1                 0.00                          0.00       0  0.781739   \n",
              "3              5143.20                       4091.09       0 -0.447561   \n",
              "4              2819.85                       1563.22       0 -0.264207   \n",
              "5               679.34                        351.89       0  0.319574   \n",
              "6              1226.70                        604.25       0  0.121296   \n",
              "\n",
              "       pac1      pac2  \n",
              "1 -0.234594  0.293026  \n",
              "3 -0.249891  0.070782  \n",
              "4 -0.114569 -0.045016  \n",
              "5  0.403762 -0.118206  \n",
              "6 -0.300275 -0.069968  "
            ],
            "text/html": [
              "\n",
              "  <div id=\"df-40d1d54b-c4f5-4259-acc9-3f016656f409\">\n",
              "    <div class=\"colab-df-container\">\n",
              "      <div>\n",
              "<style scoped>\n",
              "    .dataframe tbody tr th:only-of-type {\n",
              "        vertical-align: middle;\n",
              "    }\n",
              "\n",
              "    .dataframe tbody tr th {\n",
              "        vertical-align: top;\n",
              "    }\n",
              "\n",
              "    .dataframe thead th {\n",
              "        text-align: right;\n",
              "    }\n",
              "</style>\n",
              "<table border=\"1\" class=\"dataframe\">\n",
              "  <thead>\n",
              "    <tr style=\"text-align: right;\">\n",
              "      <th></th>\n",
              "      <th>Term</th>\n",
              "      <th>LoanMonthsSinceOrigination</th>\n",
              "      <th>LoanNumber</th>\n",
              "      <th>LoanOriginalAmount</th>\n",
              "      <th>LP_CustomerPayments</th>\n",
              "      <th>LP_CustomerPrincipalPayments</th>\n",
              "      <th>target</th>\n",
              "      <th>pac0</th>\n",
              "      <th>pac1</th>\n",
              "      <th>pac2</th>\n",
              "    </tr>\n",
              "  </thead>\n",
              "  <tbody>\n",
              "    <tr>\n",
              "      <th>1</th>\n",
              "      <td>36</td>\n",
              "      <td>0</td>\n",
              "      <td>134815</td>\n",
              "      <td>10000.0</td>\n",
              "      <td>0.00</td>\n",
              "      <td>0.00</td>\n",
              "      <td>0</td>\n",
              "      <td>0.781739</td>\n",
              "      <td>-0.234594</td>\n",
              "      <td>0.293026</td>\n",
              "    </tr>\n",
              "    <tr>\n",
              "      <th>3</th>\n",
              "      <td>36</td>\n",
              "      <td>16</td>\n",
              "      <td>77296</td>\n",
              "      <td>10000.0</td>\n",
              "      <td>5143.20</td>\n",
              "      <td>4091.09</td>\n",
              "      <td>0</td>\n",
              "      <td>-0.447561</td>\n",
              "      <td>-0.249891</td>\n",
              "      <td>0.070782</td>\n",
              "    </tr>\n",
              "    <tr>\n",
              "      <th>4</th>\n",
              "      <td>36</td>\n",
              "      <td>6</td>\n",
              "      <td>102670</td>\n",
              "      <td>15000.0</td>\n",
              "      <td>2819.85</td>\n",
              "      <td>1563.22</td>\n",
              "      <td>0</td>\n",
              "      <td>-0.264207</td>\n",
              "      <td>-0.114569</td>\n",
              "      <td>-0.045016</td>\n",
              "    </tr>\n",
              "    <tr>\n",
              "      <th>5</th>\n",
              "      <td>60</td>\n",
              "      <td>3</td>\n",
              "      <td>123257</td>\n",
              "      <td>15000.0</td>\n",
              "      <td>679.34</td>\n",
              "      <td>351.89</td>\n",
              "      <td>0</td>\n",
              "      <td>0.319574</td>\n",
              "      <td>0.403762</td>\n",
              "      <td>-0.118206</td>\n",
              "    </tr>\n",
              "    <tr>\n",
              "      <th>6</th>\n",
              "      <td>36</td>\n",
              "      <td>11</td>\n",
              "      <td>88353</td>\n",
              "      <td>3000.0</td>\n",
              "      <td>1226.70</td>\n",
              "      <td>604.25</td>\n",
              "      <td>0</td>\n",
              "      <td>0.121296</td>\n",
              "      <td>-0.300275</td>\n",
              "      <td>-0.069968</td>\n",
              "    </tr>\n",
              "  </tbody>\n",
              "</table>\n",
              "</div>\n",
              "      <button class=\"colab-df-convert\" onclick=\"convertToInteractive('df-40d1d54b-c4f5-4259-acc9-3f016656f409')\"\n",
              "              title=\"Convert this dataframe to an interactive table.\"\n",
              "              style=\"display:none;\">\n",
              "        \n",
              "  <svg xmlns=\"http://www.w3.org/2000/svg\" height=\"24px\"viewBox=\"0 0 24 24\"\n",
              "       width=\"24px\">\n",
              "    <path d=\"M0 0h24v24H0V0z\" fill=\"none\"/>\n",
              "    <path d=\"M18.56 5.44l.94 2.06.94-2.06 2.06-.94-2.06-.94-.94-2.06-.94 2.06-2.06.94zm-11 1L8.5 8.5l.94-2.06 2.06-.94-2.06-.94L8.5 2.5l-.94 2.06-2.06.94zm10 10l.94 2.06.94-2.06 2.06-.94-2.06-.94-.94-2.06-.94 2.06-2.06.94z\"/><path d=\"M17.41 7.96l-1.37-1.37c-.4-.4-.92-.59-1.43-.59-.52 0-1.04.2-1.43.59L10.3 9.45l-7.72 7.72c-.78.78-.78 2.05 0 2.83L4 21.41c.39.39.9.59 1.41.59.51 0 1.02-.2 1.41-.59l7.78-7.78 2.81-2.81c.8-.78.8-2.07 0-2.86zM5.41 20L4 18.59l7.72-7.72 1.47 1.35L5.41 20z\"/>\n",
              "  </svg>\n",
              "      </button>\n",
              "      \n",
              "  <style>\n",
              "    .colab-df-container {\n",
              "      display:flex;\n",
              "      flex-wrap:wrap;\n",
              "      gap: 12px;\n",
              "    }\n",
              "\n",
              "    .colab-df-convert {\n",
              "      background-color: #E8F0FE;\n",
              "      border: none;\n",
              "      border-radius: 50%;\n",
              "      cursor: pointer;\n",
              "      display: none;\n",
              "      fill: #1967D2;\n",
              "      height: 32px;\n",
              "      padding: 0 0 0 0;\n",
              "      width: 32px;\n",
              "    }\n",
              "\n",
              "    .colab-df-convert:hover {\n",
              "      background-color: #E2EBFA;\n",
              "      box-shadow: 0px 1px 2px rgba(60, 64, 67, 0.3), 0px 1px 3px 1px rgba(60, 64, 67, 0.15);\n",
              "      fill: #174EA6;\n",
              "    }\n",
              "\n",
              "    [theme=dark] .colab-df-convert {\n",
              "      background-color: #3B4455;\n",
              "      fill: #D2E3FC;\n",
              "    }\n",
              "\n",
              "    [theme=dark] .colab-df-convert:hover {\n",
              "      background-color: #434B5C;\n",
              "      box-shadow: 0px 1px 3px 1px rgba(0, 0, 0, 0.15);\n",
              "      filter: drop-shadow(0px 1px 2px rgba(0, 0, 0, 0.3));\n",
              "      fill: #FFFFFF;\n",
              "    }\n",
              "  </style>\n",
              "\n",
              "      <script>\n",
              "        const buttonEl =\n",
              "          document.querySelector('#df-40d1d54b-c4f5-4259-acc9-3f016656f409 button.colab-df-convert');\n",
              "        buttonEl.style.display =\n",
              "          google.colab.kernel.accessAllowed ? 'block' : 'none';\n",
              "\n",
              "        async function convertToInteractive(key) {\n",
              "          const element = document.querySelector('#df-40d1d54b-c4f5-4259-acc9-3f016656f409');\n",
              "          const dataTable =\n",
              "            await google.colab.kernel.invokeFunction('convertToInteractive',\n",
              "                                                     [key], {});\n",
              "          if (!dataTable) return;\n",
              "\n",
              "          const docLinkHtml = 'Like what you see? Visit the ' +\n",
              "            '<a target=\"_blank\" href=https://colab.research.google.com/notebooks/data_table.ipynb>data table notebook</a>'\n",
              "            + ' to learn more about interactive tables.';\n",
              "          element.innerHTML = '';\n",
              "          dataTable['output_type'] = 'display_data';\n",
              "          await google.colab.output.renderOutput(dataTable, element);\n",
              "          const docLink = document.createElement('div');\n",
              "          docLink.innerHTML = docLinkHtml;\n",
              "          element.appendChild(docLink);\n",
              "        }\n",
              "      </script>\n",
              "    </div>\n",
              "  </div>\n",
              "  "
            ]
          },
          "metadata": {},
          "execution_count": 636
        }
      ]
    },
    {
      "cell_type": "code",
      "source": [
        "new_data.isna().sum()"
      ],
      "metadata": {
        "colab": {
          "base_uri": "https://localhost:8080/"
        },
        "id": "1UYZEEIoS6vP",
        "outputId": "45e1595e-65b7-42a0-fe35-8370a7ca47f4"
      },
      "execution_count": 637,
      "outputs": [
        {
          "output_type": "execute_result",
          "data": {
            "text/plain": [
              "Term                                0\n",
              "LoanMonthsSinceOrigination          0\n",
              "LoanNumber                          0\n",
              "LoanOriginalAmount                  0\n",
              "LP_CustomerPayments                 0\n",
              "LP_CustomerPrincipalPayments        0\n",
              "target                              0\n",
              "pac0                            21583\n",
              "pac1                            21583\n",
              "pac2                            21583\n",
              "dtype: int64"
            ]
          },
          "metadata": {},
          "execution_count": 637
        }
      ]
    },
    {
      "cell_type": "code",
      "source": [
        "new_data['pac0'].replace(np.nan,new_data['pac0'].mean(),inplace=True)\n",
        "new_data['pac1'].replace(np.nan,new_data['pac1'].mean(),inplace=True)\n",
        "new_data['pac2'].replace(np.nan,new_data['pac2'].mean(),inplace=True)"
      ],
      "metadata": {
        "colab": {
          "base_uri": "https://localhost:8080/"
        },
        "id": "pij6ypAcW2-U",
        "outputId": "54b6f448-4fda-4502-ba5a-01405cebed7b"
      },
      "execution_count": 638,
      "outputs": [
        {
          "output_type": "stream",
          "name": "stderr",
          "text": [
            "/usr/local/lib/python3.7/dist-packages/pandas/core/generic.py:6619: SettingWithCopyWarning: \n",
            "A value is trying to be set on a copy of a slice from a DataFrame\n",
            "\n",
            "See the caveats in the documentation: https://pandas.pydata.org/pandas-docs/stable/user_guide/indexing.html#returning-a-view-versus-a-copy\n",
            "  return self._update_inplace(result)\n"
          ]
        }
      ]
    },
    {
      "cell_type": "code",
      "source": [
        "plt.figure(figsize=(25,8))\n",
        "sns.heatmap(new_data.corr(),annot=True)"
      ],
      "metadata": {
        "colab": {
          "base_uri": "https://localhost:8080/",
          "height": 571
        },
        "id": "B1iFumKTPhh3",
        "outputId": "aaa86483-2a83-4ea0-9047-bbce230d0697"
      },
      "execution_count": 639,
      "outputs": [
        {
          "output_type": "execute_result",
          "data": {
            "text/plain": [
              "<matplotlib.axes._subplots.AxesSubplot at 0x7f80a5815450>"
            ]
          },
          "metadata": {},
          "execution_count": 639
        },
        {
          "output_type": "display_data",
          "data": {
            "text/plain": [
              "<Figure size 1800x576 with 2 Axes>"
            ],
            "image/png": "[encoded data removed]"
          },
          "metadata": {
            "needs_background": "light"
          }
        }
      ]
    },
    {
      "cell_type": "code",
      "source": [
        "from sklearn.model_selection import train_test_split\n",
        "X = new_data.drop('target',axis=1) # Independet variable\n",
        "y = new_data['target'] # dependent variable\n",
        "train_X,test_X,train_y,test_y = train_test_split(X,y)"
      ],
      "metadata": {
        "id": "SD_dyObzPrvW"
      },
      "execution_count": 640,
      "outputs": []
    },
    {
      "cell_type": "code",
      "source": [
        "from sklearn.linear_model import LogisticRegression\n",
        "clf = LogisticRegression(n_jobs=10,max_iter=1200,C=200,intercept_scaling=10).fit(train_X,train_y)\n",
        "\n",
        "\n",
        "\n",
        "clf.score(train_X, train_y)"
      ],
      "metadata": {
        "colab": {
          "base_uri": "https://localhost:8080/"
        },
        "id": "onhUuLYQP5Lm",
        "outputId": "6b95a64d-aff5-42f0-85e1-6aac115beb95"
      },
      "execution_count": 641,
      "outputs": [
        {
          "output_type": "execute_result",
          "data": {
            "text/plain": [
              "0.9403109165921534"
            ]
          },
          "metadata": {},
          "execution_count": 641
        }
      ]
    },
    {
      "cell_type": "code",
      "source": [
        "clf.score(test_X, test_y)"
      ],
      "metadata": {
        "colab": {
          "base_uri": "https://localhost:8080/"
        },
        "id": "EPcxZ_5gQKMJ",
        "outputId": "3be3e6f5-a8ce-4045-fcf9-45bfb3a64bd4"
      },
      "execution_count": 642,
      "outputs": [
        {
          "output_type": "execute_result",
          "data": {
            "text/plain": [
              "0.9430117647058823"
            ]
          },
          "metadata": {},
          "execution_count": 642
        }
      ]
    },
    {
      "cell_type": "code",
      "source": [
        "from sklearn.metrics import accuracy_score,recall_score,precision_score,f1_score\n",
        "y_pred=clf.predict(train_X)\n",
        "\n",
        "\n",
        "print(\"Accuracy :\" ,accuracy_score(train_y,y_pred))\n",
        "print(\"Recall : \",recall_score(train_y,y_pred))\n",
        "print(\"precsiion : \",precision_score(train_y,y_pred))\n",
        "print(\"F1 score :\",f1_score(train_y,y_pred))"
      ],
      "metadata": {
        "colab": {
          "base_uri": "https://localhost:8080/"
        },
        "id": "ZZhaaKJgY4iD",
        "outputId": "ebbc2019-7e14-4936-c9a8-51c76cb1d9a9"
      },
      "execution_count": 643,
      "outputs": [
        {
          "output_type": "stream",
          "name": "stdout",
          "text": [
            "Accuracy : 0.9403109165921534\n",
            "Recall :  0.8691450811971547\n",
            "precsiion :  0.8747214155467009\n",
            "F1 score : 0.8719243326937965\n"
          ]
        }
      ]
    },
    {
      "cell_type": "code",
      "source": [
        "#On test Set \n",
        "y_pred=clf.predict(test_X)\n",
        "\n",
        "print(\"Accuracy :\" ,accuracy_score(test_y,y_pred))\n",
        "print(\"Recall : \",recall_score(test_y,y_pred))\n",
        "print(\"precsiion : \",precision_score(test_y,y_pred))\n",
        "print(\"F1 score :\",f1_score(test_y,y_pred))"
      ],
      "metadata": {
        "colab": {
          "base_uri": "https://localhost:8080/"
        },
        "id": "VmjWOX8yZBFH",
        "outputId": "2b3e082e-dc44-489c-e959-390896fb7196"
      },
      "execution_count": 644,
      "outputs": [
        {
          "output_type": "stream",
          "name": "stdout",
          "text": [
            "Accuracy : 0.9430117647058823\n",
            "Recall :  0.8806702084184715\n",
            "precsiion :  0.8729997974478428\n",
            "F1 score : 0.8768182280541146\n"
          ]
        }
      ]
    },
    {
      "cell_type": "code",
      "source": [
        "from sklearn.ensemble import RandomForestClassifier\n",
        "models= RandomForestClassifier()\n",
        "models.fit(train_X,train_y)"
      ],
      "metadata": {
        "colab": {
          "base_uri": "https://localhost:8080/"
        },
        "id": "a25WjOYCZH2r",
        "outputId": "c8e6acca-394c-4e43-bcad-2c827f1e8ca4"
      },
      "execution_count": 645,
      "outputs": [
        {
          "output_type": "execute_result",
          "data": {
            "text/plain": [
              "RandomForestClassifier()"
            ]
          },
          "metadata": {},
          "execution_count": 645
        }
      ]
    },
    {
      "cell_type": "code",
      "source": [
        "from sklearn.metrics import accuracy_score,recall_score,precision_score,f1_score\n",
        "y_pred=models.predict(train_X)\n",
        "\n",
        "\n",
        "print(\"Accuracy :\" ,accuracy_score(train_y,y_pred))\n",
        "print(\"Recall : \",recall_score(train_y,y_pred))\n",
        "print(\"precsiion : \",precision_score(train_y,y_pred))\n",
        "print(\"F1 score :\",f1_score(train_y,y_pred))\n",
        "#On test Set \n",
        "y_pred=models.predict(test_X)\n",
        "\n",
        "print(\"Accuracy :\" ,accuracy_score(test_y,y_pred))\n",
        "print(\"Recall : \",recall_score(test_y,y_pred))\n",
        "print(\"precsiion : \",precision_score(test_y,y_pred))\n",
        "print(\"F1 score :\",f1_score(test_y,y_pred))"
      ],
      "metadata": {
        "colab": {
          "base_uri": "https://localhost:8080/"
        },
        "id": "daWEZqnPaGmJ",
        "outputId": "5e530169-9d57-48fc-fd1b-480652dbed14"
      },
      "execution_count": 646,
      "outputs": [
        {
          "output_type": "stream",
          "name": "stdout",
          "text": [
            "Accuracy : 1.0\n",
            "Recall :  1.0\n",
            "precsiion :  1.0\n",
            "F1 score : 1.0\n",
            "Accuracy : 0.9947764705882353\n",
            "Recall :  0.996526358806702\n",
            "precsiion :  0.9810903238784953\n",
            "F1 score : 0.9887480993411049\n"
          ]
        }
      ]
    },
    {
      "cell_type": "code",
      "source": [
        ""
      ],
      "metadata": {
        "id": "rtLBoq4WaXrb"
      },
      "execution_count": null,
      "outputs": []
    }
  ]
}